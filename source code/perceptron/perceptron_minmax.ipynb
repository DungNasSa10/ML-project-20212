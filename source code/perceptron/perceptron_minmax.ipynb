{
 "cells": [
  {
   "cell_type": "code",
   "execution_count": 1,
   "id": "e5327620",
   "metadata": {
    "execution": {
     "iopub.execute_input": "2022-07-20T05:21:19.063672Z",
     "iopub.status.busy": "2022-07-20T05:21:19.062988Z",
     "iopub.status.idle": "2022-07-20T05:21:21.885408Z",
     "shell.execute_reply": "2022-07-20T05:21:21.884046Z"
    },
    "papermill": {
     "duration": 2.834554,
     "end_time": "2022-07-20T05:21:21.888614",
     "exception": false,
     "start_time": "2022-07-20T05:21:19.054060",
     "status": "completed"
    },
    "tags": []
   },
   "outputs": [
    {
     "data": {
      "text/html": [
       "<style type='text/css'>\n",
       ".datatable table.frame { margin-bottom: 0; }\n",
       ".datatable table.frame thead { border-bottom: none; }\n",
       ".datatable table.frame tr.coltypes td {  color: #FFFFFF;  line-height: 6px;  padding: 0 0.5em;}\n",
       ".datatable .bool    { background: #DDDD99; }\n",
       ".datatable .object  { background: #565656; }\n",
       ".datatable .int     { background: #5D9E5D; }\n",
       ".datatable .float   { background: #4040CC; }\n",
       ".datatable .str     { background: #CC4040; }\n",
       ".datatable .time    { background: #40CC40; }\n",
       ".datatable .row_index {  background: var(--jp-border-color3);  border-right: 1px solid var(--jp-border-color0);  color: var(--jp-ui-font-color3);  font-size: 9px;}\n",
       ".datatable .frame tbody td { text-align: left; }\n",
       ".datatable .frame tr.coltypes .row_index {  background: var(--jp-border-color0);}\n",
       ".datatable th:nth-child(2) { padding-left: 12px; }\n",
       ".datatable .hellipsis {  color: var(--jp-cell-editor-border-color);}\n",
       ".datatable .vellipsis {  background: var(--jp-layout-color0);  color: var(--jp-cell-editor-border-color);}\n",
       ".datatable .na {  color: var(--jp-cell-editor-border-color);  font-size: 80%;}\n",
       ".datatable .sp {  opacity: 0.25;}\n",
       ".datatable .footer { font-size: 9px; }\n",
       ".datatable .frame_dimensions {  background: var(--jp-border-color3);  border-top: 1px solid var(--jp-border-color0);  color: var(--jp-ui-font-color3);  display: inline-block;  opacity: 0.6;  padding: 1px 10px 1px 5px;}\n",
       "</style>\n"
      ],
      "text/plain": [
       "<IPython.core.display.HTML object>"
      ]
     },
     "metadata": {},
     "output_type": "display_data"
    }
   ],
   "source": [
    "import pandas as pd\n",
    "import numpy as np\n",
    "import matplotlib.pyplot as plt\n",
    "import seaborn as sns\n",
    "from imblearn.pipeline import Pipeline\n",
    "\n",
    "from sklearn.preprocessing import MinMaxScaler\n",
    "\n",
    "from imblearn.over_sampling import SMOTE, BorderlineSMOTE, SVMSMOTE, ADASYN\n",
    "\n",
    "from sklearn.linear_model import LogisticRegression, Perceptron\n",
    "from sklearn.neighbors import KNeighborsClassifier\n",
    "from sklearn.svm import SVC\n",
    "from sklearn.tree import DecisionTreeClassifier\n",
    "from sklearn.ensemble import RandomForestClassifier\n",
    "from sklearn.neural_network import MLPClassifier\n",
    "from lightgbm import LGBMClassifier\n",
    "from xgboost import XGBClassifier\n",
    "\n",
    "from sklearn.experimental import enable_halving_search_cv\n",
    "from sklearn.model_selection import GridSearchCV, HalvingGridSearchCV, train_test_split, RepeatedStratifiedKFold, cross_val_score, learning_curve\n",
    "from sklearn.metrics import classification_report, fbeta_score, confusion_matrix, precision_recall_curve, auc, make_scorer"
   ]
  },
  {
   "cell_type": "code",
   "execution_count": 2,
   "id": "1b8b79a3",
   "metadata": {
    "execution": {
     "iopub.execute_input": "2022-07-20T05:21:21.904120Z",
     "iopub.status.busy": "2022-07-20T05:21:21.903535Z",
     "iopub.status.idle": "2022-07-20T05:21:34.357892Z",
     "shell.execute_reply": "2022-07-20T05:21:34.357035Z"
    },
    "papermill": {
     "duration": 12.465021,
     "end_time": "2022-07-20T05:21:34.360426",
     "exception": false,
     "start_time": "2022-07-20T05:21:21.895405",
     "status": "completed"
    },
    "tags": []
   },
   "outputs": [],
   "source": [
    "accepted_loans = pd.read_csv('../input/ml-project-elite/elite.csv')"
   ]
  },
  {
   "cell_type": "code",
   "execution_count": 3,
   "id": "28176fd0",
   "metadata": {
    "execution": {
     "iopub.execute_input": "2022-07-20T05:21:34.375264Z",
     "iopub.status.busy": "2022-07-20T05:21:34.374661Z",
     "iopub.status.idle": "2022-07-20T05:21:34.875105Z",
     "shell.execute_reply": "2022-07-20T05:21:34.873833Z"
    },
    "papermill": {
     "duration": 0.510973,
     "end_time": "2022-07-20T05:21:34.877725",
     "exception": false,
     "start_time": "2022-07-20T05:21:34.366752",
     "status": "completed"
    },
    "tags": []
   },
   "outputs": [],
   "source": [
    "X = accepted_loans.loc[:, accepted_loans.columns != 'loan_paid'].values\n",
    "y = accepted_loans['loan_paid'].values"
   ]
  },
  {
   "cell_type": "code",
   "execution_count": 4,
   "id": "a971edcd",
   "metadata": {
    "execution": {
     "iopub.execute_input": "2022-07-20T05:21:34.892243Z",
     "iopub.status.busy": "2022-07-20T05:21:34.891835Z",
     "iopub.status.idle": "2022-07-20T05:21:36.769075Z",
     "shell.execute_reply": "2022-07-20T05:21:36.768225Z"
    },
    "papermill": {
     "duration": 1.887433,
     "end_time": "2022-07-20T05:21:36.771595",
     "exception": false,
     "start_time": "2022-07-20T05:21:34.884162",
     "status": "completed"
    },
    "tags": []
   },
   "outputs": [],
   "source": [
    "X_train, X_test, y_train, y_test = train_test_split(X, y, test_size=0.2, random_state=42, stratify=y)"
   ]
  },
  {
   "cell_type": "code",
   "execution_count": 5,
   "id": "d89241e6",
   "metadata": {
    "execution": {
     "iopub.execute_input": "2022-07-20T05:21:36.785841Z",
     "iopub.status.busy": "2022-07-20T05:21:36.785445Z",
     "iopub.status.idle": "2022-07-20T05:21:36.790564Z",
     "shell.execute_reply": "2022-07-20T05:21:36.789409Z"
    },
    "papermill": {
     "duration": 0.014969,
     "end_time": "2022-07-20T05:21:36.792706",
     "exception": false,
     "start_time": "2022-07-20T05:21:36.777737",
     "status": "completed"
    },
    "tags": []
   },
   "outputs": [],
   "source": [
    "cv = RepeatedStratifiedKFold(n_splits=5, n_repeats=1, random_state=42)"
   ]
  },
  {
   "cell_type": "code",
   "execution_count": 6,
   "id": "12953644",
   "metadata": {
    "execution": {
     "iopub.execute_input": "2022-07-20T05:21:36.807155Z",
     "iopub.status.busy": "2022-07-20T05:21:36.806776Z",
     "iopub.status.idle": "2022-07-20T05:21:36.811886Z",
     "shell.execute_reply": "2022-07-20T05:21:36.810841Z"
    },
    "papermill": {
     "duration": 0.015288,
     "end_time": "2022-07-20T05:21:36.814191",
     "exception": false,
     "start_time": "2022-07-20T05:21:36.798903",
     "status": "completed"
    },
    "tags": []
   },
   "outputs": [],
   "source": [
    "minmax_scaler = ('minmax', MinMaxScaler())"
   ]
  },
  {
   "cell_type": "code",
   "execution_count": 7,
   "id": "b1c9f9ff",
   "metadata": {
    "execution": {
     "iopub.execute_input": "2022-07-20T05:21:36.828742Z",
     "iopub.status.busy": "2022-07-20T05:21:36.828360Z",
     "iopub.status.idle": "2022-07-20T05:21:36.833904Z",
     "shell.execute_reply": "2022-07-20T05:21:36.832705Z"
    },
    "papermill": {
     "duration": 0.01557,
     "end_time": "2022-07-20T05:21:36.836271",
     "exception": false,
     "start_time": "2022-07-20T05:21:36.820701",
     "status": "completed"
    },
    "tags": []
   },
   "outputs": [],
   "source": [
    "smote = ('smote', SMOTE(sampling_strategy=1.0, random_state=42))\n",
    "smote_param_grid = {\n",
    "    'smote__sampling_strategy': [0.8, 0.9, 1.0]\n",
    "    #'smote__k_neighbors': [3, 5, 10, 15]\n",
    "}"
   ]
  },
  {
   "cell_type": "code",
   "execution_count": 8,
   "id": "3075dae0",
   "metadata": {
    "execution": {
     "iopub.execute_input": "2022-07-20T05:21:36.850723Z",
     "iopub.status.busy": "2022-07-20T05:21:36.850364Z",
     "iopub.status.idle": "2022-07-20T05:21:36.856119Z",
     "shell.execute_reply": "2022-07-20T05:21:36.855010Z"
    },
    "papermill": {
     "duration": 0.015724,
     "end_time": "2022-07-20T05:21:36.858472",
     "exception": false,
     "start_time": "2022-07-20T05:21:36.842748",
     "status": "completed"
    },
    "tags": []
   },
   "outputs": [],
   "source": [
    "perceptron = ('perceptron', Perceptron(random_state=42, n_iter_no_change=20, max_iter=100, tol=1e-6, early_stopping=True))\n",
    "perception_param_grid = {\n",
    "    'perceptron__penalty' : ['l2', 'l1', 'elasticnet'],\n",
    "}"
   ]
  },
  {
   "cell_type": "code",
   "execution_count": 9,
   "id": "1332a512",
   "metadata": {
    "execution": {
     "iopub.execute_input": "2022-07-20T05:21:36.872795Z",
     "iopub.status.busy": "2022-07-20T05:21:36.872415Z",
     "iopub.status.idle": "2022-07-20T05:21:36.877796Z",
     "shell.execute_reply": "2022-07-20T05:21:36.876611Z"
    },
    "papermill": {
     "duration": 0.015151,
     "end_time": "2022-07-20T05:21:36.880043",
     "exception": false,
     "start_time": "2022-07-20T05:21:36.864892",
     "status": "completed"
    },
    "tags": []
   },
   "outputs": [],
   "source": [
    "# Metric\n",
    "f_onehalf_scorer = make_scorer(fbeta_score, beta=0.5)"
   ]
  },
  {
   "cell_type": "code",
   "execution_count": 10,
   "id": "a93fc889",
   "metadata": {
    "execution": {
     "iopub.execute_input": "2022-07-20T05:21:36.894510Z",
     "iopub.status.busy": "2022-07-20T05:21:36.894137Z",
     "iopub.status.idle": "2022-07-20T05:21:36.913808Z",
     "shell.execute_reply": "2022-07-20T05:21:36.912609Z"
    },
    "papermill": {
     "duration": 0.030133,
     "end_time": "2022-07-20T05:21:36.916508",
     "exception": false,
     "start_time": "2022-07-20T05:21:36.886375",
     "status": "completed"
    },
    "tags": []
   },
   "outputs": [],
   "source": [
    "def plot_learning_curve(\n",
    "    estimator,\n",
    "    title,\n",
    "    X,\n",
    "    y,\n",
    "    axes=None,\n",
    "    ylim=None,\n",
    "    cv=cv,\n",
    "    n_jobs=-1,\n",
    "    train_sizes=np.linspace(0.1, 1.0, 5),\n",
    "):\n",
    "    if axes is None:\n",
    "        _, axes = plt.subplots(3, 1, figsize=(15, 15))\n",
    "\n",
    "    axes[0].set_title(title)\n",
    "    if ylim is not None:\n",
    "        axes[0].set_ylim(*ylim)\n",
    "    axes[0].set_xlabel(\"Training examples\")\n",
    "    axes[0].set_ylabel(\"Score\")\n",
    "\n",
    "    train_sizes, train_scores, test_scores, fit_times, _ = learning_curve(\n",
    "        estimator,\n",
    "        X,\n",
    "        y,\n",
    "        cv=cv,\n",
    "        n_jobs=n_jobs,\n",
    "        train_sizes=train_sizes,\n",
    "        scoring=f_onehalf_scorer,\n",
    "        return_times=True,\n",
    "        random_state=42\n",
    "    )\n",
    "    train_scores_mean = np.mean(train_scores, axis=1)\n",
    "    train_scores_std = np.std(train_scores, axis=1)\n",
    "    test_scores_mean = np.mean(test_scores, axis=1)\n",
    "    test_scores_std = np.std(test_scores, axis=1)\n",
    "    fit_times_mean = np.mean(fit_times, axis=1)\n",
    "    fit_times_std = np.std(fit_times, axis=1)\n",
    "\n",
    "    # Plot learning curve\n",
    "    axes[0].grid()\n",
    "    axes[0].fill_between(\n",
    "        train_sizes,\n",
    "        train_scores_mean - train_scores_std,\n",
    "        train_scores_mean + train_scores_std,\n",
    "        alpha=0.1,\n",
    "        color=\"r\",\n",
    "    )\n",
    "    axes[0].fill_between(\n",
    "        train_sizes,\n",
    "        test_scores_mean - test_scores_std,\n",
    "        test_scores_mean + test_scores_std,\n",
    "        alpha=0.1,\n",
    "        color=\"g\",\n",
    "    )\n",
    "    axes[0].plot(\n",
    "        train_sizes, train_scores_mean, \"o-\", color=\"r\", label=\"Training score\"\n",
    "    )\n",
    "    axes[0].plot(\n",
    "        train_sizes, test_scores_mean, \"o-\", color=\"g\", label=\"Cross-validation score\"\n",
    "    )\n",
    "    axes[0].legend(loc=\"best\")\n",
    "\n",
    "    # Plot n_samples vs fit_times\n",
    "    axes[1].grid()\n",
    "    axes[1].plot(train_sizes, fit_times_mean, \"o-\")\n",
    "    axes[1].fill_between(\n",
    "        train_sizes,\n",
    "        fit_times_mean - fit_times_std,\n",
    "        fit_times_mean + fit_times_std,\n",
    "        alpha=0.1,\n",
    "    )\n",
    "    axes[1].set_xlabel(\"Training examples\")\n",
    "    axes[1].set_ylabel(\"fit_times\")\n",
    "    axes[1].set_title(\"Scalability of the model\")\n",
    "\n",
    "    # Plot fit_time vs score\n",
    "    fit_time_argsort = fit_times_mean.argsort()\n",
    "    fit_time_sorted = fit_times_mean[fit_time_argsort]\n",
    "    test_scores_mean_sorted = test_scores_mean[fit_time_argsort]\n",
    "    test_scores_std_sorted = test_scores_std[fit_time_argsort]\n",
    "    axes[2].grid()\n",
    "    axes[2].plot(fit_time_sorted, test_scores_mean_sorted, \"o-\")\n",
    "    axes[2].fill_between(\n",
    "        fit_time_sorted,\n",
    "        test_scores_mean_sorted - test_scores_std_sorted,\n",
    "        test_scores_mean_sorted + test_scores_std_sorted,\n",
    "        alpha=0.1,\n",
    "    )\n",
    "    axes[2].set_xlabel(\"fit_times\") \n",
    "    axes[2].set_ylabel(\"Score\")\n",
    "    axes[2].set_title(\"Performance of the model\")\n",
    "\n",
    "    return plt"
   ]
  },
  {
   "cell_type": "code",
   "execution_count": 11,
   "id": "8a4498ae",
   "metadata": {
    "execution": {
     "iopub.execute_input": "2022-07-20T05:21:36.932021Z",
     "iopub.status.busy": "2022-07-20T05:21:36.931234Z",
     "iopub.status.idle": "2022-07-20T05:21:36.946698Z",
     "shell.execute_reply": "2022-07-20T05:21:36.945716Z"
    },
    "papermill": {
     "duration": 0.026497,
     "end_time": "2022-07-20T05:21:36.949352",
     "exception": false,
     "start_time": "2022-07-20T05:21:36.922855",
     "status": "completed"
    },
    "tags": []
   },
   "outputs": [],
   "source": [
    "def pooled_var(stds):\n",
    "    n = 30 # size of each group\n",
    "    return np.sqrt(sum((n-1)*(stds**2))/ len(stds)*(n-1))\n",
    "\n",
    "def plot_search_results(search):\n",
    "  df = pd.DataFrame(search.cv_results_)\n",
    "  results = ['mean_test_score',\n",
    "            'mean_train_score',\n",
    "            'std_test_score', \n",
    "            'std_train_score']\n",
    "\n",
    "  fig, axes = plt.subplots(1, len(param_grid), \n",
    "                          figsize = (7*len(param_grid), 5),\n",
    "                          sharey='row')\n",
    "  axes[0].set_ylabel(\"Score\", fontsize=25)\n",
    "\n",
    "\n",
    "  for idx, (param_name, param_range) in enumerate(param_grid.items()):\n",
    "      grouped_df = df.groupby(f'param_{param_name}')[results]\\\n",
    "          .agg({'mean_train_score': 'mean',\n",
    "                'mean_test_score': 'mean',\n",
    "                'std_train_score': 'mean',\n",
    "                'std_test_score': 'mean'})\n",
    "\n",
    "      previous_group = df.groupby(f'param_{param_name}')[results]\n",
    "      axes[idx].set_xlabel(param_name, fontsize=30)\n",
    "      axes[idx].set_ylim(0.0, 1.1)\n",
    "      lw = 2\n",
    "      axes[idx].plot(param_range, grouped_df['mean_train_score'], label=\"Training score\",\n",
    "                  color=\"darkorange\", lw=lw)\n",
    "      axes[idx].fill_between(param_range,grouped_df['mean_train_score'] - grouped_df['std_train_score'],\n",
    "                      grouped_df['mean_train_score'] + grouped_df['std_train_score'], alpha=0.2,\n",
    "                      color=\"darkorange\", lw=lw)\n",
    "      axes[idx].plot(param_range, grouped_df['mean_test_score'], label=\"Cross-validation score\",\n",
    "                  color=\"navy\", lw=lw)\n",
    "      axes[idx].fill_between(param_range, grouped_df['mean_test_score'] - grouped_df['std_test_score'],\n",
    "                      grouped_df['mean_test_score'] + grouped_df['std_test_score'], alpha=0.2,\n",
    "                      color=\"navy\", lw=lw)\n",
    "\n",
    "  handles, labels = axes[0].get_legend_handles_labels()\n",
    "  fig.suptitle('Validation curves', fontsize=40)\n",
    "  fig.legend(handles, labels, loc=8, ncol=2, fontsize=20)\n",
    "\n",
    "  fig.subplots_adjust(bottom=0.25, top=0.85)  \n",
    "  plt.show()"
   ]
  },
  {
   "cell_type": "code",
   "execution_count": 12,
   "id": "040e7c15",
   "metadata": {
    "execution": {
     "iopub.execute_input": "2022-07-20T05:21:36.964150Z",
     "iopub.status.busy": "2022-07-20T05:21:36.963395Z",
     "iopub.status.idle": "2022-07-20T05:21:36.969859Z",
     "shell.execute_reply": "2022-07-20T05:21:36.968936Z"
    },
    "papermill": {
     "duration": 0.01665,
     "end_time": "2022-07-20T05:21:36.972359",
     "exception": false,
     "start_time": "2022-07-20T05:21:36.955709",
     "status": "completed"
    },
    "tags": []
   },
   "outputs": [],
   "source": [
    "def print_result_df(search):\n",
    "  keeping_columns = ['params', 'mean_train_score', 'std_train_score', 'mean_test_score', 'std_test_score', 'mean_fit_time', 'std_fit_time']\n",
    "  df = pd.DataFrame(search.cv_results_)\n",
    "  df = df[keeping_columns].sort_values(by='mean_test_score', ascending=False)\n",
    "  return df.iloc[:10, :]"
   ]
  },
  {
   "cell_type": "code",
   "execution_count": 13,
   "id": "c1c26c89",
   "metadata": {
    "execution": {
     "iopub.execute_input": "2022-07-20T05:21:36.987107Z",
     "iopub.status.busy": "2022-07-20T05:21:36.986312Z",
     "iopub.status.idle": "2022-07-20T05:21:36.998693Z",
     "shell.execute_reply": "2022-07-20T05:21:36.997702Z"
    },
    "papermill": {
     "duration": 0.022617,
     "end_time": "2022-07-20T05:21:37.001254",
     "exception": false,
     "start_time": "2022-07-20T05:21:36.978637",
     "status": "completed"
    },
    "tags": []
   },
   "outputs": [],
   "source": [
    "def print_best_model_result(search, name):\n",
    "  print(\"Best parameter (CV score=):\" % search.best_score_)\n",
    "  best_model = search.best_estimator_\n",
    "  print(best_model)\n",
    "\n",
    "  y_pred = best_model.predict(X_test)\n",
    "\n",
    "  print(classification_report(y_test, y_pred))\n",
    "  print(confusion_matrix(y_test, y_pred))\n",
    "  \n",
    "  f_onehalf_score = fbeta_score(y_test, y_pred, beta=0.5)\n",
    "  print('f0.5_score=', f_onehalf_score)\n",
    "\n",
    "  try :\n",
    "    y_score = best_model.predict_proba(X_test)[:, 1]\n",
    "    # calculate precision and recall for each threshold\n",
    "    precision, recall, threshold = precision_recall_curve(y_test, y_score)\n",
    "    # calculate scores\n",
    "    pr_auc = auc(recall, precision)\n",
    "    print('pr_auc_score=', pr_auc)\n",
    "\n",
    "    # calculate the no skill line as the proportion of the positive class\n",
    "    no_skill = len(y_test[y_test==1]) / len(y_test)\n",
    "    # plot the no skill precision-recall curve\n",
    "    plt.figure(figsize=(10, 7))\n",
    "    plt.plot([0, 1], [no_skill, no_skill], linestyle='--', label='No Skill')\n",
    "    # plot the model precision-recall curve\n",
    "    plt.plot(recall, precision, marker='.', label=name)\n",
    "    plt.title(f'{name}(pr_auc={pr_auc})')\n",
    "    plt.xlabel('Recall')\n",
    "    plt.ylabel('Precision')\n",
    "    # show the legend\n",
    "    plt.legend()\n",
    "    # show the plot\n",
    "    plt.show()\n",
    "  except:\n",
    "    pass\n",
    "\n",
    "  plot_learning_curve(best_model, name, X_train, y_train, cv=cv, n_jobs=-1 )\n",
    "  plt.show()\n",
    "\n",
    "  return best_model"
   ]
  },
  {
   "cell_type": "code",
   "execution_count": 14,
   "id": "e20152f2",
   "metadata": {
    "execution": {
     "iopub.execute_input": "2022-07-20T05:21:37.016485Z",
     "iopub.status.busy": "2022-07-20T05:21:37.016059Z",
     "iopub.status.idle": "2022-07-20T05:21:37.021747Z",
     "shell.execute_reply": "2022-07-20T05:21:37.020626Z"
    },
    "papermill": {
     "duration": 0.017463,
     "end_time": "2022-07-20T05:21:37.025299",
     "exception": false,
     "start_time": "2022-07-20T05:21:37.007836",
     "status": "completed"
    },
    "tags": []
   },
   "outputs": [
    {
     "name": "stdout",
     "output_type": "stream",
     "text": [
      "MinMaxScaler Perceptron\n"
     ]
    }
   ],
   "source": [
    "pipe = Pipeline(steps=[minmax_scaler, perceptron])\n",
    "print(\"MinMaxScaler Perceptron\")"
   ]
  },
  {
   "cell_type": "code",
   "execution_count": 15,
   "id": "ea5d5e2b",
   "metadata": {
    "execution": {
     "iopub.execute_input": "2022-07-20T05:21:37.040304Z",
     "iopub.status.busy": "2022-07-20T05:21:37.039510Z",
     "iopub.status.idle": "2022-07-20T05:21:37.044827Z",
     "shell.execute_reply": "2022-07-20T05:21:37.043830Z"
    },
    "papermill": {
     "duration": 0.015851,
     "end_time": "2022-07-20T05:21:37.047312",
     "exception": false,
     "start_time": "2022-07-20T05:21:37.031461",
     "status": "completed"
    },
    "tags": []
   },
   "outputs": [],
   "source": [
    "param_grid = {}"
   ]
  },
  {
   "cell_type": "code",
   "execution_count": 16,
   "id": "ff94d47d",
   "metadata": {
    "execution": {
     "iopub.execute_input": "2022-07-20T05:21:37.062485Z",
     "iopub.status.busy": "2022-07-20T05:21:37.062053Z",
     "iopub.status.idle": "2022-07-20T05:21:37.067547Z",
     "shell.execute_reply": "2022-07-20T05:21:37.066250Z"
    },
    "papermill": {
     "duration": 0.016419,
     "end_time": "2022-07-20T05:21:37.070232",
     "exception": false,
     "start_time": "2022-07-20T05:21:37.053813",
     "status": "completed"
    },
    "tags": []
   },
   "outputs": [],
   "source": [
    "search = HalvingGridSearchCV(pipe, param_grid, scoring=f_onehalf_scorer, cv=cv, verbose=3, return_train_score=True)"
   ]
  },
  {
   "cell_type": "code",
   "execution_count": 17,
   "id": "017350db",
   "metadata": {
    "execution": {
     "iopub.execute_input": "2022-07-20T05:21:37.084909Z",
     "iopub.status.busy": "2022-07-20T05:21:37.084497Z",
     "iopub.status.idle": "2022-07-20T05:23:09.725003Z",
     "shell.execute_reply": "2022-07-20T05:23:09.723914Z"
    },
    "papermill": {
     "duration": 92.658365,
     "end_time": "2022-07-20T05:23:09.735028",
     "exception": false,
     "start_time": "2022-07-20T05:21:37.076663",
     "status": "completed"
    },
    "tags": []
   },
   "outputs": [
    {
     "name": "stdout",
     "output_type": "stream",
     "text": [
      "n_iterations: 1\n",
      "n_required_iterations: 1\n",
      "n_possible_iterations: 1\n",
      "min_resources_: 1074704\n",
      "max_resources_: 1074704\n",
      "aggressive_elimination: False\n",
      "factor: 3\n",
      "----------\n",
      "iter: 0\n",
      "n_candidates: 1\n",
      "n_resources: 1074704\n",
      "Fitting 5 folds for each of 1 candidates, totalling 5 fits\n",
      "[CV 1/5] END ..............., score=(train=0.899, test=0.900) total time=  14.2s\n",
      "[CV 2/5] END ..............., score=(train=0.913, test=0.912) total time=  14.0s\n",
      "[CV 3/5] END ..............., score=(train=0.891, test=0.891) total time=  14.3s\n",
      "[CV 4/5] END ..............., score=(train=0.857, test=0.856) total time=  14.0s\n",
      "[CV 5/5] END ..............., score=(train=0.877, test=0.877) total time=  14.2s\n"
     ]
    },
    {
     "data": {
      "text/plain": [
       "HalvingGridSearchCV(cv=RepeatedStratifiedKFold(n_repeats=1, n_splits=5, random_state=42),\n",
       "                    estimator=Pipeline(steps=[('minmax', MinMaxScaler()),\n",
       "                                              ('perceptron',\n",
       "                                               Perceptron(early_stopping=True,\n",
       "                                                          max_iter=100,\n",
       "                                                          n_iter_no_change=20,\n",
       "                                                          random_state=42,\n",
       "                                                          tol=1e-06))]),\n",
       "                    param_grid={}, scoring=make_scorer(fbeta_score, beta=0.5),\n",
       "                    verbose=3)"
      ]
     },
     "execution_count": 17,
     "metadata": {},
     "output_type": "execute_result"
    }
   ],
   "source": [
    "search.fit(X_train, y_train)"
   ]
  },
  {
   "cell_type": "code",
   "execution_count": 18,
   "id": "d9bf52dd",
   "metadata": {
    "execution": {
     "iopub.execute_input": "2022-07-20T05:23:09.751194Z",
     "iopub.status.busy": "2022-07-20T05:23:09.750611Z",
     "iopub.status.idle": "2022-07-20T05:23:09.774548Z",
     "shell.execute_reply": "2022-07-20T05:23:09.773358Z"
    },
    "papermill": {
     "duration": 0.034965,
     "end_time": "2022-07-20T05:23:09.777059",
     "exception": false,
     "start_time": "2022-07-20T05:23:09.742094",
     "status": "completed"
    },
    "tags": []
   },
   "outputs": [
    {
     "data": {
      "text/html": [
       "<div>\n",
       "<style scoped>\n",
       "    .dataframe tbody tr th:only-of-type {\n",
       "        vertical-align: middle;\n",
       "    }\n",
       "\n",
       "    .dataframe tbody tr th {\n",
       "        vertical-align: top;\n",
       "    }\n",
       "\n",
       "    .dataframe thead th {\n",
       "        text-align: right;\n",
       "    }\n",
       "</style>\n",
       "<table border=\"1\" class=\"dataframe\">\n",
       "  <thead>\n",
       "    <tr style=\"text-align: right;\">\n",
       "      <th></th>\n",
       "      <th>params</th>\n",
       "      <th>mean_train_score</th>\n",
       "      <th>std_train_score</th>\n",
       "      <th>mean_test_score</th>\n",
       "      <th>std_test_score</th>\n",
       "      <th>mean_fit_time</th>\n",
       "      <th>std_fit_time</th>\n",
       "    </tr>\n",
       "  </thead>\n",
       "  <tbody>\n",
       "    <tr>\n",
       "      <th>0</th>\n",
       "      <td>{}</td>\n",
       "      <td>0.887178</td>\n",
       "      <td>0.019047</td>\n",
       "      <td>0.887251</td>\n",
       "      <td>0.019246</td>\n",
       "      <td>13.86338</td>\n",
       "      <td>0.106149</td>\n",
       "    </tr>\n",
       "  </tbody>\n",
       "</table>\n",
       "</div>"
      ],
      "text/plain": [
       "  params  mean_train_score  std_train_score  mean_test_score  std_test_score  \\\n",
       "0     {}          0.887178         0.019047         0.887251        0.019246   \n",
       "\n",
       "   mean_fit_time  std_fit_time  \n",
       "0       13.86338      0.106149  "
      ]
     },
     "execution_count": 18,
     "metadata": {},
     "output_type": "execute_result"
    }
   ],
   "source": [
    "print_result_df(search)"
   ]
  },
  {
   "cell_type": "code",
   "execution_count": 19,
   "id": "aab25f4e",
   "metadata": {
    "execution": {
     "iopub.execute_input": "2022-07-20T05:23:09.794423Z",
     "iopub.status.busy": "2022-07-20T05:23:09.793205Z",
     "iopub.status.idle": "2022-07-20T05:23:09.798313Z",
     "shell.execute_reply": "2022-07-20T05:23:09.797558Z"
    },
    "papermill": {
     "duration": 0.016121,
     "end_time": "2022-07-20T05:23:09.800606",
     "exception": false,
     "start_time": "2022-07-20T05:23:09.784485",
     "status": "completed"
    },
    "tags": []
   },
   "outputs": [],
   "source": [
    "#plot_search_results(search)"
   ]
  },
  {
   "cell_type": "code",
   "execution_count": 20,
   "id": "e8065472",
   "metadata": {
    "execution": {
     "iopub.execute_input": "2022-07-20T05:23:09.817620Z",
     "iopub.status.busy": "2022-07-20T05:23:09.816834Z",
     "iopub.status.idle": "2022-07-20T05:24:33.761780Z",
     "shell.execute_reply": "2022-07-20T05:24:33.760422Z"
    },
    "papermill": {
     "duration": 83.965471,
     "end_time": "2022-07-20T05:24:33.773379",
     "exception": false,
     "start_time": "2022-07-20T05:23:09.807908",
     "status": "completed"
    },
    "tags": []
   },
   "outputs": [
    {
     "name": "stdout",
     "output_type": "stream",
     "text": [
      "Best parameter (CV score=):\n",
      "Pipeline(steps=[('minmax', MinMaxScaler()),\n",
      "                ('perceptron',\n",
      "                 Perceptron(early_stopping=True, max_iter=100,\n",
      "                            n_iter_no_change=20, random_state=42, tol=1e-06))])\n",
      "              precision    recall  f1-score   support\n",
      "\n",
      "           0       0.75      0.03      0.05     53638\n",
      "           1       0.80      1.00      0.89    215038\n",
      "\n",
      "    accuracy                           0.80    268676\n",
      "   macro avg       0.78      0.51      0.47    268676\n",
      "weighted avg       0.79      0.80      0.72    268676\n",
      "\n",
      "[[  1470  52168]\n",
      " [   495 214543]]\n",
      "f0.5_score= 0.8368281947948408\n"
     ]
    },
    {
     "data": {
      "image/png": "[encoded data removed]",
      "text/plain": [
       "<Figure size 1080x1080 with 3 Axes>"
      ]
     },
     "metadata": {
      "needs_background": "light"
     },
     "output_type": "display_data"
    },
    {
     "data": {
      "text/plain": [
       "Pipeline(steps=[('minmax', MinMaxScaler()),\n",
       "                ('perceptron',\n",
       "                 Perceptron(early_stopping=True, max_iter=100,\n",
       "                            n_iter_no_change=20, random_state=42, tol=1e-06))])"
      ]
     },
     "execution_count": 20,
     "metadata": {},
     "output_type": "execute_result"
    }
   ],
   "source": [
    "print_best_model_result(search, 'MinMaxScaler Perceptron')"
   ]
  }
 ],
 "metadata": {
  "kernelspec": {
   "display_name": "Python 3.8.10 64-bit",
   "language": "python",
   "name": "python3"
  },
  "language_info": {
   "codemirror_mode": {
    "name": "ipython",
    "version": 3
   },
   "file_extension": ".py",
   "mimetype": "text/x-python",
   "name": "python",
   "nbconvert_exporter": "python",
   "pygments_lexer": "ipython3",
   "version": "3.8.10"
  },
  "papermill": {
   "default_parameters": {},
   "duration": 207.800865,
   "end_time": "2022-07-20T05:24:36.403892",
   "environment_variables": {},
   "exception": null,
   "input_path": "__notebook__.ipynb",
   "output_path": "__notebook__.ipynb",
   "parameters": {},
   "start_time": "2022-07-20T05:21:08.603027",
   "version": "2.3.4"
  },
  "vscode": {
   "interpreter": {
    "hash": "8384712f827c73b71ec1d871aaffaaf3604c18a78a335b5adcc2028fc4cb4b02"
   }
  }
 },
 "nbformat": 4,
 "nbformat_minor": 5
}
