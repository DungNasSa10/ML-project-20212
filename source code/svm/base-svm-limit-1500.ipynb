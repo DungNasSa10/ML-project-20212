{
 "cells": [
  {
   "cell_type": "code",
   "execution_count": 1,
   "id": "94a4e5da",
   "metadata": {
    "execution": {
     "iopub.execute_input": "2022-07-19T17:47:38.782211Z",
     "iopub.status.busy": "2022-07-19T17:47:38.781611Z",
     "iopub.status.idle": "2022-07-19T17:47:41.375766Z",
     "shell.execute_reply": "2022-07-19T17:47:41.374482Z"
    },
    "papermill": {
     "duration": 2.602478,
     "end_time": "2022-07-19T17:47:41.378221",
     "exception": false,
     "start_time": "2022-07-19T17:47:38.775743",
     "status": "completed"
    },
    "tags": []
   },
   "outputs": [
    {
     "data": {
      "text/html": [
       "<style type='text/css'>\n",
       ".datatable table.frame { margin-bottom: 0; }\n",
       ".datatable table.frame thead { border-bottom: none; }\n",
       ".datatable table.frame tr.coltypes td {  color: #FFFFFF;  line-height: 6px;  padding: 0 0.5em;}\n",
       ".datatable .bool    { background: #DDDD99; }\n",
       ".datatable .object  { background: #565656; }\n",
       ".datatable .int     { background: #5D9E5D; }\n",
       ".datatable .float   { background: #4040CC; }\n",
       ".datatable .str     { background: #CC4040; }\n",
       ".datatable .time    { background: #40CC40; }\n",
       ".datatable .row_index {  background: var(--jp-border-color3);  border-right: 1px solid var(--jp-border-color0);  color: var(--jp-ui-font-color3);  font-size: 9px;}\n",
       ".datatable .frame tbody td { text-align: left; }\n",
       ".datatable .frame tr.coltypes .row_index {  background: var(--jp-border-color0);}\n",
       ".datatable th:nth-child(2) { padding-left: 12px; }\n",
       ".datatable .hellipsis {  color: var(--jp-cell-editor-border-color);}\n",
       ".datatable .vellipsis {  background: var(--jp-layout-color0);  color: var(--jp-cell-editor-border-color);}\n",
       ".datatable .na {  color: var(--jp-cell-editor-border-color);  font-size: 80%;}\n",
       ".datatable .sp {  opacity: 0.25;}\n",
       ".datatable .footer { font-size: 9px; }\n",
       ".datatable .frame_dimensions {  background: var(--jp-border-color3);  border-top: 1px solid var(--jp-border-color0);  color: var(--jp-ui-font-color3);  display: inline-block;  opacity: 0.6;  padding: 1px 10px 1px 5px;}\n",
       "</style>\n"
      ],
      "text/plain": [
       "<IPython.core.display.HTML object>"
      ]
     },
     "metadata": {},
     "output_type": "display_data"
    }
   ],
   "source": [
    "import pandas as pd\n",
    "import numpy as np\n",
    "import matplotlib.pyplot as plt\n",
    "import seaborn as sns\n",
    "from imblearn.pipeline import Pipeline\n",
    "\n",
    "from sklearn.preprocessing import MinMaxScaler\n",
    "\n",
    "from imblearn.over_sampling import SMOTE, BorderlineSMOTE, SVMSMOTE, ADASYN\n",
    "\n",
    "from sklearn.linear_model import LogisticRegression, Perceptron\n",
    "from sklearn.neighbors import KNeighborsClassifier\n",
    "from sklearn.svm import SVC\n",
    "from sklearn.tree import DecisionTreeClassifier\n",
    "from sklearn.ensemble import RandomForestClassifier\n",
    "from lightgbm import LGBMClassifier\n",
    "from xgboost import XGBClassifier\n",
    "\n",
    "from sklearn.experimental import enable_halving_search_cv\n",
    "from sklearn.model_selection import GridSearchCV, HalvingGridSearchCV, train_test_split, RepeatedStratifiedKFold, cross_val_score, learning_curve\n",
    "from sklearn.metrics import classification_report, fbeta_score, confusion_matrix, precision_recall_curve, auc, make_scorer"
   ]
  },
  {
   "cell_type": "code",
   "execution_count": 2,
   "id": "247290c2",
   "metadata": {
    "execution": {
     "iopub.execute_input": "2022-07-19T17:47:41.387974Z",
     "iopub.status.busy": "2022-07-19T17:47:41.386967Z",
     "iopub.status.idle": "2022-07-19T17:47:51.811453Z",
     "shell.execute_reply": "2022-07-19T17:47:51.810128Z"
    },
    "papermill": {
     "duration": 10.431765,
     "end_time": "2022-07-19T17:47:51.814101",
     "exception": false,
     "start_time": "2022-07-19T17:47:41.382336",
     "status": "completed"
    },
    "tags": []
   },
   "outputs": [],
   "source": [
    "accepted_loans = pd.read_csv('../input/elitedata/elite.csv')"
   ]
  },
  {
   "cell_type": "code",
   "execution_count": 3,
   "id": "04545f24",
   "metadata": {
    "execution": {
     "iopub.execute_input": "2022-07-19T17:47:51.824076Z",
     "iopub.status.busy": "2022-07-19T17:47:51.823212Z",
     "iopub.status.idle": "2022-07-19T17:47:52.370837Z",
     "shell.execute_reply": "2022-07-19T17:47:52.369797Z"
    },
    "papermill": {
     "duration": 0.555351,
     "end_time": "2022-07-19T17:47:52.373396",
     "exception": false,
     "start_time": "2022-07-19T17:47:51.818045",
     "status": "completed"
    },
    "tags": []
   },
   "outputs": [],
   "source": [
    "X = accepted_loans.loc[:, accepted_loans.columns != 'loan_paid'].values\n",
    "y = accepted_loans['loan_paid'].values"
   ]
  },
  {
   "cell_type": "code",
   "execution_count": 4,
   "id": "15beec1d",
   "metadata": {
    "execution": {
     "iopub.execute_input": "2022-07-19T17:47:52.383398Z",
     "iopub.status.busy": "2022-07-19T17:47:52.382485Z",
     "iopub.status.idle": "2022-07-19T17:47:54.094643Z",
     "shell.execute_reply": "2022-07-19T17:47:54.093521Z"
    },
    "papermill": {
     "duration": 1.720137,
     "end_time": "2022-07-19T17:47:54.097365",
     "exception": false,
     "start_time": "2022-07-19T17:47:52.377228",
     "status": "completed"
    },
    "tags": []
   },
   "outputs": [],
   "source": [
    "X_train, X_test, y_train, y_test = train_test_split(X, y, test_size=0.2, random_state=42, stratify=y)"
   ]
  },
  {
   "cell_type": "code",
   "execution_count": 5,
   "id": "c924d2b5",
   "metadata": {
    "execution": {
     "iopub.execute_input": "2022-07-19T17:47:54.106813Z",
     "iopub.status.busy": "2022-07-19T17:47:54.106428Z",
     "iopub.status.idle": "2022-07-19T17:47:54.111322Z",
     "shell.execute_reply": "2022-07-19T17:47:54.110241Z"
    },
    "papermill": {
     "duration": 0.01197,
     "end_time": "2022-07-19T17:47:54.113447",
     "exception": false,
     "start_time": "2022-07-19T17:47:54.101477",
     "status": "completed"
    },
    "tags": []
   },
   "outputs": [],
   "source": [
    "cv = RepeatedStratifiedKFold(n_splits=5, n_repeats=2, random_state=42)"
   ]
  },
  {
   "cell_type": "code",
   "execution_count": 6,
   "id": "9999641e",
   "metadata": {
    "execution": {
     "iopub.execute_input": "2022-07-19T17:47:54.122596Z",
     "iopub.status.busy": "2022-07-19T17:47:54.122178Z",
     "iopub.status.idle": "2022-07-19T17:47:54.127647Z",
     "shell.execute_reply": "2022-07-19T17:47:54.126529Z"
    },
    "papermill": {
     "duration": 0.012538,
     "end_time": "2022-07-19T17:47:54.129841",
     "exception": false,
     "start_time": "2022-07-19T17:47:54.117303",
     "status": "completed"
    },
    "tags": []
   },
   "outputs": [],
   "source": [
    "svm = ('svm', SVC(random_state=42, cache_size=2000, max_iter=1500))\n",
    "svm_param_grid = {\n",
    "    'svm__C': [100, 10, 1.0, 0.1, 0.001],\n",
    "    'svm__kernel': ['linear', 'poly', 'rbf', 'sigmoid']\n",
    "}"
   ]
  },
  {
   "cell_type": "code",
   "execution_count": 7,
   "id": "7e9b01b6",
   "metadata": {
    "execution": {
     "iopub.execute_input": "2022-07-19T17:47:54.138560Z",
     "iopub.status.busy": "2022-07-19T17:47:54.138165Z",
     "iopub.status.idle": "2022-07-19T17:47:54.142754Z",
     "shell.execute_reply": "2022-07-19T17:47:54.141576Z"
    },
    "papermill": {
     "duration": 0.011438,
     "end_time": "2022-07-19T17:47:54.144930",
     "exception": false,
     "start_time": "2022-07-19T17:47:54.133492",
     "status": "completed"
    },
    "tags": []
   },
   "outputs": [],
   "source": [
    "# Metric\n",
    "f_onehalf_scorer = make_scorer(fbeta_score, beta=0.5)"
   ]
  },
  {
   "cell_type": "code",
   "execution_count": 8,
   "id": "73a95652",
   "metadata": {
    "execution": {
     "iopub.execute_input": "2022-07-19T17:47:54.155029Z",
     "iopub.status.busy": "2022-07-19T17:47:54.154658Z",
     "iopub.status.idle": "2022-07-19T17:47:54.169796Z",
     "shell.execute_reply": "2022-07-19T17:47:54.168659Z"
    },
    "papermill": {
     "duration": 0.022636,
     "end_time": "2022-07-19T17:47:54.171878",
     "exception": false,
     "start_time": "2022-07-19T17:47:54.149242",
     "status": "completed"
    },
    "tags": []
   },
   "outputs": [],
   "source": [
    "def plot_learning_curve(\n",
    "    estimator,\n",
    "    title,\n",
    "    X,\n",
    "    y,\n",
    "    axes=None,\n",
    "    ylim=None,\n",
    "    cv=cv,\n",
    "    n_jobs=-1,\n",
    "    train_sizes=np.linspace(0.1, 1.0, 5),\n",
    "):\n",
    "    if axes is None:\n",
    "        _, axes = plt.subplots(3, 1, figsize=(15, 15))\n",
    "\n",
    "    axes[0].set_title(title)\n",
    "    if ylim is not None:\n",
    "        axes[0].set_ylim(*ylim)\n",
    "    axes[0].set_xlabel(\"Training examples\")\n",
    "    axes[0].set_ylabel(\"Score\")\n",
    "\n",
    "    train_sizes, train_scores, test_scores, fit_times, _ = learning_curve(\n",
    "        estimator,\n",
    "        X,\n",
    "        y,\n",
    "        cv=cv,\n",
    "        n_jobs=n_jobs,\n",
    "        train_sizes=train_sizes,\n",
    "        scoring=f_onehalf_scorer,\n",
    "        return_times=True,\n",
    "        random_state=42\n",
    "    )\n",
    "    train_scores_mean = np.mean(train_scores, axis=1)\n",
    "    train_scores_std = np.std(train_scores, axis=1)\n",
    "    test_scores_mean = np.mean(test_scores, axis=1)\n",
    "    test_scores_std = np.std(test_scores, axis=1)\n",
    "    fit_times_mean = np.mean(fit_times, axis=1)\n",
    "    fit_times_std = np.std(fit_times, axis=1)\n",
    "\n",
    "    # Plot learning curve\n",
    "    axes[0].grid()\n",
    "    axes[0].fill_between(\n",
    "        train_sizes,\n",
    "        train_scores_mean - train_scores_std,\n",
    "        train_scores_mean + train_scores_std,\n",
    "        alpha=0.1,\n",
    "        color=\"r\",\n",
    "    )\n",
    "    axes[0].fill_between(\n",
    "        train_sizes,\n",
    "        test_scores_mean - test_scores_std,\n",
    "        test_scores_mean + test_scores_std,\n",
    "        alpha=0.1,\n",
    "        color=\"g\",\n",
    "    )\n",
    "    axes[0].plot(\n",
    "        train_sizes, train_scores_mean, \"o-\", color=\"r\", label=\"Training score\"\n",
    "    )\n",
    "    axes[0].plot(\n",
    "        train_sizes, test_scores_mean, \"o-\", color=\"g\", label=\"Cross-validation score\"\n",
    "    )\n",
    "    axes[0].legend(loc=\"best\")\n",
    "\n",
    "    # Plot n_samples vs fit_times\n",
    "    axes[1].grid()\n",
    "    axes[1].plot(train_sizes, fit_times_mean, \"o-\")\n",
    "    axes[1].fill_between(\n",
    "        train_sizes,\n",
    "        fit_times_mean - fit_times_std,\n",
    "        fit_times_mean + fit_times_std,\n",
    "        alpha=0.1,\n",
    "    )\n",
    "    axes[1].set_xlabel(\"Training examples\")\n",
    "    axes[1].set_ylabel(\"fit_times\")\n",
    "    axes[1].set_title(\"Scalability of the model\")\n",
    "\n",
    "    # Plot fit_time vs score\n",
    "    fit_time_argsort = fit_times_mean.argsort()\n",
    "    fit_time_sorted = fit_times_mean[fit_time_argsort]\n",
    "    test_scores_mean_sorted = test_scores_mean[fit_time_argsort]\n",
    "    test_scores_std_sorted = test_scores_std[fit_time_argsort]\n",
    "    axes[2].grid()\n",
    "    axes[2].plot(fit_time_sorted, test_scores_mean_sorted, \"o-\")\n",
    "    axes[2].fill_between(\n",
    "        fit_time_sorted,\n",
    "        test_scores_mean_sorted - test_scores_std_sorted,\n",
    "        test_scores_mean_sorted + test_scores_std_sorted,\n",
    "        alpha=0.1,\n",
    "    )\n",
    "    axes[2].set_xlabel(\"fit_times\") \n",
    "    axes[2].set_ylabel(\"Score\")\n",
    "    axes[2].set_title(\"Performance of the model\")\n",
    "\n",
    "    return plt"
   ]
  },
  {
   "cell_type": "code",
   "execution_count": 9,
   "id": "81723140",
   "metadata": {
    "execution": {
     "iopub.execute_input": "2022-07-19T17:47:54.181792Z",
     "iopub.status.busy": "2022-07-19T17:47:54.180692Z",
     "iopub.status.idle": "2022-07-19T17:47:54.193471Z",
     "shell.execute_reply": "2022-07-19T17:47:54.192602Z"
    },
    "papermill": {
     "duration": 0.020182,
     "end_time": "2022-07-19T17:47:54.195813",
     "exception": false,
     "start_time": "2022-07-19T17:47:54.175631",
     "status": "completed"
    },
    "tags": []
   },
   "outputs": [],
   "source": [
    "def pooled_var(stds):\n",
    "    n = 5 # size of each group\n",
    "    return np.sqrt(sum((n-1)*(stds**2))/ len(stds)*(n-1))\n",
    "\n",
    "def plot_search_results(search):\n",
    "  df = pd.DataFrame(search.cv_results_)\n",
    "  results = ['mean_test_score',\n",
    "            'mean_train_score',\n",
    "            'std_test_score', \n",
    "            'std_train_score']\n",
    "\n",
    "  fig, axes = plt.subplots(1, len(param_grid), \n",
    "                          figsize = (7*len(param_grid), 5),\n",
    "                          sharey='row')\n",
    "  axes[0].set_ylabel(\"Score\", fontsize=25)\n",
    "\n",
    "\n",
    "  for idx, (param_name, param_range) in enumerate(param_grid.items()):\n",
    "      grouped_df = df.groupby(f'param_{param_name}')[results]\\\n",
    "          .agg({'mean_train_score': 'mean',\n",
    "                'mean_test_score': 'mean',\n",
    "                'std_train_score': pooled_var,\n",
    "                'std_test_score': pooled_var})\n",
    "\n",
    "      previous_group = df.groupby(f'param_{param_name}')[results]\n",
    "      axes[idx].set_xlabel(param_name, fontsize=30)\n",
    "      axes[idx].set_ylim(0.0, 1.1)\n",
    "      lw = 2\n",
    "      axes[idx].plot(param_range, grouped_df['mean_train_score'], label=\"Training score\",\n",
    "                  color=\"darkorange\", lw=lw)\n",
    "      axes[idx].fill_between(param_range,grouped_df['mean_train_score'] - grouped_df['std_train_score'],\n",
    "                      grouped_df['mean_train_score'] + grouped_df['std_train_score'], alpha=0.2,\n",
    "                      color=\"darkorange\", lw=lw)\n",
    "      axes[idx].plot(param_range, grouped_df['mean_test_score'], label=\"Cross-validation score\",\n",
    "                  color=\"navy\", lw=lw)\n",
    "      axes[idx].fill_between(param_range, grouped_df['mean_test_score'] - grouped_df['std_test_score'],\n",
    "                      grouped_df['mean_test_score'] + grouped_df['std_test_score'], alpha=0.2,\n",
    "                      color=\"navy\", lw=lw)\n",
    "\n",
    "  handles, labels = axes[0].get_legend_handles_labels()\n",
    "  fig.suptitle('Validation curves', fontsize=40)\n",
    "  fig.legend(handles, labels, loc=8, ncol=2, fontsize=20)\n",
    "\n",
    "  fig.subplots_adjust(bottom=0.25, top=0.85)  \n",
    "  plt.show()"
   ]
  },
  {
   "cell_type": "code",
   "execution_count": 10,
   "id": "a770eadc",
   "metadata": {
    "execution": {
     "iopub.execute_input": "2022-07-19T17:47:54.205824Z",
     "iopub.status.busy": "2022-07-19T17:47:54.204776Z",
     "iopub.status.idle": "2022-07-19T17:47:54.210601Z",
     "shell.execute_reply": "2022-07-19T17:47:54.209892Z"
    },
    "papermill": {
     "duration": 0.012932,
     "end_time": "2022-07-19T17:47:54.212655",
     "exception": false,
     "start_time": "2022-07-19T17:47:54.199723",
     "status": "completed"
    },
    "tags": []
   },
   "outputs": [],
   "source": [
    "def print_result_df(search):\n",
    "  keeping_columns = ['params', 'mean_train_score', 'std_train_score', 'mean_test_score', 'std_test_score', 'mean_fit_time', 'std_fit_time']\n",
    "  df = pd.DataFrame(search.cv_results_)\n",
    "  df = df[keeping_columns].sort_values(by='mean_test_score', ascending=False)\n",
    "  return df.iloc[:10, :]"
   ]
  },
  {
   "cell_type": "code",
   "execution_count": 11,
   "id": "32d69e46",
   "metadata": {
    "execution": {
     "iopub.execute_input": "2022-07-19T17:47:54.222839Z",
     "iopub.status.busy": "2022-07-19T17:47:54.222057Z",
     "iopub.status.idle": "2022-07-19T17:47:54.231982Z",
     "shell.execute_reply": "2022-07-19T17:47:54.231138Z"
    },
    "papermill": {
     "duration": 0.017777,
     "end_time": "2022-07-19T17:47:54.234328",
     "exception": false,
     "start_time": "2022-07-19T17:47:54.216551",
     "status": "completed"
    },
    "tags": []
   },
   "outputs": [],
   "source": [
    "def print_best_model_result(search, name):\n",
    "  print(\"Best parameter (CV score=):\" % search.best_score_)\n",
    "  best_model = search.best_estimator_\n",
    "  print(best_model)\n",
    "\n",
    "  y_pred = best_model.predict(X_test)\n",
    "\n",
    "  print(classification_report(y_test, y_pred))\n",
    "  print(confusion_matrix(y_test, y_pred))\n",
    "  \n",
    "  f_onehalf_score = fbeta_score(y_test, y_pred, beta=0.5)\n",
    "  print('f0.5_score=', f_onehalf_score)\n",
    "\n",
    "  try :\n",
    "    y_score = best_model.predict_proba(X_test)[:, 1]\n",
    "    # calculate precision and recall for each threshold\n",
    "    precision, recall, threshold = precision_recall_curve(y_test, y_score)\n",
    "    # calculate scores\n",
    "    pr_auc = auc(recall, precision)\n",
    "    print('pr_auc_score=', pr_auc)\n",
    "\n",
    "    # calculate the no skill line as the proportion of the positive class\n",
    "    no_skill = len(y_test[y_test==1]) / len(y_test)\n",
    "    # plot the no skill precision-recall curve\n",
    "    plt.figure(figsize=(10, 7))\n",
    "    plt.plot([0, 1], [no_skill, no_skill], linestyle='--', label='No Skill')\n",
    "    # plot the model precision-recall curve\n",
    "    plt.plot(recall, precision, marker='.', label=name)\n",
    "    plt.title(f'{name}(pr_auc={pr_auc})')\n",
    "    plt.xlabel('Recall')\n",
    "    plt.ylabel('Precision')\n",
    "    # show the legend\n",
    "    plt.legend()\n",
    "    # show the plot\n",
    "    plt.show()\n",
    "  except:\n",
    "    pass\n",
    "\n",
    "  plot_learning_curve(best_model, name, X_train, y_train, cv=cv, n_jobs=-1 )\n",
    "  plt.show()\n",
    "\n",
    "  return best_model"
   ]
  },
  {
   "cell_type": "code",
   "execution_count": 12,
   "id": "7b3da4ff",
   "metadata": {
    "execution": {
     "iopub.execute_input": "2022-07-19T17:47:54.244487Z",
     "iopub.status.busy": "2022-07-19T17:47:54.243800Z",
     "iopub.status.idle": "2022-07-19T17:47:54.248535Z",
     "shell.execute_reply": "2022-07-19T17:47:54.247819Z"
    },
    "papermill": {
     "duration": 0.012362,
     "end_time": "2022-07-19T17:47:54.250612",
     "exception": false,
     "start_time": "2022-07-19T17:47:54.238250",
     "status": "completed"
    },
    "tags": []
   },
   "outputs": [],
   "source": [
    "pipe = Pipeline(steps=[svm])"
   ]
  },
  {
   "cell_type": "code",
   "execution_count": 13,
   "id": "b2141236",
   "metadata": {
    "execution": {
     "iopub.execute_input": "2022-07-19T17:47:54.260618Z",
     "iopub.status.busy": "2022-07-19T17:47:54.259872Z",
     "iopub.status.idle": "2022-07-19T17:47:54.264394Z",
     "shell.execute_reply": "2022-07-19T17:47:54.263704Z"
    },
    "papermill": {
     "duration": 0.012026,
     "end_time": "2022-07-19T17:47:54.266603",
     "exception": false,
     "start_time": "2022-07-19T17:47:54.254577",
     "status": "completed"
    },
    "tags": []
   },
   "outputs": [],
   "source": [
    "param_grid = {}"
   ]
  },
  {
   "cell_type": "code",
   "execution_count": 14,
   "id": "82a56225",
   "metadata": {
    "execution": {
     "iopub.execute_input": "2022-07-19T17:47:54.276541Z",
     "iopub.status.busy": "2022-07-19T17:47:54.275815Z",
     "iopub.status.idle": "2022-07-19T17:47:54.281333Z",
     "shell.execute_reply": "2022-07-19T17:47:54.280077Z"
    },
    "papermill": {
     "duration": 0.013309,
     "end_time": "2022-07-19T17:47:54.283850",
     "exception": false,
     "start_time": "2022-07-19T17:47:54.270541",
     "status": "completed"
    },
    "tags": []
   },
   "outputs": [],
   "source": [
    "search = HalvingGridSearchCV(pipe, param_grid, scoring=f_onehalf_scorer, cv=cv, verbose=3, return_train_score=True)"
   ]
  },
  {
   "cell_type": "code",
   "execution_count": 15,
   "id": "7b8bf168",
   "metadata": {
    "execution": {
     "iopub.execute_input": "2022-07-19T17:47:54.294302Z",
     "iopub.status.busy": "2022-07-19T17:47:54.293539Z",
     "iopub.status.idle": "2022-07-19T19:56:19.183552Z",
     "shell.execute_reply": "2022-07-19T19:56:19.181130Z"
    },
    "papermill": {
     "duration": 7704.906226,
     "end_time": "2022-07-19T19:56:19.194230",
     "exception": false,
     "start_time": "2022-07-19T17:47:54.288004",
     "status": "completed"
    },
    "tags": []
   },
   "outputs": [
    {
     "name": "stdout",
     "output_type": "stream",
     "text": [
      "n_iterations: 1\n",
      "n_required_iterations: 1\n",
      "n_possible_iterations: 1\n",
      "min_resources_: 1074704\n",
      "max_resources_: 1074704\n",
      "aggressive_elimination: False\n",
      "factor: 3\n",
      "----------\n",
      "iter: 0\n",
      "n_candidates: 1\n",
      "n_resources: 1074704\n",
      "Fitting 10 folds for each of 1 candidates, totalling 10 fits\n"
     ]
    },
    {
     "name": "stderr",
     "output_type": "stream",
     "text": [
      "/opt/conda/lib/python3.7/site-packages/sklearn/svm/_base.py:289: ConvergenceWarning: Solver terminated early (max_iter=1500).  Consider pre-processing your data with StandardScaler or MinMaxScaler.\n",
      "  ConvergenceWarning,\n"
     ]
    },
    {
     "name": "stdout",
     "output_type": "stream",
     "text": [
      "[CV 1/10] END .............., score=(train=0.524, test=0.527) total time= 6.8min\n"
     ]
    },
    {
     "name": "stderr",
     "output_type": "stream",
     "text": [
      "/opt/conda/lib/python3.7/site-packages/sklearn/svm/_base.py:289: ConvergenceWarning: Solver terminated early (max_iter=1500).  Consider pre-processing your data with StandardScaler or MinMaxScaler.\n",
      "  ConvergenceWarning,\n"
     ]
    },
    {
     "name": "stdout",
     "output_type": "stream",
     "text": [
      "[CV 2/10] END .............., score=(train=0.826, test=0.825) total time= 6.9min\n"
     ]
    },
    {
     "name": "stderr",
     "output_type": "stream",
     "text": [
      "/opt/conda/lib/python3.7/site-packages/sklearn/svm/_base.py:289: ConvergenceWarning: Solver terminated early (max_iter=1500).  Consider pre-processing your data with StandardScaler or MinMaxScaler.\n",
      "  ConvergenceWarning,\n"
     ]
    },
    {
     "name": "stdout",
     "output_type": "stream",
     "text": [
      "[CV 3/10] END .............., score=(train=0.822, test=0.822) total time= 6.8min\n"
     ]
    },
    {
     "name": "stderr",
     "output_type": "stream",
     "text": [
      "/opt/conda/lib/python3.7/site-packages/sklearn/svm/_base.py:289: ConvergenceWarning: Solver terminated early (max_iter=1500).  Consider pre-processing your data with StandardScaler or MinMaxScaler.\n",
      "  ConvergenceWarning,\n"
     ]
    },
    {
     "name": "stdout",
     "output_type": "stream",
     "text": [
      "[CV 4/10] END .............., score=(train=0.828, test=0.828) total time= 6.8min\n"
     ]
    },
    {
     "name": "stderr",
     "output_type": "stream",
     "text": [
      "/opt/conda/lib/python3.7/site-packages/sklearn/svm/_base.py:289: ConvergenceWarning: Solver terminated early (max_iter=1500).  Consider pre-processing your data with StandardScaler or MinMaxScaler.\n",
      "  ConvergenceWarning,\n"
     ]
    },
    {
     "name": "stdout",
     "output_type": "stream",
     "text": [
      "[CV 5/10] END .............., score=(train=0.829, test=0.829) total time= 6.8min\n"
     ]
    },
    {
     "name": "stderr",
     "output_type": "stream",
     "text": [
      "/opt/conda/lib/python3.7/site-packages/sklearn/svm/_base.py:289: ConvergenceWarning: Solver terminated early (max_iter=1500).  Consider pre-processing your data with StandardScaler or MinMaxScaler.\n",
      "  ConvergenceWarning,\n"
     ]
    },
    {
     "name": "stdout",
     "output_type": "stream",
     "text": [
      "[CV 6/10] END .............., score=(train=0.825, test=0.825) total time= 6.9min\n"
     ]
    },
    {
     "name": "stderr",
     "output_type": "stream",
     "text": [
      "/opt/conda/lib/python3.7/site-packages/sklearn/svm/_base.py:289: ConvergenceWarning: Solver terminated early (max_iter=1500).  Consider pre-processing your data with StandardScaler or MinMaxScaler.\n",
      "  ConvergenceWarning,\n"
     ]
    },
    {
     "name": "stdout",
     "output_type": "stream",
     "text": [
      "[CV 7/10] END .............., score=(train=0.820, test=0.820) total time= 6.9min\n"
     ]
    },
    {
     "name": "stderr",
     "output_type": "stream",
     "text": [
      "/opt/conda/lib/python3.7/site-packages/sklearn/svm/_base.py:289: ConvergenceWarning: Solver terminated early (max_iter=1500).  Consider pre-processing your data with StandardScaler or MinMaxScaler.\n",
      "  ConvergenceWarning,\n"
     ]
    },
    {
     "name": "stdout",
     "output_type": "stream",
     "text": [
      "[CV 8/10] END .............., score=(train=0.828, test=0.828) total time= 6.8min\n"
     ]
    },
    {
     "name": "stderr",
     "output_type": "stream",
     "text": [
      "/opt/conda/lib/python3.7/site-packages/sklearn/svm/_base.py:289: ConvergenceWarning: Solver terminated early (max_iter=1500).  Consider pre-processing your data with StandardScaler or MinMaxScaler.\n",
      "  ConvergenceWarning,\n"
     ]
    },
    {
     "name": "stdout",
     "output_type": "stream",
     "text": [
      "[CV 9/10] END .............., score=(train=0.812, test=0.812) total time= 6.9min\n"
     ]
    },
    {
     "name": "stderr",
     "output_type": "stream",
     "text": [
      "/opt/conda/lib/python3.7/site-packages/sklearn/svm/_base.py:289: ConvergenceWarning: Solver terminated early (max_iter=1500).  Consider pre-processing your data with StandardScaler or MinMaxScaler.\n",
      "  ConvergenceWarning,\n"
     ]
    },
    {
     "name": "stdout",
     "output_type": "stream",
     "text": [
      "[CV 10/10] END ............., score=(train=0.823, test=0.823) total time= 6.9min\n"
     ]
    },
    {
     "name": "stderr",
     "output_type": "stream",
     "text": [
      "/opt/conda/lib/python3.7/site-packages/sklearn/svm/_base.py:289: ConvergenceWarning: Solver terminated early (max_iter=1500).  Consider pre-processing your data with StandardScaler or MinMaxScaler.\n",
      "  ConvergenceWarning,\n"
     ]
    },
    {
     "data": {
      "text/plain": [
       "HalvingGridSearchCV(cv=RepeatedStratifiedKFold(n_repeats=2, n_splits=5, random_state=42),\n",
       "                    estimator=Pipeline(steps=[('svm',\n",
       "                                               SVC(cache_size=2000,\n",
       "                                                   max_iter=1500,\n",
       "                                                   random_state=42))]),\n",
       "                    param_grid={}, scoring=make_scorer(fbeta_score, beta=0.5),\n",
       "                    verbose=3)"
      ]
     },
     "execution_count": 15,
     "metadata": {},
     "output_type": "execute_result"
    }
   ],
   "source": [
    "search.fit(X_train, y_train)"
   ]
  },
  {
   "cell_type": "code",
   "execution_count": 16,
   "id": "d8d893db",
   "metadata": {
    "execution": {
     "iopub.execute_input": "2022-07-19T19:56:19.208757Z",
     "iopub.status.busy": "2022-07-19T19:56:19.208235Z",
     "iopub.status.idle": "2022-07-19T19:56:19.272257Z",
     "shell.execute_reply": "2022-07-19T19:56:19.271088Z"
    },
    "papermill": {
     "duration": 0.075293,
     "end_time": "2022-07-19T19:56:19.274998",
     "exception": false,
     "start_time": "2022-07-19T19:56:19.199705",
     "status": "completed"
    },
    "tags": []
   },
   "outputs": [
    {
     "data": {
      "text/html": [
       "<div>\n",
       "<style scoped>\n",
       "    .dataframe tbody tr th:only-of-type {\n",
       "        vertical-align: middle;\n",
       "    }\n",
       "\n",
       "    .dataframe tbody tr th {\n",
       "        vertical-align: top;\n",
       "    }\n",
       "\n",
       "    .dataframe thead th {\n",
       "        text-align: right;\n",
       "    }\n",
       "</style>\n",
       "<table border=\"1\" class=\"dataframe\">\n",
       "  <thead>\n",
       "    <tr style=\"text-align: right;\">\n",
       "      <th></th>\n",
       "      <th>params</th>\n",
       "      <th>mean_train_score</th>\n",
       "      <th>std_train_score</th>\n",
       "      <th>mean_test_score</th>\n",
       "      <th>std_test_score</th>\n",
       "      <th>mean_fit_time</th>\n",
       "      <th>std_fit_time</th>\n",
       "    </tr>\n",
       "  </thead>\n",
       "  <tbody>\n",
       "    <tr>\n",
       "      <th>0</th>\n",
       "      <td>{}</td>\n",
       "      <td>0.793601</td>\n",
       "      <td>0.089995</td>\n",
       "      <td>0.793832</td>\n",
       "      <td>0.089089</td>\n",
       "      <td>331.514857</td>\n",
       "      <td>2.654696</td>\n",
       "    </tr>\n",
       "  </tbody>\n",
       "</table>\n",
       "</div>"
      ],
      "text/plain": [
       "  params  mean_train_score  std_train_score  mean_test_score  std_test_score  \\\n",
       "0     {}          0.793601         0.089995         0.793832        0.089089   \n",
       "\n",
       "   mean_fit_time  std_fit_time  \n",
       "0     331.514857      2.654696  "
      ]
     },
     "execution_count": 16,
     "metadata": {},
     "output_type": "execute_result"
    }
   ],
   "source": [
    "print_result_df(search)"
   ]
  },
  {
   "cell_type": "code",
   "execution_count": 17,
   "id": "58e4ae89",
   "metadata": {
    "execution": {
     "iopub.execute_input": "2022-07-19T19:56:19.287332Z",
     "iopub.status.busy": "2022-07-19T19:56:19.286979Z",
     "iopub.status.idle": "2022-07-19T22:18:35.692426Z",
     "shell.execute_reply": "2022-07-19T22:18:35.690184Z"
    },
    "papermill": {
     "duration": 8536.422936,
     "end_time": "2022-07-19T22:18:35.703300",
     "exception": false,
     "start_time": "2022-07-19T19:56:19.280364",
     "status": "completed"
    },
    "tags": []
   },
   "outputs": [
    {
     "name": "stdout",
     "output_type": "stream",
     "text": [
      "Best parameter (CV score=):\n",
      "Pipeline(steps=[('svm', SVC(cache_size=2000, max_iter=1500, random_state=42))])\n",
      "              precision    recall  f1-score   support\n",
      "\n",
      "           0       0.22      0.11      0.15     53638\n",
      "           1       0.80      0.91      0.85    215038\n",
      "\n",
      "    accuracy                           0.75    268676\n",
      "   macro avg       0.51      0.51      0.50    268676\n",
      "weighted avg       0.69      0.75      0.71    268676\n",
      "\n",
      "[[  5806  47832]\n",
      " [ 20321 194717]]\n",
      "f0.5_score= 0.8214285111631964\n"
     ]
    },
    {
     "name": "stderr",
     "output_type": "stream",
     "text": [
      "/opt/conda/lib/python3.7/site-packages/sklearn/svm/_base.py:289: ConvergenceWarning: Solver terminated early (max_iter=1500).  Consider pre-processing your data with StandardScaler or MinMaxScaler.\n",
      "  ConvergenceWarning,\n",
      "/opt/conda/lib/python3.7/site-packages/sklearn/svm/_base.py:289: ConvergenceWarning: Solver terminated early (max_iter=1500).  Consider pre-processing your data with StandardScaler or MinMaxScaler.\n",
      "  ConvergenceWarning,\n",
      "/opt/conda/lib/python3.7/site-packages/joblib/externals/loky/process_executor.py:705: UserWarning: A worker stopped while some jobs were given to the executor. This can be caused by a too short worker timeout or by a memory leak.\n",
      "  \"timeout or by a memory leak.\", UserWarning\n",
      "/opt/conda/lib/python3.7/site-packages/sklearn/svm/_base.py:289: ConvergenceWarning: Solver terminated early (max_iter=1500).  Consider pre-processing your data with StandardScaler or MinMaxScaler.\n",
      "  ConvergenceWarning,\n",
      "/opt/conda/lib/python3.7/site-packages/sklearn/svm/_base.py:289: ConvergenceWarning: Solver terminated early (max_iter=1500).  Consider pre-processing your data with StandardScaler or MinMaxScaler.\n",
      "  ConvergenceWarning,\n",
      "/opt/conda/lib/python3.7/site-packages/sklearn/svm/_base.py:289: ConvergenceWarning: Solver terminated early (max_iter=1500).  Consider pre-processing your data with StandardScaler or MinMaxScaler.\n",
      "  ConvergenceWarning,\n",
      "/opt/conda/lib/python3.7/site-packages/sklearn/svm/_base.py:289: ConvergenceWarning: Solver terminated early (max_iter=1500).  Consider pre-processing your data with StandardScaler or MinMaxScaler.\n",
      "  ConvergenceWarning,\n",
      "/opt/conda/lib/python3.7/site-packages/sklearn/svm/_base.py:289: ConvergenceWarning: Solver terminated early (max_iter=1500).  Consider pre-processing your data with StandardScaler or MinMaxScaler.\n",
      "  ConvergenceWarning,\n",
      "/opt/conda/lib/python3.7/site-packages/sklearn/svm/_base.py:289: ConvergenceWarning: Solver terminated early (max_iter=1500).  Consider pre-processing your data with StandardScaler or MinMaxScaler.\n",
      "  ConvergenceWarning,\n",
      "/opt/conda/lib/python3.7/site-packages/sklearn/svm/_base.py:289: ConvergenceWarning: Solver terminated early (max_iter=1500).  Consider pre-processing your data with StandardScaler or MinMaxScaler.\n",
      "  ConvergenceWarning,\n",
      "/opt/conda/lib/python3.7/site-packages/sklearn/svm/_base.py:289: ConvergenceWarning: Solver terminated early (max_iter=1500).  Consider pre-processing your data with StandardScaler or MinMaxScaler.\n",
      "  ConvergenceWarning,\n",
      "/opt/conda/lib/python3.7/site-packages/sklearn/svm/_base.py:289: ConvergenceWarning: Solver terminated early (max_iter=1500).  Consider pre-processing your data with StandardScaler or MinMaxScaler.\n",
      "  ConvergenceWarning,\n",
      "/opt/conda/lib/python3.7/site-packages/sklearn/svm/_base.py:289: ConvergenceWarning: Solver terminated early (max_iter=1500).  Consider pre-processing your data with StandardScaler or MinMaxScaler.\n",
      "  ConvergenceWarning,\n",
      "/opt/conda/lib/python3.7/site-packages/sklearn/svm/_base.py:289: ConvergenceWarning: Solver terminated early (max_iter=1500).  Consider pre-processing your data with StandardScaler or MinMaxScaler.\n",
      "  ConvergenceWarning,\n",
      "/opt/conda/lib/python3.7/site-packages/sklearn/svm/_base.py:289: ConvergenceWarning: Solver terminated early (max_iter=1500).  Consider pre-processing your data with StandardScaler or MinMaxScaler.\n",
      "  ConvergenceWarning,\n",
      "/opt/conda/lib/python3.7/site-packages/sklearn/svm/_base.py:289: ConvergenceWarning: Solver terminated early (max_iter=1500).  Consider pre-processing your data with StandardScaler or MinMaxScaler.\n",
      "  ConvergenceWarning,\n",
      "/opt/conda/lib/python3.7/site-packages/sklearn/svm/_base.py:289: ConvergenceWarning: Solver terminated early (max_iter=1500).  Consider pre-processing your data with StandardScaler or MinMaxScaler.\n",
      "  ConvergenceWarning,\n",
      "/opt/conda/lib/python3.7/site-packages/sklearn/svm/_base.py:289: ConvergenceWarning: Solver terminated early (max_iter=1500).  Consider pre-processing your data with StandardScaler or MinMaxScaler.\n",
      "  ConvergenceWarning,\n",
      "/opt/conda/lib/python3.7/site-packages/sklearn/svm/_base.py:289: ConvergenceWarning: Solver terminated early (max_iter=1500).  Consider pre-processing your data with StandardScaler or MinMaxScaler.\n",
      "  ConvergenceWarning,\n",
      "/opt/conda/lib/python3.7/site-packages/sklearn/svm/_base.py:289: ConvergenceWarning: Solver terminated early (max_iter=1500).  Consider pre-processing your data with StandardScaler or MinMaxScaler.\n",
      "  ConvergenceWarning,\n",
      "/opt/conda/lib/python3.7/site-packages/sklearn/svm/_base.py:289: ConvergenceWarning: Solver terminated early (max_iter=1500).  Consider pre-processing your data with StandardScaler or MinMaxScaler.\n",
      "  ConvergenceWarning,\n",
      "/opt/conda/lib/python3.7/site-packages/sklearn/svm/_base.py:289: ConvergenceWarning: Solver terminated early (max_iter=1500).  Consider pre-processing your data with StandardScaler or MinMaxScaler.\n",
      "  ConvergenceWarning,\n",
      "/opt/conda/lib/python3.7/site-packages/sklearn/svm/_base.py:289: ConvergenceWarning: Solver terminated early (max_iter=1500).  Consider pre-processing your data with StandardScaler or MinMaxScaler.\n",
      "  ConvergenceWarning,\n",
      "/opt/conda/lib/python3.7/site-packages/sklearn/svm/_base.py:289: ConvergenceWarning: Solver terminated early (max_iter=1500).  Consider pre-processing your data with StandardScaler or MinMaxScaler.\n",
      "  ConvergenceWarning,\n",
      "/opt/conda/lib/python3.7/site-packages/sklearn/svm/_base.py:289: ConvergenceWarning: Solver terminated early (max_iter=1500).  Consider pre-processing your data with StandardScaler or MinMaxScaler.\n",
      "  ConvergenceWarning,\n",
      "/opt/conda/lib/python3.7/site-packages/sklearn/svm/_base.py:289: ConvergenceWarning: Solver terminated early (max_iter=1500).  Consider pre-processing your data with StandardScaler or MinMaxScaler.\n",
      "  ConvergenceWarning,\n",
      "/opt/conda/lib/python3.7/site-packages/sklearn/svm/_base.py:289: ConvergenceWarning: Solver terminated early (max_iter=1500).  Consider pre-processing your data with StandardScaler or MinMaxScaler.\n",
      "  ConvergenceWarning,\n",
      "/opt/conda/lib/python3.7/site-packages/sklearn/svm/_base.py:289: ConvergenceWarning: Solver terminated early (max_iter=1500).  Consider pre-processing your data with StandardScaler or MinMaxScaler.\n",
      "  ConvergenceWarning,\n",
      "/opt/conda/lib/python3.7/site-packages/sklearn/svm/_base.py:289: ConvergenceWarning: Solver terminated early (max_iter=1500).  Consider pre-processing your data with StandardScaler or MinMaxScaler.\n",
      "  ConvergenceWarning,\n",
      "/opt/conda/lib/python3.7/site-packages/sklearn/svm/_base.py:289: ConvergenceWarning: Solver terminated early (max_iter=1500).  Consider pre-processing your data with StandardScaler or MinMaxScaler.\n",
      "  ConvergenceWarning,\n",
      "/opt/conda/lib/python3.7/site-packages/sklearn/svm/_base.py:289: ConvergenceWarning: Solver terminated early (max_iter=1500).  Consider pre-processing your data with StandardScaler or MinMaxScaler.\n",
      "  ConvergenceWarning,\n",
      "/opt/conda/lib/python3.7/site-packages/sklearn/svm/_base.py:289: ConvergenceWarning: Solver terminated early (max_iter=1500).  Consider pre-processing your data with StandardScaler or MinMaxScaler.\n",
      "  ConvergenceWarning,\n",
      "/opt/conda/lib/python3.7/site-packages/sklearn/svm/_base.py:289: ConvergenceWarning: Solver terminated early (max_iter=1500).  Consider pre-processing your data with StandardScaler or MinMaxScaler.\n",
      "  ConvergenceWarning,\n",
      "/opt/conda/lib/python3.7/site-packages/sklearn/svm/_base.py:289: ConvergenceWarning: Solver terminated early (max_iter=1500).  Consider pre-processing your data with StandardScaler or MinMaxScaler.\n",
      "  ConvergenceWarning,\n",
      "/opt/conda/lib/python3.7/site-packages/sklearn/svm/_base.py:289: ConvergenceWarning: Solver terminated early (max_iter=1500).  Consider pre-processing your data with StandardScaler or MinMaxScaler.\n",
      "  ConvergenceWarning,\n",
      "/opt/conda/lib/python3.7/site-packages/sklearn/svm/_base.py:289: ConvergenceWarning: Solver terminated early (max_iter=1500).  Consider pre-processing your data with StandardScaler or MinMaxScaler.\n",
      "  ConvergenceWarning,\n",
      "/opt/conda/lib/python3.7/site-packages/sklearn/svm/_base.py:289: ConvergenceWarning: Solver terminated early (max_iter=1500).  Consider pre-processing your data with StandardScaler or MinMaxScaler.\n",
      "  ConvergenceWarning,\n",
      "/opt/conda/lib/python3.7/site-packages/sklearn/svm/_base.py:289: ConvergenceWarning: Solver terminated early (max_iter=1500).  Consider pre-processing your data with StandardScaler or MinMaxScaler.\n",
      "  ConvergenceWarning,\n",
      "/opt/conda/lib/python3.7/site-packages/sklearn/svm/_base.py:289: ConvergenceWarning: Solver terminated early (max_iter=1500).  Consider pre-processing your data with StandardScaler or MinMaxScaler.\n",
      "  ConvergenceWarning,\n",
      "/opt/conda/lib/python3.7/site-packages/sklearn/svm/_base.py:289: ConvergenceWarning: Solver terminated early (max_iter=1500).  Consider pre-processing your data with StandardScaler or MinMaxScaler.\n",
      "  ConvergenceWarning,\n",
      "/opt/conda/lib/python3.7/site-packages/sklearn/svm/_base.py:289: ConvergenceWarning: Solver terminated early (max_iter=1500).  Consider pre-processing your data with StandardScaler or MinMaxScaler.\n",
      "  ConvergenceWarning,\n"
     ]
    },
    {
     "data": {
      "image/png": "[encoded data removed]",
      "text/plain": [
       "<Figure size 1080x1080 with 3 Axes>"
      ]
     },
     "metadata": {
      "needs_background": "light"
     },
     "output_type": "display_data"
    },
    {
     "data": {
      "text/plain": [
       "Pipeline(steps=[('svm', SVC(cache_size=2000, max_iter=1500, random_state=42))])"
      ]
     },
     "execution_count": 17,
     "metadata": {},
     "output_type": "execute_result"
    }
   ],
   "source": [
    "print_best_model_result(search, 'SVM')"
   ]
  }
 ],
 "metadata": {
  "kernelspec": {
   "display_name": "Python 3",
   "language": "python",
   "name": "python3"
  },
  "language_info": {
   "codemirror_mode": {
    "name": "ipython",
    "version": 3
   },
   "file_extension": ".py",
   "mimetype": "text/x-python",
   "name": "python",
   "nbconvert_exporter": "python",
   "pygments_lexer": "ipython3",
   "version": "3.7.12"
  },
  "papermill": {
   "default_parameters": {},
   "duration": 16268.626875,
   "end_time": "2022-07-19T22:18:38.477248",
   "environment_variables": {},
   "exception": null,
   "input_path": "__notebook__.ipynb",
   "output_path": "__notebook__.ipynb",
   "parameters": {},
   "start_time": "2022-07-19T17:47:29.850373",
   "version": "2.3.4"
  }
 },
 "nbformat": 4,
 "nbformat_minor": 5
}
