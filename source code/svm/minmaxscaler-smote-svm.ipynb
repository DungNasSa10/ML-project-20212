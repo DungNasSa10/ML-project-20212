{
 "cells": [
  {
   "cell_type": "code",
   "execution_count": 1,
   "id": "0312ba06",
   "metadata": {
    "execution": {
     "iopub.execute_input": "2022-07-19T18:01:56.178442Z",
     "iopub.status.busy": "2022-07-19T18:01:56.177817Z",
     "iopub.status.idle": "2022-07-19T18:01:58.911510Z",
     "shell.execute_reply": "2022-07-19T18:01:58.910226Z"
    },
    "papermill": {
     "duration": 2.746186,
     "end_time": "2022-07-19T18:01:58.914476",
     "exception": false,
     "start_time": "2022-07-19T18:01:56.168290",
     "status": "completed"
    },
    "tags": []
   },
   "outputs": [
    {
     "data": {
      "text/html": [
       "<style type='text/css'>\n",
       ".datatable table.frame { margin-bottom: 0; }\n",
       ".datatable table.frame thead { border-bottom: none; }\n",
       ".datatable table.frame tr.coltypes td {  color: #FFFFFF;  line-height: 6px;  padding: 0 0.5em;}\n",
       ".datatable .bool    { background: #DDDD99; }\n",
       ".datatable .object  { background: #565656; }\n",
       ".datatable .int     { background: #5D9E5D; }\n",
       ".datatable .float   { background: #4040CC; }\n",
       ".datatable .str     { background: #CC4040; }\n",
       ".datatable .time    { background: #40CC40; }\n",
       ".datatable .row_index {  background: var(--jp-border-color3);  border-right: 1px solid var(--jp-border-color0);  color: var(--jp-ui-font-color3);  font-size: 9px;}\n",
       ".datatable .frame tbody td { text-align: left; }\n",
       ".datatable .frame tr.coltypes .row_index {  background: var(--jp-border-color0);}\n",
       ".datatable th:nth-child(2) { padding-left: 12px; }\n",
       ".datatable .hellipsis {  color: var(--jp-cell-editor-border-color);}\n",
       ".datatable .vellipsis {  background: var(--jp-layout-color0);  color: var(--jp-cell-editor-border-color);}\n",
       ".datatable .na {  color: var(--jp-cell-editor-border-color);  font-size: 80%;}\n",
       ".datatable .sp {  opacity: 0.25;}\n",
       ".datatable .footer { font-size: 9px; }\n",
       ".datatable .frame_dimensions {  background: var(--jp-border-color3);  border-top: 1px solid var(--jp-border-color0);  color: var(--jp-ui-font-color3);  display: inline-block;  opacity: 0.6;  padding: 1px 10px 1px 5px;}\n",
       "</style>\n"
      ],
      "text/plain": [
       "<IPython.core.display.HTML object>"
      ]
     },
     "metadata": {},
     "output_type": "display_data"
    }
   ],
   "source": [
    "import pandas as pd\n",
    "import numpy as np\n",
    "import matplotlib.pyplot as plt\n",
    "import seaborn as sns\n",
    "from imblearn.pipeline import Pipeline\n",
    "\n",
    "from sklearn.preprocessing import MinMaxScaler\n",
    "\n",
    "from imblearn.over_sampling import SMOTE, BorderlineSMOTE, SVMSMOTE, ADASYN\n",
    "\n",
    "from sklearn.linear_model import LogisticRegression, Perceptron\n",
    "from sklearn.neighbors import KNeighborsClassifier\n",
    "from sklearn.svm import SVC\n",
    "from sklearn.tree import DecisionTreeClassifier\n",
    "from sklearn.ensemble import RandomForestClassifier\n",
    "from lightgbm import LGBMClassifier\n",
    "from xgboost import XGBClassifier\n",
    "\n",
    "from sklearn.experimental import enable_halving_search_cv\n",
    "from sklearn.model_selection import GridSearchCV, HalvingGridSearchCV, train_test_split, RepeatedStratifiedKFold, cross_val_score, learning_curve\n",
    "from sklearn.metrics import classification_report, fbeta_score, confusion_matrix, precision_recall_curve, auc, make_scorer"
   ]
  },
  {
   "cell_type": "code",
   "execution_count": 2,
   "id": "3fa8acf0",
   "metadata": {
    "execution": {
     "iopub.execute_input": "2022-07-19T18:01:58.929346Z",
     "iopub.status.busy": "2022-07-19T18:01:58.928966Z",
     "iopub.status.idle": "2022-07-19T18:02:10.627665Z",
     "shell.execute_reply": "2022-07-19T18:02:10.626746Z"
    },
    "papermill": {
     "duration": 11.709366,
     "end_time": "2022-07-19T18:02:10.630345",
     "exception": false,
     "start_time": "2022-07-19T18:01:58.920979",
     "status": "completed"
    },
    "tags": []
   },
   "outputs": [],
   "source": [
    "accepted_loans = pd.read_csv('../input/elitedata/elite.csv')"
   ]
  },
  {
   "cell_type": "code",
   "execution_count": 3,
   "id": "fdfd9d4c",
   "metadata": {
    "execution": {
     "iopub.execute_input": "2022-07-19T18:02:10.644545Z",
     "iopub.status.busy": "2022-07-19T18:02:10.644172Z",
     "iopub.status.idle": "2022-07-19T18:02:11.175627Z",
     "shell.execute_reply": "2022-07-19T18:02:11.174435Z"
    },
    "papermill": {
     "duration": 0.541635,
     "end_time": "2022-07-19T18:02:11.178337",
     "exception": false,
     "start_time": "2022-07-19T18:02:10.636702",
     "status": "completed"
    },
    "tags": []
   },
   "outputs": [],
   "source": [
    "X = accepted_loans.loc[:, accepted_loans.columns != 'loan_paid'].values\n",
    "y = accepted_loans['loan_paid'].values"
   ]
  },
  {
   "cell_type": "code",
   "execution_count": 4,
   "id": "cc711c76",
   "metadata": {
    "execution": {
     "iopub.execute_input": "2022-07-19T18:02:11.192652Z",
     "iopub.status.busy": "2022-07-19T18:02:11.192295Z",
     "iopub.status.idle": "2022-07-19T18:02:13.225113Z",
     "shell.execute_reply": "2022-07-19T18:02:13.223889Z"
    },
    "papermill": {
     "duration": 2.043098,
     "end_time": "2022-07-19T18:02:13.227817",
     "exception": false,
     "start_time": "2022-07-19T18:02:11.184719",
     "status": "completed"
    },
    "tags": []
   },
   "outputs": [],
   "source": [
    "X_train, X_test, y_train, y_test = train_test_split(X, y, test_size=0.2, random_state=42, stratify=y)"
   ]
  },
  {
   "cell_type": "code",
   "execution_count": 5,
   "id": "7b282f2e",
   "metadata": {
    "execution": {
     "iopub.execute_input": "2022-07-19T18:02:13.242176Z",
     "iopub.status.busy": "2022-07-19T18:02:13.241767Z",
     "iopub.status.idle": "2022-07-19T18:02:13.247715Z",
     "shell.execute_reply": "2022-07-19T18:02:13.246571Z"
    },
    "papermill": {
     "duration": 0.016782,
     "end_time": "2022-07-19T18:02:13.250858",
     "exception": false,
     "start_time": "2022-07-19T18:02:13.234076",
     "status": "completed"
    },
    "tags": []
   },
   "outputs": [],
   "source": [
    "cv = RepeatedStratifiedKFold(n_splits=5, n_repeats=2, random_state=42)"
   ]
  },
  {
   "cell_type": "code",
   "execution_count": 6,
   "id": "c0fa829e",
   "metadata": {
    "execution": {
     "iopub.execute_input": "2022-07-19T18:02:13.266911Z",
     "iopub.status.busy": "2022-07-19T18:02:13.266532Z",
     "iopub.status.idle": "2022-07-19T18:02:13.272294Z",
     "shell.execute_reply": "2022-07-19T18:02:13.271164Z"
    },
    "papermill": {
     "duration": 0.016846,
     "end_time": "2022-07-19T18:02:13.274696",
     "exception": false,
     "start_time": "2022-07-19T18:02:13.257850",
     "status": "completed"
    },
    "tags": []
   },
   "outputs": [],
   "source": [
    "minmax_scaler = ('minmax', MinMaxScaler())"
   ]
  },
  {
   "cell_type": "code",
   "execution_count": 7,
   "id": "d2e5e7e8",
   "metadata": {
    "execution": {
     "iopub.execute_input": "2022-07-19T18:02:13.291309Z",
     "iopub.status.busy": "2022-07-19T18:02:13.290973Z",
     "iopub.status.idle": "2022-07-19T18:02:13.295220Z",
     "shell.execute_reply": "2022-07-19T18:02:13.294469Z"
    },
    "papermill": {
     "duration": 0.015528,
     "end_time": "2022-07-19T18:02:13.297725",
     "exception": false,
     "start_time": "2022-07-19T18:02:13.282197",
     "status": "completed"
    },
    "tags": []
   },
   "outputs": [],
   "source": [
    "smote = ('smote', SMOTE(sampling_strategy=1.0, random_state=42))\n",
    "smote_param_grid = {\n",
    "    'smote__sampling_strategy': [0.8, 0.9, 1.0]\n",
    "    #'smote__k_neighbors': [3, 5, 10, 15]\n",
    "}"
   ]
  },
  {
   "cell_type": "code",
   "execution_count": 8,
   "id": "c39ff910",
   "metadata": {
    "execution": {
     "iopub.execute_input": "2022-07-19T18:02:13.313425Z",
     "iopub.status.busy": "2022-07-19T18:02:13.313077Z",
     "iopub.status.idle": "2022-07-19T18:02:13.318494Z",
     "shell.execute_reply": "2022-07-19T18:02:13.317445Z"
    },
    "papermill": {
     "duration": 0.016227,
     "end_time": "2022-07-19T18:02:13.320898",
     "exception": false,
     "start_time": "2022-07-19T18:02:13.304671",
     "status": "completed"
    },
    "tags": []
   },
   "outputs": [],
   "source": [
    "svm = ('svm', SVC(random_state=42, cache_size=2000, max_iter=1500))\n",
    "svm_param_grid = {\n",
    "    'svm__C': [100, 10, 1.0, 0.1, 0.001],\n",
    "    'svm__kernel': ['linear', 'poly', 'rbf', 'sigmoid']\n",
    "}"
   ]
  },
  {
   "cell_type": "code",
   "execution_count": 9,
   "id": "f283cfe3",
   "metadata": {
    "execution": {
     "iopub.execute_input": "2022-07-19T18:02:13.336515Z",
     "iopub.status.busy": "2022-07-19T18:02:13.336162Z",
     "iopub.status.idle": "2022-07-19T18:02:13.340300Z",
     "shell.execute_reply": "2022-07-19T18:02:13.339418Z"
    },
    "papermill": {
     "duration": 0.014393,
     "end_time": "2022-07-19T18:02:13.342368",
     "exception": false,
     "start_time": "2022-07-19T18:02:13.327975",
     "status": "completed"
    },
    "tags": []
   },
   "outputs": [],
   "source": [
    "# Metric\n",
    "f_onehalf_scorer = make_scorer(fbeta_score, beta=0.5)"
   ]
  },
  {
   "cell_type": "code",
   "execution_count": 10,
   "id": "1ced56ac",
   "metadata": {
    "execution": {
     "iopub.execute_input": "2022-07-19T18:02:13.357960Z",
     "iopub.status.busy": "2022-07-19T18:02:13.357362Z",
     "iopub.status.idle": "2022-07-19T18:02:13.375369Z",
     "shell.execute_reply": "2022-07-19T18:02:13.374449Z"
    },
    "papermill": {
     "duration": 0.028818,
     "end_time": "2022-07-19T18:02:13.378002",
     "exception": false,
     "start_time": "2022-07-19T18:02:13.349184",
     "status": "completed"
    },
    "tags": []
   },
   "outputs": [],
   "source": [
    "def plot_learning_curve(\n",
    "    estimator,\n",
    "    title,\n",
    "    X,\n",
    "    y,\n",
    "    axes=None,\n",
    "    ylim=None,\n",
    "    cv=cv,\n",
    "    n_jobs=-1,\n",
    "    train_sizes=np.linspace(0.1, 1.0, 5),\n",
    "):\n",
    "    if axes is None:\n",
    "        _, axes = plt.subplots(3, 1, figsize=(15, 15))\n",
    "\n",
    "    axes[0].set_title(title)\n",
    "    if ylim is not None:\n",
    "        axes[0].set_ylim(*ylim)\n",
    "    axes[0].set_xlabel(\"Training examples\")\n",
    "    axes[0].set_ylabel(\"Score\")\n",
    "\n",
    "    train_sizes, train_scores, test_scores, fit_times, _ = learning_curve(\n",
    "        estimator,\n",
    "        X,\n",
    "        y,\n",
    "        cv=cv,\n",
    "        n_jobs=n_jobs,\n",
    "        train_sizes=train_sizes,\n",
    "        scoring=f_onehalf_scorer,\n",
    "        return_times=True,\n",
    "        random_state=42\n",
    "    )\n",
    "    train_scores_mean = np.mean(train_scores, axis=1)\n",
    "    train_scores_std = np.std(train_scores, axis=1)\n",
    "    test_scores_mean = np.mean(test_scores, axis=1)\n",
    "    test_scores_std = np.std(test_scores, axis=1)\n",
    "    fit_times_mean = np.mean(fit_times, axis=1)\n",
    "    fit_times_std = np.std(fit_times, axis=1)\n",
    "\n",
    "    # Plot learning curve\n",
    "    axes[0].grid()\n",
    "    axes[0].fill_between(\n",
    "        train_sizes,\n",
    "        train_scores_mean - train_scores_std,\n",
    "        train_scores_mean + train_scores_std,\n",
    "        alpha=0.1,\n",
    "        color=\"r\",\n",
    "    )\n",
    "    axes[0].fill_between(\n",
    "        train_sizes,\n",
    "        test_scores_mean - test_scores_std,\n",
    "        test_scores_mean + test_scores_std,\n",
    "        alpha=0.1,\n",
    "        color=\"g\",\n",
    "    )\n",
    "    axes[0].plot(\n",
    "        train_sizes, train_scores_mean, \"o-\", color=\"r\", label=\"Training score\"\n",
    "    )\n",
    "    axes[0].plot(\n",
    "        train_sizes, test_scores_mean, \"o-\", color=\"g\", label=\"Cross-validation score\"\n",
    "    )\n",
    "    axes[0].legend(loc=\"best\")\n",
    "\n",
    "    # Plot n_samples vs fit_times\n",
    "    axes[1].grid()\n",
    "    axes[1].plot(train_sizes, fit_times_mean, \"o-\")\n",
    "    axes[1].fill_between(\n",
    "        train_sizes,\n",
    "        fit_times_mean - fit_times_std,\n",
    "        fit_times_mean + fit_times_std,\n",
    "        alpha=0.1,\n",
    "    )\n",
    "    axes[1].set_xlabel(\"Training examples\")\n",
    "    axes[1].set_ylabel(\"fit_times\")\n",
    "    axes[1].set_title(\"Scalability of the model\")\n",
    "\n",
    "    # Plot fit_time vs score\n",
    "    fit_time_argsort = fit_times_mean.argsort()\n",
    "    fit_time_sorted = fit_times_mean[fit_time_argsort]\n",
    "    test_scores_mean_sorted = test_scores_mean[fit_time_argsort]\n",
    "    test_scores_std_sorted = test_scores_std[fit_time_argsort]\n",
    "    axes[2].grid()\n",
    "    axes[2].plot(fit_time_sorted, test_scores_mean_sorted, \"o-\")\n",
    "    axes[2].fill_between(\n",
    "        fit_time_sorted,\n",
    "        test_scores_mean_sorted - test_scores_std_sorted,\n",
    "        test_scores_mean_sorted + test_scores_std_sorted,\n",
    "        alpha=0.1,\n",
    "    )\n",
    "    axes[2].set_xlabel(\"fit_times\") \n",
    "    axes[2].set_ylabel(\"Score\")\n",
    "    axes[2].set_title(\"Performance of the model\")\n",
    "\n",
    "    return plt"
   ]
  },
  {
   "cell_type": "code",
   "execution_count": 11,
   "id": "ad4d56ba",
   "metadata": {
    "execution": {
     "iopub.execute_input": "2022-07-19T18:02:13.393997Z",
     "iopub.status.busy": "2022-07-19T18:02:13.393598Z",
     "iopub.status.idle": "2022-07-19T18:02:13.408645Z",
     "shell.execute_reply": "2022-07-19T18:02:13.407355Z"
    },
    "papermill": {
     "duration": 0.02637,
     "end_time": "2022-07-19T18:02:13.411397",
     "exception": false,
     "start_time": "2022-07-19T18:02:13.385027",
     "status": "completed"
    },
    "tags": []
   },
   "outputs": [],
   "source": [
    "def pooled_var(stds):\n",
    "    n = 5 # size of each group\n",
    "    return np.sqrt(sum((n-1)*(stds**2))/ len(stds)*(n-1))\n",
    "\n",
    "def plot_search_results(search):\n",
    "  df = pd.DataFrame(search.cv_results_)\n",
    "  results = ['mean_test_score',\n",
    "            'mean_train_score',\n",
    "            'std_test_score', \n",
    "            'std_train_score']\n",
    "\n",
    "  fig, axes = plt.subplots(1, len(param_grid), \n",
    "                          figsize = (7*len(param_grid), 5),\n",
    "                          sharey='row')\n",
    "  axes[0].set_ylabel(\"Score\", fontsize=25)\n",
    "\n",
    "\n",
    "  for idx, (param_name, param_range) in enumerate(param_grid.items()):\n",
    "      grouped_df = df.groupby(f'param_{param_name}')[results]\\\n",
    "          .agg({'mean_train_score': 'mean',\n",
    "                'mean_test_score': 'mean',\n",
    "                'std_train_score': pooled_var,\n",
    "                'std_test_score': pooled_var})\n",
    "\n",
    "      previous_group = df.groupby(f'param_{param_name}')[results]\n",
    "      axes[idx].set_xlabel(param_name, fontsize=30)\n",
    "      axes[idx].set_ylim(0.0, 1.1)\n",
    "      lw = 2\n",
    "      axes[idx].plot(param_range, grouped_df['mean_train_score'], label=\"Training score\",\n",
    "                  color=\"darkorange\", lw=lw)\n",
    "      axes[idx].fill_between(param_range,grouped_df['mean_train_score'] - grouped_df['std_train_score'],\n",
    "                      grouped_df['mean_train_score'] + grouped_df['std_train_score'], alpha=0.2,\n",
    "                      color=\"darkorange\", lw=lw)\n",
    "      axes[idx].plot(param_range, grouped_df['mean_test_score'], label=\"Cross-validation score\",\n",
    "                  color=\"navy\", lw=lw)\n",
    "      axes[idx].fill_between(param_range, grouped_df['mean_test_score'] - grouped_df['std_test_score'],\n",
    "                      grouped_df['mean_test_score'] + grouped_df['std_test_score'], alpha=0.2,\n",
    "                      color=\"navy\", lw=lw)\n",
    "\n",
    "  handles, labels = axes[0].get_legend_handles_labels()\n",
    "  fig.suptitle('Validation curves', fontsize=40)\n",
    "  fig.legend(handles, labels, loc=8, ncol=2, fontsize=20)\n",
    "\n",
    "  fig.subplots_adjust(bottom=0.25, top=0.85)  \n",
    "  plt.show()"
   ]
  },
  {
   "cell_type": "code",
   "execution_count": 12,
   "id": "80729fad",
   "metadata": {
    "execution": {
     "iopub.execute_input": "2022-07-19T18:02:13.426859Z",
     "iopub.status.busy": "2022-07-19T18:02:13.426491Z",
     "iopub.status.idle": "2022-07-19T18:02:13.431588Z",
     "shell.execute_reply": "2022-07-19T18:02:13.430890Z"
    },
    "papermill": {
     "duration": 0.015463,
     "end_time": "2022-07-19T18:02:13.433883",
     "exception": false,
     "start_time": "2022-07-19T18:02:13.418420",
     "status": "completed"
    },
    "tags": []
   },
   "outputs": [],
   "source": [
    "def print_result_df(search):\n",
    "  keeping_columns = ['params', 'mean_train_score', 'std_train_score', 'mean_test_score', 'std_test_score', 'mean_fit_time', 'std_fit_time']\n",
    "  df = pd.DataFrame(search.cv_results_)\n",
    "  df = df[keeping_columns].sort_values(by='mean_test_score', ascending=False)\n",
    "  return df.iloc[:10, :]"
   ]
  },
  {
   "cell_type": "code",
   "execution_count": 13,
   "id": "33efdab2",
   "metadata": {
    "execution": {
     "iopub.execute_input": "2022-07-19T18:02:13.449609Z",
     "iopub.status.busy": "2022-07-19T18:02:13.448973Z",
     "iopub.status.idle": "2022-07-19T18:02:13.459845Z",
     "shell.execute_reply": "2022-07-19T18:02:13.458880Z"
    },
    "papermill": {
     "duration": 0.021922,
     "end_time": "2022-07-19T18:02:13.462739",
     "exception": false,
     "start_time": "2022-07-19T18:02:13.440817",
     "status": "completed"
    },
    "tags": []
   },
   "outputs": [],
   "source": [
    "def print_best_model_result(search, name):\n",
    "  print(\"Best parameter (CV score=):\" % search.best_score_)\n",
    "  best_model = search.best_estimator_\n",
    "  print(best_model)\n",
    "\n",
    "  y_pred = best_model.predict(X_test)\n",
    "\n",
    "  print(classification_report(y_test, y_pred))\n",
    "  print(confusion_matrix(y_test, y_pred))\n",
    "  \n",
    "  f_onehalf_score = fbeta_score(y_test, y_pred, beta=0.5)\n",
    "  print('f0.5_score=', f_onehalf_score)\n",
    "\n",
    "  try :\n",
    "    y_score = best_model.predict_proba(X_test)[:, 1]\n",
    "    # calculate precision and recall for each threshold\n",
    "    precision, recall, threshold = precision_recall_curve(y_test, y_score)\n",
    "    # calculate scores\n",
    "    pr_auc = auc(recall, precision)\n",
    "    print('pr_auc_score=', pr_auc)\n",
    "\n",
    "    # calculate the no skill line as the proportion of the positive class\n",
    "    no_skill = len(y_test[y_test==1]) / len(y_test)\n",
    "    # plot the no skill precision-recall curve\n",
    "    plt.figure(figsize=(10, 7))\n",
    "    plt.plot([0, 1], [no_skill, no_skill], linestyle='--', label='No Skill')\n",
    "    # plot the model precision-recall curve\n",
    "    plt.plot(recall, precision, marker='.', label=name)\n",
    "    plt.title(f'{name}(pr_auc={pr_auc})')\n",
    "    plt.xlabel('Recall')\n",
    "    plt.ylabel('Precision')\n",
    "    # show the legend\n",
    "    plt.legend()\n",
    "    # show the plot\n",
    "    plt.show()\n",
    "  except:\n",
    "    pass\n",
    "\n",
    "  plot_learning_curve(best_model, name, X_train, y_train, cv=cv, n_jobs=-1 )\n",
    "  plt.show()\n",
    "\n",
    "  return best_model"
   ]
  },
  {
   "cell_type": "code",
   "execution_count": 14,
   "id": "e8f9d055",
   "metadata": {
    "execution": {
     "iopub.execute_input": "2022-07-19T18:02:13.478950Z",
     "iopub.status.busy": "2022-07-19T18:02:13.478255Z",
     "iopub.status.idle": "2022-07-19T18:02:13.482552Z",
     "shell.execute_reply": "2022-07-19T18:02:13.481846Z"
    },
    "papermill": {
     "duration": 0.014722,
     "end_time": "2022-07-19T18:02:13.484545",
     "exception": false,
     "start_time": "2022-07-19T18:02:13.469823",
     "status": "completed"
    },
    "tags": []
   },
   "outputs": [],
   "source": [
    "pipe = Pipeline(steps=[minmax_scaler, smote, svm])"
   ]
  },
  {
   "cell_type": "code",
   "execution_count": 15,
   "id": "5f98142f",
   "metadata": {
    "execution": {
     "iopub.execute_input": "2022-07-19T18:02:13.499898Z",
     "iopub.status.busy": "2022-07-19T18:02:13.499174Z",
     "iopub.status.idle": "2022-07-19T18:02:13.503545Z",
     "shell.execute_reply": "2022-07-19T18:02:13.502765Z"
    },
    "papermill": {
     "duration": 0.014799,
     "end_time": "2022-07-19T18:02:13.505689",
     "exception": false,
     "start_time": "2022-07-19T18:02:13.490890",
     "status": "completed"
    },
    "tags": []
   },
   "outputs": [],
   "source": [
    "param_grid = {}"
   ]
  },
  {
   "cell_type": "code",
   "execution_count": 16,
   "id": "d35d7f74",
   "metadata": {
    "execution": {
     "iopub.execute_input": "2022-07-19T18:02:13.522125Z",
     "iopub.status.busy": "2022-07-19T18:02:13.521403Z",
     "iopub.status.idle": "2022-07-19T18:02:13.526585Z",
     "shell.execute_reply": "2022-07-19T18:02:13.525831Z"
    },
    "papermill": {
     "duration": 0.016022,
     "end_time": "2022-07-19T18:02:13.528810",
     "exception": false,
     "start_time": "2022-07-19T18:02:13.512788",
     "status": "completed"
    },
    "tags": []
   },
   "outputs": [],
   "source": [
    "search = HalvingGridSearchCV(pipe, param_grid, scoring=f_onehalf_scorer, cv=cv, verbose=3, return_train_score=True)"
   ]
  },
  {
   "cell_type": "code",
   "execution_count": 17,
   "id": "8e46a408",
   "metadata": {
    "execution": {
     "iopub.execute_input": "2022-07-19T18:02:13.545196Z",
     "iopub.status.busy": "2022-07-19T18:02:13.544437Z",
     "iopub.status.idle": "2022-07-19T23:10:37.793001Z",
     "shell.execute_reply": "2022-07-19T23:10:37.790440Z"
    },
    "papermill": {
     "duration": 18504.2704,
     "end_time": "2022-07-19T23:10:37.806256",
     "exception": false,
     "start_time": "2022-07-19T18:02:13.535856",
     "status": "completed"
    },
    "tags": []
   },
   "outputs": [
    {
     "name": "stdout",
     "output_type": "stream",
     "text": [
      "n_iterations: 1\n",
      "n_required_iterations: 1\n",
      "n_possible_iterations: 1\n",
      "min_resources_: 1074704\n",
      "max_resources_: 1074704\n",
      "aggressive_elimination: False\n",
      "factor: 3\n",
      "----------\n",
      "iter: 0\n",
      "n_candidates: 1\n",
      "n_resources: 1074704\n",
      "Fitting 10 folds for each of 1 candidates, totalling 10 fits\n"
     ]
    },
    {
     "name": "stderr",
     "output_type": "stream",
     "text": [
      "/opt/conda/lib/python3.7/site-packages/sklearn/svm/_base.py:289: ConvergenceWarning: Solver terminated early (max_iter=1500).  Consider pre-processing your data with StandardScaler or MinMaxScaler.\n",
      "  ConvergenceWarning,\n"
     ]
    },
    {
     "name": "stdout",
     "output_type": "stream",
     "text": [
      "[CV 1/10] END .............., score=(train=0.833, test=0.833) total time=22.3min\n"
     ]
    },
    {
     "name": "stderr",
     "output_type": "stream",
     "text": [
      "/opt/conda/lib/python3.7/site-packages/sklearn/svm/_base.py:289: ConvergenceWarning: Solver terminated early (max_iter=1500).  Consider pre-processing your data with StandardScaler or MinMaxScaler.\n",
      "  ConvergenceWarning,\n"
     ]
    },
    {
     "name": "stdout",
     "output_type": "stream",
     "text": [
      "[CV 2/10] END .............., score=(train=0.851, test=0.851) total time=21.2min\n"
     ]
    },
    {
     "name": "stderr",
     "output_type": "stream",
     "text": [
      "/opt/conda/lib/python3.7/site-packages/sklearn/svm/_base.py:289: ConvergenceWarning: Solver terminated early (max_iter=1500).  Consider pre-processing your data with StandardScaler or MinMaxScaler.\n",
      "  ConvergenceWarning,\n"
     ]
    },
    {
     "name": "stdout",
     "output_type": "stream",
     "text": [
      "[CV 3/10] END .............., score=(train=0.877, test=0.877) total time=21.4min\n"
     ]
    },
    {
     "name": "stderr",
     "output_type": "stream",
     "text": [
      "/opt/conda/lib/python3.7/site-packages/sklearn/svm/_base.py:289: ConvergenceWarning: Solver terminated early (max_iter=1500).  Consider pre-processing your data with StandardScaler or MinMaxScaler.\n",
      "  ConvergenceWarning,\n"
     ]
    },
    {
     "name": "stdout",
     "output_type": "stream",
     "text": [
      "[CV 4/10] END .............., score=(train=0.866, test=0.866) total time=24.9min\n"
     ]
    },
    {
     "name": "stderr",
     "output_type": "stream",
     "text": [
      "/opt/conda/lib/python3.7/site-packages/sklearn/svm/_base.py:289: ConvergenceWarning: Solver terminated early (max_iter=1500).  Consider pre-processing your data with StandardScaler or MinMaxScaler.\n",
      "  ConvergenceWarning,\n"
     ]
    },
    {
     "name": "stdout",
     "output_type": "stream",
     "text": [
      "[CV 5/10] END .............., score=(train=0.846, test=0.845) total time=21.7min\n"
     ]
    },
    {
     "name": "stderr",
     "output_type": "stream",
     "text": [
      "/opt/conda/lib/python3.7/site-packages/sklearn/svm/_base.py:289: ConvergenceWarning: Solver terminated early (max_iter=1500).  Consider pre-processing your data with StandardScaler or MinMaxScaler.\n",
      "  ConvergenceWarning,\n"
     ]
    },
    {
     "name": "stdout",
     "output_type": "stream",
     "text": [
      "[CV 6/10] END .............., score=(train=0.861, test=0.861) total time=21.2min\n"
     ]
    },
    {
     "name": "stderr",
     "output_type": "stream",
     "text": [
      "/opt/conda/lib/python3.7/site-packages/sklearn/svm/_base.py:289: ConvergenceWarning: Solver terminated early (max_iter=1500).  Consider pre-processing your data with StandardScaler or MinMaxScaler.\n",
      "  ConvergenceWarning,\n"
     ]
    },
    {
     "name": "stdout",
     "output_type": "stream",
     "text": [
      "[CV 7/10] END .............., score=(train=0.826, test=0.825) total time=21.5min\n"
     ]
    },
    {
     "name": "stderr",
     "output_type": "stream",
     "text": [
      "/opt/conda/lib/python3.7/site-packages/sklearn/svm/_base.py:289: ConvergenceWarning: Solver terminated early (max_iter=1500).  Consider pre-processing your data with StandardScaler or MinMaxScaler.\n",
      "  ConvergenceWarning,\n"
     ]
    },
    {
     "name": "stdout",
     "output_type": "stream",
     "text": [
      "[CV 8/10] END .............., score=(train=0.827, test=0.829) total time=21.6min\n"
     ]
    },
    {
     "name": "stderr",
     "output_type": "stream",
     "text": [
      "/opt/conda/lib/python3.7/site-packages/sklearn/svm/_base.py:289: ConvergenceWarning: Solver terminated early (max_iter=1500).  Consider pre-processing your data with StandardScaler or MinMaxScaler.\n",
      "  ConvergenceWarning,\n"
     ]
    },
    {
     "name": "stdout",
     "output_type": "stream",
     "text": [
      "[CV 9/10] END .............., score=(train=0.835, test=0.834) total time=21.2min\n"
     ]
    },
    {
     "name": "stderr",
     "output_type": "stream",
     "text": [
      "/opt/conda/lib/python3.7/site-packages/sklearn/svm/_base.py:289: ConvergenceWarning: Solver terminated early (max_iter=1500).  Consider pre-processing your data with StandardScaler or MinMaxScaler.\n",
      "  ConvergenceWarning,\n"
     ]
    },
    {
     "name": "stdout",
     "output_type": "stream",
     "text": [
      "[CV 10/10] END ............., score=(train=0.849, test=0.848) total time=21.3min\n"
     ]
    },
    {
     "name": "stderr",
     "output_type": "stream",
     "text": [
      "/opt/conda/lib/python3.7/site-packages/sklearn/svm/_base.py:289: ConvergenceWarning: Solver terminated early (max_iter=1500).  Consider pre-processing your data with StandardScaler or MinMaxScaler.\n",
      "  ConvergenceWarning,\n"
     ]
    },
    {
     "data": {
      "text/plain": [
       "HalvingGridSearchCV(cv=RepeatedStratifiedKFold(n_repeats=2, n_splits=5, random_state=42),\n",
       "                    estimator=Pipeline(steps=[('minmax', MinMaxScaler()),\n",
       "                                              ('smote',\n",
       "                                               SMOTE(random_state=42,\n",
       "                                                     sampling_strategy=1.0)),\n",
       "                                              ('svm',\n",
       "                                               SVC(cache_size=2000,\n",
       "                                                   max_iter=1500,\n",
       "                                                   random_state=42))]),\n",
       "                    param_grid={}, scoring=make_scorer(fbeta_score, beta=0.5),\n",
       "                    verbose=3)"
      ]
     },
     "execution_count": 17,
     "metadata": {},
     "output_type": "execute_result"
    }
   ],
   "source": [
    "search.fit(X_train, y_train)"
   ]
  },
  {
   "cell_type": "code",
   "execution_count": 18,
   "id": "bb4f04a3",
   "metadata": {
    "execution": {
     "iopub.execute_input": "2022-07-19T23:10:37.829379Z",
     "iopub.status.busy": "2022-07-19T23:10:37.827909Z",
     "iopub.status.idle": "2022-07-19T23:10:37.889428Z",
     "shell.execute_reply": "2022-07-19T23:10:37.887962Z"
    },
    "papermill": {
     "duration": 0.078416,
     "end_time": "2022-07-19T23:10:37.893715",
     "exception": false,
     "start_time": "2022-07-19T23:10:37.815299",
     "status": "completed"
    },
    "tags": []
   },
   "outputs": [
    {
     "data": {
      "text/html": [
       "<div>\n",
       "<style scoped>\n",
       "    .dataframe tbody tr th:only-of-type {\n",
       "        vertical-align: middle;\n",
       "    }\n",
       "\n",
       "    .dataframe tbody tr th {\n",
       "        vertical-align: top;\n",
       "    }\n",
       "\n",
       "    .dataframe thead th {\n",
       "        text-align: right;\n",
       "    }\n",
       "</style>\n",
       "<table border=\"1\" class=\"dataframe\">\n",
       "  <thead>\n",
       "    <tr style=\"text-align: right;\">\n",
       "      <th></th>\n",
       "      <th>params</th>\n",
       "      <th>mean_train_score</th>\n",
       "      <th>std_train_score</th>\n",
       "      <th>mean_test_score</th>\n",
       "      <th>std_test_score</th>\n",
       "      <th>mean_fit_time</th>\n",
       "      <th>std_fit_time</th>\n",
       "    </tr>\n",
       "  </thead>\n",
       "  <tbody>\n",
       "    <tr>\n",
       "      <th>0</th>\n",
       "      <td>{}</td>\n",
       "      <td>0.846906</td>\n",
       "      <td>0.016294</td>\n",
       "      <td>0.846967</td>\n",
       "      <td>0.016419</td>\n",
       "      <td>1220.819262</td>\n",
       "      <td>64.310314</td>\n",
       "    </tr>\n",
       "  </tbody>\n",
       "</table>\n",
       "</div>"
      ],
      "text/plain": [
       "  params  mean_train_score  std_train_score  mean_test_score  std_test_score  \\\n",
       "0     {}          0.846906         0.016294         0.846967        0.016419   \n",
       "\n",
       "   mean_fit_time  std_fit_time  \n",
       "0    1220.819262     64.310314  "
      ]
     },
     "execution_count": 18,
     "metadata": {},
     "output_type": "execute_result"
    }
   ],
   "source": [
    "print_result_df(search)"
   ]
  },
  {
   "cell_type": "code",
   "execution_count": 19,
   "id": "fc3b955e",
   "metadata": {
    "execution": {
     "iopub.execute_input": "2022-07-19T23:10:37.914799Z",
     "iopub.status.busy": "2022-07-19T23:10:37.914299Z"
    },
    "papermill": {
     "duration": 424.744072,
     "end_time": "2022-07-19T23:17:42.647252",
     "exception": false,
     "start_time": "2022-07-19T23:10:37.903180",
     "status": "completed"
    },
    "tags": []
   },
   "outputs": [
    {
     "name": "stdout",
     "output_type": "stream",
     "text": [
      "Best parameter (CV score=):\n",
      "Pipeline(steps=[('minmax', MinMaxScaler()),\n",
      "                ('smote', SMOTE(random_state=42, sampling_strategy=1.0)),\n",
      "                ('svm', SVC(cache_size=2000, max_iter=1500, random_state=42))])\n",
      "              precision    recall  f1-score   support\n",
      "\n",
      "           0       0.34      0.60      0.43     53638\n",
      "           1       0.88      0.70      0.78    215038\n",
      "\n",
      "    accuracy                           0.68    268676\n",
      "   macro avg       0.61      0.65      0.61    268676\n",
      "weighted avg       0.77      0.68      0.71    268676\n",
      "\n",
      "[[ 32121  21517]\n",
      " [ 63648 151390]]\n",
      "f0.5_score= 0.8348719374058364\n"
     ]
    }
   ],
   "source": [
    "print_best_model_result(search, 'MinMaxScaler + SMOTE + SVM')"
   ]
  }
 ],
 "metadata": {
  "kernelspec": {
   "display_name": "Python 3",
   "language": "python",
   "name": "python3"
  },
  "language_info": {
   "codemirror_mode": {
    "name": "ipython",
    "version": 3
   },
   "file_extension": ".py",
   "mimetype": "text/x-python",
   "name": "python",
   "nbconvert_exporter": "python",
   "pygments_lexer": "ipython3",
   "version": "3.6.4"
  },
  "papermill": {
   "default_parameters": {},
   "duration": 18956.573676,
   "end_time": "2022-07-19T23:17:42.889526",
   "environment_variables": {},
   "exception": null,
   "input_path": "__notebook__.ipynb",
   "output_path": "__notebook__.ipynb",
   "parameters": {},
   "start_time": "2022-07-19T18:01:46.315850",
   "version": "2.3.4"
  }
 },
 "nbformat": 4,
 "nbformat_minor": 5
}
