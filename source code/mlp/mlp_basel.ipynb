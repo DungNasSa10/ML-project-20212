{
 "cells": [
  {
   "cell_type": "code",
   "execution_count": 1,
   "id": "7b285827",
   "metadata": {
    "execution": {
     "iopub.execute_input": "2022-07-20T05:12:04.210484Z",
     "iopub.status.busy": "2022-07-20T05:12:04.209843Z",
     "iopub.status.idle": "2022-07-20T05:12:07.173486Z",
     "shell.execute_reply": "2022-07-20T05:12:07.172136Z"
    },
    "papermill": {
     "duration": 2.976542,
     "end_time": "2022-07-20T05:12:07.176572",
     "exception": false,
     "start_time": "2022-07-20T05:12:04.200030",
     "status": "completed"
    },
    "tags": []
   },
   "outputs": [
    {
     "data": {
      "text/html": [
       "<style type='text/css'>\n",
       ".datatable table.frame { margin-bottom: 0; }\n",
       ".datatable table.frame thead { border-bottom: none; }\n",
       ".datatable table.frame tr.coltypes td {  color: #FFFFFF;  line-height: 6px;  padding: 0 0.5em;}\n",
       ".datatable .bool    { background: #DDDD99; }\n",
       ".datatable .object  { background: #565656; }\n",
       ".datatable .int     { background: #5D9E5D; }\n",
       ".datatable .float   { background: #4040CC; }\n",
       ".datatable .str     { background: #CC4040; }\n",
       ".datatable .time    { background: #40CC40; }\n",
       ".datatable .row_index {  background: var(--jp-border-color3);  border-right: 1px solid var(--jp-border-color0);  color: var(--jp-ui-font-color3);  font-size: 9px;}\n",
       ".datatable .frame tbody td { text-align: left; }\n",
       ".datatable .frame tr.coltypes .row_index {  background: var(--jp-border-color0);}\n",
       ".datatable th:nth-child(2) { padding-left: 12px; }\n",
       ".datatable .hellipsis {  color: var(--jp-cell-editor-border-color);}\n",
       ".datatable .vellipsis {  background: var(--jp-layout-color0);  color: var(--jp-cell-editor-border-color);}\n",
       ".datatable .na {  color: var(--jp-cell-editor-border-color);  font-size: 80%;}\n",
       ".datatable .sp {  opacity: 0.25;}\n",
       ".datatable .footer { font-size: 9px; }\n",
       ".datatable .frame_dimensions {  background: var(--jp-border-color3);  border-top: 1px solid var(--jp-border-color0);  color: var(--jp-ui-font-color3);  display: inline-block;  opacity: 0.6;  padding: 1px 10px 1px 5px;}\n",
       "</style>\n"
      ],
      "text/plain": [
       "<IPython.core.display.HTML object>"
      ]
     },
     "metadata": {},
     "output_type": "display_data"
    }
   ],
   "source": [
    "import pandas as pd\n",
    "import numpy as np\n",
    "import matplotlib.pyplot as plt\n",
    "import seaborn as sns\n",
    "from imblearn.pipeline import Pipeline\n",
    "\n",
    "from sklearn.preprocessing import MinMaxScaler\n",
    "\n",
    "from imblearn.over_sampling import SMOTE, BorderlineSMOTE, SVMSMOTE, ADASYN\n",
    "\n",
    "from sklearn.linear_model import LogisticRegression, Perceptron\n",
    "from sklearn.neighbors import KNeighborsClassifier\n",
    "from sklearn.svm import SVC\n",
    "from sklearn.tree import DecisionTreeClassifier\n",
    "from sklearn.ensemble import RandomForestClassifier\n",
    "from sklearn.neural_network import MLPClassifier\n",
    "# from lightgbm import LGBMClassifier\n",
    "# from xgboost import XGBClassifier\n",
    "\n",
    "from sklearn.experimental import enable_halving_search_cv\n",
    "from sklearn.model_selection import GridSearchCV, HalvingGridSearchCV, train_test_split, RepeatedStratifiedKFold, cross_val_score, learning_curve\n",
    "from sklearn.metrics import classification_report, fbeta_score, confusion_matrix, precision_recall_curve, auc, make_scorer"
   ]
  },
  {
   "cell_type": "code",
   "execution_count": 2,
   "id": "858558fa",
   "metadata": {
    "execution": {
     "iopub.execute_input": "2022-07-20T05:12:07.191890Z",
     "iopub.status.busy": "2022-07-20T05:12:07.191489Z",
     "iopub.status.idle": "2022-07-20T05:12:19.447921Z",
     "shell.execute_reply": "2022-07-20T05:12:19.446881Z"
    },
    "papermill": {
     "duration": 12.267556,
     "end_time": "2022-07-20T05:12:19.450679",
     "exception": false,
     "start_time": "2022-07-20T05:12:07.183123",
     "status": "completed"
    },
    "tags": []
   },
   "outputs": [],
   "source": [
    "accepted_loans = pd.read_csv('../input/ml-project-elite/elite.csv')"
   ]
  },
  {
   "cell_type": "code",
   "execution_count": 3,
   "id": "aa80be3e",
   "metadata": {
    "execution": {
     "iopub.execute_input": "2022-07-20T05:12:19.465582Z",
     "iopub.status.busy": "2022-07-20T05:12:19.464650Z",
     "iopub.status.idle": "2022-07-20T05:12:20.007056Z",
     "shell.execute_reply": "2022-07-20T05:12:20.005737Z"
    },
    "papermill": {
     "duration": 0.552843,
     "end_time": "2022-07-20T05:12:20.009873",
     "exception": false,
     "start_time": "2022-07-20T05:12:19.457030",
     "status": "completed"
    },
    "tags": []
   },
   "outputs": [],
   "source": [
    "X = accepted_loans.loc[:, accepted_loans.columns != 'loan_paid'].values\n",
    "y = accepted_loans['loan_paid'].values"
   ]
  },
  {
   "cell_type": "code",
   "execution_count": 4,
   "id": "2cf5b70e",
   "metadata": {
    "execution": {
     "iopub.execute_input": "2022-07-20T05:12:20.025256Z",
     "iopub.status.busy": "2022-07-20T05:12:20.024190Z",
     "iopub.status.idle": "2022-07-20T05:12:21.962870Z",
     "shell.execute_reply": "2022-07-20T05:12:21.961763Z"
    },
    "papermill": {
     "duration": 1.949481,
     "end_time": "2022-07-20T05:12:21.965792",
     "exception": false,
     "start_time": "2022-07-20T05:12:20.016311",
     "status": "completed"
    },
    "tags": []
   },
   "outputs": [],
   "source": [
    "X_train, X_test, y_train, y_test = train_test_split(X, y, test_size=0.2, random_state=42, stratify=y)"
   ]
  },
  {
   "cell_type": "code",
   "execution_count": 5,
   "id": "2fca750c",
   "metadata": {
    "execution": {
     "iopub.execute_input": "2022-07-20T05:12:21.980219Z",
     "iopub.status.busy": "2022-07-20T05:12:21.979814Z",
     "iopub.status.idle": "2022-07-20T05:12:21.984629Z",
     "shell.execute_reply": "2022-07-20T05:12:21.983792Z"
    },
    "papermill": {
     "duration": 0.01475,
     "end_time": "2022-07-20T05:12:21.986820",
     "exception": false,
     "start_time": "2022-07-20T05:12:21.972070",
     "status": "completed"
    },
    "tags": []
   },
   "outputs": [],
   "source": [
    "cv = RepeatedStratifiedKFold(n_splits=5, n_repeats=1, random_state=42)"
   ]
  },
  {
   "cell_type": "code",
   "execution_count": 6,
   "id": "e44af293",
   "metadata": {
    "execution": {
     "iopub.execute_input": "2022-07-20T05:12:22.001691Z",
     "iopub.status.busy": "2022-07-20T05:12:22.000787Z",
     "iopub.status.idle": "2022-07-20T05:12:22.005097Z",
     "shell.execute_reply": "2022-07-20T05:12:22.004312Z"
    },
    "papermill": {
     "duration": 0.014103,
     "end_time": "2022-07-20T05:12:22.007266",
     "exception": false,
     "start_time": "2022-07-20T05:12:21.993163",
     "status": "completed"
    },
    "tags": []
   },
   "outputs": [],
   "source": [
    "minmax_scaler = ('minmax', MinMaxScaler())"
   ]
  },
  {
   "cell_type": "code",
   "execution_count": 7,
   "id": "76728c56",
   "metadata": {
    "execution": {
     "iopub.execute_input": "2022-07-20T05:12:22.022155Z",
     "iopub.status.busy": "2022-07-20T05:12:22.020877Z",
     "iopub.status.idle": "2022-07-20T05:12:22.026250Z",
     "shell.execute_reply": "2022-07-20T05:12:22.025469Z"
    },
    "papermill": {
     "duration": 0.014791,
     "end_time": "2022-07-20T05:12:22.028354",
     "exception": false,
     "start_time": "2022-07-20T05:12:22.013563",
     "status": "completed"
    },
    "tags": []
   },
   "outputs": [],
   "source": [
    "smote = ('smote', SMOTE(sampling_strategy=1.0, random_state=42))\n",
    "smote_param_grid = {\n",
    "    'smote__sampling_strategy': [0.8, 0.9, 1.0]\n",
    "    #'smote__k_neighbors': [3, 5, 10, 15]\n",
    "}"
   ]
  },
  {
   "cell_type": "code",
   "execution_count": 8,
   "id": "8cb9f3ed",
   "metadata": {
    "execution": {
     "iopub.execute_input": "2022-07-20T05:12:22.043179Z",
     "iopub.status.busy": "2022-07-20T05:12:22.042433Z",
     "iopub.status.idle": "2022-07-20T05:12:22.048211Z",
     "shell.execute_reply": "2022-07-20T05:12:22.047374Z"
    },
    "papermill": {
     "duration": 0.015594,
     "end_time": "2022-07-20T05:12:22.050411",
     "exception": false,
     "start_time": "2022-07-20T05:12:22.034817",
     "status": "completed"
    },
    "tags": []
   },
   "outputs": [],
   "source": [
    "mlp = ('mlp', MLPClassifier(max_iter=100, random_state=42, early_stopping=True, activation='logistic', n_iter_no_change=20)) \n",
    "mlp_param_grid = {\n",
    "    'mlp__hidden_layer_sizes' : [(100,), (100, 100), (50, 50, 50), (50, 100, 50)],\n",
    "}"
   ]
  },
  {
   "cell_type": "code",
   "execution_count": 9,
   "id": "cbded79a",
   "metadata": {
    "execution": {
     "iopub.execute_input": "2022-07-20T05:12:22.065053Z",
     "iopub.status.busy": "2022-07-20T05:12:22.064230Z",
     "iopub.status.idle": "2022-07-20T05:12:22.068575Z",
     "shell.execute_reply": "2022-07-20T05:12:22.067720Z"
    },
    "papermill": {
     "duration": 0.014106,
     "end_time": "2022-07-20T05:12:22.070751",
     "exception": false,
     "start_time": "2022-07-20T05:12:22.056645",
     "status": "completed"
    },
    "tags": []
   },
   "outputs": [],
   "source": [
    "# Metric\n",
    "f_onehalf_scorer = make_scorer(fbeta_score, beta=0.5)"
   ]
  },
  {
   "cell_type": "code",
   "execution_count": 10,
   "id": "e708c170",
   "metadata": {
    "execution": {
     "iopub.execute_input": "2022-07-20T05:12:22.085610Z",
     "iopub.status.busy": "2022-07-20T05:12:22.085132Z",
     "iopub.status.idle": "2022-07-20T05:12:22.104929Z",
     "shell.execute_reply": "2022-07-20T05:12:22.103701Z"
    },
    "papermill": {
     "duration": 0.030413,
     "end_time": "2022-07-20T05:12:22.107620",
     "exception": false,
     "start_time": "2022-07-20T05:12:22.077207",
     "status": "completed"
    },
    "tags": []
   },
   "outputs": [],
   "source": [
    "def plot_learning_curve(\n",
    "    estimator,\n",
    "    title,\n",
    "    X,\n",
    "    y,\n",
    "    axes=None,\n",
    "    ylim=None,\n",
    "    cv=cv,\n",
    "    n_jobs=-1,\n",
    "    train_sizes=np.linspace(0.1, 1.0, 5),\n",
    "):\n",
    "    if axes is None:\n",
    "        _, axes = plt.subplots(3, 1, figsize=(15, 15))\n",
    "\n",
    "    axes[0].set_title(title)\n",
    "    if ylim is not None:\n",
    "        axes[0].set_ylim(*ylim)\n",
    "    axes[0].set_xlabel(\"Training examples\")\n",
    "    axes[0].set_ylabel(\"Score\")\n",
    "\n",
    "    train_sizes, train_scores, test_scores, fit_times, _ = learning_curve(\n",
    "        estimator,\n",
    "        X,\n",
    "        y,\n",
    "        cv=cv,\n",
    "        n_jobs=n_jobs,\n",
    "        train_sizes=train_sizes,\n",
    "        scoring=f_onehalf_scorer,\n",
    "        return_times=True,\n",
    "        random_state=42\n",
    "    )\n",
    "    train_scores_mean = np.mean(train_scores, axis=1)\n",
    "    train_scores_std = np.std(train_scores, axis=1)\n",
    "    test_scores_mean = np.mean(test_scores, axis=1)\n",
    "    test_scores_std = np.std(test_scores, axis=1)\n",
    "    fit_times_mean = np.mean(fit_times, axis=1)\n",
    "    fit_times_std = np.std(fit_times, axis=1)\n",
    "\n",
    "    # Plot learning curve\n",
    "    axes[0].grid()\n",
    "    axes[0].fill_between(\n",
    "        train_sizes,\n",
    "        train_scores_mean - train_scores_std,\n",
    "        train_scores_mean + train_scores_std,\n",
    "        alpha=0.1,\n",
    "        color=\"r\",\n",
    "    )\n",
    "    axes[0].fill_between(\n",
    "        train_sizes,\n",
    "        test_scores_mean - test_scores_std,\n",
    "        test_scores_mean + test_scores_std,\n",
    "        alpha=0.1,\n",
    "        color=\"g\",\n",
    "    )\n",
    "    axes[0].plot(\n",
    "        train_sizes, train_scores_mean, \"o-\", color=\"r\", label=\"Training score\"\n",
    "    )\n",
    "    axes[0].plot(\n",
    "        train_sizes, test_scores_mean, \"o-\", color=\"g\", label=\"Cross-validation score\"\n",
    "    )\n",
    "    axes[0].legend(loc=\"best\")\n",
    "\n",
    "    # Plot n_samples vs fit_times\n",
    "    axes[1].grid()\n",
    "    axes[1].plot(train_sizes, fit_times_mean, \"o-\")\n",
    "    axes[1].fill_between(\n",
    "        train_sizes,\n",
    "        fit_times_mean - fit_times_std,\n",
    "        fit_times_mean + fit_times_std,\n",
    "        alpha=0.1,\n",
    "    )\n",
    "    axes[1].set_xlabel(\"Training examples\")\n",
    "    axes[1].set_ylabel(\"fit_times\")\n",
    "    axes[1].set_title(\"Scalability of the model\")\n",
    "\n",
    "    # Plot fit_time vs score\n",
    "    fit_time_argsort = fit_times_mean.argsort()\n",
    "    fit_time_sorted = fit_times_mean[fit_time_argsort]\n",
    "    test_scores_mean_sorted = test_scores_mean[fit_time_argsort]\n",
    "    test_scores_std_sorted = test_scores_std[fit_time_argsort]\n",
    "    axes[2].grid()\n",
    "    axes[2].plot(fit_time_sorted, test_scores_mean_sorted, \"o-\")\n",
    "    axes[2].fill_between(\n",
    "        fit_time_sorted,\n",
    "        test_scores_mean_sorted - test_scores_std_sorted,\n",
    "        test_scores_mean_sorted + test_scores_std_sorted,\n",
    "        alpha=0.1,\n",
    "    )\n",
    "    axes[2].set_xlabel(\"fit_times\") \n",
    "    axes[2].set_ylabel(\"Score\")\n",
    "    axes[2].set_title(\"Performance of the model\")\n",
    "\n",
    "    return plt"
   ]
  },
  {
   "cell_type": "code",
   "execution_count": 11,
   "id": "9e7b2b98",
   "metadata": {
    "execution": {
     "iopub.execute_input": "2022-07-20T05:12:22.122511Z",
     "iopub.status.busy": "2022-07-20T05:12:22.122111Z",
     "iopub.status.idle": "2022-07-20T05:12:22.137148Z",
     "shell.execute_reply": "2022-07-20T05:12:22.135648Z"
    },
    "papermill": {
     "duration": 0.026204,
     "end_time": "2022-07-20T05:12:22.140092",
     "exception": false,
     "start_time": "2022-07-20T05:12:22.113888",
     "status": "completed"
    },
    "tags": []
   },
   "outputs": [],
   "source": [
    "def pooled_var(stds):\n",
    "    n = 30 # size of each group\n",
    "    return np.sqrt(sum((n-1)*(stds**2))/ len(stds)*(n-1))\n",
    "\n",
    "def plot_search_results(search):\n",
    "  df = pd.DataFrame(search.cv_results_)\n",
    "  results = ['mean_test_score',\n",
    "            'mean_train_score',\n",
    "            'std_test_score', \n",
    "            'std_train_score']\n",
    "\n",
    "  fig, axes = plt.subplots(1, len(param_grid), \n",
    "                          figsize = (7*len(param_grid), 5),\n",
    "                          sharey='row')\n",
    "  axes[0].set_ylabel(\"Score\", fontsize=25)\n",
    "\n",
    "\n",
    "  for idx, (param_name, param_range) in enumerate(param_grid.items()):\n",
    "      grouped_df = df.groupby(f'param_{param_name}')[results]\\\n",
    "          .agg({'mean_train_score': 'mean',\n",
    "                'mean_test_score': 'mean',\n",
    "                'std_train_score': 'mean',\n",
    "                'std_test_score': 'mean'})\n",
    "\n",
    "      previous_group = df.groupby(f'param_{param_name}')[results]\n",
    "      axes[idx].set_xlabel(param_name, fontsize=30)\n",
    "      axes[idx].set_ylim(0.0, 1.1)\n",
    "      lw = 2\n",
    "      axes[idx].plot(param_range, grouped_df['mean_train_score'], label=\"Training score\",\n",
    "                  color=\"darkorange\", lw=lw)\n",
    "      axes[idx].fill_between(param_range,grouped_df['mean_train_score'] - grouped_df['std_train_score'],\n",
    "                      grouped_df['mean_train_score'] + grouped_df['std_train_score'], alpha=0.2,\n",
    "                      color=\"darkorange\", lw=lw)\n",
    "      axes[idx].plot(param_range, grouped_df['mean_test_score'], label=\"Cross-validation score\",\n",
    "                  color=\"navy\", lw=lw)\n",
    "      axes[idx].fill_between(param_range, grouped_df['mean_test_score'] - grouped_df['std_test_score'],\n",
    "                      grouped_df['mean_test_score'] + grouped_df['std_test_score'], alpha=0.2,\n",
    "                      color=\"navy\", lw=lw)\n",
    "\n",
    "  handles, labels = axes[0].get_legend_handles_labels()\n",
    "  fig.suptitle('Validation curves', fontsize=40)\n",
    "  fig.legend(handles, labels, loc=8, ncol=2, fontsize=20)\n",
    "\n",
    "  fig.subplots_adjust(bottom=0.25, top=0.85)  \n",
    "  plt.show()"
   ]
  },
  {
   "cell_type": "code",
   "execution_count": 12,
   "id": "67ac3697",
   "metadata": {
    "execution": {
     "iopub.execute_input": "2022-07-20T05:12:22.154683Z",
     "iopub.status.busy": "2022-07-20T05:12:22.154238Z",
     "iopub.status.idle": "2022-07-20T05:12:22.160642Z",
     "shell.execute_reply": "2022-07-20T05:12:22.159687Z"
    },
    "papermill": {
     "duration": 0.016288,
     "end_time": "2022-07-20T05:12:22.162844",
     "exception": false,
     "start_time": "2022-07-20T05:12:22.146556",
     "status": "completed"
    },
    "tags": []
   },
   "outputs": [],
   "source": [
    "def print_result_df(search):\n",
    "  keeping_columns = ['params', 'mean_train_score', 'std_train_score', 'mean_test_score', 'std_test_score', 'mean_fit_time', 'std_fit_time']\n",
    "  df = pd.DataFrame(search.cv_results_)\n",
    "  df = df[keeping_columns].sort_values(by='mean_test_score', ascending=False)\n",
    "  return df.iloc[:10, :]"
   ]
  },
  {
   "cell_type": "code",
   "execution_count": 13,
   "id": "de37857f",
   "metadata": {
    "execution": {
     "iopub.execute_input": "2022-07-20T05:12:22.177514Z",
     "iopub.status.busy": "2022-07-20T05:12:22.176870Z",
     "iopub.status.idle": "2022-07-20T05:12:22.189122Z",
     "shell.execute_reply": "2022-07-20T05:12:22.187918Z"
    },
    "papermill": {
     "duration": 0.022422,
     "end_time": "2022-07-20T05:12:22.191632",
     "exception": false,
     "start_time": "2022-07-20T05:12:22.169210",
     "status": "completed"
    },
    "tags": []
   },
   "outputs": [],
   "source": [
    "def print_best_model_result(search, name):\n",
    "  print(\"Best parameter (CV score=):\" % search.best_score_)\n",
    "  best_model = search.best_estimator_\n",
    "  print(best_model)\n",
    "\n",
    "  y_pred = best_model.predict(X_test)\n",
    "\n",
    "  print(classification_report(y_test, y_pred))\n",
    "  print(confusion_matrix(y_test, y_pred))\n",
    "  \n",
    "  f_onehalf_score = fbeta_score(y_test, y_pred, beta=0.5)\n",
    "  print('f0.5_score=', f_onehalf_score)\n",
    "\n",
    "  try :\n",
    "    y_score = best_model.predict_proba(X_test)[:, 1]\n",
    "    # calculate precision and recall for each threshold\n",
    "    precision, recall, threshold = precision_recall_curve(y_test, y_score)\n",
    "    # calculate scores\n",
    "    pr_auc = auc(recall, precision)\n",
    "    print('pr_auc_score=', pr_auc)\n",
    "\n",
    "    # calculate the no skill line as the proportion of the positive class\n",
    "    no_skill = len(y_test[y_test==1]) / len(y_test)\n",
    "    # plot the no skill precision-recall curve\n",
    "    plt.figure(figsize=(10, 7))\n",
    "    plt.plot([0, 1], [no_skill, no_skill], linestyle='--', label='No Skill')\n",
    "    # plot the model precision-recall curve\n",
    "    plt.plot(recall, precision, marker='.', label=name)\n",
    "    plt.title(f'{name}(pr_auc={pr_auc})')\n",
    "    plt.xlabel('Recall')\n",
    "    plt.ylabel('Precision')\n",
    "    # show the legend\n",
    "    plt.legend()\n",
    "    # show the plot\n",
    "    plt.show()\n",
    "  except:\n",
    "    pass\n",
    "\n",
    "  plot_learning_curve(best_model, name, X_train, y_train, cv=cv, n_jobs=-1 )\n",
    "  plt.show()\n",
    "\n",
    "  return best_model"
   ]
  },
  {
   "cell_type": "code",
   "execution_count": 14,
   "id": "fb75a246",
   "metadata": {
    "execution": {
     "iopub.execute_input": "2022-07-20T05:12:22.207194Z",
     "iopub.status.busy": "2022-07-20T05:12:22.206069Z",
     "iopub.status.idle": "2022-07-20T05:12:22.212223Z",
     "shell.execute_reply": "2022-07-20T05:12:22.211198Z"
    },
    "papermill": {
     "duration": 0.016459,
     "end_time": "2022-07-20T05:12:22.214489",
     "exception": false,
     "start_time": "2022-07-20T05:12:22.198030",
     "status": "completed"
    },
    "tags": []
   },
   "outputs": [
    {
     "name": "stdout",
     "output_type": "stream",
     "text": [
      "Base MLP\n"
     ]
    }
   ],
   "source": [
    "pipe = Pipeline(steps=[ mlp])\n",
    "print(\"Base MLP\")"
   ]
  },
  {
   "cell_type": "code",
   "execution_count": 15,
   "id": "d5ccfd90",
   "metadata": {
    "execution": {
     "iopub.execute_input": "2022-07-20T05:12:22.228885Z",
     "iopub.status.busy": "2022-07-20T05:12:22.228433Z",
     "iopub.status.idle": "2022-07-20T05:12:22.233593Z",
     "shell.execute_reply": "2022-07-20T05:12:22.232362Z"
    },
    "papermill": {
     "duration": 0.015473,
     "end_time": "2022-07-20T05:12:22.236124",
     "exception": false,
     "start_time": "2022-07-20T05:12:22.220651",
     "status": "completed"
    },
    "tags": []
   },
   "outputs": [],
   "source": [
    "#param_grid = {**mlp_param_grid}\n",
    "param_grid = {}"
   ]
  },
  {
   "cell_type": "code",
   "execution_count": 16,
   "id": "d0869034",
   "metadata": {
    "execution": {
     "iopub.execute_input": "2022-07-20T05:12:22.252022Z",
     "iopub.status.busy": "2022-07-20T05:12:22.250760Z",
     "iopub.status.idle": "2022-07-20T05:12:22.257039Z",
     "shell.execute_reply": "2022-07-20T05:12:22.256136Z"
    },
    "papermill": {
     "duration": 0.01695,
     "end_time": "2022-07-20T05:12:22.259447",
     "exception": false,
     "start_time": "2022-07-20T05:12:22.242497",
     "status": "completed"
    },
    "tags": []
   },
   "outputs": [],
   "source": [
    "search = HalvingGridSearchCV(pipe, param_grid, scoring=f_onehalf_scorer, cv=cv, verbose=3, return_train_score=True)"
   ]
  },
  {
   "cell_type": "code",
   "execution_count": 17,
   "id": "e9aa0a74",
   "metadata": {
    "execution": {
     "iopub.execute_input": "2022-07-20T05:12:22.274515Z",
     "iopub.status.busy": "2022-07-20T05:12:22.273417Z",
     "iopub.status.idle": "2022-07-20T06:18:42.515143Z",
     "shell.execute_reply": "2022-07-20T06:18:42.513457Z"
    },
    "papermill": {
     "duration": 3980.258401,
     "end_time": "2022-07-20T06:18:42.524104",
     "exception": false,
     "start_time": "2022-07-20T05:12:22.265703",
     "status": "completed"
    },
    "tags": []
   },
   "outputs": [
    {
     "name": "stdout",
     "output_type": "stream",
     "text": [
      "n_iterations: 1\n",
      "n_required_iterations: 1\n",
      "n_possible_iterations: 1\n",
      "min_resources_: 1074704\n",
      "max_resources_: 1074704\n",
      "aggressive_elimination: False\n",
      "factor: 3\n",
      "----------\n",
      "iter: 0\n",
      "n_candidates: 1\n",
      "n_resources: 1074704\n",
      "Fitting 5 folds for each of 1 candidates, totalling 5 fits\n",
      "[CV 1/5] END ..............., score=(train=0.874, test=0.874) total time=14.3min\n",
      "[CV 2/5] END ..............., score=(train=0.881, test=0.880) total time=10.9min\n",
      "[CV 3/5] END ..............., score=(train=0.867, test=0.868) total time= 9.4min\n",
      "[CV 4/5] END ..............., score=(train=0.878, test=0.877) total time= 5.4min\n",
      "[CV 5/5] END ..............., score=(train=0.882, test=0.881) total time=13.9min\n"
     ]
    },
    {
     "data": {
      "text/plain": [
       "HalvingGridSearchCV(cv=RepeatedStratifiedKFold(n_repeats=1, n_splits=5, random_state=42),\n",
       "                    estimator=Pipeline(steps=[('mlp',\n",
       "                                               MLPClassifier(activation='logistic',\n",
       "                                                             early_stopping=True,\n",
       "                                                             max_iter=100,\n",
       "                                                             n_iter_no_change=20,\n",
       "                                                             random_state=42))]),\n",
       "                    param_grid={}, scoring=make_scorer(fbeta_score, beta=0.5),\n",
       "                    verbose=3)"
      ]
     },
     "execution_count": 17,
     "metadata": {},
     "output_type": "execute_result"
    }
   ],
   "source": [
    "search.fit(X_train, y_train)"
   ]
  },
  {
   "cell_type": "code",
   "execution_count": 18,
   "id": "b883397d",
   "metadata": {
    "execution": {
     "iopub.execute_input": "2022-07-20T06:18:42.551017Z",
     "iopub.status.busy": "2022-07-20T06:18:42.550431Z",
     "iopub.status.idle": "2022-07-20T06:18:42.585804Z",
     "shell.execute_reply": "2022-07-20T06:18:42.585009Z"
    },
    "papermill": {
     "duration": 0.051385,
     "end_time": "2022-07-20T06:18:42.587843",
     "exception": false,
     "start_time": "2022-07-20T06:18:42.536458",
     "status": "completed"
    },
    "tags": []
   },
   "outputs": [
    {
     "data": {
      "text/html": [
       "<div>\n",
       "<style scoped>\n",
       "    .dataframe tbody tr th:only-of-type {\n",
       "        vertical-align: middle;\n",
       "    }\n",
       "\n",
       "    .dataframe tbody tr th {\n",
       "        vertical-align: top;\n",
       "    }\n",
       "\n",
       "    .dataframe thead th {\n",
       "        text-align: right;\n",
       "    }\n",
       "</style>\n",
       "<table border=\"1\" class=\"dataframe\">\n",
       "  <thead>\n",
       "    <tr style=\"text-align: right;\">\n",
       "      <th></th>\n",
       "      <th>params</th>\n",
       "      <th>mean_train_score</th>\n",
       "      <th>std_train_score</th>\n",
       "      <th>mean_test_score</th>\n",
       "      <th>std_test_score</th>\n",
       "      <th>mean_fit_time</th>\n",
       "      <th>std_fit_time</th>\n",
       "    </tr>\n",
       "  </thead>\n",
       "  <tbody>\n",
       "    <tr>\n",
       "      <th>0</th>\n",
       "      <td>{}</td>\n",
       "      <td>0.876214</td>\n",
       "      <td>0.005335</td>\n",
       "      <td>0.876115</td>\n",
       "      <td>0.005016</td>\n",
       "      <td>646.127894</td>\n",
       "      <td>194.734635</td>\n",
       "    </tr>\n",
       "  </tbody>\n",
       "</table>\n",
       "</div>"
      ],
      "text/plain": [
       "  params  mean_train_score  std_train_score  mean_test_score  std_test_score  \\\n",
       "0     {}          0.876214         0.005335         0.876115        0.005016   \n",
       "\n",
       "   mean_fit_time  std_fit_time  \n",
       "0     646.127894    194.734635  "
      ]
     },
     "execution_count": 18,
     "metadata": {},
     "output_type": "execute_result"
    }
   ],
   "source": [
    "print_result_df(search)"
   ]
  },
  {
   "cell_type": "code",
   "execution_count": 19,
   "id": "e4900d93",
   "metadata": {
    "execution": {
     "iopub.execute_input": "2022-07-20T06:18:42.604093Z",
     "iopub.status.busy": "2022-07-20T06:18:42.603666Z",
     "iopub.status.idle": "2022-07-20T06:18:42.607902Z",
     "shell.execute_reply": "2022-07-20T06:18:42.607031Z"
    },
    "papermill": {
     "duration": 0.014839,
     "end_time": "2022-07-20T06:18:42.609873",
     "exception": false,
     "start_time": "2022-07-20T06:18:42.595034",
     "status": "completed"
    },
    "tags": []
   },
   "outputs": [],
   "source": [
    "#plot_search_results(search)"
   ]
  },
  {
   "cell_type": "code",
   "execution_count": 20,
   "id": "6bc22580",
   "metadata": {
    "execution": {
     "iopub.execute_input": "2022-07-20T06:18:42.626438Z",
     "iopub.status.busy": "2022-07-20T06:18:42.625708Z",
     "iopub.status.idle": "2022-07-20T06:58:24.484398Z",
     "shell.execute_reply": "2022-07-20T06:58:24.483111Z"
    },
    "papermill": {
     "duration": 2381.880573,
     "end_time": "2022-07-20T06:58:24.497695",
     "exception": false,
     "start_time": "2022-07-20T06:18:42.617122",
     "status": "completed"
    },
    "tags": []
   },
   "outputs": [
    {
     "name": "stdout",
     "output_type": "stream",
     "text": [
      "Best parameter (CV score=):\n",
      "Pipeline(steps=[('mlp',\n",
      "                 MLPClassifier(activation='logistic', early_stopping=True,\n",
      "                               max_iter=100, n_iter_no_change=20,\n",
      "                               random_state=42))])\n",
      "              precision    recall  f1-score   support\n",
      "\n",
      "           0       0.58      0.49      0.53     53638\n",
      "           1       0.88      0.91      0.89    215038\n",
      "\n",
      "    accuracy                           0.83    268676\n",
      "   macro avg       0.73      0.70      0.71    268676\n",
      "weighted avg       0.82      0.83      0.82    268676\n",
      "\n",
      "[[ 26342  27296]\n",
      " [ 18760 196278]]\n",
      "f0.5_score= 0.8846659346959527\n",
      "pr_auc_score= 0.973610296118056\n"
     ]
    },
    {
     "data": {
      "image/png": "[encoded data removed]",
      "text/plain": [
       "<Figure size 720x504 with 1 Axes>"
      ]
     },
     "metadata": {
      "needs_background": "light"
     },
     "output_type": "display_data"
    },
    {
     "name": "stderr",
     "output_type": "stream",
     "text": [
      "/opt/conda/lib/python3.7/site-packages/sklearn/neural_network/_multilayer_perceptron.py:696: ConvergenceWarning: Stochastic Optimizer: Maximum iterations (100) reached and the optimization hasn't converged yet.\n",
      "  ConvergenceWarning,\n"
     ]
    },
    {
     "data": {
      "image/png": "[encoded data removed]",
      "text/plain": [
       "<Figure size 1080x1080 with 3 Axes>"
      ]
     },
     "metadata": {
      "needs_background": "light"
     },
     "output_type": "display_data"
    },
    {
     "data": {
      "text/plain": [
       "Pipeline(steps=[('mlp',\n",
       "                 MLPClassifier(activation='logistic', early_stopping=True,\n",
       "                               max_iter=100, n_iter_no_change=20,\n",
       "                               random_state=42))])"
      ]
     },
     "execution_count": 20,
     "metadata": {},
     "output_type": "execute_result"
    }
   ],
   "source": [
    "print_best_model_result(search, 'Base MLP')"
   ]
  }
 ],
 "metadata": {
  "kernelspec": {
   "display_name": "Python 3.8.10 64-bit",
   "language": "python",
   "name": "python3"
  },
  "language_info": {
   "codemirror_mode": {
    "name": "ipython",
    "version": 3
   },
   "file_extension": ".py",
   "mimetype": "text/x-python",
   "name": "python",
   "nbconvert_exporter": "python",
   "pygments_lexer": "ipython3",
   "version": "3.8.10"
  },
  "papermill": {
   "default_parameters": {},
   "duration": 6393.835164,
   "end_time": "2022-07-20T06:58:27.242357",
   "environment_variables": {},
   "exception": null,
   "input_path": "__notebook__.ipynb",
   "output_path": "__notebook__.ipynb",
   "parameters": {},
   "start_time": "2022-07-20T05:11:53.407193",
   "version": "2.3.4"
  },
  "vscode": {
   "interpreter": {
    "hash": "8384712f827c73b71ec1d871aaffaaf3604c18a78a335b5adcc2028fc4cb4b02"
   }
  }
 },
 "nbformat": 4,
 "nbformat_minor": 5
}
