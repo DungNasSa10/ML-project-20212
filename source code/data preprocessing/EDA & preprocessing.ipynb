{
  "cells": [
    {
      "cell_type": "code",
      "execution_count": 1,
      "metadata": {
        "colab": {
          "base_uri": "https://localhost:8080/"
        },
        "id": "Tn8N5UZfQ_V8",
        "outputId": "b38e9023-d63d-4bf3-b405-307f056b372f"
      },
      "outputs": [],
      "source": [
        "try:\n",
        "    from google.colab import drive\n",
        "    drive.mount('/content/drive')\n",
        "except:\n",
        "    pass"
      ]
    },
    {
      "cell_type": "code",
      "execution_count": 1,
      "metadata": {
        "id": "3bxG5eyT4LV4"
      },
      "outputs": [],
      "source": [
        "import pandas as pd\n",
        "import numpy as np\n",
        "import matplotlib.pyplot as plt\n",
        "import seaborn as sns\n",
        "\n",
        "from sklearn.model_selection import train_test_split, RandomizedSearchCV\n",
        "from sklearn.preprocessing import MinMaxScaler\n",
        "\n",
        "from keras.models import Sequential\n",
        "from keras.layers import Dense, Dropout"
      ]
    },
    {
      "cell_type": "markdown",
      "metadata": {
        "id": "EZryqiw__XPw"
      },
      "source": [
        "# Importing data"
      ]
    },
    {
      "cell_type": "code",
      "execution_count": 2,
      "metadata": {
        "colab": {
          "base_uri": "https://localhost:8080/"
        },
        "id": "RZtjdBPg6DFl",
        "outputId": "004def3e-75d4-47fb-bce0-f5d12337f432"
      },
      "outputs": [
        {
          "name": "stderr",
          "output_type": "stream",
          "text": [
            "C:\\Users\\Dell\\AppData\\Local\\Temp\\ipykernel_8072\\636748095.py:2: DtypeWarning: Columns (0,19,49,59,118,129,130,131,134,135,136,139,145,146,147) have mixed types. Specify dtype option on import or set low_memory=False.\n",
            "  accepted_loans = pd.read_csv('../data/accepted.csv')\n"
          ]
        }
      ],
      "source": [
        "# accepted_loans = pd.read_csv('/content/drive/MyDrive/Lending Club Data/accepted_2007_to_2018q4.csv/accepted_2007_to_2018Q4.csv')\n",
        "accepted_loans = pd.read_csv('../data/accepted.csv')"
      ]
    },
    {
      "cell_type": "code",
      "execution_count": 3,
      "metadata": {
        "colab": {
          "base_uri": "https://localhost:8080/"
        },
        "id": "BHUyxaoe-fjC",
        "outputId": "9c7b5c83-8c64-48ae-c02a-0ff5b3bf3590"
      },
      "outputs": [
        {
          "name": "stdout",
          "output_type": "stream",
          "text": [
            "<class 'pandas.core.frame.DataFrame'>\n",
            "RangeIndex: 2260701 entries, 0 to 2260700\n",
            "Columns: 151 entries, id to settlement_term\n",
            "dtypes: float64(113), object(38)\n",
            "memory usage: 2.5+ GB\n"
          ]
        }
      ],
      "source": [
        "accepted_loans.info()"
      ]
    },
    {
      "cell_type": "code",
      "execution_count": 4,
      "metadata": {
        "colab": {
          "base_uri": "https://localhost:8080/",
          "height": 386
        },
        "id": "hNfNnOfm6SAe",
        "outputId": "482072a7-d390-4d91-db1c-661a24d66dca"
      },
      "outputs": [
        {
          "data": {
            "text/html": [
              "<div>\n",
              "<style scoped>\n",
              "    .dataframe tbody tr th:only-of-type {\n",
              "        vertical-align: middle;\n",
              "    }\n",
              "\n",
              "    .dataframe tbody tr th {\n",
              "        vertical-align: top;\n",
              "    }\n",
              "\n",
              "    .dataframe thead th {\n",
              "        text-align: right;\n",
              "    }\n",
              "</style>\n",
              "<table border=\"1\" class=\"dataframe\">\n",
              "  <thead>\n",
              "    <tr style=\"text-align: right;\">\n",
              "      <th></th>\n",
              "      <th>id</th>\n",
              "      <th>member_id</th>\n",
              "      <th>loan_amnt</th>\n",
              "      <th>funded_amnt</th>\n",
              "      <th>funded_amnt_inv</th>\n",
              "      <th>term</th>\n",
              "      <th>int_rate</th>\n",
              "      <th>installment</th>\n",
              "      <th>grade</th>\n",
              "      <th>sub_grade</th>\n",
              "      <th>...</th>\n",
              "      <th>hardship_payoff_balance_amount</th>\n",
              "      <th>hardship_last_payment_amount</th>\n",
              "      <th>disbursement_method</th>\n",
              "      <th>debt_settlement_flag</th>\n",
              "      <th>debt_settlement_flag_date</th>\n",
              "      <th>settlement_status</th>\n",
              "      <th>settlement_date</th>\n",
              "      <th>settlement_amount</th>\n",
              "      <th>settlement_percentage</th>\n",
              "      <th>settlement_term</th>\n",
              "    </tr>\n",
              "  </thead>\n",
              "  <tbody>\n",
              "    <tr>\n",
              "      <th>0</th>\n",
              "      <td>68407277</td>\n",
              "      <td>NaN</td>\n",
              "      <td>3600.0</td>\n",
              "      <td>3600.0</td>\n",
              "      <td>3600.0</td>\n",
              "      <td>36 months</td>\n",
              "      <td>13.99</td>\n",
              "      <td>123.03</td>\n",
              "      <td>C</td>\n",
              "      <td>C4</td>\n",
              "      <td>...</td>\n",
              "      <td>NaN</td>\n",
              "      <td>NaN</td>\n",
              "      <td>Cash</td>\n",
              "      <td>N</td>\n",
              "      <td>NaN</td>\n",
              "      <td>NaN</td>\n",
              "      <td>NaN</td>\n",
              "      <td>NaN</td>\n",
              "      <td>NaN</td>\n",
              "      <td>NaN</td>\n",
              "    </tr>\n",
              "    <tr>\n",
              "      <th>1</th>\n",
              "      <td>68355089</td>\n",
              "      <td>NaN</td>\n",
              "      <td>24700.0</td>\n",
              "      <td>24700.0</td>\n",
              "      <td>24700.0</td>\n",
              "      <td>36 months</td>\n",
              "      <td>11.99</td>\n",
              "      <td>820.28</td>\n",
              "      <td>C</td>\n",
              "      <td>C1</td>\n",
              "      <td>...</td>\n",
              "      <td>NaN</td>\n",
              "      <td>NaN</td>\n",
              "      <td>Cash</td>\n",
              "      <td>N</td>\n",
              "      <td>NaN</td>\n",
              "      <td>NaN</td>\n",
              "      <td>NaN</td>\n",
              "      <td>NaN</td>\n",
              "      <td>NaN</td>\n",
              "      <td>NaN</td>\n",
              "    </tr>\n",
              "    <tr>\n",
              "      <th>2</th>\n",
              "      <td>68341763</td>\n",
              "      <td>NaN</td>\n",
              "      <td>20000.0</td>\n",
              "      <td>20000.0</td>\n",
              "      <td>20000.0</td>\n",
              "      <td>60 months</td>\n",
              "      <td>10.78</td>\n",
              "      <td>432.66</td>\n",
              "      <td>B</td>\n",
              "      <td>B4</td>\n",
              "      <td>...</td>\n",
              "      <td>NaN</td>\n",
              "      <td>NaN</td>\n",
              "      <td>Cash</td>\n",
              "      <td>N</td>\n",
              "      <td>NaN</td>\n",
              "      <td>NaN</td>\n",
              "      <td>NaN</td>\n",
              "      <td>NaN</td>\n",
              "      <td>NaN</td>\n",
              "      <td>NaN</td>\n",
              "    </tr>\n",
              "    <tr>\n",
              "      <th>3</th>\n",
              "      <td>66310712</td>\n",
              "      <td>NaN</td>\n",
              "      <td>35000.0</td>\n",
              "      <td>35000.0</td>\n",
              "      <td>35000.0</td>\n",
              "      <td>60 months</td>\n",
              "      <td>14.85</td>\n",
              "      <td>829.90</td>\n",
              "      <td>C</td>\n",
              "      <td>C5</td>\n",
              "      <td>...</td>\n",
              "      <td>NaN</td>\n",
              "      <td>NaN</td>\n",
              "      <td>Cash</td>\n",
              "      <td>N</td>\n",
              "      <td>NaN</td>\n",
              "      <td>NaN</td>\n",
              "      <td>NaN</td>\n",
              "      <td>NaN</td>\n",
              "      <td>NaN</td>\n",
              "      <td>NaN</td>\n",
              "    </tr>\n",
              "    <tr>\n",
              "      <th>4</th>\n",
              "      <td>68476807</td>\n",
              "      <td>NaN</td>\n",
              "      <td>10400.0</td>\n",
              "      <td>10400.0</td>\n",
              "      <td>10400.0</td>\n",
              "      <td>60 months</td>\n",
              "      <td>22.45</td>\n",
              "      <td>289.91</td>\n",
              "      <td>F</td>\n",
              "      <td>F1</td>\n",
              "      <td>...</td>\n",
              "      <td>NaN</td>\n",
              "      <td>NaN</td>\n",
              "      <td>Cash</td>\n",
              "      <td>N</td>\n",
              "      <td>NaN</td>\n",
              "      <td>NaN</td>\n",
              "      <td>NaN</td>\n",
              "      <td>NaN</td>\n",
              "      <td>NaN</td>\n",
              "      <td>NaN</td>\n",
              "    </tr>\n",
              "  </tbody>\n",
              "</table>\n",
              "<p>5 rows × 151 columns</p>\n",
              "</div>"
            ],
            "text/plain": [
              "         id  member_id  loan_amnt  funded_amnt  funded_amnt_inv        term  \\\n",
              "0  68407277        NaN     3600.0       3600.0           3600.0   36 months   \n",
              "1  68355089        NaN    24700.0      24700.0          24700.0   36 months   \n",
              "2  68341763        NaN    20000.0      20000.0          20000.0   60 months   \n",
              "3  66310712        NaN    35000.0      35000.0          35000.0   60 months   \n",
              "4  68476807        NaN    10400.0      10400.0          10400.0   60 months   \n",
              "\n",
              "   int_rate  installment grade sub_grade  ... hardship_payoff_balance_amount  \\\n",
              "0     13.99       123.03     C        C4  ...                            NaN   \n",
              "1     11.99       820.28     C        C1  ...                            NaN   \n",
              "2     10.78       432.66     B        B4  ...                            NaN   \n",
              "3     14.85       829.90     C        C5  ...                            NaN   \n",
              "4     22.45       289.91     F        F1  ...                            NaN   \n",
              "\n",
              "  hardship_last_payment_amount disbursement_method  debt_settlement_flag  \\\n",
              "0                          NaN                Cash                     N   \n",
              "1                          NaN                Cash                     N   \n",
              "2                          NaN                Cash                     N   \n",
              "3                          NaN                Cash                     N   \n",
              "4                          NaN                Cash                     N   \n",
              "\n",
              "  debt_settlement_flag_date settlement_status settlement_date  \\\n",
              "0                       NaN               NaN             NaN   \n",
              "1                       NaN               NaN             NaN   \n",
              "2                       NaN               NaN             NaN   \n",
              "3                       NaN               NaN             NaN   \n",
              "4                       NaN               NaN             NaN   \n",
              "\n",
              "  settlement_amount settlement_percentage settlement_term  \n",
              "0               NaN                   NaN             NaN  \n",
              "1               NaN                   NaN             NaN  \n",
              "2               NaN                   NaN             NaN  \n",
              "3               NaN                   NaN             NaN  \n",
              "4               NaN                   NaN             NaN  \n",
              "\n",
              "[5 rows x 151 columns]"
            ]
          },
          "execution_count": 4,
          "metadata": {},
          "output_type": "execute_result"
        }
      ],
      "source": [
        "accepted_loans.head()"
      ]
    },
    {
      "cell_type": "code",
      "execution_count": 5,
      "metadata": {
        "colab": {
          "base_uri": "https://localhost:8080/"
        },
        "id": "on4N2NGQ-5iS",
        "outputId": "0199d105-e28e-411c-fb77-9a57814840fb"
      },
      "outputs": [
        {
          "data": {
            "text/plain": [
              "Fully Paid                                             1076751\n",
              "Current                                                 878317\n",
              "Charged Off                                             268559\n",
              "Late (31-120 days)                                       21467\n",
              "In Grace Period                                           8436\n",
              "Late (16-30 days)                                         4349\n",
              "Does not meet the credit policy. Status:Fully Paid        1988\n",
              "Does not meet the credit policy. Status:Charged Off        761\n",
              "Default                                                     40\n",
              "Name: loan_status, dtype: int64"
            ]
          },
          "execution_count": 5,
          "metadata": {},
          "output_type": "execute_result"
        }
      ],
      "source": [
        "accepted_loans['loan_status'].value_counts()"
      ]
    },
    {
      "cell_type": "markdown",
      "metadata": {
        "id": "2MmbEspwCTR7"
      },
      "source": [
        "# Exploratory Data Analysis"
      ]
    },
    {
      "cell_type": "markdown",
      "metadata": {
        "id": "7jvQmGx2B3fX"
      },
      "source": [
        "## Considering only 'Fully Paid' and 'Charged Off' status\n"
      ]
    },
    {
      "cell_type": "code",
      "execution_count": 6,
      "metadata": {
        "colab": {
          "base_uri": "https://localhost:8080/"
        },
        "id": "g1rt8g0_A3L1",
        "outputId": "b40dfb30-8b25-4df6-8a28-b55f77d9a8f8"
      },
      "outputs": [
        {
          "data": {
            "text/plain": [
              "(1345310, 151)"
            ]
          },
          "execution_count": 6,
          "metadata": {},
          "output_type": "execute_result"
        }
      ],
      "source": [
        "accepted_loans = accepted_loans[(accepted_loans['loan_status'] == 'Fully Paid') | (accepted_loans['loan_status'] == 'Charged Off')]\n",
        "accepted_loans.shape"
      ]
    },
    {
      "cell_type": "code",
      "execution_count": 7,
      "metadata": {
        "colab": {
          "base_uri": "https://localhost:8080/",
          "height": 308
        },
        "id": "tNhFRqnjCVLM",
        "outputId": "2bbbe35d-5800-4bdd-869e-2a514d0369b8"
      },
      "outputs": [
        {
          "data": {
            "text/plain": [
              "<AxesSubplot:xlabel='loan_status', ylabel='count'>"
            ]
          },
          "execution_count": 7,
          "metadata": {},
          "output_type": "execute_result"
        },
        {
          "data": {
            "image/png": "[encoded data removed]",
            "text/plain": [
              "<Figure size 432x288 with 1 Axes>"
            ]
          },
          "metadata": {
            "needs_background": "light"
          },
          "output_type": "display_data"
        }
      ],
      "source": [
        "sns.countplot(x=accepted_loans['loan_status'], data=accepted_loans)"
      ]
    },
    {
      "cell_type": "code",
      "execution_count": 8,
      "metadata": {
        "colab": {
          "base_uri": "https://localhost:8080/"
        },
        "id": "MvYKj3bjDd-t",
        "outputId": "c0cbcc0c-3e9d-429e-9732-3e9833a20084"
      },
      "outputs": [
        {
          "name": "stdout",
          "output_type": "stream",
          "text": [
            "1076751\n",
            "268559\n",
            "4.009364795072964\n"
          ]
        }
      ],
      "source": [
        "num_fully_paid_loans = accepted_loans[accepted_loans['loan_status'] == 'Fully Paid'].shape[0]\n",
        "num_charged_off_loans = accepted_loans[accepted_loans['loan_status'] == 'Charged Off'].shape[0]\n",
        "print(num_fully_paid_loans)\n",
        "print(num_charged_off_loans)\n",
        "print(num_fully_paid_loans / num_charged_off_loans)"
      ]
    },
    {
      "cell_type": "markdown",
      "metadata": {
        "id": "O8rdamZgE2UR"
      },
      "source": [
        "## Data Cleaning"
      ]
    },
    {
      "cell_type": "markdown",
      "metadata": {
        "id": "-l6akE4pFSRG"
      },
      "source": [
        "### Percentage of missing values per column"
      ]
    },
    {
      "cell_type": "code",
      "execution_count": 9,
      "metadata": {
        "colab": {
          "base_uri": "https://localhost:8080/"
        },
        "id": "d_CsnoqIEU3n",
        "outputId": "0dc38723-56eb-4ea7-ab08-9fc9256186b3"
      },
      "outputs": [
        {
          "data": {
            "text/plain": [
              "next_pymnt_d                                  1345310\n",
              "member_id                                     1345310\n",
              "orig_projected_additional_accrued_interest    1341551\n",
              "hardship_start_date                           1339556\n",
              "hardship_length                               1339556\n",
              "                                               ...   \n",
              "pub_rec                                             0\n",
              "open_acc                                            0\n",
              "fico_range_high                                     0\n",
              "fico_range_low                                      0\n",
              "id                                                  0\n",
              "Length: 151, dtype: int64"
            ]
          },
          "execution_count": 9,
          "metadata": {},
          "output_type": "execute_result"
        }
      ],
      "source": [
        "accepted_loans.isnull().sum().sort_values(ascending=False)\n",
        "# Can't compute percentage here because of ram limitation"
      ]
    },
    {
      "cell_type": "markdown",
      "metadata": {
        "id": "tib29qQ5RfL5"
      },
      "source": [
        "### Dropping features having too much missing data"
      ]
    },
    {
      "cell_type": "code",
      "execution_count": 10,
      "metadata": {
        "colab": {
          "base_uri": "https://localhost:8080/"
        },
        "id": "rpnXdjTiQ2G-",
        "outputId": "a9be8f9b-893f-45a1-e9d4-4e5b1e9d229b"
      },
      "outputs": [
        {
          "data": {
            "text/plain": [
              "93"
            ]
          },
          "execution_count": 10,
          "metadata": {},
          "output_type": "execute_result"
        }
      ],
      "source": [
        "# dropping columns have more than 50% missing data\n",
        "keeping_columns = accepted_loans.columns[accepted_loans.isnull().sum() < (len(accepted_loans) / 2)].to_list()\n",
        "len(keeping_columns)"
      ]
    },
    {
      "cell_type": "code",
      "execution_count": 11,
      "metadata": {
        "id": "5kXjfYEqTPfQ"
      },
      "outputs": [],
      "source": [
        "accepted_loans = accepted_loans[keeping_columns]"
      ]
    },
    {
      "cell_type": "code",
      "execution_count": 12,
      "metadata": {
        "colab": {
          "base_uri": "https://localhost:8080/"
        },
        "id": "WG-sKsfyTbNG",
        "outputId": "395d5d06-eb48-4e39-8a2a-aa3d56129ed3"
      },
      "outputs": [
        {
          "data": {
            "text/plain": [
              "mths_since_recent_inq         12.939100\n",
              "num_tl_120dpd_2m               8.726688\n",
              "mo_sin_old_il_acct             7.847634\n",
              "emp_title                      6.376597\n",
              "emp_length                     5.835904\n",
              "pct_tl_nvr_dlq                 5.030885\n",
              "avg_cur_bal                    5.021073\n",
              "num_rev_accts                  5.019512\n",
              "mo_sin_rcnt_rev_tl_op          5.019512\n",
              "mo_sin_old_rev_tl_op           5.019512\n",
              "mo_sin_rcnt_tl                 5.019438\n",
              "num_rev_tl_bal_gt_0            5.019438\n",
              "num_accts_ever_120_pd          5.019438\n",
              "num_actv_bc_tl                 5.019438\n",
              "num_actv_rev_tl                5.019438\n",
              "num_bc_tl                      5.019438\n",
              "tot_coll_amt                   5.019438\n",
              "total_rev_hi_lim               5.019438\n",
              "num_op_rev_tl                  5.019438\n",
              "num_il_tl                      5.019438\n",
              "tot_cur_bal                    5.019438\n",
              "tot_hi_cred_lim                5.019438\n",
              "num_tl_op_past_12m             5.019438\n",
              "total_il_high_credit_limit     5.019438\n",
              "num_tl_30dpd                   5.019438\n",
              "num_tl_90g_dpd_24m             5.019438\n",
              "bc_util                        4.602062\n",
              "percent_bc_gt_75               4.575525\n",
              "bc_open_to_buy                 4.544900\n",
              "mths_since_recent_bc           4.476366\n",
              "num_bc_sats                    4.150791\n",
              "num_sats                       4.150791\n",
              "mort_acc                       3.514506\n",
              "total_bal_ex_mort              3.514506\n",
              "total_bc_limit                 3.514506\n",
              "acc_open_past_24mths           3.514506\n",
              "title                          1.238302\n",
              "last_pymnt_d                   0.171931\n",
              "revol_util                     0.063703\n",
              "pub_rec_bankruptcies           0.051810\n",
              "dti                            0.027800\n",
              "collections_12_mths_ex_med     0.004163\n",
              "chargeoff_within_12_mths       0.004163\n",
              "last_credit_pull_d             0.004088\n",
              "tax_liens                      0.002899\n",
              "zip_code                       0.000074\n",
              "inq_last_6mths                 0.000074\n",
              "hardship_flag                  0.000000\n",
              "delinq_amnt                    0.000000\n",
              "disbursement_method            0.000000\n",
              "dtype: float64"
            ]
          },
          "execution_count": 12,
          "metadata": {},
          "output_type": "execute_result"
        }
      ],
      "source": [
        "(accepted_loans.isnull().sum() / len(accepted_loans) * 100).sort_values(ascending=False).head(50)"
      ]
    },
    {
      "cell_type": "code",
      "execution_count": 13,
      "metadata": {
        "colab": {
          "base_uri": "https://localhost:8080/"
        },
        "id": "RPoPcDg5Uhhe",
        "outputId": "599ff20e-ea46-400a-d042-c2f0b4934792"
      },
      "outputs": [
        {
          "data": {
            "text/plain": [
              "(1345310, 56)"
            ]
          },
          "execution_count": 13,
          "metadata": {},
          "output_type": "execute_result"
        }
      ],
      "source": [
        "# dropping up to 'title' feature\n",
        "dropping_columns = accepted_loans.isnull().sum().sort_values(ascending=False).head(37).index\n",
        "accepted_loans = accepted_loans.drop(columns=dropping_columns)\n",
        "accepted_loans.shape"
      ]
    },
    {
      "cell_type": "code",
      "execution_count": 14,
      "metadata": {
        "colab": {
          "base_uri": "https://localhost:8080/"
        },
        "id": "ZZ1qujKvWBhj",
        "outputId": "fd968cad-37c6-4280-fead-5d3d95426933"
      },
      "outputs": [
        {
          "data": {
            "text/plain": [
              "last_pymnt_d                  0.171931\n",
              "revol_util                    0.063703\n",
              "pub_rec_bankruptcies          0.051810\n",
              "dti                           0.027800\n",
              "chargeoff_within_12_mths      0.004163\n",
              "collections_12_mths_ex_med    0.004163\n",
              "last_credit_pull_d            0.004088\n",
              "tax_liens                     0.002899\n",
              "inq_last_6mths                0.000074\n",
              "zip_code                      0.000074\n",
              "delinq_amnt                   0.000000\n",
              "disbursement_method           0.000000\n",
              "out_prncp_inv                 0.000000\n",
              "total_pymnt                   0.000000\n",
              "total_pymnt_inv               0.000000\n",
              "total_rec_prncp               0.000000\n",
              "total_rec_int                 0.000000\n",
              "total_rec_late_fee            0.000000\n",
              "recoveries                    0.000000\n",
              "collection_recovery_fee       0.000000\n",
              "acc_now_delinq                0.000000\n",
              "hardship_flag                 0.000000\n",
              "last_pymnt_amnt               0.000000\n",
              "initial_list_status           0.000000\n",
              "last_fico_range_high          0.000000\n",
              "last_fico_range_low           0.000000\n",
              "policy_code                   0.000000\n",
              "application_type              0.000000\n",
              "out_prncp                     0.000000\n",
              "id                            0.000000\n",
              "total_acc                     0.000000\n",
              "loan_amnt                     0.000000\n",
              "funded_amnt                   0.000000\n",
              "funded_amnt_inv               0.000000\n",
              "term                          0.000000\n",
              "int_rate                      0.000000\n",
              "installment                   0.000000\n",
              "grade                         0.000000\n",
              "sub_grade                     0.000000\n",
              "home_ownership                0.000000\n",
              "annual_inc                    0.000000\n",
              "verification_status           0.000000\n",
              "issue_d                       0.000000\n",
              "loan_status                   0.000000\n",
              "pymnt_plan                    0.000000\n",
              "url                           0.000000\n",
              "purpose                       0.000000\n",
              "addr_state                    0.000000\n",
              "delinq_2yrs                   0.000000\n",
              "earliest_cr_line              0.000000\n",
              "fico_range_low                0.000000\n",
              "fico_range_high               0.000000\n",
              "open_acc                      0.000000\n",
              "pub_rec                       0.000000\n",
              "revol_bal                     0.000000\n",
              "debt_settlement_flag          0.000000\n",
              "dtype: float64"
            ]
          },
          "execution_count": 14,
          "metadata": {},
          "output_type": "execute_result"
        }
      ],
      "source": [
        "(accepted_loans.isnull().sum() / len(accepted_loans) * 100).sort_values(ascending=False)"
      ]
    },
    {
      "cell_type": "code",
      "execution_count": 15,
      "metadata": {
        "colab": {
          "base_uri": "https://localhost:8080/"
        },
        "id": "v6YEkJhvirHm",
        "outputId": "d06532e2-2e86-45b4-d05c-72b0c3709d95"
      },
      "outputs": [
        {
          "name": "stdout",
          "output_type": "stream",
          "text": [
            "<class 'pandas.core.frame.DataFrame'>\n",
            "Int64Index: 1345310 entries, 0 to 2260697\n",
            "Data columns (total 56 columns):\n",
            " #   Column                      Non-Null Count    Dtype  \n",
            "---  ------                      --------------    -----  \n",
            " 0   id                          1345310 non-null  object \n",
            " 1   loan_amnt                   1345310 non-null  float64\n",
            " 2   funded_amnt                 1345310 non-null  float64\n",
            " 3   funded_amnt_inv             1345310 non-null  float64\n",
            " 4   term                        1345310 non-null  object \n",
            " 5   int_rate                    1345310 non-null  float64\n",
            " 6   installment                 1345310 non-null  float64\n",
            " 7   grade                       1345310 non-null  object \n",
            " 8   sub_grade                   1345310 non-null  object \n",
            " 9   home_ownership              1345310 non-null  object \n",
            " 10  annual_inc                  1345310 non-null  float64\n",
            " 11  verification_status         1345310 non-null  object \n",
            " 12  issue_d                     1345310 non-null  object \n",
            " 13  loan_status                 1345310 non-null  object \n",
            " 14  pymnt_plan                  1345310 non-null  object \n",
            " 15  url                         1345310 non-null  object \n",
            " 16  purpose                     1345310 non-null  object \n",
            " 17  zip_code                    1345309 non-null  object \n",
            " 18  addr_state                  1345310 non-null  object \n",
            " 19  dti                         1344936 non-null  float64\n",
            " 20  delinq_2yrs                 1345310 non-null  float64\n",
            " 21  earliest_cr_line            1345310 non-null  object \n",
            " 22  fico_range_low              1345310 non-null  float64\n",
            " 23  fico_range_high             1345310 non-null  float64\n",
            " 24  inq_last_6mths              1345309 non-null  float64\n",
            " 25  open_acc                    1345310 non-null  float64\n",
            " 26  pub_rec                     1345310 non-null  float64\n",
            " 27  revol_bal                   1345310 non-null  float64\n",
            " 28  revol_util                  1344453 non-null  float64\n",
            " 29  total_acc                   1345310 non-null  float64\n",
            " 30  initial_list_status         1345310 non-null  object \n",
            " 31  out_prncp                   1345310 non-null  float64\n",
            " 32  out_prncp_inv               1345310 non-null  float64\n",
            " 33  total_pymnt                 1345310 non-null  float64\n",
            " 34  total_pymnt_inv             1345310 non-null  float64\n",
            " 35  total_rec_prncp             1345310 non-null  float64\n",
            " 36  total_rec_int               1345310 non-null  float64\n",
            " 37  total_rec_late_fee          1345310 non-null  float64\n",
            " 38  recoveries                  1345310 non-null  float64\n",
            " 39  collection_recovery_fee     1345310 non-null  float64\n",
            " 40  last_pymnt_d                1342997 non-null  object \n",
            " 41  last_pymnt_amnt             1345310 non-null  float64\n",
            " 42  last_credit_pull_d          1345255 non-null  object \n",
            " 43  last_fico_range_high        1345310 non-null  float64\n",
            " 44  last_fico_range_low         1345310 non-null  float64\n",
            " 45  collections_12_mths_ex_med  1345254 non-null  float64\n",
            " 46  policy_code                 1345310 non-null  float64\n",
            " 47  application_type            1345310 non-null  object \n",
            " 48  acc_now_delinq              1345310 non-null  float64\n",
            " 49  chargeoff_within_12_mths    1345254 non-null  float64\n",
            " 50  delinq_amnt                 1345310 non-null  float64\n",
            " 51  pub_rec_bankruptcies        1344613 non-null  float64\n",
            " 52  tax_liens                   1345271 non-null  float64\n",
            " 53  hardship_flag               1345310 non-null  object \n",
            " 54  disbursement_method         1345310 non-null  object \n",
            " 55  debt_settlement_flag        1345310 non-null  object \n",
            "dtypes: float64(35), object(21)\n",
            "memory usage: 585.0+ MB\n"
          ]
        }
      ],
      "source": [
        "accepted_loans.info()"
      ]
    },
    {
      "cell_type": "markdown",
      "metadata": {
        "id": "gHwegPLIaNCi"
      },
      "source": [
        "## Features meaning"
      ]
    },
    {
      "cell_type": "markdown",
      "metadata": {
        "id": "gJRFmTg2bIFa"
      },
      "source": [
        "- id: A unique LC assigned ID for the loan listing\n",
        "\n",
        "- loan_amnt: The listed amount of the loan applied for by the borrower. If at some point in time, the credit department reduces the loan amount, then it will be reflected in this value\n",
        "\n",
        "- funded_amnt: The total amount committed to that loan at that point in time\n",
        "\n",
        "- funded_amnt_inv: The total amount committed by investors for that loan at that point in time\n",
        "\n",
        "- The number of payments on the loan. Values are in months and can be either 36 or 60\n",
        "\n",
        "- int_rate: Interest Rate on the loan\n",
        "\n",
        "- installment: The monthly payment owed by the borrower if the loan originates\n",
        "\n",
        "- grade: LC assigned loan grade\n",
        "\n",
        "- sub_grade: LC assigned loan subgrade\n",
        "\n",
        "- home_ownership: The home ownership status provided by the borrower during registration. Our values are: RENT, OWN, MORTGAGE, OTHER\n",
        "\n",
        "- annual_inc: The self-reported annual income provided by the borrower during registration\n",
        "\n",
        "- verification_status: Indicates if income was verified by LC, not verified, or if the income source was verified\n",
        "\n",
        "- issue_d: The month which the loan was funded\n",
        "\n",
        "- loan_status: Current status of the loan (objective value)\n",
        "\n",
        "- pymnt_plan: Indicates if a payment plan has been put in place for the loan\n",
        "\n",
        "- url: \n",
        "\n",
        "- purpose: A category provided by the borrower for the loan request\n",
        "\n",
        "- zip_code: The first 3 numbers of the zip code provided by the borrower in the loan application\n",
        "\n",
        "- addr_state: The state provided by the borrower in the loan application\n",
        "\n",
        "- dti: A ratio calculated using the borrower’s total monthly debt payments on the total debt obligations, excluding mortgage and the requested LC loan, divided by the borrower’s self-reported monthly income\n",
        "\n",
        "- earliest_cr_line: The month the borrower's earliest reported credit line was opened\n",
        "\n",
        "- fico_range_low: The lower boundary range the borrower’s FICO at loan origination belongs to\n",
        "\n",
        "- fico_range_high: The upper boundary range the borrower’s FICO at loan origination belongs to\n",
        "\n",
        "- inq_last_6mths: The number of inquiries in past 6 months (excluding auto and mortgage inquiries)\n",
        "\n",
        "- open_acc: The number of open credit lines in the borrower’s credit file\n",
        "\n",
        "- pub_rec: Number of derogatory public records\n",
        "\n",
        "- revol_bal: Total credit revolving balance\n",
        "\n",
        "- revol_util: Revolving line utilization rate, or the amount of credit the borrower is using relative to all available revolving credit\n",
        "\n",
        "- total_acc: The total number of credit lines currently in the borrower's credit file\n",
        "\n",
        "- initial_list_status: \tThe initial listing status of the loan. Possible values are – W, F\n",
        "\n",
        "- out_prncp: Remaining outstanding principal for total amount funded\n",
        "\n",
        "- out_prncp_inv: Remaining outstanding principal for portion of total amount funded by investors\n",
        "\n",
        "- total_pymnt: Payments received to date for total amount funded\n",
        "\n",
        "- total_pymnt_inv: Payments received to date for portion of total amount funded by investors\n",
        "\n",
        "- total_rec_prncp: Principal received to date\n",
        "\n",
        "- total_rec_int: Interest received to date\n",
        "\n",
        "- total_rec_late_fee: Late fees received to date\n",
        "\n",
        "- recoveries: post charge off gross recovery\n",
        "\n",
        "- collection_recovery_fee: post charge off collection fee\n",
        "\n",
        "- last_pymnt_d: Last month payment was received\n",
        "\n",
        "- last_pymnt_amnt: Last total payment amount received\n",
        "\n",
        "- last_credit_pull_d: The most recent month LC pulled credit for this loan\n",
        "\n",
        "- last_fico_range_high: The upper boundary range the borrower’s last FICO pulled belongs to\n",
        "\n",
        "- last_fico_range_high: The upper boundary range the borrower’s last FICO pulled belongs to\n",
        "\n",
        "- collections_12_mths_ex_med: Number of collections in 12 months excluding medical collections\n",
        "\n",
        "- policy_code: publicly available policy_code=1\\nnew products not publicly available policy_code=2\n",
        "\n",
        "- application_type: Indicates whether the loan is an individual application or a joint application with two co-borrowers\n",
        "\n",
        "- acc_now_delinq: The number of accounts on which the borrower is now delinquent\n",
        "\n",
        "- chargeoff_within_12_mths: Number of charge-offs within 12 months\n",
        "\n",
        "- delinq_amnt: The past-due amount owed for the accounts on which the borrower is now delinquent\n",
        "\n",
        "- pub_rec_bankruptcies: Number of public record bankruptcies\n",
        "\n",
        "- tax_liens: Number of tax liens\n",
        "\n",
        "- hardship_flag: The credit report will also put a “flag” alongside your repayment history information that means that the repayment history is associated with a special arrangement – in the credit report this will be referred to as “financial hardship information”\n",
        "\n",
        "- A disbursement is the paying out of funds, whether to make a purchase or other transaction. A disbursement can be made using cash or other methods of \n",
        "\n",
        "- debt_settlement_flag: Debt settlement is when your debt is settled for less than what you currently owe, with the promise that you’ll pay the amount settled for in full"
      ]
    },
    {
      "cell_type": "markdown",
      "metadata": {
        "id": "pol2unDdAMP8"
      },
      "source": [
        "# Preprocessing"
      ]
    },
    {
      "cell_type": "markdown",
      "metadata": {
        "id": "SAkiNNzWASe_"
      },
      "source": [
        "Plotting histogram of loan amout to see data distribution"
      ]
    },
    {
      "cell_type": "code",
      "execution_count": 16,
      "metadata": {
        "colab": {
          "base_uri": "https://localhost:8080/",
          "height": 515
        },
        "id": "VvF3H5uLivfN",
        "outputId": "87c32ea7-cb59-4b19-dc48-4bde5b585712"
      },
      "outputs": [
        {
          "data": {
            "text/plain": [
              "<AxesSubplot:xlabel='loan_amnt', ylabel='Count'>"
            ]
          },
          "execution_count": 16,
          "metadata": {},
          "output_type": "execute_result"
        },
        {
          "data": {
            "image/png": "[encoded data removed]",
            "text/plain": [
              "<Figure size 1440x576 with 1 Axes>"
            ]
          },
          "metadata": {
            "needs_background": "light"
          },
          "output_type": "display_data"
        }
      ],
      "source": [
        "plt.figure(figsize=(20, 8))\n",
        "sns.histplot(accepted_loans['loan_amnt'])"
      ]
    },
    {
      "cell_type": "markdown",
      "metadata": {
        "id": "k8HB6G-2AneT"
      },
      "source": [
        "## Seeing correlation between continuous features via heatmap"
      ]
    },
    {
      "cell_type": "code",
      "execution_count": 17,
      "metadata": {
        "colab": {
          "base_uri": "https://localhost:8080/",
          "height": 744
        },
        "id": "U4-kslqk_ArD",
        "outputId": "fe6c3f3a-de67-4031-c27b-9cf55bb35aba"
      },
      "outputs": [
        {
          "data": {
            "text/plain": [
              "<AxesSubplot:>"
            ]
          },
          "execution_count": 17,
          "metadata": {},
          "output_type": "execute_result"
        },
        {
          "data": {
            "image/png": "[encoded data removed]",
            "text/plain": [
              "<Figure size 1008x720 with 2 Axes>"
            ]
          },
          "metadata": {
            "needs_background": "light"
          },
          "output_type": "display_data"
        }
      ],
      "source": [
        "plt.figure(figsize=(14, 10))\n",
        "mask = np.zeros_like(accepted_loans.corr())\n",
        "mask[np.triu_indices_from(mask)] = True\n",
        "sns.heatmap(accepted_loans.corr(), mask=mask, cmap='viridis')"
      ]
    },
    {
      "cell_type": "markdown",
      "metadata": {
        "id": "h7ur-seSEDJh"
      },
      "source": [
        "There are 3 columns with a visible different behaviour: out_prncp, out_prncp_inv and policy_code"
      ]
    },
    {
      "cell_type": "code",
      "execution_count": 18,
      "metadata": {
        "colab": {
          "base_uri": "https://localhost:8080/"
        },
        "id": "NjuQzlCsDO9P",
        "outputId": "9d2487df-e372-4a4e-a383-0515e1a77c1a"
      },
      "outputs": [
        {
          "name": "stdout",
          "output_type": "stream",
          "text": [
            "0.0    1345310\n",
            "Name: out_prncp, dtype: int64\n",
            "0.0    1345310\n",
            "Name: out_prncp_inv, dtype: int64\n",
            "1.0    1345310\n",
            "Name: policy_code, dtype: int64\n"
          ]
        }
      ],
      "source": [
        "print(accepted_loans['out_prncp'].value_counts())\n",
        "print(accepted_loans['out_prncp_inv'].value_counts())\n",
        "print(accepted_loans['policy_code'].value_counts())"
      ]
    },
    {
      "cell_type": "markdown",
      "metadata": {
        "id": "F991cE7OE9Sg"
      },
      "source": [
        "They are constant, so we can drop these features"
      ]
    },
    {
      "cell_type": "code",
      "execution_count": 19,
      "metadata": {
        "colab": {
          "base_uri": "https://localhost:8080/"
        },
        "id": "cFa7DATzEzcC",
        "outputId": "cecdef7e-ba73-4ae7-cf61-6b4f3e97e90a"
      },
      "outputs": [
        {
          "data": {
            "text/plain": [
              "(1345310, 53)"
            ]
          },
          "execution_count": 19,
          "metadata": {},
          "output_type": "execute_result"
        }
      ],
      "source": [
        "dropping_columns = ['out_prncp', 'out_prncp_inv', 'policy_code']\n",
        "accepted_loans = accepted_loans.drop(columns=dropping_columns)\n",
        "accepted_loans.shape"
      ]
    },
    {
      "cell_type": "code",
      "execution_count": 20,
      "metadata": {
        "colab": {
          "base_uri": "https://localhost:8080/",
          "height": 744
        },
        "id": "qY5TEpLtFa71",
        "outputId": "3ef0f5eb-6c93-4b5a-b5b0-1ea1dbf8caa8"
      },
      "outputs": [
        {
          "data": {
            "text/plain": [
              "<AxesSubplot:>"
            ]
          },
          "execution_count": 20,
          "metadata": {},
          "output_type": "execute_result"
        },
        {
          "data": {
            "image/png": "[encoded data removed]",
            "text/plain": [
              "<Figure size 1008x720 with 2 Axes>"
            ]
          },
          "metadata": {
            "needs_background": "light"
          },
          "output_type": "display_data"
        }
      ],
      "source": [
        "plt.figure(figsize=(14, 10))\n",
        "mask = np.zeros_like(accepted_loans.corr())\n",
        "mask[np.triu_indices_from(mask)] = True\n",
        "sns.heatmap(accepted_loans.corr(), mask=mask, cmap='viridis')"
      ]
    },
    {
      "cell_type": "markdown",
      "metadata": {
        "id": "D5li4RWHuaUn"
      },
      "source": [
        "## Leakage features"
      ]
    },
    {
      "cell_type": "code",
      "execution_count": 21,
      "metadata": {
        "id": "KVipXMOxufgD"
      },
      "outputs": [],
      "source": [
        "leakage_columns = ['last_pymnt_d', 'last_fico_range_low', 'issue_d', 'funded_amnt_inv', 'funded_amnt', 'last_fico_range_high', 'funded_amnt_inv', 'collection_recovery_fee', 'recoveries', 'total_rec_late_fee', 'total_rec_int', 'total_rec_prncp', 'total_pymnt_inv', 'total_pymnt']\n",
        "possible_leakage_columns = ['last_credit_pull_d', 'hardship_flag', 'disbursement_method', 'debt_settlement_flag']"
      ]
    },
    {
      "cell_type": "code",
      "execution_count": 22,
      "metadata": {
        "id": "ujXAMGk31Qin"
      },
      "outputs": [],
      "source": [
        "accepted_loans = accepted_loans.drop(columns=leakage_columns)"
      ]
    },
    {
      "cell_type": "code",
      "execution_count": 25,
      "metadata": {
        "colab": {
          "base_uri": "https://localhost:8080/"
        },
        "id": "-whm1RST1YuT",
        "outputId": "77d0ac63-977e-4622-d6f6-b2691113dc12"
      },
      "outputs": [
        {
          "name": "stdout",
          "output_type": "stream",
          "text": [
            "<class 'pandas.core.frame.DataFrame'>\n",
            "Int64Index: 1345310 entries, 0 to 2260697\n",
            "Data columns (total 40 columns):\n",
            " #   Column                      Non-Null Count    Dtype  \n",
            "---  ------                      --------------    -----  \n",
            " 0   id                          1345310 non-null  object \n",
            " 1   loan_amnt                   1345310 non-null  float64\n",
            " 2   term                        1345310 non-null  object \n",
            " 3   int_rate                    1345310 non-null  float64\n",
            " 4   installment                 1345310 non-null  float64\n",
            " 5   grade                       1345310 non-null  object \n",
            " 6   sub_grade                   1345310 non-null  object \n",
            " 7   home_ownership              1345310 non-null  object \n",
            " 8   annual_inc                  1345310 non-null  float64\n",
            " 9   verification_status         1345310 non-null  object \n",
            " 10  loan_status                 1345310 non-null  object \n",
            " 11  pymnt_plan                  1345310 non-null  object \n",
            " 12  url                         1345310 non-null  object \n",
            " 13  purpose                     1345310 non-null  object \n",
            " 14  zip_code                    1345309 non-null  object \n",
            " 15  addr_state                  1345310 non-null  object \n",
            " 16  dti                         1344936 non-null  float64\n",
            " 17  delinq_2yrs                 1345310 non-null  float64\n",
            " 18  earliest_cr_line            1345310 non-null  object \n",
            " 19  fico_range_low              1345310 non-null  float64\n",
            " 20  fico_range_high             1345310 non-null  float64\n",
            " 21  inq_last_6mths              1345309 non-null  float64\n",
            " 22  open_acc                    1345310 non-null  float64\n",
            " 23  pub_rec                     1345310 non-null  float64\n",
            " 24  revol_bal                   1345310 non-null  float64\n",
            " 25  revol_util                  1344453 non-null  float64\n",
            " 26  total_acc                   1345310 non-null  float64\n",
            " 27  initial_list_status         1345310 non-null  object \n",
            " 28  last_pymnt_amnt             1345310 non-null  float64\n",
            " 29  last_credit_pull_d          1345255 non-null  object \n",
            " 30  collections_12_mths_ex_med  1345254 non-null  float64\n",
            " 31  application_type            1345310 non-null  object \n",
            " 32  acc_now_delinq              1345310 non-null  float64\n",
            " 33  chargeoff_within_12_mths    1345254 non-null  float64\n",
            " 34  delinq_amnt                 1345310 non-null  float64\n",
            " 35  pub_rec_bankruptcies        1344613 non-null  float64\n",
            " 36  tax_liens                   1345271 non-null  float64\n",
            " 37  hardship_flag               1345310 non-null  object \n",
            " 38  disbursement_method         1345310 non-null  object \n",
            " 39  debt_settlement_flag        1345310 non-null  object \n",
            "dtypes: float64(21), object(19)\n",
            "memory usage: 420.8+ MB\n"
          ]
        }
      ],
      "source": [
        "accepted_loans.info()"
      ]
    },
    {
      "cell_type": "markdown",
      "metadata": {
        "id": "fKxuXgS2GXGD"
      },
      "source": [
        "Unstacking correlation to see highest correlation pairs"
      ]
    },
    {
      "cell_type": "code",
      "execution_count": 26,
      "metadata": {
        "colab": {
          "base_uri": "https://localhost:8080/",
          "height": 112
        },
        "id": "C37WBuvzFnST",
        "outputId": "3170cf69-4c6f-4836-ab76-3bf0b882b8cb"
      },
      "outputs": [
        {
          "data": {
            "text/html": [
              "<div>\n",
              "<style scoped>\n",
              "    .dataframe tbody tr th:only-of-type {\n",
              "        vertical-align: middle;\n",
              "    }\n",
              "\n",
              "    .dataframe tbody tr th {\n",
              "        vertical-align: top;\n",
              "    }\n",
              "\n",
              "    .dataframe thead th {\n",
              "        text-align: right;\n",
              "    }\n",
              "</style>\n",
              "<table border=\"1\" class=\"dataframe\">\n",
              "  <thead>\n",
              "    <tr style=\"text-align: right;\">\n",
              "      <th></th>\n",
              "      <th>feature 1</th>\n",
              "      <th>feature 2</th>\n",
              "      <th>corr</th>\n",
              "    </tr>\n",
              "  </thead>\n",
              "  <tbody>\n",
              "    <tr>\n",
              "      <th>1</th>\n",
              "      <td>fico_range_high</td>\n",
              "      <td>fico_range_low</td>\n",
              "      <td>1.000000</td>\n",
              "    </tr>\n",
              "    <tr>\n",
              "      <th>2</th>\n",
              "      <td>installment</td>\n",
              "      <td>loan_amnt</td>\n",
              "      <td>0.953401</td>\n",
              "    </tr>\n",
              "  </tbody>\n",
              "</table>\n",
              "</div>"
            ],
            "text/plain": [
              "         feature 1       feature 2      corr\n",
              "1  fico_range_high  fico_range_low  1.000000\n",
              "2      installment       loan_amnt  0.953401"
            ]
          },
          "execution_count": 26,
          "metadata": {},
          "output_type": "execute_result"
        }
      ],
      "source": [
        "correlation_matrix = accepted_loans.corr().abs()\n",
        "unstack_corr = correlation_matrix.unstack()\n",
        "unstack_corr = unstack_corr.sort_values(ascending=False)\n",
        "\n",
        "corr_df = pd.DataFrame(unstack_corr).drop_duplicates().reset_index()\n",
        "corr_df.columns = ['feature 1', 'feature 2', 'corr']\n",
        "\n",
        "# check pairs of feature having corr > 0.8\n",
        "condition1 = corr_df['corr'] > 0.8\n",
        "condition2 = corr_df['feature 1'] != corr_df['feature 2']\n",
        "corr_df[condition1 & condition2]"
      ]
    },
    {
      "cell_type": "markdown",
      "metadata": {
        "id": "Z5DCEFi1IqfP"
      },
      "source": [
        "## Performing scatter plot to check some correlations between variables"
      ]
    },
    {
      "cell_type": "code",
      "execution_count": 17,
      "metadata": {
        "colab": {
          "base_uri": "https://localhost:8080/",
          "height": 352
        },
        "id": "cNzyhvNOH7SD",
        "outputId": "ca873928-f169-42e0-f8f0-5993d9a17115"
      },
      "outputs": [
        {
          "name": "stderr",
          "output_type": "stream",
          "text": [
            "/usr/local/lib/python3.7/dist-packages/seaborn/_decorators.py:43: FutureWarning: Pass the following variables as keyword args: x, y. From version 0.12, the only valid positional argument will be `data`, and passing other arguments without an explicit keyword will result in an error or misinterpretation.\n",
            "  FutureWarning\n"
          ]
        },
        {
          "data": {
            "text/plain": [
              "<matplotlib.axes._subplots.AxesSubplot at 0x7fb212227190>"
            ]
          },
          "execution_count": 17,
          "metadata": {},
          "output_type": "execute_result"
        },
        {
          "data": {
            "image/png": "[encoded data removed]",
            "text/plain": [
              "<Figure size 432x288 with 1 Axes>"
            ]
          },
          "metadata": {
            "needs_background": "light"
          },
          "output_type": "display_data"
        }
      ],
      "source": [
        "sns.scatterplot(accepted_loans['fico_range_low'], accepted_loans['fico_range_high'])"
      ]
    },
    {
      "cell_type": "code",
      "execution_count": 18,
      "metadata": {
        "colab": {
          "base_uri": "https://localhost:8080/",
          "height": 352
        },
        "id": "oAOonHcfNNsv",
        "outputId": "994a17f2-df2f-4d19-e7f3-f8b0262c76fe"
      },
      "outputs": [
        {
          "name": "stderr",
          "output_type": "stream",
          "text": [
            "/usr/local/lib/python3.7/dist-packages/seaborn/_decorators.py:43: FutureWarning: Pass the following variables as keyword args: x, y. From version 0.12, the only valid positional argument will be `data`, and passing other arguments without an explicit keyword will result in an error or misinterpretation.\n",
            "  FutureWarning\n"
          ]
        },
        {
          "data": {
            "text/plain": [
              "<matplotlib.axes._subplots.AxesSubplot at 0x7fb219441910>"
            ]
          },
          "execution_count": 18,
          "metadata": {},
          "output_type": "execute_result"
        },
        {
          "data": {
            "image/png": "[encoded data removed]",
            "text/plain": [
              "<Figure size 432x288 with 1 Axes>"
            ]
          },
          "metadata": {
            "needs_background": "light"
          },
          "output_type": "display_data"
        }
      ],
      "source": [
        "sns.scatterplot(accepted_loans['loan_amnt'], accepted_loans['installment'])"
      ]
    },
    {
      "cell_type": "code",
      "execution_count": 12,
      "metadata": {
        "id": "E535cSPX10Es"
      },
      "outputs": [],
      "source": [
        "accepted_loans.drop('fico_range_low', inplace=True, axis=1)"
      ]
    },
    {
      "cell_type": "code",
      "execution_count": 20,
      "metadata": {
        "colab": {
          "base_uri": "https://localhost:8080/"
        },
        "id": "bAWfDkos18fJ",
        "outputId": "abcf95a4-15c2-4211-af80-4af6cc97cc45"
      },
      "outputs": [
        {
          "name": "stdout",
          "output_type": "stream",
          "text": [
            "<class 'pandas.core.frame.DataFrame'>\n",
            "Int64Index: 1345310 entries, 0 to 2260697\n",
            "Data columns (total 39 columns):\n",
            " #   Column                      Non-Null Count    Dtype  \n",
            "---  ------                      --------------    -----  \n",
            " 0   id                          1345310 non-null  object \n",
            " 1   loan_amnt                   1345310 non-null  float64\n",
            " 2   term                        1345310 non-null  object \n",
            " 3   int_rate                    1345310 non-null  float64\n",
            " 4   installment                 1345310 non-null  float64\n",
            " 5   grade                       1345310 non-null  object \n",
            " 6   sub_grade                   1345310 non-null  object \n",
            " 7   home_ownership              1345310 non-null  object \n",
            " 8   annual_inc                  1345310 non-null  float64\n",
            " 9   verification_status         1345310 non-null  object \n",
            " 10  loan_status                 1345310 non-null  object \n",
            " 11  pymnt_plan                  1345310 non-null  object \n",
            " 12  url                         1345310 non-null  object \n",
            " 13  purpose                     1345310 non-null  object \n",
            " 14  zip_code                    1345309 non-null  object \n",
            " 15  addr_state                  1345310 non-null  object \n",
            " 16  dti                         1344936 non-null  float64\n",
            " 17  delinq_2yrs                 1345310 non-null  float64\n",
            " 18  earliest_cr_line            1345310 non-null  object \n",
            " 19  fico_range_high             1345310 non-null  float64\n",
            " 20  inq_last_6mths              1345309 non-null  float64\n",
            " 21  open_acc                    1345310 non-null  float64\n",
            " 22  pub_rec                     1345310 non-null  float64\n",
            " 23  revol_bal                   1345310 non-null  float64\n",
            " 24  revol_util                  1344453 non-null  float64\n",
            " 25  total_acc                   1345310 non-null  float64\n",
            " 26  initial_list_status         1345310 non-null  object \n",
            " 27  last_pymnt_amnt             1345310 non-null  float64\n",
            " 28  last_credit_pull_d          1345255 non-null  object \n",
            " 29  collections_12_mths_ex_med  1345254 non-null  float64\n",
            " 30  application_type            1345310 non-null  object \n",
            " 31  acc_now_delinq              1345310 non-null  float64\n",
            " 32  chargeoff_within_12_mths    1345254 non-null  float64\n",
            " 33  delinq_amnt                 1345310 non-null  float64\n",
            " 34  pub_rec_bankruptcies        1344613 non-null  float64\n",
            " 35  tax_liens                   1345271 non-null  float64\n",
            " 36  hardship_flag               1345310 non-null  object \n",
            " 37  disbursement_method         1345310 non-null  object \n",
            " 38  debt_settlement_flag        1345310 non-null  object \n",
            "dtypes: float64(20), object(19)\n",
            "memory usage: 410.6+ MB\n"
          ]
        }
      ],
      "source": [
        "accepted_loans.info()"
      ]
    },
    {
      "cell_type": "markdown",
      "metadata": {
        "id": "WYwo9FDlTqQv"
      },
      "source": [
        "## Creating a new feature - loan_paid - that is 1 for 'Fully Paid' and 0 for 'Charged Off'"
      ]
    },
    {
      "cell_type": "code",
      "execution_count": 27,
      "metadata": {
        "id": "TcN8repDQd3m"
      },
      "outputs": [],
      "source": [
        "accepted_loans['loan_paid'] = accepted_loans['loan_status'].apply(lambda x: 1 if x == 'Fully Paid' else 0)\n",
        "accepted_loans = accepted_loans.drop(columns=['loan_status'])"
      ]
    },
    {
      "cell_type": "markdown",
      "metadata": {
        "id": "Qc5GH5JFWtd9"
      },
      "source": [
        "## Working on categorical features"
      ]
    },
    {
      "cell_type": "code",
      "execution_count": 28,
      "metadata": {
        "colab": {
          "base_uri": "https://localhost:8080/"
        },
        "id": "8blyrvqmWUhU",
        "outputId": "44e2ef88-5268-41fe-f65e-57445fd5c887"
      },
      "outputs": [
        {
          "name": "stdout",
          "output_type": "stream",
          "text": [
            "<class 'pandas.core.frame.DataFrame'>\n",
            "Int64Index: 1345310 entries, 0 to 2260697\n",
            "Data columns (total 40 columns):\n",
            " #   Column                      Non-Null Count    Dtype  \n",
            "---  ------                      --------------    -----  \n",
            " 0   id                          1345310 non-null  object \n",
            " 1   loan_amnt                   1345310 non-null  float64\n",
            " 2   term                        1345310 non-null  object \n",
            " 3   int_rate                    1345310 non-null  float64\n",
            " 4   installment                 1345310 non-null  float64\n",
            " 5   grade                       1345310 non-null  object \n",
            " 6   sub_grade                   1345310 non-null  object \n",
            " 7   home_ownership              1345310 non-null  object \n",
            " 8   annual_inc                  1345310 non-null  float64\n",
            " 9   verification_status         1345310 non-null  object \n",
            " 10  pymnt_plan                  1345310 non-null  object \n",
            " 11  url                         1345310 non-null  object \n",
            " 12  purpose                     1345310 non-null  object \n",
            " 13  zip_code                    1345309 non-null  object \n",
            " 14  addr_state                  1345310 non-null  object \n",
            " 15  dti                         1344936 non-null  float64\n",
            " 16  delinq_2yrs                 1345310 non-null  float64\n",
            " 17  earliest_cr_line            1345310 non-null  object \n",
            " 18  fico_range_low              1345310 non-null  float64\n",
            " 19  fico_range_high             1345310 non-null  float64\n",
            " 20  inq_last_6mths              1345309 non-null  float64\n",
            " 21  open_acc                    1345310 non-null  float64\n",
            " 22  pub_rec                     1345310 non-null  float64\n",
            " 23  revol_bal                   1345310 non-null  float64\n",
            " 24  revol_util                  1344453 non-null  float64\n",
            " 25  total_acc                   1345310 non-null  float64\n",
            " 26  initial_list_status         1345310 non-null  object \n",
            " 27  last_pymnt_amnt             1345310 non-null  float64\n",
            " 28  last_credit_pull_d          1345255 non-null  object \n",
            " 29  collections_12_mths_ex_med  1345254 non-null  float64\n",
            " 30  application_type            1345310 non-null  object \n",
            " 31  acc_now_delinq              1345310 non-null  float64\n",
            " 32  chargeoff_within_12_mths    1345254 non-null  float64\n",
            " 33  delinq_amnt                 1345310 non-null  float64\n",
            " 34  pub_rec_bankruptcies        1344613 non-null  float64\n",
            " 35  tax_liens                   1345271 non-null  float64\n",
            " 36  hardship_flag               1345310 non-null  object \n",
            " 37  disbursement_method         1345310 non-null  object \n",
            " 38  debt_settlement_flag        1345310 non-null  object \n",
            " 39  loan_paid                   1345310 non-null  int64  \n",
            "dtypes: float64(21), int64(1), object(18)\n",
            "memory usage: 420.8+ MB\n"
          ]
        }
      ],
      "source": [
        "accepted_loans.info()"
      ]
    },
    {
      "cell_type": "code",
      "execution_count": 29,
      "metadata": {
        "colab": {
          "base_uri": "https://localhost:8080/",
          "height": 783
        },
        "id": "9KyEgtBPXnba",
        "outputId": "14c1bf6c-99da-4cac-db34-133de5031b21"
      },
      "outputs": [
        {
          "name": "stdout",
          "output_type": "stream",
          "text": [
            "Index(['id', 'term', 'grade', 'sub_grade', 'home_ownership',\n",
            "       'verification_status', 'pymnt_plan', 'url', 'purpose', 'zip_code',\n",
            "       'addr_state', 'earliest_cr_line', 'initial_list_status',\n",
            "       'last_credit_pull_d', 'application_type', 'hardship_flag',\n",
            "       'disbursement_method', 'debt_settlement_flag'],\n",
            "      dtype='object')\n",
            "18\n"
          ]
        },
        {
          "data": {
            "text/html": [
              "<div>\n",
              "<style scoped>\n",
              "    .dataframe tbody tr th:only-of-type {\n",
              "        vertical-align: middle;\n",
              "    }\n",
              "\n",
              "    .dataframe tbody tr th {\n",
              "        vertical-align: top;\n",
              "    }\n",
              "\n",
              "    .dataframe thead th {\n",
              "        text-align: right;\n",
              "    }\n",
              "</style>\n",
              "<table border=\"1\" class=\"dataframe\">\n",
              "  <thead>\n",
              "    <tr style=\"text-align: right;\">\n",
              "      <th></th>\n",
              "      <th>id</th>\n",
              "      <th>term</th>\n",
              "      <th>grade</th>\n",
              "      <th>sub_grade</th>\n",
              "      <th>home_ownership</th>\n",
              "      <th>verification_status</th>\n",
              "      <th>pymnt_plan</th>\n",
              "      <th>url</th>\n",
              "      <th>purpose</th>\n",
              "      <th>zip_code</th>\n",
              "      <th>addr_state</th>\n",
              "      <th>earliest_cr_line</th>\n",
              "      <th>initial_list_status</th>\n",
              "      <th>last_credit_pull_d</th>\n",
              "      <th>application_type</th>\n",
              "      <th>hardship_flag</th>\n",
              "      <th>disbursement_method</th>\n",
              "      <th>debt_settlement_flag</th>\n",
              "    </tr>\n",
              "  </thead>\n",
              "  <tbody>\n",
              "    <tr>\n",
              "      <th>0</th>\n",
              "      <td>68407277</td>\n",
              "      <td>36 months</td>\n",
              "      <td>C</td>\n",
              "      <td>C4</td>\n",
              "      <td>MORTGAGE</td>\n",
              "      <td>Not Verified</td>\n",
              "      <td>n</td>\n",
              "      <td>https://lendingclub.com/browse/loanDetail.acti...</td>\n",
              "      <td>debt_consolidation</td>\n",
              "      <td>190xx</td>\n",
              "      <td>PA</td>\n",
              "      <td>Aug-2003</td>\n",
              "      <td>w</td>\n",
              "      <td>Mar-2019</td>\n",
              "      <td>Individual</td>\n",
              "      <td>N</td>\n",
              "      <td>Cash</td>\n",
              "      <td>N</td>\n",
              "    </tr>\n",
              "    <tr>\n",
              "      <th>1</th>\n",
              "      <td>68355089</td>\n",
              "      <td>36 months</td>\n",
              "      <td>C</td>\n",
              "      <td>C1</td>\n",
              "      <td>MORTGAGE</td>\n",
              "      <td>Not Verified</td>\n",
              "      <td>n</td>\n",
              "      <td>https://lendingclub.com/browse/loanDetail.acti...</td>\n",
              "      <td>small_business</td>\n",
              "      <td>577xx</td>\n",
              "      <td>SD</td>\n",
              "      <td>Dec-1999</td>\n",
              "      <td>w</td>\n",
              "      <td>Mar-2019</td>\n",
              "      <td>Individual</td>\n",
              "      <td>N</td>\n",
              "      <td>Cash</td>\n",
              "      <td>N</td>\n",
              "    </tr>\n",
              "    <tr>\n",
              "      <th>2</th>\n",
              "      <td>68341763</td>\n",
              "      <td>60 months</td>\n",
              "      <td>B</td>\n",
              "      <td>B4</td>\n",
              "      <td>MORTGAGE</td>\n",
              "      <td>Not Verified</td>\n",
              "      <td>n</td>\n",
              "      <td>https://lendingclub.com/browse/loanDetail.acti...</td>\n",
              "      <td>home_improvement</td>\n",
              "      <td>605xx</td>\n",
              "      <td>IL</td>\n",
              "      <td>Aug-2000</td>\n",
              "      <td>w</td>\n",
              "      <td>Mar-2019</td>\n",
              "      <td>Joint App</td>\n",
              "      <td>N</td>\n",
              "      <td>Cash</td>\n",
              "      <td>N</td>\n",
              "    </tr>\n",
              "    <tr>\n",
              "      <th>4</th>\n",
              "      <td>68476807</td>\n",
              "      <td>60 months</td>\n",
              "      <td>F</td>\n",
              "      <td>F1</td>\n",
              "      <td>MORTGAGE</td>\n",
              "      <td>Source Verified</td>\n",
              "      <td>n</td>\n",
              "      <td>https://lendingclub.com/browse/loanDetail.acti...</td>\n",
              "      <td>major_purchase</td>\n",
              "      <td>174xx</td>\n",
              "      <td>PA</td>\n",
              "      <td>Jun-1998</td>\n",
              "      <td>w</td>\n",
              "      <td>Mar-2018</td>\n",
              "      <td>Individual</td>\n",
              "      <td>N</td>\n",
              "      <td>Cash</td>\n",
              "      <td>N</td>\n",
              "    </tr>\n",
              "    <tr>\n",
              "      <th>5</th>\n",
              "      <td>68426831</td>\n",
              "      <td>36 months</td>\n",
              "      <td>C</td>\n",
              "      <td>C3</td>\n",
              "      <td>RENT</td>\n",
              "      <td>Source Verified</td>\n",
              "      <td>n</td>\n",
              "      <td>https://lendingclub.com/browse/loanDetail.acti...</td>\n",
              "      <td>debt_consolidation</td>\n",
              "      <td>300xx</td>\n",
              "      <td>GA</td>\n",
              "      <td>Oct-1987</td>\n",
              "      <td>w</td>\n",
              "      <td>May-2017</td>\n",
              "      <td>Individual</td>\n",
              "      <td>N</td>\n",
              "      <td>Cash</td>\n",
              "      <td>N</td>\n",
              "    </tr>\n",
              "    <tr>\n",
              "      <th>...</th>\n",
              "      <td>...</td>\n",
              "      <td>...</td>\n",
              "      <td>...</td>\n",
              "      <td>...</td>\n",
              "      <td>...</td>\n",
              "      <td>...</td>\n",
              "      <td>...</td>\n",
              "      <td>...</td>\n",
              "      <td>...</td>\n",
              "      <td>...</td>\n",
              "      <td>...</td>\n",
              "      <td>...</td>\n",
              "      <td>...</td>\n",
              "      <td>...</td>\n",
              "      <td>...</td>\n",
              "      <td>...</td>\n",
              "      <td>...</td>\n",
              "      <td>...</td>\n",
              "    </tr>\n",
              "    <tr>\n",
              "      <th>2260688</th>\n",
              "      <td>89905081</td>\n",
              "      <td>60 months</td>\n",
              "      <td>B</td>\n",
              "      <td>B2</td>\n",
              "      <td>OWN</td>\n",
              "      <td>Not Verified</td>\n",
              "      <td>n</td>\n",
              "      <td>https://lendingclub.com/browse/loanDetail.acti...</td>\n",
              "      <td>home_improvement</td>\n",
              "      <td>775xx</td>\n",
              "      <td>TX</td>\n",
              "      <td>Jul-2004</td>\n",
              "      <td>f</td>\n",
              "      <td>Mar-2019</td>\n",
              "      <td>Individual</td>\n",
              "      <td>N</td>\n",
              "      <td>Cash</td>\n",
              "      <td>N</td>\n",
              "    </tr>\n",
              "    <tr>\n",
              "      <th>2260690</th>\n",
              "      <td>88948836</td>\n",
              "      <td>60 months</td>\n",
              "      <td>C</td>\n",
              "      <td>C3</td>\n",
              "      <td>MORTGAGE</td>\n",
              "      <td>Not Verified</td>\n",
              "      <td>n</td>\n",
              "      <td>https://lendingclub.com/browse/loanDetail.acti...</td>\n",
              "      <td>debt_consolidation</td>\n",
              "      <td>900xx</td>\n",
              "      <td>CA</td>\n",
              "      <td>Mar-2002</td>\n",
              "      <td>f</td>\n",
              "      <td>Jul-2018</td>\n",
              "      <td>Individual</td>\n",
              "      <td>N</td>\n",
              "      <td>Cash</td>\n",
              "      <td>N</td>\n",
              "    </tr>\n",
              "    <tr>\n",
              "      <th>2260691</th>\n",
              "      <td>89996426</td>\n",
              "      <td>60 months</td>\n",
              "      <td>C</td>\n",
              "      <td>C4</td>\n",
              "      <td>MORTGAGE</td>\n",
              "      <td>Source Verified</td>\n",
              "      <td>n</td>\n",
              "      <td>https://lendingclub.com/browse/loanDetail.acti...</td>\n",
              "      <td>home_improvement</td>\n",
              "      <td>863xx</td>\n",
              "      <td>AZ</td>\n",
              "      <td>Jun-2011</td>\n",
              "      <td>f</td>\n",
              "      <td>Dec-2018</td>\n",
              "      <td>Individual</td>\n",
              "      <td>N</td>\n",
              "      <td>Cash</td>\n",
              "      <td>N</td>\n",
              "    </tr>\n",
              "    <tr>\n",
              "      <th>2260692</th>\n",
              "      <td>90006534</td>\n",
              "      <td>60 months</td>\n",
              "      <td>C</td>\n",
              "      <td>C1</td>\n",
              "      <td>RENT</td>\n",
              "      <td>Not Verified</td>\n",
              "      <td>n</td>\n",
              "      <td>https://lendingclub.com/browse/loanDetail.acti...</td>\n",
              "      <td>medical</td>\n",
              "      <td>284xx</td>\n",
              "      <td>NC</td>\n",
              "      <td>Aug-1997</td>\n",
              "      <td>f</td>\n",
              "      <td>Mar-2019</td>\n",
              "      <td>Individual</td>\n",
              "      <td>N</td>\n",
              "      <td>Cash</td>\n",
              "      <td>N</td>\n",
              "    </tr>\n",
              "    <tr>\n",
              "      <th>2260697</th>\n",
              "      <td>88224441</td>\n",
              "      <td>60 months</td>\n",
              "      <td>C</td>\n",
              "      <td>C4</td>\n",
              "      <td>RENT</td>\n",
              "      <td>Not Verified</td>\n",
              "      <td>n</td>\n",
              "      <td>https://lendingclub.com/browse/loanDetail.acti...</td>\n",
              "      <td>debt_consolidation</td>\n",
              "      <td>334xx</td>\n",
              "      <td>FL</td>\n",
              "      <td>Jul-1999</td>\n",
              "      <td>f</td>\n",
              "      <td>Mar-2019</td>\n",
              "      <td>Individual</td>\n",
              "      <td>N</td>\n",
              "      <td>Cash</td>\n",
              "      <td>Y</td>\n",
              "    </tr>\n",
              "  </tbody>\n",
              "</table>\n",
              "<p>1345310 rows × 18 columns</p>\n",
              "</div>"
            ],
            "text/plain": [
              "               id        term grade sub_grade home_ownership  \\\n",
              "0        68407277   36 months     C        C4       MORTGAGE   \n",
              "1        68355089   36 months     C        C1       MORTGAGE   \n",
              "2        68341763   60 months     B        B4       MORTGAGE   \n",
              "4        68476807   60 months     F        F1       MORTGAGE   \n",
              "5        68426831   36 months     C        C3           RENT   \n",
              "...           ...         ...   ...       ...            ...   \n",
              "2260688  89905081   60 months     B        B2            OWN   \n",
              "2260690  88948836   60 months     C        C3       MORTGAGE   \n",
              "2260691  89996426   60 months     C        C4       MORTGAGE   \n",
              "2260692  90006534   60 months     C        C1           RENT   \n",
              "2260697  88224441   60 months     C        C4           RENT   \n",
              "\n",
              "        verification_status pymnt_plan  \\\n",
              "0              Not Verified          n   \n",
              "1              Not Verified          n   \n",
              "2              Not Verified          n   \n",
              "4           Source Verified          n   \n",
              "5           Source Verified          n   \n",
              "...                     ...        ...   \n",
              "2260688        Not Verified          n   \n",
              "2260690        Not Verified          n   \n",
              "2260691     Source Verified          n   \n",
              "2260692        Not Verified          n   \n",
              "2260697        Not Verified          n   \n",
              "\n",
              "                                                       url  \\\n",
              "0        https://lendingclub.com/browse/loanDetail.acti...   \n",
              "1        https://lendingclub.com/browse/loanDetail.acti...   \n",
              "2        https://lendingclub.com/browse/loanDetail.acti...   \n",
              "4        https://lendingclub.com/browse/loanDetail.acti...   \n",
              "5        https://lendingclub.com/browse/loanDetail.acti...   \n",
              "...                                                    ...   \n",
              "2260688  https://lendingclub.com/browse/loanDetail.acti...   \n",
              "2260690  https://lendingclub.com/browse/loanDetail.acti...   \n",
              "2260691  https://lendingclub.com/browse/loanDetail.acti...   \n",
              "2260692  https://lendingclub.com/browse/loanDetail.acti...   \n",
              "2260697  https://lendingclub.com/browse/loanDetail.acti...   \n",
              "\n",
              "                    purpose zip_code addr_state earliest_cr_line  \\\n",
              "0        debt_consolidation    190xx         PA         Aug-2003   \n",
              "1            small_business    577xx         SD         Dec-1999   \n",
              "2          home_improvement    605xx         IL         Aug-2000   \n",
              "4            major_purchase    174xx         PA         Jun-1998   \n",
              "5        debt_consolidation    300xx         GA         Oct-1987   \n",
              "...                     ...      ...        ...              ...   \n",
              "2260688    home_improvement    775xx         TX         Jul-2004   \n",
              "2260690  debt_consolidation    900xx         CA         Mar-2002   \n",
              "2260691    home_improvement    863xx         AZ         Jun-2011   \n",
              "2260692             medical    284xx         NC         Aug-1997   \n",
              "2260697  debt_consolidation    334xx         FL         Jul-1999   \n",
              "\n",
              "        initial_list_status last_credit_pull_d application_type hardship_flag  \\\n",
              "0                         w           Mar-2019       Individual             N   \n",
              "1                         w           Mar-2019       Individual             N   \n",
              "2                         w           Mar-2019        Joint App             N   \n",
              "4                         w           Mar-2018       Individual             N   \n",
              "5                         w           May-2017       Individual             N   \n",
              "...                     ...                ...              ...           ...   \n",
              "2260688                   f           Mar-2019       Individual             N   \n",
              "2260690                   f           Jul-2018       Individual             N   \n",
              "2260691                   f           Dec-2018       Individual             N   \n",
              "2260692                   f           Mar-2019       Individual             N   \n",
              "2260697                   f           Mar-2019       Individual             N   \n",
              "\n",
              "        disbursement_method debt_settlement_flag  \n",
              "0                      Cash                    N  \n",
              "1                      Cash                    N  \n",
              "2                      Cash                    N  \n",
              "4                      Cash                    N  \n",
              "5                      Cash                    N  \n",
              "...                     ...                  ...  \n",
              "2260688                Cash                    N  \n",
              "2260690                Cash                    N  \n",
              "2260691                Cash                    N  \n",
              "2260692                Cash                    N  \n",
              "2260697                Cash                    Y  \n",
              "\n",
              "[1345310 rows x 18 columns]"
            ]
          },
          "execution_count": 29,
          "metadata": {},
          "output_type": "execute_result"
        }
      ],
      "source": [
        "categorical_columns = accepted_loans.select_dtypes(include='object').columns\n",
        "print(categorical_columns)\n",
        "print(len(categorical_columns))\n",
        "accepted_loans[categorical_columns]"
      ]
    },
    {
      "cell_type": "markdown",
      "metadata": {
        "id": "rmipH3alZ1Xm"
      },
      "source": [
        "### Dropping features 'id', 'pymnt_plan' and 'hardship_flag'"
      ]
    },
    {
      "cell_type": "code",
      "execution_count": 24,
      "metadata": {
        "colab": {
          "base_uri": "https://localhost:8080/"
        },
        "id": "ArATw96gYhI8",
        "outputId": "626e9de0-1f13-4371-a3e6-1036fa27fdf3"
      },
      "outputs": [
        {
          "name": "stdout",
          "output_type": "stream",
          "text": [
            "n    1345310\n",
            "Name: pymnt_plan, dtype: int64\n",
            "N    1345310\n",
            "Name: hardship_flag, dtype: int64\n"
          ]
        }
      ],
      "source": [
        "# constant features (pymnt_plan and hardship_flag)\n",
        "print(accepted_loans['pymnt_plan'].value_counts())\n",
        "print(accepted_loans['hardship_flag'].value_counts())"
      ]
    },
    {
      "cell_type": "code",
      "execution_count": 30,
      "metadata": {
        "colab": {
          "base_uri": "https://localhost:8080/"
        },
        "id": "p9YFYh6oZtPe",
        "outputId": "0e4281c0-8f65-49d0-f22b-bf7d8495a8e3"
      },
      "outputs": [
        {
          "data": {
            "text/plain": [
              "(1345310, 37)"
            ]
          },
          "execution_count": 30,
          "metadata": {},
          "output_type": "execute_result"
        }
      ],
      "source": [
        "dropping_columns = ['id', 'pymnt_plan', 'hardship_flag']\n",
        "accepted_loans = accepted_loans.drop(columns=dropping_columns)\n",
        "accepted_loans.shape"
      ]
    },
    {
      "cell_type": "code",
      "execution_count": 31,
      "metadata": {
        "colab": {
          "base_uri": "https://localhost:8080/"
        },
        "id": "XKjEnsN7aWrb",
        "outputId": "30d7fff2-0ca6-467f-a727-4160946350a7"
      },
      "outputs": [
        {
          "name": "stdout",
          "output_type": "stream",
          "text": [
            "15\n",
            "Index(['term', 'grade', 'sub_grade', 'home_ownership', 'verification_status',\n",
            "       'url', 'purpose', 'zip_code', 'addr_state', 'earliest_cr_line',\n",
            "       'initial_list_status', 'last_credit_pull_d', 'application_type',\n",
            "       'disbursement_method', 'debt_settlement_flag'],\n",
            "      dtype='object')\n"
          ]
        }
      ],
      "source": [
        "categorical_columns = accepted_loans.select_dtypes(include='object').columns\n",
        "print(len(categorical_columns))\n",
        "print(categorical_columns)"
      ]
    },
    {
      "cell_type": "markdown",
      "metadata": {
        "id": "V8C9wW31bydC"
      },
      "source": [
        "### Features 'term'"
      ]
    },
    {
      "cell_type": "code",
      "execution_count": 32,
      "metadata": {
        "colab": {
          "base_uri": "https://localhost:8080/"
        },
        "id": "r3CoXVkhawo8",
        "outputId": "64500dfc-6bed-4f79-af9e-d89315fed2d4"
      },
      "outputs": [
        {
          "name": "stdout",
          "output_type": "stream",
          "text": [
            " 36 months    1020743\n",
            " 60 months     324567\n",
            "Name: term, dtype: int64\n"
          ]
        }
      ],
      "source": [
        "print(accepted_loans['term'].value_counts())"
      ]
    },
    {
      "cell_type": "code",
      "execution_count": 33,
      "metadata": {
        "colab": {
          "base_uri": "https://localhost:8080/"
        },
        "id": "JMxNPOwHcLMf",
        "outputId": "c0f403ad-7491-40d7-9d2b-c75b68a8246c"
      },
      "outputs": [
        {
          "data": {
            "text/plain": [
              "0          60\n",
              "1          60\n",
              "2          60\n",
              "4          60\n",
              "5          60\n",
              "           ..\n",
              "2260688    60\n",
              "2260690    60\n",
              "2260691    60\n",
              "2260692    60\n",
              "2260697    60\n",
              "Name: term, Length: 1345310, dtype: int64"
            ]
          },
          "execution_count": 33,
          "metadata": {},
          "output_type": "execute_result"
        }
      ],
      "source": [
        "# convert term into either a 36 or 60 integer numeric data type\n",
        "accepted_loans['term'] = accepted_loans['term'].apply(lambda x: 36 if x == '36 months' else 60) \n",
        "accepted_loans['term']"
      ]
    },
    {
      "cell_type": "code",
      "execution_count": 34,
      "metadata": {
        "colab": {
          "base_uri": "https://localhost:8080/"
        },
        "id": "bRcae4PjdeXu",
        "outputId": "2f3c532e-320b-4c59-da11-c6c844d99e98"
      },
      "outputs": [
        {
          "name": "stdout",
          "output_type": "stream",
          "text": [
            "Index(['grade', 'sub_grade', 'home_ownership', 'verification_status', 'url',\n",
            "       'purpose', 'zip_code', 'addr_state', 'earliest_cr_line',\n",
            "       'initial_list_status', 'last_credit_pull_d', 'application_type',\n",
            "       'disbursement_method', 'debt_settlement_flag'],\n",
            "      dtype='object')\n",
            "14\n"
          ]
        }
      ],
      "source": [
        "categorical_columns = accepted_loans.select_dtypes(include='object').columns\n",
        "print(categorical_columns)\n",
        "print(len(categorical_columns))"
      ]
    },
    {
      "cell_type": "markdown",
      "metadata": {
        "id": "fumefqWOeM38"
      },
      "source": [
        "### Features \"grade\" and \"sub_grade\""
      ]
    },
    {
      "cell_type": "code",
      "execution_count": 35,
      "metadata": {
        "colab": {
          "base_uri": "https://localhost:8080/"
        },
        "id": "-4REqIbmeDXo",
        "outputId": "1c0516b9-4e47-4641-93b5-f8cfb9842ee2"
      },
      "outputs": [
        {
          "name": "stdout",
          "output_type": "stream",
          "text": [
            "B    392741\n",
            "C    381686\n",
            "A    235090\n",
            "D    200953\n",
            "E     93650\n",
            "F     32058\n",
            "G      9132\n",
            "Name: grade, dtype: int64\n"
          ]
        }
      ],
      "source": [
        "print(accepted_loans['grade'].value_counts())"
      ]
    },
    {
      "cell_type": "code",
      "execution_count": 36,
      "metadata": {
        "colab": {
          "base_uri": "https://localhost:8080/"
        },
        "id": "aLmbh4n0eeep",
        "outputId": "57bc8fe5-86ac-4a06-8296-d218715a7dab"
      },
      "outputs": [
        {
          "name": "stdout",
          "output_type": "stream",
          "text": [
            "C1    85494\n",
            "B4    83199\n",
            "B5    82538\n",
            "B3    81827\n",
            "C2    79213\n",
            "C3    74998\n",
            "C4    74421\n",
            "B2    74024\n",
            "B1    71153\n",
            "C5    67560\n",
            "A5    64003\n",
            "A4    52235\n",
            "D1    51321\n",
            "D2    44848\n",
            "A1    43678\n",
            "D3    39317\n",
            "A3    37996\n",
            "A2    37178\n",
            "D4    35566\n",
            "D5    29901\n",
            "E1    23749\n",
            "E2    21377\n",
            "E3    18387\n",
            "E4    15720\n",
            "E5    14417\n",
            "F1     9970\n",
            "F2     7198\n",
            "F3     6088\n",
            "F4     4859\n",
            "F5     3943\n",
            "G1     2997\n",
            "G2     2131\n",
            "G3     1614\n",
            "G4     1280\n",
            "G5     1110\n",
            "Name: sub_grade, dtype: int64\n"
          ]
        }
      ],
      "source": [
        "print(accepted_loans['sub_grade'].value_counts())"
      ]
    },
    {
      "cell_type": "code",
      "execution_count": 37,
      "metadata": {
        "colab": {
          "base_uri": "https://localhost:8080/",
          "height": 459
        },
        "id": "HMWaZkHmel2U",
        "outputId": "13a8a367-4173-48af-b28c-7dc3b6db56bd"
      },
      "outputs": [
        {
          "data": {
            "text/plain": [
              "<AxesSubplot:xlabel='grade', ylabel='count'>"
            ]
          },
          "execution_count": 37,
          "metadata": {},
          "output_type": "execute_result"
        },
        {
          "data": {
            "image/png": "[encoded data removed]",
            "text/plain": [
              "<Figure size 864x504 with 1 Axes>"
            ]
          },
          "metadata": {
            "needs_background": "light"
          },
          "output_type": "display_data"
        }
      ],
      "source": [
        "# checking count per grade and loan_paid\n",
        "plt.figure(figsize=(12, 7))\n",
        "sns.countplot(x=accepted_loans['grade'], hue=accepted_loans['loan_paid'])"
      ]
    },
    {
      "cell_type": "code",
      "execution_count": 38,
      "metadata": {
        "colab": {
          "base_uri": "https://localhost:8080/",
          "height": 397
        },
        "id": "yvXYCXy4f0xZ",
        "outputId": "cd569114-00a4-4bfc-bb05-8d2029399a43"
      },
      "outputs": [
        {
          "data": {
            "text/plain": [
              "<AxesSubplot:xlabel='sub_grade', ylabel='count'>"
            ]
          },
          "execution_count": 38,
          "metadata": {},
          "output_type": "execute_result"
        },
        {
          "data": {
            "image/png": "[encoded data removed]",
            "text/plain": [
              "<Figure size 1512x504 with 1 Axes>"
            ]
          },
          "metadata": {
            "needs_background": "light"
          },
          "output_type": "display_data"
        }
      ],
      "source": [
        "# checking count per subgrade and loan_paid\n",
        "plt.figure(figsize=(21, 7))\n",
        "sns.countplot(x=accepted_loans['sub_grade'], hue=accepted_loans['loan_paid'])"
      ]
    },
    {
      "cell_type": "code",
      "execution_count": 39,
      "metadata": {
        "id": "roiCPMhrgVw0"
      },
      "outputs": [],
      "source": [
        "# Since grade is part of sub_grade, so let's just drop the grade feature\n",
        "accepted_loans.drop('grade', axis=1, inplace=True)"
      ]
    },
    {
      "cell_type": "code",
      "execution_count": 40,
      "metadata": {
        "id": "ahRdxLHlhOYu"
      },
      "outputs": [],
      "source": [
        "accepted_loans = pd.get_dummies(accepted_loans, columns=['sub_grade'], prefix='sub_grade', prefix_sep='_', drop_first=True)"
      ]
    },
    {
      "cell_type": "code",
      "execution_count": 41,
      "metadata": {
        "colab": {
          "base_uri": "https://localhost:8080/"
        },
        "id": "pwAqcvu5jte7",
        "outputId": "8bdf9b5f-2d95-4d47-8893-b0b9cf273e78"
      },
      "outputs": [
        {
          "name": "stdout",
          "output_type": "stream",
          "text": [
            "Index(['home_ownership', 'verification_status', 'url', 'purpose', 'zip_code',\n",
            "       'addr_state', 'earliest_cr_line', 'initial_list_status',\n",
            "       'last_credit_pull_d', 'application_type', 'disbursement_method',\n",
            "       'debt_settlement_flag'],\n",
            "      dtype='object')\n",
            "12\n"
          ]
        }
      ],
      "source": [
        "categorical_columns = accepted_loans.select_dtypes(include='object').columns\n",
        "print(categorical_columns)\n",
        "print(len(categorical_columns))"
      ]
    },
    {
      "cell_type": "markdown",
      "metadata": {
        "id": "vCvSc3LLksV7"
      },
      "source": [
        "### Features 'verification_status', 'purpose', 'application_type', 'initial_list_status' and 'home_ownership'"
      ]
    },
    {
      "cell_type": "code",
      "execution_count": 42,
      "metadata": {
        "colab": {
          "base_uri": "https://localhost:8080/"
        },
        "id": "pTSAYz0gkOkR",
        "outputId": "b53669cc-6572-4bd0-bd06-ab58648f7ac8"
      },
      "outputs": [
        {
          "name": "stdout",
          "output_type": "stream",
          "text": [
            "['Not Verified' 'Source Verified' 'Verified']\n",
            "['debt_consolidation' 'small_business' 'home_improvement' 'major_purchase'\n",
            " 'credit_card' 'other' 'house' 'vacation' 'car' 'medical' 'moving'\n",
            " 'renewable_energy' 'wedding' 'educational']\n",
            "['w' 'f']\n",
            "['Individual' 'Joint App']\n",
            "['MORTGAGE' 'RENT' 'OWN' 'ANY' 'NONE' 'OTHER']\n"
          ]
        }
      ],
      "source": [
        "dummies = ['verification_status', 'purpose', 'initial_list_status', 'application_type', 'home_ownership']\n",
        "for dummy_var in dummies:\n",
        "  print(accepted_loans[dummy_var].unique())"
      ]
    },
    {
      "cell_type": "markdown",
      "metadata": {
        "id": "ZpU3gtStoTnj"
      },
      "source": [
        "For these columns, let's just create dummy variables, concatenate them with the original dataframe and drop original columns."
      ]
    },
    {
      "cell_type": "code",
      "execution_count": 43,
      "metadata": {
        "id": "NlfL6svtoJK5"
      },
      "outputs": [],
      "source": [
        "for dummy_var in dummies:\n",
        "  accepted_loans = pd.get_dummies(accepted_loans, prefix=dummy_var, columns=[dummy_var], drop_first=True)"
      ]
    },
    {
      "cell_type": "code",
      "execution_count": 45,
      "metadata": {
        "colab": {
          "base_uri": "https://localhost:8080/"
        },
        "id": "_G1rLcycovaP",
        "outputId": "5cb591f5-4aba-44cf-a4f7-1ed9a48d9e80"
      },
      "outputs": [
        {
          "name": "stdout",
          "output_type": "stream",
          "text": [
            "Index(['url', 'zip_code', 'addr_state', 'earliest_cr_line',\n",
            "       'last_credit_pull_d', 'disbursement_method', 'debt_settlement_flag'],\n",
            "      dtype='object')\n",
            "7\n"
          ]
        }
      ],
      "source": [
        "categorical_columns = accepted_loans.select_dtypes(include='object').columns\n",
        "print(categorical_columns)\n",
        "print(len(categorical_columns))"
      ]
    },
    {
      "cell_type": "markdown",
      "metadata": {
        "id": "hYRAKsA_p5Fz"
      },
      "source": [
        "### Features 'url', 'last_credit_pull_d' and 'earliest_cr_line'"
      ]
    },
    {
      "cell_type": "code",
      "execution_count": 46,
      "metadata": {
        "colab": {
          "base_uri": "https://localhost:8080/"
        },
        "id": "rPcD2HW7qS2j",
        "outputId": "aa39e03d-0876-4b5a-dbc5-8d0d0e0cd1e5"
      },
      "outputs": [
        {
          "name": "stdout",
          "output_type": "stream",
          "text": [
            "https://lendingclub.com/browse/loanDetail.action?loan_id=68407277     1\n",
            "https://lendingclub.com/browse/loanDetail.action?loan_id=143395570    1\n",
            "https://lendingclub.com/browse/loanDetail.action?loan_id=143480412    1\n",
            "https://lendingclub.com/browse/loanDetail.action?loan_id=142972000    1\n",
            "https://lendingclub.com/browse/loanDetail.action?loan_id=143487081    1\n",
            "                                                                     ..\n",
            "https://lendingclub.com/browse/loanDetail.action?loan_id=83114087     1\n",
            "https://lendingclub.com/browse/loanDetail.action?loan_id=83162263     1\n",
            "https://lendingclub.com/browse/loanDetail.action?loan_id=81940285     1\n",
            "https://lendingclub.com/browse/loanDetail.action?loan_id=82020283     1\n",
            "https://lendingclub.com/browse/loanDetail.action?loan_id=88224441     1\n",
            "Name: url, Length: 1345310, dtype: int64\n"
          ]
        }
      ],
      "source": [
        "print(accepted_loans['url'].value_counts())"
      ]
    },
    {
      "cell_type": "code",
      "execution_count": 47,
      "metadata": {
        "colab": {
          "base_uri": "https://localhost:8080/"
        },
        "id": "41gF7M9WqZFZ",
        "outputId": "4054e5d2-8bd1-4014-f65d-43e64e043422"
      },
      "outputs": [
        {
          "name": "stdout",
          "output_type": "stream",
          "text": [
            "Mar-2019    470827\n",
            "Feb-2019     74850\n",
            "Jan-2019     61319\n",
            "Jul-2018     53543\n",
            "Oct-2016     50653\n",
            "             ...  \n",
            "May-2007         1\n",
            "Jun-2008         1\n",
            "Jul-2008         1\n",
            "Dec-2007         1\n",
            "Apr-2019         1\n",
            "Name: last_credit_pull_d, Length: 140, dtype: int64\n"
          ]
        }
      ],
      "source": [
        "print(accepted_loans['last_credit_pull_d'].value_counts())"
      ]
    },
    {
      "cell_type": "code",
      "execution_count": 48,
      "metadata": {
        "colab": {
          "base_uri": "https://localhost:8080/"
        },
        "id": "eInHawNCtktk",
        "outputId": "5b84ca53-aa56-4702-c771-2405efea0a81"
      },
      "outputs": [
        {
          "name": "stdout",
          "output_type": "stream",
          "text": [
            "739\n"
          ]
        }
      ],
      "source": [
        "print(len(accepted_loans['earliest_cr_line'].unique()))"
      ]
    },
    {
      "cell_type": "markdown",
      "metadata": {
        "id": "ZQ2GFKTpqg9v"
      },
      "source": [
        "Let's drop these features"
      ]
    },
    {
      "cell_type": "code",
      "execution_count": 49,
      "metadata": {
        "id": "04i0nbJWqfp_"
      },
      "outputs": [],
      "source": [
        "dropping_columns = ['url', 'last_credit_pull_d', 'earliest_cr_line']\n",
        "accepted_loans = accepted_loans.drop(columns=dropping_columns)"
      ]
    },
    {
      "cell_type": "code",
      "execution_count": 50,
      "metadata": {
        "colab": {
          "base_uri": "https://localhost:8080/"
        },
        "id": "x61rFsV2qyDH",
        "outputId": "2d6c0b06-b4dd-4bdd-f8b2-750a2e5cb382"
      },
      "outputs": [
        {
          "name": "stdout",
          "output_type": "stream",
          "text": [
            "Index(['zip_code', 'addr_state', 'disbursement_method',\n",
            "       'debt_settlement_flag'],\n",
            "      dtype='object')\n",
            "4\n"
          ]
        }
      ],
      "source": [
        "categorical_columns = accepted_loans.select_dtypes(include='object').columns\n",
        "print(categorical_columns)\n",
        "print(len(categorical_columns))"
      ]
    },
    {
      "cell_type": "markdown",
      "metadata": {
        "id": "GmmuB7wnsH10"
      },
      "source": [
        "### Features 'disbursement_method' and 'debt_settlement_flag'"
      ]
    },
    {
      "cell_type": "code",
      "execution_count": 51,
      "metadata": {
        "colab": {
          "base_uri": "https://localhost:8080/",
          "height": 471
        },
        "id": "ou4_x9fJq_ep",
        "outputId": "6def6e15-8ce4-46cd-a6d3-0279120f93b1"
      },
      "outputs": [
        {
          "data": {
            "text/plain": [
              "<AxesSubplot:xlabel='debt_settlement_flag', ylabel='count'>"
            ]
          },
          "execution_count": 51,
          "metadata": {},
          "output_type": "execute_result"
        },
        {
          "data": {
            "image/png": "[encoded data removed]",
            "text/plain": [
              "<Figure size 720x504 with 1 Axes>"
            ]
          },
          "metadata": {
            "needs_background": "light"
          },
          "output_type": "display_data"
        }
      ],
      "source": [
        "plt.figure(figsize=(10, 7))\n",
        "sns.countplot(x=accepted_loans['debt_settlement_flag'], hue=accepted_loans['loan_paid'])"
      ]
    },
    {
      "cell_type": "code",
      "execution_count": 52,
      "metadata": {
        "colab": {
          "base_uri": "https://localhost:8080/",
          "height": 471
        },
        "id": "KIQHB5pdshbR",
        "outputId": "59c72914-ae58-44f9-fd15-d459599dff8c"
      },
      "outputs": [
        {
          "data": {
            "text/plain": [
              "<AxesSubplot:xlabel='disbursement_method', ylabel='count'>"
            ]
          },
          "execution_count": 52,
          "metadata": {},
          "output_type": "execute_result"
        },
        {
          "data": {
            "image/png": "[encoded data removed]",
            "text/plain": [
              "<Figure size 720x504 with 1 Axes>"
            ]
          },
          "metadata": {
            "needs_background": "light"
          },
          "output_type": "display_data"
        }
      ],
      "source": [
        "plt.figure(figsize=(10, 7))\n",
        "sns.countplot(x=accepted_loans['disbursement_method'], hue=accepted_loans['loan_paid'])"
      ]
    },
    {
      "cell_type": "code",
      "execution_count": 53,
      "metadata": {
        "colab": {
          "base_uri": "https://localhost:8080/"
        },
        "id": "CfCVoT4_tPuL",
        "outputId": "2fb79bb1-ca05-42ca-ae22-8e2bd7aa5574"
      },
      "outputs": [
        {
          "name": "stdout",
          "output_type": "stream",
          "text": [
            "Cash         1338410\n",
            "DirectPay       6900\n",
            "Name: disbursement_method, dtype: int64\n",
            "N    1312034\n",
            "Y      33276\n",
            "Name: debt_settlement_flag, dtype: int64\n"
          ]
        }
      ],
      "source": [
        "print(accepted_loans['disbursement_method'].value_counts())\n",
        "print(accepted_loans['debt_settlement_flag'].value_counts())"
      ]
    },
    {
      "cell_type": "markdown",
      "metadata": {
        "id": "EoT9NpAnuV9t"
      },
      "source": [
        "It seem that these features can cause data leakage, let's drop these features first"
      ]
    },
    {
      "cell_type": "code",
      "execution_count": 54,
      "metadata": {
        "id": "rUbQQMQttp10"
      },
      "outputs": [],
      "source": [
        "#accepted_loans = pd.get_dummies(accepted_loans, columns = ['disbursement_method'], prefix='disbursement_method', drop_first=True)\n",
        "#accepted_loans = pd.get_dummies(accepted_loans, columns = ['debt_settlement_flag'], prefix='debt_settlement_flag', drop_first=True)\n",
        "dropping_columns = ['disbursement_method', 'debt_settlement_flag']\n",
        "accepted_loans = accepted_loans.drop(columns=dropping_columns)"
      ]
    },
    {
      "cell_type": "code",
      "execution_count": 55,
      "metadata": {
        "colab": {
          "base_uri": "https://localhost:8080/"
        },
        "id": "56HN9OBiuMLL",
        "outputId": "57e6d102-d3ef-44e4-fe68-90c3886a6f5f"
      },
      "outputs": [
        {
          "name": "stdout",
          "output_type": "stream",
          "text": [
            "Index(['zip_code', 'addr_state'], dtype='object')\n",
            "2\n"
          ]
        }
      ],
      "source": [
        "categorical_columns = accepted_loans.select_dtypes(include='object').columns\n",
        "print(categorical_columns)\n",
        "print(len(categorical_columns))"
      ]
    },
    {
      "cell_type": "markdown",
      "metadata": {
        "id": "1ko1IFbmvTsa"
      },
      "source": [
        "### Features 'zip_code' and 'addr_state'"
      ]
    },
    {
      "cell_type": "code",
      "execution_count": 56,
      "metadata": {
        "colab": {
          "base_uri": "https://localhost:8080/"
        },
        "id": "lnhFCmz-vKvr",
        "outputId": "d625e73e-6475-4d54-89a6-6e8c7b3b4173"
      },
      "outputs": [
        {
          "name": "stdout",
          "output_type": "stream",
          "text": [
            "945xx    15005\n",
            "750xx    14474\n",
            "112xx    13829\n",
            "606xx    12433\n",
            "300xx    12124\n",
            "         ...  \n",
            "095xx        1\n",
            "009xx        1\n",
            "872xx        1\n",
            "513xx        1\n",
            "525xx        1\n",
            "Name: zip_code, Length: 943, dtype: int64\n"
          ]
        }
      ],
      "source": [
        "print(accepted_loans['zip_code'].value_counts())"
      ]
    },
    {
      "cell_type": "code",
      "execution_count": 57,
      "metadata": {
        "id": "j5pEE3aPwZxf"
      },
      "outputs": [],
      "source": [
        "# Drop 'zip_code' feature\n",
        "accepted_loans = accepted_loans.drop(columns=['zip_code'])"
      ]
    },
    {
      "cell_type": "code",
      "execution_count": 58,
      "metadata": {
        "colab": {
          "base_uri": "https://localhost:8080/"
        },
        "id": "OKtXg_-fv38s",
        "outputId": "d385bb23-b2b3-4046-ab50-d22e4232899c"
      },
      "outputs": [
        {
          "name": "stdout",
          "output_type": "stream",
          "text": [
            "['PA' 'SD' 'IL' 'GA' 'MN' 'SC' 'RI' 'NC' 'CA' 'VA' 'AZ' 'IN' 'MD' 'NY'\n",
            " 'TX' 'KS' 'NM' 'AL' 'WA' 'OH' 'LA' 'FL' 'CO' 'MI' 'MO' 'DC' 'MA' 'WI'\n",
            " 'HI' 'VT' 'NJ' 'DE' 'TN' 'NH' 'NE' 'OR' 'CT' 'AR' 'NV' 'WV' 'MT' 'WY'\n",
            " 'OK' 'KY' 'MS' 'UT' 'ND' 'ME' 'AK' 'ID' 'IA']\n",
            "51\n"
          ]
        }
      ],
      "source": [
        "print(accepted_loans['addr_state'].unique())\n",
        "print(len(accepted_loans['addr_state'].unique()))"
      ]
    },
    {
      "cell_type": "markdown",
      "metadata": {
        "id": "AcDRN90hwmDb"
      },
      "source": [
        "51 states :::)))\n",
        "\n",
        "The 51st state may be the state of aliens :::)))\n",
        "\n",
        "Let's first drop this feature also"
      ]
    },
    {
      "cell_type": "code",
      "execution_count": 59,
      "metadata": {
        "id": "wEGV-2JmwAAH"
      },
      "outputs": [],
      "source": [
        "accepted_loans.drop('addr_state', inplace=True, axis=1)\n",
        "#accepted_loans = pd.get_dummies(accepted_loans, columns=['addr_state'], prefix='addr_state', drop_first=True)"
      ]
    },
    {
      "cell_type": "code",
      "execution_count": 60,
      "metadata": {
        "colab": {
          "base_uri": "https://localhost:8080/"
        },
        "id": "p-CSM67R0tjM",
        "outputId": "83645491-32fd-4970-e7e4-8e7443563808"
      },
      "outputs": [
        {
          "name": "stdout",
          "output_type": "stream",
          "text": [
            "Index([], dtype='object')\n",
            "0\n"
          ]
        }
      ],
      "source": [
        "categorical_columns = accepted_loans.select_dtypes(include='object').columns\n",
        "print(categorical_columns)\n",
        "print(len(categorical_columns))"
      ]
    },
    {
      "cell_type": "code",
      "execution_count": 61,
      "metadata": {
        "colab": {
          "base_uri": "https://localhost:8080/"
        },
        "id": "UVVutq-ienQg",
        "outputId": "59f00310-158c-4b0e-866a-73d99f044fb7"
      },
      "outputs": [
        {
          "name": "stdout",
          "output_type": "stream",
          "text": [
            "<class 'pandas.core.frame.DataFrame'>\n",
            "Int64Index: 1345310 entries, 0 to 2260697\n",
            "Data columns (total 79 columns):\n",
            " #   Column                               Non-Null Count    Dtype  \n",
            "---  ------                               --------------    -----  \n",
            " 0   loan_amnt                            1345310 non-null  float64\n",
            " 1   term                                 1345310 non-null  int64  \n",
            " 2   int_rate                             1345310 non-null  float64\n",
            " 3   installment                          1345310 non-null  float64\n",
            " 4   annual_inc                           1345310 non-null  float64\n",
            " 5   dti                                  1344936 non-null  float64\n",
            " 6   delinq_2yrs                          1345310 non-null  float64\n",
            " 7   fico_range_low                       1345310 non-null  float64\n",
            " 8   fico_range_high                      1345310 non-null  float64\n",
            " 9   inq_last_6mths                       1345309 non-null  float64\n",
            " 10  open_acc                             1345310 non-null  float64\n",
            " 11  pub_rec                              1345310 non-null  float64\n",
            " 12  revol_bal                            1345310 non-null  float64\n",
            " 13  revol_util                           1344453 non-null  float64\n",
            " 14  total_acc                            1345310 non-null  float64\n",
            " 15  last_pymnt_amnt                      1345310 non-null  float64\n",
            " 16  collections_12_mths_ex_med           1345254 non-null  float64\n",
            " 17  acc_now_delinq                       1345310 non-null  float64\n",
            " 18  chargeoff_within_12_mths             1345254 non-null  float64\n",
            " 19  delinq_amnt                          1345310 non-null  float64\n",
            " 20  pub_rec_bankruptcies                 1344613 non-null  float64\n",
            " 21  tax_liens                            1345271 non-null  float64\n",
            " 22  loan_paid                            1345310 non-null  int64  \n",
            " 23  sub_grade_A2                         1345310 non-null  uint8  \n",
            " 24  sub_grade_A3                         1345310 non-null  uint8  \n",
            " 25  sub_grade_A4                         1345310 non-null  uint8  \n",
            " 26  sub_grade_A5                         1345310 non-null  uint8  \n",
            " 27  sub_grade_B1                         1345310 non-null  uint8  \n",
            " 28  sub_grade_B2                         1345310 non-null  uint8  \n",
            " 29  sub_grade_B3                         1345310 non-null  uint8  \n",
            " 30  sub_grade_B4                         1345310 non-null  uint8  \n",
            " 31  sub_grade_B5                         1345310 non-null  uint8  \n",
            " 32  sub_grade_C1                         1345310 non-null  uint8  \n",
            " 33  sub_grade_C2                         1345310 non-null  uint8  \n",
            " 34  sub_grade_C3                         1345310 non-null  uint8  \n",
            " 35  sub_grade_C4                         1345310 non-null  uint8  \n",
            " 36  sub_grade_C5                         1345310 non-null  uint8  \n",
            " 37  sub_grade_D1                         1345310 non-null  uint8  \n",
            " 38  sub_grade_D2                         1345310 non-null  uint8  \n",
            " 39  sub_grade_D3                         1345310 non-null  uint8  \n",
            " 40  sub_grade_D4                         1345310 non-null  uint8  \n",
            " 41  sub_grade_D5                         1345310 non-null  uint8  \n",
            " 42  sub_grade_E1                         1345310 non-null  uint8  \n",
            " 43  sub_grade_E2                         1345310 non-null  uint8  \n",
            " 44  sub_grade_E3                         1345310 non-null  uint8  \n",
            " 45  sub_grade_E4                         1345310 non-null  uint8  \n",
            " 46  sub_grade_E5                         1345310 non-null  uint8  \n",
            " 47  sub_grade_F1                         1345310 non-null  uint8  \n",
            " 48  sub_grade_F2                         1345310 non-null  uint8  \n",
            " 49  sub_grade_F3                         1345310 non-null  uint8  \n",
            " 50  sub_grade_F4                         1345310 non-null  uint8  \n",
            " 51  sub_grade_F5                         1345310 non-null  uint8  \n",
            " 52  sub_grade_G1                         1345310 non-null  uint8  \n",
            " 53  sub_grade_G2                         1345310 non-null  uint8  \n",
            " 54  sub_grade_G3                         1345310 non-null  uint8  \n",
            " 55  sub_grade_G4                         1345310 non-null  uint8  \n",
            " 56  sub_grade_G5                         1345310 non-null  uint8  \n",
            " 57  verification_status_Source Verified  1345310 non-null  uint8  \n",
            " 58  verification_status_Verified         1345310 non-null  uint8  \n",
            " 59  purpose_credit_card                  1345310 non-null  uint8  \n",
            " 60  purpose_debt_consolidation           1345310 non-null  uint8  \n",
            " 61  purpose_educational                  1345310 non-null  uint8  \n",
            " 62  purpose_home_improvement             1345310 non-null  uint8  \n",
            " 63  purpose_house                        1345310 non-null  uint8  \n",
            " 64  purpose_major_purchase               1345310 non-null  uint8  \n",
            " 65  purpose_medical                      1345310 non-null  uint8  \n",
            " 66  purpose_moving                       1345310 non-null  uint8  \n",
            " 67  purpose_other                        1345310 non-null  uint8  \n",
            " 68  purpose_renewable_energy             1345310 non-null  uint8  \n",
            " 69  purpose_small_business               1345310 non-null  uint8  \n",
            " 70  purpose_vacation                     1345310 non-null  uint8  \n",
            " 71  purpose_wedding                      1345310 non-null  uint8  \n",
            " 72  initial_list_status_w                1345310 non-null  uint8  \n",
            " 73  application_type_Joint App           1345310 non-null  uint8  \n",
            " 74  home_ownership_MORTGAGE              1345310 non-null  uint8  \n",
            " 75  home_ownership_NONE                  1345310 non-null  uint8  \n",
            " 76  home_ownership_OTHER                 1345310 non-null  uint8  \n",
            " 77  home_ownership_OWN                   1345310 non-null  uint8  \n",
            " 78  home_ownership_RENT                  1345310 non-null  uint8  \n",
            "dtypes: float64(21), int64(2), uint8(56)\n",
            "memory usage: 318.2 MB\n"
          ]
        }
      ],
      "source": [
        "accepted_loans.info()"
      ]
    },
    {
      "cell_type": "markdown",
      "metadata": {
        "id": "Vrl8WWEQu23s"
      },
      "source": [
        "## Handling missing data"
      ]
    },
    {
      "cell_type": "code",
      "execution_count": 62,
      "metadata": {
        "colab": {
          "base_uri": "https://localhost:8080/"
        },
        "id": "chlOWgrUu8it",
        "outputId": "47075ff8-3195-46bd-d28c-4fbfc8a89557"
      },
      "outputs": [
        {
          "data": {
            "text/plain": [
              "revol_util                             0.063703\n",
              "pub_rec_bankruptcies                   0.051810\n",
              "dti                                    0.027800\n",
              "chargeoff_within_12_mths               0.004163\n",
              "collections_12_mths_ex_med             0.004163\n",
              "tax_liens                              0.002899\n",
              "inq_last_6mths                         0.000074\n",
              "purpose_credit_card                    0.000000\n",
              "verification_status_Verified           0.000000\n",
              "verification_status_Source Verified    0.000000\n",
              "dtype: float64"
            ]
          },
          "execution_count": 62,
          "metadata": {},
          "output_type": "execute_result"
        }
      ],
      "source": [
        "(accepted_loans.isnull().sum() / len(accepted_loans) * 100).sort_values(ascending=False).head(10)"
      ]
    },
    {
      "cell_type": "markdown",
      "metadata": {
        "id": "0MOGtW5YwW7n"
      },
      "source": [
        "There are 7 features having missing values but all of them account for less than 0.1% -> Let's drop any rows with missing values"
      ]
    },
    {
      "cell_type": "code",
      "execution_count": 63,
      "metadata": {
        "id": "IuSeZtL5wTPA"
      },
      "outputs": [],
      "source": [
        "accepted_loans = accepted_loans.dropna()"
      ]
    },
    {
      "cell_type": "markdown",
      "metadata": {},
      "source": [
        "# Save data"
      ]
    },
    {
      "cell_type": "code",
      "execution_count": 64,
      "metadata": {},
      "outputs": [],
      "source": [
        "accepted_loans.to_csv('../../data/elite_data.csv', index=False)"
      ]
    }
  ],
  "metadata": {
    "colab": {
      "collapsed_sections": [],
      "name": "ML_project.ipynb",
      "provenance": []
    },
    "kernelspec": {
      "display_name": "Python 3.8.10 64-bit",
      "language": "python",
      "name": "python3"
    },
    "language_info": {
      "codemirror_mode": {
        "name": "ipython",
        "version": 3
      },
      "file_extension": ".py",
      "mimetype": "text/x-python",
      "name": "python",
      "nbconvert_exporter": "python",
      "pygments_lexer": "ipython3",
      "version": "3.8.10"
    },
    "vscode": {
      "interpreter": {
        "hash": "8384712f827c73b71ec1d871aaffaaf3604c18a78a335b5adcc2028fc4cb4b02"
      }
    }
  },
  "nbformat": 4,
  "nbformat_minor": 0
}
