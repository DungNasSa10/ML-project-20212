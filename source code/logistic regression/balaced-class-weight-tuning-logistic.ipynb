{
 "cells": [
  {
   "cell_type": "code",
   "execution_count": 1,
   "id": "78ace7d9",
   "metadata": {
    "execution": {
     "iopub.execute_input": "2022-07-20T15:43:05.920908Z",
     "iopub.status.busy": "2022-07-20T15:43:05.919970Z",
     "iopub.status.idle": "2022-07-20T15:43:08.439726Z",
     "shell.execute_reply": "2022-07-20T15:43:08.438638Z"
    },
    "papermill": {
     "duration": 2.529954,
     "end_time": "2022-07-20T15:43:08.442384",
     "exception": false,
     "start_time": "2022-07-20T15:43:05.912430",
     "status": "completed"
    },
    "tags": []
   },
   "outputs": [
    {
     "data": {
      "text/html": [
       "<style type='text/css'>\n",
       ".datatable table.frame { margin-bottom: 0; }\n",
       ".datatable table.frame thead { border-bottom: none; }\n",
       ".datatable table.frame tr.coltypes td {  color: #FFFFFF;  line-height: 6px;  padding: 0 0.5em;}\n",
       ".datatable .bool    { background: #DDDD99; }\n",
       ".datatable .object  { background: #565656; }\n",
       ".datatable .int     { background: #5D9E5D; }\n",
       ".datatable .float   { background: #4040CC; }\n",
       ".datatable .str     { background: #CC4040; }\n",
       ".datatable .time    { background: #40CC40; }\n",
       ".datatable .row_index {  background: var(--jp-border-color3);  border-right: 1px solid var(--jp-border-color0);  color: var(--jp-ui-font-color3);  font-size: 9px;}\n",
       ".datatable .frame tbody td { text-align: left; }\n",
       ".datatable .frame tr.coltypes .row_index {  background: var(--jp-border-color0);}\n",
       ".datatable th:nth-child(2) { padding-left: 12px; }\n",
       ".datatable .hellipsis {  color: var(--jp-cell-editor-border-color);}\n",
       ".datatable .vellipsis {  background: var(--jp-layout-color0);  color: var(--jp-cell-editor-border-color);}\n",
       ".datatable .na {  color: var(--jp-cell-editor-border-color);  font-size: 80%;}\n",
       ".datatable .sp {  opacity: 0.25;}\n",
       ".datatable .footer { font-size: 9px; }\n",
       ".datatable .frame_dimensions {  background: var(--jp-border-color3);  border-top: 1px solid var(--jp-border-color0);  color: var(--jp-ui-font-color3);  display: inline-block;  opacity: 0.6;  padding: 1px 10px 1px 5px;}\n",
       "</style>\n"
      ],
      "text/plain": [
       "<IPython.core.display.HTML object>"
      ]
     },
     "metadata": {},
     "output_type": "display_data"
    }
   ],
   "source": [
    "import pandas as pd\n",
    "import numpy as np\n",
    "import matplotlib.pyplot as plt\n",
    "import seaborn as sns\n",
    "from imblearn.pipeline import Pipeline\n",
    "\n",
    "from sklearn.preprocessing import MinMaxScaler\n",
    "\n",
    "from imblearn.over_sampling import SMOTE, BorderlineSMOTE, SVMSMOTE, ADASYN\n",
    "\n",
    "from sklearn.linear_model import LogisticRegression, Perceptron\n",
    "from sklearn.neighbors import KNeighborsClassifier\n",
    "from sklearn.svm import SVC\n",
    "from sklearn.tree import DecisionTreeClassifier\n",
    "from sklearn.ensemble import RandomForestClassifier\n",
    "from lightgbm import LGBMClassifier\n",
    "from xgboost import XGBClassifier\n",
    "\n",
    "from sklearn.experimental import enable_halving_search_cv\n",
    "from sklearn.model_selection import GridSearchCV, HalvingGridSearchCV, train_test_split, RepeatedStratifiedKFold, cross_val_score, learning_curve\n",
    "from sklearn.metrics import classification_report, fbeta_score, confusion_matrix, precision_recall_curve, auc, make_scorer"
   ]
  },
  {
   "cell_type": "code",
   "execution_count": 2,
   "id": "f3f6576c",
   "metadata": {
    "execution": {
     "iopub.execute_input": "2022-07-20T15:43:08.454481Z",
     "iopub.status.busy": "2022-07-20T15:43:08.453458Z",
     "iopub.status.idle": "2022-07-20T15:43:18.671628Z",
     "shell.execute_reply": "2022-07-20T15:43:18.670102Z"
    },
    "papermill": {
     "duration": 10.226403,
     "end_time": "2022-07-20T15:43:18.673953",
     "exception": false,
     "start_time": "2022-07-20T15:43:08.447550",
     "status": "completed"
    },
    "tags": []
   },
   "outputs": [],
   "source": [
    "accepted_loans = pd.read_csv('../input/elitedata/elite.csv')"
   ]
  },
  {
   "cell_type": "code",
   "execution_count": 3,
   "id": "b8fa7c02",
   "metadata": {
    "execution": {
     "iopub.execute_input": "2022-07-20T15:43:18.685710Z",
     "iopub.status.busy": "2022-07-20T15:43:18.684956Z",
     "iopub.status.idle": "2022-07-20T15:43:19.219646Z",
     "shell.execute_reply": "2022-07-20T15:43:19.218584Z"
    },
    "papermill": {
     "duration": 0.543239,
     "end_time": "2022-07-20T15:43:19.222041",
     "exception": false,
     "start_time": "2022-07-20T15:43:18.678802",
     "status": "completed"
    },
    "tags": []
   },
   "outputs": [],
   "source": [
    "X = accepted_loans.loc[:, accepted_loans.columns != 'loan_paid'].values\n",
    "y = accepted_loans['loan_paid'].values"
   ]
  },
  {
   "cell_type": "code",
   "execution_count": 4,
   "id": "7d1d4397",
   "metadata": {
    "execution": {
     "iopub.execute_input": "2022-07-20T15:43:19.233212Z",
     "iopub.status.busy": "2022-07-20T15:43:19.232401Z",
     "iopub.status.idle": "2022-07-20T15:43:20.908156Z",
     "shell.execute_reply": "2022-07-20T15:43:20.907194Z"
    },
    "papermill": {
     "duration": 1.68363,
     "end_time": "2022-07-20T15:43:20.910470",
     "exception": false,
     "start_time": "2022-07-20T15:43:19.226840",
     "status": "completed"
    },
    "tags": []
   },
   "outputs": [],
   "source": [
    "X_train, X_test, y_train, y_test = train_test_split(X, y, test_size=0.2, random_state=42, stratify=y)"
   ]
  },
  {
   "cell_type": "code",
   "execution_count": 5,
   "id": "ff3dcc45",
   "metadata": {
    "execution": {
     "iopub.execute_input": "2022-07-20T15:43:20.922119Z",
     "iopub.status.busy": "2022-07-20T15:43:20.921735Z",
     "iopub.status.idle": "2022-07-20T15:43:20.926346Z",
     "shell.execute_reply": "2022-07-20T15:43:20.925251Z"
    },
    "papermill": {
     "duration": 0.012815,
     "end_time": "2022-07-20T15:43:20.928430",
     "exception": false,
     "start_time": "2022-07-20T15:43:20.915615",
     "status": "completed"
    },
    "tags": []
   },
   "outputs": [],
   "source": [
    "cv = RepeatedStratifiedKFold(n_splits=5, n_repeats=2, random_state=42)"
   ]
  },
  {
   "cell_type": "code",
   "execution_count": 6,
   "id": "f3d0405d",
   "metadata": {
    "execution": {
     "iopub.execute_input": "2022-07-20T15:43:20.939364Z",
     "iopub.status.busy": "2022-07-20T15:43:20.938694Z",
     "iopub.status.idle": "2022-07-20T15:43:20.943856Z",
     "shell.execute_reply": "2022-07-20T15:43:20.943165Z"
    },
    "papermill": {
     "duration": 0.013026,
     "end_time": "2022-07-20T15:43:20.946193",
     "exception": false,
     "start_time": "2022-07-20T15:43:20.933167",
     "status": "completed"
    },
    "tags": []
   },
   "outputs": [],
   "source": [
    "minmax_scaler = ('minmax', MinMaxScaler())"
   ]
  },
  {
   "cell_type": "code",
   "execution_count": 7,
   "id": "cf0ad0ff",
   "metadata": {
    "execution": {
     "iopub.execute_input": "2022-07-20T15:43:20.957153Z",
     "iopub.status.busy": "2022-07-20T15:43:20.956279Z",
     "iopub.status.idle": "2022-07-20T15:43:20.961227Z",
     "shell.execute_reply": "2022-07-20T15:43:20.960510Z"
    },
    "papermill": {
     "duration": 0.012257,
     "end_time": "2022-07-20T15:43:20.963000",
     "exception": false,
     "start_time": "2022-07-20T15:43:20.950743",
     "status": "completed"
    },
    "tags": []
   },
   "outputs": [],
   "source": [
    "lr = ('lr', LogisticRegression(class_weight='balanced'))\n",
    "lr_param_grid = {\n",
    "    'lr__C': [0.01, 0.1, 1, 10, 100],\n",
    "    'lr__penalty': ['l2'],\n",
    "    'lr__max_iter': [100, 500],\n",
    "    'lr__solver': ['newton-cg', 'lbfgs', 'liblinear', 'sag', 'saga']\n",
    "}"
   ]
  },
  {
   "cell_type": "code",
   "execution_count": 8,
   "id": "2325c2a4",
   "metadata": {
    "execution": {
     "iopub.execute_input": "2022-07-20T15:43:20.974527Z",
     "iopub.status.busy": "2022-07-20T15:43:20.973677Z",
     "iopub.status.idle": "2022-07-20T15:43:20.977586Z",
     "shell.execute_reply": "2022-07-20T15:43:20.976904Z"
    },
    "papermill": {
     "duration": 0.011396,
     "end_time": "2022-07-20T15:43:20.979304",
     "exception": false,
     "start_time": "2022-07-20T15:43:20.967908",
     "status": "completed"
    },
    "tags": []
   },
   "outputs": [],
   "source": [
    "# Metric\n",
    "f_onehalf_scorer = make_scorer(fbeta_score, beta=0.5)"
   ]
  },
  {
   "cell_type": "code",
   "execution_count": 9,
   "id": "bcb1c29e",
   "metadata": {
    "execution": {
     "iopub.execute_input": "2022-07-20T15:43:20.990285Z",
     "iopub.status.busy": "2022-07-20T15:43:20.989684Z",
     "iopub.status.idle": "2022-07-20T15:43:21.002971Z",
     "shell.execute_reply": "2022-07-20T15:43:21.002277Z"
    },
    "papermill": {
     "duration": 0.021019,
     "end_time": "2022-07-20T15:43:21.004811",
     "exception": false,
     "start_time": "2022-07-20T15:43:20.983792",
     "status": "completed"
    },
    "tags": []
   },
   "outputs": [],
   "source": [
    "def plot_learning_curve(\n",
    "    estimator,\n",
    "    title,\n",
    "    X,\n",
    "    y,\n",
    "    axes=None,\n",
    "    ylim=None,\n",
    "    cv=cv,\n",
    "    n_jobs=-1,\n",
    "    train_sizes=np.linspace(0.1, 1.0, 5),\n",
    "):\n",
    "    if axes is None:\n",
    "        _, axes = plt.subplots(3, 1, figsize=(15, 15))\n",
    "\n",
    "    axes[0].set_title(title)\n",
    "    if ylim is not None:\n",
    "        axes[0].set_ylim(*ylim)\n",
    "    axes[0].set_xlabel(\"Training examples\")\n",
    "    axes[0].set_ylabel(\"Score\")\n",
    "\n",
    "    train_sizes, train_scores, test_scores, fit_times, _ = learning_curve(\n",
    "        estimator,\n",
    "        X,\n",
    "        y,\n",
    "        cv=cv,\n",
    "        n_jobs=n_jobs,\n",
    "        train_sizes=train_sizes,\n",
    "        scoring=f_onehalf_scorer,\n",
    "        return_times=True,\n",
    "        random_state=42\n",
    "    )\n",
    "    train_scores_mean = np.mean(train_scores, axis=1)\n",
    "    train_scores_std = np.std(train_scores, axis=1)\n",
    "    test_scores_mean = np.mean(test_scores, axis=1)\n",
    "    test_scores_std = np.std(test_scores, axis=1)\n",
    "    fit_times_mean = np.mean(fit_times, axis=1)\n",
    "    fit_times_std = np.std(fit_times, axis=1)\n",
    "\n",
    "    # Plot learning curve\n",
    "    axes[0].grid()\n",
    "    axes[0].fill_between(\n",
    "        train_sizes,\n",
    "        train_scores_mean - train_scores_std,\n",
    "        train_scores_mean + train_scores_std,\n",
    "        alpha=0.1,\n",
    "        color=\"r\",\n",
    "    )\n",
    "    axes[0].fill_between(\n",
    "        train_sizes,\n",
    "        test_scores_mean - test_scores_std,\n",
    "        test_scores_mean + test_scores_std,\n",
    "        alpha=0.1,\n",
    "        color=\"g\",\n",
    "    )\n",
    "    axes[0].plot(\n",
    "        train_sizes, train_scores_mean, \"o-\", color=\"r\", label=\"Training score\"\n",
    "    )\n",
    "    axes[0].plot(\n",
    "        train_sizes, test_scores_mean, \"o-\", color=\"g\", label=\"Cross-validation score\"\n",
    "    )\n",
    "    axes[0].legend(loc=\"best\")\n",
    "\n",
    "    # Plot n_samples vs fit_times\n",
    "    axes[1].grid()\n",
    "    axes[1].plot(train_sizes, fit_times_mean, \"o-\")\n",
    "    axes[1].fill_between(\n",
    "        train_sizes,\n",
    "        fit_times_mean - fit_times_std,\n",
    "        fit_times_mean + fit_times_std,\n",
    "        alpha=0.1,\n",
    "    )\n",
    "    axes[1].set_xlabel(\"Training examples\")\n",
    "    axes[1].set_ylabel(\"fit_times\")\n",
    "    axes[1].set_title(\"Scalability of the model\")\n",
    "\n",
    "    # Plot fit_time vs score\n",
    "    fit_time_argsort = fit_times_mean.argsort()\n",
    "    fit_time_sorted = fit_times_mean[fit_time_argsort]\n",
    "    test_scores_mean_sorted = test_scores_mean[fit_time_argsort]\n",
    "    test_scores_std_sorted = test_scores_std[fit_time_argsort]\n",
    "    axes[2].grid()\n",
    "    axes[2].plot(fit_time_sorted, test_scores_mean_sorted, \"o-\")\n",
    "    axes[2].fill_between(\n",
    "        fit_time_sorted,\n",
    "        test_scores_mean_sorted - test_scores_std_sorted,\n",
    "        test_scores_mean_sorted + test_scores_std_sorted,\n",
    "        alpha=0.1,\n",
    "    )\n",
    "    axes[2].set_xlabel(\"fit_times\") \n",
    "    axes[2].set_ylabel(\"Score\")\n",
    "    axes[2].set_title(\"Performance of the model\")\n",
    "\n",
    "    return plt"
   ]
  },
  {
   "cell_type": "code",
   "execution_count": 10,
   "id": "b7231179",
   "metadata": {
    "execution": {
     "iopub.execute_input": "2022-07-20T15:43:21.015700Z",
     "iopub.status.busy": "2022-07-20T15:43:21.015101Z",
     "iopub.status.idle": "2022-07-20T15:43:21.025236Z",
     "shell.execute_reply": "2022-07-20T15:43:21.024532Z"
    },
    "papermill": {
     "duration": 0.017538,
     "end_time": "2022-07-20T15:43:21.026983",
     "exception": false,
     "start_time": "2022-07-20T15:43:21.009445",
     "status": "completed"
    },
    "tags": []
   },
   "outputs": [],
   "source": [
    "def plot_search_results(search):\n",
    "    df = pd.DataFrame(search.cv_results_)\n",
    "    results = ['mean_test_score',\n",
    "            'mean_train_score',\n",
    "            'std_test_score', \n",
    "            'std_train_score']\n",
    "\n",
    "    fig, axes = plt.subplots(1, len(param_grid), \n",
    "                          figsize = (7*len(param_grid), 5),\n",
    "                          sharey='row')\n",
    "    if len(param_grid) == 1:\n",
    "        axes = [axes]\n",
    "\n",
    "    axes[0].set_ylabel(\"Score\", fontsize=25)\n",
    "\n",
    "\n",
    "    for idx, (param_name, param_range) in enumerate(param_grid.items()):\n",
    "      grouped_df = df.groupby(f'param_{param_name}')[results]\\\n",
    "          .agg({'mean_train_score': 'mean',\n",
    "                'mean_test_score': 'mean',\n",
    "                'std_train_score': 'mean',\n",
    "                'std_test_score': 'mean'})\n",
    "\n",
    "      previous_group = df.groupby(f'param_{param_name}')[results]\n",
    "      axes[idx].set_xlabel(param_name, fontsize=30)\n",
    "      axes[idx].set_ylim(0.0, 1.1)\n",
    "      lw = 2\n",
    "      axes[idx].plot(param_range, grouped_df['mean_train_score'], label=\"Training score\",\n",
    "                  color=\"darkorange\", lw=lw)\n",
    "      axes[idx].fill_between(param_range,grouped_df['mean_train_score'] - grouped_df['std_train_score'],\n",
    "                      grouped_df['mean_train_score'] + grouped_df['std_train_score'], alpha=0.2,\n",
    "                      color=\"darkorange\", lw=lw)\n",
    "      axes[idx].plot(param_range, grouped_df['mean_test_score'], label=\"Cross-validation score\",\n",
    "                  color=\"navy\", lw=lw)\n",
    "      axes[idx].fill_between(param_range, grouped_df['mean_test_score'] - grouped_df['std_test_score'],\n",
    "                      grouped_df['mean_test_score'] + grouped_df['std_test_score'], alpha=0.2,\n",
    "                      color=\"navy\", lw=lw)\n",
    "\n",
    "    handles, labels = axes[0].get_legend_handles_labels()\n",
    "    fig.suptitle('Validation curves', fontsize=40)\n",
    "    fig.legend(handles, labels, loc=8, ncol=2, fontsize=20)\n",
    "\n",
    "    fig.subplots_adjust(bottom=0.25, top=0.85)  \n",
    "    plt.show()"
   ]
  },
  {
   "cell_type": "code",
   "execution_count": 11,
   "id": "9b1ef377",
   "metadata": {
    "execution": {
     "iopub.execute_input": "2022-07-20T15:43:21.038088Z",
     "iopub.status.busy": "2022-07-20T15:43:21.037500Z",
     "iopub.status.idle": "2022-07-20T15:43:21.042125Z",
     "shell.execute_reply": "2022-07-20T15:43:21.041400Z"
    },
    "papermill": {
     "duration": 0.012314,
     "end_time": "2022-07-20T15:43:21.043861",
     "exception": false,
     "start_time": "2022-07-20T15:43:21.031547",
     "status": "completed"
    },
    "tags": []
   },
   "outputs": [],
   "source": [
    "def print_result_df(search):\n",
    "  keeping_columns = ['params', 'mean_train_score', 'std_train_score', 'mean_test_score', 'std_test_score', 'mean_fit_time', 'std_fit_time']\n",
    "  df = pd.DataFrame(search.cv_results_)\n",
    "  df = df[keeping_columns].sort_values(by='mean_test_score', ascending=False)\n",
    "  return df.iloc[:10, :]"
   ]
  },
  {
   "cell_type": "code",
   "execution_count": 12,
   "id": "2c78f199",
   "metadata": {
    "execution": {
     "iopub.execute_input": "2022-07-20T15:43:21.054451Z",
     "iopub.status.busy": "2022-07-20T15:43:21.053868Z",
     "iopub.status.idle": "2022-07-20T15:43:21.061930Z",
     "shell.execute_reply": "2022-07-20T15:43:21.061208Z"
    },
    "papermill": {
     "duration": 0.01549,
     "end_time": "2022-07-20T15:43:21.063864",
     "exception": false,
     "start_time": "2022-07-20T15:43:21.048374",
     "status": "completed"
    },
    "tags": []
   },
   "outputs": [],
   "source": [
    "def print_best_model_result(search, name):\n",
    "  print(\"Best parameter (CV score=):\" % search.best_score_)\n",
    "  best_model = search.best_estimator_\n",
    "  print(best_model)\n",
    "\n",
    "  y_pred = best_model.predict(X_test)\n",
    "\n",
    "  print(classification_report(y_test, y_pred))\n",
    "  print(confusion_matrix(y_test, y_pred))\n",
    "  \n",
    "  f_onehalf_score = fbeta_score(y_test, y_pred, beta=0.5)\n",
    "  print('f0.5_score=', f_onehalf_score)\n",
    "\n",
    "  try :\n",
    "    y_score = best_model.predict_proba(X_test)[:, 1]\n",
    "    # calculate precision and recall for each threshold\n",
    "    precision, recall, threshold = precision_recall_curve(y_test, y_score)\n",
    "    # calculate scores\n",
    "    pr_auc = auc(recall, precision)\n",
    "    print('pr_auc_score=', pr_auc)\n",
    "\n",
    "    # calculate the no skill line as the proportion of the positive class\n",
    "    no_skill = len(y_test[y_test==1]) / len(y_test)\n",
    "    # plot the no skill precision-recall curve\n",
    "    plt.figure(figsize=(10, 7))\n",
    "    plt.plot([0, 1], [no_skill, no_skill], linestyle='--', label='No Skill')\n",
    "    # plot the model precision-recall curve\n",
    "    plt.plot(recall, precision, marker='.', label=name)\n",
    "    plt.title(f'{name}(pr_auc={pr_auc})')\n",
    "    plt.xlabel('Recall')\n",
    "    plt.ylabel('Precision')\n",
    "    # show the legend\n",
    "    plt.legend()\n",
    "    # show the plot\n",
    "    plt.show()\n",
    "  except:\n",
    "    pass\n",
    "\n",
    "  return best_model"
   ]
  },
  {
   "cell_type": "code",
   "execution_count": 13,
   "id": "e247cbea",
   "metadata": {
    "execution": {
     "iopub.execute_input": "2022-07-20T15:43:21.074472Z",
     "iopub.status.busy": "2022-07-20T15:43:21.074113Z",
     "iopub.status.idle": "2022-07-20T15:43:21.079035Z",
     "shell.execute_reply": "2022-07-20T15:43:21.077901Z"
    },
    "papermill": {
     "duration": 0.012925,
     "end_time": "2022-07-20T15:43:21.081450",
     "exception": false,
     "start_time": "2022-07-20T15:43:21.068525",
     "status": "completed"
    },
    "tags": []
   },
   "outputs": [],
   "source": [
    "pipe = Pipeline(steps=[minmax_scaler, lr])"
   ]
  },
  {
   "cell_type": "code",
   "execution_count": 14,
   "id": "bb24917a",
   "metadata": {
    "execution": {
     "iopub.execute_input": "2022-07-20T15:43:21.092072Z",
     "iopub.status.busy": "2022-07-20T15:43:21.091765Z",
     "iopub.status.idle": "2022-07-20T15:43:21.095457Z",
     "shell.execute_reply": "2022-07-20T15:43:21.094683Z"
    },
    "papermill": {
     "duration": 0.011108,
     "end_time": "2022-07-20T15:43:21.097188",
     "exception": false,
     "start_time": "2022-07-20T15:43:21.086080",
     "status": "completed"
    },
    "tags": []
   },
   "outputs": [],
   "source": [
    "param_grid = lr_param_grid"
   ]
  },
  {
   "cell_type": "code",
   "execution_count": 15,
   "id": "f415baa4",
   "metadata": {
    "execution": {
     "iopub.execute_input": "2022-07-20T15:43:21.108015Z",
     "iopub.status.busy": "2022-07-20T15:43:21.107535Z",
     "iopub.status.idle": "2022-07-20T15:43:21.111535Z",
     "shell.execute_reply": "2022-07-20T15:43:21.110637Z"
    },
    "papermill": {
     "duration": 0.011735,
     "end_time": "2022-07-20T15:43:21.113388",
     "exception": false,
     "start_time": "2022-07-20T15:43:21.101653",
     "status": "completed"
    },
    "tags": []
   },
   "outputs": [],
   "source": [
    "search = HalvingGridSearchCV(pipe, param_grid, scoring=f_onehalf_scorer, cv=cv, verbose=3, return_train_score=True)"
   ]
  },
  {
   "cell_type": "code",
   "execution_count": 16,
   "id": "81295ae9",
   "metadata": {
    "execution": {
     "iopub.execute_input": "2022-07-20T15:43:21.124024Z",
     "iopub.status.busy": "2022-07-20T15:43:21.123542Z",
     "iopub.status.idle": "2022-07-20T18:33:44.910546Z",
     "shell.execute_reply": "2022-07-20T18:33:44.907713Z"
    },
    "papermill": {
     "duration": 10223.837142,
     "end_time": "2022-07-20T18:33:44.954979",
     "exception": false,
     "start_time": "2022-07-20T15:43:21.117837",
     "status": "completed"
    },
    "tags": []
   },
   "outputs": [
    {
     "name": "stdout",
     "output_type": "stream",
     "text": [
      "n_iterations: 4\n",
      "n_required_iterations: 4\n",
      "n_possible_iterations: 4\n",
      "min_resources_: 39803\n",
      "max_resources_: 1074704\n",
      "aggressive_elimination: False\n",
      "factor: 3\n",
      "----------\n",
      "iter: 0\n",
      "n_candidates: 50\n",
      "n_resources: 39803\n",
      "Fitting 10 folds for each of 50 candidates, totalling 500 fits\n",
      "[CV 1/10] END lr__C=0.01, lr__max_iter=100, lr__penalty=l2, lr__solver=newton-cg;, score=(train=0.900, test=0.902) total time=   0.6s\n",
      "[CV 2/10] END lr__C=0.01, lr__max_iter=100, lr__penalty=l2, lr__solver=newton-cg;, score=(train=0.901, test=0.905) total time=   0.6s\n",
      "[CV 3/10] END lr__C=0.01, lr__max_iter=100, lr__penalty=l2, lr__solver=newton-cg;, score=(train=0.901, test=0.902) total time=   0.6s\n",
      "[CV 4/10] END lr__C=0.01, lr__max_iter=100, lr__penalty=l2, lr__solver=newton-cg;, score=(train=0.903, test=0.900) total time=   0.6s\n",
      "[CV 5/10] END lr__C=0.01, lr__max_iter=100, lr__penalty=l2, lr__solver=newton-cg;, score=(train=0.901, test=0.900) total time=   0.6s\n",
      "[CV 6/10] END lr__C=0.01, lr__max_iter=100, lr__penalty=l2, lr__solver=newton-cg;, score=(train=0.901, test=0.901) total time=   1.1s\n",
      "[CV 7/10] END lr__C=0.01, lr__max_iter=100, lr__penalty=l2, lr__solver=newton-cg;, score=(train=0.902, test=0.904) total time=   0.7s\n",
      "[CV 8/10] END lr__C=0.01, lr__max_iter=100, lr__penalty=l2, lr__solver=newton-cg;, score=(train=0.902, test=0.902) total time=   0.7s\n",
      "[CV 9/10] END lr__C=0.01, lr__max_iter=100, lr__penalty=l2, lr__solver=newton-cg;, score=(train=0.900, test=0.897) total time=   0.6s\n",
      "[CV 10/10] END lr__C=0.01, lr__max_iter=100, lr__penalty=l2, lr__solver=newton-cg;, score=(train=0.903, test=0.904) total time=   0.6s\n",
      "[CV 1/10] END lr__C=0.01, lr__max_iter=100, lr__penalty=l2, lr__solver=lbfgs;, score=(train=0.900, test=0.902) total time=   0.3s\n",
      "[CV 2/10] END lr__C=0.01, lr__max_iter=100, lr__penalty=l2, lr__solver=lbfgs;, score=(train=0.901, test=0.905) total time=   0.4s\n",
      "[CV 3/10] END lr__C=0.01, lr__max_iter=100, lr__penalty=l2, lr__solver=lbfgs;, score=(train=0.901, test=0.902) total time=   0.3s\n",
      "[CV 4/10] END lr__C=0.01, lr__max_iter=100, lr__penalty=l2, lr__solver=lbfgs;, score=(train=0.903, test=0.900) total time=   0.3s\n",
      "[CV 5/10] END lr__C=0.01, lr__max_iter=100, lr__penalty=l2, lr__solver=lbfgs;, score=(train=0.901, test=0.900) total time=   0.3s\n",
      "[CV 6/10] END lr__C=0.01, lr__max_iter=100, lr__penalty=l2, lr__solver=lbfgs;, score=(train=0.901, test=0.901) total time=   0.3s\n",
      "[CV 7/10] END lr__C=0.01, lr__max_iter=100, lr__penalty=l2, lr__solver=lbfgs;, score=(train=0.902, test=0.904) total time=   0.3s\n",
      "[CV 8/10] END lr__C=0.01, lr__max_iter=100, lr__penalty=l2, lr__solver=lbfgs;, score=(train=0.902, test=0.902) total time=   0.3s\n",
      "[CV 9/10] END lr__C=0.01, lr__max_iter=100, lr__penalty=l2, lr__solver=lbfgs;, score=(train=0.900, test=0.897) total time=   0.3s\n",
      "[CV 10/10] END lr__C=0.01, lr__max_iter=100, lr__penalty=l2, lr__solver=lbfgs;, score=(train=0.903, test=0.904) total time=   0.3s\n",
      "[CV 1/10] END lr__C=0.01, lr__max_iter=100, lr__penalty=l2, lr__solver=liblinear;, score=(train=0.900, test=0.900) total time=   0.2s\n",
      "[CV 2/10] END lr__C=0.01, lr__max_iter=100, lr__penalty=l2, lr__solver=liblinear;, score=(train=0.901, test=0.904) total time=   0.2s\n",
      "[CV 3/10] END lr__C=0.01, lr__max_iter=100, lr__penalty=l2, lr__solver=liblinear;, score=(train=0.900, test=0.901) total time=   0.2s\n",
      "[CV 4/10] END lr__C=0.01, lr__max_iter=100, lr__penalty=l2, lr__solver=liblinear;, score=(train=0.903, test=0.899) total time=   0.2s\n",
      "[CV 5/10] END lr__C=0.01, lr__max_iter=100, lr__penalty=l2, lr__solver=liblinear;, score=(train=0.901, test=0.900) total time=   0.2s\n",
      "[CV 6/10] END lr__C=0.01, lr__max_iter=100, lr__penalty=l2, lr__solver=liblinear;, score=(train=0.901, test=0.900) total time=   0.2s\n",
      "[CV 7/10] END lr__C=0.01, lr__max_iter=100, lr__penalty=l2, lr__solver=liblinear;, score=(train=0.902, test=0.902) total time=   0.2s\n",
      "[CV 8/10] END lr__C=0.01, lr__max_iter=100, lr__penalty=l2, lr__solver=liblinear;, score=(train=0.902, test=0.901) total time=   0.2s\n",
      "[CV 9/10] END lr__C=0.01, lr__max_iter=100, lr__penalty=l2, lr__solver=liblinear;, score=(train=0.900, test=0.896) total time=   0.2s\n",
      "[CV 10/10] END lr__C=0.01, lr__max_iter=100, lr__penalty=l2, lr__solver=liblinear;, score=(train=0.902, test=0.904) total time=   0.2s\n",
      "[CV 1/10] END lr__C=0.01, lr__max_iter=100, lr__penalty=l2, lr__solver=sag;, score=(train=0.900, test=0.902) total time=   0.5s\n",
      "[CV 2/10] END lr__C=0.01, lr__max_iter=100, lr__penalty=l2, lr__solver=sag;, score=(train=0.901, test=0.905) total time=   0.5s\n",
      "[CV 3/10] END lr__C=0.01, lr__max_iter=100, lr__penalty=l2, lr__solver=sag;, score=(train=0.901, test=0.902) total time=   0.5s\n",
      "[CV 4/10] END lr__C=0.01, lr__max_iter=100, lr__penalty=l2, lr__solver=sag;, score=(train=0.903, test=0.900) total time=   0.5s\n",
      "[CV 5/10] END lr__C=0.01, lr__max_iter=100, lr__penalty=l2, lr__solver=sag;, score=(train=0.901, test=0.900) total time=   0.5s\n",
      "[CV 6/10] END lr__C=0.01, lr__max_iter=100, lr__penalty=l2, lr__solver=sag;, score=(train=0.901, test=0.901) total time=   0.5s\n",
      "[CV 7/10] END lr__C=0.01, lr__max_iter=100, lr__penalty=l2, lr__solver=sag;, score=(train=0.902, test=0.904) total time=   0.6s\n",
      "[CV 8/10] END lr__C=0.01, lr__max_iter=100, lr__penalty=l2, lr__solver=sag;, score=(train=0.902, test=0.902) total time=   0.5s\n",
      "[CV 9/10] END lr__C=0.01, lr__max_iter=100, lr__penalty=l2, lr__solver=sag;, score=(train=0.900, test=0.897) total time=   0.5s\n",
      "[CV 10/10] END lr__C=0.01, lr__max_iter=100, lr__penalty=l2, lr__solver=sag;, score=(train=0.903, test=0.904) total time=   0.6s\n",
      "[CV 1/10] END lr__C=0.01, lr__max_iter=100, lr__penalty=l2, lr__solver=saga;, score=(train=0.900, test=0.902) total time=   0.7s\n",
      "[CV 2/10] END lr__C=0.01, lr__max_iter=100, lr__penalty=l2, lr__solver=saga;, score=(train=0.901, test=0.905) total time=   0.8s\n",
      "[CV 3/10] END lr__C=0.01, lr__max_iter=100, lr__penalty=l2, lr__solver=saga;, score=(train=0.901, test=0.902) total time=   0.8s\n",
      "[CV 4/10] END lr__C=0.01, lr__max_iter=100, lr__penalty=l2, lr__solver=saga;, score=(train=0.903, test=0.900) total time=   0.7s\n",
      "[CV 5/10] END lr__C=0.01, lr__max_iter=100, lr__penalty=l2, lr__solver=saga;, score=(train=0.901, test=0.900) total time=   0.7s\n",
      "[CV 6/10] END lr__C=0.01, lr__max_iter=100, lr__penalty=l2, lr__solver=saga;, score=(train=0.901, test=0.901) total time=   0.8s\n",
      "[CV 7/10] END lr__C=0.01, lr__max_iter=100, lr__penalty=l2, lr__solver=saga;, score=(train=0.902, test=0.904) total time=   0.8s\n",
      "[CV 8/10] END lr__C=0.01, lr__max_iter=100, lr__penalty=l2, lr__solver=saga;, score=(train=0.902, test=0.902) total time=   0.7s\n",
      "[CV 9/10] END lr__C=0.01, lr__max_iter=100, lr__penalty=l2, lr__solver=saga;, score=(train=0.900, test=0.897) total time=   0.8s\n",
      "[CV 10/10] END lr__C=0.01, lr__max_iter=100, lr__penalty=l2, lr__solver=saga;, score=(train=0.903, test=0.904) total time=   0.8s\n",
      "[CV 1/10] END lr__C=0.01, lr__max_iter=500, lr__penalty=l2, lr__solver=newton-cg;, score=(train=0.900, test=0.902) total time=   0.6s\n",
      "[CV 2/10] END lr__C=0.01, lr__max_iter=500, lr__penalty=l2, lr__solver=newton-cg;, score=(train=0.901, test=0.905) total time=   0.6s\n",
      "[CV 3/10] END lr__C=0.01, lr__max_iter=500, lr__penalty=l2, lr__solver=newton-cg;, score=(train=0.901, test=0.902) total time=   0.6s\n",
      "[CV 4/10] END lr__C=0.01, lr__max_iter=500, lr__penalty=l2, lr__solver=newton-cg;, score=(train=0.903, test=0.900) total time=   0.6s\n",
      "[CV 5/10] END lr__C=0.01, lr__max_iter=500, lr__penalty=l2, lr__solver=newton-cg;, score=(train=0.901, test=0.900) total time=   0.7s\n",
      "[CV 6/10] END lr__C=0.01, lr__max_iter=500, lr__penalty=l2, lr__solver=newton-cg;, score=(train=0.901, test=0.901) total time=   0.6s\n",
      "[CV 7/10] END lr__C=0.01, lr__max_iter=500, lr__penalty=l2, lr__solver=newton-cg;, score=(train=0.902, test=0.904) total time=   0.6s\n",
      "[CV 8/10] END lr__C=0.01, lr__max_iter=500, lr__penalty=l2, lr__solver=newton-cg;, score=(train=0.902, test=0.902) total time=   0.6s\n",
      "[CV 9/10] END lr__C=0.01, lr__max_iter=500, lr__penalty=l2, lr__solver=newton-cg;, score=(train=0.900, test=0.897) total time=   0.6s\n",
      "[CV 10/10] END lr__C=0.01, lr__max_iter=500, lr__penalty=l2, lr__solver=newton-cg;, score=(train=0.903, test=0.904) total time=   0.6s\n",
      "[CV 1/10] END lr__C=0.01, lr__max_iter=500, lr__penalty=l2, lr__solver=lbfgs;, score=(train=0.900, test=0.902) total time=   0.3s\n",
      "[CV 2/10] END lr__C=0.01, lr__max_iter=500, lr__penalty=l2, lr__solver=lbfgs;, score=(train=0.901, test=0.905) total time=   0.3s\n",
      "[CV 3/10] END lr__C=0.01, lr__max_iter=500, lr__penalty=l2, lr__solver=lbfgs;, score=(train=0.901, test=0.902) total time=   0.3s\n",
      "[CV 4/10] END lr__C=0.01, lr__max_iter=500, lr__penalty=l2, lr__solver=lbfgs;, score=(train=0.903, test=0.900) total time=   0.3s\n",
      "[CV 5/10] END lr__C=0.01, lr__max_iter=500, lr__penalty=l2, lr__solver=lbfgs;, score=(train=0.901, test=0.900) total time=   0.3s\n",
      "[CV 6/10] END lr__C=0.01, lr__max_iter=500, lr__penalty=l2, lr__solver=lbfgs;, score=(train=0.901, test=0.901) total time=   0.3s\n",
      "[CV 7/10] END lr__C=0.01, lr__max_iter=500, lr__penalty=l2, lr__solver=lbfgs;, score=(train=0.902, test=0.904) total time=   0.3s\n",
      "[CV 8/10] END lr__C=0.01, lr__max_iter=500, lr__penalty=l2, lr__solver=lbfgs;, score=(train=0.902, test=0.902) total time=   0.3s\n",
      "[CV 9/10] END lr__C=0.01, lr__max_iter=500, lr__penalty=l2, lr__solver=lbfgs;, score=(train=0.900, test=0.897) total time=   0.3s\n",
      "[CV 10/10] END lr__C=0.01, lr__max_iter=500, lr__penalty=l2, lr__solver=lbfgs;, score=(train=0.903, test=0.904) total time=   0.3s\n",
      "[CV 1/10] END lr__C=0.01, lr__max_iter=500, lr__penalty=l2, lr__solver=liblinear;, score=(train=0.900, test=0.900) total time=   0.2s\n",
      "[CV 2/10] END lr__C=0.01, lr__max_iter=500, lr__penalty=l2, lr__solver=liblinear;, score=(train=0.901, test=0.904) total time=   0.2s\n",
      "[CV 3/10] END lr__C=0.01, lr__max_iter=500, lr__penalty=l2, lr__solver=liblinear;, score=(train=0.900, test=0.901) total time=   0.2s\n",
      "[CV 4/10] END lr__C=0.01, lr__max_iter=500, lr__penalty=l2, lr__solver=liblinear;, score=(train=0.903, test=0.899) total time=   0.2s\n",
      "[CV 5/10] END lr__C=0.01, lr__max_iter=500, lr__penalty=l2, lr__solver=liblinear;, score=(train=0.901, test=0.900) total time=   0.2s\n",
      "[CV 6/10] END lr__C=0.01, lr__max_iter=500, lr__penalty=l2, lr__solver=liblinear;, score=(train=0.901, test=0.900) total time=   0.2s\n",
      "[CV 7/10] END lr__C=0.01, lr__max_iter=500, lr__penalty=l2, lr__solver=liblinear;, score=(train=0.902, test=0.902) total time=   0.2s\n",
      "[CV 8/10] END lr__C=0.01, lr__max_iter=500, lr__penalty=l2, lr__solver=liblinear;, score=(train=0.902, test=0.901) total time=   0.2s\n",
      "[CV 9/10] END lr__C=0.01, lr__max_iter=500, lr__penalty=l2, lr__solver=liblinear;, score=(train=0.900, test=0.896) total time=   0.2s\n",
      "[CV 10/10] END lr__C=0.01, lr__max_iter=500, lr__penalty=l2, lr__solver=liblinear;, score=(train=0.902, test=0.904) total time=   0.2s\n",
      "[CV 1/10] END lr__C=0.01, lr__max_iter=500, lr__penalty=l2, lr__solver=sag;, score=(train=0.900, test=0.902) total time=   0.5s\n",
      "[CV 2/10] END lr__C=0.01, lr__max_iter=500, lr__penalty=l2, lr__solver=sag;, score=(train=0.901, test=0.905) total time=   0.5s\n",
      "[CV 3/10] END lr__C=0.01, lr__max_iter=500, lr__penalty=l2, lr__solver=sag;, score=(train=0.901, test=0.902) total time=   0.6s\n",
      "[CV 4/10] END lr__C=0.01, lr__max_iter=500, lr__penalty=l2, lr__solver=sag;, score=(train=0.903, test=0.900) total time=   0.6s\n",
      "[CV 5/10] END lr__C=0.01, lr__max_iter=500, lr__penalty=l2, lr__solver=sag;, score=(train=0.901, test=0.900) total time=   0.5s\n",
      "[CV 6/10] END lr__C=0.01, lr__max_iter=500, lr__penalty=l2, lr__solver=sag;, score=(train=0.901, test=0.901) total time=   0.6s\n",
      "[CV 7/10] END lr__C=0.01, lr__max_iter=500, lr__penalty=l2, lr__solver=sag;, score=(train=0.902, test=0.904) total time=   0.6s\n",
      "[CV 8/10] END lr__C=0.01, lr__max_iter=500, lr__penalty=l2, lr__solver=sag;, score=(train=0.902, test=0.902) total time=   0.5s\n",
      "[CV 9/10] END lr__C=0.01, lr__max_iter=500, lr__penalty=l2, lr__solver=sag;, score=(train=0.900, test=0.897) total time=   0.5s\n",
      "[CV 10/10] END lr__C=0.01, lr__max_iter=500, lr__penalty=l2, lr__solver=sag;, score=(train=0.903, test=0.904) total time=   0.5s\n",
      "[CV 1/10] END lr__C=0.01, lr__max_iter=500, lr__penalty=l2, lr__solver=saga;, score=(train=0.900, test=0.902) total time=   0.7s\n",
      "[CV 2/10] END lr__C=0.01, lr__max_iter=500, lr__penalty=l2, lr__solver=saga;, score=(train=0.900, test=0.905) total time=   0.7s\n",
      "[CV 3/10] END lr__C=0.01, lr__max_iter=500, lr__penalty=l2, lr__solver=saga;, score=(train=0.901, test=0.902) total time=   0.8s\n",
      "[CV 4/10] END lr__C=0.01, lr__max_iter=500, lr__penalty=l2, lr__solver=saga;, score=(train=0.903, test=0.900) total time=   0.8s\n",
      "[CV 5/10] END lr__C=0.01, lr__max_iter=500, lr__penalty=l2, lr__solver=saga;, score=(train=0.901, test=0.900) total time=   0.7s\n",
      "[CV 6/10] END lr__C=0.01, lr__max_iter=500, lr__penalty=l2, lr__solver=saga;, score=(train=0.901, test=0.901) total time=   0.8s\n",
      "[CV 7/10] END lr__C=0.01, lr__max_iter=500, lr__penalty=l2, lr__solver=saga;, score=(train=0.902, test=0.904) total time=   0.8s\n",
      "[CV 8/10] END lr__C=0.01, lr__max_iter=500, lr__penalty=l2, lr__solver=saga;, score=(train=0.902, test=0.902) total time=   0.7s\n",
      "[CV 9/10] END lr__C=0.01, lr__max_iter=500, lr__penalty=l2, lr__solver=saga;, score=(train=0.900, test=0.897) total time=   0.7s\n",
      "[CV 10/10] END lr__C=0.01, lr__max_iter=500, lr__penalty=l2, lr__solver=saga;, score=(train=0.903, test=0.904) total time=   0.8s\n",
      "[CV 1/10] END lr__C=0.1, lr__max_iter=100, lr__penalty=l2, lr__solver=newton-cg;, score=(train=0.917, test=0.917) total time=   0.9s\n",
      "[CV 2/10] END lr__C=0.1, lr__max_iter=100, lr__penalty=l2, lr__solver=newton-cg;, score=(train=0.918, test=0.919) total time=   0.9s\n",
      "[CV 3/10] END lr__C=0.1, lr__max_iter=100, lr__penalty=l2, lr__solver=newton-cg;, score=(train=0.918, test=0.923) total time=   1.0s\n",
      "[CV 4/10] END lr__C=0.1, lr__max_iter=100, lr__penalty=l2, lr__solver=newton-cg;, score=(train=0.919, test=0.916) total time=   0.8s\n",
      "[CV 5/10] END lr__C=0.1, lr__max_iter=100, lr__penalty=l2, lr__solver=newton-cg;, score=(train=0.919, test=0.920) total time=   1.4s\n",
      "[CV 6/10] END lr__C=0.1, lr__max_iter=100, lr__penalty=l2, lr__solver=newton-cg;, score=(train=0.919, test=0.915) total time=   1.0s\n",
      "[CV 7/10] END lr__C=0.1, lr__max_iter=100, lr__penalty=l2, lr__solver=newton-cg;, score=(train=0.920, test=0.922) total time=   1.0s\n",
      "[CV 8/10] END lr__C=0.1, lr__max_iter=100, lr__penalty=l2, lr__solver=newton-cg;, score=(train=0.920, test=0.919) total time=   1.0s\n",
      "[CV 9/10] END lr__C=0.1, lr__max_iter=100, lr__penalty=l2, lr__solver=newton-cg;, score=(train=0.917, test=0.916) total time=   0.8s\n",
      "[CV 10/10] END lr__C=0.1, lr__max_iter=100, lr__penalty=l2, lr__solver=newton-cg;, score=(train=0.920, test=0.918) total time=   1.0s\n",
      "[CV 1/10] END lr__C=0.1, lr__max_iter=100, lr__penalty=l2, lr__solver=lbfgs;, score=(train=0.917, test=0.917) total time=   0.6s\n",
      "[CV 2/10] END lr__C=0.1, lr__max_iter=100, lr__penalty=l2, lr__solver=lbfgs;, score=(train=0.918, test=0.919) total time=   0.6s\n",
      "[CV 3/10] END lr__C=0.1, lr__max_iter=100, lr__penalty=l2, lr__solver=lbfgs;, score=(train=0.918, test=0.923) total time=   0.5s\n",
      "[CV 4/10] END lr__C=0.1, lr__max_iter=100, lr__penalty=l2, lr__solver=lbfgs;, score=(train=0.919, test=0.916) total time=   0.6s\n",
      "[CV 5/10] END lr__C=0.1, lr__max_iter=100, lr__penalty=l2, lr__solver=lbfgs;, score=(train=0.919, test=0.920) total time=   0.6s\n",
      "[CV 6/10] END lr__C=0.1, lr__max_iter=100, lr__penalty=l2, lr__solver=lbfgs;, score=(train=0.919, test=0.915) total time=   0.5s\n",
      "[CV 7/10] END lr__C=0.1, lr__max_iter=100, lr__penalty=l2, lr__solver=lbfgs;, score=(train=0.920, test=0.922) total time=   0.6s\n",
      "[CV 8/10] END lr__C=0.1, lr__max_iter=100, lr__penalty=l2, lr__solver=lbfgs;, score=(train=0.920, test=0.919) total time=   0.5s\n",
      "[CV 9/10] END lr__C=0.1, lr__max_iter=100, lr__penalty=l2, lr__solver=lbfgs;, score=(train=0.917, test=0.916) total time=   0.6s\n",
      "[CV 10/10] END lr__C=0.1, lr__max_iter=100, lr__penalty=l2, lr__solver=lbfgs;, score=(train=0.920, test=0.918) total time=   0.5s\n",
      "[CV 1/10] END lr__C=0.1, lr__max_iter=100, lr__penalty=l2, lr__solver=liblinear;, score=(train=0.917, test=0.918) total time=   0.3s\n",
      "[CV 2/10] END lr__C=0.1, lr__max_iter=100, lr__penalty=l2, lr__solver=liblinear;, score=(train=0.918, test=0.918) total time=   0.3s\n",
      "[CV 3/10] END lr__C=0.1, lr__max_iter=100, lr__penalty=l2, lr__solver=liblinear;, score=(train=0.918, test=0.923) total time=   0.3s\n",
      "[CV 4/10] END lr__C=0.1, lr__max_iter=100, lr__penalty=l2, lr__solver=liblinear;, score=(train=0.919, test=0.916) total time=   0.3s\n",
      "[CV 5/10] END lr__C=0.1, lr__max_iter=100, lr__penalty=l2, lr__solver=liblinear;, score=(train=0.919, test=0.920) total time=   0.3s\n",
      "[CV 6/10] END lr__C=0.1, lr__max_iter=100, lr__penalty=l2, lr__solver=liblinear;, score=(train=0.919, test=0.915) total time=   0.3s\n",
      "[CV 7/10] END lr__C=0.1, lr__max_iter=100, lr__penalty=l2, lr__solver=liblinear;, score=(train=0.920, test=0.922) total time=   0.3s\n",
      "[CV 8/10] END lr__C=0.1, lr__max_iter=100, lr__penalty=l2, lr__solver=liblinear;, score=(train=0.920, test=0.920) total time=   0.3s\n",
      "[CV 9/10] END lr__C=0.1, lr__max_iter=100, lr__penalty=l2, lr__solver=liblinear;, score=(train=0.917, test=0.915) total time=   0.3s\n",
      "[CV 10/10] END lr__C=0.1, lr__max_iter=100, lr__penalty=l2, lr__solver=liblinear;, score=(train=0.920, test=0.918) total time=   0.3s\n",
      "[CV 1/10] END lr__C=0.1, lr__max_iter=100, lr__penalty=l2, lr__solver=sag;, score=(train=0.917, test=0.917) total time=   0.7s\n",
      "[CV 2/10] END lr__C=0.1, lr__max_iter=100, lr__penalty=l2, lr__solver=sag;, score=(train=0.918, test=0.919) total time=   0.7s\n",
      "[CV 3/10] END lr__C=0.1, lr__max_iter=100, lr__penalty=l2, lr__solver=sag;, score=(train=0.918, test=0.923) total time=   0.7s\n",
      "[CV 4/10] END lr__C=0.1, lr__max_iter=100, lr__penalty=l2, lr__solver=sag;, score=(train=0.919, test=0.916) total time=   0.7s\n",
      "[CV 5/10] END lr__C=0.1, lr__max_iter=100, lr__penalty=l2, lr__solver=sag;, score=(train=0.919, test=0.920) total time=   0.7s\n",
      "[CV 6/10] END lr__C=0.1, lr__max_iter=100, lr__penalty=l2, lr__solver=sag;, score=(train=0.919, test=0.915) total time=   0.7s\n",
      "[CV 7/10] END lr__C=0.1, lr__max_iter=100, lr__penalty=l2, lr__solver=sag;, score=(train=0.920, test=0.922) total time=   0.7s\n",
      "[CV 8/10] END lr__C=0.1, lr__max_iter=100, lr__penalty=l2, lr__solver=sag;, score=(train=0.920, test=0.919) total time=   0.6s\n",
      "[CV 9/10] END lr__C=0.1, lr__max_iter=100, lr__penalty=l2, lr__solver=sag;, score=(train=0.918, test=0.916) total time=   0.7s\n",
      "[CV 10/10] END lr__C=0.1, lr__max_iter=100, lr__penalty=l2, lr__solver=sag;, score=(train=0.920, test=0.918) total time=   0.7s\n",
      "[CV 1/10] END lr__C=0.1, lr__max_iter=100, lr__penalty=l2, lr__solver=saga;, score=(train=0.917, test=0.917) total time=   0.7s\n",
      "[CV 2/10] END lr__C=0.1, lr__max_iter=100, lr__penalty=l2, lr__solver=saga;, score=(train=0.918, test=0.919) total time=   0.7s\n",
      "[CV 3/10] END lr__C=0.1, lr__max_iter=100, lr__penalty=l2, lr__solver=saga;, score=(train=0.918, test=0.923) total time=   0.7s\n",
      "[CV 4/10] END lr__C=0.1, lr__max_iter=100, lr__penalty=l2, lr__solver=saga;, score=(train=0.919, test=0.916) total time=   0.7s\n",
      "[CV 5/10] END lr__C=0.1, lr__max_iter=100, lr__penalty=l2, lr__solver=saga;, score=(train=0.919, test=0.920) total time=   0.7s\n",
      "[CV 6/10] END lr__C=0.1, lr__max_iter=100, lr__penalty=l2, lr__solver=saga;, score=(train=0.919, test=0.915) total time=   0.7s\n",
      "[CV 7/10] END lr__C=0.1, lr__max_iter=100, lr__penalty=l2, lr__solver=saga;, score=(train=0.920, test=0.922) total time=   0.7s\n",
      "[CV 8/10] END lr__C=0.1, lr__max_iter=100, lr__penalty=l2, lr__solver=saga;, score=(train=0.920, test=0.919) total time=   0.6s\n",
      "[CV 9/10] END lr__C=0.1, lr__max_iter=100, lr__penalty=l2, lr__solver=saga;, score=(train=0.917, test=0.916) total time=   0.7s\n",
      "[CV 10/10] END lr__C=0.1, lr__max_iter=100, lr__penalty=l2, lr__solver=saga;, score=(train=0.920, test=0.918) total time=   0.7s\n",
      "[CV 1/10] END lr__C=0.1, lr__max_iter=500, lr__penalty=l2, lr__solver=newton-cg;, score=(train=0.917, test=0.917) total time=   0.9s\n",
      "[CV 2/10] END lr__C=0.1, lr__max_iter=500, lr__penalty=l2, lr__solver=newton-cg;, score=(train=0.918, test=0.919) total time=   0.9s\n",
      "[CV 3/10] END lr__C=0.1, lr__max_iter=500, lr__penalty=l2, lr__solver=newton-cg;, score=(train=0.918, test=0.923) total time=   0.9s\n",
      "[CV 4/10] END lr__C=0.1, lr__max_iter=500, lr__penalty=l2, lr__solver=newton-cg;, score=(train=0.919, test=0.916) total time=   1.1s\n",
      "[CV 5/10] END lr__C=0.1, lr__max_iter=500, lr__penalty=l2, lr__solver=newton-cg;, score=(train=0.919, test=0.920) total time=   1.4s\n",
      "[CV 6/10] END lr__C=0.1, lr__max_iter=500, lr__penalty=l2, lr__solver=newton-cg;, score=(train=0.919, test=0.915) total time=   0.9s\n",
      "[CV 7/10] END lr__C=0.1, lr__max_iter=500, lr__penalty=l2, lr__solver=newton-cg;, score=(train=0.920, test=0.922) total time=   1.0s\n",
      "[CV 8/10] END lr__C=0.1, lr__max_iter=500, lr__penalty=l2, lr__solver=newton-cg;, score=(train=0.920, test=0.919) total time=   1.0s\n",
      "[CV 9/10] END lr__C=0.1, lr__max_iter=500, lr__penalty=l2, lr__solver=newton-cg;, score=(train=0.917, test=0.916) total time=   0.9s\n",
      "[CV 10/10] END lr__C=0.1, lr__max_iter=500, lr__penalty=l2, lr__solver=newton-cg;, score=(train=0.920, test=0.918) total time=   0.9s\n",
      "[CV 1/10] END lr__C=0.1, lr__max_iter=500, lr__penalty=l2, lr__solver=lbfgs;, score=(train=0.917, test=0.917) total time=   0.6s\n",
      "[CV 2/10] END lr__C=0.1, lr__max_iter=500, lr__penalty=l2, lr__solver=lbfgs;, score=(train=0.918, test=0.919) total time=   0.6s\n",
      "[CV 3/10] END lr__C=0.1, lr__max_iter=500, lr__penalty=l2, lr__solver=lbfgs;, score=(train=0.918, test=0.923) total time=   0.6s\n",
      "[CV 4/10] END lr__C=0.1, lr__max_iter=500, lr__penalty=l2, lr__solver=lbfgs;, score=(train=0.919, test=0.916) total time=   0.6s\n",
      "[CV 5/10] END lr__C=0.1, lr__max_iter=500, lr__penalty=l2, lr__solver=lbfgs;, score=(train=0.919, test=0.920) total time=   0.6s\n",
      "[CV 6/10] END lr__C=0.1, lr__max_iter=500, lr__penalty=l2, lr__solver=lbfgs;, score=(train=0.919, test=0.915) total time=   0.6s\n",
      "[CV 7/10] END lr__C=0.1, lr__max_iter=500, lr__penalty=l2, lr__solver=lbfgs;, score=(train=0.920, test=0.922) total time=   0.6s\n",
      "[CV 8/10] END lr__C=0.1, lr__max_iter=500, lr__penalty=l2, lr__solver=lbfgs;, score=(train=0.920, test=0.919) total time=   0.5s\n",
      "[CV 9/10] END lr__C=0.1, lr__max_iter=500, lr__penalty=l2, lr__solver=lbfgs;, score=(train=0.917, test=0.916) total time=   0.6s\n",
      "[CV 10/10] END lr__C=0.1, lr__max_iter=500, lr__penalty=l2, lr__solver=lbfgs;, score=(train=0.920, test=0.918) total time=   0.5s\n",
      "[CV 1/10] END lr__C=0.1, lr__max_iter=500, lr__penalty=l2, lr__solver=liblinear;, score=(train=0.917, test=0.918) total time=   0.3s\n",
      "[CV 2/10] END lr__C=0.1, lr__max_iter=500, lr__penalty=l2, lr__solver=liblinear;, score=(train=0.918, test=0.918) total time=   0.3s\n",
      "[CV 3/10] END lr__C=0.1, lr__max_iter=500, lr__penalty=l2, lr__solver=liblinear;, score=(train=0.918, test=0.923) total time=   0.3s\n",
      "[CV 4/10] END lr__C=0.1, lr__max_iter=500, lr__penalty=l2, lr__solver=liblinear;, score=(train=0.919, test=0.916) total time=   0.3s\n",
      "[CV 5/10] END lr__C=0.1, lr__max_iter=500, lr__penalty=l2, lr__solver=liblinear;, score=(train=0.919, test=0.920) total time=   0.3s\n",
      "[CV 6/10] END lr__C=0.1, lr__max_iter=500, lr__penalty=l2, lr__solver=liblinear;, score=(train=0.919, test=0.915) total time=   0.3s\n",
      "[CV 7/10] END lr__C=0.1, lr__max_iter=500, lr__penalty=l2, lr__solver=liblinear;, score=(train=0.920, test=0.922) total time=   0.3s\n",
      "[CV 8/10] END lr__C=0.1, lr__max_iter=500, lr__penalty=l2, lr__solver=liblinear;, score=(train=0.920, test=0.920) total time=   0.3s\n",
      "[CV 9/10] END lr__C=0.1, lr__max_iter=500, lr__penalty=l2, lr__solver=liblinear;, score=(train=0.917, test=0.915) total time=   0.3s\n",
      "[CV 10/10] END lr__C=0.1, lr__max_iter=500, lr__penalty=l2, lr__solver=liblinear;, score=(train=0.920, test=0.918) total time=   0.3s\n",
      "[CV 1/10] END lr__C=0.1, lr__max_iter=500, lr__penalty=l2, lr__solver=sag;, score=(train=0.917, test=0.917) total time=   0.6s\n",
      "[CV 2/10] END lr__C=0.1, lr__max_iter=500, lr__penalty=l2, lr__solver=sag;, score=(train=0.918, test=0.918) total time=   0.6s\n",
      "[CV 3/10] END lr__C=0.1, lr__max_iter=500, lr__penalty=l2, lr__solver=sag;, score=(train=0.918, test=0.923) total time=   0.6s\n",
      "[CV 4/10] END lr__C=0.1, lr__max_iter=500, lr__penalty=l2, lr__solver=sag;, score=(train=0.919, test=0.916) total time=   0.6s\n",
      "[CV 5/10] END lr__C=0.1, lr__max_iter=500, lr__penalty=l2, lr__solver=sag;, score=(train=0.919, test=0.920) total time=   0.6s\n",
      "[CV 6/10] END lr__C=0.1, lr__max_iter=500, lr__penalty=l2, lr__solver=sag;, score=(train=0.919, test=0.915) total time=   0.7s\n",
      "[CV 7/10] END lr__C=0.1, lr__max_iter=500, lr__penalty=l2, lr__solver=sag;, score=(train=0.920, test=0.922) total time=   0.7s\n",
      "[CV 8/10] END lr__C=0.1, lr__max_iter=500, lr__penalty=l2, lr__solver=sag;, score=(train=0.920, test=0.919) total time=   0.7s\n",
      "[CV 9/10] END lr__C=0.1, lr__max_iter=500, lr__penalty=l2, lr__solver=sag;, score=(train=0.918, test=0.916) total time=   0.6s\n",
      "[CV 10/10] END lr__C=0.1, lr__max_iter=500, lr__penalty=l2, lr__solver=sag;, score=(train=0.920, test=0.918) total time=   0.7s\n",
      "[CV 1/10] END lr__C=0.1, lr__max_iter=500, lr__penalty=l2, lr__solver=saga;, score=(train=0.917, test=0.917) total time=   0.7s\n",
      "[CV 2/10] END lr__C=0.1, lr__max_iter=500, lr__penalty=l2, lr__solver=saga;, score=(train=0.918, test=0.919) total time=   0.7s\n",
      "[CV 3/10] END lr__C=0.1, lr__max_iter=500, lr__penalty=l2, lr__solver=saga;, score=(train=0.918, test=0.923) total time=   0.7s\n",
      "[CV 4/10] END lr__C=0.1, lr__max_iter=500, lr__penalty=l2, lr__solver=saga;, score=(train=0.919, test=0.916) total time=   0.7s\n",
      "[CV 5/10] END lr__C=0.1, lr__max_iter=500, lr__penalty=l2, lr__solver=saga;, score=(train=0.919, test=0.920) total time=   0.7s\n",
      "[CV 6/10] END lr__C=0.1, lr__max_iter=500, lr__penalty=l2, lr__solver=saga;, score=(train=0.919, test=0.915) total time=   0.7s\n",
      "[CV 7/10] END lr__C=0.1, lr__max_iter=500, lr__penalty=l2, lr__solver=saga;, score=(train=0.920, test=0.922) total time=   0.7s\n",
      "[CV 8/10] END lr__C=0.1, lr__max_iter=500, lr__penalty=l2, lr__solver=saga;, score=(train=0.920, test=0.919) total time=   0.7s\n",
      "[CV 9/10] END lr__C=0.1, lr__max_iter=500, lr__penalty=l2, lr__solver=saga;, score=(train=0.917, test=0.916) total time=   0.6s\n",
      "[CV 10/10] END lr__C=0.1, lr__max_iter=500, lr__penalty=l2, lr__solver=saga;, score=(train=0.920, test=0.918) total time=   0.7s\n",
      "[CV 1/10] END lr__C=1, lr__max_iter=100, lr__penalty=l2, lr__solver=newton-cg;, score=(train=0.926, test=0.926) total time=   1.4s\n",
      "[CV 2/10] END lr__C=1, lr__max_iter=100, lr__penalty=l2, lr__solver=newton-cg;, score=(train=0.927, test=0.925) total time=   1.3s\n",
      "[CV 3/10] END lr__C=1, lr__max_iter=100, lr__penalty=l2, lr__solver=newton-cg;, score=(train=0.926, test=0.931) total time=   1.4s\n",
      "[CV 4/10] END lr__C=1, lr__max_iter=100, lr__penalty=l2, lr__solver=newton-cg;, score=(train=0.928, test=0.924) total time=   1.3s\n",
      "[CV 5/10] END lr__C=1, lr__max_iter=100, lr__penalty=l2, lr__solver=newton-cg;, score=(train=0.927, test=0.928) total time=   1.4s\n",
      "[CV 6/10] END lr__C=1, lr__max_iter=100, lr__penalty=l2, lr__solver=newton-cg;, score=(train=0.928, test=0.924) total time=   1.4s\n",
      "[CV 7/10] END lr__C=1, lr__max_iter=100, lr__penalty=l2, lr__solver=newton-cg;, score=(train=0.930, test=0.931) total time=   1.2s\n",
      "[CV 8/10] END lr__C=1, lr__max_iter=100, lr__penalty=l2, lr__solver=newton-cg;, score=(train=0.929, test=0.927) total time=   1.2s\n",
      "[CV 9/10] END lr__C=1, lr__max_iter=100, lr__penalty=l2, lr__solver=newton-cg;, score=(train=0.927, test=0.926) total time=   1.3s\n",
      "[CV 10/10] END lr__C=1, lr__max_iter=100, lr__penalty=l2, lr__solver=newton-cg;, score=(train=0.928, test=0.925) total time=   1.4s\n"
     ]
    },
    {
     "name": "stderr",
     "output_type": "stream",
     "text": [
      "/opt/conda/lib/python3.7/site-packages/sklearn/linear_model/_logistic.py:818: ConvergenceWarning: lbfgs failed to converge (status=1):\n",
      "STOP: TOTAL NO. of ITERATIONS REACHED LIMIT.\n",
      "\n",
      "Increase the number of iterations (max_iter) or scale the data as shown in:\n",
      "    https://scikit-learn.org/stable/modules/preprocessing.html\n",
      "Please also refer to the documentation for alternative solver options:\n",
      "    https://scikit-learn.org/stable/modules/linear_model.html#logistic-regression\n",
      "  extra_warning_msg=_LOGISTIC_SOLVER_CONVERGENCE_MSG,\n"
     ]
    },
    {
     "name": "stdout",
     "output_type": "stream",
     "text": [
      "[CV 1/10] END lr__C=1, lr__max_iter=100, lr__penalty=l2, lr__solver=lbfgs;, score=(train=0.926, test=0.926) total time=   0.7s\n"
     ]
    },
    {
     "name": "stderr",
     "output_type": "stream",
     "text": [
      "/opt/conda/lib/python3.7/site-packages/sklearn/linear_model/_logistic.py:818: ConvergenceWarning: lbfgs failed to converge (status=1):\n",
      "STOP: TOTAL NO. of ITERATIONS REACHED LIMIT.\n",
      "\n",
      "Increase the number of iterations (max_iter) or scale the data as shown in:\n",
      "    https://scikit-learn.org/stable/modules/preprocessing.html\n",
      "Please also refer to the documentation for alternative solver options:\n",
      "    https://scikit-learn.org/stable/modules/linear_model.html#logistic-regression\n",
      "  extra_warning_msg=_LOGISTIC_SOLVER_CONVERGENCE_MSG,\n"
     ]
    },
    {
     "name": "stdout",
     "output_type": "stream",
     "text": [
      "[CV 2/10] END lr__C=1, lr__max_iter=100, lr__penalty=l2, lr__solver=lbfgs;, score=(train=0.927, test=0.925) total time=   0.6s\n"
     ]
    },
    {
     "name": "stderr",
     "output_type": "stream",
     "text": [
      "/opt/conda/lib/python3.7/site-packages/sklearn/linear_model/_logistic.py:818: ConvergenceWarning: lbfgs failed to converge (status=1):\n",
      "STOP: TOTAL NO. of ITERATIONS REACHED LIMIT.\n",
      "\n",
      "Increase the number of iterations (max_iter) or scale the data as shown in:\n",
      "    https://scikit-learn.org/stable/modules/preprocessing.html\n",
      "Please also refer to the documentation for alternative solver options:\n",
      "    https://scikit-learn.org/stable/modules/linear_model.html#logistic-regression\n",
      "  extra_warning_msg=_LOGISTIC_SOLVER_CONVERGENCE_MSG,\n"
     ]
    },
    {
     "name": "stdout",
     "output_type": "stream",
     "text": [
      "[CV 3/10] END lr__C=1, lr__max_iter=100, lr__penalty=l2, lr__solver=lbfgs;, score=(train=0.926, test=0.931) total time=   0.7s\n"
     ]
    },
    {
     "name": "stderr",
     "output_type": "stream",
     "text": [
      "/opt/conda/lib/python3.7/site-packages/sklearn/linear_model/_logistic.py:818: ConvergenceWarning: lbfgs failed to converge (status=1):\n",
      "STOP: TOTAL NO. of ITERATIONS REACHED LIMIT.\n",
      "\n",
      "Increase the number of iterations (max_iter) or scale the data as shown in:\n",
      "    https://scikit-learn.org/stable/modules/preprocessing.html\n",
      "Please also refer to the documentation for alternative solver options:\n",
      "    https://scikit-learn.org/stable/modules/linear_model.html#logistic-regression\n",
      "  extra_warning_msg=_LOGISTIC_SOLVER_CONVERGENCE_MSG,\n"
     ]
    },
    {
     "name": "stdout",
     "output_type": "stream",
     "text": [
      "[CV 4/10] END lr__C=1, lr__max_iter=100, lr__penalty=l2, lr__solver=lbfgs;, score=(train=0.928, test=0.924) total time=   0.7s\n"
     ]
    },
    {
     "name": "stderr",
     "output_type": "stream",
     "text": [
      "/opt/conda/lib/python3.7/site-packages/sklearn/linear_model/_logistic.py:818: ConvergenceWarning: lbfgs failed to converge (status=1):\n",
      "STOP: TOTAL NO. of ITERATIONS REACHED LIMIT.\n",
      "\n",
      "Increase the number of iterations (max_iter) or scale the data as shown in:\n",
      "    https://scikit-learn.org/stable/modules/preprocessing.html\n",
      "Please also refer to the documentation for alternative solver options:\n",
      "    https://scikit-learn.org/stable/modules/linear_model.html#logistic-regression\n",
      "  extra_warning_msg=_LOGISTIC_SOLVER_CONVERGENCE_MSG,\n"
     ]
    },
    {
     "name": "stdout",
     "output_type": "stream",
     "text": [
      "[CV 5/10] END lr__C=1, lr__max_iter=100, lr__penalty=l2, lr__solver=lbfgs;, score=(train=0.927, test=0.928) total time=   0.6s\n"
     ]
    },
    {
     "name": "stderr",
     "output_type": "stream",
     "text": [
      "/opt/conda/lib/python3.7/site-packages/sklearn/linear_model/_logistic.py:818: ConvergenceWarning: lbfgs failed to converge (status=1):\n",
      "STOP: TOTAL NO. of ITERATIONS REACHED LIMIT.\n",
      "\n",
      "Increase the number of iterations (max_iter) or scale the data as shown in:\n",
      "    https://scikit-learn.org/stable/modules/preprocessing.html\n",
      "Please also refer to the documentation for alternative solver options:\n",
      "    https://scikit-learn.org/stable/modules/linear_model.html#logistic-regression\n",
      "  extra_warning_msg=_LOGISTIC_SOLVER_CONVERGENCE_MSG,\n"
     ]
    },
    {
     "name": "stdout",
     "output_type": "stream",
     "text": [
      "[CV 6/10] END lr__C=1, lr__max_iter=100, lr__penalty=l2, lr__solver=lbfgs;, score=(train=0.928, test=0.924) total time=   0.7s\n"
     ]
    },
    {
     "name": "stderr",
     "output_type": "stream",
     "text": [
      "/opt/conda/lib/python3.7/site-packages/sklearn/linear_model/_logistic.py:818: ConvergenceWarning: lbfgs failed to converge (status=1):\n",
      "STOP: TOTAL NO. of ITERATIONS REACHED LIMIT.\n",
      "\n",
      "Increase the number of iterations (max_iter) or scale the data as shown in:\n",
      "    https://scikit-learn.org/stable/modules/preprocessing.html\n",
      "Please also refer to the documentation for alternative solver options:\n",
      "    https://scikit-learn.org/stable/modules/linear_model.html#logistic-regression\n",
      "  extra_warning_msg=_LOGISTIC_SOLVER_CONVERGENCE_MSG,\n"
     ]
    },
    {
     "name": "stdout",
     "output_type": "stream",
     "text": [
      "[CV 7/10] END lr__C=1, lr__max_iter=100, lr__penalty=l2, lr__solver=lbfgs;, score=(train=0.930, test=0.930) total time=   0.7s\n"
     ]
    },
    {
     "name": "stderr",
     "output_type": "stream",
     "text": [
      "/opt/conda/lib/python3.7/site-packages/sklearn/linear_model/_logistic.py:818: ConvergenceWarning: lbfgs failed to converge (status=1):\n",
      "STOP: TOTAL NO. of ITERATIONS REACHED LIMIT.\n",
      "\n",
      "Increase the number of iterations (max_iter) or scale the data as shown in:\n",
      "    https://scikit-learn.org/stable/modules/preprocessing.html\n",
      "Please also refer to the documentation for alternative solver options:\n",
      "    https://scikit-learn.org/stable/modules/linear_model.html#logistic-regression\n",
      "  extra_warning_msg=_LOGISTIC_SOLVER_CONVERGENCE_MSG,\n"
     ]
    },
    {
     "name": "stdout",
     "output_type": "stream",
     "text": [
      "[CV 8/10] END lr__C=1, lr__max_iter=100, lr__penalty=l2, lr__solver=lbfgs;, score=(train=0.929, test=0.927) total time=   0.7s\n"
     ]
    },
    {
     "name": "stderr",
     "output_type": "stream",
     "text": [
      "/opt/conda/lib/python3.7/site-packages/sklearn/linear_model/_logistic.py:818: ConvergenceWarning: lbfgs failed to converge (status=1):\n",
      "STOP: TOTAL NO. of ITERATIONS REACHED LIMIT.\n",
      "\n",
      "Increase the number of iterations (max_iter) or scale the data as shown in:\n",
      "    https://scikit-learn.org/stable/modules/preprocessing.html\n",
      "Please also refer to the documentation for alternative solver options:\n",
      "    https://scikit-learn.org/stable/modules/linear_model.html#logistic-regression\n",
      "  extra_warning_msg=_LOGISTIC_SOLVER_CONVERGENCE_MSG,\n"
     ]
    },
    {
     "name": "stdout",
     "output_type": "stream",
     "text": [
      "[CV 9/10] END lr__C=1, lr__max_iter=100, lr__penalty=l2, lr__solver=lbfgs;, score=(train=0.927, test=0.926) total time=   0.7s\n"
     ]
    },
    {
     "name": "stderr",
     "output_type": "stream",
     "text": [
      "/opt/conda/lib/python3.7/site-packages/sklearn/linear_model/_logistic.py:818: ConvergenceWarning: lbfgs failed to converge (status=1):\n",
      "STOP: TOTAL NO. of ITERATIONS REACHED LIMIT.\n",
      "\n",
      "Increase the number of iterations (max_iter) or scale the data as shown in:\n",
      "    https://scikit-learn.org/stable/modules/preprocessing.html\n",
      "Please also refer to the documentation for alternative solver options:\n",
      "    https://scikit-learn.org/stable/modules/linear_model.html#logistic-regression\n",
      "  extra_warning_msg=_LOGISTIC_SOLVER_CONVERGENCE_MSG,\n"
     ]
    },
    {
     "name": "stdout",
     "output_type": "stream",
     "text": [
      "[CV 10/10] END lr__C=1, lr__max_iter=100, lr__penalty=l2, lr__solver=lbfgs;, score=(train=0.928, test=0.925) total time=   0.6s\n",
      "[CV 1/10] END lr__C=1, lr__max_iter=100, lr__penalty=l2, lr__solver=liblinear;, score=(train=0.926, test=0.926) total time=   0.5s\n",
      "[CV 2/10] END lr__C=1, lr__max_iter=100, lr__penalty=l2, lr__solver=liblinear;, score=(train=0.926, test=0.924) total time=   0.4s\n",
      "[CV 3/10] END lr__C=1, lr__max_iter=100, lr__penalty=l2, lr__solver=liblinear;, score=(train=0.926, test=0.931) total time=   0.5s\n",
      "[CV 4/10] END lr__C=1, lr__max_iter=100, lr__penalty=l2, lr__solver=liblinear;, score=(train=0.928, test=0.924) total time=   0.4s\n",
      "[CV 5/10] END lr__C=1, lr__max_iter=100, lr__penalty=l2, lr__solver=liblinear;, score=(train=0.927, test=0.928) total time=   0.5s\n",
      "[CV 6/10] END lr__C=1, lr__max_iter=100, lr__penalty=l2, lr__solver=liblinear;, score=(train=0.927, test=0.924) total time=   0.4s\n",
      "[CV 7/10] END lr__C=1, lr__max_iter=100, lr__penalty=l2, lr__solver=liblinear;, score=(train=0.930, test=0.931) total time=   0.4s\n",
      "[CV 8/10] END lr__C=1, lr__max_iter=100, lr__penalty=l2, lr__solver=liblinear;, score=(train=0.929, test=0.927) total time=   0.4s\n",
      "[CV 9/10] END lr__C=1, lr__max_iter=100, lr__penalty=l2, lr__solver=liblinear;, score=(train=0.927, test=0.926) total time=   0.5s\n",
      "[CV 10/10] END lr__C=1, lr__max_iter=100, lr__penalty=l2, lr__solver=liblinear;, score=(train=0.928, test=0.925) total time=   0.4s\n",
      "[CV 1/10] END lr__C=1, lr__max_iter=100, lr__penalty=l2, lr__solver=sag;, score=(train=0.926, test=0.926) total time=   1.2s\n",
      "[CV 2/10] END lr__C=1, lr__max_iter=100, lr__penalty=l2, lr__solver=sag;, score=(train=0.927, test=0.924) total time=   1.0s\n",
      "[CV 3/10] END lr__C=1, lr__max_iter=100, lr__penalty=l2, lr__solver=sag;, score=(train=0.926, test=0.931) total time=   1.1s\n",
      "[CV 4/10] END lr__C=1, lr__max_iter=100, lr__penalty=l2, lr__solver=sag;, score=(train=0.928, test=0.924) total time=   1.1s\n",
      "[CV 5/10] END lr__C=1, lr__max_iter=100, lr__penalty=l2, lr__solver=sag;, score=(train=0.927, test=0.928) total time=   1.1s\n",
      "[CV 6/10] END lr__C=1, lr__max_iter=100, lr__penalty=l2, lr__solver=sag;, score=(train=0.928, test=0.924) total time=   1.0s\n",
      "[CV 7/10] END lr__C=1, lr__max_iter=100, lr__penalty=l2, lr__solver=sag;, score=(train=0.929, test=0.930) total time=   1.4s\n",
      "[CV 8/10] END lr__C=1, lr__max_iter=100, lr__penalty=l2, lr__solver=sag;, score=(train=0.929, test=0.927) total time=   1.1s\n",
      "[CV 9/10] END lr__C=1, lr__max_iter=100, lr__penalty=l2, lr__solver=sag;, score=(train=0.927, test=0.926) total time=   1.0s\n",
      "[CV 10/10] END lr__C=1, lr__max_iter=100, lr__penalty=l2, lr__solver=sag;, score=(train=0.928, test=0.925) total time=   1.1s\n",
      "[CV 1/10] END lr__C=1, lr__max_iter=100, lr__penalty=l2, lr__solver=saga;, score=(train=0.926, test=0.926) total time=   1.1s\n",
      "[CV 2/10] END lr__C=1, lr__max_iter=100, lr__penalty=l2, lr__solver=saga;, score=(train=0.927, test=0.925) total time=   1.0s\n",
      "[CV 3/10] END lr__C=1, lr__max_iter=100, lr__penalty=l2, lr__solver=saga;, score=(train=0.926, test=0.931) total time=   1.0s\n",
      "[CV 4/10] END lr__C=1, lr__max_iter=100, lr__penalty=l2, lr__solver=saga;, score=(train=0.928, test=0.924) total time=   1.1s\n",
      "[CV 5/10] END lr__C=1, lr__max_iter=100, lr__penalty=l2, lr__solver=saga;, score=(train=0.927, test=0.928) total time=   1.2s\n",
      "[CV 6/10] END lr__C=1, lr__max_iter=100, lr__penalty=l2, lr__solver=saga;, score=(train=0.928, test=0.924) total time=   0.9s\n",
      "[CV 7/10] END lr__C=1, lr__max_iter=100, lr__penalty=l2, lr__solver=saga;, score=(train=0.930, test=0.931) total time=   0.9s\n",
      "[CV 8/10] END lr__C=1, lr__max_iter=100, lr__penalty=l2, lr__solver=saga;, score=(train=0.929, test=0.927) total time=   0.8s\n",
      "[CV 9/10] END lr__C=1, lr__max_iter=100, lr__penalty=l2, lr__solver=saga;, score=(train=0.927, test=0.926) total time=   1.0s\n",
      "[CV 10/10] END lr__C=1, lr__max_iter=100, lr__penalty=l2, lr__solver=saga;, score=(train=0.928, test=0.925) total time=   1.2s\n",
      "[CV 1/10] END lr__C=1, lr__max_iter=500, lr__penalty=l2, lr__solver=newton-cg;, score=(train=0.926, test=0.926) total time=   1.3s\n",
      "[CV 2/10] END lr__C=1, lr__max_iter=500, lr__penalty=l2, lr__solver=newton-cg;, score=(train=0.927, test=0.925) total time=   1.4s\n",
      "[CV 3/10] END lr__C=1, lr__max_iter=500, lr__penalty=l2, lr__solver=newton-cg;, score=(train=0.926, test=0.931) total time=   1.5s\n",
      "[CV 4/10] END lr__C=1, lr__max_iter=500, lr__penalty=l2, lr__solver=newton-cg;, score=(train=0.928, test=0.924) total time=   1.3s\n",
      "[CV 5/10] END lr__C=1, lr__max_iter=500, lr__penalty=l2, lr__solver=newton-cg;, score=(train=0.927, test=0.928) total time=   1.3s\n",
      "[CV 6/10] END lr__C=1, lr__max_iter=500, lr__penalty=l2, lr__solver=newton-cg;, score=(train=0.928, test=0.924) total time=   1.3s\n",
      "[CV 7/10] END lr__C=1, lr__max_iter=500, lr__penalty=l2, lr__solver=newton-cg;, score=(train=0.930, test=0.931) total time=   1.2s\n",
      "[CV 8/10] END lr__C=1, lr__max_iter=500, lr__penalty=l2, lr__solver=newton-cg;, score=(train=0.929, test=0.927) total time=   1.2s\n",
      "[CV 9/10] END lr__C=1, lr__max_iter=500, lr__penalty=l2, lr__solver=newton-cg;, score=(train=0.927, test=0.926) total time=   1.2s\n",
      "[CV 10/10] END lr__C=1, lr__max_iter=500, lr__penalty=l2, lr__solver=newton-cg;, score=(train=0.928, test=0.925) total time=   1.3s\n",
      "[CV 1/10] END lr__C=1, lr__max_iter=500, lr__penalty=l2, lr__solver=lbfgs;, score=(train=0.926, test=0.926) total time=   1.2s\n",
      "[CV 2/10] END lr__C=1, lr__max_iter=500, lr__penalty=l2, lr__solver=lbfgs;, score=(train=0.926, test=0.925) total time=   1.2s\n",
      "[CV 3/10] END lr__C=1, lr__max_iter=500, lr__penalty=l2, lr__solver=lbfgs;, score=(train=0.926, test=0.931) total time=   1.2s\n",
      "[CV 4/10] END lr__C=1, lr__max_iter=500, lr__penalty=l2, lr__solver=lbfgs;, score=(train=0.928, test=0.924) total time=   1.0s\n",
      "[CV 5/10] END lr__C=1, lr__max_iter=500, lr__penalty=l2, lr__solver=lbfgs;, score=(train=0.927, test=0.928) total time=   1.0s\n",
      "[CV 6/10] END lr__C=1, lr__max_iter=500, lr__penalty=l2, lr__solver=lbfgs;, score=(train=0.927, test=0.924) total time=   1.1s\n",
      "[CV 7/10] END lr__C=1, lr__max_iter=500, lr__penalty=l2, lr__solver=lbfgs;, score=(train=0.930, test=0.931) total time=   1.1s\n",
      "[CV 8/10] END lr__C=1, lr__max_iter=500, lr__penalty=l2, lr__solver=lbfgs;, score=(train=0.929, test=0.927) total time=   1.0s\n",
      "[CV 9/10] END lr__C=1, lr__max_iter=500, lr__penalty=l2, lr__solver=lbfgs;, score=(train=0.927, test=0.926) total time=   1.1s\n",
      "[CV 10/10] END lr__C=1, lr__max_iter=500, lr__penalty=l2, lr__solver=lbfgs;, score=(train=0.928, test=0.925) total time=   1.1s\n",
      "[CV 1/10] END lr__C=1, lr__max_iter=500, lr__penalty=l2, lr__solver=liblinear;, score=(train=0.926, test=0.926) total time=   0.5s\n",
      "[CV 2/10] END lr__C=1, lr__max_iter=500, lr__penalty=l2, lr__solver=liblinear;, score=(train=0.926, test=0.924) total time=   0.4s\n",
      "[CV 3/10] END lr__C=1, lr__max_iter=500, lr__penalty=l2, lr__solver=liblinear;, score=(train=0.926, test=0.931) total time=   0.5s\n",
      "[CV 4/10] END lr__C=1, lr__max_iter=500, lr__penalty=l2, lr__solver=liblinear;, score=(train=0.928, test=0.924) total time=   0.4s\n",
      "[CV 5/10] END lr__C=1, lr__max_iter=500, lr__penalty=l2, lr__solver=liblinear;, score=(train=0.927, test=0.928) total time=   0.4s\n",
      "[CV 6/10] END lr__C=1, lr__max_iter=500, lr__penalty=l2, lr__solver=liblinear;, score=(train=0.927, test=0.924) total time=   0.4s\n",
      "[CV 7/10] END lr__C=1, lr__max_iter=500, lr__penalty=l2, lr__solver=liblinear;, score=(train=0.930, test=0.931) total time=   0.4s\n",
      "[CV 8/10] END lr__C=1, lr__max_iter=500, lr__penalty=l2, lr__solver=liblinear;, score=(train=0.929, test=0.927) total time=   0.4s\n",
      "[CV 9/10] END lr__C=1, lr__max_iter=500, lr__penalty=l2, lr__solver=liblinear;, score=(train=0.927, test=0.926) total time=   0.5s\n",
      "[CV 10/10] END lr__C=1, lr__max_iter=500, lr__penalty=l2, lr__solver=liblinear;, score=(train=0.928, test=0.925) total time=   0.4s\n",
      "[CV 1/10] END lr__C=1, lr__max_iter=500, lr__penalty=l2, lr__solver=sag;, score=(train=0.926, test=0.926) total time=   1.3s\n",
      "[CV 2/10] END lr__C=1, lr__max_iter=500, lr__penalty=l2, lr__solver=sag;, score=(train=0.927, test=0.924) total time=   1.2s\n",
      "[CV 3/10] END lr__C=1, lr__max_iter=500, lr__penalty=l2, lr__solver=sag;, score=(train=0.926, test=0.931) total time=   1.1s\n",
      "[CV 4/10] END lr__C=1, lr__max_iter=500, lr__penalty=l2, lr__solver=sag;, score=(train=0.928, test=0.924) total time=   0.9s\n",
      "[CV 5/10] END lr__C=1, lr__max_iter=500, lr__penalty=l2, lr__solver=sag;, score=(train=0.927, test=0.928) total time=   1.2s\n",
      "[CV 6/10] END lr__C=1, lr__max_iter=500, lr__penalty=l2, lr__solver=sag;, score=(train=0.928, test=0.924) total time=   1.4s\n",
      "[CV 7/10] END lr__C=1, lr__max_iter=500, lr__penalty=l2, lr__solver=sag;, score=(train=0.930, test=0.931) total time=   1.1s\n",
      "[CV 8/10] END lr__C=1, lr__max_iter=500, lr__penalty=l2, lr__solver=sag;, score=(train=0.929, test=0.927) total time=   1.2s\n",
      "[CV 9/10] END lr__C=1, lr__max_iter=500, lr__penalty=l2, lr__solver=sag;, score=(train=0.927, test=0.926) total time=   1.1s\n",
      "[CV 10/10] END lr__C=1, lr__max_iter=500, lr__penalty=l2, lr__solver=sag;, score=(train=0.928, test=0.925) total time=   1.5s\n",
      "[CV 1/10] END lr__C=1, lr__max_iter=500, lr__penalty=l2, lr__solver=saga;, score=(train=0.926, test=0.926) total time=   1.1s\n",
      "[CV 2/10] END lr__C=1, lr__max_iter=500, lr__penalty=l2, lr__solver=saga;, score=(train=0.927, test=0.925) total time=   1.0s\n",
      "[CV 3/10] END lr__C=1, lr__max_iter=500, lr__penalty=l2, lr__solver=saga;, score=(train=0.926, test=0.931) total time=   1.0s\n",
      "[CV 4/10] END lr__C=1, lr__max_iter=500, lr__penalty=l2, lr__solver=saga;, score=(train=0.928, test=0.924) total time=   1.1s\n",
      "[CV 5/10] END lr__C=1, lr__max_iter=500, lr__penalty=l2, lr__solver=saga;, score=(train=0.927, test=0.928) total time=   1.2s\n",
      "[CV 6/10] END lr__C=1, lr__max_iter=500, lr__penalty=l2, lr__solver=saga;, score=(train=0.928, test=0.924) total time=   0.9s\n",
      "[CV 7/10] END lr__C=1, lr__max_iter=500, lr__penalty=l2, lr__solver=saga;, score=(train=0.930, test=0.931) total time=   0.8s\n",
      "[CV 8/10] END lr__C=1, lr__max_iter=500, lr__penalty=l2, lr__solver=saga;, score=(train=0.929, test=0.927) total time=   0.8s\n",
      "[CV 9/10] END lr__C=1, lr__max_iter=500, lr__penalty=l2, lr__solver=saga;, score=(train=0.927, test=0.926) total time=   1.0s\n",
      "[CV 10/10] END lr__C=1, lr__max_iter=500, lr__penalty=l2, lr__solver=saga;, score=(train=0.928, test=0.925) total time=   1.2s\n",
      "[CV 1/10] END lr__C=10, lr__max_iter=100, lr__penalty=l2, lr__solver=newton-cg;, score=(train=0.929, test=0.929) total time=   1.9s\n",
      "[CV 2/10] END lr__C=10, lr__max_iter=100, lr__penalty=l2, lr__solver=newton-cg;, score=(train=0.930, test=0.930) total time=   2.3s\n",
      "[CV 3/10] END lr__C=10, lr__max_iter=100, lr__penalty=l2, lr__solver=newton-cg;, score=(train=0.929, test=0.933) total time=   2.1s\n",
      "[CV 4/10] END lr__C=10, lr__max_iter=100, lr__penalty=l2, lr__solver=newton-cg;, score=(train=0.932, test=0.928) total time=   1.7s\n",
      "[CV 5/10] END lr__C=10, lr__max_iter=100, lr__penalty=l2, lr__solver=newton-cg;, score=(train=0.931, test=0.931) total time=   1.8s\n",
      "[CV 6/10] END lr__C=10, lr__max_iter=100, lr__penalty=l2, lr__solver=newton-cg;, score=(train=0.932, test=0.928) total time=   2.1s\n",
      "[CV 7/10] END lr__C=10, lr__max_iter=100, lr__penalty=l2, lr__solver=newton-cg;, score=(train=0.933, test=0.933) total time=   1.8s\n",
      "[CV 8/10] END lr__C=10, lr__max_iter=100, lr__penalty=l2, lr__solver=newton-cg;, score=(train=0.933, test=0.931) total time=   1.9s\n",
      "[CV 9/10] END lr__C=10, lr__max_iter=100, lr__penalty=l2, lr__solver=newton-cg;, score=(train=0.930, test=0.929) total time=   1.8s\n",
      "[CV 10/10] END lr__C=10, lr__max_iter=100, lr__penalty=l2, lr__solver=newton-cg;, score=(train=0.931, test=0.930) total time=   2.0s\n"
     ]
    },
    {
     "name": "stderr",
     "output_type": "stream",
     "text": [
      "/opt/conda/lib/python3.7/site-packages/sklearn/linear_model/_logistic.py:818: ConvergenceWarning: lbfgs failed to converge (status=1):\n",
      "STOP: TOTAL NO. of ITERATIONS REACHED LIMIT.\n",
      "\n",
      "Increase the number of iterations (max_iter) or scale the data as shown in:\n",
      "    https://scikit-learn.org/stable/modules/preprocessing.html\n",
      "Please also refer to the documentation for alternative solver options:\n",
      "    https://scikit-learn.org/stable/modules/linear_model.html#logistic-regression\n",
      "  extra_warning_msg=_LOGISTIC_SOLVER_CONVERGENCE_MSG,\n"
     ]
    },
    {
     "name": "stdout",
     "output_type": "stream",
     "text": [
      "[CV 1/10] END lr__C=10, lr__max_iter=100, lr__penalty=l2, lr__solver=lbfgs;, score=(train=0.929, test=0.930) total time=   0.6s\n"
     ]
    },
    {
     "name": "stderr",
     "output_type": "stream",
     "text": [
      "/opt/conda/lib/python3.7/site-packages/sklearn/linear_model/_logistic.py:818: ConvergenceWarning: lbfgs failed to converge (status=1):\n",
      "STOP: TOTAL NO. of ITERATIONS REACHED LIMIT.\n",
      "\n",
      "Increase the number of iterations (max_iter) or scale the data as shown in:\n",
      "    https://scikit-learn.org/stable/modules/preprocessing.html\n",
      "Please also refer to the documentation for alternative solver options:\n",
      "    https://scikit-learn.org/stable/modules/linear_model.html#logistic-regression\n",
      "  extra_warning_msg=_LOGISTIC_SOLVER_CONVERGENCE_MSG,\n"
     ]
    },
    {
     "name": "stdout",
     "output_type": "stream",
     "text": [
      "[CV 2/10] END lr__C=10, lr__max_iter=100, lr__penalty=l2, lr__solver=lbfgs;, score=(train=0.930, test=0.930) total time=   0.6s\n"
     ]
    },
    {
     "name": "stderr",
     "output_type": "stream",
     "text": [
      "/opt/conda/lib/python3.7/site-packages/sklearn/linear_model/_logistic.py:818: ConvergenceWarning: lbfgs failed to converge (status=1):\n",
      "STOP: TOTAL NO. of ITERATIONS REACHED LIMIT.\n",
      "\n",
      "Increase the number of iterations (max_iter) or scale the data as shown in:\n",
      "    https://scikit-learn.org/stable/modules/preprocessing.html\n",
      "Please also refer to the documentation for alternative solver options:\n",
      "    https://scikit-learn.org/stable/modules/linear_model.html#logistic-regression\n",
      "  extra_warning_msg=_LOGISTIC_SOLVER_CONVERGENCE_MSG,\n"
     ]
    },
    {
     "name": "stdout",
     "output_type": "stream",
     "text": [
      "[CV 3/10] END lr__C=10, lr__max_iter=100, lr__penalty=l2, lr__solver=lbfgs;, score=(train=0.929, test=0.932) total time=   0.6s\n"
     ]
    },
    {
     "name": "stderr",
     "output_type": "stream",
     "text": [
      "/opt/conda/lib/python3.7/site-packages/sklearn/linear_model/_logistic.py:818: ConvergenceWarning: lbfgs failed to converge (status=1):\n",
      "STOP: TOTAL NO. of ITERATIONS REACHED LIMIT.\n",
      "\n",
      "Increase the number of iterations (max_iter) or scale the data as shown in:\n",
      "    https://scikit-learn.org/stable/modules/preprocessing.html\n",
      "Please also refer to the documentation for alternative solver options:\n",
      "    https://scikit-learn.org/stable/modules/linear_model.html#logistic-regression\n",
      "  extra_warning_msg=_LOGISTIC_SOLVER_CONVERGENCE_MSG,\n"
     ]
    },
    {
     "name": "stdout",
     "output_type": "stream",
     "text": [
      "[CV 4/10] END lr__C=10, lr__max_iter=100, lr__penalty=l2, lr__solver=lbfgs;, score=(train=0.932, test=0.927) total time=   0.7s\n"
     ]
    },
    {
     "name": "stderr",
     "output_type": "stream",
     "text": [
      "/opt/conda/lib/python3.7/site-packages/sklearn/linear_model/_logistic.py:818: ConvergenceWarning: lbfgs failed to converge (status=1):\n",
      "STOP: TOTAL NO. of ITERATIONS REACHED LIMIT.\n",
      "\n",
      "Increase the number of iterations (max_iter) or scale the data as shown in:\n",
      "    https://scikit-learn.org/stable/modules/preprocessing.html\n",
      "Please also refer to the documentation for alternative solver options:\n",
      "    https://scikit-learn.org/stable/modules/linear_model.html#logistic-regression\n",
      "  extra_warning_msg=_LOGISTIC_SOLVER_CONVERGENCE_MSG,\n"
     ]
    },
    {
     "name": "stdout",
     "output_type": "stream",
     "text": [
      "[CV 5/10] END lr__C=10, lr__max_iter=100, lr__penalty=l2, lr__solver=lbfgs;, score=(train=0.932, test=0.931) total time=   0.6s\n"
     ]
    },
    {
     "name": "stderr",
     "output_type": "stream",
     "text": [
      "/opt/conda/lib/python3.7/site-packages/sklearn/linear_model/_logistic.py:818: ConvergenceWarning: lbfgs failed to converge (status=1):\n",
      "STOP: TOTAL NO. of ITERATIONS REACHED LIMIT.\n",
      "\n",
      "Increase the number of iterations (max_iter) or scale the data as shown in:\n",
      "    https://scikit-learn.org/stable/modules/preprocessing.html\n",
      "Please also refer to the documentation for alternative solver options:\n",
      "    https://scikit-learn.org/stable/modules/linear_model.html#logistic-regression\n",
      "  extra_warning_msg=_LOGISTIC_SOLVER_CONVERGENCE_MSG,\n"
     ]
    },
    {
     "name": "stdout",
     "output_type": "stream",
     "text": [
      "[CV 6/10] END lr__C=10, lr__max_iter=100, lr__penalty=l2, lr__solver=lbfgs;, score=(train=0.931, test=0.929) total time=   0.7s\n"
     ]
    },
    {
     "name": "stderr",
     "output_type": "stream",
     "text": [
      "/opt/conda/lib/python3.7/site-packages/sklearn/linear_model/_logistic.py:818: ConvergenceWarning: lbfgs failed to converge (status=1):\n",
      "STOP: TOTAL NO. of ITERATIONS REACHED LIMIT.\n",
      "\n",
      "Increase the number of iterations (max_iter) or scale the data as shown in:\n",
      "    https://scikit-learn.org/stable/modules/preprocessing.html\n",
      "Please also refer to the documentation for alternative solver options:\n",
      "    https://scikit-learn.org/stable/modules/linear_model.html#logistic-regression\n",
      "  extra_warning_msg=_LOGISTIC_SOLVER_CONVERGENCE_MSG,\n"
     ]
    },
    {
     "name": "stdout",
     "output_type": "stream",
     "text": [
      "[CV 7/10] END lr__C=10, lr__max_iter=100, lr__penalty=l2, lr__solver=lbfgs;, score=(train=0.933, test=0.933) total time=   0.7s\n"
     ]
    },
    {
     "name": "stderr",
     "output_type": "stream",
     "text": [
      "/opt/conda/lib/python3.7/site-packages/sklearn/linear_model/_logistic.py:818: ConvergenceWarning: lbfgs failed to converge (status=1):\n",
      "STOP: TOTAL NO. of ITERATIONS REACHED LIMIT.\n",
      "\n",
      "Increase the number of iterations (max_iter) or scale the data as shown in:\n",
      "    https://scikit-learn.org/stable/modules/preprocessing.html\n",
      "Please also refer to the documentation for alternative solver options:\n",
      "    https://scikit-learn.org/stable/modules/linear_model.html#logistic-regression\n",
      "  extra_warning_msg=_LOGISTIC_SOLVER_CONVERGENCE_MSG,\n"
     ]
    },
    {
     "name": "stdout",
     "output_type": "stream",
     "text": [
      "[CV 8/10] END lr__C=10, lr__max_iter=100, lr__penalty=l2, lr__solver=lbfgs;, score=(train=0.932, test=0.931) total time=   0.6s\n"
     ]
    },
    {
     "name": "stderr",
     "output_type": "stream",
     "text": [
      "/opt/conda/lib/python3.7/site-packages/sklearn/linear_model/_logistic.py:818: ConvergenceWarning: lbfgs failed to converge (status=1):\n",
      "STOP: TOTAL NO. of ITERATIONS REACHED LIMIT.\n",
      "\n",
      "Increase the number of iterations (max_iter) or scale the data as shown in:\n",
      "    https://scikit-learn.org/stable/modules/preprocessing.html\n",
      "Please also refer to the documentation for alternative solver options:\n",
      "    https://scikit-learn.org/stable/modules/linear_model.html#logistic-regression\n",
      "  extra_warning_msg=_LOGISTIC_SOLVER_CONVERGENCE_MSG,\n"
     ]
    },
    {
     "name": "stdout",
     "output_type": "stream",
     "text": [
      "[CV 9/10] END lr__C=10, lr__max_iter=100, lr__penalty=l2, lr__solver=lbfgs;, score=(train=0.930, test=0.929) total time=   0.6s\n"
     ]
    },
    {
     "name": "stderr",
     "output_type": "stream",
     "text": [
      "/opt/conda/lib/python3.7/site-packages/sklearn/linear_model/_logistic.py:818: ConvergenceWarning: lbfgs failed to converge (status=1):\n",
      "STOP: TOTAL NO. of ITERATIONS REACHED LIMIT.\n",
      "\n",
      "Increase the number of iterations (max_iter) or scale the data as shown in:\n",
      "    https://scikit-learn.org/stable/modules/preprocessing.html\n",
      "Please also refer to the documentation for alternative solver options:\n",
      "    https://scikit-learn.org/stable/modules/linear_model.html#logistic-regression\n",
      "  extra_warning_msg=_LOGISTIC_SOLVER_CONVERGENCE_MSG,\n"
     ]
    },
    {
     "name": "stdout",
     "output_type": "stream",
     "text": [
      "[CV 10/10] END lr__C=10, lr__max_iter=100, lr__penalty=l2, lr__solver=lbfgs;, score=(train=0.932, test=0.929) total time=   0.6s\n",
      "[CV 1/10] END lr__C=10, lr__max_iter=100, lr__penalty=l2, lr__solver=liblinear;, score=(train=0.929, test=0.929) total time=   0.7s\n",
      "[CV 2/10] END lr__C=10, lr__max_iter=100, lr__penalty=l2, lr__solver=liblinear;, score=(train=0.930, test=0.930) total time=   0.7s\n",
      "[CV 3/10] END lr__C=10, lr__max_iter=100, lr__penalty=l2, lr__solver=liblinear;, score=(train=0.929, test=0.933) total time=   0.7s\n",
      "[CV 4/10] END lr__C=10, lr__max_iter=100, lr__penalty=l2, lr__solver=liblinear;, score=(train=0.932, test=0.928) total time=   0.6s\n",
      "[CV 5/10] END lr__C=10, lr__max_iter=100, lr__penalty=l2, lr__solver=liblinear;, score=(train=0.931, test=0.931) total time=   0.7s\n",
      "[CV 6/10] END lr__C=10, lr__max_iter=100, lr__penalty=l2, lr__solver=liblinear;, score=(train=0.932, test=0.928) total time=   0.7s\n",
      "[CV 7/10] END lr__C=10, lr__max_iter=100, lr__penalty=l2, lr__solver=liblinear;, score=(train=0.933, test=0.933) total time=   0.7s\n",
      "[CV 8/10] END lr__C=10, lr__max_iter=100, lr__penalty=l2, lr__solver=liblinear;, score=(train=0.933, test=0.931) total time=   0.7s\n",
      "[CV 9/10] END lr__C=10, lr__max_iter=100, lr__penalty=l2, lr__solver=liblinear;, score=(train=0.930, test=0.929) total time=   0.7s\n",
      "[CV 10/10] END lr__C=10, lr__max_iter=100, lr__penalty=l2, lr__solver=liblinear;, score=(train=0.931, test=0.930) total time=   0.7s\n",
      "[CV 1/10] END lr__C=10, lr__max_iter=100, lr__penalty=l2, lr__solver=sag;, score=(train=0.929, test=0.929) total time=   1.8s\n",
      "[CV 2/10] END lr__C=10, lr__max_iter=100, lr__penalty=l2, lr__solver=sag;, score=(train=0.930, test=0.930) total time=   2.4s\n",
      "[CV 3/10] END lr__C=10, lr__max_iter=100, lr__penalty=l2, lr__solver=sag;, score=(train=0.930, test=0.933) total time=   2.2s\n",
      "[CV 4/10] END lr__C=10, lr__max_iter=100, lr__penalty=l2, lr__solver=sag;, score=(train=0.932, test=0.928) total time=   1.3s\n",
      "[CV 5/10] END lr__C=10, lr__max_iter=100, lr__penalty=l2, lr__solver=sag;, score=(train=0.931, test=0.931) total time=   1.7s\n",
      "[CV 6/10] END lr__C=10, lr__max_iter=100, lr__penalty=l2, lr__solver=sag;, score=(train=0.932, test=0.929) total time=   1.9s\n",
      "[CV 7/10] END lr__C=10, lr__max_iter=100, lr__penalty=l2, lr__solver=sag;, score=(train=0.933, test=0.933) total time=   2.4s\n",
      "[CV 8/10] END lr__C=10, lr__max_iter=100, lr__penalty=l2, lr__solver=sag;, score=(train=0.933, test=0.931) total time=   1.6s\n",
      "[CV 9/10] END lr__C=10, lr__max_iter=100, lr__penalty=l2, lr__solver=sag;, score=(train=0.930, test=0.929) total time=   1.6s\n",
      "[CV 10/10] END lr__C=10, lr__max_iter=100, lr__penalty=l2, lr__solver=sag;, score=(train=0.931, test=0.930) total time=   1.6s\n",
      "[CV 1/10] END lr__C=10, lr__max_iter=100, lr__penalty=l2, lr__solver=saga;, score=(train=0.929, test=0.929) total time=   2.9s\n",
      "[CV 2/10] END lr__C=10, lr__max_iter=100, lr__penalty=l2, lr__solver=saga;, score=(train=0.930, test=0.930) total time=   3.5s\n",
      "[CV 3/10] END lr__C=10, lr__max_iter=100, lr__penalty=l2, lr__solver=saga;, score=(train=0.929, test=0.933) total time=   3.4s\n",
      "[CV 4/10] END lr__C=10, lr__max_iter=100, lr__penalty=l2, lr__solver=saga;, score=(train=0.932, test=0.928) total time=   2.0s\n",
      "[CV 5/10] END lr__C=10, lr__max_iter=100, lr__penalty=l2, lr__solver=saga;, score=(train=0.931, test=0.931) total time=   3.0s\n",
      "[CV 6/10] END lr__C=10, lr__max_iter=100, lr__penalty=l2, lr__solver=saga;, score=(train=0.932, test=0.929) total time=   3.3s\n",
      "[CV 7/10] END lr__C=10, lr__max_iter=100, lr__penalty=l2, lr__solver=saga;, score=(train=0.933, test=0.933) total time=   2.2s\n",
      "[CV 8/10] END lr__C=10, lr__max_iter=100, lr__penalty=l2, lr__solver=saga;, score=(train=0.933, test=0.931) total time=   2.6s\n",
      "[CV 9/10] END lr__C=10, lr__max_iter=100, lr__penalty=l2, lr__solver=saga;, score=(train=0.930, test=0.929) total time=   2.2s\n",
      "[CV 10/10] END lr__C=10, lr__max_iter=100, lr__penalty=l2, lr__solver=saga;, score=(train=0.931, test=0.930) total time=   3.1s\n",
      "[CV 1/10] END lr__C=10, lr__max_iter=500, lr__penalty=l2, lr__solver=newton-cg;, score=(train=0.929, test=0.929) total time=   1.9s\n",
      "[CV 2/10] END lr__C=10, lr__max_iter=500, lr__penalty=l2, lr__solver=newton-cg;, score=(train=0.930, test=0.930) total time=   2.1s\n",
      "[CV 3/10] END lr__C=10, lr__max_iter=500, lr__penalty=l2, lr__solver=newton-cg;, score=(train=0.929, test=0.933) total time=   1.9s\n",
      "[CV 4/10] END lr__C=10, lr__max_iter=500, lr__penalty=l2, lr__solver=newton-cg;, score=(train=0.932, test=0.928) total time=   1.6s\n",
      "[CV 5/10] END lr__C=10, lr__max_iter=500, lr__penalty=l2, lr__solver=newton-cg;, score=(train=0.931, test=0.931) total time=   1.8s\n",
      "[CV 6/10] END lr__C=10, lr__max_iter=500, lr__penalty=l2, lr__solver=newton-cg;, score=(train=0.932, test=0.928) total time=   2.1s\n",
      "[CV 7/10] END lr__C=10, lr__max_iter=500, lr__penalty=l2, lr__solver=newton-cg;, score=(train=0.933, test=0.933) total time=   1.9s\n",
      "[CV 8/10] END lr__C=10, lr__max_iter=500, lr__penalty=l2, lr__solver=newton-cg;, score=(train=0.933, test=0.931) total time=   2.0s\n",
      "[CV 9/10] END lr__C=10, lr__max_iter=500, lr__penalty=l2, lr__solver=newton-cg;, score=(train=0.930, test=0.929) total time=   1.7s\n",
      "[CV 10/10] END lr__C=10, lr__max_iter=500, lr__penalty=l2, lr__solver=newton-cg;, score=(train=0.931, test=0.930) total time=   2.0s\n",
      "[CV 1/10] END lr__C=10, lr__max_iter=500, lr__penalty=l2, lr__solver=lbfgs;, score=(train=0.929, test=0.929) total time=   1.9s\n",
      "[CV 2/10] END lr__C=10, lr__max_iter=500, lr__penalty=l2, lr__solver=lbfgs;, score=(train=0.930, test=0.930) total time=   2.5s\n",
      "[CV 3/10] END lr__C=10, lr__max_iter=500, lr__penalty=l2, lr__solver=lbfgs;, score=(train=0.929, test=0.933) total time=   2.5s\n",
      "[CV 4/10] END lr__C=10, lr__max_iter=500, lr__penalty=l2, lr__solver=lbfgs;, score=(train=0.932, test=0.928) total time=   1.7s\n",
      "[CV 5/10] END lr__C=10, lr__max_iter=500, lr__penalty=l2, lr__solver=lbfgs;, score=(train=0.931, test=0.931) total time=   1.7s\n",
      "[CV 6/10] END lr__C=10, lr__max_iter=500, lr__penalty=l2, lr__solver=lbfgs;, score=(train=0.932, test=0.928) total time=   2.1s\n",
      "[CV 7/10] END lr__C=10, lr__max_iter=500, lr__penalty=l2, lr__solver=lbfgs;, score=(train=0.933, test=0.933) total time=   2.0s\n",
      "[CV 8/10] END lr__C=10, lr__max_iter=500, lr__penalty=l2, lr__solver=lbfgs;, score=(train=0.933, test=0.931) total time=   1.9s\n",
      "[CV 9/10] END lr__C=10, lr__max_iter=500, lr__penalty=l2, lr__solver=lbfgs;, score=(train=0.930, test=0.929) total time=   1.7s\n",
      "[CV 10/10] END lr__C=10, lr__max_iter=500, lr__penalty=l2, lr__solver=lbfgs;, score=(train=0.931, test=0.930) total time=   1.7s\n",
      "[CV 1/10] END lr__C=10, lr__max_iter=500, lr__penalty=l2, lr__solver=liblinear;, score=(train=0.929, test=0.929) total time=   0.7s\n",
      "[CV 2/10] END lr__C=10, lr__max_iter=500, lr__penalty=l2, lr__solver=liblinear;, score=(train=0.930, test=0.930) total time=   0.7s\n",
      "[CV 3/10] END lr__C=10, lr__max_iter=500, lr__penalty=l2, lr__solver=liblinear;, score=(train=0.929, test=0.933) total time=   0.7s\n",
      "[CV 4/10] END lr__C=10, lr__max_iter=500, lr__penalty=l2, lr__solver=liblinear;, score=(train=0.932, test=0.928) total time=   0.6s\n",
      "[CV 5/10] END lr__C=10, lr__max_iter=500, lr__penalty=l2, lr__solver=liblinear;, score=(train=0.931, test=0.931) total time=   0.7s\n",
      "[CV 6/10] END lr__C=10, lr__max_iter=500, lr__penalty=l2, lr__solver=liblinear;, score=(train=0.932, test=0.928) total time=   0.7s\n",
      "[CV 7/10] END lr__C=10, lr__max_iter=500, lr__penalty=l2, lr__solver=liblinear;, score=(train=0.933, test=0.933) total time=   0.7s\n",
      "[CV 8/10] END lr__C=10, lr__max_iter=500, lr__penalty=l2, lr__solver=liblinear;, score=(train=0.933, test=0.931) total time=   0.7s\n",
      "[CV 9/10] END lr__C=10, lr__max_iter=500, lr__penalty=l2, lr__solver=liblinear;, score=(train=0.930, test=0.929) total time=   0.7s\n",
      "[CV 10/10] END lr__C=10, lr__max_iter=500, lr__penalty=l2, lr__solver=liblinear;, score=(train=0.931, test=0.930) total time=   0.7s\n",
      "[CV 1/10] END lr__C=10, lr__max_iter=500, lr__penalty=l2, lr__solver=sag;, score=(train=0.929, test=0.929) total time=   1.6s\n",
      "[CV 2/10] END lr__C=10, lr__max_iter=500, lr__penalty=l2, lr__solver=sag;, score=(train=0.930, test=0.930) total time=   2.4s\n",
      "[CV 3/10] END lr__C=10, lr__max_iter=500, lr__penalty=l2, lr__solver=sag;, score=(train=0.929, test=0.933) total time=   1.9s\n",
      "[CV 4/10] END lr__C=10, lr__max_iter=500, lr__penalty=l2, lr__solver=sag;, score=(train=0.932, test=0.928) total time=   1.9s\n",
      "[CV 5/10] END lr__C=10, lr__max_iter=500, lr__penalty=l2, lr__solver=sag;, score=(train=0.931, test=0.931) total time=   1.7s\n",
      "[CV 6/10] END lr__C=10, lr__max_iter=500, lr__penalty=l2, lr__solver=sag;, score=(train=0.932, test=0.929) total time=   1.7s\n",
      "[CV 7/10] END lr__C=10, lr__max_iter=500, lr__penalty=l2, lr__solver=sag;, score=(train=0.933, test=0.933) total time=   1.9s\n",
      "[CV 8/10] END lr__C=10, lr__max_iter=500, lr__penalty=l2, lr__solver=sag;, score=(train=0.933, test=0.931) total time=   1.8s\n",
      "[CV 9/10] END lr__C=10, lr__max_iter=500, lr__penalty=l2, lr__solver=sag;, score=(train=0.930, test=0.929) total time=   1.3s\n",
      "[CV 10/10] END lr__C=10, lr__max_iter=500, lr__penalty=l2, lr__solver=sag;, score=(train=0.931, test=0.930) total time=   1.6s\n",
      "[CV 1/10] END lr__C=10, lr__max_iter=500, lr__penalty=l2, lr__solver=saga;, score=(train=0.929, test=0.929) total time=   2.9s\n",
      "[CV 2/10] END lr__C=10, lr__max_iter=500, lr__penalty=l2, lr__solver=saga;, score=(train=0.930, test=0.930) total time=   3.7s\n",
      "[CV 3/10] END lr__C=10, lr__max_iter=500, lr__penalty=l2, lr__solver=saga;, score=(train=0.929, test=0.933) total time=   3.3s\n",
      "[CV 4/10] END lr__C=10, lr__max_iter=500, lr__penalty=l2, lr__solver=saga;, score=(train=0.932, test=0.928) total time=   2.0s\n",
      "[CV 5/10] END lr__C=10, lr__max_iter=500, lr__penalty=l2, lr__solver=saga;, score=(train=0.931, test=0.931) total time=   3.0s\n",
      "[CV 6/10] END lr__C=10, lr__max_iter=500, lr__penalty=l2, lr__solver=saga;, score=(train=0.932, test=0.929) total time=   3.2s\n",
      "[CV 7/10] END lr__C=10, lr__max_iter=500, lr__penalty=l2, lr__solver=saga;, score=(train=0.933, test=0.933) total time=   2.3s\n",
      "[CV 8/10] END lr__C=10, lr__max_iter=500, lr__penalty=l2, lr__solver=saga;, score=(train=0.933, test=0.931) total time=   2.5s\n",
      "[CV 9/10] END lr__C=10, lr__max_iter=500, lr__penalty=l2, lr__solver=saga;, score=(train=0.930, test=0.929) total time=   2.1s\n",
      "[CV 10/10] END lr__C=10, lr__max_iter=500, lr__penalty=l2, lr__solver=saga;, score=(train=0.931, test=0.930) total time=   3.1s\n",
      "[CV 1/10] END lr__C=100, lr__max_iter=100, lr__penalty=l2, lr__solver=newton-cg;, score=(train=0.930, test=0.931) total time=   2.7s\n",
      "[CV 2/10] END lr__C=100, lr__max_iter=100, lr__penalty=l2, lr__solver=newton-cg;, score=(train=0.931, test=0.931) total time=   3.2s\n",
      "[CV 3/10] END lr__C=100, lr__max_iter=100, lr__penalty=l2, lr__solver=newton-cg;, score=(train=0.930, test=0.934) total time=   3.6s\n",
      "[CV 4/10] END lr__C=100, lr__max_iter=100, lr__penalty=l2, lr__solver=newton-cg;, score=(train=0.933, test=0.928) total time=   3.9s\n",
      "[CV 5/10] END lr__C=100, lr__max_iter=100, lr__penalty=l2, lr__solver=newton-cg;, score=(train=0.932, test=0.931) total time=   3.6s\n",
      "[CV 6/10] END lr__C=100, lr__max_iter=100, lr__penalty=l2, lr__solver=newton-cg;, score=(train=0.932, test=0.929) total time=   3.2s\n",
      "[CV 7/10] END lr__C=100, lr__max_iter=100, lr__penalty=l2, lr__solver=newton-cg;, score=(train=0.934, test=0.934) total time=   3.7s\n",
      "[CV 8/10] END lr__C=100, lr__max_iter=100, lr__penalty=l2, lr__solver=newton-cg;, score=(train=0.933, test=0.932) total time=   2.4s\n",
      "[CV 9/10] END lr__C=100, lr__max_iter=100, lr__penalty=l2, lr__solver=newton-cg;, score=(train=0.931, test=0.930) total time=   2.5s\n",
      "[CV 10/10] END lr__C=100, lr__max_iter=100, lr__penalty=l2, lr__solver=newton-cg;, score=(train=0.932, test=0.931) total time=   2.9s\n"
     ]
    },
    {
     "name": "stderr",
     "output_type": "stream",
     "text": [
      "/opt/conda/lib/python3.7/site-packages/sklearn/linear_model/_logistic.py:818: ConvergenceWarning: lbfgs failed to converge (status=1):\n",
      "STOP: TOTAL NO. of ITERATIONS REACHED LIMIT.\n",
      "\n",
      "Increase the number of iterations (max_iter) or scale the data as shown in:\n",
      "    https://scikit-learn.org/stable/modules/preprocessing.html\n",
      "Please also refer to the documentation for alternative solver options:\n",
      "    https://scikit-learn.org/stable/modules/linear_model.html#logistic-regression\n",
      "  extra_warning_msg=_LOGISTIC_SOLVER_CONVERGENCE_MSG,\n"
     ]
    },
    {
     "name": "stdout",
     "output_type": "stream",
     "text": [
      "[CV 1/10] END lr__C=100, lr__max_iter=100, lr__penalty=l2, lr__solver=lbfgs;, score=(train=0.930, test=0.930) total time=   0.7s\n"
     ]
    },
    {
     "name": "stderr",
     "output_type": "stream",
     "text": [
      "/opt/conda/lib/python3.7/site-packages/sklearn/linear_model/_logistic.py:818: ConvergenceWarning: lbfgs failed to converge (status=1):\n",
      "STOP: TOTAL NO. of ITERATIONS REACHED LIMIT.\n",
      "\n",
      "Increase the number of iterations (max_iter) or scale the data as shown in:\n",
      "    https://scikit-learn.org/stable/modules/preprocessing.html\n",
      "Please also refer to the documentation for alternative solver options:\n",
      "    https://scikit-learn.org/stable/modules/linear_model.html#logistic-regression\n",
      "  extra_warning_msg=_LOGISTIC_SOLVER_CONVERGENCE_MSG,\n"
     ]
    },
    {
     "name": "stdout",
     "output_type": "stream",
     "text": [
      "[CV 2/10] END lr__C=100, lr__max_iter=100, lr__penalty=l2, lr__solver=lbfgs;, score=(train=0.930, test=0.930) total time=   0.6s\n"
     ]
    },
    {
     "name": "stderr",
     "output_type": "stream",
     "text": [
      "/opt/conda/lib/python3.7/site-packages/sklearn/linear_model/_logistic.py:818: ConvergenceWarning: lbfgs failed to converge (status=1):\n",
      "STOP: TOTAL NO. of ITERATIONS REACHED LIMIT.\n",
      "\n",
      "Increase the number of iterations (max_iter) or scale the data as shown in:\n",
      "    https://scikit-learn.org/stable/modules/preprocessing.html\n",
      "Please also refer to the documentation for alternative solver options:\n",
      "    https://scikit-learn.org/stable/modules/linear_model.html#logistic-regression\n",
      "  extra_warning_msg=_LOGISTIC_SOLVER_CONVERGENCE_MSG,\n"
     ]
    },
    {
     "name": "stdout",
     "output_type": "stream",
     "text": [
      "[CV 3/10] END lr__C=100, lr__max_iter=100, lr__penalty=l2, lr__solver=lbfgs;, score=(train=0.930, test=0.933) total time=   0.7s\n"
     ]
    },
    {
     "name": "stderr",
     "output_type": "stream",
     "text": [
      "/opt/conda/lib/python3.7/site-packages/sklearn/linear_model/_logistic.py:818: ConvergenceWarning: lbfgs failed to converge (status=1):\n",
      "STOP: TOTAL NO. of ITERATIONS REACHED LIMIT.\n",
      "\n",
      "Increase the number of iterations (max_iter) or scale the data as shown in:\n",
      "    https://scikit-learn.org/stable/modules/preprocessing.html\n",
      "Please also refer to the documentation for alternative solver options:\n",
      "    https://scikit-learn.org/stable/modules/linear_model.html#logistic-regression\n",
      "  extra_warning_msg=_LOGISTIC_SOLVER_CONVERGENCE_MSG,\n"
     ]
    },
    {
     "name": "stdout",
     "output_type": "stream",
     "text": [
      "[CV 4/10] END lr__C=100, lr__max_iter=100, lr__penalty=l2, lr__solver=lbfgs;, score=(train=0.932, test=0.929) total time=   0.7s\n"
     ]
    },
    {
     "name": "stderr",
     "output_type": "stream",
     "text": [
      "/opt/conda/lib/python3.7/site-packages/sklearn/linear_model/_logistic.py:818: ConvergenceWarning: lbfgs failed to converge (status=1):\n",
      "STOP: TOTAL NO. of ITERATIONS REACHED LIMIT.\n",
      "\n",
      "Increase the number of iterations (max_iter) or scale the data as shown in:\n",
      "    https://scikit-learn.org/stable/modules/preprocessing.html\n",
      "Please also refer to the documentation for alternative solver options:\n",
      "    https://scikit-learn.org/stable/modules/linear_model.html#logistic-regression\n",
      "  extra_warning_msg=_LOGISTIC_SOLVER_CONVERGENCE_MSG,\n"
     ]
    },
    {
     "name": "stdout",
     "output_type": "stream",
     "text": [
      "[CV 5/10] END lr__C=100, lr__max_iter=100, lr__penalty=l2, lr__solver=lbfgs;, score=(train=0.932, test=0.931) total time=   0.6s\n"
     ]
    },
    {
     "name": "stderr",
     "output_type": "stream",
     "text": [
      "/opt/conda/lib/python3.7/site-packages/sklearn/linear_model/_logistic.py:818: ConvergenceWarning: lbfgs failed to converge (status=1):\n",
      "STOP: TOTAL NO. of ITERATIONS REACHED LIMIT.\n",
      "\n",
      "Increase the number of iterations (max_iter) or scale the data as shown in:\n",
      "    https://scikit-learn.org/stable/modules/preprocessing.html\n",
      "Please also refer to the documentation for alternative solver options:\n",
      "    https://scikit-learn.org/stable/modules/linear_model.html#logistic-regression\n",
      "  extra_warning_msg=_LOGISTIC_SOLVER_CONVERGENCE_MSG,\n"
     ]
    },
    {
     "name": "stdout",
     "output_type": "stream",
     "text": [
      "[CV 6/10] END lr__C=100, lr__max_iter=100, lr__penalty=l2, lr__solver=lbfgs;, score=(train=0.932, test=0.929) total time=   0.6s\n"
     ]
    },
    {
     "name": "stderr",
     "output_type": "stream",
     "text": [
      "/opt/conda/lib/python3.7/site-packages/sklearn/linear_model/_logistic.py:818: ConvergenceWarning: lbfgs failed to converge (status=1):\n",
      "STOP: TOTAL NO. of ITERATIONS REACHED LIMIT.\n",
      "\n",
      "Increase the number of iterations (max_iter) or scale the data as shown in:\n",
      "    https://scikit-learn.org/stable/modules/preprocessing.html\n",
      "Please also refer to the documentation for alternative solver options:\n",
      "    https://scikit-learn.org/stable/modules/linear_model.html#logistic-regression\n",
      "  extra_warning_msg=_LOGISTIC_SOLVER_CONVERGENCE_MSG,\n"
     ]
    },
    {
     "name": "stdout",
     "output_type": "stream",
     "text": [
      "[CV 7/10] END lr__C=100, lr__max_iter=100, lr__penalty=l2, lr__solver=lbfgs;, score=(train=0.934, test=0.933) total time=   0.7s\n"
     ]
    },
    {
     "name": "stderr",
     "output_type": "stream",
     "text": [
      "/opt/conda/lib/python3.7/site-packages/sklearn/linear_model/_logistic.py:818: ConvergenceWarning: lbfgs failed to converge (status=1):\n",
      "STOP: TOTAL NO. of ITERATIONS REACHED LIMIT.\n",
      "\n",
      "Increase the number of iterations (max_iter) or scale the data as shown in:\n",
      "    https://scikit-learn.org/stable/modules/preprocessing.html\n",
      "Please also refer to the documentation for alternative solver options:\n",
      "    https://scikit-learn.org/stable/modules/linear_model.html#logistic-regression\n",
      "  extra_warning_msg=_LOGISTIC_SOLVER_CONVERGENCE_MSG,\n"
     ]
    },
    {
     "name": "stdout",
     "output_type": "stream",
     "text": [
      "[CV 8/10] END lr__C=100, lr__max_iter=100, lr__penalty=l2, lr__solver=lbfgs;, score=(train=0.933, test=0.932) total time=   0.7s\n"
     ]
    },
    {
     "name": "stderr",
     "output_type": "stream",
     "text": [
      "/opt/conda/lib/python3.7/site-packages/sklearn/linear_model/_logistic.py:818: ConvergenceWarning: lbfgs failed to converge (status=1):\n",
      "STOP: TOTAL NO. of ITERATIONS REACHED LIMIT.\n",
      "\n",
      "Increase the number of iterations (max_iter) or scale the data as shown in:\n",
      "    https://scikit-learn.org/stable/modules/preprocessing.html\n",
      "Please also refer to the documentation for alternative solver options:\n",
      "    https://scikit-learn.org/stable/modules/linear_model.html#logistic-regression\n",
      "  extra_warning_msg=_LOGISTIC_SOLVER_CONVERGENCE_MSG,\n"
     ]
    },
    {
     "name": "stdout",
     "output_type": "stream",
     "text": [
      "[CV 9/10] END lr__C=100, lr__max_iter=100, lr__penalty=l2, lr__solver=lbfgs;, score=(train=0.930, test=0.929) total time=   0.6s\n"
     ]
    },
    {
     "name": "stderr",
     "output_type": "stream",
     "text": [
      "/opt/conda/lib/python3.7/site-packages/sklearn/linear_model/_logistic.py:818: ConvergenceWarning: lbfgs failed to converge (status=1):\n",
      "STOP: TOTAL NO. of ITERATIONS REACHED LIMIT.\n",
      "\n",
      "Increase the number of iterations (max_iter) or scale the data as shown in:\n",
      "    https://scikit-learn.org/stable/modules/preprocessing.html\n",
      "Please also refer to the documentation for alternative solver options:\n",
      "    https://scikit-learn.org/stable/modules/linear_model.html#logistic-regression\n",
      "  extra_warning_msg=_LOGISTIC_SOLVER_CONVERGENCE_MSG,\n"
     ]
    },
    {
     "name": "stdout",
     "output_type": "stream",
     "text": [
      "[CV 10/10] END lr__C=100, lr__max_iter=100, lr__penalty=l2, lr__solver=lbfgs;, score=(train=0.932, test=0.930) total time=   0.6s\n",
      "[CV 1/10] END lr__C=100, lr__max_iter=100, lr__penalty=l2, lr__solver=liblinear;, score=(train=0.930, test=0.931) total time=   1.0s\n",
      "[CV 2/10] END lr__C=100, lr__max_iter=100, lr__penalty=l2, lr__solver=liblinear;, score=(train=0.931, test=0.931) total time=   1.7s\n",
      "[CV 3/10] END lr__C=100, lr__max_iter=100, lr__penalty=l2, lr__solver=liblinear;, score=(train=0.930, test=0.934) total time=   1.1s\n",
      "[CV 4/10] END lr__C=100, lr__max_iter=100, lr__penalty=l2, lr__solver=liblinear;, score=(train=0.933, test=0.928) total time=   0.9s\n",
      "[CV 5/10] END lr__C=100, lr__max_iter=100, lr__penalty=l2, lr__solver=liblinear;, score=(train=0.932, test=0.931) total time=   0.9s\n",
      "[CV 6/10] END lr__C=100, lr__max_iter=100, lr__penalty=l2, lr__solver=liblinear;, score=(train=0.932, test=0.929) total time=   1.0s\n",
      "[CV 7/10] END lr__C=100, lr__max_iter=100, lr__penalty=l2, lr__solver=liblinear;, score=(train=0.934, test=0.934) total time=   1.0s\n",
      "[CV 8/10] END lr__C=100, lr__max_iter=100, lr__penalty=l2, lr__solver=liblinear;, score=(train=0.933, test=0.932) total time=   1.0s\n",
      "[CV 9/10] END lr__C=100, lr__max_iter=100, lr__penalty=l2, lr__solver=liblinear;, score=(train=0.931, test=0.930) total time=   0.7s\n",
      "[CV 10/10] END lr__C=100, lr__max_iter=100, lr__penalty=l2, lr__solver=liblinear;, score=(train=0.932, test=0.931) total time=   1.0s\n",
      "[CV 1/10] END lr__C=100, lr__max_iter=100, lr__penalty=l2, lr__solver=sag;, score=(train=0.930, test=0.931) total time=   3.4s\n"
     ]
    },
    {
     "name": "stderr",
     "output_type": "stream",
     "text": [
      "/opt/conda/lib/python3.7/site-packages/sklearn/linear_model/_sag.py:354: ConvergenceWarning: The max_iter was reached which means the coef_ did not converge\n",
      "  ConvergenceWarning,\n"
     ]
    },
    {
     "name": "stdout",
     "output_type": "stream",
     "text": [
      "[CV 2/10] END lr__C=100, lr__max_iter=100, lr__penalty=l2, lr__solver=sag;, score=(train=0.931, test=0.931) total time=   3.4s\n"
     ]
    },
    {
     "name": "stderr",
     "output_type": "stream",
     "text": [
      "/opt/conda/lib/python3.7/site-packages/sklearn/linear_model/_sag.py:354: ConvergenceWarning: The max_iter was reached which means the coef_ did not converge\n",
      "  ConvergenceWarning,\n"
     ]
    },
    {
     "name": "stdout",
     "output_type": "stream",
     "text": [
      "[CV 3/10] END lr__C=100, lr__max_iter=100, lr__penalty=l2, lr__solver=sag;, score=(train=0.930, test=0.934) total time=   3.5s\n",
      "[CV 4/10] END lr__C=100, lr__max_iter=100, lr__penalty=l2, lr__solver=sag;, score=(train=0.933, test=0.928) total time=   2.6s\n",
      "[CV 5/10] END lr__C=100, lr__max_iter=100, lr__penalty=l2, lr__solver=sag;, score=(train=0.932, test=0.931) total time=   2.5s\n"
     ]
    },
    {
     "name": "stderr",
     "output_type": "stream",
     "text": [
      "/opt/conda/lib/python3.7/site-packages/sklearn/linear_model/_sag.py:354: ConvergenceWarning: The max_iter was reached which means the coef_ did not converge\n",
      "  ConvergenceWarning,\n"
     ]
    },
    {
     "name": "stdout",
     "output_type": "stream",
     "text": [
      "[CV 6/10] END lr__C=100, lr__max_iter=100, lr__penalty=l2, lr__solver=sag;, score=(train=0.932, test=0.929) total time=   3.3s\n"
     ]
    },
    {
     "name": "stderr",
     "output_type": "stream",
     "text": [
      "/opt/conda/lib/python3.7/site-packages/sklearn/linear_model/_sag.py:354: ConvergenceWarning: The max_iter was reached which means the coef_ did not converge\n",
      "  ConvergenceWarning,\n"
     ]
    },
    {
     "name": "stdout",
     "output_type": "stream",
     "text": [
      "[CV 7/10] END lr__C=100, lr__max_iter=100, lr__penalty=l2, lr__solver=sag;, score=(train=0.934, test=0.934) total time=   3.4s\n"
     ]
    },
    {
     "name": "stderr",
     "output_type": "stream",
     "text": [
      "/opt/conda/lib/python3.7/site-packages/sklearn/linear_model/_sag.py:354: ConvergenceWarning: The max_iter was reached which means the coef_ did not converge\n",
      "  ConvergenceWarning,\n"
     ]
    },
    {
     "name": "stdout",
     "output_type": "stream",
     "text": [
      "[CV 8/10] END lr__C=100, lr__max_iter=100, lr__penalty=l2, lr__solver=sag;, score=(train=0.933, test=0.932) total time=   3.4s\n",
      "[CV 9/10] END lr__C=100, lr__max_iter=100, lr__penalty=l2, lr__solver=sag;, score=(train=0.931, test=0.930) total time=   3.3s\n"
     ]
    },
    {
     "name": "stderr",
     "output_type": "stream",
     "text": [
      "/opt/conda/lib/python3.7/site-packages/sklearn/linear_model/_sag.py:354: ConvergenceWarning: The max_iter was reached which means the coef_ did not converge\n",
      "  ConvergenceWarning,\n"
     ]
    },
    {
     "name": "stdout",
     "output_type": "stream",
     "text": [
      "[CV 10/10] END lr__C=100, lr__max_iter=100, lr__penalty=l2, lr__solver=sag;, score=(train=0.932, test=0.931) total time=   3.3s\n"
     ]
    },
    {
     "name": "stderr",
     "output_type": "stream",
     "text": [
      "/opt/conda/lib/python3.7/site-packages/sklearn/linear_model/_sag.py:354: ConvergenceWarning: The max_iter was reached which means the coef_ did not converge\n",
      "  ConvergenceWarning,\n"
     ]
    },
    {
     "name": "stdout",
     "output_type": "stream",
     "text": [
      "[CV 1/10] END lr__C=100, lr__max_iter=100, lr__penalty=l2, lr__solver=saga;, score=(train=0.930, test=0.931) total time=   3.7s\n"
     ]
    },
    {
     "name": "stderr",
     "output_type": "stream",
     "text": [
      "/opt/conda/lib/python3.7/site-packages/sklearn/linear_model/_sag.py:354: ConvergenceWarning: The max_iter was reached which means the coef_ did not converge\n",
      "  ConvergenceWarning,\n"
     ]
    },
    {
     "name": "stdout",
     "output_type": "stream",
     "text": [
      "[CV 2/10] END lr__C=100, lr__max_iter=100, lr__penalty=l2, lr__solver=saga;, score=(train=0.931, test=0.931) total time=   3.7s\n"
     ]
    },
    {
     "name": "stderr",
     "output_type": "stream",
     "text": [
      "/opt/conda/lib/python3.7/site-packages/sklearn/linear_model/_sag.py:354: ConvergenceWarning: The max_iter was reached which means the coef_ did not converge\n",
      "  ConvergenceWarning,\n"
     ]
    },
    {
     "name": "stdout",
     "output_type": "stream",
     "text": [
      "[CV 3/10] END lr__C=100, lr__max_iter=100, lr__penalty=l2, lr__solver=saga;, score=(train=0.930, test=0.934) total time=   3.6s\n",
      "[CV 4/10] END lr__C=100, lr__max_iter=100, lr__penalty=l2, lr__solver=saga;, score=(train=0.933, test=0.928) total time=   2.8s\n"
     ]
    },
    {
     "name": "stderr",
     "output_type": "stream",
     "text": [
      "/opt/conda/lib/python3.7/site-packages/sklearn/linear_model/_sag.py:354: ConvergenceWarning: The max_iter was reached which means the coef_ did not converge\n",
      "  ConvergenceWarning,\n"
     ]
    },
    {
     "name": "stdout",
     "output_type": "stream",
     "text": [
      "[CV 5/10] END lr__C=100, lr__max_iter=100, lr__penalty=l2, lr__solver=saga;, score=(train=0.932, test=0.931) total time=   3.7s\n"
     ]
    },
    {
     "name": "stderr",
     "output_type": "stream",
     "text": [
      "/opt/conda/lib/python3.7/site-packages/sklearn/linear_model/_sag.py:354: ConvergenceWarning: The max_iter was reached which means the coef_ did not converge\n",
      "  ConvergenceWarning,\n"
     ]
    },
    {
     "name": "stdout",
     "output_type": "stream",
     "text": [
      "[CV 6/10] END lr__C=100, lr__max_iter=100, lr__penalty=l2, lr__solver=saga;, score=(train=0.932, test=0.929) total time=   3.7s\n"
     ]
    },
    {
     "name": "stderr",
     "output_type": "stream",
     "text": [
      "/opt/conda/lib/python3.7/site-packages/sklearn/linear_model/_sag.py:354: ConvergenceWarning: The max_iter was reached which means the coef_ did not converge\n",
      "  ConvergenceWarning,\n"
     ]
    },
    {
     "name": "stdout",
     "output_type": "stream",
     "text": [
      "[CV 7/10] END lr__C=100, lr__max_iter=100, lr__penalty=l2, lr__solver=saga;, score=(train=0.934, test=0.934) total time=   3.7s\n"
     ]
    },
    {
     "name": "stderr",
     "output_type": "stream",
     "text": [
      "/opt/conda/lib/python3.7/site-packages/sklearn/linear_model/_sag.py:354: ConvergenceWarning: The max_iter was reached which means the coef_ did not converge\n",
      "  ConvergenceWarning,\n"
     ]
    },
    {
     "name": "stdout",
     "output_type": "stream",
     "text": [
      "[CV 8/10] END lr__C=100, lr__max_iter=100, lr__penalty=l2, lr__solver=saga;, score=(train=0.933, test=0.932) total time=   3.6s\n"
     ]
    },
    {
     "name": "stderr",
     "output_type": "stream",
     "text": [
      "/opt/conda/lib/python3.7/site-packages/sklearn/linear_model/_sag.py:354: ConvergenceWarning: The max_iter was reached which means the coef_ did not converge\n",
      "  ConvergenceWarning,\n"
     ]
    },
    {
     "name": "stdout",
     "output_type": "stream",
     "text": [
      "[CV 9/10] END lr__C=100, lr__max_iter=100, lr__penalty=l2, lr__solver=saga;, score=(train=0.931, test=0.930) total time=   3.6s\n"
     ]
    },
    {
     "name": "stderr",
     "output_type": "stream",
     "text": [
      "/opt/conda/lib/python3.7/site-packages/sklearn/linear_model/_sag.py:354: ConvergenceWarning: The max_iter was reached which means the coef_ did not converge\n",
      "  ConvergenceWarning,\n"
     ]
    },
    {
     "name": "stdout",
     "output_type": "stream",
     "text": [
      "[CV 10/10] END lr__C=100, lr__max_iter=100, lr__penalty=l2, lr__solver=saga;, score=(train=0.932, test=0.931) total time=   3.7s\n",
      "[CV 1/10] END lr__C=100, lr__max_iter=500, lr__penalty=l2, lr__solver=newton-cg;, score=(train=0.930, test=0.931) total time=   3.0s\n",
      "[CV 2/10] END lr__C=100, lr__max_iter=500, lr__penalty=l2, lr__solver=newton-cg;, score=(train=0.931, test=0.931) total time=   3.1s\n",
      "[CV 3/10] END lr__C=100, lr__max_iter=500, lr__penalty=l2, lr__solver=newton-cg;, score=(train=0.930, test=0.934) total time=   3.1s\n",
      "[CV 4/10] END lr__C=100, lr__max_iter=500, lr__penalty=l2, lr__solver=newton-cg;, score=(train=0.933, test=0.928) total time=   2.5s\n",
      "[CV 5/10] END lr__C=100, lr__max_iter=500, lr__penalty=l2, lr__solver=newton-cg;, score=(train=0.932, test=0.931) total time=   2.5s\n",
      "[CV 6/10] END lr__C=100, lr__max_iter=500, lr__penalty=l2, lr__solver=newton-cg;, score=(train=0.932, test=0.929) total time=   2.9s\n",
      "[CV 7/10] END lr__C=100, lr__max_iter=500, lr__penalty=l2, lr__solver=newton-cg;, score=(train=0.934, test=0.934) total time=   2.8s\n",
      "[CV 8/10] END lr__C=100, lr__max_iter=500, lr__penalty=l2, lr__solver=newton-cg;, score=(train=0.933, test=0.932) total time=   2.2s\n",
      "[CV 9/10] END lr__C=100, lr__max_iter=500, lr__penalty=l2, lr__solver=newton-cg;, score=(train=0.931, test=0.930) total time=   2.1s\n",
      "[CV 10/10] END lr__C=100, lr__max_iter=500, lr__penalty=l2, lr__solver=newton-cg;, score=(train=0.932, test=0.931) total time=   2.6s\n",
      "[CV 1/10] END lr__C=100, lr__max_iter=500, lr__penalty=l2, lr__solver=lbfgs;, score=(train=0.930, test=0.931) total time=   2.9s\n"
     ]
    },
    {
     "name": "stderr",
     "output_type": "stream",
     "text": [
      "/opt/conda/lib/python3.7/site-packages/sklearn/linear_model/_logistic.py:818: ConvergenceWarning: lbfgs failed to converge (status=1):\n",
      "STOP: TOTAL NO. of ITERATIONS REACHED LIMIT.\n",
      "\n",
      "Increase the number of iterations (max_iter) or scale the data as shown in:\n",
      "    https://scikit-learn.org/stable/modules/preprocessing.html\n",
      "Please also refer to the documentation for alternative solver options:\n",
      "    https://scikit-learn.org/stable/modules/linear_model.html#logistic-regression\n",
      "  extra_warning_msg=_LOGISTIC_SOLVER_CONVERGENCE_MSG,\n"
     ]
    },
    {
     "name": "stdout",
     "output_type": "stream",
     "text": [
      "[CV 2/10] END lr__C=100, lr__max_iter=500, lr__penalty=l2, lr__solver=lbfgs;, score=(train=0.931, test=0.931) total time=   2.8s\n",
      "[CV 3/10] END lr__C=100, lr__max_iter=500, lr__penalty=l2, lr__solver=lbfgs;, score=(train=0.930, test=0.934) total time=   2.5s\n",
      "[CV 4/10] END lr__C=100, lr__max_iter=500, lr__penalty=l2, lr__solver=lbfgs;, score=(train=0.932, test=0.928) total time=   2.3s\n",
      "[CV 5/10] END lr__C=100, lr__max_iter=500, lr__penalty=l2, lr__solver=lbfgs;, score=(train=0.932, test=0.931) total time=   2.6s\n"
     ]
    },
    {
     "name": "stderr",
     "output_type": "stream",
     "text": [
      "/opt/conda/lib/python3.7/site-packages/sklearn/linear_model/_logistic.py:818: ConvergenceWarning: lbfgs failed to converge (status=1):\n",
      "STOP: TOTAL NO. of ITERATIONS REACHED LIMIT.\n",
      "\n",
      "Increase the number of iterations (max_iter) or scale the data as shown in:\n",
      "    https://scikit-learn.org/stable/modules/preprocessing.html\n",
      "Please also refer to the documentation for alternative solver options:\n",
      "    https://scikit-learn.org/stable/modules/linear_model.html#logistic-regression\n",
      "  extra_warning_msg=_LOGISTIC_SOLVER_CONVERGENCE_MSG,\n"
     ]
    },
    {
     "name": "stdout",
     "output_type": "stream",
     "text": [
      "[CV 6/10] END lr__C=100, lr__max_iter=500, lr__penalty=l2, lr__solver=lbfgs;, score=(train=0.932, test=0.929) total time=   2.7s\n",
      "[CV 7/10] END lr__C=100, lr__max_iter=500, lr__penalty=l2, lr__solver=lbfgs;, score=(train=0.934, test=0.934) total time=   2.3s\n"
     ]
    },
    {
     "name": "stderr",
     "output_type": "stream",
     "text": [
      "/opt/conda/lib/python3.7/site-packages/sklearn/linear_model/_logistic.py:818: ConvergenceWarning: lbfgs failed to converge (status=1):\n",
      "STOP: TOTAL NO. of ITERATIONS REACHED LIMIT.\n",
      "\n",
      "Increase the number of iterations (max_iter) or scale the data as shown in:\n",
      "    https://scikit-learn.org/stable/modules/preprocessing.html\n",
      "Please also refer to the documentation for alternative solver options:\n",
      "    https://scikit-learn.org/stable/modules/linear_model.html#logistic-regression\n",
      "  extra_warning_msg=_LOGISTIC_SOLVER_CONVERGENCE_MSG,\n"
     ]
    },
    {
     "name": "stdout",
     "output_type": "stream",
     "text": [
      "[CV 8/10] END lr__C=100, lr__max_iter=500, lr__penalty=l2, lr__solver=lbfgs;, score=(train=0.933, test=0.932) total time=   3.0s\n",
      "[CV 9/10] END lr__C=100, lr__max_iter=500, lr__penalty=l2, lr__solver=lbfgs;, score=(train=0.931, test=0.930) total time=   3.0s\n"
     ]
    },
    {
     "name": "stderr",
     "output_type": "stream",
     "text": [
      "/opt/conda/lib/python3.7/site-packages/sklearn/linear_model/_logistic.py:818: ConvergenceWarning: lbfgs failed to converge (status=1):\n",
      "STOP: TOTAL NO. of ITERATIONS REACHED LIMIT.\n",
      "\n",
      "Increase the number of iterations (max_iter) or scale the data as shown in:\n",
      "    https://scikit-learn.org/stable/modules/preprocessing.html\n",
      "Please also refer to the documentation for alternative solver options:\n",
      "    https://scikit-learn.org/stable/modules/linear_model.html#logistic-regression\n",
      "  extra_warning_msg=_LOGISTIC_SOLVER_CONVERGENCE_MSG,\n"
     ]
    },
    {
     "name": "stdout",
     "output_type": "stream",
     "text": [
      "[CV 10/10] END lr__C=100, lr__max_iter=500, lr__penalty=l2, lr__solver=lbfgs;, score=(train=0.932, test=0.931) total time=   3.0s\n",
      "[CV 1/10] END lr__C=100, lr__max_iter=500, lr__penalty=l2, lr__solver=liblinear;, score=(train=0.930, test=0.931) total time=   1.0s\n",
      "[CV 2/10] END lr__C=100, lr__max_iter=500, lr__penalty=l2, lr__solver=liblinear;, score=(train=0.931, test=0.931) total time=   1.7s\n",
      "[CV 3/10] END lr__C=100, lr__max_iter=500, lr__penalty=l2, lr__solver=liblinear;, score=(train=0.930, test=0.934) total time=   1.1s\n",
      "[CV 4/10] END lr__C=100, lr__max_iter=500, lr__penalty=l2, lr__solver=liblinear;, score=(train=0.933, test=0.928) total time=   0.9s\n",
      "[CV 5/10] END lr__C=100, lr__max_iter=500, lr__penalty=l2, lr__solver=liblinear;, score=(train=0.932, test=0.931) total time=   1.0s\n",
      "[CV 6/10] END lr__C=100, lr__max_iter=500, lr__penalty=l2, lr__solver=liblinear;, score=(train=0.932, test=0.929) total time=   1.0s\n",
      "[CV 7/10] END lr__C=100, lr__max_iter=500, lr__penalty=l2, lr__solver=liblinear;, score=(train=0.934, test=0.934) total time=   1.0s\n",
      "[CV 8/10] END lr__C=100, lr__max_iter=500, lr__penalty=l2, lr__solver=liblinear;, score=(train=0.933, test=0.932) total time=   1.0s\n",
      "[CV 9/10] END lr__C=100, lr__max_iter=500, lr__penalty=l2, lr__solver=liblinear;, score=(train=0.931, test=0.930) total time=   0.7s\n",
      "[CV 10/10] END lr__C=100, lr__max_iter=500, lr__penalty=l2, lr__solver=liblinear;, score=(train=0.932, test=0.931) total time=   1.0s\n",
      "[CV 1/10] END lr__C=100, lr__max_iter=500, lr__penalty=l2, lr__solver=sag;, score=(train=0.930, test=0.931) total time=   3.5s\n",
      "[CV 2/10] END lr__C=100, lr__max_iter=500, lr__penalty=l2, lr__solver=sag;, score=(train=0.931, test=0.931) total time=   7.3s\n",
      "[CV 3/10] END lr__C=100, lr__max_iter=500, lr__penalty=l2, lr__solver=sag;, score=(train=0.930, test=0.934) total time=   4.0s\n",
      "[CV 4/10] END lr__C=100, lr__max_iter=500, lr__penalty=l2, lr__solver=sag;, score=(train=0.933, test=0.928) total time=   2.7s\n",
      "[CV 5/10] END lr__C=100, lr__max_iter=500, lr__penalty=l2, lr__solver=sag;, score=(train=0.932, test=0.931) total time=   2.4s\n",
      "[CV 6/10] END lr__C=100, lr__max_iter=500, lr__penalty=l2, lr__solver=sag;, score=(train=0.932, test=0.929) total time=   5.2s\n",
      "[CV 7/10] END lr__C=100, lr__max_iter=500, lr__penalty=l2, lr__solver=sag;, score=(train=0.934, test=0.934) total time=   4.3s\n",
      "[CV 8/10] END lr__C=100, lr__max_iter=500, lr__penalty=l2, lr__solver=sag;, score=(train=0.933, test=0.932) total time=   3.9s\n",
      "[CV 9/10] END lr__C=100, lr__max_iter=500, lr__penalty=l2, lr__solver=sag;, score=(train=0.931, test=0.930) total time=   3.5s\n",
      "[CV 10/10] END lr__C=100, lr__max_iter=500, lr__penalty=l2, lr__solver=sag;, score=(train=0.932, test=0.931) total time=   4.8s\n",
      "[CV 1/10] END lr__C=100, lr__max_iter=500, lr__penalty=l2, lr__solver=saga;, score=(train=0.930, test=0.931) total time=   4.9s\n",
      "[CV 2/10] END lr__C=100, lr__max_iter=500, lr__penalty=l2, lr__solver=saga;, score=(train=0.931, test=0.931) total time=  11.0s\n",
      "[CV 3/10] END lr__C=100, lr__max_iter=500, lr__penalty=l2, lr__solver=saga;, score=(train=0.930, test=0.934) total time=   6.9s\n",
      "[CV 4/10] END lr__C=100, lr__max_iter=500, lr__penalty=l2, lr__solver=saga;, score=(train=0.933, test=0.928) total time=   3.0s\n",
      "[CV 5/10] END lr__C=100, lr__max_iter=500, lr__penalty=l2, lr__solver=saga;, score=(train=0.932, test=0.931) total time=   4.4s\n",
      "[CV 6/10] END lr__C=100, lr__max_iter=500, lr__penalty=l2, lr__solver=saga;, score=(train=0.932, test=0.929) total time=   8.4s\n",
      "[CV 7/10] END lr__C=100, lr__max_iter=500, lr__penalty=l2, lr__solver=saga;, score=(train=0.934, test=0.934) total time=   6.3s\n",
      "[CV 8/10] END lr__C=100, lr__max_iter=500, lr__penalty=l2, lr__solver=saga;, score=(train=0.933, test=0.932) total time=   5.8s\n",
      "[CV 9/10] END lr__C=100, lr__max_iter=500, lr__penalty=l2, lr__solver=saga;, score=(train=0.931, test=0.930) total time=   4.6s\n",
      "[CV 10/10] END lr__C=100, lr__max_iter=500, lr__penalty=l2, lr__solver=saga;, score=(train=0.932, test=0.931) total time=   7.4s\n",
      "----------\n",
      "iter: 1\n",
      "n_candidates: 17\n",
      "n_resources: 119409\n",
      "Fitting 10 folds for each of 17 candidates, totalling 170 fits\n",
      "[CV 1/10] END lr__C=10, lr__max_iter=500, lr__penalty=l2, lr__solver=lbfgs;, score=(train=0.933, test=0.933) total time=   8.7s\n",
      "[CV 2/10] END lr__C=10, lr__max_iter=500, lr__penalty=l2, lr__solver=lbfgs;, score=(train=0.932, test=0.932) total time=  10.1s\n",
      "[CV 3/10] END lr__C=10, lr__max_iter=500, lr__penalty=l2, lr__solver=lbfgs;, score=(train=0.931, test=0.932) total time=   8.3s\n",
      "[CV 4/10] END lr__C=10, lr__max_iter=500, lr__penalty=l2, lr__solver=lbfgs;, score=(train=0.931, test=0.931) total time=   7.7s\n",
      "[CV 5/10] END lr__C=10, lr__max_iter=500, lr__penalty=l2, lr__solver=lbfgs;, score=(train=0.931, test=0.932) total time=   8.9s\n",
      "[CV 6/10] END lr__C=10, lr__max_iter=500, lr__penalty=l2, lr__solver=lbfgs;, score=(train=0.931, test=0.934) total time=   8.1s\n",
      "[CV 7/10] END lr__C=10, lr__max_iter=500, lr__penalty=l2, lr__solver=lbfgs;, score=(train=0.931, test=0.929) total time=   7.9s\n",
      "[CV 8/10] END lr__C=10, lr__max_iter=500, lr__penalty=l2, lr__solver=lbfgs;, score=(train=0.932, test=0.933) total time=   7.5s\n",
      "[CV 9/10] END lr__C=10, lr__max_iter=500, lr__penalty=l2, lr__solver=lbfgs;, score=(train=0.933, test=0.931) total time=  10.6s\n",
      "[CV 10/10] END lr__C=10, lr__max_iter=500, lr__penalty=l2, lr__solver=lbfgs;, score=(train=0.932, test=0.932) total time=   9.1s\n",
      "[CV 1/10] END lr__C=10, lr__max_iter=500, lr__penalty=l2, lr__solver=newton-cg;, score=(train=0.932, test=0.933) total time=  10.7s\n",
      "[CV 2/10] END lr__C=10, lr__max_iter=500, lr__penalty=l2, lr__solver=newton-cg;, score=(train=0.931, test=0.932) total time=  10.8s\n",
      "[CV 3/10] END lr__C=10, lr__max_iter=500, lr__penalty=l2, lr__solver=newton-cg;, score=(train=0.931, test=0.932) total time=  10.5s\n",
      "[CV 4/10] END lr__C=10, lr__max_iter=500, lr__penalty=l2, lr__solver=newton-cg;, score=(train=0.931, test=0.931) total time=   9.5s\n",
      "[CV 5/10] END lr__C=10, lr__max_iter=500, lr__penalty=l2, lr__solver=newton-cg;, score=(train=0.931, test=0.932) total time=   9.8s\n",
      "[CV 6/10] END lr__C=10, lr__max_iter=500, lr__penalty=l2, lr__solver=newton-cg;, score=(train=0.931, test=0.934) total time=   8.5s\n",
      "[CV 7/10] END lr__C=10, lr__max_iter=500, lr__penalty=l2, lr__solver=newton-cg;, score=(train=0.931, test=0.929) total time=   9.6s\n",
      "[CV 8/10] END lr__C=10, lr__max_iter=500, lr__penalty=l2, lr__solver=newton-cg;, score=(train=0.932, test=0.933) total time=   8.6s\n",
      "[CV 9/10] END lr__C=10, lr__max_iter=500, lr__penalty=l2, lr__solver=newton-cg;, score=(train=0.933, test=0.931) total time=  10.9s\n",
      "[CV 10/10] END lr__C=10, lr__max_iter=500, lr__penalty=l2, lr__solver=newton-cg;, score=(train=0.932, test=0.932) total time=  10.4s\n",
      "[CV 1/10] END lr__C=10, lr__max_iter=100, lr__penalty=l2, lr__solver=newton-cg;, score=(train=0.932, test=0.933) total time=  10.2s\n",
      "[CV 2/10] END lr__C=10, lr__max_iter=100, lr__penalty=l2, lr__solver=newton-cg;, score=(train=0.931, test=0.932) total time=  10.6s\n",
      "[CV 3/10] END lr__C=10, lr__max_iter=100, lr__penalty=l2, lr__solver=newton-cg;, score=(train=0.931, test=0.932) total time=   9.8s\n",
      "[CV 4/10] END lr__C=10, lr__max_iter=100, lr__penalty=l2, lr__solver=newton-cg;, score=(train=0.931, test=0.931) total time=   9.6s\n",
      "[CV 5/10] END lr__C=10, lr__max_iter=100, lr__penalty=l2, lr__solver=newton-cg;, score=(train=0.931, test=0.932) total time=   9.8s\n",
      "[CV 6/10] END lr__C=10, lr__max_iter=100, lr__penalty=l2, lr__solver=newton-cg;, score=(train=0.931, test=0.934) total time=   9.2s\n",
      "[CV 7/10] END lr__C=10, lr__max_iter=100, lr__penalty=l2, lr__solver=newton-cg;, score=(train=0.931, test=0.929) total time=   8.9s\n",
      "[CV 8/10] END lr__C=10, lr__max_iter=100, lr__penalty=l2, lr__solver=newton-cg;, score=(train=0.932, test=0.933) total time=   8.7s\n",
      "[CV 9/10] END lr__C=10, lr__max_iter=100, lr__penalty=l2, lr__solver=newton-cg;, score=(train=0.933, test=0.931) total time=  11.7s\n",
      "[CV 10/10] END lr__C=10, lr__max_iter=100, lr__penalty=l2, lr__solver=newton-cg;, score=(train=0.932, test=0.932) total time=  10.5s\n",
      "[CV 1/10] END lr__C=10, lr__max_iter=100, lr__penalty=l2, lr__solver=liblinear;, score=(train=0.932, test=0.933) total time=   2.7s\n",
      "[CV 2/10] END lr__C=10, lr__max_iter=100, lr__penalty=l2, lr__solver=liblinear;, score=(train=0.931, test=0.932) total time=   2.7s\n",
      "[CV 3/10] END lr__C=10, lr__max_iter=100, lr__penalty=l2, lr__solver=liblinear;, score=(train=0.931, test=0.932) total time=   2.6s\n",
      "[CV 4/10] END lr__C=10, lr__max_iter=100, lr__penalty=l2, lr__solver=liblinear;, score=(train=0.931, test=0.931) total time=   2.7s\n",
      "[CV 5/10] END lr__C=10, lr__max_iter=100, lr__penalty=l2, lr__solver=liblinear;, score=(train=0.931, test=0.932) total time=   3.4s\n",
      "[CV 6/10] END lr__C=10, lr__max_iter=100, lr__penalty=l2, lr__solver=liblinear;, score=(train=0.931, test=0.934) total time=   2.8s\n",
      "[CV 7/10] END lr__C=10, lr__max_iter=100, lr__penalty=l2, lr__solver=liblinear;, score=(train=0.931, test=0.929) total time=   2.7s\n",
      "[CV 8/10] END lr__C=10, lr__max_iter=100, lr__penalty=l2, lr__solver=liblinear;, score=(train=0.932, test=0.933) total time=   2.9s\n",
      "[CV 9/10] END lr__C=10, lr__max_iter=100, lr__penalty=l2, lr__solver=liblinear;, score=(train=0.933, test=0.931) total time=   3.8s\n",
      "[CV 10/10] END lr__C=10, lr__max_iter=100, lr__penalty=l2, lr__solver=liblinear;, score=(train=0.932, test=0.932) total time=   2.9s\n",
      "[CV 1/10] END lr__C=10, lr__max_iter=500, lr__penalty=l2, lr__solver=liblinear;, score=(train=0.932, test=0.933) total time=   2.9s\n",
      "[CV 2/10] END lr__C=10, lr__max_iter=500, lr__penalty=l2, lr__solver=liblinear;, score=(train=0.931, test=0.932) total time=   2.8s\n",
      "[CV 3/10] END lr__C=10, lr__max_iter=500, lr__penalty=l2, lr__solver=liblinear;, score=(train=0.931, test=0.932) total time=   2.7s\n",
      "[CV 4/10] END lr__C=10, lr__max_iter=500, lr__penalty=l2, lr__solver=liblinear;, score=(train=0.931, test=0.931) total time=   2.8s\n",
      "[CV 5/10] END lr__C=10, lr__max_iter=500, lr__penalty=l2, lr__solver=liblinear;, score=(train=0.931, test=0.932) total time=   3.5s\n",
      "[CV 6/10] END lr__C=10, lr__max_iter=500, lr__penalty=l2, lr__solver=liblinear;, score=(train=0.931, test=0.934) total time=   2.8s\n",
      "[CV 7/10] END lr__C=10, lr__max_iter=500, lr__penalty=l2, lr__solver=liblinear;, score=(train=0.931, test=0.929) total time=   2.6s\n",
      "[CV 8/10] END lr__C=10, lr__max_iter=500, lr__penalty=l2, lr__solver=liblinear;, score=(train=0.932, test=0.933) total time=   2.6s\n",
      "[CV 9/10] END lr__C=10, lr__max_iter=500, lr__penalty=l2, lr__solver=liblinear;, score=(train=0.933, test=0.931) total time=   3.8s\n",
      "[CV 10/10] END lr__C=10, lr__max_iter=500, lr__penalty=l2, lr__solver=liblinear;, score=(train=0.932, test=0.932) total time=   2.9s\n",
      "[CV 1/10] END lr__C=10, lr__max_iter=500, lr__penalty=l2, lr__solver=sag;, score=(train=0.933, test=0.933) total time=   5.5s\n",
      "[CV 2/10] END lr__C=10, lr__max_iter=500, lr__penalty=l2, lr__solver=sag;, score=(train=0.931, test=0.932) total time=   6.0s\n",
      "[CV 3/10] END lr__C=10, lr__max_iter=500, lr__penalty=l2, lr__solver=sag;, score=(train=0.931, test=0.932) total time=   6.4s\n",
      "[CV 4/10] END lr__C=10, lr__max_iter=500, lr__penalty=l2, lr__solver=sag;, score=(train=0.931, test=0.931) total time=   5.1s\n",
      "[CV 5/10] END lr__C=10, lr__max_iter=500, lr__penalty=l2, lr__solver=sag;, score=(train=0.931, test=0.932) total time=   5.0s\n",
      "[CV 6/10] END lr__C=10, lr__max_iter=500, lr__penalty=l2, lr__solver=sag;, score=(train=0.931, test=0.934) total time=   5.1s\n",
      "[CV 7/10] END lr__C=10, lr__max_iter=500, lr__penalty=l2, lr__solver=sag;, score=(train=0.931, test=0.929) total time=   5.3s\n",
      "[CV 8/10] END lr__C=10, lr__max_iter=500, lr__penalty=l2, lr__solver=sag;, score=(train=0.932, test=0.933) total time=   5.2s\n",
      "[CV 9/10] END lr__C=10, lr__max_iter=500, lr__penalty=l2, lr__solver=sag;, score=(train=0.933, test=0.931) total time=   5.5s\n",
      "[CV 10/10] END lr__C=10, lr__max_iter=500, lr__penalty=l2, lr__solver=sag;, score=(train=0.931, test=0.932) total time=   5.5s\n",
      "[CV 1/10] END lr__C=10, lr__max_iter=100, lr__penalty=l2, lr__solver=sag;, score=(train=0.932, test=0.933) total time=   4.9s\n",
      "[CV 2/10] END lr__C=10, lr__max_iter=100, lr__penalty=l2, lr__solver=sag;, score=(train=0.932, test=0.932) total time=   4.9s\n",
      "[CV 3/10] END lr__C=10, lr__max_iter=100, lr__penalty=l2, lr__solver=sag;, score=(train=0.931, test=0.932) total time=   5.2s\n",
      "[CV 4/10] END lr__C=10, lr__max_iter=100, lr__penalty=l2, lr__solver=sag;, score=(train=0.931, test=0.931) total time=   4.0s\n",
      "[CV 5/10] END lr__C=10, lr__max_iter=100, lr__penalty=l2, lr__solver=sag;, score=(train=0.931, test=0.932) total time=   4.2s\n",
      "[CV 6/10] END lr__C=10, lr__max_iter=100, lr__penalty=l2, lr__solver=sag;, score=(train=0.931, test=0.934) total time=   4.5s\n",
      "[CV 7/10] END lr__C=10, lr__max_iter=100, lr__penalty=l2, lr__solver=sag;, score=(train=0.931, test=0.929) total time=   5.5s\n",
      "[CV 8/10] END lr__C=10, lr__max_iter=100, lr__penalty=l2, lr__solver=sag;, score=(train=0.932, test=0.933) total time=   6.3s\n",
      "[CV 9/10] END lr__C=10, lr__max_iter=100, lr__penalty=l2, lr__solver=sag;, score=(train=0.933, test=0.931) total time=   6.2s\n",
      "[CV 10/10] END lr__C=10, lr__max_iter=100, lr__penalty=l2, lr__solver=sag;, score=(train=0.931, test=0.932) total time=   7.5s\n"
     ]
    },
    {
     "name": "stderr",
     "output_type": "stream",
     "text": [
      "/opt/conda/lib/python3.7/site-packages/sklearn/linear_model/_logistic.py:818: ConvergenceWarning: lbfgs failed to converge (status=1):\n",
      "STOP: TOTAL NO. of ITERATIONS REACHED LIMIT.\n",
      "\n",
      "Increase the number of iterations (max_iter) or scale the data as shown in:\n",
      "    https://scikit-learn.org/stable/modules/preprocessing.html\n",
      "Please also refer to the documentation for alternative solver options:\n",
      "    https://scikit-learn.org/stable/modules/linear_model.html#logistic-regression\n",
      "  extra_warning_msg=_LOGISTIC_SOLVER_CONVERGENCE_MSG,\n"
     ]
    },
    {
     "name": "stdout",
     "output_type": "stream",
     "text": [
      "[CV 1/10] END lr__C=100, lr__max_iter=100, lr__penalty=l2, lr__solver=lbfgs;, score=(train=0.932, test=0.933) total time=   2.3s\n"
     ]
    },
    {
     "name": "stderr",
     "output_type": "stream",
     "text": [
      "/opt/conda/lib/python3.7/site-packages/sklearn/linear_model/_logistic.py:818: ConvergenceWarning: lbfgs failed to converge (status=1):\n",
      "STOP: TOTAL NO. of ITERATIONS REACHED LIMIT.\n",
      "\n",
      "Increase the number of iterations (max_iter) or scale the data as shown in:\n",
      "    https://scikit-learn.org/stable/modules/preprocessing.html\n",
      "Please also refer to the documentation for alternative solver options:\n",
      "    https://scikit-learn.org/stable/modules/linear_model.html#logistic-regression\n",
      "  extra_warning_msg=_LOGISTIC_SOLVER_CONVERGENCE_MSG,\n"
     ]
    },
    {
     "name": "stdout",
     "output_type": "stream",
     "text": [
      "[CV 2/10] END lr__C=100, lr__max_iter=100, lr__penalty=l2, lr__solver=lbfgs;, score=(train=0.931, test=0.932) total time=   2.4s\n"
     ]
    },
    {
     "name": "stderr",
     "output_type": "stream",
     "text": [
      "/opt/conda/lib/python3.7/site-packages/sklearn/linear_model/_logistic.py:818: ConvergenceWarning: lbfgs failed to converge (status=1):\n",
      "STOP: TOTAL NO. of ITERATIONS REACHED LIMIT.\n",
      "\n",
      "Increase the number of iterations (max_iter) or scale the data as shown in:\n",
      "    https://scikit-learn.org/stable/modules/preprocessing.html\n",
      "Please also refer to the documentation for alternative solver options:\n",
      "    https://scikit-learn.org/stable/modules/linear_model.html#logistic-regression\n",
      "  extra_warning_msg=_LOGISTIC_SOLVER_CONVERGENCE_MSG,\n"
     ]
    },
    {
     "name": "stdout",
     "output_type": "stream",
     "text": [
      "[CV 3/10] END lr__C=100, lr__max_iter=100, lr__penalty=l2, lr__solver=lbfgs;, score=(train=0.930, test=0.932) total time=   2.2s\n"
     ]
    },
    {
     "name": "stderr",
     "output_type": "stream",
     "text": [
      "/opt/conda/lib/python3.7/site-packages/sklearn/linear_model/_logistic.py:818: ConvergenceWarning: lbfgs failed to converge (status=1):\n",
      "STOP: TOTAL NO. of ITERATIONS REACHED LIMIT.\n",
      "\n",
      "Increase the number of iterations (max_iter) or scale the data as shown in:\n",
      "    https://scikit-learn.org/stable/modules/preprocessing.html\n",
      "Please also refer to the documentation for alternative solver options:\n",
      "    https://scikit-learn.org/stable/modules/linear_model.html#logistic-regression\n",
      "  extra_warning_msg=_LOGISTIC_SOLVER_CONVERGENCE_MSG,\n"
     ]
    },
    {
     "name": "stdout",
     "output_type": "stream",
     "text": [
      "[CV 4/10] END lr__C=100, lr__max_iter=100, lr__penalty=l2, lr__solver=lbfgs;, score=(train=0.931, test=0.931) total time=   2.3s\n"
     ]
    },
    {
     "name": "stderr",
     "output_type": "stream",
     "text": [
      "/opt/conda/lib/python3.7/site-packages/sklearn/linear_model/_logistic.py:818: ConvergenceWarning: lbfgs failed to converge (status=1):\n",
      "STOP: TOTAL NO. of ITERATIONS REACHED LIMIT.\n",
      "\n",
      "Increase the number of iterations (max_iter) or scale the data as shown in:\n",
      "    https://scikit-learn.org/stable/modules/preprocessing.html\n",
      "Please also refer to the documentation for alternative solver options:\n",
      "    https://scikit-learn.org/stable/modules/linear_model.html#logistic-regression\n",
      "  extra_warning_msg=_LOGISTIC_SOLVER_CONVERGENCE_MSG,\n"
     ]
    },
    {
     "name": "stdout",
     "output_type": "stream",
     "text": [
      "[CV 5/10] END lr__C=100, lr__max_iter=100, lr__penalty=l2, lr__solver=lbfgs;, score=(train=0.932, test=0.932) total time=   2.2s\n"
     ]
    },
    {
     "name": "stderr",
     "output_type": "stream",
     "text": [
      "/opt/conda/lib/python3.7/site-packages/sklearn/linear_model/_logistic.py:818: ConvergenceWarning: lbfgs failed to converge (status=1):\n",
      "STOP: TOTAL NO. of ITERATIONS REACHED LIMIT.\n",
      "\n",
      "Increase the number of iterations (max_iter) or scale the data as shown in:\n",
      "    https://scikit-learn.org/stable/modules/preprocessing.html\n",
      "Please also refer to the documentation for alternative solver options:\n",
      "    https://scikit-learn.org/stable/modules/linear_model.html#logistic-regression\n",
      "  extra_warning_msg=_LOGISTIC_SOLVER_CONVERGENCE_MSG,\n"
     ]
    },
    {
     "name": "stdout",
     "output_type": "stream",
     "text": [
      "[CV 6/10] END lr__C=100, lr__max_iter=100, lr__penalty=l2, lr__solver=lbfgs;, score=(train=0.931, test=0.934) total time=   2.7s\n"
     ]
    },
    {
     "name": "stderr",
     "output_type": "stream",
     "text": [
      "/opt/conda/lib/python3.7/site-packages/sklearn/linear_model/_logistic.py:818: ConvergenceWarning: lbfgs failed to converge (status=1):\n",
      "STOP: TOTAL NO. of ITERATIONS REACHED LIMIT.\n",
      "\n",
      "Increase the number of iterations (max_iter) or scale the data as shown in:\n",
      "    https://scikit-learn.org/stable/modules/preprocessing.html\n",
      "Please also refer to the documentation for alternative solver options:\n",
      "    https://scikit-learn.org/stable/modules/linear_model.html#logistic-regression\n",
      "  extra_warning_msg=_LOGISTIC_SOLVER_CONVERGENCE_MSG,\n"
     ]
    },
    {
     "name": "stdout",
     "output_type": "stream",
     "text": [
      "[CV 7/10] END lr__C=100, lr__max_iter=100, lr__penalty=l2, lr__solver=lbfgs;, score=(train=0.931, test=0.929) total time=   2.5s\n"
     ]
    },
    {
     "name": "stderr",
     "output_type": "stream",
     "text": [
      "/opt/conda/lib/python3.7/site-packages/sklearn/linear_model/_logistic.py:818: ConvergenceWarning: lbfgs failed to converge (status=1):\n",
      "STOP: TOTAL NO. of ITERATIONS REACHED LIMIT.\n",
      "\n",
      "Increase the number of iterations (max_iter) or scale the data as shown in:\n",
      "    https://scikit-learn.org/stable/modules/preprocessing.html\n",
      "Please also refer to the documentation for alternative solver options:\n",
      "    https://scikit-learn.org/stable/modules/linear_model.html#logistic-regression\n",
      "  extra_warning_msg=_LOGISTIC_SOLVER_CONVERGENCE_MSG,\n"
     ]
    },
    {
     "name": "stdout",
     "output_type": "stream",
     "text": [
      "[CV 8/10] END lr__C=100, lr__max_iter=100, lr__penalty=l2, lr__solver=lbfgs;, score=(train=0.932, test=0.933) total time=   2.2s\n"
     ]
    },
    {
     "name": "stderr",
     "output_type": "stream",
     "text": [
      "/opt/conda/lib/python3.7/site-packages/sklearn/linear_model/_logistic.py:818: ConvergenceWarning: lbfgs failed to converge (status=1):\n",
      "STOP: TOTAL NO. of ITERATIONS REACHED LIMIT.\n",
      "\n",
      "Increase the number of iterations (max_iter) or scale the data as shown in:\n",
      "    https://scikit-learn.org/stable/modules/preprocessing.html\n",
      "Please also refer to the documentation for alternative solver options:\n",
      "    https://scikit-learn.org/stable/modules/linear_model.html#logistic-regression\n",
      "  extra_warning_msg=_LOGISTIC_SOLVER_CONVERGENCE_MSG,\n"
     ]
    },
    {
     "name": "stdout",
     "output_type": "stream",
     "text": [
      "[CV 9/10] END lr__C=100, lr__max_iter=100, lr__penalty=l2, lr__solver=lbfgs;, score=(train=0.933, test=0.932) total time=   2.3s\n"
     ]
    },
    {
     "name": "stderr",
     "output_type": "stream",
     "text": [
      "/opt/conda/lib/python3.7/site-packages/sklearn/linear_model/_logistic.py:818: ConvergenceWarning: lbfgs failed to converge (status=1):\n",
      "STOP: TOTAL NO. of ITERATIONS REACHED LIMIT.\n",
      "\n",
      "Increase the number of iterations (max_iter) or scale the data as shown in:\n",
      "    https://scikit-learn.org/stable/modules/preprocessing.html\n",
      "Please also refer to the documentation for alternative solver options:\n",
      "    https://scikit-learn.org/stable/modules/linear_model.html#logistic-regression\n",
      "  extra_warning_msg=_LOGISTIC_SOLVER_CONVERGENCE_MSG,\n"
     ]
    },
    {
     "name": "stdout",
     "output_type": "stream",
     "text": [
      "[CV 10/10] END lr__C=100, lr__max_iter=100, lr__penalty=l2, lr__solver=lbfgs;, score=(train=0.931, test=0.931) total time=   2.3s\n",
      "[CV 1/10] END lr__C=100, lr__max_iter=500, lr__penalty=l2, lr__solver=saga;, score=(train=0.933, test=0.933) total time=  15.1s\n",
      "[CV 2/10] END lr__C=100, lr__max_iter=500, lr__penalty=l2, lr__solver=saga;, score=(train=0.932, test=0.932) total time=  17.2s\n",
      "[CV 3/10] END lr__C=100, lr__max_iter=500, lr__penalty=l2, lr__solver=saga;, score=(train=0.931, test=0.932) total time=  16.0s\n",
      "[CV 4/10] END lr__C=100, lr__max_iter=500, lr__penalty=l2, lr__solver=saga;, score=(train=0.931, test=0.931) total time=  13.7s\n",
      "[CV 5/10] END lr__C=100, lr__max_iter=500, lr__penalty=l2, lr__solver=saga;, score=(train=0.932, test=0.931) total time=  16.0s\n",
      "[CV 6/10] END lr__C=100, lr__max_iter=500, lr__penalty=l2, lr__solver=saga;, score=(train=0.931, test=0.934) total time=   8.2s\n",
      "[CV 7/10] END lr__C=100, lr__max_iter=500, lr__penalty=l2, lr__solver=saga;, score=(train=0.932, test=0.929) total time=   6.0s\n",
      "[CV 8/10] END lr__C=100, lr__max_iter=500, lr__penalty=l2, lr__solver=saga;, score=(train=0.932, test=0.933) total time=   7.7s\n",
      "[CV 9/10] END lr__C=100, lr__max_iter=500, lr__penalty=l2, lr__solver=saga;, score=(train=0.933, test=0.932) total time=  19.0s\n",
      "[CV 10/10] END lr__C=100, lr__max_iter=500, lr__penalty=l2, lr__solver=saga;, score=(train=0.932, test=0.932) total time=  16.4s\n",
      "[CV 1/10] END lr__C=100, lr__max_iter=100, lr__penalty=l2, lr__solver=sag;, score=(train=0.933, test=0.933) total time=  10.2s\n",
      "[CV 2/10] END lr__C=100, lr__max_iter=100, lr__penalty=l2, lr__solver=sag;, score=(train=0.932, test=0.932) total time=  10.9s\n",
      "[CV 3/10] END lr__C=100, lr__max_iter=100, lr__penalty=l2, lr__solver=sag;, score=(train=0.931, test=0.932) total time=  10.5s\n",
      "[CV 4/10] END lr__C=100, lr__max_iter=100, lr__penalty=l2, lr__solver=sag;, score=(train=0.931, test=0.931) total time=   8.8s\n",
      "[CV 5/10] END lr__C=100, lr__max_iter=100, lr__penalty=l2, lr__solver=sag;, score=(train=0.932, test=0.931) total time=  10.6s\n",
      "[CV 6/10] END lr__C=100, lr__max_iter=100, lr__penalty=l2, lr__solver=sag;, score=(train=0.931, test=0.934) total time=   5.6s\n",
      "[CV 7/10] END lr__C=100, lr__max_iter=100, lr__penalty=l2, lr__solver=sag;, score=(train=0.932, test=0.929) total time=   4.9s\n",
      "[CV 8/10] END lr__C=100, lr__max_iter=100, lr__penalty=l2, lr__solver=sag;, score=(train=0.932, test=0.933) total time=   5.1s\n"
     ]
    },
    {
     "name": "stderr",
     "output_type": "stream",
     "text": [
      "/opt/conda/lib/python3.7/site-packages/sklearn/linear_model/_sag.py:354: ConvergenceWarning: The max_iter was reached which means the coef_ did not converge\n",
      "  ConvergenceWarning,\n"
     ]
    },
    {
     "name": "stdout",
     "output_type": "stream",
     "text": [
      "[CV 9/10] END lr__C=100, lr__max_iter=100, lr__penalty=l2, lr__solver=sag;, score=(train=0.933, test=0.932) total time=  11.3s\n",
      "[CV 10/10] END lr__C=100, lr__max_iter=100, lr__penalty=l2, lr__solver=sag;, score=(train=0.932, test=0.932) total time=  10.5s\n",
      "[CV 1/10] END lr__C=100, lr__max_iter=100, lr__penalty=l2, lr__solver=liblinear;, score=(train=0.933, test=0.933) total time=   4.4s\n",
      "[CV 2/10] END lr__C=100, lr__max_iter=100, lr__penalty=l2, lr__solver=liblinear;, score=(train=0.932, test=0.932) total time=   4.0s\n",
      "[CV 3/10] END lr__C=100, lr__max_iter=100, lr__penalty=l2, lr__solver=liblinear;, score=(train=0.931, test=0.932) total time=   4.4s\n",
      "[CV 4/10] END lr__C=100, lr__max_iter=100, lr__penalty=l2, lr__solver=liblinear;, score=(train=0.931, test=0.931) total time=   4.5s\n",
      "[CV 5/10] END lr__C=100, lr__max_iter=100, lr__penalty=l2, lr__solver=liblinear;, score=(train=0.932, test=0.931) total time=   3.9s\n",
      "[CV 6/10] END lr__C=100, lr__max_iter=100, lr__penalty=l2, lr__solver=liblinear;, score=(train=0.931, test=0.934) total time=   3.9s\n",
      "[CV 7/10] END lr__C=100, lr__max_iter=100, lr__penalty=l2, lr__solver=liblinear;, score=(train=0.932, test=0.929) total time=   3.5s\n",
      "[CV 8/10] END lr__C=100, lr__max_iter=100, lr__penalty=l2, lr__solver=liblinear;, score=(train=0.932, test=0.933) total time=   3.4s\n",
      "[CV 9/10] END lr__C=100, lr__max_iter=100, lr__penalty=l2, lr__solver=liblinear;, score=(train=0.933, test=0.932) total time=   4.1s\n",
      "[CV 10/10] END lr__C=100, lr__max_iter=100, lr__penalty=l2, lr__solver=liblinear;, score=(train=0.932, test=0.932) total time=   4.2s\n",
      "[CV 1/10] END lr__C=100, lr__max_iter=500, lr__penalty=l2, lr__solver=liblinear;, score=(train=0.933, test=0.933) total time=   4.3s\n",
      "[CV 2/10] END lr__C=100, lr__max_iter=500, lr__penalty=l2, lr__solver=liblinear;, score=(train=0.932, test=0.932) total time=   4.0s\n",
      "[CV 3/10] END lr__C=100, lr__max_iter=500, lr__penalty=l2, lr__solver=liblinear;, score=(train=0.931, test=0.932) total time=   4.3s\n",
      "[CV 4/10] END lr__C=100, lr__max_iter=500, lr__penalty=l2, lr__solver=liblinear;, score=(train=0.931, test=0.931) total time=   4.1s\n",
      "[CV 5/10] END lr__C=100, lr__max_iter=500, lr__penalty=l2, lr__solver=liblinear;, score=(train=0.932, test=0.931) total time=   3.8s\n",
      "[CV 6/10] END lr__C=100, lr__max_iter=500, lr__penalty=l2, lr__solver=liblinear;, score=(train=0.931, test=0.934) total time=   3.9s\n",
      "[CV 7/10] END lr__C=100, lr__max_iter=500, lr__penalty=l2, lr__solver=liblinear;, score=(train=0.932, test=0.929) total time=   3.4s\n",
      "[CV 8/10] END lr__C=100, lr__max_iter=500, lr__penalty=l2, lr__solver=liblinear;, score=(train=0.932, test=0.933) total time=   3.2s\n",
      "[CV 9/10] END lr__C=100, lr__max_iter=500, lr__penalty=l2, lr__solver=liblinear;, score=(train=0.933, test=0.932) total time=   3.9s\n",
      "[CV 10/10] END lr__C=100, lr__max_iter=500, lr__penalty=l2, lr__solver=liblinear;, score=(train=0.932, test=0.932) total time=   4.1s\n"
     ]
    },
    {
     "name": "stderr",
     "output_type": "stream",
     "text": [
      "/opt/conda/lib/python3.7/site-packages/sklearn/linear_model/_logistic.py:818: ConvergenceWarning: lbfgs failed to converge (status=1):\n",
      "STOP: TOTAL NO. of ITERATIONS REACHED LIMIT.\n",
      "\n",
      "Increase the number of iterations (max_iter) or scale the data as shown in:\n",
      "    https://scikit-learn.org/stable/modules/preprocessing.html\n",
      "Please also refer to the documentation for alternative solver options:\n",
      "    https://scikit-learn.org/stable/modules/linear_model.html#logistic-regression\n",
      "  extra_warning_msg=_LOGISTIC_SOLVER_CONVERGENCE_MSG,\n"
     ]
    },
    {
     "name": "stdout",
     "output_type": "stream",
     "text": [
      "[CV 1/10] END lr__C=100, lr__max_iter=500, lr__penalty=l2, lr__solver=lbfgs;, score=(train=0.933, test=0.933) total time=  11.7s\n"
     ]
    },
    {
     "name": "stderr",
     "output_type": "stream",
     "text": [
      "/opt/conda/lib/python3.7/site-packages/sklearn/linear_model/_logistic.py:818: ConvergenceWarning: lbfgs failed to converge (status=1):\n",
      "STOP: TOTAL NO. of ITERATIONS REACHED LIMIT.\n",
      "\n",
      "Increase the number of iterations (max_iter) or scale the data as shown in:\n",
      "    https://scikit-learn.org/stable/modules/preprocessing.html\n",
      "Please also refer to the documentation for alternative solver options:\n",
      "    https://scikit-learn.org/stable/modules/linear_model.html#logistic-regression\n",
      "  extra_warning_msg=_LOGISTIC_SOLVER_CONVERGENCE_MSG,\n"
     ]
    },
    {
     "name": "stdout",
     "output_type": "stream",
     "text": [
      "[CV 2/10] END lr__C=100, lr__max_iter=500, lr__penalty=l2, lr__solver=lbfgs;, score=(train=0.932, test=0.932) total time=  10.7s\n"
     ]
    },
    {
     "name": "stderr",
     "output_type": "stream",
     "text": [
      "/opt/conda/lib/python3.7/site-packages/sklearn/linear_model/_logistic.py:818: ConvergenceWarning: lbfgs failed to converge (status=1):\n",
      "STOP: TOTAL NO. of ITERATIONS REACHED LIMIT.\n",
      "\n",
      "Increase the number of iterations (max_iter) or scale the data as shown in:\n",
      "    https://scikit-learn.org/stable/modules/preprocessing.html\n",
      "Please also refer to the documentation for alternative solver options:\n",
      "    https://scikit-learn.org/stable/modules/linear_model.html#logistic-regression\n",
      "  extra_warning_msg=_LOGISTIC_SOLVER_CONVERGENCE_MSG,\n"
     ]
    },
    {
     "name": "stdout",
     "output_type": "stream",
     "text": [
      "[CV 3/10] END lr__C=100, lr__max_iter=500, lr__penalty=l2, lr__solver=lbfgs;, score=(train=0.931, test=0.932) total time=  10.8s\n"
     ]
    },
    {
     "name": "stderr",
     "output_type": "stream",
     "text": [
      "/opt/conda/lib/python3.7/site-packages/sklearn/linear_model/_logistic.py:818: ConvergenceWarning: lbfgs failed to converge (status=1):\n",
      "STOP: TOTAL NO. of ITERATIONS REACHED LIMIT.\n",
      "\n",
      "Increase the number of iterations (max_iter) or scale the data as shown in:\n",
      "    https://scikit-learn.org/stable/modules/preprocessing.html\n",
      "Please also refer to the documentation for alternative solver options:\n",
      "    https://scikit-learn.org/stable/modules/linear_model.html#logistic-regression\n",
      "  extra_warning_msg=_LOGISTIC_SOLVER_CONVERGENCE_MSG,\n"
     ]
    },
    {
     "name": "stdout",
     "output_type": "stream",
     "text": [
      "[CV 4/10] END lr__C=100, lr__max_iter=500, lr__penalty=l2, lr__solver=lbfgs;, score=(train=0.931, test=0.931) total time=  11.3s\n"
     ]
    },
    {
     "name": "stderr",
     "output_type": "stream",
     "text": [
      "/opt/conda/lib/python3.7/site-packages/sklearn/linear_model/_logistic.py:818: ConvergenceWarning: lbfgs failed to converge (status=1):\n",
      "STOP: TOTAL NO. of ITERATIONS REACHED LIMIT.\n",
      "\n",
      "Increase the number of iterations (max_iter) or scale the data as shown in:\n",
      "    https://scikit-learn.org/stable/modules/preprocessing.html\n",
      "Please also refer to the documentation for alternative solver options:\n",
      "    https://scikit-learn.org/stable/modules/linear_model.html#logistic-regression\n",
      "  extra_warning_msg=_LOGISTIC_SOLVER_CONVERGENCE_MSG,\n"
     ]
    },
    {
     "name": "stdout",
     "output_type": "stream",
     "text": [
      "[CV 5/10] END lr__C=100, lr__max_iter=500, lr__penalty=l2, lr__solver=lbfgs;, score=(train=0.932, test=0.931) total time=  10.7s\n",
      "[CV 6/10] END lr__C=100, lr__max_iter=500, lr__penalty=l2, lr__solver=lbfgs;, score=(train=0.931, test=0.934) total time=  10.7s\n",
      "[CV 7/10] END lr__C=100, lr__max_iter=500, lr__penalty=l2, lr__solver=lbfgs;, score=(train=0.932, test=0.929) total time=   9.0s\n",
      "[CV 8/10] END lr__C=100, lr__max_iter=500, lr__penalty=l2, lr__solver=lbfgs;, score=(train=0.932, test=0.933) total time=   9.2s\n"
     ]
    },
    {
     "name": "stderr",
     "output_type": "stream",
     "text": [
      "/opt/conda/lib/python3.7/site-packages/sklearn/linear_model/_logistic.py:818: ConvergenceWarning: lbfgs failed to converge (status=1):\n",
      "STOP: TOTAL NO. of ITERATIONS REACHED LIMIT.\n",
      "\n",
      "Increase the number of iterations (max_iter) or scale the data as shown in:\n",
      "    https://scikit-learn.org/stable/modules/preprocessing.html\n",
      "Please also refer to the documentation for alternative solver options:\n",
      "    https://scikit-learn.org/stable/modules/linear_model.html#logistic-regression\n",
      "  extra_warning_msg=_LOGISTIC_SOLVER_CONVERGENCE_MSG,\n"
     ]
    },
    {
     "name": "stdout",
     "output_type": "stream",
     "text": [
      "[CV 9/10] END lr__C=100, lr__max_iter=500, lr__penalty=l2, lr__solver=lbfgs;, score=(train=0.933, test=0.932) total time=  11.4s\n",
      "[CV 10/10] END lr__C=100, lr__max_iter=500, lr__penalty=l2, lr__solver=lbfgs;, score=(train=0.932, test=0.932) total time=  10.8s\n",
      "[CV 1/10] END lr__C=100, lr__max_iter=500, lr__penalty=l2, lr__solver=sag;, score=(train=0.933, test=0.933) total time=   9.9s\n",
      "[CV 2/10] END lr__C=100, lr__max_iter=500, lr__penalty=l2, lr__solver=sag;, score=(train=0.932, test=0.932) total time=  11.0s\n",
      "[CV 3/10] END lr__C=100, lr__max_iter=500, lr__penalty=l2, lr__solver=sag;, score=(train=0.931, test=0.932) total time=  11.6s\n",
      "[CV 4/10] END lr__C=100, lr__max_iter=500, lr__penalty=l2, lr__solver=sag;, score=(train=0.931, test=0.931) total time=   7.2s\n",
      "[CV 5/10] END lr__C=100, lr__max_iter=500, lr__penalty=l2, lr__solver=sag;, score=(train=0.932, test=0.931) total time=  10.8s\n",
      "[CV 6/10] END lr__C=100, lr__max_iter=500, lr__penalty=l2, lr__solver=sag;, score=(train=0.931, test=0.934) total time=   6.6s\n",
      "[CV 7/10] END lr__C=100, lr__max_iter=500, lr__penalty=l2, lr__solver=sag;, score=(train=0.932, test=0.929) total time=   4.8s\n",
      "[CV 8/10] END lr__C=100, lr__max_iter=500, lr__penalty=l2, lr__solver=sag;, score=(train=0.932, test=0.933) total time=   5.9s\n",
      "[CV 9/10] END lr__C=100, lr__max_iter=500, lr__penalty=l2, lr__solver=sag;, score=(train=0.933, test=0.932) total time=  12.9s\n",
      "[CV 10/10] END lr__C=100, lr__max_iter=500, lr__penalty=l2, lr__solver=sag;, score=(train=0.932, test=0.932) total time=  10.2s\n"
     ]
    },
    {
     "name": "stderr",
     "output_type": "stream",
     "text": [
      "/opt/conda/lib/python3.7/site-packages/sklearn/linear_model/_sag.py:354: ConvergenceWarning: The max_iter was reached which means the coef_ did not converge\n",
      "  ConvergenceWarning,\n"
     ]
    },
    {
     "name": "stdout",
     "output_type": "stream",
     "text": [
      "[CV 1/10] END lr__C=100, lr__max_iter=100, lr__penalty=l2, lr__solver=saga;, score=(train=0.933, test=0.933) total time=  12.7s\n"
     ]
    },
    {
     "name": "stderr",
     "output_type": "stream",
     "text": [
      "/opt/conda/lib/python3.7/site-packages/sklearn/linear_model/_sag.py:354: ConvergenceWarning: The max_iter was reached which means the coef_ did not converge\n",
      "  ConvergenceWarning,\n"
     ]
    },
    {
     "name": "stdout",
     "output_type": "stream",
     "text": [
      "[CV 2/10] END lr__C=100, lr__max_iter=100, lr__penalty=l2, lr__solver=saga;, score=(train=0.932, test=0.932) total time=  12.0s\n"
     ]
    },
    {
     "name": "stderr",
     "output_type": "stream",
     "text": [
      "/opt/conda/lib/python3.7/site-packages/sklearn/linear_model/_sag.py:354: ConvergenceWarning: The max_iter was reached which means the coef_ did not converge\n",
      "  ConvergenceWarning,\n"
     ]
    },
    {
     "name": "stdout",
     "output_type": "stream",
     "text": [
      "[CV 3/10] END lr__C=100, lr__max_iter=100, lr__penalty=l2, lr__solver=saga;, score=(train=0.931, test=0.932) total time=  12.6s\n"
     ]
    },
    {
     "name": "stderr",
     "output_type": "stream",
     "text": [
      "/opt/conda/lib/python3.7/site-packages/sklearn/linear_model/_sag.py:354: ConvergenceWarning: The max_iter was reached which means the coef_ did not converge\n",
      "  ConvergenceWarning,\n"
     ]
    },
    {
     "name": "stdout",
     "output_type": "stream",
     "text": [
      "[CV 4/10] END lr__C=100, lr__max_iter=100, lr__penalty=l2, lr__solver=saga;, score=(train=0.931, test=0.931) total time=  12.1s\n"
     ]
    },
    {
     "name": "stderr",
     "output_type": "stream",
     "text": [
      "/opt/conda/lib/python3.7/site-packages/sklearn/linear_model/_sag.py:354: ConvergenceWarning: The max_iter was reached which means the coef_ did not converge\n",
      "  ConvergenceWarning,\n"
     ]
    },
    {
     "name": "stdout",
     "output_type": "stream",
     "text": [
      "[CV 5/10] END lr__C=100, lr__max_iter=100, lr__penalty=l2, lr__solver=saga;, score=(train=0.932, test=0.931) total time=  12.6s\n",
      "[CV 6/10] END lr__C=100, lr__max_iter=100, lr__penalty=l2, lr__solver=saga;, score=(train=0.931, test=0.934) total time=   8.1s\n",
      "[CV 7/10] END lr__C=100, lr__max_iter=100, lr__penalty=l2, lr__solver=saga;, score=(train=0.932, test=0.929) total time=   5.8s\n",
      "[CV 8/10] END lr__C=100, lr__max_iter=100, lr__penalty=l2, lr__solver=saga;, score=(train=0.932, test=0.933) total time=   7.6s\n"
     ]
    },
    {
     "name": "stderr",
     "output_type": "stream",
     "text": [
      "/opt/conda/lib/python3.7/site-packages/sklearn/linear_model/_sag.py:354: ConvergenceWarning: The max_iter was reached which means the coef_ did not converge\n",
      "  ConvergenceWarning,\n"
     ]
    },
    {
     "name": "stdout",
     "output_type": "stream",
     "text": [
      "[CV 9/10] END lr__C=100, lr__max_iter=100, lr__penalty=l2, lr__solver=saga;, score=(train=0.933, test=0.932) total time=  12.6s\n"
     ]
    },
    {
     "name": "stderr",
     "output_type": "stream",
     "text": [
      "/opt/conda/lib/python3.7/site-packages/sklearn/linear_model/_sag.py:354: ConvergenceWarning: The max_iter was reached which means the coef_ did not converge\n",
      "  ConvergenceWarning,\n"
     ]
    },
    {
     "name": "stdout",
     "output_type": "stream",
     "text": [
      "[CV 10/10] END lr__C=100, lr__max_iter=100, lr__penalty=l2, lr__solver=saga;, score=(train=0.932, test=0.932) total time=  12.0s\n",
      "[CV 1/10] END lr__C=100, lr__max_iter=100, lr__penalty=l2, lr__solver=newton-cg;, score=(train=0.933, test=0.933) total time=  14.4s\n",
      "[CV 2/10] END lr__C=100, lr__max_iter=100, lr__penalty=l2, lr__solver=newton-cg;, score=(train=0.932, test=0.932) total time=  16.0s\n",
      "[CV 3/10] END lr__C=100, lr__max_iter=100, lr__penalty=l2, lr__solver=newton-cg;, score=(train=0.931, test=0.932) total time=  15.7s\n",
      "[CV 4/10] END lr__C=100, lr__max_iter=100, lr__penalty=l2, lr__solver=newton-cg;, score=(train=0.931, test=0.931) total time=  12.7s\n",
      "[CV 5/10] END lr__C=100, lr__max_iter=100, lr__penalty=l2, lr__solver=newton-cg;, score=(train=0.932, test=0.931) total time=  12.5s\n",
      "[CV 6/10] END lr__C=100, lr__max_iter=100, lr__penalty=l2, lr__solver=newton-cg;, score=(train=0.931, test=0.934) total time=  11.0s\n",
      "[CV 7/10] END lr__C=100, lr__max_iter=100, lr__penalty=l2, lr__solver=newton-cg;, score=(train=0.932, test=0.929) total time=  13.6s\n",
      "[CV 8/10] END lr__C=100, lr__max_iter=100, lr__penalty=l2, lr__solver=newton-cg;, score=(train=0.932, test=0.933) total time=  13.0s\n",
      "[CV 9/10] END lr__C=100, lr__max_iter=100, lr__penalty=l2, lr__solver=newton-cg;, score=(train=0.933, test=0.932) total time=  16.2s\n",
      "[CV 10/10] END lr__C=100, lr__max_iter=100, lr__penalty=l2, lr__solver=newton-cg;, score=(train=0.932, test=0.932) total time=  13.8s\n",
      "[CV 1/10] END lr__C=100, lr__max_iter=500, lr__penalty=l2, lr__solver=newton-cg;, score=(train=0.933, test=0.933) total time=  13.8s\n",
      "[CV 2/10] END lr__C=100, lr__max_iter=500, lr__penalty=l2, lr__solver=newton-cg;, score=(train=0.932, test=0.932) total time=  16.2s\n",
      "[CV 3/10] END lr__C=100, lr__max_iter=500, lr__penalty=l2, lr__solver=newton-cg;, score=(train=0.931, test=0.932) total time=  15.1s\n",
      "[CV 4/10] END lr__C=100, lr__max_iter=500, lr__penalty=l2, lr__solver=newton-cg;, score=(train=0.931, test=0.931) total time=  12.9s\n",
      "[CV 5/10] END lr__C=100, lr__max_iter=500, lr__penalty=l2, lr__solver=newton-cg;, score=(train=0.932, test=0.931) total time=  12.6s\n",
      "[CV 6/10] END lr__C=100, lr__max_iter=500, lr__penalty=l2, lr__solver=newton-cg;, score=(train=0.931, test=0.934) total time=  11.2s\n",
      "[CV 7/10] END lr__C=100, lr__max_iter=500, lr__penalty=l2, lr__solver=newton-cg;, score=(train=0.932, test=0.929) total time=  13.2s\n",
      "[CV 8/10] END lr__C=100, lr__max_iter=500, lr__penalty=l2, lr__solver=newton-cg;, score=(train=0.932, test=0.933) total time=  12.9s\n",
      "[CV 9/10] END lr__C=100, lr__max_iter=500, lr__penalty=l2, lr__solver=newton-cg;, score=(train=0.933, test=0.932) total time=  16.2s\n",
      "[CV 10/10] END lr__C=100, lr__max_iter=500, lr__penalty=l2, lr__solver=newton-cg;, score=(train=0.932, test=0.932) total time=  13.8s\n",
      "----------\n",
      "iter: 2\n",
      "n_candidates: 6\n",
      "n_resources: 358227\n",
      "Fitting 10 folds for each of 6 candidates, totalling 60 fits\n",
      "[CV 1/10] END lr__C=100, lr__max_iter=500, lr__penalty=l2, lr__solver=saga;, score=(train=0.932, test=0.932) total time=  18.2s\n",
      "[CV 2/10] END lr__C=100, lr__max_iter=500, lr__penalty=l2, lr__solver=saga;, score=(train=0.932, test=0.931) total time=  12.5s\n",
      "[CV 3/10] END lr__C=100, lr__max_iter=500, lr__penalty=l2, lr__solver=saga;, score=(train=0.931, test=0.932) total time=  24.4s\n",
      "[CV 4/10] END lr__C=100, lr__max_iter=500, lr__penalty=l2, lr__solver=saga;, score=(train=0.932, test=0.931) total time=  26.3s\n",
      "[CV 5/10] END lr__C=100, lr__max_iter=500, lr__penalty=l2, lr__solver=saga;, score=(train=0.932, test=0.932) total time=  12.1s\n",
      "[CV 6/10] END lr__C=100, lr__max_iter=500, lr__penalty=l2, lr__solver=saga;, score=(train=0.932, test=0.932) total time=  30.8s\n",
      "[CV 7/10] END lr__C=100, lr__max_iter=500, lr__penalty=l2, lr__solver=saga;, score=(train=0.932, test=0.932) total time=  42.2s\n",
      "[CV 8/10] END lr__C=100, lr__max_iter=500, lr__penalty=l2, lr__solver=saga;, score=(train=0.932, test=0.931) total time=  12.5s\n",
      "[CV 9/10] END lr__C=100, lr__max_iter=500, lr__penalty=l2, lr__solver=saga;, score=(train=0.933, test=0.932) total time=  19.1s\n",
      "[CV 10/10] END lr__C=100, lr__max_iter=500, lr__penalty=l2, lr__solver=saga;, score=(train=0.932, test=0.932) total time=  40.0s\n",
      "[CV 1/10] END lr__C=100, lr__max_iter=100, lr__penalty=l2, lr__solver=newton-cg;, score=(train=0.932, test=0.932) total time=  48.8s\n",
      "[CV 2/10] END lr__C=100, lr__max_iter=100, lr__penalty=l2, lr__solver=newton-cg;, score=(train=0.932, test=0.931) total time= 1.6min\n",
      "[CV 3/10] END lr__C=100, lr__max_iter=100, lr__penalty=l2, lr__solver=newton-cg;, score=(train=0.931, test=0.932) total time= 1.4min\n",
      "[CV 4/10] END lr__C=100, lr__max_iter=100, lr__penalty=l2, lr__solver=newton-cg;, score=(train=0.932, test=0.931) total time=  55.5s\n",
      "[CV 5/10] END lr__C=100, lr__max_iter=100, lr__penalty=l2, lr__solver=newton-cg;, score=(train=0.932, test=0.932) total time=  54.3s\n",
      "[CV 6/10] END lr__C=100, lr__max_iter=100, lr__penalty=l2, lr__solver=newton-cg;, score=(train=0.932, test=0.932) total time= 1.0min\n",
      "[CV 7/10] END lr__C=100, lr__max_iter=100, lr__penalty=l2, lr__solver=newton-cg;, score=(train=0.932, test=0.932) total time= 1.4min\n",
      "[CV 8/10] END lr__C=100, lr__max_iter=100, lr__penalty=l2, lr__solver=newton-cg;, score=(train=0.932, test=0.931) total time=  45.2s\n",
      "[CV 9/10] END lr__C=100, lr__max_iter=100, lr__penalty=l2, lr__solver=newton-cg;, score=(train=0.933, test=0.932) total time=  41.1s\n",
      "[CV 10/10] END lr__C=100, lr__max_iter=100, lr__penalty=l2, lr__solver=newton-cg;, score=(train=0.932, test=0.932) total time= 1.9min\n",
      "[CV 1/10] END lr__C=100, lr__max_iter=500, lr__penalty=l2, lr__solver=newton-cg;, score=(train=0.932, test=0.932) total time=  47.2s\n",
      "[CV 2/10] END lr__C=100, lr__max_iter=500, lr__penalty=l2, lr__solver=newton-cg;, score=(train=0.932, test=0.931) total time= 1.6min\n",
      "[CV 3/10] END lr__C=100, lr__max_iter=500, lr__penalty=l2, lr__solver=newton-cg;, score=(train=0.931, test=0.932) total time= 1.4min\n",
      "[CV 4/10] END lr__C=100, lr__max_iter=500, lr__penalty=l2, lr__solver=newton-cg;, score=(train=0.932, test=0.931) total time=  54.3s\n",
      "[CV 5/10] END lr__C=100, lr__max_iter=500, lr__penalty=l2, lr__solver=newton-cg;, score=(train=0.932, test=0.932) total time=  53.6s\n",
      "[CV 6/10] END lr__C=100, lr__max_iter=500, lr__penalty=l2, lr__solver=newton-cg;, score=(train=0.932, test=0.932) total time= 1.0min\n",
      "[CV 7/10] END lr__C=100, lr__max_iter=500, lr__penalty=l2, lr__solver=newton-cg;, score=(train=0.932, test=0.932) total time= 1.4min\n",
      "[CV 8/10] END lr__C=100, lr__max_iter=500, lr__penalty=l2, lr__solver=newton-cg;, score=(train=0.932, test=0.931) total time=  46.1s\n",
      "[CV 9/10] END lr__C=100, lr__max_iter=500, lr__penalty=l2, lr__solver=newton-cg;, score=(train=0.933, test=0.932) total time=  40.4s\n",
      "[CV 10/10] END lr__C=100, lr__max_iter=500, lr__penalty=l2, lr__solver=newton-cg;, score=(train=0.932, test=0.932) total time= 1.9min\n",
      "[CV 1/10] END lr__C=100, lr__max_iter=500, lr__penalty=l2, lr__solver=sag;, score=(train=0.932, test=0.932) total time=  12.1s\n",
      "[CV 2/10] END lr__C=100, lr__max_iter=500, lr__penalty=l2, lr__solver=sag;, score=(train=0.932, test=0.931) total time=  17.0s\n",
      "[CV 3/10] END lr__C=100, lr__max_iter=500, lr__penalty=l2, lr__solver=sag;, score=(train=0.931, test=0.932) total time=  18.9s\n",
      "[CV 4/10] END lr__C=100, lr__max_iter=500, lr__penalty=l2, lr__solver=sag;, score=(train=0.932, test=0.931) total time=  18.7s\n",
      "[CV 5/10] END lr__C=100, lr__max_iter=500, lr__penalty=l2, lr__solver=sag;, score=(train=0.932, test=0.932) total time=  15.3s\n",
      "[CV 6/10] END lr__C=100, lr__max_iter=500, lr__penalty=l2, lr__solver=sag;, score=(train=0.932, test=0.932) total time=  17.4s\n",
      "[CV 7/10] END lr__C=100, lr__max_iter=500, lr__penalty=l2, lr__solver=sag;, score=(train=0.932, test=0.932) total time=  21.3s\n",
      "[CV 8/10] END lr__C=100, lr__max_iter=500, lr__penalty=l2, lr__solver=sag;, score=(train=0.932, test=0.931) total time=  16.2s\n",
      "[CV 9/10] END lr__C=100, lr__max_iter=500, lr__penalty=l2, lr__solver=sag;, score=(train=0.933, test=0.932) total time=  13.1s\n",
      "[CV 10/10] END lr__C=100, lr__max_iter=500, lr__penalty=l2, lr__solver=sag;, score=(train=0.932, test=0.932) total time=  25.7s\n",
      "[CV 1/10] END lr__C=100, lr__max_iter=500, lr__penalty=l2, lr__solver=lbfgs;, score=(train=0.932, test=0.932) total time=  29.3s\n",
      "[CV 2/10] END lr__C=100, lr__max_iter=500, lr__penalty=l2, lr__solver=lbfgs;, score=(train=0.932, test=0.931) total time=  27.6s\n",
      "[CV 3/10] END lr__C=100, lr__max_iter=500, lr__penalty=l2, lr__solver=lbfgs;, score=(train=0.932, test=0.932) total time=  29.6s\n"
     ]
    },
    {
     "name": "stderr",
     "output_type": "stream",
     "text": [
      "/opt/conda/lib/python3.7/site-packages/sklearn/linear_model/_logistic.py:818: ConvergenceWarning: lbfgs failed to converge (status=1):\n",
      "STOP: TOTAL NO. of ITERATIONS REACHED LIMIT.\n",
      "\n",
      "Increase the number of iterations (max_iter) or scale the data as shown in:\n",
      "    https://scikit-learn.org/stable/modules/preprocessing.html\n",
      "Please also refer to the documentation for alternative solver options:\n",
      "    https://scikit-learn.org/stable/modules/linear_model.html#logistic-regression\n",
      "  extra_warning_msg=_LOGISTIC_SOLVER_CONVERGENCE_MSG,\n"
     ]
    },
    {
     "name": "stdout",
     "output_type": "stream",
     "text": [
      "[CV 4/10] END lr__C=100, lr__max_iter=500, lr__penalty=l2, lr__solver=lbfgs;, score=(train=0.932, test=0.931) total time=  31.7s\n",
      "[CV 5/10] END lr__C=100, lr__max_iter=500, lr__penalty=l2, lr__solver=lbfgs;, score=(train=0.932, test=0.932) total time=  30.6s\n"
     ]
    },
    {
     "name": "stderr",
     "output_type": "stream",
     "text": [
      "/opt/conda/lib/python3.7/site-packages/sklearn/linear_model/_logistic.py:818: ConvergenceWarning: lbfgs failed to converge (status=1):\n",
      "STOP: TOTAL NO. of ITERATIONS REACHED LIMIT.\n",
      "\n",
      "Increase the number of iterations (max_iter) or scale the data as shown in:\n",
      "    https://scikit-learn.org/stable/modules/preprocessing.html\n",
      "Please also refer to the documentation for alternative solver options:\n",
      "    https://scikit-learn.org/stable/modules/linear_model.html#logistic-regression\n",
      "  extra_warning_msg=_LOGISTIC_SOLVER_CONVERGENCE_MSG,\n"
     ]
    },
    {
     "name": "stdout",
     "output_type": "stream",
     "text": [
      "[CV 6/10] END lr__C=100, lr__max_iter=500, lr__penalty=l2, lr__solver=lbfgs;, score=(train=0.932, test=0.932) total time=  32.5s\n"
     ]
    },
    {
     "name": "stderr",
     "output_type": "stream",
     "text": [
      "/opt/conda/lib/python3.7/site-packages/sklearn/linear_model/_logistic.py:818: ConvergenceWarning: lbfgs failed to converge (status=1):\n",
      "STOP: TOTAL NO. of ITERATIONS REACHED LIMIT.\n",
      "\n",
      "Increase the number of iterations (max_iter) or scale the data as shown in:\n",
      "    https://scikit-learn.org/stable/modules/preprocessing.html\n",
      "Please also refer to the documentation for alternative solver options:\n",
      "    https://scikit-learn.org/stable/modules/linear_model.html#logistic-regression\n",
      "  extra_warning_msg=_LOGISTIC_SOLVER_CONVERGENCE_MSG,\n"
     ]
    },
    {
     "name": "stdout",
     "output_type": "stream",
     "text": [
      "[CV 7/10] END lr__C=100, lr__max_iter=500, lr__penalty=l2, lr__solver=lbfgs;, score=(train=0.932, test=0.932) total time=  32.6s\n",
      "[CV 8/10] END lr__C=100, lr__max_iter=500, lr__penalty=l2, lr__solver=lbfgs;, score=(train=0.932, test=0.931) total time=  29.0s\n"
     ]
    },
    {
     "name": "stderr",
     "output_type": "stream",
     "text": [
      "/opt/conda/lib/python3.7/site-packages/sklearn/linear_model/_logistic.py:818: ConvergenceWarning: lbfgs failed to converge (status=1):\n",
      "STOP: TOTAL NO. of ITERATIONS REACHED LIMIT.\n",
      "\n",
      "Increase the number of iterations (max_iter) or scale the data as shown in:\n",
      "    https://scikit-learn.org/stable/modules/preprocessing.html\n",
      "Please also refer to the documentation for alternative solver options:\n",
      "    https://scikit-learn.org/stable/modules/linear_model.html#logistic-regression\n",
      "  extra_warning_msg=_LOGISTIC_SOLVER_CONVERGENCE_MSG,\n"
     ]
    },
    {
     "name": "stdout",
     "output_type": "stream",
     "text": [
      "[CV 9/10] END lr__C=100, lr__max_iter=500, lr__penalty=l2, lr__solver=lbfgs;, score=(train=0.933, test=0.932) total time=  32.3s\n"
     ]
    },
    {
     "name": "stderr",
     "output_type": "stream",
     "text": [
      "/opt/conda/lib/python3.7/site-packages/sklearn/linear_model/_logistic.py:818: ConvergenceWarning: lbfgs failed to converge (status=1):\n",
      "STOP: TOTAL NO. of ITERATIONS REACHED LIMIT.\n",
      "\n",
      "Increase the number of iterations (max_iter) or scale the data as shown in:\n",
      "    https://scikit-learn.org/stable/modules/preprocessing.html\n",
      "Please also refer to the documentation for alternative solver options:\n",
      "    https://scikit-learn.org/stable/modules/linear_model.html#logistic-regression\n",
      "  extra_warning_msg=_LOGISTIC_SOLVER_CONVERGENCE_MSG,\n"
     ]
    },
    {
     "name": "stdout",
     "output_type": "stream",
     "text": [
      "[CV 10/10] END lr__C=100, lr__max_iter=500, lr__penalty=l2, lr__solver=lbfgs;, score=(train=0.932, test=0.932) total time=  32.6s\n",
      "[CV 1/10] END lr__C=100, lr__max_iter=100, lr__penalty=l2, lr__solver=sag;, score=(train=0.932, test=0.932) total time=  21.5s\n",
      "[CV 2/10] END lr__C=100, lr__max_iter=100, lr__penalty=l2, lr__solver=sag;, score=(train=0.932, test=0.931) total time=  17.7s\n",
      "[CV 3/10] END lr__C=100, lr__max_iter=100, lr__penalty=l2, lr__solver=sag;, score=(train=0.931, test=0.932) total time=  20.4s\n",
      "[CV 4/10] END lr__C=100, lr__max_iter=100, lr__penalty=l2, lr__solver=sag;, score=(train=0.932, test=0.931) total time=  16.5s\n",
      "[CV 5/10] END lr__C=100, lr__max_iter=100, lr__penalty=l2, lr__solver=sag;, score=(train=0.932, test=0.932) total time=  20.1s\n",
      "[CV 6/10] END lr__C=100, lr__max_iter=100, lr__penalty=l2, lr__solver=sag;, score=(train=0.932, test=0.932) total time=  18.4s\n",
      "[CV 7/10] END lr__C=100, lr__max_iter=100, lr__penalty=l2, lr__solver=sag;, score=(train=0.932, test=0.932) total time=  22.5s\n",
      "[CV 8/10] END lr__C=100, lr__max_iter=100, lr__penalty=l2, lr__solver=sag;, score=(train=0.932, test=0.931) total time=  22.1s\n",
      "[CV 9/10] END lr__C=100, lr__max_iter=100, lr__penalty=l2, lr__solver=sag;, score=(train=0.933, test=0.932) total time=  17.3s\n",
      "[CV 10/10] END lr__C=100, lr__max_iter=100, lr__penalty=l2, lr__solver=sag;, score=(train=0.932, test=0.932) total time=  26.1s\n",
      "----------\n",
      "iter: 3\n",
      "n_candidates: 2\n",
      "n_resources: 1074681\n",
      "Fitting 10 folds for each of 2 candidates, totalling 20 fits\n",
      "[CV 1/10] END lr__C=100, lr__max_iter=500, lr__penalty=l2, lr__solver=newton-cg;, score=(train=0.932, test=0.932) total time= 7.5min\n",
      "[CV 2/10] END lr__C=100, lr__max_iter=500, lr__penalty=l2, lr__solver=newton-cg;, score=(train=0.932, test=0.932) total time= 7.5min\n",
      "[CV 3/10] END lr__C=100, lr__max_iter=500, lr__penalty=l2, lr__solver=newton-cg;, score=(train=0.932, test=0.932) total time=10.6min\n",
      "[CV 4/10] END lr__C=100, lr__max_iter=500, lr__penalty=l2, lr__solver=newton-cg;, score=(train=0.932, test=0.931) total time= 7.9min\n",
      "[CV 5/10] END lr__C=100, lr__max_iter=500, lr__penalty=l2, lr__solver=newton-cg;, score=(train=0.932, test=0.932) total time= 6.2min\n",
      "[CV 6/10] END lr__C=100, lr__max_iter=500, lr__penalty=l2, lr__solver=newton-cg;, score=(train=0.932, test=0.932) total time=11.4min\n",
      "[CV 7/10] END lr__C=100, lr__max_iter=500, lr__penalty=l2, lr__solver=newton-cg;, score=(train=0.932, test=0.932) total time= 8.8min\n",
      "[CV 8/10] END lr__C=100, lr__max_iter=500, lr__penalty=l2, lr__solver=newton-cg;, score=(train=0.932, test=0.932) total time=10.9min\n",
      "[CV 9/10] END lr__C=100, lr__max_iter=500, lr__penalty=l2, lr__solver=newton-cg;, score=(train=0.932, test=0.932) total time= 9.4min\n",
      "[CV 10/10] END lr__C=100, lr__max_iter=500, lr__penalty=l2, lr__solver=newton-cg;, score=(train=0.932, test=0.932) total time= 7.8min\n",
      "[CV 1/10] END lr__C=100, lr__max_iter=100, lr__penalty=l2, lr__solver=sag;, score=(train=0.932, test=0.932) total time=  50.6s\n",
      "[CV 2/10] END lr__C=100, lr__max_iter=100, lr__penalty=l2, lr__solver=sag;, score=(train=0.932, test=0.932) total time=  53.7s\n",
      "[CV 3/10] END lr__C=100, lr__max_iter=100, lr__penalty=l2, lr__solver=sag;, score=(train=0.932, test=0.932) total time=  40.0s\n",
      "[CV 4/10] END lr__C=100, lr__max_iter=100, lr__penalty=l2, lr__solver=sag;, score=(train=0.932, test=0.931) total time=  57.3s\n",
      "[CV 5/10] END lr__C=100, lr__max_iter=100, lr__penalty=l2, lr__solver=sag;, score=(train=0.932, test=0.932) total time=  49.8s\n",
      "[CV 6/10] END lr__C=100, lr__max_iter=100, lr__penalty=l2, lr__solver=sag;, score=(train=0.932, test=0.932) total time= 1.0min\n",
      "[CV 7/10] END lr__C=100, lr__max_iter=100, lr__penalty=l2, lr__solver=sag;, score=(train=0.932, test=0.932) total time=  55.9s\n",
      "[CV 8/10] END lr__C=100, lr__max_iter=100, lr__penalty=l2, lr__solver=sag;, score=(train=0.932, test=0.932) total time=  39.9s\n",
      "[CV 9/10] END lr__C=100, lr__max_iter=100, lr__penalty=l2, lr__solver=sag;, score=(train=0.932, test=0.932) total time=  46.3s\n",
      "[CV 10/10] END lr__C=100, lr__max_iter=100, lr__penalty=l2, lr__solver=sag;, score=(train=0.932, test=0.932) total time=  42.0s\n"
     ]
    },
    {
     "data": {
      "text/plain": [
       "HalvingGridSearchCV(cv=RepeatedStratifiedKFold(n_repeats=2, n_splits=5, random_state=42),\n",
       "                    estimator=Pipeline(steps=[('minmax', MinMaxScaler()),\n",
       "                                              ('lr',\n",
       "                                               LogisticRegression(class_weight='balanced'))]),\n",
       "                    param_grid={'lr__C': [0.01, 0.1, 1, 10, 100],\n",
       "                                'lr__max_iter': [100, 500],\n",
       "                                'lr__penalty': ['l2'],\n",
       "                                'lr__solver': ['newton-cg', 'lbfgs',\n",
       "                                               'liblinear', 'sag', 'saga']},\n",
       "                    scoring=make_scorer(fbeta_score, beta=0.5), verbose=3)"
      ]
     },
     "execution_count": 16,
     "metadata": {},
     "output_type": "execute_result"
    }
   ],
   "source": [
    "search.fit(X_train, y_train)"
   ]
  },
  {
   "cell_type": "code",
   "execution_count": 17,
   "id": "6015a66f",
   "metadata": {
    "execution": {
     "iopub.execute_input": "2022-07-20T18:33:45.047695Z",
     "iopub.status.busy": "2022-07-20T18:33:45.047092Z",
     "iopub.status.idle": "2022-07-20T18:33:45.101964Z",
     "shell.execute_reply": "2022-07-20T18:33:45.100914Z"
    },
    "papermill": {
     "duration": 0.105272,
     "end_time": "2022-07-20T18:33:45.104171",
     "exception": false,
     "start_time": "2022-07-20T18:33:44.998899",
     "status": "completed"
    },
    "tags": []
   },
   "outputs": [
    {
     "data": {
      "text/html": [
       "<div>\n",
       "<style scoped>\n",
       "    .dataframe tbody tr th:only-of-type {\n",
       "        vertical-align: middle;\n",
       "    }\n",
       "\n",
       "    .dataframe tbody tr th {\n",
       "        vertical-align: top;\n",
       "    }\n",
       "\n",
       "    .dataframe thead th {\n",
       "        text-align: right;\n",
       "    }\n",
       "</style>\n",
       "<table border=\"1\" class=\"dataframe\">\n",
       "  <thead>\n",
       "    <tr style=\"text-align: right;\">\n",
       "      <th></th>\n",
       "      <th>params</th>\n",
       "      <th>mean_train_score</th>\n",
       "      <th>std_train_score</th>\n",
       "      <th>mean_test_score</th>\n",
       "      <th>std_test_score</th>\n",
       "      <th>mean_fit_time</th>\n",
       "      <th>std_fit_time</th>\n",
       "    </tr>\n",
       "  </thead>\n",
       "  <tbody>\n",
       "    <tr>\n",
       "      <th>59</th>\n",
       "      <td>{'lr__C': 100, 'lr__max_iter': 100, 'lr__penal...</td>\n",
       "      <td>0.931839</td>\n",
       "      <td>0.000656</td>\n",
       "      <td>0.932065</td>\n",
       "      <td>0.001272</td>\n",
       "      <td>8.817801</td>\n",
       "      <td>2.461083</td>\n",
       "    </tr>\n",
       "    <tr>\n",
       "      <th>62</th>\n",
       "      <td>{'lr__C': 100, 'lr__max_iter': 500, 'lr__penal...</td>\n",
       "      <td>0.931840</td>\n",
       "      <td>0.000661</td>\n",
       "      <td>0.932040</td>\n",
       "      <td>0.001267</td>\n",
       "      <td>10.597041</td>\n",
       "      <td>0.838292</td>\n",
       "    </tr>\n",
       "    <tr>\n",
       "      <th>63</th>\n",
       "      <td>{'lr__C': 100, 'lr__max_iter': 500, 'lr__penal...</td>\n",
       "      <td>0.931836</td>\n",
       "      <td>0.000660</td>\n",
       "      <td>0.932025</td>\n",
       "      <td>0.001287</td>\n",
       "      <td>9.048174</td>\n",
       "      <td>2.615903</td>\n",
       "    </tr>\n",
       "    <tr>\n",
       "      <th>66</th>\n",
       "      <td>{'lr__C': 100, 'lr__max_iter': 500, 'lr__penal...</td>\n",
       "      <td>0.931838</td>\n",
       "      <td>0.000663</td>\n",
       "      <td>0.932025</td>\n",
       "      <td>0.001274</td>\n",
       "      <td>13.766096</td>\n",
       "      <td>1.524977</td>\n",
       "    </tr>\n",
       "    <tr>\n",
       "      <th>65</th>\n",
       "      <td>{'lr__C': 100, 'lr__max_iter': 100, 'lr__penal...</td>\n",
       "      <td>0.931838</td>\n",
       "      <td>0.000663</td>\n",
       "      <td>0.932025</td>\n",
       "      <td>0.001274</td>\n",
       "      <td>13.865736</td>\n",
       "      <td>1.602368</td>\n",
       "    </tr>\n",
       "    <tr>\n",
       "      <th>58</th>\n",
       "      <td>{'lr__C': 100, 'lr__max_iter': 500, 'lr__penal...</td>\n",
       "      <td>0.931836</td>\n",
       "      <td>0.000657</td>\n",
       "      <td>0.932021</td>\n",
       "      <td>0.001278</td>\n",
       "      <td>13.493694</td>\n",
       "      <td>4.290590</td>\n",
       "    </tr>\n",
       "    <tr>\n",
       "      <th>64</th>\n",
       "      <td>{'lr__C': 100, 'lr__max_iter': 100, 'lr__penal...</td>\n",
       "      <td>0.931836</td>\n",
       "      <td>0.000657</td>\n",
       "      <td>0.932020</td>\n",
       "      <td>0.001278</td>\n",
       "      <td>10.777874</td>\n",
       "      <td>2.468785</td>\n",
       "    </tr>\n",
       "    <tr>\n",
       "      <th>61</th>\n",
       "      <td>{'lr__C': 100, 'lr__max_iter': 500, 'lr__penal...</td>\n",
       "      <td>0.931837</td>\n",
       "      <td>0.000660</td>\n",
       "      <td>0.932015</td>\n",
       "      <td>0.001274</td>\n",
       "      <td>3.855865</td>\n",
       "      <td>0.343912</td>\n",
       "    </tr>\n",
       "    <tr>\n",
       "      <th>60</th>\n",
       "      <td>{'lr__C': 100, 'lr__max_iter': 100, 'lr__penal...</td>\n",
       "      <td>0.931837</td>\n",
       "      <td>0.000660</td>\n",
       "      <td>0.932015</td>\n",
       "      <td>0.001274</td>\n",
       "      <td>4.013259</td>\n",
       "      <td>0.331186</td>\n",
       "    </tr>\n",
       "    <tr>\n",
       "      <th>74</th>\n",
       "      <td>{'lr__C': 100, 'lr__max_iter': 100, 'lr__penal...</td>\n",
       "      <td>0.932024</td>\n",
       "      <td>0.000094</td>\n",
       "      <td>0.931981</td>\n",
       "      <td>0.000314</td>\n",
       "      <td>49.539454</td>\n",
       "      <td>7.341978</td>\n",
       "    </tr>\n",
       "  </tbody>\n",
       "</table>\n",
       "</div>"
      ],
      "text/plain": [
       "                                               params  mean_train_score  \\\n",
       "59  {'lr__C': 100, 'lr__max_iter': 100, 'lr__penal...          0.931839   \n",
       "62  {'lr__C': 100, 'lr__max_iter': 500, 'lr__penal...          0.931840   \n",
       "63  {'lr__C': 100, 'lr__max_iter': 500, 'lr__penal...          0.931836   \n",
       "66  {'lr__C': 100, 'lr__max_iter': 500, 'lr__penal...          0.931838   \n",
       "65  {'lr__C': 100, 'lr__max_iter': 100, 'lr__penal...          0.931838   \n",
       "58  {'lr__C': 100, 'lr__max_iter': 500, 'lr__penal...          0.931836   \n",
       "64  {'lr__C': 100, 'lr__max_iter': 100, 'lr__penal...          0.931836   \n",
       "61  {'lr__C': 100, 'lr__max_iter': 500, 'lr__penal...          0.931837   \n",
       "60  {'lr__C': 100, 'lr__max_iter': 100, 'lr__penal...          0.931837   \n",
       "74  {'lr__C': 100, 'lr__max_iter': 100, 'lr__penal...          0.932024   \n",
       "\n",
       "    std_train_score  mean_test_score  std_test_score  mean_fit_time  \\\n",
       "59         0.000656         0.932065        0.001272       8.817801   \n",
       "62         0.000661         0.932040        0.001267      10.597041   \n",
       "63         0.000660         0.932025        0.001287       9.048174   \n",
       "66         0.000663         0.932025        0.001274      13.766096   \n",
       "65         0.000663         0.932025        0.001274      13.865736   \n",
       "58         0.000657         0.932021        0.001278      13.493694   \n",
       "64         0.000657         0.932020        0.001278      10.777874   \n",
       "61         0.000660         0.932015        0.001274       3.855865   \n",
       "60         0.000660         0.932015        0.001274       4.013259   \n",
       "74         0.000094         0.931981        0.000314      49.539454   \n",
       "\n",
       "    std_fit_time  \n",
       "59      2.461083  \n",
       "62      0.838292  \n",
       "63      2.615903  \n",
       "66      1.524977  \n",
       "65      1.602368  \n",
       "58      4.290590  \n",
       "64      2.468785  \n",
       "61      0.343912  \n",
       "60      0.331186  \n",
       "74      7.341978  "
      ]
     },
     "execution_count": 17,
     "metadata": {},
     "output_type": "execute_result"
    }
   ],
   "source": [
    "print_result_df(search)"
   ]
  },
  {
   "cell_type": "code",
   "execution_count": 18,
   "id": "22979cc4",
   "metadata": {
    "execution": {
     "iopub.execute_input": "2022-07-20T18:33:45.193995Z",
     "iopub.status.busy": "2022-07-20T18:33:45.193611Z",
     "iopub.status.idle": "2022-07-20T18:33:45.757648Z",
     "shell.execute_reply": "2022-07-20T18:33:45.756912Z"
    },
    "papermill": {
     "duration": 0.61129,
     "end_time": "2022-07-20T18:33:45.759569",
     "exception": false,
     "start_time": "2022-07-20T18:33:45.148279",
     "status": "completed"
    },
    "tags": []
   },
   "outputs": [
    {
     "data": {
      "image/png": "[encoded data removed]",
      "text/plain": [
       "<Figure size 2016x360 with 4 Axes>"
      ]
     },
     "metadata": {
      "needs_background": "light"
     },
     "output_type": "display_data"
    }
   ],
   "source": [
    "plot_search_results(search)"
   ]
  },
  {
   "cell_type": "code",
   "execution_count": 19,
   "id": "35d90d49",
   "metadata": {
    "execution": {
     "iopub.execute_input": "2022-07-20T18:33:45.851239Z",
     "iopub.status.busy": "2022-07-20T18:33:45.850587Z",
     "iopub.status.idle": "2022-07-20T18:33:48.386078Z",
     "shell.execute_reply": "2022-07-20T18:33:48.384967Z"
    },
    "papermill": {
     "duration": 2.583459,
     "end_time": "2022-07-20T18:33:48.388119",
     "exception": false,
     "start_time": "2022-07-20T18:33:45.804660",
     "status": "completed"
    },
    "tags": []
   },
   "outputs": [
    {
     "name": "stdout",
     "output_type": "stream",
     "text": [
      "Best parameter (CV score=):\n",
      "Pipeline(steps=[('minmax', MinMaxScaler()),\n",
      "                ('lr',\n",
      "                 LogisticRegression(C=100, class_weight='balanced',\n",
      "                                    solver='sag'))])\n",
      "              precision    recall  f1-score   support\n",
      "\n",
      "           0       0.51      0.94      0.66     53638\n",
      "           1       0.98      0.78      0.87    215038\n",
      "\n",
      "    accuracy                           0.81    268676\n",
      "   macro avg       0.75      0.86      0.77    268676\n",
      "weighted avg       0.89      0.81      0.83    268676\n",
      "\n",
      "[[ 50332   3306]\n",
      " [ 47611 167427]]\n",
      "f0.5_score= 0.9322527478646281\n",
      "pr_auc_score= 0.9815832939370568\n"
     ]
    },
    {
     "data": {
      "image/png": "[encoded data removed]",
      "text/plain": [
       "<Figure size 720x504 with 1 Axes>"
      ]
     },
     "metadata": {
      "needs_background": "light"
     },
     "output_type": "display_data"
    },
    {
     "data": {
      "text/plain": [
       "Pipeline(steps=[('minmax', MinMaxScaler()),\n",
       "                ('lr',\n",
       "                 LogisticRegression(C=100, class_weight='balanced',\n",
       "                                    solver='sag'))])"
      ]
     },
     "execution_count": 19,
     "metadata": {},
     "output_type": "execute_result"
    }
   ],
   "source": [
    "print_best_model_result(search, 'MinMaxScaler + Tuning Logistic')"
   ]
  },
  {
   "cell_type": "code",
   "execution_count": 20,
   "id": "e7649a9a",
   "metadata": {
    "execution": {
     "iopub.execute_input": "2022-07-20T18:33:48.493552Z",
     "iopub.status.busy": "2022-07-20T18:33:48.492352Z",
     "iopub.status.idle": "2022-07-20T18:43:31.976581Z",
     "shell.execute_reply": "2022-07-20T18:43:31.975106Z"
    },
    "papermill": {
     "duration": 583.595487,
     "end_time": "2022-07-20T18:43:32.029309",
     "exception": false,
     "start_time": "2022-07-20T18:33:48.433822",
     "status": "completed"
    },
    "tags": []
   },
   "outputs": [
    {
     "data": {
      "image/png": "[encoded data removed]",
      "text/plain": [
       "<Figure size 1080x1080 with 3 Axes>"
      ]
     },
     "metadata": {
      "needs_background": "light"
     },
     "output_type": "display_data"
    }
   ],
   "source": [
    "plot_learning_curve(search.best_estimator_, 'MinMaxScaler + Tuning Logistic', X_train, y_train, cv=cv, n_jobs=-1)\n",
    "plt.show()"
   ]
  },
  {
   "cell_type": "code",
   "execution_count": null,
   "id": "14597002",
   "metadata": {
    "papermill": {
     "duration": 0.047242,
     "end_time": "2022-07-20T18:43:32.125457",
     "exception": false,
     "start_time": "2022-07-20T18:43:32.078215",
     "status": "completed"
    },
    "tags": []
   },
   "outputs": [],
   "source": []
  }
 ],
 "metadata": {
  "kernelspec": {
   "display_name": "Python 3",
   "language": "python",
   "name": "python3"
  },
  "language_info": {
   "codemirror_mode": {
    "name": "ipython",
    "version": 3
   },
   "file_extension": ".py",
   "mimetype": "text/x-python",
   "name": "python",
   "nbconvert_exporter": "python",
   "pygments_lexer": "ipython3",
   "version": "3.7.12"
  },
  "papermill": {
   "default_parameters": {},
   "duration": 10837.176174,
   "end_time": "2022-07-20T18:43:34.813834",
   "environment_variables": {},
   "exception": null,
   "input_path": "__notebook__.ipynb",
   "output_path": "__notebook__.ipynb",
   "parameters": {},
   "start_time": "2022-07-20T15:42:57.637660",
   "version": "2.3.4"
  }
 },
 "nbformat": 4,
 "nbformat_minor": 5
}
