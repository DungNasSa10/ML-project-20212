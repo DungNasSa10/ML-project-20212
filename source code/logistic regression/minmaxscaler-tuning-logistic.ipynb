{
 "cells": [
  {
   "cell_type": "code",
   "execution_count": 1,
   "id": "6b6029fc",
   "metadata": {
    "execution": {
     "iopub.execute_input": "2022-07-20T02:15:25.155842Z",
     "iopub.status.busy": "2022-07-20T02:15:25.155261Z",
     "iopub.status.idle": "2022-07-20T02:15:27.807087Z",
     "shell.execute_reply": "2022-07-20T02:15:27.805945Z"
    },
    "papermill": {
     "duration": 2.660651,
     "end_time": "2022-07-20T02:15:27.809650",
     "exception": false,
     "start_time": "2022-07-20T02:15:25.148999",
     "status": "completed"
    },
    "tags": []
   },
   "outputs": [
    {
     "data": {
      "text/html": [
       "<style type='text/css'>\n",
       ".datatable table.frame { margin-bottom: 0; }\n",
       ".datatable table.frame thead { border-bottom: none; }\n",
       ".datatable table.frame tr.coltypes td {  color: #FFFFFF;  line-height: 6px;  padding: 0 0.5em;}\n",
       ".datatable .bool    { background: #DDDD99; }\n",
       ".datatable .object  { background: #565656; }\n",
       ".datatable .int     { background: #5D9E5D; }\n",
       ".datatable .float   { background: #4040CC; }\n",
       ".datatable .str     { background: #CC4040; }\n",
       ".datatable .time    { background: #40CC40; }\n",
       ".datatable .row_index {  background: var(--jp-border-color3);  border-right: 1px solid var(--jp-border-color0);  color: var(--jp-ui-font-color3);  font-size: 9px;}\n",
       ".datatable .frame tbody td { text-align: left; }\n",
       ".datatable .frame tr.coltypes .row_index {  background: var(--jp-border-color0);}\n",
       ".datatable th:nth-child(2) { padding-left: 12px; }\n",
       ".datatable .hellipsis {  color: var(--jp-cell-editor-border-color);}\n",
       ".datatable .vellipsis {  background: var(--jp-layout-color0);  color: var(--jp-cell-editor-border-color);}\n",
       ".datatable .na {  color: var(--jp-cell-editor-border-color);  font-size: 80%;}\n",
       ".datatable .sp {  opacity: 0.25;}\n",
       ".datatable .footer { font-size: 9px; }\n",
       ".datatable .frame_dimensions {  background: var(--jp-border-color3);  border-top: 1px solid var(--jp-border-color0);  color: var(--jp-ui-font-color3);  display: inline-block;  opacity: 0.6;  padding: 1px 10px 1px 5px;}\n",
       "</style>\n"
      ],
      "text/plain": [
       "<IPython.core.display.HTML object>"
      ]
     },
     "metadata": {},
     "output_type": "display_data"
    }
   ],
   "source": [
    "import pandas as pd\n",
    "import numpy as np\n",
    "import matplotlib.pyplot as plt\n",
    "import seaborn as sns\n",
    "from imblearn.pipeline import Pipeline\n",
    "\n",
    "from sklearn.preprocessing import MinMaxScaler\n",
    "\n",
    "from imblearn.over_sampling import SMOTE, BorderlineSMOTE, SVMSMOTE, ADASYN\n",
    "\n",
    "from sklearn.linear_model import LogisticRegression, Perceptron\n",
    "from sklearn.neighbors import KNeighborsClassifier\n",
    "from sklearn.svm import SVC\n",
    "from sklearn.tree import DecisionTreeClassifier\n",
    "from sklearn.ensemble import RandomForestClassifier\n",
    "from lightgbm import LGBMClassifier\n",
    "from xgboost import XGBClassifier\n",
    "\n",
    "from sklearn.experimental import enable_halving_search_cv\n",
    "from sklearn.model_selection import GridSearchCV, HalvingGridSearchCV, train_test_split, RepeatedStratifiedKFold, cross_val_score, learning_curve\n",
    "from sklearn.metrics import classification_report, fbeta_score, confusion_matrix, precision_recall_curve, auc, make_scorer"
   ]
  },
  {
   "cell_type": "code",
   "execution_count": 2,
   "id": "eb94fb40",
   "metadata": {
    "execution": {
     "iopub.execute_input": "2022-07-20T02:15:27.819281Z",
     "iopub.status.busy": "2022-07-20T02:15:27.818878Z",
     "iopub.status.idle": "2022-07-20T02:15:38.212574Z",
     "shell.execute_reply": "2022-07-20T02:15:38.211506Z"
    },
    "papermill": {
     "duration": 10.401615,
     "end_time": "2022-07-20T02:15:38.215295",
     "exception": false,
     "start_time": "2022-07-20T02:15:27.813680",
     "status": "completed"
    },
    "tags": []
   },
   "outputs": [],
   "source": [
    "accepted_loans = pd.read_csv('../input/elitedata/elite.csv')"
   ]
  },
  {
   "cell_type": "code",
   "execution_count": 3,
   "id": "e3bc2e59",
   "metadata": {
    "execution": {
     "iopub.execute_input": "2022-07-20T02:15:38.224854Z",
     "iopub.status.busy": "2022-07-20T02:15:38.224330Z",
     "iopub.status.idle": "2022-07-20T02:15:38.726519Z",
     "shell.execute_reply": "2022-07-20T02:15:38.725366Z"
    },
    "papermill": {
     "duration": 0.509882,
     "end_time": "2022-07-20T02:15:38.729162",
     "exception": false,
     "start_time": "2022-07-20T02:15:38.219280",
     "status": "completed"
    },
    "tags": []
   },
   "outputs": [],
   "source": [
    "X = accepted_loans.loc[:, accepted_loans.columns != 'loan_paid'].values\n",
    "y = accepted_loans['loan_paid'].values"
   ]
  },
  {
   "cell_type": "code",
   "execution_count": 4,
   "id": "b392b715",
   "metadata": {
    "execution": {
     "iopub.execute_input": "2022-07-20T02:15:38.738684Z",
     "iopub.status.busy": "2022-07-20T02:15:38.738337Z",
     "iopub.status.idle": "2022-07-20T02:15:40.429135Z",
     "shell.execute_reply": "2022-07-20T02:15:40.427824Z"
    },
    "papermill": {
     "duration": 1.69874,
     "end_time": "2022-07-20T02:15:40.431817",
     "exception": false,
     "start_time": "2022-07-20T02:15:38.733077",
     "status": "completed"
    },
    "tags": []
   },
   "outputs": [],
   "source": [
    "X_train, X_test, y_train, y_test = train_test_split(X, y, test_size=0.2, random_state=42, stratify=y)"
   ]
  },
  {
   "cell_type": "code",
   "execution_count": 5,
   "id": "bd847e71",
   "metadata": {
    "execution": {
     "iopub.execute_input": "2022-07-20T02:15:40.441428Z",
     "iopub.status.busy": "2022-07-20T02:15:40.441006Z",
     "iopub.status.idle": "2022-07-20T02:15:40.445928Z",
     "shell.execute_reply": "2022-07-20T02:15:40.444838Z"
    },
    "papermill": {
     "duration": 0.012419,
     "end_time": "2022-07-20T02:15:40.448236",
     "exception": false,
     "start_time": "2022-07-20T02:15:40.435817",
     "status": "completed"
    },
    "tags": []
   },
   "outputs": [],
   "source": [
    "cv = RepeatedStratifiedKFold(n_splits=5, n_repeats=2, random_state=42)"
   ]
  },
  {
   "cell_type": "code",
   "execution_count": 6,
   "id": "5e69476b",
   "metadata": {
    "execution": {
     "iopub.execute_input": "2022-07-20T02:15:40.457793Z",
     "iopub.status.busy": "2022-07-20T02:15:40.457419Z",
     "iopub.status.idle": "2022-07-20T02:15:40.462668Z",
     "shell.execute_reply": "2022-07-20T02:15:40.461461Z"
    },
    "papermill": {
     "duration": 0.012459,
     "end_time": "2022-07-20T02:15:40.464728",
     "exception": false,
     "start_time": "2022-07-20T02:15:40.452269",
     "status": "completed"
    },
    "tags": []
   },
   "outputs": [],
   "source": [
    "minmax_scaler = ('minmax', MinMaxScaler())"
   ]
  },
  {
   "cell_type": "code",
   "execution_count": 7,
   "id": "5c67464e",
   "metadata": {
    "execution": {
     "iopub.execute_input": "2022-07-20T02:15:40.474415Z",
     "iopub.status.busy": "2022-07-20T02:15:40.473886Z",
     "iopub.status.idle": "2022-07-20T02:15:40.479349Z",
     "shell.execute_reply": "2022-07-20T02:15:40.478208Z"
    },
    "papermill": {
     "duration": 0.01277,
     "end_time": "2022-07-20T02:15:40.481515",
     "exception": false,
     "start_time": "2022-07-20T02:15:40.468745",
     "status": "completed"
    },
    "tags": []
   },
   "outputs": [],
   "source": [
    "lr = ('lr', LogisticRegression())\n",
    "lr_param_grid = {\n",
    "    'lr__C': [0.01, 0.1, 1, 10, 100],\n",
    "    'lr__penalty': ['l2'],\n",
    "    'lr__max_iter': [100, 500, 1000],\n",
    "    'lr__solver': ['newton-cg', 'lbfgs', 'liblinear', 'sag', 'saga']\n",
    "}"
   ]
  },
  {
   "cell_type": "code",
   "execution_count": 8,
   "id": "13dde142",
   "metadata": {
    "execution": {
     "iopub.execute_input": "2022-07-20T02:15:40.491593Z",
     "iopub.status.busy": "2022-07-20T02:15:40.490552Z",
     "iopub.status.idle": "2022-07-20T02:15:40.495638Z",
     "shell.execute_reply": "2022-07-20T02:15:40.494688Z"
    },
    "papermill": {
     "duration": 0.012245,
     "end_time": "2022-07-20T02:15:40.497763",
     "exception": false,
     "start_time": "2022-07-20T02:15:40.485518",
     "status": "completed"
    },
    "tags": []
   },
   "outputs": [],
   "source": [
    "# Metric\n",
    "f_onehalf_scorer = make_scorer(fbeta_score, beta=0.5)"
   ]
  },
  {
   "cell_type": "code",
   "execution_count": 9,
   "id": "4702350d",
   "metadata": {
    "execution": {
     "iopub.execute_input": "2022-07-20T02:15:40.508491Z",
     "iopub.status.busy": "2022-07-20T02:15:40.507283Z",
     "iopub.status.idle": "2022-07-20T02:15:40.522561Z",
     "shell.execute_reply": "2022-07-20T02:15:40.521726Z"
    },
    "papermill": {
     "duration": 0.022989,
     "end_time": "2022-07-20T02:15:40.524873",
     "exception": false,
     "start_time": "2022-07-20T02:15:40.501884",
     "status": "completed"
    },
    "tags": []
   },
   "outputs": [],
   "source": [
    "def plot_learning_curve(\n",
    "    estimator,\n",
    "    title,\n",
    "    X,\n",
    "    y,\n",
    "    axes=None,\n",
    "    ylim=None,\n",
    "    cv=cv,\n",
    "    n_jobs=-1,\n",
    "    train_sizes=np.linspace(0.1, 1.0, 5),\n",
    "):\n",
    "    if axes is None:\n",
    "        _, axes = plt.subplots(3, 1, figsize=(15, 15))\n",
    "\n",
    "    axes[0].set_title(title)\n",
    "    if ylim is not None:\n",
    "        axes[0].set_ylim(*ylim)\n",
    "    axes[0].set_xlabel(\"Training examples\")\n",
    "    axes[0].set_ylabel(\"Score\")\n",
    "\n",
    "    train_sizes, train_scores, test_scores, fit_times, _ = learning_curve(\n",
    "        estimator,\n",
    "        X,\n",
    "        y,\n",
    "        cv=cv,\n",
    "        n_jobs=n_jobs,\n",
    "        train_sizes=train_sizes,\n",
    "        scoring=f_onehalf_scorer,\n",
    "        return_times=True,\n",
    "        random_state=42\n",
    "    )\n",
    "    train_scores_mean = np.mean(train_scores, axis=1)\n",
    "    train_scores_std = np.std(train_scores, axis=1)\n",
    "    test_scores_mean = np.mean(test_scores, axis=1)\n",
    "    test_scores_std = np.std(test_scores, axis=1)\n",
    "    fit_times_mean = np.mean(fit_times, axis=1)\n",
    "    fit_times_std = np.std(fit_times, axis=1)\n",
    "\n",
    "    # Plot learning curve\n",
    "    axes[0].grid()\n",
    "    axes[0].fill_between(\n",
    "        train_sizes,\n",
    "        train_scores_mean - train_scores_std,\n",
    "        train_scores_mean + train_scores_std,\n",
    "        alpha=0.1,\n",
    "        color=\"r\",\n",
    "    )\n",
    "    axes[0].fill_between(\n",
    "        train_sizes,\n",
    "        test_scores_mean - test_scores_std,\n",
    "        test_scores_mean + test_scores_std,\n",
    "        alpha=0.1,\n",
    "        color=\"g\",\n",
    "    )\n",
    "    axes[0].plot(\n",
    "        train_sizes, train_scores_mean, \"o-\", color=\"r\", label=\"Training score\"\n",
    "    )\n",
    "    axes[0].plot(\n",
    "        train_sizes, test_scores_mean, \"o-\", color=\"g\", label=\"Cross-validation score\"\n",
    "    )\n",
    "    axes[0].legend(loc=\"best\")\n",
    "\n",
    "    # Plot n_samples vs fit_times\n",
    "    axes[1].grid()\n",
    "    axes[1].plot(train_sizes, fit_times_mean, \"o-\")\n",
    "    axes[1].fill_between(\n",
    "        train_sizes,\n",
    "        fit_times_mean - fit_times_std,\n",
    "        fit_times_mean + fit_times_std,\n",
    "        alpha=0.1,\n",
    "    )\n",
    "    axes[1].set_xlabel(\"Training examples\")\n",
    "    axes[1].set_ylabel(\"fit_times\")\n",
    "    axes[1].set_title(\"Scalability of the model\")\n",
    "\n",
    "    # Plot fit_time vs score\n",
    "    fit_time_argsort = fit_times_mean.argsort()\n",
    "    fit_time_sorted = fit_times_mean[fit_time_argsort]\n",
    "    test_scores_mean_sorted = test_scores_mean[fit_time_argsort]\n",
    "    test_scores_std_sorted = test_scores_std[fit_time_argsort]\n",
    "    axes[2].grid()\n",
    "    axes[2].plot(fit_time_sorted, test_scores_mean_sorted, \"o-\")\n",
    "    axes[2].fill_between(\n",
    "        fit_time_sorted,\n",
    "        test_scores_mean_sorted - test_scores_std_sorted,\n",
    "        test_scores_mean_sorted + test_scores_std_sorted,\n",
    "        alpha=0.1,\n",
    "    )\n",
    "    axes[2].set_xlabel(\"fit_times\") \n",
    "    axes[2].set_ylabel(\"Score\")\n",
    "    axes[2].set_title(\"Performance of the model\")\n",
    "\n",
    "    return plt"
   ]
  },
  {
   "cell_type": "code",
   "execution_count": 10,
   "id": "8392f121",
   "metadata": {
    "execution": {
     "iopub.execute_input": "2022-07-20T02:15:40.535047Z",
     "iopub.status.busy": "2022-07-20T02:15:40.534359Z",
     "iopub.status.idle": "2022-07-20T02:15:40.546474Z",
     "shell.execute_reply": "2022-07-20T02:15:40.545429Z"
    },
    "papermill": {
     "duration": 0.019956,
     "end_time": "2022-07-20T02:15:40.548885",
     "exception": false,
     "start_time": "2022-07-20T02:15:40.528929",
     "status": "completed"
    },
    "tags": []
   },
   "outputs": [],
   "source": [
    "def pooled_var(stds):\n",
    "    n = 30 # size of each group\n",
    "    return np.sqrt(sum((n-1)*(stds**2))/ len(stds)*(n-1))\n",
    "\n",
    "def plot_search_results(search):\n",
    "  df = pd.DataFrame(search.cv_results_)\n",
    "  results = ['mean_test_score',\n",
    "            'mean_train_score',\n",
    "            'std_test_score', \n",
    "            'std_train_score']\n",
    "\n",
    "  fig, axes = plt.subplots(1, len(param_grid), \n",
    "                          figsize = (7*len(param_grid), 5),\n",
    "                          sharey='row')\n",
    "  axes[0].set_ylabel(\"Score\", fontsize=25)\n",
    "\n",
    "\n",
    "  for idx, (param_name, param_range) in enumerate(param_grid.items()):\n",
    "      grouped_df = df.groupby(f'param_{param_name}')[results]\\\n",
    "          .agg({'mean_train_score': 'mean',\n",
    "                'mean_test_score': 'mean',\n",
    "                'std_train_score': 'mean',\n",
    "                'std_test_score': 'mean'})\n",
    "\n",
    "      previous_group = df.groupby(f'param_{param_name}')[results]\n",
    "      axes[idx].set_xlabel(param_name, fontsize=30)\n",
    "      axes[idx].set_ylim(0.0, 1.1)\n",
    "      lw = 2\n",
    "      axes[idx].plot(param_range, grouped_df['mean_train_score'], label=\"Training score\",\n",
    "                  color=\"darkorange\", lw=lw)\n",
    "      axes[idx].fill_between(param_range,grouped_df['mean_train_score'] - grouped_df['std_train_score'],\n",
    "                      grouped_df['mean_train_score'] + grouped_df['std_train_score'], alpha=0.2,\n",
    "                      color=\"darkorange\", lw=lw)\n",
    "      axes[idx].plot(param_range, grouped_df['mean_test_score'], label=\"Cross-validation score\",\n",
    "                  color=\"navy\", lw=lw)\n",
    "      axes[idx].fill_between(param_range, grouped_df['mean_test_score'] - grouped_df['std_test_score'],\n",
    "                      grouped_df['mean_test_score'] + grouped_df['std_test_score'], alpha=0.2,\n",
    "                      color=\"navy\", lw=lw)\n",
    "\n",
    "  handles, labels = axes[0].get_legend_handles_labels()\n",
    "  fig.suptitle('Validation curves', fontsize=40)\n",
    "  fig.legend(handles, labels, loc=8, ncol=2, fontsize=20)\n",
    "\n",
    "  fig.subplots_adjust(bottom=0.25, top=0.85)  \n",
    "  plt.show()"
   ]
  },
  {
   "cell_type": "code",
   "execution_count": 11,
   "id": "87eb9046",
   "metadata": {
    "execution": {
     "iopub.execute_input": "2022-07-20T02:15:40.559249Z",
     "iopub.status.busy": "2022-07-20T02:15:40.558550Z",
     "iopub.status.idle": "2022-07-20T02:15:40.564441Z",
     "shell.execute_reply": "2022-07-20T02:15:40.563486Z"
    },
    "papermill": {
     "duration": 0.013683,
     "end_time": "2022-07-20T02:15:40.566789",
     "exception": false,
     "start_time": "2022-07-20T02:15:40.553106",
     "status": "completed"
    },
    "tags": []
   },
   "outputs": [],
   "source": [
    "def print_result_df(search):\n",
    "  keeping_columns = ['params', 'mean_train_score', 'std_train_score', 'mean_test_score', 'std_test_score', 'mean_fit_time', 'std_fit_time']\n",
    "  df = pd.DataFrame(search.cv_results_)\n",
    "  df = df[keeping_columns].sort_values(by='mean_test_score', ascending=False)\n",
    "  return df.iloc[:10, :]"
   ]
  },
  {
   "cell_type": "code",
   "execution_count": 12,
   "id": "3e183885",
   "metadata": {
    "execution": {
     "iopub.execute_input": "2022-07-20T02:15:40.577314Z",
     "iopub.status.busy": "2022-07-20T02:15:40.576587Z",
     "iopub.status.idle": "2022-07-20T02:15:40.586721Z",
     "shell.execute_reply": "2022-07-20T02:15:40.585454Z"
    },
    "papermill": {
     "duration": 0.018313,
     "end_time": "2022-07-20T02:15:40.589327",
     "exception": false,
     "start_time": "2022-07-20T02:15:40.571014",
     "status": "completed"
    },
    "tags": []
   },
   "outputs": [],
   "source": [
    "def print_best_model_result(search, name):\n",
    "  print(\"Best parameter (CV score=):\" % search.best_score_)\n",
    "  best_model = search.best_estimator_\n",
    "  print(best_model)\n",
    "\n",
    "  y_pred = best_model.predict(X_test)\n",
    "\n",
    "  print(classification_report(y_test, y_pred))\n",
    "  print(confusion_matrix(y_test, y_pred))\n",
    "  \n",
    "  f_onehalf_score = fbeta_score(y_test, y_pred, beta=0.5)\n",
    "  print('f0.5_score=', f_onehalf_score)\n",
    "\n",
    "  try :\n",
    "    y_score = best_model.predict_proba(X_test)[:, 1]\n",
    "    # calculate precision and recall for each threshold\n",
    "    precision, recall, threshold = precision_recall_curve(y_test, y_score)\n",
    "    # calculate scores\n",
    "    pr_auc = auc(recall, precision)\n",
    "    print('pr_auc_score=', pr_auc)\n",
    "\n",
    "    # calculate the no skill line as the proportion of the positive class\n",
    "    no_skill = len(y_test[y_test==1]) / len(y_test)\n",
    "    # plot the no skill precision-recall curve\n",
    "    plt.figure(figsize=(10, 7))\n",
    "    plt.plot([0, 1], [no_skill, no_skill], linestyle='--', label='No Skill')\n",
    "    # plot the model precision-recall curve\n",
    "    plt.plot(recall, precision, marker='.', label=name)\n",
    "    plt.title(f'{name}(pr_auc={pr_auc})')\n",
    "    plt.xlabel('Recall')\n",
    "    plt.ylabel('Precision')\n",
    "    # show the legend\n",
    "    plt.legend()\n",
    "    # show the plot\n",
    "    plt.show()\n",
    "  except:\n",
    "    pass\n",
    "\n",
    "  plot_learning_curve(best_model, name, X_train, y_train, cv=cv, n_jobs=-1 )\n",
    "  plt.show()\n",
    "\n",
    "  return best_model"
   ]
  },
  {
   "cell_type": "code",
   "execution_count": 13,
   "id": "681935f2",
   "metadata": {
    "execution": {
     "iopub.execute_input": "2022-07-20T02:15:40.599947Z",
     "iopub.status.busy": "2022-07-20T02:15:40.599223Z",
     "iopub.status.idle": "2022-07-20T02:15:40.604048Z",
     "shell.execute_reply": "2022-07-20T02:15:40.603260Z"
    },
    "papermill": {
     "duration": 0.012332,
     "end_time": "2022-07-20T02:15:40.606076",
     "exception": false,
     "start_time": "2022-07-20T02:15:40.593744",
     "status": "completed"
    },
    "tags": []
   },
   "outputs": [],
   "source": [
    "pipe = Pipeline(steps=[minmax_scaler, lr])"
   ]
  },
  {
   "cell_type": "code",
   "execution_count": 14,
   "id": "ac7d9ed6",
   "metadata": {
    "execution": {
     "iopub.execute_input": "2022-07-20T02:15:40.616216Z",
     "iopub.status.busy": "2022-07-20T02:15:40.615520Z",
     "iopub.status.idle": "2022-07-20T02:15:40.620018Z",
     "shell.execute_reply": "2022-07-20T02:15:40.619203Z"
    },
    "papermill": {
     "duration": 0.0118,
     "end_time": "2022-07-20T02:15:40.622061",
     "exception": false,
     "start_time": "2022-07-20T02:15:40.610261",
     "status": "completed"
    },
    "tags": []
   },
   "outputs": [],
   "source": [
    "param_grid = lr_param_grid"
   ]
  },
  {
   "cell_type": "code",
   "execution_count": 15,
   "id": "f04221ff",
   "metadata": {
    "execution": {
     "iopub.execute_input": "2022-07-20T02:15:40.632287Z",
     "iopub.status.busy": "2022-07-20T02:15:40.631899Z",
     "iopub.status.idle": "2022-07-20T02:15:40.636450Z",
     "shell.execute_reply": "2022-07-20T02:15:40.635370Z"
    },
    "papermill": {
     "duration": 0.0122,
     "end_time": "2022-07-20T02:15:40.638539",
     "exception": false,
     "start_time": "2022-07-20T02:15:40.626339",
     "status": "completed"
    },
    "tags": []
   },
   "outputs": [],
   "source": [
    "search = HalvingGridSearchCV(pipe, param_grid, scoring=f_onehalf_scorer, cv=cv, verbose=3, return_train_score=True)"
   ]
  },
  {
   "cell_type": "code",
   "execution_count": 16,
   "id": "11e369f7",
   "metadata": {
    "execution": {
     "iopub.execute_input": "2022-07-20T02:15:40.648922Z",
     "iopub.status.busy": "2022-07-20T02:15:40.648220Z",
     "iopub.status.idle": "2022-07-20T04:39:36.894160Z",
     "shell.execute_reply": "2022-07-20T04:39:36.891904Z"
    },
    "papermill": {
     "duration": 8636.313197,
     "end_time": "2022-07-20T04:39:36.955994",
     "exception": false,
     "start_time": "2022-07-20T02:15:40.642797",
     "status": "completed"
    },
    "tags": []
   },
   "outputs": [
    {
     "name": "stdout",
     "output_type": "stream",
     "text": [
      "n_iterations: 4\n",
      "n_required_iterations: 4\n",
      "n_possible_iterations: 4\n",
      "min_resources_: 39803\n",
      "max_resources_: 1074704\n",
      "aggressive_elimination: False\n",
      "factor: 3\n",
      "----------\n",
      "iter: 0\n",
      "n_candidates: 75\n",
      "n_resources: 39803\n",
      "Fitting 10 folds for each of 75 candidates, totalling 750 fits\n",
      "[CV 1/10] END lr__C=0.01, lr__max_iter=100, lr__penalty=l2, lr__solver=newton-cg;, score=(train=0.845, test=0.847) total time=   0.7s\n",
      "[CV 2/10] END lr__C=0.01, lr__max_iter=100, lr__penalty=l2, lr__solver=newton-cg;, score=(train=0.849, test=0.847) total time=   0.7s\n",
      "[CV 3/10] END lr__C=0.01, lr__max_iter=100, lr__penalty=l2, lr__solver=newton-cg;, score=(train=0.846, test=0.851) total time=   0.7s\n",
      "[CV 4/10] END lr__C=0.01, lr__max_iter=100, lr__penalty=l2, lr__solver=newton-cg;, score=(train=0.850, test=0.851) total time=   0.7s\n",
      "[CV 5/10] END lr__C=0.01, lr__max_iter=100, lr__penalty=l2, lr__solver=newton-cg;, score=(train=0.850, test=0.843) total time=   0.8s\n",
      "[CV 6/10] END lr__C=0.01, lr__max_iter=100, lr__penalty=l2, lr__solver=newton-cg;, score=(train=0.846, test=0.853) total time=   0.8s\n",
      "[CV 7/10] END lr__C=0.01, lr__max_iter=100, lr__penalty=l2, lr__solver=newton-cg;, score=(train=0.848, test=0.851) total time=   1.4s\n",
      "[CV 8/10] END lr__C=0.01, lr__max_iter=100, lr__penalty=l2, lr__solver=newton-cg;, score=(train=0.848, test=0.840) total time=   1.0s\n",
      "[CV 9/10] END lr__C=0.01, lr__max_iter=100, lr__penalty=l2, lr__solver=newton-cg;, score=(train=0.847, test=0.844) total time=   1.3s\n",
      "[CV 10/10] END lr__C=0.01, lr__max_iter=100, lr__penalty=l2, lr__solver=newton-cg;, score=(train=0.848, test=0.855) total time=   1.4s\n",
      "[CV 1/10] END lr__C=0.01, lr__max_iter=100, lr__penalty=l2, lr__solver=lbfgs;, score=(train=0.845, test=0.847) total time=   0.5s\n",
      "[CV 2/10] END lr__C=0.01, lr__max_iter=100, lr__penalty=l2, lr__solver=lbfgs;, score=(train=0.849, test=0.847) total time=   0.3s\n",
      "[CV 3/10] END lr__C=0.01, lr__max_iter=100, lr__penalty=l2, lr__solver=lbfgs;, score=(train=0.846, test=0.851) total time=   0.3s\n",
      "[CV 4/10] END lr__C=0.01, lr__max_iter=100, lr__penalty=l2, lr__solver=lbfgs;, score=(train=0.850, test=0.851) total time=   0.3s\n",
      "[CV 5/10] END lr__C=0.01, lr__max_iter=100, lr__penalty=l2, lr__solver=lbfgs;, score=(train=0.850, test=0.843) total time=   0.3s\n",
      "[CV 6/10] END lr__C=0.01, lr__max_iter=100, lr__penalty=l2, lr__solver=lbfgs;, score=(train=0.846, test=0.853) total time=   0.4s\n",
      "[CV 7/10] END lr__C=0.01, lr__max_iter=100, lr__penalty=l2, lr__solver=lbfgs;, score=(train=0.848, test=0.851) total time=   0.3s\n",
      "[CV 8/10] END lr__C=0.01, lr__max_iter=100, lr__penalty=l2, lr__solver=lbfgs;, score=(train=0.848, test=0.840) total time=   0.3s\n",
      "[CV 9/10] END lr__C=0.01, lr__max_iter=100, lr__penalty=l2, lr__solver=lbfgs;, score=(train=0.847, test=0.844) total time=   0.3s\n",
      "[CV 10/10] END lr__C=0.01, lr__max_iter=100, lr__penalty=l2, lr__solver=lbfgs;, score=(train=0.848, test=0.855) total time=   0.3s\n",
      "[CV 1/10] END lr__C=0.01, lr__max_iter=100, lr__penalty=l2, lr__solver=liblinear;, score=(train=0.845, test=0.847) total time=   0.2s\n",
      "[CV 2/10] END lr__C=0.01, lr__max_iter=100, lr__penalty=l2, lr__solver=liblinear;, score=(train=0.847, test=0.844) total time=   0.2s\n",
      "[CV 3/10] END lr__C=0.01, lr__max_iter=100, lr__penalty=l2, lr__solver=liblinear;, score=(train=0.844, test=0.850) total time=   0.2s\n",
      "[CV 4/10] END lr__C=0.01, lr__max_iter=100, lr__penalty=l2, lr__solver=liblinear;, score=(train=0.849, test=0.850) total time=   0.2s\n",
      "[CV 5/10] END lr__C=0.01, lr__max_iter=100, lr__penalty=l2, lr__solver=liblinear;, score=(train=0.850, test=0.842) total time=   0.2s\n",
      "[CV 6/10] END lr__C=0.01, lr__max_iter=100, lr__penalty=l2, lr__solver=liblinear;, score=(train=0.845, test=0.852) total time=   0.2s\n",
      "[CV 7/10] END lr__C=0.01, lr__max_iter=100, lr__penalty=l2, lr__solver=liblinear;, score=(train=0.847, test=0.851) total time=   0.2s\n",
      "[CV 8/10] END lr__C=0.01, lr__max_iter=100, lr__penalty=l2, lr__solver=liblinear;, score=(train=0.847, test=0.840) total time=   0.2s\n",
      "[CV 9/10] END lr__C=0.01, lr__max_iter=100, lr__penalty=l2, lr__solver=liblinear;, score=(train=0.846, test=0.843) total time=   0.2s\n",
      "[CV 10/10] END lr__C=0.01, lr__max_iter=100, lr__penalty=l2, lr__solver=liblinear;, score=(train=0.847, test=0.853) total time=   0.2s\n",
      "[CV 1/10] END lr__C=0.01, lr__max_iter=100, lr__penalty=l2, lr__solver=sag;, score=(train=0.845, test=0.847) total time=   0.5s\n",
      "[CV 2/10] END lr__C=0.01, lr__max_iter=100, lr__penalty=l2, lr__solver=sag;, score=(train=0.849, test=0.847) total time=   0.5s\n",
      "[CV 3/10] END lr__C=0.01, lr__max_iter=100, lr__penalty=l2, lr__solver=sag;, score=(train=0.846, test=0.851) total time=   0.5s\n",
      "[CV 4/10] END lr__C=0.01, lr__max_iter=100, lr__penalty=l2, lr__solver=sag;, score=(train=0.850, test=0.851) total time=   0.5s\n",
      "[CV 5/10] END lr__C=0.01, lr__max_iter=100, lr__penalty=l2, lr__solver=sag;, score=(train=0.850, test=0.843) total time=   0.6s\n",
      "[CV 6/10] END lr__C=0.01, lr__max_iter=100, lr__penalty=l2, lr__solver=sag;, score=(train=0.847, test=0.853) total time=   0.5s\n",
      "[CV 7/10] END lr__C=0.01, lr__max_iter=100, lr__penalty=l2, lr__solver=sag;, score=(train=0.848, test=0.851) total time=   0.6s\n",
      "[CV 8/10] END lr__C=0.01, lr__max_iter=100, lr__penalty=l2, lr__solver=sag;, score=(train=0.848, test=0.840) total time=   0.5s\n",
      "[CV 9/10] END lr__C=0.01, lr__max_iter=100, lr__penalty=l2, lr__solver=sag;, score=(train=0.847, test=0.844) total time=   0.6s\n",
      "[CV 10/10] END lr__C=0.01, lr__max_iter=100, lr__penalty=l2, lr__solver=sag;, score=(train=0.848, test=0.855) total time=   0.5s\n",
      "[CV 1/10] END lr__C=0.01, lr__max_iter=100, lr__penalty=l2, lr__solver=saga;, score=(train=0.845, test=0.847) total time=   0.7s\n",
      "[CV 2/10] END lr__C=0.01, lr__max_iter=100, lr__penalty=l2, lr__solver=saga;, score=(train=0.849, test=0.847) total time=   0.7s\n",
      "[CV 3/10] END lr__C=0.01, lr__max_iter=100, lr__penalty=l2, lr__solver=saga;, score=(train=0.846, test=0.851) total time=   0.7s\n",
      "[CV 4/10] END lr__C=0.01, lr__max_iter=100, lr__penalty=l2, lr__solver=saga;, score=(train=0.850, test=0.851) total time=   0.7s\n",
      "[CV 5/10] END lr__C=0.01, lr__max_iter=100, lr__penalty=l2, lr__solver=saga;, score=(train=0.850, test=0.843) total time=   0.7s\n",
      "[CV 6/10] END lr__C=0.01, lr__max_iter=100, lr__penalty=l2, lr__solver=saga;, score=(train=0.846, test=0.853) total time=   0.7s\n",
      "[CV 7/10] END lr__C=0.01, lr__max_iter=100, lr__penalty=l2, lr__solver=saga;, score=(train=0.848, test=0.851) total time=   0.7s\n",
      "[CV 8/10] END lr__C=0.01, lr__max_iter=100, lr__penalty=l2, lr__solver=saga;, score=(train=0.848, test=0.840) total time=   0.8s\n",
      "[CV 9/10] END lr__C=0.01, lr__max_iter=100, lr__penalty=l2, lr__solver=saga;, score=(train=0.847, test=0.844) total time=   0.7s\n",
      "[CV 10/10] END lr__C=0.01, lr__max_iter=100, lr__penalty=l2, lr__solver=saga;, score=(train=0.848, test=0.855) total time=   0.7s\n",
      "[CV 1/10] END lr__C=0.01, lr__max_iter=500, lr__penalty=l2, lr__solver=newton-cg;, score=(train=0.845, test=0.847) total time=   0.7s\n",
      "[CV 2/10] END lr__C=0.01, lr__max_iter=500, lr__penalty=l2, lr__solver=newton-cg;, score=(train=0.849, test=0.847) total time=   0.7s\n",
      "[CV 3/10] END lr__C=0.01, lr__max_iter=500, lr__penalty=l2, lr__solver=newton-cg;, score=(train=0.846, test=0.851) total time=   0.8s\n",
      "[CV 4/10] END lr__C=0.01, lr__max_iter=500, lr__penalty=l2, lr__solver=newton-cg;, score=(train=0.850, test=0.851) total time=   0.7s\n",
      "[CV 5/10] END lr__C=0.01, lr__max_iter=500, lr__penalty=l2, lr__solver=newton-cg;, score=(train=0.850, test=0.843) total time=   0.7s\n",
      "[CV 6/10] END lr__C=0.01, lr__max_iter=500, lr__penalty=l2, lr__solver=newton-cg;, score=(train=0.846, test=0.853) total time=   0.7s\n",
      "[CV 7/10] END lr__C=0.01, lr__max_iter=500, lr__penalty=l2, lr__solver=newton-cg;, score=(train=0.848, test=0.851) total time=   0.8s\n",
      "[CV 8/10] END lr__C=0.01, lr__max_iter=500, lr__penalty=l2, lr__solver=newton-cg;, score=(train=0.848, test=0.840) total time=   0.7s\n",
      "[CV 9/10] END lr__C=0.01, lr__max_iter=500, lr__penalty=l2, lr__solver=newton-cg;, score=(train=0.847, test=0.844) total time=   0.7s\n",
      "[CV 10/10] END lr__C=0.01, lr__max_iter=500, lr__penalty=l2, lr__solver=newton-cg;, score=(train=0.848, test=0.855) total time=   0.7s\n",
      "[CV 1/10] END lr__C=0.01, lr__max_iter=500, lr__penalty=l2, lr__solver=lbfgs;, score=(train=0.845, test=0.847) total time=   0.4s\n",
      "[CV 2/10] END lr__C=0.01, lr__max_iter=500, lr__penalty=l2, lr__solver=lbfgs;, score=(train=0.849, test=0.847) total time=   0.6s\n",
      "[CV 3/10] END lr__C=0.01, lr__max_iter=500, lr__penalty=l2, lr__solver=lbfgs;, score=(train=0.846, test=0.851) total time=   0.4s\n",
      "[CV 4/10] END lr__C=0.01, lr__max_iter=500, lr__penalty=l2, lr__solver=lbfgs;, score=(train=0.850, test=0.851) total time=   0.5s\n",
      "[CV 5/10] END lr__C=0.01, lr__max_iter=500, lr__penalty=l2, lr__solver=lbfgs;, score=(train=0.850, test=0.843) total time=   0.4s\n",
      "[CV 6/10] END lr__C=0.01, lr__max_iter=500, lr__penalty=l2, lr__solver=lbfgs;, score=(train=0.846, test=0.853) total time=   0.3s\n",
      "[CV 7/10] END lr__C=0.01, lr__max_iter=500, lr__penalty=l2, lr__solver=lbfgs;, score=(train=0.848, test=0.851) total time=   0.4s\n",
      "[CV 8/10] END lr__C=0.01, lr__max_iter=500, lr__penalty=l2, lr__solver=lbfgs;, score=(train=0.848, test=0.840) total time=   0.3s\n",
      "[CV 9/10] END lr__C=0.01, lr__max_iter=500, lr__penalty=l2, lr__solver=lbfgs;, score=(train=0.847, test=0.844) total time=   0.3s\n",
      "[CV 10/10] END lr__C=0.01, lr__max_iter=500, lr__penalty=l2, lr__solver=lbfgs;, score=(train=0.848, test=0.855) total time=   0.3s\n",
      "[CV 1/10] END lr__C=0.01, lr__max_iter=500, lr__penalty=l2, lr__solver=liblinear;, score=(train=0.845, test=0.847) total time=   0.2s\n",
      "[CV 2/10] END lr__C=0.01, lr__max_iter=500, lr__penalty=l2, lr__solver=liblinear;, score=(train=0.847, test=0.844) total time=   0.2s\n",
      "[CV 3/10] END lr__C=0.01, lr__max_iter=500, lr__penalty=l2, lr__solver=liblinear;, score=(train=0.844, test=0.850) total time=   0.2s\n",
      "[CV 4/10] END lr__C=0.01, lr__max_iter=500, lr__penalty=l2, lr__solver=liblinear;, score=(train=0.849, test=0.850) total time=   0.2s\n",
      "[CV 5/10] END lr__C=0.01, lr__max_iter=500, lr__penalty=l2, lr__solver=liblinear;, score=(train=0.850, test=0.842) total time=   0.2s\n",
      "[CV 6/10] END lr__C=0.01, lr__max_iter=500, lr__penalty=l2, lr__solver=liblinear;, score=(train=0.845, test=0.852) total time=   0.2s\n",
      "[CV 7/10] END lr__C=0.01, lr__max_iter=500, lr__penalty=l2, lr__solver=liblinear;, score=(train=0.847, test=0.851) total time=   0.2s\n",
      "[CV 8/10] END lr__C=0.01, lr__max_iter=500, lr__penalty=l2, lr__solver=liblinear;, score=(train=0.847, test=0.840) total time=   0.2s\n",
      "[CV 9/10] END lr__C=0.01, lr__max_iter=500, lr__penalty=l2, lr__solver=liblinear;, score=(train=0.846, test=0.843) total time=   0.2s\n",
      "[CV 10/10] END lr__C=0.01, lr__max_iter=500, lr__penalty=l2, lr__solver=liblinear;, score=(train=0.847, test=0.853) total time=   0.2s\n",
      "[CV 1/10] END lr__C=0.01, lr__max_iter=500, lr__penalty=l2, lr__solver=sag;, score=(train=0.845, test=0.847) total time=   0.5s\n",
      "[CV 2/10] END lr__C=0.01, lr__max_iter=500, lr__penalty=l2, lr__solver=sag;, score=(train=0.849, test=0.847) total time=   0.6s\n",
      "[CV 3/10] END lr__C=0.01, lr__max_iter=500, lr__penalty=l2, lr__solver=sag;, score=(train=0.846, test=0.851) total time=   0.6s\n",
      "[CV 4/10] END lr__C=0.01, lr__max_iter=500, lr__penalty=l2, lr__solver=sag;, score=(train=0.850, test=0.851) total time=   0.5s\n",
      "[CV 5/10] END lr__C=0.01, lr__max_iter=500, lr__penalty=l2, lr__solver=sag;, score=(train=0.850, test=0.843) total time=   0.5s\n",
      "[CV 6/10] END lr__C=0.01, lr__max_iter=500, lr__penalty=l2, lr__solver=sag;, score=(train=0.846, test=0.853) total time=   0.6s\n",
      "[CV 7/10] END lr__C=0.01, lr__max_iter=500, lr__penalty=l2, lr__solver=sag;, score=(train=0.848, test=0.851) total time=   0.5s\n",
      "[CV 8/10] END lr__C=0.01, lr__max_iter=500, lr__penalty=l2, lr__solver=sag;, score=(train=0.848, test=0.840) total time=   0.5s\n",
      "[CV 9/10] END lr__C=0.01, lr__max_iter=500, lr__penalty=l2, lr__solver=sag;, score=(train=0.847, test=0.844) total time=   0.6s\n",
      "[CV 10/10] END lr__C=0.01, lr__max_iter=500, lr__penalty=l2, lr__solver=sag;, score=(train=0.848, test=0.855) total time=   0.6s\n",
      "[CV 1/10] END lr__C=0.01, lr__max_iter=500, lr__penalty=l2, lr__solver=saga;, score=(train=0.845, test=0.847) total time=   0.7s\n",
      "[CV 2/10] END lr__C=0.01, lr__max_iter=500, lr__penalty=l2, lr__solver=saga;, score=(train=0.849, test=0.847) total time=   0.8s\n",
      "[CV 3/10] END lr__C=0.01, lr__max_iter=500, lr__penalty=l2, lr__solver=saga;, score=(train=0.846, test=0.851) total time=   0.7s\n",
      "[CV 4/10] END lr__C=0.01, lr__max_iter=500, lr__penalty=l2, lr__solver=saga;, score=(train=0.850, test=0.851) total time=   0.7s\n",
      "[CV 5/10] END lr__C=0.01, lr__max_iter=500, lr__penalty=l2, lr__solver=saga;, score=(train=0.850, test=0.843) total time=   0.7s\n",
      "[CV 6/10] END lr__C=0.01, lr__max_iter=500, lr__penalty=l2, lr__solver=saga;, score=(train=0.846, test=0.853) total time=   0.7s\n",
      "[CV 7/10] END lr__C=0.01, lr__max_iter=500, lr__penalty=l2, lr__solver=saga;, score=(train=0.848, test=0.851) total time=   0.7s\n",
      "[CV 8/10] END lr__C=0.01, lr__max_iter=500, lr__penalty=l2, lr__solver=saga;, score=(train=0.848, test=0.840) total time=   0.8s\n",
      "[CV 9/10] END lr__C=0.01, lr__max_iter=500, lr__penalty=l2, lr__solver=saga;, score=(train=0.847, test=0.844) total time=   0.7s\n",
      "[CV 10/10] END lr__C=0.01, lr__max_iter=500, lr__penalty=l2, lr__solver=saga;, score=(train=0.848, test=0.855) total time=   0.7s\n",
      "[CV 1/10] END lr__C=0.01, lr__max_iter=1000, lr__penalty=l2, lr__solver=newton-cg;, score=(train=0.845, test=0.847) total time=   0.7s\n",
      "[CV 2/10] END lr__C=0.01, lr__max_iter=1000, lr__penalty=l2, lr__solver=newton-cg;, score=(train=0.849, test=0.847) total time=   0.7s\n",
      "[CV 3/10] END lr__C=0.01, lr__max_iter=1000, lr__penalty=l2, lr__solver=newton-cg;, score=(train=0.846, test=0.851) total time=   0.8s\n",
      "[CV 4/10] END lr__C=0.01, lr__max_iter=1000, lr__penalty=l2, lr__solver=newton-cg;, score=(train=0.850, test=0.851) total time=   0.7s\n",
      "[CV 5/10] END lr__C=0.01, lr__max_iter=1000, lr__penalty=l2, lr__solver=newton-cg;, score=(train=0.850, test=0.843) total time=   0.7s\n",
      "[CV 6/10] END lr__C=0.01, lr__max_iter=1000, lr__penalty=l2, lr__solver=newton-cg;, score=(train=0.846, test=0.853) total time=   0.7s\n",
      "[CV 7/10] END lr__C=0.01, lr__max_iter=1000, lr__penalty=l2, lr__solver=newton-cg;, score=(train=0.848, test=0.851) total time=   0.8s\n",
      "[CV 8/10] END lr__C=0.01, lr__max_iter=1000, lr__penalty=l2, lr__solver=newton-cg;, score=(train=0.848, test=0.840) total time=   0.7s\n",
      "[CV 9/10] END lr__C=0.01, lr__max_iter=1000, lr__penalty=l2, lr__solver=newton-cg;, score=(train=0.847, test=0.844) total time=   0.7s\n",
      "[CV 10/10] END lr__C=0.01, lr__max_iter=1000, lr__penalty=l2, lr__solver=newton-cg;, score=(train=0.848, test=0.855) total time=   0.7s\n",
      "[CV 1/10] END lr__C=0.01, lr__max_iter=1000, lr__penalty=l2, lr__solver=lbfgs;, score=(train=0.845, test=0.847) total time=   0.3s\n",
      "[CV 2/10] END lr__C=0.01, lr__max_iter=1000, lr__penalty=l2, lr__solver=lbfgs;, score=(train=0.849, test=0.847) total time=   0.3s\n",
      "[CV 3/10] END lr__C=0.01, lr__max_iter=1000, lr__penalty=l2, lr__solver=lbfgs;, score=(train=0.846, test=0.851) total time=   0.3s\n",
      "[CV 4/10] END lr__C=0.01, lr__max_iter=1000, lr__penalty=l2, lr__solver=lbfgs;, score=(train=0.850, test=0.851) total time=   0.3s\n",
      "[CV 5/10] END lr__C=0.01, lr__max_iter=1000, lr__penalty=l2, lr__solver=lbfgs;, score=(train=0.850, test=0.843) total time=   0.3s\n",
      "[CV 6/10] END lr__C=0.01, lr__max_iter=1000, lr__penalty=l2, lr__solver=lbfgs;, score=(train=0.846, test=0.853) total time=   0.3s\n",
      "[CV 7/10] END lr__C=0.01, lr__max_iter=1000, lr__penalty=l2, lr__solver=lbfgs;, score=(train=0.848, test=0.851) total time=   0.3s\n",
      "[CV 8/10] END lr__C=0.01, lr__max_iter=1000, lr__penalty=l2, lr__solver=lbfgs;, score=(train=0.848, test=0.840) total time=   0.3s\n",
      "[CV 9/10] END lr__C=0.01, lr__max_iter=1000, lr__penalty=l2, lr__solver=lbfgs;, score=(train=0.847, test=0.844) total time=   0.3s\n",
      "[CV 10/10] END lr__C=0.01, lr__max_iter=1000, lr__penalty=l2, lr__solver=lbfgs;, score=(train=0.848, test=0.855) total time=   0.3s\n",
      "[CV 1/10] END lr__C=0.01, lr__max_iter=1000, lr__penalty=l2, lr__solver=liblinear;, score=(train=0.845, test=0.847) total time=   0.2s\n",
      "[CV 2/10] END lr__C=0.01, lr__max_iter=1000, lr__penalty=l2, lr__solver=liblinear;, score=(train=0.847, test=0.844) total time=   0.2s\n",
      "[CV 3/10] END lr__C=0.01, lr__max_iter=1000, lr__penalty=l2, lr__solver=liblinear;, score=(train=0.844, test=0.850) total time=   0.2s\n",
      "[CV 4/10] END lr__C=0.01, lr__max_iter=1000, lr__penalty=l2, lr__solver=liblinear;, score=(train=0.849, test=0.850) total time=   0.2s\n",
      "[CV 5/10] END lr__C=0.01, lr__max_iter=1000, lr__penalty=l2, lr__solver=liblinear;, score=(train=0.850, test=0.842) total time=   0.2s\n",
      "[CV 6/10] END lr__C=0.01, lr__max_iter=1000, lr__penalty=l2, lr__solver=liblinear;, score=(train=0.845, test=0.852) total time=   0.2s\n",
      "[CV 7/10] END lr__C=0.01, lr__max_iter=1000, lr__penalty=l2, lr__solver=liblinear;, score=(train=0.847, test=0.851) total time=   0.2s\n",
      "[CV 8/10] END lr__C=0.01, lr__max_iter=1000, lr__penalty=l2, lr__solver=liblinear;, score=(train=0.847, test=0.840) total time=   0.2s\n",
      "[CV 9/10] END lr__C=0.01, lr__max_iter=1000, lr__penalty=l2, lr__solver=liblinear;, score=(train=0.846, test=0.843) total time=   0.2s\n",
      "[CV 10/10] END lr__C=0.01, lr__max_iter=1000, lr__penalty=l2, lr__solver=liblinear;, score=(train=0.847, test=0.853) total time=   0.2s\n",
      "[CV 1/10] END lr__C=0.01, lr__max_iter=1000, lr__penalty=l2, lr__solver=sag;, score=(train=0.845, test=0.847) total time=   0.6s\n",
      "[CV 2/10] END lr__C=0.01, lr__max_iter=1000, lr__penalty=l2, lr__solver=sag;, score=(train=0.849, test=0.847) total time=   0.5s\n",
      "[CV 3/10] END lr__C=0.01, lr__max_iter=1000, lr__penalty=l2, lr__solver=sag;, score=(train=0.846, test=0.851) total time=   0.6s\n",
      "[CV 4/10] END lr__C=0.01, lr__max_iter=1000, lr__penalty=l2, lr__solver=sag;, score=(train=0.850, test=0.851) total time=   0.6s\n",
      "[CV 5/10] END lr__C=0.01, lr__max_iter=1000, lr__penalty=l2, lr__solver=sag;, score=(train=0.850, test=0.843) total time=   0.6s\n",
      "[CV 6/10] END lr__C=0.01, lr__max_iter=1000, lr__penalty=l2, lr__solver=sag;, score=(train=0.847, test=0.853) total time=   0.5s\n",
      "[CV 7/10] END lr__C=0.01, lr__max_iter=1000, lr__penalty=l2, lr__solver=sag;, score=(train=0.848, test=0.851) total time=   0.6s\n",
      "[CV 8/10] END lr__C=0.01, lr__max_iter=1000, lr__penalty=l2, lr__solver=sag;, score=(train=0.848, test=0.840) total time=   0.5s\n",
      "[CV 9/10] END lr__C=0.01, lr__max_iter=1000, lr__penalty=l2, lr__solver=sag;, score=(train=0.847, test=0.844) total time=   0.5s\n",
      "[CV 10/10] END lr__C=0.01, lr__max_iter=1000, lr__penalty=l2, lr__solver=sag;, score=(train=0.848, test=0.855) total time=   0.5s\n",
      "[CV 1/10] END lr__C=0.01, lr__max_iter=1000, lr__penalty=l2, lr__solver=saga;, score=(train=0.845, test=0.847) total time=   0.7s\n",
      "[CV 2/10] END lr__C=0.01, lr__max_iter=1000, lr__penalty=l2, lr__solver=saga;, score=(train=0.849, test=0.847) total time=   0.7s\n",
      "[CV 3/10] END lr__C=0.01, lr__max_iter=1000, lr__penalty=l2, lr__solver=saga;, score=(train=0.846, test=0.851) total time=   0.8s\n",
      "[CV 4/10] END lr__C=0.01, lr__max_iter=1000, lr__penalty=l2, lr__solver=saga;, score=(train=0.850, test=0.851) total time=   0.7s\n",
      "[CV 5/10] END lr__C=0.01, lr__max_iter=1000, lr__penalty=l2, lr__solver=saga;, score=(train=0.850, test=0.843) total time=   0.7s\n",
      "[CV 6/10] END lr__C=0.01, lr__max_iter=1000, lr__penalty=l2, lr__solver=saga;, score=(train=0.847, test=0.853) total time=   0.7s\n",
      "[CV 7/10] END lr__C=0.01, lr__max_iter=1000, lr__penalty=l2, lr__solver=saga;, score=(train=0.848, test=0.851) total time=   0.7s\n",
      "[CV 8/10] END lr__C=0.01, lr__max_iter=1000, lr__penalty=l2, lr__solver=saga;, score=(train=0.848, test=0.840) total time=   0.7s\n",
      "[CV 9/10] END lr__C=0.01, lr__max_iter=1000, lr__penalty=l2, lr__solver=saga;, score=(train=0.847, test=0.844) total time=   0.7s\n",
      "[CV 10/10] END lr__C=0.01, lr__max_iter=1000, lr__penalty=l2, lr__solver=saga;, score=(train=0.848, test=0.855) total time=   0.7s\n",
      "[CV 1/10] END lr__C=0.1, lr__max_iter=100, lr__penalty=l2, lr__solver=newton-cg;, score=(train=0.884, test=0.883) total time=   1.0s\n",
      "[CV 2/10] END lr__C=0.1, lr__max_iter=100, lr__penalty=l2, lr__solver=newton-cg;, score=(train=0.886, test=0.884) total time=   1.0s\n",
      "[CV 3/10] END lr__C=0.1, lr__max_iter=100, lr__penalty=l2, lr__solver=newton-cg;, score=(train=0.884, test=0.887) total time=   1.0s\n",
      "[CV 4/10] END lr__C=0.1, lr__max_iter=100, lr__penalty=l2, lr__solver=newton-cg;, score=(train=0.887, test=0.890) total time=   1.0s\n",
      "[CV 5/10] END lr__C=0.1, lr__max_iter=100, lr__penalty=l2, lr__solver=newton-cg;, score=(train=0.888, test=0.879) total time=   1.0s\n",
      "[CV 6/10] END lr__C=0.1, lr__max_iter=100, lr__penalty=l2, lr__solver=newton-cg;, score=(train=0.885, test=0.888) total time=   1.0s\n",
      "[CV 7/10] END lr__C=0.1, lr__max_iter=100, lr__penalty=l2, lr__solver=newton-cg;, score=(train=0.885, test=0.887) total time=   0.9s\n",
      "[CV 8/10] END lr__C=0.1, lr__max_iter=100, lr__penalty=l2, lr__solver=newton-cg;, score=(train=0.887, test=0.884) total time=   1.0s\n",
      "[CV 9/10] END lr__C=0.1, lr__max_iter=100, lr__penalty=l2, lr__solver=newton-cg;, score=(train=0.885, test=0.882) total time=   1.1s\n",
      "[CV 10/10] END lr__C=0.1, lr__max_iter=100, lr__penalty=l2, lr__solver=newton-cg;, score=(train=0.886, test=0.892) total time=   1.0s\n",
      "[CV 1/10] END lr__C=0.1, lr__max_iter=100, lr__penalty=l2, lr__solver=lbfgs;, score=(train=0.884, test=0.883) total time=   0.6s\n",
      "[CV 2/10] END lr__C=0.1, lr__max_iter=100, lr__penalty=l2, lr__solver=lbfgs;, score=(train=0.886, test=0.884) total time=   0.6s\n",
      "[CV 3/10] END lr__C=0.1, lr__max_iter=100, lr__penalty=l2, lr__solver=lbfgs;, score=(train=0.884, test=0.888) total time=   0.6s\n",
      "[CV 4/10] END lr__C=0.1, lr__max_iter=100, lr__penalty=l2, lr__solver=lbfgs;, score=(train=0.887, test=0.890) total time=   0.6s\n",
      "[CV 5/10] END lr__C=0.1, lr__max_iter=100, lr__penalty=l2, lr__solver=lbfgs;, score=(train=0.888, test=0.879) total time=   0.6s\n",
      "[CV 6/10] END lr__C=0.1, lr__max_iter=100, lr__penalty=l2, lr__solver=lbfgs;, score=(train=0.885, test=0.888) total time=   0.6s\n",
      "[CV 7/10] END lr__C=0.1, lr__max_iter=100, lr__penalty=l2, lr__solver=lbfgs;, score=(train=0.885, test=0.887) total time=   0.6s\n",
      "[CV 8/10] END lr__C=0.1, lr__max_iter=100, lr__penalty=l2, lr__solver=lbfgs;, score=(train=0.887, test=0.884) total time=   0.6s\n",
      "[CV 9/10] END lr__C=0.1, lr__max_iter=100, lr__penalty=l2, lr__solver=lbfgs;, score=(train=0.885, test=0.882) total time=   0.6s\n",
      "[CV 10/10] END lr__C=0.1, lr__max_iter=100, lr__penalty=l2, lr__solver=lbfgs;, score=(train=0.886, test=0.892) total time=   0.6s\n",
      "[CV 1/10] END lr__C=0.1, lr__max_iter=100, lr__penalty=l2, lr__solver=liblinear;, score=(train=0.884, test=0.883) total time=   0.3s\n",
      "[CV 2/10] END lr__C=0.1, lr__max_iter=100, lr__penalty=l2, lr__solver=liblinear;, score=(train=0.886, test=0.884) total time=   0.3s\n",
      "[CV 3/10] END lr__C=0.1, lr__max_iter=100, lr__penalty=l2, lr__solver=liblinear;, score=(train=0.884, test=0.888) total time=   0.3s\n",
      "[CV 4/10] END lr__C=0.1, lr__max_iter=100, lr__penalty=l2, lr__solver=liblinear;, score=(train=0.887, test=0.890) total time=   0.3s\n",
      "[CV 5/10] END lr__C=0.1, lr__max_iter=100, lr__penalty=l2, lr__solver=liblinear;, score=(train=0.888, test=0.879) total time=   0.3s\n",
      "[CV 6/10] END lr__C=0.1, lr__max_iter=100, lr__penalty=l2, lr__solver=liblinear;, score=(train=0.885, test=0.887) total time=   0.3s\n",
      "[CV 7/10] END lr__C=0.1, lr__max_iter=100, lr__penalty=l2, lr__solver=liblinear;, score=(train=0.885, test=0.886) total time=   0.3s\n",
      "[CV 8/10] END lr__C=0.1, lr__max_iter=100, lr__penalty=l2, lr__solver=liblinear;, score=(train=0.887, test=0.884) total time=   0.3s\n",
      "[CV 9/10] END lr__C=0.1, lr__max_iter=100, lr__penalty=l2, lr__solver=liblinear;, score=(train=0.885, test=0.882) total time=   0.3s\n",
      "[CV 10/10] END lr__C=0.1, lr__max_iter=100, lr__penalty=l2, lr__solver=liblinear;, score=(train=0.886, test=0.891) total time=   0.3s\n",
      "[CV 1/10] END lr__C=0.1, lr__max_iter=100, lr__penalty=l2, lr__solver=sag;, score=(train=0.884, test=0.883) total time=   0.6s\n",
      "[CV 2/10] END lr__C=0.1, lr__max_iter=100, lr__penalty=l2, lr__solver=sag;, score=(train=0.886, test=0.884) total time=   0.6s\n",
      "[CV 3/10] END lr__C=0.1, lr__max_iter=100, lr__penalty=l2, lr__solver=sag;, score=(train=0.884, test=0.887) total time=   0.6s\n",
      "[CV 4/10] END lr__C=0.1, lr__max_iter=100, lr__penalty=l2, lr__solver=sag;, score=(train=0.887, test=0.890) total time=   0.6s\n",
      "[CV 5/10] END lr__C=0.1, lr__max_iter=100, lr__penalty=l2, lr__solver=sag;, score=(train=0.888, test=0.879) total time=   0.6s\n",
      "[CV 6/10] END lr__C=0.1, lr__max_iter=100, lr__penalty=l2, lr__solver=sag;, score=(train=0.885, test=0.888) total time=   0.6s\n",
      "[CV 7/10] END lr__C=0.1, lr__max_iter=100, lr__penalty=l2, lr__solver=sag;, score=(train=0.885, test=0.887) total time=   0.6s\n",
      "[CV 8/10] END lr__C=0.1, lr__max_iter=100, lr__penalty=l2, lr__solver=sag;, score=(train=0.887, test=0.884) total time=   0.6s\n",
      "[CV 9/10] END lr__C=0.1, lr__max_iter=100, lr__penalty=l2, lr__solver=sag;, score=(train=0.885, test=0.882) total time=   0.6s\n",
      "[CV 10/10] END lr__C=0.1, lr__max_iter=100, lr__penalty=l2, lr__solver=sag;, score=(train=0.886, test=0.892) total time=   0.6s\n",
      "[CV 1/10] END lr__C=0.1, lr__max_iter=100, lr__penalty=l2, lr__solver=saga;, score=(train=0.884, test=0.883) total time=   0.7s\n",
      "[CV 2/10] END lr__C=0.1, lr__max_iter=100, lr__penalty=l2, lr__solver=saga;, score=(train=0.886, test=0.884) total time=   0.6s\n",
      "[CV 3/10] END lr__C=0.1, lr__max_iter=100, lr__penalty=l2, lr__solver=saga;, score=(train=0.884, test=0.888) total time=   0.7s\n",
      "[CV 4/10] END lr__C=0.1, lr__max_iter=100, lr__penalty=l2, lr__solver=saga;, score=(train=0.887, test=0.890) total time=   0.6s\n",
      "[CV 5/10] END lr__C=0.1, lr__max_iter=100, lr__penalty=l2, lr__solver=saga;, score=(train=0.888, test=0.879) total time=   0.7s\n",
      "[CV 6/10] END lr__C=0.1, lr__max_iter=100, lr__penalty=l2, lr__solver=saga;, score=(train=0.885, test=0.888) total time=   0.6s\n",
      "[CV 7/10] END lr__C=0.1, lr__max_iter=100, lr__penalty=l2, lr__solver=saga;, score=(train=0.885, test=0.887) total time=   0.7s\n",
      "[CV 8/10] END lr__C=0.1, lr__max_iter=100, lr__penalty=l2, lr__solver=saga;, score=(train=0.887, test=0.884) total time=   0.7s\n",
      "[CV 9/10] END lr__C=0.1, lr__max_iter=100, lr__penalty=l2, lr__solver=saga;, score=(train=0.885, test=0.882) total time=   0.6s\n",
      "[CV 10/10] END lr__C=0.1, lr__max_iter=100, lr__penalty=l2, lr__solver=saga;, score=(train=0.886, test=0.892) total time=   0.7s\n",
      "[CV 1/10] END lr__C=0.1, lr__max_iter=500, lr__penalty=l2, lr__solver=newton-cg;, score=(train=0.884, test=0.883) total time=   1.0s\n",
      "[CV 2/10] END lr__C=0.1, lr__max_iter=500, lr__penalty=l2, lr__solver=newton-cg;, score=(train=0.886, test=0.884) total time=   1.0s\n",
      "[CV 3/10] END lr__C=0.1, lr__max_iter=500, lr__penalty=l2, lr__solver=newton-cg;, score=(train=0.884, test=0.887) total time=   1.1s\n",
      "[CV 4/10] END lr__C=0.1, lr__max_iter=500, lr__penalty=l2, lr__solver=newton-cg;, score=(train=0.887, test=0.890) total time=   1.0s\n",
      "[CV 5/10] END lr__C=0.1, lr__max_iter=500, lr__penalty=l2, lr__solver=newton-cg;, score=(train=0.888, test=0.879) total time=   1.1s\n",
      "[CV 6/10] END lr__C=0.1, lr__max_iter=500, lr__penalty=l2, lr__solver=newton-cg;, score=(train=0.885, test=0.888) total time=   1.0s\n",
      "[CV 7/10] END lr__C=0.1, lr__max_iter=500, lr__penalty=l2, lr__solver=newton-cg;, score=(train=0.885, test=0.887) total time=   0.9s\n",
      "[CV 8/10] END lr__C=0.1, lr__max_iter=500, lr__penalty=l2, lr__solver=newton-cg;, score=(train=0.887, test=0.884) total time=   1.2s\n",
      "[CV 9/10] END lr__C=0.1, lr__max_iter=500, lr__penalty=l2, lr__solver=newton-cg;, score=(train=0.885, test=0.882) total time=   1.0s\n",
      "[CV 10/10] END lr__C=0.1, lr__max_iter=500, lr__penalty=l2, lr__solver=newton-cg;, score=(train=0.886, test=0.892) total time=   1.0s\n",
      "[CV 1/10] END lr__C=0.1, lr__max_iter=500, lr__penalty=l2, lr__solver=lbfgs;, score=(train=0.884, test=0.883) total time=   0.6s\n",
      "[CV 2/10] END lr__C=0.1, lr__max_iter=500, lr__penalty=l2, lr__solver=lbfgs;, score=(train=0.886, test=0.884) total time=   0.6s\n",
      "[CV 3/10] END lr__C=0.1, lr__max_iter=500, lr__penalty=l2, lr__solver=lbfgs;, score=(train=0.884, test=0.888) total time=   0.6s\n",
      "[CV 4/10] END lr__C=0.1, lr__max_iter=500, lr__penalty=l2, lr__solver=lbfgs;, score=(train=0.887, test=0.890) total time=   0.6s\n",
      "[CV 5/10] END lr__C=0.1, lr__max_iter=500, lr__penalty=l2, lr__solver=lbfgs;, score=(train=0.888, test=0.879) total time=   0.6s\n",
      "[CV 6/10] END lr__C=0.1, lr__max_iter=500, lr__penalty=l2, lr__solver=lbfgs;, score=(train=0.885, test=0.888) total time=   0.6s\n",
      "[CV 7/10] END lr__C=0.1, lr__max_iter=500, lr__penalty=l2, lr__solver=lbfgs;, score=(train=0.885, test=0.887) total time=   0.6s\n",
      "[CV 8/10] END lr__C=0.1, lr__max_iter=500, lr__penalty=l2, lr__solver=lbfgs;, score=(train=0.887, test=0.884) total time=   0.9s\n",
      "[CV 9/10] END lr__C=0.1, lr__max_iter=500, lr__penalty=l2, lr__solver=lbfgs;, score=(train=0.885, test=0.882) total time=   0.8s\n",
      "[CV 10/10] END lr__C=0.1, lr__max_iter=500, lr__penalty=l2, lr__solver=lbfgs;, score=(train=0.886, test=0.892) total time=   0.6s\n",
      "[CV 1/10] END lr__C=0.1, lr__max_iter=500, lr__penalty=l2, lr__solver=liblinear;, score=(train=0.884, test=0.883) total time=   0.3s\n",
      "[CV 2/10] END lr__C=0.1, lr__max_iter=500, lr__penalty=l2, lr__solver=liblinear;, score=(train=0.886, test=0.884) total time=   0.3s\n",
      "[CV 3/10] END lr__C=0.1, lr__max_iter=500, lr__penalty=l2, lr__solver=liblinear;, score=(train=0.884, test=0.888) total time=   0.3s\n",
      "[CV 4/10] END lr__C=0.1, lr__max_iter=500, lr__penalty=l2, lr__solver=liblinear;, score=(train=0.887, test=0.890) total time=   0.3s\n",
      "[CV 5/10] END lr__C=0.1, lr__max_iter=500, lr__penalty=l2, lr__solver=liblinear;, score=(train=0.888, test=0.879) total time=   0.3s\n",
      "[CV 6/10] END lr__C=0.1, lr__max_iter=500, lr__penalty=l2, lr__solver=liblinear;, score=(train=0.885, test=0.887) total time=   0.3s\n",
      "[CV 7/10] END lr__C=0.1, lr__max_iter=500, lr__penalty=l2, lr__solver=liblinear;, score=(train=0.885, test=0.886) total time=   0.3s\n",
      "[CV 8/10] END lr__C=0.1, lr__max_iter=500, lr__penalty=l2, lr__solver=liblinear;, score=(train=0.887, test=0.884) total time=   0.3s\n",
      "[CV 9/10] END lr__C=0.1, lr__max_iter=500, lr__penalty=l2, lr__solver=liblinear;, score=(train=0.885, test=0.882) total time=   0.3s\n",
      "[CV 10/10] END lr__C=0.1, lr__max_iter=500, lr__penalty=l2, lr__solver=liblinear;, score=(train=0.886, test=0.891) total time=   0.3s\n",
      "[CV 1/10] END lr__C=0.1, lr__max_iter=500, lr__penalty=l2, lr__solver=sag;, score=(train=0.884, test=0.883) total time=   0.6s\n",
      "[CV 2/10] END lr__C=0.1, lr__max_iter=500, lr__penalty=l2, lr__solver=sag;, score=(train=0.886, test=0.884) total time=   0.7s\n",
      "[CV 3/10] END lr__C=0.1, lr__max_iter=500, lr__penalty=l2, lr__solver=sag;, score=(train=0.884, test=0.888) total time=   0.6s\n",
      "[CV 4/10] END lr__C=0.1, lr__max_iter=500, lr__penalty=l2, lr__solver=sag;, score=(train=0.887, test=0.890) total time=   0.6s\n",
      "[CV 5/10] END lr__C=0.1, lr__max_iter=500, lr__penalty=l2, lr__solver=sag;, score=(train=0.888, test=0.879) total time=   0.7s\n",
      "[CV 6/10] END lr__C=0.1, lr__max_iter=500, lr__penalty=l2, lr__solver=sag;, score=(train=0.885, test=0.888) total time=   0.6s\n",
      "[CV 7/10] END lr__C=0.1, lr__max_iter=500, lr__penalty=l2, lr__solver=sag;, score=(train=0.885, test=0.887) total time=   0.6s\n",
      "[CV 8/10] END lr__C=0.1, lr__max_iter=500, lr__penalty=l2, lr__solver=sag;, score=(train=0.887, test=0.884) total time=   0.6s\n",
      "[CV 9/10] END lr__C=0.1, lr__max_iter=500, lr__penalty=l2, lr__solver=sag;, score=(train=0.885, test=0.882) total time=   0.6s\n",
      "[CV 10/10] END lr__C=0.1, lr__max_iter=500, lr__penalty=l2, lr__solver=sag;, score=(train=0.886, test=0.892) total time=   0.6s\n",
      "[CV 1/10] END lr__C=0.1, lr__max_iter=500, lr__penalty=l2, lr__solver=saga;, score=(train=0.884, test=0.883) total time=   0.6s\n",
      "[CV 2/10] END lr__C=0.1, lr__max_iter=500, lr__penalty=l2, lr__solver=saga;, score=(train=0.886, test=0.884) total time=   0.7s\n",
      "[CV 3/10] END lr__C=0.1, lr__max_iter=500, lr__penalty=l2, lr__solver=saga;, score=(train=0.884, test=0.888) total time=   0.6s\n",
      "[CV 4/10] END lr__C=0.1, lr__max_iter=500, lr__penalty=l2, lr__solver=saga;, score=(train=0.887, test=0.890) total time=   0.6s\n",
      "[CV 5/10] END lr__C=0.1, lr__max_iter=500, lr__penalty=l2, lr__solver=saga;, score=(train=0.888, test=0.879) total time=   0.7s\n",
      "[CV 6/10] END lr__C=0.1, lr__max_iter=500, lr__penalty=l2, lr__solver=saga;, score=(train=0.885, test=0.888) total time=   0.6s\n",
      "[CV 7/10] END lr__C=0.1, lr__max_iter=500, lr__penalty=l2, lr__solver=saga;, score=(train=0.885, test=0.887) total time=   0.6s\n",
      "[CV 8/10] END lr__C=0.1, lr__max_iter=500, lr__penalty=l2, lr__solver=saga;, score=(train=0.887, test=0.884) total time=   0.7s\n",
      "[CV 9/10] END lr__C=0.1, lr__max_iter=500, lr__penalty=l2, lr__solver=saga;, score=(train=0.885, test=0.882) total time=   0.6s\n",
      "[CV 10/10] END lr__C=0.1, lr__max_iter=500, lr__penalty=l2, lr__solver=saga;, score=(train=0.886, test=0.892) total time=   0.7s\n",
      "[CV 1/10] END lr__C=0.1, lr__max_iter=1000, lr__penalty=l2, lr__solver=newton-cg;, score=(train=0.884, test=0.883) total time=   1.0s\n",
      "[CV 2/10] END lr__C=0.1, lr__max_iter=1000, lr__penalty=l2, lr__solver=newton-cg;, score=(train=0.886, test=0.884) total time=   1.0s\n",
      "[CV 3/10] END lr__C=0.1, lr__max_iter=1000, lr__penalty=l2, lr__solver=newton-cg;, score=(train=0.884, test=0.887) total time=   1.0s\n",
      "[CV 4/10] END lr__C=0.1, lr__max_iter=1000, lr__penalty=l2, lr__solver=newton-cg;, score=(train=0.887, test=0.890) total time=   1.0s\n",
      "[CV 5/10] END lr__C=0.1, lr__max_iter=1000, lr__penalty=l2, lr__solver=newton-cg;, score=(train=0.888, test=0.879) total time=   1.0s\n",
      "[CV 6/10] END lr__C=0.1, lr__max_iter=1000, lr__penalty=l2, lr__solver=newton-cg;, score=(train=0.885, test=0.888) total time=   1.0s\n",
      "[CV 7/10] END lr__C=0.1, lr__max_iter=1000, lr__penalty=l2, lr__solver=newton-cg;, score=(train=0.885, test=0.887) total time=   1.0s\n",
      "[CV 8/10] END lr__C=0.1, lr__max_iter=1000, lr__penalty=l2, lr__solver=newton-cg;, score=(train=0.887, test=0.884) total time=   1.0s\n",
      "[CV 9/10] END lr__C=0.1, lr__max_iter=1000, lr__penalty=l2, lr__solver=newton-cg;, score=(train=0.885, test=0.882) total time=   1.0s\n",
      "[CV 10/10] END lr__C=0.1, lr__max_iter=1000, lr__penalty=l2, lr__solver=newton-cg;, score=(train=0.886, test=0.892) total time=   1.0s\n",
      "[CV 1/10] END lr__C=0.1, lr__max_iter=1000, lr__penalty=l2, lr__solver=lbfgs;, score=(train=0.884, test=0.883) total time=   0.5s\n",
      "[CV 2/10] END lr__C=0.1, lr__max_iter=1000, lr__penalty=l2, lr__solver=lbfgs;, score=(train=0.886, test=0.884) total time=   0.6s\n",
      "[CV 3/10] END lr__C=0.1, lr__max_iter=1000, lr__penalty=l2, lr__solver=lbfgs;, score=(train=0.884, test=0.888) total time=   0.6s\n",
      "[CV 4/10] END lr__C=0.1, lr__max_iter=1000, lr__penalty=l2, lr__solver=lbfgs;, score=(train=0.887, test=0.890) total time=   0.6s\n",
      "[CV 5/10] END lr__C=0.1, lr__max_iter=1000, lr__penalty=l2, lr__solver=lbfgs;, score=(train=0.888, test=0.879) total time=   0.8s\n",
      "[CV 6/10] END lr__C=0.1, lr__max_iter=1000, lr__penalty=l2, lr__solver=lbfgs;, score=(train=0.885, test=0.888) total time=   1.0s\n",
      "[CV 7/10] END lr__C=0.1, lr__max_iter=1000, lr__penalty=l2, lr__solver=lbfgs;, score=(train=0.885, test=0.887) total time=   0.6s\n",
      "[CV 8/10] END lr__C=0.1, lr__max_iter=1000, lr__penalty=l2, lr__solver=lbfgs;, score=(train=0.887, test=0.884) total time=   0.6s\n",
      "[CV 9/10] END lr__C=0.1, lr__max_iter=1000, lr__penalty=l2, lr__solver=lbfgs;, score=(train=0.885, test=0.882) total time=   0.6s\n",
      "[CV 10/10] END lr__C=0.1, lr__max_iter=1000, lr__penalty=l2, lr__solver=lbfgs;, score=(train=0.886, test=0.892) total time=   0.6s\n",
      "[CV 1/10] END lr__C=0.1, lr__max_iter=1000, lr__penalty=l2, lr__solver=liblinear;, score=(train=0.884, test=0.883) total time=   0.3s\n",
      "[CV 2/10] END lr__C=0.1, lr__max_iter=1000, lr__penalty=l2, lr__solver=liblinear;, score=(train=0.886, test=0.884) total time=   0.3s\n",
      "[CV 3/10] END lr__C=0.1, lr__max_iter=1000, lr__penalty=l2, lr__solver=liblinear;, score=(train=0.884, test=0.888) total time=   0.3s\n",
      "[CV 4/10] END lr__C=0.1, lr__max_iter=1000, lr__penalty=l2, lr__solver=liblinear;, score=(train=0.887, test=0.890) total time=   0.3s\n",
      "[CV 5/10] END lr__C=0.1, lr__max_iter=1000, lr__penalty=l2, lr__solver=liblinear;, score=(train=0.888, test=0.879) total time=   0.3s\n",
      "[CV 6/10] END lr__C=0.1, lr__max_iter=1000, lr__penalty=l2, lr__solver=liblinear;, score=(train=0.885, test=0.887) total time=   0.3s\n",
      "[CV 7/10] END lr__C=0.1, lr__max_iter=1000, lr__penalty=l2, lr__solver=liblinear;, score=(train=0.885, test=0.886) total time=   0.3s\n",
      "[CV 8/10] END lr__C=0.1, lr__max_iter=1000, lr__penalty=l2, lr__solver=liblinear;, score=(train=0.887, test=0.884) total time=   0.3s\n",
      "[CV 9/10] END lr__C=0.1, lr__max_iter=1000, lr__penalty=l2, lr__solver=liblinear;, score=(train=0.885, test=0.882) total time=   0.3s\n",
      "[CV 10/10] END lr__C=0.1, lr__max_iter=1000, lr__penalty=l2, lr__solver=liblinear;, score=(train=0.886, test=0.891) total time=   0.3s\n",
      "[CV 1/10] END lr__C=0.1, lr__max_iter=1000, lr__penalty=l2, lr__solver=sag;, score=(train=0.884, test=0.883) total time=   0.6s\n",
      "[CV 2/10] END lr__C=0.1, lr__max_iter=1000, lr__penalty=l2, lr__solver=sag;, score=(train=0.886, test=0.884) total time=   0.6s\n",
      "[CV 3/10] END lr__C=0.1, lr__max_iter=1000, lr__penalty=l2, lr__solver=sag;, score=(train=0.884, test=0.887) total time=   0.6s\n",
      "[CV 4/10] END lr__C=0.1, lr__max_iter=1000, lr__penalty=l2, lr__solver=sag;, score=(train=0.887, test=0.890) total time=   0.6s\n",
      "[CV 5/10] END lr__C=0.1, lr__max_iter=1000, lr__penalty=l2, lr__solver=sag;, score=(train=0.888, test=0.879) total time=   0.6s\n",
      "[CV 6/10] END lr__C=0.1, lr__max_iter=1000, lr__penalty=l2, lr__solver=sag;, score=(train=0.885, test=0.888) total time=   0.6s\n",
      "[CV 7/10] END lr__C=0.1, lr__max_iter=1000, lr__penalty=l2, lr__solver=sag;, score=(train=0.885, test=0.887) total time=   0.6s\n",
      "[CV 8/10] END lr__C=0.1, lr__max_iter=1000, lr__penalty=l2, lr__solver=sag;, score=(train=0.887, test=0.884) total time=   0.6s\n",
      "[CV 9/10] END lr__C=0.1, lr__max_iter=1000, lr__penalty=l2, lr__solver=sag;, score=(train=0.885, test=0.882) total time=   0.6s\n",
      "[CV 10/10] END lr__C=0.1, lr__max_iter=1000, lr__penalty=l2, lr__solver=sag;, score=(train=0.886, test=0.892) total time=   0.6s\n",
      "[CV 1/10] END lr__C=0.1, lr__max_iter=1000, lr__penalty=l2, lr__solver=saga;, score=(train=0.884, test=0.883) total time=   0.6s\n",
      "[CV 2/10] END lr__C=0.1, lr__max_iter=1000, lr__penalty=l2, lr__solver=saga;, score=(train=0.886, test=0.884) total time=   0.7s\n",
      "[CV 3/10] END lr__C=0.1, lr__max_iter=1000, lr__penalty=l2, lr__solver=saga;, score=(train=0.884, test=0.887) total time=   0.6s\n",
      "[CV 4/10] END lr__C=0.1, lr__max_iter=1000, lr__penalty=l2, lr__solver=saga;, score=(train=0.887, test=0.890) total time=   0.7s\n",
      "[CV 5/10] END lr__C=0.1, lr__max_iter=1000, lr__penalty=l2, lr__solver=saga;, score=(train=0.888, test=0.879) total time=   0.6s\n",
      "[CV 6/10] END lr__C=0.1, lr__max_iter=1000, lr__penalty=l2, lr__solver=saga;, score=(train=0.885, test=0.888) total time=   0.7s\n",
      "[CV 7/10] END lr__C=0.1, lr__max_iter=1000, lr__penalty=l2, lr__solver=saga;, score=(train=0.885, test=0.887) total time=   0.7s\n",
      "[CV 8/10] END lr__C=0.1, lr__max_iter=1000, lr__penalty=l2, lr__solver=saga;, score=(train=0.887, test=0.884) total time=   0.6s\n",
      "[CV 9/10] END lr__C=0.1, lr__max_iter=1000, lr__penalty=l2, lr__solver=saga;, score=(train=0.885, test=0.882) total time=   0.6s\n",
      "[CV 10/10] END lr__C=0.1, lr__max_iter=1000, lr__penalty=l2, lr__solver=saga;, score=(train=0.886, test=0.892) total time=   0.6s\n",
      "[CV 1/10] END lr__C=1, lr__max_iter=100, lr__penalty=l2, lr__solver=newton-cg;, score=(train=0.899, test=0.897) total time=   1.5s\n",
      "[CV 2/10] END lr__C=1, lr__max_iter=100, lr__penalty=l2, lr__solver=newton-cg;, score=(train=0.902, test=0.899) total time=   1.5s\n",
      "[CV 3/10] END lr__C=1, lr__max_iter=100, lr__penalty=l2, lr__solver=newton-cg;, score=(train=0.898, test=0.900) total time=   1.5s\n",
      "[CV 4/10] END lr__C=1, lr__max_iter=100, lr__penalty=l2, lr__solver=newton-cg;, score=(train=0.902, test=0.902) total time=   1.7s\n",
      "[CV 5/10] END lr__C=1, lr__max_iter=100, lr__penalty=l2, lr__solver=newton-cg;, score=(train=0.902, test=0.894) total time=   1.4s\n",
      "[CV 6/10] END lr__C=1, lr__max_iter=100, lr__penalty=l2, lr__solver=newton-cg;, score=(train=0.901, test=0.902) total time=   1.5s\n",
      "[CV 7/10] END lr__C=1, lr__max_iter=100, lr__penalty=l2, lr__solver=newton-cg;, score=(train=0.902, test=0.902) total time=   1.6s\n",
      "[CV 8/10] END lr__C=1, lr__max_iter=100, lr__penalty=l2, lr__solver=newton-cg;, score=(train=0.903, test=0.898) total time=   1.7s\n",
      "[CV 9/10] END lr__C=1, lr__max_iter=100, lr__penalty=l2, lr__solver=newton-cg;, score=(train=0.900, test=0.898) total time=   1.7s\n",
      "[CV 10/10] END lr__C=1, lr__max_iter=100, lr__penalty=l2, lr__solver=newton-cg;, score=(train=0.901, test=0.906) total time=   1.6s\n"
     ]
    },
    {
     "name": "stderr",
     "output_type": "stream",
     "text": [
      "/opt/conda/lib/python3.7/site-packages/sklearn/linear_model/_logistic.py:818: ConvergenceWarning: lbfgs failed to converge (status=1):\n",
      "STOP: TOTAL NO. of ITERATIONS REACHED LIMIT.\n",
      "\n",
      "Increase the number of iterations (max_iter) or scale the data as shown in:\n",
      "    https://scikit-learn.org/stable/modules/preprocessing.html\n",
      "Please also refer to the documentation for alternative solver options:\n",
      "    https://scikit-learn.org/stable/modules/linear_model.html#logistic-regression\n",
      "  extra_warning_msg=_LOGISTIC_SOLVER_CONVERGENCE_MSG,\n"
     ]
    },
    {
     "name": "stdout",
     "output_type": "stream",
     "text": [
      "[CV 1/10] END lr__C=1, lr__max_iter=100, lr__penalty=l2, lr__solver=lbfgs;, score=(train=0.899, test=0.897) total time=   0.8s\n"
     ]
    },
    {
     "name": "stderr",
     "output_type": "stream",
     "text": [
      "/opt/conda/lib/python3.7/site-packages/sklearn/linear_model/_logistic.py:818: ConvergenceWarning: lbfgs failed to converge (status=1):\n",
      "STOP: TOTAL NO. of ITERATIONS REACHED LIMIT.\n",
      "\n",
      "Increase the number of iterations (max_iter) or scale the data as shown in:\n",
      "    https://scikit-learn.org/stable/modules/preprocessing.html\n",
      "Please also refer to the documentation for alternative solver options:\n",
      "    https://scikit-learn.org/stable/modules/linear_model.html#logistic-regression\n",
      "  extra_warning_msg=_LOGISTIC_SOLVER_CONVERGENCE_MSG,\n"
     ]
    },
    {
     "name": "stdout",
     "output_type": "stream",
     "text": [
      "[CV 2/10] END lr__C=1, lr__max_iter=100, lr__penalty=l2, lr__solver=lbfgs;, score=(train=0.902, test=0.899) total time=   0.8s\n"
     ]
    },
    {
     "name": "stderr",
     "output_type": "stream",
     "text": [
      "/opt/conda/lib/python3.7/site-packages/sklearn/linear_model/_logistic.py:818: ConvergenceWarning: lbfgs failed to converge (status=1):\n",
      "STOP: TOTAL NO. of ITERATIONS REACHED LIMIT.\n",
      "\n",
      "Increase the number of iterations (max_iter) or scale the data as shown in:\n",
      "    https://scikit-learn.org/stable/modules/preprocessing.html\n",
      "Please also refer to the documentation for alternative solver options:\n",
      "    https://scikit-learn.org/stable/modules/linear_model.html#logistic-regression\n",
      "  extra_warning_msg=_LOGISTIC_SOLVER_CONVERGENCE_MSG,\n"
     ]
    },
    {
     "name": "stdout",
     "output_type": "stream",
     "text": [
      "[CV 3/10] END lr__C=1, lr__max_iter=100, lr__penalty=l2, lr__solver=lbfgs;, score=(train=0.898, test=0.901) total time=   0.8s\n"
     ]
    },
    {
     "name": "stderr",
     "output_type": "stream",
     "text": [
      "/opt/conda/lib/python3.7/site-packages/sklearn/linear_model/_logistic.py:818: ConvergenceWarning: lbfgs failed to converge (status=1):\n",
      "STOP: TOTAL NO. of ITERATIONS REACHED LIMIT.\n",
      "\n",
      "Increase the number of iterations (max_iter) or scale the data as shown in:\n",
      "    https://scikit-learn.org/stable/modules/preprocessing.html\n",
      "Please also refer to the documentation for alternative solver options:\n",
      "    https://scikit-learn.org/stable/modules/linear_model.html#logistic-regression\n",
      "  extra_warning_msg=_LOGISTIC_SOLVER_CONVERGENCE_MSG,\n"
     ]
    },
    {
     "name": "stdout",
     "output_type": "stream",
     "text": [
      "[CV 4/10] END lr__C=1, lr__max_iter=100, lr__penalty=l2, lr__solver=lbfgs;, score=(train=0.902, test=0.903) total time=   0.7s\n"
     ]
    },
    {
     "name": "stderr",
     "output_type": "stream",
     "text": [
      "/opt/conda/lib/python3.7/site-packages/sklearn/linear_model/_logistic.py:818: ConvergenceWarning: lbfgs failed to converge (status=1):\n",
      "STOP: TOTAL NO. of ITERATIONS REACHED LIMIT.\n",
      "\n",
      "Increase the number of iterations (max_iter) or scale the data as shown in:\n",
      "    https://scikit-learn.org/stable/modules/preprocessing.html\n",
      "Please also refer to the documentation for alternative solver options:\n",
      "    https://scikit-learn.org/stable/modules/linear_model.html#logistic-regression\n",
      "  extra_warning_msg=_LOGISTIC_SOLVER_CONVERGENCE_MSG,\n"
     ]
    },
    {
     "name": "stdout",
     "output_type": "stream",
     "text": [
      "[CV 5/10] END lr__C=1, lr__max_iter=100, lr__penalty=l2, lr__solver=lbfgs;, score=(train=0.902, test=0.894) total time=   0.7s\n"
     ]
    },
    {
     "name": "stderr",
     "output_type": "stream",
     "text": [
      "/opt/conda/lib/python3.7/site-packages/sklearn/linear_model/_logistic.py:818: ConvergenceWarning: lbfgs failed to converge (status=1):\n",
      "STOP: TOTAL NO. of ITERATIONS REACHED LIMIT.\n",
      "\n",
      "Increase the number of iterations (max_iter) or scale the data as shown in:\n",
      "    https://scikit-learn.org/stable/modules/preprocessing.html\n",
      "Please also refer to the documentation for alternative solver options:\n",
      "    https://scikit-learn.org/stable/modules/linear_model.html#logistic-regression\n",
      "  extra_warning_msg=_LOGISTIC_SOLVER_CONVERGENCE_MSG,\n"
     ]
    },
    {
     "name": "stdout",
     "output_type": "stream",
     "text": [
      "[CV 6/10] END lr__C=1, lr__max_iter=100, lr__penalty=l2, lr__solver=lbfgs;, score=(train=0.901, test=0.902) total time=   0.7s\n"
     ]
    },
    {
     "name": "stderr",
     "output_type": "stream",
     "text": [
      "/opt/conda/lib/python3.7/site-packages/sklearn/linear_model/_logistic.py:818: ConvergenceWarning: lbfgs failed to converge (status=1):\n",
      "STOP: TOTAL NO. of ITERATIONS REACHED LIMIT.\n",
      "\n",
      "Increase the number of iterations (max_iter) or scale the data as shown in:\n",
      "    https://scikit-learn.org/stable/modules/preprocessing.html\n",
      "Please also refer to the documentation for alternative solver options:\n",
      "    https://scikit-learn.org/stable/modules/linear_model.html#logistic-regression\n",
      "  extra_warning_msg=_LOGISTIC_SOLVER_CONVERGENCE_MSG,\n"
     ]
    },
    {
     "name": "stdout",
     "output_type": "stream",
     "text": [
      "[CV 7/10] END lr__C=1, lr__max_iter=100, lr__penalty=l2, lr__solver=lbfgs;, score=(train=0.902, test=0.902) total time=   0.7s\n"
     ]
    },
    {
     "name": "stderr",
     "output_type": "stream",
     "text": [
      "/opt/conda/lib/python3.7/site-packages/sklearn/linear_model/_logistic.py:818: ConvergenceWarning: lbfgs failed to converge (status=1):\n",
      "STOP: TOTAL NO. of ITERATIONS REACHED LIMIT.\n",
      "\n",
      "Increase the number of iterations (max_iter) or scale the data as shown in:\n",
      "    https://scikit-learn.org/stable/modules/preprocessing.html\n",
      "Please also refer to the documentation for alternative solver options:\n",
      "    https://scikit-learn.org/stable/modules/linear_model.html#logistic-regression\n",
      "  extra_warning_msg=_LOGISTIC_SOLVER_CONVERGENCE_MSG,\n"
     ]
    },
    {
     "name": "stdout",
     "output_type": "stream",
     "text": [
      "[CV 8/10] END lr__C=1, lr__max_iter=100, lr__penalty=l2, lr__solver=lbfgs;, score=(train=0.903, test=0.898) total time=   0.8s\n"
     ]
    },
    {
     "name": "stderr",
     "output_type": "stream",
     "text": [
      "/opt/conda/lib/python3.7/site-packages/sklearn/linear_model/_logistic.py:818: ConvergenceWarning: lbfgs failed to converge (status=1):\n",
      "STOP: TOTAL NO. of ITERATIONS REACHED LIMIT.\n",
      "\n",
      "Increase the number of iterations (max_iter) or scale the data as shown in:\n",
      "    https://scikit-learn.org/stable/modules/preprocessing.html\n",
      "Please also refer to the documentation for alternative solver options:\n",
      "    https://scikit-learn.org/stable/modules/linear_model.html#logistic-regression\n",
      "  extra_warning_msg=_LOGISTIC_SOLVER_CONVERGENCE_MSG,\n"
     ]
    },
    {
     "name": "stdout",
     "output_type": "stream",
     "text": [
      "[CV 9/10] END lr__C=1, lr__max_iter=100, lr__penalty=l2, lr__solver=lbfgs;, score=(train=0.900, test=0.898) total time=   0.7s\n"
     ]
    },
    {
     "name": "stderr",
     "output_type": "stream",
     "text": [
      "/opt/conda/lib/python3.7/site-packages/sklearn/linear_model/_logistic.py:818: ConvergenceWarning: lbfgs failed to converge (status=1):\n",
      "STOP: TOTAL NO. of ITERATIONS REACHED LIMIT.\n",
      "\n",
      "Increase the number of iterations (max_iter) or scale the data as shown in:\n",
      "    https://scikit-learn.org/stable/modules/preprocessing.html\n",
      "Please also refer to the documentation for alternative solver options:\n",
      "    https://scikit-learn.org/stable/modules/linear_model.html#logistic-regression\n",
      "  extra_warning_msg=_LOGISTIC_SOLVER_CONVERGENCE_MSG,\n"
     ]
    },
    {
     "name": "stdout",
     "output_type": "stream",
     "text": [
      "[CV 10/10] END lr__C=1, lr__max_iter=100, lr__penalty=l2, lr__solver=lbfgs;, score=(train=0.901, test=0.906) total time=   0.7s\n",
      "[CV 1/10] END lr__C=1, lr__max_iter=100, lr__penalty=l2, lr__solver=liblinear;, score=(train=0.899, test=0.897) total time=   0.4s\n",
      "[CV 2/10] END lr__C=1, lr__max_iter=100, lr__penalty=l2, lr__solver=liblinear;, score=(train=0.902, test=0.899) total time=   0.4s\n",
      "[CV 3/10] END lr__C=1, lr__max_iter=100, lr__penalty=l2, lr__solver=liblinear;, score=(train=0.898, test=0.900) total time=   0.4s\n",
      "[CV 4/10] END lr__C=1, lr__max_iter=100, lr__penalty=l2, lr__solver=liblinear;, score=(train=0.902, test=0.902) total time=   0.4s\n",
      "[CV 5/10] END lr__C=1, lr__max_iter=100, lr__penalty=l2, lr__solver=liblinear;, score=(train=0.902, test=0.894) total time=   0.4s\n",
      "[CV 6/10] END lr__C=1, lr__max_iter=100, lr__penalty=l2, lr__solver=liblinear;, score=(train=0.901, test=0.902) total time=   0.4s\n",
      "[CV 7/10] END lr__C=1, lr__max_iter=100, lr__penalty=l2, lr__solver=liblinear;, score=(train=0.902, test=0.902) total time=   0.4s\n",
      "[CV 8/10] END lr__C=1, lr__max_iter=100, lr__penalty=l2, lr__solver=liblinear;, score=(train=0.903, test=0.898) total time=   0.4s\n",
      "[CV 9/10] END lr__C=1, lr__max_iter=100, lr__penalty=l2, lr__solver=liblinear;, score=(train=0.900, test=0.898) total time=   0.4s\n",
      "[CV 10/10] END lr__C=1, lr__max_iter=100, lr__penalty=l2, lr__solver=liblinear;, score=(train=0.901, test=0.906) total time=   0.4s\n",
      "[CV 1/10] END lr__C=1, lr__max_iter=100, lr__penalty=l2, lr__solver=sag;, score=(train=0.900, test=0.897) total time=   0.9s\n",
      "[CV 2/10] END lr__C=1, lr__max_iter=100, lr__penalty=l2, lr__solver=sag;, score=(train=0.902, test=0.899) total time=   1.0s\n",
      "[CV 3/10] END lr__C=1, lr__max_iter=100, lr__penalty=l2, lr__solver=sag;, score=(train=0.898, test=0.900) total time=   0.9s\n",
      "[CV 4/10] END lr__C=1, lr__max_iter=100, lr__penalty=l2, lr__solver=sag;, score=(train=0.902, test=0.902) total time=   1.0s\n",
      "[CV 5/10] END lr__C=1, lr__max_iter=100, lr__penalty=l2, lr__solver=sag;, score=(train=0.902, test=0.894) total time=   0.9s\n",
      "[CV 6/10] END lr__C=1, lr__max_iter=100, lr__penalty=l2, lr__solver=sag;, score=(train=0.901, test=0.902) total time=   0.8s\n",
      "[CV 7/10] END lr__C=1, lr__max_iter=100, lr__penalty=l2, lr__solver=sag;, score=(train=0.902, test=0.902) total time=   0.9s\n",
      "[CV 8/10] END lr__C=1, lr__max_iter=100, lr__penalty=l2, lr__solver=sag;, score=(train=0.903, test=0.898) total time=   0.9s\n",
      "[CV 9/10] END lr__C=1, lr__max_iter=100, lr__penalty=l2, lr__solver=sag;, score=(train=0.900, test=0.898) total time=   0.8s\n",
      "[CV 10/10] END lr__C=1, lr__max_iter=100, lr__penalty=l2, lr__solver=sag;, score=(train=0.902, test=0.906) total time=   0.8s\n",
      "[CV 1/10] END lr__C=1, lr__max_iter=100, lr__penalty=l2, lr__solver=saga;, score=(train=0.899, test=0.897) total time=   1.2s\n",
      "[CV 2/10] END lr__C=1, lr__max_iter=100, lr__penalty=l2, lr__solver=saga;, score=(train=0.902, test=0.899) total time=   1.3s\n",
      "[CV 3/10] END lr__C=1, lr__max_iter=100, lr__penalty=l2, lr__solver=saga;, score=(train=0.898, test=0.900) total time=   1.1s\n",
      "[CV 4/10] END lr__C=1, lr__max_iter=100, lr__penalty=l2, lr__solver=saga;, score=(train=0.902, test=0.902) total time=   1.0s\n",
      "[CV 5/10] END lr__C=1, lr__max_iter=100, lr__penalty=l2, lr__solver=saga;, score=(train=0.902, test=0.894) total time=   1.2s\n",
      "[CV 6/10] END lr__C=1, lr__max_iter=100, lr__penalty=l2, lr__solver=saga;, score=(train=0.901, test=0.902) total time=   1.2s\n",
      "[CV 7/10] END lr__C=1, lr__max_iter=100, lr__penalty=l2, lr__solver=saga;, score=(train=0.902, test=0.902) total time=   1.3s\n",
      "[CV 8/10] END lr__C=1, lr__max_iter=100, lr__penalty=l2, lr__solver=saga;, score=(train=0.903, test=0.898) total time=   1.2s\n",
      "[CV 9/10] END lr__C=1, lr__max_iter=100, lr__penalty=l2, lr__solver=saga;, score=(train=0.900, test=0.898) total time=   1.2s\n",
      "[CV 10/10] END lr__C=1, lr__max_iter=100, lr__penalty=l2, lr__solver=saga;, score=(train=0.901, test=0.906) total time=   1.4s\n",
      "[CV 1/10] END lr__C=1, lr__max_iter=500, lr__penalty=l2, lr__solver=newton-cg;, score=(train=0.899, test=0.897) total time=   1.5s\n",
      "[CV 2/10] END lr__C=1, lr__max_iter=500, lr__penalty=l2, lr__solver=newton-cg;, score=(train=0.902, test=0.899) total time=   1.5s\n",
      "[CV 3/10] END lr__C=1, lr__max_iter=500, lr__penalty=l2, lr__solver=newton-cg;, score=(train=0.898, test=0.900) total time=   1.4s\n",
      "[CV 4/10] END lr__C=1, lr__max_iter=500, lr__penalty=l2, lr__solver=newton-cg;, score=(train=0.902, test=0.902) total time=   1.6s\n",
      "[CV 5/10] END lr__C=1, lr__max_iter=500, lr__penalty=l2, lr__solver=newton-cg;, score=(train=0.902, test=0.894) total time=   1.4s\n",
      "[CV 6/10] END lr__C=1, lr__max_iter=500, lr__penalty=l2, lr__solver=newton-cg;, score=(train=0.901, test=0.902) total time=   1.5s\n",
      "[CV 7/10] END lr__C=1, lr__max_iter=500, lr__penalty=l2, lr__solver=newton-cg;, score=(train=0.902, test=0.902) total time=   1.5s\n",
      "[CV 8/10] END lr__C=1, lr__max_iter=500, lr__penalty=l2, lr__solver=newton-cg;, score=(train=0.903, test=0.898) total time=   1.3s\n",
      "[CV 9/10] END lr__C=1, lr__max_iter=500, lr__penalty=l2, lr__solver=newton-cg;, score=(train=0.900, test=0.898) total time=   1.3s\n",
      "[CV 10/10] END lr__C=1, lr__max_iter=500, lr__penalty=l2, lr__solver=newton-cg;, score=(train=0.901, test=0.906) total time=   1.5s\n",
      "[CV 1/10] END lr__C=1, lr__max_iter=500, lr__penalty=l2, lr__solver=lbfgs;, score=(train=0.899, test=0.897) total time=   1.4s\n",
      "[CV 2/10] END lr__C=1, lr__max_iter=500, lr__penalty=l2, lr__solver=lbfgs;, score=(train=0.901, test=0.899) total time=   1.3s\n",
      "[CV 3/10] END lr__C=1, lr__max_iter=500, lr__penalty=l2, lr__solver=lbfgs;, score=(train=0.899, test=0.900) total time=   1.2s\n",
      "[CV 4/10] END lr__C=1, lr__max_iter=500, lr__penalty=l2, lr__solver=lbfgs;, score=(train=0.902, test=0.902) total time=   1.3s\n",
      "[CV 5/10] END lr__C=1, lr__max_iter=500, lr__penalty=l2, lr__solver=lbfgs;, score=(train=0.902, test=0.894) total time=   1.3s\n",
      "[CV 6/10] END lr__C=1, lr__max_iter=500, lr__penalty=l2, lr__solver=lbfgs;, score=(train=0.901, test=0.902) total time=   1.2s\n",
      "[CV 7/10] END lr__C=1, lr__max_iter=500, lr__penalty=l2, lr__solver=lbfgs;, score=(train=0.902, test=0.902) total time=   1.4s\n",
      "[CV 8/10] END lr__C=1, lr__max_iter=500, lr__penalty=l2, lr__solver=lbfgs;, score=(train=0.903, test=0.898) total time=   1.3s\n",
      "[CV 9/10] END lr__C=1, lr__max_iter=500, lr__penalty=l2, lr__solver=lbfgs;, score=(train=0.900, test=0.898) total time=   1.3s\n",
      "[CV 10/10] END lr__C=1, lr__max_iter=500, lr__penalty=l2, lr__solver=lbfgs;, score=(train=0.901, test=0.906) total time=   1.9s\n",
      "[CV 1/10] END lr__C=1, lr__max_iter=500, lr__penalty=l2, lr__solver=liblinear;, score=(train=0.899, test=0.897) total time=   0.4s\n",
      "[CV 2/10] END lr__C=1, lr__max_iter=500, lr__penalty=l2, lr__solver=liblinear;, score=(train=0.902, test=0.899) total time=   0.4s\n",
      "[CV 3/10] END lr__C=1, lr__max_iter=500, lr__penalty=l2, lr__solver=liblinear;, score=(train=0.898, test=0.900) total time=   0.4s\n",
      "[CV 4/10] END lr__C=1, lr__max_iter=500, lr__penalty=l2, lr__solver=liblinear;, score=(train=0.902, test=0.902) total time=   0.4s\n",
      "[CV 5/10] END lr__C=1, lr__max_iter=500, lr__penalty=l2, lr__solver=liblinear;, score=(train=0.902, test=0.894) total time=   0.4s\n",
      "[CV 6/10] END lr__C=1, lr__max_iter=500, lr__penalty=l2, lr__solver=liblinear;, score=(train=0.901, test=0.902) total time=   0.4s\n",
      "[CV 7/10] END lr__C=1, lr__max_iter=500, lr__penalty=l2, lr__solver=liblinear;, score=(train=0.902, test=0.902) total time=   0.4s\n",
      "[CV 8/10] END lr__C=1, lr__max_iter=500, lr__penalty=l2, lr__solver=liblinear;, score=(train=0.903, test=0.898) total time=   0.4s\n",
      "[CV 9/10] END lr__C=1, lr__max_iter=500, lr__penalty=l2, lr__solver=liblinear;, score=(train=0.900, test=0.898) total time=   0.4s\n",
      "[CV 10/10] END lr__C=1, lr__max_iter=500, lr__penalty=l2, lr__solver=liblinear;, score=(train=0.901, test=0.906) total time=   0.4s\n",
      "[CV 1/10] END lr__C=1, lr__max_iter=500, lr__penalty=l2, lr__solver=sag;, score=(train=0.899, test=0.897) total time=   0.9s\n",
      "[CV 2/10] END lr__C=1, lr__max_iter=500, lr__penalty=l2, lr__solver=sag;, score=(train=0.902, test=0.899) total time=   0.9s\n",
      "[CV 3/10] END lr__C=1, lr__max_iter=500, lr__penalty=l2, lr__solver=sag;, score=(train=0.898, test=0.900) total time=   0.9s\n",
      "[CV 4/10] END lr__C=1, lr__max_iter=500, lr__penalty=l2, lr__solver=sag;, score=(train=0.902, test=0.902) total time=   1.1s\n",
      "[CV 5/10] END lr__C=1, lr__max_iter=500, lr__penalty=l2, lr__solver=sag;, score=(train=0.902, test=0.894) total time=   0.9s\n",
      "[CV 6/10] END lr__C=1, lr__max_iter=500, lr__penalty=l2, lr__solver=sag;, score=(train=0.901, test=0.902) total time=   0.8s\n",
      "[CV 7/10] END lr__C=1, lr__max_iter=500, lr__penalty=l2, lr__solver=sag;, score=(train=0.902, test=0.902) total time=   0.9s\n",
      "[CV 8/10] END lr__C=1, lr__max_iter=500, lr__penalty=l2, lr__solver=sag;, score=(train=0.903, test=0.898) total time=   0.8s\n",
      "[CV 9/10] END lr__C=1, lr__max_iter=500, lr__penalty=l2, lr__solver=sag;, score=(train=0.900, test=0.898) total time=   0.8s\n",
      "[CV 10/10] END lr__C=1, lr__max_iter=500, lr__penalty=l2, lr__solver=sag;, score=(train=0.901, test=0.906) total time=   0.9s\n",
      "[CV 1/10] END lr__C=1, lr__max_iter=500, lr__penalty=l2, lr__solver=saga;, score=(train=0.899, test=0.897) total time=   1.2s\n",
      "[CV 2/10] END lr__C=1, lr__max_iter=500, lr__penalty=l2, lr__solver=saga;, score=(train=0.902, test=0.899) total time=   1.3s\n",
      "[CV 3/10] END lr__C=1, lr__max_iter=500, lr__penalty=l2, lr__solver=saga;, score=(train=0.898, test=0.900) total time=   1.1s\n",
      "[CV 4/10] END lr__C=1, lr__max_iter=500, lr__penalty=l2, lr__solver=saga;, score=(train=0.902, test=0.902) total time=   1.0s\n",
      "[CV 5/10] END lr__C=1, lr__max_iter=500, lr__penalty=l2, lr__solver=saga;, score=(train=0.902, test=0.894) total time=   1.2s\n",
      "[CV 6/10] END lr__C=1, lr__max_iter=500, lr__penalty=l2, lr__solver=saga;, score=(train=0.901, test=0.902) total time=   1.2s\n",
      "[CV 7/10] END lr__C=1, lr__max_iter=500, lr__penalty=l2, lr__solver=saga;, score=(train=0.902, test=0.902) total time=   1.3s\n",
      "[CV 8/10] END lr__C=1, lr__max_iter=500, lr__penalty=l2, lr__solver=saga;, score=(train=0.903, test=0.898) total time=   1.2s\n",
      "[CV 9/10] END lr__C=1, lr__max_iter=500, lr__penalty=l2, lr__solver=saga;, score=(train=0.900, test=0.898) total time=   1.3s\n",
      "[CV 10/10] END lr__C=1, lr__max_iter=500, lr__penalty=l2, lr__solver=saga;, score=(train=0.901, test=0.906) total time=   1.4s\n",
      "[CV 1/10] END lr__C=1, lr__max_iter=1000, lr__penalty=l2, lr__solver=newton-cg;, score=(train=0.899, test=0.897) total time=   1.6s\n",
      "[CV 2/10] END lr__C=1, lr__max_iter=1000, lr__penalty=l2, lr__solver=newton-cg;, score=(train=0.902, test=0.899) total time=   1.5s\n",
      "[CV 3/10] END lr__C=1, lr__max_iter=1000, lr__penalty=l2, lr__solver=newton-cg;, score=(train=0.898, test=0.900) total time=   1.9s\n",
      "[CV 4/10] END lr__C=1, lr__max_iter=1000, lr__penalty=l2, lr__solver=newton-cg;, score=(train=0.902, test=0.902) total time=   1.7s\n",
      "[CV 5/10] END lr__C=1, lr__max_iter=1000, lr__penalty=l2, lr__solver=newton-cg;, score=(train=0.902, test=0.894) total time=   1.3s\n",
      "[CV 6/10] END lr__C=1, lr__max_iter=1000, lr__penalty=l2, lr__solver=newton-cg;, score=(train=0.901, test=0.902) total time=   1.5s\n",
      "[CV 7/10] END lr__C=1, lr__max_iter=1000, lr__penalty=l2, lr__solver=newton-cg;, score=(train=0.902, test=0.902) total time=   1.5s\n",
      "[CV 8/10] END lr__C=1, lr__max_iter=1000, lr__penalty=l2, lr__solver=newton-cg;, score=(train=0.903, test=0.898) total time=   1.4s\n",
      "[CV 9/10] END lr__C=1, lr__max_iter=1000, lr__penalty=l2, lr__solver=newton-cg;, score=(train=0.900, test=0.898) total time=   1.2s\n",
      "[CV 10/10] END lr__C=1, lr__max_iter=1000, lr__penalty=l2, lr__solver=newton-cg;, score=(train=0.901, test=0.906) total time=   1.4s\n",
      "[CV 1/10] END lr__C=1, lr__max_iter=1000, lr__penalty=l2, lr__solver=lbfgs;, score=(train=0.899, test=0.897) total time=   1.4s\n",
      "[CV 2/10] END lr__C=1, lr__max_iter=1000, lr__penalty=l2, lr__solver=lbfgs;, score=(train=0.901, test=0.899) total time=   1.3s\n",
      "[CV 3/10] END lr__C=1, lr__max_iter=1000, lr__penalty=l2, lr__solver=lbfgs;, score=(train=0.899, test=0.900) total time=   1.2s\n",
      "[CV 4/10] END lr__C=1, lr__max_iter=1000, lr__penalty=l2, lr__solver=lbfgs;, score=(train=0.902, test=0.902) total time=   1.3s\n",
      "[CV 5/10] END lr__C=1, lr__max_iter=1000, lr__penalty=l2, lr__solver=lbfgs;, score=(train=0.902, test=0.894) total time=   1.2s\n",
      "[CV 6/10] END lr__C=1, lr__max_iter=1000, lr__penalty=l2, lr__solver=lbfgs;, score=(train=0.901, test=0.902) total time=   1.2s\n",
      "[CV 7/10] END lr__C=1, lr__max_iter=1000, lr__penalty=l2, lr__solver=lbfgs;, score=(train=0.902, test=0.902) total time=   1.4s\n",
      "[CV 8/10] END lr__C=1, lr__max_iter=1000, lr__penalty=l2, lr__solver=lbfgs;, score=(train=0.903, test=0.898) total time=   1.3s\n",
      "[CV 9/10] END lr__C=1, lr__max_iter=1000, lr__penalty=l2, lr__solver=lbfgs;, score=(train=0.900, test=0.898) total time=   1.1s\n",
      "[CV 10/10] END lr__C=1, lr__max_iter=1000, lr__penalty=l2, lr__solver=lbfgs;, score=(train=0.901, test=0.906) total time=   1.4s\n",
      "[CV 1/10] END lr__C=1, lr__max_iter=1000, lr__penalty=l2, lr__solver=liblinear;, score=(train=0.899, test=0.897) total time=   0.4s\n",
      "[CV 2/10] END lr__C=1, lr__max_iter=1000, lr__penalty=l2, lr__solver=liblinear;, score=(train=0.902, test=0.899) total time=   0.4s\n",
      "[CV 3/10] END lr__C=1, lr__max_iter=1000, lr__penalty=l2, lr__solver=liblinear;, score=(train=0.898, test=0.900) total time=   0.4s\n",
      "[CV 4/10] END lr__C=1, lr__max_iter=1000, lr__penalty=l2, lr__solver=liblinear;, score=(train=0.902, test=0.902) total time=   0.4s\n",
      "[CV 5/10] END lr__C=1, lr__max_iter=1000, lr__penalty=l2, lr__solver=liblinear;, score=(train=0.902, test=0.894) total time=   0.4s\n",
      "[CV 6/10] END lr__C=1, lr__max_iter=1000, lr__penalty=l2, lr__solver=liblinear;, score=(train=0.901, test=0.902) total time=   0.4s\n",
      "[CV 7/10] END lr__C=1, lr__max_iter=1000, lr__penalty=l2, lr__solver=liblinear;, score=(train=0.902, test=0.902) total time=   0.4s\n",
      "[CV 8/10] END lr__C=1, lr__max_iter=1000, lr__penalty=l2, lr__solver=liblinear;, score=(train=0.903, test=0.898) total time=   0.4s\n",
      "[CV 9/10] END lr__C=1, lr__max_iter=1000, lr__penalty=l2, lr__solver=liblinear;, score=(train=0.900, test=0.898) total time=   0.4s\n",
      "[CV 10/10] END lr__C=1, lr__max_iter=1000, lr__penalty=l2, lr__solver=liblinear;, score=(train=0.901, test=0.906) total time=   0.4s\n",
      "[CV 1/10] END lr__C=1, lr__max_iter=1000, lr__penalty=l2, lr__solver=sag;, score=(train=0.899, test=0.897) total time=   0.9s\n",
      "[CV 2/10] END lr__C=1, lr__max_iter=1000, lr__penalty=l2, lr__solver=sag;, score=(train=0.902, test=0.899) total time=   0.9s\n",
      "[CV 3/10] END lr__C=1, lr__max_iter=1000, lr__penalty=l2, lr__solver=sag;, score=(train=0.898, test=0.900) total time=   0.9s\n",
      "[CV 4/10] END lr__C=1, lr__max_iter=1000, lr__penalty=l2, lr__solver=sag;, score=(train=0.902, test=0.902) total time=   0.9s\n",
      "[CV 5/10] END lr__C=1, lr__max_iter=1000, lr__penalty=l2, lr__solver=sag;, score=(train=0.902, test=0.894) total time=   0.9s\n",
      "[CV 6/10] END lr__C=1, lr__max_iter=1000, lr__penalty=l2, lr__solver=sag;, score=(train=0.901, test=0.902) total time=   0.9s\n",
      "[CV 7/10] END lr__C=1, lr__max_iter=1000, lr__penalty=l2, lr__solver=sag;, score=(train=0.902, test=0.902) total time=   0.8s\n",
      "[CV 8/10] END lr__C=1, lr__max_iter=1000, lr__penalty=l2, lr__solver=sag;, score=(train=0.903, test=0.898) total time=   0.8s\n",
      "[CV 9/10] END lr__C=1, lr__max_iter=1000, lr__penalty=l2, lr__solver=sag;, score=(train=0.900, test=0.898) total time=   0.8s\n",
      "[CV 10/10] END lr__C=1, lr__max_iter=1000, lr__penalty=l2, lr__solver=sag;, score=(train=0.901, test=0.906) total time=   0.8s\n",
      "[CV 1/10] END lr__C=1, lr__max_iter=1000, lr__penalty=l2, lr__solver=saga;, score=(train=0.899, test=0.897) total time=   1.2s\n",
      "[CV 2/10] END lr__C=1, lr__max_iter=1000, lr__penalty=l2, lr__solver=saga;, score=(train=0.902, test=0.899) total time=   1.4s\n",
      "[CV 3/10] END lr__C=1, lr__max_iter=1000, lr__penalty=l2, lr__solver=saga;, score=(train=0.898, test=0.900) total time=   1.1s\n",
      "[CV 4/10] END lr__C=1, lr__max_iter=1000, lr__penalty=l2, lr__solver=saga;, score=(train=0.902, test=0.902) total time=   1.1s\n",
      "[CV 5/10] END lr__C=1, lr__max_iter=1000, lr__penalty=l2, lr__solver=saga;, score=(train=0.902, test=0.894) total time=   1.2s\n",
      "[CV 6/10] END lr__C=1, lr__max_iter=1000, lr__penalty=l2, lr__solver=saga;, score=(train=0.901, test=0.902) total time=   1.2s\n",
      "[CV 7/10] END lr__C=1, lr__max_iter=1000, lr__penalty=l2, lr__solver=saga;, score=(train=0.902, test=0.902) total time=   1.2s\n",
      "[CV 8/10] END lr__C=1, lr__max_iter=1000, lr__penalty=l2, lr__solver=saga;, score=(train=0.903, test=0.898) total time=   1.1s\n",
      "[CV 9/10] END lr__C=1, lr__max_iter=1000, lr__penalty=l2, lr__solver=saga;, score=(train=0.900, test=0.898) total time=   1.2s\n",
      "[CV 10/10] END lr__C=1, lr__max_iter=1000, lr__penalty=l2, lr__solver=saga;, score=(train=0.901, test=0.906) total time=   1.3s\n",
      "[CV 1/10] END lr__C=10, lr__max_iter=100, lr__penalty=l2, lr__solver=newton-cg;, score=(train=0.903, test=0.901) total time=   2.4s\n",
      "[CV 2/10] END lr__C=10, lr__max_iter=100, lr__penalty=l2, lr__solver=newton-cg;, score=(train=0.906, test=0.903) total time=   2.5s\n",
      "[CV 3/10] END lr__C=10, lr__max_iter=100, lr__penalty=l2, lr__solver=newton-cg;, score=(train=0.903, test=0.903) total time=   2.0s\n",
      "[CV 4/10] END lr__C=10, lr__max_iter=100, lr__penalty=l2, lr__solver=newton-cg;, score=(train=0.907, test=0.905) total time=   2.1s\n",
      "[CV 5/10] END lr__C=10, lr__max_iter=100, lr__penalty=l2, lr__solver=newton-cg;, score=(train=0.906, test=0.900) total time=   2.3s\n",
      "[CV 6/10] END lr__C=10, lr__max_iter=100, lr__penalty=l2, lr__solver=newton-cg;, score=(train=0.905, test=0.905) total time=   2.7s\n",
      "[CV 7/10] END lr__C=10, lr__max_iter=100, lr__penalty=l2, lr__solver=newton-cg;, score=(train=0.906, test=0.907) total time=   2.3s\n",
      "[CV 8/10] END lr__C=10, lr__max_iter=100, lr__penalty=l2, lr__solver=newton-cg;, score=(train=0.907, test=0.903) total time=   2.3s\n",
      "[CV 9/10] END lr__C=10, lr__max_iter=100, lr__penalty=l2, lr__solver=newton-cg;, score=(train=0.905, test=0.903) total time=   2.3s\n",
      "[CV 10/10] END lr__C=10, lr__max_iter=100, lr__penalty=l2, lr__solver=newton-cg;, score=(train=0.905, test=0.909) total time=   2.6s\n"
     ]
    },
    {
     "name": "stderr",
     "output_type": "stream",
     "text": [
      "/opt/conda/lib/python3.7/site-packages/sklearn/linear_model/_logistic.py:818: ConvergenceWarning: lbfgs failed to converge (status=1):\n",
      "STOP: TOTAL NO. of ITERATIONS REACHED LIMIT.\n",
      "\n",
      "Increase the number of iterations (max_iter) or scale the data as shown in:\n",
      "    https://scikit-learn.org/stable/modules/preprocessing.html\n",
      "Please also refer to the documentation for alternative solver options:\n",
      "    https://scikit-learn.org/stable/modules/linear_model.html#logistic-regression\n",
      "  extra_warning_msg=_LOGISTIC_SOLVER_CONVERGENCE_MSG,\n"
     ]
    },
    {
     "name": "stdout",
     "output_type": "stream",
     "text": [
      "[CV 1/10] END lr__C=10, lr__max_iter=100, lr__penalty=l2, lr__solver=lbfgs;, score=(train=0.902, test=0.900) total time=   0.7s\n"
     ]
    },
    {
     "name": "stderr",
     "output_type": "stream",
     "text": [
      "/opt/conda/lib/python3.7/site-packages/sklearn/linear_model/_logistic.py:818: ConvergenceWarning: lbfgs failed to converge (status=1):\n",
      "STOP: TOTAL NO. of ITERATIONS REACHED LIMIT.\n",
      "\n",
      "Increase the number of iterations (max_iter) or scale the data as shown in:\n",
      "    https://scikit-learn.org/stable/modules/preprocessing.html\n",
      "Please also refer to the documentation for alternative solver options:\n",
      "    https://scikit-learn.org/stable/modules/linear_model.html#logistic-regression\n",
      "  extra_warning_msg=_LOGISTIC_SOLVER_CONVERGENCE_MSG,\n"
     ]
    },
    {
     "name": "stdout",
     "output_type": "stream",
     "text": [
      "[CV 2/10] END lr__C=10, lr__max_iter=100, lr__penalty=l2, lr__solver=lbfgs;, score=(train=0.905, test=0.903) total time=   0.7s\n"
     ]
    },
    {
     "name": "stderr",
     "output_type": "stream",
     "text": [
      "/opt/conda/lib/python3.7/site-packages/sklearn/linear_model/_logistic.py:818: ConvergenceWarning: lbfgs failed to converge (status=1):\n",
      "STOP: TOTAL NO. of ITERATIONS REACHED LIMIT.\n",
      "\n",
      "Increase the number of iterations (max_iter) or scale the data as shown in:\n",
      "    https://scikit-learn.org/stable/modules/preprocessing.html\n",
      "Please also refer to the documentation for alternative solver options:\n",
      "    https://scikit-learn.org/stable/modules/linear_model.html#logistic-regression\n",
      "  extra_warning_msg=_LOGISTIC_SOLVER_CONVERGENCE_MSG,\n"
     ]
    },
    {
     "name": "stdout",
     "output_type": "stream",
     "text": [
      "[CV 3/10] END lr__C=10, lr__max_iter=100, lr__penalty=l2, lr__solver=lbfgs;, score=(train=0.903, test=0.904) total time=   0.7s\n"
     ]
    },
    {
     "name": "stderr",
     "output_type": "stream",
     "text": [
      "/opt/conda/lib/python3.7/site-packages/sklearn/linear_model/_logistic.py:818: ConvergenceWarning: lbfgs failed to converge (status=1):\n",
      "STOP: TOTAL NO. of ITERATIONS REACHED LIMIT.\n",
      "\n",
      "Increase the number of iterations (max_iter) or scale the data as shown in:\n",
      "    https://scikit-learn.org/stable/modules/preprocessing.html\n",
      "Please also refer to the documentation for alternative solver options:\n",
      "    https://scikit-learn.org/stable/modules/linear_model.html#logistic-regression\n",
      "  extra_warning_msg=_LOGISTIC_SOLVER_CONVERGENCE_MSG,\n"
     ]
    },
    {
     "name": "stdout",
     "output_type": "stream",
     "text": [
      "[CV 4/10] END lr__C=10, lr__max_iter=100, lr__penalty=l2, lr__solver=lbfgs;, score=(train=0.907, test=0.905) total time=   0.7s\n"
     ]
    },
    {
     "name": "stderr",
     "output_type": "stream",
     "text": [
      "/opt/conda/lib/python3.7/site-packages/sklearn/linear_model/_logistic.py:818: ConvergenceWarning: lbfgs failed to converge (status=1):\n",
      "STOP: TOTAL NO. of ITERATIONS REACHED LIMIT.\n",
      "\n",
      "Increase the number of iterations (max_iter) or scale the data as shown in:\n",
      "    https://scikit-learn.org/stable/modules/preprocessing.html\n",
      "Please also refer to the documentation for alternative solver options:\n",
      "    https://scikit-learn.org/stable/modules/linear_model.html#logistic-regression\n",
      "  extra_warning_msg=_LOGISTIC_SOLVER_CONVERGENCE_MSG,\n"
     ]
    },
    {
     "name": "stdout",
     "output_type": "stream",
     "text": [
      "[CV 5/10] END lr__C=10, lr__max_iter=100, lr__penalty=l2, lr__solver=lbfgs;, score=(train=0.906, test=0.898) total time=   0.7s\n"
     ]
    },
    {
     "name": "stderr",
     "output_type": "stream",
     "text": [
      "/opt/conda/lib/python3.7/site-packages/sklearn/linear_model/_logistic.py:818: ConvergenceWarning: lbfgs failed to converge (status=1):\n",
      "STOP: TOTAL NO. of ITERATIONS REACHED LIMIT.\n",
      "\n",
      "Increase the number of iterations (max_iter) or scale the data as shown in:\n",
      "    https://scikit-learn.org/stable/modules/preprocessing.html\n",
      "Please also refer to the documentation for alternative solver options:\n",
      "    https://scikit-learn.org/stable/modules/linear_model.html#logistic-regression\n",
      "  extra_warning_msg=_LOGISTIC_SOLVER_CONVERGENCE_MSG,\n"
     ]
    },
    {
     "name": "stdout",
     "output_type": "stream",
     "text": [
      "[CV 6/10] END lr__C=10, lr__max_iter=100, lr__penalty=l2, lr__solver=lbfgs;, score=(train=0.904, test=0.905) total time=   0.7s\n"
     ]
    },
    {
     "name": "stderr",
     "output_type": "stream",
     "text": [
      "/opt/conda/lib/python3.7/site-packages/sklearn/linear_model/_logistic.py:818: ConvergenceWarning: lbfgs failed to converge (status=1):\n",
      "STOP: TOTAL NO. of ITERATIONS REACHED LIMIT.\n",
      "\n",
      "Increase the number of iterations (max_iter) or scale the data as shown in:\n",
      "    https://scikit-learn.org/stable/modules/preprocessing.html\n",
      "Please also refer to the documentation for alternative solver options:\n",
      "    https://scikit-learn.org/stable/modules/linear_model.html#logistic-regression\n",
      "  extra_warning_msg=_LOGISTIC_SOLVER_CONVERGENCE_MSG,\n"
     ]
    },
    {
     "name": "stdout",
     "output_type": "stream",
     "text": [
      "[CV 7/10] END lr__C=10, lr__max_iter=100, lr__penalty=l2, lr__solver=lbfgs;, score=(train=0.906, test=0.907) total time=   0.7s\n"
     ]
    },
    {
     "name": "stderr",
     "output_type": "stream",
     "text": [
      "/opt/conda/lib/python3.7/site-packages/sklearn/linear_model/_logistic.py:818: ConvergenceWarning: lbfgs failed to converge (status=1):\n",
      "STOP: TOTAL NO. of ITERATIONS REACHED LIMIT.\n",
      "\n",
      "Increase the number of iterations (max_iter) or scale the data as shown in:\n",
      "    https://scikit-learn.org/stable/modules/preprocessing.html\n",
      "Please also refer to the documentation for alternative solver options:\n",
      "    https://scikit-learn.org/stable/modules/linear_model.html#logistic-regression\n",
      "  extra_warning_msg=_LOGISTIC_SOLVER_CONVERGENCE_MSG,\n"
     ]
    },
    {
     "name": "stdout",
     "output_type": "stream",
     "text": [
      "[CV 8/10] END lr__C=10, lr__max_iter=100, lr__penalty=l2, lr__solver=lbfgs;, score=(train=0.907, test=0.903) total time=   0.7s\n"
     ]
    },
    {
     "name": "stderr",
     "output_type": "stream",
     "text": [
      "/opt/conda/lib/python3.7/site-packages/sklearn/linear_model/_logistic.py:818: ConvergenceWarning: lbfgs failed to converge (status=1):\n",
      "STOP: TOTAL NO. of ITERATIONS REACHED LIMIT.\n",
      "\n",
      "Increase the number of iterations (max_iter) or scale the data as shown in:\n",
      "    https://scikit-learn.org/stable/modules/preprocessing.html\n",
      "Please also refer to the documentation for alternative solver options:\n",
      "    https://scikit-learn.org/stable/modules/linear_model.html#logistic-regression\n",
      "  extra_warning_msg=_LOGISTIC_SOLVER_CONVERGENCE_MSG,\n"
     ]
    },
    {
     "name": "stdout",
     "output_type": "stream",
     "text": [
      "[CV 9/10] END lr__C=10, lr__max_iter=100, lr__penalty=l2, lr__solver=lbfgs;, score=(train=0.905, test=0.903) total time=   0.7s\n"
     ]
    },
    {
     "name": "stderr",
     "output_type": "stream",
     "text": [
      "/opt/conda/lib/python3.7/site-packages/sklearn/linear_model/_logistic.py:818: ConvergenceWarning: lbfgs failed to converge (status=1):\n",
      "STOP: TOTAL NO. of ITERATIONS REACHED LIMIT.\n",
      "\n",
      "Increase the number of iterations (max_iter) or scale the data as shown in:\n",
      "    https://scikit-learn.org/stable/modules/preprocessing.html\n",
      "Please also refer to the documentation for alternative solver options:\n",
      "    https://scikit-learn.org/stable/modules/linear_model.html#logistic-regression\n",
      "  extra_warning_msg=_LOGISTIC_SOLVER_CONVERGENCE_MSG,\n"
     ]
    },
    {
     "name": "stdout",
     "output_type": "stream",
     "text": [
      "[CV 10/10] END lr__C=10, lr__max_iter=100, lr__penalty=l2, lr__solver=lbfgs;, score=(train=0.905, test=0.910) total time=   0.7s\n",
      "[CV 1/10] END lr__C=10, lr__max_iter=100, lr__penalty=l2, lr__solver=liblinear;, score=(train=0.903, test=0.901) total time=   0.5s\n",
      "[CV 2/10] END lr__C=10, lr__max_iter=100, lr__penalty=l2, lr__solver=liblinear;, score=(train=0.906, test=0.903) total time=   0.7s\n",
      "[CV 3/10] END lr__C=10, lr__max_iter=100, lr__penalty=l2, lr__solver=liblinear;, score=(train=0.903, test=0.903) total time=   0.5s\n",
      "[CV 4/10] END lr__C=10, lr__max_iter=100, lr__penalty=l2, lr__solver=liblinear;, score=(train=0.907, test=0.905) total time=   0.5s\n",
      "[CV 5/10] END lr__C=10, lr__max_iter=100, lr__penalty=l2, lr__solver=liblinear;, score=(train=0.906, test=0.900) total time=   0.6s\n",
      "[CV 6/10] END lr__C=10, lr__max_iter=100, lr__penalty=l2, lr__solver=liblinear;, score=(train=0.905, test=0.905) total time=   0.7s\n",
      "[CV 7/10] END lr__C=10, lr__max_iter=100, lr__penalty=l2, lr__solver=liblinear;, score=(train=0.906, test=0.907) total time=   0.5s\n",
      "[CV 8/10] END lr__C=10, lr__max_iter=100, lr__penalty=l2, lr__solver=liblinear;, score=(train=0.907, test=0.903) total time=   0.5s\n",
      "[CV 9/10] END lr__C=10, lr__max_iter=100, lr__penalty=l2, lr__solver=liblinear;, score=(train=0.905, test=0.903) total time=   0.5s\n",
      "[CV 10/10] END lr__C=10, lr__max_iter=100, lr__penalty=l2, lr__solver=liblinear;, score=(train=0.905, test=0.909) total time=   0.6s\n",
      "[CV 1/10] END lr__C=10, lr__max_iter=100, lr__penalty=l2, lr__solver=sag;, score=(train=0.903, test=0.901) total time=   1.7s\n",
      "[CV 2/10] END lr__C=10, lr__max_iter=100, lr__penalty=l2, lr__solver=sag;, score=(train=0.906, test=0.903) total time=   2.1s\n",
      "[CV 3/10] END lr__C=10, lr__max_iter=100, lr__penalty=l2, lr__solver=sag;, score=(train=0.903, test=0.903) total time=   2.0s\n",
      "[CV 4/10] END lr__C=10, lr__max_iter=100, lr__penalty=l2, lr__solver=sag;, score=(train=0.907, test=0.905) total time=   1.5s\n",
      "[CV 5/10] END lr__C=10, lr__max_iter=100, lr__penalty=l2, lr__solver=sag;, score=(train=0.906, test=0.900) total time=   1.8s\n",
      "[CV 6/10] END lr__C=10, lr__max_iter=100, lr__penalty=l2, lr__solver=sag;, score=(train=0.905, test=0.905) total time=   2.2s\n",
      "[CV 7/10] END lr__C=10, lr__max_iter=100, lr__penalty=l2, lr__solver=sag;, score=(train=0.906, test=0.907) total time=   2.0s\n",
      "[CV 8/10] END lr__C=10, lr__max_iter=100, lr__penalty=l2, lr__solver=sag;, score=(train=0.907, test=0.903) total time=   1.8s\n",
      "[CV 9/10] END lr__C=10, lr__max_iter=100, lr__penalty=l2, lr__solver=sag;, score=(train=0.905, test=0.903) total time=   1.8s\n",
      "[CV 10/10] END lr__C=10, lr__max_iter=100, lr__penalty=l2, lr__solver=sag;, score=(train=0.905, test=0.909) total time=   1.9s\n",
      "[CV 1/10] END lr__C=10, lr__max_iter=100, lr__penalty=l2, lr__solver=saga;, score=(train=0.903, test=0.901) total time=   2.9s\n",
      "[CV 2/10] END lr__C=10, lr__max_iter=100, lr__penalty=l2, lr__solver=saga;, score=(train=0.906, test=0.903) total time=   3.7s\n",
      "[CV 3/10] END lr__C=10, lr__max_iter=100, lr__penalty=l2, lr__solver=saga;, score=(train=0.903, test=0.903) total time=   3.1s\n",
      "[CV 4/10] END lr__C=10, lr__max_iter=100, lr__penalty=l2, lr__solver=saga;, score=(train=0.907, test=0.905) total time=   2.0s\n",
      "[CV 5/10] END lr__C=10, lr__max_iter=100, lr__penalty=l2, lr__solver=saga;, score=(train=0.906, test=0.900) total time=   3.6s\n",
      "[CV 6/10] END lr__C=10, lr__max_iter=100, lr__penalty=l2, lr__solver=saga;, score=(train=0.905, test=0.905) total time=   3.4s\n",
      "[CV 7/10] END lr__C=10, lr__max_iter=100, lr__penalty=l2, lr__solver=saga;, score=(train=0.906, test=0.907) total time=   3.5s\n",
      "[CV 8/10] END lr__C=10, lr__max_iter=100, lr__penalty=l2, lr__solver=saga;, score=(train=0.907, test=0.903) total time=   2.8s\n",
      "[CV 9/10] END lr__C=10, lr__max_iter=100, lr__penalty=l2, lr__solver=saga;, score=(train=0.905, test=0.903) total time=   3.5s\n",
      "[CV 10/10] END lr__C=10, lr__max_iter=100, lr__penalty=l2, lr__solver=saga;, score=(train=0.905, test=0.909) total time=   3.6s\n",
      "[CV 1/10] END lr__C=10, lr__max_iter=500, lr__penalty=l2, lr__solver=newton-cg;, score=(train=0.903, test=0.901) total time=   2.5s\n",
      "[CV 2/10] END lr__C=10, lr__max_iter=500, lr__penalty=l2, lr__solver=newton-cg;, score=(train=0.906, test=0.903) total time=   2.4s\n",
      "[CV 3/10] END lr__C=10, lr__max_iter=500, lr__penalty=l2, lr__solver=newton-cg;, score=(train=0.903, test=0.903) total time=   2.0s\n",
      "[CV 4/10] END lr__C=10, lr__max_iter=500, lr__penalty=l2, lr__solver=newton-cg;, score=(train=0.907, test=0.905) total time=   2.2s\n",
      "[CV 5/10] END lr__C=10, lr__max_iter=500, lr__penalty=l2, lr__solver=newton-cg;, score=(train=0.906, test=0.900) total time=   2.1s\n",
      "[CV 6/10] END lr__C=10, lr__max_iter=500, lr__penalty=l2, lr__solver=newton-cg;, score=(train=0.905, test=0.905) total time=   2.2s\n",
      "[CV 7/10] END lr__C=10, lr__max_iter=500, lr__penalty=l2, lr__solver=newton-cg;, score=(train=0.906, test=0.907) total time=   2.1s\n",
      "[CV 8/10] END lr__C=10, lr__max_iter=500, lr__penalty=l2, lr__solver=newton-cg;, score=(train=0.907, test=0.903) total time=   2.2s\n",
      "[CV 9/10] END lr__C=10, lr__max_iter=500, lr__penalty=l2, lr__solver=newton-cg;, score=(train=0.905, test=0.903) total time=   2.2s\n",
      "[CV 10/10] END lr__C=10, lr__max_iter=500, lr__penalty=l2, lr__solver=newton-cg;, score=(train=0.905, test=0.909) total time=   3.1s\n",
      "[CV 1/10] END lr__C=10, lr__max_iter=500, lr__penalty=l2, lr__solver=lbfgs;, score=(train=0.903, test=0.901) total time=   2.3s\n",
      "[CV 2/10] END lr__C=10, lr__max_iter=500, lr__penalty=l2, lr__solver=lbfgs;, score=(train=0.906, test=0.903) total time=   2.3s\n",
      "[CV 3/10] END lr__C=10, lr__max_iter=500, lr__penalty=l2, lr__solver=lbfgs;, score=(train=0.903, test=0.903) total time=   2.0s\n",
      "[CV 4/10] END lr__C=10, lr__max_iter=500, lr__penalty=l2, lr__solver=lbfgs;, score=(train=0.907, test=0.905) total time=   1.9s\n",
      "[CV 5/10] END lr__C=10, lr__max_iter=500, lr__penalty=l2, lr__solver=lbfgs;, score=(train=0.906, test=0.900) total time=   2.1s\n",
      "[CV 6/10] END lr__C=10, lr__max_iter=500, lr__penalty=l2, lr__solver=lbfgs;, score=(train=0.905, test=0.905) total time=   2.5s\n",
      "[CV 7/10] END lr__C=10, lr__max_iter=500, lr__penalty=l2, lr__solver=lbfgs;, score=(train=0.906, test=0.907) total time=   1.9s\n",
      "[CV 8/10] END lr__C=10, lr__max_iter=500, lr__penalty=l2, lr__solver=lbfgs;, score=(train=0.907, test=0.903) total time=   1.9s\n",
      "[CV 9/10] END lr__C=10, lr__max_iter=500, lr__penalty=l2, lr__solver=lbfgs;, score=(train=0.905, test=0.903) total time=   2.2s\n",
      "[CV 10/10] END lr__C=10, lr__max_iter=500, lr__penalty=l2, lr__solver=lbfgs;, score=(train=0.905, test=0.909) total time=   2.6s\n",
      "[CV 1/10] END lr__C=10, lr__max_iter=500, lr__penalty=l2, lr__solver=liblinear;, score=(train=0.903, test=0.901) total time=   0.5s\n",
      "[CV 2/10] END lr__C=10, lr__max_iter=500, lr__penalty=l2, lr__solver=liblinear;, score=(train=0.906, test=0.903) total time=   0.7s\n",
      "[CV 3/10] END lr__C=10, lr__max_iter=500, lr__penalty=l2, lr__solver=liblinear;, score=(train=0.903, test=0.903) total time=   0.5s\n",
      "[CV 4/10] END lr__C=10, lr__max_iter=500, lr__penalty=l2, lr__solver=liblinear;, score=(train=0.907, test=0.905) total time=   0.5s\n",
      "[CV 5/10] END lr__C=10, lr__max_iter=500, lr__penalty=l2, lr__solver=liblinear;, score=(train=0.906, test=0.900) total time=   0.6s\n",
      "[CV 6/10] END lr__C=10, lr__max_iter=500, lr__penalty=l2, lr__solver=liblinear;, score=(train=0.905, test=0.905) total time=   0.7s\n",
      "[CV 7/10] END lr__C=10, lr__max_iter=500, lr__penalty=l2, lr__solver=liblinear;, score=(train=0.906, test=0.907) total time=   0.5s\n",
      "[CV 8/10] END lr__C=10, lr__max_iter=500, lr__penalty=l2, lr__solver=liblinear;, score=(train=0.907, test=0.903) total time=   0.5s\n",
      "[CV 9/10] END lr__C=10, lr__max_iter=500, lr__penalty=l2, lr__solver=liblinear;, score=(train=0.905, test=0.903) total time=   0.5s\n",
      "[CV 10/10] END lr__C=10, lr__max_iter=500, lr__penalty=l2, lr__solver=liblinear;, score=(train=0.905, test=0.909) total time=   0.6s\n",
      "[CV 1/10] END lr__C=10, lr__max_iter=500, lr__penalty=l2, lr__solver=sag;, score=(train=0.903, test=0.901) total time=   1.7s\n",
      "[CV 2/10] END lr__C=10, lr__max_iter=500, lr__penalty=l2, lr__solver=sag;, score=(train=0.906, test=0.903) total time=   2.3s\n",
      "[CV 3/10] END lr__C=10, lr__max_iter=500, lr__penalty=l2, lr__solver=sag;, score=(train=0.903, test=0.903) total time=   1.7s\n",
      "[CV 4/10] END lr__C=10, lr__max_iter=500, lr__penalty=l2, lr__solver=sag;, score=(train=0.907, test=0.905) total time=   1.6s\n",
      "[CV 5/10] END lr__C=10, lr__max_iter=500, lr__penalty=l2, lr__solver=sag;, score=(train=0.906, test=0.900) total time=   1.9s\n",
      "[CV 6/10] END lr__C=10, lr__max_iter=500, lr__penalty=l2, lr__solver=sag;, score=(train=0.905, test=0.905) total time=   2.2s\n",
      "[CV 7/10] END lr__C=10, lr__max_iter=500, lr__penalty=l2, lr__solver=sag;, score=(train=0.906, test=0.907) total time=   2.1s\n",
      "[CV 8/10] END lr__C=10, lr__max_iter=500, lr__penalty=l2, lr__solver=sag;, score=(train=0.907, test=0.903) total time=   1.9s\n",
      "[CV 9/10] END lr__C=10, lr__max_iter=500, lr__penalty=l2, lr__solver=sag;, score=(train=0.905, test=0.903) total time=   1.8s\n",
      "[CV 10/10] END lr__C=10, lr__max_iter=500, lr__penalty=l2, lr__solver=sag;, score=(train=0.905, test=0.909) total time=   2.0s\n",
      "[CV 1/10] END lr__C=10, lr__max_iter=500, lr__penalty=l2, lr__solver=saga;, score=(train=0.903, test=0.901) total time=   2.8s\n",
      "[CV 2/10] END lr__C=10, lr__max_iter=500, lr__penalty=l2, lr__solver=saga;, score=(train=0.906, test=0.903) total time=   3.8s\n",
      "[CV 3/10] END lr__C=10, lr__max_iter=500, lr__penalty=l2, lr__solver=saga;, score=(train=0.903, test=0.903) total time=   3.0s\n",
      "[CV 4/10] END lr__C=10, lr__max_iter=500, lr__penalty=l2, lr__solver=saga;, score=(train=0.907, test=0.905) total time=   2.0s\n",
      "[CV 5/10] END lr__C=10, lr__max_iter=500, lr__penalty=l2, lr__solver=saga;, score=(train=0.906, test=0.900) total time=   3.7s\n",
      "[CV 6/10] END lr__C=10, lr__max_iter=500, lr__penalty=l2, lr__solver=saga;, score=(train=0.905, test=0.905) total time=   3.4s\n",
      "[CV 7/10] END lr__C=10, lr__max_iter=500, lr__penalty=l2, lr__solver=saga;, score=(train=0.906, test=0.907) total time=   3.4s\n",
      "[CV 8/10] END lr__C=10, lr__max_iter=500, lr__penalty=l2, lr__solver=saga;, score=(train=0.907, test=0.903) total time=   2.9s\n",
      "[CV 9/10] END lr__C=10, lr__max_iter=500, lr__penalty=l2, lr__solver=saga;, score=(train=0.905, test=0.903) total time=   3.5s\n",
      "[CV 10/10] END lr__C=10, lr__max_iter=500, lr__penalty=l2, lr__solver=saga;, score=(train=0.905, test=0.909) total time=   3.6s\n",
      "[CV 1/10] END lr__C=10, lr__max_iter=1000, lr__penalty=l2, lr__solver=newton-cg;, score=(train=0.903, test=0.901) total time=   2.4s\n",
      "[CV 2/10] END lr__C=10, lr__max_iter=1000, lr__penalty=l2, lr__solver=newton-cg;, score=(train=0.906, test=0.903) total time=   2.5s\n",
      "[CV 3/10] END lr__C=10, lr__max_iter=1000, lr__penalty=l2, lr__solver=newton-cg;, score=(train=0.903, test=0.903) total time=   1.9s\n",
      "[CV 4/10] END lr__C=10, lr__max_iter=1000, lr__penalty=l2, lr__solver=newton-cg;, score=(train=0.907, test=0.905) total time=   2.1s\n",
      "[CV 5/10] END lr__C=10, lr__max_iter=1000, lr__penalty=l2, lr__solver=newton-cg;, score=(train=0.906, test=0.900) total time=   2.3s\n",
      "[CV 6/10] END lr__C=10, lr__max_iter=1000, lr__penalty=l2, lr__solver=newton-cg;, score=(train=0.905, test=0.905) total time=   3.1s\n",
      "[CV 7/10] END lr__C=10, lr__max_iter=1000, lr__penalty=l2, lr__solver=newton-cg;, score=(train=0.906, test=0.907) total time=   2.5s\n",
      "[CV 8/10] END lr__C=10, lr__max_iter=1000, lr__penalty=l2, lr__solver=newton-cg;, score=(train=0.907, test=0.903) total time=   2.4s\n",
      "[CV 9/10] END lr__C=10, lr__max_iter=1000, lr__penalty=l2, lr__solver=newton-cg;, score=(train=0.905, test=0.903) total time=   2.3s\n",
      "[CV 10/10] END lr__C=10, lr__max_iter=1000, lr__penalty=l2, lr__solver=newton-cg;, score=(train=0.905, test=0.909) total time=   2.7s\n",
      "[CV 1/10] END lr__C=10, lr__max_iter=1000, lr__penalty=l2, lr__solver=lbfgs;, score=(train=0.903, test=0.901) total time=   2.5s\n",
      "[CV 2/10] END lr__C=10, lr__max_iter=1000, lr__penalty=l2, lr__solver=lbfgs;, score=(train=0.906, test=0.903) total time=   2.4s\n",
      "[CV 3/10] END lr__C=10, lr__max_iter=1000, lr__penalty=l2, lr__solver=lbfgs;, score=(train=0.903, test=0.903) total time=   2.1s\n",
      "[CV 4/10] END lr__C=10, lr__max_iter=1000, lr__penalty=l2, lr__solver=lbfgs;, score=(train=0.907, test=0.905) total time=   1.8s\n",
      "[CV 5/10] END lr__C=10, lr__max_iter=1000, lr__penalty=l2, lr__solver=lbfgs;, score=(train=0.906, test=0.900) total time=   2.1s\n",
      "[CV 6/10] END lr__C=10, lr__max_iter=1000, lr__penalty=l2, lr__solver=lbfgs;, score=(train=0.905, test=0.905) total time=   2.6s\n",
      "[CV 7/10] END lr__C=10, lr__max_iter=1000, lr__penalty=l2, lr__solver=lbfgs;, score=(train=0.906, test=0.907) total time=   1.9s\n",
      "[CV 8/10] END lr__C=10, lr__max_iter=1000, lr__penalty=l2, lr__solver=lbfgs;, score=(train=0.907, test=0.903) total time=   2.0s\n",
      "[CV 9/10] END lr__C=10, lr__max_iter=1000, lr__penalty=l2, lr__solver=lbfgs;, score=(train=0.905, test=0.903) total time=   2.2s\n",
      "[CV 10/10] END lr__C=10, lr__max_iter=1000, lr__penalty=l2, lr__solver=lbfgs;, score=(train=0.905, test=0.909) total time=   3.4s\n",
      "[CV 1/10] END lr__C=10, lr__max_iter=1000, lr__penalty=l2, lr__solver=liblinear;, score=(train=0.903, test=0.901) total time=   0.5s\n",
      "[CV 2/10] END lr__C=10, lr__max_iter=1000, lr__penalty=l2, lr__solver=liblinear;, score=(train=0.906, test=0.903) total time=   0.7s\n",
      "[CV 3/10] END lr__C=10, lr__max_iter=1000, lr__penalty=l2, lr__solver=liblinear;, score=(train=0.903, test=0.903) total time=   0.5s\n",
      "[CV 4/10] END lr__C=10, lr__max_iter=1000, lr__penalty=l2, lr__solver=liblinear;, score=(train=0.907, test=0.905) total time=   0.5s\n",
      "[CV 5/10] END lr__C=10, lr__max_iter=1000, lr__penalty=l2, lr__solver=liblinear;, score=(train=0.906, test=0.900) total time=   0.6s\n",
      "[CV 6/10] END lr__C=10, lr__max_iter=1000, lr__penalty=l2, lr__solver=liblinear;, score=(train=0.905, test=0.905) total time=   0.7s\n",
      "[CV 7/10] END lr__C=10, lr__max_iter=1000, lr__penalty=l2, lr__solver=liblinear;, score=(train=0.906, test=0.907) total time=   0.5s\n",
      "[CV 8/10] END lr__C=10, lr__max_iter=1000, lr__penalty=l2, lr__solver=liblinear;, score=(train=0.907, test=0.903) total time=   0.5s\n",
      "[CV 9/10] END lr__C=10, lr__max_iter=1000, lr__penalty=l2, lr__solver=liblinear;, score=(train=0.905, test=0.903) total time=   0.5s\n",
      "[CV 10/10] END lr__C=10, lr__max_iter=1000, lr__penalty=l2, lr__solver=liblinear;, score=(train=0.905, test=0.909) total time=   0.6s\n",
      "[CV 1/10] END lr__C=10, lr__max_iter=1000, lr__penalty=l2, lr__solver=sag;, score=(train=0.903, test=0.901) total time=   1.7s\n",
      "[CV 2/10] END lr__C=10, lr__max_iter=1000, lr__penalty=l2, lr__solver=sag;, score=(train=0.906, test=0.903) total time=   2.2s\n",
      "[CV 3/10] END lr__C=10, lr__max_iter=1000, lr__penalty=l2, lr__solver=sag;, score=(train=0.903, test=0.903) total time=   1.9s\n",
      "[CV 4/10] END lr__C=10, lr__max_iter=1000, lr__penalty=l2, lr__solver=sag;, score=(train=0.907, test=0.905) total time=   1.6s\n",
      "[CV 5/10] END lr__C=10, lr__max_iter=1000, lr__penalty=l2, lr__solver=sag;, score=(train=0.906, test=0.900) total time=   1.9s\n",
      "[CV 6/10] END lr__C=10, lr__max_iter=1000, lr__penalty=l2, lr__solver=sag;, score=(train=0.905, test=0.905) total time=   2.2s\n",
      "[CV 7/10] END lr__C=10, lr__max_iter=1000, lr__penalty=l2, lr__solver=sag;, score=(train=0.906, test=0.907) total time=   1.9s\n",
      "[CV 8/10] END lr__C=10, lr__max_iter=1000, lr__penalty=l2, lr__solver=sag;, score=(train=0.907, test=0.903) total time=   1.8s\n",
      "[CV 9/10] END lr__C=10, lr__max_iter=1000, lr__penalty=l2, lr__solver=sag;, score=(train=0.905, test=0.903) total time=   1.8s\n",
      "[CV 10/10] END lr__C=10, lr__max_iter=1000, lr__penalty=l2, lr__solver=sag;, score=(train=0.905, test=0.909) total time=   2.0s\n",
      "[CV 1/10] END lr__C=10, lr__max_iter=1000, lr__penalty=l2, lr__solver=saga;, score=(train=0.903, test=0.901) total time=   2.8s\n",
      "[CV 2/10] END lr__C=10, lr__max_iter=1000, lr__penalty=l2, lr__solver=saga;, score=(train=0.906, test=0.903) total time=   3.8s\n",
      "[CV 3/10] END lr__C=10, lr__max_iter=1000, lr__penalty=l2, lr__solver=saga;, score=(train=0.903, test=0.903) total time=   3.2s\n",
      "[CV 4/10] END lr__C=10, lr__max_iter=1000, lr__penalty=l2, lr__solver=saga;, score=(train=0.907, test=0.905) total time=   2.1s\n",
      "[CV 5/10] END lr__C=10, lr__max_iter=1000, lr__penalty=l2, lr__solver=saga;, score=(train=0.906, test=0.900) total time=   3.6s\n",
      "[CV 6/10] END lr__C=10, lr__max_iter=1000, lr__penalty=l2, lr__solver=saga;, score=(train=0.905, test=0.905) total time=   3.4s\n",
      "[CV 7/10] END lr__C=10, lr__max_iter=1000, lr__penalty=l2, lr__solver=saga;, score=(train=0.906, test=0.907) total time=   3.4s\n",
      "[CV 8/10] END lr__C=10, lr__max_iter=1000, lr__penalty=l2, lr__solver=saga;, score=(train=0.907, test=0.903) total time=   2.9s\n",
      "[CV 9/10] END lr__C=10, lr__max_iter=1000, lr__penalty=l2, lr__solver=saga;, score=(train=0.905, test=0.903) total time=   3.4s\n",
      "[CV 10/10] END lr__C=10, lr__max_iter=1000, lr__penalty=l2, lr__solver=saga;, score=(train=0.905, test=0.909) total time=   3.6s\n",
      "[CV 1/10] END lr__C=100, lr__max_iter=100, lr__penalty=l2, lr__solver=newton-cg;, score=(train=0.904, test=0.901) total time=   3.3s\n",
      "[CV 2/10] END lr__C=100, lr__max_iter=100, lr__penalty=l2, lr__solver=newton-cg;, score=(train=0.907, test=0.904) total time=   4.4s\n",
      "[CV 3/10] END lr__C=100, lr__max_iter=100, lr__penalty=l2, lr__solver=newton-cg;, score=(train=0.904, test=0.904) total time=   3.2s\n",
      "[CV 4/10] END lr__C=100, lr__max_iter=100, lr__penalty=l2, lr__solver=newton-cg;, score=(train=0.907, test=0.905) total time=   2.9s\n",
      "[CV 5/10] END lr__C=100, lr__max_iter=100, lr__penalty=l2, lr__solver=newton-cg;, score=(train=0.907, test=0.900) total time=   3.4s\n",
      "[CV 6/10] END lr__C=100, lr__max_iter=100, lr__penalty=l2, lr__solver=newton-cg;, score=(train=0.905, test=0.906) total time=   3.6s\n",
      "[CV 7/10] END lr__C=100, lr__max_iter=100, lr__penalty=l2, lr__solver=newton-cg;, score=(train=0.907, test=0.908) total time=   3.2s\n",
      "[CV 8/10] END lr__C=100, lr__max_iter=100, lr__penalty=l2, lr__solver=newton-cg;, score=(train=0.907, test=0.904) total time=   3.3s\n",
      "[CV 9/10] END lr__C=100, lr__max_iter=100, lr__penalty=l2, lr__solver=newton-cg;, score=(train=0.906, test=0.904) total time=   2.8s\n",
      "[CV 10/10] END lr__C=100, lr__max_iter=100, lr__penalty=l2, lr__solver=newton-cg;, score=(train=0.905, test=0.910) total time=   3.8s\n"
     ]
    },
    {
     "name": "stderr",
     "output_type": "stream",
     "text": [
      "/opt/conda/lib/python3.7/site-packages/sklearn/linear_model/_logistic.py:818: ConvergenceWarning: lbfgs failed to converge (status=1):\n",
      "STOP: TOTAL NO. of ITERATIONS REACHED LIMIT.\n",
      "\n",
      "Increase the number of iterations (max_iter) or scale the data as shown in:\n",
      "    https://scikit-learn.org/stable/modules/preprocessing.html\n",
      "Please also refer to the documentation for alternative solver options:\n",
      "    https://scikit-learn.org/stable/modules/linear_model.html#logistic-regression\n",
      "  extra_warning_msg=_LOGISTIC_SOLVER_CONVERGENCE_MSG,\n"
     ]
    },
    {
     "name": "stdout",
     "output_type": "stream",
     "text": [
      "[CV 1/10] END lr__C=100, lr__max_iter=100, lr__penalty=l2, lr__solver=lbfgs;, score=(train=0.903, test=0.900) total time=   0.7s\n"
     ]
    },
    {
     "name": "stderr",
     "output_type": "stream",
     "text": [
      "/opt/conda/lib/python3.7/site-packages/sklearn/linear_model/_logistic.py:818: ConvergenceWarning: lbfgs failed to converge (status=1):\n",
      "STOP: TOTAL NO. of ITERATIONS REACHED LIMIT.\n",
      "\n",
      "Increase the number of iterations (max_iter) or scale the data as shown in:\n",
      "    https://scikit-learn.org/stable/modules/preprocessing.html\n",
      "Please also refer to the documentation for alternative solver options:\n",
      "    https://scikit-learn.org/stable/modules/linear_model.html#logistic-regression\n",
      "  extra_warning_msg=_LOGISTIC_SOLVER_CONVERGENCE_MSG,\n"
     ]
    },
    {
     "name": "stdout",
     "output_type": "stream",
     "text": [
      "[CV 2/10] END lr__C=100, lr__max_iter=100, lr__penalty=l2, lr__solver=lbfgs;, score=(train=0.906, test=0.903) total time=   0.7s\n"
     ]
    },
    {
     "name": "stderr",
     "output_type": "stream",
     "text": [
      "/opt/conda/lib/python3.7/site-packages/sklearn/linear_model/_logistic.py:818: ConvergenceWarning: lbfgs failed to converge (status=1):\n",
      "STOP: TOTAL NO. of ITERATIONS REACHED LIMIT.\n",
      "\n",
      "Increase the number of iterations (max_iter) or scale the data as shown in:\n",
      "    https://scikit-learn.org/stable/modules/preprocessing.html\n",
      "Please also refer to the documentation for alternative solver options:\n",
      "    https://scikit-learn.org/stable/modules/linear_model.html#logistic-regression\n",
      "  extra_warning_msg=_LOGISTIC_SOLVER_CONVERGENCE_MSG,\n"
     ]
    },
    {
     "name": "stdout",
     "output_type": "stream",
     "text": [
      "[CV 3/10] END lr__C=100, lr__max_iter=100, lr__penalty=l2, lr__solver=lbfgs;, score=(train=0.904, test=0.904) total time=   0.7s\n"
     ]
    },
    {
     "name": "stderr",
     "output_type": "stream",
     "text": [
      "/opt/conda/lib/python3.7/site-packages/sklearn/linear_model/_logistic.py:818: ConvergenceWarning: lbfgs failed to converge (status=1):\n",
      "STOP: TOTAL NO. of ITERATIONS REACHED LIMIT.\n",
      "\n",
      "Increase the number of iterations (max_iter) or scale the data as shown in:\n",
      "    https://scikit-learn.org/stable/modules/preprocessing.html\n",
      "Please also refer to the documentation for alternative solver options:\n",
      "    https://scikit-learn.org/stable/modules/linear_model.html#logistic-regression\n",
      "  extra_warning_msg=_LOGISTIC_SOLVER_CONVERGENCE_MSG,\n"
     ]
    },
    {
     "name": "stdout",
     "output_type": "stream",
     "text": [
      "[CV 4/10] END lr__C=100, lr__max_iter=100, lr__penalty=l2, lr__solver=lbfgs;, score=(train=0.907, test=0.906) total time=   0.7s\n"
     ]
    },
    {
     "name": "stderr",
     "output_type": "stream",
     "text": [
      "/opt/conda/lib/python3.7/site-packages/sklearn/linear_model/_logistic.py:818: ConvergenceWarning: lbfgs failed to converge (status=1):\n",
      "STOP: TOTAL NO. of ITERATIONS REACHED LIMIT.\n",
      "\n",
      "Increase the number of iterations (max_iter) or scale the data as shown in:\n",
      "    https://scikit-learn.org/stable/modules/preprocessing.html\n",
      "Please also refer to the documentation for alternative solver options:\n",
      "    https://scikit-learn.org/stable/modules/linear_model.html#logistic-regression\n",
      "  extra_warning_msg=_LOGISTIC_SOLVER_CONVERGENCE_MSG,\n"
     ]
    },
    {
     "name": "stdout",
     "output_type": "stream",
     "text": [
      "[CV 5/10] END lr__C=100, lr__max_iter=100, lr__penalty=l2, lr__solver=lbfgs;, score=(train=0.907, test=0.899) total time=   0.9s\n"
     ]
    },
    {
     "name": "stderr",
     "output_type": "stream",
     "text": [
      "/opt/conda/lib/python3.7/site-packages/sklearn/linear_model/_logistic.py:818: ConvergenceWarning: lbfgs failed to converge (status=1):\n",
      "STOP: TOTAL NO. of ITERATIONS REACHED LIMIT.\n",
      "\n",
      "Increase the number of iterations (max_iter) or scale the data as shown in:\n",
      "    https://scikit-learn.org/stable/modules/preprocessing.html\n",
      "Please also refer to the documentation for alternative solver options:\n",
      "    https://scikit-learn.org/stable/modules/linear_model.html#logistic-regression\n",
      "  extra_warning_msg=_LOGISTIC_SOLVER_CONVERGENCE_MSG,\n"
     ]
    },
    {
     "name": "stdout",
     "output_type": "stream",
     "text": [
      "[CV 6/10] END lr__C=100, lr__max_iter=100, lr__penalty=l2, lr__solver=lbfgs;, score=(train=0.905, test=0.905) total time=   1.0s\n"
     ]
    },
    {
     "name": "stderr",
     "output_type": "stream",
     "text": [
      "/opt/conda/lib/python3.7/site-packages/sklearn/linear_model/_logistic.py:818: ConvergenceWarning: lbfgs failed to converge (status=1):\n",
      "STOP: TOTAL NO. of ITERATIONS REACHED LIMIT.\n",
      "\n",
      "Increase the number of iterations (max_iter) or scale the data as shown in:\n",
      "    https://scikit-learn.org/stable/modules/preprocessing.html\n",
      "Please also refer to the documentation for alternative solver options:\n",
      "    https://scikit-learn.org/stable/modules/linear_model.html#logistic-regression\n",
      "  extra_warning_msg=_LOGISTIC_SOLVER_CONVERGENCE_MSG,\n"
     ]
    },
    {
     "name": "stdout",
     "output_type": "stream",
     "text": [
      "[CV 7/10] END lr__C=100, lr__max_iter=100, lr__penalty=l2, lr__solver=lbfgs;, score=(train=0.907, test=0.908) total time=   0.7s\n"
     ]
    },
    {
     "name": "stderr",
     "output_type": "stream",
     "text": [
      "/opt/conda/lib/python3.7/site-packages/sklearn/linear_model/_logistic.py:818: ConvergenceWarning: lbfgs failed to converge (status=1):\n",
      "STOP: TOTAL NO. of ITERATIONS REACHED LIMIT.\n",
      "\n",
      "Increase the number of iterations (max_iter) or scale the data as shown in:\n",
      "    https://scikit-learn.org/stable/modules/preprocessing.html\n",
      "Please also refer to the documentation for alternative solver options:\n",
      "    https://scikit-learn.org/stable/modules/linear_model.html#logistic-regression\n",
      "  extra_warning_msg=_LOGISTIC_SOLVER_CONVERGENCE_MSG,\n"
     ]
    },
    {
     "name": "stdout",
     "output_type": "stream",
     "text": [
      "[CV 8/10] END lr__C=100, lr__max_iter=100, lr__penalty=l2, lr__solver=lbfgs;, score=(train=0.907, test=0.903) total time=   0.8s\n"
     ]
    },
    {
     "name": "stderr",
     "output_type": "stream",
     "text": [
      "/opt/conda/lib/python3.7/site-packages/sklearn/linear_model/_logistic.py:818: ConvergenceWarning: lbfgs failed to converge (status=1):\n",
      "STOP: TOTAL NO. of ITERATIONS REACHED LIMIT.\n",
      "\n",
      "Increase the number of iterations (max_iter) or scale the data as shown in:\n",
      "    https://scikit-learn.org/stable/modules/preprocessing.html\n",
      "Please also refer to the documentation for alternative solver options:\n",
      "    https://scikit-learn.org/stable/modules/linear_model.html#logistic-regression\n",
      "  extra_warning_msg=_LOGISTIC_SOLVER_CONVERGENCE_MSG,\n"
     ]
    },
    {
     "name": "stdout",
     "output_type": "stream",
     "text": [
      "[CV 9/10] END lr__C=100, lr__max_iter=100, lr__penalty=l2, lr__solver=lbfgs;, score=(train=0.906, test=0.904) total time=   0.7s\n"
     ]
    },
    {
     "name": "stderr",
     "output_type": "stream",
     "text": [
      "/opt/conda/lib/python3.7/site-packages/sklearn/linear_model/_logistic.py:818: ConvergenceWarning: lbfgs failed to converge (status=1):\n",
      "STOP: TOTAL NO. of ITERATIONS REACHED LIMIT.\n",
      "\n",
      "Increase the number of iterations (max_iter) or scale the data as shown in:\n",
      "    https://scikit-learn.org/stable/modules/preprocessing.html\n",
      "Please also refer to the documentation for alternative solver options:\n",
      "    https://scikit-learn.org/stable/modules/linear_model.html#logistic-regression\n",
      "  extra_warning_msg=_LOGISTIC_SOLVER_CONVERGENCE_MSG,\n"
     ]
    },
    {
     "name": "stdout",
     "output_type": "stream",
     "text": [
      "[CV 10/10] END lr__C=100, lr__max_iter=100, lr__penalty=l2, lr__solver=lbfgs;, score=(train=0.905, test=0.910) total time=   0.8s\n",
      "[CV 1/10] END lr__C=100, lr__max_iter=100, lr__penalty=l2, lr__solver=liblinear;, score=(train=0.904, test=0.901) total time=   0.7s\n",
      "[CV 2/10] END lr__C=100, lr__max_iter=100, lr__penalty=l2, lr__solver=liblinear;, score=(train=0.907, test=0.904) total time=   0.6s\n",
      "[CV 3/10] END lr__C=100, lr__max_iter=100, lr__penalty=l2, lr__solver=liblinear;, score=(train=0.904, test=0.904) total time=   0.8s\n",
      "[CV 4/10] END lr__C=100, lr__max_iter=100, lr__penalty=l2, lr__solver=liblinear;, score=(train=0.907, test=0.905) total time=   0.6s\n",
      "[CV 5/10] END lr__C=100, lr__max_iter=100, lr__penalty=l2, lr__solver=liblinear;, score=(train=0.907, test=0.900) total time=   0.6s\n",
      "[CV 6/10] END lr__C=100, lr__max_iter=100, lr__penalty=l2, lr__solver=liblinear;, score=(train=0.905, test=0.906) total time=   0.7s\n",
      "[CV 7/10] END lr__C=100, lr__max_iter=100, lr__penalty=l2, lr__solver=liblinear;, score=(train=0.907, test=0.908) total time=   0.7s\n",
      "[CV 8/10] END lr__C=100, lr__max_iter=100, lr__penalty=l2, lr__solver=liblinear;, score=(train=0.907, test=0.904) total time=   0.7s\n",
      "[CV 9/10] END lr__C=100, lr__max_iter=100, lr__penalty=l2, lr__solver=liblinear;, score=(train=0.906, test=0.905) total time=   0.7s\n",
      "[CV 10/10] END lr__C=100, lr__max_iter=100, lr__penalty=l2, lr__solver=liblinear;, score=(train=0.905, test=0.910) total time=   0.7s\n",
      "[CV 1/10] END lr__C=100, lr__max_iter=100, lr__penalty=l2, lr__solver=sag;, score=(train=0.903, test=0.901) total time=   2.6s\n"
     ]
    },
    {
     "name": "stderr",
     "output_type": "stream",
     "text": [
      "/opt/conda/lib/python3.7/site-packages/sklearn/linear_model/_sag.py:354: ConvergenceWarning: The max_iter was reached which means the coef_ did not converge\n",
      "  ConvergenceWarning,\n"
     ]
    },
    {
     "name": "stdout",
     "output_type": "stream",
     "text": [
      "[CV 2/10] END lr__C=100, lr__max_iter=100, lr__penalty=l2, lr__solver=sag;, score=(train=0.907, test=0.904) total time=   3.5s\n"
     ]
    },
    {
     "name": "stderr",
     "output_type": "stream",
     "text": [
      "/opt/conda/lib/python3.7/site-packages/sklearn/linear_model/_sag.py:354: ConvergenceWarning: The max_iter was reached which means the coef_ did not converge\n",
      "  ConvergenceWarning,\n"
     ]
    },
    {
     "name": "stdout",
     "output_type": "stream",
     "text": [
      "[CV 3/10] END lr__C=100, lr__max_iter=100, lr__penalty=l2, lr__solver=sag;, score=(train=0.904, test=0.904) total time=   3.4s\n"
     ]
    },
    {
     "name": "stderr",
     "output_type": "stream",
     "text": [
      "/opt/conda/lib/python3.7/site-packages/sklearn/linear_model/_sag.py:354: ConvergenceWarning: The max_iter was reached which means the coef_ did not converge\n",
      "  ConvergenceWarning,\n"
     ]
    },
    {
     "name": "stdout",
     "output_type": "stream",
     "text": [
      "[CV 4/10] END lr__C=100, lr__max_iter=100, lr__penalty=l2, lr__solver=sag;, score=(train=0.907, test=0.905) total time=   3.5s\n",
      "[CV 5/10] END lr__C=100, lr__max_iter=100, lr__penalty=l2, lr__solver=sag;, score=(train=0.907, test=0.900) total time=   3.1s\n"
     ]
    },
    {
     "name": "stderr",
     "output_type": "stream",
     "text": [
      "/opt/conda/lib/python3.7/site-packages/sklearn/linear_model/_sag.py:354: ConvergenceWarning: The max_iter was reached which means the coef_ did not converge\n",
      "  ConvergenceWarning,\n"
     ]
    },
    {
     "name": "stdout",
     "output_type": "stream",
     "text": [
      "[CV 6/10] END lr__C=100, lr__max_iter=100, lr__penalty=l2, lr__solver=sag;, score=(train=0.905, test=0.906) total time=   3.5s\n"
     ]
    },
    {
     "name": "stderr",
     "output_type": "stream",
     "text": [
      "/opt/conda/lib/python3.7/site-packages/sklearn/linear_model/_sag.py:354: ConvergenceWarning: The max_iter was reached which means the coef_ did not converge\n",
      "  ConvergenceWarning,\n"
     ]
    },
    {
     "name": "stdout",
     "output_type": "stream",
     "text": [
      "[CV 7/10] END lr__C=100, lr__max_iter=100, lr__penalty=l2, lr__solver=sag;, score=(train=0.907, test=0.908) total time=   3.6s\n"
     ]
    },
    {
     "name": "stderr",
     "output_type": "stream",
     "text": [
      "/opt/conda/lib/python3.7/site-packages/sklearn/linear_model/_sag.py:354: ConvergenceWarning: The max_iter was reached which means the coef_ did not converge\n",
      "  ConvergenceWarning,\n"
     ]
    },
    {
     "name": "stdout",
     "output_type": "stream",
     "text": [
      "[CV 8/10] END lr__C=100, lr__max_iter=100, lr__penalty=l2, lr__solver=sag;, score=(train=0.907, test=0.904) total time=   3.6s\n",
      "[CV 9/10] END lr__C=100, lr__max_iter=100, lr__penalty=l2, lr__solver=sag;, score=(train=0.906, test=0.905) total time=   2.7s\n"
     ]
    },
    {
     "name": "stderr",
     "output_type": "stream",
     "text": [
      "/opt/conda/lib/python3.7/site-packages/sklearn/linear_model/_sag.py:354: ConvergenceWarning: The max_iter was reached which means the coef_ did not converge\n",
      "  ConvergenceWarning,\n"
     ]
    },
    {
     "name": "stdout",
     "output_type": "stream",
     "text": [
      "[CV 10/10] END lr__C=100, lr__max_iter=100, lr__penalty=l2, lr__solver=sag;, score=(train=0.905, test=0.910) total time=   3.5s\n"
     ]
    },
    {
     "name": "stderr",
     "output_type": "stream",
     "text": [
      "/opt/conda/lib/python3.7/site-packages/sklearn/linear_model/_sag.py:354: ConvergenceWarning: The max_iter was reached which means the coef_ did not converge\n",
      "  ConvergenceWarning,\n"
     ]
    },
    {
     "name": "stdout",
     "output_type": "stream",
     "text": [
      "[CV 1/10] END lr__C=100, lr__max_iter=100, lr__penalty=l2, lr__solver=saga;, score=(train=0.904, test=0.901) total time=   3.8s\n"
     ]
    },
    {
     "name": "stderr",
     "output_type": "stream",
     "text": [
      "/opt/conda/lib/python3.7/site-packages/sklearn/linear_model/_sag.py:354: ConvergenceWarning: The max_iter was reached which means the coef_ did not converge\n",
      "  ConvergenceWarning,\n"
     ]
    },
    {
     "name": "stdout",
     "output_type": "stream",
     "text": [
      "[CV 2/10] END lr__C=100, lr__max_iter=100, lr__penalty=l2, lr__solver=saga;, score=(train=0.907, test=0.904) total time=   3.8s\n"
     ]
    },
    {
     "name": "stderr",
     "output_type": "stream",
     "text": [
      "/opt/conda/lib/python3.7/site-packages/sklearn/linear_model/_sag.py:354: ConvergenceWarning: The max_iter was reached which means the coef_ did not converge\n",
      "  ConvergenceWarning,\n"
     ]
    },
    {
     "name": "stdout",
     "output_type": "stream",
     "text": [
      "[CV 3/10] END lr__C=100, lr__max_iter=100, lr__penalty=l2, lr__solver=saga;, score=(train=0.904, test=0.904) total time=   3.8s\n"
     ]
    },
    {
     "name": "stderr",
     "output_type": "stream",
     "text": [
      "/opt/conda/lib/python3.7/site-packages/sklearn/linear_model/_sag.py:354: ConvergenceWarning: The max_iter was reached which means the coef_ did not converge\n",
      "  ConvergenceWarning,\n"
     ]
    },
    {
     "name": "stdout",
     "output_type": "stream",
     "text": [
      "[CV 4/10] END lr__C=100, lr__max_iter=100, lr__penalty=l2, lr__solver=saga;, score=(train=0.907, test=0.905) total time=   3.8s\n"
     ]
    },
    {
     "name": "stderr",
     "output_type": "stream",
     "text": [
      "/opt/conda/lib/python3.7/site-packages/sklearn/linear_model/_sag.py:354: ConvergenceWarning: The max_iter was reached which means the coef_ did not converge\n",
      "  ConvergenceWarning,\n"
     ]
    },
    {
     "name": "stdout",
     "output_type": "stream",
     "text": [
      "[CV 5/10] END lr__C=100, lr__max_iter=100, lr__penalty=l2, lr__solver=saga;, score=(train=0.907, test=0.900) total time=   3.8s\n"
     ]
    },
    {
     "name": "stderr",
     "output_type": "stream",
     "text": [
      "/opt/conda/lib/python3.7/site-packages/sklearn/linear_model/_sag.py:354: ConvergenceWarning: The max_iter was reached which means the coef_ did not converge\n",
      "  ConvergenceWarning,\n"
     ]
    },
    {
     "name": "stdout",
     "output_type": "stream",
     "text": [
      "[CV 6/10] END lr__C=100, lr__max_iter=100, lr__penalty=l2, lr__solver=saga;, score=(train=0.905, test=0.906) total time=   3.8s\n"
     ]
    },
    {
     "name": "stderr",
     "output_type": "stream",
     "text": [
      "/opt/conda/lib/python3.7/site-packages/sklearn/linear_model/_sag.py:354: ConvergenceWarning: The max_iter was reached which means the coef_ did not converge\n",
      "  ConvergenceWarning,\n"
     ]
    },
    {
     "name": "stdout",
     "output_type": "stream",
     "text": [
      "[CV 7/10] END lr__C=100, lr__max_iter=100, lr__penalty=l2, lr__solver=saga;, score=(train=0.907, test=0.908) total time=   3.8s\n"
     ]
    },
    {
     "name": "stderr",
     "output_type": "stream",
     "text": [
      "/opt/conda/lib/python3.7/site-packages/sklearn/linear_model/_sag.py:354: ConvergenceWarning: The max_iter was reached which means the coef_ did not converge\n",
      "  ConvergenceWarning,\n"
     ]
    },
    {
     "name": "stdout",
     "output_type": "stream",
     "text": [
      "[CV 8/10] END lr__C=100, lr__max_iter=100, lr__penalty=l2, lr__solver=saga;, score=(train=0.907, test=0.904) total time=   3.8s\n"
     ]
    },
    {
     "name": "stderr",
     "output_type": "stream",
     "text": [
      "/opt/conda/lib/python3.7/site-packages/sklearn/linear_model/_sag.py:354: ConvergenceWarning: The max_iter was reached which means the coef_ did not converge\n",
      "  ConvergenceWarning,\n"
     ]
    },
    {
     "name": "stdout",
     "output_type": "stream",
     "text": [
      "[CV 9/10] END lr__C=100, lr__max_iter=100, lr__penalty=l2, lr__solver=saga;, score=(train=0.906, test=0.904) total time=   3.8s\n"
     ]
    },
    {
     "name": "stderr",
     "output_type": "stream",
     "text": [
      "/opt/conda/lib/python3.7/site-packages/sklearn/linear_model/_sag.py:354: ConvergenceWarning: The max_iter was reached which means the coef_ did not converge\n",
      "  ConvergenceWarning,\n"
     ]
    },
    {
     "name": "stdout",
     "output_type": "stream",
     "text": [
      "[CV 10/10] END lr__C=100, lr__max_iter=100, lr__penalty=l2, lr__solver=saga;, score=(train=0.905, test=0.909) total time=   3.9s\n",
      "[CV 1/10] END lr__C=100, lr__max_iter=500, lr__penalty=l2, lr__solver=newton-cg;, score=(train=0.904, test=0.901) total time=   3.5s\n",
      "[CV 2/10] END lr__C=100, lr__max_iter=500, lr__penalty=l2, lr__solver=newton-cg;, score=(train=0.907, test=0.904) total time=   3.5s\n",
      "[CV 3/10] END lr__C=100, lr__max_iter=500, lr__penalty=l2, lr__solver=newton-cg;, score=(train=0.904, test=0.904) total time=   3.0s\n",
      "[CV 4/10] END lr__C=100, lr__max_iter=500, lr__penalty=l2, lr__solver=newton-cg;, score=(train=0.907, test=0.905) total time=   3.1s\n",
      "[CV 5/10] END lr__C=100, lr__max_iter=500, lr__penalty=l2, lr__solver=newton-cg;, score=(train=0.907, test=0.900) total time=   3.8s\n",
      "[CV 6/10] END lr__C=100, lr__max_iter=500, lr__penalty=l2, lr__solver=newton-cg;, score=(train=0.905, test=0.906) total time=   3.7s\n",
      "[CV 7/10] END lr__C=100, lr__max_iter=500, lr__penalty=l2, lr__solver=newton-cg;, score=(train=0.907, test=0.908) total time=   3.4s\n",
      "[CV 8/10] END lr__C=100, lr__max_iter=500, lr__penalty=l2, lr__solver=newton-cg;, score=(train=0.907, test=0.904) total time=   3.5s\n",
      "[CV 9/10] END lr__C=100, lr__max_iter=500, lr__penalty=l2, lr__solver=newton-cg;, score=(train=0.906, test=0.904) total time=   2.8s\n",
      "[CV 10/10] END lr__C=100, lr__max_iter=500, lr__penalty=l2, lr__solver=newton-cg;, score=(train=0.905, test=0.910) total time=   3.9s\n",
      "[CV 1/10] END lr__C=100, lr__max_iter=500, lr__penalty=l2, lr__solver=lbfgs;, score=(train=0.904, test=0.901) total time=   2.5s\n"
     ]
    },
    {
     "name": "stderr",
     "output_type": "stream",
     "text": [
      "/opt/conda/lib/python3.7/site-packages/sklearn/linear_model/_logistic.py:818: ConvergenceWarning: lbfgs failed to converge (status=1):\n",
      "STOP: TOTAL NO. of ITERATIONS REACHED LIMIT.\n",
      "\n",
      "Increase the number of iterations (max_iter) or scale the data as shown in:\n",
      "    https://scikit-learn.org/stable/modules/preprocessing.html\n",
      "Please also refer to the documentation for alternative solver options:\n",
      "    https://scikit-learn.org/stable/modules/linear_model.html#logistic-regression\n",
      "  extra_warning_msg=_LOGISTIC_SOLVER_CONVERGENCE_MSG,\n"
     ]
    },
    {
     "name": "stdout",
     "output_type": "stream",
     "text": [
      "[CV 2/10] END lr__C=100, lr__max_iter=500, lr__penalty=l2, lr__solver=lbfgs;, score=(train=0.907, test=0.904) total time=   3.4s\n"
     ]
    },
    {
     "name": "stderr",
     "output_type": "stream",
     "text": [
      "/opt/conda/lib/python3.7/site-packages/sklearn/linear_model/_logistic.py:818: ConvergenceWarning: lbfgs failed to converge (status=1):\n",
      "STOP: TOTAL NO. of ITERATIONS REACHED LIMIT.\n",
      "\n",
      "Increase the number of iterations (max_iter) or scale the data as shown in:\n",
      "    https://scikit-learn.org/stable/modules/preprocessing.html\n",
      "Please also refer to the documentation for alternative solver options:\n",
      "    https://scikit-learn.org/stable/modules/linear_model.html#logistic-regression\n",
      "  extra_warning_msg=_LOGISTIC_SOLVER_CONVERGENCE_MSG,\n"
     ]
    },
    {
     "name": "stdout",
     "output_type": "stream",
     "text": [
      "[CV 3/10] END lr__C=100, lr__max_iter=500, lr__penalty=l2, lr__solver=lbfgs;, score=(train=0.904, test=0.904) total time=   3.1s\n",
      "[CV 4/10] END lr__C=100, lr__max_iter=500, lr__penalty=l2, lr__solver=lbfgs;, score=(train=0.907, test=0.905) total time=   3.3s\n",
      "[CV 5/10] END lr__C=100, lr__max_iter=500, lr__penalty=l2, lr__solver=lbfgs;, score=(train=0.907, test=0.900) total time=   2.9s\n"
     ]
    },
    {
     "name": "stderr",
     "output_type": "stream",
     "text": [
      "/opt/conda/lib/python3.7/site-packages/sklearn/linear_model/_logistic.py:818: ConvergenceWarning: lbfgs failed to converge (status=1):\n",
      "STOP: TOTAL NO. of ITERATIONS REACHED LIMIT.\n",
      "\n",
      "Increase the number of iterations (max_iter) or scale the data as shown in:\n",
      "    https://scikit-learn.org/stable/modules/preprocessing.html\n",
      "Please also refer to the documentation for alternative solver options:\n",
      "    https://scikit-learn.org/stable/modules/linear_model.html#logistic-regression\n",
      "  extra_warning_msg=_LOGISTIC_SOLVER_CONVERGENCE_MSG,\n"
     ]
    },
    {
     "name": "stdout",
     "output_type": "stream",
     "text": [
      "[CV 6/10] END lr__C=100, lr__max_iter=500, lr__penalty=l2, lr__solver=lbfgs;, score=(train=0.905, test=0.906) total time=   3.2s\n",
      "[CV 7/10] END lr__C=100, lr__max_iter=500, lr__penalty=l2, lr__solver=lbfgs;, score=(train=0.907, test=0.908) total time=   2.8s\n"
     ]
    },
    {
     "name": "stderr",
     "output_type": "stream",
     "text": [
      "/opt/conda/lib/python3.7/site-packages/sklearn/linear_model/_logistic.py:818: ConvergenceWarning: lbfgs failed to converge (status=1):\n",
      "STOP: TOTAL NO. of ITERATIONS REACHED LIMIT.\n",
      "\n",
      "Increase the number of iterations (max_iter) or scale the data as shown in:\n",
      "    https://scikit-learn.org/stable/modules/preprocessing.html\n",
      "Please also refer to the documentation for alternative solver options:\n",
      "    https://scikit-learn.org/stable/modules/linear_model.html#logistic-regression\n",
      "  extra_warning_msg=_LOGISTIC_SOLVER_CONVERGENCE_MSG,\n"
     ]
    },
    {
     "name": "stdout",
     "output_type": "stream",
     "text": [
      "[CV 8/10] END lr__C=100, lr__max_iter=500, lr__penalty=l2, lr__solver=lbfgs;, score=(train=0.907, test=0.904) total time=   3.3s\n",
      "[CV 9/10] END lr__C=100, lr__max_iter=500, lr__penalty=l2, lr__solver=lbfgs;, score=(train=0.906, test=0.904) total time=   3.0s\n",
      "[CV 10/10] END lr__C=100, lr__max_iter=500, lr__penalty=l2, lr__solver=lbfgs;, score=(train=0.906, test=0.910) total time=   3.1s\n",
      "[CV 1/10] END lr__C=100, lr__max_iter=500, lr__penalty=l2, lr__solver=liblinear;, score=(train=0.904, test=0.901) total time=   0.6s\n",
      "[CV 2/10] END lr__C=100, lr__max_iter=500, lr__penalty=l2, lr__solver=liblinear;, score=(train=0.907, test=0.904) total time=   0.6s\n",
      "[CV 3/10] END lr__C=100, lr__max_iter=500, lr__penalty=l2, lr__solver=liblinear;, score=(train=0.904, test=0.904) total time=   0.8s\n",
      "[CV 4/10] END lr__C=100, lr__max_iter=500, lr__penalty=l2, lr__solver=liblinear;, score=(train=0.907, test=0.905) total time=   0.6s\n",
      "[CV 5/10] END lr__C=100, lr__max_iter=500, lr__penalty=l2, lr__solver=liblinear;, score=(train=0.907, test=0.900) total time=   0.6s\n",
      "[CV 6/10] END lr__C=100, lr__max_iter=500, lr__penalty=l2, lr__solver=liblinear;, score=(train=0.905, test=0.906) total time=   0.7s\n",
      "[CV 7/10] END lr__C=100, lr__max_iter=500, lr__penalty=l2, lr__solver=liblinear;, score=(train=0.907, test=0.908) total time=   0.7s\n",
      "[CV 8/10] END lr__C=100, lr__max_iter=500, lr__penalty=l2, lr__solver=liblinear;, score=(train=0.907, test=0.904) total time=   0.7s\n",
      "[CV 9/10] END lr__C=100, lr__max_iter=500, lr__penalty=l2, lr__solver=liblinear;, score=(train=0.906, test=0.905) total time=   0.6s\n",
      "[CV 10/10] END lr__C=100, lr__max_iter=500, lr__penalty=l2, lr__solver=liblinear;, score=(train=0.905, test=0.910) total time=   0.7s\n",
      "[CV 1/10] END lr__C=100, lr__max_iter=500, lr__penalty=l2, lr__solver=sag;, score=(train=0.904, test=0.901) total time=   2.7s\n",
      "[CV 2/10] END lr__C=100, lr__max_iter=500, lr__penalty=l2, lr__solver=sag;, score=(train=0.907, test=0.904) total time=   4.8s\n",
      "[CV 3/10] END lr__C=100, lr__max_iter=500, lr__penalty=l2, lr__solver=sag;, score=(train=0.904, test=0.904) total time=   4.9s\n",
      "[CV 4/10] END lr__C=100, lr__max_iter=500, lr__penalty=l2, lr__solver=sag;, score=(train=0.907, test=0.905) total time=   4.5s\n",
      "[CV 5/10] END lr__C=100, lr__max_iter=500, lr__penalty=l2, lr__solver=sag;, score=(train=0.907, test=0.900) total time=   3.2s\n",
      "[CV 6/10] END lr__C=100, lr__max_iter=500, lr__penalty=l2, lr__solver=sag;, score=(train=0.905, test=0.906) total time=   8.6s\n",
      "[CV 7/10] END lr__C=100, lr__max_iter=500, lr__penalty=l2, lr__solver=sag;, score=(train=0.907, test=0.908) total time=   4.5s\n",
      "[CV 8/10] END lr__C=100, lr__max_iter=500, lr__penalty=l2, lr__solver=sag;, score=(train=0.907, test=0.904) total time=   4.7s\n",
      "[CV 9/10] END lr__C=100, lr__max_iter=500, lr__penalty=l2, lr__solver=sag;, score=(train=0.906, test=0.904) total time=   2.7s\n",
      "[CV 10/10] END lr__C=100, lr__max_iter=500, lr__penalty=l2, lr__solver=sag;, score=(train=0.905, test=0.910) total time=   3.7s\n",
      "[CV 1/10] END lr__C=100, lr__max_iter=500, lr__penalty=l2, lr__solver=saga;, score=(train=0.904, test=0.901) total time=   4.7s\n",
      "[CV 2/10] END lr__C=100, lr__max_iter=500, lr__penalty=l2, lr__solver=saga;, score=(train=0.907, test=0.904) total time=   6.7s\n",
      "[CV 3/10] END lr__C=100, lr__max_iter=500, lr__penalty=l2, lr__solver=saga;, score=(train=0.904, test=0.904) total time=   7.3s\n",
      "[CV 4/10] END lr__C=100, lr__max_iter=500, lr__penalty=l2, lr__solver=saga;, score=(train=0.907, test=0.905) total time=   6.1s\n",
      "[CV 5/10] END lr__C=100, lr__max_iter=500, lr__penalty=l2, lr__solver=saga;, score=(train=0.907, test=0.900) total time=   5.4s\n",
      "[CV 6/10] END lr__C=100, lr__max_iter=500, lr__penalty=l2, lr__solver=saga;, score=(train=0.905, test=0.906) total time=  13.6s\n",
      "[CV 7/10] END lr__C=100, lr__max_iter=500, lr__penalty=l2, lr__solver=saga;, score=(train=0.907, test=0.908) total time=   7.3s\n",
      "[CV 8/10] END lr__C=100, lr__max_iter=500, lr__penalty=l2, lr__solver=saga;, score=(train=0.907, test=0.904) total time=   6.3s\n",
      "[CV 9/10] END lr__C=100, lr__max_iter=500, lr__penalty=l2, lr__solver=saga;, score=(train=0.906, test=0.905) total time=   5.1s\n",
      "[CV 10/10] END lr__C=100, lr__max_iter=500, lr__penalty=l2, lr__solver=saga;, score=(train=0.905, test=0.910) total time=   6.5s\n",
      "[CV 1/10] END lr__C=100, lr__max_iter=1000, lr__penalty=l2, lr__solver=newton-cg;, score=(train=0.904, test=0.901) total time=   3.3s\n",
      "[CV 2/10] END lr__C=100, lr__max_iter=1000, lr__penalty=l2, lr__solver=newton-cg;, score=(train=0.907, test=0.904) total time=   3.7s\n",
      "[CV 3/10] END lr__C=100, lr__max_iter=1000, lr__penalty=l2, lr__solver=newton-cg;, score=(train=0.904, test=0.904) total time=   3.3s\n",
      "[CV 4/10] END lr__C=100, lr__max_iter=1000, lr__penalty=l2, lr__solver=newton-cg;, score=(train=0.907, test=0.905) total time=   2.9s\n",
      "[CV 5/10] END lr__C=100, lr__max_iter=1000, lr__penalty=l2, lr__solver=newton-cg;, score=(train=0.907, test=0.900) total time=   3.3s\n",
      "[CV 6/10] END lr__C=100, lr__max_iter=1000, lr__penalty=l2, lr__solver=newton-cg;, score=(train=0.905, test=0.906) total time=   3.9s\n",
      "[CV 7/10] END lr__C=100, lr__max_iter=1000, lr__penalty=l2, lr__solver=newton-cg;, score=(train=0.907, test=0.908) total time=   4.1s\n",
      "[CV 8/10] END lr__C=100, lr__max_iter=1000, lr__penalty=l2, lr__solver=newton-cg;, score=(train=0.907, test=0.904) total time=   3.4s\n",
      "[CV 9/10] END lr__C=100, lr__max_iter=1000, lr__penalty=l2, lr__solver=newton-cg;, score=(train=0.906, test=0.904) total time=   2.7s\n",
      "[CV 10/10] END lr__C=100, lr__max_iter=1000, lr__penalty=l2, lr__solver=newton-cg;, score=(train=0.905, test=0.910) total time=   3.6s\n",
      "[CV 1/10] END lr__C=100, lr__max_iter=1000, lr__penalty=l2, lr__solver=lbfgs;, score=(train=0.904, test=0.901) total time=   2.5s\n",
      "[CV 2/10] END lr__C=100, lr__max_iter=1000, lr__penalty=l2, lr__solver=lbfgs;, score=(train=0.907, test=0.904) total time=   3.6s\n",
      "[CV 3/10] END lr__C=100, lr__max_iter=1000, lr__penalty=l2, lr__solver=lbfgs;, score=(train=0.904, test=0.904) total time=   3.2s\n",
      "[CV 4/10] END lr__C=100, lr__max_iter=1000, lr__penalty=l2, lr__solver=lbfgs;, score=(train=0.907, test=0.905) total time=   2.6s\n",
      "[CV 5/10] END lr__C=100, lr__max_iter=1000, lr__penalty=l2, lr__solver=lbfgs;, score=(train=0.907, test=0.900) total time=   2.8s\n",
      "[CV 6/10] END lr__C=100, lr__max_iter=1000, lr__penalty=l2, lr__solver=lbfgs;, score=(train=0.905, test=0.906) total time=   4.3s\n",
      "[CV 7/10] END lr__C=100, lr__max_iter=1000, lr__penalty=l2, lr__solver=lbfgs;, score=(train=0.907, test=0.908) total time=   3.6s\n",
      "[CV 8/10] END lr__C=100, lr__max_iter=1000, lr__penalty=l2, lr__solver=lbfgs;, score=(train=0.907, test=0.904) total time=   4.1s\n",
      "[CV 9/10] END lr__C=100, lr__max_iter=1000, lr__penalty=l2, lr__solver=lbfgs;, score=(train=0.906, test=0.904) total time=   3.0s\n",
      "[CV 10/10] END lr__C=100, lr__max_iter=1000, lr__penalty=l2, lr__solver=lbfgs;, score=(train=0.906, test=0.910) total time=   3.1s\n",
      "[CV 1/10] END lr__C=100, lr__max_iter=1000, lr__penalty=l2, lr__solver=liblinear;, score=(train=0.904, test=0.901) total time=   0.6s\n",
      "[CV 2/10] END lr__C=100, lr__max_iter=1000, lr__penalty=l2, lr__solver=liblinear;, score=(train=0.907, test=0.904) total time=   0.6s\n",
      "[CV 3/10] END lr__C=100, lr__max_iter=1000, lr__penalty=l2, lr__solver=liblinear;, score=(train=0.904, test=0.904) total time=   0.8s\n",
      "[CV 4/10] END lr__C=100, lr__max_iter=1000, lr__penalty=l2, lr__solver=liblinear;, score=(train=0.907, test=0.905) total time=   0.6s\n",
      "[CV 5/10] END lr__C=100, lr__max_iter=1000, lr__penalty=l2, lr__solver=liblinear;, score=(train=0.907, test=0.900) total time=   0.6s\n",
      "[CV 6/10] END lr__C=100, lr__max_iter=1000, lr__penalty=l2, lr__solver=liblinear;, score=(train=0.905, test=0.906) total time=   0.7s\n",
      "[CV 7/10] END lr__C=100, lr__max_iter=1000, lr__penalty=l2, lr__solver=liblinear;, score=(train=0.907, test=0.908) total time=   0.8s\n",
      "[CV 8/10] END lr__C=100, lr__max_iter=1000, lr__penalty=l2, lr__solver=liblinear;, score=(train=0.907, test=0.904) total time=   0.7s\n",
      "[CV 9/10] END lr__C=100, lr__max_iter=1000, lr__penalty=l2, lr__solver=liblinear;, score=(train=0.906, test=0.905) total time=   0.7s\n",
      "[CV 10/10] END lr__C=100, lr__max_iter=1000, lr__penalty=l2, lr__solver=liblinear;, score=(train=0.905, test=0.910) total time=   0.7s\n",
      "[CV 1/10] END lr__C=100, lr__max_iter=1000, lr__penalty=l2, lr__solver=sag;, score=(train=0.904, test=0.901) total time=   2.8s\n",
      "[CV 2/10] END lr__C=100, lr__max_iter=1000, lr__penalty=l2, lr__solver=sag;, score=(train=0.907, test=0.904) total time=   4.8s\n",
      "[CV 3/10] END lr__C=100, lr__max_iter=1000, lr__penalty=l2, lr__solver=sag;, score=(train=0.904, test=0.904) total time=   5.0s\n",
      "[CV 4/10] END lr__C=100, lr__max_iter=1000, lr__penalty=l2, lr__solver=sag;, score=(train=0.907, test=0.905) total time=   4.4s\n",
      "[CV 5/10] END lr__C=100, lr__max_iter=1000, lr__penalty=l2, lr__solver=sag;, score=(train=0.907, test=0.900) total time=   3.2s\n",
      "[CV 6/10] END lr__C=100, lr__max_iter=1000, lr__penalty=l2, lr__solver=sag;, score=(train=0.905, test=0.906) total time=   8.6s\n",
      "[CV 7/10] END lr__C=100, lr__max_iter=1000, lr__penalty=l2, lr__solver=sag;, score=(train=0.907, test=0.908) total time=   4.4s\n",
      "[CV 8/10] END lr__C=100, lr__max_iter=1000, lr__penalty=l2, lr__solver=sag;, score=(train=0.907, test=0.904) total time=   5.0s\n",
      "[CV 9/10] END lr__C=100, lr__max_iter=1000, lr__penalty=l2, lr__solver=sag;, score=(train=0.906, test=0.905) total time=   2.8s\n",
      "[CV 10/10] END lr__C=100, lr__max_iter=1000, lr__penalty=l2, lr__solver=sag;, score=(train=0.905, test=0.910) total time=   3.6s\n",
      "[CV 1/10] END lr__C=100, lr__max_iter=1000, lr__penalty=l2, lr__solver=saga;, score=(train=0.904, test=0.901) total time=   4.6s\n",
      "[CV 2/10] END lr__C=100, lr__max_iter=1000, lr__penalty=l2, lr__solver=saga;, score=(train=0.907, test=0.904) total time=   6.9s\n",
      "[CV 3/10] END lr__C=100, lr__max_iter=1000, lr__penalty=l2, lr__solver=saga;, score=(train=0.904, test=0.904) total time=   7.3s\n",
      "[CV 4/10] END lr__C=100, lr__max_iter=1000, lr__penalty=l2, lr__solver=saga;, score=(train=0.907, test=0.905) total time=   6.2s\n",
      "[CV 5/10] END lr__C=100, lr__max_iter=1000, lr__penalty=l2, lr__solver=saga;, score=(train=0.907, test=0.900) total time=   5.2s\n",
      "[CV 6/10] END lr__C=100, lr__max_iter=1000, lr__penalty=l2, lr__solver=saga;, score=(train=0.905, test=0.906) total time=  13.3s\n",
      "[CV 7/10] END lr__C=100, lr__max_iter=1000, lr__penalty=l2, lr__solver=saga;, score=(train=0.907, test=0.908) total time=   7.3s\n",
      "[CV 8/10] END lr__C=100, lr__max_iter=1000, lr__penalty=l2, lr__solver=saga;, score=(train=0.907, test=0.904) total time=   6.6s\n",
      "[CV 9/10] END lr__C=100, lr__max_iter=1000, lr__penalty=l2, lr__solver=saga;, score=(train=0.906, test=0.905) total time=   5.0s\n",
      "[CV 10/10] END lr__C=100, lr__max_iter=1000, lr__penalty=l2, lr__solver=saga;, score=(train=0.905, test=0.910) total time=   6.7s\n",
      "----------\n",
      "iter: 1\n",
      "n_candidates: 25\n",
      "n_resources: 119409\n",
      "Fitting 10 folds for each of 25 candidates, totalling 250 fits\n",
      "[CV 1/10] END lr__C=10, lr__max_iter=100, lr__penalty=l2, lr__solver=sag;, score=(train=0.905, test=0.902) total time=   5.0s\n",
      "[CV 2/10] END lr__C=10, lr__max_iter=100, lr__penalty=l2, lr__solver=sag;, score=(train=0.906, test=0.907) total time=   4.5s\n",
      "[CV 3/10] END lr__C=10, lr__max_iter=100, lr__penalty=l2, lr__solver=sag;, score=(train=0.904, test=0.907) total time=   4.7s\n",
      "[CV 4/10] END lr__C=10, lr__max_iter=100, lr__penalty=l2, lr__solver=sag;, score=(train=0.904, test=0.904) total time=   4.7s\n",
      "[CV 5/10] END lr__C=10, lr__max_iter=100, lr__penalty=l2, lr__solver=sag;, score=(train=0.905, test=0.906) total time=   3.9s\n",
      "[CV 6/10] END lr__C=10, lr__max_iter=100, lr__penalty=l2, lr__solver=sag;, score=(train=0.905, test=0.904) total time=   5.1s\n",
      "[CV 7/10] END lr__C=10, lr__max_iter=100, lr__penalty=l2, lr__solver=sag;, score=(train=0.905, test=0.904) total time=   3.2s\n",
      "[CV 8/10] END lr__C=10, lr__max_iter=100, lr__penalty=l2, lr__solver=sag;, score=(train=0.905, test=0.905) total time=   4.6s\n",
      "[CV 9/10] END lr__C=10, lr__max_iter=100, lr__penalty=l2, lr__solver=sag;, score=(train=0.906, test=0.908) total time=   4.0s\n",
      "[CV 10/10] END lr__C=10, lr__max_iter=100, lr__penalty=l2, lr__solver=sag;, score=(train=0.905, test=0.903) total time=   5.4s\n",
      "[CV 1/10] END lr__C=10, lr__max_iter=500, lr__penalty=l2, lr__solver=newton-cg;, score=(train=0.905, test=0.902) total time=  11.0s\n",
      "[CV 2/10] END lr__C=10, lr__max_iter=500, lr__penalty=l2, lr__solver=newton-cg;, score=(train=0.906, test=0.907) total time=  11.6s\n",
      "[CV 3/10] END lr__C=10, lr__max_iter=500, lr__penalty=l2, lr__solver=newton-cg;, score=(train=0.904, test=0.907) total time=   9.6s\n",
      "[CV 4/10] END lr__C=10, lr__max_iter=500, lr__penalty=l2, lr__solver=newton-cg;, score=(train=0.904, test=0.904) total time=  10.3s\n",
      "[CV 5/10] END lr__C=10, lr__max_iter=500, lr__penalty=l2, lr__solver=newton-cg;, score=(train=0.905, test=0.906) total time=   9.8s\n",
      "[CV 6/10] END lr__C=10, lr__max_iter=500, lr__penalty=l2, lr__solver=newton-cg;, score=(train=0.906, test=0.904) total time=  10.1s\n",
      "[CV 7/10] END lr__C=10, lr__max_iter=500, lr__penalty=l2, lr__solver=newton-cg;, score=(train=0.905, test=0.904) total time=   8.6s\n",
      "[CV 8/10] END lr__C=10, lr__max_iter=500, lr__penalty=l2, lr__solver=newton-cg;, score=(train=0.905, test=0.905) total time=   8.8s\n",
      "[CV 9/10] END lr__C=10, lr__max_iter=500, lr__penalty=l2, lr__solver=newton-cg;, score=(train=0.906, test=0.908) total time=  10.2s\n",
      "[CV 10/10] END lr__C=10, lr__max_iter=500, lr__penalty=l2, lr__solver=newton-cg;, score=(train=0.905, test=0.903) total time=  10.9s\n",
      "[CV 1/10] END lr__C=10, lr__max_iter=1000, lr__penalty=l2, lr__solver=newton-cg;, score=(train=0.905, test=0.902) total time=  10.7s\n",
      "[CV 2/10] END lr__C=10, lr__max_iter=1000, lr__penalty=l2, lr__solver=newton-cg;, score=(train=0.906, test=0.907) total time=  11.5s\n",
      "[CV 3/10] END lr__C=10, lr__max_iter=1000, lr__penalty=l2, lr__solver=newton-cg;, score=(train=0.904, test=0.907) total time=   9.7s\n",
      "[CV 4/10] END lr__C=10, lr__max_iter=1000, lr__penalty=l2, lr__solver=newton-cg;, score=(train=0.904, test=0.904) total time=  10.5s\n",
      "[CV 5/10] END lr__C=10, lr__max_iter=1000, lr__penalty=l2, lr__solver=newton-cg;, score=(train=0.905, test=0.906) total time=  10.2s\n",
      "[CV 6/10] END lr__C=10, lr__max_iter=1000, lr__penalty=l2, lr__solver=newton-cg;, score=(train=0.906, test=0.904) total time=  10.3s\n",
      "[CV 7/10] END lr__C=10, lr__max_iter=1000, lr__penalty=l2, lr__solver=newton-cg;, score=(train=0.905, test=0.904) total time=   8.5s\n",
      "[CV 8/10] END lr__C=10, lr__max_iter=1000, lr__penalty=l2, lr__solver=newton-cg;, score=(train=0.905, test=0.905) total time=   9.7s\n",
      "[CV 9/10] END lr__C=10, lr__max_iter=1000, lr__penalty=l2, lr__solver=newton-cg;, score=(train=0.906, test=0.908) total time=   9.8s\n",
      "[CV 10/10] END lr__C=10, lr__max_iter=1000, lr__penalty=l2, lr__solver=newton-cg;, score=(train=0.905, test=0.903) total time=  11.1s\n",
      "[CV 1/10] END lr__C=10, lr__max_iter=500, lr__penalty=l2, lr__solver=sag;, score=(train=0.905, test=0.902) total time=   5.5s\n",
      "[CV 2/10] END lr__C=10, lr__max_iter=500, lr__penalty=l2, lr__solver=sag;, score=(train=0.906, test=0.907) total time=   5.2s\n",
      "[CV 3/10] END lr__C=10, lr__max_iter=500, lr__penalty=l2, lr__solver=sag;, score=(train=0.904, test=0.907) total time=   4.1s\n",
      "[CV 4/10] END lr__C=10, lr__max_iter=500, lr__penalty=l2, lr__solver=sag;, score=(train=0.904, test=0.904) total time=   5.4s\n",
      "[CV 5/10] END lr__C=10, lr__max_iter=500, lr__penalty=l2, lr__solver=sag;, score=(train=0.905, test=0.906) total time=   4.3s\n",
      "[CV 6/10] END lr__C=10, lr__max_iter=500, lr__penalty=l2, lr__solver=sag;, score=(train=0.905, test=0.904) total time=   5.1s\n",
      "[CV 7/10] END lr__C=10, lr__max_iter=500, lr__penalty=l2, lr__solver=sag;, score=(train=0.905, test=0.903) total time=   3.5s\n",
      "[CV 8/10] END lr__C=10, lr__max_iter=500, lr__penalty=l2, lr__solver=sag;, score=(train=0.905, test=0.905) total time=   3.1s\n",
      "[CV 9/10] END lr__C=10, lr__max_iter=500, lr__penalty=l2, lr__solver=sag;, score=(train=0.906, test=0.908) total time=   3.2s\n",
      "[CV 10/10] END lr__C=10, lr__max_iter=500, lr__penalty=l2, lr__solver=sag;, score=(train=0.905, test=0.903) total time=   5.7s\n",
      "[CV 1/10] END lr__C=10, lr__max_iter=1000, lr__penalty=l2, lr__solver=sag;, score=(train=0.905, test=0.902) total time=   5.4s\n",
      "[CV 2/10] END lr__C=10, lr__max_iter=1000, lr__penalty=l2, lr__solver=sag;, score=(train=0.906, test=0.907) total time=   3.7s\n",
      "[CV 3/10] END lr__C=10, lr__max_iter=1000, lr__penalty=l2, lr__solver=sag;, score=(train=0.904, test=0.907) total time=   4.5s\n",
      "[CV 4/10] END lr__C=10, lr__max_iter=1000, lr__penalty=l2, lr__solver=sag;, score=(train=0.904, test=0.904) total time=   5.2s\n",
      "[CV 5/10] END lr__C=10, lr__max_iter=1000, lr__penalty=l2, lr__solver=sag;, score=(train=0.905, test=0.906) total time=   4.4s\n",
      "[CV 6/10] END lr__C=10, lr__max_iter=1000, lr__penalty=l2, lr__solver=sag;, score=(train=0.905, test=0.904) total time=   5.0s\n",
      "[CV 7/10] END lr__C=10, lr__max_iter=1000, lr__penalty=l2, lr__solver=sag;, score=(train=0.905, test=0.904) total time=   3.8s\n",
      "[CV 8/10] END lr__C=10, lr__max_iter=1000, lr__penalty=l2, lr__solver=sag;, score=(train=0.905, test=0.905) total time=   3.8s\n",
      "[CV 9/10] END lr__C=10, lr__max_iter=1000, lr__penalty=l2, lr__solver=sag;, score=(train=0.906, test=0.908) total time=   3.8s\n",
      "[CV 10/10] END lr__C=10, lr__max_iter=1000, lr__penalty=l2, lr__solver=sag;, score=(train=0.905, test=0.903) total time=   5.1s\n",
      "[CV 1/10] END lr__C=10, lr__max_iter=1000, lr__penalty=l2, lr__solver=lbfgs;, score=(train=0.905, test=0.902) total time=   9.8s\n",
      "[CV 2/10] END lr__C=10, lr__max_iter=1000, lr__penalty=l2, lr__solver=lbfgs;, score=(train=0.906, test=0.907) total time=   9.2s\n",
      "[CV 3/10] END lr__C=10, lr__max_iter=1000, lr__penalty=l2, lr__solver=lbfgs;, score=(train=0.904, test=0.907) total time=   9.4s\n",
      "[CV 4/10] END lr__C=10, lr__max_iter=1000, lr__penalty=l2, lr__solver=lbfgs;, score=(train=0.904, test=0.904) total time=  10.1s\n",
      "[CV 5/10] END lr__C=10, lr__max_iter=1000, lr__penalty=l2, lr__solver=lbfgs;, score=(train=0.905, test=0.906) total time=  10.5s\n",
      "[CV 6/10] END lr__C=10, lr__max_iter=1000, lr__penalty=l2, lr__solver=lbfgs;, score=(train=0.905, test=0.904) total time=  10.5s\n",
      "[CV 7/10] END lr__C=10, lr__max_iter=1000, lr__penalty=l2, lr__solver=lbfgs;, score=(train=0.905, test=0.904) total time=   7.0s\n",
      "[CV 8/10] END lr__C=10, lr__max_iter=1000, lr__penalty=l2, lr__solver=lbfgs;, score=(train=0.905, test=0.905) total time=   8.3s\n",
      "[CV 9/10] END lr__C=10, lr__max_iter=1000, lr__penalty=l2, lr__solver=lbfgs;, score=(train=0.906, test=0.908) total time=   7.9s\n",
      "[CV 10/10] END lr__C=10, lr__max_iter=1000, lr__penalty=l2, lr__solver=lbfgs;, score=(train=0.905, test=0.903) total time=   9.4s\n",
      "[CV 1/10] END lr__C=10, lr__max_iter=500, lr__penalty=l2, lr__solver=lbfgs;, score=(train=0.905, test=0.902) total time=   9.7s\n",
      "[CV 2/10] END lr__C=10, lr__max_iter=500, lr__penalty=l2, lr__solver=lbfgs;, score=(train=0.906, test=0.907) total time=   8.7s\n",
      "[CV 3/10] END lr__C=10, lr__max_iter=500, lr__penalty=l2, lr__solver=lbfgs;, score=(train=0.904, test=0.907) total time=   9.6s\n",
      "[CV 4/10] END lr__C=10, lr__max_iter=500, lr__penalty=l2, lr__solver=lbfgs;, score=(train=0.904, test=0.904) total time=   9.7s\n",
      "[CV 5/10] END lr__C=10, lr__max_iter=500, lr__penalty=l2, lr__solver=lbfgs;, score=(train=0.905, test=0.906) total time=   9.8s\n",
      "[CV 6/10] END lr__C=10, lr__max_iter=500, lr__penalty=l2, lr__solver=lbfgs;, score=(train=0.905, test=0.904) total time=  11.1s\n",
      "[CV 7/10] END lr__C=10, lr__max_iter=500, lr__penalty=l2, lr__solver=lbfgs;, score=(train=0.905, test=0.904) total time=   7.1s\n",
      "[CV 8/10] END lr__C=10, lr__max_iter=500, lr__penalty=l2, lr__solver=lbfgs;, score=(train=0.905, test=0.905) total time=   8.3s\n",
      "[CV 9/10] END lr__C=10, lr__max_iter=500, lr__penalty=l2, lr__solver=lbfgs;, score=(train=0.906, test=0.908) total time=   7.3s\n",
      "[CV 10/10] END lr__C=10, lr__max_iter=500, lr__penalty=l2, lr__solver=lbfgs;, score=(train=0.905, test=0.903) total time=   9.9s\n",
      "[CV 1/10] END lr__C=10, lr__max_iter=500, lr__penalty=l2, lr__solver=liblinear;, score=(train=0.905, test=0.902) total time=   2.6s\n",
      "[CV 2/10] END lr__C=10, lr__max_iter=500, lr__penalty=l2, lr__solver=liblinear;, score=(train=0.906, test=0.907) total time=   2.9s\n",
      "[CV 3/10] END lr__C=10, lr__max_iter=500, lr__penalty=l2, lr__solver=liblinear;, score=(train=0.904, test=0.907) total time=   2.6s\n",
      "[CV 4/10] END lr__C=10, lr__max_iter=500, lr__penalty=l2, lr__solver=liblinear;, score=(train=0.904, test=0.904) total time=   2.9s\n",
      "[CV 5/10] END lr__C=10, lr__max_iter=500, lr__penalty=l2, lr__solver=liblinear;, score=(train=0.905, test=0.906) total time=   2.6s\n",
      "[CV 6/10] END lr__C=10, lr__max_iter=500, lr__penalty=l2, lr__solver=liblinear;, score=(train=0.905, test=0.904) total time=   3.0s\n",
      "[CV 7/10] END lr__C=10, lr__max_iter=500, lr__penalty=l2, lr__solver=liblinear;, score=(train=0.905, test=0.904) total time=   2.9s\n",
      "[CV 8/10] END lr__C=10, lr__max_iter=500, lr__penalty=l2, lr__solver=liblinear;, score=(train=0.905, test=0.905) total time=   2.5s\n",
      "[CV 9/10] END lr__C=10, lr__max_iter=500, lr__penalty=l2, lr__solver=liblinear;, score=(train=0.906, test=0.908) total time=   2.7s\n",
      "[CV 10/10] END lr__C=10, lr__max_iter=500, lr__penalty=l2, lr__solver=liblinear;, score=(train=0.905, test=0.903) total time=   2.6s\n",
      "[CV 1/10] END lr__C=10, lr__max_iter=1000, lr__penalty=l2, lr__solver=liblinear;, score=(train=0.905, test=0.902) total time=   2.8s\n",
      "[CV 2/10] END lr__C=10, lr__max_iter=1000, lr__penalty=l2, lr__solver=liblinear;, score=(train=0.906, test=0.907) total time=   2.9s\n",
      "[CV 3/10] END lr__C=10, lr__max_iter=1000, lr__penalty=l2, lr__solver=liblinear;, score=(train=0.904, test=0.907) total time=   2.5s\n",
      "[CV 4/10] END lr__C=10, lr__max_iter=1000, lr__penalty=l2, lr__solver=liblinear;, score=(train=0.904, test=0.904) total time=   2.9s\n",
      "[CV 5/10] END lr__C=10, lr__max_iter=1000, lr__penalty=l2, lr__solver=liblinear;, score=(train=0.905, test=0.906) total time=   2.6s\n",
      "[CV 6/10] END lr__C=10, lr__max_iter=1000, lr__penalty=l2, lr__solver=liblinear;, score=(train=0.905, test=0.904) total time=   2.9s\n",
      "[CV 7/10] END lr__C=10, lr__max_iter=1000, lr__penalty=l2, lr__solver=liblinear;, score=(train=0.905, test=0.904) total time=   2.7s\n",
      "[CV 8/10] END lr__C=10, lr__max_iter=1000, lr__penalty=l2, lr__solver=liblinear;, score=(train=0.905, test=0.905) total time=   2.4s\n",
      "[CV 9/10] END lr__C=10, lr__max_iter=1000, lr__penalty=l2, lr__solver=liblinear;, score=(train=0.906, test=0.908) total time=   2.6s\n",
      "[CV 10/10] END lr__C=10, lr__max_iter=1000, lr__penalty=l2, lr__solver=liblinear;, score=(train=0.905, test=0.903) total time=   2.6s\n",
      "[CV 1/10] END lr__C=10, lr__max_iter=100, lr__penalty=l2, lr__solver=liblinear;, score=(train=0.905, test=0.902) total time=   2.6s\n",
      "[CV 2/10] END lr__C=10, lr__max_iter=100, lr__penalty=l2, lr__solver=liblinear;, score=(train=0.906, test=0.907) total time=   2.9s\n",
      "[CV 3/10] END lr__C=10, lr__max_iter=100, lr__penalty=l2, lr__solver=liblinear;, score=(train=0.904, test=0.907) total time=   2.5s\n",
      "[CV 4/10] END lr__C=10, lr__max_iter=100, lr__penalty=l2, lr__solver=liblinear;, score=(train=0.904, test=0.904) total time=   2.9s\n",
      "[CV 5/10] END lr__C=10, lr__max_iter=100, lr__penalty=l2, lr__solver=liblinear;, score=(train=0.905, test=0.906) total time=   2.5s\n",
      "[CV 6/10] END lr__C=10, lr__max_iter=100, lr__penalty=l2, lr__solver=liblinear;, score=(train=0.905, test=0.904) total time=   3.1s\n",
      "[CV 7/10] END lr__C=10, lr__max_iter=100, lr__penalty=l2, lr__solver=liblinear;, score=(train=0.905, test=0.904) total time=   2.9s\n",
      "[CV 8/10] END lr__C=10, lr__max_iter=100, lr__penalty=l2, lr__solver=liblinear;, score=(train=0.905, test=0.905) total time=   2.6s\n",
      "[CV 9/10] END lr__C=10, lr__max_iter=100, lr__penalty=l2, lr__solver=liblinear;, score=(train=0.906, test=0.908) total time=   2.7s\n",
      "[CV 10/10] END lr__C=10, lr__max_iter=100, lr__penalty=l2, lr__solver=liblinear;, score=(train=0.905, test=0.903) total time=   2.7s\n"
     ]
    },
    {
     "name": "stderr",
     "output_type": "stream",
     "text": [
      "/opt/conda/lib/python3.7/site-packages/sklearn/linear_model/_logistic.py:818: ConvergenceWarning: lbfgs failed to converge (status=1):\n",
      "STOP: TOTAL NO. of ITERATIONS REACHED LIMIT.\n",
      "\n",
      "Increase the number of iterations (max_iter) or scale the data as shown in:\n",
      "    https://scikit-learn.org/stable/modules/preprocessing.html\n",
      "Please also refer to the documentation for alternative solver options:\n",
      "    https://scikit-learn.org/stable/modules/linear_model.html#logistic-regression\n",
      "  extra_warning_msg=_LOGISTIC_SOLVER_CONVERGENCE_MSG,\n"
     ]
    },
    {
     "name": "stdout",
     "output_type": "stream",
     "text": [
      "[CV 1/10] END lr__C=100, lr__max_iter=100, lr__penalty=l2, lr__solver=lbfgs;, score=(train=0.905, test=0.902) total time=   2.3s\n"
     ]
    },
    {
     "name": "stderr",
     "output_type": "stream",
     "text": [
      "/opt/conda/lib/python3.7/site-packages/sklearn/linear_model/_logistic.py:818: ConvergenceWarning: lbfgs failed to converge (status=1):\n",
      "STOP: TOTAL NO. of ITERATIONS REACHED LIMIT.\n",
      "\n",
      "Increase the number of iterations (max_iter) or scale the data as shown in:\n",
      "    https://scikit-learn.org/stable/modules/preprocessing.html\n",
      "Please also refer to the documentation for alternative solver options:\n",
      "    https://scikit-learn.org/stable/modules/linear_model.html#logistic-regression\n",
      "  extra_warning_msg=_LOGISTIC_SOLVER_CONVERGENCE_MSG,\n"
     ]
    },
    {
     "name": "stdout",
     "output_type": "stream",
     "text": [
      "[CV 2/10] END lr__C=100, lr__max_iter=100, lr__penalty=l2, lr__solver=lbfgs;, score=(train=0.906, test=0.906) total time=   2.2s\n"
     ]
    },
    {
     "name": "stderr",
     "output_type": "stream",
     "text": [
      "/opt/conda/lib/python3.7/site-packages/sklearn/linear_model/_logistic.py:818: ConvergenceWarning: lbfgs failed to converge (status=1):\n",
      "STOP: TOTAL NO. of ITERATIONS REACHED LIMIT.\n",
      "\n",
      "Increase the number of iterations (max_iter) or scale the data as shown in:\n",
      "    https://scikit-learn.org/stable/modules/preprocessing.html\n",
      "Please also refer to the documentation for alternative solver options:\n",
      "    https://scikit-learn.org/stable/modules/linear_model.html#logistic-regression\n",
      "  extra_warning_msg=_LOGISTIC_SOLVER_CONVERGENCE_MSG,\n"
     ]
    },
    {
     "name": "stdout",
     "output_type": "stream",
     "text": [
      "[CV 3/10] END lr__C=100, lr__max_iter=100, lr__penalty=l2, lr__solver=lbfgs;, score=(train=0.904, test=0.907) total time=   2.2s\n"
     ]
    },
    {
     "name": "stderr",
     "output_type": "stream",
     "text": [
      "/opt/conda/lib/python3.7/site-packages/sklearn/linear_model/_logistic.py:818: ConvergenceWarning: lbfgs failed to converge (status=1):\n",
      "STOP: TOTAL NO. of ITERATIONS REACHED LIMIT.\n",
      "\n",
      "Increase the number of iterations (max_iter) or scale the data as shown in:\n",
      "    https://scikit-learn.org/stable/modules/preprocessing.html\n",
      "Please also refer to the documentation for alternative solver options:\n",
      "    https://scikit-learn.org/stable/modules/linear_model.html#logistic-regression\n",
      "  extra_warning_msg=_LOGISTIC_SOLVER_CONVERGENCE_MSG,\n"
     ]
    },
    {
     "name": "stdout",
     "output_type": "stream",
     "text": [
      "[CV 4/10] END lr__C=100, lr__max_iter=100, lr__penalty=l2, lr__solver=lbfgs;, score=(train=0.904, test=0.904) total time=   2.9s\n"
     ]
    },
    {
     "name": "stderr",
     "output_type": "stream",
     "text": [
      "/opt/conda/lib/python3.7/site-packages/sklearn/linear_model/_logistic.py:818: ConvergenceWarning: lbfgs failed to converge (status=1):\n",
      "STOP: TOTAL NO. of ITERATIONS REACHED LIMIT.\n",
      "\n",
      "Increase the number of iterations (max_iter) or scale the data as shown in:\n",
      "    https://scikit-learn.org/stable/modules/preprocessing.html\n",
      "Please also refer to the documentation for alternative solver options:\n",
      "    https://scikit-learn.org/stable/modules/linear_model.html#logistic-regression\n",
      "  extra_warning_msg=_LOGISTIC_SOLVER_CONVERGENCE_MSG,\n"
     ]
    },
    {
     "name": "stdout",
     "output_type": "stream",
     "text": [
      "[CV 5/10] END lr__C=100, lr__max_iter=100, lr__penalty=l2, lr__solver=lbfgs;, score=(train=0.905, test=0.906) total time=   2.3s\n"
     ]
    },
    {
     "name": "stderr",
     "output_type": "stream",
     "text": [
      "/opt/conda/lib/python3.7/site-packages/sklearn/linear_model/_logistic.py:818: ConvergenceWarning: lbfgs failed to converge (status=1):\n",
      "STOP: TOTAL NO. of ITERATIONS REACHED LIMIT.\n",
      "\n",
      "Increase the number of iterations (max_iter) or scale the data as shown in:\n",
      "    https://scikit-learn.org/stable/modules/preprocessing.html\n",
      "Please also refer to the documentation for alternative solver options:\n",
      "    https://scikit-learn.org/stable/modules/linear_model.html#logistic-regression\n",
      "  extra_warning_msg=_LOGISTIC_SOLVER_CONVERGENCE_MSG,\n"
     ]
    },
    {
     "name": "stdout",
     "output_type": "stream",
     "text": [
      "[CV 6/10] END lr__C=100, lr__max_iter=100, lr__penalty=l2, lr__solver=lbfgs;, score=(train=0.905, test=0.903) total time=   2.3s\n"
     ]
    },
    {
     "name": "stderr",
     "output_type": "stream",
     "text": [
      "/opt/conda/lib/python3.7/site-packages/sklearn/linear_model/_logistic.py:818: ConvergenceWarning: lbfgs failed to converge (status=1):\n",
      "STOP: TOTAL NO. of ITERATIONS REACHED LIMIT.\n",
      "\n",
      "Increase the number of iterations (max_iter) or scale the data as shown in:\n",
      "    https://scikit-learn.org/stable/modules/preprocessing.html\n",
      "Please also refer to the documentation for alternative solver options:\n",
      "    https://scikit-learn.org/stable/modules/linear_model.html#logistic-regression\n",
      "  extra_warning_msg=_LOGISTIC_SOLVER_CONVERGENCE_MSG,\n"
     ]
    },
    {
     "name": "stdout",
     "output_type": "stream",
     "text": [
      "[CV 7/10] END lr__C=100, lr__max_iter=100, lr__penalty=l2, lr__solver=lbfgs;, score=(train=0.905, test=0.904) total time=   2.3s\n"
     ]
    },
    {
     "name": "stderr",
     "output_type": "stream",
     "text": [
      "/opt/conda/lib/python3.7/site-packages/sklearn/linear_model/_logistic.py:818: ConvergenceWarning: lbfgs failed to converge (status=1):\n",
      "STOP: TOTAL NO. of ITERATIONS REACHED LIMIT.\n",
      "\n",
      "Increase the number of iterations (max_iter) or scale the data as shown in:\n",
      "    https://scikit-learn.org/stable/modules/preprocessing.html\n",
      "Please also refer to the documentation for alternative solver options:\n",
      "    https://scikit-learn.org/stable/modules/linear_model.html#logistic-regression\n",
      "  extra_warning_msg=_LOGISTIC_SOLVER_CONVERGENCE_MSG,\n"
     ]
    },
    {
     "name": "stdout",
     "output_type": "stream",
     "text": [
      "[CV 8/10] END lr__C=100, lr__max_iter=100, lr__penalty=l2, lr__solver=lbfgs;, score=(train=0.905, test=0.905) total time=   2.3s\n"
     ]
    },
    {
     "name": "stderr",
     "output_type": "stream",
     "text": [
      "/opt/conda/lib/python3.7/site-packages/sklearn/linear_model/_logistic.py:818: ConvergenceWarning: lbfgs failed to converge (status=1):\n",
      "STOP: TOTAL NO. of ITERATIONS REACHED LIMIT.\n",
      "\n",
      "Increase the number of iterations (max_iter) or scale the data as shown in:\n",
      "    https://scikit-learn.org/stable/modules/preprocessing.html\n",
      "Please also refer to the documentation for alternative solver options:\n",
      "    https://scikit-learn.org/stable/modules/linear_model.html#logistic-regression\n",
      "  extra_warning_msg=_LOGISTIC_SOLVER_CONVERGENCE_MSG,\n"
     ]
    },
    {
     "name": "stdout",
     "output_type": "stream",
     "text": [
      "[CV 9/10] END lr__C=100, lr__max_iter=100, lr__penalty=l2, lr__solver=lbfgs;, score=(train=0.907, test=0.908) total time=   2.3s\n"
     ]
    },
    {
     "name": "stderr",
     "output_type": "stream",
     "text": [
      "/opt/conda/lib/python3.7/site-packages/sklearn/linear_model/_logistic.py:818: ConvergenceWarning: lbfgs failed to converge (status=1):\n",
      "STOP: TOTAL NO. of ITERATIONS REACHED LIMIT.\n",
      "\n",
      "Increase the number of iterations (max_iter) or scale the data as shown in:\n",
      "    https://scikit-learn.org/stable/modules/preprocessing.html\n",
      "Please also refer to the documentation for alternative solver options:\n",
      "    https://scikit-learn.org/stable/modules/linear_model.html#logistic-regression\n",
      "  extra_warning_msg=_LOGISTIC_SOLVER_CONVERGENCE_MSG,\n"
     ]
    },
    {
     "name": "stdout",
     "output_type": "stream",
     "text": [
      "[CV 10/10] END lr__C=100, lr__max_iter=100, lr__penalty=l2, lr__solver=lbfgs;, score=(train=0.905, test=0.903) total time=   2.4s\n",
      "[CV 1/10] END lr__C=100, lr__max_iter=500, lr__penalty=l2, lr__solver=sag;, score=(train=0.905, test=0.902) total time=  17.4s\n",
      "[CV 2/10] END lr__C=100, lr__max_iter=500, lr__penalty=l2, lr__solver=sag;, score=(train=0.906, test=0.907) total time=  13.2s\n",
      "[CV 3/10] END lr__C=100, lr__max_iter=500, lr__penalty=l2, lr__solver=sag;, score=(train=0.904, test=0.907) total time=  14.1s\n",
      "[CV 4/10] END lr__C=100, lr__max_iter=500, lr__penalty=l2, lr__solver=sag;, score=(train=0.904, test=0.904) total time=  12.9s\n",
      "[CV 5/10] END lr__C=100, lr__max_iter=500, lr__penalty=l2, lr__solver=sag;, score=(train=0.905, test=0.906) total time=  11.5s\n",
      "[CV 6/10] END lr__C=100, lr__max_iter=500, lr__penalty=l2, lr__solver=sag;, score=(train=0.906, test=0.904) total time=   8.1s\n",
      "[CV 7/10] END lr__C=100, lr__max_iter=500, lr__penalty=l2, lr__solver=sag;, score=(train=0.905, test=0.904) total time=   4.1s\n",
      "[CV 8/10] END lr__C=100, lr__max_iter=500, lr__penalty=l2, lr__solver=sag;, score=(train=0.905, test=0.905) total time=  10.5s\n",
      "[CV 9/10] END lr__C=100, lr__max_iter=500, lr__penalty=l2, lr__solver=sag;, score=(train=0.907, test=0.908) total time=   5.9s\n",
      "[CV 10/10] END lr__C=100, lr__max_iter=500, lr__penalty=l2, lr__solver=sag;, score=(train=0.906, test=0.904) total time=   9.1s\n"
     ]
    },
    {
     "name": "stderr",
     "output_type": "stream",
     "text": [
      "/opt/conda/lib/python3.7/site-packages/sklearn/linear_model/_sag.py:354: ConvergenceWarning: The max_iter was reached which means the coef_ did not converge\n",
      "  ConvergenceWarning,\n"
     ]
    },
    {
     "name": "stdout",
     "output_type": "stream",
     "text": [
      "[CV 1/10] END lr__C=100, lr__max_iter=100, lr__penalty=l2, lr__solver=sag;, score=(train=0.905, test=0.902) total time=  11.7s\n"
     ]
    },
    {
     "name": "stderr",
     "output_type": "stream",
     "text": [
      "/opt/conda/lib/python3.7/site-packages/sklearn/linear_model/_sag.py:354: ConvergenceWarning: The max_iter was reached which means the coef_ did not converge\n",
      "  ConvergenceWarning,\n"
     ]
    },
    {
     "name": "stdout",
     "output_type": "stream",
     "text": [
      "[CV 2/10] END lr__C=100, lr__max_iter=100, lr__penalty=l2, lr__solver=sag;, score=(train=0.906, test=0.907) total time=  11.7s\n"
     ]
    },
    {
     "name": "stderr",
     "output_type": "stream",
     "text": [
      "/opt/conda/lib/python3.7/site-packages/sklearn/linear_model/_sag.py:354: ConvergenceWarning: The max_iter was reached which means the coef_ did not converge\n",
      "  ConvergenceWarning,\n"
     ]
    },
    {
     "name": "stdout",
     "output_type": "stream",
     "text": [
      "[CV 3/10] END lr__C=100, lr__max_iter=100, lr__penalty=l2, lr__solver=sag;, score=(train=0.904, test=0.907) total time=  11.7s\n"
     ]
    },
    {
     "name": "stderr",
     "output_type": "stream",
     "text": [
      "/opt/conda/lib/python3.7/site-packages/sklearn/linear_model/_sag.py:354: ConvergenceWarning: The max_iter was reached which means the coef_ did not converge\n",
      "  ConvergenceWarning,\n"
     ]
    },
    {
     "name": "stdout",
     "output_type": "stream",
     "text": [
      "[CV 4/10] END lr__C=100, lr__max_iter=100, lr__penalty=l2, lr__solver=sag;, score=(train=0.904, test=0.904) total time=  11.7s\n",
      "[CV 5/10] END lr__C=100, lr__max_iter=100, lr__penalty=l2, lr__solver=sag;, score=(train=0.905, test=0.906) total time=  11.3s\n",
      "[CV 6/10] END lr__C=100, lr__max_iter=100, lr__penalty=l2, lr__solver=sag;, score=(train=0.906, test=0.904) total time=   8.0s\n",
      "[CV 7/10] END lr__C=100, lr__max_iter=100, lr__penalty=l2, lr__solver=sag;, score=(train=0.905, test=0.904) total time=   4.0s\n",
      "[CV 8/10] END lr__C=100, lr__max_iter=100, lr__penalty=l2, lr__solver=sag;, score=(train=0.905, test=0.905) total time=  11.4s\n",
      "[CV 9/10] END lr__C=100, lr__max_iter=100, lr__penalty=l2, lr__solver=sag;, score=(train=0.907, test=0.908) total time=   6.0s\n",
      "[CV 10/10] END lr__C=100, lr__max_iter=100, lr__penalty=l2, lr__solver=sag;, score=(train=0.906, test=0.904) total time=   9.2s\n",
      "[CV 1/10] END lr__C=100, lr__max_iter=100, lr__penalty=l2, lr__solver=newton-cg;, score=(train=0.905, test=0.902) total time=  15.7s\n",
      "[CV 2/10] END lr__C=100, lr__max_iter=100, lr__penalty=l2, lr__solver=newton-cg;, score=(train=0.906, test=0.907) total time=  13.9s\n",
      "[CV 3/10] END lr__C=100, lr__max_iter=100, lr__penalty=l2, lr__solver=newton-cg;, score=(train=0.904, test=0.907) total time=  16.0s\n",
      "[CV 4/10] END lr__C=100, lr__max_iter=100, lr__penalty=l2, lr__solver=newton-cg;, score=(train=0.904, test=0.904) total time=  13.9s\n",
      "[CV 5/10] END lr__C=100, lr__max_iter=100, lr__penalty=l2, lr__solver=newton-cg;, score=(train=0.905, test=0.906) total time=  12.3s\n",
      "[CV 6/10] END lr__C=100, lr__max_iter=100, lr__penalty=l2, lr__solver=newton-cg;, score=(train=0.906, test=0.904) total time=  16.8s\n",
      "[CV 7/10] END lr__C=100, lr__max_iter=100, lr__penalty=l2, lr__solver=newton-cg;, score=(train=0.905, test=0.904) total time=  12.1s\n",
      "[CV 8/10] END lr__C=100, lr__max_iter=100, lr__penalty=l2, lr__solver=newton-cg;, score=(train=0.905, test=0.905) total time=  15.1s\n",
      "[CV 9/10] END lr__C=100, lr__max_iter=100, lr__penalty=l2, lr__solver=newton-cg;, score=(train=0.907, test=0.908) total time=  11.3s\n",
      "[CV 10/10] END lr__C=100, lr__max_iter=100, lr__penalty=l2, lr__solver=newton-cg;, score=(train=0.906, test=0.904) total time=  14.5s\n",
      "[CV 1/10] END lr__C=100, lr__max_iter=1000, lr__penalty=l2, lr__solver=newton-cg;, score=(train=0.905, test=0.902) total time=  15.4s\n",
      "[CV 2/10] END lr__C=100, lr__max_iter=1000, lr__penalty=l2, lr__solver=newton-cg;, score=(train=0.906, test=0.907) total time=  15.0s\n",
      "[CV 3/10] END lr__C=100, lr__max_iter=1000, lr__penalty=l2, lr__solver=newton-cg;, score=(train=0.904, test=0.907) total time=  15.7s\n",
      "[CV 4/10] END lr__C=100, lr__max_iter=1000, lr__penalty=l2, lr__solver=newton-cg;, score=(train=0.904, test=0.904) total time=  14.0s\n",
      "[CV 5/10] END lr__C=100, lr__max_iter=1000, lr__penalty=l2, lr__solver=newton-cg;, score=(train=0.905, test=0.906) total time=  13.1s\n",
      "[CV 6/10] END lr__C=100, lr__max_iter=1000, lr__penalty=l2, lr__solver=newton-cg;, score=(train=0.906, test=0.904) total time=  17.0s\n",
      "[CV 7/10] END lr__C=100, lr__max_iter=1000, lr__penalty=l2, lr__solver=newton-cg;, score=(train=0.905, test=0.904) total time=  12.7s\n",
      "[CV 8/10] END lr__C=100, lr__max_iter=1000, lr__penalty=l2, lr__solver=newton-cg;, score=(train=0.905, test=0.905) total time=  14.6s\n",
      "[CV 9/10] END lr__C=100, lr__max_iter=1000, lr__penalty=l2, lr__solver=newton-cg;, score=(train=0.907, test=0.908) total time=  12.0s\n",
      "[CV 10/10] END lr__C=100, lr__max_iter=1000, lr__penalty=l2, lr__solver=newton-cg;, score=(train=0.906, test=0.904) total time=  13.6s\n",
      "[CV 1/10] END lr__C=100, lr__max_iter=500, lr__penalty=l2, lr__solver=newton-cg;, score=(train=0.905, test=0.902) total time=  15.8s\n",
      "[CV 2/10] END lr__C=100, lr__max_iter=500, lr__penalty=l2, lr__solver=newton-cg;, score=(train=0.906, test=0.907) total time=  14.1s\n",
      "[CV 3/10] END lr__C=100, lr__max_iter=500, lr__penalty=l2, lr__solver=newton-cg;, score=(train=0.904, test=0.907) total time=  15.7s\n",
      "[CV 4/10] END lr__C=100, lr__max_iter=500, lr__penalty=l2, lr__solver=newton-cg;, score=(train=0.904, test=0.904) total time=  14.9s\n",
      "[CV 5/10] END lr__C=100, lr__max_iter=500, lr__penalty=l2, lr__solver=newton-cg;, score=(train=0.905, test=0.906) total time=  12.9s\n",
      "[CV 6/10] END lr__C=100, lr__max_iter=500, lr__penalty=l2, lr__solver=newton-cg;, score=(train=0.906, test=0.904) total time=  17.1s\n",
      "[CV 7/10] END lr__C=100, lr__max_iter=500, lr__penalty=l2, lr__solver=newton-cg;, score=(train=0.905, test=0.904) total time=  11.5s\n",
      "[CV 8/10] END lr__C=100, lr__max_iter=500, lr__penalty=l2, lr__solver=newton-cg;, score=(train=0.905, test=0.905) total time=  13.9s\n",
      "[CV 9/10] END lr__C=100, lr__max_iter=500, lr__penalty=l2, lr__solver=newton-cg;, score=(train=0.907, test=0.908) total time=  11.8s\n",
      "[CV 10/10] END lr__C=100, lr__max_iter=500, lr__penalty=l2, lr__solver=newton-cg;, score=(train=0.906, test=0.904) total time=  13.3s\n",
      "[CV 1/10] END lr__C=100, lr__max_iter=1000, lr__penalty=l2, lr__solver=sag;, score=(train=0.905, test=0.902) total time=  17.2s\n",
      "[CV 2/10] END lr__C=100, lr__max_iter=1000, lr__penalty=l2, lr__solver=sag;, score=(train=0.906, test=0.907) total time=  14.5s\n",
      "[CV 3/10] END lr__C=100, lr__max_iter=1000, lr__penalty=l2, lr__solver=sag;, score=(train=0.904, test=0.907) total time=  14.8s\n",
      "[CV 4/10] END lr__C=100, lr__max_iter=1000, lr__penalty=l2, lr__solver=sag;, score=(train=0.904, test=0.904) total time=  13.6s\n",
      "[CV 5/10] END lr__C=100, lr__max_iter=1000, lr__penalty=l2, lr__solver=sag;, score=(train=0.905, test=0.906) total time=  12.1s\n",
      "[CV 6/10] END lr__C=100, lr__max_iter=1000, lr__penalty=l2, lr__solver=sag;, score=(train=0.906, test=0.904) total time=   8.6s\n",
      "[CV 7/10] END lr__C=100, lr__max_iter=1000, lr__penalty=l2, lr__solver=sag;, score=(train=0.905, test=0.904) total time=   4.2s\n",
      "[CV 8/10] END lr__C=100, lr__max_iter=1000, lr__penalty=l2, lr__solver=sag;, score=(train=0.905, test=0.905) total time=  11.7s\n",
      "[CV 9/10] END lr__C=100, lr__max_iter=1000, lr__penalty=l2, lr__solver=sag;, score=(train=0.907, test=0.908) total time=   6.2s\n",
      "[CV 10/10] END lr__C=100, lr__max_iter=1000, lr__penalty=l2, lr__solver=sag;, score=(train=0.906, test=0.904) total time=   9.7s\n"
     ]
    },
    {
     "name": "stderr",
     "output_type": "stream",
     "text": [
      "/opt/conda/lib/python3.7/site-packages/sklearn/linear_model/_sag.py:354: ConvergenceWarning: The max_iter was reached which means the coef_ did not converge\n",
      "  ConvergenceWarning,\n"
     ]
    },
    {
     "name": "stdout",
     "output_type": "stream",
     "text": [
      "[CV 1/10] END lr__C=100, lr__max_iter=100, lr__penalty=l2, lr__solver=saga;, score=(train=0.905, test=0.902) total time=  13.0s\n"
     ]
    },
    {
     "name": "stderr",
     "output_type": "stream",
     "text": [
      "/opt/conda/lib/python3.7/site-packages/sklearn/linear_model/_sag.py:354: ConvergenceWarning: The max_iter was reached which means the coef_ did not converge\n",
      "  ConvergenceWarning,\n"
     ]
    },
    {
     "name": "stdout",
     "output_type": "stream",
     "text": [
      "[CV 2/10] END lr__C=100, lr__max_iter=100, lr__penalty=l2, lr__solver=saga;, score=(train=0.906, test=0.907) total time=  13.0s\n"
     ]
    },
    {
     "name": "stderr",
     "output_type": "stream",
     "text": [
      "/opt/conda/lib/python3.7/site-packages/sklearn/linear_model/_sag.py:354: ConvergenceWarning: The max_iter was reached which means the coef_ did not converge\n",
      "  ConvergenceWarning,\n"
     ]
    },
    {
     "name": "stdout",
     "output_type": "stream",
     "text": [
      "[CV 3/10] END lr__C=100, lr__max_iter=100, lr__penalty=l2, lr__solver=saga;, score=(train=0.904, test=0.907) total time=  13.4s\n"
     ]
    },
    {
     "name": "stderr",
     "output_type": "stream",
     "text": [
      "/opt/conda/lib/python3.7/site-packages/sklearn/linear_model/_sag.py:354: ConvergenceWarning: The max_iter was reached which means the coef_ did not converge\n",
      "  ConvergenceWarning,\n"
     ]
    },
    {
     "name": "stdout",
     "output_type": "stream",
     "text": [
      "[CV 4/10] END lr__C=100, lr__max_iter=100, lr__penalty=l2, lr__solver=saga;, score=(train=0.904, test=0.904) total time=  13.2s\n"
     ]
    },
    {
     "name": "stderr",
     "output_type": "stream",
     "text": [
      "/opt/conda/lib/python3.7/site-packages/sklearn/linear_model/_sag.py:354: ConvergenceWarning: The max_iter was reached which means the coef_ did not converge\n",
      "  ConvergenceWarning,\n"
     ]
    },
    {
     "name": "stdout",
     "output_type": "stream",
     "text": [
      "[CV 5/10] END lr__C=100, lr__max_iter=100, lr__penalty=l2, lr__solver=saga;, score=(train=0.905, test=0.906) total time=  13.3s\n"
     ]
    },
    {
     "name": "stderr",
     "output_type": "stream",
     "text": [
      "/opt/conda/lib/python3.7/site-packages/sklearn/linear_model/_sag.py:354: ConvergenceWarning: The max_iter was reached which means the coef_ did not converge\n",
      "  ConvergenceWarning,\n"
     ]
    },
    {
     "name": "stdout",
     "output_type": "stream",
     "text": [
      "[CV 6/10] END lr__C=100, lr__max_iter=100, lr__penalty=l2, lr__solver=saga;, score=(train=0.906, test=0.904) total time=  13.4s\n",
      "[CV 7/10] END lr__C=100, lr__max_iter=100, lr__penalty=l2, lr__solver=saga;, score=(train=0.905, test=0.904) total time=   6.6s\n"
     ]
    },
    {
     "name": "stderr",
     "output_type": "stream",
     "text": [
      "/opt/conda/lib/python3.7/site-packages/sklearn/linear_model/_sag.py:354: ConvergenceWarning: The max_iter was reached which means the coef_ did not converge\n",
      "  ConvergenceWarning,\n"
     ]
    },
    {
     "name": "stdout",
     "output_type": "stream",
     "text": [
      "[CV 8/10] END lr__C=100, lr__max_iter=100, lr__penalty=l2, lr__solver=saga;, score=(train=0.905, test=0.905) total time=  13.2s\n",
      "[CV 9/10] END lr__C=100, lr__max_iter=100, lr__penalty=l2, lr__solver=saga;, score=(train=0.907, test=0.908) total time=   8.7s\n"
     ]
    },
    {
     "name": "stderr",
     "output_type": "stream",
     "text": [
      "/opt/conda/lib/python3.7/site-packages/sklearn/linear_model/_sag.py:354: ConvergenceWarning: The max_iter was reached which means the coef_ did not converge\n",
      "  ConvergenceWarning,\n"
     ]
    },
    {
     "name": "stdout",
     "output_type": "stream",
     "text": [
      "[CV 10/10] END lr__C=100, lr__max_iter=100, lr__penalty=l2, lr__solver=saga;, score=(train=0.906, test=0.904) total time=  13.2s\n"
     ]
    },
    {
     "name": "stderr",
     "output_type": "stream",
     "text": [
      "/opt/conda/lib/python3.7/site-packages/sklearn/linear_model/_logistic.py:818: ConvergenceWarning: lbfgs failed to converge (status=1):\n",
      "STOP: TOTAL NO. of ITERATIONS REACHED LIMIT.\n",
      "\n",
      "Increase the number of iterations (max_iter) or scale the data as shown in:\n",
      "    https://scikit-learn.org/stable/modules/preprocessing.html\n",
      "Please also refer to the documentation for alternative solver options:\n",
      "    https://scikit-learn.org/stable/modules/linear_model.html#logistic-regression\n",
      "  extra_warning_msg=_LOGISTIC_SOLVER_CONVERGENCE_MSG,\n"
     ]
    },
    {
     "name": "stdout",
     "output_type": "stream",
     "text": [
      "[CV 1/10] END lr__C=100, lr__max_iter=500, lr__penalty=l2, lr__solver=lbfgs;, score=(train=0.905, test=0.902) total time=  11.5s\n"
     ]
    },
    {
     "name": "stderr",
     "output_type": "stream",
     "text": [
      "/opt/conda/lib/python3.7/site-packages/sklearn/linear_model/_logistic.py:818: ConvergenceWarning: lbfgs failed to converge (status=1):\n",
      "STOP: TOTAL NO. of ITERATIONS REACHED LIMIT.\n",
      "\n",
      "Increase the number of iterations (max_iter) or scale the data as shown in:\n",
      "    https://scikit-learn.org/stable/modules/preprocessing.html\n",
      "Please also refer to the documentation for alternative solver options:\n",
      "    https://scikit-learn.org/stable/modules/linear_model.html#logistic-regression\n",
      "  extra_warning_msg=_LOGISTIC_SOLVER_CONVERGENCE_MSG,\n"
     ]
    },
    {
     "name": "stdout",
     "output_type": "stream",
     "text": [
      "[CV 2/10] END lr__C=100, lr__max_iter=500, lr__penalty=l2, lr__solver=lbfgs;, score=(train=0.906, test=0.907) total time=  11.0s\n"
     ]
    },
    {
     "name": "stderr",
     "output_type": "stream",
     "text": [
      "/opt/conda/lib/python3.7/site-packages/sklearn/linear_model/_logistic.py:818: ConvergenceWarning: lbfgs failed to converge (status=1):\n",
      "STOP: TOTAL NO. of ITERATIONS REACHED LIMIT.\n",
      "\n",
      "Increase the number of iterations (max_iter) or scale the data as shown in:\n",
      "    https://scikit-learn.org/stable/modules/preprocessing.html\n",
      "Please also refer to the documentation for alternative solver options:\n",
      "    https://scikit-learn.org/stable/modules/linear_model.html#logistic-regression\n",
      "  extra_warning_msg=_LOGISTIC_SOLVER_CONVERGENCE_MSG,\n"
     ]
    },
    {
     "name": "stdout",
     "output_type": "stream",
     "text": [
      "[CV 3/10] END lr__C=100, lr__max_iter=500, lr__penalty=l2, lr__solver=lbfgs;, score=(train=0.904, test=0.907) total time=  12.0s\n"
     ]
    },
    {
     "name": "stderr",
     "output_type": "stream",
     "text": [
      "/opt/conda/lib/python3.7/site-packages/sklearn/linear_model/_logistic.py:818: ConvergenceWarning: lbfgs failed to converge (status=1):\n",
      "STOP: TOTAL NO. of ITERATIONS REACHED LIMIT.\n",
      "\n",
      "Increase the number of iterations (max_iter) or scale the data as shown in:\n",
      "    https://scikit-learn.org/stable/modules/preprocessing.html\n",
      "Please also refer to the documentation for alternative solver options:\n",
      "    https://scikit-learn.org/stable/modules/linear_model.html#logistic-regression\n",
      "  extra_warning_msg=_LOGISTIC_SOLVER_CONVERGENCE_MSG,\n"
     ]
    },
    {
     "name": "stdout",
     "output_type": "stream",
     "text": [
      "[CV 4/10] END lr__C=100, lr__max_iter=500, lr__penalty=l2, lr__solver=lbfgs;, score=(train=0.904, test=0.904) total time=  11.6s\n",
      "[CV 5/10] END lr__C=100, lr__max_iter=500, lr__penalty=l2, lr__solver=lbfgs;, score=(train=0.905, test=0.906) total time=  10.9s\n"
     ]
    },
    {
     "name": "stderr",
     "output_type": "stream",
     "text": [
      "/opt/conda/lib/python3.7/site-packages/sklearn/linear_model/_logistic.py:818: ConvergenceWarning: lbfgs failed to converge (status=1):\n",
      "STOP: TOTAL NO. of ITERATIONS REACHED LIMIT.\n",
      "\n",
      "Increase the number of iterations (max_iter) or scale the data as shown in:\n",
      "    https://scikit-learn.org/stable/modules/preprocessing.html\n",
      "Please also refer to the documentation for alternative solver options:\n",
      "    https://scikit-learn.org/stable/modules/linear_model.html#logistic-regression\n",
      "  extra_warning_msg=_LOGISTIC_SOLVER_CONVERGENCE_MSG,\n"
     ]
    },
    {
     "name": "stdout",
     "output_type": "stream",
     "text": [
      "[CV 6/10] END lr__C=100, lr__max_iter=500, lr__penalty=l2, lr__solver=lbfgs;, score=(train=0.906, test=0.904) total time=  12.0s\n",
      "[CV 7/10] END lr__C=100, lr__max_iter=500, lr__penalty=l2, lr__solver=lbfgs;, score=(train=0.905, test=0.904) total time=  10.2s\n",
      "[CV 8/10] END lr__C=100, lr__max_iter=500, lr__penalty=l2, lr__solver=lbfgs;, score=(train=0.905, test=0.905) total time=   9.6s\n",
      "[CV 9/10] END lr__C=100, lr__max_iter=500, lr__penalty=l2, lr__solver=lbfgs;, score=(train=0.907, test=0.908) total time=  10.1s\n",
      "[CV 10/10] END lr__C=100, lr__max_iter=500, lr__penalty=l2, lr__solver=lbfgs;, score=(train=0.906, test=0.904) total time=  10.4s\n",
      "[CV 1/10] END lr__C=100, lr__max_iter=500, lr__penalty=l2, lr__solver=liblinear;, score=(train=0.905, test=0.902) total time=   3.5s\n",
      "[CV 2/10] END lr__C=100, lr__max_iter=500, lr__penalty=l2, lr__solver=liblinear;, score=(train=0.906, test=0.907) total time=   3.5s\n",
      "[CV 3/10] END lr__C=100, lr__max_iter=500, lr__penalty=l2, lr__solver=liblinear;, score=(train=0.904, test=0.907) total time=   3.0s\n",
      "[CV 4/10] END lr__C=100, lr__max_iter=500, lr__penalty=l2, lr__solver=liblinear;, score=(train=0.904, test=0.904) total time=   3.2s\n",
      "[CV 5/10] END lr__C=100, lr__max_iter=500, lr__penalty=l2, lr__solver=liblinear;, score=(train=0.905, test=0.906) total time=   3.3s\n",
      "[CV 6/10] END lr__C=100, lr__max_iter=500, lr__penalty=l2, lr__solver=liblinear;, score=(train=0.906, test=0.904) total time=   3.5s\n",
      "[CV 7/10] END lr__C=100, lr__max_iter=500, lr__penalty=l2, lr__solver=liblinear;, score=(train=0.905, test=0.904) total time=   3.0s\n",
      "[CV 8/10] END lr__C=100, lr__max_iter=500, lr__penalty=l2, lr__solver=liblinear;, score=(train=0.905, test=0.905) total time=   3.0s\n",
      "[CV 9/10] END lr__C=100, lr__max_iter=500, lr__penalty=l2, lr__solver=liblinear;, score=(train=0.907, test=0.908) total time=   3.1s\n",
      "[CV 10/10] END lr__C=100, lr__max_iter=500, lr__penalty=l2, lr__solver=liblinear;, score=(train=0.906, test=0.904) total time=   2.9s\n",
      "[CV 1/10] END lr__C=100, lr__max_iter=100, lr__penalty=l2, lr__solver=liblinear;, score=(train=0.905, test=0.902) total time=   3.5s\n",
      "[CV 2/10] END lr__C=100, lr__max_iter=100, lr__penalty=l2, lr__solver=liblinear;, score=(train=0.906, test=0.907) total time=   3.5s\n",
      "[CV 3/10] END lr__C=100, lr__max_iter=100, lr__penalty=l2, lr__solver=liblinear;, score=(train=0.904, test=0.907) total time=   3.0s\n",
      "[CV 4/10] END lr__C=100, lr__max_iter=100, lr__penalty=l2, lr__solver=liblinear;, score=(train=0.904, test=0.904) total time=   3.3s\n",
      "[CV 5/10] END lr__C=100, lr__max_iter=100, lr__penalty=l2, lr__solver=liblinear;, score=(train=0.905, test=0.906) total time=   3.3s\n",
      "[CV 6/10] END lr__C=100, lr__max_iter=100, lr__penalty=l2, lr__solver=liblinear;, score=(train=0.906, test=0.904) total time=   3.5s\n",
      "[CV 7/10] END lr__C=100, lr__max_iter=100, lr__penalty=l2, lr__solver=liblinear;, score=(train=0.905, test=0.904) total time=   3.0s\n",
      "[CV 8/10] END lr__C=100, lr__max_iter=100, lr__penalty=l2, lr__solver=liblinear;, score=(train=0.905, test=0.905) total time=   2.9s\n",
      "[CV 9/10] END lr__C=100, lr__max_iter=100, lr__penalty=l2, lr__solver=liblinear;, score=(train=0.907, test=0.908) total time=   3.1s\n",
      "[CV 10/10] END lr__C=100, lr__max_iter=100, lr__penalty=l2, lr__solver=liblinear;, score=(train=0.906, test=0.904) total time=   3.0s\n",
      "[CV 1/10] END lr__C=100, lr__max_iter=1000, lr__penalty=l2, lr__solver=liblinear;, score=(train=0.905, test=0.902) total time=   3.5s\n",
      "[CV 2/10] END lr__C=100, lr__max_iter=1000, lr__penalty=l2, lr__solver=liblinear;, score=(train=0.906, test=0.907) total time=   3.5s\n",
      "[CV 3/10] END lr__C=100, lr__max_iter=1000, lr__penalty=l2, lr__solver=liblinear;, score=(train=0.904, test=0.907) total time=   3.0s\n",
      "[CV 4/10] END lr__C=100, lr__max_iter=1000, lr__penalty=l2, lr__solver=liblinear;, score=(train=0.904, test=0.904) total time=   3.2s\n",
      "[CV 5/10] END lr__C=100, lr__max_iter=1000, lr__penalty=l2, lr__solver=liblinear;, score=(train=0.905, test=0.906) total time=   3.4s\n",
      "[CV 6/10] END lr__C=100, lr__max_iter=1000, lr__penalty=l2, lr__solver=liblinear;, score=(train=0.906, test=0.904) total time=   3.4s\n",
      "[CV 7/10] END lr__C=100, lr__max_iter=1000, lr__penalty=l2, lr__solver=liblinear;, score=(train=0.905, test=0.904) total time=   2.9s\n",
      "[CV 8/10] END lr__C=100, lr__max_iter=1000, lr__penalty=l2, lr__solver=liblinear;, score=(train=0.905, test=0.905) total time=   2.9s\n",
      "[CV 9/10] END lr__C=100, lr__max_iter=1000, lr__penalty=l2, lr__solver=liblinear;, score=(train=0.907, test=0.908) total time=   3.0s\n",
      "[CV 10/10] END lr__C=100, lr__max_iter=1000, lr__penalty=l2, lr__solver=liblinear;, score=(train=0.906, test=0.904) total time=   3.0s\n",
      "[CV 1/10] END lr__C=100, lr__max_iter=500, lr__penalty=l2, lr__solver=saga;, score=(train=0.905, test=0.902) total time=  24.3s\n",
      "[CV 2/10] END lr__C=100, lr__max_iter=500, lr__penalty=l2, lr__solver=saga;, score=(train=0.906, test=0.907) total time=  15.0s\n",
      "[CV 3/10] END lr__C=100, lr__max_iter=500, lr__penalty=l2, lr__solver=saga;, score=(train=0.904, test=0.907) total time=  20.7s\n",
      "[CV 4/10] END lr__C=100, lr__max_iter=500, lr__penalty=l2, lr__solver=saga;, score=(train=0.904, test=0.904) total time=  20.9s\n",
      "[CV 5/10] END lr__C=100, lr__max_iter=500, lr__penalty=l2, lr__solver=saga;, score=(train=0.905, test=0.906) total time=  19.0s\n",
      "[CV 6/10] END lr__C=100, lr__max_iter=500, lr__penalty=l2, lr__solver=saga;, score=(train=0.906, test=0.904) total time=  14.6s\n",
      "[CV 7/10] END lr__C=100, lr__max_iter=500, lr__penalty=l2, lr__solver=saga;, score=(train=0.905, test=0.904) total time=   7.4s\n",
      "[CV 8/10] END lr__C=100, lr__max_iter=500, lr__penalty=l2, lr__solver=saga;, score=(train=0.905, test=0.905) total time=  15.7s\n",
      "[CV 9/10] END lr__C=100, lr__max_iter=500, lr__penalty=l2, lr__solver=saga;, score=(train=0.907, test=0.908) total time=   8.8s\n",
      "[CV 10/10] END lr__C=100, lr__max_iter=500, lr__penalty=l2, lr__solver=saga;, score=(train=0.906, test=0.904) total time=  16.3s\n",
      "[CV 1/10] END lr__C=100, lr__max_iter=1000, lr__penalty=l2, lr__solver=saga;, score=(train=0.905, test=0.902) total time=  23.8s\n",
      "[CV 2/10] END lr__C=100, lr__max_iter=1000, lr__penalty=l2, lr__solver=saga;, score=(train=0.906, test=0.907) total time=  14.9s\n",
      "[CV 3/10] END lr__C=100, lr__max_iter=1000, lr__penalty=l2, lr__solver=saga;, score=(train=0.904, test=0.907) total time=  20.8s\n",
      "[CV 4/10] END lr__C=100, lr__max_iter=1000, lr__penalty=l2, lr__solver=saga;, score=(train=0.904, test=0.904) total time=  20.4s\n",
      "[CV 5/10] END lr__C=100, lr__max_iter=1000, lr__penalty=l2, lr__solver=saga;, score=(train=0.905, test=0.906) total time=  18.3s\n",
      "[CV 6/10] END lr__C=100, lr__max_iter=1000, lr__penalty=l2, lr__solver=saga;, score=(train=0.906, test=0.904) total time=  14.1s\n",
      "[CV 7/10] END lr__C=100, lr__max_iter=1000, lr__penalty=l2, lr__solver=saga;, score=(train=0.905, test=0.904) total time=   7.0s\n",
      "[CV 8/10] END lr__C=100, lr__max_iter=1000, lr__penalty=l2, lr__solver=saga;, score=(train=0.905, test=0.905) total time=  15.5s\n",
      "[CV 9/10] END lr__C=100, lr__max_iter=1000, lr__penalty=l2, lr__solver=saga;, score=(train=0.907, test=0.908) total time=   8.9s\n",
      "[CV 10/10] END lr__C=100, lr__max_iter=1000, lr__penalty=l2, lr__solver=saga;, score=(train=0.906, test=0.904) total time=  16.7s\n",
      "[CV 1/10] END lr__C=100, lr__max_iter=1000, lr__penalty=l2, lr__solver=lbfgs;, score=(train=0.905, test=0.902) total time=  16.9s\n",
      "[CV 2/10] END lr__C=100, lr__max_iter=1000, lr__penalty=l2, lr__solver=lbfgs;, score=(train=0.906, test=0.907) total time=  11.9s\n",
      "[CV 3/10] END lr__C=100, lr__max_iter=1000, lr__penalty=l2, lr__solver=lbfgs;, score=(train=0.904, test=0.907) total time=  13.4s\n",
      "[CV 4/10] END lr__C=100, lr__max_iter=1000, lr__penalty=l2, lr__solver=lbfgs;, score=(train=0.904, test=0.904) total time=  14.9s\n",
      "[CV 5/10] END lr__C=100, lr__max_iter=1000, lr__penalty=l2, lr__solver=lbfgs;, score=(train=0.905, test=0.906) total time=  10.8s\n",
      "[CV 6/10] END lr__C=100, lr__max_iter=1000, lr__penalty=l2, lr__solver=lbfgs;, score=(train=0.906, test=0.904) total time=  14.2s\n",
      "[CV 7/10] END lr__C=100, lr__max_iter=1000, lr__penalty=l2, lr__solver=lbfgs;, score=(train=0.905, test=0.904) total time=  10.1s\n",
      "[CV 8/10] END lr__C=100, lr__max_iter=1000, lr__penalty=l2, lr__solver=lbfgs;, score=(train=0.905, test=0.905) total time=   9.3s\n",
      "[CV 9/10] END lr__C=100, lr__max_iter=1000, lr__penalty=l2, lr__solver=lbfgs;, score=(train=0.907, test=0.908) total time=   9.4s\n",
      "[CV 10/10] END lr__C=100, lr__max_iter=1000, lr__penalty=l2, lr__solver=lbfgs;, score=(train=0.906, test=0.904) total time=  11.3s\n",
      "----------\n",
      "iter: 2\n",
      "n_candidates: 9\n",
      "n_resources: 358227\n",
      "Fitting 10 folds for each of 9 candidates, totalling 90 fits\n",
      "[CV 1/10] END lr__C=100, lr__max_iter=1000, lr__penalty=l2, lr__solver=sag;, score=(train=0.905, test=0.906) total time=   9.9s\n",
      "[CV 2/10] END lr__C=100, lr__max_iter=1000, lr__penalty=l2, lr__solver=sag;, score=(train=0.905, test=0.907) total time=  12.0s\n",
      "[CV 3/10] END lr__C=100, lr__max_iter=1000, lr__penalty=l2, lr__solver=sag;, score=(train=0.905, test=0.907) total time=  29.2s\n",
      "[CV 4/10] END lr__C=100, lr__max_iter=1000, lr__penalty=l2, lr__solver=sag;, score=(train=0.905, test=0.904) total time=  29.6s\n",
      "[CV 5/10] END lr__C=100, lr__max_iter=1000, lr__penalty=l2, lr__solver=sag;, score=(train=0.905, test=0.903) total time=  19.5s\n",
      "[CV 6/10] END lr__C=100, lr__max_iter=1000, lr__penalty=l2, lr__solver=sag;, score=(train=0.906, test=0.904) total time=  37.6s\n",
      "[CV 7/10] END lr__C=100, lr__max_iter=1000, lr__penalty=l2, lr__solver=sag;, score=(train=0.904, test=0.906) total time=  34.1s\n",
      "[CV 8/10] END lr__C=100, lr__max_iter=1000, lr__penalty=l2, lr__solver=sag;, score=(train=0.905, test=0.905) total time=  14.3s\n",
      "[CV 9/10] END lr__C=100, lr__max_iter=1000, lr__penalty=l2, lr__solver=sag;, score=(train=0.905, test=0.905) total time=  17.0s\n",
      "[CV 10/10] END lr__C=100, lr__max_iter=1000, lr__penalty=l2, lr__solver=sag;, score=(train=0.905, test=0.904) total time=  18.5s\n",
      "[CV 1/10] END lr__C=100, lr__max_iter=500, lr__penalty=l2, lr__solver=sag;, score=(train=0.905, test=0.906) total time=  12.2s\n",
      "[CV 2/10] END lr__C=100, lr__max_iter=500, lr__penalty=l2, lr__solver=sag;, score=(train=0.905, test=0.907) total time=  13.9s\n",
      "[CV 3/10] END lr__C=100, lr__max_iter=500, lr__penalty=l2, lr__solver=sag;, score=(train=0.905, test=0.907) total time=  24.4s\n",
      "[CV 4/10] END lr__C=100, lr__max_iter=500, lr__penalty=l2, lr__solver=sag;, score=(train=0.905, test=0.904) total time=  24.1s\n",
      "[CV 5/10] END lr__C=100, lr__max_iter=500, lr__penalty=l2, lr__solver=sag;, score=(train=0.905, test=0.903) total time=  18.7s\n",
      "[CV 6/10] END lr__C=100, lr__max_iter=500, lr__penalty=l2, lr__solver=sag;, score=(train=0.906, test=0.904) total time=  36.0s\n",
      "[CV 7/10] END lr__C=100, lr__max_iter=500, lr__penalty=l2, lr__solver=sag;, score=(train=0.904, test=0.906) total time=  34.1s\n",
      "[CV 8/10] END lr__C=100, lr__max_iter=500, lr__penalty=l2, lr__solver=sag;, score=(train=0.905, test=0.905) total time=  12.1s\n",
      "[CV 9/10] END lr__C=100, lr__max_iter=500, lr__penalty=l2, lr__solver=sag;, score=(train=0.905, test=0.905) total time=  16.8s\n",
      "[CV 10/10] END lr__C=100, lr__max_iter=500, lr__penalty=l2, lr__solver=sag;, score=(train=0.905, test=0.904) total time=  21.1s\n",
      "[CV 1/10] END lr__C=100, lr__max_iter=1000, lr__penalty=l2, lr__solver=lbfgs;, score=(train=0.905, test=0.906) total time=  31.4s\n",
      "[CV 2/10] END lr__C=100, lr__max_iter=1000, lr__penalty=l2, lr__solver=lbfgs;, score=(train=0.905, test=0.907) total time=  28.5s\n",
      "[CV 3/10] END lr__C=100, lr__max_iter=1000, lr__penalty=l2, lr__solver=lbfgs;, score=(train=0.905, test=0.907) total time=  38.7s\n",
      "[CV 4/10] END lr__C=100, lr__max_iter=1000, lr__penalty=l2, lr__solver=lbfgs;, score=(train=0.905, test=0.904) total time=  36.2s\n",
      "[CV 5/10] END lr__C=100, lr__max_iter=1000, lr__penalty=l2, lr__solver=lbfgs;, score=(train=0.905, test=0.903) total time=  38.8s\n",
      "[CV 6/10] END lr__C=100, lr__max_iter=1000, lr__penalty=l2, lr__solver=lbfgs;, score=(train=0.906, test=0.904) total time=  43.2s\n",
      "[CV 7/10] END lr__C=100, lr__max_iter=1000, lr__penalty=l2, lr__solver=lbfgs;, score=(train=0.904, test=0.906) total time=  42.5s\n",
      "[CV 8/10] END lr__C=100, lr__max_iter=1000, lr__penalty=l2, lr__solver=lbfgs;, score=(train=0.905, test=0.905) total time=  26.9s\n",
      "[CV 9/10] END lr__C=100, lr__max_iter=1000, lr__penalty=l2, lr__solver=lbfgs;, score=(train=0.905, test=0.905) total time=  37.1s\n",
      "[CV 10/10] END lr__C=100, lr__max_iter=1000, lr__penalty=l2, lr__solver=lbfgs;, score=(train=0.905, test=0.904) total time=  29.2s\n",
      "[CV 1/10] END lr__C=100, lr__max_iter=1000, lr__penalty=l2, lr__solver=saga;, score=(train=0.905, test=0.906) total time=  13.5s\n",
      "[CV 2/10] END lr__C=100, lr__max_iter=1000, lr__penalty=l2, lr__solver=saga;, score=(train=0.905, test=0.907) total time=  17.3s\n",
      "[CV 3/10] END lr__C=100, lr__max_iter=1000, lr__penalty=l2, lr__solver=saga;, score=(train=0.905, test=0.907) total time=  41.2s\n",
      "[CV 4/10] END lr__C=100, lr__max_iter=1000, lr__penalty=l2, lr__solver=saga;, score=(train=0.905, test=0.904) total time=  34.7s\n",
      "[CV 5/10] END lr__C=100, lr__max_iter=1000, lr__penalty=l2, lr__solver=saga;, score=(train=0.905, test=0.903) total time=  34.5s\n",
      "[CV 6/10] END lr__C=100, lr__max_iter=1000, lr__penalty=l2, lr__solver=saga;, score=(train=0.906, test=0.904) total time=  46.2s\n",
      "[CV 7/10] END lr__C=100, lr__max_iter=1000, lr__penalty=l2, lr__solver=saga;, score=(train=0.904, test=0.906) total time=  47.3s\n",
      "[CV 8/10] END lr__C=100, lr__max_iter=1000, lr__penalty=l2, lr__solver=saga;, score=(train=0.905, test=0.905) total time=  15.0s\n",
      "[CV 9/10] END lr__C=100, lr__max_iter=1000, lr__penalty=l2, lr__solver=saga;, score=(train=0.905, test=0.905) total time=  28.4s\n",
      "[CV 10/10] END lr__C=100, lr__max_iter=1000, lr__penalty=l2, lr__solver=saga;, score=(train=0.905, test=0.904) total time=  22.6s\n",
      "[CV 1/10] END lr__C=100, lr__max_iter=500, lr__penalty=l2, lr__solver=saga;, score=(train=0.905, test=0.906) total time=  12.8s\n",
      "[CV 2/10] END lr__C=100, lr__max_iter=500, lr__penalty=l2, lr__solver=saga;, score=(train=0.905, test=0.907) total time=  18.3s\n",
      "[CV 3/10] END lr__C=100, lr__max_iter=500, lr__penalty=l2, lr__solver=saga;, score=(train=0.905, test=0.907) total time=  41.9s\n",
      "[CV 4/10] END lr__C=100, lr__max_iter=500, lr__penalty=l2, lr__solver=saga;, score=(train=0.905, test=0.904) total time=  36.2s\n",
      "[CV 5/10] END lr__C=100, lr__max_iter=500, lr__penalty=l2, lr__solver=saga;, score=(train=0.905, test=0.903) total time=  34.6s\n",
      "[CV 6/10] END lr__C=100, lr__max_iter=500, lr__penalty=l2, lr__solver=saga;, score=(train=0.906, test=0.904) total time=  47.8s\n",
      "[CV 7/10] END lr__C=100, lr__max_iter=500, lr__penalty=l2, lr__solver=saga;, score=(train=0.904, test=0.906) total time=  47.6s\n",
      "[CV 8/10] END lr__C=100, lr__max_iter=500, lr__penalty=l2, lr__solver=saga;, score=(train=0.905, test=0.905) total time=  17.0s\n",
      "[CV 9/10] END lr__C=100, lr__max_iter=500, lr__penalty=l2, lr__solver=saga;, score=(train=0.905, test=0.905) total time=  26.4s\n",
      "[CV 10/10] END lr__C=100, lr__max_iter=500, lr__penalty=l2, lr__solver=saga;, score=(train=0.905, test=0.904) total time=  27.1s\n",
      "[CV 1/10] END lr__C=100, lr__max_iter=1000, lr__penalty=l2, lr__solver=newton-cg;, score=(train=0.905, test=0.906) total time= 1.2min\n",
      "[CV 2/10] END lr__C=100, lr__max_iter=1000, lr__penalty=l2, lr__solver=newton-cg;, score=(train=0.905, test=0.907) total time=  45.9s\n",
      "[CV 3/10] END lr__C=100, lr__max_iter=1000, lr__penalty=l2, lr__solver=newton-cg;, score=(train=0.905, test=0.907) total time= 1.1min\n",
      "[CV 4/10] END lr__C=100, lr__max_iter=1000, lr__penalty=l2, lr__solver=newton-cg;, score=(train=0.905, test=0.904) total time=  58.0s\n",
      "[CV 5/10] END lr__C=100, lr__max_iter=1000, lr__penalty=l2, lr__solver=newton-cg;, score=(train=0.905, test=0.903) total time=  51.1s\n",
      "[CV 6/10] END lr__C=100, lr__max_iter=1000, lr__penalty=l2, lr__solver=newton-cg;, score=(train=0.906, test=0.904) total time=  52.0s\n",
      "[CV 7/10] END lr__C=100, lr__max_iter=1000, lr__penalty=l2, lr__solver=newton-cg;, score=(train=0.904, test=0.906) total time= 1.3min\n",
      "[CV 8/10] END lr__C=100, lr__max_iter=1000, lr__penalty=l2, lr__solver=newton-cg;, score=(train=0.905, test=0.905) total time=  49.2s\n",
      "[CV 9/10] END lr__C=100, lr__max_iter=1000, lr__penalty=l2, lr__solver=newton-cg;, score=(train=0.905, test=0.905) total time=  48.4s\n",
      "[CV 10/10] END lr__C=100, lr__max_iter=1000, lr__penalty=l2, lr__solver=newton-cg;, score=(train=0.905, test=0.904) total time=  58.6s\n",
      "[CV 1/10] END lr__C=100, lr__max_iter=100, lr__penalty=l2, lr__solver=newton-cg;, score=(train=0.905, test=0.906) total time= 1.2min\n",
      "[CV 2/10] END lr__C=100, lr__max_iter=100, lr__penalty=l2, lr__solver=newton-cg;, score=(train=0.905, test=0.907) total time=  46.8s\n",
      "[CV 3/10] END lr__C=100, lr__max_iter=100, lr__penalty=l2, lr__solver=newton-cg;, score=(train=0.905, test=0.907) total time= 1.1min\n",
      "[CV 4/10] END lr__C=100, lr__max_iter=100, lr__penalty=l2, lr__solver=newton-cg;, score=(train=0.905, test=0.904) total time=  58.9s\n",
      "[CV 5/10] END lr__C=100, lr__max_iter=100, lr__penalty=l2, lr__solver=newton-cg;, score=(train=0.905, test=0.903) total time=  51.7s\n",
      "[CV 6/10] END lr__C=100, lr__max_iter=100, lr__penalty=l2, lr__solver=newton-cg;, score=(train=0.906, test=0.904) total time=  51.2s\n",
      "[CV 7/10] END lr__C=100, lr__max_iter=100, lr__penalty=l2, lr__solver=newton-cg;, score=(train=0.904, test=0.906) total time= 1.3min\n",
      "[CV 8/10] END lr__C=100, lr__max_iter=100, lr__penalty=l2, lr__solver=newton-cg;, score=(train=0.905, test=0.905) total time=  48.0s\n",
      "[CV 9/10] END lr__C=100, lr__max_iter=100, lr__penalty=l2, lr__solver=newton-cg;, score=(train=0.905, test=0.905) total time=  47.7s\n",
      "[CV 10/10] END lr__C=100, lr__max_iter=100, lr__penalty=l2, lr__solver=newton-cg;, score=(train=0.905, test=0.904) total time=  59.9s\n",
      "[CV 1/10] END lr__C=100, lr__max_iter=500, lr__penalty=l2, lr__solver=newton-cg;, score=(train=0.905, test=0.906) total time= 1.2min\n",
      "[CV 2/10] END lr__C=100, lr__max_iter=500, lr__penalty=l2, lr__solver=newton-cg;, score=(train=0.905, test=0.907) total time=  47.0s\n",
      "[CV 3/10] END lr__C=100, lr__max_iter=500, lr__penalty=l2, lr__solver=newton-cg;, score=(train=0.905, test=0.907) total time= 1.1min\n",
      "[CV 4/10] END lr__C=100, lr__max_iter=500, lr__penalty=l2, lr__solver=newton-cg;, score=(train=0.905, test=0.904) total time=  57.9s\n",
      "[CV 5/10] END lr__C=100, lr__max_iter=500, lr__penalty=l2, lr__solver=newton-cg;, score=(train=0.905, test=0.903) total time=  51.3s\n",
      "[CV 6/10] END lr__C=100, lr__max_iter=500, lr__penalty=l2, lr__solver=newton-cg;, score=(train=0.906, test=0.904) total time=  51.4s\n",
      "[CV 7/10] END lr__C=100, lr__max_iter=500, lr__penalty=l2, lr__solver=newton-cg;, score=(train=0.904, test=0.906) total time= 1.2min\n",
      "[CV 8/10] END lr__C=100, lr__max_iter=500, lr__penalty=l2, lr__solver=newton-cg;, score=(train=0.905, test=0.905) total time=  48.3s\n",
      "[CV 9/10] END lr__C=100, lr__max_iter=500, lr__penalty=l2, lr__solver=newton-cg;, score=(train=0.905, test=0.905) total time=  47.1s\n",
      "[CV 10/10] END lr__C=100, lr__max_iter=500, lr__penalty=l2, lr__solver=newton-cg;, score=(train=0.905, test=0.904) total time=  59.4s\n",
      "[CV 1/10] END lr__C=100, lr__max_iter=100, lr__penalty=l2, lr__solver=saga;, score=(train=0.905, test=0.906) total time=  12.4s\n",
      "[CV 2/10] END lr__C=100, lr__max_iter=100, lr__penalty=l2, lr__solver=saga;, score=(train=0.905, test=0.907) total time=  15.0s\n"
     ]
    },
    {
     "name": "stderr",
     "output_type": "stream",
     "text": [
      "/opt/conda/lib/python3.7/site-packages/sklearn/linear_model/_sag.py:354: ConvergenceWarning: The max_iter was reached which means the coef_ did not converge\n",
      "  ConvergenceWarning,\n"
     ]
    },
    {
     "name": "stdout",
     "output_type": "stream",
     "text": [
      "[CV 3/10] END lr__C=100, lr__max_iter=100, lr__penalty=l2, lr__solver=saga;, score=(train=0.905, test=0.907) total time=  38.8s\n",
      "[CV 4/10] END lr__C=100, lr__max_iter=100, lr__penalty=l2, lr__solver=saga;, score=(train=0.905, test=0.904) total time=  37.6s\n",
      "[CV 5/10] END lr__C=100, lr__max_iter=100, lr__penalty=l2, lr__solver=saga;, score=(train=0.905, test=0.903) total time=  34.6s\n"
     ]
    },
    {
     "name": "stderr",
     "output_type": "stream",
     "text": [
      "/opt/conda/lib/python3.7/site-packages/sklearn/linear_model/_sag.py:354: ConvergenceWarning: The max_iter was reached which means the coef_ did not converge\n",
      "  ConvergenceWarning,\n"
     ]
    },
    {
     "name": "stdout",
     "output_type": "stream",
     "text": [
      "[CV 6/10] END lr__C=100, lr__max_iter=100, lr__penalty=l2, lr__solver=saga;, score=(train=0.906, test=0.904) total time=  38.8s\n"
     ]
    },
    {
     "name": "stderr",
     "output_type": "stream",
     "text": [
      "/opt/conda/lib/python3.7/site-packages/sklearn/linear_model/_sag.py:354: ConvergenceWarning: The max_iter was reached which means the coef_ did not converge\n",
      "  ConvergenceWarning,\n"
     ]
    },
    {
     "name": "stdout",
     "output_type": "stream",
     "text": [
      "[CV 7/10] END lr__C=100, lr__max_iter=100, lr__penalty=l2, lr__solver=saga;, score=(train=0.904, test=0.906) total time=  38.8s\n",
      "[CV 8/10] END lr__C=100, lr__max_iter=100, lr__penalty=l2, lr__solver=saga;, score=(train=0.905, test=0.905) total time=  16.1s\n",
      "[CV 9/10] END lr__C=100, lr__max_iter=100, lr__penalty=l2, lr__solver=saga;, score=(train=0.905, test=0.905) total time=  27.6s\n",
      "[CV 10/10] END lr__C=100, lr__max_iter=100, lr__penalty=l2, lr__solver=saga;, score=(train=0.905, test=0.904) total time=  27.1s\n",
      "----------\n",
      "iter: 3\n",
      "n_candidates: 3\n",
      "n_resources: 1074681\n",
      "Fitting 10 folds for each of 3 candidates, totalling 30 fits\n",
      "[CV 1/10] END lr__C=100, lr__max_iter=500, lr__penalty=l2, lr__solver=saga;, score=(train=0.905, test=0.905) total time=  44.9s\n",
      "[CV 2/10] END lr__C=100, lr__max_iter=500, lr__penalty=l2, lr__solver=saga;, score=(train=0.905, test=0.905) total time=  56.1s\n",
      "[CV 3/10] END lr__C=100, lr__max_iter=500, lr__penalty=l2, lr__solver=saga;, score=(train=0.905, test=0.906) total time=  54.8s\n",
      "[CV 4/10] END lr__C=100, lr__max_iter=500, lr__penalty=l2, lr__solver=saga;, score=(train=0.905, test=0.905) total time=  33.9s\n",
      "[CV 5/10] END lr__C=100, lr__max_iter=500, lr__penalty=l2, lr__solver=saga;, score=(train=0.905, test=0.904) total time=  31.5s\n",
      "[CV 6/10] END lr__C=100, lr__max_iter=500, lr__penalty=l2, lr__solver=saga;, score=(train=0.905, test=0.905) total time=  38.5s\n",
      "[CV 7/10] END lr__C=100, lr__max_iter=500, lr__penalty=l2, lr__solver=saga;, score=(train=0.905, test=0.906) total time=  58.3s\n",
      "[CV 8/10] END lr__C=100, lr__max_iter=500, lr__penalty=l2, lr__solver=saga;, score=(train=0.905, test=0.905) total time=  31.5s\n",
      "[CV 9/10] END lr__C=100, lr__max_iter=500, lr__penalty=l2, lr__solver=saga;, score=(train=0.905, test=0.905) total time=  30.5s\n",
      "[CV 10/10] END lr__C=100, lr__max_iter=500, lr__penalty=l2, lr__solver=saga;, score=(train=0.905, test=0.905) total time=  30.7s\n",
      "[CV 1/10] END lr__C=100, lr__max_iter=1000, lr__penalty=l2, lr__solver=lbfgs;, score=(train=0.905, test=0.905) total time= 1.7min\n",
      "[CV 2/10] END lr__C=100, lr__max_iter=1000, lr__penalty=l2, lr__solver=lbfgs;, score=(train=0.905, test=0.905) total time= 1.9min\n",
      "[CV 3/10] END lr__C=100, lr__max_iter=1000, lr__penalty=l2, lr__solver=lbfgs;, score=(train=0.905, test=0.906) total time= 1.8min\n",
      "[CV 4/10] END lr__C=100, lr__max_iter=1000, lr__penalty=l2, lr__solver=lbfgs;, score=(train=0.905, test=0.905) total time= 1.9min\n",
      "[CV 5/10] END lr__C=100, lr__max_iter=1000, lr__penalty=l2, lr__solver=lbfgs;, score=(train=0.905, test=0.905) total time= 1.8min\n",
      "[CV 6/10] END lr__C=100, lr__max_iter=1000, lr__penalty=l2, lr__solver=lbfgs;, score=(train=0.905, test=0.905) total time= 1.5min\n",
      "[CV 7/10] END lr__C=100, lr__max_iter=1000, lr__penalty=l2, lr__solver=lbfgs;, score=(train=0.905, test=0.906) total time= 1.7min\n",
      "[CV 8/10] END lr__C=100, lr__max_iter=1000, lr__penalty=l2, lr__solver=lbfgs;, score=(train=0.905, test=0.905) total time= 1.8min\n",
      "[CV 9/10] END lr__C=100, lr__max_iter=1000, lr__penalty=l2, lr__solver=lbfgs;, score=(train=0.905, test=0.905) total time= 1.8min\n",
      "[CV 10/10] END lr__C=100, lr__max_iter=1000, lr__penalty=l2, lr__solver=lbfgs;, score=(train=0.905, test=0.905) total time= 1.8min\n",
      "[CV 1/10] END lr__C=100, lr__max_iter=1000, lr__penalty=l2, lr__solver=sag;, score=(train=0.905, test=0.905) total time=  31.8s\n",
      "[CV 2/10] END lr__C=100, lr__max_iter=1000, lr__penalty=l2, lr__solver=sag;, score=(train=0.905, test=0.905) total time=  37.5s\n",
      "[CV 3/10] END lr__C=100, lr__max_iter=1000, lr__penalty=l2, lr__solver=sag;, score=(train=0.905, test=0.906) total time=  30.8s\n",
      "[CV 4/10] END lr__C=100, lr__max_iter=1000, lr__penalty=l2, lr__solver=sag;, score=(train=0.905, test=0.905) total time=  28.5s\n",
      "[CV 5/10] END lr__C=100, lr__max_iter=1000, lr__penalty=l2, lr__solver=sag;, score=(train=0.905, test=0.904) total time=  31.8s\n",
      "[CV 6/10] END lr__C=100, lr__max_iter=1000, lr__penalty=l2, lr__solver=sag;, score=(train=0.905, test=0.905) total time=  32.9s\n",
      "[CV 7/10] END lr__C=100, lr__max_iter=1000, lr__penalty=l2, lr__solver=sag;, score=(train=0.905, test=0.906) total time=  34.2s\n",
      "[CV 8/10] END lr__C=100, lr__max_iter=1000, lr__penalty=l2, lr__solver=sag;, score=(train=0.905, test=0.905) total time=  27.4s\n",
      "[CV 9/10] END lr__C=100, lr__max_iter=1000, lr__penalty=l2, lr__solver=sag;, score=(train=0.905, test=0.905) total time=  31.0s\n",
      "[CV 10/10] END lr__C=100, lr__max_iter=1000, lr__penalty=l2, lr__solver=sag;, score=(train=0.905, test=0.905) total time=  31.9s\n"
     ]
    },
    {
     "data": {
      "text/plain": [
       "HalvingGridSearchCV(cv=RepeatedStratifiedKFold(n_repeats=2, n_splits=5, random_state=42),\n",
       "                    estimator=Pipeline(steps=[('minmax', MinMaxScaler()),\n",
       "                                              ('lr', LogisticRegression())]),\n",
       "                    param_grid={'lr__C': [0.01, 0.1, 1, 10, 100],\n",
       "                                'lr__max_iter': [100, 500, 1000],\n",
       "                                'lr__penalty': ['l2'],\n",
       "                                'lr__solver': ['newton-cg', 'lbfgs',\n",
       "                                               'liblinear', 'sag', 'saga']},\n",
       "                    scoring=make_scorer(fbeta_score, beta=0.5), verbose=3)"
      ]
     },
     "execution_count": 16,
     "metadata": {},
     "output_type": "execute_result"
    }
   ],
   "source": [
    "search.fit(X_train, y_train)"
   ]
  },
  {
   "cell_type": "code",
   "execution_count": 17,
   "id": "e41713c7",
   "metadata": {
    "execution": {
     "iopub.execute_input": "2022-07-20T04:39:37.084072Z",
     "iopub.status.busy": "2022-07-20T04:39:37.083582Z",
     "iopub.status.idle": "2022-07-20T04:39:37.139976Z",
     "shell.execute_reply": "2022-07-20T04:39:37.138685Z"
    },
    "papermill": {
     "duration": 0.125052,
     "end_time": "2022-07-20T04:39:37.142524",
     "exception": false,
     "start_time": "2022-07-20T04:39:37.017472",
     "status": "completed"
    },
    "tags": []
   },
   "outputs": [
    {
     "data": {
      "text/html": [
       "<div>\n",
       "<style scoped>\n",
       "    .dataframe tbody tr th:only-of-type {\n",
       "        vertical-align: middle;\n",
       "    }\n",
       "\n",
       "    .dataframe tbody tr th {\n",
       "        vertical-align: top;\n",
       "    }\n",
       "\n",
       "    .dataframe thead th {\n",
       "        text-align: right;\n",
       "    }\n",
       "</style>\n",
       "<table border=\"1\" class=\"dataframe\">\n",
       "  <thead>\n",
       "    <tr style=\"text-align: right;\">\n",
       "      <th></th>\n",
       "      <th>params</th>\n",
       "      <th>mean_train_score</th>\n",
       "      <th>std_train_score</th>\n",
       "      <th>mean_test_score</th>\n",
       "      <th>std_test_score</th>\n",
       "      <th>mean_fit_time</th>\n",
       "      <th>std_fit_time</th>\n",
       "    </tr>\n",
       "  </thead>\n",
       "  <tbody>\n",
       "    <tr>\n",
       "      <th>92</th>\n",
       "      <td>{'lr__C': 100, 'lr__max_iter': 100, 'lr__penal...</td>\n",
       "      <td>0.905356</td>\n",
       "      <td>0.000745</td>\n",
       "      <td>0.905214</td>\n",
       "      <td>0.001680</td>\n",
       "      <td>12.082988</td>\n",
       "      <td>2.275316</td>\n",
       "    </tr>\n",
       "    <tr>\n",
       "      <th>88</th>\n",
       "      <td>{'lr__C': 100, 'lr__max_iter': 100, 'lr__penal...</td>\n",
       "      <td>0.905355</td>\n",
       "      <td>0.000744</td>\n",
       "      <td>0.905213</td>\n",
       "      <td>0.001685</td>\n",
       "      <td>14.115297</td>\n",
       "      <td>1.731084</td>\n",
       "    </tr>\n",
       "    <tr>\n",
       "      <th>89</th>\n",
       "      <td>{'lr__C': 100, 'lr__max_iter': 1000, 'lr__pena...</td>\n",
       "      <td>0.905355</td>\n",
       "      <td>0.000744</td>\n",
       "      <td>0.905213</td>\n",
       "      <td>0.001685</td>\n",
       "      <td>14.275017</td>\n",
       "      <td>1.447054</td>\n",
       "    </tr>\n",
       "    <tr>\n",
       "      <th>90</th>\n",
       "      <td>{'lr__C': 100, 'lr__max_iter': 500, 'lr__penal...</td>\n",
       "      <td>0.905355</td>\n",
       "      <td>0.000744</td>\n",
       "      <td>0.905213</td>\n",
       "      <td>0.001685</td>\n",
       "      <td>14.065639</td>\n",
       "      <td>1.719388</td>\n",
       "    </tr>\n",
       "    <tr>\n",
       "      <th>97</th>\n",
       "      <td>{'lr__C': 100, 'lr__max_iter': 500, 'lr__penal...</td>\n",
       "      <td>0.905356</td>\n",
       "      <td>0.000747</td>\n",
       "      <td>0.905212</td>\n",
       "      <td>0.001684</td>\n",
       "      <td>16.255457</td>\n",
       "      <td>5.026012</td>\n",
       "    </tr>\n",
       "    <tr>\n",
       "      <th>98</th>\n",
       "      <td>{'lr__C': 100, 'lr__max_iter': 1000, 'lr__pena...</td>\n",
       "      <td>0.905356</td>\n",
       "      <td>0.000747</td>\n",
       "      <td>0.905212</td>\n",
       "      <td>0.001684</td>\n",
       "      <td>16.018202</td>\n",
       "      <td>4.951827</td>\n",
       "    </tr>\n",
       "    <tr>\n",
       "      <th>99</th>\n",
       "      <td>{'lr__C': 100, 'lr__max_iter': 1000, 'lr__pena...</td>\n",
       "      <td>0.905352</td>\n",
       "      <td>0.000752</td>\n",
       "      <td>0.905210</td>\n",
       "      <td>0.001704</td>\n",
       "      <td>12.186583</td>\n",
       "      <td>2.406673</td>\n",
       "    </tr>\n",
       "    <tr>\n",
       "      <th>86</th>\n",
       "      <td>{'lr__C': 100, 'lr__max_iter': 500, 'lr__penal...</td>\n",
       "      <td>0.905360</td>\n",
       "      <td>0.000746</td>\n",
       "      <td>0.905210</td>\n",
       "      <td>0.001685</td>\n",
       "      <td>10.656162</td>\n",
       "      <td>3.803462</td>\n",
       "    </tr>\n",
       "    <tr>\n",
       "      <th>91</th>\n",
       "      <td>{'lr__C': 100, 'lr__max_iter': 1000, 'lr__pena...</td>\n",
       "      <td>0.905359</td>\n",
       "      <td>0.000750</td>\n",
       "      <td>0.905206</td>\n",
       "      <td>0.001687</td>\n",
       "      <td>11.224145</td>\n",
       "      <td>3.871194</td>\n",
       "    </tr>\n",
       "    <tr>\n",
       "      <th>87</th>\n",
       "      <td>{'lr__C': 100, 'lr__max_iter': 100, 'lr__penal...</td>\n",
       "      <td>0.905363</td>\n",
       "      <td>0.000742</td>\n",
       "      <td>0.905203</td>\n",
       "      <td>0.001693</td>\n",
       "      <td>9.630899</td>\n",
       "      <td>2.676627</td>\n",
       "    </tr>\n",
       "  </tbody>\n",
       "</table>\n",
       "</div>"
      ],
      "text/plain": [
       "                                               params  mean_train_score  \\\n",
       "92  {'lr__C': 100, 'lr__max_iter': 100, 'lr__penal...          0.905356   \n",
       "88  {'lr__C': 100, 'lr__max_iter': 100, 'lr__penal...          0.905355   \n",
       "89  {'lr__C': 100, 'lr__max_iter': 1000, 'lr__pena...          0.905355   \n",
       "90  {'lr__C': 100, 'lr__max_iter': 500, 'lr__penal...          0.905355   \n",
       "97  {'lr__C': 100, 'lr__max_iter': 500, 'lr__penal...          0.905356   \n",
       "98  {'lr__C': 100, 'lr__max_iter': 1000, 'lr__pena...          0.905356   \n",
       "99  {'lr__C': 100, 'lr__max_iter': 1000, 'lr__pena...          0.905352   \n",
       "86  {'lr__C': 100, 'lr__max_iter': 500, 'lr__penal...          0.905360   \n",
       "91  {'lr__C': 100, 'lr__max_iter': 1000, 'lr__pena...          0.905359   \n",
       "87  {'lr__C': 100, 'lr__max_iter': 100, 'lr__penal...          0.905363   \n",
       "\n",
       "    std_train_score  mean_test_score  std_test_score  mean_fit_time  \\\n",
       "92         0.000745         0.905214        0.001680      12.082988   \n",
       "88         0.000744         0.905213        0.001685      14.115297   \n",
       "89         0.000744         0.905213        0.001685      14.275017   \n",
       "90         0.000744         0.905213        0.001685      14.065639   \n",
       "97         0.000747         0.905212        0.001684      16.255457   \n",
       "98         0.000747         0.905212        0.001684      16.018202   \n",
       "99         0.000752         0.905210        0.001704      12.186583   \n",
       "86         0.000746         0.905210        0.001685      10.656162   \n",
       "91         0.000750         0.905206        0.001687      11.224145   \n",
       "87         0.000742         0.905203        0.001693       9.630899   \n",
       "\n",
       "    std_fit_time  \n",
       "92      2.275316  \n",
       "88      1.731084  \n",
       "89      1.447054  \n",
       "90      1.719388  \n",
       "97      5.026012  \n",
       "98      4.951827  \n",
       "99      2.406673  \n",
       "86      3.803462  \n",
       "91      3.871194  \n",
       "87      2.676627  "
      ]
     },
     "execution_count": 17,
     "metadata": {},
     "output_type": "execute_result"
    }
   ],
   "source": [
    "print_result_df(search)"
   ]
  },
  {
   "cell_type": "code",
   "execution_count": 18,
   "id": "c91292f5",
   "metadata": {
    "execution": {
     "iopub.execute_input": "2022-07-20T04:39:37.268293Z",
     "iopub.status.busy": "2022-07-20T04:39:37.267720Z",
     "iopub.status.idle": "2022-07-20T04:39:37.844561Z",
     "shell.execute_reply": "2022-07-20T04:39:37.843620Z"
    },
    "papermill": {
     "duration": 0.641965,
     "end_time": "2022-07-20T04:39:37.846592",
     "exception": false,
     "start_time": "2022-07-20T04:39:37.204627",
     "status": "completed"
    },
    "tags": []
   },
   "outputs": [
    {
     "data": {
      "image/png": "[encoded data removed]",
      "text/plain": [
       "<Figure size 2016x360 with 4 Axes>"
      ]
     },
     "metadata": {
      "needs_background": "light"
     },
     "output_type": "display_data"
    }
   ],
   "source": [
    "plot_search_results(search)"
   ]
  },
  {
   "cell_type": "code",
   "execution_count": 19,
   "id": "ff1b85ce",
   "metadata": {
    "execution": {
     "iopub.execute_input": "2022-07-20T04:39:37.974457Z",
     "iopub.status.busy": "2022-07-20T04:39:37.973519Z",
     "iopub.status.idle": "2022-07-20T04:47:29.345179Z",
     "shell.execute_reply": "2022-07-20T04:47:29.344192Z"
    },
    "papermill": {
     "duration": 471.503112,
     "end_time": "2022-07-20T04:47:29.412551",
     "exception": false,
     "start_time": "2022-07-20T04:39:37.909439",
     "status": "completed"
    },
    "tags": []
   },
   "outputs": [
    {
     "name": "stdout",
     "output_type": "stream",
     "text": [
      "Best parameter (CV score=):\n",
      "Pipeline(steps=[('minmax', MinMaxScaler()),\n",
      "                ('lr', LogisticRegression(C=100, max_iter=1000, solver='sag'))])\n",
      "              precision    recall  f1-score   support\n",
      "\n",
      "           0       0.70      0.56      0.63     53638\n",
      "           1       0.90      0.94      0.92    215038\n",
      "\n",
      "    accuracy                           0.87    268676\n",
      "   macro avg       0.80      0.75      0.77    268676\n",
      "weighted avg       0.86      0.87      0.86    268676\n",
      "\n",
      "[[ 30185  23453]\n",
      " [ 12653 202385]]\n",
      "f0.5_score= 0.9048051216480834\n",
      "pr_auc_score= 0.9814957791591244\n"
     ]
    },
    {
     "data": {
      "image/png": "[encoded data removed]",
      "text/plain": [
       "<Figure size 720x504 with 1 Axes>"
      ]
     },
     "metadata": {
      "needs_background": "light"
     },
     "output_type": "display_data"
    },
    {
     "data": {
      "image/png": "[encoded data removed]",
      "text/plain": [
       "<Figure size 1080x1080 with 3 Axes>"
      ]
     },
     "metadata": {
      "needs_background": "light"
     },
     "output_type": "display_data"
    },
    {
     "data": {
      "text/plain": [
       "Pipeline(steps=[('minmax', MinMaxScaler()),\n",
       "                ('lr', LogisticRegression(C=100, max_iter=1000, solver='sag'))])"
      ]
     },
     "execution_count": 19,
     "metadata": {},
     "output_type": "execute_result"
    }
   ],
   "source": [
    "print_best_model_result(search, 'MinMaxScaler + Tuning Logistic')"
   ]
  }
 ],
 "metadata": {
  "kernelspec": {
   "display_name": "Python 3",
   "language": "python",
   "name": "python3"
  },
  "language_info": {
   "codemirror_mode": {
    "name": "ipython",
    "version": 3
   },
   "file_extension": ".py",
   "mimetype": "text/x-python",
   "name": "python",
   "nbconvert_exporter": "python",
   "pygments_lexer": "ipython3",
   "version": "3.7.12"
  },
  "papermill": {
   "default_parameters": {},
   "duration": 9136.050305,
   "end_time": "2022-07-20T04:47:32.181010",
   "environment_variables": {},
   "exception": null,
   "input_path": "__notebook__.ipynb",
   "output_path": "__notebook__.ipynb",
   "parameters": {},
   "start_time": "2022-07-20T02:15:16.130705",
   "version": "2.3.4"
  }
 },
 "nbformat": 4,
 "nbformat_minor": 5
}
