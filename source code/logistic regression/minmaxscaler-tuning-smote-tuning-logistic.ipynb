{
 "cells": [
  {
   "cell_type": "code",
   "execution_count": 1,
   "id": "534fdfe2",
   "metadata": {
    "execution": {
     "iopub.execute_input": "2022-07-20T04:03:09.872779Z",
     "iopub.status.busy": "2022-07-20T04:03:09.872354Z",
     "iopub.status.idle": "2022-07-20T04:03:12.570955Z",
     "shell.execute_reply": "2022-07-20T04:03:12.569989Z"
    },
    "papermill": {
     "duration": 2.709106,
     "end_time": "2022-07-20T04:03:12.573194",
     "exception": false,
     "start_time": "2022-07-20T04:03:09.864088",
     "status": "completed"
    },
    "tags": []
   },
   "outputs": [
    {
     "data": {
      "text/html": [
       "<style type='text/css'>\n",
       ".datatable table.frame { margin-bottom: 0; }\n",
       ".datatable table.frame thead { border-bottom: none; }\n",
       ".datatable table.frame tr.coltypes td {  color: #FFFFFF;  line-height: 6px;  padding: 0 0.5em;}\n",
       ".datatable .bool    { background: #DDDD99; }\n",
       ".datatable .object  { background: #565656; }\n",
       ".datatable .int     { background: #5D9E5D; }\n",
       ".datatable .float   { background: #4040CC; }\n",
       ".datatable .str     { background: #CC4040; }\n",
       ".datatable .time    { background: #40CC40; }\n",
       ".datatable .row_index {  background: var(--jp-border-color3);  border-right: 1px solid var(--jp-border-color0);  color: var(--jp-ui-font-color3);  font-size: 9px;}\n",
       ".datatable .frame tbody td { text-align: left; }\n",
       ".datatable .frame tr.coltypes .row_index {  background: var(--jp-border-color0);}\n",
       ".datatable th:nth-child(2) { padding-left: 12px; }\n",
       ".datatable .hellipsis {  color: var(--jp-cell-editor-border-color);}\n",
       ".datatable .vellipsis {  background: var(--jp-layout-color0);  color: var(--jp-cell-editor-border-color);}\n",
       ".datatable .na {  color: var(--jp-cell-editor-border-color);  font-size: 80%;}\n",
       ".datatable .sp {  opacity: 0.25;}\n",
       ".datatable .footer { font-size: 9px; }\n",
       ".datatable .frame_dimensions {  background: var(--jp-border-color3);  border-top: 1px solid var(--jp-border-color0);  color: var(--jp-ui-font-color3);  display: inline-block;  opacity: 0.6;  padding: 1px 10px 1px 5px;}\n",
       "</style>\n"
      ],
      "text/plain": [
       "<IPython.core.display.HTML object>"
      ]
     },
     "metadata": {},
     "output_type": "display_data"
    }
   ],
   "source": [
    "import pandas as pd\n",
    "import numpy as np\n",
    "import matplotlib.pyplot as plt\n",
    "import seaborn as sns\n",
    "from imblearn.pipeline import Pipeline\n",
    "\n",
    "from sklearn.preprocessing import MinMaxScaler\n",
    "\n",
    "from imblearn.over_sampling import SMOTE, BorderlineSMOTE, SVMSMOTE, ADASYN\n",
    "\n",
    "from sklearn.linear_model import LogisticRegression, Perceptron\n",
    "from sklearn.neighbors import KNeighborsClassifier\n",
    "from sklearn.svm import SVC\n",
    "from sklearn.tree import DecisionTreeClassifier\n",
    "from sklearn.ensemble import RandomForestClassifier\n",
    "from lightgbm import LGBMClassifier\n",
    "from xgboost import XGBClassifier\n",
    "\n",
    "from sklearn.experimental import enable_halving_search_cv\n",
    "from sklearn.model_selection import GridSearchCV, HalvingGridSearchCV, train_test_split, RepeatedStratifiedKFold, cross_val_score, learning_curve\n",
    "from sklearn.metrics import classification_report, fbeta_score, confusion_matrix, precision_recall_curve, auc, make_scorer"
   ]
  },
  {
   "cell_type": "code",
   "execution_count": 2,
   "id": "589d3cde",
   "metadata": {
    "execution": {
     "iopub.execute_input": "2022-07-20T04:03:12.582793Z",
     "iopub.status.busy": "2022-07-20T04:03:12.582426Z",
     "iopub.status.idle": "2022-07-20T04:03:21.720128Z",
     "shell.execute_reply": "2022-07-20T04:03:21.719107Z"
    },
    "papermill": {
     "duration": 9.144773,
     "end_time": "2022-07-20T04:03:21.722302",
     "exception": false,
     "start_time": "2022-07-20T04:03:12.577529",
     "status": "completed"
    },
    "tags": []
   },
   "outputs": [],
   "source": [
    "accepted_loans = pd.read_csv('../input/elitedata/elite.csv')"
   ]
  },
  {
   "cell_type": "code",
   "execution_count": 3,
   "id": "fa523e18",
   "metadata": {
    "execution": {
     "iopub.execute_input": "2022-07-20T04:03:21.732115Z",
     "iopub.status.busy": "2022-07-20T04:03:21.731661Z",
     "iopub.status.idle": "2022-07-20T04:03:22.017222Z",
     "shell.execute_reply": "2022-07-20T04:03:22.016148Z"
    },
    "papermill": {
     "duration": 0.293084,
     "end_time": "2022-07-20T04:03:22.019537",
     "exception": false,
     "start_time": "2022-07-20T04:03:21.726453",
     "status": "completed"
    },
    "tags": []
   },
   "outputs": [],
   "source": [
    "X = accepted_loans.loc[:, accepted_loans.columns != 'loan_paid'].values\n",
    "y = accepted_loans['loan_paid'].values"
   ]
  },
  {
   "cell_type": "code",
   "execution_count": 4,
   "id": "8ec01971",
   "metadata": {
    "execution": {
     "iopub.execute_input": "2022-07-20T04:03:22.029802Z",
     "iopub.status.busy": "2022-07-20T04:03:22.029376Z",
     "iopub.status.idle": "2022-07-20T04:03:23.800876Z",
     "shell.execute_reply": "2022-07-20T04:03:23.799733Z"
    },
    "papermill": {
     "duration": 1.779091,
     "end_time": "2022-07-20T04:03:23.803433",
     "exception": false,
     "start_time": "2022-07-20T04:03:22.024342",
     "status": "completed"
    },
    "tags": []
   },
   "outputs": [],
   "source": [
    "X_train, X_test, y_train, y_test = train_test_split(X, y, test_size=0.2, random_state=42, stratify=y)"
   ]
  },
  {
   "cell_type": "code",
   "execution_count": 5,
   "id": "d10bb828",
   "metadata": {
    "execution": {
     "iopub.execute_input": "2022-07-20T04:03:23.813819Z",
     "iopub.status.busy": "2022-07-20T04:03:23.813432Z",
     "iopub.status.idle": "2022-07-20T04:03:23.818345Z",
     "shell.execute_reply": "2022-07-20T04:03:23.817146Z"
    },
    "papermill": {
     "duration": 0.01203,
     "end_time": "2022-07-20T04:03:23.820214",
     "exception": false,
     "start_time": "2022-07-20T04:03:23.808184",
     "status": "completed"
    },
    "tags": []
   },
   "outputs": [],
   "source": [
    "cv = RepeatedStratifiedKFold(n_splits=5, n_repeats=2, random_state=42)"
   ]
  },
  {
   "cell_type": "code",
   "execution_count": 6,
   "id": "3a86bc6e",
   "metadata": {
    "execution": {
     "iopub.execute_input": "2022-07-20T04:03:23.831388Z",
     "iopub.status.busy": "2022-07-20T04:03:23.830393Z",
     "iopub.status.idle": "2022-07-20T04:03:23.836984Z",
     "shell.execute_reply": "2022-07-20T04:03:23.835364Z"
    },
    "papermill": {
     "duration": 0.014453,
     "end_time": "2022-07-20T04:03:23.839106",
     "exception": false,
     "start_time": "2022-07-20T04:03:23.824653",
     "status": "completed"
    },
    "tags": []
   },
   "outputs": [],
   "source": [
    "minmax_scaler = ('minmax', MinMaxScaler())"
   ]
  },
  {
   "cell_type": "code",
   "execution_count": 7,
   "id": "3135955f",
   "metadata": {
    "execution": {
     "iopub.execute_input": "2022-07-20T04:03:23.849236Z",
     "iopub.status.busy": "2022-07-20T04:03:23.848634Z",
     "iopub.status.idle": "2022-07-20T04:03:23.853510Z",
     "shell.execute_reply": "2022-07-20T04:03:23.852305Z"
    },
    "papermill": {
     "duration": 0.01269,
     "end_time": "2022-07-20T04:03:23.855950",
     "exception": false,
     "start_time": "2022-07-20T04:03:23.843260",
     "status": "completed"
    },
    "tags": []
   },
   "outputs": [],
   "source": [
    "smote = ('smote', SMOTE(sampling_strategy=1.0, random_state=42))\n",
    "smote_param_grid = {\n",
    "    'smote__sampling_strategy': [0.8, 0.9, 1.0]\n",
    "    #'smote__k_neighbors': [3, 5, 10, 15]\n",
    "}"
   ]
  },
  {
   "cell_type": "code",
   "execution_count": 8,
   "id": "510ac2d4",
   "metadata": {
    "execution": {
     "iopub.execute_input": "2022-07-20T04:03:23.870819Z",
     "iopub.status.busy": "2022-07-20T04:03:23.870343Z",
     "iopub.status.idle": "2022-07-20T04:03:23.876780Z",
     "shell.execute_reply": "2022-07-20T04:03:23.875420Z"
    },
    "papermill": {
     "duration": 0.016093,
     "end_time": "2022-07-20T04:03:23.878765",
     "exception": false,
     "start_time": "2022-07-20T04:03:23.862672",
     "status": "completed"
    },
    "tags": []
   },
   "outputs": [],
   "source": [
    "lr = ('lr', LogisticRegression())\n",
    "lr_param_grid = {\n",
    "    'lr__C': [0.01, 0.1, 1, 10, 100],\n",
    "    'lr__penalty': ['l2'],\n",
    "    'lr__max_iter': [100, 500],\n",
    "    'lr__solver': ['newton-cg', 'lbfgs', 'liblinear', 'sag', 'saga']\n",
    "}"
   ]
  },
  {
   "cell_type": "code",
   "execution_count": 9,
   "id": "65aebf31",
   "metadata": {
    "execution": {
     "iopub.execute_input": "2022-07-20T04:03:23.889598Z",
     "iopub.status.busy": "2022-07-20T04:03:23.888519Z",
     "iopub.status.idle": "2022-07-20T04:03:23.893898Z",
     "shell.execute_reply": "2022-07-20T04:03:23.892699Z"
    },
    "papermill": {
     "duration": 0.012828,
     "end_time": "2022-07-20T04:03:23.895830",
     "exception": false,
     "start_time": "2022-07-20T04:03:23.883002",
     "status": "completed"
    },
    "tags": []
   },
   "outputs": [],
   "source": [
    "# Metric\n",
    "f_onehalf_scorer = make_scorer(fbeta_score, beta=0.5)"
   ]
  },
  {
   "cell_type": "code",
   "execution_count": 10,
   "id": "a41060f4",
   "metadata": {
    "execution": {
     "iopub.execute_input": "2022-07-20T04:03:23.907062Z",
     "iopub.status.busy": "2022-07-20T04:03:23.906070Z",
     "iopub.status.idle": "2022-07-20T04:03:23.920561Z",
     "shell.execute_reply": "2022-07-20T04:03:23.919562Z"
    },
    "papermill": {
     "duration": 0.022399,
     "end_time": "2022-07-20T04:03:23.922933",
     "exception": false,
     "start_time": "2022-07-20T04:03:23.900534",
     "status": "completed"
    },
    "tags": []
   },
   "outputs": [],
   "source": [
    "def plot_learning_curve(\n",
    "    estimator,\n",
    "    title,\n",
    "    X,\n",
    "    y,\n",
    "    axes=None,\n",
    "    ylim=None,\n",
    "    cv=cv,\n",
    "    n_jobs=-1,\n",
    "    train_sizes=np.linspace(0.1, 1.0, 5),\n",
    "):\n",
    "    if axes is None:\n",
    "        _, axes = plt.subplots(3, 1, figsize=(15, 15))\n",
    "\n",
    "    axes[0].set_title(title)\n",
    "    if ylim is not None:\n",
    "        axes[0].set_ylim(*ylim)\n",
    "    axes[0].set_xlabel(\"Training examples\")\n",
    "    axes[0].set_ylabel(\"Score\")\n",
    "\n",
    "    train_sizes, train_scores, test_scores, fit_times, _ = learning_curve(\n",
    "        estimator,\n",
    "        X,\n",
    "        y,\n",
    "        cv=cv,\n",
    "        n_jobs=n_jobs,\n",
    "        train_sizes=train_sizes,\n",
    "        scoring=f_onehalf_scorer,\n",
    "        return_times=True,\n",
    "        random_state=42\n",
    "    )\n",
    "    train_scores_mean = np.mean(train_scores, axis=1)\n",
    "    train_scores_std = np.std(train_scores, axis=1)\n",
    "    test_scores_mean = np.mean(test_scores, axis=1)\n",
    "    test_scores_std = np.std(test_scores, axis=1)\n",
    "    fit_times_mean = np.mean(fit_times, axis=1)\n",
    "    fit_times_std = np.std(fit_times, axis=1)\n",
    "\n",
    "    # Plot learning curve\n",
    "    axes[0].grid()\n",
    "    axes[0].fill_between(\n",
    "        train_sizes,\n",
    "        train_scores_mean - train_scores_std,\n",
    "        train_scores_mean + train_scores_std,\n",
    "        alpha=0.1,\n",
    "        color=\"r\",\n",
    "    )\n",
    "    axes[0].fill_between(\n",
    "        train_sizes,\n",
    "        test_scores_mean - test_scores_std,\n",
    "        test_scores_mean + test_scores_std,\n",
    "        alpha=0.1,\n",
    "        color=\"g\",\n",
    "    )\n",
    "    axes[0].plot(\n",
    "        train_sizes, train_scores_mean, \"o-\", color=\"r\", label=\"Training score\"\n",
    "    )\n",
    "    axes[0].plot(\n",
    "        train_sizes, test_scores_mean, \"o-\", color=\"g\", label=\"Cross-validation score\"\n",
    "    )\n",
    "    axes[0].legend(loc=\"best\")\n",
    "\n",
    "    # Plot n_samples vs fit_times\n",
    "    axes[1].grid()\n",
    "    axes[1].plot(train_sizes, fit_times_mean, \"o-\")\n",
    "    axes[1].fill_between(\n",
    "        train_sizes,\n",
    "        fit_times_mean - fit_times_std,\n",
    "        fit_times_mean + fit_times_std,\n",
    "        alpha=0.1,\n",
    "    )\n",
    "    axes[1].set_xlabel(\"Training examples\")\n",
    "    axes[1].set_ylabel(\"fit_times\")\n",
    "    axes[1].set_title(\"Scalability of the model\")\n",
    "\n",
    "    # Plot fit_time vs score\n",
    "    fit_time_argsort = fit_times_mean.argsort()\n",
    "    fit_time_sorted = fit_times_mean[fit_time_argsort]\n",
    "    test_scores_mean_sorted = test_scores_mean[fit_time_argsort]\n",
    "    test_scores_std_sorted = test_scores_std[fit_time_argsort]\n",
    "    axes[2].grid()\n",
    "    axes[2].plot(fit_time_sorted, test_scores_mean_sorted, \"o-\")\n",
    "    axes[2].fill_between(\n",
    "        fit_time_sorted,\n",
    "        test_scores_mean_sorted - test_scores_std_sorted,\n",
    "        test_scores_mean_sorted + test_scores_std_sorted,\n",
    "        alpha=0.1,\n",
    "    )\n",
    "    axes[2].set_xlabel(\"fit_times\") \n",
    "    axes[2].set_ylabel(\"Score\")\n",
    "    axes[2].set_title(\"Performance of the model\")\n",
    "\n",
    "    return plt"
   ]
  },
  {
   "cell_type": "code",
   "execution_count": 11,
   "id": "6deb58dd",
   "metadata": {
    "execution": {
     "iopub.execute_input": "2022-07-20T04:03:23.933533Z",
     "iopub.status.busy": "2022-07-20T04:03:23.932677Z",
     "iopub.status.idle": "2022-07-20T04:03:23.943839Z",
     "shell.execute_reply": "2022-07-20T04:03:23.943205Z"
    },
    "papermill": {
     "duration": 0.018439,
     "end_time": "2022-07-20T04:03:23.945691",
     "exception": false,
     "start_time": "2022-07-20T04:03:23.927252",
     "status": "completed"
    },
    "tags": []
   },
   "outputs": [],
   "source": [
    "def pooled_var(stds):\n",
    "    n = 5 # size of each group\n",
    "    return np.sqrt(sum((n-1)*(stds**2))/ len(stds)*(n-1))\n",
    "\n",
    "def plot_search_results(search):\n",
    "  df = pd.DataFrame(search.cv_results_)\n",
    "  results = ['mean_test_score',\n",
    "            'mean_train_score',\n",
    "            'std_test_score', \n",
    "            'std_train_score']\n",
    "\n",
    "  fig, axes = plt.subplots(1, len(param_grid), \n",
    "                          figsize = (10*len(param_grid), 7),\n",
    "                          sharey='row')\n",
    "  axes[0].set_ylabel(\"Score\", fontsize=25)\n",
    "\n",
    "\n",
    "  for idx, (param_name, param_range) in enumerate(param_grid.items()):\n",
    "      grouped_df = df.groupby(f'param_{param_name}')[results]\\\n",
    "          .agg({'mean_train_score': 'mean',\n",
    "                'mean_test_score': 'mean',\n",
    "                'std_train_score': pooled_var,\n",
    "                'std_test_score': pooled_var})\n",
    "\n",
    "      previous_group = df.groupby(f'param_{param_name}')[results]\n",
    "      axes[idx].set_xlabel(param_name, fontsize=30)\n",
    "      axes[idx].set_ylim(0.0, 1.1)\n",
    "      lw = 2\n",
    "      axes[idx].plot(param_range, grouped_df['mean_train_score'], label=\"Training score\",\n",
    "                  color=\"darkorange\", lw=lw)\n",
    "      axes[idx].fill_between(param_range,grouped_df['mean_train_score'] - grouped_df['std_train_score'],\n",
    "                      grouped_df['mean_train_score'] + grouped_df['std_train_score'], alpha=0.2,\n",
    "                      color=\"darkorange\", lw=lw)\n",
    "      axes[idx].plot(param_range, grouped_df['mean_test_score'], label=\"Cross-validation score\",\n",
    "                  color=\"navy\", lw=lw)\n",
    "      axes[idx].fill_between(param_range, grouped_df['mean_test_score'] - grouped_df['std_test_score'],\n",
    "                      grouped_df['mean_test_score'] + grouped_df['std_test_score'], alpha=0.2,\n",
    "                      color=\"navy\", lw=lw)\n",
    "\n",
    "  handles, labels = axes[0].get_legend_handles_labels()\n",
    "  fig.suptitle('Validation curves', fontsize=40)\n",
    "  fig.legend(handles, labels, loc=8, ncol=2, fontsize=20)\n",
    "\n",
    "  fig.subplots_adjust(bottom=0.25, top=0.85)  \n",
    "  plt.show()"
   ]
  },
  {
   "cell_type": "code",
   "execution_count": 12,
   "id": "2cb00523",
   "metadata": {
    "execution": {
     "iopub.execute_input": "2022-07-20T04:03:23.955968Z",
     "iopub.status.busy": "2022-07-20T04:03:23.955070Z",
     "iopub.status.idle": "2022-07-20T04:03:23.960247Z",
     "shell.execute_reply": "2022-07-20T04:03:23.959552Z"
    },
    "papermill": {
     "duration": 0.011769,
     "end_time": "2022-07-20T04:03:23.961696",
     "exception": false,
     "start_time": "2022-07-20T04:03:23.949927",
     "status": "completed"
    },
    "tags": []
   },
   "outputs": [],
   "source": [
    "def print_result_df(search):\n",
    "  keeping_columns = ['params', 'mean_train_score', 'std_train_score', 'mean_test_score', 'std_test_score', 'mean_fit_time', 'std_fit_time']\n",
    "  df = pd.DataFrame(search.cv_results_)\n",
    "  df = df[keeping_columns].sort_values(by='mean_test_score', ascending=False)\n",
    "  return df.iloc[:10, :]"
   ]
  },
  {
   "cell_type": "code",
   "execution_count": 13,
   "id": "3b56dfd9",
   "metadata": {
    "execution": {
     "iopub.execute_input": "2022-07-20T04:03:23.971884Z",
     "iopub.status.busy": "2022-07-20T04:03:23.971119Z",
     "iopub.status.idle": "2022-07-20T04:03:23.979600Z",
     "shell.execute_reply": "2022-07-20T04:03:23.978669Z"
    },
    "papermill": {
     "duration": 0.015598,
     "end_time": "2022-07-20T04:03:23.981726",
     "exception": false,
     "start_time": "2022-07-20T04:03:23.966128",
     "status": "completed"
    },
    "tags": []
   },
   "outputs": [],
   "source": [
    "def print_best_model_result(search, name):\n",
    "  print(\"Best parameter (CV score=):\" % search.best_score_)\n",
    "  best_model = search.best_estimator_\n",
    "  print(best_model)\n",
    "\n",
    "  y_pred = best_model.predict(X_test)\n",
    "\n",
    "  print(classification_report(y_test, y_pred))\n",
    "  print(confusion_matrix(y_test, y_pred))\n",
    "  \n",
    "  f_onehalf_score = fbeta_score(y_test, y_pred, beta=0.5)\n",
    "  print('f0.5_score=', f_onehalf_score)\n",
    "\n",
    "  try :\n",
    "    y_score = best_model.predict_proba(X_test)[:, 1]\n",
    "    # calculate precision and recall for each threshold\n",
    "    precision, recall, threshold = precision_recall_curve(y_test, y_score)\n",
    "    # calculate scores\n",
    "    pr_auc = auc(recall, precision)\n",
    "    print('pr_auc_score=', pr_auc)\n",
    "\n",
    "    # calculate the no skill line as the proportion of the positive class\n",
    "    no_skill = len(y_test[y_test==1]) / len(y_test)\n",
    "    # plot the no skill precision-recall curve\n",
    "    plt.figure(figsize=(10, 7))\n",
    "    plt.plot([0, 1], [no_skill, no_skill], linestyle='--', label='No Skill')\n",
    "    # plot the model precision-recall curve\n",
    "    plt.plot(recall, precision, marker='.', label=name)\n",
    "    plt.title(f'{name}(pr_auc={pr_auc})')\n",
    "    plt.xlabel('Recall')\n",
    "    plt.ylabel('Precision')\n",
    "    # show the legend\n",
    "    plt.legend()\n",
    "    # show the plot\n",
    "    plt.show()\n",
    "  except:\n",
    "    pass\n",
    "\n",
    "  plot_learning_curve(best_model, name, X_train, y_train, cv=cv, n_jobs=-1 )\n",
    "  plt.show()\n",
    "\n",
    "  return best_model"
   ]
  },
  {
   "cell_type": "code",
   "execution_count": 14,
   "id": "82582d12",
   "metadata": {
    "execution": {
     "iopub.execute_input": "2022-07-20T04:03:23.991633Z",
     "iopub.status.busy": "2022-07-20T04:03:23.991316Z",
     "iopub.status.idle": "2022-07-20T04:03:23.995445Z",
     "shell.execute_reply": "2022-07-20T04:03:23.994570Z"
    },
    "papermill": {
     "duration": 0.011038,
     "end_time": "2022-07-20T04:03:23.997032",
     "exception": false,
     "start_time": "2022-07-20T04:03:23.985994",
     "status": "completed"
    },
    "tags": []
   },
   "outputs": [],
   "source": [
    "pipe = Pipeline(steps=[minmax_scaler, smote, lr])"
   ]
  },
  {
   "cell_type": "code",
   "execution_count": 15,
   "id": "a4220366",
   "metadata": {
    "execution": {
     "iopub.execute_input": "2022-07-20T04:03:24.007932Z",
     "iopub.status.busy": "2022-07-20T04:03:24.006895Z",
     "iopub.status.idle": "2022-07-20T04:03:24.012863Z",
     "shell.execute_reply": "2022-07-20T04:03:24.011566Z"
    },
    "papermill": {
     "duration": 0.014101,
     "end_time": "2022-07-20T04:03:24.015651",
     "exception": false,
     "start_time": "2022-07-20T04:03:24.001550",
     "status": "completed"
    },
    "tags": []
   },
   "outputs": [],
   "source": [
    "param_grid = {**smote_param_grid, **lr_param_grid}"
   ]
  },
  {
   "cell_type": "code",
   "execution_count": 16,
   "id": "8837837f",
   "metadata": {
    "execution": {
     "iopub.execute_input": "2022-07-20T04:03:24.031292Z",
     "iopub.status.busy": "2022-07-20T04:03:24.030381Z",
     "iopub.status.idle": "2022-07-20T04:03:24.035305Z",
     "shell.execute_reply": "2022-07-20T04:03:24.034270Z"
    },
    "papermill": {
     "duration": 0.014364,
     "end_time": "2022-07-20T04:03:24.036965",
     "exception": false,
     "start_time": "2022-07-20T04:03:24.022601",
     "status": "completed"
    },
    "tags": []
   },
   "outputs": [],
   "source": [
    "search = HalvingGridSearchCV(pipe, param_grid, scoring=f_onehalf_scorer, cv=cv, verbose=3, return_train_score=True)"
   ]
  },
  {
   "cell_type": "code",
   "execution_count": 17,
   "id": "b057d6b9",
   "metadata": {
    "execution": {
     "iopub.execute_input": "2022-07-20T04:03:24.048161Z",
     "iopub.status.busy": "2022-07-20T04:03:24.047622Z",
     "iopub.status.idle": "2022-07-20T13:38:34.242309Z",
     "shell.execute_reply": "2022-07-20T13:38:34.241005Z"
    },
    "papermill": {
     "duration": 34510.405432,
     "end_time": "2022-07-20T13:38:34.447313",
     "exception": false,
     "start_time": "2022-07-20T04:03:24.041881",
     "status": "completed"
    },
    "tags": []
   },
   "outputs": [
    {
     "name": "stdout",
     "output_type": "stream",
     "text": [
      "n_iterations: 5\n",
      "n_required_iterations: 5\n",
      "n_possible_iterations: 5\n",
      "min_resources_: 13267\n",
      "max_resources_: 1074704\n",
      "aggressive_elimination: False\n",
      "factor: 3\n",
      "----------\n",
      "iter: 0\n",
      "n_candidates: 150\n",
      "n_resources: 13267\n",
      "Fitting 10 folds for each of 150 candidates, totalling 1500 fits\n",
      "[CV 1/10] END lr__C=0.01, lr__max_iter=100, lr__penalty=l2, lr__solver=newton-cg, smote__sampling_strategy=0.8;, score=(train=0.905, test=0.897) total time=   0.3s\n",
      "[CV 2/10] END lr__C=0.01, lr__max_iter=100, lr__penalty=l2, lr__solver=newton-cg, smote__sampling_strategy=0.8;, score=(train=0.901, test=0.894) total time=   0.3s\n",
      "[CV 3/10] END lr__C=0.01, lr__max_iter=100, lr__penalty=l2, lr__solver=newton-cg, smote__sampling_strategy=0.8;, score=(train=0.901, test=0.897) total time=   0.3s\n",
      "[CV 4/10] END lr__C=0.01, lr__max_iter=100, lr__penalty=l2, lr__solver=newton-cg, smote__sampling_strategy=0.8;, score=(train=0.900, test=0.891) total time=   0.3s\n",
      "[CV 5/10] END lr__C=0.01, lr__max_iter=100, lr__penalty=l2, lr__solver=newton-cg, smote__sampling_strategy=0.8;, score=(train=0.898, test=0.900) total time=   0.3s\n",
      "[CV 6/10] END lr__C=0.01, lr__max_iter=100, lr__penalty=l2, lr__solver=newton-cg, smote__sampling_strategy=0.8;, score=(train=0.896, test=0.908) total time=   0.3s\n",
      "[CV 7/10] END lr__C=0.01, lr__max_iter=100, lr__penalty=l2, lr__solver=newton-cg, smote__sampling_strategy=0.8;, score=(train=0.904, test=0.901) total time=   0.3s\n",
      "[CV 8/10] END lr__C=0.01, lr__max_iter=100, lr__penalty=l2, lr__solver=newton-cg, smote__sampling_strategy=0.8;, score=(train=0.900, test=0.898) total time=   0.3s\n",
      "[CV 9/10] END lr__C=0.01, lr__max_iter=100, lr__penalty=l2, lr__solver=newton-cg, smote__sampling_strategy=0.8;, score=(train=0.900, test=0.901) total time=   0.3s\n",
      "[CV 10/10] END lr__C=0.01, lr__max_iter=100, lr__penalty=l2, lr__solver=newton-cg, smote__sampling_strategy=0.8;, score=(train=0.897, test=0.897) total time=   0.3s\n",
      "[CV 1/10] END lr__C=0.01, lr__max_iter=100, lr__penalty=l2, lr__solver=newton-cg, smote__sampling_strategy=0.9;, score=(train=0.901, test=0.895) total time=   0.3s\n",
      "[CV 2/10] END lr__C=0.01, lr__max_iter=100, lr__penalty=l2, lr__solver=newton-cg, smote__sampling_strategy=0.9;, score=(train=0.897, test=0.890) total time=   0.3s\n",
      "[CV 3/10] END lr__C=0.01, lr__max_iter=100, lr__penalty=l2, lr__solver=newton-cg, smote__sampling_strategy=0.9;, score=(train=0.899, test=0.895) total time=   0.3s\n",
      "[CV 4/10] END lr__C=0.01, lr__max_iter=100, lr__penalty=l2, lr__solver=newton-cg, smote__sampling_strategy=0.9;, score=(train=0.901, test=0.891) total time=   0.3s\n",
      "[CV 5/10] END lr__C=0.01, lr__max_iter=100, lr__penalty=l2, lr__solver=newton-cg, smote__sampling_strategy=0.9;, score=(train=0.896, test=0.896) total time=   0.3s\n",
      "[CV 6/10] END lr__C=0.01, lr__max_iter=100, lr__penalty=l2, lr__solver=newton-cg, smote__sampling_strategy=0.9;, score=(train=0.895, test=0.907) total time=   0.3s\n",
      "[CV 7/10] END lr__C=0.01, lr__max_iter=100, lr__penalty=l2, lr__solver=newton-cg, smote__sampling_strategy=0.9;, score=(train=0.902, test=0.903) total time=   0.3s\n",
      "[CV 8/10] END lr__C=0.01, lr__max_iter=100, lr__penalty=l2, lr__solver=newton-cg, smote__sampling_strategy=0.9;, score=(train=0.897, test=0.896) total time=   0.3s\n",
      "[CV 9/10] END lr__C=0.01, lr__max_iter=100, lr__penalty=l2, lr__solver=newton-cg, smote__sampling_strategy=0.9;, score=(train=0.898, test=0.902) total time=   0.3s\n",
      "[CV 10/10] END lr__C=0.01, lr__max_iter=100, lr__penalty=l2, lr__solver=newton-cg, smote__sampling_strategy=0.9;, score=(train=0.897, test=0.895) total time=   0.3s\n",
      "[CV 1/10] END lr__C=0.01, lr__max_iter=100, lr__penalty=l2, lr__solver=newton-cg, smote__sampling_strategy=1.0;, score=(train=0.894, test=0.895) total time=   0.4s\n",
      "[CV 2/10] END lr__C=0.01, lr__max_iter=100, lr__penalty=l2, lr__solver=newton-cg, smote__sampling_strategy=1.0;, score=(train=0.894, test=0.886) total time=   0.3s\n",
      "[CV 3/10] END lr__C=0.01, lr__max_iter=100, lr__penalty=l2, lr__solver=newton-cg, smote__sampling_strategy=1.0;, score=(train=0.893, test=0.893) total time=   0.3s\n",
      "[CV 4/10] END lr__C=0.01, lr__max_iter=100, lr__penalty=l2, lr__solver=newton-cg, smote__sampling_strategy=1.0;, score=(train=0.897, test=0.886) total time=   0.3s\n",
      "[CV 5/10] END lr__C=0.01, lr__max_iter=100, lr__penalty=l2, lr__solver=newton-cg, smote__sampling_strategy=1.0;, score=(train=0.895, test=0.893) total time=   0.3s\n",
      "[CV 6/10] END lr__C=0.01, lr__max_iter=100, lr__penalty=l2, lr__solver=newton-cg, smote__sampling_strategy=1.0;, score=(train=0.891, test=0.901) total time=   0.3s\n",
      "[CV 7/10] END lr__C=0.01, lr__max_iter=100, lr__penalty=l2, lr__solver=newton-cg, smote__sampling_strategy=1.0;, score=(train=0.897, test=0.898) total time=   0.3s\n",
      "[CV 8/10] END lr__C=0.01, lr__max_iter=100, lr__penalty=l2, lr__solver=newton-cg, smote__sampling_strategy=1.0;, score=(train=0.892, test=0.891) total time=   0.3s\n",
      "[CV 9/10] END lr__C=0.01, lr__max_iter=100, lr__penalty=l2, lr__solver=newton-cg, smote__sampling_strategy=1.0;, score=(train=0.893, test=0.897) total time=   0.3s\n",
      "[CV 10/10] END lr__C=0.01, lr__max_iter=100, lr__penalty=l2, lr__solver=newton-cg, smote__sampling_strategy=1.0;, score=(train=0.893, test=0.888) total time=   0.3s\n",
      "[CV 1/10] END lr__C=0.01, lr__max_iter=100, lr__penalty=l2, lr__solver=lbfgs, smote__sampling_strategy=0.8;, score=(train=0.905, test=0.897) total time=   0.2s\n",
      "[CV 2/10] END lr__C=0.01, lr__max_iter=100, lr__penalty=l2, lr__solver=lbfgs, smote__sampling_strategy=0.8;, score=(train=0.901, test=0.894) total time=   0.2s\n",
      "[CV 3/10] END lr__C=0.01, lr__max_iter=100, lr__penalty=l2, lr__solver=lbfgs, smote__sampling_strategy=0.8;, score=(train=0.901, test=0.897) total time=   0.2s\n",
      "[CV 4/10] END lr__C=0.01, lr__max_iter=100, lr__penalty=l2, lr__solver=lbfgs, smote__sampling_strategy=0.8;, score=(train=0.900, test=0.891) total time=   0.2s\n",
      "[CV 5/10] END lr__C=0.01, lr__max_iter=100, lr__penalty=l2, lr__solver=lbfgs, smote__sampling_strategy=0.8;, score=(train=0.898, test=0.900) total time=   0.2s\n",
      "[CV 6/10] END lr__C=0.01, lr__max_iter=100, lr__penalty=l2, lr__solver=lbfgs, smote__sampling_strategy=0.8;, score=(train=0.896, test=0.908) total time=   0.2s\n",
      "[CV 7/10] END lr__C=0.01, lr__max_iter=100, lr__penalty=l2, lr__solver=lbfgs, smote__sampling_strategy=0.8;, score=(train=0.904, test=0.901) total time=   0.2s\n",
      "[CV 8/10] END lr__C=0.01, lr__max_iter=100, lr__penalty=l2, lr__solver=lbfgs, smote__sampling_strategy=0.8;, score=(train=0.900, test=0.898) total time=   0.2s\n",
      "[CV 9/10] END lr__C=0.01, lr__max_iter=100, lr__penalty=l2, lr__solver=lbfgs, smote__sampling_strategy=0.8;, score=(train=0.900, test=0.901) total time=   0.2s\n",
      "[CV 10/10] END lr__C=0.01, lr__max_iter=100, lr__penalty=l2, lr__solver=lbfgs, smote__sampling_strategy=0.8;, score=(train=0.897, test=0.897) total time=   0.2s\n",
      "[CV 1/10] END lr__C=0.01, lr__max_iter=100, lr__penalty=l2, lr__solver=lbfgs, smote__sampling_strategy=0.9;, score=(train=0.901, test=0.895) total time=   0.2s\n",
      "[CV 2/10] END lr__C=0.01, lr__max_iter=100, lr__penalty=l2, lr__solver=lbfgs, smote__sampling_strategy=0.9;, score=(train=0.897, test=0.890) total time=   0.2s\n",
      "[CV 3/10] END lr__C=0.01, lr__max_iter=100, lr__penalty=l2, lr__solver=lbfgs, smote__sampling_strategy=0.9;, score=(train=0.899, test=0.895) total time=   0.2s\n",
      "[CV 4/10] END lr__C=0.01, lr__max_iter=100, lr__penalty=l2, lr__solver=lbfgs, smote__sampling_strategy=0.9;, score=(train=0.901, test=0.891) total time=   0.2s\n",
      "[CV 5/10] END lr__C=0.01, lr__max_iter=100, lr__penalty=l2, lr__solver=lbfgs, smote__sampling_strategy=0.9;, score=(train=0.896, test=0.896) total time=   0.2s\n",
      "[CV 6/10] END lr__C=0.01, lr__max_iter=100, lr__penalty=l2, lr__solver=lbfgs, smote__sampling_strategy=0.9;, score=(train=0.895, test=0.907) total time=   0.2s\n",
      "[CV 7/10] END lr__C=0.01, lr__max_iter=100, lr__penalty=l2, lr__solver=lbfgs, smote__sampling_strategy=0.9;, score=(train=0.902, test=0.903) total time=   0.2s\n",
      "[CV 8/10] END lr__C=0.01, lr__max_iter=100, lr__penalty=l2, lr__solver=lbfgs, smote__sampling_strategy=0.9;, score=(train=0.897, test=0.896) total time=   0.2s\n",
      "[CV 9/10] END lr__C=0.01, lr__max_iter=100, lr__penalty=l2, lr__solver=lbfgs, smote__sampling_strategy=0.9;, score=(train=0.898, test=0.902) total time=   0.2s\n",
      "[CV 10/10] END lr__C=0.01, lr__max_iter=100, lr__penalty=l2, lr__solver=lbfgs, smote__sampling_strategy=0.9;, score=(train=0.897, test=0.895) total time=   0.2s\n",
      "[CV 1/10] END lr__C=0.01, lr__max_iter=100, lr__penalty=l2, lr__solver=lbfgs, smote__sampling_strategy=1.0;, score=(train=0.894, test=0.895) total time=   0.2s\n",
      "[CV 2/10] END lr__C=0.01, lr__max_iter=100, lr__penalty=l2, lr__solver=lbfgs, smote__sampling_strategy=1.0;, score=(train=0.894, test=0.886) total time=   0.2s\n",
      "[CV 3/10] END lr__C=0.01, lr__max_iter=100, lr__penalty=l2, lr__solver=lbfgs, smote__sampling_strategy=1.0;, score=(train=0.893, test=0.893) total time=   0.2s\n",
      "[CV 4/10] END lr__C=0.01, lr__max_iter=100, lr__penalty=l2, lr__solver=lbfgs, smote__sampling_strategy=1.0;, score=(train=0.897, test=0.886) total time=   0.2s\n",
      "[CV 5/10] END lr__C=0.01, lr__max_iter=100, lr__penalty=l2, lr__solver=lbfgs, smote__sampling_strategy=1.0;, score=(train=0.895, test=0.893) total time=   0.2s\n",
      "[CV 6/10] END lr__C=0.01, lr__max_iter=100, lr__penalty=l2, lr__solver=lbfgs, smote__sampling_strategy=1.0;, score=(train=0.891, test=0.901) total time=   0.2s\n",
      "[CV 7/10] END lr__C=0.01, lr__max_iter=100, lr__penalty=l2, lr__solver=lbfgs, smote__sampling_strategy=1.0;, score=(train=0.897, test=0.898) total time=   0.2s\n",
      "[CV 8/10] END lr__C=0.01, lr__max_iter=100, lr__penalty=l2, lr__solver=lbfgs, smote__sampling_strategy=1.0;, score=(train=0.892, test=0.891) total time=   0.2s\n",
      "[CV 9/10] END lr__C=0.01, lr__max_iter=100, lr__penalty=l2, lr__solver=lbfgs, smote__sampling_strategy=1.0;, score=(train=0.893, test=0.897) total time=   0.2s\n",
      "[CV 10/10] END lr__C=0.01, lr__max_iter=100, lr__penalty=l2, lr__solver=lbfgs, smote__sampling_strategy=1.0;, score=(train=0.893, test=0.888) total time=   0.2s\n",
      "[CV 1/10] END lr__C=0.01, lr__max_iter=100, lr__penalty=l2, lr__solver=liblinear, smote__sampling_strategy=0.8;, score=(train=0.905, test=0.898) total time=   0.2s\n",
      "[CV 2/10] END lr__C=0.01, lr__max_iter=100, lr__penalty=l2, lr__solver=liblinear, smote__sampling_strategy=0.8;, score=(train=0.900, test=0.899) total time=   0.2s\n",
      "[CV 3/10] END lr__C=0.01, lr__max_iter=100, lr__penalty=l2, lr__solver=liblinear, smote__sampling_strategy=0.8;, score=(train=0.902, test=0.899) total time=   0.2s\n",
      "[CV 4/10] END lr__C=0.01, lr__max_iter=100, lr__penalty=l2, lr__solver=liblinear, smote__sampling_strategy=0.8;, score=(train=0.900, test=0.890) total time=   0.2s\n",
      "[CV 5/10] END lr__C=0.01, lr__max_iter=100, lr__penalty=l2, lr__solver=liblinear, smote__sampling_strategy=0.8;, score=(train=0.898, test=0.900) total time=   0.2s\n",
      "[CV 6/10] END lr__C=0.01, lr__max_iter=100, lr__penalty=l2, lr__solver=liblinear, smote__sampling_strategy=0.8;, score=(train=0.896, test=0.908) total time=   0.2s\n",
      "[CV 7/10] END lr__C=0.01, lr__max_iter=100, lr__penalty=l2, lr__solver=liblinear, smote__sampling_strategy=0.8;, score=(train=0.904, test=0.902) total time=   0.2s\n",
      "[CV 8/10] END lr__C=0.01, lr__max_iter=100, lr__penalty=l2, lr__solver=liblinear, smote__sampling_strategy=0.8;, score=(train=0.900, test=0.901) total time=   0.2s\n",
      "[CV 9/10] END lr__C=0.01, lr__max_iter=100, lr__penalty=l2, lr__solver=liblinear, smote__sampling_strategy=0.8;, score=(train=0.901, test=0.904) total time=   0.2s\n",
      "[CV 10/10] END lr__C=0.01, lr__max_iter=100, lr__penalty=l2, lr__solver=liblinear, smote__sampling_strategy=0.8;, score=(train=0.898, test=0.897) total time=   0.2s\n",
      "[CV 1/10] END lr__C=0.01, lr__max_iter=100, lr__penalty=l2, lr__solver=liblinear, smote__sampling_strategy=0.9;, score=(train=0.899, test=0.895) total time=   0.2s\n",
      "[CV 2/10] END lr__C=0.01, lr__max_iter=100, lr__penalty=l2, lr__solver=liblinear, smote__sampling_strategy=0.9;, score=(train=0.896, test=0.889) total time=   0.2s\n",
      "[CV 3/10] END lr__C=0.01, lr__max_iter=100, lr__penalty=l2, lr__solver=liblinear, smote__sampling_strategy=0.9;, score=(train=0.898, test=0.896) total time=   0.2s\n",
      "[CV 4/10] END lr__C=0.01, lr__max_iter=100, lr__penalty=l2, lr__solver=liblinear, smote__sampling_strategy=0.9;, score=(train=0.900, test=0.892) total time=   0.2s\n",
      "[CV 5/10] END lr__C=0.01, lr__max_iter=100, lr__penalty=l2, lr__solver=liblinear, smote__sampling_strategy=0.9;, score=(train=0.897, test=0.899) total time=   0.2s\n",
      "[CV 6/10] END lr__C=0.01, lr__max_iter=100, lr__penalty=l2, lr__solver=liblinear, smote__sampling_strategy=0.9;, score=(train=0.895, test=0.906) total time=   0.2s\n",
      "[CV 7/10] END lr__C=0.01, lr__max_iter=100, lr__penalty=l2, lr__solver=liblinear, smote__sampling_strategy=0.9;, score=(train=0.902, test=0.902) total time=   0.2s\n",
      "[CV 8/10] END lr__C=0.01, lr__max_iter=100, lr__penalty=l2, lr__solver=liblinear, smote__sampling_strategy=0.9;, score=(train=0.896, test=0.897) total time=   0.2s\n",
      "[CV 9/10] END lr__C=0.01, lr__max_iter=100, lr__penalty=l2, lr__solver=liblinear, smote__sampling_strategy=0.9;, score=(train=0.897, test=0.903) total time=   0.2s\n",
      "[CV 10/10] END lr__C=0.01, lr__max_iter=100, lr__penalty=l2, lr__solver=liblinear, smote__sampling_strategy=0.9;, score=(train=0.895, test=0.894) total time=   0.2s\n",
      "[CV 1/10] END lr__C=0.01, lr__max_iter=100, lr__penalty=l2, lr__solver=liblinear, smote__sampling_strategy=1.0;, score=(train=0.893, test=0.892) total time=   0.2s\n",
      "[CV 2/10] END lr__C=0.01, lr__max_iter=100, lr__penalty=l2, lr__solver=liblinear, smote__sampling_strategy=1.0;, score=(train=0.893, test=0.885) total time=   0.2s\n",
      "[CV 3/10] END lr__C=0.01, lr__max_iter=100, lr__penalty=l2, lr__solver=liblinear, smote__sampling_strategy=1.0;, score=(train=0.892, test=0.892) total time=   0.2s\n",
      "[CV 4/10] END lr__C=0.01, lr__max_iter=100, lr__penalty=l2, lr__solver=liblinear, smote__sampling_strategy=1.0;, score=(train=0.897, test=0.885) total time=   0.2s\n",
      "[CV 5/10] END lr__C=0.01, lr__max_iter=100, lr__penalty=l2, lr__solver=liblinear, smote__sampling_strategy=1.0;, score=(train=0.893, test=0.892) total time=   0.2s\n",
      "[CV 6/10] END lr__C=0.01, lr__max_iter=100, lr__penalty=l2, lr__solver=liblinear, smote__sampling_strategy=1.0;, score=(train=0.890, test=0.900) total time=   0.2s\n",
      "[CV 7/10] END lr__C=0.01, lr__max_iter=100, lr__penalty=l2, lr__solver=liblinear, smote__sampling_strategy=1.0;, score=(train=0.897, test=0.896) total time=   0.2s\n",
      "[CV 8/10] END lr__C=0.01, lr__max_iter=100, lr__penalty=l2, lr__solver=liblinear, smote__sampling_strategy=1.0;, score=(train=0.892, test=0.889) total time=   0.2s\n",
      "[CV 9/10] END lr__C=0.01, lr__max_iter=100, lr__penalty=l2, lr__solver=liblinear, smote__sampling_strategy=1.0;, score=(train=0.893, test=0.896) total time=   0.2s\n",
      "[CV 10/10] END lr__C=0.01, lr__max_iter=100, lr__penalty=l2, lr__solver=liblinear, smote__sampling_strategy=1.0;, score=(train=0.892, test=0.888) total time=   0.2s\n",
      "[CV 1/10] END lr__C=0.01, lr__max_iter=100, lr__penalty=l2, lr__solver=sag, smote__sampling_strategy=0.8;, score=(train=0.905, test=0.897) total time=   0.4s\n",
      "[CV 2/10] END lr__C=0.01, lr__max_iter=100, lr__penalty=l2, lr__solver=sag, smote__sampling_strategy=0.8;, score=(train=0.901, test=0.894) total time=   0.4s\n",
      "[CV 3/10] END lr__C=0.01, lr__max_iter=100, lr__penalty=l2, lr__solver=sag, smote__sampling_strategy=0.8;, score=(train=0.901, test=0.897) total time=   0.4s\n",
      "[CV 4/10] END lr__C=0.01, lr__max_iter=100, lr__penalty=l2, lr__solver=sag, smote__sampling_strategy=0.8;, score=(train=0.900, test=0.891) total time=   0.4s\n",
      "[CV 5/10] END lr__C=0.01, lr__max_iter=100, lr__penalty=l2, lr__solver=sag, smote__sampling_strategy=0.8;, score=(train=0.898, test=0.900) total time=   0.4s\n",
      "[CV 6/10] END lr__C=0.01, lr__max_iter=100, lr__penalty=l2, lr__solver=sag, smote__sampling_strategy=0.8;, score=(train=0.896, test=0.908) total time=   0.4s\n",
      "[CV 7/10] END lr__C=0.01, lr__max_iter=100, lr__penalty=l2, lr__solver=sag, smote__sampling_strategy=0.8;, score=(train=0.904, test=0.901) total time=   0.4s\n",
      "[CV 8/10] END lr__C=0.01, lr__max_iter=100, lr__penalty=l2, lr__solver=sag, smote__sampling_strategy=0.8;, score=(train=0.900, test=0.898) total time=   0.4s\n",
      "[CV 9/10] END lr__C=0.01, lr__max_iter=100, lr__penalty=l2, lr__solver=sag, smote__sampling_strategy=0.8;, score=(train=0.900, test=0.901) total time=   0.4s\n",
      "[CV 10/10] END lr__C=0.01, lr__max_iter=100, lr__penalty=l2, lr__solver=sag, smote__sampling_strategy=0.8;, score=(train=0.897, test=0.897) total time=   0.5s\n",
      "[CV 1/10] END lr__C=0.01, lr__max_iter=100, lr__penalty=l2, lr__solver=sag, smote__sampling_strategy=0.9;, score=(train=0.901, test=0.895) total time=   0.4s\n",
      "[CV 2/10] END lr__C=0.01, lr__max_iter=100, lr__penalty=l2, lr__solver=sag, smote__sampling_strategy=0.9;, score=(train=0.897, test=0.890) total time=   0.4s\n",
      "[CV 3/10] END lr__C=0.01, lr__max_iter=100, lr__penalty=l2, lr__solver=sag, smote__sampling_strategy=0.9;, score=(train=0.899, test=0.895) total time=   0.4s\n",
      "[CV 4/10] END lr__C=0.01, lr__max_iter=100, lr__penalty=l2, lr__solver=sag, smote__sampling_strategy=0.9;, score=(train=0.901, test=0.891) total time=   0.4s\n",
      "[CV 5/10] END lr__C=0.01, lr__max_iter=100, lr__penalty=l2, lr__solver=sag, smote__sampling_strategy=0.9;, score=(train=0.896, test=0.897) total time=   0.4s\n",
      "[CV 6/10] END lr__C=0.01, lr__max_iter=100, lr__penalty=l2, lr__solver=sag, smote__sampling_strategy=0.9;, score=(train=0.895, test=0.907) total time=   0.4s\n",
      "[CV 7/10] END lr__C=0.01, lr__max_iter=100, lr__penalty=l2, lr__solver=sag, smote__sampling_strategy=0.9;, score=(train=0.902, test=0.903) total time=   0.4s\n",
      "[CV 8/10] END lr__C=0.01, lr__max_iter=100, lr__penalty=l2, lr__solver=sag, smote__sampling_strategy=0.9;, score=(train=0.897, test=0.896) total time=   0.4s\n",
      "[CV 9/10] END lr__C=0.01, lr__max_iter=100, lr__penalty=l2, lr__solver=sag, smote__sampling_strategy=0.9;, score=(train=0.898, test=0.902) total time=   0.4s\n",
      "[CV 10/10] END lr__C=0.01, lr__max_iter=100, lr__penalty=l2, lr__solver=sag, smote__sampling_strategy=0.9;, score=(train=0.897, test=0.895) total time=   0.4s\n",
      "[CV 1/10] END lr__C=0.01, lr__max_iter=100, lr__penalty=l2, lr__solver=sag, smote__sampling_strategy=1.0;, score=(train=0.894, test=0.895) total time=   0.4s\n",
      "[CV 2/10] END lr__C=0.01, lr__max_iter=100, lr__penalty=l2, lr__solver=sag, smote__sampling_strategy=1.0;, score=(train=0.894, test=0.886) total time=   0.5s\n",
      "[CV 3/10] END lr__C=0.01, lr__max_iter=100, lr__penalty=l2, lr__solver=sag, smote__sampling_strategy=1.0;, score=(train=0.893, test=0.893) total time=   0.4s\n",
      "[CV 4/10] END lr__C=0.01, lr__max_iter=100, lr__penalty=l2, lr__solver=sag, smote__sampling_strategy=1.0;, score=(train=0.897, test=0.886) total time=   0.4s\n",
      "[CV 5/10] END lr__C=0.01, lr__max_iter=100, lr__penalty=l2, lr__solver=sag, smote__sampling_strategy=1.0;, score=(train=0.895, test=0.893) total time=   0.4s\n",
      "[CV 6/10] END lr__C=0.01, lr__max_iter=100, lr__penalty=l2, lr__solver=sag, smote__sampling_strategy=1.0;, score=(train=0.891, test=0.901) total time=   0.5s\n",
      "[CV 7/10] END lr__C=0.01, lr__max_iter=100, lr__penalty=l2, lr__solver=sag, smote__sampling_strategy=1.0;, score=(train=0.897, test=0.898) total time=   0.5s\n",
      "[CV 8/10] END lr__C=0.01, lr__max_iter=100, lr__penalty=l2, lr__solver=sag, smote__sampling_strategy=1.0;, score=(train=0.892, test=0.891) total time=   0.4s\n",
      "[CV 9/10] END lr__C=0.01, lr__max_iter=100, lr__penalty=l2, lr__solver=sag, smote__sampling_strategy=1.0;, score=(train=0.893, test=0.897) total time=   0.4s\n",
      "[CV 10/10] END lr__C=0.01, lr__max_iter=100, lr__penalty=l2, lr__solver=sag, smote__sampling_strategy=1.0;, score=(train=0.893, test=0.888) total time=   0.4s\n",
      "[CV 1/10] END lr__C=0.01, lr__max_iter=100, lr__penalty=l2, lr__solver=saga, smote__sampling_strategy=0.8;, score=(train=0.905, test=0.897) total time=   0.5s\n",
      "[CV 2/10] END lr__C=0.01, lr__max_iter=100, lr__penalty=l2, lr__solver=saga, smote__sampling_strategy=0.8;, score=(train=0.901, test=0.894) total time=   0.5s\n",
      "[CV 3/10] END lr__C=0.01, lr__max_iter=100, lr__penalty=l2, lr__solver=saga, smote__sampling_strategy=0.8;, score=(train=0.901, test=0.897) total time=   0.5s\n",
      "[CV 4/10] END lr__C=0.01, lr__max_iter=100, lr__penalty=l2, lr__solver=saga, smote__sampling_strategy=0.8;, score=(train=0.900, test=0.891) total time=   0.5s\n",
      "[CV 5/10] END lr__C=0.01, lr__max_iter=100, lr__penalty=l2, lr__solver=saga, smote__sampling_strategy=0.8;, score=(train=0.898, test=0.900) total time=   0.5s\n",
      "[CV 6/10] END lr__C=0.01, lr__max_iter=100, lr__penalty=l2, lr__solver=saga, smote__sampling_strategy=0.8;, score=(train=0.896, test=0.908) total time=   0.5s\n",
      "[CV 7/10] END lr__C=0.01, lr__max_iter=100, lr__penalty=l2, lr__solver=saga, smote__sampling_strategy=0.8;, score=(train=0.904, test=0.901) total time=   0.5s\n",
      "[CV 8/10] END lr__C=0.01, lr__max_iter=100, lr__penalty=l2, lr__solver=saga, smote__sampling_strategy=0.8;, score=(train=0.900, test=0.898) total time=   0.5s\n",
      "[CV 9/10] END lr__C=0.01, lr__max_iter=100, lr__penalty=l2, lr__solver=saga, smote__sampling_strategy=0.8;, score=(train=0.900, test=0.901) total time=   0.5s\n",
      "[CV 10/10] END lr__C=0.01, lr__max_iter=100, lr__penalty=l2, lr__solver=saga, smote__sampling_strategy=0.8;, score=(train=0.897, test=0.897) total time=   0.5s\n",
      "[CV 1/10] END lr__C=0.01, lr__max_iter=100, lr__penalty=l2, lr__solver=saga, smote__sampling_strategy=0.9;, score=(train=0.901, test=0.895) total time=   0.5s\n",
      "[CV 2/10] END lr__C=0.01, lr__max_iter=100, lr__penalty=l2, lr__solver=saga, smote__sampling_strategy=0.9;, score=(train=0.897, test=0.890) total time=   0.5s\n",
      "[CV 3/10] END lr__C=0.01, lr__max_iter=100, lr__penalty=l2, lr__solver=saga, smote__sampling_strategy=0.9;, score=(train=0.899, test=0.895) total time=   0.5s\n",
      "[CV 4/10] END lr__C=0.01, lr__max_iter=100, lr__penalty=l2, lr__solver=saga, smote__sampling_strategy=0.9;, score=(train=0.901, test=0.891) total time=   0.5s\n",
      "[CV 5/10] END lr__C=0.01, lr__max_iter=100, lr__penalty=l2, lr__solver=saga, smote__sampling_strategy=0.9;, score=(train=0.896, test=0.897) total time=   0.5s\n",
      "[CV 6/10] END lr__C=0.01, lr__max_iter=100, lr__penalty=l2, lr__solver=saga, smote__sampling_strategy=0.9;, score=(train=0.895, test=0.907) total time=   0.6s\n",
      "[CV 7/10] END lr__C=0.01, lr__max_iter=100, lr__penalty=l2, lr__solver=saga, smote__sampling_strategy=0.9;, score=(train=0.902, test=0.903) total time=   0.5s\n",
      "[CV 8/10] END lr__C=0.01, lr__max_iter=100, lr__penalty=l2, lr__solver=saga, smote__sampling_strategy=0.9;, score=(train=0.897, test=0.896) total time=   0.6s\n",
      "[CV 9/10] END lr__C=0.01, lr__max_iter=100, lr__penalty=l2, lr__solver=saga, smote__sampling_strategy=0.9;, score=(train=0.898, test=0.902) total time=   0.5s\n",
      "[CV 10/10] END lr__C=0.01, lr__max_iter=100, lr__penalty=l2, lr__solver=saga, smote__sampling_strategy=0.9;, score=(train=0.897, test=0.895) total time=   0.5s\n",
      "[CV 1/10] END lr__C=0.01, lr__max_iter=100, lr__penalty=l2, lr__solver=saga, smote__sampling_strategy=1.0;, score=(train=0.894, test=0.895) total time=   0.5s\n",
      "[CV 2/10] END lr__C=0.01, lr__max_iter=100, lr__penalty=l2, lr__solver=saga, smote__sampling_strategy=1.0;, score=(train=0.894, test=0.886) total time=   0.5s\n",
      "[CV 3/10] END lr__C=0.01, lr__max_iter=100, lr__penalty=l2, lr__solver=saga, smote__sampling_strategy=1.0;, score=(train=0.893, test=0.893) total time=   0.5s\n",
      "[CV 4/10] END lr__C=0.01, lr__max_iter=100, lr__penalty=l2, lr__solver=saga, smote__sampling_strategy=1.0;, score=(train=0.897, test=0.886) total time=   0.6s\n",
      "[CV 5/10] END lr__C=0.01, lr__max_iter=100, lr__penalty=l2, lr__solver=saga, smote__sampling_strategy=1.0;, score=(train=0.895, test=0.893) total time=   0.5s\n",
      "[CV 6/10] END lr__C=0.01, lr__max_iter=100, lr__penalty=l2, lr__solver=saga, smote__sampling_strategy=1.0;, score=(train=0.891, test=0.901) total time=   0.5s\n",
      "[CV 7/10] END lr__C=0.01, lr__max_iter=100, lr__penalty=l2, lr__solver=saga, smote__sampling_strategy=1.0;, score=(train=0.897, test=0.898) total time=   0.5s\n",
      "[CV 8/10] END lr__C=0.01, lr__max_iter=100, lr__penalty=l2, lr__solver=saga, smote__sampling_strategy=1.0;, score=(train=0.892, test=0.891) total time=   0.5s\n",
      "[CV 9/10] END lr__C=0.01, lr__max_iter=100, lr__penalty=l2, lr__solver=saga, smote__sampling_strategy=1.0;, score=(train=0.893, test=0.897) total time=   0.5s\n",
      "[CV 10/10] END lr__C=0.01, lr__max_iter=100, lr__penalty=l2, lr__solver=saga, smote__sampling_strategy=1.0;, score=(train=0.893, test=0.888) total time=   0.5s\n",
      "[CV 1/10] END lr__C=0.01, lr__max_iter=500, lr__penalty=l2, lr__solver=newton-cg, smote__sampling_strategy=0.8;, score=(train=0.905, test=0.897) total time=   0.3s\n",
      "[CV 2/10] END lr__C=0.01, lr__max_iter=500, lr__penalty=l2, lr__solver=newton-cg, smote__sampling_strategy=0.8;, score=(train=0.901, test=0.894) total time=   0.3s\n",
      "[CV 3/10] END lr__C=0.01, lr__max_iter=500, lr__penalty=l2, lr__solver=newton-cg, smote__sampling_strategy=0.8;, score=(train=0.901, test=0.897) total time=   0.3s\n",
      "[CV 4/10] END lr__C=0.01, lr__max_iter=500, lr__penalty=l2, lr__solver=newton-cg, smote__sampling_strategy=0.8;, score=(train=0.900, test=0.891) total time=   0.3s\n",
      "[CV 5/10] END lr__C=0.01, lr__max_iter=500, lr__penalty=l2, lr__solver=newton-cg, smote__sampling_strategy=0.8;, score=(train=0.898, test=0.900) total time=   0.4s\n",
      "[CV 6/10] END lr__C=0.01, lr__max_iter=500, lr__penalty=l2, lr__solver=newton-cg, smote__sampling_strategy=0.8;, score=(train=0.896, test=0.908) total time=   0.3s\n",
      "[CV 7/10] END lr__C=0.01, lr__max_iter=500, lr__penalty=l2, lr__solver=newton-cg, smote__sampling_strategy=0.8;, score=(train=0.904, test=0.901) total time=   0.3s\n",
      "[CV 8/10] END lr__C=0.01, lr__max_iter=500, lr__penalty=l2, lr__solver=newton-cg, smote__sampling_strategy=0.8;, score=(train=0.900, test=0.898) total time=   0.3s\n",
      "[CV 9/10] END lr__C=0.01, lr__max_iter=500, lr__penalty=l2, lr__solver=newton-cg, smote__sampling_strategy=0.8;, score=(train=0.900, test=0.901) total time=   0.3s\n",
      "[CV 10/10] END lr__C=0.01, lr__max_iter=500, lr__penalty=l2, lr__solver=newton-cg, smote__sampling_strategy=0.8;, score=(train=0.897, test=0.897) total time=   0.3s\n",
      "[CV 1/10] END lr__C=0.01, lr__max_iter=500, lr__penalty=l2, lr__solver=newton-cg, smote__sampling_strategy=0.9;, score=(train=0.901, test=0.895) total time=   0.3s\n",
      "[CV 2/10] END lr__C=0.01, lr__max_iter=500, lr__penalty=l2, lr__solver=newton-cg, smote__sampling_strategy=0.9;, score=(train=0.897, test=0.890) total time=   0.3s\n",
      "[CV 3/10] END lr__C=0.01, lr__max_iter=500, lr__penalty=l2, lr__solver=newton-cg, smote__sampling_strategy=0.9;, score=(train=0.899, test=0.895) total time=   0.3s\n",
      "[CV 4/10] END lr__C=0.01, lr__max_iter=500, lr__penalty=l2, lr__solver=newton-cg, smote__sampling_strategy=0.9;, score=(train=0.901, test=0.891) total time=   0.3s\n",
      "[CV 5/10] END lr__C=0.01, lr__max_iter=500, lr__penalty=l2, lr__solver=newton-cg, smote__sampling_strategy=0.9;, score=(train=0.896, test=0.896) total time=   0.3s\n",
      "[CV 6/10] END lr__C=0.01, lr__max_iter=500, lr__penalty=l2, lr__solver=newton-cg, smote__sampling_strategy=0.9;, score=(train=0.895, test=0.907) total time=   0.3s\n",
      "[CV 7/10] END lr__C=0.01, lr__max_iter=500, lr__penalty=l2, lr__solver=newton-cg, smote__sampling_strategy=0.9;, score=(train=0.902, test=0.903) total time=   0.3s\n",
      "[CV 8/10] END lr__C=0.01, lr__max_iter=500, lr__penalty=l2, lr__solver=newton-cg, smote__sampling_strategy=0.9;, score=(train=0.897, test=0.896) total time=   0.3s\n",
      "[CV 9/10] END lr__C=0.01, lr__max_iter=500, lr__penalty=l2, lr__solver=newton-cg, smote__sampling_strategy=0.9;, score=(train=0.898, test=0.902) total time=   0.3s\n",
      "[CV 10/10] END lr__C=0.01, lr__max_iter=500, lr__penalty=l2, lr__solver=newton-cg, smote__sampling_strategy=0.9;, score=(train=0.897, test=0.895) total time=   0.3s\n",
      "[CV 1/10] END lr__C=0.01, lr__max_iter=500, lr__penalty=l2, lr__solver=newton-cg, smote__sampling_strategy=1.0;, score=(train=0.894, test=0.895) total time=   0.3s\n",
      "[CV 2/10] END lr__C=0.01, lr__max_iter=500, lr__penalty=l2, lr__solver=newton-cg, smote__sampling_strategy=1.0;, score=(train=0.894, test=0.886) total time=   0.3s\n",
      "[CV 3/10] END lr__C=0.01, lr__max_iter=500, lr__penalty=l2, lr__solver=newton-cg, smote__sampling_strategy=1.0;, score=(train=0.893, test=0.893) total time=   0.3s\n",
      "[CV 4/10] END lr__C=0.01, lr__max_iter=500, lr__penalty=l2, lr__solver=newton-cg, smote__sampling_strategy=1.0;, score=(train=0.897, test=0.886) total time=   0.3s\n",
      "[CV 5/10] END lr__C=0.01, lr__max_iter=500, lr__penalty=l2, lr__solver=newton-cg, smote__sampling_strategy=1.0;, score=(train=0.895, test=0.893) total time=   0.3s\n",
      "[CV 6/10] END lr__C=0.01, lr__max_iter=500, lr__penalty=l2, lr__solver=newton-cg, smote__sampling_strategy=1.0;, score=(train=0.891, test=0.901) total time=   0.3s\n",
      "[CV 7/10] END lr__C=0.01, lr__max_iter=500, lr__penalty=l2, lr__solver=newton-cg, smote__sampling_strategy=1.0;, score=(train=0.897, test=0.898) total time=   0.3s\n",
      "[CV 8/10] END lr__C=0.01, lr__max_iter=500, lr__penalty=l2, lr__solver=newton-cg, smote__sampling_strategy=1.0;, score=(train=0.892, test=0.891) total time=   0.3s\n",
      "[CV 9/10] END lr__C=0.01, lr__max_iter=500, lr__penalty=l2, lr__solver=newton-cg, smote__sampling_strategy=1.0;, score=(train=0.893, test=0.897) total time=   0.3s\n",
      "[CV 10/10] END lr__C=0.01, lr__max_iter=500, lr__penalty=l2, lr__solver=newton-cg, smote__sampling_strategy=1.0;, score=(train=0.893, test=0.888) total time=   0.3s\n",
      "[CV 1/10] END lr__C=0.01, lr__max_iter=500, lr__penalty=l2, lr__solver=lbfgs, smote__sampling_strategy=0.8;, score=(train=0.905, test=0.897) total time=   0.2s\n",
      "[CV 2/10] END lr__C=0.01, lr__max_iter=500, lr__penalty=l2, lr__solver=lbfgs, smote__sampling_strategy=0.8;, score=(train=0.901, test=0.894) total time=   0.2s\n",
      "[CV 3/10] END lr__C=0.01, lr__max_iter=500, lr__penalty=l2, lr__solver=lbfgs, smote__sampling_strategy=0.8;, score=(train=0.901, test=0.897) total time=   0.2s\n",
      "[CV 4/10] END lr__C=0.01, lr__max_iter=500, lr__penalty=l2, lr__solver=lbfgs, smote__sampling_strategy=0.8;, score=(train=0.900, test=0.891) total time=   0.2s\n",
      "[CV 5/10] END lr__C=0.01, lr__max_iter=500, lr__penalty=l2, lr__solver=lbfgs, smote__sampling_strategy=0.8;, score=(train=0.898, test=0.900) total time=   0.2s\n",
      "[CV 6/10] END lr__C=0.01, lr__max_iter=500, lr__penalty=l2, lr__solver=lbfgs, smote__sampling_strategy=0.8;, score=(train=0.896, test=0.908) total time=   0.2s\n",
      "[CV 7/10] END lr__C=0.01, lr__max_iter=500, lr__penalty=l2, lr__solver=lbfgs, smote__sampling_strategy=0.8;, score=(train=0.904, test=0.901) total time=   0.2s\n",
      "[CV 8/10] END lr__C=0.01, lr__max_iter=500, lr__penalty=l2, lr__solver=lbfgs, smote__sampling_strategy=0.8;, score=(train=0.900, test=0.898) total time=   0.2s\n",
      "[CV 9/10] END lr__C=0.01, lr__max_iter=500, lr__penalty=l2, lr__solver=lbfgs, smote__sampling_strategy=0.8;, score=(train=0.900, test=0.901) total time=   0.2s\n",
      "[CV 10/10] END lr__C=0.01, lr__max_iter=500, lr__penalty=l2, lr__solver=lbfgs, smote__sampling_strategy=0.8;, score=(train=0.897, test=0.897) total time=   0.2s\n",
      "[CV 1/10] END lr__C=0.01, lr__max_iter=500, lr__penalty=l2, lr__solver=lbfgs, smote__sampling_strategy=0.9;, score=(train=0.901, test=0.895) total time=   0.2s\n",
      "[CV 2/10] END lr__C=0.01, lr__max_iter=500, lr__penalty=l2, lr__solver=lbfgs, smote__sampling_strategy=0.9;, score=(train=0.897, test=0.890) total time=   0.2s\n",
      "[CV 3/10] END lr__C=0.01, lr__max_iter=500, lr__penalty=l2, lr__solver=lbfgs, smote__sampling_strategy=0.9;, score=(train=0.899, test=0.895) total time=   0.2s\n",
      "[CV 4/10] END lr__C=0.01, lr__max_iter=500, lr__penalty=l2, lr__solver=lbfgs, smote__sampling_strategy=0.9;, score=(train=0.901, test=0.891) total time=   0.2s\n",
      "[CV 5/10] END lr__C=0.01, lr__max_iter=500, lr__penalty=l2, lr__solver=lbfgs, smote__sampling_strategy=0.9;, score=(train=0.896, test=0.896) total time=   0.2s\n",
      "[CV 6/10] END lr__C=0.01, lr__max_iter=500, lr__penalty=l2, lr__solver=lbfgs, smote__sampling_strategy=0.9;, score=(train=0.895, test=0.907) total time=   0.2s\n",
      "[CV 7/10] END lr__C=0.01, lr__max_iter=500, lr__penalty=l2, lr__solver=lbfgs, smote__sampling_strategy=0.9;, score=(train=0.902, test=0.903) total time=   0.2s\n",
      "[CV 8/10] END lr__C=0.01, lr__max_iter=500, lr__penalty=l2, lr__solver=lbfgs, smote__sampling_strategy=0.9;, score=(train=0.897, test=0.896) total time=   0.2s\n",
      "[CV 9/10] END lr__C=0.01, lr__max_iter=500, lr__penalty=l2, lr__solver=lbfgs, smote__sampling_strategy=0.9;, score=(train=0.898, test=0.902) total time=   0.2s\n",
      "[CV 10/10] END lr__C=0.01, lr__max_iter=500, lr__penalty=l2, lr__solver=lbfgs, smote__sampling_strategy=0.9;, score=(train=0.897, test=0.895) total time=   0.2s\n",
      "[CV 1/10] END lr__C=0.01, lr__max_iter=500, lr__penalty=l2, lr__solver=lbfgs, smote__sampling_strategy=1.0;, score=(train=0.894, test=0.895) total time=   0.2s\n",
      "[CV 2/10] END lr__C=0.01, lr__max_iter=500, lr__penalty=l2, lr__solver=lbfgs, smote__sampling_strategy=1.0;, score=(train=0.894, test=0.886) total time=   0.2s\n",
      "[CV 3/10] END lr__C=0.01, lr__max_iter=500, lr__penalty=l2, lr__solver=lbfgs, smote__sampling_strategy=1.0;, score=(train=0.893, test=0.893) total time=   0.2s\n",
      "[CV 4/10] END lr__C=0.01, lr__max_iter=500, lr__penalty=l2, lr__solver=lbfgs, smote__sampling_strategy=1.0;, score=(train=0.897, test=0.886) total time=   0.2s\n",
      "[CV 5/10] END lr__C=0.01, lr__max_iter=500, lr__penalty=l2, lr__solver=lbfgs, smote__sampling_strategy=1.0;, score=(train=0.895, test=0.893) total time=   0.2s\n",
      "[CV 6/10] END lr__C=0.01, lr__max_iter=500, lr__penalty=l2, lr__solver=lbfgs, smote__sampling_strategy=1.0;, score=(train=0.891, test=0.901) total time=   0.2s\n",
      "[CV 7/10] END lr__C=0.01, lr__max_iter=500, lr__penalty=l2, lr__solver=lbfgs, smote__sampling_strategy=1.0;, score=(train=0.897, test=0.898) total time=   0.2s\n",
      "[CV 8/10] END lr__C=0.01, lr__max_iter=500, lr__penalty=l2, lr__solver=lbfgs, smote__sampling_strategy=1.0;, score=(train=0.892, test=0.891) total time=   0.2s\n",
      "[CV 9/10] END lr__C=0.01, lr__max_iter=500, lr__penalty=l2, lr__solver=lbfgs, smote__sampling_strategy=1.0;, score=(train=0.893, test=0.897) total time=   0.2s\n",
      "[CV 10/10] END lr__C=0.01, lr__max_iter=500, lr__penalty=l2, lr__solver=lbfgs, smote__sampling_strategy=1.0;, score=(train=0.893, test=0.888) total time=   0.2s\n",
      "[CV 1/10] END lr__C=0.01, lr__max_iter=500, lr__penalty=l2, lr__solver=liblinear, smote__sampling_strategy=0.8;, score=(train=0.905, test=0.898) total time=   0.2s\n",
      "[CV 2/10] END lr__C=0.01, lr__max_iter=500, lr__penalty=l2, lr__solver=liblinear, smote__sampling_strategy=0.8;, score=(train=0.900, test=0.899) total time=   0.2s\n",
      "[CV 3/10] END lr__C=0.01, lr__max_iter=500, lr__penalty=l2, lr__solver=liblinear, smote__sampling_strategy=0.8;, score=(train=0.902, test=0.899) total time=   0.2s\n",
      "[CV 4/10] END lr__C=0.01, lr__max_iter=500, lr__penalty=l2, lr__solver=liblinear, smote__sampling_strategy=0.8;, score=(train=0.900, test=0.890) total time=   0.2s\n",
      "[CV 5/10] END lr__C=0.01, lr__max_iter=500, lr__penalty=l2, lr__solver=liblinear, smote__sampling_strategy=0.8;, score=(train=0.898, test=0.900) total time=   0.2s\n",
      "[CV 6/10] END lr__C=0.01, lr__max_iter=500, lr__penalty=l2, lr__solver=liblinear, smote__sampling_strategy=0.8;, score=(train=0.896, test=0.908) total time=   0.2s\n",
      "[CV 7/10] END lr__C=0.01, lr__max_iter=500, lr__penalty=l2, lr__solver=liblinear, smote__sampling_strategy=0.8;, score=(train=0.904, test=0.902) total time=   0.2s\n",
      "[CV 8/10] END lr__C=0.01, lr__max_iter=500, lr__penalty=l2, lr__solver=liblinear, smote__sampling_strategy=0.8;, score=(train=0.900, test=0.901) total time=   0.2s\n",
      "[CV 9/10] END lr__C=0.01, lr__max_iter=500, lr__penalty=l2, lr__solver=liblinear, smote__sampling_strategy=0.8;, score=(train=0.901, test=0.904) total time=   0.2s\n",
      "[CV 10/10] END lr__C=0.01, lr__max_iter=500, lr__penalty=l2, lr__solver=liblinear, smote__sampling_strategy=0.8;, score=(train=0.898, test=0.897) total time=   0.2s\n",
      "[CV 1/10] END lr__C=0.01, lr__max_iter=500, lr__penalty=l2, lr__solver=liblinear, smote__sampling_strategy=0.9;, score=(train=0.899, test=0.895) total time=   0.2s\n",
      "[CV 2/10] END lr__C=0.01, lr__max_iter=500, lr__penalty=l2, lr__solver=liblinear, smote__sampling_strategy=0.9;, score=(train=0.896, test=0.889) total time=   0.2s\n",
      "[CV 3/10] END lr__C=0.01, lr__max_iter=500, lr__penalty=l2, lr__solver=liblinear, smote__sampling_strategy=0.9;, score=(train=0.898, test=0.896) total time=   0.2s\n",
      "[CV 4/10] END lr__C=0.01, lr__max_iter=500, lr__penalty=l2, lr__solver=liblinear, smote__sampling_strategy=0.9;, score=(train=0.900, test=0.892) total time=   0.2s\n",
      "[CV 5/10] END lr__C=0.01, lr__max_iter=500, lr__penalty=l2, lr__solver=liblinear, smote__sampling_strategy=0.9;, score=(train=0.897, test=0.899) total time=   0.2s\n",
      "[CV 6/10] END lr__C=0.01, lr__max_iter=500, lr__penalty=l2, lr__solver=liblinear, smote__sampling_strategy=0.9;, score=(train=0.895, test=0.906) total time=   0.2s\n",
      "[CV 7/10] END lr__C=0.01, lr__max_iter=500, lr__penalty=l2, lr__solver=liblinear, smote__sampling_strategy=0.9;, score=(train=0.902, test=0.902) total time=   0.2s\n",
      "[CV 8/10] END lr__C=0.01, lr__max_iter=500, lr__penalty=l2, lr__solver=liblinear, smote__sampling_strategy=0.9;, score=(train=0.896, test=0.897) total time=   0.2s\n",
      "[CV 9/10] END lr__C=0.01, lr__max_iter=500, lr__penalty=l2, lr__solver=liblinear, smote__sampling_strategy=0.9;, score=(train=0.897, test=0.903) total time=   0.2s\n",
      "[CV 10/10] END lr__C=0.01, lr__max_iter=500, lr__penalty=l2, lr__solver=liblinear, smote__sampling_strategy=0.9;, score=(train=0.895, test=0.894) total time=   0.2s\n",
      "[CV 1/10] END lr__C=0.01, lr__max_iter=500, lr__penalty=l2, lr__solver=liblinear, smote__sampling_strategy=1.0;, score=(train=0.893, test=0.892) total time=   0.2s\n",
      "[CV 2/10] END lr__C=0.01, lr__max_iter=500, lr__penalty=l2, lr__solver=liblinear, smote__sampling_strategy=1.0;, score=(train=0.893, test=0.885) total time=   0.2s\n",
      "[CV 3/10] END lr__C=0.01, lr__max_iter=500, lr__penalty=l2, lr__solver=liblinear, smote__sampling_strategy=1.0;, score=(train=0.892, test=0.892) total time=   0.2s\n",
      "[CV 4/10] END lr__C=0.01, lr__max_iter=500, lr__penalty=l2, lr__solver=liblinear, smote__sampling_strategy=1.0;, score=(train=0.897, test=0.885) total time=   0.2s\n",
      "[CV 5/10] END lr__C=0.01, lr__max_iter=500, lr__penalty=l2, lr__solver=liblinear, smote__sampling_strategy=1.0;, score=(train=0.893, test=0.892) total time=   0.2s\n",
      "[CV 6/10] END lr__C=0.01, lr__max_iter=500, lr__penalty=l2, lr__solver=liblinear, smote__sampling_strategy=1.0;, score=(train=0.890, test=0.900) total time=   0.2s\n",
      "[CV 7/10] END lr__C=0.01, lr__max_iter=500, lr__penalty=l2, lr__solver=liblinear, smote__sampling_strategy=1.0;, score=(train=0.897, test=0.896) total time=   0.2s\n",
      "[CV 8/10] END lr__C=0.01, lr__max_iter=500, lr__penalty=l2, lr__solver=liblinear, smote__sampling_strategy=1.0;, score=(train=0.892, test=0.889) total time=   0.2s\n",
      "[CV 9/10] END lr__C=0.01, lr__max_iter=500, lr__penalty=l2, lr__solver=liblinear, smote__sampling_strategy=1.0;, score=(train=0.893, test=0.896) total time=   0.2s\n",
      "[CV 10/10] END lr__C=0.01, lr__max_iter=500, lr__penalty=l2, lr__solver=liblinear, smote__sampling_strategy=1.0;, score=(train=0.892, test=0.888) total time=   0.2s\n",
      "[CV 1/10] END lr__C=0.01, lr__max_iter=500, lr__penalty=l2, lr__solver=sag, smote__sampling_strategy=0.8;, score=(train=0.905, test=0.897) total time=   0.4s\n",
      "[CV 2/10] END lr__C=0.01, lr__max_iter=500, lr__penalty=l2, lr__solver=sag, smote__sampling_strategy=0.8;, score=(train=0.901, test=0.894) total time=   0.4s\n",
      "[CV 3/10] END lr__C=0.01, lr__max_iter=500, lr__penalty=l2, lr__solver=sag, smote__sampling_strategy=0.8;, score=(train=0.901, test=0.897) total time=   0.4s\n",
      "[CV 4/10] END lr__C=0.01, lr__max_iter=500, lr__penalty=l2, lr__solver=sag, smote__sampling_strategy=0.8;, score=(train=0.900, test=0.891) total time=   0.4s\n",
      "[CV 5/10] END lr__C=0.01, lr__max_iter=500, lr__penalty=l2, lr__solver=sag, smote__sampling_strategy=0.8;, score=(train=0.898, test=0.900) total time=   0.4s\n",
      "[CV 6/10] END lr__C=0.01, lr__max_iter=500, lr__penalty=l2, lr__solver=sag, smote__sampling_strategy=0.8;, score=(train=0.896, test=0.908) total time=   0.4s\n",
      "[CV 7/10] END lr__C=0.01, lr__max_iter=500, lr__penalty=l2, lr__solver=sag, smote__sampling_strategy=0.8;, score=(train=0.904, test=0.901) total time=   0.4s\n",
      "[CV 8/10] END lr__C=0.01, lr__max_iter=500, lr__penalty=l2, lr__solver=sag, smote__sampling_strategy=0.8;, score=(train=0.900, test=0.898) total time=   0.4s\n",
      "[CV 9/10] END lr__C=0.01, lr__max_iter=500, lr__penalty=l2, lr__solver=sag, smote__sampling_strategy=0.8;, score=(train=0.900, test=0.901) total time=   0.4s\n",
      "[CV 10/10] END lr__C=0.01, lr__max_iter=500, lr__penalty=l2, lr__solver=sag, smote__sampling_strategy=0.8;, score=(train=0.897, test=0.897) total time=   0.4s\n",
      "[CV 1/10] END lr__C=0.01, lr__max_iter=500, lr__penalty=l2, lr__solver=sag, smote__sampling_strategy=0.9;, score=(train=0.901, test=0.895) total time=   0.4s\n",
      "[CV 2/10] END lr__C=0.01, lr__max_iter=500, lr__penalty=l2, lr__solver=sag, smote__sampling_strategy=0.9;, score=(train=0.897, test=0.890) total time=   0.4s\n",
      "[CV 3/10] END lr__C=0.01, lr__max_iter=500, lr__penalty=l2, lr__solver=sag, smote__sampling_strategy=0.9;, score=(train=0.899, test=0.895) total time=   0.4s\n",
      "[CV 4/10] END lr__C=0.01, lr__max_iter=500, lr__penalty=l2, lr__solver=sag, smote__sampling_strategy=0.9;, score=(train=0.901, test=0.891) total time=   0.4s\n",
      "[CV 5/10] END lr__C=0.01, lr__max_iter=500, lr__penalty=l2, lr__solver=sag, smote__sampling_strategy=0.9;, score=(train=0.896, test=0.896) total time=   0.5s\n",
      "[CV 6/10] END lr__C=0.01, lr__max_iter=500, lr__penalty=l2, lr__solver=sag, smote__sampling_strategy=0.9;, score=(train=0.895, test=0.907) total time=   0.4s\n",
      "[CV 7/10] END lr__C=0.01, lr__max_iter=500, lr__penalty=l2, lr__solver=sag, smote__sampling_strategy=0.9;, score=(train=0.902, test=0.903) total time=   0.4s\n",
      "[CV 8/10] END lr__C=0.01, lr__max_iter=500, lr__penalty=l2, lr__solver=sag, smote__sampling_strategy=0.9;, score=(train=0.897, test=0.896) total time=   0.4s\n",
      "[CV 9/10] END lr__C=0.01, lr__max_iter=500, lr__penalty=l2, lr__solver=sag, smote__sampling_strategy=0.9;, score=(train=0.898, test=0.902) total time=   0.4s\n",
      "[CV 10/10] END lr__C=0.01, lr__max_iter=500, lr__penalty=l2, lr__solver=sag, smote__sampling_strategy=0.9;, score=(train=0.897, test=0.895) total time=   0.4s\n",
      "[CV 1/10] END lr__C=0.01, lr__max_iter=500, lr__penalty=l2, lr__solver=sag, smote__sampling_strategy=1.0;, score=(train=0.894, test=0.895) total time=   0.4s\n",
      "[CV 2/10] END lr__C=0.01, lr__max_iter=500, lr__penalty=l2, lr__solver=sag, smote__sampling_strategy=1.0;, score=(train=0.894, test=0.886) total time=   0.4s\n",
      "[CV 3/10] END lr__C=0.01, lr__max_iter=500, lr__penalty=l2, lr__solver=sag, smote__sampling_strategy=1.0;, score=(train=0.893, test=0.893) total time=   0.4s\n",
      "[CV 4/10] END lr__C=0.01, lr__max_iter=500, lr__penalty=l2, lr__solver=sag, smote__sampling_strategy=1.0;, score=(train=0.897, test=0.886) total time=   0.4s\n",
      "[CV 5/10] END lr__C=0.01, lr__max_iter=500, lr__penalty=l2, lr__solver=sag, smote__sampling_strategy=1.0;, score=(train=0.895, test=0.893) total time=   0.4s\n",
      "[CV 6/10] END lr__C=0.01, lr__max_iter=500, lr__penalty=l2, lr__solver=sag, smote__sampling_strategy=1.0;, score=(train=0.891, test=0.901) total time=   0.4s\n",
      "[CV 7/10] END lr__C=0.01, lr__max_iter=500, lr__penalty=l2, lr__solver=sag, smote__sampling_strategy=1.0;, score=(train=0.897, test=0.898) total time=   0.4s\n",
      "[CV 8/10] END lr__C=0.01, lr__max_iter=500, lr__penalty=l2, lr__solver=sag, smote__sampling_strategy=1.0;, score=(train=0.892, test=0.891) total time=   0.5s\n",
      "[CV 9/10] END lr__C=0.01, lr__max_iter=500, lr__penalty=l2, lr__solver=sag, smote__sampling_strategy=1.0;, score=(train=0.893, test=0.897) total time=   0.5s\n",
      "[CV 10/10] END lr__C=0.01, lr__max_iter=500, lr__penalty=l2, lr__solver=sag, smote__sampling_strategy=1.0;, score=(train=0.893, test=0.888) total time=   0.4s\n",
      "[CV 1/10] END lr__C=0.01, lr__max_iter=500, lr__penalty=l2, lr__solver=saga, smote__sampling_strategy=0.8;, score=(train=0.905, test=0.897) total time=   0.5s\n",
      "[CV 2/10] END lr__C=0.01, lr__max_iter=500, lr__penalty=l2, lr__solver=saga, smote__sampling_strategy=0.8;, score=(train=0.901, test=0.894) total time=   0.5s\n",
      "[CV 3/10] END lr__C=0.01, lr__max_iter=500, lr__penalty=l2, lr__solver=saga, smote__sampling_strategy=0.8;, score=(train=0.901, test=0.897) total time=   0.5s\n",
      "[CV 4/10] END lr__C=0.01, lr__max_iter=500, lr__penalty=l2, lr__solver=saga, smote__sampling_strategy=0.8;, score=(train=0.900, test=0.891) total time=   0.5s\n",
      "[CV 5/10] END lr__C=0.01, lr__max_iter=500, lr__penalty=l2, lr__solver=saga, smote__sampling_strategy=0.8;, score=(train=0.898, test=0.900) total time=   0.5s\n",
      "[CV 6/10] END lr__C=0.01, lr__max_iter=500, lr__penalty=l2, lr__solver=saga, smote__sampling_strategy=0.8;, score=(train=0.896, test=0.908) total time=   0.5s\n",
      "[CV 7/10] END lr__C=0.01, lr__max_iter=500, lr__penalty=l2, lr__solver=saga, smote__sampling_strategy=0.8;, score=(train=0.904, test=0.901) total time=   0.5s\n",
      "[CV 8/10] END lr__C=0.01, lr__max_iter=500, lr__penalty=l2, lr__solver=saga, smote__sampling_strategy=0.8;, score=(train=0.900, test=0.898) total time=   0.5s\n",
      "[CV 9/10] END lr__C=0.01, lr__max_iter=500, lr__penalty=l2, lr__solver=saga, smote__sampling_strategy=0.8;, score=(train=0.900, test=0.901) total time=   0.5s\n",
      "[CV 10/10] END lr__C=0.01, lr__max_iter=500, lr__penalty=l2, lr__solver=saga, smote__sampling_strategy=0.8;, score=(train=0.897, test=0.897) total time=   0.5s\n",
      "[CV 1/10] END lr__C=0.01, lr__max_iter=500, lr__penalty=l2, lr__solver=saga, smote__sampling_strategy=0.9;, score=(train=0.901, test=0.895) total time=   0.5s\n",
      "[CV 2/10] END lr__C=0.01, lr__max_iter=500, lr__penalty=l2, lr__solver=saga, smote__sampling_strategy=0.9;, score=(train=0.897, test=0.890) total time=   0.5s\n",
      "[CV 3/10] END lr__C=0.01, lr__max_iter=500, lr__penalty=l2, lr__solver=saga, smote__sampling_strategy=0.9;, score=(train=0.899, test=0.895) total time=   0.5s\n",
      "[CV 4/10] END lr__C=0.01, lr__max_iter=500, lr__penalty=l2, lr__solver=saga, smote__sampling_strategy=0.9;, score=(train=0.901, test=0.891) total time=   0.5s\n",
      "[CV 5/10] END lr__C=0.01, lr__max_iter=500, lr__penalty=l2, lr__solver=saga, smote__sampling_strategy=0.9;, score=(train=0.896, test=0.896) total time=   0.5s\n",
      "[CV 6/10] END lr__C=0.01, lr__max_iter=500, lr__penalty=l2, lr__solver=saga, smote__sampling_strategy=0.9;, score=(train=0.895, test=0.907) total time=   0.5s\n",
      "[CV 7/10] END lr__C=0.01, lr__max_iter=500, lr__penalty=l2, lr__solver=saga, smote__sampling_strategy=0.9;, score=(train=0.902, test=0.903) total time=   0.5s\n",
      "[CV 8/10] END lr__C=0.01, lr__max_iter=500, lr__penalty=l2, lr__solver=saga, smote__sampling_strategy=0.9;, score=(train=0.897, test=0.896) total time=   0.5s\n",
      "[CV 9/10] END lr__C=0.01, lr__max_iter=500, lr__penalty=l2, lr__solver=saga, smote__sampling_strategy=0.9;, score=(train=0.898, test=0.902) total time=   0.5s\n",
      "[CV 10/10] END lr__C=0.01, lr__max_iter=500, lr__penalty=l2, lr__solver=saga, smote__sampling_strategy=0.9;, score=(train=0.897, test=0.895) total time=   0.5s\n",
      "[CV 1/10] END lr__C=0.01, lr__max_iter=500, lr__penalty=l2, lr__solver=saga, smote__sampling_strategy=1.0;, score=(train=0.894, test=0.895) total time=   0.5s\n",
      "[CV 2/10] END lr__C=0.01, lr__max_iter=500, lr__penalty=l2, lr__solver=saga, smote__sampling_strategy=1.0;, score=(train=0.894, test=0.886) total time=   0.5s\n",
      "[CV 3/10] END lr__C=0.01, lr__max_iter=500, lr__penalty=l2, lr__solver=saga, smote__sampling_strategy=1.0;, score=(train=0.893, test=0.893) total time=   0.5s\n",
      "[CV 4/10] END lr__C=0.01, lr__max_iter=500, lr__penalty=l2, lr__solver=saga, smote__sampling_strategy=1.0;, score=(train=0.897, test=0.886) total time=   0.5s\n",
      "[CV 5/10] END lr__C=0.01, lr__max_iter=500, lr__penalty=l2, lr__solver=saga, smote__sampling_strategy=1.0;, score=(train=0.895, test=0.893) total time=   0.6s\n",
      "[CV 6/10] END lr__C=0.01, lr__max_iter=500, lr__penalty=l2, lr__solver=saga, smote__sampling_strategy=1.0;, score=(train=0.891, test=0.901) total time=   0.5s\n",
      "[CV 7/10] END lr__C=0.01, lr__max_iter=500, lr__penalty=l2, lr__solver=saga, smote__sampling_strategy=1.0;, score=(train=0.897, test=0.898) total time=   0.5s\n",
      "[CV 8/10] END lr__C=0.01, lr__max_iter=500, lr__penalty=l2, lr__solver=saga, smote__sampling_strategy=1.0;, score=(train=0.892, test=0.891) total time=   0.5s\n",
      "[CV 9/10] END lr__C=0.01, lr__max_iter=500, lr__penalty=l2, lr__solver=saga, smote__sampling_strategy=1.0;, score=(train=0.893, test=0.897) total time=   0.5s\n",
      "[CV 10/10] END lr__C=0.01, lr__max_iter=500, lr__penalty=l2, lr__solver=saga, smote__sampling_strategy=1.0;, score=(train=0.893, test=0.888) total time=   0.5s\n",
      "[CV 1/10] END lr__C=0.1, lr__max_iter=100, lr__penalty=l2, lr__solver=newton-cg, smote__sampling_strategy=0.8;, score=(train=0.923, test=0.915) total time=   0.3s\n",
      "[CV 2/10] END lr__C=0.1, lr__max_iter=100, lr__penalty=l2, lr__solver=newton-cg, smote__sampling_strategy=0.8;, score=(train=0.921, test=0.915) total time=   0.4s\n",
      "[CV 3/10] END lr__C=0.1, lr__max_iter=100, lr__penalty=l2, lr__solver=newton-cg, smote__sampling_strategy=0.8;, score=(train=0.919, test=0.919) total time=   0.3s\n",
      "[CV 4/10] END lr__C=0.1, lr__max_iter=100, lr__penalty=l2, lr__solver=newton-cg, smote__sampling_strategy=0.8;, score=(train=0.924, test=0.911) total time=   0.3s\n",
      "[CV 5/10] END lr__C=0.1, lr__max_iter=100, lr__penalty=l2, lr__solver=newton-cg, smote__sampling_strategy=0.8;, score=(train=0.918, test=0.913) total time=   0.3s\n",
      "[CV 6/10] END lr__C=0.1, lr__max_iter=100, lr__penalty=l2, lr__solver=newton-cg, smote__sampling_strategy=0.8;, score=(train=0.915, test=0.924) total time=   0.3s\n",
      "[CV 7/10] END lr__C=0.1, lr__max_iter=100, lr__penalty=l2, lr__solver=newton-cg, smote__sampling_strategy=0.8;, score=(train=0.923, test=0.920) total time=   0.3s\n",
      "[CV 8/10] END lr__C=0.1, lr__max_iter=100, lr__penalty=l2, lr__solver=newton-cg, smote__sampling_strategy=0.8;, score=(train=0.919, test=0.918) total time=   0.3s\n",
      "[CV 9/10] END lr__C=0.1, lr__max_iter=100, lr__penalty=l2, lr__solver=newton-cg, smote__sampling_strategy=0.8;, score=(train=0.920, test=0.923) total time=   0.3s\n",
      "[CV 10/10] END lr__C=0.1, lr__max_iter=100, lr__penalty=l2, lr__solver=newton-cg, smote__sampling_strategy=0.8;, score=(train=0.919, test=0.918) total time=   0.3s\n",
      "[CV 1/10] END lr__C=0.1, lr__max_iter=100, lr__penalty=l2, lr__solver=newton-cg, smote__sampling_strategy=0.9;, score=(train=0.922, test=0.916) total time=   0.3s\n",
      "[CV 2/10] END lr__C=0.1, lr__max_iter=100, lr__penalty=l2, lr__solver=newton-cg, smote__sampling_strategy=0.9;, score=(train=0.920, test=0.914) total time=   0.4s\n",
      "[CV 3/10] END lr__C=0.1, lr__max_iter=100, lr__penalty=l2, lr__solver=newton-cg, smote__sampling_strategy=0.9;, score=(train=0.918, test=0.920) total time=   0.3s\n",
      "[CV 4/10] END lr__C=0.1, lr__max_iter=100, lr__penalty=l2, lr__solver=newton-cg, smote__sampling_strategy=0.9;, score=(train=0.922, test=0.910) total time=   0.3s\n",
      "[CV 5/10] END lr__C=0.1, lr__max_iter=100, lr__penalty=l2, lr__solver=newton-cg, smote__sampling_strategy=0.9;, score=(train=0.918, test=0.917) total time=   0.4s\n",
      "[CV 6/10] END lr__C=0.1, lr__max_iter=100, lr__penalty=l2, lr__solver=newton-cg, smote__sampling_strategy=0.9;, score=(train=0.915, test=0.925) total time=   0.4s\n",
      "[CV 7/10] END lr__C=0.1, lr__max_iter=100, lr__penalty=l2, lr__solver=newton-cg, smote__sampling_strategy=0.9;, score=(train=0.923, test=0.920) total time=   0.4s\n",
      "[CV 8/10] END lr__C=0.1, lr__max_iter=100, lr__penalty=l2, lr__solver=newton-cg, smote__sampling_strategy=0.9;, score=(train=0.919, test=0.920) total time=   0.3s\n",
      "[CV 9/10] END lr__C=0.1, lr__max_iter=100, lr__penalty=l2, lr__solver=newton-cg, smote__sampling_strategy=0.9;, score=(train=0.920, test=0.916) total time=   0.4s\n",
      "[CV 10/10] END lr__C=0.1, lr__max_iter=100, lr__penalty=l2, lr__solver=newton-cg, smote__sampling_strategy=0.9;, score=(train=0.918, test=0.916) total time=   0.4s\n",
      "[CV 1/10] END lr__C=0.1, lr__max_iter=100, lr__penalty=l2, lr__solver=newton-cg, smote__sampling_strategy=1.0;, score=(train=0.920, test=0.912) total time=   0.4s\n",
      "[CV 2/10] END lr__C=0.1, lr__max_iter=100, lr__penalty=l2, lr__solver=newton-cg, smote__sampling_strategy=1.0;, score=(train=0.916, test=0.912) total time=   0.4s\n",
      "[CV 3/10] END lr__C=0.1, lr__max_iter=100, lr__penalty=l2, lr__solver=newton-cg, smote__sampling_strategy=1.0;, score=(train=0.916, test=0.921) total time=   0.4s\n",
      "[CV 4/10] END lr__C=0.1, lr__max_iter=100, lr__penalty=l2, lr__solver=newton-cg, smote__sampling_strategy=1.0;, score=(train=0.920, test=0.911) total time=   0.4s\n",
      "[CV 5/10] END lr__C=0.1, lr__max_iter=100, lr__penalty=l2, lr__solver=newton-cg, smote__sampling_strategy=1.0;, score=(train=0.915, test=0.913) total time=   0.4s\n",
      "[CV 6/10] END lr__C=0.1, lr__max_iter=100, lr__penalty=l2, lr__solver=newton-cg, smote__sampling_strategy=1.0;, score=(train=0.915, test=0.920) total time=   0.3s\n",
      "[CV 7/10] END lr__C=0.1, lr__max_iter=100, lr__penalty=l2, lr__solver=newton-cg, smote__sampling_strategy=1.0;, score=(train=0.922, test=0.921) total time=   0.4s\n",
      "[CV 8/10] END lr__C=0.1, lr__max_iter=100, lr__penalty=l2, lr__solver=newton-cg, smote__sampling_strategy=1.0;, score=(train=0.917, test=0.919) total time=   0.4s\n",
      "[CV 9/10] END lr__C=0.1, lr__max_iter=100, lr__penalty=l2, lr__solver=newton-cg, smote__sampling_strategy=1.0;, score=(train=0.918, test=0.911) total time=   0.4s\n",
      "[CV 10/10] END lr__C=0.1, lr__max_iter=100, lr__penalty=l2, lr__solver=newton-cg, smote__sampling_strategy=1.0;, score=(train=0.917, test=0.916) total time=   0.4s\n",
      "[CV 1/10] END lr__C=0.1, lr__max_iter=100, lr__penalty=l2, lr__solver=lbfgs, smote__sampling_strategy=0.8;, score=(train=0.923, test=0.915) total time=   0.2s\n",
      "[CV 2/10] END lr__C=0.1, lr__max_iter=100, lr__penalty=l2, lr__solver=lbfgs, smote__sampling_strategy=0.8;, score=(train=0.921, test=0.915) total time=   0.2s\n",
      "[CV 3/10] END lr__C=0.1, lr__max_iter=100, lr__penalty=l2, lr__solver=lbfgs, smote__sampling_strategy=0.8;, score=(train=0.919, test=0.919) total time=   0.2s\n",
      "[CV 4/10] END lr__C=0.1, lr__max_iter=100, lr__penalty=l2, lr__solver=lbfgs, smote__sampling_strategy=0.8;, score=(train=0.924, test=0.911) total time=   0.2s\n",
      "[CV 5/10] END lr__C=0.1, lr__max_iter=100, lr__penalty=l2, lr__solver=lbfgs, smote__sampling_strategy=0.8;, score=(train=0.918, test=0.913) total time=   0.2s\n",
      "[CV 6/10] END lr__C=0.1, lr__max_iter=100, lr__penalty=l2, lr__solver=lbfgs, smote__sampling_strategy=0.8;, score=(train=0.915, test=0.924) total time=   0.2s\n",
      "[CV 7/10] END lr__C=0.1, lr__max_iter=100, lr__penalty=l2, lr__solver=lbfgs, smote__sampling_strategy=0.8;, score=(train=0.923, test=0.920) total time=   0.2s\n",
      "[CV 8/10] END lr__C=0.1, lr__max_iter=100, lr__penalty=l2, lr__solver=lbfgs, smote__sampling_strategy=0.8;, score=(train=0.919, test=0.918) total time=   0.2s\n",
      "[CV 9/10] END lr__C=0.1, lr__max_iter=100, lr__penalty=l2, lr__solver=lbfgs, smote__sampling_strategy=0.8;, score=(train=0.920, test=0.923) total time=   0.2s\n",
      "[CV 10/10] END lr__C=0.1, lr__max_iter=100, lr__penalty=l2, lr__solver=lbfgs, smote__sampling_strategy=0.8;, score=(train=0.919, test=0.918) total time=   0.2s\n",
      "[CV 1/10] END lr__C=0.1, lr__max_iter=100, lr__penalty=l2, lr__solver=lbfgs, smote__sampling_strategy=0.9;, score=(train=0.922, test=0.916) total time=   0.2s\n",
      "[CV 2/10] END lr__C=0.1, lr__max_iter=100, lr__penalty=l2, lr__solver=lbfgs, smote__sampling_strategy=0.9;, score=(train=0.920, test=0.914) total time=   0.3s\n",
      "[CV 3/10] END lr__C=0.1, lr__max_iter=100, lr__penalty=l2, lr__solver=lbfgs, smote__sampling_strategy=0.9;, score=(train=0.918, test=0.920) total time=   0.2s\n",
      "[CV 4/10] END lr__C=0.1, lr__max_iter=100, lr__penalty=l2, lr__solver=lbfgs, smote__sampling_strategy=0.9;, score=(train=0.922, test=0.910) total time=   0.2s\n",
      "[CV 5/10] END lr__C=0.1, lr__max_iter=100, lr__penalty=l2, lr__solver=lbfgs, smote__sampling_strategy=0.9;, score=(train=0.918, test=0.917) total time=   0.2s\n",
      "[CV 6/10] END lr__C=0.1, lr__max_iter=100, lr__penalty=l2, lr__solver=lbfgs, smote__sampling_strategy=0.9;, score=(train=0.915, test=0.925) total time=   0.2s\n",
      "[CV 7/10] END lr__C=0.1, lr__max_iter=100, lr__penalty=l2, lr__solver=lbfgs, smote__sampling_strategy=0.9;, score=(train=0.923, test=0.920) total time=   0.2s\n",
      "[CV 8/10] END lr__C=0.1, lr__max_iter=100, lr__penalty=l2, lr__solver=lbfgs, smote__sampling_strategy=0.9;, score=(train=0.919, test=0.920) total time=   0.3s\n",
      "[CV 9/10] END lr__C=0.1, lr__max_iter=100, lr__penalty=l2, lr__solver=lbfgs, smote__sampling_strategy=0.9;, score=(train=0.920, test=0.916) total time=   0.2s\n",
      "[CV 10/10] END lr__C=0.1, lr__max_iter=100, lr__penalty=l2, lr__solver=lbfgs, smote__sampling_strategy=0.9;, score=(train=0.918, test=0.916) total time=   0.3s\n",
      "[CV 1/10] END lr__C=0.1, lr__max_iter=100, lr__penalty=l2, lr__solver=lbfgs, smote__sampling_strategy=1.0;, score=(train=0.920, test=0.912) total time=   0.2s\n",
      "[CV 2/10] END lr__C=0.1, lr__max_iter=100, lr__penalty=l2, lr__solver=lbfgs, smote__sampling_strategy=1.0;, score=(train=0.916, test=0.912) total time=   0.3s\n",
      "[CV 3/10] END lr__C=0.1, lr__max_iter=100, lr__penalty=l2, lr__solver=lbfgs, smote__sampling_strategy=1.0;, score=(train=0.916, test=0.921) total time=   0.3s\n",
      "[CV 4/10] END lr__C=0.1, lr__max_iter=100, lr__penalty=l2, lr__solver=lbfgs, smote__sampling_strategy=1.0;, score=(train=0.920, test=0.911) total time=   0.3s\n",
      "[CV 5/10] END lr__C=0.1, lr__max_iter=100, lr__penalty=l2, lr__solver=lbfgs, smote__sampling_strategy=1.0;, score=(train=0.915, test=0.913) total time=   0.2s\n",
      "[CV 6/10] END lr__C=0.1, lr__max_iter=100, lr__penalty=l2, lr__solver=lbfgs, smote__sampling_strategy=1.0;, score=(train=0.915, test=0.920) total time=   0.3s\n",
      "[CV 7/10] END lr__C=0.1, lr__max_iter=100, lr__penalty=l2, lr__solver=lbfgs, smote__sampling_strategy=1.0;, score=(train=0.922, test=0.921) total time=   0.3s\n",
      "[CV 8/10] END lr__C=0.1, lr__max_iter=100, lr__penalty=l2, lr__solver=lbfgs, smote__sampling_strategy=1.0;, score=(train=0.917, test=0.919) total time=   0.3s\n",
      "[CV 9/10] END lr__C=0.1, lr__max_iter=100, lr__penalty=l2, lr__solver=lbfgs, smote__sampling_strategy=1.0;, score=(train=0.918, test=0.911) total time=   0.3s\n",
      "[CV 10/10] END lr__C=0.1, lr__max_iter=100, lr__penalty=l2, lr__solver=lbfgs, smote__sampling_strategy=1.0;, score=(train=0.917, test=0.916) total time=   0.3s\n",
      "[CV 1/10] END lr__C=0.1, lr__max_iter=100, lr__penalty=l2, lr__solver=liblinear, smote__sampling_strategy=0.8;, score=(train=0.923, test=0.916) total time=   0.2s\n",
      "[CV 2/10] END lr__C=0.1, lr__max_iter=100, lr__penalty=l2, lr__solver=liblinear, smote__sampling_strategy=0.8;, score=(train=0.921, test=0.915) total time=   0.2s\n",
      "[CV 3/10] END lr__C=0.1, lr__max_iter=100, lr__penalty=l2, lr__solver=liblinear, smote__sampling_strategy=0.8;, score=(train=0.919, test=0.918) total time=   0.2s\n",
      "[CV 4/10] END lr__C=0.1, lr__max_iter=100, lr__penalty=l2, lr__solver=liblinear, smote__sampling_strategy=0.8;, score=(train=0.924, test=0.912) total time=   0.2s\n",
      "[CV 5/10] END lr__C=0.1, lr__max_iter=100, lr__penalty=l2, lr__solver=liblinear, smote__sampling_strategy=0.8;, score=(train=0.918, test=0.914) total time=   0.2s\n",
      "[CV 6/10] END lr__C=0.1, lr__max_iter=100, lr__penalty=l2, lr__solver=liblinear, smote__sampling_strategy=0.8;, score=(train=0.914, test=0.923) total time=   0.2s\n",
      "[CV 7/10] END lr__C=0.1, lr__max_iter=100, lr__penalty=l2, lr__solver=liblinear, smote__sampling_strategy=0.8;, score=(train=0.923, test=0.920) total time=   0.2s\n",
      "[CV 8/10] END lr__C=0.1, lr__max_iter=100, lr__penalty=l2, lr__solver=liblinear, smote__sampling_strategy=0.8;, score=(train=0.919, test=0.918) total time=   0.2s\n",
      "[CV 9/10] END lr__C=0.1, lr__max_iter=100, lr__penalty=l2, lr__solver=liblinear, smote__sampling_strategy=0.8;, score=(train=0.919, test=0.923) total time=   0.2s\n",
      "[CV 10/10] END lr__C=0.1, lr__max_iter=100, lr__penalty=l2, lr__solver=liblinear, smote__sampling_strategy=0.8;, score=(train=0.919, test=0.919) total time=   0.2s\n",
      "[CV 1/10] END lr__C=0.1, lr__max_iter=100, lr__penalty=l2, lr__solver=liblinear, smote__sampling_strategy=0.9;, score=(train=0.922, test=0.916) total time=   0.2s\n",
      "[CV 2/10] END lr__C=0.1, lr__max_iter=100, lr__penalty=l2, lr__solver=liblinear, smote__sampling_strategy=0.9;, score=(train=0.920, test=0.913) total time=   0.2s\n",
      "[CV 3/10] END lr__C=0.1, lr__max_iter=100, lr__penalty=l2, lr__solver=liblinear, smote__sampling_strategy=0.9;, score=(train=0.918, test=0.920) total time=   0.2s\n",
      "[CV 4/10] END lr__C=0.1, lr__max_iter=100, lr__penalty=l2, lr__solver=liblinear, smote__sampling_strategy=0.9;, score=(train=0.922, test=0.909) total time=   0.2s\n",
      "[CV 5/10] END lr__C=0.1, lr__max_iter=100, lr__penalty=l2, lr__solver=liblinear, smote__sampling_strategy=0.9;, score=(train=0.918, test=0.916) total time=   0.2s\n",
      "[CV 6/10] END lr__C=0.1, lr__max_iter=100, lr__penalty=l2, lr__solver=liblinear, smote__sampling_strategy=0.9;, score=(train=0.914, test=0.925) total time=   0.2s\n",
      "[CV 7/10] END lr__C=0.1, lr__max_iter=100, lr__penalty=l2, lr__solver=liblinear, smote__sampling_strategy=0.9;, score=(train=0.923, test=0.921) total time=   0.2s\n",
      "[CV 8/10] END lr__C=0.1, lr__max_iter=100, lr__penalty=l2, lr__solver=liblinear, smote__sampling_strategy=0.9;, score=(train=0.918, test=0.919) total time=   0.2s\n",
      "[CV 9/10] END lr__C=0.1, lr__max_iter=100, lr__penalty=l2, lr__solver=liblinear, smote__sampling_strategy=0.9;, score=(train=0.920, test=0.916) total time=   0.2s\n",
      "[CV 10/10] END lr__C=0.1, lr__max_iter=100, lr__penalty=l2, lr__solver=liblinear, smote__sampling_strategy=0.9;, score=(train=0.918, test=0.917) total time=   0.2s\n",
      "[CV 1/10] END lr__C=0.1, lr__max_iter=100, lr__penalty=l2, lr__solver=liblinear, smote__sampling_strategy=1.0;, score=(train=0.920, test=0.913) total time=   0.2s\n",
      "[CV 2/10] END lr__C=0.1, lr__max_iter=100, lr__penalty=l2, lr__solver=liblinear, smote__sampling_strategy=1.0;, score=(train=0.916, test=0.911) total time=   0.2s\n",
      "[CV 3/10] END lr__C=0.1, lr__max_iter=100, lr__penalty=l2, lr__solver=liblinear, smote__sampling_strategy=1.0;, score=(train=0.916, test=0.922) total time=   0.2s\n",
      "[CV 4/10] END lr__C=0.1, lr__max_iter=100, lr__penalty=l2, lr__solver=liblinear, smote__sampling_strategy=1.0;, score=(train=0.920, test=0.911) total time=   0.2s\n",
      "[CV 5/10] END lr__C=0.1, lr__max_iter=100, lr__penalty=l2, lr__solver=liblinear, smote__sampling_strategy=1.0;, score=(train=0.915, test=0.913) total time=   0.3s\n",
      "[CV 6/10] END lr__C=0.1, lr__max_iter=100, lr__penalty=l2, lr__solver=liblinear, smote__sampling_strategy=1.0;, score=(train=0.915, test=0.920) total time=   0.3s\n",
      "[CV 7/10] END lr__C=0.1, lr__max_iter=100, lr__penalty=l2, lr__solver=liblinear, smote__sampling_strategy=1.0;, score=(train=0.921, test=0.920) total time=   0.3s\n",
      "[CV 8/10] END lr__C=0.1, lr__max_iter=100, lr__penalty=l2, lr__solver=liblinear, smote__sampling_strategy=1.0;, score=(train=0.917, test=0.919) total time=   0.3s\n",
      "[CV 9/10] END lr__C=0.1, lr__max_iter=100, lr__penalty=l2, lr__solver=liblinear, smote__sampling_strategy=1.0;, score=(train=0.918, test=0.911) total time=   0.2s\n",
      "[CV 10/10] END lr__C=0.1, lr__max_iter=100, lr__penalty=l2, lr__solver=liblinear, smote__sampling_strategy=1.0;, score=(train=0.916, test=0.917) total time=   0.2s\n",
      "[CV 1/10] END lr__C=0.1, lr__max_iter=100, lr__penalty=l2, lr__solver=sag, smote__sampling_strategy=0.8;, score=(train=0.923, test=0.915) total time=   0.5s\n",
      "[CV 2/10] END lr__C=0.1, lr__max_iter=100, lr__penalty=l2, lr__solver=sag, smote__sampling_strategy=0.8;, score=(train=0.921, test=0.915) total time=   0.5s\n",
      "[CV 3/10] END lr__C=0.1, lr__max_iter=100, lr__penalty=l2, lr__solver=sag, smote__sampling_strategy=0.8;, score=(train=0.919, test=0.919) total time=   0.4s\n",
      "[CV 4/10] END lr__C=0.1, lr__max_iter=100, lr__penalty=l2, lr__solver=sag, smote__sampling_strategy=0.8;, score=(train=0.924, test=0.911) total time=   0.4s\n",
      "[CV 5/10] END lr__C=0.1, lr__max_iter=100, lr__penalty=l2, lr__solver=sag, smote__sampling_strategy=0.8;, score=(train=0.918, test=0.913) total time=   0.4s\n",
      "[CV 6/10] END lr__C=0.1, lr__max_iter=100, lr__penalty=l2, lr__solver=sag, smote__sampling_strategy=0.8;, score=(train=0.915, test=0.924) total time=   0.4s\n",
      "[CV 7/10] END lr__C=0.1, lr__max_iter=100, lr__penalty=l2, lr__solver=sag, smote__sampling_strategy=0.8;, score=(train=0.923, test=0.920) total time=   0.4s\n",
      "[CV 8/10] END lr__C=0.1, lr__max_iter=100, lr__penalty=l2, lr__solver=sag, smote__sampling_strategy=0.8;, score=(train=0.919, test=0.918) total time=   0.4s\n",
      "[CV 9/10] END lr__C=0.1, lr__max_iter=100, lr__penalty=l2, lr__solver=sag, smote__sampling_strategy=0.8;, score=(train=0.920, test=0.923) total time=   0.5s\n",
      "[CV 10/10] END lr__C=0.1, lr__max_iter=100, lr__penalty=l2, lr__solver=sag, smote__sampling_strategy=0.8;, score=(train=0.919, test=0.918) total time=   0.4s\n",
      "[CV 1/10] END lr__C=0.1, lr__max_iter=100, lr__penalty=l2, lr__solver=sag, smote__sampling_strategy=0.9;, score=(train=0.922, test=0.916) total time=   0.5s\n",
      "[CV 2/10] END lr__C=0.1, lr__max_iter=100, lr__penalty=l2, lr__solver=sag, smote__sampling_strategy=0.9;, score=(train=0.920, test=0.914) total time=   0.5s\n",
      "[CV 3/10] END lr__C=0.1, lr__max_iter=100, lr__penalty=l2, lr__solver=sag, smote__sampling_strategy=0.9;, score=(train=0.918, test=0.920) total time=   0.5s\n",
      "[CV 4/10] END lr__C=0.1, lr__max_iter=100, lr__penalty=l2, lr__solver=sag, smote__sampling_strategy=0.9;, score=(train=0.923, test=0.910) total time=   0.4s\n",
      "[CV 5/10] END lr__C=0.1, lr__max_iter=100, lr__penalty=l2, lr__solver=sag, smote__sampling_strategy=0.9;, score=(train=0.918, test=0.917) total time=   0.5s\n",
      "[CV 6/10] END lr__C=0.1, lr__max_iter=100, lr__penalty=l2, lr__solver=sag, smote__sampling_strategy=0.9;, score=(train=0.915, test=0.925) total time=   0.5s\n",
      "[CV 7/10] END lr__C=0.1, lr__max_iter=100, lr__penalty=l2, lr__solver=sag, smote__sampling_strategy=0.9;, score=(train=0.923, test=0.920) total time=   0.5s\n",
      "[CV 8/10] END lr__C=0.1, lr__max_iter=100, lr__penalty=l2, lr__solver=sag, smote__sampling_strategy=0.9;, score=(train=0.919, test=0.920) total time=   0.4s\n",
      "[CV 9/10] END lr__C=0.1, lr__max_iter=100, lr__penalty=l2, lr__solver=sag, smote__sampling_strategy=0.9;, score=(train=0.920, test=0.916) total time=   0.4s\n",
      "[CV 10/10] END lr__C=0.1, lr__max_iter=100, lr__penalty=l2, lr__solver=sag, smote__sampling_strategy=0.9;, score=(train=0.918, test=0.916) total time=   0.4s\n",
      "[CV 1/10] END lr__C=0.1, lr__max_iter=100, lr__penalty=l2, lr__solver=sag, smote__sampling_strategy=1.0;, score=(train=0.920, test=0.912) total time=   0.5s\n",
      "[CV 2/10] END lr__C=0.1, lr__max_iter=100, lr__penalty=l2, lr__solver=sag, smote__sampling_strategy=1.0;, score=(train=0.916, test=0.912) total time=   0.5s\n",
      "[CV 3/10] END lr__C=0.1, lr__max_iter=100, lr__penalty=l2, lr__solver=sag, smote__sampling_strategy=1.0;, score=(train=0.916, test=0.921) total time=   0.5s\n",
      "[CV 4/10] END lr__C=0.1, lr__max_iter=100, lr__penalty=l2, lr__solver=sag, smote__sampling_strategy=1.0;, score=(train=0.920, test=0.911) total time=   0.5s\n",
      "[CV 5/10] END lr__C=0.1, lr__max_iter=100, lr__penalty=l2, lr__solver=sag, smote__sampling_strategy=1.0;, score=(train=0.915, test=0.913) total time=   0.5s\n",
      "[CV 6/10] END lr__C=0.1, lr__max_iter=100, lr__penalty=l2, lr__solver=sag, smote__sampling_strategy=1.0;, score=(train=0.915, test=0.920) total time=   0.5s\n",
      "[CV 7/10] END lr__C=0.1, lr__max_iter=100, lr__penalty=l2, lr__solver=sag, smote__sampling_strategy=1.0;, score=(train=0.922, test=0.921) total time=   0.5s\n",
      "[CV 8/10] END lr__C=0.1, lr__max_iter=100, lr__penalty=l2, lr__solver=sag, smote__sampling_strategy=1.0;, score=(train=0.917, test=0.919) total time=   0.5s\n",
      "[CV 9/10] END lr__C=0.1, lr__max_iter=100, lr__penalty=l2, lr__solver=sag, smote__sampling_strategy=1.0;, score=(train=0.918, test=0.911) total time=   0.5s\n",
      "[CV 10/10] END lr__C=0.1, lr__max_iter=100, lr__penalty=l2, lr__solver=sag, smote__sampling_strategy=1.0;, score=(train=0.917, test=0.916) total time=   0.5s\n",
      "[CV 1/10] END lr__C=0.1, lr__max_iter=100, lr__penalty=l2, lr__solver=saga, smote__sampling_strategy=0.8;, score=(train=0.923, test=0.915) total time=   0.4s\n",
      "[CV 2/10] END lr__C=0.1, lr__max_iter=100, lr__penalty=l2, lr__solver=saga, smote__sampling_strategy=0.8;, score=(train=0.921, test=0.915) total time=   0.4s\n",
      "[CV 3/10] END lr__C=0.1, lr__max_iter=100, lr__penalty=l2, lr__solver=saga, smote__sampling_strategy=0.8;, score=(train=0.919, test=0.919) total time=   0.5s\n",
      "[CV 4/10] END lr__C=0.1, lr__max_iter=100, lr__penalty=l2, lr__solver=saga, smote__sampling_strategy=0.8;, score=(train=0.924, test=0.911) total time=   0.5s\n",
      "[CV 5/10] END lr__C=0.1, lr__max_iter=100, lr__penalty=l2, lr__solver=saga, smote__sampling_strategy=0.8;, score=(train=0.918, test=0.913) total time=   0.4s\n",
      "[CV 6/10] END lr__C=0.1, lr__max_iter=100, lr__penalty=l2, lr__solver=saga, smote__sampling_strategy=0.8;, score=(train=0.915, test=0.924) total time=   0.4s\n",
      "[CV 7/10] END lr__C=0.1, lr__max_iter=100, lr__penalty=l2, lr__solver=saga, smote__sampling_strategy=0.8;, score=(train=0.923, test=0.920) total time=   0.4s\n",
      "[CV 8/10] END lr__C=0.1, lr__max_iter=100, lr__penalty=l2, lr__solver=saga, smote__sampling_strategy=0.8;, score=(train=0.919, test=0.918) total time=   0.4s\n",
      "[CV 9/10] END lr__C=0.1, lr__max_iter=100, lr__penalty=l2, lr__solver=saga, smote__sampling_strategy=0.8;, score=(train=0.920, test=0.923) total time=   0.5s\n",
      "[CV 10/10] END lr__C=0.1, lr__max_iter=100, lr__penalty=l2, lr__solver=saga, smote__sampling_strategy=0.8;, score=(train=0.919, test=0.918) total time=   0.5s\n",
      "[CV 1/10] END lr__C=0.1, lr__max_iter=100, lr__penalty=l2, lr__solver=saga, smote__sampling_strategy=0.9;, score=(train=0.922, test=0.916) total time=   0.4s\n",
      "[CV 2/10] END lr__C=0.1, lr__max_iter=100, lr__penalty=l2, lr__solver=saga, smote__sampling_strategy=0.9;, score=(train=0.920, test=0.914) total time=   0.4s\n",
      "[CV 3/10] END lr__C=0.1, lr__max_iter=100, lr__penalty=l2, lr__solver=saga, smote__sampling_strategy=0.9;, score=(train=0.918, test=0.920) total time=   0.4s\n",
      "[CV 4/10] END lr__C=0.1, lr__max_iter=100, lr__penalty=l2, lr__solver=saga, smote__sampling_strategy=0.9;, score=(train=0.922, test=0.910) total time=   0.4s\n",
      "[CV 5/10] END lr__C=0.1, lr__max_iter=100, lr__penalty=l2, lr__solver=saga, smote__sampling_strategy=0.9;, score=(train=0.918, test=0.917) total time=   0.4s\n",
      "[CV 6/10] END lr__C=0.1, lr__max_iter=100, lr__penalty=l2, lr__solver=saga, smote__sampling_strategy=0.9;, score=(train=0.915, test=0.925) total time=   0.5s\n",
      "[CV 7/10] END lr__C=0.1, lr__max_iter=100, lr__penalty=l2, lr__solver=saga, smote__sampling_strategy=0.9;, score=(train=0.923, test=0.920) total time=   0.4s\n",
      "[CV 8/10] END lr__C=0.1, lr__max_iter=100, lr__penalty=l2, lr__solver=saga, smote__sampling_strategy=0.9;, score=(train=0.919, test=0.920) total time=   0.5s\n",
      "[CV 9/10] END lr__C=0.1, lr__max_iter=100, lr__penalty=l2, lr__solver=saga, smote__sampling_strategy=0.9;, score=(train=0.920, test=0.916) total time=   0.5s\n",
      "[CV 10/10] END lr__C=0.1, lr__max_iter=100, lr__penalty=l2, lr__solver=saga, smote__sampling_strategy=0.9;, score=(train=0.918, test=0.916) total time=   0.5s\n",
      "[CV 1/10] END lr__C=0.1, lr__max_iter=100, lr__penalty=l2, lr__solver=saga, smote__sampling_strategy=1.0;, score=(train=0.920, test=0.912) total time=   0.5s\n",
      "[CV 2/10] END lr__C=0.1, lr__max_iter=100, lr__penalty=l2, lr__solver=saga, smote__sampling_strategy=1.0;, score=(train=0.916, test=0.912) total time=   0.4s\n",
      "[CV 3/10] END lr__C=0.1, lr__max_iter=100, lr__penalty=l2, lr__solver=saga, smote__sampling_strategy=1.0;, score=(train=0.916, test=0.921) total time=   0.4s\n",
      "[CV 4/10] END lr__C=0.1, lr__max_iter=100, lr__penalty=l2, lr__solver=saga, smote__sampling_strategy=1.0;, score=(train=0.920, test=0.911) total time=   0.5s\n",
      "[CV 5/10] END lr__C=0.1, lr__max_iter=100, lr__penalty=l2, lr__solver=saga, smote__sampling_strategy=1.0;, score=(train=0.915, test=0.913) total time=   0.5s\n",
      "[CV 6/10] END lr__C=0.1, lr__max_iter=100, lr__penalty=l2, lr__solver=saga, smote__sampling_strategy=1.0;, score=(train=0.915, test=0.920) total time=   0.5s\n",
      "[CV 7/10] END lr__C=0.1, lr__max_iter=100, lr__penalty=l2, lr__solver=saga, smote__sampling_strategy=1.0;, score=(train=0.922, test=0.921) total time=   0.5s\n",
      "[CV 8/10] END lr__C=0.1, lr__max_iter=100, lr__penalty=l2, lr__solver=saga, smote__sampling_strategy=1.0;, score=(train=0.917, test=0.919) total time=   0.5s\n",
      "[CV 9/10] END lr__C=0.1, lr__max_iter=100, lr__penalty=l2, lr__solver=saga, smote__sampling_strategy=1.0;, score=(train=0.918, test=0.912) total time=   0.5s\n",
      "[CV 10/10] END lr__C=0.1, lr__max_iter=100, lr__penalty=l2, lr__solver=saga, smote__sampling_strategy=1.0;, score=(train=0.917, test=0.916) total time=   0.5s\n",
      "[CV 1/10] END lr__C=0.1, lr__max_iter=500, lr__penalty=l2, lr__solver=newton-cg, smote__sampling_strategy=0.8;, score=(train=0.923, test=0.915) total time=   0.3s\n",
      "[CV 2/10] END lr__C=0.1, lr__max_iter=500, lr__penalty=l2, lr__solver=newton-cg, smote__sampling_strategy=0.8;, score=(train=0.921, test=0.915) total time=   0.4s\n",
      "[CV 3/10] END lr__C=0.1, lr__max_iter=500, lr__penalty=l2, lr__solver=newton-cg, smote__sampling_strategy=0.8;, score=(train=0.919, test=0.919) total time=   0.3s\n",
      "[CV 4/10] END lr__C=0.1, lr__max_iter=500, lr__penalty=l2, lr__solver=newton-cg, smote__sampling_strategy=0.8;, score=(train=0.924, test=0.911) total time=   0.4s\n",
      "[CV 5/10] END lr__C=0.1, lr__max_iter=500, lr__penalty=l2, lr__solver=newton-cg, smote__sampling_strategy=0.8;, score=(train=0.918, test=0.913) total time=   0.3s\n",
      "[CV 6/10] END lr__C=0.1, lr__max_iter=500, lr__penalty=l2, lr__solver=newton-cg, smote__sampling_strategy=0.8;, score=(train=0.915, test=0.924) total time=   0.5s\n",
      "[CV 7/10] END lr__C=0.1, lr__max_iter=500, lr__penalty=l2, lr__solver=newton-cg, smote__sampling_strategy=0.8;, score=(train=0.923, test=0.920) total time=   0.5s\n",
      "[CV 8/10] END lr__C=0.1, lr__max_iter=500, lr__penalty=l2, lr__solver=newton-cg, smote__sampling_strategy=0.8;, score=(train=0.919, test=0.918) total time=   0.4s\n",
      "[CV 9/10] END lr__C=0.1, lr__max_iter=500, lr__penalty=l2, lr__solver=newton-cg, smote__sampling_strategy=0.8;, score=(train=0.920, test=0.923) total time=   0.3s\n",
      "[CV 10/10] END lr__C=0.1, lr__max_iter=500, lr__penalty=l2, lr__solver=newton-cg, smote__sampling_strategy=0.8;, score=(train=0.919, test=0.918) total time=   0.3s\n",
      "[CV 1/10] END lr__C=0.1, lr__max_iter=500, lr__penalty=l2, lr__solver=newton-cg, smote__sampling_strategy=0.9;, score=(train=0.922, test=0.916) total time=   0.3s\n",
      "[CV 2/10] END lr__C=0.1, lr__max_iter=500, lr__penalty=l2, lr__solver=newton-cg, smote__sampling_strategy=0.9;, score=(train=0.920, test=0.914) total time=   0.4s\n",
      "[CV 3/10] END lr__C=0.1, lr__max_iter=500, lr__penalty=l2, lr__solver=newton-cg, smote__sampling_strategy=0.9;, score=(train=0.918, test=0.920) total time=   0.3s\n",
      "[CV 4/10] END lr__C=0.1, lr__max_iter=500, lr__penalty=l2, lr__solver=newton-cg, smote__sampling_strategy=0.9;, score=(train=0.922, test=0.910) total time=   0.3s\n",
      "[CV 5/10] END lr__C=0.1, lr__max_iter=500, lr__penalty=l2, lr__solver=newton-cg, smote__sampling_strategy=0.9;, score=(train=0.918, test=0.917) total time=   0.4s\n",
      "[CV 6/10] END lr__C=0.1, lr__max_iter=500, lr__penalty=l2, lr__solver=newton-cg, smote__sampling_strategy=0.9;, score=(train=0.915, test=0.925) total time=   0.4s\n",
      "[CV 7/10] END lr__C=0.1, lr__max_iter=500, lr__penalty=l2, lr__solver=newton-cg, smote__sampling_strategy=0.9;, score=(train=0.923, test=0.920) total time=   0.4s\n",
      "[CV 8/10] END lr__C=0.1, lr__max_iter=500, lr__penalty=l2, lr__solver=newton-cg, smote__sampling_strategy=0.9;, score=(train=0.919, test=0.920) total time=   0.4s\n",
      "[CV 9/10] END lr__C=0.1, lr__max_iter=500, lr__penalty=l2, lr__solver=newton-cg, smote__sampling_strategy=0.9;, score=(train=0.920, test=0.916) total time=   0.4s\n",
      "[CV 10/10] END lr__C=0.1, lr__max_iter=500, lr__penalty=l2, lr__solver=newton-cg, smote__sampling_strategy=0.9;, score=(train=0.918, test=0.916) total time=   0.4s\n",
      "[CV 1/10] END lr__C=0.1, lr__max_iter=500, lr__penalty=l2, lr__solver=newton-cg, smote__sampling_strategy=1.0;, score=(train=0.920, test=0.912) total time=   0.3s\n",
      "[CV 2/10] END lr__C=0.1, lr__max_iter=500, lr__penalty=l2, lr__solver=newton-cg, smote__sampling_strategy=1.0;, score=(train=0.916, test=0.912) total time=   0.4s\n",
      "[CV 3/10] END lr__C=0.1, lr__max_iter=500, lr__penalty=l2, lr__solver=newton-cg, smote__sampling_strategy=1.0;, score=(train=0.916, test=0.921) total time=   0.4s\n",
      "[CV 4/10] END lr__C=0.1, lr__max_iter=500, lr__penalty=l2, lr__solver=newton-cg, smote__sampling_strategy=1.0;, score=(train=0.920, test=0.911) total time=   0.4s\n",
      "[CV 5/10] END lr__C=0.1, lr__max_iter=500, lr__penalty=l2, lr__solver=newton-cg, smote__sampling_strategy=1.0;, score=(train=0.915, test=0.913) total time=   0.4s\n",
      "[CV 6/10] END lr__C=0.1, lr__max_iter=500, lr__penalty=l2, lr__solver=newton-cg, smote__sampling_strategy=1.0;, score=(train=0.915, test=0.920) total time=   0.4s\n",
      "[CV 7/10] END lr__C=0.1, lr__max_iter=500, lr__penalty=l2, lr__solver=newton-cg, smote__sampling_strategy=1.0;, score=(train=0.922, test=0.921) total time=   0.4s\n",
      "[CV 8/10] END lr__C=0.1, lr__max_iter=500, lr__penalty=l2, lr__solver=newton-cg, smote__sampling_strategy=1.0;, score=(train=0.917, test=0.919) total time=   0.4s\n",
      "[CV 9/10] END lr__C=0.1, lr__max_iter=500, lr__penalty=l2, lr__solver=newton-cg, smote__sampling_strategy=1.0;, score=(train=0.918, test=0.911) total time=   0.4s\n",
      "[CV 10/10] END lr__C=0.1, lr__max_iter=500, lr__penalty=l2, lr__solver=newton-cg, smote__sampling_strategy=1.0;, score=(train=0.917, test=0.916) total time=   0.4s\n",
      "[CV 1/10] END lr__C=0.1, lr__max_iter=500, lr__penalty=l2, lr__solver=lbfgs, smote__sampling_strategy=0.8;, score=(train=0.923, test=0.915) total time=   0.2s\n",
      "[CV 2/10] END lr__C=0.1, lr__max_iter=500, lr__penalty=l2, lr__solver=lbfgs, smote__sampling_strategy=0.8;, score=(train=0.921, test=0.915) total time=   0.2s\n",
      "[CV 3/10] END lr__C=0.1, lr__max_iter=500, lr__penalty=l2, lr__solver=lbfgs, smote__sampling_strategy=0.8;, score=(train=0.919, test=0.919) total time=   0.2s\n",
      "[CV 4/10] END lr__C=0.1, lr__max_iter=500, lr__penalty=l2, lr__solver=lbfgs, smote__sampling_strategy=0.8;, score=(train=0.924, test=0.911) total time=   0.2s\n",
      "[CV 5/10] END lr__C=0.1, lr__max_iter=500, lr__penalty=l2, lr__solver=lbfgs, smote__sampling_strategy=0.8;, score=(train=0.918, test=0.913) total time=   0.2s\n",
      "[CV 6/10] END lr__C=0.1, lr__max_iter=500, lr__penalty=l2, lr__solver=lbfgs, smote__sampling_strategy=0.8;, score=(train=0.915, test=0.924) total time=   0.2s\n",
      "[CV 7/10] END lr__C=0.1, lr__max_iter=500, lr__penalty=l2, lr__solver=lbfgs, smote__sampling_strategy=0.8;, score=(train=0.923, test=0.920) total time=   0.2s\n",
      "[CV 8/10] END lr__C=0.1, lr__max_iter=500, lr__penalty=l2, lr__solver=lbfgs, smote__sampling_strategy=0.8;, score=(train=0.919, test=0.918) total time=   0.2s\n",
      "[CV 9/10] END lr__C=0.1, lr__max_iter=500, lr__penalty=l2, lr__solver=lbfgs, smote__sampling_strategy=0.8;, score=(train=0.920, test=0.923) total time=   0.2s\n",
      "[CV 10/10] END lr__C=0.1, lr__max_iter=500, lr__penalty=l2, lr__solver=lbfgs, smote__sampling_strategy=0.8;, score=(train=0.919, test=0.918) total time=   0.2s\n",
      "[CV 1/10] END lr__C=0.1, lr__max_iter=500, lr__penalty=l2, lr__solver=lbfgs, smote__sampling_strategy=0.9;, score=(train=0.922, test=0.916) total time=   0.2s\n",
      "[CV 2/10] END lr__C=0.1, lr__max_iter=500, lr__penalty=l2, lr__solver=lbfgs, smote__sampling_strategy=0.9;, score=(train=0.920, test=0.914) total time=   0.2s\n",
      "[CV 3/10] END lr__C=0.1, lr__max_iter=500, lr__penalty=l2, lr__solver=lbfgs, smote__sampling_strategy=0.9;, score=(train=0.918, test=0.920) total time=   0.3s\n",
      "[CV 4/10] END lr__C=0.1, lr__max_iter=500, lr__penalty=l2, lr__solver=lbfgs, smote__sampling_strategy=0.9;, score=(train=0.922, test=0.910) total time=   0.2s\n",
      "[CV 5/10] END lr__C=0.1, lr__max_iter=500, lr__penalty=l2, lr__solver=lbfgs, smote__sampling_strategy=0.9;, score=(train=0.918, test=0.917) total time=   0.2s\n",
      "[CV 6/10] END lr__C=0.1, lr__max_iter=500, lr__penalty=l2, lr__solver=lbfgs, smote__sampling_strategy=0.9;, score=(train=0.915, test=0.925) total time=   0.3s\n",
      "[CV 7/10] END lr__C=0.1, lr__max_iter=500, lr__penalty=l2, lr__solver=lbfgs, smote__sampling_strategy=0.9;, score=(train=0.923, test=0.920) total time=   0.3s\n",
      "[CV 8/10] END lr__C=0.1, lr__max_iter=500, lr__penalty=l2, lr__solver=lbfgs, smote__sampling_strategy=0.9;, score=(train=0.919, test=0.920) total time=   0.3s\n",
      "[CV 9/10] END lr__C=0.1, lr__max_iter=500, lr__penalty=l2, lr__solver=lbfgs, smote__sampling_strategy=0.9;, score=(train=0.920, test=0.916) total time=   0.3s\n",
      "[CV 10/10] END lr__C=0.1, lr__max_iter=500, lr__penalty=l2, lr__solver=lbfgs, smote__sampling_strategy=0.9;, score=(train=0.918, test=0.916) total time=   0.3s\n",
      "[CV 1/10] END lr__C=0.1, lr__max_iter=500, lr__penalty=l2, lr__solver=lbfgs, smote__sampling_strategy=1.0;, score=(train=0.920, test=0.912) total time=   0.2s\n",
      "[CV 2/10] END lr__C=0.1, lr__max_iter=500, lr__penalty=l2, lr__solver=lbfgs, smote__sampling_strategy=1.0;, score=(train=0.916, test=0.912) total time=   0.2s\n",
      "[CV 3/10] END lr__C=0.1, lr__max_iter=500, lr__penalty=l2, lr__solver=lbfgs, smote__sampling_strategy=1.0;, score=(train=0.916, test=0.921) total time=   0.3s\n",
      "[CV 4/10] END lr__C=0.1, lr__max_iter=500, lr__penalty=l2, lr__solver=lbfgs, smote__sampling_strategy=1.0;, score=(train=0.920, test=0.911) total time=   0.3s\n",
      "[CV 5/10] END lr__C=0.1, lr__max_iter=500, lr__penalty=l2, lr__solver=lbfgs, smote__sampling_strategy=1.0;, score=(train=0.915, test=0.913) total time=   0.3s\n",
      "[CV 6/10] END lr__C=0.1, lr__max_iter=500, lr__penalty=l2, lr__solver=lbfgs, smote__sampling_strategy=1.0;, score=(train=0.915, test=0.920) total time=   0.3s\n",
      "[CV 7/10] END lr__C=0.1, lr__max_iter=500, lr__penalty=l2, lr__solver=lbfgs, smote__sampling_strategy=1.0;, score=(train=0.922, test=0.921) total time=   0.3s\n",
      "[CV 8/10] END lr__C=0.1, lr__max_iter=500, lr__penalty=l2, lr__solver=lbfgs, smote__sampling_strategy=1.0;, score=(train=0.917, test=0.919) total time=   0.3s\n",
      "[CV 9/10] END lr__C=0.1, lr__max_iter=500, lr__penalty=l2, lr__solver=lbfgs, smote__sampling_strategy=1.0;, score=(train=0.918, test=0.911) total time=   0.3s\n",
      "[CV 10/10] END lr__C=0.1, lr__max_iter=500, lr__penalty=l2, lr__solver=lbfgs, smote__sampling_strategy=1.0;, score=(train=0.917, test=0.916) total time=   0.3s\n",
      "[CV 1/10] END lr__C=0.1, lr__max_iter=500, lr__penalty=l2, lr__solver=liblinear, smote__sampling_strategy=0.8;, score=(train=0.923, test=0.916) total time=   0.2s\n",
      "[CV 2/10] END lr__C=0.1, lr__max_iter=500, lr__penalty=l2, lr__solver=liblinear, smote__sampling_strategy=0.8;, score=(train=0.921, test=0.915) total time=   0.2s\n",
      "[CV 3/10] END lr__C=0.1, lr__max_iter=500, lr__penalty=l2, lr__solver=liblinear, smote__sampling_strategy=0.8;, score=(train=0.919, test=0.918) total time=   0.2s\n",
      "[CV 4/10] END lr__C=0.1, lr__max_iter=500, lr__penalty=l2, lr__solver=liblinear, smote__sampling_strategy=0.8;, score=(train=0.924, test=0.912) total time=   0.2s\n",
      "[CV 5/10] END lr__C=0.1, lr__max_iter=500, lr__penalty=l2, lr__solver=liblinear, smote__sampling_strategy=0.8;, score=(train=0.918, test=0.914) total time=   0.2s\n",
      "[CV 6/10] END lr__C=0.1, lr__max_iter=500, lr__penalty=l2, lr__solver=liblinear, smote__sampling_strategy=0.8;, score=(train=0.914, test=0.923) total time=   0.2s\n",
      "[CV 7/10] END lr__C=0.1, lr__max_iter=500, lr__penalty=l2, lr__solver=liblinear, smote__sampling_strategy=0.8;, score=(train=0.923, test=0.920) total time=   0.2s\n",
      "[CV 8/10] END lr__C=0.1, lr__max_iter=500, lr__penalty=l2, lr__solver=liblinear, smote__sampling_strategy=0.8;, score=(train=0.919, test=0.918) total time=   0.2s\n",
      "[CV 9/10] END lr__C=0.1, lr__max_iter=500, lr__penalty=l2, lr__solver=liblinear, smote__sampling_strategy=0.8;, score=(train=0.919, test=0.923) total time=   0.2s\n",
      "[CV 10/10] END lr__C=0.1, lr__max_iter=500, lr__penalty=l2, lr__solver=liblinear, smote__sampling_strategy=0.8;, score=(train=0.919, test=0.919) total time=   0.2s\n",
      "[CV 1/10] END lr__C=0.1, lr__max_iter=500, lr__penalty=l2, lr__solver=liblinear, smote__sampling_strategy=0.9;, score=(train=0.922, test=0.916) total time=   0.2s\n",
      "[CV 2/10] END lr__C=0.1, lr__max_iter=500, lr__penalty=l2, lr__solver=liblinear, smote__sampling_strategy=0.9;, score=(train=0.920, test=0.913) total time=   0.2s\n",
      "[CV 3/10] END lr__C=0.1, lr__max_iter=500, lr__penalty=l2, lr__solver=liblinear, smote__sampling_strategy=0.9;, score=(train=0.918, test=0.920) total time=   0.2s\n",
      "[CV 4/10] END lr__C=0.1, lr__max_iter=500, lr__penalty=l2, lr__solver=liblinear, smote__sampling_strategy=0.9;, score=(train=0.922, test=0.909) total time=   0.2s\n",
      "[CV 5/10] END lr__C=0.1, lr__max_iter=500, lr__penalty=l2, lr__solver=liblinear, smote__sampling_strategy=0.9;, score=(train=0.918, test=0.916) total time=   0.2s\n",
      "[CV 6/10] END lr__C=0.1, lr__max_iter=500, lr__penalty=l2, lr__solver=liblinear, smote__sampling_strategy=0.9;, score=(train=0.914, test=0.925) total time=   0.2s\n",
      "[CV 7/10] END lr__C=0.1, lr__max_iter=500, lr__penalty=l2, lr__solver=liblinear, smote__sampling_strategy=0.9;, score=(train=0.923, test=0.921) total time=   0.2s\n",
      "[CV 8/10] END lr__C=0.1, lr__max_iter=500, lr__penalty=l2, lr__solver=liblinear, smote__sampling_strategy=0.9;, score=(train=0.918, test=0.919) total time=   0.2s\n",
      "[CV 9/10] END lr__C=0.1, lr__max_iter=500, lr__penalty=l2, lr__solver=liblinear, smote__sampling_strategy=0.9;, score=(train=0.920, test=0.916) total time=   0.2s\n",
      "[CV 10/10] END lr__C=0.1, lr__max_iter=500, lr__penalty=l2, lr__solver=liblinear, smote__sampling_strategy=0.9;, score=(train=0.918, test=0.917) total time=   0.2s\n",
      "[CV 1/10] END lr__C=0.1, lr__max_iter=500, lr__penalty=l2, lr__solver=liblinear, smote__sampling_strategy=1.0;, score=(train=0.920, test=0.913) total time=   0.2s\n",
      "[CV 2/10] END lr__C=0.1, lr__max_iter=500, lr__penalty=l2, lr__solver=liblinear, smote__sampling_strategy=1.0;, score=(train=0.916, test=0.911) total time=   0.2s\n",
      "[CV 3/10] END lr__C=0.1, lr__max_iter=500, lr__penalty=l2, lr__solver=liblinear, smote__sampling_strategy=1.0;, score=(train=0.916, test=0.922) total time=   0.2s\n",
      "[CV 4/10] END lr__C=0.1, lr__max_iter=500, lr__penalty=l2, lr__solver=liblinear, smote__sampling_strategy=1.0;, score=(train=0.920, test=0.911) total time=   0.2s\n",
      "[CV 5/10] END lr__C=0.1, lr__max_iter=500, lr__penalty=l2, lr__solver=liblinear, smote__sampling_strategy=1.0;, score=(train=0.915, test=0.913) total time=   0.2s\n",
      "[CV 6/10] END lr__C=0.1, lr__max_iter=500, lr__penalty=l2, lr__solver=liblinear, smote__sampling_strategy=1.0;, score=(train=0.915, test=0.920) total time=   0.2s\n",
      "[CV 7/10] END lr__C=0.1, lr__max_iter=500, lr__penalty=l2, lr__solver=liblinear, smote__sampling_strategy=1.0;, score=(train=0.921, test=0.920) total time=   0.2s\n",
      "[CV 8/10] END lr__C=0.1, lr__max_iter=500, lr__penalty=l2, lr__solver=liblinear, smote__sampling_strategy=1.0;, score=(train=0.917, test=0.919) total time=   0.2s\n",
      "[CV 9/10] END lr__C=0.1, lr__max_iter=500, lr__penalty=l2, lr__solver=liblinear, smote__sampling_strategy=1.0;, score=(train=0.918, test=0.911) total time=   0.2s\n",
      "[CV 10/10] END lr__C=0.1, lr__max_iter=500, lr__penalty=l2, lr__solver=liblinear, smote__sampling_strategy=1.0;, score=(train=0.916, test=0.917) total time=   0.2s\n",
      "[CV 1/10] END lr__C=0.1, lr__max_iter=500, lr__penalty=l2, lr__solver=sag, smote__sampling_strategy=0.8;, score=(train=0.923, test=0.915) total time=   0.4s\n",
      "[CV 2/10] END lr__C=0.1, lr__max_iter=500, lr__penalty=l2, lr__solver=sag, smote__sampling_strategy=0.8;, score=(train=0.921, test=0.915) total time=   0.5s\n",
      "[CV 3/10] END lr__C=0.1, lr__max_iter=500, lr__penalty=l2, lr__solver=sag, smote__sampling_strategy=0.8;, score=(train=0.919, test=0.919) total time=   0.4s\n",
      "[CV 4/10] END lr__C=0.1, lr__max_iter=500, lr__penalty=l2, lr__solver=sag, smote__sampling_strategy=0.8;, score=(train=0.924, test=0.911) total time=   0.5s\n",
      "[CV 5/10] END lr__C=0.1, lr__max_iter=500, lr__penalty=l2, lr__solver=sag, smote__sampling_strategy=0.8;, score=(train=0.918, test=0.913) total time=   0.4s\n",
      "[CV 6/10] END lr__C=0.1, lr__max_iter=500, lr__penalty=l2, lr__solver=sag, smote__sampling_strategy=0.8;, score=(train=0.915, test=0.924) total time=   0.5s\n",
      "[CV 7/10] END lr__C=0.1, lr__max_iter=500, lr__penalty=l2, lr__solver=sag, smote__sampling_strategy=0.8;, score=(train=0.923, test=0.920) total time=   0.4s\n",
      "[CV 8/10] END lr__C=0.1, lr__max_iter=500, lr__penalty=l2, lr__solver=sag, smote__sampling_strategy=0.8;, score=(train=0.919, test=0.918) total time=   0.5s\n",
      "[CV 9/10] END lr__C=0.1, lr__max_iter=500, lr__penalty=l2, lr__solver=sag, smote__sampling_strategy=0.8;, score=(train=0.920, test=0.923) total time=   0.4s\n",
      "[CV 10/10] END lr__C=0.1, lr__max_iter=500, lr__penalty=l2, lr__solver=sag, smote__sampling_strategy=0.8;, score=(train=0.919, test=0.918) total time=   0.4s\n",
      "[CV 1/10] END lr__C=0.1, lr__max_iter=500, lr__penalty=l2, lr__solver=sag, smote__sampling_strategy=0.9;, score=(train=0.922, test=0.916) total time=   0.5s\n",
      "[CV 2/10] END lr__C=0.1, lr__max_iter=500, lr__penalty=l2, lr__solver=sag, smote__sampling_strategy=0.9;, score=(train=0.920, test=0.914) total time=   0.5s\n",
      "[CV 3/10] END lr__C=0.1, lr__max_iter=500, lr__penalty=l2, lr__solver=sag, smote__sampling_strategy=0.9;, score=(train=0.918, test=0.920) total time=   0.5s\n",
      "[CV 4/10] END lr__C=0.1, lr__max_iter=500, lr__penalty=l2, lr__solver=sag, smote__sampling_strategy=0.9;, score=(train=0.922, test=0.910) total time=   0.4s\n",
      "[CV 5/10] END lr__C=0.1, lr__max_iter=500, lr__penalty=l2, lr__solver=sag, smote__sampling_strategy=0.9;, score=(train=0.918, test=0.917) total time=   0.5s\n",
      "[CV 6/10] END lr__C=0.1, lr__max_iter=500, lr__penalty=l2, lr__solver=sag, smote__sampling_strategy=0.9;, score=(train=0.915, test=0.925) total time=   0.5s\n",
      "[CV 7/10] END lr__C=0.1, lr__max_iter=500, lr__penalty=l2, lr__solver=sag, smote__sampling_strategy=0.9;, score=(train=0.923, test=0.920) total time=   0.5s\n",
      "[CV 8/10] END lr__C=0.1, lr__max_iter=500, lr__penalty=l2, lr__solver=sag, smote__sampling_strategy=0.9;, score=(train=0.919, test=0.920) total time=   0.5s\n",
      "[CV 9/10] END lr__C=0.1, lr__max_iter=500, lr__penalty=l2, lr__solver=sag, smote__sampling_strategy=0.9;, score=(train=0.920, test=0.916) total time=   0.5s\n",
      "[CV 10/10] END lr__C=0.1, lr__max_iter=500, lr__penalty=l2, lr__solver=sag, smote__sampling_strategy=0.9;, score=(train=0.918, test=0.916) total time=   0.5s\n",
      "[CV 1/10] END lr__C=0.1, lr__max_iter=500, lr__penalty=l2, lr__solver=sag, smote__sampling_strategy=1.0;, score=(train=0.920, test=0.912) total time=   0.5s\n",
      "[CV 2/10] END lr__C=0.1, lr__max_iter=500, lr__penalty=l2, lr__solver=sag, smote__sampling_strategy=1.0;, score=(train=0.916, test=0.912) total time=   0.5s\n",
      "[CV 3/10] END lr__C=0.1, lr__max_iter=500, lr__penalty=l2, lr__solver=sag, smote__sampling_strategy=1.0;, score=(train=0.916, test=0.921) total time=   0.5s\n",
      "[CV 4/10] END lr__C=0.1, lr__max_iter=500, lr__penalty=l2, lr__solver=sag, smote__sampling_strategy=1.0;, score=(train=0.920, test=0.911) total time=   0.4s\n",
      "[CV 5/10] END lr__C=0.1, lr__max_iter=500, lr__penalty=l2, lr__solver=sag, smote__sampling_strategy=1.0;, score=(train=0.915, test=0.913) total time=   0.5s\n",
      "[CV 6/10] END lr__C=0.1, lr__max_iter=500, lr__penalty=l2, lr__solver=sag, smote__sampling_strategy=1.0;, score=(train=0.915, test=0.920) total time=   0.5s\n",
      "[CV 7/10] END lr__C=0.1, lr__max_iter=500, lr__penalty=l2, lr__solver=sag, smote__sampling_strategy=1.0;, score=(train=0.922, test=0.921) total time=   0.5s\n",
      "[CV 8/10] END lr__C=0.1, lr__max_iter=500, lr__penalty=l2, lr__solver=sag, smote__sampling_strategy=1.0;, score=(train=0.917, test=0.919) total time=   0.5s\n",
      "[CV 9/10] END lr__C=0.1, lr__max_iter=500, lr__penalty=l2, lr__solver=sag, smote__sampling_strategy=1.0;, score=(train=0.918, test=0.911) total time=   0.5s\n",
      "[CV 10/10] END lr__C=0.1, lr__max_iter=500, lr__penalty=l2, lr__solver=sag, smote__sampling_strategy=1.0;, score=(train=0.917, test=0.916) total time=   0.5s\n",
      "[CV 1/10] END lr__C=0.1, lr__max_iter=500, lr__penalty=l2, lr__solver=saga, smote__sampling_strategy=0.8;, score=(train=0.923, test=0.915) total time=   0.4s\n",
      "[CV 2/10] END lr__C=0.1, lr__max_iter=500, lr__penalty=l2, lr__solver=saga, smote__sampling_strategy=0.8;, score=(train=0.921, test=0.915) total time=   0.4s\n",
      "[CV 3/10] END lr__C=0.1, lr__max_iter=500, lr__penalty=l2, lr__solver=saga, smote__sampling_strategy=0.8;, score=(train=0.919, test=0.919) total time=   0.4s\n",
      "[CV 4/10] END lr__C=0.1, lr__max_iter=500, lr__penalty=l2, lr__solver=saga, smote__sampling_strategy=0.8;, score=(train=0.924, test=0.911) total time=   0.5s\n",
      "[CV 5/10] END lr__C=0.1, lr__max_iter=500, lr__penalty=l2, lr__solver=saga, smote__sampling_strategy=0.8;, score=(train=0.918, test=0.913) total time=   0.4s\n",
      "[CV 6/10] END lr__C=0.1, lr__max_iter=500, lr__penalty=l2, lr__solver=saga, smote__sampling_strategy=0.8;, score=(train=0.915, test=0.924) total time=   0.5s\n",
      "[CV 7/10] END lr__C=0.1, lr__max_iter=500, lr__penalty=l2, lr__solver=saga, smote__sampling_strategy=0.8;, score=(train=0.923, test=0.920) total time=   0.4s\n",
      "[CV 8/10] END lr__C=0.1, lr__max_iter=500, lr__penalty=l2, lr__solver=saga, smote__sampling_strategy=0.8;, score=(train=0.919, test=0.918) total time=   0.5s\n",
      "[CV 9/10] END lr__C=0.1, lr__max_iter=500, lr__penalty=l2, lr__solver=saga, smote__sampling_strategy=0.8;, score=(train=0.920, test=0.923) total time=   0.4s\n",
      "[CV 10/10] END lr__C=0.1, lr__max_iter=500, lr__penalty=l2, lr__solver=saga, smote__sampling_strategy=0.8;, score=(train=0.919, test=0.918) total time=   0.5s\n",
      "[CV 1/10] END lr__C=0.1, lr__max_iter=500, lr__penalty=l2, lr__solver=saga, smote__sampling_strategy=0.9;, score=(train=0.922, test=0.916) total time=   0.4s\n",
      "[CV 2/10] END lr__C=0.1, lr__max_iter=500, lr__penalty=l2, lr__solver=saga, smote__sampling_strategy=0.9;, score=(train=0.920, test=0.914) total time=   0.5s\n",
      "[CV 3/10] END lr__C=0.1, lr__max_iter=500, lr__penalty=l2, lr__solver=saga, smote__sampling_strategy=0.9;, score=(train=0.918, test=0.920) total time=   0.4s\n",
      "[CV 4/10] END lr__C=0.1, lr__max_iter=500, lr__penalty=l2, lr__solver=saga, smote__sampling_strategy=0.9;, score=(train=0.922, test=0.910) total time=   0.5s\n",
      "[CV 5/10] END lr__C=0.1, lr__max_iter=500, lr__penalty=l2, lr__solver=saga, smote__sampling_strategy=0.9;, score=(train=0.918, test=0.917) total time=   0.5s\n",
      "[CV 6/10] END lr__C=0.1, lr__max_iter=500, lr__penalty=l2, lr__solver=saga, smote__sampling_strategy=0.9;, score=(train=0.915, test=0.925) total time=   0.5s\n",
      "[CV 7/10] END lr__C=0.1, lr__max_iter=500, lr__penalty=l2, lr__solver=saga, smote__sampling_strategy=0.9;, score=(train=0.923, test=0.920) total time=   0.5s\n",
      "[CV 8/10] END lr__C=0.1, lr__max_iter=500, lr__penalty=l2, lr__solver=saga, smote__sampling_strategy=0.9;, score=(train=0.919, test=0.920) total time=   0.6s\n",
      "[CV 9/10] END lr__C=0.1, lr__max_iter=500, lr__penalty=l2, lr__solver=saga, smote__sampling_strategy=0.9;, score=(train=0.920, test=0.916) total time=   0.5s\n",
      "[CV 10/10] END lr__C=0.1, lr__max_iter=500, lr__penalty=l2, lr__solver=saga, smote__sampling_strategy=0.9;, score=(train=0.918, test=0.916) total time=   0.5s\n",
      "[CV 1/10] END lr__C=0.1, lr__max_iter=500, lr__penalty=l2, lr__solver=saga, smote__sampling_strategy=1.0;, score=(train=0.920, test=0.912) total time=   0.5s\n",
      "[CV 2/10] END lr__C=0.1, lr__max_iter=500, lr__penalty=l2, lr__solver=saga, smote__sampling_strategy=1.0;, score=(train=0.916, test=0.912) total time=   0.5s\n",
      "[CV 3/10] END lr__C=0.1, lr__max_iter=500, lr__penalty=l2, lr__solver=saga, smote__sampling_strategy=1.0;, score=(train=0.916, test=0.921) total time=   0.5s\n",
      "[CV 4/10] END lr__C=0.1, lr__max_iter=500, lr__penalty=l2, lr__solver=saga, smote__sampling_strategy=1.0;, score=(train=0.920, test=0.911) total time=   0.5s\n",
      "[CV 5/10] END lr__C=0.1, lr__max_iter=500, lr__penalty=l2, lr__solver=saga, smote__sampling_strategy=1.0;, score=(train=0.915, test=0.913) total time=   0.5s\n",
      "[CV 6/10] END lr__C=0.1, lr__max_iter=500, lr__penalty=l2, lr__solver=saga, smote__sampling_strategy=1.0;, score=(train=0.915, test=0.920) total time=   0.5s\n",
      "[CV 7/10] END lr__C=0.1, lr__max_iter=500, lr__penalty=l2, lr__solver=saga, smote__sampling_strategy=1.0;, score=(train=0.922, test=0.921) total time=   0.5s\n",
      "[CV 8/10] END lr__C=0.1, lr__max_iter=500, lr__penalty=l2, lr__solver=saga, smote__sampling_strategy=1.0;, score=(train=0.917, test=0.919) total time=   0.5s\n",
      "[CV 9/10] END lr__C=0.1, lr__max_iter=500, lr__penalty=l2, lr__solver=saga, smote__sampling_strategy=1.0;, score=(train=0.918, test=0.911) total time=   0.5s\n",
      "[CV 10/10] END lr__C=0.1, lr__max_iter=500, lr__penalty=l2, lr__solver=saga, smote__sampling_strategy=1.0;, score=(train=0.917, test=0.916) total time=   0.5s\n",
      "[CV 1/10] END lr__C=1, lr__max_iter=100, lr__penalty=l2, lr__solver=newton-cg, smote__sampling_strategy=0.8;, score=(train=0.932, test=0.923) total time=   0.5s\n",
      "[CV 2/10] END lr__C=1, lr__max_iter=100, lr__penalty=l2, lr__solver=newton-cg, smote__sampling_strategy=0.8;, score=(train=0.930, test=0.924) total time=   0.5s\n",
      "[CV 3/10] END lr__C=1, lr__max_iter=100, lr__penalty=l2, lr__solver=newton-cg, smote__sampling_strategy=0.8;, score=(train=0.928, test=0.928) total time=   0.5s\n",
      "[CV 4/10] END lr__C=1, lr__max_iter=100, lr__penalty=l2, lr__solver=newton-cg, smote__sampling_strategy=0.8;, score=(train=0.931, test=0.925) total time=   0.5s\n",
      "[CV 5/10] END lr__C=1, lr__max_iter=100, lr__penalty=l2, lr__solver=newton-cg, smote__sampling_strategy=0.8;, score=(train=0.927, test=0.923) total time=   0.4s\n",
      "[CV 6/10] END lr__C=1, lr__max_iter=100, lr__penalty=l2, lr__solver=newton-cg, smote__sampling_strategy=0.8;, score=(train=0.927, test=0.931) total time=   0.5s\n",
      "[CV 7/10] END lr__C=1, lr__max_iter=100, lr__penalty=l2, lr__solver=newton-cg, smote__sampling_strategy=0.8;, score=(train=0.933, test=0.928) total time=   0.5s\n",
      "[CV 8/10] END lr__C=1, lr__max_iter=100, lr__penalty=l2, lr__solver=newton-cg, smote__sampling_strategy=0.8;, score=(train=0.928, test=0.930) total time=   0.5s\n",
      "[CV 9/10] END lr__C=1, lr__max_iter=100, lr__penalty=l2, lr__solver=newton-cg, smote__sampling_strategy=0.8;, score=(train=0.930, test=0.927) total time=   0.5s\n",
      "[CV 10/10] END lr__C=1, lr__max_iter=100, lr__penalty=l2, lr__solver=newton-cg, smote__sampling_strategy=0.8;, score=(train=0.929, test=0.929) total time=   0.5s\n",
      "[CV 1/10] END lr__C=1, lr__max_iter=100, lr__penalty=l2, lr__solver=newton-cg, smote__sampling_strategy=0.9;, score=(train=0.932, test=0.923) total time=   0.5s\n",
      "[CV 2/10] END lr__C=1, lr__max_iter=100, lr__penalty=l2, lr__solver=newton-cg, smote__sampling_strategy=0.9;, score=(train=0.929, test=0.923) total time=   0.5s\n",
      "[CV 3/10] END lr__C=1, lr__max_iter=100, lr__penalty=l2, lr__solver=newton-cg, smote__sampling_strategy=0.9;, score=(train=0.927, test=0.930) total time=   0.5s\n",
      "[CV 4/10] END lr__C=1, lr__max_iter=100, lr__penalty=l2, lr__solver=newton-cg, smote__sampling_strategy=0.9;, score=(train=0.931, test=0.923) total time=   0.5s\n",
      "[CV 5/10] END lr__C=1, lr__max_iter=100, lr__penalty=l2, lr__solver=newton-cg, smote__sampling_strategy=0.9;, score=(train=0.927, test=0.925) total time=   0.6s\n",
      "[CV 6/10] END lr__C=1, lr__max_iter=100, lr__penalty=l2, lr__solver=newton-cg, smote__sampling_strategy=0.9;, score=(train=0.926, test=0.931) total time=   0.5s\n",
      "[CV 7/10] END lr__C=1, lr__max_iter=100, lr__penalty=l2, lr__solver=newton-cg, smote__sampling_strategy=0.9;, score=(train=0.933, test=0.925) total time=   0.5s\n",
      "[CV 8/10] END lr__C=1, lr__max_iter=100, lr__penalty=l2, lr__solver=newton-cg, smote__sampling_strategy=0.9;, score=(train=0.928, test=0.927) total time=   0.5s\n",
      "[CV 9/10] END lr__C=1, lr__max_iter=100, lr__penalty=l2, lr__solver=newton-cg, smote__sampling_strategy=0.9;, score=(train=0.931, test=0.925) total time=   0.5s\n",
      "[CV 10/10] END lr__C=1, lr__max_iter=100, lr__penalty=l2, lr__solver=newton-cg, smote__sampling_strategy=0.9;, score=(train=0.927, test=0.927) total time=   0.5s\n",
      "[CV 1/10] END lr__C=1, lr__max_iter=100, lr__penalty=l2, lr__solver=newton-cg, smote__sampling_strategy=1.0;, score=(train=0.930, test=0.923) total time=   0.5s\n",
      "[CV 2/10] END lr__C=1, lr__max_iter=100, lr__penalty=l2, lr__solver=newton-cg, smote__sampling_strategy=1.0;, score=(train=0.928, test=0.922) total time=   0.8s\n",
      "[CV 3/10] END lr__C=1, lr__max_iter=100, lr__penalty=l2, lr__solver=newton-cg, smote__sampling_strategy=1.0;, score=(train=0.926, test=0.930) total time=   0.7s\n",
      "[CV 4/10] END lr__C=1, lr__max_iter=100, lr__penalty=l2, lr__solver=newton-cg, smote__sampling_strategy=1.0;, score=(train=0.930, test=0.923) total time=   0.6s\n",
      "[CV 5/10] END lr__C=1, lr__max_iter=100, lr__penalty=l2, lr__solver=newton-cg, smote__sampling_strategy=1.0;, score=(train=0.927, test=0.924) total time=   0.5s\n",
      "[CV 6/10] END lr__C=1, lr__max_iter=100, lr__penalty=l2, lr__solver=newton-cg, smote__sampling_strategy=1.0;, score=(train=0.926, test=0.929) total time=   0.5s\n",
      "[CV 7/10] END lr__C=1, lr__max_iter=100, lr__penalty=l2, lr__solver=newton-cg, smote__sampling_strategy=1.0;, score=(train=0.931, test=0.923) total time=   0.5s\n",
      "[CV 8/10] END lr__C=1, lr__max_iter=100, lr__penalty=l2, lr__solver=newton-cg, smote__sampling_strategy=1.0;, score=(train=0.927, test=0.926) total time=   0.5s\n",
      "[CV 9/10] END lr__C=1, lr__max_iter=100, lr__penalty=l2, lr__solver=newton-cg, smote__sampling_strategy=1.0;, score=(train=0.928, test=0.925) total time=   0.5s\n",
      "[CV 10/10] END lr__C=1, lr__max_iter=100, lr__penalty=l2, lr__solver=newton-cg, smote__sampling_strategy=1.0;, score=(train=0.927, test=0.926) total time=   0.6s\n"
     ]
    },
    {
     "name": "stderr",
     "output_type": "stream",
     "text": [
      "/opt/conda/lib/python3.7/site-packages/sklearn/linear_model/_logistic.py:818: ConvergenceWarning: lbfgs failed to converge (status=1):\n",
      "STOP: TOTAL NO. of ITERATIONS REACHED LIMIT.\n",
      "\n",
      "Increase the number of iterations (max_iter) or scale the data as shown in:\n",
      "    https://scikit-learn.org/stable/modules/preprocessing.html\n",
      "Please also refer to the documentation for alternative solver options:\n",
      "    https://scikit-learn.org/stable/modules/linear_model.html#logistic-regression\n",
      "  extra_warning_msg=_LOGISTIC_SOLVER_CONVERGENCE_MSG,\n"
     ]
    },
    {
     "name": "stdout",
     "output_type": "stream",
     "text": [
      "[CV 1/10] END lr__C=1, lr__max_iter=100, lr__penalty=l2, lr__solver=lbfgs, smote__sampling_strategy=0.8;, score=(train=0.932, test=0.923) total time=   0.3s\n"
     ]
    },
    {
     "name": "stderr",
     "output_type": "stream",
     "text": [
      "/opt/conda/lib/python3.7/site-packages/sklearn/linear_model/_logistic.py:818: ConvergenceWarning: lbfgs failed to converge (status=1):\n",
      "STOP: TOTAL NO. of ITERATIONS REACHED LIMIT.\n",
      "\n",
      "Increase the number of iterations (max_iter) or scale the data as shown in:\n",
      "    https://scikit-learn.org/stable/modules/preprocessing.html\n",
      "Please also refer to the documentation for alternative solver options:\n",
      "    https://scikit-learn.org/stable/modules/linear_model.html#logistic-regression\n",
      "  extra_warning_msg=_LOGISTIC_SOLVER_CONVERGENCE_MSG,\n"
     ]
    },
    {
     "name": "stdout",
     "output_type": "stream",
     "text": [
      "[CV 2/10] END lr__C=1, lr__max_iter=100, lr__penalty=l2, lr__solver=lbfgs, smote__sampling_strategy=0.8;, score=(train=0.929, test=0.924) total time=   0.3s\n"
     ]
    },
    {
     "name": "stderr",
     "output_type": "stream",
     "text": [
      "/opt/conda/lib/python3.7/site-packages/sklearn/linear_model/_logistic.py:818: ConvergenceWarning: lbfgs failed to converge (status=1):\n",
      "STOP: TOTAL NO. of ITERATIONS REACHED LIMIT.\n",
      "\n",
      "Increase the number of iterations (max_iter) or scale the data as shown in:\n",
      "    https://scikit-learn.org/stable/modules/preprocessing.html\n",
      "Please also refer to the documentation for alternative solver options:\n",
      "    https://scikit-learn.org/stable/modules/linear_model.html#logistic-regression\n",
      "  extra_warning_msg=_LOGISTIC_SOLVER_CONVERGENCE_MSG,\n"
     ]
    },
    {
     "name": "stdout",
     "output_type": "stream",
     "text": [
      "[CV 3/10] END lr__C=1, lr__max_iter=100, lr__penalty=l2, lr__solver=lbfgs, smote__sampling_strategy=0.8;, score=(train=0.928, test=0.928) total time=   0.3s\n"
     ]
    },
    {
     "name": "stderr",
     "output_type": "stream",
     "text": [
      "/opt/conda/lib/python3.7/site-packages/sklearn/linear_model/_logistic.py:818: ConvergenceWarning: lbfgs failed to converge (status=1):\n",
      "STOP: TOTAL NO. of ITERATIONS REACHED LIMIT.\n",
      "\n",
      "Increase the number of iterations (max_iter) or scale the data as shown in:\n",
      "    https://scikit-learn.org/stable/modules/preprocessing.html\n",
      "Please also refer to the documentation for alternative solver options:\n",
      "    https://scikit-learn.org/stable/modules/linear_model.html#logistic-regression\n",
      "  extra_warning_msg=_LOGISTIC_SOLVER_CONVERGENCE_MSG,\n"
     ]
    },
    {
     "name": "stdout",
     "output_type": "stream",
     "text": [
      "[CV 4/10] END lr__C=1, lr__max_iter=100, lr__penalty=l2, lr__solver=lbfgs, smote__sampling_strategy=0.8;, score=(train=0.931, test=0.925) total time=   0.3s\n"
     ]
    },
    {
     "name": "stderr",
     "output_type": "stream",
     "text": [
      "/opt/conda/lib/python3.7/site-packages/sklearn/linear_model/_logistic.py:818: ConvergenceWarning: lbfgs failed to converge (status=1):\n",
      "STOP: TOTAL NO. of ITERATIONS REACHED LIMIT.\n",
      "\n",
      "Increase the number of iterations (max_iter) or scale the data as shown in:\n",
      "    https://scikit-learn.org/stable/modules/preprocessing.html\n",
      "Please also refer to the documentation for alternative solver options:\n",
      "    https://scikit-learn.org/stable/modules/linear_model.html#logistic-regression\n",
      "  extra_warning_msg=_LOGISTIC_SOLVER_CONVERGENCE_MSG,\n"
     ]
    },
    {
     "name": "stdout",
     "output_type": "stream",
     "text": [
      "[CV 5/10] END lr__C=1, lr__max_iter=100, lr__penalty=l2, lr__solver=lbfgs, smote__sampling_strategy=0.8;, score=(train=0.927, test=0.923) total time=   0.3s\n"
     ]
    },
    {
     "name": "stderr",
     "output_type": "stream",
     "text": [
      "/opt/conda/lib/python3.7/site-packages/sklearn/linear_model/_logistic.py:818: ConvergenceWarning: lbfgs failed to converge (status=1):\n",
      "STOP: TOTAL NO. of ITERATIONS REACHED LIMIT.\n",
      "\n",
      "Increase the number of iterations (max_iter) or scale the data as shown in:\n",
      "    https://scikit-learn.org/stable/modules/preprocessing.html\n",
      "Please also refer to the documentation for alternative solver options:\n",
      "    https://scikit-learn.org/stable/modules/linear_model.html#logistic-regression\n",
      "  extra_warning_msg=_LOGISTIC_SOLVER_CONVERGENCE_MSG,\n"
     ]
    },
    {
     "name": "stdout",
     "output_type": "stream",
     "text": [
      "[CV 6/10] END lr__C=1, lr__max_iter=100, lr__penalty=l2, lr__solver=lbfgs, smote__sampling_strategy=0.8;, score=(train=0.927, test=0.932) total time=   0.3s\n"
     ]
    },
    {
     "name": "stderr",
     "output_type": "stream",
     "text": [
      "/opt/conda/lib/python3.7/site-packages/sklearn/linear_model/_logistic.py:818: ConvergenceWarning: lbfgs failed to converge (status=1):\n",
      "STOP: TOTAL NO. of ITERATIONS REACHED LIMIT.\n",
      "\n",
      "Increase the number of iterations (max_iter) or scale the data as shown in:\n",
      "    https://scikit-learn.org/stable/modules/preprocessing.html\n",
      "Please also refer to the documentation for alternative solver options:\n",
      "    https://scikit-learn.org/stable/modules/linear_model.html#logistic-regression\n",
      "  extra_warning_msg=_LOGISTIC_SOLVER_CONVERGENCE_MSG,\n"
     ]
    },
    {
     "name": "stdout",
     "output_type": "stream",
     "text": [
      "[CV 7/10] END lr__C=1, lr__max_iter=100, lr__penalty=l2, lr__solver=lbfgs, smote__sampling_strategy=0.8;, score=(train=0.933, test=0.928) total time=   0.3s\n"
     ]
    },
    {
     "name": "stderr",
     "output_type": "stream",
     "text": [
      "/opt/conda/lib/python3.7/site-packages/sklearn/linear_model/_logistic.py:818: ConvergenceWarning: lbfgs failed to converge (status=1):\n",
      "STOP: TOTAL NO. of ITERATIONS REACHED LIMIT.\n",
      "\n",
      "Increase the number of iterations (max_iter) or scale the data as shown in:\n",
      "    https://scikit-learn.org/stable/modules/preprocessing.html\n",
      "Please also refer to the documentation for alternative solver options:\n",
      "    https://scikit-learn.org/stable/modules/linear_model.html#logistic-regression\n",
      "  extra_warning_msg=_LOGISTIC_SOLVER_CONVERGENCE_MSG,\n"
     ]
    },
    {
     "name": "stdout",
     "output_type": "stream",
     "text": [
      "[CV 8/10] END lr__C=1, lr__max_iter=100, lr__penalty=l2, lr__solver=lbfgs, smote__sampling_strategy=0.8;, score=(train=0.928, test=0.930) total time=   0.3s\n"
     ]
    },
    {
     "name": "stderr",
     "output_type": "stream",
     "text": [
      "/opt/conda/lib/python3.7/site-packages/sklearn/linear_model/_logistic.py:818: ConvergenceWarning: lbfgs failed to converge (status=1):\n",
      "STOP: TOTAL NO. of ITERATIONS REACHED LIMIT.\n",
      "\n",
      "Increase the number of iterations (max_iter) or scale the data as shown in:\n",
      "    https://scikit-learn.org/stable/modules/preprocessing.html\n",
      "Please also refer to the documentation for alternative solver options:\n",
      "    https://scikit-learn.org/stable/modules/linear_model.html#logistic-regression\n",
      "  extra_warning_msg=_LOGISTIC_SOLVER_CONVERGENCE_MSG,\n"
     ]
    },
    {
     "name": "stdout",
     "output_type": "stream",
     "text": [
      "[CV 9/10] END lr__C=1, lr__max_iter=100, lr__penalty=l2, lr__solver=lbfgs, smote__sampling_strategy=0.8;, score=(train=0.930, test=0.926) total time=   0.3s\n"
     ]
    },
    {
     "name": "stderr",
     "output_type": "stream",
     "text": [
      "/opt/conda/lib/python3.7/site-packages/sklearn/linear_model/_logistic.py:818: ConvergenceWarning: lbfgs failed to converge (status=1):\n",
      "STOP: TOTAL NO. of ITERATIONS REACHED LIMIT.\n",
      "\n",
      "Increase the number of iterations (max_iter) or scale the data as shown in:\n",
      "    https://scikit-learn.org/stable/modules/preprocessing.html\n",
      "Please also refer to the documentation for alternative solver options:\n",
      "    https://scikit-learn.org/stable/modules/linear_model.html#logistic-regression\n",
      "  extra_warning_msg=_LOGISTIC_SOLVER_CONVERGENCE_MSG,\n"
     ]
    },
    {
     "name": "stdout",
     "output_type": "stream",
     "text": [
      "[CV 10/10] END lr__C=1, lr__max_iter=100, lr__penalty=l2, lr__solver=lbfgs, smote__sampling_strategy=0.8;, score=(train=0.929, test=0.929) total time=   0.3s\n"
     ]
    },
    {
     "name": "stderr",
     "output_type": "stream",
     "text": [
      "/opt/conda/lib/python3.7/site-packages/sklearn/linear_model/_logistic.py:818: ConvergenceWarning: lbfgs failed to converge (status=1):\n",
      "STOP: TOTAL NO. of ITERATIONS REACHED LIMIT.\n",
      "\n",
      "Increase the number of iterations (max_iter) or scale the data as shown in:\n",
      "    https://scikit-learn.org/stable/modules/preprocessing.html\n",
      "Please also refer to the documentation for alternative solver options:\n",
      "    https://scikit-learn.org/stable/modules/linear_model.html#logistic-regression\n",
      "  extra_warning_msg=_LOGISTIC_SOLVER_CONVERGENCE_MSG,\n"
     ]
    },
    {
     "name": "stdout",
     "output_type": "stream",
     "text": [
      "[CV 1/10] END lr__C=1, lr__max_iter=100, lr__penalty=l2, lr__solver=lbfgs, smote__sampling_strategy=0.9;, score=(train=0.932, test=0.923) total time=   0.3s\n"
     ]
    },
    {
     "name": "stderr",
     "output_type": "stream",
     "text": [
      "/opt/conda/lib/python3.7/site-packages/sklearn/linear_model/_logistic.py:818: ConvergenceWarning: lbfgs failed to converge (status=1):\n",
      "STOP: TOTAL NO. of ITERATIONS REACHED LIMIT.\n",
      "\n",
      "Increase the number of iterations (max_iter) or scale the data as shown in:\n",
      "    https://scikit-learn.org/stable/modules/preprocessing.html\n",
      "Please also refer to the documentation for alternative solver options:\n",
      "    https://scikit-learn.org/stable/modules/linear_model.html#logistic-regression\n",
      "  extra_warning_msg=_LOGISTIC_SOLVER_CONVERGENCE_MSG,\n"
     ]
    },
    {
     "name": "stdout",
     "output_type": "stream",
     "text": [
      "[CV 2/10] END lr__C=1, lr__max_iter=100, lr__penalty=l2, lr__solver=lbfgs, smote__sampling_strategy=0.9;, score=(train=0.929, test=0.923) total time=   0.3s\n"
     ]
    },
    {
     "name": "stderr",
     "output_type": "stream",
     "text": [
      "/opt/conda/lib/python3.7/site-packages/sklearn/linear_model/_logistic.py:818: ConvergenceWarning: lbfgs failed to converge (status=1):\n",
      "STOP: TOTAL NO. of ITERATIONS REACHED LIMIT.\n",
      "\n",
      "Increase the number of iterations (max_iter) or scale the data as shown in:\n",
      "    https://scikit-learn.org/stable/modules/preprocessing.html\n",
      "Please also refer to the documentation for alternative solver options:\n",
      "    https://scikit-learn.org/stable/modules/linear_model.html#logistic-regression\n",
      "  extra_warning_msg=_LOGISTIC_SOLVER_CONVERGENCE_MSG,\n"
     ]
    },
    {
     "name": "stdout",
     "output_type": "stream",
     "text": [
      "[CV 3/10] END lr__C=1, lr__max_iter=100, lr__penalty=l2, lr__solver=lbfgs, smote__sampling_strategy=0.9;, score=(train=0.927, test=0.930) total time=   0.4s\n"
     ]
    },
    {
     "name": "stderr",
     "output_type": "stream",
     "text": [
      "/opt/conda/lib/python3.7/site-packages/sklearn/linear_model/_logistic.py:818: ConvergenceWarning: lbfgs failed to converge (status=1):\n",
      "STOP: TOTAL NO. of ITERATIONS REACHED LIMIT.\n",
      "\n",
      "Increase the number of iterations (max_iter) or scale the data as shown in:\n",
      "    https://scikit-learn.org/stable/modules/preprocessing.html\n",
      "Please also refer to the documentation for alternative solver options:\n",
      "    https://scikit-learn.org/stable/modules/linear_model.html#logistic-regression\n",
      "  extra_warning_msg=_LOGISTIC_SOLVER_CONVERGENCE_MSG,\n"
     ]
    },
    {
     "name": "stdout",
     "output_type": "stream",
     "text": [
      "[CV 4/10] END lr__C=1, lr__max_iter=100, lr__penalty=l2, lr__solver=lbfgs, smote__sampling_strategy=0.9;, score=(train=0.931, test=0.923) total time=   0.3s\n"
     ]
    },
    {
     "name": "stderr",
     "output_type": "stream",
     "text": [
      "/opt/conda/lib/python3.7/site-packages/sklearn/linear_model/_logistic.py:818: ConvergenceWarning: lbfgs failed to converge (status=1):\n",
      "STOP: TOTAL NO. of ITERATIONS REACHED LIMIT.\n",
      "\n",
      "Increase the number of iterations (max_iter) or scale the data as shown in:\n",
      "    https://scikit-learn.org/stable/modules/preprocessing.html\n",
      "Please also refer to the documentation for alternative solver options:\n",
      "    https://scikit-learn.org/stable/modules/linear_model.html#logistic-regression\n",
      "  extra_warning_msg=_LOGISTIC_SOLVER_CONVERGENCE_MSG,\n"
     ]
    },
    {
     "name": "stdout",
     "output_type": "stream",
     "text": [
      "[CV 5/10] END lr__C=1, lr__max_iter=100, lr__penalty=l2, lr__solver=lbfgs, smote__sampling_strategy=0.9;, score=(train=0.927, test=0.925) total time=   0.3s\n"
     ]
    },
    {
     "name": "stderr",
     "output_type": "stream",
     "text": [
      "/opt/conda/lib/python3.7/site-packages/sklearn/linear_model/_logistic.py:818: ConvergenceWarning: lbfgs failed to converge (status=1):\n",
      "STOP: TOTAL NO. of ITERATIONS REACHED LIMIT.\n",
      "\n",
      "Increase the number of iterations (max_iter) or scale the data as shown in:\n",
      "    https://scikit-learn.org/stable/modules/preprocessing.html\n",
      "Please also refer to the documentation for alternative solver options:\n",
      "    https://scikit-learn.org/stable/modules/linear_model.html#logistic-regression\n",
      "  extra_warning_msg=_LOGISTIC_SOLVER_CONVERGENCE_MSG,\n"
     ]
    },
    {
     "name": "stdout",
     "output_type": "stream",
     "text": [
      "[CV 6/10] END lr__C=1, lr__max_iter=100, lr__penalty=l2, lr__solver=lbfgs, smote__sampling_strategy=0.9;, score=(train=0.926, test=0.931) total time=   0.4s\n"
     ]
    },
    {
     "name": "stderr",
     "output_type": "stream",
     "text": [
      "/opt/conda/lib/python3.7/site-packages/sklearn/linear_model/_logistic.py:818: ConvergenceWarning: lbfgs failed to converge (status=1):\n",
      "STOP: TOTAL NO. of ITERATIONS REACHED LIMIT.\n",
      "\n",
      "Increase the number of iterations (max_iter) or scale the data as shown in:\n",
      "    https://scikit-learn.org/stable/modules/preprocessing.html\n",
      "Please also refer to the documentation for alternative solver options:\n",
      "    https://scikit-learn.org/stable/modules/linear_model.html#logistic-regression\n",
      "  extra_warning_msg=_LOGISTIC_SOLVER_CONVERGENCE_MSG,\n"
     ]
    },
    {
     "name": "stdout",
     "output_type": "stream",
     "text": [
      "[CV 7/10] END lr__C=1, lr__max_iter=100, lr__penalty=l2, lr__solver=lbfgs, smote__sampling_strategy=0.9;, score=(train=0.933, test=0.925) total time=   0.3s\n"
     ]
    },
    {
     "name": "stderr",
     "output_type": "stream",
     "text": [
      "/opt/conda/lib/python3.7/site-packages/sklearn/linear_model/_logistic.py:818: ConvergenceWarning: lbfgs failed to converge (status=1):\n",
      "STOP: TOTAL NO. of ITERATIONS REACHED LIMIT.\n",
      "\n",
      "Increase the number of iterations (max_iter) or scale the data as shown in:\n",
      "    https://scikit-learn.org/stable/modules/preprocessing.html\n",
      "Please also refer to the documentation for alternative solver options:\n",
      "    https://scikit-learn.org/stable/modules/linear_model.html#logistic-regression\n",
      "  extra_warning_msg=_LOGISTIC_SOLVER_CONVERGENCE_MSG,\n"
     ]
    },
    {
     "name": "stdout",
     "output_type": "stream",
     "text": [
      "[CV 8/10] END lr__C=1, lr__max_iter=100, lr__penalty=l2, lr__solver=lbfgs, smote__sampling_strategy=0.9;, score=(train=0.928, test=0.927) total time=   0.4s\n"
     ]
    },
    {
     "name": "stderr",
     "output_type": "stream",
     "text": [
      "/opt/conda/lib/python3.7/site-packages/sklearn/linear_model/_logistic.py:818: ConvergenceWarning: lbfgs failed to converge (status=1):\n",
      "STOP: TOTAL NO. of ITERATIONS REACHED LIMIT.\n",
      "\n",
      "Increase the number of iterations (max_iter) or scale the data as shown in:\n",
      "    https://scikit-learn.org/stable/modules/preprocessing.html\n",
      "Please also refer to the documentation for alternative solver options:\n",
      "    https://scikit-learn.org/stable/modules/linear_model.html#logistic-regression\n",
      "  extra_warning_msg=_LOGISTIC_SOLVER_CONVERGENCE_MSG,\n"
     ]
    },
    {
     "name": "stdout",
     "output_type": "stream",
     "text": [
      "[CV 9/10] END lr__C=1, lr__max_iter=100, lr__penalty=l2, lr__solver=lbfgs, smote__sampling_strategy=0.9;, score=(train=0.931, test=0.926) total time=   0.3s\n"
     ]
    },
    {
     "name": "stderr",
     "output_type": "stream",
     "text": [
      "/opt/conda/lib/python3.7/site-packages/sklearn/linear_model/_logistic.py:818: ConvergenceWarning: lbfgs failed to converge (status=1):\n",
      "STOP: TOTAL NO. of ITERATIONS REACHED LIMIT.\n",
      "\n",
      "Increase the number of iterations (max_iter) or scale the data as shown in:\n",
      "    https://scikit-learn.org/stable/modules/preprocessing.html\n",
      "Please also refer to the documentation for alternative solver options:\n",
      "    https://scikit-learn.org/stable/modules/linear_model.html#logistic-regression\n",
      "  extra_warning_msg=_LOGISTIC_SOLVER_CONVERGENCE_MSG,\n"
     ]
    },
    {
     "name": "stdout",
     "output_type": "stream",
     "text": [
      "[CV 10/10] END lr__C=1, lr__max_iter=100, lr__penalty=l2, lr__solver=lbfgs, smote__sampling_strategy=0.9;, score=(train=0.927, test=0.927) total time=   0.3s\n"
     ]
    },
    {
     "name": "stderr",
     "output_type": "stream",
     "text": [
      "/opt/conda/lib/python3.7/site-packages/sklearn/linear_model/_logistic.py:818: ConvergenceWarning: lbfgs failed to converge (status=1):\n",
      "STOP: TOTAL NO. of ITERATIONS REACHED LIMIT.\n",
      "\n",
      "Increase the number of iterations (max_iter) or scale the data as shown in:\n",
      "    https://scikit-learn.org/stable/modules/preprocessing.html\n",
      "Please also refer to the documentation for alternative solver options:\n",
      "    https://scikit-learn.org/stable/modules/linear_model.html#logistic-regression\n",
      "  extra_warning_msg=_LOGISTIC_SOLVER_CONVERGENCE_MSG,\n"
     ]
    },
    {
     "name": "stdout",
     "output_type": "stream",
     "text": [
      "[CV 1/10] END lr__C=1, lr__max_iter=100, lr__penalty=l2, lr__solver=lbfgs, smote__sampling_strategy=1.0;, score=(train=0.930, test=0.923) total time=   0.4s\n"
     ]
    },
    {
     "name": "stderr",
     "output_type": "stream",
     "text": [
      "/opt/conda/lib/python3.7/site-packages/sklearn/linear_model/_logistic.py:818: ConvergenceWarning: lbfgs failed to converge (status=1):\n",
      "STOP: TOTAL NO. of ITERATIONS REACHED LIMIT.\n",
      "\n",
      "Increase the number of iterations (max_iter) or scale the data as shown in:\n",
      "    https://scikit-learn.org/stable/modules/preprocessing.html\n",
      "Please also refer to the documentation for alternative solver options:\n",
      "    https://scikit-learn.org/stable/modules/linear_model.html#logistic-regression\n",
      "  extra_warning_msg=_LOGISTIC_SOLVER_CONVERGENCE_MSG,\n"
     ]
    },
    {
     "name": "stdout",
     "output_type": "stream",
     "text": [
      "[CV 2/10] END lr__C=1, lr__max_iter=100, lr__penalty=l2, lr__solver=lbfgs, smote__sampling_strategy=1.0;, score=(train=0.928, test=0.922) total time=   0.3s\n"
     ]
    },
    {
     "name": "stderr",
     "output_type": "stream",
     "text": [
      "/opt/conda/lib/python3.7/site-packages/sklearn/linear_model/_logistic.py:818: ConvergenceWarning: lbfgs failed to converge (status=1):\n",
      "STOP: TOTAL NO. of ITERATIONS REACHED LIMIT.\n",
      "\n",
      "Increase the number of iterations (max_iter) or scale the data as shown in:\n",
      "    https://scikit-learn.org/stable/modules/preprocessing.html\n",
      "Please also refer to the documentation for alternative solver options:\n",
      "    https://scikit-learn.org/stable/modules/linear_model.html#logistic-regression\n",
      "  extra_warning_msg=_LOGISTIC_SOLVER_CONVERGENCE_MSG,\n"
     ]
    },
    {
     "name": "stdout",
     "output_type": "stream",
     "text": [
      "[CV 3/10] END lr__C=1, lr__max_iter=100, lr__penalty=l2, lr__solver=lbfgs, smote__sampling_strategy=1.0;, score=(train=0.926, test=0.930) total time=   0.3s\n"
     ]
    },
    {
     "name": "stderr",
     "output_type": "stream",
     "text": [
      "/opt/conda/lib/python3.7/site-packages/sklearn/linear_model/_logistic.py:818: ConvergenceWarning: lbfgs failed to converge (status=1):\n",
      "STOP: TOTAL NO. of ITERATIONS REACHED LIMIT.\n",
      "\n",
      "Increase the number of iterations (max_iter) or scale the data as shown in:\n",
      "    https://scikit-learn.org/stable/modules/preprocessing.html\n",
      "Please also refer to the documentation for alternative solver options:\n",
      "    https://scikit-learn.org/stable/modules/linear_model.html#logistic-regression\n",
      "  extra_warning_msg=_LOGISTIC_SOLVER_CONVERGENCE_MSG,\n"
     ]
    },
    {
     "name": "stdout",
     "output_type": "stream",
     "text": [
      "[CV 4/10] END lr__C=1, lr__max_iter=100, lr__penalty=l2, lr__solver=lbfgs, smote__sampling_strategy=1.0;, score=(train=0.930, test=0.923) total time=   0.3s\n"
     ]
    },
    {
     "name": "stderr",
     "output_type": "stream",
     "text": [
      "/opt/conda/lib/python3.7/site-packages/sklearn/linear_model/_logistic.py:818: ConvergenceWarning: lbfgs failed to converge (status=1):\n",
      "STOP: TOTAL NO. of ITERATIONS REACHED LIMIT.\n",
      "\n",
      "Increase the number of iterations (max_iter) or scale the data as shown in:\n",
      "    https://scikit-learn.org/stable/modules/preprocessing.html\n",
      "Please also refer to the documentation for alternative solver options:\n",
      "    https://scikit-learn.org/stable/modules/linear_model.html#logistic-regression\n",
      "  extra_warning_msg=_LOGISTIC_SOLVER_CONVERGENCE_MSG,\n"
     ]
    },
    {
     "name": "stdout",
     "output_type": "stream",
     "text": [
      "[CV 5/10] END lr__C=1, lr__max_iter=100, lr__penalty=l2, lr__solver=lbfgs, smote__sampling_strategy=1.0;, score=(train=0.927, test=0.924) total time=   0.4s\n"
     ]
    },
    {
     "name": "stderr",
     "output_type": "stream",
     "text": [
      "/opt/conda/lib/python3.7/site-packages/sklearn/linear_model/_logistic.py:818: ConvergenceWarning: lbfgs failed to converge (status=1):\n",
      "STOP: TOTAL NO. of ITERATIONS REACHED LIMIT.\n",
      "\n",
      "Increase the number of iterations (max_iter) or scale the data as shown in:\n",
      "    https://scikit-learn.org/stable/modules/preprocessing.html\n",
      "Please also refer to the documentation for alternative solver options:\n",
      "    https://scikit-learn.org/stable/modules/linear_model.html#logistic-regression\n",
      "  extra_warning_msg=_LOGISTIC_SOLVER_CONVERGENCE_MSG,\n"
     ]
    },
    {
     "name": "stdout",
     "output_type": "stream",
     "text": [
      "[CV 6/10] END lr__C=1, lr__max_iter=100, lr__penalty=l2, lr__solver=lbfgs, smote__sampling_strategy=1.0;, score=(train=0.926, test=0.929) total time=   0.3s\n"
     ]
    },
    {
     "name": "stderr",
     "output_type": "stream",
     "text": [
      "/opt/conda/lib/python3.7/site-packages/sklearn/linear_model/_logistic.py:818: ConvergenceWarning: lbfgs failed to converge (status=1):\n",
      "STOP: TOTAL NO. of ITERATIONS REACHED LIMIT.\n",
      "\n",
      "Increase the number of iterations (max_iter) or scale the data as shown in:\n",
      "    https://scikit-learn.org/stable/modules/preprocessing.html\n",
      "Please also refer to the documentation for alternative solver options:\n",
      "    https://scikit-learn.org/stable/modules/linear_model.html#logistic-regression\n",
      "  extra_warning_msg=_LOGISTIC_SOLVER_CONVERGENCE_MSG,\n"
     ]
    },
    {
     "name": "stdout",
     "output_type": "stream",
     "text": [
      "[CV 7/10] END lr__C=1, lr__max_iter=100, lr__penalty=l2, lr__solver=lbfgs, smote__sampling_strategy=1.0;, score=(train=0.931, test=0.924) total time=   0.3s\n"
     ]
    },
    {
     "name": "stderr",
     "output_type": "stream",
     "text": [
      "/opt/conda/lib/python3.7/site-packages/sklearn/linear_model/_logistic.py:818: ConvergenceWarning: lbfgs failed to converge (status=1):\n",
      "STOP: TOTAL NO. of ITERATIONS REACHED LIMIT.\n",
      "\n",
      "Increase the number of iterations (max_iter) or scale the data as shown in:\n",
      "    https://scikit-learn.org/stable/modules/preprocessing.html\n",
      "Please also refer to the documentation for alternative solver options:\n",
      "    https://scikit-learn.org/stable/modules/linear_model.html#logistic-regression\n",
      "  extra_warning_msg=_LOGISTIC_SOLVER_CONVERGENCE_MSG,\n"
     ]
    },
    {
     "name": "stdout",
     "output_type": "stream",
     "text": [
      "[CV 8/10] END lr__C=1, lr__max_iter=100, lr__penalty=l2, lr__solver=lbfgs, smote__sampling_strategy=1.0;, score=(train=0.927, test=0.926) total time=   0.3s\n"
     ]
    },
    {
     "name": "stderr",
     "output_type": "stream",
     "text": [
      "/opt/conda/lib/python3.7/site-packages/sklearn/linear_model/_logistic.py:818: ConvergenceWarning: lbfgs failed to converge (status=1):\n",
      "STOP: TOTAL NO. of ITERATIONS REACHED LIMIT.\n",
      "\n",
      "Increase the number of iterations (max_iter) or scale the data as shown in:\n",
      "    https://scikit-learn.org/stable/modules/preprocessing.html\n",
      "Please also refer to the documentation for alternative solver options:\n",
      "    https://scikit-learn.org/stable/modules/linear_model.html#logistic-regression\n",
      "  extra_warning_msg=_LOGISTIC_SOLVER_CONVERGENCE_MSG,\n"
     ]
    },
    {
     "name": "stdout",
     "output_type": "stream",
     "text": [
      "[CV 9/10] END lr__C=1, lr__max_iter=100, lr__penalty=l2, lr__solver=lbfgs, smote__sampling_strategy=1.0;, score=(train=0.928, test=0.925) total time=   0.3s\n"
     ]
    },
    {
     "name": "stderr",
     "output_type": "stream",
     "text": [
      "/opt/conda/lib/python3.7/site-packages/sklearn/linear_model/_logistic.py:818: ConvergenceWarning: lbfgs failed to converge (status=1):\n",
      "STOP: TOTAL NO. of ITERATIONS REACHED LIMIT.\n",
      "\n",
      "Increase the number of iterations (max_iter) or scale the data as shown in:\n",
      "    https://scikit-learn.org/stable/modules/preprocessing.html\n",
      "Please also refer to the documentation for alternative solver options:\n",
      "    https://scikit-learn.org/stable/modules/linear_model.html#logistic-regression\n",
      "  extra_warning_msg=_LOGISTIC_SOLVER_CONVERGENCE_MSG,\n"
     ]
    },
    {
     "name": "stdout",
     "output_type": "stream",
     "text": [
      "[CV 10/10] END lr__C=1, lr__max_iter=100, lr__penalty=l2, lr__solver=lbfgs, smote__sampling_strategy=1.0;, score=(train=0.926, test=0.926) total time=   0.3s\n",
      "[CV 1/10] END lr__C=1, lr__max_iter=100, lr__penalty=l2, lr__solver=liblinear, smote__sampling_strategy=0.8;, score=(train=0.932, test=0.923) total time=   0.3s\n",
      "[CV 2/10] END lr__C=1, lr__max_iter=100, lr__penalty=l2, lr__solver=liblinear, smote__sampling_strategy=0.8;, score=(train=0.930, test=0.924) total time=   0.3s\n",
      "[CV 3/10] END lr__C=1, lr__max_iter=100, lr__penalty=l2, lr__solver=liblinear, smote__sampling_strategy=0.8;, score=(train=0.928, test=0.928) total time=   0.3s\n",
      "[CV 4/10] END lr__C=1, lr__max_iter=100, lr__penalty=l2, lr__solver=liblinear, smote__sampling_strategy=0.8;, score=(train=0.931, test=0.925) total time=   0.3s\n",
      "[CV 5/10] END lr__C=1, lr__max_iter=100, lr__penalty=l2, lr__solver=liblinear, smote__sampling_strategy=0.8;, score=(train=0.927, test=0.923) total time=   0.3s\n",
      "[CV 6/10] END lr__C=1, lr__max_iter=100, lr__penalty=l2, lr__solver=liblinear, smote__sampling_strategy=0.8;, score=(train=0.927, test=0.931) total time=   0.3s\n",
      "[CV 7/10] END lr__C=1, lr__max_iter=100, lr__penalty=l2, lr__solver=liblinear, smote__sampling_strategy=0.8;, score=(train=0.933, test=0.928) total time=   0.3s\n",
      "[CV 8/10] END lr__C=1, lr__max_iter=100, lr__penalty=l2, lr__solver=liblinear, smote__sampling_strategy=0.8;, score=(train=0.928, test=0.930) total time=   0.3s\n",
      "[CV 9/10] END lr__C=1, lr__max_iter=100, lr__penalty=l2, lr__solver=liblinear, smote__sampling_strategy=0.8;, score=(train=0.930, test=0.927) total time=   0.3s\n",
      "[CV 10/10] END lr__C=1, lr__max_iter=100, lr__penalty=l2, lr__solver=liblinear, smote__sampling_strategy=0.8;, score=(train=0.929, test=0.929) total time=   0.3s\n",
      "[CV 1/10] END lr__C=1, lr__max_iter=100, lr__penalty=l2, lr__solver=liblinear, smote__sampling_strategy=0.9;, score=(train=0.931, test=0.922) total time=   0.3s\n",
      "[CV 2/10] END lr__C=1, lr__max_iter=100, lr__penalty=l2, lr__solver=liblinear, smote__sampling_strategy=0.9;, score=(train=0.929, test=0.923) total time=   0.3s\n",
      "[CV 3/10] END lr__C=1, lr__max_iter=100, lr__penalty=l2, lr__solver=liblinear, smote__sampling_strategy=0.9;, score=(train=0.927, test=0.930) total time=   0.3s\n",
      "[CV 4/10] END lr__C=1, lr__max_iter=100, lr__penalty=l2, lr__solver=liblinear, smote__sampling_strategy=0.9;, score=(train=0.931, test=0.923) total time=   0.3s\n",
      "[CV 5/10] END lr__C=1, lr__max_iter=100, lr__penalty=l2, lr__solver=liblinear, smote__sampling_strategy=0.9;, score=(train=0.927, test=0.925) total time=   0.3s\n",
      "[CV 6/10] END lr__C=1, lr__max_iter=100, lr__penalty=l2, lr__solver=liblinear, smote__sampling_strategy=0.9;, score=(train=0.926, test=0.931) total time=   0.3s\n",
      "[CV 7/10] END lr__C=1, lr__max_iter=100, lr__penalty=l2, lr__solver=liblinear, smote__sampling_strategy=0.9;, score=(train=0.932, test=0.925) total time=   0.3s\n",
      "[CV 8/10] END lr__C=1, lr__max_iter=100, lr__penalty=l2, lr__solver=liblinear, smote__sampling_strategy=0.9;, score=(train=0.928, test=0.927) total time=   0.3s\n",
      "[CV 9/10] END lr__C=1, lr__max_iter=100, lr__penalty=l2, lr__solver=liblinear, smote__sampling_strategy=0.9;, score=(train=0.931, test=0.925) total time=   0.3s\n",
      "[CV 10/10] END lr__C=1, lr__max_iter=100, lr__penalty=l2, lr__solver=liblinear, smote__sampling_strategy=0.9;, score=(train=0.927, test=0.928) total time=   0.3s\n",
      "[CV 1/10] END lr__C=1, lr__max_iter=100, lr__penalty=l2, lr__solver=liblinear, smote__sampling_strategy=1.0;, score=(train=0.930, test=0.924) total time=   0.3s\n",
      "[CV 2/10] END lr__C=1, lr__max_iter=100, lr__penalty=l2, lr__solver=liblinear, smote__sampling_strategy=1.0;, score=(train=0.928, test=0.922) total time=   0.3s\n",
      "[CV 3/10] END lr__C=1, lr__max_iter=100, lr__penalty=l2, lr__solver=liblinear, smote__sampling_strategy=1.0;, score=(train=0.926, test=0.930) total time=   0.3s\n",
      "[CV 4/10] END lr__C=1, lr__max_iter=100, lr__penalty=l2, lr__solver=liblinear, smote__sampling_strategy=1.0;, score=(train=0.929, test=0.922) total time=   0.3s\n",
      "[CV 5/10] END lr__C=1, lr__max_iter=100, lr__penalty=l2, lr__solver=liblinear, smote__sampling_strategy=1.0;, score=(train=0.926, test=0.923) total time=   0.3s\n",
      "[CV 6/10] END lr__C=1, lr__max_iter=100, lr__penalty=l2, lr__solver=liblinear, smote__sampling_strategy=1.0;, score=(train=0.926, test=0.929) total time=   0.3s\n",
      "[CV 7/10] END lr__C=1, lr__max_iter=100, lr__penalty=l2, lr__solver=liblinear, smote__sampling_strategy=1.0;, score=(train=0.931, test=0.923) total time=   0.3s\n",
      "[CV 8/10] END lr__C=1, lr__max_iter=100, lr__penalty=l2, lr__solver=liblinear, smote__sampling_strategy=1.0;, score=(train=0.927, test=0.926) total time=   0.4s\n",
      "[CV 9/10] END lr__C=1, lr__max_iter=100, lr__penalty=l2, lr__solver=liblinear, smote__sampling_strategy=1.0;, score=(train=0.928, test=0.924) total time=   0.3s\n",
      "[CV 10/10] END lr__C=1, lr__max_iter=100, lr__penalty=l2, lr__solver=liblinear, smote__sampling_strategy=1.0;, score=(train=0.927, test=0.926) total time=   0.3s\n",
      "[CV 1/10] END lr__C=1, lr__max_iter=100, lr__penalty=l2, lr__solver=sag, smote__sampling_strategy=0.8;, score=(train=0.932, test=0.923) total time=   0.7s\n",
      "[CV 2/10] END lr__C=1, lr__max_iter=100, lr__penalty=l2, lr__solver=sag, smote__sampling_strategy=0.8;, score=(train=0.930, test=0.924) total time=   0.7s\n",
      "[CV 3/10] END lr__C=1, lr__max_iter=100, lr__penalty=l2, lr__solver=sag, smote__sampling_strategy=0.8;, score=(train=0.928, test=0.928) total time=   0.6s\n",
      "[CV 4/10] END lr__C=1, lr__max_iter=100, lr__penalty=l2, lr__solver=sag, smote__sampling_strategy=0.8;, score=(train=0.931, test=0.925) total time=   0.6s\n",
      "[CV 5/10] END lr__C=1, lr__max_iter=100, lr__penalty=l2, lr__solver=sag, smote__sampling_strategy=0.8;, score=(train=0.927, test=0.923) total time=   0.7s\n",
      "[CV 6/10] END lr__C=1, lr__max_iter=100, lr__penalty=l2, lr__solver=sag, smote__sampling_strategy=0.8;, score=(train=0.927, test=0.931) total time=   0.6s\n",
      "[CV 7/10] END lr__C=1, lr__max_iter=100, lr__penalty=l2, lr__solver=sag, smote__sampling_strategy=0.8;, score=(train=0.933, test=0.928) total time=   0.7s\n",
      "[CV 8/10] END lr__C=1, lr__max_iter=100, lr__penalty=l2, lr__solver=sag, smote__sampling_strategy=0.8;, score=(train=0.928, test=0.930) total time=   0.6s\n",
      "[CV 9/10] END lr__C=1, lr__max_iter=100, lr__penalty=l2, lr__solver=sag, smote__sampling_strategy=0.8;, score=(train=0.930, test=0.927) total time=   0.7s\n",
      "[CV 10/10] END lr__C=1, lr__max_iter=100, lr__penalty=l2, lr__solver=sag, smote__sampling_strategy=0.8;, score=(train=0.929, test=0.929) total time=   0.6s\n",
      "[CV 1/10] END lr__C=1, lr__max_iter=100, lr__penalty=l2, lr__solver=sag, smote__sampling_strategy=0.9;, score=(train=0.931, test=0.923) total time=   0.7s\n",
      "[CV 2/10] END lr__C=1, lr__max_iter=100, lr__penalty=l2, lr__solver=sag, smote__sampling_strategy=0.9;, score=(train=0.929, test=0.923) total time=   0.7s\n",
      "[CV 3/10] END lr__C=1, lr__max_iter=100, lr__penalty=l2, lr__solver=sag, smote__sampling_strategy=0.9;, score=(train=0.927, test=0.930) total time=   0.6s\n",
      "[CV 4/10] END lr__C=1, lr__max_iter=100, lr__penalty=l2, lr__solver=sag, smote__sampling_strategy=0.9;, score=(train=0.932, test=0.923) total time=   0.7s\n",
      "[CV 5/10] END lr__C=1, lr__max_iter=100, lr__penalty=l2, lr__solver=sag, smote__sampling_strategy=0.9;, score=(train=0.927, test=0.925) total time=   0.7s\n",
      "[CV 6/10] END lr__C=1, lr__max_iter=100, lr__penalty=l2, lr__solver=sag, smote__sampling_strategy=0.9;, score=(train=0.926, test=0.931) total time=   0.6s\n",
      "[CV 7/10] END lr__C=1, lr__max_iter=100, lr__penalty=l2, lr__solver=sag, smote__sampling_strategy=0.9;, score=(train=0.933, test=0.925) total time=   0.8s\n",
      "[CV 8/10] END lr__C=1, lr__max_iter=100, lr__penalty=l2, lr__solver=sag, smote__sampling_strategy=0.9;, score=(train=0.928, test=0.927) total time=   0.6s\n",
      "[CV 9/10] END lr__C=1, lr__max_iter=100, lr__penalty=l2, lr__solver=sag, smote__sampling_strategy=0.9;, score=(train=0.931, test=0.925) total time=   0.6s\n",
      "[CV 10/10] END lr__C=1, lr__max_iter=100, lr__penalty=l2, lr__solver=sag, smote__sampling_strategy=0.9;, score=(train=0.927, test=0.927) total time=   0.6s\n",
      "[CV 1/10] END lr__C=1, lr__max_iter=100, lr__penalty=l2, lr__solver=sag, smote__sampling_strategy=1.0;, score=(train=0.930, test=0.923) total time=   0.7s\n",
      "[CV 2/10] END lr__C=1, lr__max_iter=100, lr__penalty=l2, lr__solver=sag, smote__sampling_strategy=1.0;, score=(train=0.928, test=0.922) total time=   0.6s\n",
      "[CV 3/10] END lr__C=1, lr__max_iter=100, lr__penalty=l2, lr__solver=sag, smote__sampling_strategy=1.0;, score=(train=0.926, test=0.930) total time=   0.7s\n",
      "[CV 4/10] END lr__C=1, lr__max_iter=100, lr__penalty=l2, lr__solver=sag, smote__sampling_strategy=1.0;, score=(train=0.929, test=0.923) total time=   0.7s\n",
      "[CV 5/10] END lr__C=1, lr__max_iter=100, lr__penalty=l2, lr__solver=sag, smote__sampling_strategy=1.0;, score=(train=0.927, test=0.923) total time=   0.7s\n",
      "[CV 6/10] END lr__C=1, lr__max_iter=100, lr__penalty=l2, lr__solver=sag, smote__sampling_strategy=1.0;, score=(train=0.926, test=0.929) total time=   0.7s\n",
      "[CV 7/10] END lr__C=1, lr__max_iter=100, lr__penalty=l2, lr__solver=sag, smote__sampling_strategy=1.0;, score=(train=0.931, test=0.924) total time=   0.6s\n",
      "[CV 8/10] END lr__C=1, lr__max_iter=100, lr__penalty=l2, lr__solver=sag, smote__sampling_strategy=1.0;, score=(train=0.927, test=0.926) total time=   0.6s\n",
      "[CV 9/10] END lr__C=1, lr__max_iter=100, lr__penalty=l2, lr__solver=sag, smote__sampling_strategy=1.0;, score=(train=0.928, test=0.925) total time=   0.7s\n",
      "[CV 10/10] END lr__C=1, lr__max_iter=100, lr__penalty=l2, lr__solver=sag, smote__sampling_strategy=1.0;, score=(train=0.927, test=0.926) total time=   0.7s\n",
      "[CV 1/10] END lr__C=1, lr__max_iter=100, lr__penalty=l2, lr__solver=saga, smote__sampling_strategy=0.8;, score=(train=0.932, test=0.923) total time=   0.8s\n",
      "[CV 2/10] END lr__C=1, lr__max_iter=100, lr__penalty=l2, lr__solver=saga, smote__sampling_strategy=0.8;, score=(train=0.930, test=0.924) total time=   0.8s\n",
      "[CV 3/10] END lr__C=1, lr__max_iter=100, lr__penalty=l2, lr__solver=saga, smote__sampling_strategy=0.8;, score=(train=0.928, test=0.928) total time=   0.7s\n",
      "[CV 4/10] END lr__C=1, lr__max_iter=100, lr__penalty=l2, lr__solver=saga, smote__sampling_strategy=0.8;, score=(train=0.931, test=0.925) total time=   0.7s\n",
      "[CV 5/10] END lr__C=1, lr__max_iter=100, lr__penalty=l2, lr__solver=saga, smote__sampling_strategy=0.8;, score=(train=0.927, test=0.923) total time=   0.7s\n",
      "[CV 6/10] END lr__C=1, lr__max_iter=100, lr__penalty=l2, lr__solver=saga, smote__sampling_strategy=0.8;, score=(train=0.927, test=0.931) total time=   0.8s\n",
      "[CV 7/10] END lr__C=1, lr__max_iter=100, lr__penalty=l2, lr__solver=saga, smote__sampling_strategy=0.8;, score=(train=0.933, test=0.928) total time=   0.7s\n",
      "[CV 8/10] END lr__C=1, lr__max_iter=100, lr__penalty=l2, lr__solver=saga, smote__sampling_strategy=0.8;, score=(train=0.928, test=0.930) total time=   0.8s\n",
      "[CV 9/10] END lr__C=1, lr__max_iter=100, lr__penalty=l2, lr__solver=saga, smote__sampling_strategy=0.8;, score=(train=0.930, test=0.927) total time=   0.8s\n",
      "[CV 10/10] END lr__C=1, lr__max_iter=100, lr__penalty=l2, lr__solver=saga, smote__sampling_strategy=0.8;, score=(train=0.929, test=0.929) total time=   0.8s\n",
      "[CV 1/10] END lr__C=1, lr__max_iter=100, lr__penalty=l2, lr__solver=saga, smote__sampling_strategy=0.9;, score=(train=0.932, test=0.923) total time=   0.8s\n",
      "[CV 2/10] END lr__C=1, lr__max_iter=100, lr__penalty=l2, lr__solver=saga, smote__sampling_strategy=0.9;, score=(train=0.929, test=0.923) total time=   0.7s\n",
      "[CV 3/10] END lr__C=1, lr__max_iter=100, lr__penalty=l2, lr__solver=saga, smote__sampling_strategy=0.9;, score=(train=0.927, test=0.930) total time=   0.6s\n",
      "[CV 4/10] END lr__C=1, lr__max_iter=100, lr__penalty=l2, lr__solver=saga, smote__sampling_strategy=0.9;, score=(train=0.931, test=0.923) total time=   0.8s\n",
      "[CV 5/10] END lr__C=1, lr__max_iter=100, lr__penalty=l2, lr__solver=saga, smote__sampling_strategy=0.9;, score=(train=0.927, test=0.925) total time=   0.7s\n",
      "[CV 6/10] END lr__C=1, lr__max_iter=100, lr__penalty=l2, lr__solver=saga, smote__sampling_strategy=0.9;, score=(train=0.926, test=0.931) total time=   0.8s\n",
      "[CV 7/10] END lr__C=1, lr__max_iter=100, lr__penalty=l2, lr__solver=saga, smote__sampling_strategy=0.9;, score=(train=0.933, test=0.925) total time=   0.7s\n",
      "[CV 8/10] END lr__C=1, lr__max_iter=100, lr__penalty=l2, lr__solver=saga, smote__sampling_strategy=0.9;, score=(train=0.928, test=0.927) total time=   0.8s\n",
      "[CV 9/10] END lr__C=1, lr__max_iter=100, lr__penalty=l2, lr__solver=saga, smote__sampling_strategy=0.9;, score=(train=0.931, test=0.925) total time=   0.8s\n",
      "[CV 10/10] END lr__C=1, lr__max_iter=100, lr__penalty=l2, lr__solver=saga, smote__sampling_strategy=0.9;, score=(train=0.927, test=0.927) total time=   0.7s\n",
      "[CV 1/10] END lr__C=1, lr__max_iter=100, lr__penalty=l2, lr__solver=saga, smote__sampling_strategy=1.0;, score=(train=0.930, test=0.923) total time=   0.9s\n",
      "[CV 2/10] END lr__C=1, lr__max_iter=100, lr__penalty=l2, lr__solver=saga, smote__sampling_strategy=1.0;, score=(train=0.928, test=0.922) total time=   0.8s\n",
      "[CV 3/10] END lr__C=1, lr__max_iter=100, lr__penalty=l2, lr__solver=saga, smote__sampling_strategy=1.0;, score=(train=0.926, test=0.930) total time=   0.7s\n",
      "[CV 4/10] END lr__C=1, lr__max_iter=100, lr__penalty=l2, lr__solver=saga, smote__sampling_strategy=1.0;, score=(train=0.930, test=0.923) total time=   0.8s\n",
      "[CV 5/10] END lr__C=1, lr__max_iter=100, lr__penalty=l2, lr__solver=saga, smote__sampling_strategy=1.0;, score=(train=0.927, test=0.924) total time=   0.7s\n",
      "[CV 6/10] END lr__C=1, lr__max_iter=100, lr__penalty=l2, lr__solver=saga, smote__sampling_strategy=1.0;, score=(train=0.926, test=0.929) total time=   0.9s\n",
      "[CV 7/10] END lr__C=1, lr__max_iter=100, lr__penalty=l2, lr__solver=saga, smote__sampling_strategy=1.0;, score=(train=0.931, test=0.923) total time=   0.7s\n",
      "[CV 8/10] END lr__C=1, lr__max_iter=100, lr__penalty=l2, lr__solver=saga, smote__sampling_strategy=1.0;, score=(train=0.927, test=0.926) total time=   0.9s\n",
      "[CV 9/10] END lr__C=1, lr__max_iter=100, lr__penalty=l2, lr__solver=saga, smote__sampling_strategy=1.0;, score=(train=0.928, test=0.925) total time=   0.9s\n",
      "[CV 10/10] END lr__C=1, lr__max_iter=100, lr__penalty=l2, lr__solver=saga, smote__sampling_strategy=1.0;, score=(train=0.927, test=0.926) total time=   0.8s\n",
      "[CV 1/10] END lr__C=1, lr__max_iter=500, lr__penalty=l2, lr__solver=newton-cg, smote__sampling_strategy=0.8;, score=(train=0.932, test=0.923) total time=   0.4s\n",
      "[CV 2/10] END lr__C=1, lr__max_iter=500, lr__penalty=l2, lr__solver=newton-cg, smote__sampling_strategy=0.8;, score=(train=0.930, test=0.924) total time=   0.5s\n",
      "[CV 3/10] END lr__C=1, lr__max_iter=500, lr__penalty=l2, lr__solver=newton-cg, smote__sampling_strategy=0.8;, score=(train=0.928, test=0.928) total time=   0.5s\n",
      "[CV 4/10] END lr__C=1, lr__max_iter=500, lr__penalty=l2, lr__solver=newton-cg, smote__sampling_strategy=0.8;, score=(train=0.931, test=0.925) total time=   0.4s\n",
      "[CV 5/10] END lr__C=1, lr__max_iter=500, lr__penalty=l2, lr__solver=newton-cg, smote__sampling_strategy=0.8;, score=(train=0.927, test=0.923) total time=   0.4s\n",
      "[CV 6/10] END lr__C=1, lr__max_iter=500, lr__penalty=l2, lr__solver=newton-cg, smote__sampling_strategy=0.8;, score=(train=0.927, test=0.931) total time=   0.5s\n",
      "[CV 7/10] END lr__C=1, lr__max_iter=500, lr__penalty=l2, lr__solver=newton-cg, smote__sampling_strategy=0.8;, score=(train=0.933, test=0.928) total time=   0.4s\n",
      "[CV 8/10] END lr__C=1, lr__max_iter=500, lr__penalty=l2, lr__solver=newton-cg, smote__sampling_strategy=0.8;, score=(train=0.928, test=0.930) total time=   0.9s\n",
      "[CV 9/10] END lr__C=1, lr__max_iter=500, lr__penalty=l2, lr__solver=newton-cg, smote__sampling_strategy=0.8;, score=(train=0.930, test=0.927) total time=   0.7s\n",
      "[CV 10/10] END lr__C=1, lr__max_iter=500, lr__penalty=l2, lr__solver=newton-cg, smote__sampling_strategy=0.8;, score=(train=0.929, test=0.929) total time=   0.5s\n",
      "[CV 1/10] END lr__C=1, lr__max_iter=500, lr__penalty=l2, lr__solver=newton-cg, smote__sampling_strategy=0.9;, score=(train=0.932, test=0.923) total time=   0.5s\n",
      "[CV 2/10] END lr__C=1, lr__max_iter=500, lr__penalty=l2, lr__solver=newton-cg, smote__sampling_strategy=0.9;, score=(train=0.929, test=0.923) total time=   0.5s\n",
      "[CV 3/10] END lr__C=1, lr__max_iter=500, lr__penalty=l2, lr__solver=newton-cg, smote__sampling_strategy=0.9;, score=(train=0.927, test=0.930) total time=   0.5s\n",
      "[CV 4/10] END lr__C=1, lr__max_iter=500, lr__penalty=l2, lr__solver=newton-cg, smote__sampling_strategy=0.9;, score=(train=0.931, test=0.923) total time=   0.5s\n",
      "[CV 5/10] END lr__C=1, lr__max_iter=500, lr__penalty=l2, lr__solver=newton-cg, smote__sampling_strategy=0.9;, score=(train=0.927, test=0.925) total time=   0.6s\n",
      "[CV 6/10] END lr__C=1, lr__max_iter=500, lr__penalty=l2, lr__solver=newton-cg, smote__sampling_strategy=0.9;, score=(train=0.926, test=0.931) total time=   0.5s\n",
      "[CV 7/10] END lr__C=1, lr__max_iter=500, lr__penalty=l2, lr__solver=newton-cg, smote__sampling_strategy=0.9;, score=(train=0.933, test=0.925) total time=   0.5s\n",
      "[CV 8/10] END lr__C=1, lr__max_iter=500, lr__penalty=l2, lr__solver=newton-cg, smote__sampling_strategy=0.9;, score=(train=0.928, test=0.927) total time=   0.5s\n",
      "[CV 9/10] END lr__C=1, lr__max_iter=500, lr__penalty=l2, lr__solver=newton-cg, smote__sampling_strategy=0.9;, score=(train=0.931, test=0.925) total time=   0.5s\n",
      "[CV 10/10] END lr__C=1, lr__max_iter=500, lr__penalty=l2, lr__solver=newton-cg, smote__sampling_strategy=0.9;, score=(train=0.927, test=0.927) total time=   0.5s\n",
      "[CV 1/10] END lr__C=1, lr__max_iter=500, lr__penalty=l2, lr__solver=newton-cg, smote__sampling_strategy=1.0;, score=(train=0.930, test=0.923) total time=   0.6s\n",
      "[CV 2/10] END lr__C=1, lr__max_iter=500, lr__penalty=l2, lr__solver=newton-cg, smote__sampling_strategy=1.0;, score=(train=0.928, test=0.922) total time=   0.5s\n",
      "[CV 3/10] END lr__C=1, lr__max_iter=500, lr__penalty=l2, lr__solver=newton-cg, smote__sampling_strategy=1.0;, score=(train=0.926, test=0.930) total time=   0.5s\n",
      "[CV 4/10] END lr__C=1, lr__max_iter=500, lr__penalty=l2, lr__solver=newton-cg, smote__sampling_strategy=1.0;, score=(train=0.930, test=0.923) total time=   0.5s\n",
      "[CV 5/10] END lr__C=1, lr__max_iter=500, lr__penalty=l2, lr__solver=newton-cg, smote__sampling_strategy=1.0;, score=(train=0.927, test=0.924) total time=   0.5s\n",
      "[CV 6/10] END lr__C=1, lr__max_iter=500, lr__penalty=l2, lr__solver=newton-cg, smote__sampling_strategy=1.0;, score=(train=0.926, test=0.929) total time=   0.5s\n",
      "[CV 7/10] END lr__C=1, lr__max_iter=500, lr__penalty=l2, lr__solver=newton-cg, smote__sampling_strategy=1.0;, score=(train=0.931, test=0.923) total time=   0.5s\n",
      "[CV 8/10] END lr__C=1, lr__max_iter=500, lr__penalty=l2, lr__solver=newton-cg, smote__sampling_strategy=1.0;, score=(train=0.927, test=0.926) total time=   0.5s\n",
      "[CV 9/10] END lr__C=1, lr__max_iter=500, lr__penalty=l2, lr__solver=newton-cg, smote__sampling_strategy=1.0;, score=(train=0.928, test=0.925) total time=   0.5s\n",
      "[CV 10/10] END lr__C=1, lr__max_iter=500, lr__penalty=l2, lr__solver=newton-cg, smote__sampling_strategy=1.0;, score=(train=0.927, test=0.926) total time=   0.6s\n",
      "[CV 1/10] END lr__C=1, lr__max_iter=500, lr__penalty=l2, lr__solver=lbfgs, smote__sampling_strategy=0.8;, score=(train=0.932, test=0.923) total time=   0.4s\n",
      "[CV 2/10] END lr__C=1, lr__max_iter=500, lr__penalty=l2, lr__solver=lbfgs, smote__sampling_strategy=0.8;, score=(train=0.930, test=0.924) total time=   0.4s\n",
      "[CV 3/10] END lr__C=1, lr__max_iter=500, lr__penalty=l2, lr__solver=lbfgs, smote__sampling_strategy=0.8;, score=(train=0.928, test=0.928) total time=   0.4s\n",
      "[CV 4/10] END lr__C=1, lr__max_iter=500, lr__penalty=l2, lr__solver=lbfgs, smote__sampling_strategy=0.8;, score=(train=0.932, test=0.925) total time=   0.4s\n",
      "[CV 5/10] END lr__C=1, lr__max_iter=500, lr__penalty=l2, lr__solver=lbfgs, smote__sampling_strategy=0.8;, score=(train=0.927, test=0.923) total time=   0.4s\n",
      "[CV 6/10] END lr__C=1, lr__max_iter=500, lr__penalty=l2, lr__solver=lbfgs, smote__sampling_strategy=0.8;, score=(train=0.927, test=0.931) total time=   0.4s\n",
      "[CV 7/10] END lr__C=1, lr__max_iter=500, lr__penalty=l2, lr__solver=lbfgs, smote__sampling_strategy=0.8;, score=(train=0.933, test=0.928) total time=   0.4s\n",
      "[CV 8/10] END lr__C=1, lr__max_iter=500, lr__penalty=l2, lr__solver=lbfgs, smote__sampling_strategy=0.8;, score=(train=0.928, test=0.930) total time=   0.4s\n",
      "[CV 9/10] END lr__C=1, lr__max_iter=500, lr__penalty=l2, lr__solver=lbfgs, smote__sampling_strategy=0.8;, score=(train=0.930, test=0.926) total time=   0.4s\n",
      "[CV 10/10] END lr__C=1, lr__max_iter=500, lr__penalty=l2, lr__solver=lbfgs, smote__sampling_strategy=0.8;, score=(train=0.929, test=0.929) total time=   0.4s\n",
      "[CV 1/10] END lr__C=1, lr__max_iter=500, lr__penalty=l2, lr__solver=lbfgs, smote__sampling_strategy=0.9;, score=(train=0.932, test=0.923) total time=   0.4s\n",
      "[CV 2/10] END lr__C=1, lr__max_iter=500, lr__penalty=l2, lr__solver=lbfgs, smote__sampling_strategy=0.9;, score=(train=0.929, test=0.923) total time=   0.5s\n",
      "[CV 3/10] END lr__C=1, lr__max_iter=500, lr__penalty=l2, lr__solver=lbfgs, smote__sampling_strategy=0.9;, score=(train=0.927, test=0.930) total time=   0.4s\n",
      "[CV 4/10] END lr__C=1, lr__max_iter=500, lr__penalty=l2, lr__solver=lbfgs, smote__sampling_strategy=0.9;, score=(train=0.931, test=0.923) total time=   0.4s\n",
      "[CV 5/10] END lr__C=1, lr__max_iter=500, lr__penalty=l2, lr__solver=lbfgs, smote__sampling_strategy=0.9;, score=(train=0.927, test=0.925) total time=   0.5s\n",
      "[CV 6/10] END lr__C=1, lr__max_iter=500, lr__penalty=l2, lr__solver=lbfgs, smote__sampling_strategy=0.9;, score=(train=0.926, test=0.931) total time=   0.4s\n",
      "[CV 7/10] END lr__C=1, lr__max_iter=500, lr__penalty=l2, lr__solver=lbfgs, smote__sampling_strategy=0.9;, score=(train=0.933, test=0.925) total time=   0.3s\n",
      "[CV 8/10] END lr__C=1, lr__max_iter=500, lr__penalty=l2, lr__solver=lbfgs, smote__sampling_strategy=0.9;, score=(train=0.928, test=0.927) total time=   0.4s\n",
      "[CV 9/10] END lr__C=1, lr__max_iter=500, lr__penalty=l2, lr__solver=lbfgs, smote__sampling_strategy=0.9;, score=(train=0.931, test=0.925) total time=   0.4s\n",
      "[CV 10/10] END lr__C=1, lr__max_iter=500, lr__penalty=l2, lr__solver=lbfgs, smote__sampling_strategy=0.9;, score=(train=0.927, test=0.927) total time=   0.4s\n",
      "[CV 1/10] END lr__C=1, lr__max_iter=500, lr__penalty=l2, lr__solver=lbfgs, smote__sampling_strategy=1.0;, score=(train=0.930, test=0.923) total time=   0.5s\n",
      "[CV 2/10] END lr__C=1, lr__max_iter=500, lr__penalty=l2, lr__solver=lbfgs, smote__sampling_strategy=1.0;, score=(train=0.928, test=0.922) total time=   0.5s\n",
      "[CV 3/10] END lr__C=1, lr__max_iter=500, lr__penalty=l2, lr__solver=lbfgs, smote__sampling_strategy=1.0;, score=(train=0.926, test=0.930) total time=   0.4s\n",
      "[CV 4/10] END lr__C=1, lr__max_iter=500, lr__penalty=l2, lr__solver=lbfgs, smote__sampling_strategy=1.0;, score=(train=0.930, test=0.923) total time=   0.4s\n",
      "[CV 5/10] END lr__C=1, lr__max_iter=500, lr__penalty=l2, lr__solver=lbfgs, smote__sampling_strategy=1.0;, score=(train=0.927, test=0.924) total time=   0.4s\n",
      "[CV 6/10] END lr__C=1, lr__max_iter=500, lr__penalty=l2, lr__solver=lbfgs, smote__sampling_strategy=1.0;, score=(train=0.926, test=0.929) total time=   0.5s\n",
      "[CV 7/10] END lr__C=1, lr__max_iter=500, lr__penalty=l2, lr__solver=lbfgs, smote__sampling_strategy=1.0;, score=(train=0.931, test=0.923) total time=   0.4s\n",
      "[CV 8/10] END lr__C=1, lr__max_iter=500, lr__penalty=l2, lr__solver=lbfgs, smote__sampling_strategy=1.0;, score=(train=0.927, test=0.926) total time=   0.5s\n",
      "[CV 9/10] END lr__C=1, lr__max_iter=500, lr__penalty=l2, lr__solver=lbfgs, smote__sampling_strategy=1.0;, score=(train=0.928, test=0.925) total time=   0.4s\n",
      "[CV 10/10] END lr__C=1, lr__max_iter=500, lr__penalty=l2, lr__solver=lbfgs, smote__sampling_strategy=1.0;, score=(train=0.927, test=0.926) total time=   0.4s\n",
      "[CV 1/10] END lr__C=1, lr__max_iter=500, lr__penalty=l2, lr__solver=liblinear, smote__sampling_strategy=0.8;, score=(train=0.932, test=0.923) total time=   0.3s\n",
      "[CV 2/10] END lr__C=1, lr__max_iter=500, lr__penalty=l2, lr__solver=liblinear, smote__sampling_strategy=0.8;, score=(train=0.930, test=0.924) total time=   0.3s\n",
      "[CV 3/10] END lr__C=1, lr__max_iter=500, lr__penalty=l2, lr__solver=liblinear, smote__sampling_strategy=0.8;, score=(train=0.928, test=0.928) total time=   0.3s\n",
      "[CV 4/10] END lr__C=1, lr__max_iter=500, lr__penalty=l2, lr__solver=liblinear, smote__sampling_strategy=0.8;, score=(train=0.931, test=0.925) total time=   0.3s\n",
      "[CV 5/10] END lr__C=1, lr__max_iter=500, lr__penalty=l2, lr__solver=liblinear, smote__sampling_strategy=0.8;, score=(train=0.927, test=0.923) total time=   0.3s\n",
      "[CV 6/10] END lr__C=1, lr__max_iter=500, lr__penalty=l2, lr__solver=liblinear, smote__sampling_strategy=0.8;, score=(train=0.927, test=0.931) total time=   0.3s\n",
      "[CV 7/10] END lr__C=1, lr__max_iter=500, lr__penalty=l2, lr__solver=liblinear, smote__sampling_strategy=0.8;, score=(train=0.933, test=0.928) total time=   0.3s\n",
      "[CV 8/10] END lr__C=1, lr__max_iter=500, lr__penalty=l2, lr__solver=liblinear, smote__sampling_strategy=0.8;, score=(train=0.928, test=0.930) total time=   0.3s\n",
      "[CV 9/10] END lr__C=1, lr__max_iter=500, lr__penalty=l2, lr__solver=liblinear, smote__sampling_strategy=0.8;, score=(train=0.930, test=0.927) total time=   0.3s\n",
      "[CV 10/10] END lr__C=1, lr__max_iter=500, lr__penalty=l2, lr__solver=liblinear, smote__sampling_strategy=0.8;, score=(train=0.929, test=0.929) total time=   0.3s\n",
      "[CV 1/10] END lr__C=1, lr__max_iter=500, lr__penalty=l2, lr__solver=liblinear, smote__sampling_strategy=0.9;, score=(train=0.931, test=0.922) total time=   0.3s\n",
      "[CV 2/10] END lr__C=1, lr__max_iter=500, lr__penalty=l2, lr__solver=liblinear, smote__sampling_strategy=0.9;, score=(train=0.929, test=0.923) total time=   0.3s\n",
      "[CV 3/10] END lr__C=1, lr__max_iter=500, lr__penalty=l2, lr__solver=liblinear, smote__sampling_strategy=0.9;, score=(train=0.927, test=0.930) total time=   0.3s\n",
      "[CV 4/10] END lr__C=1, lr__max_iter=500, lr__penalty=l2, lr__solver=liblinear, smote__sampling_strategy=0.9;, score=(train=0.931, test=0.923) total time=   0.3s\n",
      "[CV 5/10] END lr__C=1, lr__max_iter=500, lr__penalty=l2, lr__solver=liblinear, smote__sampling_strategy=0.9;, score=(train=0.927, test=0.925) total time=   0.3s\n",
      "[CV 6/10] END lr__C=1, lr__max_iter=500, lr__penalty=l2, lr__solver=liblinear, smote__sampling_strategy=0.9;, score=(train=0.926, test=0.931) total time=   0.3s\n",
      "[CV 7/10] END lr__C=1, lr__max_iter=500, lr__penalty=l2, lr__solver=liblinear, smote__sampling_strategy=0.9;, score=(train=0.932, test=0.925) total time=   0.3s\n",
      "[CV 8/10] END lr__C=1, lr__max_iter=500, lr__penalty=l2, lr__solver=liblinear, smote__sampling_strategy=0.9;, score=(train=0.928, test=0.927) total time=   0.3s\n",
      "[CV 9/10] END lr__C=1, lr__max_iter=500, lr__penalty=l2, lr__solver=liblinear, smote__sampling_strategy=0.9;, score=(train=0.931, test=0.925) total time=   0.3s\n",
      "[CV 10/10] END lr__C=1, lr__max_iter=500, lr__penalty=l2, lr__solver=liblinear, smote__sampling_strategy=0.9;, score=(train=0.927, test=0.928) total time=   0.3s\n",
      "[CV 1/10] END lr__C=1, lr__max_iter=500, lr__penalty=l2, lr__solver=liblinear, smote__sampling_strategy=1.0;, score=(train=0.930, test=0.924) total time=   0.3s\n",
      "[CV 2/10] END lr__C=1, lr__max_iter=500, lr__penalty=l2, lr__solver=liblinear, smote__sampling_strategy=1.0;, score=(train=0.928, test=0.922) total time=   0.3s\n",
      "[CV 3/10] END lr__C=1, lr__max_iter=500, lr__penalty=l2, lr__solver=liblinear, smote__sampling_strategy=1.0;, score=(train=0.926, test=0.930) total time=   0.3s\n",
      "[CV 4/10] END lr__C=1, lr__max_iter=500, lr__penalty=l2, lr__solver=liblinear, smote__sampling_strategy=1.0;, score=(train=0.929, test=0.922) total time=   0.3s\n",
      "[CV 5/10] END lr__C=1, lr__max_iter=500, lr__penalty=l2, lr__solver=liblinear, smote__sampling_strategy=1.0;, score=(train=0.926, test=0.923) total time=   0.3s\n",
      "[CV 6/10] END lr__C=1, lr__max_iter=500, lr__penalty=l2, lr__solver=liblinear, smote__sampling_strategy=1.0;, score=(train=0.926, test=0.929) total time=   0.3s\n",
      "[CV 7/10] END lr__C=1, lr__max_iter=500, lr__penalty=l2, lr__solver=liblinear, smote__sampling_strategy=1.0;, score=(train=0.931, test=0.923) total time=   0.3s\n",
      "[CV 8/10] END lr__C=1, lr__max_iter=500, lr__penalty=l2, lr__solver=liblinear, smote__sampling_strategy=1.0;, score=(train=0.927, test=0.926) total time=   0.3s\n",
      "[CV 9/10] END lr__C=1, lr__max_iter=500, lr__penalty=l2, lr__solver=liblinear, smote__sampling_strategy=1.0;, score=(train=0.928, test=0.924) total time=   0.3s\n",
      "[CV 10/10] END lr__C=1, lr__max_iter=500, lr__penalty=l2, lr__solver=liblinear, smote__sampling_strategy=1.0;, score=(train=0.927, test=0.926) total time=   0.3s\n",
      "[CV 1/10] END lr__C=1, lr__max_iter=500, lr__penalty=l2, lr__solver=sag, smote__sampling_strategy=0.8;, score=(train=0.932, test=0.923) total time=   0.6s\n",
      "[CV 2/10] END lr__C=1, lr__max_iter=500, lr__penalty=l2, lr__solver=sag, smote__sampling_strategy=0.8;, score=(train=0.930, test=0.924) total time=   0.6s\n",
      "[CV 3/10] END lr__C=1, lr__max_iter=500, lr__penalty=l2, lr__solver=sag, smote__sampling_strategy=0.8;, score=(train=0.928, test=0.928) total time=   0.6s\n",
      "[CV 4/10] END lr__C=1, lr__max_iter=500, lr__penalty=l2, lr__solver=sag, smote__sampling_strategy=0.8;, score=(train=0.932, test=0.925) total time=   0.6s\n",
      "[CV 5/10] END lr__C=1, lr__max_iter=500, lr__penalty=l2, lr__solver=sag, smote__sampling_strategy=0.8;, score=(train=0.927, test=0.923) total time=   0.6s\n",
      "[CV 6/10] END lr__C=1, lr__max_iter=500, lr__penalty=l2, lr__solver=sag, smote__sampling_strategy=0.8;, score=(train=0.927, test=0.931) total time=   0.7s\n",
      "[CV 7/10] END lr__C=1, lr__max_iter=500, lr__penalty=l2, lr__solver=sag, smote__sampling_strategy=0.8;, score=(train=0.933, test=0.928) total time=   0.6s\n",
      "[CV 8/10] END lr__C=1, lr__max_iter=500, lr__penalty=l2, lr__solver=sag, smote__sampling_strategy=0.8;, score=(train=0.928, test=0.930) total time=   0.7s\n",
      "[CV 9/10] END lr__C=1, lr__max_iter=500, lr__penalty=l2, lr__solver=sag, smote__sampling_strategy=0.8;, score=(train=0.930, test=0.927) total time=   0.6s\n",
      "[CV 10/10] END lr__C=1, lr__max_iter=500, lr__penalty=l2, lr__solver=sag, smote__sampling_strategy=0.8;, score=(train=0.929, test=0.929) total time=   0.6s\n",
      "[CV 1/10] END lr__C=1, lr__max_iter=500, lr__penalty=l2, lr__solver=sag, smote__sampling_strategy=0.9;, score=(train=0.932, test=0.923) total time=   0.6s\n",
      "[CV 2/10] END lr__C=1, lr__max_iter=500, lr__penalty=l2, lr__solver=sag, smote__sampling_strategy=0.9;, score=(train=0.929, test=0.923) total time=   0.6s\n",
      "[CV 3/10] END lr__C=1, lr__max_iter=500, lr__penalty=l2, lr__solver=sag, smote__sampling_strategy=0.9;, score=(train=0.927, test=0.930) total time=   0.7s\n",
      "[CV 4/10] END lr__C=1, lr__max_iter=500, lr__penalty=l2, lr__solver=sag, smote__sampling_strategy=0.9;, score=(train=0.931, test=0.923) total time=   0.7s\n",
      "[CV 5/10] END lr__C=1, lr__max_iter=500, lr__penalty=l2, lr__solver=sag, smote__sampling_strategy=0.9;, score=(train=0.927, test=0.925) total time=   0.7s\n",
      "[CV 6/10] END lr__C=1, lr__max_iter=500, lr__penalty=l2, lr__solver=sag, smote__sampling_strategy=0.9;, score=(train=0.926, test=0.931) total time=   0.7s\n",
      "[CV 7/10] END lr__C=1, lr__max_iter=500, lr__penalty=l2, lr__solver=sag, smote__sampling_strategy=0.9;, score=(train=0.933, test=0.925) total time=   0.6s\n",
      "[CV 8/10] END lr__C=1, lr__max_iter=500, lr__penalty=l2, lr__solver=sag, smote__sampling_strategy=0.9;, score=(train=0.928, test=0.927) total time=   0.7s\n",
      "[CV 9/10] END lr__C=1, lr__max_iter=500, lr__penalty=l2, lr__solver=sag, smote__sampling_strategy=0.9;, score=(train=0.931, test=0.926) total time=   0.7s\n",
      "[CV 10/10] END lr__C=1, lr__max_iter=500, lr__penalty=l2, lr__solver=sag, smote__sampling_strategy=0.9;, score=(train=0.927, test=0.928) total time=   0.6s\n",
      "[CV 1/10] END lr__C=1, lr__max_iter=500, lr__penalty=l2, lr__solver=sag, smote__sampling_strategy=1.0;, score=(train=0.930, test=0.924) total time=   0.7s\n",
      "[CV 2/10] END lr__C=1, lr__max_iter=500, lr__penalty=l2, lr__solver=sag, smote__sampling_strategy=1.0;, score=(train=0.928, test=0.922) total time=   0.6s\n",
      "[CV 3/10] END lr__C=1, lr__max_iter=500, lr__penalty=l2, lr__solver=sag, smote__sampling_strategy=1.0;, score=(train=0.926, test=0.930) total time=   0.6s\n",
      "[CV 4/10] END lr__C=1, lr__max_iter=500, lr__penalty=l2, lr__solver=sag, smote__sampling_strategy=1.0;, score=(train=0.930, test=0.923) total time=   0.6s\n",
      "[CV 5/10] END lr__C=1, lr__max_iter=500, lr__penalty=l2, lr__solver=sag, smote__sampling_strategy=1.0;, score=(train=0.927, test=0.923) total time=   0.6s\n",
      "[CV 6/10] END lr__C=1, lr__max_iter=500, lr__penalty=l2, lr__solver=sag, smote__sampling_strategy=1.0;, score=(train=0.926, test=0.929) total time=   0.7s\n",
      "[CV 7/10] END lr__C=1, lr__max_iter=500, lr__penalty=l2, lr__solver=sag, smote__sampling_strategy=1.0;, score=(train=0.931, test=0.924) total time=   0.6s\n",
      "[CV 8/10] END lr__C=1, lr__max_iter=500, lr__penalty=l2, lr__solver=sag, smote__sampling_strategy=1.0;, score=(train=0.927, test=0.926) total time=   0.6s\n",
      "[CV 9/10] END lr__C=1, lr__max_iter=500, lr__penalty=l2, lr__solver=sag, smote__sampling_strategy=1.0;, score=(train=0.928, test=0.925) total time=   0.7s\n",
      "[CV 10/10] END lr__C=1, lr__max_iter=500, lr__penalty=l2, lr__solver=sag, smote__sampling_strategy=1.0;, score=(train=0.927, test=0.926) total time=   0.6s\n",
      "[CV 1/10] END lr__C=1, lr__max_iter=500, lr__penalty=l2, lr__solver=saga, smote__sampling_strategy=0.8;, score=(train=0.932, test=0.923) total time=   0.8s\n",
      "[CV 2/10] END lr__C=1, lr__max_iter=500, lr__penalty=l2, lr__solver=saga, smote__sampling_strategy=0.8;, score=(train=0.930, test=0.924) total time=   0.7s\n",
      "[CV 3/10] END lr__C=1, lr__max_iter=500, lr__penalty=l2, lr__solver=saga, smote__sampling_strategy=0.8;, score=(train=0.928, test=0.928) total time=   0.7s\n",
      "[CV 4/10] END lr__C=1, lr__max_iter=500, lr__penalty=l2, lr__solver=saga, smote__sampling_strategy=0.8;, score=(train=0.931, test=0.925) total time=   0.7s\n",
      "[CV 5/10] END lr__C=1, lr__max_iter=500, lr__penalty=l2, lr__solver=saga, smote__sampling_strategy=0.8;, score=(train=0.927, test=0.923) total time=   0.7s\n",
      "[CV 6/10] END lr__C=1, lr__max_iter=500, lr__penalty=l2, lr__solver=saga, smote__sampling_strategy=0.8;, score=(train=0.927, test=0.931) total time=   0.7s\n",
      "[CV 7/10] END lr__C=1, lr__max_iter=500, lr__penalty=l2, lr__solver=saga, smote__sampling_strategy=0.8;, score=(train=0.933, test=0.928) total time=   0.6s\n",
      "[CV 8/10] END lr__C=1, lr__max_iter=500, lr__penalty=l2, lr__solver=saga, smote__sampling_strategy=0.8;, score=(train=0.928, test=0.930) total time=   0.8s\n",
      "[CV 9/10] END lr__C=1, lr__max_iter=500, lr__penalty=l2, lr__solver=saga, smote__sampling_strategy=0.8;, score=(train=0.930, test=0.927) total time=   0.8s\n",
      "[CV 10/10] END lr__C=1, lr__max_iter=500, lr__penalty=l2, lr__solver=saga, smote__sampling_strategy=0.8;, score=(train=0.929, test=0.929) total time=   0.7s\n",
      "[CV 1/10] END lr__C=1, lr__max_iter=500, lr__penalty=l2, lr__solver=saga, smote__sampling_strategy=0.9;, score=(train=0.932, test=0.923) total time=   0.8s\n",
      "[CV 2/10] END lr__C=1, lr__max_iter=500, lr__penalty=l2, lr__solver=saga, smote__sampling_strategy=0.9;, score=(train=0.929, test=0.923) total time=   0.8s\n",
      "[CV 3/10] END lr__C=1, lr__max_iter=500, lr__penalty=l2, lr__solver=saga, smote__sampling_strategy=0.9;, score=(train=0.927, test=0.930) total time=   0.7s\n",
      "[CV 4/10] END lr__C=1, lr__max_iter=500, lr__penalty=l2, lr__solver=saga, smote__sampling_strategy=0.9;, score=(train=0.931, test=0.923) total time=   0.7s\n",
      "[CV 5/10] END lr__C=1, lr__max_iter=500, lr__penalty=l2, lr__solver=saga, smote__sampling_strategy=0.9;, score=(train=0.927, test=0.925) total time=   0.7s\n",
      "[CV 6/10] END lr__C=1, lr__max_iter=500, lr__penalty=l2, lr__solver=saga, smote__sampling_strategy=0.9;, score=(train=0.926, test=0.931) total time=   0.8s\n",
      "[CV 7/10] END lr__C=1, lr__max_iter=500, lr__penalty=l2, lr__solver=saga, smote__sampling_strategy=0.9;, score=(train=0.933, test=0.925) total time=   0.7s\n",
      "[CV 8/10] END lr__C=1, lr__max_iter=500, lr__penalty=l2, lr__solver=saga, smote__sampling_strategy=0.9;, score=(train=0.928, test=0.927) total time=   0.8s\n",
      "[CV 9/10] END lr__C=1, lr__max_iter=500, lr__penalty=l2, lr__solver=saga, smote__sampling_strategy=0.9;, score=(train=0.931, test=0.925) total time=   0.8s\n",
      "[CV 10/10] END lr__C=1, lr__max_iter=500, lr__penalty=l2, lr__solver=saga, smote__sampling_strategy=0.9;, score=(train=0.927, test=0.927) total time=   0.7s\n",
      "[CV 1/10] END lr__C=1, lr__max_iter=500, lr__penalty=l2, lr__solver=saga, smote__sampling_strategy=1.0;, score=(train=0.930, test=0.923) total time=   0.8s\n",
      "[CV 2/10] END lr__C=1, lr__max_iter=500, lr__penalty=l2, lr__solver=saga, smote__sampling_strategy=1.0;, score=(train=0.928, test=0.922) total time=   0.7s\n",
      "[CV 3/10] END lr__C=1, lr__max_iter=500, lr__penalty=l2, lr__solver=saga, smote__sampling_strategy=1.0;, score=(train=0.926, test=0.930) total time=   0.7s\n",
      "[CV 4/10] END lr__C=1, lr__max_iter=500, lr__penalty=l2, lr__solver=saga, smote__sampling_strategy=1.0;, score=(train=0.930, test=0.923) total time=   0.7s\n",
      "[CV 5/10] END lr__C=1, lr__max_iter=500, lr__penalty=l2, lr__solver=saga, smote__sampling_strategy=1.0;, score=(train=0.927, test=0.924) total time=   0.8s\n",
      "[CV 6/10] END lr__C=1, lr__max_iter=500, lr__penalty=l2, lr__solver=saga, smote__sampling_strategy=1.0;, score=(train=0.926, test=0.929) total time=   0.8s\n",
      "[CV 7/10] END lr__C=1, lr__max_iter=500, lr__penalty=l2, lr__solver=saga, smote__sampling_strategy=1.0;, score=(train=0.931, test=0.924) total time=   0.8s\n",
      "[CV 8/10] END lr__C=1, lr__max_iter=500, lr__penalty=l2, lr__solver=saga, smote__sampling_strategy=1.0;, score=(train=0.927, test=0.926) total time=   0.9s\n",
      "[CV 9/10] END lr__C=1, lr__max_iter=500, lr__penalty=l2, lr__solver=saga, smote__sampling_strategy=1.0;, score=(train=0.928, test=0.925) total time=   0.9s\n",
      "[CV 10/10] END lr__C=1, lr__max_iter=500, lr__penalty=l2, lr__solver=saga, smote__sampling_strategy=1.0;, score=(train=0.927, test=0.926) total time=   0.8s\n",
      "[CV 1/10] END lr__C=10, lr__max_iter=100, lr__penalty=l2, lr__solver=newton-cg, smote__sampling_strategy=0.8;, score=(train=0.936, test=0.926) total time=   1.2s\n",
      "[CV 2/10] END lr__C=10, lr__max_iter=100, lr__penalty=l2, lr__solver=newton-cg, smote__sampling_strategy=0.8;, score=(train=0.934, test=0.928) total time=   1.4s\n",
      "[CV 3/10] END lr__C=10, lr__max_iter=100, lr__penalty=l2, lr__solver=newton-cg, smote__sampling_strategy=0.8;, score=(train=0.932, test=0.935) total time=   1.0s\n",
      "[CV 4/10] END lr__C=10, lr__max_iter=100, lr__penalty=l2, lr__solver=newton-cg, smote__sampling_strategy=0.8;, score=(train=0.936, test=0.927) total time=   0.8s\n",
      "[CV 5/10] END lr__C=10, lr__max_iter=100, lr__penalty=l2, lr__solver=newton-cg, smote__sampling_strategy=0.8;, score=(train=0.932, test=0.930) total time=   0.6s\n",
      "[CV 6/10] END lr__C=10, lr__max_iter=100, lr__penalty=l2, lr__solver=newton-cg, smote__sampling_strategy=0.8;, score=(train=0.931, test=0.938) total time=   0.8s\n",
      "[CV 7/10] END lr__C=10, lr__max_iter=100, lr__penalty=l2, lr__solver=newton-cg, smote__sampling_strategy=0.8;, score=(train=0.936, test=0.930) total time=   0.6s\n",
      "[CV 8/10] END lr__C=10, lr__max_iter=100, lr__penalty=l2, lr__solver=newton-cg, smote__sampling_strategy=0.8;, score=(train=0.933, test=0.931) total time=   0.7s\n",
      "[CV 9/10] END lr__C=10, lr__max_iter=100, lr__penalty=l2, lr__solver=newton-cg, smote__sampling_strategy=0.8;, score=(train=0.934, test=0.929) total time=   0.7s\n",
      "[CV 10/10] END lr__C=10, lr__max_iter=100, lr__penalty=l2, lr__solver=newton-cg, smote__sampling_strategy=0.8;, score=(train=0.934, test=0.934) total time=   0.7s\n",
      "[CV 1/10] END lr__C=10, lr__max_iter=100, lr__penalty=l2, lr__solver=newton-cg, smote__sampling_strategy=0.9;, score=(train=0.935, test=0.928) total time=   0.8s\n",
      "[CV 2/10] END lr__C=10, lr__max_iter=100, lr__penalty=l2, lr__solver=newton-cg, smote__sampling_strategy=0.9;, score=(train=0.934, test=0.928) total time=   0.8s\n",
      "[CV 3/10] END lr__C=10, lr__max_iter=100, lr__penalty=l2, lr__solver=newton-cg, smote__sampling_strategy=0.9;, score=(train=0.931, test=0.936) total time=   0.7s\n",
      "[CV 4/10] END lr__C=10, lr__max_iter=100, lr__penalty=l2, lr__solver=newton-cg, smote__sampling_strategy=0.9;, score=(train=0.935, test=0.926) total time=   0.8s\n",
      "[CV 5/10] END lr__C=10, lr__max_iter=100, lr__penalty=l2, lr__solver=newton-cg, smote__sampling_strategy=0.9;, score=(train=0.932, test=0.928) total time=   0.8s\n",
      "[CV 6/10] END lr__C=10, lr__max_iter=100, lr__penalty=l2, lr__solver=newton-cg, smote__sampling_strategy=0.9;, score=(train=0.931, test=0.934) total time=   0.6s\n",
      "[CV 7/10] END lr__C=10, lr__max_iter=100, lr__penalty=l2, lr__solver=newton-cg, smote__sampling_strategy=0.9;, score=(train=0.936, test=0.931) total time=   0.6s\n",
      "[CV 8/10] END lr__C=10, lr__max_iter=100, lr__penalty=l2, lr__solver=newton-cg, smote__sampling_strategy=0.9;, score=(train=0.933, test=0.927) total time=   0.8s\n",
      "[CV 9/10] END lr__C=10, lr__max_iter=100, lr__penalty=l2, lr__solver=newton-cg, smote__sampling_strategy=0.9;, score=(train=0.934, test=0.927) total time=   0.9s\n",
      "[CV 10/10] END lr__C=10, lr__max_iter=100, lr__penalty=l2, lr__solver=newton-cg, smote__sampling_strategy=0.9;, score=(train=0.932, test=0.932) total time=   0.7s\n",
      "[CV 1/10] END lr__C=10, lr__max_iter=100, lr__penalty=l2, lr__solver=newton-cg, smote__sampling_strategy=1.0;, score=(train=0.934, test=0.928) total time=   0.9s\n",
      "[CV 2/10] END lr__C=10, lr__max_iter=100, lr__penalty=l2, lr__solver=newton-cg, smote__sampling_strategy=1.0;, score=(train=0.933, test=0.927) total time=   0.8s\n",
      "[CV 3/10] END lr__C=10, lr__max_iter=100, lr__penalty=l2, lr__solver=newton-cg, smote__sampling_strategy=1.0;, score=(train=0.929, test=0.934) total time=   0.9s\n",
      "[CV 4/10] END lr__C=10, lr__max_iter=100, lr__penalty=l2, lr__solver=newton-cg, smote__sampling_strategy=1.0;, score=(train=0.935, test=0.927) total time=   0.8s\n",
      "[CV 5/10] END lr__C=10, lr__max_iter=100, lr__penalty=l2, lr__solver=newton-cg, smote__sampling_strategy=1.0;, score=(train=0.930, test=0.927) total time=   0.7s\n",
      "[CV 6/10] END lr__C=10, lr__max_iter=100, lr__penalty=l2, lr__solver=newton-cg, smote__sampling_strategy=1.0;, score=(train=0.930, test=0.933) total time=   0.7s\n",
      "[CV 7/10] END lr__C=10, lr__max_iter=100, lr__penalty=l2, lr__solver=newton-cg, smote__sampling_strategy=1.0;, score=(train=0.936, test=0.928) total time=   0.8s\n",
      "[CV 8/10] END lr__C=10, lr__max_iter=100, lr__penalty=l2, lr__solver=newton-cg, smote__sampling_strategy=1.0;, score=(train=0.932, test=0.928) total time=   0.7s\n",
      "[CV 9/10] END lr__C=10, lr__max_iter=100, lr__penalty=l2, lr__solver=newton-cg, smote__sampling_strategy=1.0;, score=(train=0.933, test=0.926) total time=   0.7s\n",
      "[CV 10/10] END lr__C=10, lr__max_iter=100, lr__penalty=l2, lr__solver=newton-cg, smote__sampling_strategy=1.0;, score=(train=0.933, test=0.933) total time=   0.9s\n"
     ]
    },
    {
     "name": "stderr",
     "output_type": "stream",
     "text": [
      "/opt/conda/lib/python3.7/site-packages/sklearn/linear_model/_logistic.py:818: ConvergenceWarning: lbfgs failed to converge (status=1):\n",
      "STOP: TOTAL NO. of ITERATIONS REACHED LIMIT.\n",
      "\n",
      "Increase the number of iterations (max_iter) or scale the data as shown in:\n",
      "    https://scikit-learn.org/stable/modules/preprocessing.html\n",
      "Please also refer to the documentation for alternative solver options:\n",
      "    https://scikit-learn.org/stable/modules/linear_model.html#logistic-regression\n",
      "  extra_warning_msg=_LOGISTIC_SOLVER_CONVERGENCE_MSG,\n"
     ]
    },
    {
     "name": "stdout",
     "output_type": "stream",
     "text": [
      "[CV 1/10] END lr__C=10, lr__max_iter=100, lr__penalty=l2, lr__solver=lbfgs, smote__sampling_strategy=0.8;, score=(train=0.935, test=0.926) total time=   0.3s\n"
     ]
    },
    {
     "name": "stderr",
     "output_type": "stream",
     "text": [
      "/opt/conda/lib/python3.7/site-packages/sklearn/linear_model/_logistic.py:818: ConvergenceWarning: lbfgs failed to converge (status=1):\n",
      "STOP: TOTAL NO. of ITERATIONS REACHED LIMIT.\n",
      "\n",
      "Increase the number of iterations (max_iter) or scale the data as shown in:\n",
      "    https://scikit-learn.org/stable/modules/preprocessing.html\n",
      "Please also refer to the documentation for alternative solver options:\n",
      "    https://scikit-learn.org/stable/modules/linear_model.html#logistic-regression\n",
      "  extra_warning_msg=_LOGISTIC_SOLVER_CONVERGENCE_MSG,\n"
     ]
    },
    {
     "name": "stdout",
     "output_type": "stream",
     "text": [
      "[CV 2/10] END lr__C=10, lr__max_iter=100, lr__penalty=l2, lr__solver=lbfgs, smote__sampling_strategy=0.8;, score=(train=0.935, test=0.927) total time=   0.3s\n"
     ]
    },
    {
     "name": "stderr",
     "output_type": "stream",
     "text": [
      "/opt/conda/lib/python3.7/site-packages/sklearn/linear_model/_logistic.py:818: ConvergenceWarning: lbfgs failed to converge (status=1):\n",
      "STOP: TOTAL NO. of ITERATIONS REACHED LIMIT.\n",
      "\n",
      "Increase the number of iterations (max_iter) or scale the data as shown in:\n",
      "    https://scikit-learn.org/stable/modules/preprocessing.html\n",
      "Please also refer to the documentation for alternative solver options:\n",
      "    https://scikit-learn.org/stable/modules/linear_model.html#logistic-regression\n",
      "  extra_warning_msg=_LOGISTIC_SOLVER_CONVERGENCE_MSG,\n"
     ]
    },
    {
     "name": "stdout",
     "output_type": "stream",
     "text": [
      "[CV 3/10] END lr__C=10, lr__max_iter=100, lr__penalty=l2, lr__solver=lbfgs, smote__sampling_strategy=0.8;, score=(train=0.932, test=0.935) total time=   0.3s\n"
     ]
    },
    {
     "name": "stderr",
     "output_type": "stream",
     "text": [
      "/opt/conda/lib/python3.7/site-packages/sklearn/linear_model/_logistic.py:818: ConvergenceWarning: lbfgs failed to converge (status=1):\n",
      "STOP: TOTAL NO. of ITERATIONS REACHED LIMIT.\n",
      "\n",
      "Increase the number of iterations (max_iter) or scale the data as shown in:\n",
      "    https://scikit-learn.org/stable/modules/preprocessing.html\n",
      "Please also refer to the documentation for alternative solver options:\n",
      "    https://scikit-learn.org/stable/modules/linear_model.html#logistic-regression\n",
      "  extra_warning_msg=_LOGISTIC_SOLVER_CONVERGENCE_MSG,\n"
     ]
    },
    {
     "name": "stdout",
     "output_type": "stream",
     "text": [
      "[CV 4/10] END lr__C=10, lr__max_iter=100, lr__penalty=l2, lr__solver=lbfgs, smote__sampling_strategy=0.8;, score=(train=0.935, test=0.926) total time=   0.3s\n"
     ]
    },
    {
     "name": "stderr",
     "output_type": "stream",
     "text": [
      "/opt/conda/lib/python3.7/site-packages/sklearn/linear_model/_logistic.py:818: ConvergenceWarning: lbfgs failed to converge (status=1):\n",
      "STOP: TOTAL NO. of ITERATIONS REACHED LIMIT.\n",
      "\n",
      "Increase the number of iterations (max_iter) or scale the data as shown in:\n",
      "    https://scikit-learn.org/stable/modules/preprocessing.html\n",
      "Please also refer to the documentation for alternative solver options:\n",
      "    https://scikit-learn.org/stable/modules/linear_model.html#logistic-regression\n",
      "  extra_warning_msg=_LOGISTIC_SOLVER_CONVERGENCE_MSG,\n"
     ]
    },
    {
     "name": "stdout",
     "output_type": "stream",
     "text": [
      "[CV 5/10] END lr__C=10, lr__max_iter=100, lr__penalty=l2, lr__solver=lbfgs, smote__sampling_strategy=0.8;, score=(train=0.932, test=0.929) total time=   0.3s\n"
     ]
    },
    {
     "name": "stderr",
     "output_type": "stream",
     "text": [
      "/opt/conda/lib/python3.7/site-packages/sklearn/linear_model/_logistic.py:818: ConvergenceWarning: lbfgs failed to converge (status=1):\n",
      "STOP: TOTAL NO. of ITERATIONS REACHED LIMIT.\n",
      "\n",
      "Increase the number of iterations (max_iter) or scale the data as shown in:\n",
      "    https://scikit-learn.org/stable/modules/preprocessing.html\n",
      "Please also refer to the documentation for alternative solver options:\n",
      "    https://scikit-learn.org/stable/modules/linear_model.html#logistic-regression\n",
      "  extra_warning_msg=_LOGISTIC_SOLVER_CONVERGENCE_MSG,\n"
     ]
    },
    {
     "name": "stdout",
     "output_type": "stream",
     "text": [
      "[CV 6/10] END lr__C=10, lr__max_iter=100, lr__penalty=l2, lr__solver=lbfgs, smote__sampling_strategy=0.8;, score=(train=0.931, test=0.936) total time=   0.3s\n"
     ]
    },
    {
     "name": "stderr",
     "output_type": "stream",
     "text": [
      "/opt/conda/lib/python3.7/site-packages/sklearn/linear_model/_logistic.py:818: ConvergenceWarning: lbfgs failed to converge (status=1):\n",
      "STOP: TOTAL NO. of ITERATIONS REACHED LIMIT.\n",
      "\n",
      "Increase the number of iterations (max_iter) or scale the data as shown in:\n",
      "    https://scikit-learn.org/stable/modules/preprocessing.html\n",
      "Please also refer to the documentation for alternative solver options:\n",
      "    https://scikit-learn.org/stable/modules/linear_model.html#logistic-regression\n",
      "  extra_warning_msg=_LOGISTIC_SOLVER_CONVERGENCE_MSG,\n"
     ]
    },
    {
     "name": "stdout",
     "output_type": "stream",
     "text": [
      "[CV 7/10] END lr__C=10, lr__max_iter=100, lr__penalty=l2, lr__solver=lbfgs, smote__sampling_strategy=0.8;, score=(train=0.936, test=0.930) total time=   0.4s\n"
     ]
    },
    {
     "name": "stderr",
     "output_type": "stream",
     "text": [
      "/opt/conda/lib/python3.7/site-packages/sklearn/linear_model/_logistic.py:818: ConvergenceWarning: lbfgs failed to converge (status=1):\n",
      "STOP: TOTAL NO. of ITERATIONS REACHED LIMIT.\n",
      "\n",
      "Increase the number of iterations (max_iter) or scale the data as shown in:\n",
      "    https://scikit-learn.org/stable/modules/preprocessing.html\n",
      "Please also refer to the documentation for alternative solver options:\n",
      "    https://scikit-learn.org/stable/modules/linear_model.html#logistic-regression\n",
      "  extra_warning_msg=_LOGISTIC_SOLVER_CONVERGENCE_MSG,\n"
     ]
    },
    {
     "name": "stdout",
     "output_type": "stream",
     "text": [
      "[CV 8/10] END lr__C=10, lr__max_iter=100, lr__penalty=l2, lr__solver=lbfgs, smote__sampling_strategy=0.8;, score=(train=0.933, test=0.931) total time=   0.3s\n"
     ]
    },
    {
     "name": "stderr",
     "output_type": "stream",
     "text": [
      "/opt/conda/lib/python3.7/site-packages/sklearn/linear_model/_logistic.py:818: ConvergenceWarning: lbfgs failed to converge (status=1):\n",
      "STOP: TOTAL NO. of ITERATIONS REACHED LIMIT.\n",
      "\n",
      "Increase the number of iterations (max_iter) or scale the data as shown in:\n",
      "    https://scikit-learn.org/stable/modules/preprocessing.html\n",
      "Please also refer to the documentation for alternative solver options:\n",
      "    https://scikit-learn.org/stable/modules/linear_model.html#logistic-regression\n",
      "  extra_warning_msg=_LOGISTIC_SOLVER_CONVERGENCE_MSG,\n"
     ]
    },
    {
     "name": "stdout",
     "output_type": "stream",
     "text": [
      "[CV 9/10] END lr__C=10, lr__max_iter=100, lr__penalty=l2, lr__solver=lbfgs, smote__sampling_strategy=0.8;, score=(train=0.935, test=0.928) total time=   0.3s\n"
     ]
    },
    {
     "name": "stderr",
     "output_type": "stream",
     "text": [
      "/opt/conda/lib/python3.7/site-packages/sklearn/linear_model/_logistic.py:818: ConvergenceWarning: lbfgs failed to converge (status=1):\n",
      "STOP: TOTAL NO. of ITERATIONS REACHED LIMIT.\n",
      "\n",
      "Increase the number of iterations (max_iter) or scale the data as shown in:\n",
      "    https://scikit-learn.org/stable/modules/preprocessing.html\n",
      "Please also refer to the documentation for alternative solver options:\n",
      "    https://scikit-learn.org/stable/modules/linear_model.html#logistic-regression\n",
      "  extra_warning_msg=_LOGISTIC_SOLVER_CONVERGENCE_MSG,\n"
     ]
    },
    {
     "name": "stdout",
     "output_type": "stream",
     "text": [
      "[CV 10/10] END lr__C=10, lr__max_iter=100, lr__penalty=l2, lr__solver=lbfgs, smote__sampling_strategy=0.8;, score=(train=0.934, test=0.934) total time=   0.4s\n"
     ]
    },
    {
     "name": "stderr",
     "output_type": "stream",
     "text": [
      "/opt/conda/lib/python3.7/site-packages/sklearn/linear_model/_logistic.py:818: ConvergenceWarning: lbfgs failed to converge (status=1):\n",
      "STOP: TOTAL NO. of ITERATIONS REACHED LIMIT.\n",
      "\n",
      "Increase the number of iterations (max_iter) or scale the data as shown in:\n",
      "    https://scikit-learn.org/stable/modules/preprocessing.html\n",
      "Please also refer to the documentation for alternative solver options:\n",
      "    https://scikit-learn.org/stable/modules/linear_model.html#logistic-regression\n",
      "  extra_warning_msg=_LOGISTIC_SOLVER_CONVERGENCE_MSG,\n"
     ]
    },
    {
     "name": "stdout",
     "output_type": "stream",
     "text": [
      "[CV 1/10] END lr__C=10, lr__max_iter=100, lr__penalty=l2, lr__solver=lbfgs, smote__sampling_strategy=0.9;, score=(train=0.935, test=0.928) total time=   0.4s\n"
     ]
    },
    {
     "name": "stderr",
     "output_type": "stream",
     "text": [
      "/opt/conda/lib/python3.7/site-packages/sklearn/linear_model/_logistic.py:818: ConvergenceWarning: lbfgs failed to converge (status=1):\n",
      "STOP: TOTAL NO. of ITERATIONS REACHED LIMIT.\n",
      "\n",
      "Increase the number of iterations (max_iter) or scale the data as shown in:\n",
      "    https://scikit-learn.org/stable/modules/preprocessing.html\n",
      "Please also refer to the documentation for alternative solver options:\n",
      "    https://scikit-learn.org/stable/modules/linear_model.html#logistic-regression\n",
      "  extra_warning_msg=_LOGISTIC_SOLVER_CONVERGENCE_MSG,\n"
     ]
    },
    {
     "name": "stdout",
     "output_type": "stream",
     "text": [
      "[CV 2/10] END lr__C=10, lr__max_iter=100, lr__penalty=l2, lr__solver=lbfgs, smote__sampling_strategy=0.9;, score=(train=0.934, test=0.928) total time=   0.6s\n"
     ]
    },
    {
     "name": "stderr",
     "output_type": "stream",
     "text": [
      "/opt/conda/lib/python3.7/site-packages/sklearn/linear_model/_logistic.py:818: ConvergenceWarning: lbfgs failed to converge (status=1):\n",
      "STOP: TOTAL NO. of ITERATIONS REACHED LIMIT.\n",
      "\n",
      "Increase the number of iterations (max_iter) or scale the data as shown in:\n",
      "    https://scikit-learn.org/stable/modules/preprocessing.html\n",
      "Please also refer to the documentation for alternative solver options:\n",
      "    https://scikit-learn.org/stable/modules/linear_model.html#logistic-regression\n",
      "  extra_warning_msg=_LOGISTIC_SOLVER_CONVERGENCE_MSG,\n"
     ]
    },
    {
     "name": "stdout",
     "output_type": "stream",
     "text": [
      "[CV 3/10] END lr__C=10, lr__max_iter=100, lr__penalty=l2, lr__solver=lbfgs, smote__sampling_strategy=0.9;, score=(train=0.931, test=0.937) total time=   0.5s\n"
     ]
    },
    {
     "name": "stderr",
     "output_type": "stream",
     "text": [
      "/opt/conda/lib/python3.7/site-packages/sklearn/linear_model/_logistic.py:818: ConvergenceWarning: lbfgs failed to converge (status=1):\n",
      "STOP: TOTAL NO. of ITERATIONS REACHED LIMIT.\n",
      "\n",
      "Increase the number of iterations (max_iter) or scale the data as shown in:\n",
      "    https://scikit-learn.org/stable/modules/preprocessing.html\n",
      "Please also refer to the documentation for alternative solver options:\n",
      "    https://scikit-learn.org/stable/modules/linear_model.html#logistic-regression\n",
      "  extra_warning_msg=_LOGISTIC_SOLVER_CONVERGENCE_MSG,\n"
     ]
    },
    {
     "name": "stdout",
     "output_type": "stream",
     "text": [
      "[CV 4/10] END lr__C=10, lr__max_iter=100, lr__penalty=l2, lr__solver=lbfgs, smote__sampling_strategy=0.9;, score=(train=0.935, test=0.927) total time=   0.3s\n"
     ]
    },
    {
     "name": "stderr",
     "output_type": "stream",
     "text": [
      "/opt/conda/lib/python3.7/site-packages/sklearn/linear_model/_logistic.py:818: ConvergenceWarning: lbfgs failed to converge (status=1):\n",
      "STOP: TOTAL NO. of ITERATIONS REACHED LIMIT.\n",
      "\n",
      "Increase the number of iterations (max_iter) or scale the data as shown in:\n",
      "    https://scikit-learn.org/stable/modules/preprocessing.html\n",
      "Please also refer to the documentation for alternative solver options:\n",
      "    https://scikit-learn.org/stable/modules/linear_model.html#logistic-regression\n",
      "  extra_warning_msg=_LOGISTIC_SOLVER_CONVERGENCE_MSG,\n"
     ]
    },
    {
     "name": "stdout",
     "output_type": "stream",
     "text": [
      "[CV 5/10] END lr__C=10, lr__max_iter=100, lr__penalty=l2, lr__solver=lbfgs, smote__sampling_strategy=0.9;, score=(train=0.932, test=0.928) total time=   0.3s\n"
     ]
    },
    {
     "name": "stderr",
     "output_type": "stream",
     "text": [
      "/opt/conda/lib/python3.7/site-packages/sklearn/linear_model/_logistic.py:818: ConvergenceWarning: lbfgs failed to converge (status=1):\n",
      "STOP: TOTAL NO. of ITERATIONS REACHED LIMIT.\n",
      "\n",
      "Increase the number of iterations (max_iter) or scale the data as shown in:\n",
      "    https://scikit-learn.org/stable/modules/preprocessing.html\n",
      "Please also refer to the documentation for alternative solver options:\n",
      "    https://scikit-learn.org/stable/modules/linear_model.html#logistic-regression\n",
      "  extra_warning_msg=_LOGISTIC_SOLVER_CONVERGENCE_MSG,\n"
     ]
    },
    {
     "name": "stdout",
     "output_type": "stream",
     "text": [
      "[CV 6/10] END lr__C=10, lr__max_iter=100, lr__penalty=l2, lr__solver=lbfgs, smote__sampling_strategy=0.9;, score=(train=0.931, test=0.933) total time=   0.3s\n"
     ]
    },
    {
     "name": "stderr",
     "output_type": "stream",
     "text": [
      "/opt/conda/lib/python3.7/site-packages/sklearn/linear_model/_logistic.py:818: ConvergenceWarning: lbfgs failed to converge (status=1):\n",
      "STOP: TOTAL NO. of ITERATIONS REACHED LIMIT.\n",
      "\n",
      "Increase the number of iterations (max_iter) or scale the data as shown in:\n",
      "    https://scikit-learn.org/stable/modules/preprocessing.html\n",
      "Please also refer to the documentation for alternative solver options:\n",
      "    https://scikit-learn.org/stable/modules/linear_model.html#logistic-regression\n",
      "  extra_warning_msg=_LOGISTIC_SOLVER_CONVERGENCE_MSG,\n"
     ]
    },
    {
     "name": "stdout",
     "output_type": "stream",
     "text": [
      "[CV 7/10] END lr__C=10, lr__max_iter=100, lr__penalty=l2, lr__solver=lbfgs, smote__sampling_strategy=0.9;, score=(train=0.936, test=0.930) total time=   0.3s\n"
     ]
    },
    {
     "name": "stderr",
     "output_type": "stream",
     "text": [
      "/opt/conda/lib/python3.7/site-packages/sklearn/linear_model/_logistic.py:818: ConvergenceWarning: lbfgs failed to converge (status=1):\n",
      "STOP: TOTAL NO. of ITERATIONS REACHED LIMIT.\n",
      "\n",
      "Increase the number of iterations (max_iter) or scale the data as shown in:\n",
      "    https://scikit-learn.org/stable/modules/preprocessing.html\n",
      "Please also refer to the documentation for alternative solver options:\n",
      "    https://scikit-learn.org/stable/modules/linear_model.html#logistic-regression\n",
      "  extra_warning_msg=_LOGISTIC_SOLVER_CONVERGENCE_MSG,\n"
     ]
    },
    {
     "name": "stdout",
     "output_type": "stream",
     "text": [
      "[CV 8/10] END lr__C=10, lr__max_iter=100, lr__penalty=l2, lr__solver=lbfgs, smote__sampling_strategy=0.9;, score=(train=0.933, test=0.928) total time=   0.3s\n"
     ]
    },
    {
     "name": "stderr",
     "output_type": "stream",
     "text": [
      "/opt/conda/lib/python3.7/site-packages/sklearn/linear_model/_logistic.py:818: ConvergenceWarning: lbfgs failed to converge (status=1):\n",
      "STOP: TOTAL NO. of ITERATIONS REACHED LIMIT.\n",
      "\n",
      "Increase the number of iterations (max_iter) or scale the data as shown in:\n",
      "    https://scikit-learn.org/stable/modules/preprocessing.html\n",
      "Please also refer to the documentation for alternative solver options:\n",
      "    https://scikit-learn.org/stable/modules/linear_model.html#logistic-regression\n",
      "  extra_warning_msg=_LOGISTIC_SOLVER_CONVERGENCE_MSG,\n"
     ]
    },
    {
     "name": "stdout",
     "output_type": "stream",
     "text": [
      "[CV 9/10] END lr__C=10, lr__max_iter=100, lr__penalty=l2, lr__solver=lbfgs, smote__sampling_strategy=0.9;, score=(train=0.934, test=0.927) total time=   0.3s\n"
     ]
    },
    {
     "name": "stderr",
     "output_type": "stream",
     "text": [
      "/opt/conda/lib/python3.7/site-packages/sklearn/linear_model/_logistic.py:818: ConvergenceWarning: lbfgs failed to converge (status=1):\n",
      "STOP: TOTAL NO. of ITERATIONS REACHED LIMIT.\n",
      "\n",
      "Increase the number of iterations (max_iter) or scale the data as shown in:\n",
      "    https://scikit-learn.org/stable/modules/preprocessing.html\n",
      "Please also refer to the documentation for alternative solver options:\n",
      "    https://scikit-learn.org/stable/modules/linear_model.html#logistic-regression\n",
      "  extra_warning_msg=_LOGISTIC_SOLVER_CONVERGENCE_MSG,\n"
     ]
    },
    {
     "name": "stdout",
     "output_type": "stream",
     "text": [
      "[CV 10/10] END lr__C=10, lr__max_iter=100, lr__penalty=l2, lr__solver=lbfgs, smote__sampling_strategy=0.9;, score=(train=0.932, test=0.933) total time=   0.3s\n"
     ]
    },
    {
     "name": "stderr",
     "output_type": "stream",
     "text": [
      "/opt/conda/lib/python3.7/site-packages/sklearn/linear_model/_logistic.py:818: ConvergenceWarning: lbfgs failed to converge (status=1):\n",
      "STOP: TOTAL NO. of ITERATIONS REACHED LIMIT.\n",
      "\n",
      "Increase the number of iterations (max_iter) or scale the data as shown in:\n",
      "    https://scikit-learn.org/stable/modules/preprocessing.html\n",
      "Please also refer to the documentation for alternative solver options:\n",
      "    https://scikit-learn.org/stable/modules/linear_model.html#logistic-regression\n",
      "  extra_warning_msg=_LOGISTIC_SOLVER_CONVERGENCE_MSG,\n"
     ]
    },
    {
     "name": "stdout",
     "output_type": "stream",
     "text": [
      "[CV 1/10] END lr__C=10, lr__max_iter=100, lr__penalty=l2, lr__solver=lbfgs, smote__sampling_strategy=1.0;, score=(train=0.934, test=0.928) total time=   0.3s\n"
     ]
    },
    {
     "name": "stderr",
     "output_type": "stream",
     "text": [
      "/opt/conda/lib/python3.7/site-packages/sklearn/linear_model/_logistic.py:818: ConvergenceWarning: lbfgs failed to converge (status=1):\n",
      "STOP: TOTAL NO. of ITERATIONS REACHED LIMIT.\n",
      "\n",
      "Increase the number of iterations (max_iter) or scale the data as shown in:\n",
      "    https://scikit-learn.org/stable/modules/preprocessing.html\n",
      "Please also refer to the documentation for alternative solver options:\n",
      "    https://scikit-learn.org/stable/modules/linear_model.html#logistic-regression\n",
      "  extra_warning_msg=_LOGISTIC_SOLVER_CONVERGENCE_MSG,\n"
     ]
    },
    {
     "name": "stdout",
     "output_type": "stream",
     "text": [
      "[CV 2/10] END lr__C=10, lr__max_iter=100, lr__penalty=l2, lr__solver=lbfgs, smote__sampling_strategy=1.0;, score=(train=0.933, test=0.927) total time=   0.4s\n"
     ]
    },
    {
     "name": "stderr",
     "output_type": "stream",
     "text": [
      "/opt/conda/lib/python3.7/site-packages/sklearn/linear_model/_logistic.py:818: ConvergenceWarning: lbfgs failed to converge (status=1):\n",
      "STOP: TOTAL NO. of ITERATIONS REACHED LIMIT.\n",
      "\n",
      "Increase the number of iterations (max_iter) or scale the data as shown in:\n",
      "    https://scikit-learn.org/stable/modules/preprocessing.html\n",
      "Please also refer to the documentation for alternative solver options:\n",
      "    https://scikit-learn.org/stable/modules/linear_model.html#logistic-regression\n",
      "  extra_warning_msg=_LOGISTIC_SOLVER_CONVERGENCE_MSG,\n"
     ]
    },
    {
     "name": "stdout",
     "output_type": "stream",
     "text": [
      "[CV 3/10] END lr__C=10, lr__max_iter=100, lr__penalty=l2, lr__solver=lbfgs, smote__sampling_strategy=1.0;, score=(train=0.929, test=0.934) total time=   0.3s\n"
     ]
    },
    {
     "name": "stderr",
     "output_type": "stream",
     "text": [
      "/opt/conda/lib/python3.7/site-packages/sklearn/linear_model/_logistic.py:818: ConvergenceWarning: lbfgs failed to converge (status=1):\n",
      "STOP: TOTAL NO. of ITERATIONS REACHED LIMIT.\n",
      "\n",
      "Increase the number of iterations (max_iter) or scale the data as shown in:\n",
      "    https://scikit-learn.org/stable/modules/preprocessing.html\n",
      "Please also refer to the documentation for alternative solver options:\n",
      "    https://scikit-learn.org/stable/modules/linear_model.html#logistic-regression\n",
      "  extra_warning_msg=_LOGISTIC_SOLVER_CONVERGENCE_MSG,\n"
     ]
    },
    {
     "name": "stdout",
     "output_type": "stream",
     "text": [
      "[CV 4/10] END lr__C=10, lr__max_iter=100, lr__penalty=l2, lr__solver=lbfgs, smote__sampling_strategy=1.0;, score=(train=0.935, test=0.927) total time=   0.3s\n"
     ]
    },
    {
     "name": "stderr",
     "output_type": "stream",
     "text": [
      "/opt/conda/lib/python3.7/site-packages/sklearn/linear_model/_logistic.py:818: ConvergenceWarning: lbfgs failed to converge (status=1):\n",
      "STOP: TOTAL NO. of ITERATIONS REACHED LIMIT.\n",
      "\n",
      "Increase the number of iterations (max_iter) or scale the data as shown in:\n",
      "    https://scikit-learn.org/stable/modules/preprocessing.html\n",
      "Please also refer to the documentation for alternative solver options:\n",
      "    https://scikit-learn.org/stable/modules/linear_model.html#logistic-regression\n",
      "  extra_warning_msg=_LOGISTIC_SOLVER_CONVERGENCE_MSG,\n"
     ]
    },
    {
     "name": "stdout",
     "output_type": "stream",
     "text": [
      "[CV 5/10] END lr__C=10, lr__max_iter=100, lr__penalty=l2, lr__solver=lbfgs, smote__sampling_strategy=1.0;, score=(train=0.930, test=0.927) total time=   0.3s\n"
     ]
    },
    {
     "name": "stderr",
     "output_type": "stream",
     "text": [
      "/opt/conda/lib/python3.7/site-packages/sklearn/linear_model/_logistic.py:818: ConvergenceWarning: lbfgs failed to converge (status=1):\n",
      "STOP: TOTAL NO. of ITERATIONS REACHED LIMIT.\n",
      "\n",
      "Increase the number of iterations (max_iter) or scale the data as shown in:\n",
      "    https://scikit-learn.org/stable/modules/preprocessing.html\n",
      "Please also refer to the documentation for alternative solver options:\n",
      "    https://scikit-learn.org/stable/modules/linear_model.html#logistic-regression\n",
      "  extra_warning_msg=_LOGISTIC_SOLVER_CONVERGENCE_MSG,\n"
     ]
    },
    {
     "name": "stdout",
     "output_type": "stream",
     "text": [
      "[CV 6/10] END lr__C=10, lr__max_iter=100, lr__penalty=l2, lr__solver=lbfgs, smote__sampling_strategy=1.0;, score=(train=0.930, test=0.932) total time=   0.3s\n"
     ]
    },
    {
     "name": "stderr",
     "output_type": "stream",
     "text": [
      "/opt/conda/lib/python3.7/site-packages/sklearn/linear_model/_logistic.py:818: ConvergenceWarning: lbfgs failed to converge (status=1):\n",
      "STOP: TOTAL NO. of ITERATIONS REACHED LIMIT.\n",
      "\n",
      "Increase the number of iterations (max_iter) or scale the data as shown in:\n",
      "    https://scikit-learn.org/stable/modules/preprocessing.html\n",
      "Please also refer to the documentation for alternative solver options:\n",
      "    https://scikit-learn.org/stable/modules/linear_model.html#logistic-regression\n",
      "  extra_warning_msg=_LOGISTIC_SOLVER_CONVERGENCE_MSG,\n"
     ]
    },
    {
     "name": "stdout",
     "output_type": "stream",
     "text": [
      "[CV 7/10] END lr__C=10, lr__max_iter=100, lr__penalty=l2, lr__solver=lbfgs, smote__sampling_strategy=1.0;, score=(train=0.936, test=0.929) total time=   0.3s\n"
     ]
    },
    {
     "name": "stderr",
     "output_type": "stream",
     "text": [
      "/opt/conda/lib/python3.7/site-packages/sklearn/linear_model/_logistic.py:818: ConvergenceWarning: lbfgs failed to converge (status=1):\n",
      "STOP: TOTAL NO. of ITERATIONS REACHED LIMIT.\n",
      "\n",
      "Increase the number of iterations (max_iter) or scale the data as shown in:\n",
      "    https://scikit-learn.org/stable/modules/preprocessing.html\n",
      "Please also refer to the documentation for alternative solver options:\n",
      "    https://scikit-learn.org/stable/modules/linear_model.html#logistic-regression\n",
      "  extra_warning_msg=_LOGISTIC_SOLVER_CONVERGENCE_MSG,\n"
     ]
    },
    {
     "name": "stdout",
     "output_type": "stream",
     "text": [
      "[CV 8/10] END lr__C=10, lr__max_iter=100, lr__penalty=l2, lr__solver=lbfgs, smote__sampling_strategy=1.0;, score=(train=0.932, test=0.928) total time=   0.3s\n"
     ]
    },
    {
     "name": "stderr",
     "output_type": "stream",
     "text": [
      "/opt/conda/lib/python3.7/site-packages/sklearn/linear_model/_logistic.py:818: ConvergenceWarning: lbfgs failed to converge (status=1):\n",
      "STOP: TOTAL NO. of ITERATIONS REACHED LIMIT.\n",
      "\n",
      "Increase the number of iterations (max_iter) or scale the data as shown in:\n",
      "    https://scikit-learn.org/stable/modules/preprocessing.html\n",
      "Please also refer to the documentation for alternative solver options:\n",
      "    https://scikit-learn.org/stable/modules/linear_model.html#logistic-regression\n",
      "  extra_warning_msg=_LOGISTIC_SOLVER_CONVERGENCE_MSG,\n"
     ]
    },
    {
     "name": "stdout",
     "output_type": "stream",
     "text": [
      "[CV 9/10] END lr__C=10, lr__max_iter=100, lr__penalty=l2, lr__solver=lbfgs, smote__sampling_strategy=1.0;, score=(train=0.933, test=0.925) total time=   0.3s\n"
     ]
    },
    {
     "name": "stderr",
     "output_type": "stream",
     "text": [
      "/opt/conda/lib/python3.7/site-packages/sklearn/linear_model/_logistic.py:818: ConvergenceWarning: lbfgs failed to converge (status=1):\n",
      "STOP: TOTAL NO. of ITERATIONS REACHED LIMIT.\n",
      "\n",
      "Increase the number of iterations (max_iter) or scale the data as shown in:\n",
      "    https://scikit-learn.org/stable/modules/preprocessing.html\n",
      "Please also refer to the documentation for alternative solver options:\n",
      "    https://scikit-learn.org/stable/modules/linear_model.html#logistic-regression\n",
      "  extra_warning_msg=_LOGISTIC_SOLVER_CONVERGENCE_MSG,\n"
     ]
    },
    {
     "name": "stdout",
     "output_type": "stream",
     "text": [
      "[CV 10/10] END lr__C=10, lr__max_iter=100, lr__penalty=l2, lr__solver=lbfgs, smote__sampling_strategy=1.0;, score=(train=0.933, test=0.932) total time=   0.3s\n",
      "[CV 1/10] END lr__C=10, lr__max_iter=100, lr__penalty=l2, lr__solver=liblinear, smote__sampling_strategy=0.8;, score=(train=0.936, test=0.926) total time=   0.3s\n",
      "[CV 2/10] END lr__C=10, lr__max_iter=100, lr__penalty=l2, lr__solver=liblinear, smote__sampling_strategy=0.8;, score=(train=0.934, test=0.928) total time=   0.5s\n",
      "[CV 3/10] END lr__C=10, lr__max_iter=100, lr__penalty=l2, lr__solver=liblinear, smote__sampling_strategy=0.8;, score=(train=0.932, test=0.935) total time=   0.3s\n",
      "[CV 4/10] END lr__C=10, lr__max_iter=100, lr__penalty=l2, lr__solver=liblinear, smote__sampling_strategy=0.8;, score=(train=0.936, test=0.927) total time=   0.4s\n",
      "[CV 5/10] END lr__C=10, lr__max_iter=100, lr__penalty=l2, lr__solver=liblinear, smote__sampling_strategy=0.8;, score=(train=0.932, test=0.930) total time=   0.4s\n",
      "[CV 6/10] END lr__C=10, lr__max_iter=100, lr__penalty=l2, lr__solver=liblinear, smote__sampling_strategy=0.8;, score=(train=0.931, test=0.938) total time=   0.4s\n",
      "[CV 7/10] END lr__C=10, lr__max_iter=100, lr__penalty=l2, lr__solver=liblinear, smote__sampling_strategy=0.8;, score=(train=0.936, test=0.930) total time=   0.4s\n",
      "[CV 8/10] END lr__C=10, lr__max_iter=100, lr__penalty=l2, lr__solver=liblinear, smote__sampling_strategy=0.8;, score=(train=0.934, test=0.931) total time=   0.4s\n",
      "[CV 9/10] END lr__C=10, lr__max_iter=100, lr__penalty=l2, lr__solver=liblinear, smote__sampling_strategy=0.8;, score=(train=0.934, test=0.929) total time=   0.4s\n",
      "[CV 10/10] END lr__C=10, lr__max_iter=100, lr__penalty=l2, lr__solver=liblinear, smote__sampling_strategy=0.8;, score=(train=0.934, test=0.934) total time=   0.4s\n",
      "[CV 1/10] END lr__C=10, lr__max_iter=100, lr__penalty=l2, lr__solver=liblinear, smote__sampling_strategy=0.9;, score=(train=0.935, test=0.928) total time=   0.4s\n",
      "[CV 2/10] END lr__C=10, lr__max_iter=100, lr__penalty=l2, lr__solver=liblinear, smote__sampling_strategy=0.9;, score=(train=0.934, test=0.928) total time=   0.5s\n",
      "[CV 3/10] END lr__C=10, lr__max_iter=100, lr__penalty=l2, lr__solver=liblinear, smote__sampling_strategy=0.9;, score=(train=0.931, test=0.936) total time=   0.4s\n",
      "[CV 4/10] END lr__C=10, lr__max_iter=100, lr__penalty=l2, lr__solver=liblinear, smote__sampling_strategy=0.9;, score=(train=0.935, test=0.926) total time=   0.4s\n",
      "[CV 5/10] END lr__C=10, lr__max_iter=100, lr__penalty=l2, lr__solver=liblinear, smote__sampling_strategy=0.9;, score=(train=0.932, test=0.928) total time=   0.4s\n",
      "[CV 6/10] END lr__C=10, lr__max_iter=100, lr__penalty=l2, lr__solver=liblinear, smote__sampling_strategy=0.9;, score=(train=0.931, test=0.934) total time=   0.4s\n",
      "[CV 7/10] END lr__C=10, lr__max_iter=100, lr__penalty=l2, lr__solver=liblinear, smote__sampling_strategy=0.9;, score=(train=0.936, test=0.931) total time=   0.4s\n",
      "[CV 8/10] END lr__C=10, lr__max_iter=100, lr__penalty=l2, lr__solver=liblinear, smote__sampling_strategy=0.9;, score=(train=0.933, test=0.928) total time=   0.5s\n",
      "[CV 9/10] END lr__C=10, lr__max_iter=100, lr__penalty=l2, lr__solver=liblinear, smote__sampling_strategy=0.9;, score=(train=0.934, test=0.927) total time=   0.4s\n",
      "[CV 10/10] END lr__C=10, lr__max_iter=100, lr__penalty=l2, lr__solver=liblinear, smote__sampling_strategy=0.9;, score=(train=0.932, test=0.932) total time=   0.4s\n",
      "[CV 1/10] END lr__C=10, lr__max_iter=100, lr__penalty=l2, lr__solver=liblinear, smote__sampling_strategy=1.0;, score=(train=0.934, test=0.928) total time=   0.5s\n",
      "[CV 2/10] END lr__C=10, lr__max_iter=100, lr__penalty=l2, lr__solver=liblinear, smote__sampling_strategy=1.0;, score=(train=0.933, test=0.927) total time=   0.5s\n",
      "[CV 3/10] END lr__C=10, lr__max_iter=100, lr__penalty=l2, lr__solver=liblinear, smote__sampling_strategy=1.0;, score=(train=0.929, test=0.934) total time=   0.4s\n",
      "[CV 4/10] END lr__C=10, lr__max_iter=100, lr__penalty=l2, lr__solver=liblinear, smote__sampling_strategy=1.0;, score=(train=0.935, test=0.927) total time=   0.4s\n",
      "[CV 5/10] END lr__C=10, lr__max_iter=100, lr__penalty=l2, lr__solver=liblinear, smote__sampling_strategy=1.0;, score=(train=0.930, test=0.927) total time=   0.4s\n",
      "[CV 6/10] END lr__C=10, lr__max_iter=100, lr__penalty=l2, lr__solver=liblinear, smote__sampling_strategy=1.0;, score=(train=0.930, test=0.933) total time=   0.5s\n",
      "[CV 7/10] END lr__C=10, lr__max_iter=100, lr__penalty=l2, lr__solver=liblinear, smote__sampling_strategy=1.0;, score=(train=0.936, test=0.928) total time=   0.4s\n",
      "[CV 8/10] END lr__C=10, lr__max_iter=100, lr__penalty=l2, lr__solver=liblinear, smote__sampling_strategy=1.0;, score=(train=0.932, test=0.929) total time=   0.5s\n",
      "[CV 9/10] END lr__C=10, lr__max_iter=100, lr__penalty=l2, lr__solver=liblinear, smote__sampling_strategy=1.0;, score=(train=0.933, test=0.926) total time=   0.5s\n",
      "[CV 10/10] END lr__C=10, lr__max_iter=100, lr__penalty=l2, lr__solver=liblinear, smote__sampling_strategy=1.0;, score=(train=0.933, test=0.933) total time=   0.5s\n",
      "[CV 1/10] END lr__C=10, lr__max_iter=100, lr__penalty=l2, lr__solver=sag, smote__sampling_strategy=0.8;, score=(train=0.936, test=0.926) total time=   1.1s\n",
      "[CV 2/10] END lr__C=10, lr__max_iter=100, lr__penalty=l2, lr__solver=sag, smote__sampling_strategy=0.8;, score=(train=0.934, test=0.928) total time=   1.5s\n",
      "[CV 3/10] END lr__C=10, lr__max_iter=100, lr__penalty=l2, lr__solver=sag, smote__sampling_strategy=0.8;, score=(train=0.932, test=0.935) total time=   0.9s\n",
      "[CV 4/10] END lr__C=10, lr__max_iter=100, lr__penalty=l2, lr__solver=sag, smote__sampling_strategy=0.8;, score=(train=0.936, test=0.927) total time=   1.1s\n",
      "[CV 5/10] END lr__C=10, lr__max_iter=100, lr__penalty=l2, lr__solver=sag, smote__sampling_strategy=0.8;, score=(train=0.932, test=0.930) total time=   1.1s\n",
      "[CV 6/10] END lr__C=10, lr__max_iter=100, lr__penalty=l2, lr__solver=sag, smote__sampling_strategy=0.8;, score=(train=0.931, test=0.938) total time=   1.4s\n",
      "[CV 7/10] END lr__C=10, lr__max_iter=100, lr__penalty=l2, lr__solver=sag, smote__sampling_strategy=0.8;, score=(train=0.936, test=0.930) total time=   1.1s\n",
      "[CV 8/10] END lr__C=10, lr__max_iter=100, lr__penalty=l2, lr__solver=sag, smote__sampling_strategy=0.8;, score=(train=0.933, test=0.931) total time=   1.1s\n",
      "[CV 9/10] END lr__C=10, lr__max_iter=100, lr__penalty=l2, lr__solver=sag, smote__sampling_strategy=0.8;, score=(train=0.934, test=0.929) total time=   1.7s\n",
      "[CV 10/10] END lr__C=10, lr__max_iter=100, lr__penalty=l2, lr__solver=sag, smote__sampling_strategy=0.8;, score=(train=0.934, test=0.934) total time=   1.0s\n",
      "[CV 1/10] END lr__C=10, lr__max_iter=100, lr__penalty=l2, lr__solver=sag, smote__sampling_strategy=0.9;, score=(train=0.935, test=0.928) total time=   1.1s\n",
      "[CV 2/10] END lr__C=10, lr__max_iter=100, lr__penalty=l2, lr__solver=sag, smote__sampling_strategy=0.9;, score=(train=0.934, test=0.928) total time=   1.3s\n",
      "[CV 3/10] END lr__C=10, lr__max_iter=100, lr__penalty=l2, lr__solver=sag, smote__sampling_strategy=0.9;, score=(train=0.931, test=0.936) total time=   1.0s\n",
      "[CV 4/10] END lr__C=10, lr__max_iter=100, lr__penalty=l2, lr__solver=sag, smote__sampling_strategy=0.9;, score=(train=0.935, test=0.926) total time=   1.0s\n",
      "[CV 5/10] END lr__C=10, lr__max_iter=100, lr__penalty=l2, lr__solver=sag, smote__sampling_strategy=0.9;, score=(train=0.932, test=0.928) total time=   1.1s\n",
      "[CV 6/10] END lr__C=10, lr__max_iter=100, lr__penalty=l2, lr__solver=sag, smote__sampling_strategy=0.9;, score=(train=0.931, test=0.934) total time=   1.4s\n",
      "[CV 7/10] END lr__C=10, lr__max_iter=100, lr__penalty=l2, lr__solver=sag, smote__sampling_strategy=0.9;, score=(train=0.936, test=0.931) total time=   1.2s\n",
      "[CV 8/10] END lr__C=10, lr__max_iter=100, lr__penalty=l2, lr__solver=sag, smote__sampling_strategy=0.9;, score=(train=0.933, test=0.927) total time=   1.3s\n",
      "[CV 9/10] END lr__C=10, lr__max_iter=100, lr__penalty=l2, lr__solver=sag, smote__sampling_strategy=0.9;, score=(train=0.934, test=0.927) total time=   1.3s\n",
      "[CV 10/10] END lr__C=10, lr__max_iter=100, lr__penalty=l2, lr__solver=sag, smote__sampling_strategy=0.9;, score=(train=0.932, test=0.932) total time=   1.1s\n",
      "[CV 1/10] END lr__C=10, lr__max_iter=100, lr__penalty=l2, lr__solver=sag, smote__sampling_strategy=1.0;, score=(train=0.934, test=0.928) total time=   1.2s\n",
      "[CV 2/10] END lr__C=10, lr__max_iter=100, lr__penalty=l2, lr__solver=sag, smote__sampling_strategy=1.0;, score=(train=0.933, test=0.927) total time=   1.6s\n",
      "[CV 3/10] END lr__C=10, lr__max_iter=100, lr__penalty=l2, lr__solver=sag, smote__sampling_strategy=1.0;, score=(train=0.929, test=0.934) total time=   1.0s\n",
      "[CV 4/10] END lr__C=10, lr__max_iter=100, lr__penalty=l2, lr__solver=sag, smote__sampling_strategy=1.0;, score=(train=0.935, test=0.927) total time=   1.1s\n",
      "[CV 5/10] END lr__C=10, lr__max_iter=100, lr__penalty=l2, lr__solver=sag, smote__sampling_strategy=1.0;, score=(train=0.930, test=0.927) total time=   1.3s\n",
      "[CV 6/10] END lr__C=10, lr__max_iter=100, lr__penalty=l2, lr__solver=sag, smote__sampling_strategy=1.0;, score=(train=0.930, test=0.933) total time=   1.5s\n",
      "[CV 7/10] END lr__C=10, lr__max_iter=100, lr__penalty=l2, lr__solver=sag, smote__sampling_strategy=1.0;, score=(train=0.936, test=0.928) total time=   1.2s\n",
      "[CV 8/10] END lr__C=10, lr__max_iter=100, lr__penalty=l2, lr__solver=sag, smote__sampling_strategy=1.0;, score=(train=0.932, test=0.928) total time=   1.3s\n",
      "[CV 9/10] END lr__C=10, lr__max_iter=100, lr__penalty=l2, lr__solver=sag, smote__sampling_strategy=1.0;, score=(train=0.933, test=0.926) total time=   1.2s\n",
      "[CV 10/10] END lr__C=10, lr__max_iter=100, lr__penalty=l2, lr__solver=sag, smote__sampling_strategy=1.0;, score=(train=0.933, test=0.933) total time=   1.0s\n",
      "[CV 1/10] END lr__C=10, lr__max_iter=100, lr__penalty=l2, lr__solver=saga, smote__sampling_strategy=0.8;, score=(train=0.936, test=0.926) total time=   1.6s\n",
      "[CV 2/10] END lr__C=10, lr__max_iter=100, lr__penalty=l2, lr__solver=saga, smote__sampling_strategy=0.8;, score=(train=0.934, test=0.928) total time=   2.2s\n",
      "[CV 3/10] END lr__C=10, lr__max_iter=100, lr__penalty=l2, lr__solver=saga, smote__sampling_strategy=0.8;, score=(train=0.932, test=0.935) total time=   1.6s\n",
      "[CV 4/10] END lr__C=10, lr__max_iter=100, lr__penalty=l2, lr__solver=saga, smote__sampling_strategy=0.8;, score=(train=0.936, test=0.927) total time=   2.1s\n",
      "[CV 5/10] END lr__C=10, lr__max_iter=100, lr__penalty=l2, lr__solver=saga, smote__sampling_strategy=0.8;, score=(train=0.932, test=0.930) total time=   1.7s\n"
     ]
    },
    {
     "name": "stderr",
     "output_type": "stream",
     "text": [
      "/opt/conda/lib/python3.7/site-packages/sklearn/linear_model/_sag.py:354: ConvergenceWarning: The max_iter was reached which means the coef_ did not converge\n",
      "  ConvergenceWarning,\n"
     ]
    },
    {
     "name": "stdout",
     "output_type": "stream",
     "text": [
      "[CV 6/10] END lr__C=10, lr__max_iter=100, lr__penalty=l2, lr__solver=saga, smote__sampling_strategy=0.8;, score=(train=0.931, test=0.938) total time=   2.4s\n",
      "[CV 7/10] END lr__C=10, lr__max_iter=100, lr__penalty=l2, lr__solver=saga, smote__sampling_strategy=0.8;, score=(train=0.936, test=0.930) total time=   1.8s\n",
      "[CV 8/10] END lr__C=10, lr__max_iter=100, lr__penalty=l2, lr__solver=saga, smote__sampling_strategy=0.8;, score=(train=0.933, test=0.931) total time=   1.6s\n",
      "[CV 9/10] END lr__C=10, lr__max_iter=100, lr__penalty=l2, lr__solver=saga, smote__sampling_strategy=0.8;, score=(train=0.934, test=0.929) total time=   1.8s\n",
      "[CV 10/10] END lr__C=10, lr__max_iter=100, lr__penalty=l2, lr__solver=saga, smote__sampling_strategy=0.8;, score=(train=0.934, test=0.934) total time=   1.8s\n",
      "[CV 1/10] END lr__C=10, lr__max_iter=100, lr__penalty=l2, lr__solver=saga, smote__sampling_strategy=0.9;, score=(train=0.935, test=0.928) total time=   1.9s\n",
      "[CV 2/10] END lr__C=10, lr__max_iter=100, lr__penalty=l2, lr__solver=saga, smote__sampling_strategy=0.9;, score=(train=0.934, test=0.928) total time=   2.2s\n",
      "[CV 3/10] END lr__C=10, lr__max_iter=100, lr__penalty=l2, lr__solver=saga, smote__sampling_strategy=0.9;, score=(train=0.931, test=0.936) total time=   1.7s\n",
      "[CV 4/10] END lr__C=10, lr__max_iter=100, lr__penalty=l2, lr__solver=saga, smote__sampling_strategy=0.9;, score=(train=0.935, test=0.926) total time=   1.8s\n",
      "[CV 5/10] END lr__C=10, lr__max_iter=100, lr__penalty=l2, lr__solver=saga, smote__sampling_strategy=0.9;, score=(train=0.932, test=0.928) total time=   1.8s\n",
      "[CV 6/10] END lr__C=10, lr__max_iter=100, lr__penalty=l2, lr__solver=saga, smote__sampling_strategy=0.9;, score=(train=0.931, test=0.934) total time=   2.4s\n",
      "[CV 7/10] END lr__C=10, lr__max_iter=100, lr__penalty=l2, lr__solver=saga, smote__sampling_strategy=0.9;, score=(train=0.936, test=0.931) total time=   1.9s\n",
      "[CV 8/10] END lr__C=10, lr__max_iter=100, lr__penalty=l2, lr__solver=saga, smote__sampling_strategy=0.9;, score=(train=0.933, test=0.927) total time=   1.7s\n",
      "[CV 9/10] END lr__C=10, lr__max_iter=100, lr__penalty=l2, lr__solver=saga, smote__sampling_strategy=0.9;, score=(train=0.934, test=0.927) total time=   1.8s\n",
      "[CV 10/10] END lr__C=10, lr__max_iter=100, lr__penalty=l2, lr__solver=saga, smote__sampling_strategy=0.9;, score=(train=0.932, test=0.932) total time=   1.9s\n",
      "[CV 1/10] END lr__C=10, lr__max_iter=100, lr__penalty=l2, lr__solver=saga, smote__sampling_strategy=1.0;, score=(train=0.934, test=0.928) total time=   1.7s\n",
      "[CV 2/10] END lr__C=10, lr__max_iter=100, lr__penalty=l2, lr__solver=saga, smote__sampling_strategy=1.0;, score=(train=0.933, test=0.927) total time=   2.4s\n",
      "[CV 3/10] END lr__C=10, lr__max_iter=100, lr__penalty=l2, lr__solver=saga, smote__sampling_strategy=1.0;, score=(train=0.929, test=0.934) total time=   1.9s\n",
      "[CV 4/10] END lr__C=10, lr__max_iter=100, lr__penalty=l2, lr__solver=saga, smote__sampling_strategy=1.0;, score=(train=0.935, test=0.927) total time=   1.9s\n",
      "[CV 5/10] END lr__C=10, lr__max_iter=100, lr__penalty=l2, lr__solver=saga, smote__sampling_strategy=1.0;, score=(train=0.930, test=0.927) total time=   2.0s\n",
      "[CV 6/10] END lr__C=10, lr__max_iter=100, lr__penalty=l2, lr__solver=saga, smote__sampling_strategy=1.0;, score=(train=0.930, test=0.933) total time=   2.5s\n",
      "[CV 7/10] END lr__C=10, lr__max_iter=100, lr__penalty=l2, lr__solver=saga, smote__sampling_strategy=1.0;, score=(train=0.936, test=0.928) total time=   2.0s\n",
      "[CV 8/10] END lr__C=10, lr__max_iter=100, lr__penalty=l2, lr__solver=saga, smote__sampling_strategy=1.0;, score=(train=0.932, test=0.929) total time=   2.0s\n",
      "[CV 9/10] END lr__C=10, lr__max_iter=100, lr__penalty=l2, lr__solver=saga, smote__sampling_strategy=1.0;, score=(train=0.933, test=0.926) total time=   2.0s\n",
      "[CV 10/10] END lr__C=10, lr__max_iter=100, lr__penalty=l2, lr__solver=saga, smote__sampling_strategy=1.0;, score=(train=0.933, test=0.933) total time=   1.9s\n",
      "[CV 1/10] END lr__C=10, lr__max_iter=500, lr__penalty=l2, lr__solver=newton-cg, smote__sampling_strategy=0.8;, score=(train=0.936, test=0.926) total time=   0.7s\n",
      "[CV 2/10] END lr__C=10, lr__max_iter=500, lr__penalty=l2, lr__solver=newton-cg, smote__sampling_strategy=0.8;, score=(train=0.934, test=0.928) total time=   0.8s\n",
      "[CV 3/10] END lr__C=10, lr__max_iter=500, lr__penalty=l2, lr__solver=newton-cg, smote__sampling_strategy=0.8;, score=(train=0.932, test=0.935) total time=   0.7s\n",
      "[CV 4/10] END lr__C=10, lr__max_iter=500, lr__penalty=l2, lr__solver=newton-cg, smote__sampling_strategy=0.8;, score=(train=0.936, test=0.927) total time=   0.7s\n",
      "[CV 5/10] END lr__C=10, lr__max_iter=500, lr__penalty=l2, lr__solver=newton-cg, smote__sampling_strategy=0.8;, score=(train=0.932, test=0.930) total time=   0.7s\n",
      "[CV 6/10] END lr__C=10, lr__max_iter=500, lr__penalty=l2, lr__solver=newton-cg, smote__sampling_strategy=0.8;, score=(train=0.931, test=0.938) total time=   0.8s\n",
      "[CV 7/10] END lr__C=10, lr__max_iter=500, lr__penalty=l2, lr__solver=newton-cg, smote__sampling_strategy=0.8;, score=(train=0.936, test=0.930) total time=   0.8s\n",
      "[CV 8/10] END lr__C=10, lr__max_iter=500, lr__penalty=l2, lr__solver=newton-cg, smote__sampling_strategy=0.8;, score=(train=0.933, test=0.931) total time=   0.7s\n",
      "[CV 9/10] END lr__C=10, lr__max_iter=500, lr__penalty=l2, lr__solver=newton-cg, smote__sampling_strategy=0.8;, score=(train=0.934, test=0.929) total time=   0.6s\n",
      "[CV 10/10] END lr__C=10, lr__max_iter=500, lr__penalty=l2, lr__solver=newton-cg, smote__sampling_strategy=0.8;, score=(train=0.934, test=0.934) total time=   0.7s\n",
      "[CV 1/10] END lr__C=10, lr__max_iter=500, lr__penalty=l2, lr__solver=newton-cg, smote__sampling_strategy=0.9;, score=(train=0.935, test=0.928) total time=   0.8s\n",
      "[CV 2/10] END lr__C=10, lr__max_iter=500, lr__penalty=l2, lr__solver=newton-cg, smote__sampling_strategy=0.9;, score=(train=0.934, test=0.928) total time=   0.9s\n",
      "[CV 3/10] END lr__C=10, lr__max_iter=500, lr__penalty=l2, lr__solver=newton-cg, smote__sampling_strategy=0.9;, score=(train=0.931, test=0.936) total time=   0.7s\n",
      "[CV 4/10] END lr__C=10, lr__max_iter=500, lr__penalty=l2, lr__solver=newton-cg, smote__sampling_strategy=0.9;, score=(train=0.935, test=0.926) total time=   0.9s\n",
      "[CV 5/10] END lr__C=10, lr__max_iter=500, lr__penalty=l2, lr__solver=newton-cg, smote__sampling_strategy=0.9;, score=(train=0.932, test=0.928) total time=   0.8s\n",
      "[CV 6/10] END lr__C=10, lr__max_iter=500, lr__penalty=l2, lr__solver=newton-cg, smote__sampling_strategy=0.9;, score=(train=0.931, test=0.934) total time=   0.8s\n",
      "[CV 7/10] END lr__C=10, lr__max_iter=500, lr__penalty=l2, lr__solver=newton-cg, smote__sampling_strategy=0.9;, score=(train=0.936, test=0.931) total time=   0.8s\n",
      "[CV 8/10] END lr__C=10, lr__max_iter=500, lr__penalty=l2, lr__solver=newton-cg, smote__sampling_strategy=0.9;, score=(train=0.933, test=0.927) total time=   0.8s\n",
      "[CV 9/10] END lr__C=10, lr__max_iter=500, lr__penalty=l2, lr__solver=newton-cg, smote__sampling_strategy=0.9;, score=(train=0.934, test=0.927) total time=   0.8s\n",
      "[CV 10/10] END lr__C=10, lr__max_iter=500, lr__penalty=l2, lr__solver=newton-cg, smote__sampling_strategy=0.9;, score=(train=0.932, test=0.932) total time=   0.8s\n",
      "[CV 1/10] END lr__C=10, lr__max_iter=500, lr__penalty=l2, lr__solver=newton-cg, smote__sampling_strategy=1.0;, score=(train=0.934, test=0.928) total time=   1.0s\n",
      "[CV 2/10] END lr__C=10, lr__max_iter=500, lr__penalty=l2, lr__solver=newton-cg, smote__sampling_strategy=1.0;, score=(train=0.933, test=0.927) total time=   0.8s\n",
      "[CV 3/10] END lr__C=10, lr__max_iter=500, lr__penalty=l2, lr__solver=newton-cg, smote__sampling_strategy=1.0;, score=(train=0.929, test=0.934) total time=   0.9s\n",
      "[CV 4/10] END lr__C=10, lr__max_iter=500, lr__penalty=l2, lr__solver=newton-cg, smote__sampling_strategy=1.0;, score=(train=0.935, test=0.927) total time=   0.9s\n",
      "[CV 5/10] END lr__C=10, lr__max_iter=500, lr__penalty=l2, lr__solver=newton-cg, smote__sampling_strategy=1.0;, score=(train=0.930, test=0.927) total time=   1.3s\n",
      "[CV 6/10] END lr__C=10, lr__max_iter=500, lr__penalty=l2, lr__solver=newton-cg, smote__sampling_strategy=1.0;, score=(train=0.930, test=0.933) total time=   0.8s\n",
      "[CV 7/10] END lr__C=10, lr__max_iter=500, lr__penalty=l2, lr__solver=newton-cg, smote__sampling_strategy=1.0;, score=(train=0.936, test=0.928) total time=   0.8s\n",
      "[CV 8/10] END lr__C=10, lr__max_iter=500, lr__penalty=l2, lr__solver=newton-cg, smote__sampling_strategy=1.0;, score=(train=0.932, test=0.928) total time=   0.8s\n",
      "[CV 9/10] END lr__C=10, lr__max_iter=500, lr__penalty=l2, lr__solver=newton-cg, smote__sampling_strategy=1.0;, score=(train=0.933, test=0.926) total time=   0.8s\n",
      "[CV 10/10] END lr__C=10, lr__max_iter=500, lr__penalty=l2, lr__solver=newton-cg, smote__sampling_strategy=1.0;, score=(train=0.933, test=0.933) total time=   0.9s\n",
      "[CV 1/10] END lr__C=10, lr__max_iter=500, lr__penalty=l2, lr__solver=lbfgs, smote__sampling_strategy=0.8;, score=(train=0.936, test=0.926) total time=   0.7s\n",
      "[CV 2/10] END lr__C=10, lr__max_iter=500, lr__penalty=l2, lr__solver=lbfgs, smote__sampling_strategy=0.8;, score=(train=0.934, test=0.928) total time=   0.6s\n",
      "[CV 3/10] END lr__C=10, lr__max_iter=500, lr__penalty=l2, lr__solver=lbfgs, smote__sampling_strategy=0.8;, score=(train=0.932, test=0.935) total time=   0.6s\n",
      "[CV 4/10] END lr__C=10, lr__max_iter=500, lr__penalty=l2, lr__solver=lbfgs, smote__sampling_strategy=0.8;, score=(train=0.936, test=0.927) total time=   0.7s\n",
      "[CV 5/10] END lr__C=10, lr__max_iter=500, lr__penalty=l2, lr__solver=lbfgs, smote__sampling_strategy=0.8;, score=(train=0.932, test=0.930) total time=   0.6s\n",
      "[CV 6/10] END lr__C=10, lr__max_iter=500, lr__penalty=l2, lr__solver=lbfgs, smote__sampling_strategy=0.8;, score=(train=0.931, test=0.938) total time=   0.6s\n",
      "[CV 7/10] END lr__C=10, lr__max_iter=500, lr__penalty=l2, lr__solver=lbfgs, smote__sampling_strategy=0.8;, score=(train=0.936, test=0.930) total time=   0.7s\n",
      "[CV 8/10] END lr__C=10, lr__max_iter=500, lr__penalty=l2, lr__solver=lbfgs, smote__sampling_strategy=0.8;, score=(train=0.933, test=0.931) total time=   0.6s\n",
      "[CV 9/10] END lr__C=10, lr__max_iter=500, lr__penalty=l2, lr__solver=lbfgs, smote__sampling_strategy=0.8;, score=(train=0.934, test=0.929) total time=   0.7s\n",
      "[CV 10/10] END lr__C=10, lr__max_iter=500, lr__penalty=l2, lr__solver=lbfgs, smote__sampling_strategy=0.8;, score=(train=0.934, test=0.934) total time=   0.6s\n",
      "[CV 1/10] END lr__C=10, lr__max_iter=500, lr__penalty=l2, lr__solver=lbfgs, smote__sampling_strategy=0.9;, score=(train=0.935, test=0.928) total time=   0.8s\n",
      "[CV 2/10] END lr__C=10, lr__max_iter=500, lr__penalty=l2, lr__solver=lbfgs, smote__sampling_strategy=0.9;, score=(train=0.934, test=0.928) total time=   0.8s\n",
      "[CV 3/10] END lr__C=10, lr__max_iter=500, lr__penalty=l2, lr__solver=lbfgs, smote__sampling_strategy=0.9;, score=(train=0.931, test=0.936) total time=   0.6s\n",
      "[CV 4/10] END lr__C=10, lr__max_iter=500, lr__penalty=l2, lr__solver=lbfgs, smote__sampling_strategy=0.9;, score=(train=0.935, test=0.926) total time=   0.8s\n",
      "[CV 5/10] END lr__C=10, lr__max_iter=500, lr__penalty=l2, lr__solver=lbfgs, smote__sampling_strategy=0.9;, score=(train=0.932, test=0.928) total time=   0.8s\n",
      "[CV 6/10] END lr__C=10, lr__max_iter=500, lr__penalty=l2, lr__solver=lbfgs, smote__sampling_strategy=0.9;, score=(train=0.931, test=0.934) total time=   0.8s\n",
      "[CV 7/10] END lr__C=10, lr__max_iter=500, lr__penalty=l2, lr__solver=lbfgs, smote__sampling_strategy=0.9;, score=(train=0.936, test=0.931) total time=   0.6s\n",
      "[CV 8/10] END lr__C=10, lr__max_iter=500, lr__penalty=l2, lr__solver=lbfgs, smote__sampling_strategy=0.9;, score=(train=0.933, test=0.927) total time=   0.7s\n",
      "[CV 9/10] END lr__C=10, lr__max_iter=500, lr__penalty=l2, lr__solver=lbfgs, smote__sampling_strategy=0.9;, score=(train=0.934, test=0.927) total time=   0.7s\n",
      "[CV 10/10] END lr__C=10, lr__max_iter=500, lr__penalty=l2, lr__solver=lbfgs, smote__sampling_strategy=0.9;, score=(train=0.932, test=0.932) total time=   0.8s\n",
      "[CV 1/10] END lr__C=10, lr__max_iter=500, lr__penalty=l2, lr__solver=lbfgs, smote__sampling_strategy=1.0;, score=(train=0.934, test=0.928) total time=   0.9s\n",
      "[CV 2/10] END lr__C=10, lr__max_iter=500, lr__penalty=l2, lr__solver=lbfgs, smote__sampling_strategy=1.0;, score=(train=0.933, test=0.927) total time=   1.0s\n",
      "[CV 3/10] END lr__C=10, lr__max_iter=500, lr__penalty=l2, lr__solver=lbfgs, smote__sampling_strategy=1.0;, score=(train=0.929, test=0.934) total time=   0.6s\n",
      "[CV 4/10] END lr__C=10, lr__max_iter=500, lr__penalty=l2, lr__solver=lbfgs, smote__sampling_strategy=1.0;, score=(train=0.935, test=0.927) total time=   0.8s\n",
      "[CV 5/10] END lr__C=10, lr__max_iter=500, lr__penalty=l2, lr__solver=lbfgs, smote__sampling_strategy=1.0;, score=(train=0.930, test=0.927) total time=   0.7s\n",
      "[CV 6/10] END lr__C=10, lr__max_iter=500, lr__penalty=l2, lr__solver=lbfgs, smote__sampling_strategy=1.0;, score=(train=0.930, test=0.933) total time=   0.7s\n",
      "[CV 7/10] END lr__C=10, lr__max_iter=500, lr__penalty=l2, lr__solver=lbfgs, smote__sampling_strategy=1.0;, score=(train=0.936, test=0.928) total time=   0.6s\n",
      "[CV 8/10] END lr__C=10, lr__max_iter=500, lr__penalty=l2, lr__solver=lbfgs, smote__sampling_strategy=1.0;, score=(train=0.932, test=0.928) total time=   0.8s\n",
      "[CV 9/10] END lr__C=10, lr__max_iter=500, lr__penalty=l2, lr__solver=lbfgs, smote__sampling_strategy=1.0;, score=(train=0.933, test=0.926) total time=   0.7s\n",
      "[CV 10/10] END lr__C=10, lr__max_iter=500, lr__penalty=l2, lr__solver=lbfgs, smote__sampling_strategy=1.0;, score=(train=0.933, test=0.933) total time=   0.7s\n",
      "[CV 1/10] END lr__C=10, lr__max_iter=500, lr__penalty=l2, lr__solver=liblinear, smote__sampling_strategy=0.8;, score=(train=0.936, test=0.926) total time=   0.3s\n",
      "[CV 2/10] END lr__C=10, lr__max_iter=500, lr__penalty=l2, lr__solver=liblinear, smote__sampling_strategy=0.8;, score=(train=0.934, test=0.928) total time=   0.5s\n",
      "[CV 3/10] END lr__C=10, lr__max_iter=500, lr__penalty=l2, lr__solver=liblinear, smote__sampling_strategy=0.8;, score=(train=0.932, test=0.935) total time=   0.3s\n",
      "[CV 4/10] END lr__C=10, lr__max_iter=500, lr__penalty=l2, lr__solver=liblinear, smote__sampling_strategy=0.8;, score=(train=0.936, test=0.927) total time=   0.4s\n",
      "[CV 5/10] END lr__C=10, lr__max_iter=500, lr__penalty=l2, lr__solver=liblinear, smote__sampling_strategy=0.8;, score=(train=0.932, test=0.930) total time=   0.3s\n",
      "[CV 6/10] END lr__C=10, lr__max_iter=500, lr__penalty=l2, lr__solver=liblinear, smote__sampling_strategy=0.8;, score=(train=0.931, test=0.938) total time=   0.4s\n",
      "[CV 7/10] END lr__C=10, lr__max_iter=500, lr__penalty=l2, lr__solver=liblinear, smote__sampling_strategy=0.8;, score=(train=0.936, test=0.930) total time=   0.4s\n",
      "[CV 8/10] END lr__C=10, lr__max_iter=500, lr__penalty=l2, lr__solver=liblinear, smote__sampling_strategy=0.8;, score=(train=0.934, test=0.931) total time=   0.4s\n",
      "[CV 9/10] END lr__C=10, lr__max_iter=500, lr__penalty=l2, lr__solver=liblinear, smote__sampling_strategy=0.8;, score=(train=0.934, test=0.929) total time=   0.4s\n",
      "[CV 10/10] END lr__C=10, lr__max_iter=500, lr__penalty=l2, lr__solver=liblinear, smote__sampling_strategy=0.8;, score=(train=0.934, test=0.934) total time=   0.4s\n",
      "[CV 1/10] END lr__C=10, lr__max_iter=500, lr__penalty=l2, lr__solver=liblinear, smote__sampling_strategy=0.9;, score=(train=0.935, test=0.928) total time=   0.4s\n",
      "[CV 2/10] END lr__C=10, lr__max_iter=500, lr__penalty=l2, lr__solver=liblinear, smote__sampling_strategy=0.9;, score=(train=0.934, test=0.928) total time=   0.5s\n",
      "[CV 3/10] END lr__C=10, lr__max_iter=500, lr__penalty=l2, lr__solver=liblinear, smote__sampling_strategy=0.9;, score=(train=0.931, test=0.936) total time=   0.4s\n",
      "[CV 4/10] END lr__C=10, lr__max_iter=500, lr__penalty=l2, lr__solver=liblinear, smote__sampling_strategy=0.9;, score=(train=0.935, test=0.926) total time=   0.4s\n",
      "[CV 5/10] END lr__C=10, lr__max_iter=500, lr__penalty=l2, lr__solver=liblinear, smote__sampling_strategy=0.9;, score=(train=0.932, test=0.928) total time=   0.5s\n",
      "[CV 6/10] END lr__C=10, lr__max_iter=500, lr__penalty=l2, lr__solver=liblinear, smote__sampling_strategy=0.9;, score=(train=0.931, test=0.934) total time=   0.4s\n",
      "[CV 7/10] END lr__C=10, lr__max_iter=500, lr__penalty=l2, lr__solver=liblinear, smote__sampling_strategy=0.9;, score=(train=0.936, test=0.931) total time=   0.5s\n",
      "[CV 8/10] END lr__C=10, lr__max_iter=500, lr__penalty=l2, lr__solver=liblinear, smote__sampling_strategy=0.9;, score=(train=0.933, test=0.928) total time=   0.5s\n",
      "[CV 9/10] END lr__C=10, lr__max_iter=500, lr__penalty=l2, lr__solver=liblinear, smote__sampling_strategy=0.9;, score=(train=0.934, test=0.927) total time=   0.4s\n",
      "[CV 10/10] END lr__C=10, lr__max_iter=500, lr__penalty=l2, lr__solver=liblinear, smote__sampling_strategy=0.9;, score=(train=0.932, test=0.932) total time=   0.4s\n",
      "[CV 1/10] END lr__C=10, lr__max_iter=500, lr__penalty=l2, lr__solver=liblinear, smote__sampling_strategy=1.0;, score=(train=0.934, test=0.928) total time=   0.5s\n",
      "[CV 2/10] END lr__C=10, lr__max_iter=500, lr__penalty=l2, lr__solver=liblinear, smote__sampling_strategy=1.0;, score=(train=0.933, test=0.927) total time=   0.5s\n",
      "[CV 3/10] END lr__C=10, lr__max_iter=500, lr__penalty=l2, lr__solver=liblinear, smote__sampling_strategy=1.0;, score=(train=0.929, test=0.934) total time=   0.5s\n",
      "[CV 4/10] END lr__C=10, lr__max_iter=500, lr__penalty=l2, lr__solver=liblinear, smote__sampling_strategy=1.0;, score=(train=0.935, test=0.927) total time=   0.4s\n",
      "[CV 5/10] END lr__C=10, lr__max_iter=500, lr__penalty=l2, lr__solver=liblinear, smote__sampling_strategy=1.0;, score=(train=0.930, test=0.927) total time=   0.4s\n",
      "[CV 6/10] END lr__C=10, lr__max_iter=500, lr__penalty=l2, lr__solver=liblinear, smote__sampling_strategy=1.0;, score=(train=0.930, test=0.933) total time=   0.5s\n",
      "[CV 7/10] END lr__C=10, lr__max_iter=500, lr__penalty=l2, lr__solver=liblinear, smote__sampling_strategy=1.0;, score=(train=0.936, test=0.928) total time=   0.5s\n",
      "[CV 8/10] END lr__C=10, lr__max_iter=500, lr__penalty=l2, lr__solver=liblinear, smote__sampling_strategy=1.0;, score=(train=0.932, test=0.929) total time=   0.5s\n",
      "[CV 9/10] END lr__C=10, lr__max_iter=500, lr__penalty=l2, lr__solver=liblinear, smote__sampling_strategy=1.0;, score=(train=0.933, test=0.926) total time=   0.5s\n",
      "[CV 10/10] END lr__C=10, lr__max_iter=500, lr__penalty=l2, lr__solver=liblinear, smote__sampling_strategy=1.0;, score=(train=0.933, test=0.933) total time=   0.5s\n",
      "[CV 1/10] END lr__C=10, lr__max_iter=500, lr__penalty=l2, lr__solver=sag, smote__sampling_strategy=0.8;, score=(train=0.936, test=0.926) total time=   1.1s\n",
      "[CV 2/10] END lr__C=10, lr__max_iter=500, lr__penalty=l2, lr__solver=sag, smote__sampling_strategy=0.8;, score=(train=0.934, test=0.928) total time=   1.3s\n",
      "[CV 3/10] END lr__C=10, lr__max_iter=500, lr__penalty=l2, lr__solver=sag, smote__sampling_strategy=0.8;, score=(train=0.932, test=0.935) total time=   0.9s\n",
      "[CV 4/10] END lr__C=10, lr__max_iter=500, lr__penalty=l2, lr__solver=sag, smote__sampling_strategy=0.8;, score=(train=0.936, test=0.927) total time=   1.1s\n",
      "[CV 5/10] END lr__C=10, lr__max_iter=500, lr__penalty=l2, lr__solver=sag, smote__sampling_strategy=0.8;, score=(train=0.932, test=0.930) total time=   1.0s\n",
      "[CV 6/10] END lr__C=10, lr__max_iter=500, lr__penalty=l2, lr__solver=sag, smote__sampling_strategy=0.8;, score=(train=0.931, test=0.938) total time=   1.4s\n",
      "[CV 7/10] END lr__C=10, lr__max_iter=500, lr__penalty=l2, lr__solver=sag, smote__sampling_strategy=0.8;, score=(train=0.936, test=0.930) total time=   1.1s\n",
      "[CV 8/10] END lr__C=10, lr__max_iter=500, lr__penalty=l2, lr__solver=sag, smote__sampling_strategy=0.8;, score=(train=0.933, test=0.931) total time=   1.2s\n",
      "[CV 9/10] END lr__C=10, lr__max_iter=500, lr__penalty=l2, lr__solver=sag, smote__sampling_strategy=0.8;, score=(train=0.934, test=0.929) total time=   1.1s\n",
      "[CV 10/10] END lr__C=10, lr__max_iter=500, lr__penalty=l2, lr__solver=sag, smote__sampling_strategy=0.8;, score=(train=0.934, test=0.934) total time=   1.0s\n",
      "[CV 1/10] END lr__C=10, lr__max_iter=500, lr__penalty=l2, lr__solver=sag, smote__sampling_strategy=0.9;, score=(train=0.935, test=0.928) total time=   1.1s\n",
      "[CV 2/10] END lr__C=10, lr__max_iter=500, lr__penalty=l2, lr__solver=sag, smote__sampling_strategy=0.9;, score=(train=0.934, test=0.928) total time=   1.4s\n",
      "[CV 3/10] END lr__C=10, lr__max_iter=500, lr__penalty=l2, lr__solver=sag, smote__sampling_strategy=0.9;, score=(train=0.931, test=0.936) total time=   1.1s\n",
      "[CV 4/10] END lr__C=10, lr__max_iter=500, lr__penalty=l2, lr__solver=sag, smote__sampling_strategy=0.9;, score=(train=0.935, test=0.926) total time=   1.0s\n",
      "[CV 5/10] END lr__C=10, lr__max_iter=500, lr__penalty=l2, lr__solver=sag, smote__sampling_strategy=0.9;, score=(train=0.932, test=0.928) total time=   1.2s\n",
      "[CV 6/10] END lr__C=10, lr__max_iter=500, lr__penalty=l2, lr__solver=sag, smote__sampling_strategy=0.9;, score=(train=0.931, test=0.934) total time=   1.4s\n",
      "[CV 7/10] END lr__C=10, lr__max_iter=500, lr__penalty=l2, lr__solver=sag, smote__sampling_strategy=0.9;, score=(train=0.936, test=0.931) total time=   1.2s\n",
      "[CV 8/10] END lr__C=10, lr__max_iter=500, lr__penalty=l2, lr__solver=sag, smote__sampling_strategy=0.9;, score=(train=0.933, test=0.927) total time=   1.2s\n",
      "[CV 9/10] END lr__C=10, lr__max_iter=500, lr__penalty=l2, lr__solver=sag, smote__sampling_strategy=0.9;, score=(train=0.934, test=0.927) total time=   1.1s\n",
      "[CV 10/10] END lr__C=10, lr__max_iter=500, lr__penalty=l2, lr__solver=sag, smote__sampling_strategy=0.9;, score=(train=0.932, test=0.932) total time=   1.1s\n",
      "[CV 1/10] END lr__C=10, lr__max_iter=500, lr__penalty=l2, lr__solver=sag, smote__sampling_strategy=1.0;, score=(train=0.934, test=0.928) total time=   1.2s\n",
      "[CV 2/10] END lr__C=10, lr__max_iter=500, lr__penalty=l2, lr__solver=sag, smote__sampling_strategy=1.0;, score=(train=0.933, test=0.927) total time=   1.6s\n",
      "[CV 3/10] END lr__C=10, lr__max_iter=500, lr__penalty=l2, lr__solver=sag, smote__sampling_strategy=1.0;, score=(train=0.929, test=0.934) total time=   1.0s\n",
      "[CV 4/10] END lr__C=10, lr__max_iter=500, lr__penalty=l2, lr__solver=sag, smote__sampling_strategy=1.0;, score=(train=0.935, test=0.927) total time=   1.0s\n",
      "[CV 5/10] END lr__C=10, lr__max_iter=500, lr__penalty=l2, lr__solver=sag, smote__sampling_strategy=1.0;, score=(train=0.930, test=0.927) total time=   1.2s\n",
      "[CV 6/10] END lr__C=10, lr__max_iter=500, lr__penalty=l2, lr__solver=sag, smote__sampling_strategy=1.0;, score=(train=0.930, test=0.933) total time=   1.5s\n",
      "[CV 7/10] END lr__C=10, lr__max_iter=500, lr__penalty=l2, lr__solver=sag, smote__sampling_strategy=1.0;, score=(train=0.936, test=0.928) total time=   1.3s\n",
      "[CV 8/10] END lr__C=10, lr__max_iter=500, lr__penalty=l2, lr__solver=sag, smote__sampling_strategy=1.0;, score=(train=0.932, test=0.928) total time=   1.4s\n",
      "[CV 9/10] END lr__C=10, lr__max_iter=500, lr__penalty=l2, lr__solver=sag, smote__sampling_strategy=1.0;, score=(train=0.933, test=0.926) total time=   1.3s\n",
      "[CV 10/10] END lr__C=10, lr__max_iter=500, lr__penalty=l2, lr__solver=sag, smote__sampling_strategy=1.0;, score=(train=0.933, test=0.933) total time=   1.1s\n",
      "[CV 1/10] END lr__C=10, lr__max_iter=500, lr__penalty=l2, lr__solver=saga, smote__sampling_strategy=0.8;, score=(train=0.936, test=0.926) total time=   1.6s\n",
      "[CV 2/10] END lr__C=10, lr__max_iter=500, lr__penalty=l2, lr__solver=saga, smote__sampling_strategy=0.8;, score=(train=0.934, test=0.928) total time=   2.2s\n",
      "[CV 3/10] END lr__C=10, lr__max_iter=500, lr__penalty=l2, lr__solver=saga, smote__sampling_strategy=0.8;, score=(train=0.932, test=0.935) total time=   1.6s\n",
      "[CV 4/10] END lr__C=10, lr__max_iter=500, lr__penalty=l2, lr__solver=saga, smote__sampling_strategy=0.8;, score=(train=0.936, test=0.927) total time=   2.1s\n",
      "[CV 5/10] END lr__C=10, lr__max_iter=500, lr__penalty=l2, lr__solver=saga, smote__sampling_strategy=0.8;, score=(train=0.932, test=0.930) total time=   1.7s\n",
      "[CV 6/10] END lr__C=10, lr__max_iter=500, lr__penalty=l2, lr__solver=saga, smote__sampling_strategy=0.8;, score=(train=0.931, test=0.938) total time=   2.4s\n",
      "[CV 7/10] END lr__C=10, lr__max_iter=500, lr__penalty=l2, lr__solver=saga, smote__sampling_strategy=0.8;, score=(train=0.936, test=0.930) total time=   1.8s\n",
      "[CV 8/10] END lr__C=10, lr__max_iter=500, lr__penalty=l2, lr__solver=saga, smote__sampling_strategy=0.8;, score=(train=0.933, test=0.931) total time=   1.6s\n",
      "[CV 9/10] END lr__C=10, lr__max_iter=500, lr__penalty=l2, lr__solver=saga, smote__sampling_strategy=0.8;, score=(train=0.934, test=0.929) total time=   1.8s\n",
      "[CV 10/10] END lr__C=10, lr__max_iter=500, lr__penalty=l2, lr__solver=saga, smote__sampling_strategy=0.8;, score=(train=0.934, test=0.934) total time=   1.8s\n",
      "[CV 1/10] END lr__C=10, lr__max_iter=500, lr__penalty=l2, lr__solver=saga, smote__sampling_strategy=0.9;, score=(train=0.935, test=0.928) total time=   1.7s\n",
      "[CV 2/10] END lr__C=10, lr__max_iter=500, lr__penalty=l2, lr__solver=saga, smote__sampling_strategy=0.9;, score=(train=0.934, test=0.928) total time=   2.1s\n",
      "[CV 3/10] END lr__C=10, lr__max_iter=500, lr__penalty=l2, lr__solver=saga, smote__sampling_strategy=0.9;, score=(train=0.931, test=0.936) total time=   1.8s\n",
      "[CV 4/10] END lr__C=10, lr__max_iter=500, lr__penalty=l2, lr__solver=saga, smote__sampling_strategy=0.9;, score=(train=0.935, test=0.926) total time=   1.8s\n",
      "[CV 5/10] END lr__C=10, lr__max_iter=500, lr__penalty=l2, lr__solver=saga, smote__sampling_strategy=0.9;, score=(train=0.932, test=0.928) total time=   1.9s\n",
      "[CV 6/10] END lr__C=10, lr__max_iter=500, lr__penalty=l2, lr__solver=saga, smote__sampling_strategy=0.9;, score=(train=0.931, test=0.934) total time=   2.4s\n",
      "[CV 7/10] END lr__C=10, lr__max_iter=500, lr__penalty=l2, lr__solver=saga, smote__sampling_strategy=0.9;, score=(train=0.936, test=0.931) total time=   1.9s\n",
      "[CV 8/10] END lr__C=10, lr__max_iter=500, lr__penalty=l2, lr__solver=saga, smote__sampling_strategy=0.9;, score=(train=0.933, test=0.927) total time=   1.6s\n",
      "[CV 9/10] END lr__C=10, lr__max_iter=500, lr__penalty=l2, lr__solver=saga, smote__sampling_strategy=0.9;, score=(train=0.934, test=0.927) total time=   1.8s\n",
      "[CV 10/10] END lr__C=10, lr__max_iter=500, lr__penalty=l2, lr__solver=saga, smote__sampling_strategy=0.9;, score=(train=0.932, test=0.932) total time=   1.9s\n",
      "[CV 1/10] END lr__C=10, lr__max_iter=500, lr__penalty=l2, lr__solver=saga, smote__sampling_strategy=1.0;, score=(train=0.934, test=0.928) total time=   1.7s\n",
      "[CV 2/10] END lr__C=10, lr__max_iter=500, lr__penalty=l2, lr__solver=saga, smote__sampling_strategy=1.0;, score=(train=0.933, test=0.927) total time=   2.3s\n",
      "[CV 3/10] END lr__C=10, lr__max_iter=500, lr__penalty=l2, lr__solver=saga, smote__sampling_strategy=1.0;, score=(train=0.929, test=0.934) total time=   1.8s\n",
      "[CV 4/10] END lr__C=10, lr__max_iter=500, lr__penalty=l2, lr__solver=saga, smote__sampling_strategy=1.0;, score=(train=0.935, test=0.927) total time=   1.8s\n",
      "[CV 5/10] END lr__C=10, lr__max_iter=500, lr__penalty=l2, lr__solver=saga, smote__sampling_strategy=1.0;, score=(train=0.930, test=0.927) total time=   2.0s\n",
      "[CV 6/10] END lr__C=10, lr__max_iter=500, lr__penalty=l2, lr__solver=saga, smote__sampling_strategy=1.0;, score=(train=0.930, test=0.933) total time=   2.5s\n",
      "[CV 7/10] END lr__C=10, lr__max_iter=500, lr__penalty=l2, lr__solver=saga, smote__sampling_strategy=1.0;, score=(train=0.936, test=0.928) total time=   1.9s\n",
      "[CV 8/10] END lr__C=10, lr__max_iter=500, lr__penalty=l2, lr__solver=saga, smote__sampling_strategy=1.0;, score=(train=0.932, test=0.929) total time=   1.9s\n",
      "[CV 9/10] END lr__C=10, lr__max_iter=500, lr__penalty=l2, lr__solver=saga, smote__sampling_strategy=1.0;, score=(train=0.933, test=0.926) total time=   1.9s\n",
      "[CV 10/10] END lr__C=10, lr__max_iter=500, lr__penalty=l2, lr__solver=saga, smote__sampling_strategy=1.0;, score=(train=0.933, test=0.933) total time=   1.9s\n",
      "[CV 1/10] END lr__C=100, lr__max_iter=100, lr__penalty=l2, lr__solver=newton-cg, smote__sampling_strategy=0.8;, score=(train=0.936, test=0.928) total time=   1.4s\n",
      "[CV 2/10] END lr__C=100, lr__max_iter=100, lr__penalty=l2, lr__solver=newton-cg, smote__sampling_strategy=0.8;, score=(train=0.937, test=0.928) total time=   1.1s\n",
      "[CV 3/10] END lr__C=100, lr__max_iter=100, lr__penalty=l2, lr__solver=newton-cg, smote__sampling_strategy=0.8;, score=(train=0.934, test=0.937) total time=   1.1s\n",
      "[CV 4/10] END lr__C=100, lr__max_iter=100, lr__penalty=l2, lr__solver=newton-cg, smote__sampling_strategy=0.8;, score=(train=0.937, test=0.929) total time=   1.0s\n",
      "[CV 5/10] END lr__C=100, lr__max_iter=100, lr__penalty=l2, lr__solver=newton-cg, smote__sampling_strategy=0.8;, score=(train=0.934, test=0.931) total time=   1.0s\n",
      "[CV 6/10] END lr__C=100, lr__max_iter=100, lr__penalty=l2, lr__solver=newton-cg, smote__sampling_strategy=0.8;, score=(train=0.934, test=0.936) total time=   1.0s\n",
      "[CV 7/10] END lr__C=100, lr__max_iter=100, lr__penalty=l2, lr__solver=newton-cg, smote__sampling_strategy=0.8;, score=(train=0.937, test=0.931) total time=   1.0s\n",
      "[CV 8/10] END lr__C=100, lr__max_iter=100, lr__penalty=l2, lr__solver=newton-cg, smote__sampling_strategy=0.8;, score=(train=0.935, test=0.932) total time=   1.1s\n",
      "[CV 9/10] END lr__C=100, lr__max_iter=100, lr__penalty=l2, lr__solver=newton-cg, smote__sampling_strategy=0.8;, score=(train=0.936, test=0.929) total time=   1.2s\n",
      "[CV 10/10] END lr__C=100, lr__max_iter=100, lr__penalty=l2, lr__solver=newton-cg, smote__sampling_strategy=0.8;, score=(train=0.935, test=0.936) total time=   1.1s\n",
      "[CV 1/10] END lr__C=100, lr__max_iter=100, lr__penalty=l2, lr__solver=newton-cg, smote__sampling_strategy=0.9;, score=(train=0.936, test=0.930) total time=   1.3s\n",
      "[CV 2/10] END lr__C=100, lr__max_iter=100, lr__penalty=l2, lr__solver=newton-cg, smote__sampling_strategy=0.9;, score=(train=0.936, test=0.928) total time=   1.0s\n",
      "[CV 3/10] END lr__C=100, lr__max_iter=100, lr__penalty=l2, lr__solver=newton-cg, smote__sampling_strategy=0.9;, score=(train=0.932, test=0.939) total time=   1.2s\n",
      "[CV 4/10] END lr__C=100, lr__max_iter=100, lr__penalty=l2, lr__solver=newton-cg, smote__sampling_strategy=0.9;, score=(train=0.936, test=0.928) total time=   1.2s\n",
      "[CV 5/10] END lr__C=100, lr__max_iter=100, lr__penalty=l2, lr__solver=newton-cg, smote__sampling_strategy=0.9;, score=(train=0.933, test=0.928) total time=   1.2s\n",
      "[CV 6/10] END lr__C=100, lr__max_iter=100, lr__penalty=l2, lr__solver=newton-cg, smote__sampling_strategy=0.9;, score=(train=0.933, test=0.936) total time=   1.1s\n",
      "[CV 7/10] END lr__C=100, lr__max_iter=100, lr__penalty=l2, lr__solver=newton-cg, smote__sampling_strategy=0.9;, score=(train=0.938, test=0.933) total time=   1.1s\n",
      "[CV 8/10] END lr__C=100, lr__max_iter=100, lr__penalty=l2, lr__solver=newton-cg, smote__sampling_strategy=0.9;, score=(train=0.934, test=0.929) total time=   1.2s\n",
      "[CV 9/10] END lr__C=100, lr__max_iter=100, lr__penalty=l2, lr__solver=newton-cg, smote__sampling_strategy=0.9;, score=(train=0.935, test=0.929) total time=   1.2s\n",
      "[CV 10/10] END lr__C=100, lr__max_iter=100, lr__penalty=l2, lr__solver=newton-cg, smote__sampling_strategy=0.9;, score=(train=0.935, test=0.936) total time=   1.4s\n",
      "[CV 1/10] END lr__C=100, lr__max_iter=100, lr__penalty=l2, lr__solver=newton-cg, smote__sampling_strategy=1.0;, score=(train=0.935, test=0.930) total time=   1.4s\n",
      "[CV 2/10] END lr__C=100, lr__max_iter=100, lr__penalty=l2, lr__solver=newton-cg, smote__sampling_strategy=1.0;, score=(train=0.935, test=0.927) total time=   1.3s\n",
      "[CV 3/10] END lr__C=100, lr__max_iter=100, lr__penalty=l2, lr__solver=newton-cg, smote__sampling_strategy=1.0;, score=(train=0.931, test=0.938) total time=   1.5s\n",
      "[CV 4/10] END lr__C=100, lr__max_iter=100, lr__penalty=l2, lr__solver=newton-cg, smote__sampling_strategy=1.0;, score=(train=0.935, test=0.928) total time=   1.3s\n",
      "[CV 5/10] END lr__C=100, lr__max_iter=100, lr__penalty=l2, lr__solver=newton-cg, smote__sampling_strategy=1.0;, score=(train=0.932, test=0.929) total time=   1.2s\n",
      "[CV 6/10] END lr__C=100, lr__max_iter=100, lr__penalty=l2, lr__solver=newton-cg, smote__sampling_strategy=1.0;, score=(train=0.932, test=0.934) total time=   1.2s\n",
      "[CV 7/10] END lr__C=100, lr__max_iter=100, lr__penalty=l2, lr__solver=newton-cg, smote__sampling_strategy=1.0;, score=(train=0.938, test=0.930) total time=   1.6s\n",
      "[CV 8/10] END lr__C=100, lr__max_iter=100, lr__penalty=l2, lr__solver=newton-cg, smote__sampling_strategy=1.0;, score=(train=0.934, test=0.929) total time=   1.3s\n",
      "[CV 9/10] END lr__C=100, lr__max_iter=100, lr__penalty=l2, lr__solver=newton-cg, smote__sampling_strategy=1.0;, score=(train=0.933, test=0.925) total time=   1.3s\n",
      "[CV 10/10] END lr__C=100, lr__max_iter=100, lr__penalty=l2, lr__solver=newton-cg, smote__sampling_strategy=1.0;, score=(train=0.936, test=0.936) total time=   1.2s\n"
     ]
    },
    {
     "name": "stderr",
     "output_type": "stream",
     "text": [
      "/opt/conda/lib/python3.7/site-packages/sklearn/linear_model/_logistic.py:818: ConvergenceWarning: lbfgs failed to converge (status=1):\n",
      "STOP: TOTAL NO. of ITERATIONS REACHED LIMIT.\n",
      "\n",
      "Increase the number of iterations (max_iter) or scale the data as shown in:\n",
      "    https://scikit-learn.org/stable/modules/preprocessing.html\n",
      "Please also refer to the documentation for alternative solver options:\n",
      "    https://scikit-learn.org/stable/modules/linear_model.html#logistic-regression\n",
      "  extra_warning_msg=_LOGISTIC_SOLVER_CONVERGENCE_MSG,\n"
     ]
    },
    {
     "name": "stdout",
     "output_type": "stream",
     "text": [
      "[CV 1/10] END lr__C=100, lr__max_iter=100, lr__penalty=l2, lr__solver=lbfgs, smote__sampling_strategy=0.8;, score=(train=0.936, test=0.929) total time=   0.3s\n"
     ]
    },
    {
     "name": "stderr",
     "output_type": "stream",
     "text": [
      "/opt/conda/lib/python3.7/site-packages/sklearn/linear_model/_logistic.py:818: ConvergenceWarning: lbfgs failed to converge (status=1):\n",
      "STOP: TOTAL NO. of ITERATIONS REACHED LIMIT.\n",
      "\n",
      "Increase the number of iterations (max_iter) or scale the data as shown in:\n",
      "    https://scikit-learn.org/stable/modules/preprocessing.html\n",
      "Please also refer to the documentation for alternative solver options:\n",
      "    https://scikit-learn.org/stable/modules/linear_model.html#logistic-regression\n",
      "  extra_warning_msg=_LOGISTIC_SOLVER_CONVERGENCE_MSG,\n"
     ]
    },
    {
     "name": "stdout",
     "output_type": "stream",
     "text": [
      "[CV 2/10] END lr__C=100, lr__max_iter=100, lr__penalty=l2, lr__solver=lbfgs, smote__sampling_strategy=0.8;, score=(train=0.936, test=0.929) total time=   0.3s\n"
     ]
    },
    {
     "name": "stderr",
     "output_type": "stream",
     "text": [
      "/opt/conda/lib/python3.7/site-packages/sklearn/linear_model/_logistic.py:818: ConvergenceWarning: lbfgs failed to converge (status=1):\n",
      "STOP: TOTAL NO. of ITERATIONS REACHED LIMIT.\n",
      "\n",
      "Increase the number of iterations (max_iter) or scale the data as shown in:\n",
      "    https://scikit-learn.org/stable/modules/preprocessing.html\n",
      "Please also refer to the documentation for alternative solver options:\n",
      "    https://scikit-learn.org/stable/modules/linear_model.html#logistic-regression\n",
      "  extra_warning_msg=_LOGISTIC_SOLVER_CONVERGENCE_MSG,\n"
     ]
    },
    {
     "name": "stdout",
     "output_type": "stream",
     "text": [
      "[CV 3/10] END lr__C=100, lr__max_iter=100, lr__penalty=l2, lr__solver=lbfgs, smote__sampling_strategy=0.8;, score=(train=0.933, test=0.938) total time=   0.3s\n"
     ]
    },
    {
     "name": "stderr",
     "output_type": "stream",
     "text": [
      "/opt/conda/lib/python3.7/site-packages/sklearn/linear_model/_logistic.py:818: ConvergenceWarning: lbfgs failed to converge (status=1):\n",
      "STOP: TOTAL NO. of ITERATIONS REACHED LIMIT.\n",
      "\n",
      "Increase the number of iterations (max_iter) or scale the data as shown in:\n",
      "    https://scikit-learn.org/stable/modules/preprocessing.html\n",
      "Please also refer to the documentation for alternative solver options:\n",
      "    https://scikit-learn.org/stable/modules/linear_model.html#logistic-regression\n",
      "  extra_warning_msg=_LOGISTIC_SOLVER_CONVERGENCE_MSG,\n"
     ]
    },
    {
     "name": "stdout",
     "output_type": "stream",
     "text": [
      "[CV 4/10] END lr__C=100, lr__max_iter=100, lr__penalty=l2, lr__solver=lbfgs, smote__sampling_strategy=0.8;, score=(train=0.937, test=0.930) total time=   0.3s\n"
     ]
    },
    {
     "name": "stderr",
     "output_type": "stream",
     "text": [
      "/opt/conda/lib/python3.7/site-packages/sklearn/linear_model/_logistic.py:818: ConvergenceWarning: lbfgs failed to converge (status=1):\n",
      "STOP: TOTAL NO. of ITERATIONS REACHED LIMIT.\n",
      "\n",
      "Increase the number of iterations (max_iter) or scale the data as shown in:\n",
      "    https://scikit-learn.org/stable/modules/preprocessing.html\n",
      "Please also refer to the documentation for alternative solver options:\n",
      "    https://scikit-learn.org/stable/modules/linear_model.html#logistic-regression\n",
      "  extra_warning_msg=_LOGISTIC_SOLVER_CONVERGENCE_MSG,\n"
     ]
    },
    {
     "name": "stdout",
     "output_type": "stream",
     "text": [
      "[CV 5/10] END lr__C=100, lr__max_iter=100, lr__penalty=l2, lr__solver=lbfgs, smote__sampling_strategy=0.8;, score=(train=0.933, test=0.930) total time=   0.3s\n"
     ]
    },
    {
     "name": "stderr",
     "output_type": "stream",
     "text": [
      "/opt/conda/lib/python3.7/site-packages/sklearn/linear_model/_logistic.py:818: ConvergenceWarning: lbfgs failed to converge (status=1):\n",
      "STOP: TOTAL NO. of ITERATIONS REACHED LIMIT.\n",
      "\n",
      "Increase the number of iterations (max_iter) or scale the data as shown in:\n",
      "    https://scikit-learn.org/stable/modules/preprocessing.html\n",
      "Please also refer to the documentation for alternative solver options:\n",
      "    https://scikit-learn.org/stable/modules/linear_model.html#logistic-regression\n",
      "  extra_warning_msg=_LOGISTIC_SOLVER_CONVERGENCE_MSG,\n"
     ]
    },
    {
     "name": "stdout",
     "output_type": "stream",
     "text": [
      "[CV 6/10] END lr__C=100, lr__max_iter=100, lr__penalty=l2, lr__solver=lbfgs, smote__sampling_strategy=0.8;, score=(train=0.933, test=0.935) total time=   0.3s\n"
     ]
    },
    {
     "name": "stderr",
     "output_type": "stream",
     "text": [
      "/opt/conda/lib/python3.7/site-packages/sklearn/linear_model/_logistic.py:818: ConvergenceWarning: lbfgs failed to converge (status=1):\n",
      "STOP: TOTAL NO. of ITERATIONS REACHED LIMIT.\n",
      "\n",
      "Increase the number of iterations (max_iter) or scale the data as shown in:\n",
      "    https://scikit-learn.org/stable/modules/preprocessing.html\n",
      "Please also refer to the documentation for alternative solver options:\n",
      "    https://scikit-learn.org/stable/modules/linear_model.html#logistic-regression\n",
      "  extra_warning_msg=_LOGISTIC_SOLVER_CONVERGENCE_MSG,\n"
     ]
    },
    {
     "name": "stdout",
     "output_type": "stream",
     "text": [
      "[CV 7/10] END lr__C=100, lr__max_iter=100, lr__penalty=l2, lr__solver=lbfgs, smote__sampling_strategy=0.8;, score=(train=0.937, test=0.932) total time=   0.3s\n"
     ]
    },
    {
     "name": "stderr",
     "output_type": "stream",
     "text": [
      "/opt/conda/lib/python3.7/site-packages/sklearn/linear_model/_logistic.py:818: ConvergenceWarning: lbfgs failed to converge (status=1):\n",
      "STOP: TOTAL NO. of ITERATIONS REACHED LIMIT.\n",
      "\n",
      "Increase the number of iterations (max_iter) or scale the data as shown in:\n",
      "    https://scikit-learn.org/stable/modules/preprocessing.html\n",
      "Please also refer to the documentation for alternative solver options:\n",
      "    https://scikit-learn.org/stable/modules/linear_model.html#logistic-regression\n",
      "  extra_warning_msg=_LOGISTIC_SOLVER_CONVERGENCE_MSG,\n"
     ]
    },
    {
     "name": "stdout",
     "output_type": "stream",
     "text": [
      "[CV 8/10] END lr__C=100, lr__max_iter=100, lr__penalty=l2, lr__solver=lbfgs, smote__sampling_strategy=0.8;, score=(train=0.935, test=0.931) total time=   0.3s\n"
     ]
    },
    {
     "name": "stderr",
     "output_type": "stream",
     "text": [
      "/opt/conda/lib/python3.7/site-packages/sklearn/linear_model/_logistic.py:818: ConvergenceWarning: lbfgs failed to converge (status=1):\n",
      "STOP: TOTAL NO. of ITERATIONS REACHED LIMIT.\n",
      "\n",
      "Increase the number of iterations (max_iter) or scale the data as shown in:\n",
      "    https://scikit-learn.org/stable/modules/preprocessing.html\n",
      "Please also refer to the documentation for alternative solver options:\n",
      "    https://scikit-learn.org/stable/modules/linear_model.html#logistic-regression\n",
      "  extra_warning_msg=_LOGISTIC_SOLVER_CONVERGENCE_MSG,\n"
     ]
    },
    {
     "name": "stdout",
     "output_type": "stream",
     "text": [
      "[CV 9/10] END lr__C=100, lr__max_iter=100, lr__penalty=l2, lr__solver=lbfgs, smote__sampling_strategy=0.8;, score=(train=0.935, test=0.930) total time=   0.3s\n"
     ]
    },
    {
     "name": "stderr",
     "output_type": "stream",
     "text": [
      "/opt/conda/lib/python3.7/site-packages/sklearn/linear_model/_logistic.py:818: ConvergenceWarning: lbfgs failed to converge (status=1):\n",
      "STOP: TOTAL NO. of ITERATIONS REACHED LIMIT.\n",
      "\n",
      "Increase the number of iterations (max_iter) or scale the data as shown in:\n",
      "    https://scikit-learn.org/stable/modules/preprocessing.html\n",
      "Please also refer to the documentation for alternative solver options:\n",
      "    https://scikit-learn.org/stable/modules/linear_model.html#logistic-regression\n",
      "  extra_warning_msg=_LOGISTIC_SOLVER_CONVERGENCE_MSG,\n"
     ]
    },
    {
     "name": "stdout",
     "output_type": "stream",
     "text": [
      "[CV 10/10] END lr__C=100, lr__max_iter=100, lr__penalty=l2, lr__solver=lbfgs, smote__sampling_strategy=0.8;, score=(train=0.935, test=0.936) total time=   0.5s\n"
     ]
    },
    {
     "name": "stderr",
     "output_type": "stream",
     "text": [
      "/opt/conda/lib/python3.7/site-packages/sklearn/linear_model/_logistic.py:818: ConvergenceWarning: lbfgs failed to converge (status=1):\n",
      "STOP: TOTAL NO. of ITERATIONS REACHED LIMIT.\n",
      "\n",
      "Increase the number of iterations (max_iter) or scale the data as shown in:\n",
      "    https://scikit-learn.org/stable/modules/preprocessing.html\n",
      "Please also refer to the documentation for alternative solver options:\n",
      "    https://scikit-learn.org/stable/modules/linear_model.html#logistic-regression\n",
      "  extra_warning_msg=_LOGISTIC_SOLVER_CONVERGENCE_MSG,\n"
     ]
    },
    {
     "name": "stdout",
     "output_type": "stream",
     "text": [
      "[CV 1/10] END lr__C=100, lr__max_iter=100, lr__penalty=l2, lr__solver=lbfgs, smote__sampling_strategy=0.9;, score=(train=0.936, test=0.931) total time=   0.3s\n"
     ]
    },
    {
     "name": "stderr",
     "output_type": "stream",
     "text": [
      "/opt/conda/lib/python3.7/site-packages/sklearn/linear_model/_logistic.py:818: ConvergenceWarning: lbfgs failed to converge (status=1):\n",
      "STOP: TOTAL NO. of ITERATIONS REACHED LIMIT.\n",
      "\n",
      "Increase the number of iterations (max_iter) or scale the data as shown in:\n",
      "    https://scikit-learn.org/stable/modules/preprocessing.html\n",
      "Please also refer to the documentation for alternative solver options:\n",
      "    https://scikit-learn.org/stable/modules/linear_model.html#logistic-regression\n",
      "  extra_warning_msg=_LOGISTIC_SOLVER_CONVERGENCE_MSG,\n"
     ]
    },
    {
     "name": "stdout",
     "output_type": "stream",
     "text": [
      "[CV 2/10] END lr__C=100, lr__max_iter=100, lr__penalty=l2, lr__solver=lbfgs, smote__sampling_strategy=0.9;, score=(train=0.936, test=0.929) total time=   0.4s\n"
     ]
    },
    {
     "name": "stderr",
     "output_type": "stream",
     "text": [
      "/opt/conda/lib/python3.7/site-packages/sklearn/linear_model/_logistic.py:818: ConvergenceWarning: lbfgs failed to converge (status=1):\n",
      "STOP: TOTAL NO. of ITERATIONS REACHED LIMIT.\n",
      "\n",
      "Increase the number of iterations (max_iter) or scale the data as shown in:\n",
      "    https://scikit-learn.org/stable/modules/preprocessing.html\n",
      "Please also refer to the documentation for alternative solver options:\n",
      "    https://scikit-learn.org/stable/modules/linear_model.html#logistic-regression\n",
      "  extra_warning_msg=_LOGISTIC_SOLVER_CONVERGENCE_MSG,\n"
     ]
    },
    {
     "name": "stdout",
     "output_type": "stream",
     "text": [
      "[CV 3/10] END lr__C=100, lr__max_iter=100, lr__penalty=l2, lr__solver=lbfgs, smote__sampling_strategy=0.9;, score=(train=0.932, test=0.939) total time=   0.3s\n"
     ]
    },
    {
     "name": "stderr",
     "output_type": "stream",
     "text": [
      "/opt/conda/lib/python3.7/site-packages/sklearn/linear_model/_logistic.py:818: ConvergenceWarning: lbfgs failed to converge (status=1):\n",
      "STOP: TOTAL NO. of ITERATIONS REACHED LIMIT.\n",
      "\n",
      "Increase the number of iterations (max_iter) or scale the data as shown in:\n",
      "    https://scikit-learn.org/stable/modules/preprocessing.html\n",
      "Please also refer to the documentation for alternative solver options:\n",
      "    https://scikit-learn.org/stable/modules/linear_model.html#logistic-regression\n",
      "  extra_warning_msg=_LOGISTIC_SOLVER_CONVERGENCE_MSG,\n"
     ]
    },
    {
     "name": "stdout",
     "output_type": "stream",
     "text": [
      "[CV 4/10] END lr__C=100, lr__max_iter=100, lr__penalty=l2, lr__solver=lbfgs, smote__sampling_strategy=0.9;, score=(train=0.936, test=0.928) total time=   0.3s\n"
     ]
    },
    {
     "name": "stderr",
     "output_type": "stream",
     "text": [
      "/opt/conda/lib/python3.7/site-packages/sklearn/linear_model/_logistic.py:818: ConvergenceWarning: lbfgs failed to converge (status=1):\n",
      "STOP: TOTAL NO. of ITERATIONS REACHED LIMIT.\n",
      "\n",
      "Increase the number of iterations (max_iter) or scale the data as shown in:\n",
      "    https://scikit-learn.org/stable/modules/preprocessing.html\n",
      "Please also refer to the documentation for alternative solver options:\n",
      "    https://scikit-learn.org/stable/modules/linear_model.html#logistic-regression\n",
      "  extra_warning_msg=_LOGISTIC_SOLVER_CONVERGENCE_MSG,\n"
     ]
    },
    {
     "name": "stdout",
     "output_type": "stream",
     "text": [
      "[CV 5/10] END lr__C=100, lr__max_iter=100, lr__penalty=l2, lr__solver=lbfgs, smote__sampling_strategy=0.9;, score=(train=0.933, test=0.929) total time=   0.3s\n"
     ]
    },
    {
     "name": "stderr",
     "output_type": "stream",
     "text": [
      "/opt/conda/lib/python3.7/site-packages/sklearn/linear_model/_logistic.py:818: ConvergenceWarning: lbfgs failed to converge (status=1):\n",
      "STOP: TOTAL NO. of ITERATIONS REACHED LIMIT.\n",
      "\n",
      "Increase the number of iterations (max_iter) or scale the data as shown in:\n",
      "    https://scikit-learn.org/stable/modules/preprocessing.html\n",
      "Please also refer to the documentation for alternative solver options:\n",
      "    https://scikit-learn.org/stable/modules/linear_model.html#logistic-regression\n",
      "  extra_warning_msg=_LOGISTIC_SOLVER_CONVERGENCE_MSG,\n"
     ]
    },
    {
     "name": "stdout",
     "output_type": "stream",
     "text": [
      "[CV 6/10] END lr__C=100, lr__max_iter=100, lr__penalty=l2, lr__solver=lbfgs, smote__sampling_strategy=0.9;, score=(train=0.932, test=0.934) total time=   0.3s\n"
     ]
    },
    {
     "name": "stderr",
     "output_type": "stream",
     "text": [
      "/opt/conda/lib/python3.7/site-packages/sklearn/linear_model/_logistic.py:818: ConvergenceWarning: lbfgs failed to converge (status=1):\n",
      "STOP: TOTAL NO. of ITERATIONS REACHED LIMIT.\n",
      "\n",
      "Increase the number of iterations (max_iter) or scale the data as shown in:\n",
      "    https://scikit-learn.org/stable/modules/preprocessing.html\n",
      "Please also refer to the documentation for alternative solver options:\n",
      "    https://scikit-learn.org/stable/modules/linear_model.html#logistic-regression\n",
      "  extra_warning_msg=_LOGISTIC_SOLVER_CONVERGENCE_MSG,\n"
     ]
    },
    {
     "name": "stdout",
     "output_type": "stream",
     "text": [
      "[CV 7/10] END lr__C=100, lr__max_iter=100, lr__penalty=l2, lr__solver=lbfgs, smote__sampling_strategy=0.9;, score=(train=0.937, test=0.931) total time=   0.3s\n"
     ]
    },
    {
     "name": "stderr",
     "output_type": "stream",
     "text": [
      "/opt/conda/lib/python3.7/site-packages/sklearn/linear_model/_logistic.py:818: ConvergenceWarning: lbfgs failed to converge (status=1):\n",
      "STOP: TOTAL NO. of ITERATIONS REACHED LIMIT.\n",
      "\n",
      "Increase the number of iterations (max_iter) or scale the data as shown in:\n",
      "    https://scikit-learn.org/stable/modules/preprocessing.html\n",
      "Please also refer to the documentation for alternative solver options:\n",
      "    https://scikit-learn.org/stable/modules/linear_model.html#logistic-regression\n",
      "  extra_warning_msg=_LOGISTIC_SOLVER_CONVERGENCE_MSG,\n"
     ]
    },
    {
     "name": "stdout",
     "output_type": "stream",
     "text": [
      "[CV 8/10] END lr__C=100, lr__max_iter=100, lr__penalty=l2, lr__solver=lbfgs, smote__sampling_strategy=0.9;, score=(train=0.934, test=0.929) total time=   0.3s\n"
     ]
    },
    {
     "name": "stderr",
     "output_type": "stream",
     "text": [
      "/opt/conda/lib/python3.7/site-packages/sklearn/linear_model/_logistic.py:818: ConvergenceWarning: lbfgs failed to converge (status=1):\n",
      "STOP: TOTAL NO. of ITERATIONS REACHED LIMIT.\n",
      "\n",
      "Increase the number of iterations (max_iter) or scale the data as shown in:\n",
      "    https://scikit-learn.org/stable/modules/preprocessing.html\n",
      "Please also refer to the documentation for alternative solver options:\n",
      "    https://scikit-learn.org/stable/modules/linear_model.html#logistic-regression\n",
      "  extra_warning_msg=_LOGISTIC_SOLVER_CONVERGENCE_MSG,\n"
     ]
    },
    {
     "name": "stdout",
     "output_type": "stream",
     "text": [
      "[CV 9/10] END lr__C=100, lr__max_iter=100, lr__penalty=l2, lr__solver=lbfgs, smote__sampling_strategy=0.9;, score=(train=0.935, test=0.928) total time=   0.3s\n"
     ]
    },
    {
     "name": "stderr",
     "output_type": "stream",
     "text": [
      "/opt/conda/lib/python3.7/site-packages/sklearn/linear_model/_logistic.py:818: ConvergenceWarning: lbfgs failed to converge (status=1):\n",
      "STOP: TOTAL NO. of ITERATIONS REACHED LIMIT.\n",
      "\n",
      "Increase the number of iterations (max_iter) or scale the data as shown in:\n",
      "    https://scikit-learn.org/stable/modules/preprocessing.html\n",
      "Please also refer to the documentation for alternative solver options:\n",
      "    https://scikit-learn.org/stable/modules/linear_model.html#logistic-regression\n",
      "  extra_warning_msg=_LOGISTIC_SOLVER_CONVERGENCE_MSG,\n"
     ]
    },
    {
     "name": "stdout",
     "output_type": "stream",
     "text": [
      "[CV 10/10] END lr__C=100, lr__max_iter=100, lr__penalty=l2, lr__solver=lbfgs, smote__sampling_strategy=0.9;, score=(train=0.934, test=0.935) total time=   0.3s\n"
     ]
    },
    {
     "name": "stderr",
     "output_type": "stream",
     "text": [
      "/opt/conda/lib/python3.7/site-packages/sklearn/linear_model/_logistic.py:818: ConvergenceWarning: lbfgs failed to converge (status=1):\n",
      "STOP: TOTAL NO. of ITERATIONS REACHED LIMIT.\n",
      "\n",
      "Increase the number of iterations (max_iter) or scale the data as shown in:\n",
      "    https://scikit-learn.org/stable/modules/preprocessing.html\n",
      "Please also refer to the documentation for alternative solver options:\n",
      "    https://scikit-learn.org/stable/modules/linear_model.html#logistic-regression\n",
      "  extra_warning_msg=_LOGISTIC_SOLVER_CONVERGENCE_MSG,\n"
     ]
    },
    {
     "name": "stdout",
     "output_type": "stream",
     "text": [
      "[CV 1/10] END lr__C=100, lr__max_iter=100, lr__penalty=l2, lr__solver=lbfgs, smote__sampling_strategy=1.0;, score=(train=0.935, test=0.930) total time=   0.3s\n"
     ]
    },
    {
     "name": "stderr",
     "output_type": "stream",
     "text": [
      "/opt/conda/lib/python3.7/site-packages/sklearn/linear_model/_logistic.py:818: ConvergenceWarning: lbfgs failed to converge (status=1):\n",
      "STOP: TOTAL NO. of ITERATIONS REACHED LIMIT.\n",
      "\n",
      "Increase the number of iterations (max_iter) or scale the data as shown in:\n",
      "    https://scikit-learn.org/stable/modules/preprocessing.html\n",
      "Please also refer to the documentation for alternative solver options:\n",
      "    https://scikit-learn.org/stable/modules/linear_model.html#logistic-regression\n",
      "  extra_warning_msg=_LOGISTIC_SOLVER_CONVERGENCE_MSG,\n"
     ]
    },
    {
     "name": "stdout",
     "output_type": "stream",
     "text": [
      "[CV 2/10] END lr__C=100, lr__max_iter=100, lr__penalty=l2, lr__solver=lbfgs, smote__sampling_strategy=1.0;, score=(train=0.934, test=0.928) total time=   0.3s\n"
     ]
    },
    {
     "name": "stderr",
     "output_type": "stream",
     "text": [
      "/opt/conda/lib/python3.7/site-packages/sklearn/linear_model/_logistic.py:818: ConvergenceWarning: lbfgs failed to converge (status=1):\n",
      "STOP: TOTAL NO. of ITERATIONS REACHED LIMIT.\n",
      "\n",
      "Increase the number of iterations (max_iter) or scale the data as shown in:\n",
      "    https://scikit-learn.org/stable/modules/preprocessing.html\n",
      "Please also refer to the documentation for alternative solver options:\n",
      "    https://scikit-learn.org/stable/modules/linear_model.html#logistic-regression\n",
      "  extra_warning_msg=_LOGISTIC_SOLVER_CONVERGENCE_MSG,\n"
     ]
    },
    {
     "name": "stdout",
     "output_type": "stream",
     "text": [
      "[CV 3/10] END lr__C=100, lr__max_iter=100, lr__penalty=l2, lr__solver=lbfgs, smote__sampling_strategy=1.0;, score=(train=0.931, test=0.937) total time=   0.3s\n"
     ]
    },
    {
     "name": "stderr",
     "output_type": "stream",
     "text": [
      "/opt/conda/lib/python3.7/site-packages/sklearn/linear_model/_logistic.py:818: ConvergenceWarning: lbfgs failed to converge (status=1):\n",
      "STOP: TOTAL NO. of ITERATIONS REACHED LIMIT.\n",
      "\n",
      "Increase the number of iterations (max_iter) or scale the data as shown in:\n",
      "    https://scikit-learn.org/stable/modules/preprocessing.html\n",
      "Please also refer to the documentation for alternative solver options:\n",
      "    https://scikit-learn.org/stable/modules/linear_model.html#logistic-regression\n",
      "  extra_warning_msg=_LOGISTIC_SOLVER_CONVERGENCE_MSG,\n"
     ]
    },
    {
     "name": "stdout",
     "output_type": "stream",
     "text": [
      "[CV 4/10] END lr__C=100, lr__max_iter=100, lr__penalty=l2, lr__solver=lbfgs, smote__sampling_strategy=1.0;, score=(train=0.935, test=0.927) total time=   0.3s\n"
     ]
    },
    {
     "name": "stderr",
     "output_type": "stream",
     "text": [
      "/opt/conda/lib/python3.7/site-packages/sklearn/linear_model/_logistic.py:818: ConvergenceWarning: lbfgs failed to converge (status=1):\n",
      "STOP: TOTAL NO. of ITERATIONS REACHED LIMIT.\n",
      "\n",
      "Increase the number of iterations (max_iter) or scale the data as shown in:\n",
      "    https://scikit-learn.org/stable/modules/preprocessing.html\n",
      "Please also refer to the documentation for alternative solver options:\n",
      "    https://scikit-learn.org/stable/modules/linear_model.html#logistic-regression\n",
      "  extra_warning_msg=_LOGISTIC_SOLVER_CONVERGENCE_MSG,\n"
     ]
    },
    {
     "name": "stdout",
     "output_type": "stream",
     "text": [
      "[CV 5/10] END lr__C=100, lr__max_iter=100, lr__penalty=l2, lr__solver=lbfgs, smote__sampling_strategy=1.0;, score=(train=0.932, test=0.929) total time=   0.4s\n"
     ]
    },
    {
     "name": "stderr",
     "output_type": "stream",
     "text": [
      "/opt/conda/lib/python3.7/site-packages/sklearn/linear_model/_logistic.py:818: ConvergenceWarning: lbfgs failed to converge (status=1):\n",
      "STOP: TOTAL NO. of ITERATIONS REACHED LIMIT.\n",
      "\n",
      "Increase the number of iterations (max_iter) or scale the data as shown in:\n",
      "    https://scikit-learn.org/stable/modules/preprocessing.html\n",
      "Please also refer to the documentation for alternative solver options:\n",
      "    https://scikit-learn.org/stable/modules/linear_model.html#logistic-regression\n",
      "  extra_warning_msg=_LOGISTIC_SOLVER_CONVERGENCE_MSG,\n"
     ]
    },
    {
     "name": "stdout",
     "output_type": "stream",
     "text": [
      "[CV 6/10] END lr__C=100, lr__max_iter=100, lr__penalty=l2, lr__solver=lbfgs, smote__sampling_strategy=1.0;, score=(train=0.932, test=0.934) total time=   0.3s\n"
     ]
    },
    {
     "name": "stderr",
     "output_type": "stream",
     "text": [
      "/opt/conda/lib/python3.7/site-packages/sklearn/linear_model/_logistic.py:818: ConvergenceWarning: lbfgs failed to converge (status=1):\n",
      "STOP: TOTAL NO. of ITERATIONS REACHED LIMIT.\n",
      "\n",
      "Increase the number of iterations (max_iter) or scale the data as shown in:\n",
      "    https://scikit-learn.org/stable/modules/preprocessing.html\n",
      "Please also refer to the documentation for alternative solver options:\n",
      "    https://scikit-learn.org/stable/modules/linear_model.html#logistic-regression\n",
      "  extra_warning_msg=_LOGISTIC_SOLVER_CONVERGENCE_MSG,\n"
     ]
    },
    {
     "name": "stdout",
     "output_type": "stream",
     "text": [
      "[CV 7/10] END lr__C=100, lr__max_iter=100, lr__penalty=l2, lr__solver=lbfgs, smote__sampling_strategy=1.0;, score=(train=0.937, test=0.929) total time=   0.3s\n"
     ]
    },
    {
     "name": "stderr",
     "output_type": "stream",
     "text": [
      "/opt/conda/lib/python3.7/site-packages/sklearn/linear_model/_logistic.py:818: ConvergenceWarning: lbfgs failed to converge (status=1):\n",
      "STOP: TOTAL NO. of ITERATIONS REACHED LIMIT.\n",
      "\n",
      "Increase the number of iterations (max_iter) or scale the data as shown in:\n",
      "    https://scikit-learn.org/stable/modules/preprocessing.html\n",
      "Please also refer to the documentation for alternative solver options:\n",
      "    https://scikit-learn.org/stable/modules/linear_model.html#logistic-regression\n",
      "  extra_warning_msg=_LOGISTIC_SOLVER_CONVERGENCE_MSG,\n"
     ]
    },
    {
     "name": "stdout",
     "output_type": "stream",
     "text": [
      "[CV 8/10] END lr__C=100, lr__max_iter=100, lr__penalty=l2, lr__solver=lbfgs, smote__sampling_strategy=1.0;, score=(train=0.934, test=0.929) total time=   0.3s\n"
     ]
    },
    {
     "name": "stderr",
     "output_type": "stream",
     "text": [
      "/opt/conda/lib/python3.7/site-packages/sklearn/linear_model/_logistic.py:818: ConvergenceWarning: lbfgs failed to converge (status=1):\n",
      "STOP: TOTAL NO. of ITERATIONS REACHED LIMIT.\n",
      "\n",
      "Increase the number of iterations (max_iter) or scale the data as shown in:\n",
      "    https://scikit-learn.org/stable/modules/preprocessing.html\n",
      "Please also refer to the documentation for alternative solver options:\n",
      "    https://scikit-learn.org/stable/modules/linear_model.html#logistic-regression\n",
      "  extra_warning_msg=_LOGISTIC_SOLVER_CONVERGENCE_MSG,\n"
     ]
    },
    {
     "name": "stdout",
     "output_type": "stream",
     "text": [
      "[CV 9/10] END lr__C=100, lr__max_iter=100, lr__penalty=l2, lr__solver=lbfgs, smote__sampling_strategy=1.0;, score=(train=0.933, test=0.926) total time=   0.3s\n"
     ]
    },
    {
     "name": "stderr",
     "output_type": "stream",
     "text": [
      "/opt/conda/lib/python3.7/site-packages/sklearn/linear_model/_logistic.py:818: ConvergenceWarning: lbfgs failed to converge (status=1):\n",
      "STOP: TOTAL NO. of ITERATIONS REACHED LIMIT.\n",
      "\n",
      "Increase the number of iterations (max_iter) or scale the data as shown in:\n",
      "    https://scikit-learn.org/stable/modules/preprocessing.html\n",
      "Please also refer to the documentation for alternative solver options:\n",
      "    https://scikit-learn.org/stable/modules/linear_model.html#logistic-regression\n",
      "  extra_warning_msg=_LOGISTIC_SOLVER_CONVERGENCE_MSG,\n"
     ]
    },
    {
     "name": "stdout",
     "output_type": "stream",
     "text": [
      "[CV 10/10] END lr__C=100, lr__max_iter=100, lr__penalty=l2, lr__solver=lbfgs, smote__sampling_strategy=1.0;, score=(train=0.935, test=0.936) total time=   0.3s\n",
      "[CV 1/10] END lr__C=100, lr__max_iter=100, lr__penalty=l2, lr__solver=liblinear, smote__sampling_strategy=0.8;, score=(train=0.936, test=0.928) total time=   0.6s\n",
      "[CV 2/10] END lr__C=100, lr__max_iter=100, lr__penalty=l2, lr__solver=liblinear, smote__sampling_strategy=0.8;, score=(train=0.937, test=0.928) total time=   0.5s\n",
      "[CV 3/10] END lr__C=100, lr__max_iter=100, lr__penalty=l2, lr__solver=liblinear, smote__sampling_strategy=0.8;, score=(train=0.934, test=0.937) total time=   0.4s\n",
      "[CV 4/10] END lr__C=100, lr__max_iter=100, lr__penalty=l2, lr__solver=liblinear, smote__sampling_strategy=0.8;, score=(train=0.937, test=0.929) total time=   0.4s\n",
      "[CV 5/10] END lr__C=100, lr__max_iter=100, lr__penalty=l2, lr__solver=liblinear, smote__sampling_strategy=0.8;, score=(train=0.934, test=0.931) total time=   0.4s\n",
      "[CV 6/10] END lr__C=100, lr__max_iter=100, lr__penalty=l2, lr__solver=liblinear, smote__sampling_strategy=0.8;, score=(train=0.934, test=0.936) total time=   0.5s\n",
      "[CV 7/10] END lr__C=100, lr__max_iter=100, lr__penalty=l2, lr__solver=liblinear, smote__sampling_strategy=0.8;, score=(train=0.937, test=0.931) total time=   0.6s\n",
      "[CV 8/10] END lr__C=100, lr__max_iter=100, lr__penalty=l2, lr__solver=liblinear, smote__sampling_strategy=0.8;, score=(train=0.935, test=0.932) total time=   0.5s\n",
      "[CV 9/10] END lr__C=100, lr__max_iter=100, lr__penalty=l2, lr__solver=liblinear, smote__sampling_strategy=0.8;, score=(train=0.936, test=0.930) total time=   0.5s\n",
      "[CV 10/10] END lr__C=100, lr__max_iter=100, lr__penalty=l2, lr__solver=liblinear, smote__sampling_strategy=0.8;, score=(train=0.935, test=0.936) total time=   0.5s\n",
      "[CV 1/10] END lr__C=100, lr__max_iter=100, lr__penalty=l2, lr__solver=liblinear, smote__sampling_strategy=0.9;, score=(train=0.936, test=0.930) total time=   0.6s\n",
      "[CV 2/10] END lr__C=100, lr__max_iter=100, lr__penalty=l2, lr__solver=liblinear, smote__sampling_strategy=0.9;, score=(train=0.936, test=0.928) total time=   0.7s\n",
      "[CV 3/10] END lr__C=100, lr__max_iter=100, lr__penalty=l2, lr__solver=liblinear, smote__sampling_strategy=0.9;, score=(train=0.932, test=0.939) total time=   0.5s\n",
      "[CV 4/10] END lr__C=100, lr__max_iter=100, lr__penalty=l2, lr__solver=liblinear, smote__sampling_strategy=0.9;, score=(train=0.936, test=0.928) total time=   0.5s\n",
      "[CV 5/10] END lr__C=100, lr__max_iter=100, lr__penalty=l2, lr__solver=liblinear, smote__sampling_strategy=0.9;, score=(train=0.933, test=0.928) total time=   0.6s\n",
      "[CV 6/10] END lr__C=100, lr__max_iter=100, lr__penalty=l2, lr__solver=liblinear, smote__sampling_strategy=0.9;, score=(train=0.933, test=0.936) total time=   0.6s\n",
      "[CV 7/10] END lr__C=100, lr__max_iter=100, lr__penalty=l2, lr__solver=liblinear, smote__sampling_strategy=0.9;, score=(train=0.938, test=0.933) total time=   0.7s\n",
      "[CV 8/10] END lr__C=100, lr__max_iter=100, lr__penalty=l2, lr__solver=liblinear, smote__sampling_strategy=0.9;, score=(train=0.934, test=0.929) total time=   0.7s\n",
      "[CV 9/10] END lr__C=100, lr__max_iter=100, lr__penalty=l2, lr__solver=liblinear, smote__sampling_strategy=0.9;, score=(train=0.935, test=0.929) total time=   0.5s\n",
      "[CV 10/10] END lr__C=100, lr__max_iter=100, lr__penalty=l2, lr__solver=liblinear, smote__sampling_strategy=0.9;, score=(train=0.935, test=0.936) total time=   0.6s\n",
      "[CV 1/10] END lr__C=100, lr__max_iter=100, lr__penalty=l2, lr__solver=liblinear, smote__sampling_strategy=1.0;, score=(train=0.935, test=0.930) total time=   0.7s\n",
      "[CV 2/10] END lr__C=100, lr__max_iter=100, lr__penalty=l2, lr__solver=liblinear, smote__sampling_strategy=1.0;, score=(train=0.935, test=0.927) total time=   0.7s\n",
      "[CV 3/10] END lr__C=100, lr__max_iter=100, lr__penalty=l2, lr__solver=liblinear, smote__sampling_strategy=1.0;, score=(train=0.931, test=0.938) total time=   0.5s\n",
      "[CV 4/10] END lr__C=100, lr__max_iter=100, lr__penalty=l2, lr__solver=liblinear, smote__sampling_strategy=1.0;, score=(train=0.935, test=0.928) total time=   0.5s\n",
      "[CV 5/10] END lr__C=100, lr__max_iter=100, lr__penalty=l2, lr__solver=liblinear, smote__sampling_strategy=1.0;, score=(train=0.932, test=0.929) total time=   0.6s\n",
      "[CV 6/10] END lr__C=100, lr__max_iter=100, lr__penalty=l2, lr__solver=liblinear, smote__sampling_strategy=1.0;, score=(train=0.932, test=0.934) total time=   0.6s\n",
      "[CV 7/10] END lr__C=100, lr__max_iter=100, lr__penalty=l2, lr__solver=liblinear, smote__sampling_strategy=1.0;, score=(train=0.938, test=0.930) total time=   0.7s\n",
      "[CV 8/10] END lr__C=100, lr__max_iter=100, lr__penalty=l2, lr__solver=liblinear, smote__sampling_strategy=1.0;, score=(train=0.934, test=0.929) total time=   0.7s\n",
      "[CV 9/10] END lr__C=100, lr__max_iter=100, lr__penalty=l2, lr__solver=liblinear, smote__sampling_strategy=1.0;, score=(train=0.933, test=0.925) total time=   0.7s\n",
      "[CV 10/10] END lr__C=100, lr__max_iter=100, lr__penalty=l2, lr__solver=liblinear, smote__sampling_strategy=1.0;, score=(train=0.936, test=0.936) total time=   0.5s\n"
     ]
    },
    {
     "name": "stderr",
     "output_type": "stream",
     "text": [
      "/opt/conda/lib/python3.7/site-packages/sklearn/linear_model/_sag.py:354: ConvergenceWarning: The max_iter was reached which means the coef_ did not converge\n",
      "  ConvergenceWarning,\n"
     ]
    },
    {
     "name": "stdout",
     "output_type": "stream",
     "text": [
      "[CV 1/10] END lr__C=100, lr__max_iter=100, lr__penalty=l2, lr__solver=sag, smote__sampling_strategy=0.8;, score=(train=0.936, test=0.928) total time=   2.3s\n"
     ]
    },
    {
     "name": "stderr",
     "output_type": "stream",
     "text": [
      "/opt/conda/lib/python3.7/site-packages/sklearn/linear_model/_sag.py:354: ConvergenceWarning: The max_iter was reached which means the coef_ did not converge\n",
      "  ConvergenceWarning,\n"
     ]
    },
    {
     "name": "stdout",
     "output_type": "stream",
     "text": [
      "[CV 2/10] END lr__C=100, lr__max_iter=100, lr__penalty=l2, lr__solver=sag, smote__sampling_strategy=0.8;, score=(train=0.937, test=0.928) total time=   2.3s\n",
      "[CV 3/10] END lr__C=100, lr__max_iter=100, lr__penalty=l2, lr__solver=sag, smote__sampling_strategy=0.8;, score=(train=0.934, test=0.937) total time=   1.8s\n",
      "[CV 4/10] END lr__C=100, lr__max_iter=100, lr__penalty=l2, lr__solver=sag, smote__sampling_strategy=0.8;, score=(train=0.937, test=0.929) total time=   1.8s\n"
     ]
    },
    {
     "name": "stderr",
     "output_type": "stream",
     "text": [
      "/opt/conda/lib/python3.7/site-packages/sklearn/linear_model/_sag.py:354: ConvergenceWarning: The max_iter was reached which means the coef_ did not converge\n",
      "  ConvergenceWarning,\n"
     ]
    },
    {
     "name": "stdout",
     "output_type": "stream",
     "text": [
      "[CV 5/10] END lr__C=100, lr__max_iter=100, lr__penalty=l2, lr__solver=sag, smote__sampling_strategy=0.8;, score=(train=0.934, test=0.931) total time=   2.4s\n",
      "[CV 6/10] END lr__C=100, lr__max_iter=100, lr__penalty=l2, lr__solver=sag, smote__sampling_strategy=0.8;, score=(train=0.933, test=0.936) total time=   1.9s\n"
     ]
    },
    {
     "name": "stderr",
     "output_type": "stream",
     "text": [
      "/opt/conda/lib/python3.7/site-packages/sklearn/linear_model/_sag.py:354: ConvergenceWarning: The max_iter was reached which means the coef_ did not converge\n",
      "  ConvergenceWarning,\n"
     ]
    },
    {
     "name": "stdout",
     "output_type": "stream",
     "text": [
      "[CV 7/10] END lr__C=100, lr__max_iter=100, lr__penalty=l2, lr__solver=sag, smote__sampling_strategy=0.8;, score=(train=0.937, test=0.931) total time=   2.4s\n"
     ]
    },
    {
     "name": "stderr",
     "output_type": "stream",
     "text": [
      "/opt/conda/lib/python3.7/site-packages/sklearn/linear_model/_sag.py:354: ConvergenceWarning: The max_iter was reached which means the coef_ did not converge\n",
      "  ConvergenceWarning,\n"
     ]
    },
    {
     "name": "stdout",
     "output_type": "stream",
     "text": [
      "[CV 8/10] END lr__C=100, lr__max_iter=100, lr__penalty=l2, lr__solver=sag, smote__sampling_strategy=0.8;, score=(train=0.935, test=0.932) total time=   2.4s\n"
     ]
    },
    {
     "name": "stderr",
     "output_type": "stream",
     "text": [
      "/opt/conda/lib/python3.7/site-packages/sklearn/linear_model/_sag.py:354: ConvergenceWarning: The max_iter was reached which means the coef_ did not converge\n",
      "  ConvergenceWarning,\n"
     ]
    },
    {
     "name": "stdout",
     "output_type": "stream",
     "text": [
      "[CV 9/10] END lr__C=100, lr__max_iter=100, lr__penalty=l2, lr__solver=sag, smote__sampling_strategy=0.8;, score=(train=0.936, test=0.930) total time=   2.4s\n",
      "[CV 10/10] END lr__C=100, lr__max_iter=100, lr__penalty=l2, lr__solver=sag, smote__sampling_strategy=0.8;, score=(train=0.935, test=0.936) total time=   2.3s\n"
     ]
    },
    {
     "name": "stderr",
     "output_type": "stream",
     "text": [
      "/opt/conda/lib/python3.7/site-packages/sklearn/linear_model/_sag.py:354: ConvergenceWarning: The max_iter was reached which means the coef_ did not converge\n",
      "  ConvergenceWarning,\n"
     ]
    },
    {
     "name": "stdout",
     "output_type": "stream",
     "text": [
      "[CV 1/10] END lr__C=100, lr__max_iter=100, lr__penalty=l2, lr__solver=sag, smote__sampling_strategy=0.9;, score=(train=0.936, test=0.930) total time=   2.5s\n"
     ]
    },
    {
     "name": "stderr",
     "output_type": "stream",
     "text": [
      "/opt/conda/lib/python3.7/site-packages/sklearn/linear_model/_sag.py:354: ConvergenceWarning: The max_iter was reached which means the coef_ did not converge\n",
      "  ConvergenceWarning,\n"
     ]
    },
    {
     "name": "stdout",
     "output_type": "stream",
     "text": [
      "[CV 2/10] END lr__C=100, lr__max_iter=100, lr__penalty=l2, lr__solver=sag, smote__sampling_strategy=0.9;, score=(train=0.936, test=0.928) total time=   2.5s\n",
      "[CV 3/10] END lr__C=100, lr__max_iter=100, lr__penalty=l2, lr__solver=sag, smote__sampling_strategy=0.9;, score=(train=0.932, test=0.939) total time=   1.9s\n",
      "[CV 4/10] END lr__C=100, lr__max_iter=100, lr__penalty=l2, lr__solver=sag, smote__sampling_strategy=0.9;, score=(train=0.936, test=0.927) total time=   1.7s\n"
     ]
    },
    {
     "name": "stderr",
     "output_type": "stream",
     "text": [
      "/opt/conda/lib/python3.7/site-packages/sklearn/linear_model/_sag.py:354: ConvergenceWarning: The max_iter was reached which means the coef_ did not converge\n",
      "  ConvergenceWarning,\n"
     ]
    },
    {
     "name": "stdout",
     "output_type": "stream",
     "text": [
      "[CV 5/10] END lr__C=100, lr__max_iter=100, lr__penalty=l2, lr__solver=sag, smote__sampling_strategy=0.9;, score=(train=0.933, test=0.928) total time=   2.5s\n",
      "[CV 6/10] END lr__C=100, lr__max_iter=100, lr__penalty=l2, lr__solver=sag, smote__sampling_strategy=0.9;, score=(train=0.933, test=0.936) total time=   1.7s\n"
     ]
    },
    {
     "name": "stderr",
     "output_type": "stream",
     "text": [
      "/opt/conda/lib/python3.7/site-packages/sklearn/linear_model/_sag.py:354: ConvergenceWarning: The max_iter was reached which means the coef_ did not converge\n",
      "  ConvergenceWarning,\n"
     ]
    },
    {
     "name": "stdout",
     "output_type": "stream",
     "text": [
      "[CV 7/10] END lr__C=100, lr__max_iter=100, lr__penalty=l2, lr__solver=sag, smote__sampling_strategy=0.9;, score=(train=0.938, test=0.933) total time=   2.6s\n"
     ]
    },
    {
     "name": "stderr",
     "output_type": "stream",
     "text": [
      "/opt/conda/lib/python3.7/site-packages/sklearn/linear_model/_sag.py:354: ConvergenceWarning: The max_iter was reached which means the coef_ did not converge\n",
      "  ConvergenceWarning,\n"
     ]
    },
    {
     "name": "stdout",
     "output_type": "stream",
     "text": [
      "[CV 8/10] END lr__C=100, lr__max_iter=100, lr__penalty=l2, lr__solver=sag, smote__sampling_strategy=0.9;, score=(train=0.934, test=0.929) total time=   2.6s\n"
     ]
    },
    {
     "name": "stderr",
     "output_type": "stream",
     "text": [
      "/opt/conda/lib/python3.7/site-packages/sklearn/linear_model/_sag.py:354: ConvergenceWarning: The max_iter was reached which means the coef_ did not converge\n",
      "  ConvergenceWarning,\n"
     ]
    },
    {
     "name": "stdout",
     "output_type": "stream",
     "text": [
      "[CV 9/10] END lr__C=100, lr__max_iter=100, lr__penalty=l2, lr__solver=sag, smote__sampling_strategy=0.9;, score=(train=0.935, test=0.929) total time=   2.5s\n",
      "[CV 10/10] END lr__C=100, lr__max_iter=100, lr__penalty=l2, lr__solver=sag, smote__sampling_strategy=0.9;, score=(train=0.934, test=0.936) total time=   2.1s\n"
     ]
    },
    {
     "name": "stderr",
     "output_type": "stream",
     "text": [
      "/opt/conda/lib/python3.7/site-packages/sklearn/linear_model/_sag.py:354: ConvergenceWarning: The max_iter was reached which means the coef_ did not converge\n",
      "  ConvergenceWarning,\n"
     ]
    },
    {
     "name": "stdout",
     "output_type": "stream",
     "text": [
      "[CV 1/10] END lr__C=100, lr__max_iter=100, lr__penalty=l2, lr__solver=sag, smote__sampling_strategy=1.0;, score=(train=0.935, test=0.930) total time=   2.7s\n"
     ]
    },
    {
     "name": "stderr",
     "output_type": "stream",
     "text": [
      "/opt/conda/lib/python3.7/site-packages/sklearn/linear_model/_sag.py:354: ConvergenceWarning: The max_iter was reached which means the coef_ did not converge\n",
      "  ConvergenceWarning,\n"
     ]
    },
    {
     "name": "stdout",
     "output_type": "stream",
     "text": [
      "[CV 2/10] END lr__C=100, lr__max_iter=100, lr__penalty=l2, lr__solver=sag, smote__sampling_strategy=1.0;, score=(train=0.935, test=0.927) total time=   2.7s\n",
      "[CV 3/10] END lr__C=100, lr__max_iter=100, lr__penalty=l2, lr__solver=sag, smote__sampling_strategy=1.0;, score=(train=0.931, test=0.938) total time=   1.9s\n",
      "[CV 4/10] END lr__C=100, lr__max_iter=100, lr__penalty=l2, lr__solver=sag, smote__sampling_strategy=1.0;, score=(train=0.935, test=0.928) total time=   1.5s\n"
     ]
    },
    {
     "name": "stderr",
     "output_type": "stream",
     "text": [
      "/opt/conda/lib/python3.7/site-packages/sklearn/linear_model/_sag.py:354: ConvergenceWarning: The max_iter was reached which means the coef_ did not converge\n",
      "  ConvergenceWarning,\n"
     ]
    },
    {
     "name": "stdout",
     "output_type": "stream",
     "text": [
      "[CV 5/10] END lr__C=100, lr__max_iter=100, lr__penalty=l2, lr__solver=sag, smote__sampling_strategy=1.0;, score=(train=0.932, test=0.929) total time=   2.7s\n",
      "[CV 6/10] END lr__C=100, lr__max_iter=100, lr__penalty=l2, lr__solver=sag, smote__sampling_strategy=1.0;, score=(train=0.932, test=0.934) total time=   2.0s\n"
     ]
    },
    {
     "name": "stderr",
     "output_type": "stream",
     "text": [
      "/opt/conda/lib/python3.7/site-packages/sklearn/linear_model/_sag.py:354: ConvergenceWarning: The max_iter was reached which means the coef_ did not converge\n",
      "  ConvergenceWarning,\n"
     ]
    },
    {
     "name": "stdout",
     "output_type": "stream",
     "text": [
      "[CV 7/10] END lr__C=100, lr__max_iter=100, lr__penalty=l2, lr__solver=sag, smote__sampling_strategy=1.0;, score=(train=0.938, test=0.930) total time=   2.7s\n"
     ]
    },
    {
     "name": "stderr",
     "output_type": "stream",
     "text": [
      "/opt/conda/lib/python3.7/site-packages/sklearn/linear_model/_sag.py:354: ConvergenceWarning: The max_iter was reached which means the coef_ did not converge\n",
      "  ConvergenceWarning,\n"
     ]
    },
    {
     "name": "stdout",
     "output_type": "stream",
     "text": [
      "[CV 8/10] END lr__C=100, lr__max_iter=100, lr__penalty=l2, lr__solver=sag, smote__sampling_strategy=1.0;, score=(train=0.934, test=0.929) total time=   2.6s\n"
     ]
    },
    {
     "name": "stderr",
     "output_type": "stream",
     "text": [
      "/opt/conda/lib/python3.7/site-packages/sklearn/linear_model/_sag.py:354: ConvergenceWarning: The max_iter was reached which means the coef_ did not converge\n",
      "  ConvergenceWarning,\n"
     ]
    },
    {
     "name": "stdout",
     "output_type": "stream",
     "text": [
      "[CV 9/10] END lr__C=100, lr__max_iter=100, lr__penalty=l2, lr__solver=sag, smote__sampling_strategy=1.0;, score=(train=0.933, test=0.926) total time=   2.5s\n",
      "[CV 10/10] END lr__C=100, lr__max_iter=100, lr__penalty=l2, lr__solver=sag, smote__sampling_strategy=1.0;, score=(train=0.936, test=0.936) total time=   2.1s\n"
     ]
    },
    {
     "name": "stderr",
     "output_type": "stream",
     "text": [
      "/opt/conda/lib/python3.7/site-packages/sklearn/linear_model/_sag.py:354: ConvergenceWarning: The max_iter was reached which means the coef_ did not converge\n",
      "  ConvergenceWarning,\n"
     ]
    },
    {
     "name": "stdout",
     "output_type": "stream",
     "text": [
      "[CV 1/10] END lr__C=100, lr__max_iter=100, lr__penalty=l2, lr__solver=saga, smote__sampling_strategy=0.8;, score=(train=0.936, test=0.928) total time=   2.3s\n"
     ]
    },
    {
     "name": "stderr",
     "output_type": "stream",
     "text": [
      "/opt/conda/lib/python3.7/site-packages/sklearn/linear_model/_sag.py:354: ConvergenceWarning: The max_iter was reached which means the coef_ did not converge\n",
      "  ConvergenceWarning,\n"
     ]
    },
    {
     "name": "stdout",
     "output_type": "stream",
     "text": [
      "[CV 2/10] END lr__C=100, lr__max_iter=100, lr__penalty=l2, lr__solver=saga, smote__sampling_strategy=0.8;, score=(train=0.937, test=0.929) total time=   2.3s\n"
     ]
    },
    {
     "name": "stderr",
     "output_type": "stream",
     "text": [
      "/opt/conda/lib/python3.7/site-packages/sklearn/linear_model/_sag.py:354: ConvergenceWarning: The max_iter was reached which means the coef_ did not converge\n",
      "  ConvergenceWarning,\n"
     ]
    },
    {
     "name": "stdout",
     "output_type": "stream",
     "text": [
      "[CV 3/10] END lr__C=100, lr__max_iter=100, lr__penalty=l2, lr__solver=saga, smote__sampling_strategy=0.8;, score=(train=0.934, test=0.937) total time=   2.3s\n"
     ]
    },
    {
     "name": "stderr",
     "output_type": "stream",
     "text": [
      "/opt/conda/lib/python3.7/site-packages/sklearn/linear_model/_sag.py:354: ConvergenceWarning: The max_iter was reached which means the coef_ did not converge\n",
      "  ConvergenceWarning,\n"
     ]
    },
    {
     "name": "stdout",
     "output_type": "stream",
     "text": [
      "[CV 4/10] END lr__C=100, lr__max_iter=100, lr__penalty=l2, lr__solver=saga, smote__sampling_strategy=0.8;, score=(train=0.937, test=0.929) total time=   2.3s\n"
     ]
    },
    {
     "name": "stderr",
     "output_type": "stream",
     "text": [
      "/opt/conda/lib/python3.7/site-packages/sklearn/linear_model/_sag.py:354: ConvergenceWarning: The max_iter was reached which means the coef_ did not converge\n",
      "  ConvergenceWarning,\n"
     ]
    },
    {
     "name": "stdout",
     "output_type": "stream",
     "text": [
      "[CV 5/10] END lr__C=100, lr__max_iter=100, lr__penalty=l2, lr__solver=saga, smote__sampling_strategy=0.8;, score=(train=0.934, test=0.931) total time=   2.3s\n"
     ]
    },
    {
     "name": "stderr",
     "output_type": "stream",
     "text": [
      "/opt/conda/lib/python3.7/site-packages/sklearn/linear_model/_sag.py:354: ConvergenceWarning: The max_iter was reached which means the coef_ did not converge\n",
      "  ConvergenceWarning,\n"
     ]
    },
    {
     "name": "stdout",
     "output_type": "stream",
     "text": [
      "[CV 6/10] END lr__C=100, lr__max_iter=100, lr__penalty=l2, lr__solver=saga, smote__sampling_strategy=0.8;, score=(train=0.933, test=0.936) total time=   2.3s\n"
     ]
    },
    {
     "name": "stderr",
     "output_type": "stream",
     "text": [
      "/opt/conda/lib/python3.7/site-packages/sklearn/linear_model/_sag.py:354: ConvergenceWarning: The max_iter was reached which means the coef_ did not converge\n",
      "  ConvergenceWarning,\n"
     ]
    },
    {
     "name": "stdout",
     "output_type": "stream",
     "text": [
      "[CV 7/10] END lr__C=100, lr__max_iter=100, lr__penalty=l2, lr__solver=saga, smote__sampling_strategy=0.8;, score=(train=0.937, test=0.931) total time=   2.3s\n"
     ]
    },
    {
     "name": "stderr",
     "output_type": "stream",
     "text": [
      "/opt/conda/lib/python3.7/site-packages/sklearn/linear_model/_sag.py:354: ConvergenceWarning: The max_iter was reached which means the coef_ did not converge\n",
      "  ConvergenceWarning,\n"
     ]
    },
    {
     "name": "stdout",
     "output_type": "stream",
     "text": [
      "[CV 8/10] END lr__C=100, lr__max_iter=100, lr__penalty=l2, lr__solver=saga, smote__sampling_strategy=0.8;, score=(train=0.935, test=0.932) total time=   2.3s\n"
     ]
    },
    {
     "name": "stderr",
     "output_type": "stream",
     "text": [
      "/opt/conda/lib/python3.7/site-packages/sklearn/linear_model/_sag.py:354: ConvergenceWarning: The max_iter was reached which means the coef_ did not converge\n",
      "  ConvergenceWarning,\n"
     ]
    },
    {
     "name": "stdout",
     "output_type": "stream",
     "text": [
      "[CV 9/10] END lr__C=100, lr__max_iter=100, lr__penalty=l2, lr__solver=saga, smote__sampling_strategy=0.8;, score=(train=0.936, test=0.930) total time=   2.3s\n"
     ]
    },
    {
     "name": "stderr",
     "output_type": "stream",
     "text": [
      "/opt/conda/lib/python3.7/site-packages/sklearn/linear_model/_sag.py:354: ConvergenceWarning: The max_iter was reached which means the coef_ did not converge\n",
      "  ConvergenceWarning,\n"
     ]
    },
    {
     "name": "stdout",
     "output_type": "stream",
     "text": [
      "[CV 10/10] END lr__C=100, lr__max_iter=100, lr__penalty=l2, lr__solver=saga, smote__sampling_strategy=0.8;, score=(train=0.935, test=0.936) total time=   2.3s\n"
     ]
    },
    {
     "name": "stderr",
     "output_type": "stream",
     "text": [
      "/opt/conda/lib/python3.7/site-packages/sklearn/linear_model/_sag.py:354: ConvergenceWarning: The max_iter was reached which means the coef_ did not converge\n",
      "  ConvergenceWarning,\n"
     ]
    },
    {
     "name": "stdout",
     "output_type": "stream",
     "text": [
      "[CV 1/10] END lr__C=100, lr__max_iter=100, lr__penalty=l2, lr__solver=saga, smote__sampling_strategy=0.9;, score=(train=0.937, test=0.930) total time=   2.4s\n"
     ]
    },
    {
     "name": "stderr",
     "output_type": "stream",
     "text": [
      "/opt/conda/lib/python3.7/site-packages/sklearn/linear_model/_sag.py:354: ConvergenceWarning: The max_iter was reached which means the coef_ did not converge\n",
      "  ConvergenceWarning,\n"
     ]
    },
    {
     "name": "stdout",
     "output_type": "stream",
     "text": [
      "[CV 2/10] END lr__C=100, lr__max_iter=100, lr__penalty=l2, lr__solver=saga, smote__sampling_strategy=0.9;, score=(train=0.936, test=0.928) total time=   2.4s\n"
     ]
    },
    {
     "name": "stderr",
     "output_type": "stream",
     "text": [
      "/opt/conda/lib/python3.7/site-packages/sklearn/linear_model/_sag.py:354: ConvergenceWarning: The max_iter was reached which means the coef_ did not converge\n",
      "  ConvergenceWarning,\n"
     ]
    },
    {
     "name": "stdout",
     "output_type": "stream",
     "text": [
      "[CV 3/10] END lr__C=100, lr__max_iter=100, lr__penalty=l2, lr__solver=saga, smote__sampling_strategy=0.9;, score=(train=0.932, test=0.940) total time=   2.4s\n"
     ]
    },
    {
     "name": "stderr",
     "output_type": "stream",
     "text": [
      "/opt/conda/lib/python3.7/site-packages/sklearn/linear_model/_sag.py:354: ConvergenceWarning: The max_iter was reached which means the coef_ did not converge\n",
      "  ConvergenceWarning,\n"
     ]
    },
    {
     "name": "stdout",
     "output_type": "stream",
     "text": [
      "[CV 4/10] END lr__C=100, lr__max_iter=100, lr__penalty=l2, lr__solver=saga, smote__sampling_strategy=0.9;, score=(train=0.936, test=0.927) total time=   2.4s\n"
     ]
    },
    {
     "name": "stderr",
     "output_type": "stream",
     "text": [
      "/opt/conda/lib/python3.7/site-packages/sklearn/linear_model/_sag.py:354: ConvergenceWarning: The max_iter was reached which means the coef_ did not converge\n",
      "  ConvergenceWarning,\n"
     ]
    },
    {
     "name": "stdout",
     "output_type": "stream",
     "text": [
      "[CV 5/10] END lr__C=100, lr__max_iter=100, lr__penalty=l2, lr__solver=saga, smote__sampling_strategy=0.9;, score=(train=0.932, test=0.928) total time=   2.4s\n"
     ]
    },
    {
     "name": "stderr",
     "output_type": "stream",
     "text": [
      "/opt/conda/lib/python3.7/site-packages/sklearn/linear_model/_sag.py:354: ConvergenceWarning: The max_iter was reached which means the coef_ did not converge\n",
      "  ConvergenceWarning,\n"
     ]
    },
    {
     "name": "stdout",
     "output_type": "stream",
     "text": [
      "[CV 6/10] END lr__C=100, lr__max_iter=100, lr__penalty=l2, lr__solver=saga, smote__sampling_strategy=0.9;, score=(train=0.933, test=0.936) total time=   2.4s\n"
     ]
    },
    {
     "name": "stderr",
     "output_type": "stream",
     "text": [
      "/opt/conda/lib/python3.7/site-packages/sklearn/linear_model/_sag.py:354: ConvergenceWarning: The max_iter was reached which means the coef_ did not converge\n",
      "  ConvergenceWarning,\n"
     ]
    },
    {
     "name": "stdout",
     "output_type": "stream",
     "text": [
      "[CV 7/10] END lr__C=100, lr__max_iter=100, lr__penalty=l2, lr__solver=saga, smote__sampling_strategy=0.9;, score=(train=0.937, test=0.932) total time=   2.4s\n"
     ]
    },
    {
     "name": "stderr",
     "output_type": "stream",
     "text": [
      "/opt/conda/lib/python3.7/site-packages/sklearn/linear_model/_sag.py:354: ConvergenceWarning: The max_iter was reached which means the coef_ did not converge\n",
      "  ConvergenceWarning,\n"
     ]
    },
    {
     "name": "stdout",
     "output_type": "stream",
     "text": [
      "[CV 8/10] END lr__C=100, lr__max_iter=100, lr__penalty=l2, lr__solver=saga, smote__sampling_strategy=0.9;, score=(train=0.934, test=0.929) total time=   2.5s\n"
     ]
    },
    {
     "name": "stderr",
     "output_type": "stream",
     "text": [
      "/opt/conda/lib/python3.7/site-packages/sklearn/linear_model/_sag.py:354: ConvergenceWarning: The max_iter was reached which means the coef_ did not converge\n",
      "  ConvergenceWarning,\n"
     ]
    },
    {
     "name": "stdout",
     "output_type": "stream",
     "text": [
      "[CV 9/10] END lr__C=100, lr__max_iter=100, lr__penalty=l2, lr__solver=saga, smote__sampling_strategy=0.9;, score=(train=0.935, test=0.929) total time=   2.4s\n"
     ]
    },
    {
     "name": "stderr",
     "output_type": "stream",
     "text": [
      "/opt/conda/lib/python3.7/site-packages/sklearn/linear_model/_sag.py:354: ConvergenceWarning: The max_iter was reached which means the coef_ did not converge\n",
      "  ConvergenceWarning,\n"
     ]
    },
    {
     "name": "stdout",
     "output_type": "stream",
     "text": [
      "[CV 10/10] END lr__C=100, lr__max_iter=100, lr__penalty=l2, lr__solver=saga, smote__sampling_strategy=0.9;, score=(train=0.934, test=0.935) total time=   2.5s\n"
     ]
    },
    {
     "name": "stderr",
     "output_type": "stream",
     "text": [
      "/opt/conda/lib/python3.7/site-packages/sklearn/linear_model/_sag.py:354: ConvergenceWarning: The max_iter was reached which means the coef_ did not converge\n",
      "  ConvergenceWarning,\n"
     ]
    },
    {
     "name": "stdout",
     "output_type": "stream",
     "text": [
      "[CV 1/10] END lr__C=100, lr__max_iter=100, lr__penalty=l2, lr__solver=saga, smote__sampling_strategy=1.0;, score=(train=0.935, test=0.930) total time=   2.6s\n"
     ]
    },
    {
     "name": "stderr",
     "output_type": "stream",
     "text": [
      "/opt/conda/lib/python3.7/site-packages/sklearn/linear_model/_sag.py:354: ConvergenceWarning: The max_iter was reached which means the coef_ did not converge\n",
      "  ConvergenceWarning,\n"
     ]
    },
    {
     "name": "stdout",
     "output_type": "stream",
     "text": [
      "[CV 2/10] END lr__C=100, lr__max_iter=100, lr__penalty=l2, lr__solver=saga, smote__sampling_strategy=1.0;, score=(train=0.935, test=0.927) total time=   2.6s\n"
     ]
    },
    {
     "name": "stderr",
     "output_type": "stream",
     "text": [
      "/opt/conda/lib/python3.7/site-packages/sklearn/linear_model/_sag.py:354: ConvergenceWarning: The max_iter was reached which means the coef_ did not converge\n",
      "  ConvergenceWarning,\n"
     ]
    },
    {
     "name": "stdout",
     "output_type": "stream",
     "text": [
      "[CV 3/10] END lr__C=100, lr__max_iter=100, lr__penalty=l2, lr__solver=saga, smote__sampling_strategy=1.0;, score=(train=0.931, test=0.938) total time=   2.6s\n"
     ]
    },
    {
     "name": "stderr",
     "output_type": "stream",
     "text": [
      "/opt/conda/lib/python3.7/site-packages/sklearn/linear_model/_sag.py:354: ConvergenceWarning: The max_iter was reached which means the coef_ did not converge\n",
      "  ConvergenceWarning,\n"
     ]
    },
    {
     "name": "stdout",
     "output_type": "stream",
     "text": [
      "[CV 4/10] END lr__C=100, lr__max_iter=100, lr__penalty=l2, lr__solver=saga, smote__sampling_strategy=1.0;, score=(train=0.935, test=0.928) total time=   2.5s\n"
     ]
    },
    {
     "name": "stderr",
     "output_type": "stream",
     "text": [
      "/opt/conda/lib/python3.7/site-packages/sklearn/linear_model/_sag.py:354: ConvergenceWarning: The max_iter was reached which means the coef_ did not converge\n",
      "  ConvergenceWarning,\n"
     ]
    },
    {
     "name": "stdout",
     "output_type": "stream",
     "text": [
      "[CV 5/10] END lr__C=100, lr__max_iter=100, lr__penalty=l2, lr__solver=saga, smote__sampling_strategy=1.0;, score=(train=0.932, test=0.929) total time=   2.6s\n"
     ]
    },
    {
     "name": "stderr",
     "output_type": "stream",
     "text": [
      "/opt/conda/lib/python3.7/site-packages/sklearn/linear_model/_sag.py:354: ConvergenceWarning: The max_iter was reached which means the coef_ did not converge\n",
      "  ConvergenceWarning,\n"
     ]
    },
    {
     "name": "stdout",
     "output_type": "stream",
     "text": [
      "[CV 6/10] END lr__C=100, lr__max_iter=100, lr__penalty=l2, lr__solver=saga, smote__sampling_strategy=1.0;, score=(train=0.933, test=0.935) total time=   2.6s\n"
     ]
    },
    {
     "name": "stderr",
     "output_type": "stream",
     "text": [
      "/opt/conda/lib/python3.7/site-packages/sklearn/linear_model/_sag.py:354: ConvergenceWarning: The max_iter was reached which means the coef_ did not converge\n",
      "  ConvergenceWarning,\n"
     ]
    },
    {
     "name": "stdout",
     "output_type": "stream",
     "text": [
      "[CV 7/10] END lr__C=100, lr__max_iter=100, lr__penalty=l2, lr__solver=saga, smote__sampling_strategy=1.0;, score=(train=0.937, test=0.930) total time=   2.5s\n"
     ]
    },
    {
     "name": "stderr",
     "output_type": "stream",
     "text": [
      "/opt/conda/lib/python3.7/site-packages/sklearn/linear_model/_sag.py:354: ConvergenceWarning: The max_iter was reached which means the coef_ did not converge\n",
      "  ConvergenceWarning,\n"
     ]
    },
    {
     "name": "stdout",
     "output_type": "stream",
     "text": [
      "[CV 8/10] END lr__C=100, lr__max_iter=100, lr__penalty=l2, lr__solver=saga, smote__sampling_strategy=1.0;, score=(train=0.934, test=0.929) total time=   2.6s\n"
     ]
    },
    {
     "name": "stderr",
     "output_type": "stream",
     "text": [
      "/opt/conda/lib/python3.7/site-packages/sklearn/linear_model/_sag.py:354: ConvergenceWarning: The max_iter was reached which means the coef_ did not converge\n",
      "  ConvergenceWarning,\n"
     ]
    },
    {
     "name": "stdout",
     "output_type": "stream",
     "text": [
      "[CV 9/10] END lr__C=100, lr__max_iter=100, lr__penalty=l2, lr__solver=saga, smote__sampling_strategy=1.0;, score=(train=0.933, test=0.926) total time=   2.5s\n"
     ]
    },
    {
     "name": "stderr",
     "output_type": "stream",
     "text": [
      "/opt/conda/lib/python3.7/site-packages/sklearn/linear_model/_sag.py:354: ConvergenceWarning: The max_iter was reached which means the coef_ did not converge\n",
      "  ConvergenceWarning,\n"
     ]
    },
    {
     "name": "stdout",
     "output_type": "stream",
     "text": [
      "[CV 10/10] END lr__C=100, lr__max_iter=100, lr__penalty=l2, lr__solver=saga, smote__sampling_strategy=1.0;, score=(train=0.936, test=0.935) total time=   2.6s\n",
      "[CV 1/10] END lr__C=100, lr__max_iter=500, lr__penalty=l2, lr__solver=newton-cg, smote__sampling_strategy=0.8;, score=(train=0.936, test=0.928) total time=   1.1s\n",
      "[CV 2/10] END lr__C=100, lr__max_iter=500, lr__penalty=l2, lr__solver=newton-cg, smote__sampling_strategy=0.8;, score=(train=0.937, test=0.928) total time=   1.1s\n",
      "[CV 3/10] END lr__C=100, lr__max_iter=500, lr__penalty=l2, lr__solver=newton-cg, smote__sampling_strategy=0.8;, score=(train=0.934, test=0.937) total time=   1.1s\n",
      "[CV 4/10] END lr__C=100, lr__max_iter=500, lr__penalty=l2, lr__solver=newton-cg, smote__sampling_strategy=0.8;, score=(train=0.937, test=0.929) total time=   1.1s\n",
      "[CV 5/10] END lr__C=100, lr__max_iter=500, lr__penalty=l2, lr__solver=newton-cg, smote__sampling_strategy=0.8;, score=(train=0.934, test=0.931) total time=   0.9s\n",
      "[CV 6/10] END lr__C=100, lr__max_iter=500, lr__penalty=l2, lr__solver=newton-cg, smote__sampling_strategy=0.8;, score=(train=0.934, test=0.936) total time=   1.0s\n",
      "[CV 7/10] END lr__C=100, lr__max_iter=500, lr__penalty=l2, lr__solver=newton-cg, smote__sampling_strategy=0.8;, score=(train=0.937, test=0.931) total time=   1.1s\n",
      "[CV 8/10] END lr__C=100, lr__max_iter=500, lr__penalty=l2, lr__solver=newton-cg, smote__sampling_strategy=0.8;, score=(train=0.935, test=0.932) total time=   1.0s\n",
      "[CV 9/10] END lr__C=100, lr__max_iter=500, lr__penalty=l2, lr__solver=newton-cg, smote__sampling_strategy=0.8;, score=(train=0.936, test=0.929) total time=   1.0s\n",
      "[CV 10/10] END lr__C=100, lr__max_iter=500, lr__penalty=l2, lr__solver=newton-cg, smote__sampling_strategy=0.8;, score=(train=0.935, test=0.936) total time=   1.2s\n",
      "[CV 1/10] END lr__C=100, lr__max_iter=500, lr__penalty=l2, lr__solver=newton-cg, smote__sampling_strategy=0.9;, score=(train=0.936, test=0.930) total time=   1.2s\n",
      "[CV 2/10] END lr__C=100, lr__max_iter=500, lr__penalty=l2, lr__solver=newton-cg, smote__sampling_strategy=0.9;, score=(train=0.936, test=0.928) total time=   1.0s\n",
      "[CV 3/10] END lr__C=100, lr__max_iter=500, lr__penalty=l2, lr__solver=newton-cg, smote__sampling_strategy=0.9;, score=(train=0.932, test=0.939) total time=   1.2s\n",
      "[CV 4/10] END lr__C=100, lr__max_iter=500, lr__penalty=l2, lr__solver=newton-cg, smote__sampling_strategy=0.9;, score=(train=0.936, test=0.928) total time=   1.1s\n",
      "[CV 5/10] END lr__C=100, lr__max_iter=500, lr__penalty=l2, lr__solver=newton-cg, smote__sampling_strategy=0.9;, score=(train=0.933, test=0.928) total time=   1.5s\n",
      "[CV 6/10] END lr__C=100, lr__max_iter=500, lr__penalty=l2, lr__solver=newton-cg, smote__sampling_strategy=0.9;, score=(train=0.933, test=0.936) total time=   1.0s\n",
      "[CV 7/10] END lr__C=100, lr__max_iter=500, lr__penalty=l2, lr__solver=newton-cg, smote__sampling_strategy=0.9;, score=(train=0.938, test=0.933) total time=   1.1s\n",
      "[CV 8/10] END lr__C=100, lr__max_iter=500, lr__penalty=l2, lr__solver=newton-cg, smote__sampling_strategy=0.9;, score=(train=0.934, test=0.929) total time=   1.2s\n",
      "[CV 9/10] END lr__C=100, lr__max_iter=500, lr__penalty=l2, lr__solver=newton-cg, smote__sampling_strategy=0.9;, score=(train=0.935, test=0.929) total time=   1.4s\n",
      "[CV 10/10] END lr__C=100, lr__max_iter=500, lr__penalty=l2, lr__solver=newton-cg, smote__sampling_strategy=0.9;, score=(train=0.935, test=0.936) total time=   1.2s\n",
      "[CV 1/10] END lr__C=100, lr__max_iter=500, lr__penalty=l2, lr__solver=newton-cg, smote__sampling_strategy=1.0;, score=(train=0.935, test=0.930) total time=   1.2s\n",
      "[CV 2/10] END lr__C=100, lr__max_iter=500, lr__penalty=l2, lr__solver=newton-cg, smote__sampling_strategy=1.0;, score=(train=0.935, test=0.927) total time=   1.2s\n",
      "[CV 3/10] END lr__C=100, lr__max_iter=500, lr__penalty=l2, lr__solver=newton-cg, smote__sampling_strategy=1.0;, score=(train=0.931, test=0.938) total time=   1.2s\n",
      "[CV 4/10] END lr__C=100, lr__max_iter=500, lr__penalty=l2, lr__solver=newton-cg, smote__sampling_strategy=1.0;, score=(train=0.935, test=0.928) total time=   1.3s\n",
      "[CV 5/10] END lr__C=100, lr__max_iter=500, lr__penalty=l2, lr__solver=newton-cg, smote__sampling_strategy=1.0;, score=(train=0.932, test=0.929) total time=   1.2s\n",
      "[CV 6/10] END lr__C=100, lr__max_iter=500, lr__penalty=l2, lr__solver=newton-cg, smote__sampling_strategy=1.0;, score=(train=0.932, test=0.934) total time=   1.2s\n",
      "[CV 7/10] END lr__C=100, lr__max_iter=500, lr__penalty=l2, lr__solver=newton-cg, smote__sampling_strategy=1.0;, score=(train=0.938, test=0.930) total time=   1.3s\n",
      "[CV 8/10] END lr__C=100, lr__max_iter=500, lr__penalty=l2, lr__solver=newton-cg, smote__sampling_strategy=1.0;, score=(train=0.934, test=0.929) total time=   1.4s\n",
      "[CV 9/10] END lr__C=100, lr__max_iter=500, lr__penalty=l2, lr__solver=newton-cg, smote__sampling_strategy=1.0;, score=(train=0.933, test=0.925) total time=   1.3s\n",
      "[CV 10/10] END lr__C=100, lr__max_iter=500, lr__penalty=l2, lr__solver=newton-cg, smote__sampling_strategy=1.0;, score=(train=0.936, test=0.936) total time=   1.3s\n",
      "[CV 1/10] END lr__C=100, lr__max_iter=500, lr__penalty=l2, lr__solver=lbfgs, smote__sampling_strategy=0.8;, score=(train=0.936, test=0.929) total time=   1.4s\n"
     ]
    },
    {
     "name": "stderr",
     "output_type": "stream",
     "text": [
      "/opt/conda/lib/python3.7/site-packages/sklearn/linear_model/_logistic.py:818: ConvergenceWarning: lbfgs failed to converge (status=1):\n",
      "STOP: TOTAL NO. of ITERATIONS REACHED LIMIT.\n",
      "\n",
      "Increase the number of iterations (max_iter) or scale the data as shown in:\n",
      "    https://scikit-learn.org/stable/modules/preprocessing.html\n",
      "Please also refer to the documentation for alternative solver options:\n",
      "    https://scikit-learn.org/stable/modules/linear_model.html#logistic-regression\n",
      "  extra_warning_msg=_LOGISTIC_SOLVER_CONVERGENCE_MSG,\n"
     ]
    },
    {
     "name": "stdout",
     "output_type": "stream",
     "text": [
      "[CV 2/10] END lr__C=100, lr__max_iter=500, lr__penalty=l2, lr__solver=lbfgs, smote__sampling_strategy=0.8;, score=(train=0.937, test=0.928) total time=   1.6s\n",
      "[CV 3/10] END lr__C=100, lr__max_iter=500, lr__penalty=l2, lr__solver=lbfgs, smote__sampling_strategy=0.8;, score=(train=0.934, test=0.937) total time=   1.2s\n",
      "[CV 4/10] END lr__C=100, lr__max_iter=500, lr__penalty=l2, lr__solver=lbfgs, smote__sampling_strategy=0.8;, score=(train=0.937, test=0.929) total time=   1.2s\n",
      "[CV 5/10] END lr__C=100, lr__max_iter=500, lr__penalty=l2, lr__solver=lbfgs, smote__sampling_strategy=0.8;, score=(train=0.934, test=0.931) total time=   1.3s\n",
      "[CV 6/10] END lr__C=100, lr__max_iter=500, lr__penalty=l2, lr__solver=lbfgs, smote__sampling_strategy=0.8;, score=(train=0.933, test=0.936) total time=   1.3s\n",
      "[CV 7/10] END lr__C=100, lr__max_iter=500, lr__penalty=l2, lr__solver=lbfgs, smote__sampling_strategy=0.8;, score=(train=0.937, test=0.931) total time=   1.5s\n"
     ]
    },
    {
     "name": "stderr",
     "output_type": "stream",
     "text": [
      "/opt/conda/lib/python3.7/site-packages/sklearn/linear_model/_logistic.py:818: ConvergenceWarning: lbfgs failed to converge (status=1):\n",
      "STOP: TOTAL NO. of ITERATIONS REACHED LIMIT.\n",
      "\n",
      "Increase the number of iterations (max_iter) or scale the data as shown in:\n",
      "    https://scikit-learn.org/stable/modules/preprocessing.html\n",
      "Please also refer to the documentation for alternative solver options:\n",
      "    https://scikit-learn.org/stable/modules/linear_model.html#logistic-regression\n",
      "  extra_warning_msg=_LOGISTIC_SOLVER_CONVERGENCE_MSG,\n"
     ]
    },
    {
     "name": "stdout",
     "output_type": "stream",
     "text": [
      "[CV 8/10] END lr__C=100, lr__max_iter=500, lr__penalty=l2, lr__solver=lbfgs, smote__sampling_strategy=0.8;, score=(train=0.935, test=0.932) total time=   1.7s\n",
      "[CV 9/10] END lr__C=100, lr__max_iter=500, lr__penalty=l2, lr__solver=lbfgs, smote__sampling_strategy=0.8;, score=(train=0.936, test=0.930) total time=   1.6s\n",
      "[CV 10/10] END lr__C=100, lr__max_iter=500, lr__penalty=l2, lr__solver=lbfgs, smote__sampling_strategy=0.8;, score=(train=0.935, test=0.936) total time=   1.1s\n",
      "[CV 1/10] END lr__C=100, lr__max_iter=500, lr__penalty=l2, lr__solver=lbfgs, smote__sampling_strategy=0.9;, score=(train=0.936, test=0.930) total time=   1.1s\n"
     ]
    },
    {
     "name": "stderr",
     "output_type": "stream",
     "text": [
      "/opt/conda/lib/python3.7/site-packages/sklearn/linear_model/_logistic.py:818: ConvergenceWarning: lbfgs failed to converge (status=1):\n",
      "STOP: TOTAL NO. of ITERATIONS REACHED LIMIT.\n",
      "\n",
      "Increase the number of iterations (max_iter) or scale the data as shown in:\n",
      "    https://scikit-learn.org/stable/modules/preprocessing.html\n",
      "Please also refer to the documentation for alternative solver options:\n",
      "    https://scikit-learn.org/stable/modules/linear_model.html#logistic-regression\n",
      "  extra_warning_msg=_LOGISTIC_SOLVER_CONVERGENCE_MSG,\n"
     ]
    },
    {
     "name": "stdout",
     "output_type": "stream",
     "text": [
      "[CV 2/10] END lr__C=100, lr__max_iter=500, lr__penalty=l2, lr__solver=lbfgs, smote__sampling_strategy=0.9;, score=(train=0.936, test=0.928) total time=   1.2s\n",
      "[CV 3/10] END lr__C=100, lr__max_iter=500, lr__penalty=l2, lr__solver=lbfgs, smote__sampling_strategy=0.9;, score=(train=0.932, test=0.939) total time=   0.8s\n",
      "[CV 4/10] END lr__C=100, lr__max_iter=500, lr__penalty=l2, lr__solver=lbfgs, smote__sampling_strategy=0.9;, score=(train=0.936, test=0.928) total time=   0.7s\n"
     ]
    },
    {
     "name": "stderr",
     "output_type": "stream",
     "text": [
      "/opt/conda/lib/python3.7/site-packages/sklearn/linear_model/_logistic.py:818: ConvergenceWarning: lbfgs failed to converge (status=1):\n",
      "STOP: TOTAL NO. of ITERATIONS REACHED LIMIT.\n",
      "\n",
      "Increase the number of iterations (max_iter) or scale the data as shown in:\n",
      "    https://scikit-learn.org/stable/modules/preprocessing.html\n",
      "Please also refer to the documentation for alternative solver options:\n",
      "    https://scikit-learn.org/stable/modules/linear_model.html#logistic-regression\n",
      "  extra_warning_msg=_LOGISTIC_SOLVER_CONVERGENCE_MSG,\n"
     ]
    },
    {
     "name": "stdout",
     "output_type": "stream",
     "text": [
      "[CV 5/10] END lr__C=100, lr__max_iter=500, lr__penalty=l2, lr__solver=lbfgs, smote__sampling_strategy=0.9;, score=(train=0.933, test=0.928) total time=   1.2s\n",
      "[CV 6/10] END lr__C=100, lr__max_iter=500, lr__penalty=l2, lr__solver=lbfgs, smote__sampling_strategy=0.9;, score=(train=0.933, test=0.936) total time=   0.9s\n"
     ]
    },
    {
     "name": "stderr",
     "output_type": "stream",
     "text": [
      "/opt/conda/lib/python3.7/site-packages/sklearn/linear_model/_logistic.py:818: ConvergenceWarning: lbfgs failed to converge (status=1):\n",
      "STOP: TOTAL NO. of ITERATIONS REACHED LIMIT.\n",
      "\n",
      "Increase the number of iterations (max_iter) or scale the data as shown in:\n",
      "    https://scikit-learn.org/stable/modules/preprocessing.html\n",
      "Please also refer to the documentation for alternative solver options:\n",
      "    https://scikit-learn.org/stable/modules/linear_model.html#logistic-regression\n",
      "  extra_warning_msg=_LOGISTIC_SOLVER_CONVERGENCE_MSG,\n"
     ]
    },
    {
     "name": "stdout",
     "output_type": "stream",
     "text": [
      "[CV 7/10] END lr__C=100, lr__max_iter=500, lr__penalty=l2, lr__solver=lbfgs, smote__sampling_strategy=0.9;, score=(train=0.938, test=0.933) total time=   1.3s\n"
     ]
    },
    {
     "name": "stderr",
     "output_type": "stream",
     "text": [
      "/opt/conda/lib/python3.7/site-packages/sklearn/linear_model/_logistic.py:818: ConvergenceWarning: lbfgs failed to converge (status=1):\n",
      "STOP: TOTAL NO. of ITERATIONS REACHED LIMIT.\n",
      "\n",
      "Increase the number of iterations (max_iter) or scale the data as shown in:\n",
      "    https://scikit-learn.org/stable/modules/preprocessing.html\n",
      "Please also refer to the documentation for alternative solver options:\n",
      "    https://scikit-learn.org/stable/modules/linear_model.html#logistic-regression\n",
      "  extra_warning_msg=_LOGISTIC_SOLVER_CONVERGENCE_MSG,\n"
     ]
    },
    {
     "name": "stdout",
     "output_type": "stream",
     "text": [
      "[CV 8/10] END lr__C=100, lr__max_iter=500, lr__penalty=l2, lr__solver=lbfgs, smote__sampling_strategy=0.9;, score=(train=0.934, test=0.929) total time=   1.1s\n",
      "[CV 9/10] END lr__C=100, lr__max_iter=500, lr__penalty=l2, lr__solver=lbfgs, smote__sampling_strategy=0.9;, score=(train=0.935, test=0.929) total time=   1.1s\n",
      "[CV 10/10] END lr__C=100, lr__max_iter=500, lr__penalty=l2, lr__solver=lbfgs, smote__sampling_strategy=0.9;, score=(train=0.935, test=0.936) total time=   0.9s\n",
      "[CV 1/10] END lr__C=100, lr__max_iter=500, lr__penalty=l2, lr__solver=lbfgs, smote__sampling_strategy=1.0;, score=(train=0.935, test=0.930) total time=   1.2s\n"
     ]
    },
    {
     "name": "stderr",
     "output_type": "stream",
     "text": [
      "/opt/conda/lib/python3.7/site-packages/sklearn/linear_model/_logistic.py:818: ConvergenceWarning: lbfgs failed to converge (status=1):\n",
      "STOP: TOTAL NO. of ITERATIONS REACHED LIMIT.\n",
      "\n",
      "Increase the number of iterations (max_iter) or scale the data as shown in:\n",
      "    https://scikit-learn.org/stable/modules/preprocessing.html\n",
      "Please also refer to the documentation for alternative solver options:\n",
      "    https://scikit-learn.org/stable/modules/linear_model.html#logistic-regression\n",
      "  extra_warning_msg=_LOGISTIC_SOLVER_CONVERGENCE_MSG,\n"
     ]
    },
    {
     "name": "stdout",
     "output_type": "stream",
     "text": [
      "[CV 2/10] END lr__C=100, lr__max_iter=500, lr__penalty=l2, lr__solver=lbfgs, smote__sampling_strategy=1.0;, score=(train=0.935, test=0.927) total time=   1.2s\n",
      "[CV 3/10] END lr__C=100, lr__max_iter=500, lr__penalty=l2, lr__solver=lbfgs, smote__sampling_strategy=1.0;, score=(train=0.931, test=0.938) total time=   0.8s\n",
      "[CV 4/10] END lr__C=100, lr__max_iter=500, lr__penalty=l2, lr__solver=lbfgs, smote__sampling_strategy=1.0;, score=(train=0.935, test=0.928) total time=   0.8s\n",
      "[CV 5/10] END lr__C=100, lr__max_iter=500, lr__penalty=l2, lr__solver=lbfgs, smote__sampling_strategy=1.0;, score=(train=0.932, test=0.929) total time=   1.2s\n",
      "[CV 6/10] END lr__C=100, lr__max_iter=500, lr__penalty=l2, lr__solver=lbfgs, smote__sampling_strategy=1.0;, score=(train=0.932, test=0.934) total time=   1.1s\n"
     ]
    },
    {
     "name": "stderr",
     "output_type": "stream",
     "text": [
      "/opt/conda/lib/python3.7/site-packages/sklearn/linear_model/_logistic.py:818: ConvergenceWarning: lbfgs failed to converge (status=1):\n",
      "STOP: TOTAL NO. of ITERATIONS REACHED LIMIT.\n",
      "\n",
      "Increase the number of iterations (max_iter) or scale the data as shown in:\n",
      "    https://scikit-learn.org/stable/modules/preprocessing.html\n",
      "Please also refer to the documentation for alternative solver options:\n",
      "    https://scikit-learn.org/stable/modules/linear_model.html#logistic-regression\n",
      "  extra_warning_msg=_LOGISTIC_SOLVER_CONVERGENCE_MSG,\n"
     ]
    },
    {
     "name": "stdout",
     "output_type": "stream",
     "text": [
      "[CV 7/10] END lr__C=100, lr__max_iter=500, lr__penalty=l2, lr__solver=lbfgs, smote__sampling_strategy=1.0;, score=(train=0.938, test=0.930) total time=   1.2s\n"
     ]
    },
    {
     "name": "stderr",
     "output_type": "stream",
     "text": [
      "/opt/conda/lib/python3.7/site-packages/sklearn/linear_model/_logistic.py:818: ConvergenceWarning: lbfgs failed to converge (status=1):\n",
      "STOP: TOTAL NO. of ITERATIONS REACHED LIMIT.\n",
      "\n",
      "Increase the number of iterations (max_iter) or scale the data as shown in:\n",
      "    https://scikit-learn.org/stable/modules/preprocessing.html\n",
      "Please also refer to the documentation for alternative solver options:\n",
      "    https://scikit-learn.org/stable/modules/linear_model.html#logistic-regression\n",
      "  extra_warning_msg=_LOGISTIC_SOLVER_CONVERGENCE_MSG,\n"
     ]
    },
    {
     "name": "stdout",
     "output_type": "stream",
     "text": [
      "[CV 8/10] END lr__C=100, lr__max_iter=500, lr__penalty=l2, lr__solver=lbfgs, smote__sampling_strategy=1.0;, score=(train=0.934, test=0.929) total time=   1.2s\n",
      "[CV 9/10] END lr__C=100, lr__max_iter=500, lr__penalty=l2, lr__solver=lbfgs, smote__sampling_strategy=1.0;, score=(train=0.933, test=0.926) total time=   1.1s\n",
      "[CV 10/10] END lr__C=100, lr__max_iter=500, lr__penalty=l2, lr__solver=lbfgs, smote__sampling_strategy=1.0;, score=(train=0.936, test=0.936) total time=   1.0s\n",
      "[CV 1/10] END lr__C=100, lr__max_iter=500, lr__penalty=l2, lr__solver=liblinear, smote__sampling_strategy=0.8;, score=(train=0.936, test=0.928) total time=   0.6s\n",
      "[CV 2/10] END lr__C=100, lr__max_iter=500, lr__penalty=l2, lr__solver=liblinear, smote__sampling_strategy=0.8;, score=(train=0.937, test=0.928) total time=   0.5s\n",
      "[CV 3/10] END lr__C=100, lr__max_iter=500, lr__penalty=l2, lr__solver=liblinear, smote__sampling_strategy=0.8;, score=(train=0.934, test=0.937) total time=   0.4s\n",
      "[CV 4/10] END lr__C=100, lr__max_iter=500, lr__penalty=l2, lr__solver=liblinear, smote__sampling_strategy=0.8;, score=(train=0.937, test=0.929) total time=   0.4s\n",
      "[CV 5/10] END lr__C=100, lr__max_iter=500, lr__penalty=l2, lr__solver=liblinear, smote__sampling_strategy=0.8;, score=(train=0.934, test=0.931) total time=   0.4s\n",
      "[CV 6/10] END lr__C=100, lr__max_iter=500, lr__penalty=l2, lr__solver=liblinear, smote__sampling_strategy=0.8;, score=(train=0.934, test=0.936) total time=   0.5s\n",
      "[CV 7/10] END lr__C=100, lr__max_iter=500, lr__penalty=l2, lr__solver=liblinear, smote__sampling_strategy=0.8;, score=(train=0.937, test=0.931) total time=   0.6s\n",
      "[CV 8/10] END lr__C=100, lr__max_iter=500, lr__penalty=l2, lr__solver=liblinear, smote__sampling_strategy=0.8;, score=(train=0.935, test=0.932) total time=   0.5s\n",
      "[CV 9/10] END lr__C=100, lr__max_iter=500, lr__penalty=l2, lr__solver=liblinear, smote__sampling_strategy=0.8;, score=(train=0.936, test=0.930) total time=   0.5s\n",
      "[CV 10/10] END lr__C=100, lr__max_iter=500, lr__penalty=l2, lr__solver=liblinear, smote__sampling_strategy=0.8;, score=(train=0.935, test=0.936) total time=   0.4s\n",
      "[CV 1/10] END lr__C=100, lr__max_iter=500, lr__penalty=l2, lr__solver=liblinear, smote__sampling_strategy=0.9;, score=(train=0.936, test=0.930) total time=   0.6s\n",
      "[CV 2/10] END lr__C=100, lr__max_iter=500, lr__penalty=l2, lr__solver=liblinear, smote__sampling_strategy=0.9;, score=(train=0.936, test=0.928) total time=   0.6s\n",
      "[CV 3/10] END lr__C=100, lr__max_iter=500, lr__penalty=l2, lr__solver=liblinear, smote__sampling_strategy=0.9;, score=(train=0.932, test=0.939) total time=   0.5s\n",
      "[CV 4/10] END lr__C=100, lr__max_iter=500, lr__penalty=l2, lr__solver=liblinear, smote__sampling_strategy=0.9;, score=(train=0.936, test=0.928) total time=   0.5s\n",
      "[CV 5/10] END lr__C=100, lr__max_iter=500, lr__penalty=l2, lr__solver=liblinear, smote__sampling_strategy=0.9;, score=(train=0.933, test=0.928) total time=   0.6s\n",
      "[CV 6/10] END lr__C=100, lr__max_iter=500, lr__penalty=l2, lr__solver=liblinear, smote__sampling_strategy=0.9;, score=(train=0.933, test=0.936) total time=   0.6s\n",
      "[CV 7/10] END lr__C=100, lr__max_iter=500, lr__penalty=l2, lr__solver=liblinear, smote__sampling_strategy=0.9;, score=(train=0.938, test=0.933) total time=   0.6s\n",
      "[CV 8/10] END lr__C=100, lr__max_iter=500, lr__penalty=l2, lr__solver=liblinear, smote__sampling_strategy=0.9;, score=(train=0.934, test=0.929) total time=   0.7s\n",
      "[CV 9/10] END lr__C=100, lr__max_iter=500, lr__penalty=l2, lr__solver=liblinear, smote__sampling_strategy=0.9;, score=(train=0.935, test=0.929) total time=   0.5s\n",
      "[CV 10/10] END lr__C=100, lr__max_iter=500, lr__penalty=l2, lr__solver=liblinear, smote__sampling_strategy=0.9;, score=(train=0.935, test=0.936) total time=   0.6s\n",
      "[CV 1/10] END lr__C=100, lr__max_iter=500, lr__penalty=l2, lr__solver=liblinear, smote__sampling_strategy=1.0;, score=(train=0.935, test=0.930) total time=   0.7s\n",
      "[CV 2/10] END lr__C=100, lr__max_iter=500, lr__penalty=l2, lr__solver=liblinear, smote__sampling_strategy=1.0;, score=(train=0.935, test=0.927) total time=   0.7s\n",
      "[CV 3/10] END lr__C=100, lr__max_iter=500, lr__penalty=l2, lr__solver=liblinear, smote__sampling_strategy=1.0;, score=(train=0.931, test=0.938) total time=   0.5s\n",
      "[CV 4/10] END lr__C=100, lr__max_iter=500, lr__penalty=l2, lr__solver=liblinear, smote__sampling_strategy=1.0;, score=(train=0.935, test=0.928) total time=   0.5s\n",
      "[CV 5/10] END lr__C=100, lr__max_iter=500, lr__penalty=l2, lr__solver=liblinear, smote__sampling_strategy=1.0;, score=(train=0.932, test=0.929) total time=   0.6s\n",
      "[CV 6/10] END lr__C=100, lr__max_iter=500, lr__penalty=l2, lr__solver=liblinear, smote__sampling_strategy=1.0;, score=(train=0.932, test=0.934) total time=   0.6s\n",
      "[CV 7/10] END lr__C=100, lr__max_iter=500, lr__penalty=l2, lr__solver=liblinear, smote__sampling_strategy=1.0;, score=(train=0.938, test=0.930) total time=   0.7s\n",
      "[CV 8/10] END lr__C=100, lr__max_iter=500, lr__penalty=l2, lr__solver=liblinear, smote__sampling_strategy=1.0;, score=(train=0.934, test=0.929) total time=   0.7s\n",
      "[CV 9/10] END lr__C=100, lr__max_iter=500, lr__penalty=l2, lr__solver=liblinear, smote__sampling_strategy=1.0;, score=(train=0.933, test=0.925) total time=   0.7s\n",
      "[CV 10/10] END lr__C=100, lr__max_iter=500, lr__penalty=l2, lr__solver=liblinear, smote__sampling_strategy=1.0;, score=(train=0.936, test=0.936) total time=   0.5s\n",
      "[CV 1/10] END lr__C=100, lr__max_iter=500, lr__penalty=l2, lr__solver=sag, smote__sampling_strategy=0.8;, score=(train=0.936, test=0.928) total time=   3.0s\n",
      "[CV 2/10] END lr__C=100, lr__max_iter=500, lr__penalty=l2, lr__solver=sag, smote__sampling_strategy=0.8;, score=(train=0.937, test=0.928) total time=   6.3s\n",
      "[CV 3/10] END lr__C=100, lr__max_iter=500, lr__penalty=l2, lr__solver=sag, smote__sampling_strategy=0.8;, score=(train=0.934, test=0.937) total time=   1.7s\n",
      "[CV 4/10] END lr__C=100, lr__max_iter=500, lr__penalty=l2, lr__solver=sag, smote__sampling_strategy=0.8;, score=(train=0.937, test=0.929) total time=   1.8s\n",
      "[CV 5/10] END lr__C=100, lr__max_iter=500, lr__penalty=l2, lr__solver=sag, smote__sampling_strategy=0.8;, score=(train=0.934, test=0.931) total time=   2.7s\n",
      "[CV 6/10] END lr__C=100, lr__max_iter=500, lr__penalty=l2, lr__solver=sag, smote__sampling_strategy=0.8;, score=(train=0.934, test=0.936) total time=   2.0s\n",
      "[CV 7/10] END lr__C=100, lr__max_iter=500, lr__penalty=l2, lr__solver=sag, smote__sampling_strategy=0.8;, score=(train=0.937, test=0.931) total time=   2.8s\n",
      "[CV 8/10] END lr__C=100, lr__max_iter=500, lr__penalty=l2, lr__solver=sag, smote__sampling_strategy=0.8;, score=(train=0.935, test=0.932) total time=   2.8s\n",
      "[CV 9/10] END lr__C=100, lr__max_iter=500, lr__penalty=l2, lr__solver=sag, smote__sampling_strategy=0.8;, score=(train=0.936, test=0.929) total time=   3.7s\n",
      "[CV 10/10] END lr__C=100, lr__max_iter=500, lr__penalty=l2, lr__solver=sag, smote__sampling_strategy=0.8;, score=(train=0.935, test=0.936) total time=   2.2s\n",
      "[CV 1/10] END lr__C=100, lr__max_iter=500, lr__penalty=l2, lr__solver=sag, smote__sampling_strategy=0.9;, score=(train=0.936, test=0.930) total time=   3.6s\n",
      "[CV 2/10] END lr__C=100, lr__max_iter=500, lr__penalty=l2, lr__solver=sag, smote__sampling_strategy=0.9;, score=(train=0.936, test=0.928) total time=   6.9s\n",
      "[CV 3/10] END lr__C=100, lr__max_iter=500, lr__penalty=l2, lr__solver=sag, smote__sampling_strategy=0.9;, score=(train=0.932, test=0.939) total time=   1.9s\n",
      "[CV 4/10] END lr__C=100, lr__max_iter=500, lr__penalty=l2, lr__solver=sag, smote__sampling_strategy=0.9;, score=(train=0.936, test=0.927) total time=   1.7s\n",
      "[CV 5/10] END lr__C=100, lr__max_iter=500, lr__penalty=l2, lr__solver=sag, smote__sampling_strategy=0.9;, score=(train=0.933, test=0.928) total time=   4.5s\n",
      "[CV 6/10] END lr__C=100, lr__max_iter=500, lr__penalty=l2, lr__solver=sag, smote__sampling_strategy=0.9;, score=(train=0.933, test=0.936) total time=   1.7s\n",
      "[CV 7/10] END lr__C=100, lr__max_iter=500, lr__penalty=l2, lr__solver=sag, smote__sampling_strategy=0.9;, score=(train=0.938, test=0.933) total time=   3.6s\n",
      "[CV 8/10] END lr__C=100, lr__max_iter=500, lr__penalty=l2, lr__solver=sag, smote__sampling_strategy=0.9;, score=(train=0.934, test=0.929) total time=   3.3s\n",
      "[CV 9/10] END lr__C=100, lr__max_iter=500, lr__penalty=l2, lr__solver=sag, smote__sampling_strategy=0.9;, score=(train=0.935, test=0.929) total time=   3.3s\n",
      "[CV 10/10] END lr__C=100, lr__max_iter=500, lr__penalty=l2, lr__solver=sag, smote__sampling_strategy=0.9;, score=(train=0.934, test=0.936) total time=   2.4s\n",
      "[CV 1/10] END lr__C=100, lr__max_iter=500, lr__penalty=l2, lr__solver=sag, smote__sampling_strategy=1.0;, score=(train=0.935, test=0.930) total time=   3.6s\n",
      "[CV 2/10] END lr__C=100, lr__max_iter=500, lr__penalty=l2, lr__solver=sag, smote__sampling_strategy=1.0;, score=(train=0.935, test=0.927) total time=   6.3s\n",
      "[CV 3/10] END lr__C=100, lr__max_iter=500, lr__penalty=l2, lr__solver=sag, smote__sampling_strategy=1.0;, score=(train=0.931, test=0.938) total time=   1.8s\n",
      "[CV 4/10] END lr__C=100, lr__max_iter=500, lr__penalty=l2, lr__solver=sag, smote__sampling_strategy=1.0;, score=(train=0.935, test=0.928) total time=   2.2s\n",
      "[CV 5/10] END lr__C=100, lr__max_iter=500, lr__penalty=l2, lr__solver=sag, smote__sampling_strategy=1.0;, score=(train=0.932, test=0.929) total time=   3.8s\n",
      "[CV 6/10] END lr__C=100, lr__max_iter=500, lr__penalty=l2, lr__solver=sag, smote__sampling_strategy=1.0;, score=(train=0.932, test=0.934) total time=   1.9s\n",
      "[CV 7/10] END lr__C=100, lr__max_iter=500, lr__penalty=l2, lr__solver=sag, smote__sampling_strategy=1.0;, score=(train=0.938, test=0.930) total time=   3.5s\n",
      "[CV 8/10] END lr__C=100, lr__max_iter=500, lr__penalty=l2, lr__solver=sag, smote__sampling_strategy=1.0;, score=(train=0.934, test=0.929) total time=   4.5s\n",
      "[CV 9/10] END lr__C=100, lr__max_iter=500, lr__penalty=l2, lr__solver=sag, smote__sampling_strategy=1.0;, score=(train=0.933, test=0.925) total time=   3.5s\n",
      "[CV 10/10] END lr__C=100, lr__max_iter=500, lr__penalty=l2, lr__solver=sag, smote__sampling_strategy=1.0;, score=(train=0.936, test=0.936) total time=   2.2s\n",
      "[CV 1/10] END lr__C=100, lr__max_iter=500, lr__penalty=l2, lr__solver=saga, smote__sampling_strategy=0.8;, score=(train=0.936, test=0.928) total time=   3.8s\n",
      "[CV 2/10] END lr__C=100, lr__max_iter=500, lr__penalty=l2, lr__solver=saga, smote__sampling_strategy=0.8;, score=(train=0.937, test=0.928) total time=   8.7s\n",
      "[CV 3/10] END lr__C=100, lr__max_iter=500, lr__penalty=l2, lr__solver=saga, smote__sampling_strategy=0.8;, score=(train=0.933, test=0.937) total time=   3.1s\n",
      "[CV 4/10] END lr__C=100, lr__max_iter=500, lr__penalty=l2, lr__solver=saga, smote__sampling_strategy=0.8;, score=(train=0.937, test=0.929) total time=   3.6s\n",
      "[CV 5/10] END lr__C=100, lr__max_iter=500, lr__penalty=l2, lr__solver=saga, smote__sampling_strategy=0.8;, score=(train=0.934, test=0.931) total time=   3.6s\n",
      "[CV 6/10] END lr__C=100, lr__max_iter=500, lr__penalty=l2, lr__solver=saga, smote__sampling_strategy=0.8;, score=(train=0.933, test=0.936) total time=   3.3s\n",
      "[CV 7/10] END lr__C=100, lr__max_iter=500, lr__penalty=l2, lr__solver=saga, smote__sampling_strategy=0.8;, score=(train=0.937, test=0.931) total time=   3.8s\n",
      "[CV 8/10] END lr__C=100, lr__max_iter=500, lr__penalty=l2, lr__solver=saga, smote__sampling_strategy=0.8;, score=(train=0.935, test=0.932) total time=   3.9s\n",
      "[CV 9/10] END lr__C=100, lr__max_iter=500, lr__penalty=l2, lr__solver=saga, smote__sampling_strategy=0.8;, score=(train=0.936, test=0.930) total time=   5.1s\n",
      "[CV 10/10] END lr__C=100, lr__max_iter=500, lr__penalty=l2, lr__solver=saga, smote__sampling_strategy=0.8;, score=(train=0.935, test=0.936) total time=   3.7s\n",
      "[CV 1/10] END lr__C=100, lr__max_iter=500, lr__penalty=l2, lr__solver=saga, smote__sampling_strategy=0.9;, score=(train=0.936, test=0.930) total time=   4.5s\n",
      "[CV 2/10] END lr__C=100, lr__max_iter=500, lr__penalty=l2, lr__solver=saga, smote__sampling_strategy=0.9;, score=(train=0.936, test=0.928) total time=   9.1s\n",
      "[CV 3/10] END lr__C=100, lr__max_iter=500, lr__penalty=l2, lr__solver=saga, smote__sampling_strategy=0.9;, score=(train=0.932, test=0.940) total time=   3.5s\n",
      "[CV 4/10] END lr__C=100, lr__max_iter=500, lr__penalty=l2, lr__solver=saga, smote__sampling_strategy=0.9;, score=(train=0.936, test=0.928) total time=   3.6s\n",
      "[CV 5/10] END lr__C=100, lr__max_iter=500, lr__penalty=l2, lr__solver=saga, smote__sampling_strategy=0.9;, score=(train=0.933, test=0.928) total time=   5.5s\n",
      "[CV 6/10] END lr__C=100, lr__max_iter=500, lr__penalty=l2, lr__solver=saga, smote__sampling_strategy=0.9;, score=(train=0.933, test=0.936) total time=   3.1s\n",
      "[CV 7/10] END lr__C=100, lr__max_iter=500, lr__penalty=l2, lr__solver=saga, smote__sampling_strategy=0.9;, score=(train=0.937, test=0.932) total time=   4.3s\n",
      "[CV 8/10] END lr__C=100, lr__max_iter=500, lr__penalty=l2, lr__solver=saga, smote__sampling_strategy=0.9;, score=(train=0.934, test=0.929) total time=   4.4s\n",
      "[CV 9/10] END lr__C=100, lr__max_iter=500, lr__penalty=l2, lr__solver=saga, smote__sampling_strategy=0.9;, score=(train=0.935, test=0.929) total time=   4.6s\n",
      "[CV 10/10] END lr__C=100, lr__max_iter=500, lr__penalty=l2, lr__solver=saga, smote__sampling_strategy=0.9;, score=(train=0.934, test=0.936) total time=   4.0s\n",
      "[CV 1/10] END lr__C=100, lr__max_iter=500, lr__penalty=l2, lr__solver=saga, smote__sampling_strategy=1.0;, score=(train=0.935, test=0.930) total time=   4.8s\n",
      "[CV 2/10] END lr__C=100, lr__max_iter=500, lr__penalty=l2, lr__solver=saga, smote__sampling_strategy=1.0;, score=(train=0.935, test=0.927) total time=   9.4s\n",
      "[CV 3/10] END lr__C=100, lr__max_iter=500, lr__penalty=l2, lr__solver=saga, smote__sampling_strategy=1.0;, score=(train=0.931, test=0.938) total time=   3.6s\n",
      "[CV 4/10] END lr__C=100, lr__max_iter=500, lr__penalty=l2, lr__solver=saga, smote__sampling_strategy=1.0;, score=(train=0.935, test=0.927) total time=   3.6s\n",
      "[CV 5/10] END lr__C=100, lr__max_iter=500, lr__penalty=l2, lr__solver=saga, smote__sampling_strategy=1.0;, score=(train=0.932, test=0.929) total time=   5.1s\n",
      "[CV 6/10] END lr__C=100, lr__max_iter=500, lr__penalty=l2, lr__solver=saga, smote__sampling_strategy=1.0;, score=(train=0.933, test=0.934) total time=   3.4s\n",
      "[CV 7/10] END lr__C=100, lr__max_iter=500, lr__penalty=l2, lr__solver=saga, smote__sampling_strategy=1.0;, score=(train=0.938, test=0.930) total time=   4.6s\n",
      "[CV 8/10] END lr__C=100, lr__max_iter=500, lr__penalty=l2, lr__solver=saga, smote__sampling_strategy=1.0;, score=(train=0.934, test=0.929) total time=   6.0s\n",
      "[CV 9/10] END lr__C=100, lr__max_iter=500, lr__penalty=l2, lr__solver=saga, smote__sampling_strategy=1.0;, score=(train=0.933, test=0.926) total time=   5.1s\n",
      "[CV 10/10] END lr__C=100, lr__max_iter=500, lr__penalty=l2, lr__solver=saga, smote__sampling_strategy=1.0;, score=(train=0.936, test=0.936) total time=   4.1s\n",
      "----------\n",
      "iter: 1\n",
      "n_candidates: 50\n",
      "n_resources: 39801\n",
      "Fitting 10 folds for each of 50 candidates, totalling 500 fits\n",
      "[CV 1/10] END lr__C=10, lr__max_iter=100, lr__penalty=l2, lr__solver=sag, smote__sampling_strategy=0.9;, score=(train=0.931, test=0.932) total time=   5.3s\n",
      "[CV 2/10] END lr__C=10, lr__max_iter=100, lr__penalty=l2, lr__solver=sag, smote__sampling_strategy=0.9;, score=(train=0.932, test=0.928) total time=   4.3s\n",
      "[CV 3/10] END lr__C=10, lr__max_iter=100, lr__penalty=l2, lr__solver=sag, smote__sampling_strategy=0.9;, score=(train=0.933, test=0.932) total time=   5.2s\n",
      "[CV 4/10] END lr__C=10, lr__max_iter=100, lr__penalty=l2, lr__solver=sag, smote__sampling_strategy=0.9;, score=(train=0.934, test=0.931) total time=   4.0s\n",
      "[CV 5/10] END lr__C=10, lr__max_iter=100, lr__penalty=l2, lr__solver=sag, smote__sampling_strategy=0.9;, score=(train=0.932, test=0.934) total time=   4.0s\n",
      "[CV 6/10] END lr__C=10, lr__max_iter=100, lr__penalty=l2, lr__solver=sag, smote__sampling_strategy=0.9;, score=(train=0.933, test=0.934) total time=   4.3s\n",
      "[CV 7/10] END lr__C=10, lr__max_iter=100, lr__penalty=l2, lr__solver=sag, smote__sampling_strategy=0.9;, score=(train=0.932, test=0.930) total time=   3.2s\n",
      "[CV 8/10] END lr__C=10, lr__max_iter=100, lr__penalty=l2, lr__solver=sag, smote__sampling_strategy=0.9;, score=(train=0.932, test=0.931) total time=   5.2s\n",
      "[CV 9/10] END lr__C=10, lr__max_iter=100, lr__penalty=l2, lr__solver=sag, smote__sampling_strategy=0.9;, score=(train=0.933, test=0.932) total time=   3.8s\n",
      "[CV 10/10] END lr__C=10, lr__max_iter=100, lr__penalty=l2, lr__solver=sag, smote__sampling_strategy=0.9;, score=(train=0.933, test=0.931) total time=   4.5s\n",
      "[CV 1/10] END lr__C=10, lr__max_iter=100, lr__penalty=l2, lr__solver=newton-cg, smote__sampling_strategy=0.9;, score=(train=0.931, test=0.932) total time=   3.9s\n",
      "[CV 2/10] END lr__C=10, lr__max_iter=100, lr__penalty=l2, lr__solver=newton-cg, smote__sampling_strategy=0.9;, score=(train=0.932, test=0.928) total time=   3.9s\n",
      "[CV 3/10] END lr__C=10, lr__max_iter=100, lr__penalty=l2, lr__solver=newton-cg, smote__sampling_strategy=0.9;, score=(train=0.933, test=0.932) total time=   3.9s\n",
      "[CV 4/10] END lr__C=10, lr__max_iter=100, lr__penalty=l2, lr__solver=newton-cg, smote__sampling_strategy=0.9;, score=(train=0.934, test=0.931) total time=   4.8s\n",
      "[CV 5/10] END lr__C=10, lr__max_iter=100, lr__penalty=l2, lr__solver=newton-cg, smote__sampling_strategy=0.9;, score=(train=0.932, test=0.934) total time=   4.0s\n",
      "[CV 6/10] END lr__C=10, lr__max_iter=100, lr__penalty=l2, lr__solver=newton-cg, smote__sampling_strategy=0.9;, score=(train=0.933, test=0.934) total time=   4.0s\n",
      "[CV 7/10] END lr__C=10, lr__max_iter=100, lr__penalty=l2, lr__solver=newton-cg, smote__sampling_strategy=0.9;, score=(train=0.932, test=0.930) total time=   4.5s\n",
      "[CV 8/10] END lr__C=10, lr__max_iter=100, lr__penalty=l2, lr__solver=newton-cg, smote__sampling_strategy=0.9;, score=(train=0.932, test=0.931) total time=   4.1s\n",
      "[CV 9/10] END lr__C=10, lr__max_iter=100, lr__penalty=l2, lr__solver=newton-cg, smote__sampling_strategy=0.9;, score=(train=0.933, test=0.932) total time=   4.0s\n",
      "[CV 10/10] END lr__C=10, lr__max_iter=100, lr__penalty=l2, lr__solver=newton-cg, smote__sampling_strategy=0.9;, score=(train=0.933, test=0.931) total time=   4.0s\n",
      "[CV 1/10] END lr__C=10, lr__max_iter=500, lr__penalty=l2, lr__solver=sag, smote__sampling_strategy=0.9;, score=(train=0.931, test=0.932) total time=   5.3s\n",
      "[CV 2/10] END lr__C=10, lr__max_iter=500, lr__penalty=l2, lr__solver=sag, smote__sampling_strategy=0.9;, score=(train=0.932, test=0.928) total time=   4.3s\n",
      "[CV 3/10] END lr__C=10, lr__max_iter=500, lr__penalty=l2, lr__solver=sag, smote__sampling_strategy=0.9;, score=(train=0.933, test=0.932) total time=   5.4s\n",
      "[CV 4/10] END lr__C=10, lr__max_iter=500, lr__penalty=l2, lr__solver=sag, smote__sampling_strategy=0.9;, score=(train=0.934, test=0.931) total time=   3.9s\n",
      "[CV 5/10] END lr__C=10, lr__max_iter=500, lr__penalty=l2, lr__solver=sag, smote__sampling_strategy=0.9;, score=(train=0.932, test=0.934) total time=   4.0s\n",
      "[CV 6/10] END lr__C=10, lr__max_iter=500, lr__penalty=l2, lr__solver=sag, smote__sampling_strategy=0.9;, score=(train=0.933, test=0.934) total time=   4.3s\n",
      "[CV 7/10] END lr__C=10, lr__max_iter=500, lr__penalty=l2, lr__solver=sag, smote__sampling_strategy=0.9;, score=(train=0.932, test=0.930) total time=   3.0s\n",
      "[CV 8/10] END lr__C=10, lr__max_iter=500, lr__penalty=l2, lr__solver=sag, smote__sampling_strategy=0.9;, score=(train=0.932, test=0.931) total time=   5.1s\n",
      "[CV 9/10] END lr__C=10, lr__max_iter=500, lr__penalty=l2, lr__solver=sag, smote__sampling_strategy=0.9;, score=(train=0.933, test=0.932) total time=   3.7s\n",
      "[CV 10/10] END lr__C=10, lr__max_iter=500, lr__penalty=l2, lr__solver=sag, smote__sampling_strategy=0.9;, score=(train=0.933, test=0.931) total time=   4.7s\n",
      "[CV 1/10] END lr__C=10, lr__max_iter=500, lr__penalty=l2, lr__solver=newton-cg, smote__sampling_strategy=0.9;, score=(train=0.931, test=0.932) total time=   3.9s\n",
      "[CV 2/10] END lr__C=10, lr__max_iter=500, lr__penalty=l2, lr__solver=newton-cg, smote__sampling_strategy=0.9;, score=(train=0.932, test=0.928) total time=   4.2s\n",
      "[CV 3/10] END lr__C=10, lr__max_iter=500, lr__penalty=l2, lr__solver=newton-cg, smote__sampling_strategy=0.9;, score=(train=0.933, test=0.932) total time=   4.0s\n",
      "[CV 4/10] END lr__C=10, lr__max_iter=500, lr__penalty=l2, lr__solver=newton-cg, smote__sampling_strategy=0.9;, score=(train=0.934, test=0.931) total time=   4.6s\n",
      "[CV 5/10] END lr__C=10, lr__max_iter=500, lr__penalty=l2, lr__solver=newton-cg, smote__sampling_strategy=0.9;, score=(train=0.932, test=0.934) total time=   3.8s\n",
      "[CV 6/10] END lr__C=10, lr__max_iter=500, lr__penalty=l2, lr__solver=newton-cg, smote__sampling_strategy=0.9;, score=(train=0.933, test=0.934) total time=   4.0s\n",
      "[CV 7/10] END lr__C=10, lr__max_iter=500, lr__penalty=l2, lr__solver=newton-cg, smote__sampling_strategy=0.9;, score=(train=0.932, test=0.930) total time=   4.4s\n",
      "[CV 8/10] END lr__C=10, lr__max_iter=500, lr__penalty=l2, lr__solver=newton-cg, smote__sampling_strategy=0.9;, score=(train=0.932, test=0.931) total time=   3.9s\n",
      "[CV 9/10] END lr__C=10, lr__max_iter=500, lr__penalty=l2, lr__solver=newton-cg, smote__sampling_strategy=0.9;, score=(train=0.933, test=0.932) total time=   3.8s\n",
      "[CV 10/10] END lr__C=10, lr__max_iter=500, lr__penalty=l2, lr__solver=newton-cg, smote__sampling_strategy=0.9;, score=(train=0.933, test=0.931) total time=   4.5s\n",
      "[CV 1/10] END lr__C=10, lr__max_iter=500, lr__penalty=l2, lr__solver=lbfgs, smote__sampling_strategy=0.9;, score=(train=0.931, test=0.932) total time=   5.6s\n",
      "[CV 2/10] END lr__C=10, lr__max_iter=500, lr__penalty=l2, lr__solver=lbfgs, smote__sampling_strategy=0.9;, score=(train=0.932, test=0.928) total time=   5.2s\n",
      "[CV 3/10] END lr__C=10, lr__max_iter=500, lr__penalty=l2, lr__solver=lbfgs, smote__sampling_strategy=0.9;, score=(train=0.933, test=0.932) total time=   6.3s\n",
      "[CV 4/10] END lr__C=10, lr__max_iter=500, lr__penalty=l2, lr__solver=lbfgs, smote__sampling_strategy=0.9;, score=(train=0.934, test=0.931) total time=   5.2s\n",
      "[CV 5/10] END lr__C=10, lr__max_iter=500, lr__penalty=l2, lr__solver=lbfgs, smote__sampling_strategy=0.9;, score=(train=0.932, test=0.934) total time=   5.6s\n",
      "[CV 6/10] END lr__C=10, lr__max_iter=500, lr__penalty=l2, lr__solver=lbfgs, smote__sampling_strategy=0.9;, score=(train=0.933, test=0.934) total time=   5.8s\n",
      "[CV 7/10] END lr__C=10, lr__max_iter=500, lr__penalty=l2, lr__solver=lbfgs, smote__sampling_strategy=0.9;, score=(train=0.932, test=0.930) total time=   3.5s\n",
      "[CV 8/10] END lr__C=10, lr__max_iter=500, lr__penalty=l2, lr__solver=lbfgs, smote__sampling_strategy=0.9;, score=(train=0.932, test=0.931) total time=   4.2s\n",
      "[CV 9/10] END lr__C=10, lr__max_iter=500, lr__penalty=l2, lr__solver=lbfgs, smote__sampling_strategy=0.9;, score=(train=0.933, test=0.932) total time=   4.2s\n",
      "[CV 10/10] END lr__C=10, lr__max_iter=500, lr__penalty=l2, lr__solver=lbfgs, smote__sampling_strategy=0.9;, score=(train=0.933, test=0.931) total time=   3.8s\n",
      "[CV 1/10] END lr__C=10, lr__max_iter=100, lr__penalty=l2, lr__solver=saga, smote__sampling_strategy=0.9;, score=(train=0.931, test=0.932) total time=   7.9s\n",
      "[CV 2/10] END lr__C=10, lr__max_iter=100, lr__penalty=l2, lr__solver=saga, smote__sampling_strategy=0.9;, score=(train=0.932, test=0.928) total time=   6.8s\n",
      "[CV 3/10] END lr__C=10, lr__max_iter=100, lr__penalty=l2, lr__solver=saga, smote__sampling_strategy=0.9;, score=(train=0.933, test=0.932) total time=   7.4s\n",
      "[CV 4/10] END lr__C=10, lr__max_iter=100, lr__penalty=l2, lr__solver=saga, smote__sampling_strategy=0.9;, score=(train=0.934, test=0.931) total time=   6.9s\n",
      "[CV 5/10] END lr__C=10, lr__max_iter=100, lr__penalty=l2, lr__solver=saga, smote__sampling_strategy=0.9;, score=(train=0.932, test=0.934) total time=   6.6s\n",
      "[CV 6/10] END lr__C=10, lr__max_iter=100, lr__penalty=l2, lr__solver=saga, smote__sampling_strategy=0.9;, score=(train=0.933, test=0.934) total time=   7.5s\n",
      "[CV 7/10] END lr__C=10, lr__max_iter=100, lr__penalty=l2, lr__solver=saga, smote__sampling_strategy=0.9;, score=(train=0.932, test=0.929) total time=   5.6s\n",
      "[CV 8/10] END lr__C=10, lr__max_iter=100, lr__penalty=l2, lr__solver=saga, smote__sampling_strategy=0.9;, score=(train=0.932, test=0.931) total time=   7.6s\n",
      "[CV 9/10] END lr__C=10, lr__max_iter=100, lr__penalty=l2, lr__solver=saga, smote__sampling_strategy=0.9;, score=(train=0.933, test=0.932) total time=   5.4s\n",
      "[CV 10/10] END lr__C=10, lr__max_iter=100, lr__penalty=l2, lr__solver=saga, smote__sampling_strategy=0.9;, score=(train=0.933, test=0.931) total time=   6.9s\n",
      "[CV 1/10] END lr__C=10, lr__max_iter=500, lr__penalty=l2, lr__solver=saga, smote__sampling_strategy=0.9;, score=(train=0.931, test=0.932) total time=   8.3s\n",
      "[CV 2/10] END lr__C=10, lr__max_iter=500, lr__penalty=l2, lr__solver=saga, smote__sampling_strategy=0.9;, score=(train=0.932, test=0.928) total time=   6.8s\n",
      "[CV 3/10] END lr__C=10, lr__max_iter=500, lr__penalty=l2, lr__solver=saga, smote__sampling_strategy=0.9;, score=(train=0.933, test=0.932) total time=   7.4s\n",
      "[CV 4/10] END lr__C=10, lr__max_iter=500, lr__penalty=l2, lr__solver=saga, smote__sampling_strategy=0.9;, score=(train=0.934, test=0.931) total time=   7.0s\n",
      "[CV 5/10] END lr__C=10, lr__max_iter=500, lr__penalty=l2, lr__solver=saga, smote__sampling_strategy=0.9;, score=(train=0.933, test=0.934) total time=   6.4s\n",
      "[CV 6/10] END lr__C=10, lr__max_iter=500, lr__penalty=l2, lr__solver=saga, smote__sampling_strategy=0.9;, score=(train=0.933, test=0.934) total time=   7.6s\n",
      "[CV 7/10] END lr__C=10, lr__max_iter=500, lr__penalty=l2, lr__solver=saga, smote__sampling_strategy=0.9;, score=(train=0.932, test=0.929) total time=   5.6s\n",
      "[CV 8/10] END lr__C=10, lr__max_iter=500, lr__penalty=l2, lr__solver=saga, smote__sampling_strategy=0.9;, score=(train=0.932, test=0.931) total time=   7.9s\n",
      "[CV 9/10] END lr__C=10, lr__max_iter=500, lr__penalty=l2, lr__solver=saga, smote__sampling_strategy=0.9;, score=(train=0.933, test=0.932) total time=   5.3s\n",
      "[CV 10/10] END lr__C=10, lr__max_iter=500, lr__penalty=l2, lr__solver=saga, smote__sampling_strategy=0.9;, score=(train=0.933, test=0.931) total time=   6.6s\n",
      "[CV 1/10] END lr__C=10, lr__max_iter=100, lr__penalty=l2, lr__solver=liblinear, smote__sampling_strategy=0.9;, score=(train=0.931, test=0.932) total time=   2.3s\n",
      "[CV 2/10] END lr__C=10, lr__max_iter=100, lr__penalty=l2, lr__solver=liblinear, smote__sampling_strategy=0.9;, score=(train=0.932, test=0.929) total time=   2.3s\n",
      "[CV 3/10] END lr__C=10, lr__max_iter=100, lr__penalty=l2, lr__solver=liblinear, smote__sampling_strategy=0.9;, score=(train=0.933, test=0.932) total time=   2.3s\n",
      "[CV 4/10] END lr__C=10, lr__max_iter=100, lr__penalty=l2, lr__solver=liblinear, smote__sampling_strategy=0.9;, score=(train=0.934, test=0.931) total time=   2.3s\n",
      "[CV 5/10] END lr__C=10, lr__max_iter=100, lr__penalty=l2, lr__solver=liblinear, smote__sampling_strategy=0.9;, score=(train=0.932, test=0.934) total time=   2.2s\n",
      "[CV 6/10] END lr__C=10, lr__max_iter=100, lr__penalty=l2, lr__solver=liblinear, smote__sampling_strategy=0.9;, score=(train=0.933, test=0.934) total time=   2.2s\n",
      "[CV 7/10] END lr__C=10, lr__max_iter=100, lr__penalty=l2, lr__solver=liblinear, smote__sampling_strategy=0.9;, score=(train=0.932, test=0.930) total time=   2.1s\n",
      "[CV 8/10] END lr__C=10, lr__max_iter=100, lr__penalty=l2, lr__solver=liblinear, smote__sampling_strategy=0.9;, score=(train=0.932, test=0.931) total time=   2.2s\n",
      "[CV 9/10] END lr__C=10, lr__max_iter=100, lr__penalty=l2, lr__solver=liblinear, smote__sampling_strategy=0.9;, score=(train=0.933, test=0.932) total time=   2.1s\n",
      "[CV 10/10] END lr__C=10, lr__max_iter=100, lr__penalty=l2, lr__solver=liblinear, smote__sampling_strategy=0.9;, score=(train=0.933, test=0.931) total time=   2.1s\n",
      "[CV 1/10] END lr__C=10, lr__max_iter=500, lr__penalty=l2, lr__solver=liblinear, smote__sampling_strategy=0.9;, score=(train=0.931, test=0.932) total time=   2.3s\n",
      "[CV 2/10] END lr__C=10, lr__max_iter=500, lr__penalty=l2, lr__solver=liblinear, smote__sampling_strategy=0.9;, score=(train=0.932, test=0.929) total time=   2.2s\n",
      "[CV 3/10] END lr__C=10, lr__max_iter=500, lr__penalty=l2, lr__solver=liblinear, smote__sampling_strategy=0.9;, score=(train=0.933, test=0.932) total time=   2.3s\n",
      "[CV 4/10] END lr__C=10, lr__max_iter=500, lr__penalty=l2, lr__solver=liblinear, smote__sampling_strategy=0.9;, score=(train=0.934, test=0.931) total time=   2.2s\n",
      "[CV 5/10] END lr__C=10, lr__max_iter=500, lr__penalty=l2, lr__solver=liblinear, smote__sampling_strategy=0.9;, score=(train=0.932, test=0.934) total time=   2.1s\n",
      "[CV 6/10] END lr__C=10, lr__max_iter=500, lr__penalty=l2, lr__solver=liblinear, smote__sampling_strategy=0.9;, score=(train=0.933, test=0.934) total time=   2.2s\n",
      "[CV 7/10] END lr__C=10, lr__max_iter=500, lr__penalty=l2, lr__solver=liblinear, smote__sampling_strategy=0.9;, score=(train=0.932, test=0.930) total time=   2.1s\n",
      "[CV 8/10] END lr__C=10, lr__max_iter=500, lr__penalty=l2, lr__solver=liblinear, smote__sampling_strategy=0.9;, score=(train=0.932, test=0.931) total time=   2.2s\n",
      "[CV 9/10] END lr__C=10, lr__max_iter=500, lr__penalty=l2, lr__solver=liblinear, smote__sampling_strategy=0.9;, score=(train=0.933, test=0.932) total time=   2.1s\n",
      "[CV 10/10] END lr__C=10, lr__max_iter=500, lr__penalty=l2, lr__solver=liblinear, smote__sampling_strategy=0.9;, score=(train=0.933, test=0.931) total time=   2.2s\n"
     ]
    },
    {
     "name": "stderr",
     "output_type": "stream",
     "text": [
      "/opt/conda/lib/python3.7/site-packages/sklearn/linear_model/_logistic.py:818: ConvergenceWarning: lbfgs failed to converge (status=1):\n",
      "STOP: TOTAL NO. of ITERATIONS REACHED LIMIT.\n",
      "\n",
      "Increase the number of iterations (max_iter) or scale the data as shown in:\n",
      "    https://scikit-learn.org/stable/modules/preprocessing.html\n",
      "Please also refer to the documentation for alternative solver options:\n",
      "    https://scikit-learn.org/stable/modules/linear_model.html#logistic-regression\n",
      "  extra_warning_msg=_LOGISTIC_SOLVER_CONVERGENCE_MSG,\n"
     ]
    },
    {
     "name": "stdout",
     "output_type": "stream",
     "text": [
      "[CV 1/10] END lr__C=10, lr__max_iter=100, lr__penalty=l2, lr__solver=lbfgs, smote__sampling_strategy=0.9;, score=(train=0.931, test=0.931) total time=   1.6s\n"
     ]
    },
    {
     "name": "stderr",
     "output_type": "stream",
     "text": [
      "/opt/conda/lib/python3.7/site-packages/sklearn/linear_model/_logistic.py:818: ConvergenceWarning: lbfgs failed to converge (status=1):\n",
      "STOP: TOTAL NO. of ITERATIONS REACHED LIMIT.\n",
      "\n",
      "Increase the number of iterations (max_iter) or scale the data as shown in:\n",
      "    https://scikit-learn.org/stable/modules/preprocessing.html\n",
      "Please also refer to the documentation for alternative solver options:\n",
      "    https://scikit-learn.org/stable/modules/linear_model.html#logistic-regression\n",
      "  extra_warning_msg=_LOGISTIC_SOLVER_CONVERGENCE_MSG,\n"
     ]
    },
    {
     "name": "stdout",
     "output_type": "stream",
     "text": [
      "[CV 2/10] END lr__C=10, lr__max_iter=100, lr__penalty=l2, lr__solver=lbfgs, smote__sampling_strategy=0.9;, score=(train=0.932, test=0.928) total time=   1.7s\n"
     ]
    },
    {
     "name": "stderr",
     "output_type": "stream",
     "text": [
      "/opt/conda/lib/python3.7/site-packages/sklearn/linear_model/_logistic.py:818: ConvergenceWarning: lbfgs failed to converge (status=1):\n",
      "STOP: TOTAL NO. of ITERATIONS REACHED LIMIT.\n",
      "\n",
      "Increase the number of iterations (max_iter) or scale the data as shown in:\n",
      "    https://scikit-learn.org/stable/modules/preprocessing.html\n",
      "Please also refer to the documentation for alternative solver options:\n",
      "    https://scikit-learn.org/stable/modules/linear_model.html#logistic-regression\n",
      "  extra_warning_msg=_LOGISTIC_SOLVER_CONVERGENCE_MSG,\n"
     ]
    },
    {
     "name": "stdout",
     "output_type": "stream",
     "text": [
      "[CV 3/10] END lr__C=10, lr__max_iter=100, lr__penalty=l2, lr__solver=lbfgs, smote__sampling_strategy=0.9;, score=(train=0.933, test=0.933) total time=   1.7s\n"
     ]
    },
    {
     "name": "stderr",
     "output_type": "stream",
     "text": [
      "/opt/conda/lib/python3.7/site-packages/sklearn/linear_model/_logistic.py:818: ConvergenceWarning: lbfgs failed to converge (status=1):\n",
      "STOP: TOTAL NO. of ITERATIONS REACHED LIMIT.\n",
      "\n",
      "Increase the number of iterations (max_iter) or scale the data as shown in:\n",
      "    https://scikit-learn.org/stable/modules/preprocessing.html\n",
      "Please also refer to the documentation for alternative solver options:\n",
      "    https://scikit-learn.org/stable/modules/linear_model.html#logistic-regression\n",
      "  extra_warning_msg=_LOGISTIC_SOLVER_CONVERGENCE_MSG,\n"
     ]
    },
    {
     "name": "stdout",
     "output_type": "stream",
     "text": [
      "[CV 4/10] END lr__C=10, lr__max_iter=100, lr__penalty=l2, lr__solver=lbfgs, smote__sampling_strategy=0.9;, score=(train=0.934, test=0.931) total time=   1.6s\n"
     ]
    },
    {
     "name": "stderr",
     "output_type": "stream",
     "text": [
      "/opt/conda/lib/python3.7/site-packages/sklearn/linear_model/_logistic.py:818: ConvergenceWarning: lbfgs failed to converge (status=1):\n",
      "STOP: TOTAL NO. of ITERATIONS REACHED LIMIT.\n",
      "\n",
      "Increase the number of iterations (max_iter) or scale the data as shown in:\n",
      "    https://scikit-learn.org/stable/modules/preprocessing.html\n",
      "Please also refer to the documentation for alternative solver options:\n",
      "    https://scikit-learn.org/stable/modules/linear_model.html#logistic-regression\n",
      "  extra_warning_msg=_LOGISTIC_SOLVER_CONVERGENCE_MSG,\n"
     ]
    },
    {
     "name": "stdout",
     "output_type": "stream",
     "text": [
      "[CV 5/10] END lr__C=10, lr__max_iter=100, lr__penalty=l2, lr__solver=lbfgs, smote__sampling_strategy=0.9;, score=(train=0.932, test=0.934) total time=   1.6s\n"
     ]
    },
    {
     "name": "stderr",
     "output_type": "stream",
     "text": [
      "/opt/conda/lib/python3.7/site-packages/sklearn/linear_model/_logistic.py:818: ConvergenceWarning: lbfgs failed to converge (status=1):\n",
      "STOP: TOTAL NO. of ITERATIONS REACHED LIMIT.\n",
      "\n",
      "Increase the number of iterations (max_iter) or scale the data as shown in:\n",
      "    https://scikit-learn.org/stable/modules/preprocessing.html\n",
      "Please also refer to the documentation for alternative solver options:\n",
      "    https://scikit-learn.org/stable/modules/linear_model.html#logistic-regression\n",
      "  extra_warning_msg=_LOGISTIC_SOLVER_CONVERGENCE_MSG,\n"
     ]
    },
    {
     "name": "stdout",
     "output_type": "stream",
     "text": [
      "[CV 6/10] END lr__C=10, lr__max_iter=100, lr__penalty=l2, lr__solver=lbfgs, smote__sampling_strategy=0.9;, score=(train=0.933, test=0.933) total time=   1.6s\n"
     ]
    },
    {
     "name": "stderr",
     "output_type": "stream",
     "text": [
      "/opt/conda/lib/python3.7/site-packages/sklearn/linear_model/_logistic.py:818: ConvergenceWarning: lbfgs failed to converge (status=1):\n",
      "STOP: TOTAL NO. of ITERATIONS REACHED LIMIT.\n",
      "\n",
      "Increase the number of iterations (max_iter) or scale the data as shown in:\n",
      "    https://scikit-learn.org/stable/modules/preprocessing.html\n",
      "Please also refer to the documentation for alternative solver options:\n",
      "    https://scikit-learn.org/stable/modules/linear_model.html#logistic-regression\n",
      "  extra_warning_msg=_LOGISTIC_SOLVER_CONVERGENCE_MSG,\n"
     ]
    },
    {
     "name": "stdout",
     "output_type": "stream",
     "text": [
      "[CV 7/10] END lr__C=10, lr__max_iter=100, lr__penalty=l2, lr__solver=lbfgs, smote__sampling_strategy=0.9;, score=(train=0.932, test=0.930) total time=   1.7s\n"
     ]
    },
    {
     "name": "stderr",
     "output_type": "stream",
     "text": [
      "/opt/conda/lib/python3.7/site-packages/sklearn/linear_model/_logistic.py:818: ConvergenceWarning: lbfgs failed to converge (status=1):\n",
      "STOP: TOTAL NO. of ITERATIONS REACHED LIMIT.\n",
      "\n",
      "Increase the number of iterations (max_iter) or scale the data as shown in:\n",
      "    https://scikit-learn.org/stable/modules/preprocessing.html\n",
      "Please also refer to the documentation for alternative solver options:\n",
      "    https://scikit-learn.org/stable/modules/linear_model.html#logistic-regression\n",
      "  extra_warning_msg=_LOGISTIC_SOLVER_CONVERGENCE_MSG,\n"
     ]
    },
    {
     "name": "stdout",
     "output_type": "stream",
     "text": [
      "[CV 8/10] END lr__C=10, lr__max_iter=100, lr__penalty=l2, lr__solver=lbfgs, smote__sampling_strategy=0.9;, score=(train=0.932, test=0.931) total time=   1.5s\n"
     ]
    },
    {
     "name": "stderr",
     "output_type": "stream",
     "text": [
      "/opt/conda/lib/python3.7/site-packages/sklearn/linear_model/_logistic.py:818: ConvergenceWarning: lbfgs failed to converge (status=1):\n",
      "STOP: TOTAL NO. of ITERATIONS REACHED LIMIT.\n",
      "\n",
      "Increase the number of iterations (max_iter) or scale the data as shown in:\n",
      "    https://scikit-learn.org/stable/modules/preprocessing.html\n",
      "Please also refer to the documentation for alternative solver options:\n",
      "    https://scikit-learn.org/stable/modules/linear_model.html#logistic-regression\n",
      "  extra_warning_msg=_LOGISTIC_SOLVER_CONVERGENCE_MSG,\n"
     ]
    },
    {
     "name": "stdout",
     "output_type": "stream",
     "text": [
      "[CV 9/10] END lr__C=10, lr__max_iter=100, lr__penalty=l2, lr__solver=lbfgs, smote__sampling_strategy=0.9;, score=(train=0.933, test=0.932) total time=   1.7s\n"
     ]
    },
    {
     "name": "stderr",
     "output_type": "stream",
     "text": [
      "/opt/conda/lib/python3.7/site-packages/sklearn/linear_model/_logistic.py:818: ConvergenceWarning: lbfgs failed to converge (status=1):\n",
      "STOP: TOTAL NO. of ITERATIONS REACHED LIMIT.\n",
      "\n",
      "Increase the number of iterations (max_iter) or scale the data as shown in:\n",
      "    https://scikit-learn.org/stable/modules/preprocessing.html\n",
      "Please also refer to the documentation for alternative solver options:\n",
      "    https://scikit-learn.org/stable/modules/linear_model.html#logistic-regression\n",
      "  extra_warning_msg=_LOGISTIC_SOLVER_CONVERGENCE_MSG,\n"
     ]
    },
    {
     "name": "stdout",
     "output_type": "stream",
     "text": [
      "[CV 10/10] END lr__C=10, lr__max_iter=100, lr__penalty=l2, lr__solver=lbfgs, smote__sampling_strategy=0.9;, score=(train=0.933, test=0.931) total time=   1.6s\n"
     ]
    },
    {
     "name": "stderr",
     "output_type": "stream",
     "text": [
      "/opt/conda/lib/python3.7/site-packages/sklearn/linear_model/_logistic.py:818: ConvergenceWarning: lbfgs failed to converge (status=1):\n",
      "STOP: TOTAL NO. of ITERATIONS REACHED LIMIT.\n",
      "\n",
      "Increase the number of iterations (max_iter) or scale the data as shown in:\n",
      "    https://scikit-learn.org/stable/modules/preprocessing.html\n",
      "Please also refer to the documentation for alternative solver options:\n",
      "    https://scikit-learn.org/stable/modules/linear_model.html#logistic-regression\n",
      "  extra_warning_msg=_LOGISTIC_SOLVER_CONVERGENCE_MSG,\n"
     ]
    },
    {
     "name": "stdout",
     "output_type": "stream",
     "text": [
      "[CV 1/10] END lr__C=10, lr__max_iter=100, lr__penalty=l2, lr__solver=lbfgs, smote__sampling_strategy=0.8;, score=(train=0.932, test=0.932) total time=   1.6s\n"
     ]
    },
    {
     "name": "stderr",
     "output_type": "stream",
     "text": [
      "/opt/conda/lib/python3.7/site-packages/sklearn/linear_model/_logistic.py:818: ConvergenceWarning: lbfgs failed to converge (status=1):\n",
      "STOP: TOTAL NO. of ITERATIONS REACHED LIMIT.\n",
      "\n",
      "Increase the number of iterations (max_iter) or scale the data as shown in:\n",
      "    https://scikit-learn.org/stable/modules/preprocessing.html\n",
      "Please also refer to the documentation for alternative solver options:\n",
      "    https://scikit-learn.org/stable/modules/linear_model.html#logistic-regression\n",
      "  extra_warning_msg=_LOGISTIC_SOLVER_CONVERGENCE_MSG,\n"
     ]
    },
    {
     "name": "stdout",
     "output_type": "stream",
     "text": [
      "[CV 2/10] END lr__C=10, lr__max_iter=100, lr__penalty=l2, lr__solver=lbfgs, smote__sampling_strategy=0.8;, score=(train=0.931, test=0.929) total time=   1.7s\n"
     ]
    },
    {
     "name": "stderr",
     "output_type": "stream",
     "text": [
      "/opt/conda/lib/python3.7/site-packages/sklearn/linear_model/_logistic.py:818: ConvergenceWarning: lbfgs failed to converge (status=1):\n",
      "STOP: TOTAL NO. of ITERATIONS REACHED LIMIT.\n",
      "\n",
      "Increase the number of iterations (max_iter) or scale the data as shown in:\n",
      "    https://scikit-learn.org/stable/modules/preprocessing.html\n",
      "Please also refer to the documentation for alternative solver options:\n",
      "    https://scikit-learn.org/stable/modules/linear_model.html#logistic-regression\n",
      "  extra_warning_msg=_LOGISTIC_SOLVER_CONVERGENCE_MSG,\n"
     ]
    },
    {
     "name": "stdout",
     "output_type": "stream",
     "text": [
      "[CV 3/10] END lr__C=10, lr__max_iter=100, lr__penalty=l2, lr__solver=lbfgs, smote__sampling_strategy=0.8;, score=(train=0.934, test=0.932) total time=   1.7s\n"
     ]
    },
    {
     "name": "stderr",
     "output_type": "stream",
     "text": [
      "/opt/conda/lib/python3.7/site-packages/sklearn/linear_model/_logistic.py:818: ConvergenceWarning: lbfgs failed to converge (status=1):\n",
      "STOP: TOTAL NO. of ITERATIONS REACHED LIMIT.\n",
      "\n",
      "Increase the number of iterations (max_iter) or scale the data as shown in:\n",
      "    https://scikit-learn.org/stable/modules/preprocessing.html\n",
      "Please also refer to the documentation for alternative solver options:\n",
      "    https://scikit-learn.org/stable/modules/linear_model.html#logistic-regression\n",
      "  extra_warning_msg=_LOGISTIC_SOLVER_CONVERGENCE_MSG,\n"
     ]
    },
    {
     "name": "stdout",
     "output_type": "stream",
     "text": [
      "[CV 4/10] END lr__C=10, lr__max_iter=100, lr__penalty=l2, lr__solver=lbfgs, smote__sampling_strategy=0.8;, score=(train=0.935, test=0.931) total time=   1.6s\n"
     ]
    },
    {
     "name": "stderr",
     "output_type": "stream",
     "text": [
      "/opt/conda/lib/python3.7/site-packages/sklearn/linear_model/_logistic.py:818: ConvergenceWarning: lbfgs failed to converge (status=1):\n",
      "STOP: TOTAL NO. of ITERATIONS REACHED LIMIT.\n",
      "\n",
      "Increase the number of iterations (max_iter) or scale the data as shown in:\n",
      "    https://scikit-learn.org/stable/modules/preprocessing.html\n",
      "Please also refer to the documentation for alternative solver options:\n",
      "    https://scikit-learn.org/stable/modules/linear_model.html#logistic-regression\n",
      "  extra_warning_msg=_LOGISTIC_SOLVER_CONVERGENCE_MSG,\n"
     ]
    },
    {
     "name": "stdout",
     "output_type": "stream",
     "text": [
      "[CV 5/10] END lr__C=10, lr__max_iter=100, lr__penalty=l2, lr__solver=lbfgs, smote__sampling_strategy=0.8;, score=(train=0.932, test=0.934) total time=   1.6s\n"
     ]
    },
    {
     "name": "stderr",
     "output_type": "stream",
     "text": [
      "/opt/conda/lib/python3.7/site-packages/sklearn/linear_model/_logistic.py:818: ConvergenceWarning: lbfgs failed to converge (status=1):\n",
      "STOP: TOTAL NO. of ITERATIONS REACHED LIMIT.\n",
      "\n",
      "Increase the number of iterations (max_iter) or scale the data as shown in:\n",
      "    https://scikit-learn.org/stable/modules/preprocessing.html\n",
      "Please also refer to the documentation for alternative solver options:\n",
      "    https://scikit-learn.org/stable/modules/linear_model.html#logistic-regression\n",
      "  extra_warning_msg=_LOGISTIC_SOLVER_CONVERGENCE_MSG,\n"
     ]
    },
    {
     "name": "stdout",
     "output_type": "stream",
     "text": [
      "[CV 6/10] END lr__C=10, lr__max_iter=100, lr__penalty=l2, lr__solver=lbfgs, smote__sampling_strategy=0.8;, score=(train=0.933, test=0.934) total time=   1.5s\n"
     ]
    },
    {
     "name": "stderr",
     "output_type": "stream",
     "text": [
      "/opt/conda/lib/python3.7/site-packages/sklearn/linear_model/_logistic.py:818: ConvergenceWarning: lbfgs failed to converge (status=1):\n",
      "STOP: TOTAL NO. of ITERATIONS REACHED LIMIT.\n",
      "\n",
      "Increase the number of iterations (max_iter) or scale the data as shown in:\n",
      "    https://scikit-learn.org/stable/modules/preprocessing.html\n",
      "Please also refer to the documentation for alternative solver options:\n",
      "    https://scikit-learn.org/stable/modules/linear_model.html#logistic-regression\n",
      "  extra_warning_msg=_LOGISTIC_SOLVER_CONVERGENCE_MSG,\n"
     ]
    },
    {
     "name": "stdout",
     "output_type": "stream",
     "text": [
      "[CV 7/10] END lr__C=10, lr__max_iter=100, lr__penalty=l2, lr__solver=lbfgs, smote__sampling_strategy=0.8;, score=(train=0.932, test=0.930) total time=   1.6s\n"
     ]
    },
    {
     "name": "stderr",
     "output_type": "stream",
     "text": [
      "/opt/conda/lib/python3.7/site-packages/sklearn/linear_model/_logistic.py:818: ConvergenceWarning: lbfgs failed to converge (status=1):\n",
      "STOP: TOTAL NO. of ITERATIONS REACHED LIMIT.\n",
      "\n",
      "Increase the number of iterations (max_iter) or scale the data as shown in:\n",
      "    https://scikit-learn.org/stable/modules/preprocessing.html\n",
      "Please also refer to the documentation for alternative solver options:\n",
      "    https://scikit-learn.org/stable/modules/linear_model.html#logistic-regression\n",
      "  extra_warning_msg=_LOGISTIC_SOLVER_CONVERGENCE_MSG,\n"
     ]
    },
    {
     "name": "stdout",
     "output_type": "stream",
     "text": [
      "[CV 8/10] END lr__C=10, lr__max_iter=100, lr__penalty=l2, lr__solver=lbfgs, smote__sampling_strategy=0.8;, score=(train=0.932, test=0.930) total time=   1.9s\n"
     ]
    },
    {
     "name": "stderr",
     "output_type": "stream",
     "text": [
      "/opt/conda/lib/python3.7/site-packages/sklearn/linear_model/_logistic.py:818: ConvergenceWarning: lbfgs failed to converge (status=1):\n",
      "STOP: TOTAL NO. of ITERATIONS REACHED LIMIT.\n",
      "\n",
      "Increase the number of iterations (max_iter) or scale the data as shown in:\n",
      "    https://scikit-learn.org/stable/modules/preprocessing.html\n",
      "Please also refer to the documentation for alternative solver options:\n",
      "    https://scikit-learn.org/stable/modules/linear_model.html#logistic-regression\n",
      "  extra_warning_msg=_LOGISTIC_SOLVER_CONVERGENCE_MSG,\n"
     ]
    },
    {
     "name": "stdout",
     "output_type": "stream",
     "text": [
      "[CV 9/10] END lr__C=10, lr__max_iter=100, lr__penalty=l2, lr__solver=lbfgs, smote__sampling_strategy=0.8;, score=(train=0.933, test=0.932) total time=   1.6s\n"
     ]
    },
    {
     "name": "stderr",
     "output_type": "stream",
     "text": [
      "/opt/conda/lib/python3.7/site-packages/sklearn/linear_model/_logistic.py:818: ConvergenceWarning: lbfgs failed to converge (status=1):\n",
      "STOP: TOTAL NO. of ITERATIONS REACHED LIMIT.\n",
      "\n",
      "Increase the number of iterations (max_iter) or scale the data as shown in:\n",
      "    https://scikit-learn.org/stable/modules/preprocessing.html\n",
      "Please also refer to the documentation for alternative solver options:\n",
      "    https://scikit-learn.org/stable/modules/linear_model.html#logistic-regression\n",
      "  extra_warning_msg=_LOGISTIC_SOLVER_CONVERGENCE_MSG,\n"
     ]
    },
    {
     "name": "stdout",
     "output_type": "stream",
     "text": [
      "[CV 10/10] END lr__C=10, lr__max_iter=100, lr__penalty=l2, lr__solver=lbfgs, smote__sampling_strategy=0.8;, score=(train=0.933, test=0.930) total time=   1.6s\n"
     ]
    },
    {
     "name": "stderr",
     "output_type": "stream",
     "text": [
      "/opt/conda/lib/python3.7/site-packages/sklearn/linear_model/_logistic.py:818: ConvergenceWarning: lbfgs failed to converge (status=1):\n",
      "STOP: TOTAL NO. of ITERATIONS REACHED LIMIT.\n",
      "\n",
      "Increase the number of iterations (max_iter) or scale the data as shown in:\n",
      "    https://scikit-learn.org/stable/modules/preprocessing.html\n",
      "Please also refer to the documentation for alternative solver options:\n",
      "    https://scikit-learn.org/stable/modules/linear_model.html#logistic-regression\n",
      "  extra_warning_msg=_LOGISTIC_SOLVER_CONVERGENCE_MSG,\n"
     ]
    },
    {
     "name": "stdout",
     "output_type": "stream",
     "text": [
      "[CV 1/10] END lr__C=100, lr__max_iter=100, lr__penalty=l2, lr__solver=lbfgs, smote__sampling_strategy=1.0;, score=(train=0.931, test=0.931) total time=   1.7s\n"
     ]
    },
    {
     "name": "stderr",
     "output_type": "stream",
     "text": [
      "/opt/conda/lib/python3.7/site-packages/sklearn/linear_model/_logistic.py:818: ConvergenceWarning: lbfgs failed to converge (status=1):\n",
      "STOP: TOTAL NO. of ITERATIONS REACHED LIMIT.\n",
      "\n",
      "Increase the number of iterations (max_iter) or scale the data as shown in:\n",
      "    https://scikit-learn.org/stable/modules/preprocessing.html\n",
      "Please also refer to the documentation for alternative solver options:\n",
      "    https://scikit-learn.org/stable/modules/linear_model.html#logistic-regression\n",
      "  extra_warning_msg=_LOGISTIC_SOLVER_CONVERGENCE_MSG,\n"
     ]
    },
    {
     "name": "stdout",
     "output_type": "stream",
     "text": [
      "[CV 2/10] END lr__C=100, lr__max_iter=100, lr__penalty=l2, lr__solver=lbfgs, smote__sampling_strategy=1.0;, score=(train=0.932, test=0.928) total time=   1.8s\n"
     ]
    },
    {
     "name": "stderr",
     "output_type": "stream",
     "text": [
      "/opt/conda/lib/python3.7/site-packages/sklearn/linear_model/_logistic.py:818: ConvergenceWarning: lbfgs failed to converge (status=1):\n",
      "STOP: TOTAL NO. of ITERATIONS REACHED LIMIT.\n",
      "\n",
      "Increase the number of iterations (max_iter) or scale the data as shown in:\n",
      "    https://scikit-learn.org/stable/modules/preprocessing.html\n",
      "Please also refer to the documentation for alternative solver options:\n",
      "    https://scikit-learn.org/stable/modules/linear_model.html#logistic-regression\n",
      "  extra_warning_msg=_LOGISTIC_SOLVER_CONVERGENCE_MSG,\n"
     ]
    },
    {
     "name": "stdout",
     "output_type": "stream",
     "text": [
      "[CV 3/10] END lr__C=100, lr__max_iter=100, lr__penalty=l2, lr__solver=lbfgs, smote__sampling_strategy=1.0;, score=(train=0.933, test=0.932) total time=   1.7s\n"
     ]
    },
    {
     "name": "stderr",
     "output_type": "stream",
     "text": [
      "/opt/conda/lib/python3.7/site-packages/sklearn/linear_model/_logistic.py:818: ConvergenceWarning: lbfgs failed to converge (status=1):\n",
      "STOP: TOTAL NO. of ITERATIONS REACHED LIMIT.\n",
      "\n",
      "Increase the number of iterations (max_iter) or scale the data as shown in:\n",
      "    https://scikit-learn.org/stable/modules/preprocessing.html\n",
      "Please also refer to the documentation for alternative solver options:\n",
      "    https://scikit-learn.org/stable/modules/linear_model.html#logistic-regression\n",
      "  extra_warning_msg=_LOGISTIC_SOLVER_CONVERGENCE_MSG,\n"
     ]
    },
    {
     "name": "stdout",
     "output_type": "stream",
     "text": [
      "[CV 4/10] END lr__C=100, lr__max_iter=100, lr__penalty=l2, lr__solver=lbfgs, smote__sampling_strategy=1.0;, score=(train=0.934, test=0.931) total time=   1.6s\n"
     ]
    },
    {
     "name": "stderr",
     "output_type": "stream",
     "text": [
      "/opt/conda/lib/python3.7/site-packages/sklearn/linear_model/_logistic.py:818: ConvergenceWarning: lbfgs failed to converge (status=1):\n",
      "STOP: TOTAL NO. of ITERATIONS REACHED LIMIT.\n",
      "\n",
      "Increase the number of iterations (max_iter) or scale the data as shown in:\n",
      "    https://scikit-learn.org/stable/modules/preprocessing.html\n",
      "Please also refer to the documentation for alternative solver options:\n",
      "    https://scikit-learn.org/stable/modules/linear_model.html#logistic-regression\n",
      "  extra_warning_msg=_LOGISTIC_SOLVER_CONVERGENCE_MSG,\n"
     ]
    },
    {
     "name": "stdout",
     "output_type": "stream",
     "text": [
      "[CV 5/10] END lr__C=100, lr__max_iter=100, lr__penalty=l2, lr__solver=lbfgs, smote__sampling_strategy=1.0;, score=(train=0.932, test=0.933) total time=   1.7s\n"
     ]
    },
    {
     "name": "stderr",
     "output_type": "stream",
     "text": [
      "/opt/conda/lib/python3.7/site-packages/sklearn/linear_model/_logistic.py:818: ConvergenceWarning: lbfgs failed to converge (status=1):\n",
      "STOP: TOTAL NO. of ITERATIONS REACHED LIMIT.\n",
      "\n",
      "Increase the number of iterations (max_iter) or scale the data as shown in:\n",
      "    https://scikit-learn.org/stable/modules/preprocessing.html\n",
      "Please also refer to the documentation for alternative solver options:\n",
      "    https://scikit-learn.org/stable/modules/linear_model.html#logistic-regression\n",
      "  extra_warning_msg=_LOGISTIC_SOLVER_CONVERGENCE_MSG,\n"
     ]
    },
    {
     "name": "stdout",
     "output_type": "stream",
     "text": [
      "[CV 6/10] END lr__C=100, lr__max_iter=100, lr__penalty=l2, lr__solver=lbfgs, smote__sampling_strategy=1.0;, score=(train=0.933, test=0.934) total time=   1.7s\n"
     ]
    },
    {
     "name": "stderr",
     "output_type": "stream",
     "text": [
      "/opt/conda/lib/python3.7/site-packages/sklearn/linear_model/_logistic.py:818: ConvergenceWarning: lbfgs failed to converge (status=1):\n",
      "STOP: TOTAL NO. of ITERATIONS REACHED LIMIT.\n",
      "\n",
      "Increase the number of iterations (max_iter) or scale the data as shown in:\n",
      "    https://scikit-learn.org/stable/modules/preprocessing.html\n",
      "Please also refer to the documentation for alternative solver options:\n",
      "    https://scikit-learn.org/stable/modules/linear_model.html#logistic-regression\n",
      "  extra_warning_msg=_LOGISTIC_SOLVER_CONVERGENCE_MSG,\n"
     ]
    },
    {
     "name": "stdout",
     "output_type": "stream",
     "text": [
      "[CV 7/10] END lr__C=100, lr__max_iter=100, lr__penalty=l2, lr__solver=lbfgs, smote__sampling_strategy=1.0;, score=(train=0.932, test=0.931) total time=   1.7s\n"
     ]
    },
    {
     "name": "stderr",
     "output_type": "stream",
     "text": [
      "/opt/conda/lib/python3.7/site-packages/sklearn/linear_model/_logistic.py:818: ConvergenceWarning: lbfgs failed to converge (status=1):\n",
      "STOP: TOTAL NO. of ITERATIONS REACHED LIMIT.\n",
      "\n",
      "Increase the number of iterations (max_iter) or scale the data as shown in:\n",
      "    https://scikit-learn.org/stable/modules/preprocessing.html\n",
      "Please also refer to the documentation for alternative solver options:\n",
      "    https://scikit-learn.org/stable/modules/linear_model.html#logistic-regression\n",
      "  extra_warning_msg=_LOGISTIC_SOLVER_CONVERGENCE_MSG,\n"
     ]
    },
    {
     "name": "stdout",
     "output_type": "stream",
     "text": [
      "[CV 8/10] END lr__C=100, lr__max_iter=100, lr__penalty=l2, lr__solver=lbfgs, smote__sampling_strategy=1.0;, score=(train=0.933, test=0.930) total time=   1.7s\n"
     ]
    },
    {
     "name": "stderr",
     "output_type": "stream",
     "text": [
      "/opt/conda/lib/python3.7/site-packages/sklearn/linear_model/_logistic.py:818: ConvergenceWarning: lbfgs failed to converge (status=1):\n",
      "STOP: TOTAL NO. of ITERATIONS REACHED LIMIT.\n",
      "\n",
      "Increase the number of iterations (max_iter) or scale the data as shown in:\n",
      "    https://scikit-learn.org/stable/modules/preprocessing.html\n",
      "Please also refer to the documentation for alternative solver options:\n",
      "    https://scikit-learn.org/stable/modules/linear_model.html#logistic-regression\n",
      "  extra_warning_msg=_LOGISTIC_SOLVER_CONVERGENCE_MSG,\n"
     ]
    },
    {
     "name": "stdout",
     "output_type": "stream",
     "text": [
      "[CV 9/10] END lr__C=100, lr__max_iter=100, lr__penalty=l2, lr__solver=lbfgs, smote__sampling_strategy=1.0;, score=(train=0.932, test=0.931) total time=   1.7s\n"
     ]
    },
    {
     "name": "stderr",
     "output_type": "stream",
     "text": [
      "/opt/conda/lib/python3.7/site-packages/sklearn/linear_model/_logistic.py:818: ConvergenceWarning: lbfgs failed to converge (status=1):\n",
      "STOP: TOTAL NO. of ITERATIONS REACHED LIMIT.\n",
      "\n",
      "Increase the number of iterations (max_iter) or scale the data as shown in:\n",
      "    https://scikit-learn.org/stable/modules/preprocessing.html\n",
      "Please also refer to the documentation for alternative solver options:\n",
      "    https://scikit-learn.org/stable/modules/linear_model.html#logistic-regression\n",
      "  extra_warning_msg=_LOGISTIC_SOLVER_CONVERGENCE_MSG,\n"
     ]
    },
    {
     "name": "stdout",
     "output_type": "stream",
     "text": [
      "[CV 10/10] END lr__C=100, lr__max_iter=100, lr__penalty=l2, lr__solver=lbfgs, smote__sampling_strategy=1.0;, score=(train=0.932, test=0.930) total time=   1.6s\n",
      "[CV 1/10] END lr__C=100, lr__max_iter=500, lr__penalty=l2, lr__solver=saga, smote__sampling_strategy=1.0;, score=(train=0.931, test=0.932) total time=  20.7s\n",
      "[CV 2/10] END lr__C=100, lr__max_iter=500, lr__penalty=l2, lr__solver=saga, smote__sampling_strategy=1.0;, score=(train=0.933, test=0.928) total time=  13.0s\n",
      "[CV 3/10] END lr__C=100, lr__max_iter=500, lr__penalty=l2, lr__solver=saga, smote__sampling_strategy=1.0;, score=(train=0.933, test=0.932) total time=  21.1s\n",
      "[CV 4/10] END lr__C=100, lr__max_iter=500, lr__penalty=l2, lr__solver=saga, smote__sampling_strategy=1.0;, score=(train=0.935, test=0.930) total time=  11.7s\n",
      "[CV 5/10] END lr__C=100, lr__max_iter=500, lr__penalty=l2, lr__solver=saga, smote__sampling_strategy=1.0;, score=(train=0.933, test=0.934) total time=  12.2s\n",
      "[CV 6/10] END lr__C=100, lr__max_iter=500, lr__penalty=l2, lr__solver=saga, smote__sampling_strategy=1.0;, score=(train=0.933, test=0.933) total time=   9.8s\n",
      "[CV 7/10] END lr__C=100, lr__max_iter=500, lr__penalty=l2, lr__solver=saga, smote__sampling_strategy=1.0;, score=(train=0.932, test=0.930) total time=   9.7s\n",
      "[CV 8/10] END lr__C=100, lr__max_iter=500, lr__penalty=l2, lr__solver=saga, smote__sampling_strategy=1.0;, score=(train=0.933, test=0.930) total time=  20.0s\n",
      "[CV 9/10] END lr__C=100, lr__max_iter=500, lr__penalty=l2, lr__solver=saga, smote__sampling_strategy=1.0;, score=(train=0.933, test=0.931) total time=  15.3s\n",
      "[CV 10/10] END lr__C=100, lr__max_iter=500, lr__penalty=l2, lr__solver=saga, smote__sampling_strategy=1.0;, score=(train=0.932, test=0.930) total time=  17.0s\n",
      "[CV 1/10] END lr__C=100, lr__max_iter=500, lr__penalty=l2, lr__solver=sag, smote__sampling_strategy=1.0;, score=(train=0.931, test=0.932) total time=  13.4s\n",
      "[CV 2/10] END lr__C=100, lr__max_iter=500, lr__penalty=l2, lr__solver=sag, smote__sampling_strategy=1.0;, score=(train=0.933, test=0.928) total time=   9.1s\n",
      "[CV 3/10] END lr__C=100, lr__max_iter=500, lr__penalty=l2, lr__solver=sag, smote__sampling_strategy=1.0;, score=(train=0.933, test=0.932) total time=  15.7s\n",
      "[CV 4/10] END lr__C=100, lr__max_iter=500, lr__penalty=l2, lr__solver=sag, smote__sampling_strategy=1.0;, score=(train=0.935, test=0.930) total time=   9.0s\n",
      "[CV 5/10] END lr__C=100, lr__max_iter=500, lr__penalty=l2, lr__solver=sag, smote__sampling_strategy=1.0;, score=(train=0.933, test=0.934) total time=  10.2s\n",
      "[CV 6/10] END lr__C=100, lr__max_iter=500, lr__penalty=l2, lr__solver=sag, smote__sampling_strategy=1.0;, score=(train=0.933, test=0.933) total time=   7.7s\n",
      "[CV 7/10] END lr__C=100, lr__max_iter=500, lr__penalty=l2, lr__solver=sag, smote__sampling_strategy=1.0;, score=(train=0.932, test=0.930) total time=   8.3s\n",
      "[CV 8/10] END lr__C=100, lr__max_iter=500, lr__penalty=l2, lr__solver=sag, smote__sampling_strategy=1.0;, score=(train=0.933, test=0.930) total time=  13.4s\n",
      "[CV 9/10] END lr__C=100, lr__max_iter=500, lr__penalty=l2, lr__solver=sag, smote__sampling_strategy=1.0;, score=(train=0.933, test=0.931) total time=  12.2s\n",
      "[CV 10/10] END lr__C=100, lr__max_iter=500, lr__penalty=l2, lr__solver=sag, smote__sampling_strategy=1.0;, score=(train=0.932, test=0.930) total time=  12.2s\n",
      "[CV 1/10] END lr__C=100, lr__max_iter=500, lr__penalty=l2, lr__solver=liblinear, smote__sampling_strategy=1.0;, score=(train=0.931, test=0.932) total time=   2.8s\n",
      "[CV 2/10] END lr__C=100, lr__max_iter=500, lr__penalty=l2, lr__solver=liblinear, smote__sampling_strategy=1.0;, score=(train=0.933, test=0.928) total time=   3.0s\n",
      "[CV 3/10] END lr__C=100, lr__max_iter=500, lr__penalty=l2, lr__solver=liblinear, smote__sampling_strategy=1.0;, score=(train=0.933, test=0.932) total time=   3.2s\n",
      "[CV 4/10] END lr__C=100, lr__max_iter=500, lr__penalty=l2, lr__solver=liblinear, smote__sampling_strategy=1.0;, score=(train=0.935, test=0.930) total time=   2.9s\n",
      "[CV 5/10] END lr__C=100, lr__max_iter=500, lr__penalty=l2, lr__solver=liblinear, smote__sampling_strategy=1.0;, score=(train=0.933, test=0.934) total time=   3.1s\n",
      "[CV 6/10] END lr__C=100, lr__max_iter=500, lr__penalty=l2, lr__solver=liblinear, smote__sampling_strategy=1.0;, score=(train=0.933, test=0.933) total time=   2.9s\n",
      "[CV 7/10] END lr__C=100, lr__max_iter=500, lr__penalty=l2, lr__solver=liblinear, smote__sampling_strategy=1.0;, score=(train=0.932, test=0.930) total time=   2.4s\n",
      "[CV 8/10] END lr__C=100, lr__max_iter=500, lr__penalty=l2, lr__solver=liblinear, smote__sampling_strategy=1.0;, score=(train=0.933, test=0.930) total time=   2.9s\n",
      "[CV 9/10] END lr__C=100, lr__max_iter=500, lr__penalty=l2, lr__solver=liblinear, smote__sampling_strategy=1.0;, score=(train=0.933, test=0.931) total time=   3.1s\n",
      "[CV 10/10] END lr__C=100, lr__max_iter=500, lr__penalty=l2, lr__solver=liblinear, smote__sampling_strategy=1.0;, score=(train=0.932, test=0.930) total time=   3.0s\n",
      "[CV 1/10] END lr__C=100, lr__max_iter=500, lr__penalty=l2, lr__solver=newton-cg, smote__sampling_strategy=1.0;, score=(train=0.931, test=0.932) total time=   5.9s\n",
      "[CV 2/10] END lr__C=100, lr__max_iter=500, lr__penalty=l2, lr__solver=newton-cg, smote__sampling_strategy=1.0;, score=(train=0.933, test=0.928) total time=   5.8s\n",
      "[CV 3/10] END lr__C=100, lr__max_iter=500, lr__penalty=l2, lr__solver=newton-cg, smote__sampling_strategy=1.0;, score=(train=0.933, test=0.932) total time=   6.8s\n",
      "[CV 4/10] END lr__C=100, lr__max_iter=500, lr__penalty=l2, lr__solver=newton-cg, smote__sampling_strategy=1.0;, score=(train=0.935, test=0.930) total time=   6.3s\n",
      "[CV 5/10] END lr__C=100, lr__max_iter=500, lr__penalty=l2, lr__solver=newton-cg, smote__sampling_strategy=1.0;, score=(train=0.933, test=0.934) total time=   6.0s\n",
      "[CV 6/10] END lr__C=100, lr__max_iter=500, lr__penalty=l2, lr__solver=newton-cg, smote__sampling_strategy=1.0;, score=(train=0.933, test=0.933) total time=   7.2s\n",
      "[CV 7/10] END lr__C=100, lr__max_iter=500, lr__penalty=l2, lr__solver=newton-cg, smote__sampling_strategy=1.0;, score=(train=0.932, test=0.930) total time=   6.1s\n",
      "[CV 8/10] END lr__C=100, lr__max_iter=500, lr__penalty=l2, lr__solver=newton-cg, smote__sampling_strategy=1.0;, score=(train=0.933, test=0.930) total time=   5.9s\n",
      "[CV 9/10] END lr__C=100, lr__max_iter=500, lr__penalty=l2, lr__solver=newton-cg, smote__sampling_strategy=1.0;, score=(train=0.933, test=0.931) total time=   5.2s\n",
      "[CV 10/10] END lr__C=100, lr__max_iter=500, lr__penalty=l2, lr__solver=newton-cg, smote__sampling_strategy=1.0;, score=(train=0.932, test=0.930) total time=   5.5s\n",
      "[CV 1/10] END lr__C=100, lr__max_iter=100, lr__penalty=l2, lr__solver=newton-cg, smote__sampling_strategy=1.0;, score=(train=0.931, test=0.932) total time=   5.6s\n",
      "[CV 2/10] END lr__C=100, lr__max_iter=100, lr__penalty=l2, lr__solver=newton-cg, smote__sampling_strategy=1.0;, score=(train=0.933, test=0.928) total time=   5.7s\n",
      "[CV 3/10] END lr__C=100, lr__max_iter=100, lr__penalty=l2, lr__solver=newton-cg, smote__sampling_strategy=1.0;, score=(train=0.933, test=0.932) total time=   6.4s\n",
      "[CV 4/10] END lr__C=100, lr__max_iter=100, lr__penalty=l2, lr__solver=newton-cg, smote__sampling_strategy=1.0;, score=(train=0.935, test=0.930) total time=   5.9s\n",
      "[CV 5/10] END lr__C=100, lr__max_iter=100, lr__penalty=l2, lr__solver=newton-cg, smote__sampling_strategy=1.0;, score=(train=0.933, test=0.934) total time=   6.0s\n",
      "[CV 6/10] END lr__C=100, lr__max_iter=100, lr__penalty=l2, lr__solver=newton-cg, smote__sampling_strategy=1.0;, score=(train=0.933, test=0.933) total time=   7.0s\n",
      "[CV 7/10] END lr__C=100, lr__max_iter=100, lr__penalty=l2, lr__solver=newton-cg, smote__sampling_strategy=1.0;, score=(train=0.932, test=0.930) total time=   6.0s\n",
      "[CV 8/10] END lr__C=100, lr__max_iter=100, lr__penalty=l2, lr__solver=newton-cg, smote__sampling_strategy=1.0;, score=(train=0.933, test=0.930) total time=   5.4s\n",
      "[CV 9/10] END lr__C=100, lr__max_iter=100, lr__penalty=l2, lr__solver=newton-cg, smote__sampling_strategy=1.0;, score=(train=0.933, test=0.931) total time=   5.9s\n",
      "[CV 10/10] END lr__C=100, lr__max_iter=100, lr__penalty=l2, lr__solver=newton-cg, smote__sampling_strategy=1.0;, score=(train=0.932, test=0.930) total time=   5.6s\n",
      "[CV 1/10] END lr__C=100, lr__max_iter=100, lr__penalty=l2, lr__solver=liblinear, smote__sampling_strategy=1.0;, score=(train=0.931, test=0.932) total time=   2.8s\n",
      "[CV 2/10] END lr__C=100, lr__max_iter=100, lr__penalty=l2, lr__solver=liblinear, smote__sampling_strategy=1.0;, score=(train=0.933, test=0.928) total time=   2.9s\n",
      "[CV 3/10] END lr__C=100, lr__max_iter=100, lr__penalty=l2, lr__solver=liblinear, smote__sampling_strategy=1.0;, score=(train=0.933, test=0.932) total time=   3.2s\n",
      "[CV 4/10] END lr__C=100, lr__max_iter=100, lr__penalty=l2, lr__solver=liblinear, smote__sampling_strategy=1.0;, score=(train=0.935, test=0.930) total time=   2.9s\n",
      "[CV 5/10] END lr__C=100, lr__max_iter=100, lr__penalty=l2, lr__solver=liblinear, smote__sampling_strategy=1.0;, score=(train=0.933, test=0.934) total time=   2.9s\n",
      "[CV 6/10] END lr__C=100, lr__max_iter=100, lr__penalty=l2, lr__solver=liblinear, smote__sampling_strategy=1.0;, score=(train=0.933, test=0.933) total time=   2.9s\n",
      "[CV 7/10] END lr__C=100, lr__max_iter=100, lr__penalty=l2, lr__solver=liblinear, smote__sampling_strategy=1.0;, score=(train=0.932, test=0.930) total time=   2.4s\n",
      "[CV 8/10] END lr__C=100, lr__max_iter=100, lr__penalty=l2, lr__solver=liblinear, smote__sampling_strategy=1.0;, score=(train=0.933, test=0.930) total time=   2.9s\n",
      "[CV 9/10] END lr__C=100, lr__max_iter=100, lr__penalty=l2, lr__solver=liblinear, smote__sampling_strategy=1.0;, score=(train=0.933, test=0.931) total time=   3.0s\n",
      "[CV 10/10] END lr__C=100, lr__max_iter=100, lr__penalty=l2, lr__solver=liblinear, smote__sampling_strategy=1.0;, score=(train=0.932, test=0.930) total time=   2.9s\n"
     ]
    },
    {
     "name": "stderr",
     "output_type": "stream",
     "text": [
      "/opt/conda/lib/python3.7/site-packages/sklearn/linear_model/_sag.py:354: ConvergenceWarning: The max_iter was reached which means the coef_ did not converge\n",
      "  ConvergenceWarning,\n"
     ]
    },
    {
     "name": "stdout",
     "output_type": "stream",
     "text": [
      "[CV 1/10] END lr__C=100, lr__max_iter=100, lr__penalty=l2, lr__solver=saga, smote__sampling_strategy=1.0;, score=(train=0.931, test=0.932) total time=   8.7s\n"
     ]
    },
    {
     "name": "stderr",
     "output_type": "stream",
     "text": [
      "/opt/conda/lib/python3.7/site-packages/sklearn/linear_model/_sag.py:354: ConvergenceWarning: The max_iter was reached which means the coef_ did not converge\n",
      "  ConvergenceWarning,\n"
     ]
    },
    {
     "name": "stdout",
     "output_type": "stream",
     "text": [
      "[CV 2/10] END lr__C=100, lr__max_iter=100, lr__penalty=l2, lr__solver=saga, smote__sampling_strategy=1.0;, score=(train=0.933, test=0.928) total time=   8.7s\n"
     ]
    },
    {
     "name": "stderr",
     "output_type": "stream",
     "text": [
      "/opt/conda/lib/python3.7/site-packages/sklearn/linear_model/_sag.py:354: ConvergenceWarning: The max_iter was reached which means the coef_ did not converge\n",
      "  ConvergenceWarning,\n"
     ]
    },
    {
     "name": "stdout",
     "output_type": "stream",
     "text": [
      "[CV 3/10] END lr__C=100, lr__max_iter=100, lr__penalty=l2, lr__solver=saga, smote__sampling_strategy=1.0;, score=(train=0.933, test=0.932) total time=   8.8s\n"
     ]
    },
    {
     "name": "stderr",
     "output_type": "stream",
     "text": [
      "/opt/conda/lib/python3.7/site-packages/sklearn/linear_model/_sag.py:354: ConvergenceWarning: The max_iter was reached which means the coef_ did not converge\n",
      "  ConvergenceWarning,\n"
     ]
    },
    {
     "name": "stdout",
     "output_type": "stream",
     "text": [
      "[CV 4/10] END lr__C=100, lr__max_iter=100, lr__penalty=l2, lr__solver=saga, smote__sampling_strategy=1.0;, score=(train=0.934, test=0.930) total time=   8.8s\n"
     ]
    },
    {
     "name": "stderr",
     "output_type": "stream",
     "text": [
      "/opt/conda/lib/python3.7/site-packages/sklearn/linear_model/_sag.py:354: ConvergenceWarning: The max_iter was reached which means the coef_ did not converge\n",
      "  ConvergenceWarning,\n"
     ]
    },
    {
     "name": "stdout",
     "output_type": "stream",
     "text": [
      "[CV 5/10] END lr__C=100, lr__max_iter=100, lr__penalty=l2, lr__solver=saga, smote__sampling_strategy=1.0;, score=(train=0.933, test=0.934) total time=   9.0s\n"
     ]
    },
    {
     "name": "stderr",
     "output_type": "stream",
     "text": [
      "/opt/conda/lib/python3.7/site-packages/sklearn/linear_model/_sag.py:354: ConvergenceWarning: The max_iter was reached which means the coef_ did not converge\n",
      "  ConvergenceWarning,\n"
     ]
    },
    {
     "name": "stdout",
     "output_type": "stream",
     "text": [
      "[CV 6/10] END lr__C=100, lr__max_iter=100, lr__penalty=l2, lr__solver=saga, smote__sampling_strategy=1.0;, score=(train=0.933, test=0.933) total time=   8.8s\n"
     ]
    },
    {
     "name": "stderr",
     "output_type": "stream",
     "text": [
      "/opt/conda/lib/python3.7/site-packages/sklearn/linear_model/_sag.py:354: ConvergenceWarning: The max_iter was reached which means the coef_ did not converge\n",
      "  ConvergenceWarning,\n"
     ]
    },
    {
     "name": "stdout",
     "output_type": "stream",
     "text": [
      "[CV 7/10] END lr__C=100, lr__max_iter=100, lr__penalty=l2, lr__solver=saga, smote__sampling_strategy=1.0;, score=(train=0.932, test=0.930) total time=   8.8s\n"
     ]
    },
    {
     "name": "stderr",
     "output_type": "stream",
     "text": [
      "/opt/conda/lib/python3.7/site-packages/sklearn/linear_model/_sag.py:354: ConvergenceWarning: The max_iter was reached which means the coef_ did not converge\n",
      "  ConvergenceWarning,\n"
     ]
    },
    {
     "name": "stdout",
     "output_type": "stream",
     "text": [
      "[CV 8/10] END lr__C=100, lr__max_iter=100, lr__penalty=l2, lr__solver=saga, smote__sampling_strategy=1.0;, score=(train=0.933, test=0.930) total time=   8.7s\n"
     ]
    },
    {
     "name": "stderr",
     "output_type": "stream",
     "text": [
      "/opt/conda/lib/python3.7/site-packages/sklearn/linear_model/_sag.py:354: ConvergenceWarning: The max_iter was reached which means the coef_ did not converge\n",
      "  ConvergenceWarning,\n"
     ]
    },
    {
     "name": "stdout",
     "output_type": "stream",
     "text": [
      "[CV 9/10] END lr__C=100, lr__max_iter=100, lr__penalty=l2, lr__solver=saga, smote__sampling_strategy=1.0;, score=(train=0.933, test=0.931) total time=   8.8s\n"
     ]
    },
    {
     "name": "stderr",
     "output_type": "stream",
     "text": [
      "/opt/conda/lib/python3.7/site-packages/sklearn/linear_model/_sag.py:354: ConvergenceWarning: The max_iter was reached which means the coef_ did not converge\n",
      "  ConvergenceWarning,\n"
     ]
    },
    {
     "name": "stdout",
     "output_type": "stream",
     "text": [
      "[CV 10/10] END lr__C=100, lr__max_iter=100, lr__penalty=l2, lr__solver=saga, smote__sampling_strategy=1.0;, score=(train=0.932, test=0.930) total time=   9.0s\n"
     ]
    },
    {
     "name": "stderr",
     "output_type": "stream",
     "text": [
      "/opt/conda/lib/python3.7/site-packages/sklearn/linear_model/_sag.py:354: ConvergenceWarning: The max_iter was reached which means the coef_ did not converge\n",
      "  ConvergenceWarning,\n"
     ]
    },
    {
     "name": "stdout",
     "output_type": "stream",
     "text": [
      "[CV 1/10] END lr__C=100, lr__max_iter=100, lr__penalty=l2, lr__solver=sag, smote__sampling_strategy=1.0;, score=(train=0.931, test=0.932) total time=   9.2s\n",
      "[CV 2/10] END lr__C=100, lr__max_iter=100, lr__penalty=l2, lr__solver=sag, smote__sampling_strategy=1.0;, score=(train=0.933, test=0.928) total time=   8.8s\n"
     ]
    },
    {
     "name": "stderr",
     "output_type": "stream",
     "text": [
      "/opt/conda/lib/python3.7/site-packages/sklearn/linear_model/_sag.py:354: ConvergenceWarning: The max_iter was reached which means the coef_ did not converge\n",
      "  ConvergenceWarning,\n"
     ]
    },
    {
     "name": "stdout",
     "output_type": "stream",
     "text": [
      "[CV 3/10] END lr__C=100, lr__max_iter=100, lr__penalty=l2, lr__solver=sag, smote__sampling_strategy=1.0;, score=(train=0.933, test=0.932) total time=   9.6s\n"
     ]
    },
    {
     "name": "stderr",
     "output_type": "stream",
     "text": [
      "/opt/conda/lib/python3.7/site-packages/sklearn/linear_model/_sag.py:354: ConvergenceWarning: The max_iter was reached which means the coef_ did not converge\n",
      "  ConvergenceWarning,\n"
     ]
    },
    {
     "name": "stdout",
     "output_type": "stream",
     "text": [
      "[CV 4/10] END lr__C=100, lr__max_iter=100, lr__penalty=l2, lr__solver=sag, smote__sampling_strategy=1.0;, score=(train=0.935, test=0.930) total time=   9.3s\n"
     ]
    },
    {
     "name": "stderr",
     "output_type": "stream",
     "text": [
      "/opt/conda/lib/python3.7/site-packages/sklearn/linear_model/_sag.py:354: ConvergenceWarning: The max_iter was reached which means the coef_ did not converge\n",
      "  ConvergenceWarning,\n"
     ]
    },
    {
     "name": "stdout",
     "output_type": "stream",
     "text": [
      "[CV 5/10] END lr__C=100, lr__max_iter=100, lr__penalty=l2, lr__solver=sag, smote__sampling_strategy=1.0;, score=(train=0.933, test=0.934) total time=   9.3s\n",
      "[CV 6/10] END lr__C=100, lr__max_iter=100, lr__penalty=l2, lr__solver=sag, smote__sampling_strategy=1.0;, score=(train=0.933, test=0.933) total time=   7.0s\n",
      "[CV 7/10] END lr__C=100, lr__max_iter=100, lr__penalty=l2, lr__solver=sag, smote__sampling_strategy=1.0;, score=(train=0.932, test=0.930) total time=   7.8s\n"
     ]
    },
    {
     "name": "stderr",
     "output_type": "stream",
     "text": [
      "/opt/conda/lib/python3.7/site-packages/sklearn/linear_model/_sag.py:354: ConvergenceWarning: The max_iter was reached which means the coef_ did not converge\n",
      "  ConvergenceWarning,\n"
     ]
    },
    {
     "name": "stdout",
     "output_type": "stream",
     "text": [
      "[CV 8/10] END lr__C=100, lr__max_iter=100, lr__penalty=l2, lr__solver=sag, smote__sampling_strategy=1.0;, score=(train=0.933, test=0.930) total time=   9.2s\n"
     ]
    },
    {
     "name": "stderr",
     "output_type": "stream",
     "text": [
      "/opt/conda/lib/python3.7/site-packages/sklearn/linear_model/_sag.py:354: ConvergenceWarning: The max_iter was reached which means the coef_ did not converge\n",
      "  ConvergenceWarning,\n"
     ]
    },
    {
     "name": "stdout",
     "output_type": "stream",
     "text": [
      "[CV 9/10] END lr__C=100, lr__max_iter=100, lr__penalty=l2, lr__solver=sag, smote__sampling_strategy=1.0;, score=(train=0.933, test=0.931) total time=   8.8s\n"
     ]
    },
    {
     "name": "stderr",
     "output_type": "stream",
     "text": [
      "/opt/conda/lib/python3.7/site-packages/sklearn/linear_model/_sag.py:354: ConvergenceWarning: The max_iter was reached which means the coef_ did not converge\n",
      "  ConvergenceWarning,\n"
     ]
    },
    {
     "name": "stdout",
     "output_type": "stream",
     "text": [
      "[CV 10/10] END lr__C=100, lr__max_iter=100, lr__penalty=l2, lr__solver=sag, smote__sampling_strategy=1.0;, score=(train=0.932, test=0.930) total time=   8.7s\n"
     ]
    },
    {
     "name": "stderr",
     "output_type": "stream",
     "text": [
      "/opt/conda/lib/python3.7/site-packages/sklearn/linear_model/_logistic.py:818: ConvergenceWarning: lbfgs failed to converge (status=1):\n",
      "STOP: TOTAL NO. of ITERATIONS REACHED LIMIT.\n",
      "\n",
      "Increase the number of iterations (max_iter) or scale the data as shown in:\n",
      "    https://scikit-learn.org/stable/modules/preprocessing.html\n",
      "Please also refer to the documentation for alternative solver options:\n",
      "    https://scikit-learn.org/stable/modules/linear_model.html#logistic-regression\n",
      "  extra_warning_msg=_LOGISTIC_SOLVER_CONVERGENCE_MSG,\n"
     ]
    },
    {
     "name": "stdout",
     "output_type": "stream",
     "text": [
      "[CV 1/10] END lr__C=100, lr__max_iter=500, lr__penalty=l2, lr__solver=lbfgs, smote__sampling_strategy=1.0;, score=(train=0.931, test=0.932) total time=   6.0s\n"
     ]
    },
    {
     "name": "stderr",
     "output_type": "stream",
     "text": [
      "/opt/conda/lib/python3.7/site-packages/sklearn/linear_model/_logistic.py:818: ConvergenceWarning: lbfgs failed to converge (status=1):\n",
      "STOP: TOTAL NO. of ITERATIONS REACHED LIMIT.\n",
      "\n",
      "Increase the number of iterations (max_iter) or scale the data as shown in:\n",
      "    https://scikit-learn.org/stable/modules/preprocessing.html\n",
      "Please also refer to the documentation for alternative solver options:\n",
      "    https://scikit-learn.org/stable/modules/linear_model.html#logistic-regression\n",
      "  extra_warning_msg=_LOGISTIC_SOLVER_CONVERGENCE_MSG,\n"
     ]
    },
    {
     "name": "stdout",
     "output_type": "stream",
     "text": [
      "[CV 2/10] END lr__C=100, lr__max_iter=500, lr__penalty=l2, lr__solver=lbfgs, smote__sampling_strategy=1.0;, score=(train=0.933, test=0.928) total time=   5.4s\n"
     ]
    },
    {
     "name": "stderr",
     "output_type": "stream",
     "text": [
      "/opt/conda/lib/python3.7/site-packages/sklearn/linear_model/_logistic.py:818: ConvergenceWarning: lbfgs failed to converge (status=1):\n",
      "STOP: TOTAL NO. of ITERATIONS REACHED LIMIT.\n",
      "\n",
      "Increase the number of iterations (max_iter) or scale the data as shown in:\n",
      "    https://scikit-learn.org/stable/modules/preprocessing.html\n",
      "Please also refer to the documentation for alternative solver options:\n",
      "    https://scikit-learn.org/stable/modules/linear_model.html#logistic-regression\n",
      "  extra_warning_msg=_LOGISTIC_SOLVER_CONVERGENCE_MSG,\n"
     ]
    },
    {
     "name": "stdout",
     "output_type": "stream",
     "text": [
      "[CV 3/10] END lr__C=100, lr__max_iter=500, lr__penalty=l2, lr__solver=lbfgs, smote__sampling_strategy=1.0;, score=(train=0.933, test=0.932) total time=   5.0s\n"
     ]
    },
    {
     "name": "stderr",
     "output_type": "stream",
     "text": [
      "/opt/conda/lib/python3.7/site-packages/sklearn/linear_model/_logistic.py:818: ConvergenceWarning: lbfgs failed to converge (status=1):\n",
      "STOP: TOTAL NO. of ITERATIONS REACHED LIMIT.\n",
      "\n",
      "Increase the number of iterations (max_iter) or scale the data as shown in:\n",
      "    https://scikit-learn.org/stable/modules/preprocessing.html\n",
      "Please also refer to the documentation for alternative solver options:\n",
      "    https://scikit-learn.org/stable/modules/linear_model.html#logistic-regression\n",
      "  extra_warning_msg=_LOGISTIC_SOLVER_CONVERGENCE_MSG,\n"
     ]
    },
    {
     "name": "stdout",
     "output_type": "stream",
     "text": [
      "[CV 4/10] END lr__C=100, lr__max_iter=500, lr__penalty=l2, lr__solver=lbfgs, smote__sampling_strategy=1.0;, score=(train=0.935, test=0.930) total time=   4.9s\n"
     ]
    },
    {
     "name": "stderr",
     "output_type": "stream",
     "text": [
      "/opt/conda/lib/python3.7/site-packages/sklearn/linear_model/_logistic.py:818: ConvergenceWarning: lbfgs failed to converge (status=1):\n",
      "STOP: TOTAL NO. of ITERATIONS REACHED LIMIT.\n",
      "\n",
      "Increase the number of iterations (max_iter) or scale the data as shown in:\n",
      "    https://scikit-learn.org/stable/modules/preprocessing.html\n",
      "Please also refer to the documentation for alternative solver options:\n",
      "    https://scikit-learn.org/stable/modules/linear_model.html#logistic-regression\n",
      "  extra_warning_msg=_LOGISTIC_SOLVER_CONVERGENCE_MSG,\n"
     ]
    },
    {
     "name": "stdout",
     "output_type": "stream",
     "text": [
      "[CV 5/10] END lr__C=100, lr__max_iter=500, lr__penalty=l2, lr__solver=lbfgs, smote__sampling_strategy=1.0;, score=(train=0.933, test=0.934) total time=   4.9s\n"
     ]
    },
    {
     "name": "stderr",
     "output_type": "stream",
     "text": [
      "/opt/conda/lib/python3.7/site-packages/sklearn/linear_model/_logistic.py:818: ConvergenceWarning: lbfgs failed to converge (status=1):\n",
      "STOP: TOTAL NO. of ITERATIONS REACHED LIMIT.\n",
      "\n",
      "Increase the number of iterations (max_iter) or scale the data as shown in:\n",
      "    https://scikit-learn.org/stable/modules/preprocessing.html\n",
      "Please also refer to the documentation for alternative solver options:\n",
      "    https://scikit-learn.org/stable/modules/linear_model.html#logistic-regression\n",
      "  extra_warning_msg=_LOGISTIC_SOLVER_CONVERGENCE_MSG,\n"
     ]
    },
    {
     "name": "stdout",
     "output_type": "stream",
     "text": [
      "[CV 6/10] END lr__C=100, lr__max_iter=500, lr__penalty=l2, lr__solver=lbfgs, smote__sampling_strategy=1.0;, score=(train=0.933, test=0.933) total time=   5.0s\n",
      "[CV 7/10] END lr__C=100, lr__max_iter=500, lr__penalty=l2, lr__solver=lbfgs, smote__sampling_strategy=1.0;, score=(train=0.932, test=0.930) total time=   4.4s\n"
     ]
    },
    {
     "name": "stderr",
     "output_type": "stream",
     "text": [
      "/opt/conda/lib/python3.7/site-packages/sklearn/linear_model/_logistic.py:818: ConvergenceWarning: lbfgs failed to converge (status=1):\n",
      "STOP: TOTAL NO. of ITERATIONS REACHED LIMIT.\n",
      "\n",
      "Increase the number of iterations (max_iter) or scale the data as shown in:\n",
      "    https://scikit-learn.org/stable/modules/preprocessing.html\n",
      "Please also refer to the documentation for alternative solver options:\n",
      "    https://scikit-learn.org/stable/modules/linear_model.html#logistic-regression\n",
      "  extra_warning_msg=_LOGISTIC_SOLVER_CONVERGENCE_MSG,\n"
     ]
    },
    {
     "name": "stdout",
     "output_type": "stream",
     "text": [
      "[CV 8/10] END lr__C=100, lr__max_iter=500, lr__penalty=l2, lr__solver=lbfgs, smote__sampling_strategy=1.0;, score=(train=0.933, test=0.930) total time=   5.0s\n"
     ]
    },
    {
     "name": "stderr",
     "output_type": "stream",
     "text": [
      "/opt/conda/lib/python3.7/site-packages/sklearn/linear_model/_logistic.py:818: ConvergenceWarning: lbfgs failed to converge (status=1):\n",
      "STOP: TOTAL NO. of ITERATIONS REACHED LIMIT.\n",
      "\n",
      "Increase the number of iterations (max_iter) or scale the data as shown in:\n",
      "    https://scikit-learn.org/stable/modules/preprocessing.html\n",
      "Please also refer to the documentation for alternative solver options:\n",
      "    https://scikit-learn.org/stable/modules/linear_model.html#logistic-regression\n",
      "  extra_warning_msg=_LOGISTIC_SOLVER_CONVERGENCE_MSG,\n"
     ]
    },
    {
     "name": "stdout",
     "output_type": "stream",
     "text": [
      "[CV 9/10] END lr__C=100, lr__max_iter=500, lr__penalty=l2, lr__solver=lbfgs, smote__sampling_strategy=1.0;, score=(train=0.933, test=0.931) total time=   4.8s\n"
     ]
    },
    {
     "name": "stderr",
     "output_type": "stream",
     "text": [
      "/opt/conda/lib/python3.7/site-packages/sklearn/linear_model/_logistic.py:818: ConvergenceWarning: lbfgs failed to converge (status=1):\n",
      "STOP: TOTAL NO. of ITERATIONS REACHED LIMIT.\n",
      "\n",
      "Increase the number of iterations (max_iter) or scale the data as shown in:\n",
      "    https://scikit-learn.org/stable/modules/preprocessing.html\n",
      "Please also refer to the documentation for alternative solver options:\n",
      "    https://scikit-learn.org/stable/modules/linear_model.html#logistic-regression\n",
      "  extra_warning_msg=_LOGISTIC_SOLVER_CONVERGENCE_MSG,\n"
     ]
    },
    {
     "name": "stdout",
     "output_type": "stream",
     "text": [
      "[CV 10/10] END lr__C=100, lr__max_iter=500, lr__penalty=l2, lr__solver=lbfgs, smote__sampling_strategy=1.0;, score=(train=0.932, test=0.930) total time=   4.6s\n",
      "[CV 1/10] END lr__C=10, lr__max_iter=500, lr__penalty=l2, lr__solver=saga, smote__sampling_strategy=0.8;, score=(train=0.931, test=0.933) total time=   7.1s\n",
      "[CV 2/10] END lr__C=10, lr__max_iter=500, lr__penalty=l2, lr__solver=saga, smote__sampling_strategy=0.8;, score=(train=0.931, test=0.930) total time=   6.5s\n",
      "[CV 3/10] END lr__C=10, lr__max_iter=500, lr__penalty=l2, lr__solver=saga, smote__sampling_strategy=0.8;, score=(train=0.934, test=0.931) total time=   6.4s\n",
      "[CV 4/10] END lr__C=10, lr__max_iter=500, lr__penalty=l2, lr__solver=saga, smote__sampling_strategy=0.8;, score=(train=0.935, test=0.931) total time=   6.5s\n",
      "[CV 5/10] END lr__C=10, lr__max_iter=500, lr__penalty=l2, lr__solver=saga, smote__sampling_strategy=0.8;, score=(train=0.932, test=0.935) total time=   6.2s\n",
      "[CV 6/10] END lr__C=10, lr__max_iter=500, lr__penalty=l2, lr__solver=saga, smote__sampling_strategy=0.8;, score=(train=0.933, test=0.932) total time=   7.0s\n",
      "[CV 7/10] END lr__C=10, lr__max_iter=500, lr__penalty=l2, lr__solver=saga, smote__sampling_strategy=0.8;, score=(train=0.931, test=0.931) total time=   5.0s\n",
      "[CV 8/10] END lr__C=10, lr__max_iter=500, lr__penalty=l2, lr__solver=saga, smote__sampling_strategy=0.8;, score=(train=0.933, test=0.930) total time=   6.4s\n",
      "[CV 9/10] END lr__C=10, lr__max_iter=500, lr__penalty=l2, lr__solver=saga, smote__sampling_strategy=0.8;, score=(train=0.933, test=0.932) total time=   5.2s\n",
      "[CV 10/10] END lr__C=10, lr__max_iter=500, lr__penalty=l2, lr__solver=saga, smote__sampling_strategy=0.8;, score=(train=0.933, test=0.931) total time=   5.9s\n",
      "[CV 1/10] END lr__C=10, lr__max_iter=100, lr__penalty=l2, lr__solver=saga, smote__sampling_strategy=0.8;, score=(train=0.931, test=0.933) total time=   7.0s\n",
      "[CV 2/10] END lr__C=10, lr__max_iter=100, lr__penalty=l2, lr__solver=saga, smote__sampling_strategy=0.8;, score=(train=0.931, test=0.930) total time=   6.6s\n",
      "[CV 3/10] END lr__C=10, lr__max_iter=100, lr__penalty=l2, lr__solver=saga, smote__sampling_strategy=0.8;, score=(train=0.934, test=0.931) total time=   6.0s\n",
      "[CV 4/10] END lr__C=10, lr__max_iter=100, lr__penalty=l2, lr__solver=saga, smote__sampling_strategy=0.8;, score=(train=0.935, test=0.931) total time=   6.5s\n",
      "[CV 5/10] END lr__C=10, lr__max_iter=100, lr__penalty=l2, lr__solver=saga, smote__sampling_strategy=0.8;, score=(train=0.932, test=0.935) total time=   6.2s\n",
      "[CV 6/10] END lr__C=10, lr__max_iter=100, lr__penalty=l2, lr__solver=saga, smote__sampling_strategy=0.8;, score=(train=0.933, test=0.932) total time=   7.0s\n",
      "[CV 7/10] END lr__C=10, lr__max_iter=100, lr__penalty=l2, lr__solver=saga, smote__sampling_strategy=0.8;, score=(train=0.931, test=0.931) total time=   4.9s\n",
      "[CV 8/10] END lr__C=10, lr__max_iter=100, lr__penalty=l2, lr__solver=saga, smote__sampling_strategy=0.8;, score=(train=0.933, test=0.930) total time=   6.4s\n",
      "[CV 9/10] END lr__C=10, lr__max_iter=100, lr__penalty=l2, lr__solver=saga, smote__sampling_strategy=0.8;, score=(train=0.933, test=0.932) total time=   5.2s\n",
      "[CV 10/10] END lr__C=10, lr__max_iter=100, lr__penalty=l2, lr__solver=saga, smote__sampling_strategy=0.8;, score=(train=0.933, test=0.931) total time=   6.1s\n",
      "[CV 1/10] END lr__C=10, lr__max_iter=100, lr__penalty=l2, lr__solver=sag, smote__sampling_strategy=0.8;, score=(train=0.931, test=0.933) total time=   4.9s\n",
      "[CV 2/10] END lr__C=10, lr__max_iter=100, lr__penalty=l2, lr__solver=sag, smote__sampling_strategy=0.8;, score=(train=0.931, test=0.930) total time=   4.4s\n",
      "[CV 3/10] END lr__C=10, lr__max_iter=100, lr__penalty=l2, lr__solver=sag, smote__sampling_strategy=0.8;, score=(train=0.934, test=0.931) total time=   4.5s\n",
      "[CV 4/10] END lr__C=10, lr__max_iter=100, lr__penalty=l2, lr__solver=sag, smote__sampling_strategy=0.8;, score=(train=0.935, test=0.931) total time=   3.8s\n",
      "[CV 5/10] END lr__C=10, lr__max_iter=100, lr__penalty=l2, lr__solver=sag, smote__sampling_strategy=0.8;, score=(train=0.932, test=0.935) total time=   3.4s\n",
      "[CV 6/10] END lr__C=10, lr__max_iter=100, lr__penalty=l2, lr__solver=sag, smote__sampling_strategy=0.8;, score=(train=0.933, test=0.932) total time=   4.0s\n",
      "[CV 7/10] END lr__C=10, lr__max_iter=100, lr__penalty=l2, lr__solver=sag, smote__sampling_strategy=0.8;, score=(train=0.931, test=0.931) total time=   2.9s\n",
      "[CV 8/10] END lr__C=10, lr__max_iter=100, lr__penalty=l2, lr__solver=sag, smote__sampling_strategy=0.8;, score=(train=0.933, test=0.930) total time=   4.6s\n",
      "[CV 9/10] END lr__C=10, lr__max_iter=100, lr__penalty=l2, lr__solver=sag, smote__sampling_strategy=0.8;, score=(train=0.933, test=0.932) total time=   3.9s\n",
      "[CV 10/10] END lr__C=10, lr__max_iter=100, lr__penalty=l2, lr__solver=sag, smote__sampling_strategy=0.8;, score=(train=0.933, test=0.931) total time=   4.2s\n",
      "[CV 1/10] END lr__C=10, lr__max_iter=500, lr__penalty=l2, lr__solver=newton-cg, smote__sampling_strategy=0.8;, score=(train=0.931, test=0.933) total time=   3.3s\n",
      "[CV 2/10] END lr__C=10, lr__max_iter=500, lr__penalty=l2, lr__solver=newton-cg, smote__sampling_strategy=0.8;, score=(train=0.931, test=0.930) total time=   3.8s\n",
      "[CV 3/10] END lr__C=10, lr__max_iter=500, lr__penalty=l2, lr__solver=newton-cg, smote__sampling_strategy=0.8;, score=(train=0.934, test=0.931) total time=   3.7s\n",
      "[CV 4/10] END lr__C=10, lr__max_iter=500, lr__penalty=l2, lr__solver=newton-cg, smote__sampling_strategy=0.8;, score=(train=0.935, test=0.931) total time=   3.5s\n",
      "[CV 5/10] END lr__C=10, lr__max_iter=500, lr__penalty=l2, lr__solver=newton-cg, smote__sampling_strategy=0.8;, score=(train=0.932, test=0.935) total time=   4.0s\n",
      "[CV 6/10] END lr__C=10, lr__max_iter=500, lr__penalty=l2, lr__solver=newton-cg, smote__sampling_strategy=0.8;, score=(train=0.933, test=0.932) total time=   3.8s\n",
      "[CV 7/10] END lr__C=10, lr__max_iter=500, lr__penalty=l2, lr__solver=newton-cg, smote__sampling_strategy=0.8;, score=(train=0.931, test=0.931) total time=   4.0s\n",
      "[CV 8/10] END lr__C=10, lr__max_iter=500, lr__penalty=l2, lr__solver=newton-cg, smote__sampling_strategy=0.8;, score=(train=0.933, test=0.930) total time=   3.7s\n",
      "[CV 9/10] END lr__C=10, lr__max_iter=500, lr__penalty=l2, lr__solver=newton-cg, smote__sampling_strategy=0.8;, score=(train=0.933, test=0.932) total time=   3.7s\n",
      "[CV 10/10] END lr__C=10, lr__max_iter=500, lr__penalty=l2, lr__solver=newton-cg, smote__sampling_strategy=0.8;, score=(train=0.934, test=0.931) total time=   4.1s\n",
      "[CV 1/10] END lr__C=10, lr__max_iter=100, lr__penalty=l2, lr__solver=newton-cg, smote__sampling_strategy=0.8;, score=(train=0.931, test=0.933) total time=   3.7s\n",
      "[CV 2/10] END lr__C=10, lr__max_iter=100, lr__penalty=l2, lr__solver=newton-cg, smote__sampling_strategy=0.8;, score=(train=0.931, test=0.930) total time=   3.9s\n",
      "[CV 3/10] END lr__C=10, lr__max_iter=100, lr__penalty=l2, lr__solver=newton-cg, smote__sampling_strategy=0.8;, score=(train=0.934, test=0.931) total time=   4.2s\n",
      "[CV 4/10] END lr__C=10, lr__max_iter=100, lr__penalty=l2, lr__solver=newton-cg, smote__sampling_strategy=0.8;, score=(train=0.935, test=0.931) total time=   3.6s\n",
      "[CV 5/10] END lr__C=10, lr__max_iter=100, lr__penalty=l2, lr__solver=newton-cg, smote__sampling_strategy=0.8;, score=(train=0.932, test=0.935) total time=   4.0s\n",
      "[CV 6/10] END lr__C=10, lr__max_iter=100, lr__penalty=l2, lr__solver=newton-cg, smote__sampling_strategy=0.8;, score=(train=0.933, test=0.932) total time=   4.0s\n",
      "[CV 7/10] END lr__C=10, lr__max_iter=100, lr__penalty=l2, lr__solver=newton-cg, smote__sampling_strategy=0.8;, score=(train=0.931, test=0.931) total time=   4.2s\n",
      "[CV 8/10] END lr__C=10, lr__max_iter=100, lr__penalty=l2, lr__solver=newton-cg, smote__sampling_strategy=0.8;, score=(train=0.933, test=0.930) total time=   3.7s\n",
      "[CV 9/10] END lr__C=10, lr__max_iter=100, lr__penalty=l2, lr__solver=newton-cg, smote__sampling_strategy=0.8;, score=(train=0.933, test=0.932) total time=   4.2s\n",
      "[CV 10/10] END lr__C=10, lr__max_iter=100, lr__penalty=l2, lr__solver=newton-cg, smote__sampling_strategy=0.8;, score=(train=0.934, test=0.931) total time=   4.4s\n",
      "[CV 1/10] END lr__C=10, lr__max_iter=500, lr__penalty=l2, lr__solver=sag, smote__sampling_strategy=0.8;, score=(train=0.931, test=0.933) total time=   4.8s\n",
      "[CV 2/10] END lr__C=10, lr__max_iter=500, lr__penalty=l2, lr__solver=sag, smote__sampling_strategy=0.8;, score=(train=0.931, test=0.930) total time=   4.1s\n",
      "[CV 3/10] END lr__C=10, lr__max_iter=500, lr__penalty=l2, lr__solver=sag, smote__sampling_strategy=0.8;, score=(train=0.934, test=0.931) total time=   4.5s\n",
      "[CV 4/10] END lr__C=10, lr__max_iter=500, lr__penalty=l2, lr__solver=sag, smote__sampling_strategy=0.8;, score=(train=0.935, test=0.931) total time=   3.6s\n",
      "[CV 5/10] END lr__C=10, lr__max_iter=500, lr__penalty=l2, lr__solver=sag, smote__sampling_strategy=0.8;, score=(train=0.932, test=0.935) total time=   3.3s\n",
      "[CV 6/10] END lr__C=10, lr__max_iter=500, lr__penalty=l2, lr__solver=sag, smote__sampling_strategy=0.8;, score=(train=0.933, test=0.932) total time=   4.0s\n",
      "[CV 7/10] END lr__C=10, lr__max_iter=500, lr__penalty=l2, lr__solver=sag, smote__sampling_strategy=0.8;, score=(train=0.931, test=0.931) total time=   2.6s\n",
      "[CV 8/10] END lr__C=10, lr__max_iter=500, lr__penalty=l2, lr__solver=sag, smote__sampling_strategy=0.8;, score=(train=0.933, test=0.930) total time=   4.6s\n",
      "[CV 9/10] END lr__C=10, lr__max_iter=500, lr__penalty=l2, lr__solver=sag, smote__sampling_strategy=0.8;, score=(train=0.933, test=0.932) total time=   3.8s\n",
      "[CV 10/10] END lr__C=10, lr__max_iter=500, lr__penalty=l2, lr__solver=sag, smote__sampling_strategy=0.8;, score=(train=0.933, test=0.931) total time=   4.4s\n",
      "[CV 1/10] END lr__C=10, lr__max_iter=500, lr__penalty=l2, lr__solver=lbfgs, smote__sampling_strategy=0.8;, score=(train=0.931, test=0.933) total time=   5.7s\n",
      "[CV 2/10] END lr__C=10, lr__max_iter=500, lr__penalty=l2, lr__solver=lbfgs, smote__sampling_strategy=0.8;, score=(train=0.931, test=0.930) total time=   4.9s\n",
      "[CV 3/10] END lr__C=10, lr__max_iter=500, lr__penalty=l2, lr__solver=lbfgs, smote__sampling_strategy=0.8;, score=(train=0.934, test=0.931) total time=   5.3s\n",
      "[CV 4/10] END lr__C=10, lr__max_iter=500, lr__penalty=l2, lr__solver=lbfgs, smote__sampling_strategy=0.8;, score=(train=0.935, test=0.931) total time=   4.7s\n",
      "[CV 5/10] END lr__C=10, lr__max_iter=500, lr__penalty=l2, lr__solver=lbfgs, smote__sampling_strategy=0.8;, score=(train=0.932, test=0.935) total time=   4.8s\n",
      "[CV 6/10] END lr__C=10, lr__max_iter=500, lr__penalty=l2, lr__solver=lbfgs, smote__sampling_strategy=0.8;, score=(train=0.933, test=0.932) total time=   4.2s\n",
      "[CV 7/10] END lr__C=10, lr__max_iter=500, lr__penalty=l2, lr__solver=lbfgs, smote__sampling_strategy=0.8;, score=(train=0.931, test=0.931) total time=   4.7s\n",
      "[CV 8/10] END lr__C=10, lr__max_iter=500, lr__penalty=l2, lr__solver=lbfgs, smote__sampling_strategy=0.8;, score=(train=0.933, test=0.930) total time=   5.5s\n",
      "[CV 9/10] END lr__C=10, lr__max_iter=500, lr__penalty=l2, lr__solver=lbfgs, smote__sampling_strategy=0.8;, score=(train=0.933, test=0.931) total time=   5.0s\n",
      "[CV 10/10] END lr__C=10, lr__max_iter=500, lr__penalty=l2, lr__solver=lbfgs, smote__sampling_strategy=0.8;, score=(train=0.933, test=0.931) total time=   4.9s\n",
      "[CV 1/10] END lr__C=10, lr__max_iter=100, lr__penalty=l2, lr__solver=liblinear, smote__sampling_strategy=0.8;, score=(train=0.931, test=0.933) total time=   2.1s\n",
      "[CV 2/10] END lr__C=10, lr__max_iter=100, lr__penalty=l2, lr__solver=liblinear, smote__sampling_strategy=0.8;, score=(train=0.931, test=0.930) total time=   2.2s\n",
      "[CV 3/10] END lr__C=10, lr__max_iter=100, lr__penalty=l2, lr__solver=liblinear, smote__sampling_strategy=0.8;, score=(train=0.934, test=0.931) total time=   2.1s\n",
      "[CV 4/10] END lr__C=10, lr__max_iter=100, lr__penalty=l2, lr__solver=liblinear, smote__sampling_strategy=0.8;, score=(train=0.935, test=0.932) total time=   2.1s\n",
      "[CV 5/10] END lr__C=10, lr__max_iter=100, lr__penalty=l2, lr__solver=liblinear, smote__sampling_strategy=0.8;, score=(train=0.932, test=0.935) total time=   2.0s\n",
      "[CV 6/10] END lr__C=10, lr__max_iter=100, lr__penalty=l2, lr__solver=liblinear, smote__sampling_strategy=0.8;, score=(train=0.933, test=0.932) total time=   2.1s\n",
      "[CV 7/10] END lr__C=10, lr__max_iter=100, lr__penalty=l2, lr__solver=liblinear, smote__sampling_strategy=0.8;, score=(train=0.931, test=0.931) total time=   1.9s\n",
      "[CV 8/10] END lr__C=10, lr__max_iter=100, lr__penalty=l2, lr__solver=liblinear, smote__sampling_strategy=0.8;, score=(train=0.933, test=0.930) total time=   2.0s\n",
      "[CV 9/10] END lr__C=10, lr__max_iter=100, lr__penalty=l2, lr__solver=liblinear, smote__sampling_strategy=0.8;, score=(train=0.933, test=0.931) total time=   2.0s\n",
      "[CV 10/10] END lr__C=10, lr__max_iter=100, lr__penalty=l2, lr__solver=liblinear, smote__sampling_strategy=0.8;, score=(train=0.933, test=0.931) total time=   2.1s\n",
      "[CV 1/10] END lr__C=10, lr__max_iter=500, lr__penalty=l2, lr__solver=liblinear, smote__sampling_strategy=0.8;, score=(train=0.931, test=0.933) total time=   2.1s\n",
      "[CV 2/10] END lr__C=10, lr__max_iter=500, lr__penalty=l2, lr__solver=liblinear, smote__sampling_strategy=0.8;, score=(train=0.931, test=0.930) total time=   2.2s\n",
      "[CV 3/10] END lr__C=10, lr__max_iter=500, lr__penalty=l2, lr__solver=liblinear, smote__sampling_strategy=0.8;, score=(train=0.934, test=0.931) total time=   2.1s\n",
      "[CV 4/10] END lr__C=10, lr__max_iter=500, lr__penalty=l2, lr__solver=liblinear, smote__sampling_strategy=0.8;, score=(train=0.935, test=0.932) total time=   2.0s\n",
      "[CV 5/10] END lr__C=10, lr__max_iter=500, lr__penalty=l2, lr__solver=liblinear, smote__sampling_strategy=0.8;, score=(train=0.932, test=0.935) total time=   2.1s\n",
      "[CV 6/10] END lr__C=10, lr__max_iter=500, lr__penalty=l2, lr__solver=liblinear, smote__sampling_strategy=0.8;, score=(train=0.933, test=0.932) total time=   2.1s\n",
      "[CV 7/10] END lr__C=10, lr__max_iter=500, lr__penalty=l2, lr__solver=liblinear, smote__sampling_strategy=0.8;, score=(train=0.931, test=0.931) total time=   1.9s\n",
      "[CV 8/10] END lr__C=10, lr__max_iter=500, lr__penalty=l2, lr__solver=liblinear, smote__sampling_strategy=0.8;, score=(train=0.933, test=0.930) total time=   2.0s\n",
      "[CV 9/10] END lr__C=10, lr__max_iter=500, lr__penalty=l2, lr__solver=liblinear, smote__sampling_strategy=0.8;, score=(train=0.933, test=0.931) total time=   2.0s\n",
      "[CV 10/10] END lr__C=10, lr__max_iter=500, lr__penalty=l2, lr__solver=liblinear, smote__sampling_strategy=0.8;, score=(train=0.933, test=0.931) total time=   2.1s\n"
     ]
    },
    {
     "name": "stderr",
     "output_type": "stream",
     "text": [
      "/opt/conda/lib/python3.7/site-packages/sklearn/linear_model/_logistic.py:818: ConvergenceWarning: lbfgs failed to converge (status=1):\n",
      "STOP: TOTAL NO. of ITERATIONS REACHED LIMIT.\n",
      "\n",
      "Increase the number of iterations (max_iter) or scale the data as shown in:\n",
      "    https://scikit-learn.org/stable/modules/preprocessing.html\n",
      "Please also refer to the documentation for alternative solver options:\n",
      "    https://scikit-learn.org/stable/modules/linear_model.html#logistic-regression\n",
      "  extra_warning_msg=_LOGISTIC_SOLVER_CONVERGENCE_MSG,\n"
     ]
    },
    {
     "name": "stdout",
     "output_type": "stream",
     "text": [
      "[CV 1/10] END lr__C=100, lr__max_iter=100, lr__penalty=l2, lr__solver=lbfgs, smote__sampling_strategy=0.9;, score=(train=0.931, test=0.932) total time=   1.9s\n"
     ]
    },
    {
     "name": "stderr",
     "output_type": "stream",
     "text": [
      "/opt/conda/lib/python3.7/site-packages/sklearn/linear_model/_logistic.py:818: ConvergenceWarning: lbfgs failed to converge (status=1):\n",
      "STOP: TOTAL NO. of ITERATIONS REACHED LIMIT.\n",
      "\n",
      "Increase the number of iterations (max_iter) or scale the data as shown in:\n",
      "    https://scikit-learn.org/stable/modules/preprocessing.html\n",
      "Please also refer to the documentation for alternative solver options:\n",
      "    https://scikit-learn.org/stable/modules/linear_model.html#logistic-regression\n",
      "  extra_warning_msg=_LOGISTIC_SOLVER_CONVERGENCE_MSG,\n"
     ]
    },
    {
     "name": "stdout",
     "output_type": "stream",
     "text": [
      "[CV 2/10] END lr__C=100, lr__max_iter=100, lr__penalty=l2, lr__solver=lbfgs, smote__sampling_strategy=0.9;, score=(train=0.932, test=0.928) total time=   2.0s\n"
     ]
    },
    {
     "name": "stderr",
     "output_type": "stream",
     "text": [
      "/opt/conda/lib/python3.7/site-packages/sklearn/linear_model/_logistic.py:818: ConvergenceWarning: lbfgs failed to converge (status=1):\n",
      "STOP: TOTAL NO. of ITERATIONS REACHED LIMIT.\n",
      "\n",
      "Increase the number of iterations (max_iter) or scale the data as shown in:\n",
      "    https://scikit-learn.org/stable/modules/preprocessing.html\n",
      "Please also refer to the documentation for alternative solver options:\n",
      "    https://scikit-learn.org/stable/modules/linear_model.html#logistic-regression\n",
      "  extra_warning_msg=_LOGISTIC_SOLVER_CONVERGENCE_MSG,\n"
     ]
    },
    {
     "name": "stdout",
     "output_type": "stream",
     "text": [
      "[CV 3/10] END lr__C=100, lr__max_iter=100, lr__penalty=l2, lr__solver=lbfgs, smote__sampling_strategy=0.9;, score=(train=0.933, test=0.933) total time=   1.9s\n"
     ]
    },
    {
     "name": "stderr",
     "output_type": "stream",
     "text": [
      "/opt/conda/lib/python3.7/site-packages/sklearn/linear_model/_logistic.py:818: ConvergenceWarning: lbfgs failed to converge (status=1):\n",
      "STOP: TOTAL NO. of ITERATIONS REACHED LIMIT.\n",
      "\n",
      "Increase the number of iterations (max_iter) or scale the data as shown in:\n",
      "    https://scikit-learn.org/stable/modules/preprocessing.html\n",
      "Please also refer to the documentation for alternative solver options:\n",
      "    https://scikit-learn.org/stable/modules/linear_model.html#logistic-regression\n",
      "  extra_warning_msg=_LOGISTIC_SOLVER_CONVERGENCE_MSG,\n"
     ]
    },
    {
     "name": "stdout",
     "output_type": "stream",
     "text": [
      "[CV 4/10] END lr__C=100, lr__max_iter=100, lr__penalty=l2, lr__solver=lbfgs, smote__sampling_strategy=0.9;, score=(train=0.935, test=0.931) total time=   2.0s\n"
     ]
    },
    {
     "name": "stderr",
     "output_type": "stream",
     "text": [
      "/opt/conda/lib/python3.7/site-packages/sklearn/linear_model/_logistic.py:818: ConvergenceWarning: lbfgs failed to converge (status=1):\n",
      "STOP: TOTAL NO. of ITERATIONS REACHED LIMIT.\n",
      "\n",
      "Increase the number of iterations (max_iter) or scale the data as shown in:\n",
      "    https://scikit-learn.org/stable/modules/preprocessing.html\n",
      "Please also refer to the documentation for alternative solver options:\n",
      "    https://scikit-learn.org/stable/modules/linear_model.html#logistic-regression\n",
      "  extra_warning_msg=_LOGISTIC_SOLVER_CONVERGENCE_MSG,\n"
     ]
    },
    {
     "name": "stdout",
     "output_type": "stream",
     "text": [
      "[CV 5/10] END lr__C=100, lr__max_iter=100, lr__penalty=l2, lr__solver=lbfgs, smote__sampling_strategy=0.9;, score=(train=0.933, test=0.935) total time=   1.9s\n"
     ]
    },
    {
     "name": "stderr",
     "output_type": "stream",
     "text": [
      "/opt/conda/lib/python3.7/site-packages/sklearn/linear_model/_logistic.py:818: ConvergenceWarning: lbfgs failed to converge (status=1):\n",
      "STOP: TOTAL NO. of ITERATIONS REACHED LIMIT.\n",
      "\n",
      "Increase the number of iterations (max_iter) or scale the data as shown in:\n",
      "    https://scikit-learn.org/stable/modules/preprocessing.html\n",
      "Please also refer to the documentation for alternative solver options:\n",
      "    https://scikit-learn.org/stable/modules/linear_model.html#logistic-regression\n",
      "  extra_warning_msg=_LOGISTIC_SOLVER_CONVERGENCE_MSG,\n"
     ]
    },
    {
     "name": "stdout",
     "output_type": "stream",
     "text": [
      "[CV 6/10] END lr__C=100, lr__max_iter=100, lr__penalty=l2, lr__solver=lbfgs, smote__sampling_strategy=0.9;, score=(train=0.934, test=0.933) total time=   1.9s\n"
     ]
    },
    {
     "name": "stderr",
     "output_type": "stream",
     "text": [
      "/opt/conda/lib/python3.7/site-packages/sklearn/linear_model/_logistic.py:818: ConvergenceWarning: lbfgs failed to converge (status=1):\n",
      "STOP: TOTAL NO. of ITERATIONS REACHED LIMIT.\n",
      "\n",
      "Increase the number of iterations (max_iter) or scale the data as shown in:\n",
      "    https://scikit-learn.org/stable/modules/preprocessing.html\n",
      "Please also refer to the documentation for alternative solver options:\n",
      "    https://scikit-learn.org/stable/modules/linear_model.html#logistic-regression\n",
      "  extra_warning_msg=_LOGISTIC_SOLVER_CONVERGENCE_MSG,\n"
     ]
    },
    {
     "name": "stdout",
     "output_type": "stream",
     "text": [
      "[CV 7/10] END lr__C=100, lr__max_iter=100, lr__penalty=l2, lr__solver=lbfgs, smote__sampling_strategy=0.9;, score=(train=0.933, test=0.930) total time=   1.9s\n"
     ]
    },
    {
     "name": "stderr",
     "output_type": "stream",
     "text": [
      "/opt/conda/lib/python3.7/site-packages/sklearn/linear_model/_logistic.py:818: ConvergenceWarning: lbfgs failed to converge (status=1):\n",
      "STOP: TOTAL NO. of ITERATIONS REACHED LIMIT.\n",
      "\n",
      "Increase the number of iterations (max_iter) or scale the data as shown in:\n",
      "    https://scikit-learn.org/stable/modules/preprocessing.html\n",
      "Please also refer to the documentation for alternative solver options:\n",
      "    https://scikit-learn.org/stable/modules/linear_model.html#logistic-regression\n",
      "  extra_warning_msg=_LOGISTIC_SOLVER_CONVERGENCE_MSG,\n"
     ]
    },
    {
     "name": "stdout",
     "output_type": "stream",
     "text": [
      "[CV 8/10] END lr__C=100, lr__max_iter=100, lr__penalty=l2, lr__solver=lbfgs, smote__sampling_strategy=0.9;, score=(train=0.933, test=0.931) total time=   1.9s\n"
     ]
    },
    {
     "name": "stderr",
     "output_type": "stream",
     "text": [
      "/opt/conda/lib/python3.7/site-packages/sklearn/linear_model/_logistic.py:818: ConvergenceWarning: lbfgs failed to converge (status=1):\n",
      "STOP: TOTAL NO. of ITERATIONS REACHED LIMIT.\n",
      "\n",
      "Increase the number of iterations (max_iter) or scale the data as shown in:\n",
      "    https://scikit-learn.org/stable/modules/preprocessing.html\n",
      "Please also refer to the documentation for alternative solver options:\n",
      "    https://scikit-learn.org/stable/modules/linear_model.html#logistic-regression\n",
      "  extra_warning_msg=_LOGISTIC_SOLVER_CONVERGENCE_MSG,\n"
     ]
    },
    {
     "name": "stdout",
     "output_type": "stream",
     "text": [
      "[CV 9/10] END lr__C=100, lr__max_iter=100, lr__penalty=l2, lr__solver=lbfgs, smote__sampling_strategy=0.9;, score=(train=0.933, test=0.932) total time=   2.1s\n"
     ]
    },
    {
     "name": "stderr",
     "output_type": "stream",
     "text": [
      "/opt/conda/lib/python3.7/site-packages/sklearn/linear_model/_logistic.py:818: ConvergenceWarning: lbfgs failed to converge (status=1):\n",
      "STOP: TOTAL NO. of ITERATIONS REACHED LIMIT.\n",
      "\n",
      "Increase the number of iterations (max_iter) or scale the data as shown in:\n",
      "    https://scikit-learn.org/stable/modules/preprocessing.html\n",
      "Please also refer to the documentation for alternative solver options:\n",
      "    https://scikit-learn.org/stable/modules/linear_model.html#logistic-regression\n",
      "  extra_warning_msg=_LOGISTIC_SOLVER_CONVERGENCE_MSG,\n"
     ]
    },
    {
     "name": "stdout",
     "output_type": "stream",
     "text": [
      "[CV 10/10] END lr__C=100, lr__max_iter=100, lr__penalty=l2, lr__solver=lbfgs, smote__sampling_strategy=0.9;, score=(train=0.933, test=0.932) total time=   2.0s\n"
     ]
    },
    {
     "name": "stderr",
     "output_type": "stream",
     "text": [
      "/opt/conda/lib/python3.7/site-packages/sklearn/linear_model/_sag.py:354: ConvergenceWarning: The max_iter was reached which means the coef_ did not converge\n",
      "  ConvergenceWarning,\n"
     ]
    },
    {
     "name": "stdout",
     "output_type": "stream",
     "text": [
      "[CV 1/10] END lr__C=100, lr__max_iter=100, lr__penalty=l2, lr__solver=saga, smote__sampling_strategy=0.9;, score=(train=0.931, test=0.932) total time=   8.7s\n"
     ]
    },
    {
     "name": "stderr",
     "output_type": "stream",
     "text": [
      "/opt/conda/lib/python3.7/site-packages/sklearn/linear_model/_sag.py:354: ConvergenceWarning: The max_iter was reached which means the coef_ did not converge\n",
      "  ConvergenceWarning,\n"
     ]
    },
    {
     "name": "stdout",
     "output_type": "stream",
     "text": [
      "[CV 2/10] END lr__C=100, lr__max_iter=100, lr__penalty=l2, lr__solver=saga, smote__sampling_strategy=0.9;, score=(train=0.933, test=0.929) total time=   8.5s\n"
     ]
    },
    {
     "name": "stderr",
     "output_type": "stream",
     "text": [
      "/opt/conda/lib/python3.7/site-packages/sklearn/linear_model/_sag.py:354: ConvergenceWarning: The max_iter was reached which means the coef_ did not converge\n",
      "  ConvergenceWarning,\n"
     ]
    },
    {
     "name": "stdout",
     "output_type": "stream",
     "text": [
      "[CV 3/10] END lr__C=100, lr__max_iter=100, lr__penalty=l2, lr__solver=saga, smote__sampling_strategy=0.9;, score=(train=0.934, test=0.933) total time=   8.8s\n"
     ]
    },
    {
     "name": "stderr",
     "output_type": "stream",
     "text": [
      "/opt/conda/lib/python3.7/site-packages/sklearn/linear_model/_sag.py:354: ConvergenceWarning: The max_iter was reached which means the coef_ did not converge\n",
      "  ConvergenceWarning,\n"
     ]
    },
    {
     "name": "stdout",
     "output_type": "stream",
     "text": [
      "[CV 4/10] END lr__C=100, lr__max_iter=100, lr__penalty=l2, lr__solver=saga, smote__sampling_strategy=0.9;, score=(train=0.935, test=0.931) total time=   8.8s\n"
     ]
    },
    {
     "name": "stderr",
     "output_type": "stream",
     "text": [
      "/opt/conda/lib/python3.7/site-packages/sklearn/linear_model/_sag.py:354: ConvergenceWarning: The max_iter was reached which means the coef_ did not converge\n",
      "  ConvergenceWarning,\n"
     ]
    },
    {
     "name": "stdout",
     "output_type": "stream",
     "text": [
      "[CV 5/10] END lr__C=100, lr__max_iter=100, lr__penalty=l2, lr__solver=saga, smote__sampling_strategy=0.9;, score=(train=0.933, test=0.935) total time=   8.9s\n"
     ]
    },
    {
     "name": "stderr",
     "output_type": "stream",
     "text": [
      "/opt/conda/lib/python3.7/site-packages/sklearn/linear_model/_sag.py:354: ConvergenceWarning: The max_iter was reached which means the coef_ did not converge\n",
      "  ConvergenceWarning,\n"
     ]
    },
    {
     "name": "stdout",
     "output_type": "stream",
     "text": [
      "[CV 6/10] END lr__C=100, lr__max_iter=100, lr__penalty=l2, lr__solver=saga, smote__sampling_strategy=0.9;, score=(train=0.934, test=0.934) total time=   8.5s\n",
      "[CV 7/10] END lr__C=100, lr__max_iter=100, lr__penalty=l2, lr__solver=saga, smote__sampling_strategy=0.9;, score=(train=0.932, test=0.930) total time=   8.2s\n"
     ]
    },
    {
     "name": "stderr",
     "output_type": "stream",
     "text": [
      "/opt/conda/lib/python3.7/site-packages/sklearn/linear_model/_sag.py:354: ConvergenceWarning: The max_iter was reached which means the coef_ did not converge\n",
      "  ConvergenceWarning,\n"
     ]
    },
    {
     "name": "stdout",
     "output_type": "stream",
     "text": [
      "[CV 8/10] END lr__C=100, lr__max_iter=100, lr__penalty=l2, lr__solver=saga, smote__sampling_strategy=0.9;, score=(train=0.933, test=0.932) total time=   8.7s\n"
     ]
    },
    {
     "name": "stderr",
     "output_type": "stream",
     "text": [
      "/opt/conda/lib/python3.7/site-packages/sklearn/linear_model/_sag.py:354: ConvergenceWarning: The max_iter was reached which means the coef_ did not converge\n",
      "  ConvergenceWarning,\n"
     ]
    },
    {
     "name": "stdout",
     "output_type": "stream",
     "text": [
      "[CV 9/10] END lr__C=100, lr__max_iter=100, lr__penalty=l2, lr__solver=saga, smote__sampling_strategy=0.9;, score=(train=0.933, test=0.932) total time=   8.6s\n"
     ]
    },
    {
     "name": "stderr",
     "output_type": "stream",
     "text": [
      "/opt/conda/lib/python3.7/site-packages/sklearn/linear_model/_sag.py:354: ConvergenceWarning: The max_iter was reached which means the coef_ did not converge\n",
      "  ConvergenceWarning,\n"
     ]
    },
    {
     "name": "stdout",
     "output_type": "stream",
     "text": [
      "[CV 10/10] END lr__C=100, lr__max_iter=100, lr__penalty=l2, lr__solver=saga, smote__sampling_strategy=0.9;, score=(train=0.933, test=0.932) total time=   8.8s\n"
     ]
    },
    {
     "name": "stderr",
     "output_type": "stream",
     "text": [
      "/opt/conda/lib/python3.7/site-packages/sklearn/linear_model/_sag.py:354: ConvergenceWarning: The max_iter was reached which means the coef_ did not converge\n",
      "  ConvergenceWarning,\n"
     ]
    },
    {
     "name": "stdout",
     "output_type": "stream",
     "text": [
      "[CV 1/10] END lr__C=100, lr__max_iter=100, lr__penalty=l2, lr__solver=sag, smote__sampling_strategy=0.9;, score=(train=0.931, test=0.932) total time=   8.8s\n",
      "[CV 2/10] END lr__C=100, lr__max_iter=100, lr__penalty=l2, lr__solver=sag, smote__sampling_strategy=0.9;, score=(train=0.932, test=0.929) total time=   8.4s\n"
     ]
    },
    {
     "name": "stderr",
     "output_type": "stream",
     "text": [
      "/opt/conda/lib/python3.7/site-packages/sklearn/linear_model/_sag.py:354: ConvergenceWarning: The max_iter was reached which means the coef_ did not converge\n",
      "  ConvergenceWarning,\n"
     ]
    },
    {
     "name": "stdout",
     "output_type": "stream",
     "text": [
      "[CV 3/10] END lr__C=100, lr__max_iter=100, lr__penalty=l2, lr__solver=sag, smote__sampling_strategy=0.9;, score=(train=0.934, test=0.933) total time=   8.7s\n"
     ]
    },
    {
     "name": "stderr",
     "output_type": "stream",
     "text": [
      "/opt/conda/lib/python3.7/site-packages/sklearn/linear_model/_sag.py:354: ConvergenceWarning: The max_iter was reached which means the coef_ did not converge\n",
      "  ConvergenceWarning,\n"
     ]
    },
    {
     "name": "stdout",
     "output_type": "stream",
     "text": [
      "[CV 4/10] END lr__C=100, lr__max_iter=100, lr__penalty=l2, lr__solver=sag, smote__sampling_strategy=0.9;, score=(train=0.935, test=0.932) total time=   8.7s\n"
     ]
    },
    {
     "name": "stderr",
     "output_type": "stream",
     "text": [
      "/opt/conda/lib/python3.7/site-packages/sklearn/linear_model/_sag.py:354: ConvergenceWarning: The max_iter was reached which means the coef_ did not converge\n",
      "  ConvergenceWarning,\n"
     ]
    },
    {
     "name": "stdout",
     "output_type": "stream",
     "text": [
      "[CV 5/10] END lr__C=100, lr__max_iter=100, lr__penalty=l2, lr__solver=sag, smote__sampling_strategy=0.9;, score=(train=0.933, test=0.935) total time=   8.7s\n",
      "[CV 6/10] END lr__C=100, lr__max_iter=100, lr__penalty=l2, lr__solver=sag, smote__sampling_strategy=0.9;, score=(train=0.934, test=0.934) total time=   7.0s\n",
      "[CV 7/10] END lr__C=100, lr__max_iter=100, lr__penalty=l2, lr__solver=sag, smote__sampling_strategy=0.9;, score=(train=0.932, test=0.930) total time=   5.7s\n"
     ]
    },
    {
     "name": "stderr",
     "output_type": "stream",
     "text": [
      "/opt/conda/lib/python3.7/site-packages/sklearn/linear_model/_sag.py:354: ConvergenceWarning: The max_iter was reached which means the coef_ did not converge\n",
      "  ConvergenceWarning,\n"
     ]
    },
    {
     "name": "stdout",
     "output_type": "stream",
     "text": [
      "[CV 8/10] END lr__C=100, lr__max_iter=100, lr__penalty=l2, lr__solver=sag, smote__sampling_strategy=0.9;, score=(train=0.933, test=0.932) total time=   8.3s\n"
     ]
    },
    {
     "name": "stderr",
     "output_type": "stream",
     "text": [
      "/opt/conda/lib/python3.7/site-packages/sklearn/linear_model/_sag.py:354: ConvergenceWarning: The max_iter was reached which means the coef_ did not converge\n",
      "  ConvergenceWarning,\n"
     ]
    },
    {
     "name": "stdout",
     "output_type": "stream",
     "text": [
      "[CV 9/10] END lr__C=100, lr__max_iter=100, lr__penalty=l2, lr__solver=sag, smote__sampling_strategy=0.9;, score=(train=0.933, test=0.932) total time=   8.7s\n"
     ]
    },
    {
     "name": "stderr",
     "output_type": "stream",
     "text": [
      "/opt/conda/lib/python3.7/site-packages/sklearn/linear_model/_sag.py:354: ConvergenceWarning: The max_iter was reached which means the coef_ did not converge\n",
      "  ConvergenceWarning,\n"
     ]
    },
    {
     "name": "stdout",
     "output_type": "stream",
     "text": [
      "[CV 10/10] END lr__C=100, lr__max_iter=100, lr__penalty=l2, lr__solver=sag, smote__sampling_strategy=0.9;, score=(train=0.933, test=0.932) total time=   8.4s\n",
      "[CV 1/10] END lr__C=100, lr__max_iter=500, lr__penalty=l2, lr__solver=sag, smote__sampling_strategy=0.9;, score=(train=0.931, test=0.932) total time=  13.5s\n",
      "[CV 2/10] END lr__C=100, lr__max_iter=500, lr__penalty=l2, lr__solver=sag, smote__sampling_strategy=0.9;, score=(train=0.932, test=0.929) total time=   8.4s\n",
      "[CV 3/10] END lr__C=100, lr__max_iter=500, lr__penalty=l2, lr__solver=sag, smote__sampling_strategy=0.9;, score=(train=0.934, test=0.933) total time=  15.6s\n",
      "[CV 4/10] END lr__C=100, lr__max_iter=500, lr__penalty=l2, lr__solver=sag, smote__sampling_strategy=0.9;, score=(train=0.935, test=0.932) total time=   8.9s\n",
      "[CV 5/10] END lr__C=100, lr__max_iter=500, lr__penalty=l2, lr__solver=sag, smote__sampling_strategy=0.9;, score=(train=0.933, test=0.935) total time=  10.1s\n",
      "[CV 6/10] END lr__C=100, lr__max_iter=500, lr__penalty=l2, lr__solver=sag, smote__sampling_strategy=0.9;, score=(train=0.934, test=0.934) total time=   7.4s\n",
      "[CV 7/10] END lr__C=100, lr__max_iter=500, lr__penalty=l2, lr__solver=sag, smote__sampling_strategy=0.9;, score=(train=0.932, test=0.930) total time=   6.4s\n",
      "[CV 8/10] END lr__C=100, lr__max_iter=500, lr__penalty=l2, lr__solver=sag, smote__sampling_strategy=0.9;, score=(train=0.933, test=0.932) total time=  12.9s\n",
      "[CV 9/10] END lr__C=100, lr__max_iter=500, lr__penalty=l2, lr__solver=sag, smote__sampling_strategy=0.9;, score=(train=0.933, test=0.932) total time=  11.9s\n",
      "[CV 10/10] END lr__C=100, lr__max_iter=500, lr__penalty=l2, lr__solver=sag, smote__sampling_strategy=0.9;, score=(train=0.933, test=0.932) total time=  14.0s\n",
      "[CV 1/10] END lr__C=100, lr__max_iter=100, lr__penalty=l2, lr__solver=newton-cg, smote__sampling_strategy=0.9;, score=(train=0.931, test=0.932) total time=   5.3s\n",
      "[CV 2/10] END lr__C=100, lr__max_iter=100, lr__penalty=l2, lr__solver=newton-cg, smote__sampling_strategy=0.9;, score=(train=0.932, test=0.929) total time=   5.1s\n",
      "[CV 3/10] END lr__C=100, lr__max_iter=100, lr__penalty=l2, lr__solver=newton-cg, smote__sampling_strategy=0.9;, score=(train=0.934, test=0.933) total time=   5.8s\n",
      "[CV 4/10] END lr__C=100, lr__max_iter=100, lr__penalty=l2, lr__solver=newton-cg, smote__sampling_strategy=0.9;, score=(train=0.935, test=0.932) total time=   5.0s\n",
      "[CV 5/10] END lr__C=100, lr__max_iter=100, lr__penalty=l2, lr__solver=newton-cg, smote__sampling_strategy=0.9;, score=(train=0.933, test=0.935) total time=   6.5s\n",
      "[CV 6/10] END lr__C=100, lr__max_iter=100, lr__penalty=l2, lr__solver=newton-cg, smote__sampling_strategy=0.9;, score=(train=0.934, test=0.934) total time=   4.7s\n",
      "[CV 7/10] END lr__C=100, lr__max_iter=100, lr__penalty=l2, lr__solver=newton-cg, smote__sampling_strategy=0.9;, score=(train=0.932, test=0.930) total time=   5.0s\n",
      "[CV 8/10] END lr__C=100, lr__max_iter=100, lr__penalty=l2, lr__solver=newton-cg, smote__sampling_strategy=0.9;, score=(train=0.933, test=0.932) total time=   5.3s\n",
      "[CV 9/10] END lr__C=100, lr__max_iter=100, lr__penalty=l2, lr__solver=newton-cg, smote__sampling_strategy=0.9;, score=(train=0.933, test=0.932) total time=   5.5s\n",
      "[CV 10/10] END lr__C=100, lr__max_iter=100, lr__penalty=l2, lr__solver=newton-cg, smote__sampling_strategy=0.9;, score=(train=0.933, test=0.932) total time=   5.1s\n",
      "[CV 1/10] END lr__C=100, lr__max_iter=500, lr__penalty=l2, lr__solver=newton-cg, smote__sampling_strategy=0.9;, score=(train=0.931, test=0.932) total time=   5.2s\n",
      "[CV 2/10] END lr__C=100, lr__max_iter=500, lr__penalty=l2, lr__solver=newton-cg, smote__sampling_strategy=0.9;, score=(train=0.932, test=0.929) total time=   4.9s\n",
      "[CV 3/10] END lr__C=100, lr__max_iter=500, lr__penalty=l2, lr__solver=newton-cg, smote__sampling_strategy=0.9;, score=(train=0.934, test=0.933) total time=   5.1s\n",
      "[CV 4/10] END lr__C=100, lr__max_iter=500, lr__penalty=l2, lr__solver=newton-cg, smote__sampling_strategy=0.9;, score=(train=0.935, test=0.932) total time=   4.7s\n",
      "[CV 5/10] END lr__C=100, lr__max_iter=500, lr__penalty=l2, lr__solver=newton-cg, smote__sampling_strategy=0.9;, score=(train=0.933, test=0.935) total time=   6.2s\n",
      "[CV 6/10] END lr__C=100, lr__max_iter=500, lr__penalty=l2, lr__solver=newton-cg, smote__sampling_strategy=0.9;, score=(train=0.934, test=0.934) total time=   4.7s\n",
      "[CV 7/10] END lr__C=100, lr__max_iter=500, lr__penalty=l2, lr__solver=newton-cg, smote__sampling_strategy=0.9;, score=(train=0.932, test=0.930) total time=   5.1s\n",
      "[CV 8/10] END lr__C=100, lr__max_iter=500, lr__penalty=l2, lr__solver=newton-cg, smote__sampling_strategy=0.9;, score=(train=0.933, test=0.932) total time=   5.3s\n",
      "[CV 9/10] END lr__C=100, lr__max_iter=500, lr__penalty=l2, lr__solver=newton-cg, smote__sampling_strategy=0.9;, score=(train=0.933, test=0.932) total time=   4.9s\n",
      "[CV 10/10] END lr__C=100, lr__max_iter=500, lr__penalty=l2, lr__solver=newton-cg, smote__sampling_strategy=0.9;, score=(train=0.933, test=0.932) total time=   5.4s\n",
      "[CV 1/10] END lr__C=100, lr__max_iter=500, lr__penalty=l2, lr__solver=saga, smote__sampling_strategy=0.9;, score=(train=0.931, test=0.932) total time=  19.4s\n",
      "[CV 2/10] END lr__C=100, lr__max_iter=500, lr__penalty=l2, lr__solver=saga, smote__sampling_strategy=0.9;, score=(train=0.932, test=0.929) total time=  12.6s\n",
      "[CV 3/10] END lr__C=100, lr__max_iter=500, lr__penalty=l2, lr__solver=saga, smote__sampling_strategy=0.9;, score=(train=0.934, test=0.933) total time=  22.1s\n",
      "[CV 4/10] END lr__C=100, lr__max_iter=500, lr__penalty=l2, lr__solver=saga, smote__sampling_strategy=0.9;, score=(train=0.935, test=0.932) total time=  11.5s\n",
      "[CV 5/10] END lr__C=100, lr__max_iter=500, lr__penalty=l2, lr__solver=saga, smote__sampling_strategy=0.9;, score=(train=0.933, test=0.935) total time=  11.2s\n",
      "[CV 6/10] END lr__C=100, lr__max_iter=500, lr__penalty=l2, lr__solver=saga, smote__sampling_strategy=0.9;, score=(train=0.934, test=0.934) total time=   9.7s\n",
      "[CV 7/10] END lr__C=100, lr__max_iter=500, lr__penalty=l2, lr__solver=saga, smote__sampling_strategy=0.9;, score=(train=0.932, test=0.930) total time=   8.1s\n",
      "[CV 8/10] END lr__C=100, lr__max_iter=500, lr__penalty=l2, lr__solver=saga, smote__sampling_strategy=0.9;, score=(train=0.933, test=0.932) total time=  19.5s\n",
      "[CV 9/10] END lr__C=100, lr__max_iter=500, lr__penalty=l2, lr__solver=saga, smote__sampling_strategy=0.9;, score=(train=0.933, test=0.932) total time=  14.1s\n",
      "[CV 10/10] END lr__C=100, lr__max_iter=500, lr__penalty=l2, lr__solver=saga, smote__sampling_strategy=0.9;, score=(train=0.933, test=0.932) total time=  17.6s\n"
     ]
    },
    {
     "name": "stderr",
     "output_type": "stream",
     "text": [
      "/opt/conda/lib/python3.7/site-packages/sklearn/linear_model/_logistic.py:818: ConvergenceWarning: lbfgs failed to converge (status=1):\n",
      "STOP: TOTAL NO. of ITERATIONS REACHED LIMIT.\n",
      "\n",
      "Increase the number of iterations (max_iter) or scale the data as shown in:\n",
      "    https://scikit-learn.org/stable/modules/preprocessing.html\n",
      "Please also refer to the documentation for alternative solver options:\n",
      "    https://scikit-learn.org/stable/modules/linear_model.html#logistic-regression\n",
      "  extra_warning_msg=_LOGISTIC_SOLVER_CONVERGENCE_MSG,\n"
     ]
    },
    {
     "name": "stdout",
     "output_type": "stream",
     "text": [
      "[CV 1/10] END lr__C=100, lr__max_iter=500, lr__penalty=l2, lr__solver=lbfgs, smote__sampling_strategy=0.9;, score=(train=0.931, test=0.932) total time=   4.5s\n"
     ]
    },
    {
     "name": "stderr",
     "output_type": "stream",
     "text": [
      "/opt/conda/lib/python3.7/site-packages/sklearn/linear_model/_logistic.py:818: ConvergenceWarning: lbfgs failed to converge (status=1):\n",
      "STOP: TOTAL NO. of ITERATIONS REACHED LIMIT.\n",
      "\n",
      "Increase the number of iterations (max_iter) or scale the data as shown in:\n",
      "    https://scikit-learn.org/stable/modules/preprocessing.html\n",
      "Please also refer to the documentation for alternative solver options:\n",
      "    https://scikit-learn.org/stable/modules/linear_model.html#logistic-regression\n",
      "  extra_warning_msg=_LOGISTIC_SOLVER_CONVERGENCE_MSG,\n"
     ]
    },
    {
     "name": "stdout",
     "output_type": "stream",
     "text": [
      "[CV 2/10] END lr__C=100, lr__max_iter=500, lr__penalty=l2, lr__solver=lbfgs, smote__sampling_strategy=0.9;, score=(train=0.933, test=0.929) total time=   4.6s\n"
     ]
    },
    {
     "name": "stderr",
     "output_type": "stream",
     "text": [
      "/opt/conda/lib/python3.7/site-packages/sklearn/linear_model/_logistic.py:818: ConvergenceWarning: lbfgs failed to converge (status=1):\n",
      "STOP: TOTAL NO. of ITERATIONS REACHED LIMIT.\n",
      "\n",
      "Increase the number of iterations (max_iter) or scale the data as shown in:\n",
      "    https://scikit-learn.org/stable/modules/preprocessing.html\n",
      "Please also refer to the documentation for alternative solver options:\n",
      "    https://scikit-learn.org/stable/modules/linear_model.html#logistic-regression\n",
      "  extra_warning_msg=_LOGISTIC_SOLVER_CONVERGENCE_MSG,\n"
     ]
    },
    {
     "name": "stdout",
     "output_type": "stream",
     "text": [
      "[CV 3/10] END lr__C=100, lr__max_iter=500, lr__penalty=l2, lr__solver=lbfgs, smote__sampling_strategy=0.9;, score=(train=0.934, test=0.933) total time=   4.4s\n"
     ]
    },
    {
     "name": "stderr",
     "output_type": "stream",
     "text": [
      "/opt/conda/lib/python3.7/site-packages/sklearn/linear_model/_logistic.py:818: ConvergenceWarning: lbfgs failed to converge (status=1):\n",
      "STOP: TOTAL NO. of ITERATIONS REACHED LIMIT.\n",
      "\n",
      "Increase the number of iterations (max_iter) or scale the data as shown in:\n",
      "    https://scikit-learn.org/stable/modules/preprocessing.html\n",
      "Please also refer to the documentation for alternative solver options:\n",
      "    https://scikit-learn.org/stable/modules/linear_model.html#logistic-regression\n",
      "  extra_warning_msg=_LOGISTIC_SOLVER_CONVERGENCE_MSG,\n"
     ]
    },
    {
     "name": "stdout",
     "output_type": "stream",
     "text": [
      "[CV 4/10] END lr__C=100, lr__max_iter=500, lr__penalty=l2, lr__solver=lbfgs, smote__sampling_strategy=0.9;, score=(train=0.935, test=0.932) total time=   4.9s\n"
     ]
    },
    {
     "name": "stderr",
     "output_type": "stream",
     "text": [
      "/opt/conda/lib/python3.7/site-packages/sklearn/linear_model/_logistic.py:818: ConvergenceWarning: lbfgs failed to converge (status=1):\n",
      "STOP: TOTAL NO. of ITERATIONS REACHED LIMIT.\n",
      "\n",
      "Increase the number of iterations (max_iter) or scale the data as shown in:\n",
      "    https://scikit-learn.org/stable/modules/preprocessing.html\n",
      "Please also refer to the documentation for alternative solver options:\n",
      "    https://scikit-learn.org/stable/modules/linear_model.html#logistic-regression\n",
      "  extra_warning_msg=_LOGISTIC_SOLVER_CONVERGENCE_MSG,\n"
     ]
    },
    {
     "name": "stdout",
     "output_type": "stream",
     "text": [
      "[CV 5/10] END lr__C=100, lr__max_iter=500, lr__penalty=l2, lr__solver=lbfgs, smote__sampling_strategy=0.9;, score=(train=0.933, test=0.935) total time=   4.5s\n"
     ]
    },
    {
     "name": "stderr",
     "output_type": "stream",
     "text": [
      "/opt/conda/lib/python3.7/site-packages/sklearn/linear_model/_logistic.py:818: ConvergenceWarning: lbfgs failed to converge (status=1):\n",
      "STOP: TOTAL NO. of ITERATIONS REACHED LIMIT.\n",
      "\n",
      "Increase the number of iterations (max_iter) or scale the data as shown in:\n",
      "    https://scikit-learn.org/stable/modules/preprocessing.html\n",
      "Please also refer to the documentation for alternative solver options:\n",
      "    https://scikit-learn.org/stable/modules/linear_model.html#logistic-regression\n",
      "  extra_warning_msg=_LOGISTIC_SOLVER_CONVERGENCE_MSG,\n"
     ]
    },
    {
     "name": "stdout",
     "output_type": "stream",
     "text": [
      "[CV 6/10] END lr__C=100, lr__max_iter=500, lr__penalty=l2, lr__solver=lbfgs, smote__sampling_strategy=0.9;, score=(train=0.934, test=0.934) total time=   4.4s\n",
      "[CV 7/10] END lr__C=100, lr__max_iter=500, lr__penalty=l2, lr__solver=lbfgs, smote__sampling_strategy=0.9;, score=(train=0.933, test=0.930) total time=   3.7s\n"
     ]
    },
    {
     "name": "stderr",
     "output_type": "stream",
     "text": [
      "/opt/conda/lib/python3.7/site-packages/sklearn/linear_model/_logistic.py:818: ConvergenceWarning: lbfgs failed to converge (status=1):\n",
      "STOP: TOTAL NO. of ITERATIONS REACHED LIMIT.\n",
      "\n",
      "Increase the number of iterations (max_iter) or scale the data as shown in:\n",
      "    https://scikit-learn.org/stable/modules/preprocessing.html\n",
      "Please also refer to the documentation for alternative solver options:\n",
      "    https://scikit-learn.org/stable/modules/linear_model.html#logistic-regression\n",
      "  extra_warning_msg=_LOGISTIC_SOLVER_CONVERGENCE_MSG,\n"
     ]
    },
    {
     "name": "stdout",
     "output_type": "stream",
     "text": [
      "[CV 8/10] END lr__C=100, lr__max_iter=500, lr__penalty=l2, lr__solver=lbfgs, smote__sampling_strategy=0.9;, score=(train=0.933, test=0.932) total time=   4.7s\n"
     ]
    },
    {
     "name": "stderr",
     "output_type": "stream",
     "text": [
      "/opt/conda/lib/python3.7/site-packages/sklearn/linear_model/_logistic.py:818: ConvergenceWarning: lbfgs failed to converge (status=1):\n",
      "STOP: TOTAL NO. of ITERATIONS REACHED LIMIT.\n",
      "\n",
      "Increase the number of iterations (max_iter) or scale the data as shown in:\n",
      "    https://scikit-learn.org/stable/modules/preprocessing.html\n",
      "Please also refer to the documentation for alternative solver options:\n",
      "    https://scikit-learn.org/stable/modules/linear_model.html#logistic-regression\n",
      "  extra_warning_msg=_LOGISTIC_SOLVER_CONVERGENCE_MSG,\n"
     ]
    },
    {
     "name": "stdout",
     "output_type": "stream",
     "text": [
      "[CV 9/10] END lr__C=100, lr__max_iter=500, lr__penalty=l2, lr__solver=lbfgs, smote__sampling_strategy=0.9;, score=(train=0.933, test=0.932) total time=   4.6s\n"
     ]
    },
    {
     "name": "stderr",
     "output_type": "stream",
     "text": [
      "/opt/conda/lib/python3.7/site-packages/sklearn/linear_model/_logistic.py:818: ConvergenceWarning: lbfgs failed to converge (status=1):\n",
      "STOP: TOTAL NO. of ITERATIONS REACHED LIMIT.\n",
      "\n",
      "Increase the number of iterations (max_iter) or scale the data as shown in:\n",
      "    https://scikit-learn.org/stable/modules/preprocessing.html\n",
      "Please also refer to the documentation for alternative solver options:\n",
      "    https://scikit-learn.org/stable/modules/linear_model.html#logistic-regression\n",
      "  extra_warning_msg=_LOGISTIC_SOLVER_CONVERGENCE_MSG,\n"
     ]
    },
    {
     "name": "stdout",
     "output_type": "stream",
     "text": [
      "[CV 10/10] END lr__C=100, lr__max_iter=500, lr__penalty=l2, lr__solver=lbfgs, smote__sampling_strategy=0.9;, score=(train=0.933, test=0.932) total time=   4.4s\n",
      "[CV 1/10] END lr__C=100, lr__max_iter=500, lr__penalty=l2, lr__solver=liblinear, smote__sampling_strategy=0.9;, score=(train=0.931, test=0.932) total time=   2.8s\n",
      "[CV 2/10] END lr__C=100, lr__max_iter=500, lr__penalty=l2, lr__solver=liblinear, smote__sampling_strategy=0.9;, score=(train=0.933, test=0.929) total time=   2.9s\n",
      "[CV 3/10] END lr__C=100, lr__max_iter=500, lr__penalty=l2, lr__solver=liblinear, smote__sampling_strategy=0.9;, score=(train=0.934, test=0.933) total time=   3.0s\n",
      "[CV 4/10] END lr__C=100, lr__max_iter=500, lr__penalty=l2, lr__solver=liblinear, smote__sampling_strategy=0.9;, score=(train=0.935, test=0.932) total time=   2.8s\n",
      "[CV 5/10] END lr__C=100, lr__max_iter=500, lr__penalty=l2, lr__solver=liblinear, smote__sampling_strategy=0.9;, score=(train=0.933, test=0.935) total time=   2.8s\n",
      "[CV 6/10] END lr__C=100, lr__max_iter=500, lr__penalty=l2, lr__solver=liblinear, smote__sampling_strategy=0.9;, score=(train=0.934, test=0.934) total time=   2.7s\n",
      "[CV 7/10] END lr__C=100, lr__max_iter=500, lr__penalty=l2, lr__solver=liblinear, smote__sampling_strategy=0.9;, score=(train=0.932, test=0.930) total time=   2.5s\n",
      "[CV 8/10] END lr__C=100, lr__max_iter=500, lr__penalty=l2, lr__solver=liblinear, smote__sampling_strategy=0.9;, score=(train=0.933, test=0.932) total time=   2.8s\n",
      "[CV 9/10] END lr__C=100, lr__max_iter=500, lr__penalty=l2, lr__solver=liblinear, smote__sampling_strategy=0.9;, score=(train=0.933, test=0.932) total time=   2.9s\n",
      "[CV 10/10] END lr__C=100, lr__max_iter=500, lr__penalty=l2, lr__solver=liblinear, smote__sampling_strategy=0.9;, score=(train=0.933, test=0.932) total time=   3.0s\n",
      "[CV 1/10] END lr__C=100, lr__max_iter=100, lr__penalty=l2, lr__solver=liblinear, smote__sampling_strategy=0.9;, score=(train=0.931, test=0.932) total time=   2.8s\n",
      "[CV 2/10] END lr__C=100, lr__max_iter=100, lr__penalty=l2, lr__solver=liblinear, smote__sampling_strategy=0.9;, score=(train=0.933, test=0.929) total time=   2.9s\n",
      "[CV 3/10] END lr__C=100, lr__max_iter=100, lr__penalty=l2, lr__solver=liblinear, smote__sampling_strategy=0.9;, score=(train=0.934, test=0.933) total time=   2.9s\n",
      "[CV 4/10] END lr__C=100, lr__max_iter=100, lr__penalty=l2, lr__solver=liblinear, smote__sampling_strategy=0.9;, score=(train=0.935, test=0.932) total time=   2.8s\n",
      "[CV 5/10] END lr__C=100, lr__max_iter=100, lr__penalty=l2, lr__solver=liblinear, smote__sampling_strategy=0.9;, score=(train=0.933, test=0.935) total time=   2.8s\n",
      "[CV 6/10] END lr__C=100, lr__max_iter=100, lr__penalty=l2, lr__solver=liblinear, smote__sampling_strategy=0.9;, score=(train=0.934, test=0.934) total time=   2.8s\n",
      "[CV 7/10] END lr__C=100, lr__max_iter=100, lr__penalty=l2, lr__solver=liblinear, smote__sampling_strategy=0.9;, score=(train=0.932, test=0.930) total time=   2.6s\n",
      "[CV 8/10] END lr__C=100, lr__max_iter=100, lr__penalty=l2, lr__solver=liblinear, smote__sampling_strategy=0.9;, score=(train=0.933, test=0.932) total time=   2.8s\n",
      "[CV 9/10] END lr__C=100, lr__max_iter=100, lr__penalty=l2, lr__solver=liblinear, smote__sampling_strategy=0.9;, score=(train=0.933, test=0.932) total time=   3.0s\n",
      "[CV 10/10] END lr__C=100, lr__max_iter=100, lr__penalty=l2, lr__solver=liblinear, smote__sampling_strategy=0.9;, score=(train=0.933, test=0.932) total time=   3.1s\n",
      "[CV 1/10] END lr__C=100, lr__max_iter=500, lr__penalty=l2, lr__solver=newton-cg, smote__sampling_strategy=0.8;, score=(train=0.932, test=0.933) total time=   5.9s\n",
      "[CV 2/10] END lr__C=100, lr__max_iter=500, lr__penalty=l2, lr__solver=newton-cg, smote__sampling_strategy=0.8;, score=(train=0.931, test=0.930) total time=   4.9s\n",
      "[CV 3/10] END lr__C=100, lr__max_iter=500, lr__penalty=l2, lr__solver=newton-cg, smote__sampling_strategy=0.8;, score=(train=0.934, test=0.932) total time=   5.5s\n",
      "[CV 4/10] END lr__C=100, lr__max_iter=500, lr__penalty=l2, lr__solver=newton-cg, smote__sampling_strategy=0.8;, score=(train=0.935, test=0.932) total time=   4.9s\n",
      "[CV 5/10] END lr__C=100, lr__max_iter=500, lr__penalty=l2, lr__solver=newton-cg, smote__sampling_strategy=0.8;, score=(train=0.933, test=0.935) total time=   6.1s\n",
      "[CV 6/10] END lr__C=100, lr__max_iter=500, lr__penalty=l2, lr__solver=newton-cg, smote__sampling_strategy=0.8;, score=(train=0.934, test=0.933) total time=   5.9s\n",
      "[CV 7/10] END lr__C=100, lr__max_iter=500, lr__penalty=l2, lr__solver=newton-cg, smote__sampling_strategy=0.8;, score=(train=0.932, test=0.931) total time=   5.3s\n",
      "[CV 8/10] END lr__C=100, lr__max_iter=500, lr__penalty=l2, lr__solver=newton-cg, smote__sampling_strategy=0.8;, score=(train=0.934, test=0.931) total time=   5.3s\n",
      "[CV 9/10] END lr__C=100, lr__max_iter=500, lr__penalty=l2, lr__solver=newton-cg, smote__sampling_strategy=0.8;, score=(train=0.934, test=0.933) total time=   4.8s\n",
      "[CV 10/10] END lr__C=100, lr__max_iter=500, lr__penalty=l2, lr__solver=newton-cg, smote__sampling_strategy=0.8;, score=(train=0.934, test=0.932) total time=   5.6s\n",
      "[CV 1/10] END lr__C=100, lr__max_iter=100, lr__penalty=l2, lr__solver=newton-cg, smote__sampling_strategy=0.8;, score=(train=0.932, test=0.933) total time=   6.1s\n",
      "[CV 2/10] END lr__C=100, lr__max_iter=100, lr__penalty=l2, lr__solver=newton-cg, smote__sampling_strategy=0.8;, score=(train=0.931, test=0.930) total time=   5.5s\n",
      "[CV 3/10] END lr__C=100, lr__max_iter=100, lr__penalty=l2, lr__solver=newton-cg, smote__sampling_strategy=0.8;, score=(train=0.934, test=0.932) total time=   5.5s\n",
      "[CV 4/10] END lr__C=100, lr__max_iter=100, lr__penalty=l2, lr__solver=newton-cg, smote__sampling_strategy=0.8;, score=(train=0.935, test=0.932) total time=   5.1s\n",
      "[CV 5/10] END lr__C=100, lr__max_iter=100, lr__penalty=l2, lr__solver=newton-cg, smote__sampling_strategy=0.8;, score=(train=0.933, test=0.935) total time=   5.8s\n",
      "[CV 6/10] END lr__C=100, lr__max_iter=100, lr__penalty=l2, lr__solver=newton-cg, smote__sampling_strategy=0.8;, score=(train=0.934, test=0.933) total time=   5.7s\n",
      "[CV 7/10] END lr__C=100, lr__max_iter=100, lr__penalty=l2, lr__solver=newton-cg, smote__sampling_strategy=0.8;, score=(train=0.932, test=0.931) total time=   5.2s\n",
      "[CV 8/10] END lr__C=100, lr__max_iter=100, lr__penalty=l2, lr__solver=newton-cg, smote__sampling_strategy=0.8;, score=(train=0.934, test=0.931) total time=   4.6s\n",
      "[CV 9/10] END lr__C=100, lr__max_iter=100, lr__penalty=l2, lr__solver=newton-cg, smote__sampling_strategy=0.8;, score=(train=0.934, test=0.933) total time=   4.3s\n",
      "[CV 10/10] END lr__C=100, lr__max_iter=100, lr__penalty=l2, lr__solver=newton-cg, smote__sampling_strategy=0.8;, score=(train=0.934, test=0.932) total time=   5.3s\n",
      "[CV 1/10] END lr__C=100, lr__max_iter=500, lr__penalty=l2, lr__solver=sag, smote__sampling_strategy=0.8;, score=(train=0.932, test=0.933) total time=  11.7s\n",
      "[CV 2/10] END lr__C=100, lr__max_iter=500, lr__penalty=l2, lr__solver=sag, smote__sampling_strategy=0.8;, score=(train=0.931, test=0.930) total time=   8.7s\n",
      "[CV 3/10] END lr__C=100, lr__max_iter=500, lr__penalty=l2, lr__solver=sag, smote__sampling_strategy=0.8;, score=(train=0.934, test=0.932) total time=  14.2s\n",
      "[CV 4/10] END lr__C=100, lr__max_iter=500, lr__penalty=l2, lr__solver=sag, smote__sampling_strategy=0.8;, score=(train=0.935, test=0.932) total time=   8.4s\n",
      "[CV 5/10] END lr__C=100, lr__max_iter=500, lr__penalty=l2, lr__solver=sag, smote__sampling_strategy=0.8;, score=(train=0.933, test=0.935) total time=   9.0s\n",
      "[CV 6/10] END lr__C=100, lr__max_iter=500, lr__penalty=l2, lr__solver=sag, smote__sampling_strategy=0.8;, score=(train=0.934, test=0.933) total time=   6.9s\n",
      "[CV 7/10] END lr__C=100, lr__max_iter=500, lr__penalty=l2, lr__solver=sag, smote__sampling_strategy=0.8;, score=(train=0.932, test=0.931) total time=   4.0s\n",
      "[CV 8/10] END lr__C=100, lr__max_iter=500, lr__penalty=l2, lr__solver=sag, smote__sampling_strategy=0.8;, score=(train=0.934, test=0.931) total time=  11.3s\n",
      "[CV 9/10] END lr__C=100, lr__max_iter=500, lr__penalty=l2, lr__solver=sag, smote__sampling_strategy=0.8;, score=(train=0.934, test=0.933) total time=  11.2s\n",
      "[CV 10/10] END lr__C=100, lr__max_iter=500, lr__penalty=l2, lr__solver=sag, smote__sampling_strategy=0.8;, score=(train=0.934, test=0.932) total time=  11.9s\n"
     ]
    },
    {
     "name": "stderr",
     "output_type": "stream",
     "text": [
      "/opt/conda/lib/python3.7/site-packages/sklearn/linear_model/_sag.py:354: ConvergenceWarning: The max_iter was reached which means the coef_ did not converge\n",
      "  ConvergenceWarning,\n"
     ]
    },
    {
     "name": "stdout",
     "output_type": "stream",
     "text": [
      "[CV 1/10] END lr__C=100, lr__max_iter=100, lr__penalty=l2, lr__solver=sag, smote__sampling_strategy=0.8;, score=(train=0.932, test=0.933) total time=   8.4s\n"
     ]
    },
    {
     "name": "stderr",
     "output_type": "stream",
     "text": [
      "/opt/conda/lib/python3.7/site-packages/sklearn/linear_model/_sag.py:354: ConvergenceWarning: The max_iter was reached which means the coef_ did not converge\n",
      "  ConvergenceWarning,\n"
     ]
    },
    {
     "name": "stdout",
     "output_type": "stream",
     "text": [
      "[CV 2/10] END lr__C=100, lr__max_iter=100, lr__penalty=l2, lr__solver=sag, smote__sampling_strategy=0.8;, score=(train=0.931, test=0.930) total time=   8.1s\n"
     ]
    },
    {
     "name": "stderr",
     "output_type": "stream",
     "text": [
      "/opt/conda/lib/python3.7/site-packages/sklearn/linear_model/_sag.py:354: ConvergenceWarning: The max_iter was reached which means the coef_ did not converge\n",
      "  ConvergenceWarning,\n"
     ]
    },
    {
     "name": "stdout",
     "output_type": "stream",
     "text": [
      "[CV 3/10] END lr__C=100, lr__max_iter=100, lr__penalty=l2, lr__solver=sag, smote__sampling_strategy=0.8;, score=(train=0.934, test=0.932) total time=   8.1s\n"
     ]
    },
    {
     "name": "stderr",
     "output_type": "stream",
     "text": [
      "/opt/conda/lib/python3.7/site-packages/sklearn/linear_model/_sag.py:354: ConvergenceWarning: The max_iter was reached which means the coef_ did not converge\n",
      "  ConvergenceWarning,\n"
     ]
    },
    {
     "name": "stdout",
     "output_type": "stream",
     "text": [
      "[CV 4/10] END lr__C=100, lr__max_iter=100, lr__penalty=l2, lr__solver=sag, smote__sampling_strategy=0.8;, score=(train=0.935, test=0.932) total time=   8.2s\n"
     ]
    },
    {
     "name": "stderr",
     "output_type": "stream",
     "text": [
      "/opt/conda/lib/python3.7/site-packages/sklearn/linear_model/_sag.py:354: ConvergenceWarning: The max_iter was reached which means the coef_ did not converge\n",
      "  ConvergenceWarning,\n"
     ]
    },
    {
     "name": "stdout",
     "output_type": "stream",
     "text": [
      "[CV 5/10] END lr__C=100, lr__max_iter=100, lr__penalty=l2, lr__solver=sag, smote__sampling_strategy=0.8;, score=(train=0.933, test=0.935) total time=   8.1s\n",
      "[CV 6/10] END lr__C=100, lr__max_iter=100, lr__penalty=l2, lr__solver=sag, smote__sampling_strategy=0.8;, score=(train=0.934, test=0.933) total time=   6.8s\n",
      "[CV 7/10] END lr__C=100, lr__max_iter=100, lr__penalty=l2, lr__solver=sag, smote__sampling_strategy=0.8;, score=(train=0.932, test=0.931) total time=   3.6s\n"
     ]
    },
    {
     "name": "stderr",
     "output_type": "stream",
     "text": [
      "/opt/conda/lib/python3.7/site-packages/sklearn/linear_model/_sag.py:354: ConvergenceWarning: The max_iter was reached which means the coef_ did not converge\n",
      "  ConvergenceWarning,\n"
     ]
    },
    {
     "name": "stdout",
     "output_type": "stream",
     "text": [
      "[CV 8/10] END lr__C=100, lr__max_iter=100, lr__penalty=l2, lr__solver=sag, smote__sampling_strategy=0.8;, score=(train=0.934, test=0.931) total time=   8.0s\n"
     ]
    },
    {
     "name": "stderr",
     "output_type": "stream",
     "text": [
      "/opt/conda/lib/python3.7/site-packages/sklearn/linear_model/_sag.py:354: ConvergenceWarning: The max_iter was reached which means the coef_ did not converge\n",
      "  ConvergenceWarning,\n"
     ]
    },
    {
     "name": "stdout",
     "output_type": "stream",
     "text": [
      "[CV 9/10] END lr__C=100, lr__max_iter=100, lr__penalty=l2, lr__solver=sag, smote__sampling_strategy=0.8;, score=(train=0.934, test=0.933) total time=   8.1s\n"
     ]
    },
    {
     "name": "stderr",
     "output_type": "stream",
     "text": [
      "/opt/conda/lib/python3.7/site-packages/sklearn/linear_model/_sag.py:354: ConvergenceWarning: The max_iter was reached which means the coef_ did not converge\n",
      "  ConvergenceWarning,\n"
     ]
    },
    {
     "name": "stdout",
     "output_type": "stream",
     "text": [
      "[CV 10/10] END lr__C=100, lr__max_iter=100, lr__penalty=l2, lr__solver=sag, smote__sampling_strategy=0.8;, score=(train=0.934, test=0.932) total time=   8.0s\n"
     ]
    },
    {
     "name": "stderr",
     "output_type": "stream",
     "text": [
      "/opt/conda/lib/python3.7/site-packages/sklearn/linear_model/_logistic.py:818: ConvergenceWarning: lbfgs failed to converge (status=1):\n",
      "STOP: TOTAL NO. of ITERATIONS REACHED LIMIT.\n",
      "\n",
      "Increase the number of iterations (max_iter) or scale the data as shown in:\n",
      "    https://scikit-learn.org/stable/modules/preprocessing.html\n",
      "Please also refer to the documentation for alternative solver options:\n",
      "    https://scikit-learn.org/stable/modules/linear_model.html#logistic-regression\n",
      "  extra_warning_msg=_LOGISTIC_SOLVER_CONVERGENCE_MSG,\n"
     ]
    },
    {
     "name": "stdout",
     "output_type": "stream",
     "text": [
      "[CV 1/10] END lr__C=100, lr__max_iter=500, lr__penalty=l2, lr__solver=lbfgs, smote__sampling_strategy=0.8;, score=(train=0.932, test=0.933) total time=   4.5s\n"
     ]
    },
    {
     "name": "stderr",
     "output_type": "stream",
     "text": [
      "/opt/conda/lib/python3.7/site-packages/sklearn/linear_model/_logistic.py:818: ConvergenceWarning: lbfgs failed to converge (status=1):\n",
      "STOP: TOTAL NO. of ITERATIONS REACHED LIMIT.\n",
      "\n",
      "Increase the number of iterations (max_iter) or scale the data as shown in:\n",
      "    https://scikit-learn.org/stable/modules/preprocessing.html\n",
      "Please also refer to the documentation for alternative solver options:\n",
      "    https://scikit-learn.org/stable/modules/linear_model.html#logistic-regression\n",
      "  extra_warning_msg=_LOGISTIC_SOLVER_CONVERGENCE_MSG,\n"
     ]
    },
    {
     "name": "stdout",
     "output_type": "stream",
     "text": [
      "[CV 2/10] END lr__C=100, lr__max_iter=500, lr__penalty=l2, lr__solver=lbfgs, smote__sampling_strategy=0.8;, score=(train=0.931, test=0.930) total time=   4.6s\n"
     ]
    },
    {
     "name": "stderr",
     "output_type": "stream",
     "text": [
      "/opt/conda/lib/python3.7/site-packages/sklearn/linear_model/_logistic.py:818: ConvergenceWarning: lbfgs failed to converge (status=1):\n",
      "STOP: TOTAL NO. of ITERATIONS REACHED LIMIT.\n",
      "\n",
      "Increase the number of iterations (max_iter) or scale the data as shown in:\n",
      "    https://scikit-learn.org/stable/modules/preprocessing.html\n",
      "Please also refer to the documentation for alternative solver options:\n",
      "    https://scikit-learn.org/stable/modules/linear_model.html#logistic-regression\n",
      "  extra_warning_msg=_LOGISTIC_SOLVER_CONVERGENCE_MSG,\n"
     ]
    },
    {
     "name": "stdout",
     "output_type": "stream",
     "text": [
      "[CV 3/10] END lr__C=100, lr__max_iter=500, lr__penalty=l2, lr__solver=lbfgs, smote__sampling_strategy=0.8;, score=(train=0.934, test=0.932) total time=   4.6s\n"
     ]
    },
    {
     "name": "stderr",
     "output_type": "stream",
     "text": [
      "/opt/conda/lib/python3.7/site-packages/sklearn/linear_model/_logistic.py:818: ConvergenceWarning: lbfgs failed to converge (status=1):\n",
      "STOP: TOTAL NO. of ITERATIONS REACHED LIMIT.\n",
      "\n",
      "Increase the number of iterations (max_iter) or scale the data as shown in:\n",
      "    https://scikit-learn.org/stable/modules/preprocessing.html\n",
      "Please also refer to the documentation for alternative solver options:\n",
      "    https://scikit-learn.org/stable/modules/linear_model.html#logistic-regression\n",
      "  extra_warning_msg=_LOGISTIC_SOLVER_CONVERGENCE_MSG,\n"
     ]
    },
    {
     "name": "stdout",
     "output_type": "stream",
     "text": [
      "[CV 4/10] END lr__C=100, lr__max_iter=500, lr__penalty=l2, lr__solver=lbfgs, smote__sampling_strategy=0.8;, score=(train=0.935, test=0.932) total time=   4.7s\n"
     ]
    },
    {
     "name": "stderr",
     "output_type": "stream",
     "text": [
      "/opt/conda/lib/python3.7/site-packages/sklearn/linear_model/_logistic.py:818: ConvergenceWarning: lbfgs failed to converge (status=1):\n",
      "STOP: TOTAL NO. of ITERATIONS REACHED LIMIT.\n",
      "\n",
      "Increase the number of iterations (max_iter) or scale the data as shown in:\n",
      "    https://scikit-learn.org/stable/modules/preprocessing.html\n",
      "Please also refer to the documentation for alternative solver options:\n",
      "    https://scikit-learn.org/stable/modules/linear_model.html#logistic-regression\n",
      "  extra_warning_msg=_LOGISTIC_SOLVER_CONVERGENCE_MSG,\n"
     ]
    },
    {
     "name": "stdout",
     "output_type": "stream",
     "text": [
      "[CV 5/10] END lr__C=100, lr__max_iter=500, lr__penalty=l2, lr__solver=lbfgs, smote__sampling_strategy=0.8;, score=(train=0.933, test=0.935) total time=   4.4s\n"
     ]
    },
    {
     "name": "stderr",
     "output_type": "stream",
     "text": [
      "/opt/conda/lib/python3.7/site-packages/sklearn/linear_model/_logistic.py:818: ConvergenceWarning: lbfgs failed to converge (status=1):\n",
      "STOP: TOTAL NO. of ITERATIONS REACHED LIMIT.\n",
      "\n",
      "Increase the number of iterations (max_iter) or scale the data as shown in:\n",
      "    https://scikit-learn.org/stable/modules/preprocessing.html\n",
      "Please also refer to the documentation for alternative solver options:\n",
      "    https://scikit-learn.org/stable/modules/linear_model.html#logistic-regression\n",
      "  extra_warning_msg=_LOGISTIC_SOLVER_CONVERGENCE_MSG,\n"
     ]
    },
    {
     "name": "stdout",
     "output_type": "stream",
     "text": [
      "[CV 6/10] END lr__C=100, lr__max_iter=500, lr__penalty=l2, lr__solver=lbfgs, smote__sampling_strategy=0.8;, score=(train=0.934, test=0.933) total time=   4.4s\n",
      "[CV 7/10] END lr__C=100, lr__max_iter=500, lr__penalty=l2, lr__solver=lbfgs, smote__sampling_strategy=0.8;, score=(train=0.932, test=0.931) total time=   3.3s\n"
     ]
    },
    {
     "name": "stderr",
     "output_type": "stream",
     "text": [
      "/opt/conda/lib/python3.7/site-packages/sklearn/linear_model/_logistic.py:818: ConvergenceWarning: lbfgs failed to converge (status=1):\n",
      "STOP: TOTAL NO. of ITERATIONS REACHED LIMIT.\n",
      "\n",
      "Increase the number of iterations (max_iter) or scale the data as shown in:\n",
      "    https://scikit-learn.org/stable/modules/preprocessing.html\n",
      "Please also refer to the documentation for alternative solver options:\n",
      "    https://scikit-learn.org/stable/modules/linear_model.html#logistic-regression\n",
      "  extra_warning_msg=_LOGISTIC_SOLVER_CONVERGENCE_MSG,\n"
     ]
    },
    {
     "name": "stdout",
     "output_type": "stream",
     "text": [
      "[CV 8/10] END lr__C=100, lr__max_iter=500, lr__penalty=l2, lr__solver=lbfgs, smote__sampling_strategy=0.8;, score=(train=0.934, test=0.931) total time=   4.3s\n"
     ]
    },
    {
     "name": "stderr",
     "output_type": "stream",
     "text": [
      "/opt/conda/lib/python3.7/site-packages/sklearn/linear_model/_logistic.py:818: ConvergenceWarning: lbfgs failed to converge (status=1):\n",
      "STOP: TOTAL NO. of ITERATIONS REACHED LIMIT.\n",
      "\n",
      "Increase the number of iterations (max_iter) or scale the data as shown in:\n",
      "    https://scikit-learn.org/stable/modules/preprocessing.html\n",
      "Please also refer to the documentation for alternative solver options:\n",
      "    https://scikit-learn.org/stable/modules/linear_model.html#logistic-regression\n",
      "  extra_warning_msg=_LOGISTIC_SOLVER_CONVERGENCE_MSG,\n"
     ]
    },
    {
     "name": "stdout",
     "output_type": "stream",
     "text": [
      "[CV 9/10] END lr__C=100, lr__max_iter=500, lr__penalty=l2, lr__solver=lbfgs, smote__sampling_strategy=0.8;, score=(train=0.934, test=0.933) total time=   4.4s\n"
     ]
    },
    {
     "name": "stderr",
     "output_type": "stream",
     "text": [
      "/opt/conda/lib/python3.7/site-packages/sklearn/linear_model/_logistic.py:818: ConvergenceWarning: lbfgs failed to converge (status=1):\n",
      "STOP: TOTAL NO. of ITERATIONS REACHED LIMIT.\n",
      "\n",
      "Increase the number of iterations (max_iter) or scale the data as shown in:\n",
      "    https://scikit-learn.org/stable/modules/preprocessing.html\n",
      "Please also refer to the documentation for alternative solver options:\n",
      "    https://scikit-learn.org/stable/modules/linear_model.html#logistic-regression\n",
      "  extra_warning_msg=_LOGISTIC_SOLVER_CONVERGENCE_MSG,\n"
     ]
    },
    {
     "name": "stdout",
     "output_type": "stream",
     "text": [
      "[CV 10/10] END lr__C=100, lr__max_iter=500, lr__penalty=l2, lr__solver=lbfgs, smote__sampling_strategy=0.8;, score=(train=0.934, test=0.932) total time=   4.4s\n",
      "[CV 1/10] END lr__C=100, lr__max_iter=500, lr__penalty=l2, lr__solver=saga, smote__sampling_strategy=0.8;, score=(train=0.932, test=0.933) total time=  17.9s\n",
      "[CV 2/10] END lr__C=100, lr__max_iter=500, lr__penalty=l2, lr__solver=saga, smote__sampling_strategy=0.8;, score=(train=0.931, test=0.930) total time=  13.1s\n",
      "[CV 3/10] END lr__C=100, lr__max_iter=500, lr__penalty=l2, lr__solver=saga, smote__sampling_strategy=0.8;, score=(train=0.934, test=0.932) total time=  19.8s\n",
      "[CV 4/10] END lr__C=100, lr__max_iter=500, lr__penalty=l2, lr__solver=saga, smote__sampling_strategy=0.8;, score=(train=0.935, test=0.932) total time=  10.9s\n",
      "[CV 5/10] END lr__C=100, lr__max_iter=500, lr__penalty=l2, lr__solver=saga, smote__sampling_strategy=0.8;, score=(train=0.933, test=0.935) total time=  10.0s\n",
      "[CV 6/10] END lr__C=100, lr__max_iter=500, lr__penalty=l2, lr__solver=saga, smote__sampling_strategy=0.8;, score=(train=0.934, test=0.933) total time=   9.2s\n",
      "[CV 7/10] END lr__C=100, lr__max_iter=500, lr__penalty=l2, lr__solver=saga, smote__sampling_strategy=0.8;, score=(train=0.932, test=0.931) total time=   7.2s\n",
      "[CV 8/10] END lr__C=100, lr__max_iter=500, lr__penalty=l2, lr__solver=saga, smote__sampling_strategy=0.8;, score=(train=0.934, test=0.931) total time=  16.6s\n",
      "[CV 9/10] END lr__C=100, lr__max_iter=500, lr__penalty=l2, lr__solver=saga, smote__sampling_strategy=0.8;, score=(train=0.934, test=0.933) total time=  13.5s\n",
      "[CV 10/10] END lr__C=100, lr__max_iter=500, lr__penalty=l2, lr__solver=saga, smote__sampling_strategy=0.8;, score=(train=0.934, test=0.932) total time=  15.5s\n",
      "[CV 1/10] END lr__C=100, lr__max_iter=500, lr__penalty=l2, lr__solver=liblinear, smote__sampling_strategy=0.8;, score=(train=0.932, test=0.933) total time=   2.6s\n",
      "[CV 2/10] END lr__C=100, lr__max_iter=500, lr__penalty=l2, lr__solver=liblinear, smote__sampling_strategy=0.8;, score=(train=0.931, test=0.930) total time=   2.7s\n",
      "[CV 3/10] END lr__C=100, lr__max_iter=500, lr__penalty=l2, lr__solver=liblinear, smote__sampling_strategy=0.8;, score=(train=0.934, test=0.932) total time=   2.9s\n",
      "[CV 4/10] END lr__C=100, lr__max_iter=500, lr__penalty=l2, lr__solver=liblinear, smote__sampling_strategy=0.8;, score=(train=0.935, test=0.932) total time=   2.6s\n",
      "[CV 5/10] END lr__C=100, lr__max_iter=500, lr__penalty=l2, lr__solver=liblinear, smote__sampling_strategy=0.8;, score=(train=0.933, test=0.935) total time=   2.1s\n",
      "[CV 6/10] END lr__C=100, lr__max_iter=500, lr__penalty=l2, lr__solver=liblinear, smote__sampling_strategy=0.8;, score=(train=0.934, test=0.933) total time=   2.8s\n",
      "[CV 7/10] END lr__C=100, lr__max_iter=500, lr__penalty=l2, lr__solver=liblinear, smote__sampling_strategy=0.8;, score=(train=0.932, test=0.931) total time=   1.9s\n",
      "[CV 8/10] END lr__C=100, lr__max_iter=500, lr__penalty=l2, lr__solver=liblinear, smote__sampling_strategy=0.8;, score=(train=0.934, test=0.931) total time=   2.6s\n",
      "[CV 9/10] END lr__C=100, lr__max_iter=500, lr__penalty=l2, lr__solver=liblinear, smote__sampling_strategy=0.8;, score=(train=0.934, test=0.933) total time=   2.6s\n",
      "[CV 10/10] END lr__C=100, lr__max_iter=500, lr__penalty=l2, lr__solver=liblinear, smote__sampling_strategy=0.8;, score=(train=0.934, test=0.932) total time=   2.5s\n",
      "[CV 1/10] END lr__C=100, lr__max_iter=100, lr__penalty=l2, lr__solver=liblinear, smote__sampling_strategy=0.8;, score=(train=0.932, test=0.933) total time=   2.7s\n",
      "[CV 2/10] END lr__C=100, lr__max_iter=100, lr__penalty=l2, lr__solver=liblinear, smote__sampling_strategy=0.8;, score=(train=0.931, test=0.930) total time=   2.8s\n",
      "[CV 3/10] END lr__C=100, lr__max_iter=100, lr__penalty=l2, lr__solver=liblinear, smote__sampling_strategy=0.8;, score=(train=0.934, test=0.932) total time=   2.8s\n",
      "[CV 4/10] END lr__C=100, lr__max_iter=100, lr__penalty=l2, lr__solver=liblinear, smote__sampling_strategy=0.8;, score=(train=0.935, test=0.932) total time=   2.6s\n",
      "[CV 5/10] END lr__C=100, lr__max_iter=100, lr__penalty=l2, lr__solver=liblinear, smote__sampling_strategy=0.8;, score=(train=0.933, test=0.935) total time=   2.1s\n",
      "[CV 6/10] END lr__C=100, lr__max_iter=100, lr__penalty=l2, lr__solver=liblinear, smote__sampling_strategy=0.8;, score=(train=0.934, test=0.933) total time=   2.9s\n",
      "[CV 7/10] END lr__C=100, lr__max_iter=100, lr__penalty=l2, lr__solver=liblinear, smote__sampling_strategy=0.8;, score=(train=0.932, test=0.931) total time=   1.9s\n",
      "[CV 8/10] END lr__C=100, lr__max_iter=100, lr__penalty=l2, lr__solver=liblinear, smote__sampling_strategy=0.8;, score=(train=0.934, test=0.931) total time=   2.6s\n",
      "[CV 9/10] END lr__C=100, lr__max_iter=100, lr__penalty=l2, lr__solver=liblinear, smote__sampling_strategy=0.8;, score=(train=0.934, test=0.933) total time=   2.7s\n",
      "[CV 10/10] END lr__C=100, lr__max_iter=100, lr__penalty=l2, lr__solver=liblinear, smote__sampling_strategy=0.8;, score=(train=0.934, test=0.932) total time=   2.5s\n"
     ]
    },
    {
     "name": "stderr",
     "output_type": "stream",
     "text": [
      "/opt/conda/lib/python3.7/site-packages/sklearn/linear_model/_sag.py:354: ConvergenceWarning: The max_iter was reached which means the coef_ did not converge\n",
      "  ConvergenceWarning,\n"
     ]
    },
    {
     "name": "stdout",
     "output_type": "stream",
     "text": [
      "[CV 1/10] END lr__C=100, lr__max_iter=100, lr__penalty=l2, lr__solver=saga, smote__sampling_strategy=0.8;, score=(train=0.932, test=0.933) total time=   8.0s\n"
     ]
    },
    {
     "name": "stderr",
     "output_type": "stream",
     "text": [
      "/opt/conda/lib/python3.7/site-packages/sklearn/linear_model/_sag.py:354: ConvergenceWarning: The max_iter was reached which means the coef_ did not converge\n",
      "  ConvergenceWarning,\n"
     ]
    },
    {
     "name": "stdout",
     "output_type": "stream",
     "text": [
      "[CV 2/10] END lr__C=100, lr__max_iter=100, lr__penalty=l2, lr__solver=saga, smote__sampling_strategy=0.8;, score=(train=0.931, test=0.930) total time=   8.1s\n"
     ]
    },
    {
     "name": "stderr",
     "output_type": "stream",
     "text": [
      "/opt/conda/lib/python3.7/site-packages/sklearn/linear_model/_sag.py:354: ConvergenceWarning: The max_iter was reached which means the coef_ did not converge\n",
      "  ConvergenceWarning,\n"
     ]
    },
    {
     "name": "stdout",
     "output_type": "stream",
     "text": [
      "[CV 3/10] END lr__C=100, lr__max_iter=100, lr__penalty=l2, lr__solver=saga, smote__sampling_strategy=0.8;, score=(train=0.934, test=0.932) total time=   7.9s\n"
     ]
    },
    {
     "name": "stderr",
     "output_type": "stream",
     "text": [
      "/opt/conda/lib/python3.7/site-packages/sklearn/linear_model/_sag.py:354: ConvergenceWarning: The max_iter was reached which means the coef_ did not converge\n",
      "  ConvergenceWarning,\n"
     ]
    },
    {
     "name": "stdout",
     "output_type": "stream",
     "text": [
      "[CV 4/10] END lr__C=100, lr__max_iter=100, lr__penalty=l2, lr__solver=saga, smote__sampling_strategy=0.8;, score=(train=0.935, test=0.932) total time=   7.9s\n"
     ]
    },
    {
     "name": "stderr",
     "output_type": "stream",
     "text": [
      "/opt/conda/lib/python3.7/site-packages/sklearn/linear_model/_sag.py:354: ConvergenceWarning: The max_iter was reached which means the coef_ did not converge\n",
      "  ConvergenceWarning,\n"
     ]
    },
    {
     "name": "stdout",
     "output_type": "stream",
     "text": [
      "[CV 5/10] END lr__C=100, lr__max_iter=100, lr__penalty=l2, lr__solver=saga, smote__sampling_strategy=0.8;, score=(train=0.933, test=0.935) total time=   8.2s\n"
     ]
    },
    {
     "name": "stderr",
     "output_type": "stream",
     "text": [
      "/opt/conda/lib/python3.7/site-packages/sklearn/linear_model/_sag.py:354: ConvergenceWarning: The max_iter was reached which means the coef_ did not converge\n",
      "  ConvergenceWarning,\n"
     ]
    },
    {
     "name": "stdout",
     "output_type": "stream",
     "text": [
      "[CV 6/10] END lr__C=100, lr__max_iter=100, lr__penalty=l2, lr__solver=saga, smote__sampling_strategy=0.8;, score=(train=0.934, test=0.933) total time=   8.3s\n",
      "[CV 7/10] END lr__C=100, lr__max_iter=100, lr__penalty=l2, lr__solver=saga, smote__sampling_strategy=0.8;, score=(train=0.932, test=0.931) total time=   7.1s\n"
     ]
    },
    {
     "name": "stderr",
     "output_type": "stream",
     "text": [
      "/opt/conda/lib/python3.7/site-packages/sklearn/linear_model/_sag.py:354: ConvergenceWarning: The max_iter was reached which means the coef_ did not converge\n",
      "  ConvergenceWarning,\n"
     ]
    },
    {
     "name": "stdout",
     "output_type": "stream",
     "text": [
      "[CV 8/10] END lr__C=100, lr__max_iter=100, lr__penalty=l2, lr__solver=saga, smote__sampling_strategy=0.8;, score=(train=0.934, test=0.931) total time=   8.1s\n"
     ]
    },
    {
     "name": "stderr",
     "output_type": "stream",
     "text": [
      "/opt/conda/lib/python3.7/site-packages/sklearn/linear_model/_sag.py:354: ConvergenceWarning: The max_iter was reached which means the coef_ did not converge\n",
      "  ConvergenceWarning,\n"
     ]
    },
    {
     "name": "stdout",
     "output_type": "stream",
     "text": [
      "[CV 9/10] END lr__C=100, lr__max_iter=100, lr__penalty=l2, lr__solver=saga, smote__sampling_strategy=0.8;, score=(train=0.934, test=0.933) total time=   8.2s\n"
     ]
    },
    {
     "name": "stderr",
     "output_type": "stream",
     "text": [
      "/opt/conda/lib/python3.7/site-packages/sklearn/linear_model/_sag.py:354: ConvergenceWarning: The max_iter was reached which means the coef_ did not converge\n",
      "  ConvergenceWarning,\n"
     ]
    },
    {
     "name": "stdout",
     "output_type": "stream",
     "text": [
      "[CV 10/10] END lr__C=100, lr__max_iter=100, lr__penalty=l2, lr__solver=saga, smote__sampling_strategy=0.8;, score=(train=0.934, test=0.932) total time=   8.0s\n"
     ]
    },
    {
     "name": "stderr",
     "output_type": "stream",
     "text": [
      "/opt/conda/lib/python3.7/site-packages/sklearn/linear_model/_logistic.py:818: ConvergenceWarning: lbfgs failed to converge (status=1):\n",
      "STOP: TOTAL NO. of ITERATIONS REACHED LIMIT.\n",
      "\n",
      "Increase the number of iterations (max_iter) or scale the data as shown in:\n",
      "    https://scikit-learn.org/stable/modules/preprocessing.html\n",
      "Please also refer to the documentation for alternative solver options:\n",
      "    https://scikit-learn.org/stable/modules/linear_model.html#logistic-regression\n",
      "  extra_warning_msg=_LOGISTIC_SOLVER_CONVERGENCE_MSG,\n"
     ]
    },
    {
     "name": "stdout",
     "output_type": "stream",
     "text": [
      "[CV 1/10] END lr__C=100, lr__max_iter=100, lr__penalty=l2, lr__solver=lbfgs, smote__sampling_strategy=0.8;, score=(train=0.931, test=0.932) total time=   1.5s\n"
     ]
    },
    {
     "name": "stderr",
     "output_type": "stream",
     "text": [
      "/opt/conda/lib/python3.7/site-packages/sklearn/linear_model/_logistic.py:818: ConvergenceWarning: lbfgs failed to converge (status=1):\n",
      "STOP: TOTAL NO. of ITERATIONS REACHED LIMIT.\n",
      "\n",
      "Increase the number of iterations (max_iter) or scale the data as shown in:\n",
      "    https://scikit-learn.org/stable/modules/preprocessing.html\n",
      "Please also refer to the documentation for alternative solver options:\n",
      "    https://scikit-learn.org/stable/modules/linear_model.html#logistic-regression\n",
      "  extra_warning_msg=_LOGISTIC_SOLVER_CONVERGENCE_MSG,\n"
     ]
    },
    {
     "name": "stdout",
     "output_type": "stream",
     "text": [
      "[CV 2/10] END lr__C=100, lr__max_iter=100, lr__penalty=l2, lr__solver=lbfgs, smote__sampling_strategy=0.8;, score=(train=0.932, test=0.930) total time=   1.6s\n"
     ]
    },
    {
     "name": "stderr",
     "output_type": "stream",
     "text": [
      "/opt/conda/lib/python3.7/site-packages/sklearn/linear_model/_logistic.py:818: ConvergenceWarning: lbfgs failed to converge (status=1):\n",
      "STOP: TOTAL NO. of ITERATIONS REACHED LIMIT.\n",
      "\n",
      "Increase the number of iterations (max_iter) or scale the data as shown in:\n",
      "    https://scikit-learn.org/stable/modules/preprocessing.html\n",
      "Please also refer to the documentation for alternative solver options:\n",
      "    https://scikit-learn.org/stable/modules/linear_model.html#logistic-regression\n",
      "  extra_warning_msg=_LOGISTIC_SOLVER_CONVERGENCE_MSG,\n"
     ]
    },
    {
     "name": "stdout",
     "output_type": "stream",
     "text": [
      "[CV 3/10] END lr__C=100, lr__max_iter=100, lr__penalty=l2, lr__solver=lbfgs, smote__sampling_strategy=0.8;, score=(train=0.934, test=0.932) total time=   1.5s\n"
     ]
    },
    {
     "name": "stderr",
     "output_type": "stream",
     "text": [
      "/opt/conda/lib/python3.7/site-packages/sklearn/linear_model/_logistic.py:818: ConvergenceWarning: lbfgs failed to converge (status=1):\n",
      "STOP: TOTAL NO. of ITERATIONS REACHED LIMIT.\n",
      "\n",
      "Increase the number of iterations (max_iter) or scale the data as shown in:\n",
      "    https://scikit-learn.org/stable/modules/preprocessing.html\n",
      "Please also refer to the documentation for alternative solver options:\n",
      "    https://scikit-learn.org/stable/modules/linear_model.html#logistic-regression\n",
      "  extra_warning_msg=_LOGISTIC_SOLVER_CONVERGENCE_MSG,\n"
     ]
    },
    {
     "name": "stdout",
     "output_type": "stream",
     "text": [
      "[CV 4/10] END lr__C=100, lr__max_iter=100, lr__penalty=l2, lr__solver=lbfgs, smote__sampling_strategy=0.8;, score=(train=0.935, test=0.932) total time=   1.5s\n"
     ]
    },
    {
     "name": "stderr",
     "output_type": "stream",
     "text": [
      "/opt/conda/lib/python3.7/site-packages/sklearn/linear_model/_logistic.py:818: ConvergenceWarning: lbfgs failed to converge (status=1):\n",
      "STOP: TOTAL NO. of ITERATIONS REACHED LIMIT.\n",
      "\n",
      "Increase the number of iterations (max_iter) or scale the data as shown in:\n",
      "    https://scikit-learn.org/stable/modules/preprocessing.html\n",
      "Please also refer to the documentation for alternative solver options:\n",
      "    https://scikit-learn.org/stable/modules/linear_model.html#logistic-regression\n",
      "  extra_warning_msg=_LOGISTIC_SOLVER_CONVERGENCE_MSG,\n"
     ]
    },
    {
     "name": "stdout",
     "output_type": "stream",
     "text": [
      "[CV 5/10] END lr__C=100, lr__max_iter=100, lr__penalty=l2, lr__solver=lbfgs, smote__sampling_strategy=0.8;, score=(train=0.933, test=0.935) total time=   1.6s\n"
     ]
    },
    {
     "name": "stderr",
     "output_type": "stream",
     "text": [
      "/opt/conda/lib/python3.7/site-packages/sklearn/linear_model/_logistic.py:818: ConvergenceWarning: lbfgs failed to converge (status=1):\n",
      "STOP: TOTAL NO. of ITERATIONS REACHED LIMIT.\n",
      "\n",
      "Increase the number of iterations (max_iter) or scale the data as shown in:\n",
      "    https://scikit-learn.org/stable/modules/preprocessing.html\n",
      "Please also refer to the documentation for alternative solver options:\n",
      "    https://scikit-learn.org/stable/modules/linear_model.html#logistic-regression\n",
      "  extra_warning_msg=_LOGISTIC_SOLVER_CONVERGENCE_MSG,\n"
     ]
    },
    {
     "name": "stdout",
     "output_type": "stream",
     "text": [
      "[CV 6/10] END lr__C=100, lr__max_iter=100, lr__penalty=l2, lr__solver=lbfgs, smote__sampling_strategy=0.8;, score=(train=0.934, test=0.933) total time=   1.5s\n"
     ]
    },
    {
     "name": "stderr",
     "output_type": "stream",
     "text": [
      "/opt/conda/lib/python3.7/site-packages/sklearn/linear_model/_logistic.py:818: ConvergenceWarning: lbfgs failed to converge (status=1):\n",
      "STOP: TOTAL NO. of ITERATIONS REACHED LIMIT.\n",
      "\n",
      "Increase the number of iterations (max_iter) or scale the data as shown in:\n",
      "    https://scikit-learn.org/stable/modules/preprocessing.html\n",
      "Please also refer to the documentation for alternative solver options:\n",
      "    https://scikit-learn.org/stable/modules/linear_model.html#logistic-regression\n",
      "  extra_warning_msg=_LOGISTIC_SOLVER_CONVERGENCE_MSG,\n"
     ]
    },
    {
     "name": "stdout",
     "output_type": "stream",
     "text": [
      "[CV 7/10] END lr__C=100, lr__max_iter=100, lr__penalty=l2, lr__solver=lbfgs, smote__sampling_strategy=0.8;, score=(train=0.932, test=0.931) total time=   1.5s\n"
     ]
    },
    {
     "name": "stderr",
     "output_type": "stream",
     "text": [
      "/opt/conda/lib/python3.7/site-packages/sklearn/linear_model/_logistic.py:818: ConvergenceWarning: lbfgs failed to converge (status=1):\n",
      "STOP: TOTAL NO. of ITERATIONS REACHED LIMIT.\n",
      "\n",
      "Increase the number of iterations (max_iter) or scale the data as shown in:\n",
      "    https://scikit-learn.org/stable/modules/preprocessing.html\n",
      "Please also refer to the documentation for alternative solver options:\n",
      "    https://scikit-learn.org/stable/modules/linear_model.html#logistic-regression\n",
      "  extra_warning_msg=_LOGISTIC_SOLVER_CONVERGENCE_MSG,\n"
     ]
    },
    {
     "name": "stdout",
     "output_type": "stream",
     "text": [
      "[CV 8/10] END lr__C=100, lr__max_iter=100, lr__penalty=l2, lr__solver=lbfgs, smote__sampling_strategy=0.8;, score=(train=0.933, test=0.931) total time=   1.4s\n"
     ]
    },
    {
     "name": "stderr",
     "output_type": "stream",
     "text": [
      "/opt/conda/lib/python3.7/site-packages/sklearn/linear_model/_logistic.py:818: ConvergenceWarning: lbfgs failed to converge (status=1):\n",
      "STOP: TOTAL NO. of ITERATIONS REACHED LIMIT.\n",
      "\n",
      "Increase the number of iterations (max_iter) or scale the data as shown in:\n",
      "    https://scikit-learn.org/stable/modules/preprocessing.html\n",
      "Please also refer to the documentation for alternative solver options:\n",
      "    https://scikit-learn.org/stable/modules/linear_model.html#logistic-regression\n",
      "  extra_warning_msg=_LOGISTIC_SOLVER_CONVERGENCE_MSG,\n"
     ]
    },
    {
     "name": "stdout",
     "output_type": "stream",
     "text": [
      "[CV 9/10] END lr__C=100, lr__max_iter=100, lr__penalty=l2, lr__solver=lbfgs, smote__sampling_strategy=0.8;, score=(train=0.934, test=0.933) total time=   1.5s\n"
     ]
    },
    {
     "name": "stderr",
     "output_type": "stream",
     "text": [
      "/opt/conda/lib/python3.7/site-packages/sklearn/linear_model/_logistic.py:818: ConvergenceWarning: lbfgs failed to converge (status=1):\n",
      "STOP: TOTAL NO. of ITERATIONS REACHED LIMIT.\n",
      "\n",
      "Increase the number of iterations (max_iter) or scale the data as shown in:\n",
      "    https://scikit-learn.org/stable/modules/preprocessing.html\n",
      "Please also refer to the documentation for alternative solver options:\n",
      "    https://scikit-learn.org/stable/modules/linear_model.html#logistic-regression\n",
      "  extra_warning_msg=_LOGISTIC_SOLVER_CONVERGENCE_MSG,\n"
     ]
    },
    {
     "name": "stdout",
     "output_type": "stream",
     "text": [
      "[CV 10/10] END lr__C=100, lr__max_iter=100, lr__penalty=l2, lr__solver=lbfgs, smote__sampling_strategy=0.8;, score=(train=0.934, test=0.931) total time=   1.5s\n",
      "----------\n",
      "iter: 2\n",
      "n_candidates: 17\n",
      "n_resources: 119403\n",
      "Fitting 10 folds for each of 17 candidates, totalling 170 fits\n"
     ]
    },
    {
     "name": "stderr",
     "output_type": "stream",
     "text": [
      "/opt/conda/lib/python3.7/site-packages/sklearn/linear_model/_sag.py:354: ConvergenceWarning: The max_iter was reached which means the coef_ did not converge\n",
      "  ConvergenceWarning,\n"
     ]
    },
    {
     "name": "stdout",
     "output_type": "stream",
     "text": [
      "[CV 1/10] END lr__C=100, lr__max_iter=100, lr__penalty=l2, lr__solver=saga, smote__sampling_strategy=0.9;, score=(train=0.933, test=0.931) total time=  31.2s\n"
     ]
    },
    {
     "name": "stderr",
     "output_type": "stream",
     "text": [
      "/opt/conda/lib/python3.7/site-packages/sklearn/linear_model/_sag.py:354: ConvergenceWarning: The max_iter was reached which means the coef_ did not converge\n",
      "  ConvergenceWarning,\n"
     ]
    },
    {
     "name": "stdout",
     "output_type": "stream",
     "text": [
      "[CV 2/10] END lr__C=100, lr__max_iter=100, lr__penalty=l2, lr__solver=saga, smote__sampling_strategy=0.9;, score=(train=0.934, test=0.934) total time=  31.2s\n"
     ]
    },
    {
     "name": "stderr",
     "output_type": "stream",
     "text": [
      "/opt/conda/lib/python3.7/site-packages/sklearn/linear_model/_sag.py:354: ConvergenceWarning: The max_iter was reached which means the coef_ did not converge\n",
      "  ConvergenceWarning,\n"
     ]
    },
    {
     "name": "stdout",
     "output_type": "stream",
     "text": [
      "[CV 3/10] END lr__C=100, lr__max_iter=100, lr__penalty=l2, lr__solver=saga, smote__sampling_strategy=0.9;, score=(train=0.934, test=0.933) total time=  31.4s\n",
      "[CV 4/10] END lr__C=100, lr__max_iter=100, lr__penalty=l2, lr__solver=saga, smote__sampling_strategy=0.9;, score=(train=0.934, test=0.934) total time=  19.7s\n"
     ]
    },
    {
     "name": "stderr",
     "output_type": "stream",
     "text": [
      "/opt/conda/lib/python3.7/site-packages/sklearn/linear_model/_sag.py:354: ConvergenceWarning: The max_iter was reached which means the coef_ did not converge\n",
      "  ConvergenceWarning,\n"
     ]
    },
    {
     "name": "stdout",
     "output_type": "stream",
     "text": [
      "[CV 5/10] END lr__C=100, lr__max_iter=100, lr__penalty=l2, lr__solver=saga, smote__sampling_strategy=0.9;, score=(train=0.932, test=0.933) total time=  30.9s\n"
     ]
    },
    {
     "name": "stderr",
     "output_type": "stream",
     "text": [
      "/opt/conda/lib/python3.7/site-packages/sklearn/linear_model/_sag.py:354: ConvergenceWarning: The max_iter was reached which means the coef_ did not converge\n",
      "  ConvergenceWarning,\n"
     ]
    },
    {
     "name": "stdout",
     "output_type": "stream",
     "text": [
      "[CV 6/10] END lr__C=100, lr__max_iter=100, lr__penalty=l2, lr__solver=saga, smote__sampling_strategy=0.9;, score=(train=0.934, test=0.934) total time=  30.7s\n"
     ]
    },
    {
     "name": "stderr",
     "output_type": "stream",
     "text": [
      "/opt/conda/lib/python3.7/site-packages/sklearn/linear_model/_sag.py:354: ConvergenceWarning: The max_iter was reached which means the coef_ did not converge\n",
      "  ConvergenceWarning,\n"
     ]
    },
    {
     "name": "stdout",
     "output_type": "stream",
     "text": [
      "[CV 7/10] END lr__C=100, lr__max_iter=100, lr__penalty=l2, lr__solver=saga, smote__sampling_strategy=0.9;, score=(train=0.933, test=0.933) total time=  31.4s\n",
      "[CV 8/10] END lr__C=100, lr__max_iter=100, lr__penalty=l2, lr__solver=saga, smote__sampling_strategy=0.9;, score=(train=0.933, test=0.932) total time=  18.2s\n",
      "[CV 9/10] END lr__C=100, lr__max_iter=100, lr__penalty=l2, lr__solver=saga, smote__sampling_strategy=0.9;, score=(train=0.932, test=0.933) total time=  28.0s\n"
     ]
    },
    {
     "name": "stderr",
     "output_type": "stream",
     "text": [
      "/opt/conda/lib/python3.7/site-packages/sklearn/linear_model/_sag.py:354: ConvergenceWarning: The max_iter was reached which means the coef_ did not converge\n",
      "  ConvergenceWarning,\n"
     ]
    },
    {
     "name": "stdout",
     "output_type": "stream",
     "text": [
      "[CV 10/10] END lr__C=100, lr__max_iter=100, lr__penalty=l2, lr__solver=saga, smote__sampling_strategy=0.9;, score=(train=0.932, test=0.933) total time=  30.6s\n",
      "[CV 1/10] END lr__C=100, lr__max_iter=100, lr__penalty=l2, lr__solver=newton-cg, smote__sampling_strategy=0.9;, score=(train=0.933, test=0.931) total time=  28.6s\n",
      "[CV 2/10] END lr__C=100, lr__max_iter=100, lr__penalty=l2, lr__solver=newton-cg, smote__sampling_strategy=0.9;, score=(train=0.934, test=0.934) total time=  29.6s\n",
      "[CV 3/10] END lr__C=100, lr__max_iter=100, lr__penalty=l2, lr__solver=newton-cg, smote__sampling_strategy=0.9;, score=(train=0.934, test=0.933) total time=  21.4s\n",
      "[CV 4/10] END lr__C=100, lr__max_iter=100, lr__penalty=l2, lr__solver=newton-cg, smote__sampling_strategy=0.9;, score=(train=0.934, test=0.934) total time=  22.6s\n",
      "[CV 5/10] END lr__C=100, lr__max_iter=100, lr__penalty=l2, lr__solver=newton-cg, smote__sampling_strategy=0.9;, score=(train=0.932, test=0.933) total time=  25.6s\n",
      "[CV 6/10] END lr__C=100, lr__max_iter=100, lr__penalty=l2, lr__solver=newton-cg, smote__sampling_strategy=0.9;, score=(train=0.934, test=0.934) total time=  24.8s\n",
      "[CV 7/10] END lr__C=100, lr__max_iter=100, lr__penalty=l2, lr__solver=newton-cg, smote__sampling_strategy=0.9;, score=(train=0.933, test=0.933) total time=  29.1s\n",
      "[CV 8/10] END lr__C=100, lr__max_iter=100, lr__penalty=l2, lr__solver=newton-cg, smote__sampling_strategy=0.9;, score=(train=0.933, test=0.932) total time=  21.1s\n",
      "[CV 9/10] END lr__C=100, lr__max_iter=100, lr__penalty=l2, lr__solver=newton-cg, smote__sampling_strategy=0.9;, score=(train=0.932, test=0.933) total time=  27.5s\n",
      "[CV 10/10] END lr__C=100, lr__max_iter=100, lr__penalty=l2, lr__solver=newton-cg, smote__sampling_strategy=0.9;, score=(train=0.932, test=0.933) total time=  35.5s\n",
      "[CV 1/10] END lr__C=100, lr__max_iter=500, lr__penalty=l2, lr__solver=newton-cg, smote__sampling_strategy=0.9;, score=(train=0.933, test=0.931) total time=  29.7s\n",
      "[CV 2/10] END lr__C=100, lr__max_iter=500, lr__penalty=l2, lr__solver=newton-cg, smote__sampling_strategy=0.9;, score=(train=0.934, test=0.934) total time=  31.1s\n",
      "[CV 3/10] END lr__C=100, lr__max_iter=500, lr__penalty=l2, lr__solver=newton-cg, smote__sampling_strategy=0.9;, score=(train=0.934, test=0.933) total time=  21.0s\n",
      "[CV 4/10] END lr__C=100, lr__max_iter=500, lr__penalty=l2, lr__solver=newton-cg, smote__sampling_strategy=0.9;, score=(train=0.934, test=0.934) total time=  22.7s\n",
      "[CV 5/10] END lr__C=100, lr__max_iter=500, lr__penalty=l2, lr__solver=newton-cg, smote__sampling_strategy=0.9;, score=(train=0.932, test=0.933) total time=  28.1s\n",
      "[CV 6/10] END lr__C=100, lr__max_iter=500, lr__penalty=l2, lr__solver=newton-cg, smote__sampling_strategy=0.9;, score=(train=0.934, test=0.934) total time=  25.7s\n",
      "[CV 7/10] END lr__C=100, lr__max_iter=500, lr__penalty=l2, lr__solver=newton-cg, smote__sampling_strategy=0.9;, score=(train=0.933, test=0.933) total time=  29.9s\n",
      "[CV 8/10] END lr__C=100, lr__max_iter=500, lr__penalty=l2, lr__solver=newton-cg, smote__sampling_strategy=0.9;, score=(train=0.933, test=0.932) total time=  20.5s\n",
      "[CV 9/10] END lr__C=100, lr__max_iter=500, lr__penalty=l2, lr__solver=newton-cg, smote__sampling_strategy=0.9;, score=(train=0.932, test=0.933) total time=  27.1s\n",
      "[CV 10/10] END lr__C=100, lr__max_iter=500, lr__penalty=l2, lr__solver=newton-cg, smote__sampling_strategy=0.9;, score=(train=0.932, test=0.933) total time=  35.4s\n",
      "[CV 1/10] END lr__C=100, lr__max_iter=100, lr__penalty=l2, lr__solver=liblinear, smote__sampling_strategy=0.9;, score=(train=0.933, test=0.931) total time=  13.9s\n",
      "[CV 2/10] END lr__C=100, lr__max_iter=100, lr__penalty=l2, lr__solver=liblinear, smote__sampling_strategy=0.9;, score=(train=0.934, test=0.934) total time=  15.0s\n",
      "[CV 3/10] END lr__C=100, lr__max_iter=100, lr__penalty=l2, lr__solver=liblinear, smote__sampling_strategy=0.9;, score=(train=0.934, test=0.933) total time=  13.7s\n",
      "[CV 4/10] END lr__C=100, lr__max_iter=100, lr__penalty=l2, lr__solver=liblinear, smote__sampling_strategy=0.9;, score=(train=0.934, test=0.934) total time=  12.9s\n",
      "[CV 5/10] END lr__C=100, lr__max_iter=100, lr__penalty=l2, lr__solver=liblinear, smote__sampling_strategy=0.9;, score=(train=0.932, test=0.933) total time=  13.3s\n",
      "[CV 6/10] END lr__C=100, lr__max_iter=100, lr__penalty=l2, lr__solver=liblinear, smote__sampling_strategy=0.9;, score=(train=0.934, test=0.934) total time=  12.5s\n",
      "[CV 7/10] END lr__C=100, lr__max_iter=100, lr__penalty=l2, lr__solver=liblinear, smote__sampling_strategy=0.9;, score=(train=0.933, test=0.933) total time=  11.8s\n",
      "[CV 8/10] END lr__C=100, lr__max_iter=100, lr__penalty=l2, lr__solver=liblinear, smote__sampling_strategy=0.9;, score=(train=0.933, test=0.932) total time=  11.8s\n",
      "[CV 9/10] END lr__C=100, lr__max_iter=100, lr__penalty=l2, lr__solver=liblinear, smote__sampling_strategy=0.9;, score=(train=0.932, test=0.933) total time=  12.8s\n",
      "[CV 10/10] END lr__C=100, lr__max_iter=100, lr__penalty=l2, lr__solver=liblinear, smote__sampling_strategy=0.9;, score=(train=0.932, test=0.933) total time=  13.7s\n",
      "[CV 1/10] END lr__C=100, lr__max_iter=500, lr__penalty=l2, lr__solver=liblinear, smote__sampling_strategy=0.9;, score=(train=0.933, test=0.931) total time=  13.6s\n",
      "[CV 2/10] END lr__C=100, lr__max_iter=500, lr__penalty=l2, lr__solver=liblinear, smote__sampling_strategy=0.9;, score=(train=0.934, test=0.934) total time=  14.8s\n",
      "[CV 3/10] END lr__C=100, lr__max_iter=500, lr__penalty=l2, lr__solver=liblinear, smote__sampling_strategy=0.9;, score=(train=0.934, test=0.933) total time=  13.8s\n",
      "[CV 4/10] END lr__C=100, lr__max_iter=500, lr__penalty=l2, lr__solver=liblinear, smote__sampling_strategy=0.9;, score=(train=0.934, test=0.934) total time=  12.8s\n",
      "[CV 5/10] END lr__C=100, lr__max_iter=500, lr__penalty=l2, lr__solver=liblinear, smote__sampling_strategy=0.9;, score=(train=0.932, test=0.933) total time=  13.3s\n",
      "[CV 6/10] END lr__C=100, lr__max_iter=500, lr__penalty=l2, lr__solver=liblinear, smote__sampling_strategy=0.9;, score=(train=0.934, test=0.934) total time=  12.5s\n",
      "[CV 7/10] END lr__C=100, lr__max_iter=500, lr__penalty=l2, lr__solver=liblinear, smote__sampling_strategy=0.9;, score=(train=0.933, test=0.933) total time=  11.6s\n",
      "[CV 8/10] END lr__C=100, lr__max_iter=500, lr__penalty=l2, lr__solver=liblinear, smote__sampling_strategy=0.9;, score=(train=0.933, test=0.932) total time=  11.9s\n",
      "[CV 9/10] END lr__C=100, lr__max_iter=500, lr__penalty=l2, lr__solver=liblinear, smote__sampling_strategy=0.9;, score=(train=0.932, test=0.933) total time=  12.8s\n",
      "[CV 10/10] END lr__C=100, lr__max_iter=500, lr__penalty=l2, lr__solver=liblinear, smote__sampling_strategy=0.9;, score=(train=0.932, test=0.933) total time=  13.8s\n",
      "[CV 1/10] END lr__C=100, lr__max_iter=500, lr__penalty=l2, lr__solver=saga, smote__sampling_strategy=0.9;, score=(train=0.933, test=0.931) total time=  47.5s\n",
      "[CV 2/10] END lr__C=100, lr__max_iter=500, lr__penalty=l2, lr__solver=saga, smote__sampling_strategy=0.9;, score=(train=0.934, test=0.934) total time=  52.2s\n",
      "[CV 3/10] END lr__C=100, lr__max_iter=500, lr__penalty=l2, lr__solver=saga, smote__sampling_strategy=0.9;, score=(train=0.934, test=0.933) total time=  34.4s\n",
      "[CV 4/10] END lr__C=100, lr__max_iter=500, lr__penalty=l2, lr__solver=saga, smote__sampling_strategy=0.9;, score=(train=0.934, test=0.934) total time=  20.2s\n",
      "[CV 5/10] END lr__C=100, lr__max_iter=500, lr__penalty=l2, lr__solver=saga, smote__sampling_strategy=0.9;, score=(train=0.932, test=0.933) total time=  34.3s\n",
      "[CV 6/10] END lr__C=100, lr__max_iter=500, lr__penalty=l2, lr__solver=saga, smote__sampling_strategy=0.9;, score=(train=0.934, test=0.934) total time=  33.5s\n",
      "[CV 7/10] END lr__C=100, lr__max_iter=500, lr__penalty=l2, lr__solver=saga, smote__sampling_strategy=0.9;, score=(train=0.933, test=0.933) total time=  34.7s\n",
      "[CV 8/10] END lr__C=100, lr__max_iter=500, lr__penalty=l2, lr__solver=saga, smote__sampling_strategy=0.9;, score=(train=0.933, test=0.932) total time=  18.6s\n",
      "[CV 9/10] END lr__C=100, lr__max_iter=500, lr__penalty=l2, lr__solver=saga, smote__sampling_strategy=0.9;, score=(train=0.932, test=0.933) total time=  27.9s\n",
      "[CV 10/10] END lr__C=100, lr__max_iter=500, lr__penalty=l2, lr__solver=saga, smote__sampling_strategy=0.9;, score=(train=0.932, test=0.933) total time=  46.8s\n"
     ]
    },
    {
     "name": "stderr",
     "output_type": "stream",
     "text": [
      "/opt/conda/lib/python3.7/site-packages/sklearn/linear_model/_sag.py:354: ConvergenceWarning: The max_iter was reached which means the coef_ did not converge\n",
      "  ConvergenceWarning,\n"
     ]
    },
    {
     "name": "stdout",
     "output_type": "stream",
     "text": [
      "[CV 1/10] END lr__C=100, lr__max_iter=100, lr__penalty=l2, lr__solver=sag, smote__sampling_strategy=0.9;, score=(train=0.933, test=0.931) total time=  32.3s\n"
     ]
    },
    {
     "name": "stderr",
     "output_type": "stream",
     "text": [
      "/opt/conda/lib/python3.7/site-packages/sklearn/linear_model/_sag.py:354: ConvergenceWarning: The max_iter was reached which means the coef_ did not converge\n",
      "  ConvergenceWarning,\n"
     ]
    },
    {
     "name": "stdout",
     "output_type": "stream",
     "text": [
      "[CV 2/10] END lr__C=100, lr__max_iter=100, lr__penalty=l2, lr__solver=sag, smote__sampling_strategy=0.9;, score=(train=0.934, test=0.934) total time=  31.2s\n",
      "[CV 3/10] END lr__C=100, lr__max_iter=100, lr__penalty=l2, lr__solver=sag, smote__sampling_strategy=0.9;, score=(train=0.934, test=0.933) total time=  26.4s\n",
      "[CV 4/10] END lr__C=100, lr__max_iter=100, lr__penalty=l2, lr__solver=sag, smote__sampling_strategy=0.9;, score=(train=0.934, test=0.934) total time=  16.0s\n",
      "[CV 5/10] END lr__C=100, lr__max_iter=100, lr__penalty=l2, lr__solver=sag, smote__sampling_strategy=0.9;, score=(train=0.932, test=0.933) total time=  23.9s\n",
      "[CV 6/10] END lr__C=100, lr__max_iter=100, lr__penalty=l2, lr__solver=sag, smote__sampling_strategy=0.9;, score=(train=0.934, test=0.934) total time=  26.6s\n",
      "[CV 7/10] END lr__C=100, lr__max_iter=100, lr__penalty=l2, lr__solver=sag, smote__sampling_strategy=0.9;, score=(train=0.933, test=0.933) total time=  25.5s\n",
      "[CV 8/10] END lr__C=100, lr__max_iter=100, lr__penalty=l2, lr__solver=sag, smote__sampling_strategy=0.9;, score=(train=0.933, test=0.932) total time=  13.0s\n",
      "[CV 9/10] END lr__C=100, lr__max_iter=100, lr__penalty=l2, lr__solver=sag, smote__sampling_strategy=0.9;, score=(train=0.932, test=0.933) total time=  25.6s\n",
      "[CV 10/10] END lr__C=100, lr__max_iter=100, lr__penalty=l2, lr__solver=sag, smote__sampling_strategy=0.9;, score=(train=0.932, test=0.933) total time=  30.3s\n",
      "[CV 1/10] END lr__C=100, lr__max_iter=500, lr__penalty=l2, lr__solver=sag, smote__sampling_strategy=0.9;, score=(train=0.933, test=0.931) total time=  33.4s\n",
      "[CV 2/10] END lr__C=100, lr__max_iter=500, lr__penalty=l2, lr__solver=sag, smote__sampling_strategy=0.9;, score=(train=0.934, test=0.934) total time=  40.4s\n",
      "[CV 3/10] END lr__C=100, lr__max_iter=500, lr__penalty=l2, lr__solver=sag, smote__sampling_strategy=0.9;, score=(train=0.934, test=0.933) total time=  26.2s\n",
      "[CV 4/10] END lr__C=100, lr__max_iter=500, lr__penalty=l2, lr__solver=sag, smote__sampling_strategy=0.9;, score=(train=0.934, test=0.934) total time=  14.9s\n",
      "[CV 5/10] END lr__C=100, lr__max_iter=500, lr__penalty=l2, lr__solver=sag, smote__sampling_strategy=0.9;, score=(train=0.932, test=0.933) total time=  24.5s\n",
      "[CV 6/10] END lr__C=100, lr__max_iter=500, lr__penalty=l2, lr__solver=sag, smote__sampling_strategy=0.9;, score=(train=0.934, test=0.934) total time=  28.2s\n",
      "[CV 7/10] END lr__C=100, lr__max_iter=500, lr__penalty=l2, lr__solver=sag, smote__sampling_strategy=0.9;, score=(train=0.933, test=0.933) total time=  25.6s\n",
      "[CV 8/10] END lr__C=100, lr__max_iter=500, lr__penalty=l2, lr__solver=sag, smote__sampling_strategy=0.9;, score=(train=0.933, test=0.932) total time=  12.8s\n",
      "[CV 9/10] END lr__C=100, lr__max_iter=500, lr__penalty=l2, lr__solver=sag, smote__sampling_strategy=0.9;, score=(train=0.932, test=0.933) total time=  20.6s\n",
      "[CV 10/10] END lr__C=100, lr__max_iter=500, lr__penalty=l2, lr__solver=sag, smote__sampling_strategy=0.9;, score=(train=0.932, test=0.933) total time=  29.9s\n",
      "[CV 1/10] END lr__C=100, lr__max_iter=100, lr__penalty=l2, lr__solver=newton-cg, smote__sampling_strategy=0.8;, score=(train=0.934, test=0.932) total time=  22.6s\n",
      "[CV 2/10] END lr__C=100, lr__max_iter=100, lr__penalty=l2, lr__solver=newton-cg, smote__sampling_strategy=0.8;, score=(train=0.934, test=0.935) total time=  26.1s\n",
      "[CV 3/10] END lr__C=100, lr__max_iter=100, lr__penalty=l2, lr__solver=newton-cg, smote__sampling_strategy=0.8;, score=(train=0.934, test=0.933) total time=  21.4s\n",
      "[CV 4/10] END lr__C=100, lr__max_iter=100, lr__penalty=l2, lr__solver=newton-cg, smote__sampling_strategy=0.8;, score=(train=0.934, test=0.934) total time=  19.3s\n",
      "[CV 5/10] END lr__C=100, lr__max_iter=100, lr__penalty=l2, lr__solver=newton-cg, smote__sampling_strategy=0.8;, score=(train=0.933, test=0.934) total time=  28.7s\n",
      "[CV 6/10] END lr__C=100, lr__max_iter=100, lr__penalty=l2, lr__solver=newton-cg, smote__sampling_strategy=0.8;, score=(train=0.934, test=0.934) total time=  27.5s\n",
      "[CV 7/10] END lr__C=100, lr__max_iter=100, lr__penalty=l2, lr__solver=newton-cg, smote__sampling_strategy=0.8;, score=(train=0.933, test=0.933) total time=  23.9s\n",
      "[CV 8/10] END lr__C=100, lr__max_iter=100, lr__penalty=l2, lr__solver=newton-cg, smote__sampling_strategy=0.8;, score=(train=0.933, test=0.932) total time=  21.1s\n",
      "[CV 9/10] END lr__C=100, lr__max_iter=100, lr__penalty=l2, lr__solver=newton-cg, smote__sampling_strategy=0.8;, score=(train=0.932, test=0.933) total time=  24.6s\n",
      "[CV 10/10] END lr__C=100, lr__max_iter=100, lr__penalty=l2, lr__solver=newton-cg, smote__sampling_strategy=0.8;, score=(train=0.933, test=0.933) total time=  26.0s\n",
      "[CV 1/10] END lr__C=100, lr__max_iter=500, lr__penalty=l2, lr__solver=newton-cg, smote__sampling_strategy=0.8;, score=(train=0.934, test=0.932) total time=  23.4s\n",
      "[CV 2/10] END lr__C=100, lr__max_iter=500, lr__penalty=l2, lr__solver=newton-cg, smote__sampling_strategy=0.8;, score=(train=0.934, test=0.935) total time=  25.9s\n",
      "[CV 3/10] END lr__C=100, lr__max_iter=500, lr__penalty=l2, lr__solver=newton-cg, smote__sampling_strategy=0.8;, score=(train=0.934, test=0.933) total time=  21.7s\n",
      "[CV 4/10] END lr__C=100, lr__max_iter=500, lr__penalty=l2, lr__solver=newton-cg, smote__sampling_strategy=0.8;, score=(train=0.934, test=0.934) total time=  20.4s\n",
      "[CV 5/10] END lr__C=100, lr__max_iter=500, lr__penalty=l2, lr__solver=newton-cg, smote__sampling_strategy=0.8;, score=(train=0.933, test=0.934) total time=  26.6s\n",
      "[CV 6/10] END lr__C=100, lr__max_iter=500, lr__penalty=l2, lr__solver=newton-cg, smote__sampling_strategy=0.8;, score=(train=0.934, test=0.934) total time=  25.8s\n",
      "[CV 7/10] END lr__C=100, lr__max_iter=500, lr__penalty=l2, lr__solver=newton-cg, smote__sampling_strategy=0.8;, score=(train=0.933, test=0.933) total time=  23.8s\n",
      "[CV 8/10] END lr__C=100, lr__max_iter=500, lr__penalty=l2, lr__solver=newton-cg, smote__sampling_strategy=0.8;, score=(train=0.933, test=0.932) total time=  21.3s\n",
      "[CV 9/10] END lr__C=100, lr__max_iter=500, lr__penalty=l2, lr__solver=newton-cg, smote__sampling_strategy=0.8;, score=(train=0.932, test=0.933) total time=  23.1s\n",
      "[CV 10/10] END lr__C=100, lr__max_iter=500, lr__penalty=l2, lr__solver=newton-cg, smote__sampling_strategy=0.8;, score=(train=0.933, test=0.933) total time=  25.7s\n",
      "[CV 1/10] END lr__C=100, lr__max_iter=500, lr__penalty=l2, lr__solver=saga, smote__sampling_strategy=0.8;, score=(train=0.934, test=0.932) total time=  46.3s\n",
      "[CV 2/10] END lr__C=100, lr__max_iter=500, lr__penalty=l2, lr__solver=saga, smote__sampling_strategy=0.8;, score=(train=0.934, test=0.935) total time=  49.2s\n",
      "[CV 3/10] END lr__C=100, lr__max_iter=500, lr__penalty=l2, lr__solver=saga, smote__sampling_strategy=0.8;, score=(train=0.934, test=0.933) total time=  32.0s\n",
      "[CV 4/10] END lr__C=100, lr__max_iter=500, lr__penalty=l2, lr__solver=saga, smote__sampling_strategy=0.8;, score=(train=0.934, test=0.934) total time=  20.1s\n",
      "[CV 5/10] END lr__C=100, lr__max_iter=500, lr__penalty=l2, lr__solver=saga, smote__sampling_strategy=0.8;, score=(train=0.933, test=0.934) total time=  32.2s\n",
      "[CV 6/10] END lr__C=100, lr__max_iter=500, lr__penalty=l2, lr__solver=saga, smote__sampling_strategy=0.8;, score=(train=0.934, test=0.934) total time=  32.2s\n",
      "[CV 7/10] END lr__C=100, lr__max_iter=500, lr__penalty=l2, lr__solver=saga, smote__sampling_strategy=0.8;, score=(train=0.933, test=0.933) total time=  32.4s\n",
      "[CV 8/10] END lr__C=100, lr__max_iter=500, lr__penalty=l2, lr__solver=saga, smote__sampling_strategy=0.8;, score=(train=0.933, test=0.932) total time=  18.5s\n",
      "[CV 9/10] END lr__C=100, lr__max_iter=500, lr__penalty=l2, lr__solver=saga, smote__sampling_strategy=0.8;, score=(train=0.932, test=0.933) total time=  31.6s\n",
      "[CV 10/10] END lr__C=100, lr__max_iter=500, lr__penalty=l2, lr__solver=saga, smote__sampling_strategy=0.8;, score=(train=0.933, test=0.933) total time=  44.7s\n",
      "[CV 1/10] END lr__C=100, lr__max_iter=500, lr__penalty=l2, lr__solver=sag, smote__sampling_strategy=0.8;, score=(train=0.934, test=0.932) total time=  31.2s\n",
      "[CV 2/10] END lr__C=100, lr__max_iter=500, lr__penalty=l2, lr__solver=sag, smote__sampling_strategy=0.8;, score=(train=0.934, test=0.935) total time=  37.0s\n",
      "[CV 3/10] END lr__C=100, lr__max_iter=500, lr__penalty=l2, lr__solver=sag, smote__sampling_strategy=0.8;, score=(train=0.934, test=0.933) total time=  25.2s\n",
      "[CV 4/10] END lr__C=100, lr__max_iter=500, lr__penalty=l2, lr__solver=sag, smote__sampling_strategy=0.8;, score=(train=0.934, test=0.934) total time=  13.4s\n",
      "[CV 5/10] END lr__C=100, lr__max_iter=500, lr__penalty=l2, lr__solver=sag, smote__sampling_strategy=0.8;, score=(train=0.933, test=0.934) total time=  23.7s\n",
      "[CV 6/10] END lr__C=100, lr__max_iter=500, lr__penalty=l2, lr__solver=sag, smote__sampling_strategy=0.8;, score=(train=0.934, test=0.934) total time=  26.8s\n",
      "[CV 7/10] END lr__C=100, lr__max_iter=500, lr__penalty=l2, lr__solver=sag, smote__sampling_strategy=0.8;, score=(train=0.933, test=0.933) total time=  25.3s\n",
      "[CV 8/10] END lr__C=100, lr__max_iter=500, lr__penalty=l2, lr__solver=sag, smote__sampling_strategy=0.8;, score=(train=0.933, test=0.932) total time=  12.7s\n",
      "[CV 9/10] END lr__C=100, lr__max_iter=500, lr__penalty=l2, lr__solver=sag, smote__sampling_strategy=0.8;, score=(train=0.932, test=0.933) total time=  24.7s\n",
      "[CV 10/10] END lr__C=100, lr__max_iter=500, lr__penalty=l2, lr__solver=sag, smote__sampling_strategy=0.8;, score=(train=0.933, test=0.933) total time=  30.5s\n"
     ]
    },
    {
     "name": "stderr",
     "output_type": "stream",
     "text": [
      "/opt/conda/lib/python3.7/site-packages/sklearn/linear_model/_sag.py:354: ConvergenceWarning: The max_iter was reached which means the coef_ did not converge\n",
      "  ConvergenceWarning,\n"
     ]
    },
    {
     "name": "stdout",
     "output_type": "stream",
     "text": [
      "[CV 1/10] END lr__C=100, lr__max_iter=100, lr__penalty=l2, lr__solver=sag, smote__sampling_strategy=0.8;, score=(train=0.934, test=0.932) total time=  29.8s\n"
     ]
    },
    {
     "name": "stderr",
     "output_type": "stream",
     "text": [
      "/opt/conda/lib/python3.7/site-packages/sklearn/linear_model/_sag.py:354: ConvergenceWarning: The max_iter was reached which means the coef_ did not converge\n",
      "  ConvergenceWarning,\n"
     ]
    },
    {
     "name": "stdout",
     "output_type": "stream",
     "text": [
      "[CV 2/10] END lr__C=100, lr__max_iter=100, lr__penalty=l2, lr__solver=sag, smote__sampling_strategy=0.8;, score=(train=0.934, test=0.935) total time=  30.1s\n",
      "[CV 3/10] END lr__C=100, lr__max_iter=100, lr__penalty=l2, lr__solver=sag, smote__sampling_strategy=0.8;, score=(train=0.934, test=0.933) total time=  25.4s\n",
      "[CV 4/10] END lr__C=100, lr__max_iter=100, lr__penalty=l2, lr__solver=sag, smote__sampling_strategy=0.8;, score=(train=0.934, test=0.934) total time=  14.7s\n",
      "[CV 5/10] END lr__C=100, lr__max_iter=100, lr__penalty=l2, lr__solver=sag, smote__sampling_strategy=0.8;, score=(train=0.933, test=0.934) total time=  24.8s\n",
      "[CV 6/10] END lr__C=100, lr__max_iter=100, lr__penalty=l2, lr__solver=sag, smote__sampling_strategy=0.8;, score=(train=0.934, test=0.934) total time=  26.3s\n",
      "[CV 7/10] END lr__C=100, lr__max_iter=100, lr__penalty=l2, lr__solver=sag, smote__sampling_strategy=0.8;, score=(train=0.933, test=0.933) total time=  24.7s\n",
      "[CV 8/10] END lr__C=100, lr__max_iter=100, lr__penalty=l2, lr__solver=sag, smote__sampling_strategy=0.8;, score=(train=0.933, test=0.932) total time=  13.3s\n",
      "[CV 9/10] END lr__C=100, lr__max_iter=100, lr__penalty=l2, lr__solver=sag, smote__sampling_strategy=0.8;, score=(train=0.932, test=0.933) total time=  24.8s\n"
     ]
    },
    {
     "name": "stderr",
     "output_type": "stream",
     "text": [
      "/opt/conda/lib/python3.7/site-packages/sklearn/linear_model/_sag.py:354: ConvergenceWarning: The max_iter was reached which means the coef_ did not converge\n",
      "  ConvergenceWarning,\n"
     ]
    },
    {
     "name": "stdout",
     "output_type": "stream",
     "text": [
      "[CV 10/10] END lr__C=100, lr__max_iter=100, lr__penalty=l2, lr__solver=sag, smote__sampling_strategy=0.8;, score=(train=0.933, test=0.933) total time=  29.8s\n"
     ]
    },
    {
     "name": "stderr",
     "output_type": "stream",
     "text": [
      "/opt/conda/lib/python3.7/site-packages/sklearn/linear_model/_logistic.py:818: ConvergenceWarning: lbfgs failed to converge (status=1):\n",
      "STOP: TOTAL NO. of ITERATIONS REACHED LIMIT.\n",
      "\n",
      "Increase the number of iterations (max_iter) or scale the data as shown in:\n",
      "    https://scikit-learn.org/stable/modules/preprocessing.html\n",
      "Please also refer to the documentation for alternative solver options:\n",
      "    https://scikit-learn.org/stable/modules/linear_model.html#logistic-regression\n",
      "  extra_warning_msg=_LOGISTIC_SOLVER_CONVERGENCE_MSG,\n"
     ]
    },
    {
     "name": "stdout",
     "output_type": "stream",
     "text": [
      "[CV 1/10] END lr__C=100, lr__max_iter=500, lr__penalty=l2, lr__solver=lbfgs, smote__sampling_strategy=0.8;, score=(train=0.934, test=0.931) total time=  17.2s\n"
     ]
    },
    {
     "name": "stderr",
     "output_type": "stream",
     "text": [
      "/opt/conda/lib/python3.7/site-packages/sklearn/linear_model/_logistic.py:818: ConvergenceWarning: lbfgs failed to converge (status=1):\n",
      "STOP: TOTAL NO. of ITERATIONS REACHED LIMIT.\n",
      "\n",
      "Increase the number of iterations (max_iter) or scale the data as shown in:\n",
      "    https://scikit-learn.org/stable/modules/preprocessing.html\n",
      "Please also refer to the documentation for alternative solver options:\n",
      "    https://scikit-learn.org/stable/modules/linear_model.html#logistic-regression\n",
      "  extra_warning_msg=_LOGISTIC_SOLVER_CONVERGENCE_MSG,\n"
     ]
    },
    {
     "name": "stdout",
     "output_type": "stream",
     "text": [
      "[CV 2/10] END lr__C=100, lr__max_iter=500, lr__penalty=l2, lr__solver=lbfgs, smote__sampling_strategy=0.8;, score=(train=0.934, test=0.935) total time=  16.5s\n"
     ]
    },
    {
     "name": "stderr",
     "output_type": "stream",
     "text": [
      "/opt/conda/lib/python3.7/site-packages/sklearn/linear_model/_logistic.py:818: ConvergenceWarning: lbfgs failed to converge (status=1):\n",
      "STOP: TOTAL NO. of ITERATIONS REACHED LIMIT.\n",
      "\n",
      "Increase the number of iterations (max_iter) or scale the data as shown in:\n",
      "    https://scikit-learn.org/stable/modules/preprocessing.html\n",
      "Please also refer to the documentation for alternative solver options:\n",
      "    https://scikit-learn.org/stable/modules/linear_model.html#logistic-regression\n",
      "  extra_warning_msg=_LOGISTIC_SOLVER_CONVERGENCE_MSG,\n"
     ]
    },
    {
     "name": "stdout",
     "output_type": "stream",
     "text": [
      "[CV 3/10] END lr__C=100, lr__max_iter=500, lr__penalty=l2, lr__solver=lbfgs, smote__sampling_strategy=0.8;, score=(train=0.934, test=0.933) total time=  22.4s\n",
      "[CV 4/10] END lr__C=100, lr__max_iter=500, lr__penalty=l2, lr__solver=lbfgs, smote__sampling_strategy=0.8;, score=(train=0.934, test=0.934) total time=  20.5s\n"
     ]
    },
    {
     "name": "stderr",
     "output_type": "stream",
     "text": [
      "/opt/conda/lib/python3.7/site-packages/sklearn/linear_model/_logistic.py:818: ConvergenceWarning: lbfgs failed to converge (status=1):\n",
      "STOP: TOTAL NO. of ITERATIONS REACHED LIMIT.\n",
      "\n",
      "Increase the number of iterations (max_iter) or scale the data as shown in:\n",
      "    https://scikit-learn.org/stable/modules/preprocessing.html\n",
      "Please also refer to the documentation for alternative solver options:\n",
      "    https://scikit-learn.org/stable/modules/linear_model.html#logistic-regression\n",
      "  extra_warning_msg=_LOGISTIC_SOLVER_CONVERGENCE_MSG,\n"
     ]
    },
    {
     "name": "stdout",
     "output_type": "stream",
     "text": [
      "[CV 5/10] END lr__C=100, lr__max_iter=500, lr__penalty=l2, lr__solver=lbfgs, smote__sampling_strategy=0.8;, score=(train=0.933, test=0.934) total time=  21.6s\n",
      "[CV 6/10] END lr__C=100, lr__max_iter=500, lr__penalty=l2, lr__solver=lbfgs, smote__sampling_strategy=0.8;, score=(train=0.934, test=0.934) total time=  17.0s\n"
     ]
    },
    {
     "name": "stderr",
     "output_type": "stream",
     "text": [
      "/opt/conda/lib/python3.7/site-packages/sklearn/linear_model/_logistic.py:818: ConvergenceWarning: lbfgs failed to converge (status=1):\n",
      "STOP: TOTAL NO. of ITERATIONS REACHED LIMIT.\n",
      "\n",
      "Increase the number of iterations (max_iter) or scale the data as shown in:\n",
      "    https://scikit-learn.org/stable/modules/preprocessing.html\n",
      "Please also refer to the documentation for alternative solver options:\n",
      "    https://scikit-learn.org/stable/modules/linear_model.html#logistic-regression\n",
      "  extra_warning_msg=_LOGISTIC_SOLVER_CONVERGENCE_MSG,\n"
     ]
    },
    {
     "name": "stdout",
     "output_type": "stream",
     "text": [
      "[CV 7/10] END lr__C=100, lr__max_iter=500, lr__penalty=l2, lr__solver=lbfgs, smote__sampling_strategy=0.8;, score=(train=0.933, test=0.933) total time=  21.4s\n",
      "[CV 8/10] END lr__C=100, lr__max_iter=500, lr__penalty=l2, lr__solver=lbfgs, smote__sampling_strategy=0.8;, score=(train=0.933, test=0.932) total time=  15.0s\n"
     ]
    },
    {
     "name": "stderr",
     "output_type": "stream",
     "text": [
      "/opt/conda/lib/python3.7/site-packages/sklearn/linear_model/_logistic.py:818: ConvergenceWarning: lbfgs failed to converge (status=1):\n",
      "STOP: TOTAL NO. of ITERATIONS REACHED LIMIT.\n",
      "\n",
      "Increase the number of iterations (max_iter) or scale the data as shown in:\n",
      "    https://scikit-learn.org/stable/modules/preprocessing.html\n",
      "Please also refer to the documentation for alternative solver options:\n",
      "    https://scikit-learn.org/stable/modules/linear_model.html#logistic-regression\n",
      "  extra_warning_msg=_LOGISTIC_SOLVER_CONVERGENCE_MSG,\n"
     ]
    },
    {
     "name": "stdout",
     "output_type": "stream",
     "text": [
      "[CV 9/10] END lr__C=100, lr__max_iter=500, lr__penalty=l2, lr__solver=lbfgs, smote__sampling_strategy=0.8;, score=(train=0.932, test=0.933) total time=  17.0s\n"
     ]
    },
    {
     "name": "stderr",
     "output_type": "stream",
     "text": [
      "/opt/conda/lib/python3.7/site-packages/sklearn/linear_model/_logistic.py:818: ConvergenceWarning: lbfgs failed to converge (status=1):\n",
      "STOP: TOTAL NO. of ITERATIONS REACHED LIMIT.\n",
      "\n",
      "Increase the number of iterations (max_iter) or scale the data as shown in:\n",
      "    https://scikit-learn.org/stable/modules/preprocessing.html\n",
      "Please also refer to the documentation for alternative solver options:\n",
      "    https://scikit-learn.org/stable/modules/linear_model.html#logistic-regression\n",
      "  extra_warning_msg=_LOGISTIC_SOLVER_CONVERGENCE_MSG,\n"
     ]
    },
    {
     "name": "stdout",
     "output_type": "stream",
     "text": [
      "[CV 10/10] END lr__C=100, lr__max_iter=500, lr__penalty=l2, lr__solver=lbfgs, smote__sampling_strategy=0.8;, score=(train=0.933, test=0.933) total time=  21.3s\n"
     ]
    },
    {
     "name": "stderr",
     "output_type": "stream",
     "text": [
      "/opt/conda/lib/python3.7/site-packages/sklearn/linear_model/_sag.py:354: ConvergenceWarning: The max_iter was reached which means the coef_ did not converge\n",
      "  ConvergenceWarning,\n"
     ]
    },
    {
     "name": "stdout",
     "output_type": "stream",
     "text": [
      "[CV 1/10] END lr__C=100, lr__max_iter=100, lr__penalty=l2, lr__solver=saga, smote__sampling_strategy=0.8;, score=(train=0.934, test=0.932) total time=  29.6s\n"
     ]
    },
    {
     "name": "stderr",
     "output_type": "stream",
     "text": [
      "/opt/conda/lib/python3.7/site-packages/sklearn/linear_model/_sag.py:354: ConvergenceWarning: The max_iter was reached which means the coef_ did not converge\n",
      "  ConvergenceWarning,\n"
     ]
    },
    {
     "name": "stdout",
     "output_type": "stream",
     "text": [
      "[CV 2/10] END lr__C=100, lr__max_iter=100, lr__penalty=l2, lr__solver=saga, smote__sampling_strategy=0.8;, score=(train=0.934, test=0.935) total time=  30.8s\n"
     ]
    },
    {
     "name": "stderr",
     "output_type": "stream",
     "text": [
      "/opt/conda/lib/python3.7/site-packages/sklearn/linear_model/_sag.py:354: ConvergenceWarning: The max_iter was reached which means the coef_ did not converge\n",
      "  ConvergenceWarning,\n"
     ]
    },
    {
     "name": "stdout",
     "output_type": "stream",
     "text": [
      "[CV 3/10] END lr__C=100, lr__max_iter=100, lr__penalty=l2, lr__solver=saga, smote__sampling_strategy=0.8;, score=(train=0.934, test=0.933) total time=  30.2s\n",
      "[CV 4/10] END lr__C=100, lr__max_iter=100, lr__penalty=l2, lr__solver=saga, smote__sampling_strategy=0.8;, score=(train=0.934, test=0.934) total time=  20.6s\n"
     ]
    },
    {
     "name": "stderr",
     "output_type": "stream",
     "text": [
      "/opt/conda/lib/python3.7/site-packages/sklearn/linear_model/_sag.py:354: ConvergenceWarning: The max_iter was reached which means the coef_ did not converge\n",
      "  ConvergenceWarning,\n"
     ]
    },
    {
     "name": "stdout",
     "output_type": "stream",
     "text": [
      "[CV 5/10] END lr__C=100, lr__max_iter=100, lr__penalty=l2, lr__solver=saga, smote__sampling_strategy=0.8;, score=(train=0.933, test=0.934) total time=  30.8s\n"
     ]
    },
    {
     "name": "stderr",
     "output_type": "stream",
     "text": [
      "/opt/conda/lib/python3.7/site-packages/sklearn/linear_model/_sag.py:354: ConvergenceWarning: The max_iter was reached which means the coef_ did not converge\n",
      "  ConvergenceWarning,\n"
     ]
    },
    {
     "name": "stdout",
     "output_type": "stream",
     "text": [
      "[CV 6/10] END lr__C=100, lr__max_iter=100, lr__penalty=l2, lr__solver=saga, smote__sampling_strategy=0.8;, score=(train=0.934, test=0.934) total time=  30.4s\n"
     ]
    },
    {
     "name": "stderr",
     "output_type": "stream",
     "text": [
      "/opt/conda/lib/python3.7/site-packages/sklearn/linear_model/_sag.py:354: ConvergenceWarning: The max_iter was reached which means the coef_ did not converge\n",
      "  ConvergenceWarning,\n"
     ]
    },
    {
     "name": "stdout",
     "output_type": "stream",
     "text": [
      "[CV 7/10] END lr__C=100, lr__max_iter=100, lr__penalty=l2, lr__solver=saga, smote__sampling_strategy=0.8;, score=(train=0.933, test=0.933) total time=  30.1s\n",
      "[CV 8/10] END lr__C=100, lr__max_iter=100, lr__penalty=l2, lr__solver=saga, smote__sampling_strategy=0.8;, score=(train=0.933, test=0.932) total time=  18.0s\n"
     ]
    },
    {
     "name": "stderr",
     "output_type": "stream",
     "text": [
      "/opt/conda/lib/python3.7/site-packages/sklearn/linear_model/_sag.py:354: ConvergenceWarning: The max_iter was reached which means the coef_ did not converge\n",
      "  ConvergenceWarning,\n"
     ]
    },
    {
     "name": "stdout",
     "output_type": "stream",
     "text": [
      "[CV 9/10] END lr__C=100, lr__max_iter=100, lr__penalty=l2, lr__solver=saga, smote__sampling_strategy=0.8;, score=(train=0.932, test=0.933) total time=  30.9s\n"
     ]
    },
    {
     "name": "stderr",
     "output_type": "stream",
     "text": [
      "/opt/conda/lib/python3.7/site-packages/sklearn/linear_model/_sag.py:354: ConvergenceWarning: The max_iter was reached which means the coef_ did not converge\n",
      "  ConvergenceWarning,\n"
     ]
    },
    {
     "name": "stdout",
     "output_type": "stream",
     "text": [
      "[CV 10/10] END lr__C=100, lr__max_iter=100, lr__penalty=l2, lr__solver=saga, smote__sampling_strategy=0.8;, score=(train=0.933, test=0.933) total time=  30.4s\n",
      "[CV 1/10] END lr__C=100, lr__max_iter=500, lr__penalty=l2, lr__solver=liblinear, smote__sampling_strategy=0.8;, score=(train=0.934, test=0.932) total time=  13.7s\n",
      "[CV 2/10] END lr__C=100, lr__max_iter=500, lr__penalty=l2, lr__solver=liblinear, smote__sampling_strategy=0.8;, score=(train=0.934, test=0.935) total time=  13.2s\n",
      "[CV 3/10] END lr__C=100, lr__max_iter=500, lr__penalty=l2, lr__solver=liblinear, smote__sampling_strategy=0.8;, score=(train=0.934, test=0.933) total time=  11.3s\n",
      "[CV 4/10] END lr__C=100, lr__max_iter=500, lr__penalty=l2, lr__solver=liblinear, smote__sampling_strategy=0.8;, score=(train=0.934, test=0.934) total time=  12.9s\n",
      "[CV 5/10] END lr__C=100, lr__max_iter=500, lr__penalty=l2, lr__solver=liblinear, smote__sampling_strategy=0.8;, score=(train=0.933, test=0.934) total time=  13.1s\n",
      "[CV 6/10] END lr__C=100, lr__max_iter=500, lr__penalty=l2, lr__solver=liblinear, smote__sampling_strategy=0.8;, score=(train=0.934, test=0.934) total time=  12.4s\n",
      "[CV 7/10] END lr__C=100, lr__max_iter=500, lr__penalty=l2, lr__solver=liblinear, smote__sampling_strategy=0.8;, score=(train=0.933, test=0.933) total time=  11.0s\n",
      "[CV 8/10] END lr__C=100, lr__max_iter=500, lr__penalty=l2, lr__solver=liblinear, smote__sampling_strategy=0.8;, score=(train=0.933, test=0.932) total time=  11.8s\n",
      "[CV 9/10] END lr__C=100, lr__max_iter=500, lr__penalty=l2, lr__solver=liblinear, smote__sampling_strategy=0.8;, score=(train=0.932, test=0.933) total time=  11.0s\n",
      "[CV 10/10] END lr__C=100, lr__max_iter=500, lr__penalty=l2, lr__solver=liblinear, smote__sampling_strategy=0.8;, score=(train=0.933, test=0.933) total time=  13.8s\n",
      "[CV 1/10] END lr__C=100, lr__max_iter=100, lr__penalty=l2, lr__solver=liblinear, smote__sampling_strategy=0.8;, score=(train=0.934, test=0.932) total time=  13.9s\n",
      "[CV 2/10] END lr__C=100, lr__max_iter=100, lr__penalty=l2, lr__solver=liblinear, smote__sampling_strategy=0.8;, score=(train=0.934, test=0.935) total time=  13.6s\n",
      "[CV 3/10] END lr__C=100, lr__max_iter=100, lr__penalty=l2, lr__solver=liblinear, smote__sampling_strategy=0.8;, score=(train=0.934, test=0.933) total time=  11.6s\n",
      "[CV 4/10] END lr__C=100, lr__max_iter=100, lr__penalty=l2, lr__solver=liblinear, smote__sampling_strategy=0.8;, score=(train=0.934, test=0.934) total time=  12.9s\n",
      "[CV 5/10] END lr__C=100, lr__max_iter=100, lr__penalty=l2, lr__solver=liblinear, smote__sampling_strategy=0.8;, score=(train=0.933, test=0.934) total time=  13.1s\n",
      "[CV 6/10] END lr__C=100, lr__max_iter=100, lr__penalty=l2, lr__solver=liblinear, smote__sampling_strategy=0.8;, score=(train=0.934, test=0.934) total time=  12.5s\n",
      "[CV 7/10] END lr__C=100, lr__max_iter=100, lr__penalty=l2, lr__solver=liblinear, smote__sampling_strategy=0.8;, score=(train=0.933, test=0.933) total time=  11.5s\n",
      "[CV 8/10] END lr__C=100, lr__max_iter=100, lr__penalty=l2, lr__solver=liblinear, smote__sampling_strategy=0.8;, score=(train=0.933, test=0.932) total time=  12.0s\n",
      "[CV 9/10] END lr__C=100, lr__max_iter=100, lr__penalty=l2, lr__solver=liblinear, smote__sampling_strategy=0.8;, score=(train=0.932, test=0.933) total time=  11.2s\n",
      "[CV 10/10] END lr__C=100, lr__max_iter=100, lr__penalty=l2, lr__solver=liblinear, smote__sampling_strategy=0.8;, score=(train=0.933, test=0.933) total time=  13.9s\n",
      "----------\n",
      "iter: 3\n",
      "n_candidates: 6\n",
      "n_resources: 358209\n",
      "Fitting 10 folds for each of 6 candidates, totalling 60 fits\n",
      "[CV 1/10] END lr__C=100, lr__max_iter=500, lr__penalty=l2, lr__solver=newton-cg, smote__sampling_strategy=0.8;, score=(train=0.934, test=0.933) total time= 1.8min\n",
      "[CV 2/10] END lr__C=100, lr__max_iter=500, lr__penalty=l2, lr__solver=newton-cg, smote__sampling_strategy=0.8;, score=(train=0.933, test=0.933) total time= 2.2min\n",
      "[CV 3/10] END lr__C=100, lr__max_iter=500, lr__penalty=l2, lr__solver=newton-cg, smote__sampling_strategy=0.8;, score=(train=0.933, test=0.934) total time= 2.5min\n",
      "[CV 4/10] END lr__C=100, lr__max_iter=500, lr__penalty=l2, lr__solver=newton-cg, smote__sampling_strategy=0.8;, score=(train=0.933, test=0.933) total time= 2.0min\n",
      "[CV 5/10] END lr__C=100, lr__max_iter=500, lr__penalty=l2, lr__solver=newton-cg, smote__sampling_strategy=0.8;, score=(train=0.933, test=0.934) total time= 2.4min\n",
      "[CV 6/10] END lr__C=100, lr__max_iter=500, lr__penalty=l2, lr__solver=newton-cg, smote__sampling_strategy=0.8;, score=(train=0.933, test=0.933) total time= 3.1min\n",
      "[CV 7/10] END lr__C=100, lr__max_iter=500, lr__penalty=l2, lr__solver=newton-cg, smote__sampling_strategy=0.8;, score=(train=0.933, test=0.933) total time= 1.8min\n",
      "[CV 8/10] END lr__C=100, lr__max_iter=500, lr__penalty=l2, lr__solver=newton-cg, smote__sampling_strategy=0.8;, score=(train=0.933, test=0.933) total time= 2.7min\n",
      "[CV 9/10] END lr__C=100, lr__max_iter=500, lr__penalty=l2, lr__solver=newton-cg, smote__sampling_strategy=0.8;, score=(train=0.933, test=0.933) total time= 1.9min\n",
      "[CV 10/10] END lr__C=100, lr__max_iter=500, lr__penalty=l2, lr__solver=newton-cg, smote__sampling_strategy=0.8;, score=(train=0.934, test=0.934) total time= 1.9min\n",
      "[CV 1/10] END lr__C=100, lr__max_iter=500, lr__penalty=l2, lr__solver=liblinear, smote__sampling_strategy=0.8;, score=(train=0.934, test=0.933) total time= 1.3min\n",
      "[CV 2/10] END lr__C=100, lr__max_iter=500, lr__penalty=l2, lr__solver=liblinear, smote__sampling_strategy=0.8;, score=(train=0.933, test=0.933) total time= 1.2min\n",
      "[CV 3/10] END lr__C=100, lr__max_iter=500, lr__penalty=l2, lr__solver=liblinear, smote__sampling_strategy=0.8;, score=(train=0.933, test=0.934) total time= 1.2min\n",
      "[CV 4/10] END lr__C=100, lr__max_iter=500, lr__penalty=l2, lr__solver=liblinear, smote__sampling_strategy=0.8;, score=(train=0.933, test=0.933) total time= 1.1min\n",
      "[CV 5/10] END lr__C=100, lr__max_iter=500, lr__penalty=l2, lr__solver=liblinear, smote__sampling_strategy=0.8;, score=(train=0.933, test=0.934) total time= 1.3min\n",
      "[CV 6/10] END lr__C=100, lr__max_iter=500, lr__penalty=l2, lr__solver=liblinear, smote__sampling_strategy=0.8;, score=(train=0.933, test=0.933) total time= 1.3min\n",
      "[CV 7/10] END lr__C=100, lr__max_iter=500, lr__penalty=l2, lr__solver=liblinear, smote__sampling_strategy=0.8;, score=(train=0.933, test=0.933) total time= 1.2min\n",
      "[CV 8/10] END lr__C=100, lr__max_iter=500, lr__penalty=l2, lr__solver=liblinear, smote__sampling_strategy=0.8;, score=(train=0.933, test=0.933) total time= 1.2min\n",
      "[CV 9/10] END lr__C=100, lr__max_iter=500, lr__penalty=l2, lr__solver=liblinear, smote__sampling_strategy=0.8;, score=(train=0.933, test=0.933) total time= 1.3min\n",
      "[CV 10/10] END lr__C=100, lr__max_iter=500, lr__penalty=l2, lr__solver=liblinear, smote__sampling_strategy=0.8;, score=(train=0.934, test=0.934) total time= 1.2min\n",
      "[CV 1/10] END lr__C=100, lr__max_iter=100, lr__penalty=l2, lr__solver=liblinear, smote__sampling_strategy=0.8;, score=(train=0.934, test=0.933) total time= 1.3min\n",
      "[CV 2/10] END lr__C=100, lr__max_iter=100, lr__penalty=l2, lr__solver=liblinear, smote__sampling_strategy=0.8;, score=(train=0.933, test=0.933) total time= 1.2min\n",
      "[CV 3/10] END lr__C=100, lr__max_iter=100, lr__penalty=l2, lr__solver=liblinear, smote__sampling_strategy=0.8;, score=(train=0.933, test=0.934) total time= 1.2min\n",
      "[CV 4/10] END lr__C=100, lr__max_iter=100, lr__penalty=l2, lr__solver=liblinear, smote__sampling_strategy=0.8;, score=(train=0.933, test=0.933) total time= 1.1min\n",
      "[CV 5/10] END lr__C=100, lr__max_iter=100, lr__penalty=l2, lr__solver=liblinear, smote__sampling_strategy=0.8;, score=(train=0.933, test=0.934) total time= 1.3min\n",
      "[CV 6/10] END lr__C=100, lr__max_iter=100, lr__penalty=l2, lr__solver=liblinear, smote__sampling_strategy=0.8;, score=(train=0.933, test=0.933) total time= 1.3min\n",
      "[CV 7/10] END lr__C=100, lr__max_iter=100, lr__penalty=l2, lr__solver=liblinear, smote__sampling_strategy=0.8;, score=(train=0.933, test=0.933) total time= 1.2min\n",
      "[CV 8/10] END lr__C=100, lr__max_iter=100, lr__penalty=l2, lr__solver=liblinear, smote__sampling_strategy=0.8;, score=(train=0.933, test=0.933) total time= 1.2min\n",
      "[CV 9/10] END lr__C=100, lr__max_iter=100, lr__penalty=l2, lr__solver=liblinear, smote__sampling_strategy=0.8;, score=(train=0.933, test=0.933) total time= 1.3min\n",
      "[CV 10/10] END lr__C=100, lr__max_iter=100, lr__penalty=l2, lr__solver=liblinear, smote__sampling_strategy=0.8;, score=(train=0.934, test=0.934) total time= 1.2min\n"
     ]
    },
    {
     "name": "stderr",
     "output_type": "stream",
     "text": [
      "/opt/conda/lib/python3.7/site-packages/sklearn/linear_model/_logistic.py:818: ConvergenceWarning: lbfgs failed to converge (status=1):\n",
      "STOP: TOTAL NO. of ITERATIONS REACHED LIMIT.\n",
      "\n",
      "Increase the number of iterations (max_iter) or scale the data as shown in:\n",
      "    https://scikit-learn.org/stable/modules/preprocessing.html\n",
      "Please also refer to the documentation for alternative solver options:\n",
      "    https://scikit-learn.org/stable/modules/linear_model.html#logistic-regression\n",
      "  extra_warning_msg=_LOGISTIC_SOLVER_CONVERGENCE_MSG,\n"
     ]
    },
    {
     "name": "stdout",
     "output_type": "stream",
     "text": [
      "[CV 1/10] END lr__C=100, lr__max_iter=500, lr__penalty=l2, lr__solver=lbfgs, smote__sampling_strategy=0.8;, score=(train=0.934, test=0.933) total time= 1.6min\n"
     ]
    },
    {
     "name": "stderr",
     "output_type": "stream",
     "text": [
      "/opt/conda/lib/python3.7/site-packages/sklearn/linear_model/_logistic.py:818: ConvergenceWarning: lbfgs failed to converge (status=1):\n",
      "STOP: TOTAL NO. of ITERATIONS REACHED LIMIT.\n",
      "\n",
      "Increase the number of iterations (max_iter) or scale the data as shown in:\n",
      "    https://scikit-learn.org/stable/modules/preprocessing.html\n",
      "Please also refer to the documentation for alternative solver options:\n",
      "    https://scikit-learn.org/stable/modules/linear_model.html#logistic-regression\n",
      "  extra_warning_msg=_LOGISTIC_SOLVER_CONVERGENCE_MSG,\n"
     ]
    },
    {
     "name": "stdout",
     "output_type": "stream",
     "text": [
      "[CV 2/10] END lr__C=100, lr__max_iter=500, lr__penalty=l2, lr__solver=lbfgs, smote__sampling_strategy=0.8;, score=(train=0.933, test=0.933) total time= 1.6min\n"
     ]
    },
    {
     "name": "stderr",
     "output_type": "stream",
     "text": [
      "/opt/conda/lib/python3.7/site-packages/sklearn/linear_model/_logistic.py:818: ConvergenceWarning: lbfgs failed to converge (status=1):\n",
      "STOP: TOTAL NO. of ITERATIONS REACHED LIMIT.\n",
      "\n",
      "Increase the number of iterations (max_iter) or scale the data as shown in:\n",
      "    https://scikit-learn.org/stable/modules/preprocessing.html\n",
      "Please also refer to the documentation for alternative solver options:\n",
      "    https://scikit-learn.org/stable/modules/linear_model.html#logistic-regression\n",
      "  extra_warning_msg=_LOGISTIC_SOLVER_CONVERGENCE_MSG,\n"
     ]
    },
    {
     "name": "stdout",
     "output_type": "stream",
     "text": [
      "[CV 3/10] END lr__C=100, lr__max_iter=500, lr__penalty=l2, lr__solver=lbfgs, smote__sampling_strategy=0.8;, score=(train=0.933, test=0.935) total time= 1.5min\n"
     ]
    },
    {
     "name": "stderr",
     "output_type": "stream",
     "text": [
      "/opt/conda/lib/python3.7/site-packages/sklearn/linear_model/_logistic.py:818: ConvergenceWarning: lbfgs failed to converge (status=1):\n",
      "STOP: TOTAL NO. of ITERATIONS REACHED LIMIT.\n",
      "\n",
      "Increase the number of iterations (max_iter) or scale the data as shown in:\n",
      "    https://scikit-learn.org/stable/modules/preprocessing.html\n",
      "Please also refer to the documentation for alternative solver options:\n",
      "    https://scikit-learn.org/stable/modules/linear_model.html#logistic-regression\n",
      "  extra_warning_msg=_LOGISTIC_SOLVER_CONVERGENCE_MSG,\n"
     ]
    },
    {
     "name": "stdout",
     "output_type": "stream",
     "text": [
      "[CV 4/10] END lr__C=100, lr__max_iter=500, lr__penalty=l2, lr__solver=lbfgs, smote__sampling_strategy=0.8;, score=(train=0.933, test=0.933) total time= 1.4min\n"
     ]
    },
    {
     "name": "stderr",
     "output_type": "stream",
     "text": [
      "/opt/conda/lib/python3.7/site-packages/sklearn/linear_model/_logistic.py:818: ConvergenceWarning: lbfgs failed to converge (status=1):\n",
      "STOP: TOTAL NO. of ITERATIONS REACHED LIMIT.\n",
      "\n",
      "Increase the number of iterations (max_iter) or scale the data as shown in:\n",
      "    https://scikit-learn.org/stable/modules/preprocessing.html\n",
      "Please also refer to the documentation for alternative solver options:\n",
      "    https://scikit-learn.org/stable/modules/linear_model.html#logistic-regression\n",
      "  extra_warning_msg=_LOGISTIC_SOLVER_CONVERGENCE_MSG,\n"
     ]
    },
    {
     "name": "stdout",
     "output_type": "stream",
     "text": [
      "[CV 5/10] END lr__C=100, lr__max_iter=500, lr__penalty=l2, lr__solver=lbfgs, smote__sampling_strategy=0.8;, score=(train=0.933, test=0.934) total time= 1.5min\n"
     ]
    },
    {
     "name": "stderr",
     "output_type": "stream",
     "text": [
      "/opt/conda/lib/python3.7/site-packages/sklearn/linear_model/_logistic.py:818: ConvergenceWarning: lbfgs failed to converge (status=1):\n",
      "STOP: TOTAL NO. of ITERATIONS REACHED LIMIT.\n",
      "\n",
      "Increase the number of iterations (max_iter) or scale the data as shown in:\n",
      "    https://scikit-learn.org/stable/modules/preprocessing.html\n",
      "Please also refer to the documentation for alternative solver options:\n",
      "    https://scikit-learn.org/stable/modules/linear_model.html#logistic-regression\n",
      "  extra_warning_msg=_LOGISTIC_SOLVER_CONVERGENCE_MSG,\n"
     ]
    },
    {
     "name": "stdout",
     "output_type": "stream",
     "text": [
      "[CV 6/10] END lr__C=100, lr__max_iter=500, lr__penalty=l2, lr__solver=lbfgs, smote__sampling_strategy=0.8;, score=(train=0.933, test=0.933) total time= 1.4min\n"
     ]
    },
    {
     "name": "stderr",
     "output_type": "stream",
     "text": [
      "/opt/conda/lib/python3.7/site-packages/sklearn/linear_model/_logistic.py:818: ConvergenceWarning: lbfgs failed to converge (status=1):\n",
      "STOP: TOTAL NO. of ITERATIONS REACHED LIMIT.\n",
      "\n",
      "Increase the number of iterations (max_iter) or scale the data as shown in:\n",
      "    https://scikit-learn.org/stable/modules/preprocessing.html\n",
      "Please also refer to the documentation for alternative solver options:\n",
      "    https://scikit-learn.org/stable/modules/linear_model.html#logistic-regression\n",
      "  extra_warning_msg=_LOGISTIC_SOLVER_CONVERGENCE_MSG,\n"
     ]
    },
    {
     "name": "stdout",
     "output_type": "stream",
     "text": [
      "[CV 7/10] END lr__C=100, lr__max_iter=500, lr__penalty=l2, lr__solver=lbfgs, smote__sampling_strategy=0.8;, score=(train=0.933, test=0.933) total time= 1.4min\n"
     ]
    },
    {
     "name": "stderr",
     "output_type": "stream",
     "text": [
      "/opt/conda/lib/python3.7/site-packages/sklearn/linear_model/_logistic.py:818: ConvergenceWarning: lbfgs failed to converge (status=1):\n",
      "STOP: TOTAL NO. of ITERATIONS REACHED LIMIT.\n",
      "\n",
      "Increase the number of iterations (max_iter) or scale the data as shown in:\n",
      "    https://scikit-learn.org/stable/modules/preprocessing.html\n",
      "Please also refer to the documentation for alternative solver options:\n",
      "    https://scikit-learn.org/stable/modules/linear_model.html#logistic-regression\n",
      "  extra_warning_msg=_LOGISTIC_SOLVER_CONVERGENCE_MSG,\n"
     ]
    },
    {
     "name": "stdout",
     "output_type": "stream",
     "text": [
      "[CV 8/10] END lr__C=100, lr__max_iter=500, lr__penalty=l2, lr__solver=lbfgs, smote__sampling_strategy=0.8;, score=(train=0.933, test=0.933) total time= 1.6min\n"
     ]
    },
    {
     "name": "stderr",
     "output_type": "stream",
     "text": [
      "/opt/conda/lib/python3.7/site-packages/sklearn/linear_model/_logistic.py:818: ConvergenceWarning: lbfgs failed to converge (status=1):\n",
      "STOP: TOTAL NO. of ITERATIONS REACHED LIMIT.\n",
      "\n",
      "Increase the number of iterations (max_iter) or scale the data as shown in:\n",
      "    https://scikit-learn.org/stable/modules/preprocessing.html\n",
      "Please also refer to the documentation for alternative solver options:\n",
      "    https://scikit-learn.org/stable/modules/linear_model.html#logistic-regression\n",
      "  extra_warning_msg=_LOGISTIC_SOLVER_CONVERGENCE_MSG,\n"
     ]
    },
    {
     "name": "stdout",
     "output_type": "stream",
     "text": [
      "[CV 9/10] END lr__C=100, lr__max_iter=500, lr__penalty=l2, lr__solver=lbfgs, smote__sampling_strategy=0.8;, score=(train=0.933, test=0.933) total time= 1.4min\n"
     ]
    },
    {
     "name": "stderr",
     "output_type": "stream",
     "text": [
      "/opt/conda/lib/python3.7/site-packages/sklearn/linear_model/_logistic.py:818: ConvergenceWarning: lbfgs failed to converge (status=1):\n",
      "STOP: TOTAL NO. of ITERATIONS REACHED LIMIT.\n",
      "\n",
      "Increase the number of iterations (max_iter) or scale the data as shown in:\n",
      "    https://scikit-learn.org/stable/modules/preprocessing.html\n",
      "Please also refer to the documentation for alternative solver options:\n",
      "    https://scikit-learn.org/stable/modules/linear_model.html#logistic-regression\n",
      "  extra_warning_msg=_LOGISTIC_SOLVER_CONVERGENCE_MSG,\n"
     ]
    },
    {
     "name": "stdout",
     "output_type": "stream",
     "text": [
      "[CV 10/10] END lr__C=100, lr__max_iter=500, lr__penalty=l2, lr__solver=lbfgs, smote__sampling_strategy=0.8;, score=(train=0.934, test=0.934) total time= 1.5min\n",
      "[CV 1/10] END lr__C=100, lr__max_iter=100, lr__penalty=l2, lr__solver=saga, smote__sampling_strategy=0.8;, score=(train=0.934, test=0.933) total time= 1.6min\n",
      "[CV 2/10] END lr__C=100, lr__max_iter=100, lr__penalty=l2, lr__solver=saga, smote__sampling_strategy=0.8;, score=(train=0.933, test=0.933) total time= 1.6min\n",
      "[CV 3/10] END lr__C=100, lr__max_iter=100, lr__penalty=l2, lr__solver=saga, smote__sampling_strategy=0.8;, score=(train=0.933, test=0.934) total time= 2.2min\n",
      "[CV 4/10] END lr__C=100, lr__max_iter=100, lr__penalty=l2, lr__solver=saga, smote__sampling_strategy=0.8;, score=(train=0.933, test=0.933) total time= 1.3min\n",
      "[CV 5/10] END lr__C=100, lr__max_iter=100, lr__penalty=l2, lr__solver=saga, smote__sampling_strategy=0.8;, score=(train=0.933, test=0.934) total time= 1.4min\n"
     ]
    },
    {
     "name": "stderr",
     "output_type": "stream",
     "text": [
      "/opt/conda/lib/python3.7/site-packages/sklearn/linear_model/_sag.py:354: ConvergenceWarning: The max_iter was reached which means the coef_ did not converge\n",
      "  ConvergenceWarning,\n"
     ]
    },
    {
     "name": "stdout",
     "output_type": "stream",
     "text": [
      "[CV 6/10] END lr__C=100, lr__max_iter=100, lr__penalty=l2, lr__solver=saga, smote__sampling_strategy=0.8;, score=(train=0.933, test=0.933) total time= 2.2min\n",
      "[CV 7/10] END lr__C=100, lr__max_iter=100, lr__penalty=l2, lr__solver=saga, smote__sampling_strategy=0.8;, score=(train=0.933, test=0.933) total time= 1.4min\n",
      "[CV 8/10] END lr__C=100, lr__max_iter=100, lr__penalty=l2, lr__solver=saga, smote__sampling_strategy=0.8;, score=(train=0.933, test=0.933) total time= 2.0min\n",
      "[CV 9/10] END lr__C=100, lr__max_iter=100, lr__penalty=l2, lr__solver=saga, smote__sampling_strategy=0.8;, score=(train=0.933, test=0.933) total time= 1.7min\n",
      "[CV 10/10] END lr__C=100, lr__max_iter=100, lr__penalty=l2, lr__solver=saga, smote__sampling_strategy=0.8;, score=(train=0.934, test=0.934) total time= 1.5min\n",
      "[CV 1/10] END lr__C=100, lr__max_iter=500, lr__penalty=l2, lr__solver=saga, smote__sampling_strategy=0.8;, score=(train=0.934, test=0.933) total time= 1.6min\n",
      "[CV 2/10] END lr__C=100, lr__max_iter=500, lr__penalty=l2, lr__solver=saga, smote__sampling_strategy=0.8;, score=(train=0.933, test=0.933) total time= 1.6min\n",
      "[CV 3/10] END lr__C=100, lr__max_iter=500, lr__penalty=l2, lr__solver=saga, smote__sampling_strategy=0.8;, score=(train=0.933, test=0.934) total time= 2.1min\n",
      "[CV 4/10] END lr__C=100, lr__max_iter=500, lr__penalty=l2, lr__solver=saga, smote__sampling_strategy=0.8;, score=(train=0.933, test=0.933) total time= 1.3min\n",
      "[CV 5/10] END lr__C=100, lr__max_iter=500, lr__penalty=l2, lr__solver=saga, smote__sampling_strategy=0.8;, score=(train=0.933, test=0.934) total time= 1.4min\n",
      "[CV 6/10] END lr__C=100, lr__max_iter=500, lr__penalty=l2, lr__solver=saga, smote__sampling_strategy=0.8;, score=(train=0.933, test=0.933) total time= 2.3min\n",
      "[CV 7/10] END lr__C=100, lr__max_iter=500, lr__penalty=l2, lr__solver=saga, smote__sampling_strategy=0.8;, score=(train=0.933, test=0.933) total time= 1.4min\n",
      "[CV 8/10] END lr__C=100, lr__max_iter=500, lr__penalty=l2, lr__solver=saga, smote__sampling_strategy=0.8;, score=(train=0.933, test=0.933) total time= 2.1min\n",
      "[CV 9/10] END lr__C=100, lr__max_iter=500, lr__penalty=l2, lr__solver=saga, smote__sampling_strategy=0.8;, score=(train=0.933, test=0.933) total time= 1.7min\n",
      "[CV 10/10] END lr__C=100, lr__max_iter=500, lr__penalty=l2, lr__solver=saga, smote__sampling_strategy=0.8;, score=(train=0.934, test=0.934) total time= 1.5min\n",
      "----------\n",
      "iter: 4\n",
      "n_candidates: 2\n",
      "n_resources: 1074627\n",
      "Fitting 10 folds for each of 2 candidates, totalling 20 fits\n"
     ]
    },
    {
     "name": "stderr",
     "output_type": "stream",
     "text": [
      "/opt/conda/lib/python3.7/site-packages/sklearn/linear_model/_logistic.py:818: ConvergenceWarning: lbfgs failed to converge (status=1):\n",
      "STOP: TOTAL NO. of ITERATIONS REACHED LIMIT.\n",
      "\n",
      "Increase the number of iterations (max_iter) or scale the data as shown in:\n",
      "    https://scikit-learn.org/stable/modules/preprocessing.html\n",
      "Please also refer to the documentation for alternative solver options:\n",
      "    https://scikit-learn.org/stable/modules/linear_model.html#logistic-regression\n",
      "  extra_warning_msg=_LOGISTIC_SOLVER_CONVERGENCE_MSG,\n"
     ]
    },
    {
     "name": "stdout",
     "output_type": "stream",
     "text": [
      "[CV 1/10] END lr__C=100, lr__max_iter=500, lr__penalty=l2, lr__solver=lbfgs, smote__sampling_strategy=0.8;, score=(train=0.933, test=0.934) total time=10.2min\n"
     ]
    },
    {
     "name": "stderr",
     "output_type": "stream",
     "text": [
      "/opt/conda/lib/python3.7/site-packages/sklearn/linear_model/_logistic.py:818: ConvergenceWarning: lbfgs failed to converge (status=1):\n",
      "STOP: TOTAL NO. of ITERATIONS REACHED LIMIT.\n",
      "\n",
      "Increase the number of iterations (max_iter) or scale the data as shown in:\n",
      "    https://scikit-learn.org/stable/modules/preprocessing.html\n",
      "Please also refer to the documentation for alternative solver options:\n",
      "    https://scikit-learn.org/stable/modules/linear_model.html#logistic-regression\n",
      "  extra_warning_msg=_LOGISTIC_SOLVER_CONVERGENCE_MSG,\n"
     ]
    },
    {
     "name": "stdout",
     "output_type": "stream",
     "text": [
      "[CV 2/10] END lr__C=100, lr__max_iter=500, lr__penalty=l2, lr__solver=lbfgs, smote__sampling_strategy=0.8;, score=(train=0.933, test=0.933) total time=10.2min\n"
     ]
    },
    {
     "name": "stderr",
     "output_type": "stream",
     "text": [
      "/opt/conda/lib/python3.7/site-packages/sklearn/linear_model/_logistic.py:818: ConvergenceWarning: lbfgs failed to converge (status=1):\n",
      "STOP: TOTAL NO. of ITERATIONS REACHED LIMIT.\n",
      "\n",
      "Increase the number of iterations (max_iter) or scale the data as shown in:\n",
      "    https://scikit-learn.org/stable/modules/preprocessing.html\n",
      "Please also refer to the documentation for alternative solver options:\n",
      "    https://scikit-learn.org/stable/modules/linear_model.html#logistic-regression\n",
      "  extra_warning_msg=_LOGISTIC_SOLVER_CONVERGENCE_MSG,\n"
     ]
    },
    {
     "name": "stdout",
     "output_type": "stream",
     "text": [
      "[CV 3/10] END lr__C=100, lr__max_iter=500, lr__penalty=l2, lr__solver=lbfgs, smote__sampling_strategy=0.8;, score=(train=0.933, test=0.934) total time= 9.9min\n"
     ]
    },
    {
     "name": "stderr",
     "output_type": "stream",
     "text": [
      "/opt/conda/lib/python3.7/site-packages/sklearn/linear_model/_logistic.py:818: ConvergenceWarning: lbfgs failed to converge (status=1):\n",
      "STOP: TOTAL NO. of ITERATIONS REACHED LIMIT.\n",
      "\n",
      "Increase the number of iterations (max_iter) or scale the data as shown in:\n",
      "    https://scikit-learn.org/stable/modules/preprocessing.html\n",
      "Please also refer to the documentation for alternative solver options:\n",
      "    https://scikit-learn.org/stable/modules/linear_model.html#logistic-regression\n",
      "  extra_warning_msg=_LOGISTIC_SOLVER_CONVERGENCE_MSG,\n"
     ]
    },
    {
     "name": "stdout",
     "output_type": "stream",
     "text": [
      "[CV 4/10] END lr__C=100, lr__max_iter=500, lr__penalty=l2, lr__solver=lbfgs, smote__sampling_strategy=0.8;, score=(train=0.933, test=0.933) total time=10.1min\n"
     ]
    },
    {
     "name": "stderr",
     "output_type": "stream",
     "text": [
      "/opt/conda/lib/python3.7/site-packages/sklearn/linear_model/_logistic.py:818: ConvergenceWarning: lbfgs failed to converge (status=1):\n",
      "STOP: TOTAL NO. of ITERATIONS REACHED LIMIT.\n",
      "\n",
      "Increase the number of iterations (max_iter) or scale the data as shown in:\n",
      "    https://scikit-learn.org/stable/modules/preprocessing.html\n",
      "Please also refer to the documentation for alternative solver options:\n",
      "    https://scikit-learn.org/stable/modules/linear_model.html#logistic-regression\n",
      "  extra_warning_msg=_LOGISTIC_SOLVER_CONVERGENCE_MSG,\n"
     ]
    },
    {
     "name": "stdout",
     "output_type": "stream",
     "text": [
      "[CV 5/10] END lr__C=100, lr__max_iter=500, lr__penalty=l2, lr__solver=lbfgs, smote__sampling_strategy=0.8;, score=(train=0.933, test=0.934) total time=10.3min\n"
     ]
    },
    {
     "name": "stderr",
     "output_type": "stream",
     "text": [
      "/opt/conda/lib/python3.7/site-packages/sklearn/linear_model/_logistic.py:818: ConvergenceWarning: lbfgs failed to converge (status=1):\n",
      "STOP: TOTAL NO. of ITERATIONS REACHED LIMIT.\n",
      "\n",
      "Increase the number of iterations (max_iter) or scale the data as shown in:\n",
      "    https://scikit-learn.org/stable/modules/preprocessing.html\n",
      "Please also refer to the documentation for alternative solver options:\n",
      "    https://scikit-learn.org/stable/modules/linear_model.html#logistic-regression\n",
      "  extra_warning_msg=_LOGISTIC_SOLVER_CONVERGENCE_MSG,\n"
     ]
    },
    {
     "name": "stdout",
     "output_type": "stream",
     "text": [
      "[CV 6/10] END lr__C=100, lr__max_iter=500, lr__penalty=l2, lr__solver=lbfgs, smote__sampling_strategy=0.8;, score=(train=0.933, test=0.933) total time=10.1min\n"
     ]
    },
    {
     "name": "stderr",
     "output_type": "stream",
     "text": [
      "/opt/conda/lib/python3.7/site-packages/sklearn/linear_model/_logistic.py:818: ConvergenceWarning: lbfgs failed to converge (status=1):\n",
      "STOP: TOTAL NO. of ITERATIONS REACHED LIMIT.\n",
      "\n",
      "Increase the number of iterations (max_iter) or scale the data as shown in:\n",
      "    https://scikit-learn.org/stable/modules/preprocessing.html\n",
      "Please also refer to the documentation for alternative solver options:\n",
      "    https://scikit-learn.org/stable/modules/linear_model.html#logistic-regression\n",
      "  extra_warning_msg=_LOGISTIC_SOLVER_CONVERGENCE_MSG,\n"
     ]
    },
    {
     "name": "stdout",
     "output_type": "stream",
     "text": [
      "[CV 7/10] END lr__C=100, lr__max_iter=500, lr__penalty=l2, lr__solver=lbfgs, smote__sampling_strategy=0.8;, score=(train=0.933, test=0.934) total time=10.0min\n"
     ]
    },
    {
     "name": "stderr",
     "output_type": "stream",
     "text": [
      "/opt/conda/lib/python3.7/site-packages/sklearn/linear_model/_logistic.py:818: ConvergenceWarning: lbfgs failed to converge (status=1):\n",
      "STOP: TOTAL NO. of ITERATIONS REACHED LIMIT.\n",
      "\n",
      "Increase the number of iterations (max_iter) or scale the data as shown in:\n",
      "    https://scikit-learn.org/stable/modules/preprocessing.html\n",
      "Please also refer to the documentation for alternative solver options:\n",
      "    https://scikit-learn.org/stable/modules/linear_model.html#logistic-regression\n",
      "  extra_warning_msg=_LOGISTIC_SOLVER_CONVERGENCE_MSG,\n"
     ]
    },
    {
     "name": "stdout",
     "output_type": "stream",
     "text": [
      "[CV 8/10] END lr__C=100, lr__max_iter=500, lr__penalty=l2, lr__solver=lbfgs, smote__sampling_strategy=0.8;, score=(train=0.933, test=0.933) total time= 9.6min\n"
     ]
    },
    {
     "name": "stderr",
     "output_type": "stream",
     "text": [
      "/opt/conda/lib/python3.7/site-packages/sklearn/linear_model/_logistic.py:818: ConvergenceWarning: lbfgs failed to converge (status=1):\n",
      "STOP: TOTAL NO. of ITERATIONS REACHED LIMIT.\n",
      "\n",
      "Increase the number of iterations (max_iter) or scale the data as shown in:\n",
      "    https://scikit-learn.org/stable/modules/preprocessing.html\n",
      "Please also refer to the documentation for alternative solver options:\n",
      "    https://scikit-learn.org/stable/modules/linear_model.html#logistic-regression\n",
      "  extra_warning_msg=_LOGISTIC_SOLVER_CONVERGENCE_MSG,\n"
     ]
    },
    {
     "name": "stdout",
     "output_type": "stream",
     "text": [
      "[CV 9/10] END lr__C=100, lr__max_iter=500, lr__penalty=l2, lr__solver=lbfgs, smote__sampling_strategy=0.8;, score=(train=0.933, test=0.933) total time=10.3min\n"
     ]
    },
    {
     "name": "stderr",
     "output_type": "stream",
     "text": [
      "/opt/conda/lib/python3.7/site-packages/sklearn/linear_model/_logistic.py:818: ConvergenceWarning: lbfgs failed to converge (status=1):\n",
      "STOP: TOTAL NO. of ITERATIONS REACHED LIMIT.\n",
      "\n",
      "Increase the number of iterations (max_iter) or scale the data as shown in:\n",
      "    https://scikit-learn.org/stable/modules/preprocessing.html\n",
      "Please also refer to the documentation for alternative solver options:\n",
      "    https://scikit-learn.org/stable/modules/linear_model.html#logistic-regression\n",
      "  extra_warning_msg=_LOGISTIC_SOLVER_CONVERGENCE_MSG,\n"
     ]
    },
    {
     "name": "stdout",
     "output_type": "stream",
     "text": [
      "[CV 10/10] END lr__C=100, lr__max_iter=500, lr__penalty=l2, lr__solver=lbfgs, smote__sampling_strategy=0.8;, score=(train=0.933, test=0.934) total time=10.7min\n",
      "[CV 1/10] END lr__C=100, lr__max_iter=500, lr__penalty=l2, lr__solver=newton-cg, smote__sampling_strategy=0.8;, score=(train=0.933, test=0.934) total time=24.7min\n"
     ]
    },
    {
     "name": "stderr",
     "output_type": "stream",
     "text": [
      "/opt/conda/lib/python3.7/site-packages/scipy/optimize/linesearch.py:327: LineSearchWarning: The line search algorithm did not converge\n",
      "  warn('The line search algorithm did not converge', LineSearchWarning)\n",
      "/opt/conda/lib/python3.7/site-packages/sklearn/utils/optimize.py:203: UserWarning: Line Search failed\n",
      "  warnings.warn(\"Line Search failed\")\n"
     ]
    },
    {
     "name": "stdout",
     "output_type": "stream",
     "text": [
      "[CV 2/10] END lr__C=100, lr__max_iter=500, lr__penalty=l2, lr__solver=newton-cg, smote__sampling_strategy=0.8;, score=(train=0.933, test=0.933) total time=20.4min\n",
      "[CV 3/10] END lr__C=100, lr__max_iter=500, lr__penalty=l2, lr__solver=newton-cg, smote__sampling_strategy=0.8;, score=(train=0.933, test=0.934) total time=22.0min\n",
      "[CV 4/10] END lr__C=100, lr__max_iter=500, lr__penalty=l2, lr__solver=newton-cg, smote__sampling_strategy=0.8;, score=(train=0.933, test=0.933) total time=23.1min\n",
      "[CV 5/10] END lr__C=100, lr__max_iter=500, lr__penalty=l2, lr__solver=newton-cg, smote__sampling_strategy=0.8;, score=(train=0.933, test=0.934) total time=17.3min\n",
      "[CV 6/10] END lr__C=100, lr__max_iter=500, lr__penalty=l2, lr__solver=newton-cg, smote__sampling_strategy=0.8;, score=(train=0.933, test=0.933) total time=22.2min\n",
      "[CV 7/10] END lr__C=100, lr__max_iter=500, lr__penalty=l2, lr__solver=newton-cg, smote__sampling_strategy=0.8;, score=(train=0.933, test=0.934) total time=17.3min\n",
      "[CV 8/10] END lr__C=100, lr__max_iter=500, lr__penalty=l2, lr__solver=newton-cg, smote__sampling_strategy=0.8;, score=(train=0.933, test=0.933) total time=25.0min\n",
      "[CV 9/10] END lr__C=100, lr__max_iter=500, lr__penalty=l2, lr__solver=newton-cg, smote__sampling_strategy=0.8;, score=(train=0.933, test=0.933) total time=19.4min\n",
      "[CV 10/10] END lr__C=100, lr__max_iter=500, lr__penalty=l2, lr__solver=newton-cg, smote__sampling_strategy=0.8;, score=(train=0.933, test=0.933) total time=24.3min\n"
     ]
    },
    {
     "data": {
      "text/plain": [
       "HalvingGridSearchCV(cv=RepeatedStratifiedKFold(n_repeats=2, n_splits=5, random_state=42),\n",
       "                    estimator=Pipeline(steps=[('minmax', MinMaxScaler()),\n",
       "                                              ('smote',\n",
       "                                               SMOTE(random_state=42,\n",
       "                                                     sampling_strategy=1.0)),\n",
       "                                              ('lr', LogisticRegression())]),\n",
       "                    param_grid={'lr__C': [0.01, 0.1, 1, 10, 100],\n",
       "                                'lr__max_iter': [100, 500],\n",
       "                                'lr__penalty': ['l2'],\n",
       "                                'lr__solver': ['newton-cg', 'lbfgs',\n",
       "                                               'liblinear', 'sag', 'saga'],\n",
       "                                'smote__sampling_strategy': [0.8, 0.9, 1.0]},\n",
       "                    scoring=make_scorer(fbeta_score, beta=0.5), verbose=3)"
      ]
     },
     "execution_count": 17,
     "metadata": {},
     "output_type": "execute_result"
    }
   ],
   "source": [
    "search.fit(X_train, y_train)"
   ]
  },
  {
   "cell_type": "code",
   "execution_count": 18,
   "id": "51661db6",
   "metadata": {
    "execution": {
     "iopub.execute_input": "2022-07-20T13:38:34.712017Z",
     "iopub.status.busy": "2022-07-20T13:38:34.711676Z",
     "iopub.status.idle": "2022-07-20T13:38:34.751108Z",
     "shell.execute_reply": "2022-07-20T13:38:34.750219Z"
    },
    "papermill": {
     "duration": 0.175025,
     "end_time": "2022-07-20T13:38:34.752960",
     "exception": false,
     "start_time": "2022-07-20T13:38:34.577935",
     "status": "completed"
    },
    "tags": []
   },
   "outputs": [
    {
     "data": {
      "text/html": [
       "<div>\n",
       "<style scoped>\n",
       "    .dataframe tbody tr th:only-of-type {\n",
       "        vertical-align: middle;\n",
       "    }\n",
       "\n",
       "    .dataframe tbody tr th {\n",
       "        vertical-align: top;\n",
       "    }\n",
       "\n",
       "    .dataframe thead th {\n",
       "        text-align: right;\n",
       "    }\n",
       "</style>\n",
       "<table border=\"1\" class=\"dataframe\">\n",
       "  <thead>\n",
       "    <tr style=\"text-align: right;\">\n",
       "      <th></th>\n",
       "      <th>params</th>\n",
       "      <th>mean_train_score</th>\n",
       "      <th>std_train_score</th>\n",
       "      <th>mean_test_score</th>\n",
       "      <th>std_test_score</th>\n",
       "      <th>mean_fit_time</th>\n",
       "      <th>std_fit_time</th>\n",
       "    </tr>\n",
       "  </thead>\n",
       "  <tbody>\n",
       "    <tr>\n",
       "      <th>217</th>\n",
       "      <td>{'lr__C': 100, 'lr__max_iter': 500, 'lr__penal...</td>\n",
       "      <td>0.933286</td>\n",
       "      <td>0.000268</td>\n",
       "      <td>0.933425</td>\n",
       "      <td>0.000410</td>\n",
       "      <td>133.473057</td>\n",
       "      <td>24.914387</td>\n",
       "    </tr>\n",
       "    <tr>\n",
       "      <th>220</th>\n",
       "      <td>{'lr__C': 100, 'lr__max_iter': 500, 'lr__penal...</td>\n",
       "      <td>0.933292</td>\n",
       "      <td>0.000272</td>\n",
       "      <td>0.933424</td>\n",
       "      <td>0.000426</td>\n",
       "      <td>89.367737</td>\n",
       "      <td>5.114026</td>\n",
       "    </tr>\n",
       "    <tr>\n",
       "      <th>221</th>\n",
       "      <td>{'lr__C': 100, 'lr__max_iter': 100, 'lr__penal...</td>\n",
       "      <td>0.933286</td>\n",
       "      <td>0.000268</td>\n",
       "      <td>0.933423</td>\n",
       "      <td>0.000412</td>\n",
       "      <td>102.757270</td>\n",
       "      <td>17.841762</td>\n",
       "    </tr>\n",
       "    <tr>\n",
       "      <th>222</th>\n",
       "      <td>{'lr__C': 100, 'lr__max_iter': 500, 'lr__penal...</td>\n",
       "      <td>0.933286</td>\n",
       "      <td>0.000269</td>\n",
       "      <td>0.933423</td>\n",
       "      <td>0.000411</td>\n",
       "      <td>102.741250</td>\n",
       "      <td>19.554909</td>\n",
       "    </tr>\n",
       "    <tr>\n",
       "      <th>219</th>\n",
       "      <td>{'lr__C': 100, 'lr__max_iter': 100, 'lr__penal...</td>\n",
       "      <td>0.933286</td>\n",
       "      <td>0.000273</td>\n",
       "      <td>0.933420</td>\n",
       "      <td>0.000404</td>\n",
       "      <td>74.610584</td>\n",
       "      <td>3.945404</td>\n",
       "    </tr>\n",
       "    <tr>\n",
       "      <th>218</th>\n",
       "      <td>{'lr__C': 100, 'lr__max_iter': 500, 'lr__penal...</td>\n",
       "      <td>0.933286</td>\n",
       "      <td>0.000273</td>\n",
       "      <td>0.933420</td>\n",
       "      <td>0.000404</td>\n",
       "      <td>73.928633</td>\n",
       "      <td>3.800149</td>\n",
       "    </tr>\n",
       "    <tr>\n",
       "      <th>224</th>\n",
       "      <td>{'lr__C': 100, 'lr__max_iter': 500, 'lr__penal...</td>\n",
       "      <td>0.933317</td>\n",
       "      <td>0.000084</td>\n",
       "      <td>0.933289</td>\n",
       "      <td>0.000331</td>\n",
       "      <td>1293.095583</td>\n",
       "      <td>164.079785</td>\n",
       "    </tr>\n",
       "    <tr>\n",
       "      <th>223</th>\n",
       "      <td>{'lr__C': 100, 'lr__max_iter': 500, 'lr__penal...</td>\n",
       "      <td>0.933323</td>\n",
       "      <td>0.000087</td>\n",
       "      <td>0.933284</td>\n",
       "      <td>0.000330</td>\n",
       "      <td>608.095531</td>\n",
       "      <td>16.150545</td>\n",
       "    </tr>\n",
       "    <tr>\n",
       "      <th>210</th>\n",
       "      <td>{'lr__C': 100, 'lr__max_iter': 500, 'lr__penal...</td>\n",
       "      <td>0.933363</td>\n",
       "      <td>0.000672</td>\n",
       "      <td>0.933146</td>\n",
       "      <td>0.000899</td>\n",
       "      <td>33.907135</td>\n",
       "      <td>9.738738</td>\n",
       "    </tr>\n",
       "    <tr>\n",
       "      <th>214</th>\n",
       "      <td>{'lr__C': 100, 'lr__max_iter': 100, 'lr__penal...</td>\n",
       "      <td>0.933360</td>\n",
       "      <td>0.000668</td>\n",
       "      <td>0.933143</td>\n",
       "      <td>0.000897</td>\n",
       "      <td>28.171098</td>\n",
       "      <td>4.490685</td>\n",
       "    </tr>\n",
       "  </tbody>\n",
       "</table>\n",
       "</div>"
      ],
      "text/plain": [
       "                                                params  mean_train_score  \\\n",
       "217  {'lr__C': 100, 'lr__max_iter': 500, 'lr__penal...          0.933286   \n",
       "220  {'lr__C': 100, 'lr__max_iter': 500, 'lr__penal...          0.933292   \n",
       "221  {'lr__C': 100, 'lr__max_iter': 100, 'lr__penal...          0.933286   \n",
       "222  {'lr__C': 100, 'lr__max_iter': 500, 'lr__penal...          0.933286   \n",
       "219  {'lr__C': 100, 'lr__max_iter': 100, 'lr__penal...          0.933286   \n",
       "218  {'lr__C': 100, 'lr__max_iter': 500, 'lr__penal...          0.933286   \n",
       "224  {'lr__C': 100, 'lr__max_iter': 500, 'lr__penal...          0.933317   \n",
       "223  {'lr__C': 100, 'lr__max_iter': 500, 'lr__penal...          0.933323   \n",
       "210  {'lr__C': 100, 'lr__max_iter': 500, 'lr__penal...          0.933363   \n",
       "214  {'lr__C': 100, 'lr__max_iter': 100, 'lr__penal...          0.933360   \n",
       "\n",
       "     std_train_score  mean_test_score  std_test_score  mean_fit_time  \\\n",
       "217         0.000268         0.933425        0.000410     133.473057   \n",
       "220         0.000272         0.933424        0.000426      89.367737   \n",
       "221         0.000268         0.933423        0.000412     102.757270   \n",
       "222         0.000269         0.933423        0.000411     102.741250   \n",
       "219         0.000273         0.933420        0.000404      74.610584   \n",
       "218         0.000273         0.933420        0.000404      73.928633   \n",
       "224         0.000084         0.933289        0.000331    1293.095583   \n",
       "223         0.000087         0.933284        0.000330     608.095531   \n",
       "210         0.000672         0.933146        0.000899      33.907135   \n",
       "214         0.000668         0.933143        0.000897      28.171098   \n",
       "\n",
       "     std_fit_time  \n",
       "217     24.914387  \n",
       "220      5.114026  \n",
       "221     17.841762  \n",
       "222     19.554909  \n",
       "219      3.945404  \n",
       "218      3.800149  \n",
       "224    164.079785  \n",
       "223     16.150545  \n",
       "210      9.738738  \n",
       "214      4.490685  "
      ]
     },
     "execution_count": 18,
     "metadata": {},
     "output_type": "execute_result"
    }
   ],
   "source": [
    "print_result_df(search)"
   ]
  },
  {
   "cell_type": "code",
   "execution_count": 19,
   "id": "29b6101d",
   "metadata": {
    "execution": {
     "iopub.execute_input": "2022-07-20T13:38:35.022569Z",
     "iopub.status.busy": "2022-07-20T13:38:35.021698Z",
     "iopub.status.idle": "2022-07-20T13:38:35.894397Z",
     "shell.execute_reply": "2022-07-20T13:38:35.893007Z"
    },
    "papermill": {
     "duration": 1.010636,
     "end_time": "2022-07-20T13:38:35.897076",
     "exception": false,
     "start_time": "2022-07-20T13:38:34.886440",
     "status": "completed"
    },
    "tags": []
   },
   "outputs": [
    {
     "data": {
      "image/png": "[encoded data removed]",
      "text/plain": [
       "<Figure size 3600x504 with 5 Axes>"
      ]
     },
     "metadata": {
      "needs_background": "light"
     },
     "output_type": "display_data"
    }
   ],
   "source": [
    "plot_search_results(search)"
   ]
  },
  {
   "cell_type": "code",
   "execution_count": 20,
   "id": "cd2b7702",
   "metadata": {
    "execution": {
     "iopub.execute_input": "2022-07-20T13:38:36.168388Z",
     "iopub.status.busy": "2022-07-20T13:38:36.167619Z",
     "iopub.status.idle": "2022-07-20T14:32:55.663505Z",
     "shell.execute_reply": "2022-07-20T14:32:55.661447Z"
    },
    "papermill": {
     "duration": 3259.637739,
     "end_time": "2022-07-20T14:32:55.669181",
     "exception": true,
     "start_time": "2022-07-20T13:38:36.031442",
     "status": "failed"
    },
    "tags": []
   },
   "outputs": [
    {
     "name": "stdout",
     "output_type": "stream",
     "text": [
      "Best parameter (CV score=):\n",
      "Pipeline(steps=[('minmax', MinMaxScaler()),\n",
      "                ('smote', SMOTE(random_state=42, sampling_strategy=0.8)),\n",
      "                ('lr',\n",
      "                 LogisticRegression(C=100, max_iter=500, solver='newton-cg'))])\n",
      "              precision    recall  f1-score   support\n",
      "\n",
      "           0       0.54      0.91      0.68     53638\n",
      "           1       0.97      0.81      0.88    215038\n",
      "\n",
      "    accuracy                           0.83    268676\n",
      "   macro avg       0.75      0.86      0.78    268676\n",
      "weighted avg       0.89      0.83      0.84    268676\n",
      "\n",
      "[[ 48627   5011]\n",
      " [ 41745 173293]]\n",
      "f0.5_score= 0.9334352450945539\n",
      "pr_auc_score= 0.9815043674359029\n"
     ]
    },
    {
     "data": {
      "image/png": "[encoded data removed]",
      "text/plain": [
       "<Figure size 720x504 with 1 Axes>"
      ]
     },
     "metadata": {
      "needs_background": "light"
     },
     "output_type": "display_data"
    },
    {
     "ename": "TerminatedWorkerError",
     "evalue": "A worker process managed by the executor was unexpectedly terminated. This could be caused by a segmentation fault while calling the function or by an excessive memory usage causing the Operating System to kill the worker.\n\nThe exit codes of the workers are {SIGKILL(-9)}",
     "output_type": "error",
     "traceback": [
      "\u001b[0;31m---------------------------------------------------------------------------\u001b[0m",
      "\u001b[0;31mTerminatedWorkerError\u001b[0m                     Traceback (most recent call last)",
      "\u001b[0;32m/tmp/ipykernel_19/2375924107.py\u001b[0m in \u001b[0;36m<module>\u001b[0;34m\u001b[0m\n\u001b[0;32m----> 1\u001b[0;31m \u001b[0mprint_best_model_result\u001b[0m\u001b[0;34m(\u001b[0m\u001b[0msearch\u001b[0m\u001b[0;34m,\u001b[0m \u001b[0;34m'MinMaxScaler + Tuning SMOTE + Best LR'\u001b[0m\u001b[0;34m)\u001b[0m\u001b[0;34m\u001b[0m\u001b[0;34m\u001b[0m\u001b[0m\n\u001b[0m",
      "\u001b[0;32m/tmp/ipykernel_19/4171691297.py\u001b[0m in \u001b[0;36mprint_best_model_result\u001b[0;34m(search, name)\u001b[0m\n\u001b[1;32m     37\u001b[0m     \u001b[0;32mpass\u001b[0m\u001b[0;34m\u001b[0m\u001b[0;34m\u001b[0m\u001b[0m\n\u001b[1;32m     38\u001b[0m \u001b[0;34m\u001b[0m\u001b[0m\n\u001b[0;32m---> 39\u001b[0;31m   \u001b[0mplot_learning_curve\u001b[0m\u001b[0;34m(\u001b[0m\u001b[0mbest_model\u001b[0m\u001b[0;34m,\u001b[0m \u001b[0mname\u001b[0m\u001b[0;34m,\u001b[0m \u001b[0mX_train\u001b[0m\u001b[0;34m,\u001b[0m \u001b[0my_train\u001b[0m\u001b[0;34m,\u001b[0m \u001b[0mcv\u001b[0m\u001b[0;34m=\u001b[0m\u001b[0mcv\u001b[0m\u001b[0;34m,\u001b[0m \u001b[0mn_jobs\u001b[0m\u001b[0;34m=\u001b[0m\u001b[0;34m-\u001b[0m\u001b[0;36m1\u001b[0m \u001b[0;34m)\u001b[0m\u001b[0;34m\u001b[0m\u001b[0;34m\u001b[0m\u001b[0m\n\u001b[0m\u001b[1;32m     40\u001b[0m   \u001b[0mplt\u001b[0m\u001b[0;34m.\u001b[0m\u001b[0mshow\u001b[0m\u001b[0;34m(\u001b[0m\u001b[0;34m)\u001b[0m\u001b[0;34m\u001b[0m\u001b[0;34m\u001b[0m\u001b[0m\n\u001b[1;32m     41\u001b[0m \u001b[0;34m\u001b[0m\u001b[0m\n",
      "\u001b[0;32m/tmp/ipykernel_19/2042492052.py\u001b[0m in \u001b[0;36mplot_learning_curve\u001b[0;34m(estimator, title, X, y, axes, ylim, cv, n_jobs, train_sizes)\u001b[0m\n\u001b[1;32m     28\u001b[0m         \u001b[0mscoring\u001b[0m\u001b[0;34m=\u001b[0m\u001b[0mf_onehalf_scorer\u001b[0m\u001b[0;34m,\u001b[0m\u001b[0;34m\u001b[0m\u001b[0;34m\u001b[0m\u001b[0m\n\u001b[1;32m     29\u001b[0m         \u001b[0mreturn_times\u001b[0m\u001b[0;34m=\u001b[0m\u001b[0;32mTrue\u001b[0m\u001b[0;34m,\u001b[0m\u001b[0;34m\u001b[0m\u001b[0;34m\u001b[0m\u001b[0m\n\u001b[0;32m---> 30\u001b[0;31m         \u001b[0mrandom_state\u001b[0m\u001b[0;34m=\u001b[0m\u001b[0;36m42\u001b[0m\u001b[0;34m\u001b[0m\u001b[0;34m\u001b[0m\u001b[0m\n\u001b[0m\u001b[1;32m     31\u001b[0m     )\n\u001b[1;32m     32\u001b[0m     \u001b[0mtrain_scores_mean\u001b[0m \u001b[0;34m=\u001b[0m \u001b[0mnp\u001b[0m\u001b[0;34m.\u001b[0m\u001b[0mmean\u001b[0m\u001b[0;34m(\u001b[0m\u001b[0mtrain_scores\u001b[0m\u001b[0;34m,\u001b[0m \u001b[0maxis\u001b[0m\u001b[0;34m=\u001b[0m\u001b[0;36m1\u001b[0m\u001b[0;34m)\u001b[0m\u001b[0;34m\u001b[0m\u001b[0;34m\u001b[0m\u001b[0m\n",
      "\u001b[0;32m/opt/conda/lib/python3.7/site-packages/sklearn/model_selection/_validation.py\u001b[0m in \u001b[0;36mlearning_curve\u001b[0;34m(estimator, X, y, groups, train_sizes, cv, scoring, exploit_incremental_learning, n_jobs, pre_dispatch, verbose, shuffle, random_state, error_score, return_times, fit_params)\u001b[0m\n\u001b[1;32m   1566\u001b[0m                 \u001b[0mreturn_times\u001b[0m\u001b[0;34m=\u001b[0m\u001b[0mreturn_times\u001b[0m\u001b[0;34m,\u001b[0m\u001b[0;34m\u001b[0m\u001b[0;34m\u001b[0m\u001b[0m\n\u001b[1;32m   1567\u001b[0m             )\n\u001b[0;32m-> 1568\u001b[0;31m             \u001b[0;32mfor\u001b[0m \u001b[0mtrain\u001b[0m\u001b[0;34m,\u001b[0m \u001b[0mtest\u001b[0m \u001b[0;32min\u001b[0m \u001b[0mtrain_test_proportions\u001b[0m\u001b[0;34m\u001b[0m\u001b[0;34m\u001b[0m\u001b[0m\n\u001b[0m\u001b[1;32m   1569\u001b[0m         )\n\u001b[1;32m   1570\u001b[0m         \u001b[0mresults\u001b[0m \u001b[0;34m=\u001b[0m \u001b[0m_aggregate_score_dicts\u001b[0m\u001b[0;34m(\u001b[0m\u001b[0mresults\u001b[0m\u001b[0;34m)\u001b[0m\u001b[0;34m\u001b[0m\u001b[0;34m\u001b[0m\u001b[0m\n",
      "\u001b[0;32m/opt/conda/lib/python3.7/site-packages/joblib/parallel.py\u001b[0m in \u001b[0;36m__call__\u001b[0;34m(self, iterable)\u001b[0m\n\u001b[1;32m   1054\u001b[0m \u001b[0;34m\u001b[0m\u001b[0m\n\u001b[1;32m   1055\u001b[0m             \u001b[0;32mwith\u001b[0m \u001b[0mself\u001b[0m\u001b[0;34m.\u001b[0m\u001b[0m_backend\u001b[0m\u001b[0;34m.\u001b[0m\u001b[0mretrieval_context\u001b[0m\u001b[0;34m(\u001b[0m\u001b[0;34m)\u001b[0m\u001b[0;34m:\u001b[0m\u001b[0;34m\u001b[0m\u001b[0;34m\u001b[0m\u001b[0m\n\u001b[0;32m-> 1056\u001b[0;31m                 \u001b[0mself\u001b[0m\u001b[0;34m.\u001b[0m\u001b[0mretrieve\u001b[0m\u001b[0;34m(\u001b[0m\u001b[0;34m)\u001b[0m\u001b[0;34m\u001b[0m\u001b[0;34m\u001b[0m\u001b[0m\n\u001b[0m\u001b[1;32m   1057\u001b[0m             \u001b[0;31m# Make sure that we get a last message telling us we are done\u001b[0m\u001b[0;34m\u001b[0m\u001b[0;34m\u001b[0m\u001b[0;34m\u001b[0m\u001b[0m\n\u001b[1;32m   1058\u001b[0m             \u001b[0melapsed_time\u001b[0m \u001b[0;34m=\u001b[0m \u001b[0mtime\u001b[0m\u001b[0;34m.\u001b[0m\u001b[0mtime\u001b[0m\u001b[0;34m(\u001b[0m\u001b[0;34m)\u001b[0m \u001b[0;34m-\u001b[0m \u001b[0mself\u001b[0m\u001b[0;34m.\u001b[0m\u001b[0m_start_time\u001b[0m\u001b[0;34m\u001b[0m\u001b[0;34m\u001b[0m\u001b[0m\n",
      "\u001b[0;32m/opt/conda/lib/python3.7/site-packages/joblib/parallel.py\u001b[0m in \u001b[0;36mretrieve\u001b[0;34m(self)\u001b[0m\n\u001b[1;32m    933\u001b[0m             \u001b[0;32mtry\u001b[0m\u001b[0;34m:\u001b[0m\u001b[0;34m\u001b[0m\u001b[0;34m\u001b[0m\u001b[0m\n\u001b[1;32m    934\u001b[0m                 \u001b[0;32mif\u001b[0m \u001b[0mgetattr\u001b[0m\u001b[0;34m(\u001b[0m\u001b[0mself\u001b[0m\u001b[0;34m.\u001b[0m\u001b[0m_backend\u001b[0m\u001b[0;34m,\u001b[0m \u001b[0;34m'supports_timeout'\u001b[0m\u001b[0;34m,\u001b[0m \u001b[0;32mFalse\u001b[0m\u001b[0;34m)\u001b[0m\u001b[0;34m:\u001b[0m\u001b[0;34m\u001b[0m\u001b[0;34m\u001b[0m\u001b[0m\n\u001b[0;32m--> 935\u001b[0;31m                     \u001b[0mself\u001b[0m\u001b[0;34m.\u001b[0m\u001b[0m_output\u001b[0m\u001b[0;34m.\u001b[0m\u001b[0mextend\u001b[0m\u001b[0;34m(\u001b[0m\u001b[0mjob\u001b[0m\u001b[0;34m.\u001b[0m\u001b[0mget\u001b[0m\u001b[0;34m(\u001b[0m\u001b[0mtimeout\u001b[0m\u001b[0;34m=\u001b[0m\u001b[0mself\u001b[0m\u001b[0;34m.\u001b[0m\u001b[0mtimeout\u001b[0m\u001b[0;34m)\u001b[0m\u001b[0;34m)\u001b[0m\u001b[0;34m\u001b[0m\u001b[0;34m\u001b[0m\u001b[0m\n\u001b[0m\u001b[1;32m    936\u001b[0m                 \u001b[0;32melse\u001b[0m\u001b[0;34m:\u001b[0m\u001b[0;34m\u001b[0m\u001b[0;34m\u001b[0m\u001b[0m\n\u001b[1;32m    937\u001b[0m                     \u001b[0mself\u001b[0m\u001b[0;34m.\u001b[0m\u001b[0m_output\u001b[0m\u001b[0;34m.\u001b[0m\u001b[0mextend\u001b[0m\u001b[0;34m(\u001b[0m\u001b[0mjob\u001b[0m\u001b[0;34m.\u001b[0m\u001b[0mget\u001b[0m\u001b[0;34m(\u001b[0m\u001b[0;34m)\u001b[0m\u001b[0;34m)\u001b[0m\u001b[0;34m\u001b[0m\u001b[0;34m\u001b[0m\u001b[0m\n",
      "\u001b[0;32m/opt/conda/lib/python3.7/site-packages/joblib/_parallel_backends.py\u001b[0m in \u001b[0;36mwrap_future_result\u001b[0;34m(future, timeout)\u001b[0m\n\u001b[1;32m    540\u001b[0m         AsyncResults.get from multiprocessing.\"\"\"\n\u001b[1;32m    541\u001b[0m         \u001b[0;32mtry\u001b[0m\u001b[0;34m:\u001b[0m\u001b[0;34m\u001b[0m\u001b[0;34m\u001b[0m\u001b[0m\n\u001b[0;32m--> 542\u001b[0;31m             \u001b[0;32mreturn\u001b[0m \u001b[0mfuture\u001b[0m\u001b[0;34m.\u001b[0m\u001b[0mresult\u001b[0m\u001b[0;34m(\u001b[0m\u001b[0mtimeout\u001b[0m\u001b[0;34m=\u001b[0m\u001b[0mtimeout\u001b[0m\u001b[0;34m)\u001b[0m\u001b[0;34m\u001b[0m\u001b[0;34m\u001b[0m\u001b[0m\n\u001b[0m\u001b[1;32m    543\u001b[0m         \u001b[0;32mexcept\u001b[0m \u001b[0mCfTimeoutError\u001b[0m \u001b[0;32mas\u001b[0m \u001b[0me\u001b[0m\u001b[0;34m:\u001b[0m\u001b[0;34m\u001b[0m\u001b[0;34m\u001b[0m\u001b[0m\n\u001b[1;32m    544\u001b[0m             \u001b[0;32mraise\u001b[0m \u001b[0mTimeoutError\u001b[0m \u001b[0;32mfrom\u001b[0m \u001b[0me\u001b[0m\u001b[0;34m\u001b[0m\u001b[0;34m\u001b[0m\u001b[0m\n",
      "\u001b[0;32m/opt/conda/lib/python3.7/concurrent/futures/_base.py\u001b[0m in \u001b[0;36mresult\u001b[0;34m(self, timeout)\u001b[0m\n\u001b[1;32m    433\u001b[0m                 \u001b[0;32mraise\u001b[0m \u001b[0mCancelledError\u001b[0m\u001b[0;34m(\u001b[0m\u001b[0;34m)\u001b[0m\u001b[0;34m\u001b[0m\u001b[0;34m\u001b[0m\u001b[0m\n\u001b[1;32m    434\u001b[0m             \u001b[0;32melif\u001b[0m \u001b[0mself\u001b[0m\u001b[0;34m.\u001b[0m\u001b[0m_state\u001b[0m \u001b[0;34m==\u001b[0m \u001b[0mFINISHED\u001b[0m\u001b[0;34m:\u001b[0m\u001b[0;34m\u001b[0m\u001b[0;34m\u001b[0m\u001b[0m\n\u001b[0;32m--> 435\u001b[0;31m                 \u001b[0;32mreturn\u001b[0m \u001b[0mself\u001b[0m\u001b[0;34m.\u001b[0m\u001b[0m__get_result\u001b[0m\u001b[0;34m(\u001b[0m\u001b[0;34m)\u001b[0m\u001b[0;34m\u001b[0m\u001b[0;34m\u001b[0m\u001b[0m\n\u001b[0m\u001b[1;32m    436\u001b[0m             \u001b[0;32melse\u001b[0m\u001b[0;34m:\u001b[0m\u001b[0;34m\u001b[0m\u001b[0;34m\u001b[0m\u001b[0m\n\u001b[1;32m    437\u001b[0m                 \u001b[0;32mraise\u001b[0m \u001b[0mTimeoutError\u001b[0m\u001b[0;34m(\u001b[0m\u001b[0;34m)\u001b[0m\u001b[0;34m\u001b[0m\u001b[0;34m\u001b[0m\u001b[0m\n",
      "\u001b[0;32m/opt/conda/lib/python3.7/concurrent/futures/_base.py\u001b[0m in \u001b[0;36m__get_result\u001b[0;34m(self)\u001b[0m\n\u001b[1;32m    382\u001b[0m     \u001b[0;32mdef\u001b[0m \u001b[0m__get_result\u001b[0m\u001b[0;34m(\u001b[0m\u001b[0mself\u001b[0m\u001b[0;34m)\u001b[0m\u001b[0;34m:\u001b[0m\u001b[0;34m\u001b[0m\u001b[0;34m\u001b[0m\u001b[0m\n\u001b[1;32m    383\u001b[0m         \u001b[0;32mif\u001b[0m \u001b[0mself\u001b[0m\u001b[0;34m.\u001b[0m\u001b[0m_exception\u001b[0m\u001b[0;34m:\u001b[0m\u001b[0;34m\u001b[0m\u001b[0;34m\u001b[0m\u001b[0m\n\u001b[0;32m--> 384\u001b[0;31m             \u001b[0;32mraise\u001b[0m \u001b[0mself\u001b[0m\u001b[0;34m.\u001b[0m\u001b[0m_exception\u001b[0m\u001b[0;34m\u001b[0m\u001b[0;34m\u001b[0m\u001b[0m\n\u001b[0m\u001b[1;32m    385\u001b[0m         \u001b[0;32melse\u001b[0m\u001b[0;34m:\u001b[0m\u001b[0;34m\u001b[0m\u001b[0;34m\u001b[0m\u001b[0m\n\u001b[1;32m    386\u001b[0m             \u001b[0;32mreturn\u001b[0m \u001b[0mself\u001b[0m\u001b[0;34m.\u001b[0m\u001b[0m_result\u001b[0m\u001b[0;34m\u001b[0m\u001b[0;34m\u001b[0m\u001b[0m\n",
      "\u001b[0;31mTerminatedWorkerError\u001b[0m: A worker process managed by the executor was unexpectedly terminated. This could be caused by a segmentation fault while calling the function or by an excessive memory usage causing the Operating System to kill the worker.\n\nThe exit codes of the workers are {SIGKILL(-9)}"
     ]
    },
    {
     "data": {
      "image/png": "[encoded data removed]",
      "text/plain": [
       "<Figure size 1080x1080 with 3 Axes>"
      ]
     },
     "metadata": {
      "needs_background": "light"
     },
     "output_type": "display_data"
    }
   ],
   "source": [
    "print_best_model_result(search, 'MinMaxScaler + Tuning SMOTE + Best LR')"
   ]
  }
 ],
 "metadata": {
  "kernelspec": {
   "display_name": "Python 3",
   "language": "python",
   "name": "python3"
  },
  "language_info": {
   "codemirror_mode": {
    "name": "ipython",
    "version": 3
   },
   "file_extension": ".py",
   "mimetype": "text/x-python",
   "name": "python",
   "nbconvert_exporter": "python",
   "pygments_lexer": "ipython3",
   "version": "3.7.12"
  },
  "papermill": {
   "default_parameters": {},
   "duration": 37799.008167,
   "end_time": "2022-07-20T14:32:58.486820",
   "environment_variables": {},
   "exception": true,
   "input_path": "__notebook__.ipynb",
   "output_path": "__notebook__.ipynb",
   "parameters": {},
   "start_time": "2022-07-20T04:02:59.478653",
   "version": "2.3.4"
  }
 },
 "nbformat": 4,
 "nbformat_minor": 5
}
