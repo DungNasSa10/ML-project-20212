{
  "cells": [
    {
      "cell_type": "code",
      "execution_count": 1,
      "metadata": {
        "colab": {
          "base_uri": "https://localhost:8080/"
        },
        "id": "4OPfI8d4oP-n",
        "outputId": "8d2dc89c-11d3-4302-eda1-0f2437a3df82"
      },
      "outputs": [
        {
          "output_type": "stream",
          "name": "stdout",
          "text": [
            "Mounted at /content/drive\n"
          ]
        }
      ],
      "source": [
        "from google.colab import drive\n",
        "drive.mount('/content/drive')"
      ]
    },
    {
      "cell_type": "markdown",
      "metadata": {
        "id": "HiTsLIujqXaQ"
      },
      "source": [
        "# Importing libraries"
      ]
    },
    {
      "cell_type": "code",
      "execution_count": 2,
      "metadata": {
        "id": "m4CvqfFfo86G"
      },
      "outputs": [],
      "source": [
        "import pandas as pd\n",
        "import numpy as np\n",
        "import matplotlib.pyplot as plt\n",
        "import seaborn as sns\n",
        "from imblearn.pipeline import Pipeline\n",
        "\n",
        "from sklearn.preprocessing import MinMaxScaler\n",
        "\n",
        "from imblearn.over_sampling import SMOTE, BorderlineSMOTE, SVMSMOTE, ADASYN\n",
        "\n",
        "from sklearn.linear_model import LogisticRegression, Perceptron\n",
        "from sklearn.neighbors import KNeighborsClassifier\n",
        "from sklearn.svm import SVC\n",
        "from sklearn.tree import DecisionTreeClassifier\n",
        "from sklearn.ensemble import RandomForestClassifier\n",
        "from lightgbm import LGBMClassifier\n",
        "from xgboost import XGBClassifier\n",
        "\n",
        "from sklearn.experimental import enable_halving_search_cv\n",
        "from sklearn.model_selection import GridSearchCV, HalvingGridSearchCV, train_test_split, RepeatedStratifiedKFold, cross_val_score, learning_curve\n",
        "from sklearn.metrics import classification_report, fbeta_score, confusion_matrix, precision_recall_curve, auc, make_scorer"
      ]
    },
    {
      "cell_type": "markdown",
      "metadata": {
        "id": "g9haSvMjqbdm"
      },
      "source": [
        "# Reading data"
      ]
    },
    {
      "cell_type": "code",
      "execution_count": 3,
      "metadata": {
        "id": "PDfHOdZ0ox8h"
      },
      "outputs": [],
      "source": [
        "accepted_loans = pd.read_csv('/content/drive/MyDrive/ML-project-20212/data/elite.csv')"
      ]
    },
    {
      "cell_type": "code",
      "execution_count": null,
      "metadata": {
        "colab": {
          "base_uri": "https://localhost:8080/"
        },
        "id": "rwosYeK7pOU5",
        "outputId": "6454ea9a-d14c-41d0-eda4-bbffad91149c"
      },
      "outputs": [
        {
          "name": "stdout",
          "output_type": "stream",
          "text": [
            "<class 'pandas.core.frame.DataFrame'>\n",
            "RangeIndex: 1343380 entries, 0 to 1343379\n",
            "Data columns (total 79 columns):\n",
            " #   Column                               Non-Null Count    Dtype  \n",
            "---  ------                               --------------    -----  \n",
            " 0   loan_amnt                            1343380 non-null  float64\n",
            " 1   term                                 1343380 non-null  int64  \n",
            " 2   int_rate                             1343380 non-null  float64\n",
            " 3   installment                          1343380 non-null  float64\n",
            " 4   annual_inc                           1343380 non-null  float64\n",
            " 5   dti                                  1343380 non-null  float64\n",
            " 6   delinq_2yrs                          1343380 non-null  float64\n",
            " 7   fico_range_low                       1343380 non-null  float64\n",
            " 8   fico_range_high                      1343380 non-null  float64\n",
            " 9   inq_last_6mths                       1343380 non-null  float64\n",
            " 10  open_acc                             1343380 non-null  float64\n",
            " 11  pub_rec                              1343380 non-null  float64\n",
            " 12  revol_bal                            1343380 non-null  float64\n",
            " 13  revol_util                           1343380 non-null  float64\n",
            " 14  total_acc                            1343380 non-null  float64\n",
            " 15  last_pymnt_amnt                      1343380 non-null  float64\n",
            " 16  collections_12_mths_ex_med           1343380 non-null  float64\n",
            " 17  acc_now_delinq                       1343380 non-null  float64\n",
            " 18  chargeoff_within_12_mths             1343380 non-null  float64\n",
            " 19  delinq_amnt                          1343380 non-null  float64\n",
            " 20  pub_rec_bankruptcies                 1343380 non-null  float64\n",
            " 21  tax_liens                            1343380 non-null  float64\n",
            " 22  loan_paid                            1343380 non-null  int64  \n",
            " 23  sub_grade_A2                         1343380 non-null  int64  \n",
            " 24  sub_grade_A3                         1343380 non-null  int64  \n",
            " 25  sub_grade_A4                         1343380 non-null  int64  \n",
            " 26  sub_grade_A5                         1343380 non-null  int64  \n",
            " 27  sub_grade_B1                         1343380 non-null  int64  \n",
            " 28  sub_grade_B2                         1343380 non-null  int64  \n",
            " 29  sub_grade_B3                         1343380 non-null  int64  \n",
            " 30  sub_grade_B4                         1343380 non-null  int64  \n",
            " 31  sub_grade_B5                         1343380 non-null  int64  \n",
            " 32  sub_grade_C1                         1343380 non-null  int64  \n",
            " 33  sub_grade_C2                         1343380 non-null  int64  \n",
            " 34  sub_grade_C3                         1343380 non-null  int64  \n",
            " 35  sub_grade_C4                         1343380 non-null  int64  \n",
            " 36  sub_grade_C5                         1343380 non-null  int64  \n",
            " 37  sub_grade_D1                         1343380 non-null  int64  \n",
            " 38  sub_grade_D2                         1343380 non-null  int64  \n",
            " 39  sub_grade_D3                         1343380 non-null  int64  \n",
            " 40  sub_grade_D4                         1343380 non-null  int64  \n",
            " 41  sub_grade_D5                         1343380 non-null  int64  \n",
            " 42  sub_grade_E1                         1343380 non-null  int64  \n",
            " 43  sub_grade_E2                         1343380 non-null  int64  \n",
            " 44  sub_grade_E3                         1343380 non-null  int64  \n",
            " 45  sub_grade_E4                         1343380 non-null  int64  \n",
            " 46  sub_grade_E5                         1343380 non-null  int64  \n",
            " 47  sub_grade_F1                         1343380 non-null  int64  \n",
            " 48  sub_grade_F2                         1343380 non-null  int64  \n",
            " 49  sub_grade_F3                         1343380 non-null  int64  \n",
            " 50  sub_grade_F4                         1343380 non-null  int64  \n",
            " 51  sub_grade_F5                         1343380 non-null  int64  \n",
            " 52  sub_grade_G1                         1343380 non-null  int64  \n",
            " 53  sub_grade_G2                         1343380 non-null  int64  \n",
            " 54  sub_grade_G3                         1343380 non-null  int64  \n",
            " 55  sub_grade_G4                         1343380 non-null  int64  \n",
            " 56  sub_grade_G5                         1343380 non-null  int64  \n",
            " 57  verification_status_Source Verified  1343380 non-null  int64  \n",
            " 58  verification_status_Verified         1343380 non-null  int64  \n",
            " 59  purpose_credit_card                  1343380 non-null  int64  \n",
            " 60  purpose_debt_consolidation           1343380 non-null  int64  \n",
            " 61  purpose_educational                  1343380 non-null  int64  \n",
            " 62  purpose_home_improvement             1343380 non-null  int64  \n",
            " 63  purpose_house                        1343380 non-null  int64  \n",
            " 64  purpose_major_purchase               1343380 non-null  int64  \n",
            " 65  purpose_medical                      1343380 non-null  int64  \n",
            " 66  purpose_moving                       1343380 non-null  int64  \n",
            " 67  purpose_other                        1343380 non-null  int64  \n",
            " 68  purpose_renewable_energy             1343380 non-null  int64  \n",
            " 69  purpose_small_business               1343380 non-null  int64  \n",
            " 70  purpose_vacation                     1343380 non-null  int64  \n",
            " 71  purpose_wedding                      1343380 non-null  int64  \n",
            " 72  initial_list_status_w                1343380 non-null  int64  \n",
            " 73  application_type_Joint App           1343380 non-null  int64  \n",
            " 74  home_ownership_MORTGAGE              1343380 non-null  int64  \n",
            " 75  home_ownership_NONE                  1343380 non-null  int64  \n",
            " 76  home_ownership_OTHER                 1343380 non-null  int64  \n",
            " 77  home_ownership_OWN                   1343380 non-null  int64  \n",
            " 78  home_ownership_RENT                  1343380 non-null  int64  \n",
            "dtypes: float64(21), int64(58)\n",
            "memory usage: 809.7 MB\n"
          ]
        }
      ],
      "source": [
        "accepted_loans.info()"
      ]
    },
    {
      "cell_type": "code",
      "execution_count": null,
      "metadata": {
        "colab": {
          "base_uri": "https://localhost:8080/",
          "height": 317
        },
        "id": "ot_zAcIHpX46",
        "outputId": "742b0bd1-78a7-4e2b-aafc-e5b178aa45d9"
      },
      "outputs": [
        {
          "data": {
            "text/html": [
              "\n",
              "  <div id=\"df-b3ef3b59-23e2-4381-b98c-169a8424a11f\">\n",
              "    <div class=\"colab-df-container\">\n",
              "      <div>\n",
              "<style scoped>\n",
              "    .dataframe tbody tr th:only-of-type {\n",
              "        vertical-align: middle;\n",
              "    }\n",
              "\n",
              "    .dataframe tbody tr th {\n",
              "        vertical-align: top;\n",
              "    }\n",
              "\n",
              "    .dataframe thead th {\n",
              "        text-align: right;\n",
              "    }\n",
              "</style>\n",
              "<table border=\"1\" class=\"dataframe\">\n",
              "  <thead>\n",
              "    <tr style=\"text-align: right;\">\n",
              "      <th></th>\n",
              "      <th>loan_amnt</th>\n",
              "      <th>term</th>\n",
              "      <th>int_rate</th>\n",
              "      <th>installment</th>\n",
              "      <th>annual_inc</th>\n",
              "      <th>dti</th>\n",
              "      <th>delinq_2yrs</th>\n",
              "      <th>fico_range_low</th>\n",
              "      <th>fico_range_high</th>\n",
              "      <th>inq_last_6mths</th>\n",
              "      <th>...</th>\n",
              "      <th>purpose_small_business</th>\n",
              "      <th>purpose_vacation</th>\n",
              "      <th>purpose_wedding</th>\n",
              "      <th>initial_list_status_w</th>\n",
              "      <th>application_type_Joint App</th>\n",
              "      <th>home_ownership_MORTGAGE</th>\n",
              "      <th>home_ownership_NONE</th>\n",
              "      <th>home_ownership_OTHER</th>\n",
              "      <th>home_ownership_OWN</th>\n",
              "      <th>home_ownership_RENT</th>\n",
              "    </tr>\n",
              "  </thead>\n",
              "  <tbody>\n",
              "    <tr>\n",
              "      <th>0</th>\n",
              "      <td>3600.0</td>\n",
              "      <td>60</td>\n",
              "      <td>13.99</td>\n",
              "      <td>123.03</td>\n",
              "      <td>55000.0</td>\n",
              "      <td>5.91</td>\n",
              "      <td>0.0</td>\n",
              "      <td>675.0</td>\n",
              "      <td>679.0</td>\n",
              "      <td>1.0</td>\n",
              "      <td>...</td>\n",
              "      <td>0</td>\n",
              "      <td>0</td>\n",
              "      <td>0</td>\n",
              "      <td>1</td>\n",
              "      <td>0</td>\n",
              "      <td>1</td>\n",
              "      <td>0</td>\n",
              "      <td>0</td>\n",
              "      <td>0</td>\n",
              "      <td>0</td>\n",
              "    </tr>\n",
              "    <tr>\n",
              "      <th>1</th>\n",
              "      <td>24700.0</td>\n",
              "      <td>60</td>\n",
              "      <td>11.99</td>\n",
              "      <td>820.28</td>\n",
              "      <td>65000.0</td>\n",
              "      <td>16.06</td>\n",
              "      <td>1.0</td>\n",
              "      <td>715.0</td>\n",
              "      <td>719.0</td>\n",
              "      <td>4.0</td>\n",
              "      <td>...</td>\n",
              "      <td>1</td>\n",
              "      <td>0</td>\n",
              "      <td>0</td>\n",
              "      <td>1</td>\n",
              "      <td>0</td>\n",
              "      <td>1</td>\n",
              "      <td>0</td>\n",
              "      <td>0</td>\n",
              "      <td>0</td>\n",
              "      <td>0</td>\n",
              "    </tr>\n",
              "    <tr>\n",
              "      <th>2</th>\n",
              "      <td>20000.0</td>\n",
              "      <td>60</td>\n",
              "      <td>10.78</td>\n",
              "      <td>432.66</td>\n",
              "      <td>63000.0</td>\n",
              "      <td>10.78</td>\n",
              "      <td>0.0</td>\n",
              "      <td>695.0</td>\n",
              "      <td>699.0</td>\n",
              "      <td>0.0</td>\n",
              "      <td>...</td>\n",
              "      <td>0</td>\n",
              "      <td>0</td>\n",
              "      <td>0</td>\n",
              "      <td>1</td>\n",
              "      <td>1</td>\n",
              "      <td>1</td>\n",
              "      <td>0</td>\n",
              "      <td>0</td>\n",
              "      <td>0</td>\n",
              "      <td>0</td>\n",
              "    </tr>\n",
              "    <tr>\n",
              "      <th>3</th>\n",
              "      <td>10400.0</td>\n",
              "      <td>60</td>\n",
              "      <td>22.45</td>\n",
              "      <td>289.91</td>\n",
              "      <td>104433.0</td>\n",
              "      <td>25.37</td>\n",
              "      <td>1.0</td>\n",
              "      <td>695.0</td>\n",
              "      <td>699.0</td>\n",
              "      <td>3.0</td>\n",
              "      <td>...</td>\n",
              "      <td>0</td>\n",
              "      <td>0</td>\n",
              "      <td>0</td>\n",
              "      <td>1</td>\n",
              "      <td>0</td>\n",
              "      <td>1</td>\n",
              "      <td>0</td>\n",
              "      <td>0</td>\n",
              "      <td>0</td>\n",
              "      <td>0</td>\n",
              "    </tr>\n",
              "    <tr>\n",
              "      <th>4</th>\n",
              "      <td>11950.0</td>\n",
              "      <td>60</td>\n",
              "      <td>13.44</td>\n",
              "      <td>405.18</td>\n",
              "      <td>34000.0</td>\n",
              "      <td>10.20</td>\n",
              "      <td>0.0</td>\n",
              "      <td>690.0</td>\n",
              "      <td>694.0</td>\n",
              "      <td>0.0</td>\n",
              "      <td>...</td>\n",
              "      <td>0</td>\n",
              "      <td>0</td>\n",
              "      <td>0</td>\n",
              "      <td>1</td>\n",
              "      <td>0</td>\n",
              "      <td>0</td>\n",
              "      <td>0</td>\n",
              "      <td>0</td>\n",
              "      <td>0</td>\n",
              "      <td>1</td>\n",
              "    </tr>\n",
              "  </tbody>\n",
              "</table>\n",
              "<p>5 rows × 79 columns</p>\n",
              "</div>\n",
              "      <button class=\"colab-df-convert\" onclick=\"convertToInteractive('df-b3ef3b59-23e2-4381-b98c-169a8424a11f')\"\n",
              "              title=\"Convert this dataframe to an interactive table.\"\n",
              "              style=\"display:none;\">\n",
              "        \n",
              "  <svg xmlns=\"http://www.w3.org/2000/svg\" height=\"24px\"viewBox=\"0 0 24 24\"\n",
              "       width=\"24px\">\n",
              "    <path d=\"M0 0h24v24H0V0z\" fill=\"none\"/>\n",
              "    <path d=\"M18.56 5.44l.94 2.06.94-2.06 2.06-.94-2.06-.94-.94-2.06-.94 2.06-2.06.94zm-11 1L8.5 8.5l.94-2.06 2.06-.94-2.06-.94L8.5 2.5l-.94 2.06-2.06.94zm10 10l.94 2.06.94-2.06 2.06-.94-2.06-.94-.94-2.06-.94 2.06-2.06.94z\"/><path d=\"M17.41 7.96l-1.37-1.37c-.4-.4-.92-.59-1.43-.59-.52 0-1.04.2-1.43.59L10.3 9.45l-7.72 7.72c-.78.78-.78 2.05 0 2.83L4 21.41c.39.39.9.59 1.41.59.51 0 1.02-.2 1.41-.59l7.78-7.78 2.81-2.81c.8-.78.8-2.07 0-2.86zM5.41 20L4 18.59l7.72-7.72 1.47 1.35L5.41 20z\"/>\n",
              "  </svg>\n",
              "      </button>\n",
              "      \n",
              "  <style>\n",
              "    .colab-df-container {\n",
              "      display:flex;\n",
              "      flex-wrap:wrap;\n",
              "      gap: 12px;\n",
              "    }\n",
              "\n",
              "    .colab-df-convert {\n",
              "      background-color: #E8F0FE;\n",
              "      border: none;\n",
              "      border-radius: 50%;\n",
              "      cursor: pointer;\n",
              "      display: none;\n",
              "      fill: #1967D2;\n",
              "      height: 32px;\n",
              "      padding: 0 0 0 0;\n",
              "      width: 32px;\n",
              "    }\n",
              "\n",
              "    .colab-df-convert:hover {\n",
              "      background-color: #E2EBFA;\n",
              "      box-shadow: 0px 1px 2px rgba(60, 64, 67, 0.3), 0px 1px 3px 1px rgba(60, 64, 67, 0.15);\n",
              "      fill: #174EA6;\n",
              "    }\n",
              "\n",
              "    [theme=dark] .colab-df-convert {\n",
              "      background-color: #3B4455;\n",
              "      fill: #D2E3FC;\n",
              "    }\n",
              "\n",
              "    [theme=dark] .colab-df-convert:hover {\n",
              "      background-color: #434B5C;\n",
              "      box-shadow: 0px 1px 3px 1px rgba(0, 0, 0, 0.15);\n",
              "      filter: drop-shadow(0px 1px 2px rgba(0, 0, 0, 0.3));\n",
              "      fill: #FFFFFF;\n",
              "    }\n",
              "  </style>\n",
              "\n",
              "      <script>\n",
              "        const buttonEl =\n",
              "          document.querySelector('#df-b3ef3b59-23e2-4381-b98c-169a8424a11f button.colab-df-convert');\n",
              "        buttonEl.style.display =\n",
              "          google.colab.kernel.accessAllowed ? 'block' : 'none';\n",
              "\n",
              "        async function convertToInteractive(key) {\n",
              "          const element = document.querySelector('#df-b3ef3b59-23e2-4381-b98c-169a8424a11f');\n",
              "          const dataTable =\n",
              "            await google.colab.kernel.invokeFunction('convertToInteractive',\n",
              "                                                     [key], {});\n",
              "          if (!dataTable) return;\n",
              "\n",
              "          const docLinkHtml = 'Like what you see? Visit the ' +\n",
              "            '<a target=\"_blank\" href=https://colab.research.google.com/notebooks/data_table.ipynb>data table notebook</a>'\n",
              "            + ' to learn more about interactive tables.';\n",
              "          element.innerHTML = '';\n",
              "          dataTable['output_type'] = 'display_data';\n",
              "          await google.colab.output.renderOutput(dataTable, element);\n",
              "          const docLink = document.createElement('div');\n",
              "          docLink.innerHTML = docLinkHtml;\n",
              "          element.appendChild(docLink);\n",
              "        }\n",
              "      </script>\n",
              "    </div>\n",
              "  </div>\n",
              "  "
            ],
            "text/plain": [
              "   loan_amnt  term  int_rate  installment  annual_inc    dti  delinq_2yrs  \\\n",
              "0     3600.0    60     13.99       123.03     55000.0   5.91          0.0   \n",
              "1    24700.0    60     11.99       820.28     65000.0  16.06          1.0   \n",
              "2    20000.0    60     10.78       432.66     63000.0  10.78          0.0   \n",
              "3    10400.0    60     22.45       289.91    104433.0  25.37          1.0   \n",
              "4    11950.0    60     13.44       405.18     34000.0  10.20          0.0   \n",
              "\n",
              "   fico_range_low  fico_range_high  inq_last_6mths  ...  \\\n",
              "0           675.0            679.0             1.0  ...   \n",
              "1           715.0            719.0             4.0  ...   \n",
              "2           695.0            699.0             0.0  ...   \n",
              "3           695.0            699.0             3.0  ...   \n",
              "4           690.0            694.0             0.0  ...   \n",
              "\n",
              "   purpose_small_business  purpose_vacation  purpose_wedding  \\\n",
              "0                       0                 0                0   \n",
              "1                       1                 0                0   \n",
              "2                       0                 0                0   \n",
              "3                       0                 0                0   \n",
              "4                       0                 0                0   \n",
              "\n",
              "   initial_list_status_w  application_type_Joint App  home_ownership_MORTGAGE  \\\n",
              "0                      1                           0                        1   \n",
              "1                      1                           0                        1   \n",
              "2                      1                           1                        1   \n",
              "3                      1                           0                        1   \n",
              "4                      1                           0                        0   \n",
              "\n",
              "   home_ownership_NONE  home_ownership_OTHER  home_ownership_OWN  \\\n",
              "0                    0                     0                   0   \n",
              "1                    0                     0                   0   \n",
              "2                    0                     0                   0   \n",
              "3                    0                     0                   0   \n",
              "4                    0                     0                   0   \n",
              "\n",
              "   home_ownership_RENT  \n",
              "0                    0  \n",
              "1                    0  \n",
              "2                    0  \n",
              "3                    0  \n",
              "4                    1  \n",
              "\n",
              "[5 rows x 79 columns]"
            ]
          },
          "execution_count": 5,
          "metadata": {},
          "output_type": "execute_result"
        }
      ],
      "source": [
        "accepted_loans.head()"
      ]
    },
    {
      "cell_type": "code",
      "execution_count": null,
      "metadata": {
        "colab": {
          "base_uri": "https://localhost:8080/"
        },
        "id": "TBfe4N_jqMlw",
        "outputId": "1d8c3ffd-585f-433e-a80a-ec8785f3086d"
      },
      "outputs": [
        {
          "data": {
            "text/plain": [
              "(1343380, 79)"
            ]
          },
          "execution_count": 6,
          "metadata": {},
          "output_type": "execute_result"
        }
      ],
      "source": [
        "accepted_loans.shape"
      ]
    },
    {
      "cell_type": "code",
      "execution_count": null,
      "metadata": {
        "colab": {
          "base_uri": "https://localhost:8080/",
          "height": 308
        },
        "id": "h_vmLjKyqq0R",
        "outputId": "ee3e82a1-c831-4c53-e59e-1b244fc8aff3"
      },
      "outputs": [
        {
          "data": {
            "text/plain": [
              "<matplotlib.axes._subplots.AxesSubplot at 0x7fc0935a8a90>"
            ]
          },
          "execution_count": 7,
          "metadata": {},
          "output_type": "execute_result"
        },
        {
          "data": {
            "image/png": "[encoded data removed]",
            "text/plain": [
              "<Figure size 432x288 with 1 Axes>"
            ]
          },
          "metadata": {},
          "output_type": "display_data"
        }
      ],
      "source": [
        "sns.countplot(x=accepted_loans['loan_paid'], data=accepted_loans)"
      ]
    },
    {
      "cell_type": "code",
      "execution_count": null,
      "metadata": {
        "colab": {
          "base_uri": "https://localhost:8080/"
        },
        "id": "Qtnz5hziqtlQ",
        "outputId": "0e3663bb-95c9-4843-fe02-180a8c4ffccd"
      },
      "outputs": [
        {
          "name": "stdout",
          "output_type": "stream",
          "text": [
            "The number of Fully Paid loans:  1075191\n",
            "The number of Default loans:  268189\n",
            "Fully Paid / Default Ratio:  4.009079417873216\n"
          ]
        }
      ],
      "source": [
        "num_fully_paid_loans = accepted_loans[accepted_loans['loan_paid'] == 1.0].shape[0]\n",
        "num_charged_off_loans = accepted_loans[accepted_loans['loan_paid'] == 0.0].shape[0]\n",
        "print(\"The number of Fully Paid loans: \", num_fully_paid_loans)\n",
        "print(\"The number of Default loans: \", num_charged_off_loans)\n",
        "print(\"Fully Paid / Default Ratio: \", num_fully_paid_loans / num_charged_off_loans)"
      ]
    },
    {
      "cell_type": "markdown",
      "metadata": {
        "id": "zjUjHIAIrQ7Y"
      },
      "source": [
        "# Data Processing"
      ]
    },
    {
      "cell_type": "markdown",
      "metadata": {
        "id": "9eDBHqcxzD6V"
      },
      "source": [
        "## Preparing parameters"
      ]
    },
    {
      "cell_type": "markdown",
      "metadata": {
        "id": "pi5mzWQvzpxb"
      },
      "source": [
        "### Features and Labels"
      ]
    },
    {
      "cell_type": "code",
      "execution_count": 4,
      "metadata": {
        "id": "_TryJL4ozHhR"
      },
      "outputs": [],
      "source": [
        "X = accepted_loans.loc[:, accepted_loans.columns != 'loan_paid'].values\n",
        "y = accepted_loans['loan_paid'].values"
      ]
    },
    {
      "cell_type": "markdown",
      "metadata": {
        "id": "ZLuFvYNK1r0B"
      },
      "source": [
        "### Train-Test split"
      ]
    },
    {
      "cell_type": "code",
      "execution_count": 5,
      "metadata": {
        "id": "I65v5Rk5zoxq"
      },
      "outputs": [],
      "source": [
        "X_train, X_test, y_train, y_test = train_test_split(X, y, test_size=0.2, random_state=42, stratify=y)"
      ]
    },
    {
      "cell_type": "code",
      "execution_count": null,
      "metadata": {
        "colab": {
          "base_uri": "https://localhost:8080/"
        },
        "id": "NScKbsZ08mjM",
        "outputId": "0c0eb67d-ae0e-4a10-f07a-12a22ea29b9e"
      },
      "outputs": [
        {
          "name": "stdout",
          "output_type": "stream",
          "text": [
            "(1074704, 78) (1074704,)\n",
            "(268676, 78) (268676,)\n"
          ]
        }
      ],
      "source": [
        "print(X_train.shape, y_train.shape)\n",
        "print(X_test.shape, y_test.shape)"
      ]
    },
    {
      "cell_type": "markdown",
      "metadata": {
        "id": "LsLti5ZBTxvn"
      },
      "source": [
        "### Param grid for searching"
      ]
    },
    {
      "cell_type": "code",
      "execution_count": 6,
      "metadata": {
        "id": "2qsjLZ4y68eE"
      },
      "outputs": [],
      "source": [
        "param_grid = {}"
      ]
    },
    {
      "cell_type": "code",
      "execution_count": 7,
      "metadata": {
        "id": "C0Od2sjZTrPG"
      },
      "outputs": [],
      "source": [
        "cv = RepeatedStratifiedKFold(n_splits=5, n_repeats=2, random_state=42)"
      ]
    },
    {
      "cell_type": "markdown",
      "metadata": {
        "id": "lIZXkMFEsGQl"
      },
      "source": [
        "## Outliers handling"
      ]
    },
    {
      "cell_type": "code",
      "execution_count": null,
      "metadata": {
        "colab": {
          "base_uri": "https://localhost:8080/",
          "height": 1000
        },
        "id": "jNF7HGCIxXnP",
        "outputId": "cbf0fd4f-5c24-4f81-8cc6-23e84f431fe5"
      },
      "outputs": [
        {
          "data": {
            "image/png": "[encoded data removed]",
            "text/plain": [
              "<Figure size 5760x7200 with 81 Axes>"
            ]
          },
          "metadata": {},
          "output_type": "display_data"
        }
      ],
      "source": [
        "accepted_loans.hist(figsize=(80, 100))\n",
        "plt.show()"
      ]
    },
    {
      "cell_type": "code",
      "execution_count": null,
      "metadata": {
        "colab": {
          "base_uri": "https://localhost:8080/",
          "height": 1000
        },
        "id": "IAKsaFZ2xlww",
        "outputId": "dee8b470-9938-429a-b364-e2d917b8bf7a"
      },
      "outputs": [
        {
          "data": {
            "image/png": "[encoded data removed]",
            "text/plain": [
              "<Figure size 1080x720 with 1 Axes>"
            ]
          },
          "metadata": {},
          "output_type": "display_data"
        },
        {
          "data": {
            "image/png": "[encoded data removed]",
            "text/plain": [
              "<Figure size 1080x720 with 1 Axes>"
            ]
          },
          "metadata": {},
          "output_type": "display_data"
        },
        {
          "data": {
            "image/png": "[encoded data removed]",
            "text/plain": [
              "<Figure size 1080x720 with 1 Axes>"
            ]
          },
          "metadata": {},
          "output_type": "display_data"
        },
        {
          "data": {
            "image/png": "[encoded data removed]",
            "text/plain": [
              "<Figure size 1080x720 with 1 Axes>"
            ]
          },
          "metadata": {},
          "output_type": "display_data"
        },
        {
          "data": {
            "image/png": "[encoded data removed]",
            "text/plain": [
              "<Figure size 1080x720 with 1 Axes>"
            ]
          },
          "metadata": {},
          "output_type": "display_data"
        },
        {
          "data": {
            "image/png": "[encoded data removed]",
            "text/plain": [
              "<Figure size 1080x720 with 1 Axes>"
            ]
          },
          "metadata": {},
          "output_type": "display_data"
        },
        {
          "data": {
            "image/png": "[encoded data removed]",
            "text/plain": [
              "<Figure size 1080x720 with 1 Axes>"
            ]
          },
          "metadata": {},
          "output_type": "display_data"
        }
      ],
      "source": [
        "for i in range(0, 70, 10):\n",
        "    plt.figure(figsize=(15, 10))\n",
        "    sns.boxplot(data=accepted_loans.iloc[:, i: i + 10], orient='h')\n",
        "    plt.show()"
      ]
    },
    {
      "cell_type": "markdown",
      "metadata": {
        "id": "ZbiaNFx9saOB"
      },
      "source": [
        "### Outliers Detection"
      ]
    },
    {
      "cell_type": "markdown",
      "metadata": {
        "id": "uDixYWKqscmX"
      },
      "source": [
        "### Outliers Treating"
      ]
    },
    {
      "cell_type": "markdown",
      "metadata": {
        "id": "x2ZUohmN6QVT"
      },
      "source": [
        "## Scaler"
      ]
    },
    {
      "cell_type": "markdown",
      "metadata": {
        "id": "7UMi-KsL6WhY"
      },
      "source": [
        "From plotting the histogram of each input variable, we see that almost variables are located in just 2 bins while others have skewed distribution -> It's better to use MinMaxScaler"
      ]
    },
    {
      "cell_type": "code",
      "execution_count": 8,
      "metadata": {
        "id": "n8zOYQ5H6WAI"
      },
      "outputs": [],
      "source": [
        "minmax_scaler = ('minmax', MinMaxScaler())"
      ]
    },
    {
      "cell_type": "markdown",
      "metadata": {
        "id": "i5docNKMsJbq"
      },
      "source": [
        "## Imbalanced data handling"
      ]
    },
    {
      "cell_type": "markdown",
      "metadata": {
        "id": "iKpr6vg_s6wb"
      },
      "source": [
        "### SMOTE"
      ]
    },
    {
      "cell_type": "code",
      "execution_count": 9,
      "metadata": {
        "id": "930LW7avCDPR"
      },
      "outputs": [],
      "source": [
        "smote = ('smote', SMOTE(sampling_strategy=1.0, random_state=42))\n",
        "smote_param_grid = {\n",
        "    'smote__sampling_strategy': [0.8, 0.9, 1.0]\n",
        "    #'smote__k_neighbors': [3, 5, 10, 15]\n",
        "}"
      ]
    },
    {
      "cell_type": "markdown",
      "metadata": {
        "id": "MaDWhuv1s-W9"
      },
      "source": [
        "### BorderlineSMOTE"
      ]
    },
    {
      "cell_type": "code",
      "execution_count": null,
      "metadata": {
        "id": "flHAgEr7CDvT"
      },
      "outputs": [],
      "source": [
        "borderline_smote = ('borderline_smote', BorderlineSMOTE(sampling_strategy=1.0, random_state=42))\n",
        "borderline_smote_param_grid = {\n",
        "    'borderline_smote__sampling_strategy': np.arange(0.8, 1.01, 0.05),\n",
        "    'borderline_smote__k_neighbors': [3, 5, 8, 10, 12],\n",
        "    'borderline_smote__m_neighbors': [5, 10, 12, 15, 18],\n",
        "}"
      ]
    },
    {
      "cell_type": "markdown",
      "metadata": {
        "id": "Ysr_Yy3utC3I"
      },
      "source": [
        "### SVMSMOTE"
      ]
    },
    {
      "cell_type": "code",
      "execution_count": null,
      "metadata": {
        "id": "VrgewI4jCEN-"
      },
      "outputs": [],
      "source": [
        "svm_smote = ('svm_smote', SVMSMOTE(sampling_strategy=1.0, random_state=42))\n",
        "svm_smote_param_grid = {\n",
        "    'svm_smote__sampling_strategy': np.arange(0.8, 1.01, 0.05),\n",
        "    'svm_smote__k_neighbors': [3, 5, 8, 10, 12],\n",
        "    'svm_smote__m_neighbors': [5, 10, 12, 15, 18]\n",
        "}"
      ]
    },
    {
      "cell_type": "markdown",
      "metadata": {
        "id": "OUsw_LpHtJtN"
      },
      "source": [
        "### ADASYN"
      ]
    },
    {
      "cell_type": "code",
      "execution_count": null,
      "metadata": {
        "id": "FR-xwpJGCFFw"
      },
      "outputs": [],
      "source": [
        "adasyn = ('adasyn', ADASYN(sampling_strategy=1.0, random_state=42))\n",
        "adasyn_param_grid = {\n",
        "    'adasyn__sampling_strategy': np.arange(0.8, 1.01, 0.05),\n",
        "    'adasyn__n_neighbors': [3, 5, 8, 10, 12]\n",
        "}"
      ]
    },
    {
      "cell_type": "markdown",
      "metadata": {
        "id": "_qgtZy5xtSdZ"
      },
      "source": [
        "# Modeling"
      ]
    },
    {
      "cell_type": "markdown",
      "metadata": {
        "id": "5L2wTHx4wnDW"
      },
      "source": [
        "## Classical models"
      ]
    },
    {
      "cell_type": "markdown",
      "metadata": {
        "id": "__x9dtIKG57H"
      },
      "source": [
        "### Perceptron"
      ]
    },
    {
      "cell_type": "code",
      "execution_count": null,
      "metadata": {
        "id": "3GD91L8IG9uh"
      },
      "outputs": [],
      "source": [
        "perceptron = ('perceptron', Perceptron())\n",
        "perception_param_grid = {\n",
        "    \n",
        "}"
      ]
    },
    {
      "cell_type": "markdown",
      "metadata": {
        "id": "UafhzfsOtkyQ"
      },
      "source": [
        "### Logistic Regression"
      ]
    },
    {
      "cell_type": "code",
      "execution_count": 10,
      "metadata": {
        "id": "8h4L3fdKv9lC"
      },
      "outputs": [],
      "source": [
        "lr = ('lr', LogisticRegression())\n",
        "lr_param_grid = {\n",
        "    'lr__C': [0.01, 0.1, 1, 10, 100],\n",
        "    'lr__penalty': ['l2'],\n",
        "    'lr__max_iter': [100, 500, 1000],\n",
        "    'lr__solver': ['newton-cg', 'lbfgs', 'liblinear', 'sag', 'saga']\n",
        "}"
      ]
    },
    {
      "cell_type": "markdown",
      "metadata": {
        "id": "E-Z_XNzQtpJx"
      },
      "source": [
        "### KNN"
      ]
    },
    {
      "cell_type": "code",
      "execution_count": null,
      "metadata": {
        "id": "wrK2D8hWBeaR"
      },
      "outputs": [],
      "source": [
        ""
      ]
    },
    {
      "cell_type": "markdown",
      "metadata": {
        "id": "xWw34v0vv7y9"
      },
      "source": [
        "### SVM"
      ]
    },
    {
      "cell_type": "code",
      "execution_count": null,
      "metadata": {
        "id": "990XfZ73v_KW"
      },
      "outputs": [],
      "source": [
        "svm = ('svm', SVC(random_state=42, cache_size=2000))\n",
        "svm_param_grid = {\n",
        "    'svm__C': [100, 10, 1.0, 0.1, 0.001],\n",
        "    'svm__kernel': ['linear', 'poly', 'rbf', 'sigmoid']\n",
        "}"
      ]
    },
    {
      "cell_type": "markdown",
      "metadata": {
        "id": "tMQ6kqsYvzlX"
      },
      "source": [
        "### Decision Tree"
      ]
    },
    {
      "cell_type": "code",
      "execution_count": null,
      "metadata": {
        "id": "sv7Tm4Y9v_uW"
      },
      "outputs": [],
      "source": [
        ""
      ]
    },
    {
      "cell_type": "markdown",
      "metadata": {
        "id": "oGF3EI9Xv6nY"
      },
      "source": [
        "## Ensemble models"
      ]
    },
    {
      "cell_type": "markdown",
      "metadata": {
        "id": "nFkhDXIxv2Ql"
      },
      "source": [
        "### Random Forest"
      ]
    },
    {
      "cell_type": "code",
      "execution_count": null,
      "metadata": {
        "id": "QIUX1CwtwAlK"
      },
      "outputs": [],
      "source": [
        ""
      ]
    },
    {
      "cell_type": "markdown",
      "metadata": {
        "id": "a4_JGGeIwJ17"
      },
      "source": [
        "### XGBoost"
      ]
    },
    {
      "cell_type": "code",
      "execution_count": null,
      "metadata": {
        "id": "Mb4tEFoswBAF"
      },
      "outputs": [],
      "source": [
        ""
      ]
    },
    {
      "cell_type": "markdown",
      "metadata": {
        "id": "k1kPvUSEwa2S"
      },
      "source": [
        "### AdaBoost"
      ]
    },
    {
      "cell_type": "code",
      "execution_count": null,
      "metadata": {
        "id": "6FkKMDy3wByB"
      },
      "outputs": [],
      "source": [
        ""
      ]
    },
    {
      "cell_type": "markdown",
      "metadata": {
        "id": "5PI4B-3awhgv"
      },
      "source": [
        "## Deep learning models"
      ]
    },
    {
      "cell_type": "markdown",
      "metadata": {
        "id": "Hri5V5C08O2W"
      },
      "source": [
        "### MLP"
      ]
    },
    {
      "cell_type": "code",
      "execution_count": null,
      "metadata": {
        "id": "ydFoKBlx8QgY"
      },
      "outputs": [],
      "source": [
        ""
      ]
    },
    {
      "cell_type": "markdown",
      "metadata": {
        "id": "XE7S8WqdwwVY"
      },
      "source": [
        "### ANN"
      ]
    },
    {
      "cell_type": "code",
      "execution_count": null,
      "metadata": {
        "id": "UJTTD9MPwCa9"
      },
      "outputs": [],
      "source": [
        ""
      ]
    },
    {
      "cell_type": "markdown",
      "metadata": {
        "id": "EPgGdjmZwOLX"
      },
      "source": [
        "# Training and Evaluation"
      ]
    },
    {
      "cell_type": "code",
      "execution_count": 11,
      "metadata": {
        "id": "tKyI1CzYBQ-N"
      },
      "outputs": [],
      "source": [
        "# Metric\n",
        "f_onehalf_scorer = make_scorer(fbeta_score, beta=0.5)"
      ]
    },
    {
      "cell_type": "code",
      "execution_count": 12,
      "metadata": {
        "id": "pmD7O9t6KXn9"
      },
      "outputs": [],
      "source": [
        "def plot_learning_curve(\n",
        "    estimator,\n",
        "    title,\n",
        "    X,\n",
        "    y,\n",
        "    axes=None,\n",
        "    ylim=None,\n",
        "    cv=cv,\n",
        "    n_jobs=-1,\n",
        "    train_sizes=np.linspace(0.1, 1.0, 5),\n",
        "):\n",
        "    if axes is None:\n",
        "        _, axes = plt.subplots(3, 1, figsize=(15, 15))\n",
        "\n",
        "    axes[0].set_title(title)\n",
        "    if ylim is not None:\n",
        "        axes[0].set_ylim(*ylim)\n",
        "    axes[0].set_xlabel(\"Training examples\")\n",
        "    axes[0].set_ylabel(\"Score\")\n",
        "\n",
        "    train_sizes, train_scores, test_scores, fit_times, _ = learning_curve(\n",
        "        estimator,\n",
        "        X,\n",
        "        y,\n",
        "        cv=cv,\n",
        "        n_jobs=n_jobs,\n",
        "        train_sizes=train_sizes,\n",
        "        scoring=f_onehalf_scorer,\n",
        "        return_times=True,\n",
        "        random_state=42\n",
        "    )\n",
        "    train_scores_mean = np.mean(train_scores, axis=1)\n",
        "    train_scores_std = np.std(train_scores, axis=1)\n",
        "    test_scores_mean = np.mean(test_scores, axis=1)\n",
        "    test_scores_std = np.std(test_scores, axis=1)\n",
        "    fit_times_mean = np.mean(fit_times, axis=1)\n",
        "    fit_times_std = np.std(fit_times, axis=1)\n",
        "\n",
        "    # Plot learning curve\n",
        "    axes[0].grid()\n",
        "    axes[0].fill_between(\n",
        "        train_sizes,\n",
        "        train_scores_mean - train_scores_std,\n",
        "        train_scores_mean + train_scores_std,\n",
        "        alpha=0.1,\n",
        "        color=\"r\",\n",
        "    )\n",
        "    axes[0].fill_between(\n",
        "        train_sizes,\n",
        "        test_scores_mean - test_scores_std,\n",
        "        test_scores_mean + test_scores_std,\n",
        "        alpha=0.1,\n",
        "        color=\"g\",\n",
        "    )\n",
        "    axes[0].plot(\n",
        "        train_sizes, train_scores_mean, \"o-\", color=\"r\", label=\"Training score\"\n",
        "    )\n",
        "    axes[0].plot(\n",
        "        train_sizes, test_scores_mean, \"o-\", color=\"g\", label=\"Cross-validation score\"\n",
        "    )\n",
        "    axes[0].legend(loc=\"best\")\n",
        "\n",
        "    # Plot n_samples vs fit_times\n",
        "    axes[1].grid()\n",
        "    axes[1].plot(train_sizes, fit_times_mean, \"o-\")\n",
        "    axes[1].fill_between(\n",
        "        train_sizes,\n",
        "        fit_times_mean - fit_times_std,\n",
        "        fit_times_mean + fit_times_std,\n",
        "        alpha=0.1,\n",
        "    )\n",
        "    axes[1].set_xlabel(\"Training examples\")\n",
        "    axes[1].set_ylabel(\"fit_times\")\n",
        "    axes[1].set_title(\"Scalability of the model\")\n",
        "\n",
        "    # Plot fit_time vs score\n",
        "    fit_time_argsort = fit_times_mean.argsort()\n",
        "    fit_time_sorted = fit_times_mean[fit_time_argsort]\n",
        "    test_scores_mean_sorted = test_scores_mean[fit_time_argsort]\n",
        "    test_scores_std_sorted = test_scores_std[fit_time_argsort]\n",
        "    axes[2].grid()\n",
        "    axes[2].plot(fit_time_sorted, test_scores_mean_sorted, \"o-\")\n",
        "    axes[2].fill_between(\n",
        "        fit_time_sorted,\n",
        "        test_scores_mean_sorted - test_scores_std_sorted,\n",
        "        test_scores_mean_sorted + test_scores_std_sorted,\n",
        "        alpha=0.1,\n",
        "    )\n",
        "    axes[2].set_xlabel(\"fit_times\") \n",
        "    axes[2].set_ylabel(\"Score\")\n",
        "    axes[2].set_title(\"Performance of the model\")\n",
        "\n",
        "    return plt"
      ]
    },
    {
      "cell_type": "code",
      "execution_count": 36,
      "metadata": {
        "id": "-fFPRJdrbAMt"
      },
      "outputs": [],
      "source": [
        "def pooled_var(stds):\n",
        "    n = 5 # size of each group\n",
        "    return np.sqrt(sum((n-1)*(stds**2))/ len(stds)*(n-1))\n",
        "\n",
        "def plot_search_results(search):\n",
        "  df = pd.DataFrame(search.cv_results_)\n",
        "  results = ['mean_test_score',\n",
        "            'mean_train_score',\n",
        "            'std_test_score', \n",
        "            'std_train_score']\n",
        "\n",
        "  fig, axes = plt.subplots(1, len(param_grid), \n",
        "                          figsize = (7*len(param_grid), 5),\n",
        "                          sharey='row')\n",
        "  axes[0].set_ylabel(\"Score\", fontsize=25)\n",
        "\n",
        "\n",
        "  for idx, (param_name, param_range) in enumerate(param_grid.items()):\n",
        "      grouped_df = df.groupby(f'param_{param_name}')[results]\\\n",
        "          .agg({'mean_train_score': 'mean',\n",
        "                'mean_test_score': 'mean',\n",
        "                'std_train_score': pooled_var,\n",
        "                'std_test_score': pooled_var})\n",
        "\n",
        "      previous_group = df.groupby(f'param_{param_name}')[results]\n",
        "      axes[idx].set_xlabel(param_name, fontsize=30)\n",
        "      axes[idx].set_ylim(0.0, 1.1)\n",
        "      lw = 2\n",
        "      axes[idx].plot(param_range, grouped_df['mean_train_score'], label=\"Training score\",\n",
        "                  color=\"darkorange\", lw=lw)\n",
        "      axes[idx].fill_between(param_range,grouped_df['mean_train_score'] - grouped_df['std_train_score'],\n",
        "                      grouped_df['mean_train_score'] + grouped_df['std_train_score'], alpha=0.2,\n",
        "                      color=\"darkorange\", lw=lw)\n",
        "      axes[idx].plot(param_range, grouped_df['mean_test_score'], label=\"Cross-validation score\",\n",
        "                  color=\"navy\", lw=lw)\n",
        "      axes[idx].fill_between(param_range, grouped_df['mean_test_score'] - grouped_df['std_test_score'],\n",
        "                      grouped_df['mean_test_score'] + grouped_df['std_test_score'], alpha=0.2,\n",
        "                      color=\"navy\", lw=lw)\n",
        "\n",
        "  handles, labels = axes[0].get_legend_handles_labels()\n",
        "  fig.suptitle('Validation curves', fontsize=40)\n",
        "  fig.legend(handles, labels, loc=8, ncol=2, fontsize=20)\n",
        "\n",
        "  fig.subplots_adjust(bottom=0.25, top=0.85)  \n",
        "  plt.show()"
      ]
    },
    {
      "cell_type": "code",
      "execution_count": 14,
      "metadata": {
        "id": "KwYCifEuqy51"
      },
      "outputs": [],
      "source": [
        "def print_result_df(search):\n",
        "  keeping_columns = ['params', 'mean_train_score', 'std_train_score', 'mean_test_score', 'std_test_score', 'mean_fit_time', 'std_fit_time']\n",
        "  df = pd.DataFrame(search.cv_results_)\n",
        "  df = df[keeping_columns].sort_values(by='mean_test_score', ascending=False)\n",
        "  return df.iloc[:10, :]"
      ]
    },
    {
      "cell_type": "code",
      "execution_count": 15,
      "metadata": {
        "id": "LWPSR7D4cEFw"
      },
      "outputs": [],
      "source": [
        "def print_best_model_result(search, name):\n",
        "  print(\"Best parameter (CV score=):\" % search.best_score_)\n",
        "  best_model = search.best_estimator_\n",
        "  print(best_model)\n",
        "\n",
        "  y_pred = best_model.predict(X_test)\n",
        "\n",
        "  print(classification_report(y_test, y_pred))\n",
        "  print(confusion_matrix(y_test, y_pred))\n",
        "  \n",
        "  f_onehalf_score = fbeta_score(y_test, y_pred, beta=0.5)\n",
        "  print('f0.5_score=', f_onehalf_score)\n",
        "\n",
        "  try :\n",
        "    y_score = best_model.predict_proba(X_test)[:, 1]\n",
        "    # calculate precision and recall for each threshold\n",
        "    precision, recall, threshold = precision_recall_curve(y_test, y_score)\n",
        "    # calculate scores\n",
        "    pr_auc = auc(recall, precision)\n",
        "    print('pr_auc_score=', pr_auc)\n",
        "\n",
        "    # calculate the no skill line as the proportion of the positive class\n",
        "    no_skill = len(y_test[y_test==1]) / len(y_test)\n",
        "    # plot the no skill precision-recall curve\n",
        "    plt.figure(figsize=(10, 7))\n",
        "    plt.plot([0, 1], [no_skill, no_skill], linestyle='--', label='No Skill')\n",
        "    # plot the model precision-recall curve\n",
        "    plt.plot(recall, precision, marker='.', label=name)\n",
        "    plt.title(f'{name}(pr_auc={pr_auc})')\n",
        "    plt.xlabel('Recall')\n",
        "    plt.ylabel('Precision')\n",
        "    # show the legend\n",
        "    plt.legend()\n",
        "    # show the plot\n",
        "    plt.show()\n",
        "  except:\n",
        "    pass\n",
        "\n",
        "  plot_learning_curve(best_model, name, X_train, y_train, cv=cv, n_jobs=-1 )\n",
        "  plt.show()\n",
        "\n",
        "  return best_model"
      ]
    },
    {
      "cell_type": "markdown",
      "metadata": {
        "id": "gcvdczlbD3-O"
      },
      "source": [
        "## Logistic Regression"
      ]
    },
    {
      "cell_type": "markdown",
      "metadata": {
        "id": "84PEzD57nKB9"
      },
      "source": [
        "### Base model"
      ]
    },
    {
      "cell_type": "code",
      "execution_count": null,
      "metadata": {
        "id": "LgM83fz-EzA0"
      },
      "outputs": [],
      "source": [
        "pipe = Pipeline(steps=[lr])"
      ]
    },
    {
      "cell_type": "code",
      "execution_count": null,
      "metadata": {
        "id": "VYtjfPCemWxC"
      },
      "outputs": [],
      "source": [
        "param_grid = {}"
      ]
    },
    {
      "cell_type": "code",
      "execution_count": null,
      "metadata": {
        "id": "DfbBmMxREuTQ"
      },
      "outputs": [],
      "source": [
        "# HalvingGridSearch \n",
        "search = HalvingGridSearchCV(pipe, param_grid, scoring=f_onehalf_scorer, cv=cv, verbose=3, return_train_score=True)"
      ]
    },
    {
      "cell_type": "code",
      "execution_count": null,
      "metadata": {
        "colab": {
          "base_uri": "https://localhost:8080/"
        },
        "id": "9Uz7NEKowsjw",
        "outputId": "16e9451b-7401-47eb-e969-771bfe8ebc43"
      },
      "outputs": [
        {
          "name": "stdout",
          "output_type": "stream",
          "text": [
            "n_iterations: 1\n",
            "n_required_iterations: 1\n",
            "n_possible_iterations: 1\n",
            "min_resources_: 1074704\n",
            "max_resources_: 1074704\n",
            "aggressive_elimination: False\n",
            "factor: 3\n",
            "----------\n",
            "iter: 0\n",
            "n_candidates: 1\n",
            "n_resources: 1074704\n",
            "Fitting 10 folds for each of 1 candidates, totalling 10 fits\n"
          ]
        },
        {
          "name": "stderr",
          "output_type": "stream",
          "text": [
            "/usr/local/lib/python3.7/dist-packages/sklearn/linear_model/_logistic.py:818: ConvergenceWarning: lbfgs failed to converge (status=1):\n",
            "STOP: TOTAL NO. of ITERATIONS REACHED LIMIT.\n",
            "\n",
            "Increase the number of iterations (max_iter) or scale the data as shown in:\n",
            "    https://scikit-learn.org/stable/modules/preprocessing.html\n",
            "Please also refer to the documentation for alternative solver options:\n",
            "    https://scikit-learn.org/stable/modules/linear_model.html#logistic-regression\n",
            "  extra_warning_msg=_LOGISTIC_SOLVER_CONVERGENCE_MSG,\n"
          ]
        },
        {
          "name": "stdout",
          "output_type": "stream",
          "text": [
            "[CV 1/10] END .............., score=(train=0.882, test=0.883) total time=  30.3s\n"
          ]
        },
        {
          "name": "stderr",
          "output_type": "stream",
          "text": [
            "/usr/local/lib/python3.7/dist-packages/sklearn/linear_model/_logistic.py:818: ConvergenceWarning: lbfgs failed to converge (status=1):\n",
            "STOP: TOTAL NO. of ITERATIONS REACHED LIMIT.\n",
            "\n",
            "Increase the number of iterations (max_iter) or scale the data as shown in:\n",
            "    https://scikit-learn.org/stable/modules/preprocessing.html\n",
            "Please also refer to the documentation for alternative solver options:\n",
            "    https://scikit-learn.org/stable/modules/linear_model.html#logistic-regression\n",
            "  extra_warning_msg=_LOGISTIC_SOLVER_CONVERGENCE_MSG,\n"
          ]
        },
        {
          "name": "stdout",
          "output_type": "stream",
          "text": [
            "[CV 2/10] END .............., score=(train=0.876, test=0.876) total time=  29.0s\n"
          ]
        },
        {
          "name": "stderr",
          "output_type": "stream",
          "text": [
            "/usr/local/lib/python3.7/dist-packages/sklearn/linear_model/_logistic.py:818: ConvergenceWarning: lbfgs failed to converge (status=1):\n",
            "STOP: TOTAL NO. of ITERATIONS REACHED LIMIT.\n",
            "\n",
            "Increase the number of iterations (max_iter) or scale the data as shown in:\n",
            "    https://scikit-learn.org/stable/modules/preprocessing.html\n",
            "Please also refer to the documentation for alternative solver options:\n",
            "    https://scikit-learn.org/stable/modules/linear_model.html#logistic-regression\n",
            "  extra_warning_msg=_LOGISTIC_SOLVER_CONVERGENCE_MSG,\n"
          ]
        },
        {
          "name": "stdout",
          "output_type": "stream",
          "text": [
            "[CV 3/10] END .............., score=(train=0.874, test=0.875) total time=  30.1s\n"
          ]
        },
        {
          "name": "stderr",
          "output_type": "stream",
          "text": [
            "/usr/local/lib/python3.7/dist-packages/sklearn/linear_model/_logistic.py:818: ConvergenceWarning: lbfgs failed to converge (status=1):\n",
            "STOP: TOTAL NO. of ITERATIONS REACHED LIMIT.\n",
            "\n",
            "Increase the number of iterations (max_iter) or scale the data as shown in:\n",
            "    https://scikit-learn.org/stable/modules/preprocessing.html\n",
            "Please also refer to the documentation for alternative solver options:\n",
            "    https://scikit-learn.org/stable/modules/linear_model.html#logistic-regression\n",
            "  extra_warning_msg=_LOGISTIC_SOLVER_CONVERGENCE_MSG,\n"
          ]
        },
        {
          "name": "stdout",
          "output_type": "stream",
          "text": [
            "[CV 4/10] END .............., score=(train=0.874, test=0.875) total time=  28.5s\n"
          ]
        },
        {
          "name": "stderr",
          "output_type": "stream",
          "text": [
            "/usr/local/lib/python3.7/dist-packages/sklearn/linear_model/_logistic.py:818: ConvergenceWarning: lbfgs failed to converge (status=1):\n",
            "STOP: TOTAL NO. of ITERATIONS REACHED LIMIT.\n",
            "\n",
            "Increase the number of iterations (max_iter) or scale the data as shown in:\n",
            "    https://scikit-learn.org/stable/modules/preprocessing.html\n",
            "Please also refer to the documentation for alternative solver options:\n",
            "    https://scikit-learn.org/stable/modules/linear_model.html#logistic-regression\n",
            "  extra_warning_msg=_LOGISTIC_SOLVER_CONVERGENCE_MSG,\n"
          ]
        },
        {
          "name": "stdout",
          "output_type": "stream",
          "text": [
            "[CV 5/10] END .............., score=(train=0.875, test=0.873) total time=  27.1s\n"
          ]
        },
        {
          "name": "stderr",
          "output_type": "stream",
          "text": [
            "/usr/local/lib/python3.7/dist-packages/sklearn/linear_model/_logistic.py:818: ConvergenceWarning: lbfgs failed to converge (status=1):\n",
            "STOP: TOTAL NO. of ITERATIONS REACHED LIMIT.\n",
            "\n",
            "Increase the number of iterations (max_iter) or scale the data as shown in:\n",
            "    https://scikit-learn.org/stable/modules/preprocessing.html\n",
            "Please also refer to the documentation for alternative solver options:\n",
            "    https://scikit-learn.org/stable/modules/linear_model.html#logistic-regression\n",
            "  extra_warning_msg=_LOGISTIC_SOLVER_CONVERGENCE_MSG,\n"
          ]
        },
        {
          "name": "stdout",
          "output_type": "stream",
          "text": [
            "[CV 6/10] END .............., score=(train=0.874, test=0.875) total time=  27.4s\n"
          ]
        },
        {
          "name": "stderr",
          "output_type": "stream",
          "text": [
            "/usr/local/lib/python3.7/dist-packages/sklearn/linear_model/_logistic.py:818: ConvergenceWarning: lbfgs failed to converge (status=1):\n",
            "STOP: TOTAL NO. of ITERATIONS REACHED LIMIT.\n",
            "\n",
            "Increase the number of iterations (max_iter) or scale the data as shown in:\n",
            "    https://scikit-learn.org/stable/modules/preprocessing.html\n",
            "Please also refer to the documentation for alternative solver options:\n",
            "    https://scikit-learn.org/stable/modules/linear_model.html#logistic-regression\n",
            "  extra_warning_msg=_LOGISTIC_SOLVER_CONVERGENCE_MSG,\n"
          ]
        },
        {
          "name": "stdout",
          "output_type": "stream",
          "text": [
            "[CV 7/10] END .............., score=(train=0.875, test=0.876) total time=  28.4s\n"
          ]
        },
        {
          "name": "stderr",
          "output_type": "stream",
          "text": [
            "/usr/local/lib/python3.7/dist-packages/sklearn/linear_model/_logistic.py:818: ConvergenceWarning: lbfgs failed to converge (status=1):\n",
            "STOP: TOTAL NO. of ITERATIONS REACHED LIMIT.\n",
            "\n",
            "Increase the number of iterations (max_iter) or scale the data as shown in:\n",
            "    https://scikit-learn.org/stable/modules/preprocessing.html\n",
            "Please also refer to the documentation for alternative solver options:\n",
            "    https://scikit-learn.org/stable/modules/linear_model.html#logistic-regression\n",
            "  extra_warning_msg=_LOGISTIC_SOLVER_CONVERGENCE_MSG,\n"
          ]
        },
        {
          "name": "stdout",
          "output_type": "stream",
          "text": [
            "[CV 8/10] END .............., score=(train=0.875, test=0.875) total time=  30.1s\n"
          ]
        }
      ],
      "source": [
        "search.fit(X_train, y_train)"
      ]
    },
    {
      "cell_type": "code",
      "execution_count": null,
      "metadata": {
        "id": "pkqX3yaNJenJ"
      },
      "outputs": [],
      "source": [
        "print_result_df(search)"
      ]
    },
    {
      "cell_type": "code",
      "execution_count": null,
      "metadata": {
        "id": "DbhPZjPrdXW_"
      },
      "outputs": [],
      "source": [
        "print_best_model_result(search, 'Logistic Regression')"
      ]
    },
    {
      "cell_type": "markdown",
      "metadata": {
        "id": "Tw6zYNO7fSmh"
      },
      "source": [
        "### MinMaxScaler + Logistic Regression"
      ]
    },
    {
      "cell_type": "code",
      "execution_count": null,
      "metadata": {
        "id": "Uh2shcyjfX22"
      },
      "outputs": [],
      "source": [
        "pipe = Pipeline(steps=[minmax_scaler, lr])"
      ]
    },
    {
      "cell_type": "code",
      "execution_count": null,
      "metadata": {
        "id": "4-ivQf3Vfo4s"
      },
      "outputs": [],
      "source": [
        "param_grid = {}"
      ]
    },
    {
      "cell_type": "code",
      "execution_count": null,
      "metadata": {
        "id": "pq93HmNSjsal"
      },
      "outputs": [],
      "source": [
        "# HalvingGridSearch \n",
        "search = HalvingGridSearchCV(pipe, param_grid, scoring=f_onehalf_scorer, cv=cv, verbose=3, return_train_score=True)"
      ]
    },
    {
      "cell_type": "code",
      "execution_count": null,
      "metadata": {
        "id": "5FD6ekDoj3Ag"
      },
      "outputs": [],
      "source": [
        "search.fit(X_train, y_train)"
      ]
    },
    {
      "cell_type": "code",
      "execution_count": null,
      "metadata": {
        "id": "Wz2XCbrqmTM3"
      },
      "outputs": [],
      "source": [
        "print_result_df(search)"
      ]
    },
    {
      "cell_type": "code",
      "execution_count": null,
      "metadata": {
        "id": "h9h5aw5dmZJQ"
      },
      "outputs": [],
      "source": [
        "print_best_model_result(search, 'MinMaxScaler + Logistic Regression')"
      ]
    },
    {
      "cell_type": "markdown",
      "metadata": {
        "id": "sdNXt3GWmxHB"
      },
      "source": [
        "### MinMaxScale + SMOTE + Logistic Regression"
      ]
    },
    {
      "cell_type": "code",
      "execution_count": null,
      "metadata": {
        "id": "8d6-IJUtmvtf"
      },
      "outputs": [],
      "source": [
        "pipe = Pipeline(steps=[minmax_scaler, smote, lr])"
      ]
    },
    {
      "cell_type": "code",
      "execution_count": null,
      "metadata": {
        "id": "f7uxi1tMnfxG"
      },
      "outputs": [],
      "source": [
        "param_grid = {}"
      ]
    },
    {
      "cell_type": "code",
      "execution_count": null,
      "metadata": {
        "id": "HEp8YSlnnjpq"
      },
      "outputs": [],
      "source": [
        "search = HalvingGridSearchCV(pipe, param_grid, scoring=f_onehalf_scorer, cv=cv, verbose=4, return_train_score=True)"
      ]
    },
    {
      "cell_type": "code",
      "execution_count": null,
      "metadata": {
        "id": "sQp6c0KDnmm2"
      },
      "outputs": [],
      "source": [
        "search.fit(X_train, y_train)"
      ]
    },
    {
      "cell_type": "code",
      "execution_count": null,
      "metadata": {
        "id": "npRz96ZznsN2"
      },
      "outputs": [],
      "source": [
        "print_result_df(search)"
      ]
    },
    {
      "cell_type": "code",
      "execution_count": null,
      "metadata": {
        "id": "MaVS-3Wxnt_F"
      },
      "outputs": [],
      "source": [
        "print_best_model_result(search, 'MinMaxScaler + SMOTE + Logistic Regression')"
      ]
    },
    {
      "cell_type": "markdown",
      "metadata": {
        "id": "nyOV8yacnUVC"
      },
      "source": [
        "### Tuning Logistic Regression"
      ]
    },
    {
      "cell_type": "code",
      "execution_count": 16,
      "metadata": {
        "id": "OKC0mjGunX55"
      },
      "outputs": [],
      "source": [
        "pipe = Pipeline(steps=[minmax_scaler, lr])"
      ]
    },
    {
      "cell_type": "code",
      "execution_count": 17,
      "metadata": {
        "id": "DR8lmvsFoYMw"
      },
      "outputs": [],
      "source": [
        "param_grid = lr_param_grid"
      ]
    },
    {
      "cell_type": "code",
      "execution_count": 18,
      "metadata": {
        "id": "KlB_hIn1oZZD"
      },
      "outputs": [],
      "source": [
        "search = HalvingGridSearchCV(pipe, param_grid, scoring=f_onehalf_scorer, cv=cv, verbose=3, return_train_score=True)"
      ]
    },
    {
      "cell_type": "code",
      "execution_count": 19,
      "metadata": {
        "id": "0Gq92CZpoaM2",
        "colab": {
          "base_uri": "https://localhost:8080/"
        },
        "outputId": "35260eab-9dc7-4313-ae7c-a6f6c2469d78"
      },
      "outputs": [
        {
          "metadata": {
            "tags": null
          },
          "name": "stdout",
          "output_type": "stream",
          "text": [
            "n_iterations: 4\n",
            "n_required_iterations: 4\n",
            "n_possible_iterations: 4\n",
            "min_resources_: 39803\n",
            "max_resources_: 1074704\n",
            "aggressive_elimination: False\n",
            "factor: 3\n",
            "----------\n",
            "iter: 0\n",
            "n_candidates: 75\n",
            "n_resources: 39803\n",
            "Fitting 10 folds for each of 75 candidates, totalling 750 fits\n",
            "[CV 1/10] END lr__C=0.01, lr__max_iter=100, lr__penalty=l2, lr__solver=newton-cg;, score=(train=0.848, test=0.852) total time=   0.8s\n",
            "[CV 2/10] END lr__C=0.01, lr__max_iter=100, lr__penalty=l2, lr__solver=newton-cg;, score=(train=0.847, test=0.842) total time=   0.9s\n",
            "[CV 3/10] END lr__C=0.01, lr__max_iter=100, lr__penalty=l2, lr__solver=newton-cg;, score=(train=0.847, test=0.848) total time=   0.8s\n",
            "[CV 4/10] END lr__C=0.01, lr__max_iter=100, lr__penalty=l2, lr__solver=newton-cg;, score=(train=0.847, test=0.846) total time=   0.9s\n",
            "[CV 5/10] END lr__C=0.01, lr__max_iter=100, lr__penalty=l2, lr__solver=newton-cg;, score=(train=0.847, test=0.847) total time=   0.9s\n",
            "[CV 6/10] END lr__C=0.01, lr__max_iter=100, lr__penalty=l2, lr__solver=newton-cg;, score=(train=0.850, test=0.849) total time=   0.8s\n",
            "[CV 7/10] END lr__C=0.01, lr__max_iter=100, lr__penalty=l2, lr__solver=newton-cg;, score=(train=0.848, test=0.848) total time=   0.9s\n",
            "[CV 8/10] END lr__C=0.01, lr__max_iter=100, lr__penalty=l2, lr__solver=newton-cg;, score=(train=0.849, test=0.848) total time=   0.8s\n",
            "[CV 9/10] END lr__C=0.01, lr__max_iter=100, lr__penalty=l2, lr__solver=newton-cg;, score=(train=0.850, test=0.844) total time=   0.8s\n",
            "[CV 10/10] END lr__C=0.01, lr__max_iter=100, lr__penalty=l2, lr__solver=newton-cg;, score=(train=0.847, test=0.846) total time=   0.9s\n",
            "[CV 1/10] END lr__C=0.01, lr__max_iter=100, lr__penalty=l2, lr__solver=lbfgs;, score=(train=0.848, test=0.852) total time=   0.4s\n",
            "[CV 2/10] END lr__C=0.01, lr__max_iter=100, lr__penalty=l2, lr__solver=lbfgs;, score=(train=0.847, test=0.842) total time=   0.4s\n",
            "[CV 3/10] END lr__C=0.01, lr__max_iter=100, lr__penalty=l2, lr__solver=lbfgs;, score=(train=0.847, test=0.848) total time=   0.4s\n",
            "[CV 4/10] END lr__C=0.01, lr__max_iter=100, lr__penalty=l2, lr__solver=lbfgs;, score=(train=0.847, test=0.846) total time=   0.4s\n",
            "[CV 5/10] END lr__C=0.01, lr__max_iter=100, lr__penalty=l2, lr__solver=lbfgs;, score=(train=0.847, test=0.847) total time=   0.4s\n",
            "[CV 6/10] END lr__C=0.01, lr__max_iter=100, lr__penalty=l2, lr__solver=lbfgs;, score=(train=0.850, test=0.849) total time=   0.4s\n",
            "[CV 7/10] END lr__C=0.01, lr__max_iter=100, lr__penalty=l2, lr__solver=lbfgs;, score=(train=0.848, test=0.848) total time=   0.4s\n",
            "[CV 8/10] END lr__C=0.01, lr__max_iter=100, lr__penalty=l2, lr__solver=lbfgs;, score=(train=0.849, test=0.848) total time=   0.7s\n",
            "[CV 9/10] END lr__C=0.01, lr__max_iter=100, lr__penalty=l2, lr__solver=lbfgs;, score=(train=0.850, test=0.844) total time=   0.8s\n",
            "[CV 10/10] END lr__C=0.01, lr__max_iter=100, lr__penalty=l2, lr__solver=lbfgs;, score=(train=0.847, test=0.846) total time=   0.7s\n",
            "[CV 1/10] END lr__C=0.01, lr__max_iter=100, lr__penalty=l2, lr__solver=liblinear;, score=(train=0.847, test=0.851) total time=   0.3s\n",
            "[CV 2/10] END lr__C=0.01, lr__max_iter=100, lr__penalty=l2, lr__solver=liblinear;, score=(train=0.846, test=0.840) total time=   0.3s\n",
            "[CV 3/10] END lr__C=0.01, lr__max_iter=100, lr__penalty=l2, lr__solver=liblinear;, score=(train=0.845, test=0.847) total time=   0.4s\n",
            "[CV 4/10] END lr__C=0.01, lr__max_iter=100, lr__penalty=l2, lr__solver=liblinear;, score=(train=0.846, test=0.846) total time=   0.3s\n",
            "[CV 5/10] END lr__C=0.01, lr__max_iter=100, lr__penalty=l2, lr__solver=liblinear;, score=(train=0.845, test=0.846) total time=   0.5s\n",
            "[CV 6/10] END lr__C=0.01, lr__max_iter=100, lr__penalty=l2, lr__solver=liblinear;, score=(train=0.849, test=0.848) total time=   0.4s\n",
            "[CV 7/10] END lr__C=0.01, lr__max_iter=100, lr__penalty=l2, lr__solver=liblinear;, score=(train=0.847, test=0.847) total time=   0.4s\n",
            "[CV 8/10] END lr__C=0.01, lr__max_iter=100, lr__penalty=l2, lr__solver=liblinear;, score=(train=0.848, test=0.846) total time=   0.5s\n",
            "[CV 9/10] END lr__C=0.01, lr__max_iter=100, lr__penalty=l2, lr__solver=liblinear;, score=(train=0.849, test=0.844) total time=   0.5s\n",
            "[CV 10/10] END lr__C=0.01, lr__max_iter=100, lr__penalty=l2, lr__solver=liblinear;, score=(train=0.846, test=0.845) total time=   0.3s\n",
            "[CV 1/10] END lr__C=0.01, lr__max_iter=100, lr__penalty=l2, lr__solver=sag;, score=(train=0.848, test=0.852) total time=   1.2s\n",
            "[CV 2/10] END lr__C=0.01, lr__max_iter=100, lr__penalty=l2, lr__solver=sag;, score=(train=0.847, test=0.842) total time=   1.1s\n",
            "[CV 3/10] END lr__C=0.01, lr__max_iter=100, lr__penalty=l2, lr__solver=sag;, score=(train=0.847, test=0.848) total time=   1.3s\n",
            "[CV 4/10] END lr__C=0.01, lr__max_iter=100, lr__penalty=l2, lr__solver=sag;, score=(train=0.847, test=0.846) total time=   1.0s\n",
            "[CV 5/10] END lr__C=0.01, lr__max_iter=100, lr__penalty=l2, lr__solver=sag;, score=(train=0.847, test=0.847) total time=   1.6s\n",
            "[CV 6/10] END lr__C=0.01, lr__max_iter=100, lr__penalty=l2, lr__solver=sag;, score=(train=0.850, test=0.849) total time=   1.4s\n",
            "[CV 7/10] END lr__C=0.01, lr__max_iter=100, lr__penalty=l2, lr__solver=sag;, score=(train=0.848, test=0.848) total time=   0.9s\n",
            "[CV 8/10] END lr__C=0.01, lr__max_iter=100, lr__penalty=l2, lr__solver=sag;, score=(train=0.849, test=0.848) total time=   0.9s\n",
            "[CV 9/10] END lr__C=0.01, lr__max_iter=100, lr__penalty=l2, lr__solver=sag;, score=(train=0.850, test=0.844) total time=   0.9s\n",
            "[CV 10/10] END lr__C=0.01, lr__max_iter=100, lr__penalty=l2, lr__solver=sag;, score=(train=0.847, test=0.846) total time=   1.0s\n",
            "[CV 1/10] END lr__C=0.01, lr__max_iter=100, lr__penalty=l2, lr__solver=saga;, score=(train=0.848, test=0.852) total time=   2.0s\n",
            "[CV 2/10] END lr__C=0.01, lr__max_iter=100, lr__penalty=l2, lr__solver=saga;, score=(train=0.847, test=0.842) total time=   2.2s\n",
            "[CV 3/10] END lr__C=0.01, lr__max_iter=100, lr__penalty=l2, lr__solver=saga;, score=(train=0.847, test=0.848) total time=   1.4s\n",
            "[CV 4/10] END lr__C=0.01, lr__max_iter=100, lr__penalty=l2, lr__solver=saga;, score=(train=0.847, test=0.846) total time=   0.9s\n",
            "[CV 5/10] END lr__C=0.01, lr__max_iter=100, lr__penalty=l2, lr__solver=saga;, score=(train=0.847, test=0.847) total time=   0.8s\n",
            "[CV 6/10] END lr__C=0.01, lr__max_iter=100, lr__penalty=l2, lr__solver=saga;, score=(train=0.850, test=0.849) total time=   0.8s\n",
            "[CV 7/10] END lr__C=0.01, lr__max_iter=100, lr__penalty=l2, lr__solver=saga;, score=(train=0.848, test=0.848) total time=   0.8s\n",
            "[CV 8/10] END lr__C=0.01, lr__max_iter=100, lr__penalty=l2, lr__solver=saga;, score=(train=0.849, test=0.848) total time=   0.7s\n",
            "[CV 9/10] END lr__C=0.01, lr__max_iter=100, lr__penalty=l2, lr__solver=saga;, score=(train=0.850, test=0.844) total time=   0.8s\n",
            "[CV 10/10] END lr__C=0.01, lr__max_iter=100, lr__penalty=l2, lr__solver=saga;, score=(train=0.847, test=0.846) total time=   0.8s\n",
            "[CV 1/10] END lr__C=0.01, lr__max_iter=500, lr__penalty=l2, lr__solver=newton-cg;, score=(train=0.848, test=0.852) total time=   0.8s\n",
            "[CV 2/10] END lr__C=0.01, lr__max_iter=500, lr__penalty=l2, lr__solver=newton-cg;, score=(train=0.847, test=0.842) total time=   0.9s\n",
            "[CV 3/10] END lr__C=0.01, lr__max_iter=500, lr__penalty=l2, lr__solver=newton-cg;, score=(train=0.847, test=0.848) total time=   0.8s\n",
            "[CV 4/10] END lr__C=0.01, lr__max_iter=500, lr__penalty=l2, lr__solver=newton-cg;, score=(train=0.847, test=0.846) total time=   0.9s\n",
            "[CV 5/10] END lr__C=0.01, lr__max_iter=500, lr__penalty=l2, lr__solver=newton-cg;, score=(train=0.847, test=0.847) total time=   1.0s\n",
            "[CV 6/10] END lr__C=0.01, lr__max_iter=500, lr__penalty=l2, lr__solver=newton-cg;, score=(train=0.850, test=0.849) total time=   0.9s\n",
            "[CV 7/10] END lr__C=0.01, lr__max_iter=500, lr__penalty=l2, lr__solver=newton-cg;, score=(train=0.848, test=0.848) total time=   1.0s\n",
            "[CV 8/10] END lr__C=0.01, lr__max_iter=500, lr__penalty=l2, lr__solver=newton-cg;, score=(train=0.849, test=0.848) total time=   0.9s\n",
            "[CV 9/10] END lr__C=0.01, lr__max_iter=500, lr__penalty=l2, lr__solver=newton-cg;, score=(train=0.850, test=0.844) total time=   0.8s\n",
            "[CV 10/10] END lr__C=0.01, lr__max_iter=500, lr__penalty=l2, lr__solver=newton-cg;, score=(train=0.847, test=0.846) total time=   1.0s\n",
            "[CV 1/10] END lr__C=0.01, lr__max_iter=500, lr__penalty=l2, lr__solver=lbfgs;, score=(train=0.848, test=0.852) total time=   0.4s\n",
            "[CV 2/10] END lr__C=0.01, lr__max_iter=500, lr__penalty=l2, lr__solver=lbfgs;, score=(train=0.847, test=0.842) total time=   0.4s\n",
            "[CV 3/10] END lr__C=0.01, lr__max_iter=500, lr__penalty=l2, lr__solver=lbfgs;, score=(train=0.847, test=0.848) total time=   0.5s\n",
            "[CV 4/10] END lr__C=0.01, lr__max_iter=500, lr__penalty=l2, lr__solver=lbfgs;, score=(train=0.847, test=0.846) total time=   0.4s\n",
            "[CV 5/10] END lr__C=0.01, lr__max_iter=500, lr__penalty=l2, lr__solver=lbfgs;, score=(train=0.847, test=0.847) total time=   0.4s\n",
            "[CV 6/10] END lr__C=0.01, lr__max_iter=500, lr__penalty=l2, lr__solver=lbfgs;, score=(train=0.850, test=0.849) total time=   0.4s\n",
            "[CV 7/10] END lr__C=0.01, lr__max_iter=500, lr__penalty=l2, lr__solver=lbfgs;, score=(train=0.848, test=0.848) total time=   0.4s\n",
            "[CV 8/10] END lr__C=0.01, lr__max_iter=500, lr__penalty=l2, lr__solver=lbfgs;, score=(train=0.849, test=0.848) total time=   0.4s\n",
            "[CV 9/10] END lr__C=0.01, lr__max_iter=500, lr__penalty=l2, lr__solver=lbfgs;, score=(train=0.850, test=0.844) total time=   0.4s\n",
            "[CV 10/10] END lr__C=0.01, lr__max_iter=500, lr__penalty=l2, lr__solver=lbfgs;, score=(train=0.847, test=0.846) total time=   0.4s\n",
            "[CV 1/10] END lr__C=0.01, lr__max_iter=500, lr__penalty=l2, lr__solver=liblinear;, score=(train=0.847, test=0.851) total time=   0.2s\n",
            "[CV 2/10] END lr__C=0.01, lr__max_iter=500, lr__penalty=l2, lr__solver=liblinear;, score=(train=0.846, test=0.840) total time=   0.2s\n",
            "[CV 3/10] END lr__C=0.01, lr__max_iter=500, lr__penalty=l2, lr__solver=liblinear;, score=(train=0.845, test=0.847) total time=   0.2s\n",
            "[CV 4/10] END lr__C=0.01, lr__max_iter=500, lr__penalty=l2, lr__solver=liblinear;, score=(train=0.846, test=0.846) total time=   0.2s\n",
            "[CV 5/10] END lr__C=0.01, lr__max_iter=500, lr__penalty=l2, lr__solver=liblinear;, score=(train=0.845, test=0.846) total time=   0.2s\n",
            "[CV 6/10] END lr__C=0.01, lr__max_iter=500, lr__penalty=l2, lr__solver=liblinear;, score=(train=0.849, test=0.848) total time=   0.2s\n",
            "[CV 7/10] END lr__C=0.01, lr__max_iter=500, lr__penalty=l2, lr__solver=liblinear;, score=(train=0.847, test=0.847) total time=   0.2s\n",
            "[CV 8/10] END lr__C=0.01, lr__max_iter=500, lr__penalty=l2, lr__solver=liblinear;, score=(train=0.848, test=0.846) total time=   0.2s\n",
            "[CV 9/10] END lr__C=0.01, lr__max_iter=500, lr__penalty=l2, lr__solver=liblinear;, score=(train=0.849, test=0.844) total time=   0.2s\n",
            "[CV 10/10] END lr__C=0.01, lr__max_iter=500, lr__penalty=l2, lr__solver=liblinear;, score=(train=0.846, test=0.845) total time=   0.2s\n",
            "[CV 1/10] END lr__C=0.01, lr__max_iter=500, lr__penalty=l2, lr__solver=sag;, score=(train=0.848, test=0.852) total time=   0.6s\n",
            "[CV 2/10] END lr__C=0.01, lr__max_iter=500, lr__penalty=l2, lr__solver=sag;, score=(train=0.847, test=0.842) total time=   0.6s\n",
            "[CV 3/10] END lr__C=0.01, lr__max_iter=500, lr__penalty=l2, lr__solver=sag;, score=(train=0.847, test=0.848) total time=   0.6s\n",
            "[CV 4/10] END lr__C=0.01, lr__max_iter=500, lr__penalty=l2, lr__solver=sag;, score=(train=0.847, test=0.846) total time=   0.6s\n",
            "[CV 5/10] END lr__C=0.01, lr__max_iter=500, lr__penalty=l2, lr__solver=sag;, score=(train=0.847, test=0.847) total time=   0.6s\n",
            "[CV 6/10] END lr__C=0.01, lr__max_iter=500, lr__penalty=l2, lr__solver=sag;, score=(train=0.850, test=0.849) total time=   0.6s\n",
            "[CV 7/10] END lr__C=0.01, lr__max_iter=500, lr__penalty=l2, lr__solver=sag;, score=(train=0.848, test=0.848) total time=   0.6s\n",
            "[CV 8/10] END lr__C=0.01, lr__max_iter=500, lr__penalty=l2, lr__solver=sag;, score=(train=0.849, test=0.848) total time=   0.7s\n",
            "[CV 9/10] END lr__C=0.01, lr__max_iter=500, lr__penalty=l2, lr__solver=sag;, score=(train=0.850, test=0.844) total time=   0.6s\n",
            "[CV 10/10] END lr__C=0.01, lr__max_iter=500, lr__penalty=l2, lr__solver=sag;, score=(train=0.847, test=0.846) total time=   0.5s\n",
            "[CV 1/10] END lr__C=0.01, lr__max_iter=500, lr__penalty=l2, lr__solver=saga;, score=(train=0.848, test=0.852) total time=   0.9s\n",
            "[CV 2/10] END lr__C=0.01, lr__max_iter=500, lr__penalty=l2, lr__solver=saga;, score=(train=0.847, test=0.842) total time=   0.9s\n",
            "[CV 3/10] END lr__C=0.01, lr__max_iter=500, lr__penalty=l2, lr__solver=saga;, score=(train=0.847, test=0.848) total time=   0.8s\n",
            "[CV 4/10] END lr__C=0.01, lr__max_iter=500, lr__penalty=l2, lr__solver=saga;, score=(train=0.847, test=0.846) total time=   0.8s\n",
            "[CV 5/10] END lr__C=0.01, lr__max_iter=500, lr__penalty=l2, lr__solver=saga;, score=(train=0.847, test=0.847) total time=   0.8s\n",
            "[CV 6/10] END lr__C=0.01, lr__max_iter=500, lr__penalty=l2, lr__solver=saga;, score=(train=0.850, test=0.849) total time=   0.8s\n",
            "[CV 7/10] END lr__C=0.01, lr__max_iter=500, lr__penalty=l2, lr__solver=saga;, score=(train=0.848, test=0.848) total time=   0.8s\n",
            "[CV 8/10] END lr__C=0.01, lr__max_iter=500, lr__penalty=l2, lr__solver=saga;, score=(train=0.849, test=0.848) total time=   0.8s\n",
            "[CV 9/10] END lr__C=0.01, lr__max_iter=500, lr__penalty=l2, lr__solver=saga;, score=(train=0.850, test=0.844) total time=   0.8s\n",
            "[CV 10/10] END lr__C=0.01, lr__max_iter=500, lr__penalty=l2, lr__solver=saga;, score=(train=0.847, test=0.846) total time=   0.8s\n",
            "[CV 1/10] END lr__C=0.01, lr__max_iter=1000, lr__penalty=l2, lr__solver=newton-cg;, score=(train=0.848, test=0.852) total time=   0.9s\n",
            "[CV 2/10] END lr__C=0.01, lr__max_iter=1000, lr__penalty=l2, lr__solver=newton-cg;, score=(train=0.847, test=0.842) total time=   1.0s\n",
            "[CV 3/10] END lr__C=0.01, lr__max_iter=1000, lr__penalty=l2, lr__solver=newton-cg;, score=(train=0.847, test=0.848) total time=   1.0s\n",
            "[CV 4/10] END lr__C=0.01, lr__max_iter=1000, lr__penalty=l2, lr__solver=newton-cg;, score=(train=0.847, test=0.846) total time=   1.0s\n",
            "[CV 5/10] END lr__C=0.01, lr__max_iter=1000, lr__penalty=l2, lr__solver=newton-cg;, score=(train=0.847, test=0.847) total time=   1.0s\n",
            "[CV 6/10] END lr__C=0.01, lr__max_iter=1000, lr__penalty=l2, lr__solver=newton-cg;, score=(train=0.850, test=0.849) total time=   1.0s\n",
            "[CV 7/10] END lr__C=0.01, lr__max_iter=1000, lr__penalty=l2, lr__solver=newton-cg;, score=(train=0.848, test=0.848) total time=   1.0s\n",
            "[CV 8/10] END lr__C=0.01, lr__max_iter=1000, lr__penalty=l2, lr__solver=newton-cg;, score=(train=0.849, test=0.848) total time=   0.9s\n",
            "[CV 9/10] END lr__C=0.01, lr__max_iter=1000, lr__penalty=l2, lr__solver=newton-cg;, score=(train=0.850, test=0.844) total time=   0.9s\n",
            "[CV 10/10] END lr__C=0.01, lr__max_iter=1000, lr__penalty=l2, lr__solver=newton-cg;, score=(train=0.847, test=0.846) total time=   1.0s\n",
            "[CV 1/10] END lr__C=0.01, lr__max_iter=1000, lr__penalty=l2, lr__solver=lbfgs;, score=(train=0.848, test=0.852) total time=   0.5s\n",
            "[CV 2/10] END lr__C=0.01, lr__max_iter=1000, lr__penalty=l2, lr__solver=lbfgs;, score=(train=0.847, test=0.842) total time=   0.4s\n",
            "[CV 3/10] END lr__C=0.01, lr__max_iter=1000, lr__penalty=l2, lr__solver=lbfgs;, score=(train=0.847, test=0.848) total time=   0.5s\n",
            "[CV 4/10] END lr__C=0.01, lr__max_iter=1000, lr__penalty=l2, lr__solver=lbfgs;, score=(train=0.847, test=0.846) total time=   0.4s\n",
            "[CV 5/10] END lr__C=0.01, lr__max_iter=1000, lr__penalty=l2, lr__solver=lbfgs;, score=(train=0.847, test=0.847) total time=   0.4s\n",
            "[CV 6/10] END lr__C=0.01, lr__max_iter=1000, lr__penalty=l2, lr__solver=lbfgs;, score=(train=0.850, test=0.849) total time=   0.4s\n",
            "[CV 7/10] END lr__C=0.01, lr__max_iter=1000, lr__penalty=l2, lr__solver=lbfgs;, score=(train=0.848, test=0.848) total time=   0.4s\n",
            "[CV 8/10] END lr__C=0.01, lr__max_iter=1000, lr__penalty=l2, lr__solver=lbfgs;, score=(train=0.849, test=0.848) total time=   0.4s\n",
            "[CV 9/10] END lr__C=0.01, lr__max_iter=1000, lr__penalty=l2, lr__solver=lbfgs;, score=(train=0.850, test=0.844) total time=   0.4s\n",
            "[CV 10/10] END lr__C=0.01, lr__max_iter=1000, lr__penalty=l2, lr__solver=lbfgs;, score=(train=0.847, test=0.846) total time=   0.4s\n",
            "[CV 1/10] END lr__C=0.01, lr__max_iter=1000, lr__penalty=l2, lr__solver=liblinear;, score=(train=0.847, test=0.851) total time=   0.2s\n",
            "[CV 2/10] END lr__C=0.01, lr__max_iter=1000, lr__penalty=l2, lr__solver=liblinear;, score=(train=0.846, test=0.840) total time=   0.2s\n",
            "[CV 3/10] END lr__C=0.01, lr__max_iter=1000, lr__penalty=l2, lr__solver=liblinear;, score=(train=0.845, test=0.847) total time=   0.2s\n",
            "[CV 4/10] END lr__C=0.01, lr__max_iter=1000, lr__penalty=l2, lr__solver=liblinear;, score=(train=0.846, test=0.846) total time=   0.2s\n",
            "[CV 5/10] END lr__C=0.01, lr__max_iter=1000, lr__penalty=l2, lr__solver=liblinear;, score=(train=0.845, test=0.846) total time=   0.2s\n",
            "[CV 6/10] END lr__C=0.01, lr__max_iter=1000, lr__penalty=l2, lr__solver=liblinear;, score=(train=0.849, test=0.848) total time=   0.2s\n",
            "[CV 7/10] END lr__C=0.01, lr__max_iter=1000, lr__penalty=l2, lr__solver=liblinear;, score=(train=0.847, test=0.847) total time=   0.2s\n",
            "[CV 8/10] END lr__C=0.01, lr__max_iter=1000, lr__penalty=l2, lr__solver=liblinear;, score=(train=0.848, test=0.846) total time=   0.2s\n",
            "[CV 9/10] END lr__C=0.01, lr__max_iter=1000, lr__penalty=l2, lr__solver=liblinear;, score=(train=0.849, test=0.844) total time=   0.2s\n",
            "[CV 10/10] END lr__C=0.01, lr__max_iter=1000, lr__penalty=l2, lr__solver=liblinear;, score=(train=0.846, test=0.845) total time=   0.2s\n",
            "[CV 1/10] END lr__C=0.01, lr__max_iter=1000, lr__penalty=l2, lr__solver=sag;, score=(train=0.848, test=0.852) total time=   0.7s\n",
            "[CV 2/10] END lr__C=0.01, lr__max_iter=1000, lr__penalty=l2, lr__solver=sag;, score=(train=0.847, test=0.842) total time=   0.5s\n",
            "[CV 3/10] END lr__C=0.01, lr__max_iter=1000, lr__penalty=l2, lr__solver=sag;, score=(train=0.847, test=0.848) total time=   0.6s\n",
            "[CV 4/10] END lr__C=0.01, lr__max_iter=1000, lr__penalty=l2, lr__solver=sag;, score=(train=0.847, test=0.846) total time=   0.7s\n",
            "[CV 5/10] END lr__C=0.01, lr__max_iter=1000, lr__penalty=l2, lr__solver=sag;, score=(train=0.847, test=0.847) total time=   0.6s\n",
            "[CV 6/10] END lr__C=0.01, lr__max_iter=1000, lr__penalty=l2, lr__solver=sag;, score=(train=0.850, test=0.849) total time=   0.6s\n",
            "[CV 7/10] END lr__C=0.01, lr__max_iter=1000, lr__penalty=l2, lr__solver=sag;, score=(train=0.848, test=0.848) total time=   0.6s\n",
            "[CV 8/10] END lr__C=0.01, lr__max_iter=1000, lr__penalty=l2, lr__solver=sag;, score=(train=0.849, test=0.848) total time=   0.6s\n",
            "[CV 9/10] END lr__C=0.01, lr__max_iter=1000, lr__penalty=l2, lr__solver=sag;, score=(train=0.850, test=0.844) total time=   0.6s\n",
            "[CV 10/10] END lr__C=0.01, lr__max_iter=1000, lr__penalty=l2, lr__solver=sag;, score=(train=0.847, test=0.846) total time=   0.5s\n",
            "[CV 1/10] END lr__C=0.01, lr__max_iter=1000, lr__penalty=l2, lr__solver=saga;, score=(train=0.848, test=0.852) total time=   0.9s\n",
            "[CV 2/10] END lr__C=0.01, lr__max_iter=1000, lr__penalty=l2, lr__solver=saga;, score=(train=0.847, test=0.842) total time=   0.8s\n",
            "[CV 3/10] END lr__C=0.01, lr__max_iter=1000, lr__penalty=l2, lr__solver=saga;, score=(train=0.847, test=0.848) total time=   0.8s\n",
            "[CV 4/10] END lr__C=0.01, lr__max_iter=1000, lr__penalty=l2, lr__solver=saga;, score=(train=0.847, test=0.846) total time=   0.8s\n",
            "[CV 5/10] END lr__C=0.01, lr__max_iter=1000, lr__penalty=l2, lr__solver=saga;, score=(train=0.847, test=0.847) total time=   0.8s\n",
            "[CV 6/10] END lr__C=0.01, lr__max_iter=1000, lr__penalty=l2, lr__solver=saga;, score=(train=0.850, test=0.849) total time=   0.8s\n",
            "[CV 7/10] END lr__C=0.01, lr__max_iter=1000, lr__penalty=l2, lr__solver=saga;, score=(train=0.848, test=0.848) total time=   0.7s\n",
            "[CV 8/10] END lr__C=0.01, lr__max_iter=1000, lr__penalty=l2, lr__solver=saga;, score=(train=0.849, test=0.848) total time=   0.8s\n",
            "[CV 9/10] END lr__C=0.01, lr__max_iter=1000, lr__penalty=l2, lr__solver=saga;, score=(train=0.850, test=0.844) total time=   0.9s\n",
            "[CV 10/10] END lr__C=0.01, lr__max_iter=1000, lr__penalty=l2, lr__solver=saga;, score=(train=0.847, test=0.846) total time=   0.8s\n",
            "[CV 1/10] END lr__C=0.1, lr__max_iter=100, lr__penalty=l2, lr__solver=newton-cg;, score=(train=0.886, test=0.885) total time=   1.3s\n",
            "[CV 2/10] END lr__C=0.1, lr__max_iter=100, lr__penalty=l2, lr__solver=newton-cg;, score=(train=0.885, test=0.877) total time=   1.3s\n",
            "[CV 3/10] END lr__C=0.1, lr__max_iter=100, lr__penalty=l2, lr__solver=newton-cg;, score=(train=0.886, test=0.885) total time=   2.4s\n",
            "[CV 4/10] END lr__C=0.1, lr__max_iter=100, lr__penalty=l2, lr__solver=newton-cg;, score=(train=0.886, test=0.888) total time=   2.2s\n",
            "[CV 5/10] END lr__C=0.1, lr__max_iter=100, lr__penalty=l2, lr__solver=newton-cg;, score=(train=0.885, test=0.886) total time=   1.3s\n",
            "[CV 6/10] END lr__C=0.1, lr__max_iter=100, lr__penalty=l2, lr__solver=newton-cg;, score=(train=0.887, test=0.886) total time=   1.3s\n",
            "[CV 7/10] END lr__C=0.1, lr__max_iter=100, lr__penalty=l2, lr__solver=newton-cg;, score=(train=0.884, test=0.883) total time=   1.2s\n",
            "[CV 8/10] END lr__C=0.1, lr__max_iter=100, lr__penalty=l2, lr__solver=newton-cg;, score=(train=0.887, test=0.885) total time=   1.2s\n",
            "[CV 9/10] END lr__C=0.1, lr__max_iter=100, lr__penalty=l2, lr__solver=newton-cg;, score=(train=0.888, test=0.883) total time=   1.2s\n",
            "[CV 10/10] END lr__C=0.1, lr__max_iter=100, lr__penalty=l2, lr__solver=newton-cg;, score=(train=0.883, test=0.884) total time=   1.3s\n",
            "[CV 1/10] END lr__C=0.1, lr__max_iter=100, lr__penalty=l2, lr__solver=lbfgs;, score=(train=0.886, test=0.885) total time=   0.7s\n",
            "[CV 2/10] END lr__C=0.1, lr__max_iter=100, lr__penalty=l2, lr__solver=lbfgs;, score=(train=0.885, test=0.877) total time=   0.8s\n",
            "[CV 3/10] END lr__C=0.1, lr__max_iter=100, lr__penalty=l2, lr__solver=lbfgs;, score=(train=0.886, test=0.885) total time=   0.8s\n",
            "[CV 4/10] END lr__C=0.1, lr__max_iter=100, lr__penalty=l2, lr__solver=lbfgs;, score=(train=0.886, test=0.888) total time=   0.7s\n",
            "[CV 5/10] END lr__C=0.1, lr__max_iter=100, lr__penalty=l2, lr__solver=lbfgs;, score=(train=0.885, test=0.886) total time=   0.8s\n",
            "[CV 6/10] END lr__C=0.1, lr__max_iter=100, lr__penalty=l2, lr__solver=lbfgs;, score=(train=0.887, test=0.886) total time=   0.7s\n",
            "[CV 7/10] END lr__C=0.1, lr__max_iter=100, lr__penalty=l2, lr__solver=lbfgs;, score=(train=0.884, test=0.883) total time=   0.8s\n",
            "[CV 8/10] END lr__C=0.1, lr__max_iter=100, lr__penalty=l2, lr__solver=lbfgs;, score=(train=0.887, test=0.885) total time=   0.7s\n",
            "[CV 9/10] END lr__C=0.1, lr__max_iter=100, lr__penalty=l2, lr__solver=lbfgs;, score=(train=0.888, test=0.883) total time=   0.7s\n",
            "[CV 10/10] END lr__C=0.1, lr__max_iter=100, lr__penalty=l2, lr__solver=lbfgs;, score=(train=0.883, test=0.884) total time=   0.7s\n",
            "[CV 1/10] END lr__C=0.1, lr__max_iter=100, lr__penalty=l2, lr__solver=liblinear;, score=(train=0.886, test=0.884) total time=   0.2s\n",
            "[CV 2/10] END lr__C=0.1, lr__max_iter=100, lr__penalty=l2, lr__solver=liblinear;, score=(train=0.885, test=0.877) total time=   0.3s\n",
            "[CV 3/10] END lr__C=0.1, lr__max_iter=100, lr__penalty=l2, lr__solver=liblinear;, score=(train=0.886, test=0.885) total time=   0.2s\n",
            "[CV 4/10] END lr__C=0.1, lr__max_iter=100, lr__penalty=l2, lr__solver=liblinear;, score=(train=0.886, test=0.888) total time=   0.3s\n",
            "[CV 5/10] END lr__C=0.1, lr__max_iter=100, lr__penalty=l2, lr__solver=liblinear;, score=(train=0.885, test=0.886) total time=   0.3s\n",
            "[CV 6/10] END lr__C=0.1, lr__max_iter=100, lr__penalty=l2, lr__solver=liblinear;, score=(train=0.887, test=0.885) total time=   0.3s\n",
            "[CV 7/10] END lr__C=0.1, lr__max_iter=100, lr__penalty=l2, lr__solver=liblinear;, score=(train=0.884, test=0.884) total time=   0.2s\n",
            "[CV 8/10] END lr__C=0.1, lr__max_iter=100, lr__penalty=l2, lr__solver=liblinear;, score=(train=0.888, test=0.885) total time=   0.3s\n",
            "[CV 9/10] END lr__C=0.1, lr__max_iter=100, lr__penalty=l2, lr__solver=liblinear;, score=(train=0.888, test=0.883) total time=   0.2s\n",
            "[CV 10/10] END lr__C=0.1, lr__max_iter=100, lr__penalty=l2, lr__solver=liblinear;, score=(train=0.884, test=0.884) total time=   0.2s\n",
            "[CV 1/10] END lr__C=0.1, lr__max_iter=100, lr__penalty=l2, lr__solver=sag;, score=(train=0.886, test=0.885) total time=   0.6s\n",
            "[CV 2/10] END lr__C=0.1, lr__max_iter=100, lr__penalty=l2, lr__solver=sag;, score=(train=0.885, test=0.877) total time=   0.6s\n",
            "[CV 3/10] END lr__C=0.1, lr__max_iter=100, lr__penalty=l2, lr__solver=sag;, score=(train=0.886, test=0.885) total time=   0.6s\n",
            "[CV 4/10] END lr__C=0.1, lr__max_iter=100, lr__penalty=l2, lr__solver=sag;, score=(train=0.886, test=0.888) total time=   0.7s\n",
            "[CV 5/10] END lr__C=0.1, lr__max_iter=100, lr__penalty=l2, lr__solver=sag;, score=(train=0.885, test=0.886) total time=   0.6s\n",
            "[CV 6/10] END lr__C=0.1, lr__max_iter=100, lr__penalty=l2, lr__solver=sag;, score=(train=0.887, test=0.886) total time=   0.6s\n",
            "[CV 7/10] END lr__C=0.1, lr__max_iter=100, lr__penalty=l2, lr__solver=sag;, score=(train=0.884, test=0.883) total time=   0.6s\n",
            "[CV 8/10] END lr__C=0.1, lr__max_iter=100, lr__penalty=l2, lr__solver=sag;, score=(train=0.887, test=0.885) total time=   0.6s\n",
            "[CV 9/10] END lr__C=0.1, lr__max_iter=100, lr__penalty=l2, lr__solver=sag;, score=(train=0.888, test=0.883) total time=   0.6s\n",
            "[CV 10/10] END lr__C=0.1, lr__max_iter=100, lr__penalty=l2, lr__solver=sag;, score=(train=0.883, test=0.884) total time=   0.6s\n",
            "[CV 1/10] END lr__C=0.1, lr__max_iter=100, lr__penalty=l2, lr__solver=saga;, score=(train=0.886, test=0.885) total time=   0.7s\n",
            "[CV 2/10] END lr__C=0.1, lr__max_iter=100, lr__penalty=l2, lr__solver=saga;, score=(train=0.885, test=0.877) total time=   0.7s\n",
            "[CV 3/10] END lr__C=0.1, lr__max_iter=100, lr__penalty=l2, lr__solver=saga;, score=(train=0.886, test=0.885) total time=   0.8s\n",
            "[CV 4/10] END lr__C=0.1, lr__max_iter=100, lr__penalty=l2, lr__solver=saga;, score=(train=0.886, test=0.888) total time=   0.7s\n",
            "[CV 5/10] END lr__C=0.1, lr__max_iter=100, lr__penalty=l2, lr__solver=saga;, score=(train=0.885, test=0.886) total time=   0.8s\n",
            "[CV 6/10] END lr__C=0.1, lr__max_iter=100, lr__penalty=l2, lr__solver=saga;, score=(train=0.887, test=0.886) total time=   0.7s\n",
            "[CV 7/10] END lr__C=0.1, lr__max_iter=100, lr__penalty=l2, lr__solver=saga;, score=(train=0.884, test=0.883) total time=   0.7s\n",
            "[CV 8/10] END lr__C=0.1, lr__max_iter=100, lr__penalty=l2, lr__solver=saga;, score=(train=0.887, test=0.885) total time=   0.8s\n",
            "[CV 9/10] END lr__C=0.1, lr__max_iter=100, lr__penalty=l2, lr__solver=saga;, score=(train=0.888, test=0.883) total time=   0.7s\n",
            "[CV 10/10] END lr__C=0.1, lr__max_iter=100, lr__penalty=l2, lr__solver=saga;, score=(train=0.883, test=0.884) total time=   0.7s\n",
            "[CV 1/10] END lr__C=0.1, lr__max_iter=500, lr__penalty=l2, lr__solver=newton-cg;, score=(train=0.886, test=0.885) total time=   1.2s\n",
            "[CV 2/10] END lr__C=0.1, lr__max_iter=500, lr__penalty=l2, lr__solver=newton-cg;, score=(train=0.885, test=0.877) total time=   1.2s\n",
            "[CV 3/10] END lr__C=0.1, lr__max_iter=500, lr__penalty=l2, lr__solver=newton-cg;, score=(train=0.886, test=0.885) total time=   1.2s\n",
            "[CV 4/10] END lr__C=0.1, lr__max_iter=500, lr__penalty=l2, lr__solver=newton-cg;, score=(train=0.886, test=0.888) total time=   1.2s\n",
            "[CV 5/10] END lr__C=0.1, lr__max_iter=500, lr__penalty=l2, lr__solver=newton-cg;, score=(train=0.885, test=0.886) total time=   1.3s\n",
            "[CV 6/10] END lr__C=0.1, lr__max_iter=500, lr__penalty=l2, lr__solver=newton-cg;, score=(train=0.887, test=0.886) total time=   1.3s\n",
            "[CV 7/10] END lr__C=0.1, lr__max_iter=500, lr__penalty=l2, lr__solver=newton-cg;, score=(train=0.884, test=0.883) total time=   1.2s\n",
            "[CV 8/10] END lr__C=0.1, lr__max_iter=500, lr__penalty=l2, lr__solver=newton-cg;, score=(train=0.887, test=0.885) total time=   1.2s\n",
            "[CV 9/10] END lr__C=0.1, lr__max_iter=500, lr__penalty=l2, lr__solver=newton-cg;, score=(train=0.888, test=0.883) total time=   2.1s\n",
            "[CV 10/10] END lr__C=0.1, lr__max_iter=500, lr__penalty=l2, lr__solver=newton-cg;, score=(train=0.883, test=0.884) total time=   2.2s\n",
            "[CV 1/10] END lr__C=0.1, lr__max_iter=500, lr__penalty=l2, lr__solver=lbfgs;, score=(train=0.886, test=0.885) total time=   0.7s\n",
            "[CV 2/10] END lr__C=0.1, lr__max_iter=500, lr__penalty=l2, lr__solver=lbfgs;, score=(train=0.885, test=0.877) total time=   0.8s\n",
            "[CV 3/10] END lr__C=0.1, lr__max_iter=500, lr__penalty=l2, lr__solver=lbfgs;, score=(train=0.886, test=0.885) total time=   0.8s\n",
            "[CV 4/10] END lr__C=0.1, lr__max_iter=500, lr__penalty=l2, lr__solver=lbfgs;, score=(train=0.886, test=0.888) total time=   0.7s\n",
            "[CV 5/10] END lr__C=0.1, lr__max_iter=500, lr__penalty=l2, lr__solver=lbfgs;, score=(train=0.885, test=0.886) total time=   0.8s\n",
            "[CV 6/10] END lr__C=0.1, lr__max_iter=500, lr__penalty=l2, lr__solver=lbfgs;, score=(train=0.887, test=0.886) total time=   0.7s\n",
            "[CV 7/10] END lr__C=0.1, lr__max_iter=500, lr__penalty=l2, lr__solver=lbfgs;, score=(train=0.884, test=0.883) total time=   0.8s\n",
            "[CV 8/10] END lr__C=0.1, lr__max_iter=500, lr__penalty=l2, lr__solver=lbfgs;, score=(train=0.887, test=0.885) total time=   0.7s\n",
            "[CV 9/10] END lr__C=0.1, lr__max_iter=500, lr__penalty=l2, lr__solver=lbfgs;, score=(train=0.888, test=0.883) total time=   0.7s\n",
            "[CV 10/10] END lr__C=0.1, lr__max_iter=500, lr__penalty=l2, lr__solver=lbfgs;, score=(train=0.883, test=0.884) total time=   0.8s\n",
            "[CV 1/10] END lr__C=0.1, lr__max_iter=500, lr__penalty=l2, lr__solver=liblinear;, score=(train=0.886, test=0.884) total time=   0.2s\n",
            "[CV 2/10] END lr__C=0.1, lr__max_iter=500, lr__penalty=l2, lr__solver=liblinear;, score=(train=0.885, test=0.877) total time=   0.3s\n",
            "[CV 3/10] END lr__C=0.1, lr__max_iter=500, lr__penalty=l2, lr__solver=liblinear;, score=(train=0.886, test=0.885) total time=   0.3s\n",
            "[CV 4/10] END lr__C=0.1, lr__max_iter=500, lr__penalty=l2, lr__solver=liblinear;, score=(train=0.886, test=0.888) total time=   0.3s\n",
            "[CV 5/10] END lr__C=0.1, lr__max_iter=500, lr__penalty=l2, lr__solver=liblinear;, score=(train=0.885, test=0.886) total time=   0.3s\n",
            "[CV 6/10] END lr__C=0.1, lr__max_iter=500, lr__penalty=l2, lr__solver=liblinear;, score=(train=0.887, test=0.885) total time=   0.3s\n",
            "[CV 7/10] END lr__C=0.1, lr__max_iter=500, lr__penalty=l2, lr__solver=liblinear;, score=(train=0.884, test=0.884) total time=   0.2s\n",
            "[CV 8/10] END lr__C=0.1, lr__max_iter=500, lr__penalty=l2, lr__solver=liblinear;, score=(train=0.888, test=0.885) total time=   0.3s\n",
            "[CV 9/10] END lr__C=0.1, lr__max_iter=500, lr__penalty=l2, lr__solver=liblinear;, score=(train=0.888, test=0.883) total time=   0.2s\n",
            "[CV 10/10] END lr__C=0.1, lr__max_iter=500, lr__penalty=l2, lr__solver=liblinear;, score=(train=0.884, test=0.884) total time=   0.2s\n",
            "[CV 1/10] END lr__C=0.1, lr__max_iter=500, lr__penalty=l2, lr__solver=sag;, score=(train=0.886, test=0.885) total time=   0.6s\n",
            "[CV 2/10] END lr__C=0.1, lr__max_iter=500, lr__penalty=l2, lr__solver=sag;, score=(train=0.885, test=0.877) total time=   0.6s\n",
            "[CV 3/10] END lr__C=0.1, lr__max_iter=500, lr__penalty=l2, lr__solver=sag;, score=(train=0.886, test=0.885) total time=   0.6s\n",
            "[CV 4/10] END lr__C=0.1, lr__max_iter=500, lr__penalty=l2, lr__solver=sag;, score=(train=0.886, test=0.888) total time=   0.7s\n",
            "[CV 5/10] END lr__C=0.1, lr__max_iter=500, lr__penalty=l2, lr__solver=sag;, score=(train=0.885, test=0.886) total time=   0.6s\n",
            "[CV 6/10] END lr__C=0.1, lr__max_iter=500, lr__penalty=l2, lr__solver=sag;, score=(train=0.887, test=0.886) total time=   0.7s\n",
            "[CV 7/10] END lr__C=0.1, lr__max_iter=500, lr__penalty=l2, lr__solver=sag;, score=(train=0.884, test=0.883) total time=   0.6s\n",
            "[CV 8/10] END lr__C=0.1, lr__max_iter=500, lr__penalty=l2, lr__solver=sag;, score=(train=0.887, test=0.885) total time=   0.6s\n",
            "[CV 9/10] END lr__C=0.1, lr__max_iter=500, lr__penalty=l2, lr__solver=sag;, score=(train=0.888, test=0.883) total time=   0.6s\n",
            "[CV 10/10] END lr__C=0.1, lr__max_iter=500, lr__penalty=l2, lr__solver=sag;, score=(train=0.883, test=0.884) total time=   0.6s\n",
            "[CV 1/10] END lr__C=0.1, lr__max_iter=500, lr__penalty=l2, lr__solver=saga;, score=(train=0.886, test=0.885) total time=   0.7s\n",
            "[CV 2/10] END lr__C=0.1, lr__max_iter=500, lr__penalty=l2, lr__solver=saga;, score=(train=0.885, test=0.877) total time=   0.7s\n",
            "[CV 3/10] END lr__C=0.1, lr__max_iter=500, lr__penalty=l2, lr__solver=saga;, score=(train=0.886, test=0.885) total time=   0.7s\n",
            "[CV 4/10] END lr__C=0.1, lr__max_iter=500, lr__penalty=l2, lr__solver=saga;, score=(train=0.886, test=0.888) total time=   0.7s\n",
            "[CV 5/10] END lr__C=0.1, lr__max_iter=500, lr__penalty=l2, lr__solver=saga;, score=(train=0.885, test=0.886) total time=   0.7s\n",
            "[CV 6/10] END lr__C=0.1, lr__max_iter=500, lr__penalty=l2, lr__solver=saga;, score=(train=0.887, test=0.886) total time=   0.7s\n",
            "[CV 7/10] END lr__C=0.1, lr__max_iter=500, lr__penalty=l2, lr__solver=saga;, score=(train=0.884, test=0.883) total time=   0.7s\n",
            "[CV 8/10] END lr__C=0.1, lr__max_iter=500, lr__penalty=l2, lr__solver=saga;, score=(train=0.887, test=0.885) total time=   0.7s\n",
            "[CV 9/10] END lr__C=0.1, lr__max_iter=500, lr__penalty=l2, lr__solver=saga;, score=(train=0.888, test=0.883) total time=   0.7s\n",
            "[CV 10/10] END lr__C=0.1, lr__max_iter=500, lr__penalty=l2, lr__solver=saga;, score=(train=0.883, test=0.884) total time=   0.7s\n",
            "[CV 1/10] END lr__C=0.1, lr__max_iter=1000, lr__penalty=l2, lr__solver=newton-cg;, score=(train=0.886, test=0.885) total time=   1.3s\n",
            "[CV 2/10] END lr__C=0.1, lr__max_iter=1000, lr__penalty=l2, lr__solver=newton-cg;, score=(train=0.885, test=0.877) total time=   1.3s\n",
            "[CV 3/10] END lr__C=0.1, lr__max_iter=1000, lr__penalty=l2, lr__solver=newton-cg;, score=(train=0.886, test=0.885) total time=   1.3s\n",
            "[CV 4/10] END lr__C=0.1, lr__max_iter=1000, lr__penalty=l2, lr__solver=newton-cg;, score=(train=0.886, test=0.888) total time=   1.2s\n",
            "[CV 5/10] END lr__C=0.1, lr__max_iter=1000, lr__penalty=l2, lr__solver=newton-cg;, score=(train=0.885, test=0.886) total time=   1.3s\n",
            "[CV 6/10] END lr__C=0.1, lr__max_iter=1000, lr__penalty=l2, lr__solver=newton-cg;, score=(train=0.887, test=0.886) total time=   1.3s\n",
            "[CV 7/10] END lr__C=0.1, lr__max_iter=1000, lr__penalty=l2, lr__solver=newton-cg;, score=(train=0.884, test=0.883) total time=   1.2s\n",
            "[CV 8/10] END lr__C=0.1, lr__max_iter=1000, lr__penalty=l2, lr__solver=newton-cg;, score=(train=0.887, test=0.885) total time=   1.2s\n",
            "[CV 9/10] END lr__C=0.1, lr__max_iter=1000, lr__penalty=l2, lr__solver=newton-cg;, score=(train=0.888, test=0.883) total time=   1.2s\n",
            "[CV 10/10] END lr__C=0.1, lr__max_iter=1000, lr__penalty=l2, lr__solver=newton-cg;, score=(train=0.883, test=0.884) total time=   1.3s\n",
            "[CV 1/10] END lr__C=0.1, lr__max_iter=1000, lr__penalty=l2, lr__solver=lbfgs;, score=(train=0.886, test=0.885) total time=   0.8s\n",
            "[CV 2/10] END lr__C=0.1, lr__max_iter=1000, lr__penalty=l2, lr__solver=lbfgs;, score=(train=0.885, test=0.877) total time=   0.8s\n",
            "[CV 3/10] END lr__C=0.1, lr__max_iter=1000, lr__penalty=l2, lr__solver=lbfgs;, score=(train=0.886, test=0.885) total time=   0.9s\n",
            "[CV 4/10] END lr__C=0.1, lr__max_iter=1000, lr__penalty=l2, lr__solver=lbfgs;, score=(train=0.886, test=0.888) total time=   0.8s\n",
            "[CV 5/10] END lr__C=0.1, lr__max_iter=1000, lr__penalty=l2, lr__solver=lbfgs;, score=(train=0.885, test=0.886) total time=   0.9s\n",
            "[CV 6/10] END lr__C=0.1, lr__max_iter=1000, lr__penalty=l2, lr__solver=lbfgs;, score=(train=0.887, test=0.886) total time=   0.7s\n",
            "[CV 7/10] END lr__C=0.1, lr__max_iter=1000, lr__penalty=l2, lr__solver=lbfgs;, score=(train=0.884, test=0.883) total time=   0.8s\n",
            "[CV 8/10] END lr__C=0.1, lr__max_iter=1000, lr__penalty=l2, lr__solver=lbfgs;, score=(train=0.887, test=0.885) total time=   0.8s\n",
            "[CV 9/10] END lr__C=0.1, lr__max_iter=1000, lr__penalty=l2, lr__solver=lbfgs;, score=(train=0.888, test=0.883) total time=   0.8s\n",
            "[CV 10/10] END lr__C=0.1, lr__max_iter=1000, lr__penalty=l2, lr__solver=lbfgs;, score=(train=0.883, test=0.884) total time=   0.8s\n",
            "[CV 1/10] END lr__C=0.1, lr__max_iter=1000, lr__penalty=l2, lr__solver=liblinear;, score=(train=0.886, test=0.884) total time=   0.2s\n",
            "[CV 2/10] END lr__C=0.1, lr__max_iter=1000, lr__penalty=l2, lr__solver=liblinear;, score=(train=0.885, test=0.877) total time=   0.3s\n",
            "[CV 3/10] END lr__C=0.1, lr__max_iter=1000, lr__penalty=l2, lr__solver=liblinear;, score=(train=0.886, test=0.885) total time=   0.3s\n",
            "[CV 4/10] END lr__C=0.1, lr__max_iter=1000, lr__penalty=l2, lr__solver=liblinear;, score=(train=0.886, test=0.888) total time=   0.3s\n",
            "[CV 5/10] END lr__C=0.1, lr__max_iter=1000, lr__penalty=l2, lr__solver=liblinear;, score=(train=0.885, test=0.886) total time=   0.3s\n",
            "[CV 6/10] END lr__C=0.1, lr__max_iter=1000, lr__penalty=l2, lr__solver=liblinear;, score=(train=0.887, test=0.885) total time=   0.3s\n",
            "[CV 7/10] END lr__C=0.1, lr__max_iter=1000, lr__penalty=l2, lr__solver=liblinear;, score=(train=0.884, test=0.884) total time=   0.2s\n",
            "[CV 8/10] END lr__C=0.1, lr__max_iter=1000, lr__penalty=l2, lr__solver=liblinear;, score=(train=0.888, test=0.885) total time=   0.3s\n",
            "[CV 9/10] END lr__C=0.1, lr__max_iter=1000, lr__penalty=l2, lr__solver=liblinear;, score=(train=0.888, test=0.883) total time=   0.2s\n",
            "[CV 10/10] END lr__C=0.1, lr__max_iter=1000, lr__penalty=l2, lr__solver=liblinear;, score=(train=0.884, test=0.884) total time=   0.3s\n",
            "[CV 1/10] END lr__C=0.1, lr__max_iter=1000, lr__penalty=l2, lr__solver=sag;, score=(train=0.886, test=0.885) total time=   0.6s\n",
            "[CV 2/10] END lr__C=0.1, lr__max_iter=1000, lr__penalty=l2, lr__solver=sag;, score=(train=0.885, test=0.877) total time=   0.6s\n",
            "[CV 3/10] END lr__C=0.1, lr__max_iter=1000, lr__penalty=l2, lr__solver=sag;, score=(train=0.886, test=0.885) total time=   0.6s\n",
            "[CV 4/10] END lr__C=0.1, lr__max_iter=1000, lr__penalty=l2, lr__solver=sag;, score=(train=0.886, test=0.888) total time=   0.6s\n",
            "[CV 5/10] END lr__C=0.1, lr__max_iter=1000, lr__penalty=l2, lr__solver=sag;, score=(train=0.885, test=0.886) total time=   0.7s\n",
            "[CV 6/10] END lr__C=0.1, lr__max_iter=1000, lr__penalty=l2, lr__solver=sag;, score=(train=0.887, test=0.886) total time=   0.6s\n",
            "[CV 7/10] END lr__C=0.1, lr__max_iter=1000, lr__penalty=l2, lr__solver=sag;, score=(train=0.884, test=0.883) total time=   0.7s\n",
            "[CV 8/10] END lr__C=0.1, lr__max_iter=1000, lr__penalty=l2, lr__solver=sag;, score=(train=0.887, test=0.885) total time=   0.6s\n",
            "[CV 9/10] END lr__C=0.1, lr__max_iter=1000, lr__penalty=l2, lr__solver=sag;, score=(train=0.888, test=0.883) total time=   0.6s\n",
            "[CV 10/10] END lr__C=0.1, lr__max_iter=1000, lr__penalty=l2, lr__solver=sag;, score=(train=0.883, test=0.884) total time=   0.6s\n",
            "[CV 1/10] END lr__C=0.1, lr__max_iter=1000, lr__penalty=l2, lr__solver=saga;, score=(train=0.886, test=0.885) total time=   0.7s\n",
            "[CV 2/10] END lr__C=0.1, lr__max_iter=1000, lr__penalty=l2, lr__solver=saga;, score=(train=0.885, test=0.877) total time=   0.7s\n",
            "[CV 3/10] END lr__C=0.1, lr__max_iter=1000, lr__penalty=l2, lr__solver=saga;, score=(train=0.886, test=0.885) total time=   0.7s\n",
            "[CV 4/10] END lr__C=0.1, lr__max_iter=1000, lr__penalty=l2, lr__solver=saga;, score=(train=0.886, test=0.888) total time=   0.7s\n",
            "[CV 5/10] END lr__C=0.1, lr__max_iter=1000, lr__penalty=l2, lr__solver=saga;, score=(train=0.885, test=0.886) total time=   0.7s\n",
            "[CV 6/10] END lr__C=0.1, lr__max_iter=1000, lr__penalty=l2, lr__solver=saga;, score=(train=0.887, test=0.886) total time=   0.7s\n",
            "[CV 7/10] END lr__C=0.1, lr__max_iter=1000, lr__penalty=l2, lr__solver=saga;, score=(train=0.884, test=0.883) total time=   0.7s\n",
            "[CV 8/10] END lr__C=0.1, lr__max_iter=1000, lr__penalty=l2, lr__solver=saga;, score=(train=0.887, test=0.885) total time=   0.7s\n",
            "[CV 9/10] END lr__C=0.1, lr__max_iter=1000, lr__penalty=l2, lr__solver=saga;, score=(train=0.888, test=0.883) total time=   0.7s\n",
            "[CV 10/10] END lr__C=0.1, lr__max_iter=1000, lr__penalty=l2, lr__solver=saga;, score=(train=0.883, test=0.884) total time=   0.7s\n",
            "[CV 1/10] END lr__C=1, lr__max_iter=100, lr__penalty=l2, lr__solver=newton-cg;, score=(train=0.900, test=0.899) total time=   1.9s\n",
            "[CV 2/10] END lr__C=1, lr__max_iter=100, lr__penalty=l2, lr__solver=newton-cg;, score=(train=0.898, test=0.894) total time=   2.0s\n",
            "[CV 3/10] END lr__C=1, lr__max_iter=100, lr__penalty=l2, lr__solver=newton-cg;, score=(train=0.900, test=0.900) total time=   1.8s\n",
            "[CV 4/10] END lr__C=1, lr__max_iter=100, lr__penalty=l2, lr__solver=newton-cg;, score=(train=0.900, test=0.903) total time=   1.7s\n",
            "[CV 5/10] END lr__C=1, lr__max_iter=100, lr__penalty=l2, lr__solver=newton-cg;, score=(train=0.901, test=0.902) total time=   1.9s\n",
            "[CV 6/10] END lr__C=1, lr__max_iter=100, lr__penalty=l2, lr__solver=newton-cg;, score=(train=0.901, test=0.900) total time=   2.0s\n",
            "[CV 7/10] END lr__C=1, lr__max_iter=100, lr__penalty=l2, lr__solver=newton-cg;, score=(train=0.899, test=0.897) total time=   2.1s\n",
            "[CV 8/10] END lr__C=1, lr__max_iter=100, lr__penalty=l2, lr__solver=newton-cg;, score=(train=0.902, test=0.900) total time=   2.0s\n",
            "[CV 9/10] END lr__C=1, lr__max_iter=100, lr__penalty=l2, lr__solver=newton-cg;, score=(train=0.902, test=0.899) total time=   1.9s\n",
            "[CV 10/10] END lr__C=1, lr__max_iter=100, lr__penalty=l2, lr__solver=newton-cg;, score=(train=0.900, test=0.897) total time=   1.9s\n"
          ]
        },
        {
          "metadata": {
            "tags": null
          },
          "name": "stderr",
          "output_type": "stream",
          "text": [
            "/usr/local/lib/python3.7/dist-packages/sklearn/linear_model/_logistic.py:818: ConvergenceWarning: lbfgs failed to converge (status=1):\n",
            "STOP: TOTAL NO. of ITERATIONS REACHED LIMIT.\n",
            "\n",
            "Increase the number of iterations (max_iter) or scale the data as shown in:\n",
            "    https://scikit-learn.org/stable/modules/preprocessing.html\n",
            "Please also refer to the documentation for alternative solver options:\n",
            "    https://scikit-learn.org/stable/modules/linear_model.html#logistic-regression\n",
            "  extra_warning_msg=_LOGISTIC_SOLVER_CONVERGENCE_MSG,\n"
          ]
        },
        {
          "metadata": {
            "tags": null
          },
          "name": "stdout",
          "output_type": "stream",
          "text": [
            "[CV 1/10] END lr__C=1, lr__max_iter=100, lr__penalty=l2, lr__solver=lbfgs;, score=(train=0.900, test=0.899) total time=   1.0s\n"
          ]
        },
        {
          "metadata": {
            "tags": null
          },
          "name": "stderr",
          "output_type": "stream",
          "text": [
            "/usr/local/lib/python3.7/dist-packages/sklearn/linear_model/_logistic.py:818: ConvergenceWarning: lbfgs failed to converge (status=1):\n",
            "STOP: TOTAL NO. of ITERATIONS REACHED LIMIT.\n",
            "\n",
            "Increase the number of iterations (max_iter) or scale the data as shown in:\n",
            "    https://scikit-learn.org/stable/modules/preprocessing.html\n",
            "Please also refer to the documentation for alternative solver options:\n",
            "    https://scikit-learn.org/stable/modules/linear_model.html#logistic-regression\n",
            "  extra_warning_msg=_LOGISTIC_SOLVER_CONVERGENCE_MSG,\n"
          ]
        },
        {
          "metadata": {
            "tags": null
          },
          "name": "stdout",
          "output_type": "stream",
          "text": [
            "[CV 2/10] END lr__C=1, lr__max_iter=100, lr__penalty=l2, lr__solver=lbfgs;, score=(train=0.898, test=0.894) total time=   1.0s\n"
          ]
        },
        {
          "metadata": {
            "tags": null
          },
          "name": "stderr",
          "output_type": "stream",
          "text": [
            "/usr/local/lib/python3.7/dist-packages/sklearn/linear_model/_logistic.py:818: ConvergenceWarning: lbfgs failed to converge (status=1):\n",
            "STOP: TOTAL NO. of ITERATIONS REACHED LIMIT.\n",
            "\n",
            "Increase the number of iterations (max_iter) or scale the data as shown in:\n",
            "    https://scikit-learn.org/stable/modules/preprocessing.html\n",
            "Please also refer to the documentation for alternative solver options:\n",
            "    https://scikit-learn.org/stable/modules/linear_model.html#logistic-regression\n",
            "  extra_warning_msg=_LOGISTIC_SOLVER_CONVERGENCE_MSG,\n"
          ]
        },
        {
          "metadata": {
            "tags": null
          },
          "name": "stdout",
          "output_type": "stream",
          "text": [
            "[CV 3/10] END lr__C=1, lr__max_iter=100, lr__penalty=l2, lr__solver=lbfgs;, score=(train=0.900, test=0.901) total time=   1.0s\n"
          ]
        },
        {
          "metadata": {
            "tags": null
          },
          "name": "stderr",
          "output_type": "stream",
          "text": [
            "/usr/local/lib/python3.7/dist-packages/sklearn/linear_model/_logistic.py:818: ConvergenceWarning: lbfgs failed to converge (status=1):\n",
            "STOP: TOTAL NO. of ITERATIONS REACHED LIMIT.\n",
            "\n",
            "Increase the number of iterations (max_iter) or scale the data as shown in:\n",
            "    https://scikit-learn.org/stable/modules/preprocessing.html\n",
            "Please also refer to the documentation for alternative solver options:\n",
            "    https://scikit-learn.org/stable/modules/linear_model.html#logistic-regression\n",
            "  extra_warning_msg=_LOGISTIC_SOLVER_CONVERGENCE_MSG,\n"
          ]
        },
        {
          "metadata": {
            "tags": null
          },
          "name": "stdout",
          "output_type": "stream",
          "text": [
            "[CV 4/10] END lr__C=1, lr__max_iter=100, lr__penalty=l2, lr__solver=lbfgs;, score=(train=0.900, test=0.903) total time=   1.0s\n"
          ]
        },
        {
          "metadata": {
            "tags": null
          },
          "name": "stderr",
          "output_type": "stream",
          "text": [
            "/usr/local/lib/python3.7/dist-packages/sklearn/linear_model/_logistic.py:818: ConvergenceWarning: lbfgs failed to converge (status=1):\n",
            "STOP: TOTAL NO. of ITERATIONS REACHED LIMIT.\n",
            "\n",
            "Increase the number of iterations (max_iter) or scale the data as shown in:\n",
            "    https://scikit-learn.org/stable/modules/preprocessing.html\n",
            "Please also refer to the documentation for alternative solver options:\n",
            "    https://scikit-learn.org/stable/modules/linear_model.html#logistic-regression\n",
            "  extra_warning_msg=_LOGISTIC_SOLVER_CONVERGENCE_MSG,\n"
          ]
        },
        {
          "metadata": {
            "tags": null
          },
          "name": "stdout",
          "output_type": "stream",
          "text": [
            "[CV 5/10] END lr__C=1, lr__max_iter=100, lr__penalty=l2, lr__solver=lbfgs;, score=(train=0.901, test=0.902) total time=   1.0s\n"
          ]
        },
        {
          "metadata": {
            "tags": null
          },
          "name": "stderr",
          "output_type": "stream",
          "text": [
            "/usr/local/lib/python3.7/dist-packages/sklearn/linear_model/_logistic.py:818: ConvergenceWarning: lbfgs failed to converge (status=1):\n",
            "STOP: TOTAL NO. of ITERATIONS REACHED LIMIT.\n",
            "\n",
            "Increase the number of iterations (max_iter) or scale the data as shown in:\n",
            "    https://scikit-learn.org/stable/modules/preprocessing.html\n",
            "Please also refer to the documentation for alternative solver options:\n",
            "    https://scikit-learn.org/stable/modules/linear_model.html#logistic-regression\n",
            "  extra_warning_msg=_LOGISTIC_SOLVER_CONVERGENCE_MSG,\n"
          ]
        },
        {
          "metadata": {
            "tags": null
          },
          "name": "stdout",
          "output_type": "stream",
          "text": [
            "[CV 6/10] END lr__C=1, lr__max_iter=100, lr__penalty=l2, lr__solver=lbfgs;, score=(train=0.901, test=0.900) total time=   1.0s\n"
          ]
        },
        {
          "metadata": {
            "tags": null
          },
          "name": "stderr",
          "output_type": "stream",
          "text": [
            "/usr/local/lib/python3.7/dist-packages/sklearn/linear_model/_logistic.py:818: ConvergenceWarning: lbfgs failed to converge (status=1):\n",
            "STOP: TOTAL NO. of ITERATIONS REACHED LIMIT.\n",
            "\n",
            "Increase the number of iterations (max_iter) or scale the data as shown in:\n",
            "    https://scikit-learn.org/stable/modules/preprocessing.html\n",
            "Please also refer to the documentation for alternative solver options:\n",
            "    https://scikit-learn.org/stable/modules/linear_model.html#logistic-regression\n",
            "  extra_warning_msg=_LOGISTIC_SOLVER_CONVERGENCE_MSG,\n"
          ]
        },
        {
          "metadata": {
            "tags": null
          },
          "name": "stdout",
          "output_type": "stream",
          "text": [
            "[CV 7/10] END lr__C=1, lr__max_iter=100, lr__penalty=l2, lr__solver=lbfgs;, score=(train=0.899, test=0.897) total time=   0.9s\n"
          ]
        },
        {
          "metadata": {
            "tags": null
          },
          "name": "stderr",
          "output_type": "stream",
          "text": [
            "/usr/local/lib/python3.7/dist-packages/sklearn/linear_model/_logistic.py:818: ConvergenceWarning: lbfgs failed to converge (status=1):\n",
            "STOP: TOTAL NO. of ITERATIONS REACHED LIMIT.\n",
            "\n",
            "Increase the number of iterations (max_iter) or scale the data as shown in:\n",
            "    https://scikit-learn.org/stable/modules/preprocessing.html\n",
            "Please also refer to the documentation for alternative solver options:\n",
            "    https://scikit-learn.org/stable/modules/linear_model.html#logistic-regression\n",
            "  extra_warning_msg=_LOGISTIC_SOLVER_CONVERGENCE_MSG,\n"
          ]
        },
        {
          "metadata": {
            "tags": null
          },
          "name": "stdout",
          "output_type": "stream",
          "text": [
            "[CV 8/10] END lr__C=1, lr__max_iter=100, lr__penalty=l2, lr__solver=lbfgs;, score=(train=0.902, test=0.900) total time=   0.9s\n"
          ]
        },
        {
          "metadata": {
            "tags": null
          },
          "name": "stderr",
          "output_type": "stream",
          "text": [
            "/usr/local/lib/python3.7/dist-packages/sklearn/linear_model/_logistic.py:818: ConvergenceWarning: lbfgs failed to converge (status=1):\n",
            "STOP: TOTAL NO. of ITERATIONS REACHED LIMIT.\n",
            "\n",
            "Increase the number of iterations (max_iter) or scale the data as shown in:\n",
            "    https://scikit-learn.org/stable/modules/preprocessing.html\n",
            "Please also refer to the documentation for alternative solver options:\n",
            "    https://scikit-learn.org/stable/modules/linear_model.html#logistic-regression\n",
            "  extra_warning_msg=_LOGISTIC_SOLVER_CONVERGENCE_MSG,\n"
          ]
        },
        {
          "metadata": {
            "tags": null
          },
          "name": "stdout",
          "output_type": "stream",
          "text": [
            "[CV 9/10] END lr__C=1, lr__max_iter=100, lr__penalty=l2, lr__solver=lbfgs;, score=(train=0.902, test=0.899) total time=   1.0s\n"
          ]
        },
        {
          "metadata": {
            "tags": null
          },
          "name": "stderr",
          "output_type": "stream",
          "text": [
            "/usr/local/lib/python3.7/dist-packages/sklearn/linear_model/_logistic.py:818: ConvergenceWarning: lbfgs failed to converge (status=1):\n",
            "STOP: TOTAL NO. of ITERATIONS REACHED LIMIT.\n",
            "\n",
            "Increase the number of iterations (max_iter) or scale the data as shown in:\n",
            "    https://scikit-learn.org/stable/modules/preprocessing.html\n",
            "Please also refer to the documentation for alternative solver options:\n",
            "    https://scikit-learn.org/stable/modules/linear_model.html#logistic-regression\n",
            "  extra_warning_msg=_LOGISTIC_SOLVER_CONVERGENCE_MSG,\n"
          ]
        },
        {
          "metadata": {
            "tags": null
          },
          "name": "stdout",
          "output_type": "stream",
          "text": [
            "[CV 10/10] END lr__C=1, lr__max_iter=100, lr__penalty=l2, lr__solver=lbfgs;, score=(train=0.900, test=0.897) total time=   1.0s\n",
            "[CV 1/10] END lr__C=1, lr__max_iter=100, lr__penalty=l2, lr__solver=liblinear;, score=(train=0.901, test=0.899) total time=   0.4s\n",
            "[CV 2/10] END lr__C=1, lr__max_iter=100, lr__penalty=l2, lr__solver=liblinear;, score=(train=0.898, test=0.894) total time=   0.4s\n",
            "[CV 3/10] END lr__C=1, lr__max_iter=100, lr__penalty=l2, lr__solver=liblinear;, score=(train=0.900, test=0.900) total time=   0.4s\n",
            "[CV 4/10] END lr__C=1, lr__max_iter=100, lr__penalty=l2, lr__solver=liblinear;, score=(train=0.901, test=0.903) total time=   0.4s\n",
            "[CV 5/10] END lr__C=1, lr__max_iter=100, lr__penalty=l2, lr__solver=liblinear;, score=(train=0.901, test=0.902) total time=   0.4s\n",
            "[CV 6/10] END lr__C=1, lr__max_iter=100, lr__penalty=l2, lr__solver=liblinear;, score=(train=0.901, test=0.900) total time=   0.4s\n",
            "[CV 7/10] END lr__C=1, lr__max_iter=100, lr__penalty=l2, lr__solver=liblinear;, score=(train=0.899, test=0.897) total time=   0.4s\n",
            "[CV 8/10] END lr__C=1, lr__max_iter=100, lr__penalty=l2, lr__solver=liblinear;, score=(train=0.903, test=0.900) total time=   0.4s\n",
            "[CV 9/10] END lr__C=1, lr__max_iter=100, lr__penalty=l2, lr__solver=liblinear;, score=(train=0.902, test=0.899) total time=   0.4s\n",
            "[CV 10/10] END lr__C=1, lr__max_iter=100, lr__penalty=l2, lr__solver=liblinear;, score=(train=0.900, test=0.897) total time=   0.4s\n",
            "[CV 1/10] END lr__C=1, lr__max_iter=100, lr__penalty=l2, lr__solver=sag;, score=(train=0.901, test=0.899) total time=   1.0s\n",
            "[CV 2/10] END lr__C=1, lr__max_iter=100, lr__penalty=l2, lr__solver=sag;, score=(train=0.898, test=0.894) total time=   0.9s\n",
            "[CV 3/10] END lr__C=1, lr__max_iter=100, lr__penalty=l2, lr__solver=sag;, score=(train=0.900, test=0.901) total time=   0.9s\n",
            "[CV 4/10] END lr__C=1, lr__max_iter=100, lr__penalty=l2, lr__solver=sag;, score=(train=0.900, test=0.902) total time=   1.1s\n",
            "[CV 5/10] END lr__C=1, lr__max_iter=100, lr__penalty=l2, lr__solver=sag;, score=(train=0.901, test=0.902) total time=   0.9s\n",
            "[CV 6/10] END lr__C=1, lr__max_iter=100, lr__penalty=l2, lr__solver=sag;, score=(train=0.901, test=0.900) total time=   1.0s\n",
            "[CV 7/10] END lr__C=1, lr__max_iter=100, lr__penalty=l2, lr__solver=sag;, score=(train=0.899, test=0.897) total time=   0.9s\n",
            "[CV 8/10] END lr__C=1, lr__max_iter=100, lr__penalty=l2, lr__solver=sag;, score=(train=0.902, test=0.900) total time=   0.9s\n",
            "[CV 9/10] END lr__C=1, lr__max_iter=100, lr__penalty=l2, lr__solver=sag;, score=(train=0.902, test=0.899) total time=   0.9s\n",
            "[CV 10/10] END lr__C=1, lr__max_iter=100, lr__penalty=l2, lr__solver=sag;, score=(train=0.900, test=0.897) total time=   1.0s\n",
            "[CV 1/10] END lr__C=1, lr__max_iter=100, lr__penalty=l2, lr__solver=saga;, score=(train=0.900, test=0.899) total time=   1.3s\n",
            "[CV 2/10] END lr__C=1, lr__max_iter=100, lr__penalty=l2, lr__solver=saga;, score=(train=0.898, test=0.894) total time=   1.4s\n",
            "[CV 3/10] END lr__C=1, lr__max_iter=100, lr__penalty=l2, lr__solver=saga;, score=(train=0.900, test=0.901) total time=   1.5s\n",
            "[CV 4/10] END lr__C=1, lr__max_iter=100, lr__penalty=l2, lr__solver=saga;, score=(train=0.900, test=0.903) total time=   1.5s\n",
            "[CV 5/10] END lr__C=1, lr__max_iter=100, lr__penalty=l2, lr__solver=saga;, score=(train=0.901, test=0.902) total time=   1.1s\n",
            "[CV 6/10] END lr__C=1, lr__max_iter=100, lr__penalty=l2, lr__solver=saga;, score=(train=0.901, test=0.900) total time=   1.2s\n",
            "[CV 7/10] END lr__C=1, lr__max_iter=100, lr__penalty=l2, lr__solver=saga;, score=(train=0.899, test=0.897) total time=   1.4s\n",
            "[CV 8/10] END lr__C=1, lr__max_iter=100, lr__penalty=l2, lr__solver=saga;, score=(train=0.902, test=0.900) total time=   1.2s\n",
            "[CV 9/10] END lr__C=1, lr__max_iter=100, lr__penalty=l2, lr__solver=saga;, score=(train=0.902, test=0.899) total time=   1.2s\n",
            "[CV 10/10] END lr__C=1, lr__max_iter=100, lr__penalty=l2, lr__solver=saga;, score=(train=0.900, test=0.897) total time=   1.1s\n",
            "[CV 1/10] END lr__C=1, lr__max_iter=500, lr__penalty=l2, lr__solver=newton-cg;, score=(train=0.900, test=0.899) total time=   2.0s\n",
            "[CV 2/10] END lr__C=1, lr__max_iter=500, lr__penalty=l2, lr__solver=newton-cg;, score=(train=0.898, test=0.894) total time=   2.2s\n",
            "[CV 3/10] END lr__C=1, lr__max_iter=500, lr__penalty=l2, lr__solver=newton-cg;, score=(train=0.900, test=0.900) total time=   1.9s\n",
            "[CV 4/10] END lr__C=1, lr__max_iter=500, lr__penalty=l2, lr__solver=newton-cg;, score=(train=0.900, test=0.903) total time=   1.7s\n",
            "[CV 5/10] END lr__C=1, lr__max_iter=500, lr__penalty=l2, lr__solver=newton-cg;, score=(train=0.901, test=0.902) total time=   2.0s\n",
            "[CV 6/10] END lr__C=1, lr__max_iter=500, lr__penalty=l2, lr__solver=newton-cg;, score=(train=0.901, test=0.900) total time=   2.0s\n",
            "[CV 7/10] END lr__C=1, lr__max_iter=500, lr__penalty=l2, lr__solver=newton-cg;, score=(train=0.899, test=0.897) total time=   2.1s\n",
            "[CV 8/10] END lr__C=1, lr__max_iter=500, lr__penalty=l2, lr__solver=newton-cg;, score=(train=0.902, test=0.900) total time=   2.0s\n",
            "[CV 9/10] END lr__C=1, lr__max_iter=500, lr__penalty=l2, lr__solver=newton-cg;, score=(train=0.902, test=0.899) total time=   1.9s\n",
            "[CV 10/10] END lr__C=1, lr__max_iter=500, lr__penalty=l2, lr__solver=newton-cg;, score=(train=0.900, test=0.897) total time=   2.4s\n",
            "[CV 1/10] END lr__C=1, lr__max_iter=500, lr__penalty=l2, lr__solver=lbfgs;, score=(train=0.900, test=0.899) total time=   3.3s\n",
            "[CV 2/10] END lr__C=1, lr__max_iter=500, lr__penalty=l2, lr__solver=lbfgs;, score=(train=0.898, test=0.894) total time=   1.9s\n",
            "[CV 3/10] END lr__C=1, lr__max_iter=500, lr__penalty=l2, lr__solver=lbfgs;, score=(train=0.900, test=0.901) total time=   1.8s\n",
            "[CV 4/10] END lr__C=1, lr__max_iter=500, lr__penalty=l2, lr__solver=lbfgs;, score=(train=0.900, test=0.903) total time=   1.6s\n",
            "[CV 5/10] END lr__C=1, lr__max_iter=500, lr__penalty=l2, lr__solver=lbfgs;, score=(train=0.901, test=0.902) total time=   1.7s\n",
            "[CV 6/10] END lr__C=1, lr__max_iter=500, lr__penalty=l2, lr__solver=lbfgs;, score=(train=0.901, test=0.900) total time=   1.5s\n",
            "[CV 7/10] END lr__C=1, lr__max_iter=500, lr__penalty=l2, lr__solver=lbfgs;, score=(train=0.899, test=0.897) total time=   1.6s\n",
            "[CV 8/10] END lr__C=1, lr__max_iter=500, lr__penalty=l2, lr__solver=lbfgs;, score=(train=0.902, test=0.900) total time=   1.7s\n",
            "[CV 9/10] END lr__C=1, lr__max_iter=500, lr__penalty=l2, lr__solver=lbfgs;, score=(train=0.902, test=0.899) total time=   1.7s\n",
            "[CV 10/10] END lr__C=1, lr__max_iter=500, lr__penalty=l2, lr__solver=lbfgs;, score=(train=0.900, test=0.897) total time=   1.5s\n",
            "[CV 1/10] END lr__C=1, lr__max_iter=500, lr__penalty=l2, lr__solver=liblinear;, score=(train=0.901, test=0.899) total time=   0.4s\n",
            "[CV 2/10] END lr__C=1, lr__max_iter=500, lr__penalty=l2, lr__solver=liblinear;, score=(train=0.898, test=0.894) total time=   0.4s\n",
            "[CV 3/10] END lr__C=1, lr__max_iter=500, lr__penalty=l2, lr__solver=liblinear;, score=(train=0.900, test=0.900) total time=   0.4s\n",
            "[CV 4/10] END lr__C=1, lr__max_iter=500, lr__penalty=l2, lr__solver=liblinear;, score=(train=0.901, test=0.903) total time=   0.4s\n",
            "[CV 5/10] END lr__C=1, lr__max_iter=500, lr__penalty=l2, lr__solver=liblinear;, score=(train=0.901, test=0.902) total time=   0.4s\n",
            "[CV 6/10] END lr__C=1, lr__max_iter=500, lr__penalty=l2, lr__solver=liblinear;, score=(train=0.901, test=0.900) total time=   0.4s\n",
            "[CV 7/10] END lr__C=1, lr__max_iter=500, lr__penalty=l2, lr__solver=liblinear;, score=(train=0.899, test=0.897) total time=   0.4s\n",
            "[CV 8/10] END lr__C=1, lr__max_iter=500, lr__penalty=l2, lr__solver=liblinear;, score=(train=0.903, test=0.900) total time=   0.4s\n",
            "[CV 9/10] END lr__C=1, lr__max_iter=500, lr__penalty=l2, lr__solver=liblinear;, score=(train=0.902, test=0.899) total time=   0.4s\n",
            "[CV 10/10] END lr__C=1, lr__max_iter=500, lr__penalty=l2, lr__solver=liblinear;, score=(train=0.900, test=0.897) total time=   0.4s\n",
            "[CV 1/10] END lr__C=1, lr__max_iter=500, lr__penalty=l2, lr__solver=sag;, score=(train=0.901, test=0.899) total time=   1.0s\n",
            "[CV 2/10] END lr__C=1, lr__max_iter=500, lr__penalty=l2, lr__solver=sag;, score=(train=0.898, test=0.894) total time=   0.9s\n",
            "[CV 3/10] END lr__C=1, lr__max_iter=500, lr__penalty=l2, lr__solver=sag;, score=(train=0.900, test=0.900) total time=   1.0s\n",
            "[CV 4/10] END lr__C=1, lr__max_iter=500, lr__penalty=l2, lr__solver=sag;, score=(train=0.900, test=0.903) total time=   1.0s\n",
            "[CV 5/10] END lr__C=1, lr__max_iter=500, lr__penalty=l2, lr__solver=sag;, score=(train=0.901, test=0.902) total time=   0.9s\n",
            "[CV 6/10] END lr__C=1, lr__max_iter=500, lr__penalty=l2, lr__solver=sag;, score=(train=0.901, test=0.900) total time=   0.9s\n",
            "[CV 7/10] END lr__C=1, lr__max_iter=500, lr__penalty=l2, lr__solver=sag;, score=(train=0.899, test=0.897) total time=   0.9s\n",
            "[CV 8/10] END lr__C=1, lr__max_iter=500, lr__penalty=l2, lr__solver=sag;, score=(train=0.902, test=0.900) total time=   0.9s\n",
            "[CV 9/10] END lr__C=1, lr__max_iter=500, lr__penalty=l2, lr__solver=sag;, score=(train=0.902, test=0.899) total time=   1.1s\n",
            "[CV 10/10] END lr__C=1, lr__max_iter=500, lr__penalty=l2, lr__solver=sag;, score=(train=0.900, test=0.897) total time=   1.0s\n",
            "[CV 1/10] END lr__C=1, lr__max_iter=500, lr__penalty=l2, lr__solver=saga;, score=(train=0.900, test=0.899) total time=   1.2s\n",
            "[CV 2/10] END lr__C=1, lr__max_iter=500, lr__penalty=l2, lr__solver=saga;, score=(train=0.898, test=0.894) total time=   1.4s\n",
            "[CV 3/10] END lr__C=1, lr__max_iter=500, lr__penalty=l2, lr__solver=saga;, score=(train=0.900, test=0.901) total time=   1.5s\n",
            "[CV 4/10] END lr__C=1, lr__max_iter=500, lr__penalty=l2, lr__solver=saga;, score=(train=0.900, test=0.903) total time=   1.6s\n",
            "[CV 5/10] END lr__C=1, lr__max_iter=500, lr__penalty=l2, lr__solver=saga;, score=(train=0.901, test=0.902) total time=   1.3s\n",
            "[CV 6/10] END lr__C=1, lr__max_iter=500, lr__penalty=l2, lr__solver=saga;, score=(train=0.901, test=0.900) total time=   1.6s\n",
            "[CV 7/10] END lr__C=1, lr__max_iter=500, lr__penalty=l2, lr__solver=saga;, score=(train=0.899, test=0.897) total time=   1.4s\n",
            "[CV 8/10] END lr__C=1, lr__max_iter=500, lr__penalty=l2, lr__solver=saga;, score=(train=0.902, test=0.900) total time=   1.2s\n",
            "[CV 9/10] END lr__C=1, lr__max_iter=500, lr__penalty=l2, lr__solver=saga;, score=(train=0.902, test=0.899) total time=   1.2s\n",
            "[CV 10/10] END lr__C=1, lr__max_iter=500, lr__penalty=l2, lr__solver=saga;, score=(train=0.900, test=0.897) total time=   1.0s\n",
            "[CV 1/10] END lr__C=1, lr__max_iter=1000, lr__penalty=l2, lr__solver=newton-cg;, score=(train=0.900, test=0.899) total time=   2.0s\n",
            "[CV 2/10] END lr__C=1, lr__max_iter=1000, lr__penalty=l2, lr__solver=newton-cg;, score=(train=0.898, test=0.894) total time=   2.2s\n",
            "[CV 3/10] END lr__C=1, lr__max_iter=1000, lr__penalty=l2, lr__solver=newton-cg;, score=(train=0.900, test=0.900) total time=   1.9s\n",
            "[CV 4/10] END lr__C=1, lr__max_iter=1000, lr__penalty=l2, lr__solver=newton-cg;, score=(train=0.900, test=0.903) total time=   1.7s\n",
            "[CV 5/10] END lr__C=1, lr__max_iter=1000, lr__penalty=l2, lr__solver=newton-cg;, score=(train=0.901, test=0.902) total time=   2.0s\n",
            "[CV 6/10] END lr__C=1, lr__max_iter=1000, lr__penalty=l2, lr__solver=newton-cg;, score=(train=0.901, test=0.900) total time=   2.2s\n",
            "[CV 7/10] END lr__C=1, lr__max_iter=1000, lr__penalty=l2, lr__solver=newton-cg;, score=(train=0.899, test=0.897) total time=   2.2s\n",
            "[CV 8/10] END lr__C=1, lr__max_iter=1000, lr__penalty=l2, lr__solver=newton-cg;, score=(train=0.902, test=0.900) total time=   2.1s\n",
            "[CV 9/10] END lr__C=1, lr__max_iter=1000, lr__penalty=l2, lr__solver=newton-cg;, score=(train=0.902, test=0.899) total time=   2.0s\n",
            "[CV 10/10] END lr__C=1, lr__max_iter=1000, lr__penalty=l2, lr__solver=newton-cg;, score=(train=0.900, test=0.897) total time=   1.9s\n",
            "[CV 1/10] END lr__C=1, lr__max_iter=1000, lr__penalty=l2, lr__solver=lbfgs;, score=(train=0.900, test=0.899) total time=   1.7s\n",
            "[CV 2/10] END lr__C=1, lr__max_iter=1000, lr__penalty=l2, lr__solver=lbfgs;, score=(train=0.898, test=0.894) total time=   2.0s\n",
            "[CV 3/10] END lr__C=1, lr__max_iter=1000, lr__penalty=l2, lr__solver=lbfgs;, score=(train=0.900, test=0.901) total time=   1.8s\n",
            "[CV 4/10] END lr__C=1, lr__max_iter=1000, lr__penalty=l2, lr__solver=lbfgs;, score=(train=0.900, test=0.903) total time=   1.7s\n",
            "[CV 5/10] END lr__C=1, lr__max_iter=1000, lr__penalty=l2, lr__solver=lbfgs;, score=(train=0.901, test=0.902) total time=   1.8s\n",
            "[CV 6/10] END lr__C=1, lr__max_iter=1000, lr__penalty=l2, lr__solver=lbfgs;, score=(train=0.901, test=0.900) total time=   1.7s\n",
            "[CV 7/10] END lr__C=1, lr__max_iter=1000, lr__penalty=l2, lr__solver=lbfgs;, score=(train=0.899, test=0.897) total time=   1.7s\n",
            "[CV 8/10] END lr__C=1, lr__max_iter=1000, lr__penalty=l2, lr__solver=lbfgs;, score=(train=0.902, test=0.900) total time=   1.8s\n",
            "[CV 9/10] END lr__C=1, lr__max_iter=1000, lr__penalty=l2, lr__solver=lbfgs;, score=(train=0.902, test=0.899) total time=   1.8s\n",
            "[CV 10/10] END lr__C=1, lr__max_iter=1000, lr__penalty=l2, lr__solver=lbfgs;, score=(train=0.900, test=0.897) total time=   1.6s\n",
            "[CV 1/10] END lr__C=1, lr__max_iter=1000, lr__penalty=l2, lr__solver=liblinear;, score=(train=0.901, test=0.899) total time=   0.4s\n",
            "[CV 2/10] END lr__C=1, lr__max_iter=1000, lr__penalty=l2, lr__solver=liblinear;, score=(train=0.898, test=0.894) total time=   0.4s\n",
            "[CV 3/10] END lr__C=1, lr__max_iter=1000, lr__penalty=l2, lr__solver=liblinear;, score=(train=0.900, test=0.900) total time=   0.4s\n",
            "[CV 4/10] END lr__C=1, lr__max_iter=1000, lr__penalty=l2, lr__solver=liblinear;, score=(train=0.901, test=0.903) total time=   0.4s\n",
            "[CV 5/10] END lr__C=1, lr__max_iter=1000, lr__penalty=l2, lr__solver=liblinear;, score=(train=0.901, test=0.902) total time=   0.4s\n",
            "[CV 6/10] END lr__C=1, lr__max_iter=1000, lr__penalty=l2, lr__solver=liblinear;, score=(train=0.901, test=0.900) total time=   0.4s\n",
            "[CV 7/10] END lr__C=1, lr__max_iter=1000, lr__penalty=l2, lr__solver=liblinear;, score=(train=0.899, test=0.897) total time=   0.4s\n",
            "[CV 8/10] END lr__C=1, lr__max_iter=1000, lr__penalty=l2, lr__solver=liblinear;, score=(train=0.903, test=0.900) total time=   0.4s\n",
            "[CV 9/10] END lr__C=1, lr__max_iter=1000, lr__penalty=l2, lr__solver=liblinear;, score=(train=0.902, test=0.899) total time=   0.4s\n",
            "[CV 10/10] END lr__C=1, lr__max_iter=1000, lr__penalty=l2, lr__solver=liblinear;, score=(train=0.900, test=0.897) total time=   0.4s\n",
            "[CV 1/10] END lr__C=1, lr__max_iter=1000, lr__penalty=l2, lr__solver=sag;, score=(train=0.901, test=0.899) total time=   1.1s\n",
            "[CV 2/10] END lr__C=1, lr__max_iter=1000, lr__penalty=l2, lr__solver=sag;, score=(train=0.898, test=0.894) total time=   1.0s\n",
            "[CV 3/10] END lr__C=1, lr__max_iter=1000, lr__penalty=l2, lr__solver=sag;, score=(train=0.900, test=0.901) total time=   0.9s\n",
            "[CV 4/10] END lr__C=1, lr__max_iter=1000, lr__penalty=l2, lr__solver=sag;, score=(train=0.900, test=0.903) total time=   0.9s\n",
            "[CV 5/10] END lr__C=1, lr__max_iter=1000, lr__penalty=l2, lr__solver=sag;, score=(train=0.901, test=0.901) total time=   1.1s\n",
            "[CV 6/10] END lr__C=1, lr__max_iter=1000, lr__penalty=l2, lr__solver=sag;, score=(train=0.901, test=0.900) total time=   0.9s\n",
            "[CV 7/10] END lr__C=1, lr__max_iter=1000, lr__penalty=l2, lr__solver=sag;, score=(train=0.899, test=0.897) total time=   1.1s\n",
            "[CV 8/10] END lr__C=1, lr__max_iter=1000, lr__penalty=l2, lr__solver=sag;, score=(train=0.902, test=0.900) total time=   0.9s\n",
            "[CV 9/10] END lr__C=1, lr__max_iter=1000, lr__penalty=l2, lr__solver=sag;, score=(train=0.902, test=0.899) total time=   1.0s\n",
            "[CV 10/10] END lr__C=1, lr__max_iter=1000, lr__penalty=l2, lr__solver=sag;, score=(train=0.900, test=0.897) total time=   0.9s\n",
            "[CV 1/10] END lr__C=1, lr__max_iter=1000, lr__penalty=l2, lr__solver=saga;, score=(train=0.900, test=0.899) total time=   1.3s\n",
            "[CV 2/10] END lr__C=1, lr__max_iter=1000, lr__penalty=l2, lr__solver=saga;, score=(train=0.898, test=0.894) total time=   1.5s\n",
            "[CV 3/10] END lr__C=1, lr__max_iter=1000, lr__penalty=l2, lr__solver=saga;, score=(train=0.900, test=0.901) total time=   1.6s\n",
            "[CV 4/10] END lr__C=1, lr__max_iter=1000, lr__penalty=l2, lr__solver=saga;, score=(train=0.900, test=0.903) total time=   1.6s\n",
            "[CV 5/10] END lr__C=1, lr__max_iter=1000, lr__penalty=l2, lr__solver=saga;, score=(train=0.901, test=0.902) total time=   1.2s\n",
            "[CV 6/10] END lr__C=1, lr__max_iter=1000, lr__penalty=l2, lr__solver=saga;, score=(train=0.901, test=0.900) total time=   1.3s\n",
            "[CV 7/10] END lr__C=1, lr__max_iter=1000, lr__penalty=l2, lr__solver=saga;, score=(train=0.899, test=0.897) total time=   1.5s\n",
            "[CV 8/10] END lr__C=1, lr__max_iter=1000, lr__penalty=l2, lr__solver=saga;, score=(train=0.902, test=0.900) total time=   1.3s\n",
            "[CV 9/10] END lr__C=1, lr__max_iter=1000, lr__penalty=l2, lr__solver=saga;, score=(train=0.902, test=0.899) total time=   1.3s\n",
            "[CV 10/10] END lr__C=1, lr__max_iter=1000, lr__penalty=l2, lr__solver=saga;, score=(train=0.900, test=0.897) total time=   1.1s\n",
            "[CV 1/10] END lr__C=10, lr__max_iter=100, lr__penalty=l2, lr__solver=newton-cg;, score=(train=0.904, test=0.903) total time=   3.0s\n",
            "[CV 2/10] END lr__C=10, lr__max_iter=100, lr__penalty=l2, lr__solver=newton-cg;, score=(train=0.901, test=0.896) total time=   3.8s\n",
            "[CV 3/10] END lr__C=10, lr__max_iter=100, lr__penalty=l2, lr__solver=newton-cg;, score=(train=0.905, test=0.904) total time=   4.3s\n",
            "[CV 4/10] END lr__C=10, lr__max_iter=100, lr__penalty=l2, lr__solver=newton-cg;, score=(train=0.905, test=0.905) total time=   3.5s\n",
            "[CV 5/10] END lr__C=10, lr__max_iter=100, lr__penalty=l2, lr__solver=newton-cg;, score=(train=0.905, test=0.905) total time=   3.1s\n",
            "[CV 6/10] END lr__C=10, lr__max_iter=100, lr__penalty=l2, lr__solver=newton-cg;, score=(train=0.905, test=0.904) total time=   3.5s\n",
            "[CV 7/10] END lr__C=10, lr__max_iter=100, lr__penalty=l2, lr__solver=newton-cg;, score=(train=0.901, test=0.900) total time=   3.7s\n",
            "[CV 8/10] END lr__C=10, lr__max_iter=100, lr__penalty=l2, lr__solver=newton-cg;, score=(train=0.906, test=0.903) total time=   3.3s\n",
            "[CV 9/10] END lr__C=10, lr__max_iter=100, lr__penalty=l2, lr__solver=newton-cg;, score=(train=0.907, test=0.905) total time=   5.5s\n",
            "[CV 10/10] END lr__C=10, lr__max_iter=100, lr__penalty=l2, lr__solver=newton-cg;, score=(train=0.905, test=0.901) total time=   3.1s\n"
          ]
        },
        {
          "metadata": {
            "tags": null
          },
          "name": "stderr",
          "output_type": "stream",
          "text": [
            "/usr/local/lib/python3.7/dist-packages/sklearn/linear_model/_logistic.py:818: ConvergenceWarning: lbfgs failed to converge (status=1):\n",
            "STOP: TOTAL NO. of ITERATIONS REACHED LIMIT.\n",
            "\n",
            "Increase the number of iterations (max_iter) or scale the data as shown in:\n",
            "    https://scikit-learn.org/stable/modules/preprocessing.html\n",
            "Please also refer to the documentation for alternative solver options:\n",
            "    https://scikit-learn.org/stable/modules/linear_model.html#logistic-regression\n",
            "  extra_warning_msg=_LOGISTIC_SOLVER_CONVERGENCE_MSG,\n"
          ]
        },
        {
          "metadata": {
            "tags": null
          },
          "name": "stdout",
          "output_type": "stream",
          "text": [
            "[CV 1/10] END lr__C=10, lr__max_iter=100, lr__penalty=l2, lr__solver=lbfgs;, score=(train=0.904, test=0.904) total time=   1.0s\n"
          ]
        },
        {
          "metadata": {
            "tags": null
          },
          "name": "stderr",
          "output_type": "stream",
          "text": [
            "/usr/local/lib/python3.7/dist-packages/sklearn/linear_model/_logistic.py:818: ConvergenceWarning: lbfgs failed to converge (status=1):\n",
            "STOP: TOTAL NO. of ITERATIONS REACHED LIMIT.\n",
            "\n",
            "Increase the number of iterations (max_iter) or scale the data as shown in:\n",
            "    https://scikit-learn.org/stable/modules/preprocessing.html\n",
            "Please also refer to the documentation for alternative solver options:\n",
            "    https://scikit-learn.org/stable/modules/linear_model.html#logistic-regression\n",
            "  extra_warning_msg=_LOGISTIC_SOLVER_CONVERGENCE_MSG,\n"
          ]
        },
        {
          "metadata": {
            "tags": null
          },
          "name": "stdout",
          "output_type": "stream",
          "text": [
            "[CV 2/10] END lr__C=10, lr__max_iter=100, lr__penalty=l2, lr__solver=lbfgs;, score=(train=0.901, test=0.895) total time=   1.0s\n"
          ]
        },
        {
          "metadata": {
            "tags": null
          },
          "name": "stderr",
          "output_type": "stream",
          "text": [
            "/usr/local/lib/python3.7/dist-packages/sklearn/linear_model/_logistic.py:818: ConvergenceWarning: lbfgs failed to converge (status=1):\n",
            "STOP: TOTAL NO. of ITERATIONS REACHED LIMIT.\n",
            "\n",
            "Increase the number of iterations (max_iter) or scale the data as shown in:\n",
            "    https://scikit-learn.org/stable/modules/preprocessing.html\n",
            "Please also refer to the documentation for alternative solver options:\n",
            "    https://scikit-learn.org/stable/modules/linear_model.html#logistic-regression\n",
            "  extra_warning_msg=_LOGISTIC_SOLVER_CONVERGENCE_MSG,\n"
          ]
        },
        {
          "metadata": {
            "tags": null
          },
          "name": "stdout",
          "output_type": "stream",
          "text": [
            "[CV 3/10] END lr__C=10, lr__max_iter=100, lr__penalty=l2, lr__solver=lbfgs;, score=(train=0.905, test=0.903) total time=   1.0s\n"
          ]
        },
        {
          "metadata": {
            "tags": null
          },
          "name": "stderr",
          "output_type": "stream",
          "text": [
            "/usr/local/lib/python3.7/dist-packages/sklearn/linear_model/_logistic.py:818: ConvergenceWarning: lbfgs failed to converge (status=1):\n",
            "STOP: TOTAL NO. of ITERATIONS REACHED LIMIT.\n",
            "\n",
            "Increase the number of iterations (max_iter) or scale the data as shown in:\n",
            "    https://scikit-learn.org/stable/modules/preprocessing.html\n",
            "Please also refer to the documentation for alternative solver options:\n",
            "    https://scikit-learn.org/stable/modules/linear_model.html#logistic-regression\n",
            "  extra_warning_msg=_LOGISTIC_SOLVER_CONVERGENCE_MSG,\n"
          ]
        },
        {
          "metadata": {
            "tags": null
          },
          "name": "stdout",
          "output_type": "stream",
          "text": [
            "[CV 4/10] END lr__C=10, lr__max_iter=100, lr__penalty=l2, lr__solver=lbfgs;, score=(train=0.905, test=0.905) total time=   1.0s\n"
          ]
        },
        {
          "metadata": {
            "tags": null
          },
          "name": "stderr",
          "output_type": "stream",
          "text": [
            "/usr/local/lib/python3.7/dist-packages/sklearn/linear_model/_logistic.py:818: ConvergenceWarning: lbfgs failed to converge (status=1):\n",
            "STOP: TOTAL NO. of ITERATIONS REACHED LIMIT.\n",
            "\n",
            "Increase the number of iterations (max_iter) or scale the data as shown in:\n",
            "    https://scikit-learn.org/stable/modules/preprocessing.html\n",
            "Please also refer to the documentation for alternative solver options:\n",
            "    https://scikit-learn.org/stable/modules/linear_model.html#logistic-regression\n",
            "  extra_warning_msg=_LOGISTIC_SOLVER_CONVERGENCE_MSG,\n"
          ]
        },
        {
          "metadata": {
            "tags": null
          },
          "name": "stdout",
          "output_type": "stream",
          "text": [
            "[CV 5/10] END lr__C=10, lr__max_iter=100, lr__penalty=l2, lr__solver=lbfgs;, score=(train=0.905, test=0.905) total time=   1.0s\n"
          ]
        },
        {
          "metadata": {
            "tags": null
          },
          "name": "stderr",
          "output_type": "stream",
          "text": [
            "/usr/local/lib/python3.7/dist-packages/sklearn/linear_model/_logistic.py:818: ConvergenceWarning: lbfgs failed to converge (status=1):\n",
            "STOP: TOTAL NO. of ITERATIONS REACHED LIMIT.\n",
            "\n",
            "Increase the number of iterations (max_iter) or scale the data as shown in:\n",
            "    https://scikit-learn.org/stable/modules/preprocessing.html\n",
            "Please also refer to the documentation for alternative solver options:\n",
            "    https://scikit-learn.org/stable/modules/linear_model.html#logistic-regression\n",
            "  extra_warning_msg=_LOGISTIC_SOLVER_CONVERGENCE_MSG,\n"
          ]
        },
        {
          "metadata": {
            "tags": null
          },
          "name": "stdout",
          "output_type": "stream",
          "text": [
            "[CV 6/10] END lr__C=10, lr__max_iter=100, lr__penalty=l2, lr__solver=lbfgs;, score=(train=0.905, test=0.904) total time=   1.0s\n"
          ]
        },
        {
          "metadata": {
            "tags": null
          },
          "name": "stderr",
          "output_type": "stream",
          "text": [
            "/usr/local/lib/python3.7/dist-packages/sklearn/linear_model/_logistic.py:818: ConvergenceWarning: lbfgs failed to converge (status=1):\n",
            "STOP: TOTAL NO. of ITERATIONS REACHED LIMIT.\n",
            "\n",
            "Increase the number of iterations (max_iter) or scale the data as shown in:\n",
            "    https://scikit-learn.org/stable/modules/preprocessing.html\n",
            "Please also refer to the documentation for alternative solver options:\n",
            "    https://scikit-learn.org/stable/modules/linear_model.html#logistic-regression\n",
            "  extra_warning_msg=_LOGISTIC_SOLVER_CONVERGENCE_MSG,\n"
          ]
        },
        {
          "metadata": {
            "tags": null
          },
          "name": "stdout",
          "output_type": "stream",
          "text": [
            "[CV 7/10] END lr__C=10, lr__max_iter=100, lr__penalty=l2, lr__solver=lbfgs;, score=(train=0.901, test=0.900) total time=   1.0s\n"
          ]
        },
        {
          "metadata": {
            "tags": null
          },
          "name": "stderr",
          "output_type": "stream",
          "text": [
            "/usr/local/lib/python3.7/dist-packages/sklearn/linear_model/_logistic.py:818: ConvergenceWarning: lbfgs failed to converge (status=1):\n",
            "STOP: TOTAL NO. of ITERATIONS REACHED LIMIT.\n",
            "\n",
            "Increase the number of iterations (max_iter) or scale the data as shown in:\n",
            "    https://scikit-learn.org/stable/modules/preprocessing.html\n",
            "Please also refer to the documentation for alternative solver options:\n",
            "    https://scikit-learn.org/stable/modules/linear_model.html#logistic-regression\n",
            "  extra_warning_msg=_LOGISTIC_SOLVER_CONVERGENCE_MSG,\n"
          ]
        },
        {
          "metadata": {
            "tags": null
          },
          "name": "stdout",
          "output_type": "stream",
          "text": [
            "[CV 8/10] END lr__C=10, lr__max_iter=100, lr__penalty=l2, lr__solver=lbfgs;, score=(train=0.907, test=0.903) total time=   0.9s\n"
          ]
        },
        {
          "metadata": {
            "tags": null
          },
          "name": "stderr",
          "output_type": "stream",
          "text": [
            "/usr/local/lib/python3.7/dist-packages/sklearn/linear_model/_logistic.py:818: ConvergenceWarning: lbfgs failed to converge (status=1):\n",
            "STOP: TOTAL NO. of ITERATIONS REACHED LIMIT.\n",
            "\n",
            "Increase the number of iterations (max_iter) or scale the data as shown in:\n",
            "    https://scikit-learn.org/stable/modules/preprocessing.html\n",
            "Please also refer to the documentation for alternative solver options:\n",
            "    https://scikit-learn.org/stable/modules/linear_model.html#logistic-regression\n",
            "  extra_warning_msg=_LOGISTIC_SOLVER_CONVERGENCE_MSG,\n"
          ]
        },
        {
          "metadata": {
            "tags": null
          },
          "name": "stdout",
          "output_type": "stream",
          "text": [
            "[CV 9/10] END lr__C=10, lr__max_iter=100, lr__penalty=l2, lr__solver=lbfgs;, score=(train=0.906, test=0.905) total time=   0.9s\n"
          ]
        },
        {
          "metadata": {
            "tags": null
          },
          "name": "stderr",
          "output_type": "stream",
          "text": [
            "/usr/local/lib/python3.7/dist-packages/sklearn/linear_model/_logistic.py:818: ConvergenceWarning: lbfgs failed to converge (status=1):\n",
            "STOP: TOTAL NO. of ITERATIONS REACHED LIMIT.\n",
            "\n",
            "Increase the number of iterations (max_iter) or scale the data as shown in:\n",
            "    https://scikit-learn.org/stable/modules/preprocessing.html\n",
            "Please also refer to the documentation for alternative solver options:\n",
            "    https://scikit-learn.org/stable/modules/linear_model.html#logistic-regression\n",
            "  extra_warning_msg=_LOGISTIC_SOLVER_CONVERGENCE_MSG,\n"
          ]
        },
        {
          "metadata": {
            "tags": null
          },
          "name": "stdout",
          "output_type": "stream",
          "text": [
            "[CV 10/10] END lr__C=10, lr__max_iter=100, lr__penalty=l2, lr__solver=lbfgs;, score=(train=0.904, test=0.900) total time=   1.0s\n",
            "[CV 1/10] END lr__C=10, lr__max_iter=100, lr__penalty=l2, lr__solver=liblinear;, score=(train=0.904, test=0.903) total time=   0.5s\n",
            "[CV 2/10] END lr__C=10, lr__max_iter=100, lr__penalty=l2, lr__solver=liblinear;, score=(train=0.901, test=0.896) total time=   0.5s\n",
            "[CV 3/10] END lr__C=10, lr__max_iter=100, lr__penalty=l2, lr__solver=liblinear;, score=(train=0.905, test=0.904) total time=   0.6s\n",
            "[CV 4/10] END lr__C=10, lr__max_iter=100, lr__penalty=l2, lr__solver=liblinear;, score=(train=0.905, test=0.905) total time=   0.5s\n",
            "[CV 5/10] END lr__C=10, lr__max_iter=100, lr__penalty=l2, lr__solver=liblinear;, score=(train=0.905, test=0.905) total time=   0.5s\n",
            "[CV 6/10] END lr__C=10, lr__max_iter=100, lr__penalty=l2, lr__solver=liblinear;, score=(train=0.905, test=0.904) total time=   0.5s\n",
            "[CV 7/10] END lr__C=10, lr__max_iter=100, lr__penalty=l2, lr__solver=liblinear;, score=(train=0.901, test=0.900) total time=   0.5s\n",
            "[CV 8/10] END lr__C=10, lr__max_iter=100, lr__penalty=l2, lr__solver=liblinear;, score=(train=0.906, test=0.903) total time=   0.5s\n",
            "[CV 9/10] END lr__C=10, lr__max_iter=100, lr__penalty=l2, lr__solver=liblinear;, score=(train=0.907, test=0.905) total time=   0.5s\n",
            "[CV 10/10] END lr__C=10, lr__max_iter=100, lr__penalty=l2, lr__solver=liblinear;, score=(train=0.904, test=0.901) total time=   0.5s\n",
            "[CV 1/10] END lr__C=10, lr__max_iter=100, lr__penalty=l2, lr__solver=sag;, score=(train=0.904, test=0.903) total time=   1.5s\n",
            "[CV 2/10] END lr__C=10, lr__max_iter=100, lr__penalty=l2, lr__solver=sag;, score=(train=0.901, test=0.896) total time=   2.3s\n",
            "[CV 3/10] END lr__C=10, lr__max_iter=100, lr__penalty=l2, lr__solver=sag;, score=(train=0.905, test=0.904) total time=   2.1s\n",
            "[CV 4/10] END lr__C=10, lr__max_iter=100, lr__penalty=l2, lr__solver=sag;, score=(train=0.905, test=0.905) total time=   2.1s\n",
            "[CV 5/10] END lr__C=10, lr__max_iter=100, lr__penalty=l2, lr__solver=sag;, score=(train=0.905, test=0.905) total time=   1.2s\n",
            "[CV 6/10] END lr__C=10, lr__max_iter=100, lr__penalty=l2, lr__solver=sag;, score=(train=0.905, test=0.904) total time=   1.7s\n",
            "[CV 7/10] END lr__C=10, lr__max_iter=100, lr__penalty=l2, lr__solver=sag;, score=(train=0.901, test=0.900) total time=   2.3s\n",
            "[CV 8/10] END lr__C=10, lr__max_iter=100, lr__penalty=l2, lr__solver=sag;, score=(train=0.906, test=0.903) total time=   1.7s\n",
            "[CV 9/10] END lr__C=10, lr__max_iter=100, lr__penalty=l2, lr__solver=sag;, score=(train=0.907, test=0.905) total time=   2.5s\n",
            "[CV 10/10] END lr__C=10, lr__max_iter=100, lr__penalty=l2, lr__solver=sag;, score=(train=0.905, test=0.901) total time=   1.3s\n",
            "[CV 1/10] END lr__C=10, lr__max_iter=100, lr__penalty=l2, lr__solver=saga;, score=(train=0.904, test=0.903) total time=   2.7s\n",
            "[CV 2/10] END lr__C=10, lr__max_iter=100, lr__penalty=l2, lr__solver=saga;, score=(train=0.901, test=0.896) total time=   4.5s\n",
            "[CV 3/10] END lr__C=10, lr__max_iter=100, lr__penalty=l2, lr__solver=saga;, score=(train=0.905, test=0.904) total time=   4.2s\n",
            "[CV 4/10] END lr__C=10, lr__max_iter=100, lr__penalty=l2, lr__solver=saga;, score=(train=0.905, test=0.905) total time=   4.6s\n",
            "[CV 5/10] END lr__C=10, lr__max_iter=100, lr__penalty=l2, lr__solver=saga;, score=(train=0.905, test=0.905) total time=   2.6s\n",
            "[CV 6/10] END lr__C=10, lr__max_iter=100, lr__penalty=l2, lr__solver=saga;, score=(train=0.905, test=0.904) total time=   2.5s\n",
            "[CV 7/10] END lr__C=10, lr__max_iter=100, lr__penalty=l2, lr__solver=saga;, score=(train=0.901, test=0.900) total time=   4.1s\n",
            "[CV 8/10] END lr__C=10, lr__max_iter=100, lr__penalty=l2, lr__solver=saga;, score=(train=0.906, test=0.903) total time=   3.5s\n"
          ]
        },
        {
          "metadata": {
            "tags": null
          },
          "name": "stderr",
          "output_type": "stream",
          "text": [
            "/usr/local/lib/python3.7/dist-packages/sklearn/linear_model/_sag.py:354: ConvergenceWarning: The max_iter was reached which means the coef_ did not converge\n",
            "  ConvergenceWarning,\n"
          ]
        },
        {
          "metadata": {
            "tags": null
          },
          "name": "stdout",
          "output_type": "stream",
          "text": [
            "[CV 9/10] END lr__C=10, lr__max_iter=100, lr__penalty=l2, lr__solver=saga;, score=(train=0.907, test=0.905) total time=   4.8s\n",
            "[CV 10/10] END lr__C=10, lr__max_iter=100, lr__penalty=l2, lr__solver=saga;, score=(train=0.905, test=0.901) total time=   2.5s\n",
            "[CV 1/10] END lr__C=10, lr__max_iter=500, lr__penalty=l2, lr__solver=newton-cg;, score=(train=0.904, test=0.903) total time=   3.2s\n",
            "[CV 2/10] END lr__C=10, lr__max_iter=500, lr__penalty=l2, lr__solver=newton-cg;, score=(train=0.901, test=0.896) total time=   3.8s\n",
            "[CV 3/10] END lr__C=10, lr__max_iter=500, lr__penalty=l2, lr__solver=newton-cg;, score=(train=0.905, test=0.904) total time=   3.9s\n",
            "[CV 4/10] END lr__C=10, lr__max_iter=500, lr__penalty=l2, lr__solver=newton-cg;, score=(train=0.905, test=0.905) total time=   3.3s\n",
            "[CV 5/10] END lr__C=10, lr__max_iter=500, lr__penalty=l2, lr__solver=newton-cg;, score=(train=0.905, test=0.905) total time=   3.0s\n",
            "[CV 6/10] END lr__C=10, lr__max_iter=500, lr__penalty=l2, lr__solver=newton-cg;, score=(train=0.905, test=0.904) total time=   3.5s\n",
            "[CV 7/10] END lr__C=10, lr__max_iter=500, lr__penalty=l2, lr__solver=newton-cg;, score=(train=0.901, test=0.900) total time=   3.6s\n",
            "[CV 8/10] END lr__C=10, lr__max_iter=500, lr__penalty=l2, lr__solver=newton-cg;, score=(train=0.906, test=0.903) total time=   3.3s\n",
            "[CV 9/10] END lr__C=10, lr__max_iter=500, lr__penalty=l2, lr__solver=newton-cg;, score=(train=0.907, test=0.905) total time=   3.2s\n",
            "[CV 10/10] END lr__C=10, lr__max_iter=500, lr__penalty=l2, lr__solver=newton-cg;, score=(train=0.905, test=0.901) total time=   2.8s\n",
            "[CV 1/10] END lr__C=10, lr__max_iter=500, lr__penalty=l2, lr__solver=lbfgs;, score=(train=0.904, test=0.903) total time=   2.5s\n",
            "[CV 2/10] END lr__C=10, lr__max_iter=500, lr__penalty=l2, lr__solver=lbfgs;, score=(train=0.901, test=0.896) total time=   3.4s\n",
            "[CV 3/10] END lr__C=10, lr__max_iter=500, lr__penalty=l2, lr__solver=lbfgs;, score=(train=0.905, test=0.904) total time=   3.4s\n",
            "[CV 4/10] END lr__C=10, lr__max_iter=500, lr__penalty=l2, lr__solver=lbfgs;, score=(train=0.905, test=0.905) total time=   3.1s\n",
            "[CV 5/10] END lr__C=10, lr__max_iter=500, lr__penalty=l2, lr__solver=lbfgs;, score=(train=0.905, test=0.905) total time=   2.7s\n",
            "[CV 6/10] END lr__C=10, lr__max_iter=500, lr__penalty=l2, lr__solver=lbfgs;, score=(train=0.905, test=0.904) total time=   2.8s\n",
            "[CV 7/10] END lr__C=10, lr__max_iter=500, lr__penalty=l2, lr__solver=lbfgs;, score=(train=0.902, test=0.900) total time=   2.9s\n",
            "[CV 8/10] END lr__C=10, lr__max_iter=500, lr__penalty=l2, lr__solver=lbfgs;, score=(train=0.906, test=0.903) total time=   2.8s\n",
            "[CV 9/10] END lr__C=10, lr__max_iter=500, lr__penalty=l2, lr__solver=lbfgs;, score=(train=0.907, test=0.905) total time=   3.3s\n",
            "[CV 10/10] END lr__C=10, lr__max_iter=500, lr__penalty=l2, lr__solver=lbfgs;, score=(train=0.904, test=0.901) total time=   3.0s\n",
            "[CV 1/10] END lr__C=10, lr__max_iter=500, lr__penalty=l2, lr__solver=liblinear;, score=(train=0.904, test=0.903) total time=   0.7s\n",
            "[CV 2/10] END lr__C=10, lr__max_iter=500, lr__penalty=l2, lr__solver=liblinear;, score=(train=0.901, test=0.896) total time=   0.8s\n",
            "[CV 3/10] END lr__C=10, lr__max_iter=500, lr__penalty=l2, lr__solver=liblinear;, score=(train=0.905, test=0.904) total time=   0.9s\n",
            "[CV 4/10] END lr__C=10, lr__max_iter=500, lr__penalty=l2, lr__solver=liblinear;, score=(train=0.905, test=0.905) total time=   0.8s\n",
            "[CV 5/10] END lr__C=10, lr__max_iter=500, lr__penalty=l2, lr__solver=liblinear;, score=(train=0.905, test=0.905) total time=   0.7s\n",
            "[CV 6/10] END lr__C=10, lr__max_iter=500, lr__penalty=l2, lr__solver=liblinear;, score=(train=0.905, test=0.904) total time=   0.5s\n",
            "[CV 7/10] END lr__C=10, lr__max_iter=500, lr__penalty=l2, lr__solver=liblinear;, score=(train=0.901, test=0.900) total time=   0.6s\n",
            "[CV 8/10] END lr__C=10, lr__max_iter=500, lr__penalty=l2, lr__solver=liblinear;, score=(train=0.906, test=0.903) total time=   0.5s\n",
            "[CV 9/10] END lr__C=10, lr__max_iter=500, lr__penalty=l2, lr__solver=liblinear;, score=(train=0.907, test=0.905) total time=   0.5s\n",
            "[CV 10/10] END lr__C=10, lr__max_iter=500, lr__penalty=l2, lr__solver=liblinear;, score=(train=0.904, test=0.901) total time=   0.5s\n",
            "[CV 1/10] END lr__C=10, lr__max_iter=500, lr__penalty=l2, lr__solver=sag;, score=(train=0.904, test=0.903) total time=   1.4s\n",
            "[CV 2/10] END lr__C=10, lr__max_iter=500, lr__penalty=l2, lr__solver=sag;, score=(train=0.901, test=0.896) total time=   2.5s\n",
            "[CV 3/10] END lr__C=10, lr__max_iter=500, lr__penalty=l2, lr__solver=sag;, score=(train=0.905, test=0.904) total time=   2.1s\n",
            "[CV 4/10] END lr__C=10, lr__max_iter=500, lr__penalty=l2, lr__solver=sag;, score=(train=0.905, test=0.905) total time=   2.1s\n",
            "[CV 5/10] END lr__C=10, lr__max_iter=500, lr__penalty=l2, lr__solver=sag;, score=(train=0.905, test=0.906) total time=   1.3s\n",
            "[CV 6/10] END lr__C=10, lr__max_iter=500, lr__penalty=l2, lr__solver=sag;, score=(train=0.905, test=0.904) total time=   1.4s\n",
            "[CV 7/10] END lr__C=10, lr__max_iter=500, lr__penalty=l2, lr__solver=sag;, score=(train=0.901, test=0.900) total time=   2.3s\n",
            "[CV 8/10] END lr__C=10, lr__max_iter=500, lr__penalty=l2, lr__solver=sag;, score=(train=0.906, test=0.903) total time=   1.7s\n",
            "[CV 9/10] END lr__C=10, lr__max_iter=500, lr__penalty=l2, lr__solver=sag;, score=(train=0.907, test=0.905) total time=   2.6s\n",
            "[CV 10/10] END lr__C=10, lr__max_iter=500, lr__penalty=l2, lr__solver=sag;, score=(train=0.905, test=0.901) total time=   1.6s\n",
            "[CV 1/10] END lr__C=10, lr__max_iter=500, lr__penalty=l2, lr__solver=saga;, score=(train=0.904, test=0.903) total time=   3.1s\n",
            "[CV 2/10] END lr__C=10, lr__max_iter=500, lr__penalty=l2, lr__solver=saga;, score=(train=0.901, test=0.896) total time=   4.9s\n",
            "[CV 3/10] END lr__C=10, lr__max_iter=500, lr__penalty=l2, lr__solver=saga;, score=(train=0.905, test=0.904) total time=   4.5s\n",
            "[CV 4/10] END lr__C=10, lr__max_iter=500, lr__penalty=l2, lr__solver=saga;, score=(train=0.905, test=0.905) total time=   4.8s\n",
            "[CV 5/10] END lr__C=10, lr__max_iter=500, lr__penalty=l2, lr__solver=saga;, score=(train=0.905, test=0.905) total time=   2.8s\n",
            "[CV 6/10] END lr__C=10, lr__max_iter=500, lr__penalty=l2, lr__solver=saga;, score=(train=0.905, test=0.904) total time=   2.8s\n",
            "[CV 7/10] END lr__C=10, lr__max_iter=500, lr__penalty=l2, lr__solver=saga;, score=(train=0.901, test=0.900) total time=   4.2s\n",
            "[CV 8/10] END lr__C=10, lr__max_iter=500, lr__penalty=l2, lr__solver=saga;, score=(train=0.906, test=0.903) total time=   3.4s\n",
            "[CV 9/10] END lr__C=10, lr__max_iter=500, lr__penalty=l2, lr__solver=saga;, score=(train=0.907, test=0.905) total time=   5.4s\n",
            "[CV 10/10] END lr__C=10, lr__max_iter=500, lr__penalty=l2, lr__solver=saga;, score=(train=0.905, test=0.901) total time=   2.8s\n",
            "[CV 1/10] END lr__C=10, lr__max_iter=1000, lr__penalty=l2, lr__solver=newton-cg;, score=(train=0.904, test=0.903) total time=   3.5s\n",
            "[CV 2/10] END lr__C=10, lr__max_iter=1000, lr__penalty=l2, lr__solver=newton-cg;, score=(train=0.901, test=0.896) total time=   4.3s\n",
            "[CV 3/10] END lr__C=10, lr__max_iter=1000, lr__penalty=l2, lr__solver=newton-cg;, score=(train=0.905, test=0.904) total time=   4.7s\n",
            "[CV 4/10] END lr__C=10, lr__max_iter=1000, lr__penalty=l2, lr__solver=newton-cg;, score=(train=0.905, test=0.905) total time=   3.9s\n",
            "[CV 5/10] END lr__C=10, lr__max_iter=1000, lr__penalty=l2, lr__solver=newton-cg;, score=(train=0.905, test=0.905) total time=   3.5s\n",
            "[CV 6/10] END lr__C=10, lr__max_iter=1000, lr__penalty=l2, lr__solver=newton-cg;, score=(train=0.905, test=0.904) total time=   4.2s\n",
            "[CV 7/10] END lr__C=10, lr__max_iter=1000, lr__penalty=l2, lr__solver=newton-cg;, score=(train=0.901, test=0.900) total time=   4.4s\n",
            "[CV 8/10] END lr__C=10, lr__max_iter=1000, lr__penalty=l2, lr__solver=newton-cg;, score=(train=0.906, test=0.903) total time=   3.9s\n",
            "[CV 9/10] END lr__C=10, lr__max_iter=1000, lr__penalty=l2, lr__solver=newton-cg;, score=(train=0.907, test=0.905) total time=   3.9s\n",
            "[CV 10/10] END lr__C=10, lr__max_iter=1000, lr__penalty=l2, lr__solver=newton-cg;, score=(train=0.905, test=0.901) total time=   3.6s\n",
            "[CV 1/10] END lr__C=10, lr__max_iter=1000, lr__penalty=l2, lr__solver=lbfgs;, score=(train=0.904, test=0.903) total time=   3.3s\n",
            "[CV 2/10] END lr__C=10, lr__max_iter=1000, lr__penalty=l2, lr__solver=lbfgs;, score=(train=0.901, test=0.896) total time=   4.0s\n",
            "[CV 3/10] END lr__C=10, lr__max_iter=1000, lr__penalty=l2, lr__solver=lbfgs;, score=(train=0.905, test=0.904) total time=   4.2s\n",
            "[CV 4/10] END lr__C=10, lr__max_iter=1000, lr__penalty=l2, lr__solver=lbfgs;, score=(train=0.905, test=0.905) total time=   3.7s\n",
            "[CV 5/10] END lr__C=10, lr__max_iter=1000, lr__penalty=l2, lr__solver=lbfgs;, score=(train=0.905, test=0.905) total time=   3.2s\n",
            "[CV 6/10] END lr__C=10, lr__max_iter=1000, lr__penalty=l2, lr__solver=lbfgs;, score=(train=0.905, test=0.904) total time=   3.3s\n",
            "[CV 7/10] END lr__C=10, lr__max_iter=1000, lr__penalty=l2, lr__solver=lbfgs;, score=(train=0.902, test=0.900) total time=   3.5s\n",
            "[CV 8/10] END lr__C=10, lr__max_iter=1000, lr__penalty=l2, lr__solver=lbfgs;, score=(train=0.906, test=0.903) total time=   3.2s\n",
            "[CV 9/10] END lr__C=10, lr__max_iter=1000, lr__penalty=l2, lr__solver=lbfgs;, score=(train=0.907, test=0.905) total time=   3.8s\n",
            "[CV 10/10] END lr__C=10, lr__max_iter=1000, lr__penalty=l2, lr__solver=lbfgs;, score=(train=0.904, test=0.901) total time=   3.4s\n",
            "[CV 1/10] END lr__C=10, lr__max_iter=1000, lr__penalty=l2, lr__solver=liblinear;, score=(train=0.904, test=0.903) total time=   0.6s\n",
            "[CV 2/10] END lr__C=10, lr__max_iter=1000, lr__penalty=l2, lr__solver=liblinear;, score=(train=0.901, test=0.896) total time=   0.6s\n",
            "[CV 3/10] END lr__C=10, lr__max_iter=1000, lr__penalty=l2, lr__solver=liblinear;, score=(train=0.905, test=0.904) total time=   0.8s\n",
            "[CV 4/10] END lr__C=10, lr__max_iter=1000, lr__penalty=l2, lr__solver=liblinear;, score=(train=0.905, test=0.905) total time=   0.6s\n",
            "[CV 5/10] END lr__C=10, lr__max_iter=1000, lr__penalty=l2, lr__solver=liblinear;, score=(train=0.905, test=0.905) total time=   0.6s\n",
            "[CV 6/10] END lr__C=10, lr__max_iter=1000, lr__penalty=l2, lr__solver=liblinear;, score=(train=0.905, test=0.904) total time=   0.8s\n",
            "[CV 7/10] END lr__C=10, lr__max_iter=1000, lr__penalty=l2, lr__solver=liblinear;, score=(train=0.901, test=0.900) total time=   0.9s\n",
            "[CV 8/10] END lr__C=10, lr__max_iter=1000, lr__penalty=l2, lr__solver=liblinear;, score=(train=0.906, test=0.903) total time=   0.8s\n",
            "[CV 9/10] END lr__C=10, lr__max_iter=1000, lr__penalty=l2, lr__solver=liblinear;, score=(train=0.907, test=0.905) total time=   0.9s\n",
            "[CV 10/10] END lr__C=10, lr__max_iter=1000, lr__penalty=l2, lr__solver=liblinear;, score=(train=0.904, test=0.901) total time=   0.7s\n",
            "[CV 1/10] END lr__C=10, lr__max_iter=1000, lr__penalty=l2, lr__solver=sag;, score=(train=0.904, test=0.903) total time=   1.6s\n",
            "[CV 2/10] END lr__C=10, lr__max_iter=1000, lr__penalty=l2, lr__solver=sag;, score=(train=0.901, test=0.896) total time=   2.6s\n",
            "[CV 3/10] END lr__C=10, lr__max_iter=1000, lr__penalty=l2, lr__solver=sag;, score=(train=0.905, test=0.904) total time=   2.2s\n",
            "[CV 4/10] END lr__C=10, lr__max_iter=1000, lr__penalty=l2, lr__solver=sag;, score=(train=0.905, test=0.905) total time=   2.2s\n",
            "[CV 5/10] END lr__C=10, lr__max_iter=1000, lr__penalty=l2, lr__solver=sag;, score=(train=0.905, test=0.905) total time=   1.4s\n",
            "[CV 6/10] END lr__C=10, lr__max_iter=1000, lr__penalty=l2, lr__solver=sag;, score=(train=0.905, test=0.904) total time=   1.5s\n",
            "[CV 7/10] END lr__C=10, lr__max_iter=1000, lr__penalty=l2, lr__solver=sag;, score=(train=0.901, test=0.900) total time=   2.5s\n",
            "[CV 8/10] END lr__C=10, lr__max_iter=1000, lr__penalty=l2, lr__solver=sag;, score=(train=0.906, test=0.903) total time=   1.8s\n",
            "[CV 9/10] END lr__C=10, lr__max_iter=1000, lr__penalty=l2, lr__solver=sag;, score=(train=0.907, test=0.905) total time=   2.8s\n",
            "[CV 10/10] END lr__C=10, lr__max_iter=1000, lr__penalty=l2, lr__solver=sag;, score=(train=0.905, test=0.901) total time=   1.6s\n",
            "[CV 1/10] END lr__C=10, lr__max_iter=1000, lr__penalty=l2, lr__solver=saga;, score=(train=0.904, test=0.903) total time=   2.9s\n",
            "[CV 2/10] END lr__C=10, lr__max_iter=1000, lr__penalty=l2, lr__solver=saga;, score=(train=0.901, test=0.896) total time=   4.8s\n",
            "[CV 3/10] END lr__C=10, lr__max_iter=1000, lr__penalty=l2, lr__solver=saga;, score=(train=0.905, test=0.904) total time=   4.5s\n",
            "[CV 4/10] END lr__C=10, lr__max_iter=1000, lr__penalty=l2, lr__solver=saga;, score=(train=0.905, test=0.905) total time=   4.6s\n",
            "[CV 5/10] END lr__C=10, lr__max_iter=1000, lr__penalty=l2, lr__solver=saga;, score=(train=0.905, test=0.905) total time=   2.8s\n",
            "[CV 6/10] END lr__C=10, lr__max_iter=1000, lr__penalty=l2, lr__solver=saga;, score=(train=0.905, test=0.904) total time=   2.7s\n",
            "[CV 7/10] END lr__C=10, lr__max_iter=1000, lr__penalty=l2, lr__solver=saga;, score=(train=0.901, test=0.900) total time=   4.3s\n",
            "[CV 8/10] END lr__C=10, lr__max_iter=1000, lr__penalty=l2, lr__solver=saga;, score=(train=0.906, test=0.903) total time=   3.4s\n",
            "[CV 9/10] END lr__C=10, lr__max_iter=1000, lr__penalty=l2, lr__solver=saga;, score=(train=0.907, test=0.905) total time=   5.2s\n",
            "[CV 10/10] END lr__C=10, lr__max_iter=1000, lr__penalty=l2, lr__solver=saga;, score=(train=0.905, test=0.901) total time=   2.8s\n",
            "[CV 1/10] END lr__C=100, lr__max_iter=100, lr__penalty=l2, lr__solver=newton-cg;, score=(train=0.905, test=0.903) total time=   5.8s\n",
            "[CV 2/10] END lr__C=100, lr__max_iter=100, lr__penalty=l2, lr__solver=newton-cg;, score=(train=0.903, test=0.897) total time=   7.1s\n",
            "[CV 3/10] END lr__C=100, lr__max_iter=100, lr__penalty=l2, lr__solver=newton-cg;, score=(train=0.906, test=0.905) total time=   6.6s\n",
            "[CV 4/10] END lr__C=100, lr__max_iter=100, lr__penalty=l2, lr__solver=newton-cg;, score=(train=0.906, test=0.905) total time=   5.9s\n",
            "[CV 5/10] END lr__C=100, lr__max_iter=100, lr__penalty=l2, lr__solver=newton-cg;, score=(train=0.905, test=0.906) total time=   6.9s\n",
            "[CV 6/10] END lr__C=100, lr__max_iter=100, lr__penalty=l2, lr__solver=newton-cg;, score=(train=0.906, test=0.905) total time=   5.5s\n",
            "[CV 7/10] END lr__C=100, lr__max_iter=100, lr__penalty=l2, lr__solver=newton-cg;, score=(train=0.902, test=0.901) total time=   6.1s\n",
            "[CV 8/10] END lr__C=100, lr__max_iter=100, lr__penalty=l2, lr__solver=newton-cg;, score=(train=0.907, test=0.903) total time=   5.8s\n",
            "[CV 9/10] END lr__C=100, lr__max_iter=100, lr__penalty=l2, lr__solver=newton-cg;, score=(train=0.908, test=0.907) total time=   6.0s\n",
            "[CV 10/10] END lr__C=100, lr__max_iter=100, lr__penalty=l2, lr__solver=newton-cg;, score=(train=0.905, test=0.902) total time=   5.3s\n"
          ]
        },
        {
          "metadata": {
            "tags": null
          },
          "name": "stderr",
          "output_type": "stream",
          "text": [
            "/usr/local/lib/python3.7/dist-packages/sklearn/linear_model/_logistic.py:818: ConvergenceWarning: lbfgs failed to converge (status=1):\n",
            "STOP: TOTAL NO. of ITERATIONS REACHED LIMIT.\n",
            "\n",
            "Increase the number of iterations (max_iter) or scale the data as shown in:\n",
            "    https://scikit-learn.org/stable/modules/preprocessing.html\n",
            "Please also refer to the documentation for alternative solver options:\n",
            "    https://scikit-learn.org/stable/modules/linear_model.html#logistic-regression\n",
            "  extra_warning_msg=_LOGISTIC_SOLVER_CONVERGENCE_MSG,\n"
          ]
        },
        {
          "metadata": {
            "tags": null
          },
          "name": "stdout",
          "output_type": "stream",
          "text": [
            "[CV 1/10] END lr__C=100, lr__max_iter=100, lr__penalty=l2, lr__solver=lbfgs;, score=(train=0.904, test=0.903) total time=   1.2s\n"
          ]
        },
        {
          "metadata": {
            "tags": null
          },
          "name": "stderr",
          "output_type": "stream",
          "text": [
            "/usr/local/lib/python3.7/dist-packages/sklearn/linear_model/_logistic.py:818: ConvergenceWarning: lbfgs failed to converge (status=1):\n",
            "STOP: TOTAL NO. of ITERATIONS REACHED LIMIT.\n",
            "\n",
            "Increase the number of iterations (max_iter) or scale the data as shown in:\n",
            "    https://scikit-learn.org/stable/modules/preprocessing.html\n",
            "Please also refer to the documentation for alternative solver options:\n",
            "    https://scikit-learn.org/stable/modules/linear_model.html#logistic-regression\n",
            "  extra_warning_msg=_LOGISTIC_SOLVER_CONVERGENCE_MSG,\n"
          ]
        },
        {
          "metadata": {
            "tags": null
          },
          "name": "stdout",
          "output_type": "stream",
          "text": [
            "[CV 2/10] END lr__C=100, lr__max_iter=100, lr__penalty=l2, lr__solver=lbfgs;, score=(train=0.902, test=0.897) total time=   1.2s\n"
          ]
        },
        {
          "metadata": {
            "tags": null
          },
          "name": "stderr",
          "output_type": "stream",
          "text": [
            "/usr/local/lib/python3.7/dist-packages/sklearn/linear_model/_logistic.py:818: ConvergenceWarning: lbfgs failed to converge (status=1):\n",
            "STOP: TOTAL NO. of ITERATIONS REACHED LIMIT.\n",
            "\n",
            "Increase the number of iterations (max_iter) or scale the data as shown in:\n",
            "    https://scikit-learn.org/stable/modules/preprocessing.html\n",
            "Please also refer to the documentation for alternative solver options:\n",
            "    https://scikit-learn.org/stable/modules/linear_model.html#logistic-regression\n",
            "  extra_warning_msg=_LOGISTIC_SOLVER_CONVERGENCE_MSG,\n"
          ]
        },
        {
          "metadata": {
            "tags": null
          },
          "name": "stdout",
          "output_type": "stream",
          "text": [
            "[CV 3/10] END lr__C=100, lr__max_iter=100, lr__penalty=l2, lr__solver=lbfgs;, score=(train=0.906, test=0.905) total time=   1.2s\n"
          ]
        },
        {
          "metadata": {
            "tags": null
          },
          "name": "stderr",
          "output_type": "stream",
          "text": [
            "/usr/local/lib/python3.7/dist-packages/sklearn/linear_model/_logistic.py:818: ConvergenceWarning: lbfgs failed to converge (status=1):\n",
            "STOP: TOTAL NO. of ITERATIONS REACHED LIMIT.\n",
            "\n",
            "Increase the number of iterations (max_iter) or scale the data as shown in:\n",
            "    https://scikit-learn.org/stable/modules/preprocessing.html\n",
            "Please also refer to the documentation for alternative solver options:\n",
            "    https://scikit-learn.org/stable/modules/linear_model.html#logistic-regression\n",
            "  extra_warning_msg=_LOGISTIC_SOLVER_CONVERGENCE_MSG,\n"
          ]
        },
        {
          "metadata": {
            "tags": null
          },
          "name": "stdout",
          "output_type": "stream",
          "text": [
            "[CV 4/10] END lr__C=100, lr__max_iter=100, lr__penalty=l2, lr__solver=lbfgs;, score=(train=0.906, test=0.906) total time=   1.2s\n"
          ]
        },
        {
          "metadata": {
            "tags": null
          },
          "name": "stderr",
          "output_type": "stream",
          "text": [
            "/usr/local/lib/python3.7/dist-packages/sklearn/linear_model/_logistic.py:818: ConvergenceWarning: lbfgs failed to converge (status=1):\n",
            "STOP: TOTAL NO. of ITERATIONS REACHED LIMIT.\n",
            "\n",
            "Increase the number of iterations (max_iter) or scale the data as shown in:\n",
            "    https://scikit-learn.org/stable/modules/preprocessing.html\n",
            "Please also refer to the documentation for alternative solver options:\n",
            "    https://scikit-learn.org/stable/modules/linear_model.html#logistic-regression\n",
            "  extra_warning_msg=_LOGISTIC_SOLVER_CONVERGENCE_MSG,\n"
          ]
        },
        {
          "metadata": {
            "tags": null
          },
          "name": "stdout",
          "output_type": "stream",
          "text": [
            "[CV 5/10] END lr__C=100, lr__max_iter=100, lr__penalty=l2, lr__solver=lbfgs;, score=(train=0.905, test=0.906) total time=   1.2s\n"
          ]
        },
        {
          "metadata": {
            "tags": null
          },
          "name": "stderr",
          "output_type": "stream",
          "text": [
            "/usr/local/lib/python3.7/dist-packages/sklearn/linear_model/_logistic.py:818: ConvergenceWarning: lbfgs failed to converge (status=1):\n",
            "STOP: TOTAL NO. of ITERATIONS REACHED LIMIT.\n",
            "\n",
            "Increase the number of iterations (max_iter) or scale the data as shown in:\n",
            "    https://scikit-learn.org/stable/modules/preprocessing.html\n",
            "Please also refer to the documentation for alternative solver options:\n",
            "    https://scikit-learn.org/stable/modules/linear_model.html#logistic-regression\n",
            "  extra_warning_msg=_LOGISTIC_SOLVER_CONVERGENCE_MSG,\n"
          ]
        },
        {
          "metadata": {
            "tags": null
          },
          "name": "stdout",
          "output_type": "stream",
          "text": [
            "[CV 6/10] END lr__C=100, lr__max_iter=100, lr__penalty=l2, lr__solver=lbfgs;, score=(train=0.906, test=0.904) total time=   1.2s\n"
          ]
        },
        {
          "metadata": {
            "tags": null
          },
          "name": "stderr",
          "output_type": "stream",
          "text": [
            "/usr/local/lib/python3.7/dist-packages/sklearn/linear_model/_logistic.py:818: ConvergenceWarning: lbfgs failed to converge (status=1):\n",
            "STOP: TOTAL NO. of ITERATIONS REACHED LIMIT.\n",
            "\n",
            "Increase the number of iterations (max_iter) or scale the data as shown in:\n",
            "    https://scikit-learn.org/stable/modules/preprocessing.html\n",
            "Please also refer to the documentation for alternative solver options:\n",
            "    https://scikit-learn.org/stable/modules/linear_model.html#logistic-regression\n",
            "  extra_warning_msg=_LOGISTIC_SOLVER_CONVERGENCE_MSG,\n"
          ]
        },
        {
          "metadata": {
            "tags": null
          },
          "name": "stdout",
          "output_type": "stream",
          "text": [
            "[CV 7/10] END lr__C=100, lr__max_iter=100, lr__penalty=l2, lr__solver=lbfgs;, score=(train=0.902, test=0.900) total time=   1.2s\n"
          ]
        },
        {
          "metadata": {
            "tags": null
          },
          "name": "stderr",
          "output_type": "stream",
          "text": [
            "/usr/local/lib/python3.7/dist-packages/sklearn/linear_model/_logistic.py:818: ConvergenceWarning: lbfgs failed to converge (status=1):\n",
            "STOP: TOTAL NO. of ITERATIONS REACHED LIMIT.\n",
            "\n",
            "Increase the number of iterations (max_iter) or scale the data as shown in:\n",
            "    https://scikit-learn.org/stable/modules/preprocessing.html\n",
            "Please also refer to the documentation for alternative solver options:\n",
            "    https://scikit-learn.org/stable/modules/linear_model.html#logistic-regression\n",
            "  extra_warning_msg=_LOGISTIC_SOLVER_CONVERGENCE_MSG,\n"
          ]
        },
        {
          "metadata": {
            "tags": null
          },
          "name": "stdout",
          "output_type": "stream",
          "text": [
            "[CV 8/10] END lr__C=100, lr__max_iter=100, lr__penalty=l2, lr__solver=lbfgs;, score=(train=0.908, test=0.903) total time=   1.1s\n"
          ]
        },
        {
          "metadata": {
            "tags": null
          },
          "name": "stderr",
          "output_type": "stream",
          "text": [
            "/usr/local/lib/python3.7/dist-packages/sklearn/linear_model/_logistic.py:818: ConvergenceWarning: lbfgs failed to converge (status=1):\n",
            "STOP: TOTAL NO. of ITERATIONS REACHED LIMIT.\n",
            "\n",
            "Increase the number of iterations (max_iter) or scale the data as shown in:\n",
            "    https://scikit-learn.org/stable/modules/preprocessing.html\n",
            "Please also refer to the documentation for alternative solver options:\n",
            "    https://scikit-learn.org/stable/modules/linear_model.html#logistic-regression\n",
            "  extra_warning_msg=_LOGISTIC_SOLVER_CONVERGENCE_MSG,\n"
          ]
        },
        {
          "metadata": {
            "tags": null
          },
          "name": "stdout",
          "output_type": "stream",
          "text": [
            "[CV 9/10] END lr__C=100, lr__max_iter=100, lr__penalty=l2, lr__solver=lbfgs;, score=(train=0.907, test=0.905) total time=   1.2s\n"
          ]
        },
        {
          "metadata": {
            "tags": null
          },
          "name": "stderr",
          "output_type": "stream",
          "text": [
            "/usr/local/lib/python3.7/dist-packages/sklearn/linear_model/_logistic.py:818: ConvergenceWarning: lbfgs failed to converge (status=1):\n",
            "STOP: TOTAL NO. of ITERATIONS REACHED LIMIT.\n",
            "\n",
            "Increase the number of iterations (max_iter) or scale the data as shown in:\n",
            "    https://scikit-learn.org/stable/modules/preprocessing.html\n",
            "Please also refer to the documentation for alternative solver options:\n",
            "    https://scikit-learn.org/stable/modules/linear_model.html#logistic-regression\n",
            "  extra_warning_msg=_LOGISTIC_SOLVER_CONVERGENCE_MSG,\n"
          ]
        },
        {
          "metadata": {
            "tags": null
          },
          "name": "stdout",
          "output_type": "stream",
          "text": [
            "[CV 10/10] END lr__C=100, lr__max_iter=100, lr__penalty=l2, lr__solver=lbfgs;, score=(train=0.905, test=0.901) total time=   1.1s\n",
            "[CV 1/10] END lr__C=100, lr__max_iter=100, lr__penalty=l2, lr__solver=liblinear;, score=(train=0.905, test=0.903) total time=   0.9s\n",
            "[CV 2/10] END lr__C=100, lr__max_iter=100, lr__penalty=l2, lr__solver=liblinear;, score=(train=0.903, test=0.897) total time=   0.9s\n",
            "[CV 3/10] END lr__C=100, lr__max_iter=100, lr__penalty=l2, lr__solver=liblinear;, score=(train=0.906, test=0.905) total time=   0.8s\n",
            "[CV 4/10] END lr__C=100, lr__max_iter=100, lr__penalty=l2, lr__solver=liblinear;, score=(train=0.906, test=0.905) total time=   0.9s\n",
            "[CV 5/10] END lr__C=100, lr__max_iter=100, lr__penalty=l2, lr__solver=liblinear;, score=(train=0.905, test=0.906) total time=   0.9s\n",
            "[CV 6/10] END lr__C=100, lr__max_iter=100, lr__penalty=l2, lr__solver=liblinear;, score=(train=0.906, test=0.904) total time=   0.8s\n",
            "[CV 7/10] END lr__C=100, lr__max_iter=100, lr__penalty=l2, lr__solver=liblinear;, score=(train=0.902, test=0.901) total time=   0.9s\n",
            "[CV 8/10] END lr__C=100, lr__max_iter=100, lr__penalty=l2, lr__solver=liblinear;, score=(train=0.907, test=0.903) total time=   0.9s\n",
            "[CV 9/10] END lr__C=100, lr__max_iter=100, lr__penalty=l2, lr__solver=liblinear;, score=(train=0.908, test=0.907) total time=   1.1s\n",
            "[CV 10/10] END lr__C=100, lr__max_iter=100, lr__penalty=l2, lr__solver=liblinear;, score=(train=0.905, test=0.902) total time=   1.2s\n"
          ]
        },
        {
          "metadata": {
            "tags": null
          },
          "name": "stderr",
          "output_type": "stream",
          "text": [
            "/usr/local/lib/python3.7/dist-packages/sklearn/linear_model/_sag.py:354: ConvergenceWarning: The max_iter was reached which means the coef_ did not converge\n",
            "  ConvergenceWarning,\n"
          ]
        },
        {
          "metadata": {
            "tags": null
          },
          "name": "stdout",
          "output_type": "stream",
          "text": [
            "[CV 1/10] END lr__C=100, lr__max_iter=100, lr__penalty=l2, lr__solver=sag;, score=(train=0.905, test=0.903) total time=   5.0s\n"
          ]
        },
        {
          "metadata": {
            "tags": null
          },
          "name": "stderr",
          "output_type": "stream",
          "text": [
            "/usr/local/lib/python3.7/dist-packages/sklearn/linear_model/_sag.py:354: ConvergenceWarning: The max_iter was reached which means the coef_ did not converge\n",
            "  ConvergenceWarning,\n"
          ]
        },
        {
          "metadata": {
            "tags": null
          },
          "name": "stdout",
          "output_type": "stream",
          "text": [
            "[CV 2/10] END lr__C=100, lr__max_iter=100, lr__penalty=l2, lr__solver=sag;, score=(train=0.903, test=0.897) total time=   4.2s\n",
            "[CV 3/10] END lr__C=100, lr__max_iter=100, lr__penalty=l2, lr__solver=sag;, score=(train=0.906, test=0.905) total time=   4.2s\n"
          ]
        },
        {
          "metadata": {
            "tags": null
          },
          "name": "stderr",
          "output_type": "stream",
          "text": [
            "/usr/local/lib/python3.7/dist-packages/sklearn/linear_model/_sag.py:354: ConvergenceWarning: The max_iter was reached which means the coef_ did not converge\n",
            "  ConvergenceWarning,\n"
          ]
        },
        {
          "metadata": {
            "tags": null
          },
          "name": "stdout",
          "output_type": "stream",
          "text": [
            "[CV 4/10] END lr__C=100, lr__max_iter=100, lr__penalty=l2, lr__solver=sag;, score=(train=0.906, test=0.905) total time=   4.2s\n",
            "[CV 5/10] END lr__C=100, lr__max_iter=100, lr__penalty=l2, lr__solver=sag;, score=(train=0.905, test=0.906) total time=   3.1s\n",
            "[CV 6/10] END lr__C=100, lr__max_iter=100, lr__penalty=l2, lr__solver=sag;, score=(train=0.906, test=0.904) total time=   2.9s\n"
          ]
        },
        {
          "metadata": {
            "tags": null
          },
          "name": "stderr",
          "output_type": "stream",
          "text": [
            "/usr/local/lib/python3.7/dist-packages/sklearn/linear_model/_sag.py:354: ConvergenceWarning: The max_iter was reached which means the coef_ did not converge\n",
            "  ConvergenceWarning,\n"
          ]
        },
        {
          "metadata": {
            "tags": null
          },
          "name": "stdout",
          "output_type": "stream",
          "text": [
            "[CV 7/10] END lr__C=100, lr__max_iter=100, lr__penalty=l2, lr__solver=sag;, score=(train=0.902, test=0.901) total time=   4.5s\n"
          ]
        },
        {
          "metadata": {
            "tags": null
          },
          "name": "stderr",
          "output_type": "stream",
          "text": [
            "/usr/local/lib/python3.7/dist-packages/sklearn/linear_model/_sag.py:354: ConvergenceWarning: The max_iter was reached which means the coef_ did not converge\n",
            "  ConvergenceWarning,\n"
          ]
        },
        {
          "metadata": {
            "tags": null
          },
          "name": "stdout",
          "output_type": "stream",
          "text": [
            "[CV 8/10] END lr__C=100, lr__max_iter=100, lr__penalty=l2, lr__solver=sag;, score=(train=0.907, test=0.903) total time=   4.5s\n"
          ]
        },
        {
          "metadata": {
            "tags": null
          },
          "name": "stderr",
          "output_type": "stream",
          "text": [
            "/usr/local/lib/python3.7/dist-packages/sklearn/linear_model/_sag.py:354: ConvergenceWarning: The max_iter was reached which means the coef_ did not converge\n",
            "  ConvergenceWarning,\n"
          ]
        },
        {
          "metadata": {
            "tags": null
          },
          "name": "stdout",
          "output_type": "stream",
          "text": [
            "[CV 9/10] END lr__C=100, lr__max_iter=100, lr__penalty=l2, lr__solver=sag;, score=(train=0.908, test=0.907) total time=   4.5s\n",
            "[CV 10/10] END lr__C=100, lr__max_iter=100, lr__penalty=l2, lr__solver=sag;, score=(train=0.905, test=0.902) total time=   4.1s\n"
          ]
        },
        {
          "metadata": {
            "tags": null
          },
          "name": "stderr",
          "output_type": "stream",
          "text": [
            "/usr/local/lib/python3.7/dist-packages/sklearn/linear_model/_sag.py:354: ConvergenceWarning: The max_iter was reached which means the coef_ did not converge\n",
            "  ConvergenceWarning,\n"
          ]
        },
        {
          "metadata": {
            "tags": null
          },
          "name": "stdout",
          "output_type": "stream",
          "text": [
            "[CV 1/10] END lr__C=100, lr__max_iter=100, lr__penalty=l2, lr__solver=saga;, score=(train=0.905, test=0.903) total time=   5.0s\n"
          ]
        },
        {
          "metadata": {
            "tags": null
          },
          "name": "stderr",
          "output_type": "stream",
          "text": [
            "/usr/local/lib/python3.7/dist-packages/sklearn/linear_model/_sag.py:354: ConvergenceWarning: The max_iter was reached which means the coef_ did not converge\n",
            "  ConvergenceWarning,\n"
          ]
        },
        {
          "metadata": {
            "tags": null
          },
          "name": "stdout",
          "output_type": "stream",
          "text": [
            "[CV 2/10] END lr__C=100, lr__max_iter=100, lr__penalty=l2, lr__solver=saga;, score=(train=0.903, test=0.897) total time=   5.1s\n"
          ]
        },
        {
          "metadata": {
            "tags": null
          },
          "name": "stderr",
          "output_type": "stream",
          "text": [
            "/usr/local/lib/python3.7/dist-packages/sklearn/linear_model/_sag.py:354: ConvergenceWarning: The max_iter was reached which means the coef_ did not converge\n",
            "  ConvergenceWarning,\n"
          ]
        },
        {
          "metadata": {
            "tags": null
          },
          "name": "stdout",
          "output_type": "stream",
          "text": [
            "[CV 3/10] END lr__C=100, lr__max_iter=100, lr__penalty=l2, lr__solver=saga;, score=(train=0.906, test=0.905) total time=   5.0s\n"
          ]
        },
        {
          "metadata": {
            "tags": null
          },
          "name": "stderr",
          "output_type": "stream",
          "text": [
            "/usr/local/lib/python3.7/dist-packages/sklearn/linear_model/_sag.py:354: ConvergenceWarning: The max_iter was reached which means the coef_ did not converge\n",
            "  ConvergenceWarning,\n"
          ]
        },
        {
          "metadata": {
            "tags": null
          },
          "name": "stdout",
          "output_type": "stream",
          "text": [
            "[CV 4/10] END lr__C=100, lr__max_iter=100, lr__penalty=l2, lr__solver=saga;, score=(train=0.906, test=0.906) total time=   5.0s\n",
            "[CV 5/10] END lr__C=100, lr__max_iter=100, lr__penalty=l2, lr__solver=saga;, score=(train=0.905, test=0.906) total time=   4.2s\n",
            "[CV 6/10] END lr__C=100, lr__max_iter=100, lr__penalty=l2, lr__solver=saga;, score=(train=0.906, test=0.904) total time=   4.5s\n"
          ]
        },
        {
          "metadata": {
            "tags": null
          },
          "name": "stderr",
          "output_type": "stream",
          "text": [
            "/usr/local/lib/python3.7/dist-packages/sklearn/linear_model/_sag.py:354: ConvergenceWarning: The max_iter was reached which means the coef_ did not converge\n",
            "  ConvergenceWarning,\n"
          ]
        },
        {
          "metadata": {
            "tags": null
          },
          "name": "stdout",
          "output_type": "stream",
          "text": [
            "[CV 7/10] END lr__C=100, lr__max_iter=100, lr__penalty=l2, lr__solver=saga;, score=(train=0.902, test=0.901) total time=   5.0s\n"
          ]
        },
        {
          "metadata": {
            "tags": null
          },
          "name": "stderr",
          "output_type": "stream",
          "text": [
            "/usr/local/lib/python3.7/dist-packages/sklearn/linear_model/_sag.py:354: ConvergenceWarning: The max_iter was reached which means the coef_ did not converge\n",
            "  ConvergenceWarning,\n"
          ]
        },
        {
          "metadata": {
            "tags": null
          },
          "name": "stdout",
          "output_type": "stream",
          "text": [
            "[CV 8/10] END lr__C=100, lr__max_iter=100, lr__penalty=l2, lr__solver=saga;, score=(train=0.907, test=0.903) total time=   5.1s\n"
          ]
        },
        {
          "metadata": {
            "tags": null
          },
          "name": "stderr",
          "output_type": "stream",
          "text": [
            "/usr/local/lib/python3.7/dist-packages/sklearn/linear_model/_sag.py:354: ConvergenceWarning: The max_iter was reached which means the coef_ did not converge\n",
            "  ConvergenceWarning,\n"
          ]
        },
        {
          "metadata": {
            "tags": null
          },
          "name": "stdout",
          "output_type": "stream",
          "text": [
            "[CV 9/10] END lr__C=100, lr__max_iter=100, lr__penalty=l2, lr__solver=saga;, score=(train=0.908, test=0.908) total time=   6.6s\n"
          ]
        },
        {
          "metadata": {
            "tags": null
          },
          "name": "stderr",
          "output_type": "stream",
          "text": [
            "/usr/local/lib/python3.7/dist-packages/sklearn/linear_model/_sag.py:354: ConvergenceWarning: The max_iter was reached which means the coef_ did not converge\n",
            "  ConvergenceWarning,\n"
          ]
        },
        {
          "metadata": {
            "tags": null
          },
          "name": "stdout",
          "output_type": "stream",
          "text": [
            "[CV 10/10] END lr__C=100, lr__max_iter=100, lr__penalty=l2, lr__solver=saga;, score=(train=0.905, test=0.902) total time=   5.1s\n",
            "[CV 1/10] END lr__C=100, lr__max_iter=500, lr__penalty=l2, lr__solver=newton-cg;, score=(train=0.905, test=0.903) total time=   5.9s\n",
            "[CV 2/10] END lr__C=100, lr__max_iter=500, lr__penalty=l2, lr__solver=newton-cg;, score=(train=0.903, test=0.897) total time=   7.0s\n",
            "[CV 3/10] END lr__C=100, lr__max_iter=500, lr__penalty=l2, lr__solver=newton-cg;, score=(train=0.906, test=0.905) total time=   6.6s\n",
            "[CV 4/10] END lr__C=100, lr__max_iter=500, lr__penalty=l2, lr__solver=newton-cg;, score=(train=0.906, test=0.905) total time=   5.9s\n",
            "[CV 5/10] END lr__C=100, lr__max_iter=500, lr__penalty=l2, lr__solver=newton-cg;, score=(train=0.905, test=0.906) total time=   7.2s\n",
            "[CV 6/10] END lr__C=100, lr__max_iter=500, lr__penalty=l2, lr__solver=newton-cg;, score=(train=0.906, test=0.905) total time=   5.6s\n",
            "[CV 7/10] END lr__C=100, lr__max_iter=500, lr__penalty=l2, lr__solver=newton-cg;, score=(train=0.902, test=0.901) total time=   6.0s\n",
            "[CV 8/10] END lr__C=100, lr__max_iter=500, lr__penalty=l2, lr__solver=newton-cg;, score=(train=0.907, test=0.903) total time=   5.6s\n",
            "[CV 9/10] END lr__C=100, lr__max_iter=500, lr__penalty=l2, lr__solver=newton-cg;, score=(train=0.908, test=0.907) total time=   7.7s\n",
            "[CV 10/10] END lr__C=100, lr__max_iter=500, lr__penalty=l2, lr__solver=newton-cg;, score=(train=0.905, test=0.902) total time=   5.1s\n",
            "[CV 1/10] END lr__C=100, lr__max_iter=500, lr__penalty=l2, lr__solver=lbfgs;, score=(train=0.905, test=0.903) total time=   4.6s\n"
          ]
        },
        {
          "metadata": {
            "tags": null
          },
          "name": "stderr",
          "output_type": "stream",
          "text": [
            "/usr/local/lib/python3.7/dist-packages/sklearn/linear_model/_logistic.py:818: ConvergenceWarning: lbfgs failed to converge (status=1):\n",
            "STOP: TOTAL NO. of ITERATIONS REACHED LIMIT.\n",
            "\n",
            "Increase the number of iterations (max_iter) or scale the data as shown in:\n",
            "    https://scikit-learn.org/stable/modules/preprocessing.html\n",
            "Please also refer to the documentation for alternative solver options:\n",
            "    https://scikit-learn.org/stable/modules/linear_model.html#logistic-regression\n",
            "  extra_warning_msg=_LOGISTIC_SOLVER_CONVERGENCE_MSG,\n"
          ]
        },
        {
          "metadata": {
            "tags": null
          },
          "name": "stdout",
          "output_type": "stream",
          "text": [
            "[CV 2/10] END lr__C=100, lr__max_iter=500, lr__penalty=l2, lr__solver=lbfgs;, score=(train=0.903, test=0.897) total time=   5.5s\n",
            "[CV 3/10] END lr__C=100, lr__max_iter=500, lr__penalty=l2, lr__solver=lbfgs;, score=(train=0.906, test=0.905) total time=   4.0s\n",
            "[CV 4/10] END lr__C=100, lr__max_iter=500, lr__penalty=l2, lr__solver=lbfgs;, score=(train=0.906, test=0.905) total time=   5.4s\n",
            "[CV 5/10] END lr__C=100, lr__max_iter=500, lr__penalty=l2, lr__solver=lbfgs;, score=(train=0.905, test=0.906) total time=   5.5s\n",
            "[CV 6/10] END lr__C=100, lr__max_iter=500, lr__penalty=l2, lr__solver=lbfgs;, score=(train=0.906, test=0.904) total time=   4.1s\n"
          ]
        },
        {
          "metadata": {
            "tags": null
          },
          "name": "stderr",
          "output_type": "stream",
          "text": [
            "/usr/local/lib/python3.7/dist-packages/sklearn/linear_model/_logistic.py:818: ConvergenceWarning: lbfgs failed to converge (status=1):\n",
            "STOP: TOTAL NO. of ITERATIONS REACHED LIMIT.\n",
            "\n",
            "Increase the number of iterations (max_iter) or scale the data as shown in:\n",
            "    https://scikit-learn.org/stable/modules/preprocessing.html\n",
            "Please also refer to the documentation for alternative solver options:\n",
            "    https://scikit-learn.org/stable/modules/linear_model.html#logistic-regression\n",
            "  extra_warning_msg=_LOGISTIC_SOLVER_CONVERGENCE_MSG,\n"
          ]
        },
        {
          "metadata": {
            "tags": null
          },
          "name": "stdout",
          "output_type": "stream",
          "text": [
            "[CV 7/10] END lr__C=100, lr__max_iter=500, lr__penalty=l2, lr__solver=lbfgs;, score=(train=0.902, test=0.901) total time=   5.4s\n",
            "[CV 8/10] END lr__C=100, lr__max_iter=500, lr__penalty=l2, lr__solver=lbfgs;, score=(train=0.907, test=0.903) total time=   5.1s\n",
            "[CV 9/10] END lr__C=100, lr__max_iter=500, lr__penalty=l2, lr__solver=lbfgs;, score=(train=0.908, test=0.907) total time=   5.0s\n",
            "[CV 10/10] END lr__C=100, lr__max_iter=500, lr__penalty=l2, lr__solver=lbfgs;, score=(train=0.905, test=0.902) total time=   4.1s\n",
            "[CV 1/10] END lr__C=100, lr__max_iter=500, lr__penalty=l2, lr__solver=liblinear;, score=(train=0.905, test=0.903) total time=   0.8s\n",
            "[CV 2/10] END lr__C=100, lr__max_iter=500, lr__penalty=l2, lr__solver=liblinear;, score=(train=0.903, test=0.897) total time=   0.9s\n",
            "[CV 3/10] END lr__C=100, lr__max_iter=500, lr__penalty=l2, lr__solver=liblinear;, score=(train=0.906, test=0.905) total time=   0.8s\n",
            "[CV 4/10] END lr__C=100, lr__max_iter=500, lr__penalty=l2, lr__solver=liblinear;, score=(train=0.906, test=0.905) total time=   0.9s\n",
            "[CV 5/10] END lr__C=100, lr__max_iter=500, lr__penalty=l2, lr__solver=liblinear;, score=(train=0.905, test=0.906) total time=   0.8s\n",
            "[CV 6/10] END lr__C=100, lr__max_iter=500, lr__penalty=l2, lr__solver=liblinear;, score=(train=0.906, test=0.904) total time=   0.8s\n",
            "[CV 7/10] END lr__C=100, lr__max_iter=500, lr__penalty=l2, lr__solver=liblinear;, score=(train=0.902, test=0.901) total time=   0.8s\n",
            "[CV 8/10] END lr__C=100, lr__max_iter=500, lr__penalty=l2, lr__solver=liblinear;, score=(train=0.907, test=0.903) total time=   0.8s\n",
            "[CV 9/10] END lr__C=100, lr__max_iter=500, lr__penalty=l2, lr__solver=liblinear;, score=(train=0.908, test=0.907) total time=   0.9s\n",
            "[CV 10/10] END lr__C=100, lr__max_iter=500, lr__penalty=l2, lr__solver=liblinear;, score=(train=0.905, test=0.902) total time=   0.8s\n",
            "[CV 1/10] END lr__C=100, lr__max_iter=500, lr__penalty=l2, lr__solver=sag;, score=(train=0.905, test=0.903) total time=   4.0s\n",
            "[CV 2/10] END lr__C=100, lr__max_iter=500, lr__penalty=l2, lr__solver=sag;, score=(train=0.903, test=0.897) total time=   5.1s\n",
            "[CV 3/10] END lr__C=100, lr__max_iter=500, lr__penalty=l2, lr__solver=sag;, score=(train=0.906, test=0.905) total time=   4.4s\n",
            "[CV 4/10] END lr__C=100, lr__max_iter=500, lr__penalty=l2, lr__solver=sag;, score=(train=0.906, test=0.905) total time=   4.5s\n",
            "[CV 5/10] END lr__C=100, lr__max_iter=500, lr__penalty=l2, lr__solver=sag;, score=(train=0.905, test=0.906) total time=   3.2s\n",
            "[CV 6/10] END lr__C=100, lr__max_iter=500, lr__penalty=l2, lr__solver=sag;, score=(train=0.906, test=0.904) total time=   2.8s\n",
            "[CV 7/10] END lr__C=100, lr__max_iter=500, lr__penalty=l2, lr__solver=sag;, score=(train=0.902, test=0.901) total time=   5.8s\n",
            "[CV 8/10] END lr__C=100, lr__max_iter=500, lr__penalty=l2, lr__solver=sag;, score=(train=0.907, test=0.903) total time=   4.8s\n",
            "[CV 9/10] END lr__C=100, lr__max_iter=500, lr__penalty=l2, lr__solver=sag;, score=(train=0.908, test=0.907) total time=   6.7s\n",
            "[CV 10/10] END lr__C=100, lr__max_iter=500, lr__penalty=l2, lr__solver=sag;, score=(train=0.905, test=0.902) total time=   4.0s\n",
            "[CV 1/10] END lr__C=100, lr__max_iter=500, lr__penalty=l2, lr__solver=saga;, score=(train=0.905, test=0.903) total time=   6.8s\n",
            "[CV 2/10] END lr__C=100, lr__max_iter=500, lr__penalty=l2, lr__solver=saga;, score=(train=0.903, test=0.897) total time=   9.7s\n",
            "[CV 3/10] END lr__C=100, lr__max_iter=500, lr__penalty=l2, lr__solver=saga;, score=(train=0.906, test=0.905) total time=   8.4s\n",
            "[CV 4/10] END lr__C=100, lr__max_iter=500, lr__penalty=l2, lr__solver=saga;, score=(train=0.906, test=0.905) total time=   8.4s\n",
            "[CV 5/10] END lr__C=100, lr__max_iter=500, lr__penalty=l2, lr__solver=saga;, score=(train=0.905, test=0.906) total time=   4.2s\n",
            "[CV 6/10] END lr__C=100, lr__max_iter=500, lr__penalty=l2, lr__solver=saga;, score=(train=0.906, test=0.904) total time=   4.4s\n",
            "[CV 7/10] END lr__C=100, lr__max_iter=500, lr__penalty=l2, lr__solver=saga;, score=(train=0.902, test=0.901) total time=   9.9s\n",
            "[CV 8/10] END lr__C=100, lr__max_iter=500, lr__penalty=l2, lr__solver=saga;, score=(train=0.907, test=0.903) total time=   7.3s\n",
            "[CV 9/10] END lr__C=100, lr__max_iter=500, lr__penalty=l2, lr__solver=saga;, score=(train=0.908, test=0.907) total time=  12.6s\n",
            "[CV 10/10] END lr__C=100, lr__max_iter=500, lr__penalty=l2, lr__solver=saga;, score=(train=0.905, test=0.902) total time=   6.2s\n",
            "[CV 1/10] END lr__C=100, lr__max_iter=1000, lr__penalty=l2, lr__solver=newton-cg;, score=(train=0.905, test=0.903) total time=   5.9s\n",
            "[CV 2/10] END lr__C=100, lr__max_iter=1000, lr__penalty=l2, lr__solver=newton-cg;, score=(train=0.903, test=0.897) total time=   7.2s\n",
            "[CV 3/10] END lr__C=100, lr__max_iter=1000, lr__penalty=l2, lr__solver=newton-cg;, score=(train=0.906, test=0.905) total time=   6.7s\n",
            "[CV 4/10] END lr__C=100, lr__max_iter=1000, lr__penalty=l2, lr__solver=newton-cg;, score=(train=0.906, test=0.905) total time=   6.0s\n",
            "[CV 5/10] END lr__C=100, lr__max_iter=1000, lr__penalty=l2, lr__solver=newton-cg;, score=(train=0.905, test=0.906) total time=   7.0s\n",
            "[CV 6/10] END lr__C=100, lr__max_iter=1000, lr__penalty=l2, lr__solver=newton-cg;, score=(train=0.906, test=0.905) total time=   5.2s\n",
            "[CV 7/10] END lr__C=100, lr__max_iter=1000, lr__penalty=l2, lr__solver=newton-cg;, score=(train=0.902, test=0.901) total time=   5.7s\n",
            "[CV 8/10] END lr__C=100, lr__max_iter=1000, lr__penalty=l2, lr__solver=newton-cg;, score=(train=0.907, test=0.903) total time=   5.5s\n",
            "[CV 9/10] END lr__C=100, lr__max_iter=1000, lr__penalty=l2, lr__solver=newton-cg;, score=(train=0.908, test=0.907) total time=   5.6s\n",
            "[CV 10/10] END lr__C=100, lr__max_iter=1000, lr__penalty=l2, lr__solver=newton-cg;, score=(train=0.905, test=0.902) total time=   4.9s\n",
            "[CV 1/10] END lr__C=100, lr__max_iter=1000, lr__penalty=l2, lr__solver=lbfgs;, score=(train=0.905, test=0.903) total time=   4.5s\n",
            "[CV 2/10] END lr__C=100, lr__max_iter=1000, lr__penalty=l2, lr__solver=lbfgs;, score=(train=0.903, test=0.897) total time=   5.6s\n",
            "[CV 3/10] END lr__C=100, lr__max_iter=1000, lr__penalty=l2, lr__solver=lbfgs;, score=(train=0.906, test=0.905) total time=   4.1s\n",
            "[CV 4/10] END lr__C=100, lr__max_iter=1000, lr__penalty=l2, lr__solver=lbfgs;, score=(train=0.906, test=0.905) total time=   5.5s\n",
            "[CV 5/10] END lr__C=100, lr__max_iter=1000, lr__penalty=l2, lr__solver=lbfgs;, score=(train=0.905, test=0.906) total time=   5.6s\n",
            "[CV 6/10] END lr__C=100, lr__max_iter=1000, lr__penalty=l2, lr__solver=lbfgs;, score=(train=0.906, test=0.904) total time=   4.2s\n",
            "[CV 7/10] END lr__C=100, lr__max_iter=1000, lr__penalty=l2, lr__solver=lbfgs;, score=(train=0.902, test=0.901) total time=   7.7s\n",
            "[CV 8/10] END lr__C=100, lr__max_iter=1000, lr__penalty=l2, lr__solver=lbfgs;, score=(train=0.907, test=0.903) total time=   6.3s\n",
            "[CV 9/10] END lr__C=100, lr__max_iter=1000, lr__penalty=l2, lr__solver=lbfgs;, score=(train=0.908, test=0.907) total time=   5.1s\n",
            "[CV 10/10] END lr__C=100, lr__max_iter=1000, lr__penalty=l2, lr__solver=lbfgs;, score=(train=0.905, test=0.902) total time=   4.2s\n",
            "[CV 1/10] END lr__C=100, lr__max_iter=1000, lr__penalty=l2, lr__solver=liblinear;, score=(train=0.905, test=0.903) total time=   0.8s\n",
            "[CV 2/10] END lr__C=100, lr__max_iter=1000, lr__penalty=l2, lr__solver=liblinear;, score=(train=0.903, test=0.897) total time=   0.9s\n",
            "[CV 3/10] END lr__C=100, lr__max_iter=1000, lr__penalty=l2, lr__solver=liblinear;, score=(train=0.906, test=0.905) total time=   0.8s\n",
            "[CV 4/10] END lr__C=100, lr__max_iter=1000, lr__penalty=l2, lr__solver=liblinear;, score=(train=0.906, test=0.905) total time=   0.9s\n",
            "[CV 5/10] END lr__C=100, lr__max_iter=1000, lr__penalty=l2, lr__solver=liblinear;, score=(train=0.905, test=0.906) total time=   0.9s\n",
            "[CV 6/10] END lr__C=100, lr__max_iter=1000, lr__penalty=l2, lr__solver=liblinear;, score=(train=0.906, test=0.904) total time=   0.8s\n",
            "[CV 7/10] END lr__C=100, lr__max_iter=1000, lr__penalty=l2, lr__solver=liblinear;, score=(train=0.902, test=0.901) total time=   0.9s\n",
            "[CV 8/10] END lr__C=100, lr__max_iter=1000, lr__penalty=l2, lr__solver=liblinear;, score=(train=0.907, test=0.903) total time=   0.8s\n",
            "[CV 9/10] END lr__C=100, lr__max_iter=1000, lr__penalty=l2, lr__solver=liblinear;, score=(train=0.908, test=0.907) total time=   0.9s\n",
            "[CV 10/10] END lr__C=100, lr__max_iter=1000, lr__penalty=l2, lr__solver=liblinear;, score=(train=0.905, test=0.902) total time=   0.8s\n",
            "[CV 1/10] END lr__C=100, lr__max_iter=1000, lr__penalty=l2, lr__solver=sag;, score=(train=0.905, test=0.903) total time=   4.5s\n",
            "[CV 2/10] END lr__C=100, lr__max_iter=1000, lr__penalty=l2, lr__solver=sag;, score=(train=0.903, test=0.897) total time=   5.2s\n",
            "[CV 3/10] END lr__C=100, lr__max_iter=1000, lr__penalty=l2, lr__solver=sag;, score=(train=0.906, test=0.905) total time=   4.4s\n",
            "[CV 4/10] END lr__C=100, lr__max_iter=1000, lr__penalty=l2, lr__solver=sag;, score=(train=0.906, test=0.905) total time=   4.7s\n",
            "[CV 5/10] END lr__C=100, lr__max_iter=1000, lr__penalty=l2, lr__solver=sag;, score=(train=0.905, test=0.906) total time=   3.4s\n",
            "[CV 6/10] END lr__C=100, lr__max_iter=1000, lr__penalty=l2, lr__solver=sag;, score=(train=0.906, test=0.904) total time=   2.4s\n",
            "[CV 7/10] END lr__C=100, lr__max_iter=1000, lr__penalty=l2, lr__solver=sag;, score=(train=0.902, test=0.901) total time=   5.7s\n",
            "[CV 8/10] END lr__C=100, lr__max_iter=1000, lr__penalty=l2, lr__solver=sag;, score=(train=0.907, test=0.903) total time=   4.7s\n",
            "[CV 9/10] END lr__C=100, lr__max_iter=1000, lr__penalty=l2, lr__solver=sag;, score=(train=0.908, test=0.907) total time=   6.9s\n",
            "[CV 10/10] END lr__C=100, lr__max_iter=1000, lr__penalty=l2, lr__solver=sag;, score=(train=0.905, test=0.902) total time=   3.5s\n",
            "[CV 1/10] END lr__C=100, lr__max_iter=1000, lr__penalty=l2, lr__solver=saga;, score=(train=0.905, test=0.903) total time=   7.1s\n",
            "[CV 2/10] END lr__C=100, lr__max_iter=1000, lr__penalty=l2, lr__solver=saga;, score=(train=0.903, test=0.897) total time=   9.7s\n",
            "[CV 3/10] END lr__C=100, lr__max_iter=1000, lr__penalty=l2, lr__solver=saga;, score=(train=0.906, test=0.905) total time=   8.3s\n",
            "[CV 4/10] END lr__C=100, lr__max_iter=1000, lr__penalty=l2, lr__solver=saga;, score=(train=0.906, test=0.905) total time=   6.9s\n",
            "[CV 5/10] END lr__C=100, lr__max_iter=1000, lr__penalty=l2, lr__solver=saga;, score=(train=0.905, test=0.906) total time=   4.3s\n",
            "[CV 6/10] END lr__C=100, lr__max_iter=1000, lr__penalty=l2, lr__solver=saga;, score=(train=0.906, test=0.904) total time=   4.3s\n",
            "[CV 7/10] END lr__C=100, lr__max_iter=1000, lr__penalty=l2, lr__solver=saga;, score=(train=0.902, test=0.901) total time=   9.6s\n",
            "[CV 8/10] END lr__C=100, lr__max_iter=1000, lr__penalty=l2, lr__solver=saga;, score=(train=0.907, test=0.903) total time=   7.1s\n",
            "[CV 9/10] END lr__C=100, lr__max_iter=1000, lr__penalty=l2, lr__solver=saga;, score=(train=0.908, test=0.907) total time=  12.1s\n",
            "[CV 10/10] END lr__C=100, lr__max_iter=1000, lr__penalty=l2, lr__solver=saga;, score=(train=0.905, test=0.902) total time=   7.5s\n",
            "----------\n",
            "iter: 1\n",
            "n_candidates: 25\n",
            "n_resources: 119409\n",
            "Fitting 10 folds for each of 25 candidates, totalling 250 fits\n",
            "[CV 1/10] END lr__C=10, lr__max_iter=100, lr__penalty=l2, lr__solver=liblinear;, score=(train=0.906, test=0.905) total time=   3.1s\n",
            "[CV 2/10] END lr__C=10, lr__max_iter=100, lr__penalty=l2, lr__solver=liblinear;, score=(train=0.905, test=0.905) total time=   3.3s\n",
            "[CV 3/10] END lr__C=10, lr__max_iter=100, lr__penalty=l2, lr__solver=liblinear;, score=(train=0.906, test=0.902) total time=   3.1s\n",
            "[CV 4/10] END lr__C=10, lr__max_iter=100, lr__penalty=l2, lr__solver=liblinear;, score=(train=0.906, test=0.907) total time=   3.3s\n",
            "[CV 5/10] END lr__C=10, lr__max_iter=100, lr__penalty=l2, lr__solver=liblinear;, score=(train=0.905, test=0.909) total time=   3.5s\n",
            "[CV 6/10] END lr__C=10, lr__max_iter=100, lr__penalty=l2, lr__solver=liblinear;, score=(train=0.907, test=0.909) total time=   3.1s\n",
            "[CV 7/10] END lr__C=10, lr__max_iter=100, lr__penalty=l2, lr__solver=liblinear;, score=(train=0.905, test=0.906) total time=   2.9s\n",
            "[CV 8/10] END lr__C=10, lr__max_iter=100, lr__penalty=l2, lr__solver=liblinear;, score=(train=0.904, test=0.903) total time=   2.9s\n",
            "[CV 9/10] END lr__C=10, lr__max_iter=100, lr__penalty=l2, lr__solver=liblinear;, score=(train=0.906, test=0.906) total time=   3.3s\n",
            "[CV 10/10] END lr__C=10, lr__max_iter=100, lr__penalty=l2, lr__solver=liblinear;, score=(train=0.907, test=0.905) total time=   3.0s\n",
            "[CV 1/10] END lr__C=10, lr__max_iter=500, lr__penalty=l2, lr__solver=liblinear;, score=(train=0.906, test=0.905) total time=   3.0s\n",
            "[CV 2/10] END lr__C=10, lr__max_iter=500, lr__penalty=l2, lr__solver=liblinear;, score=(train=0.905, test=0.905) total time=   3.2s\n",
            "[CV 3/10] END lr__C=10, lr__max_iter=500, lr__penalty=l2, lr__solver=liblinear;, score=(train=0.906, test=0.902) total time=   2.8s\n",
            "[CV 4/10] END lr__C=10, lr__max_iter=500, lr__penalty=l2, lr__solver=liblinear;, score=(train=0.906, test=0.907) total time=   3.1s\n",
            "[CV 5/10] END lr__C=10, lr__max_iter=500, lr__penalty=l2, lr__solver=liblinear;, score=(train=0.905, test=0.909) total time=   3.2s\n",
            "[CV 6/10] END lr__C=10, lr__max_iter=500, lr__penalty=l2, lr__solver=liblinear;, score=(train=0.907, test=0.909) total time=   2.9s\n",
            "[CV 7/10] END lr__C=10, lr__max_iter=500, lr__penalty=l2, lr__solver=liblinear;, score=(train=0.905, test=0.906) total time=   2.7s\n",
            "[CV 8/10] END lr__C=10, lr__max_iter=500, lr__penalty=l2, lr__solver=liblinear;, score=(train=0.904, test=0.903) total time=   2.8s\n",
            "[CV 9/10] END lr__C=10, lr__max_iter=500, lr__penalty=l2, lr__solver=liblinear;, score=(train=0.906, test=0.906) total time=   3.0s\n",
            "[CV 10/10] END lr__C=10, lr__max_iter=500, lr__penalty=l2, lr__solver=liblinear;, score=(train=0.907, test=0.905) total time=   2.9s\n",
            "[CV 1/10] END lr__C=10, lr__max_iter=1000, lr__penalty=l2, lr__solver=newton-cg;, score=(train=0.906, test=0.905) total time=  12.1s\n",
            "[CV 2/10] END lr__C=10, lr__max_iter=1000, lr__penalty=l2, lr__solver=newton-cg;, score=(train=0.905, test=0.905) total time=  12.6s\n",
            "[CV 3/10] END lr__C=10, lr__max_iter=1000, lr__penalty=l2, lr__solver=newton-cg;, score=(train=0.906, test=0.902) total time=  13.1s\n",
            "[CV 4/10] END lr__C=10, lr__max_iter=1000, lr__penalty=l2, lr__solver=newton-cg;, score=(train=0.906, test=0.907) total time=  13.6s\n",
            "[CV 5/10] END lr__C=10, lr__max_iter=1000, lr__penalty=l2, lr__solver=newton-cg;, score=(train=0.905, test=0.909) total time=  12.2s\n",
            "[CV 6/10] END lr__C=10, lr__max_iter=1000, lr__penalty=l2, lr__solver=newton-cg;, score=(train=0.907, test=0.909) total time=  15.0s\n",
            "[CV 7/10] END lr__C=10, lr__max_iter=1000, lr__penalty=l2, lr__solver=newton-cg;, score=(train=0.905, test=0.906) total time=  13.4s\n",
            "[CV 8/10] END lr__C=10, lr__max_iter=1000, lr__penalty=l2, lr__solver=newton-cg;, score=(train=0.904, test=0.903) total time=  14.1s\n",
            "[CV 9/10] END lr__C=10, lr__max_iter=1000, lr__penalty=l2, lr__solver=newton-cg;, score=(train=0.906, test=0.906) total time=  12.7s\n",
            "[CV 10/10] END lr__C=10, lr__max_iter=1000, lr__penalty=l2, lr__solver=newton-cg;, score=(train=0.907, test=0.905) total time=  13.9s\n",
            "[CV 1/10] END lr__C=10, lr__max_iter=100, lr__penalty=l2, lr__solver=newton-cg;, score=(train=0.906, test=0.905) total time=  11.9s\n",
            "[CV 2/10] END lr__C=10, lr__max_iter=100, lr__penalty=l2, lr__solver=newton-cg;, score=(train=0.905, test=0.905) total time=  12.6s\n",
            "[CV 3/10] END lr__C=10, lr__max_iter=100, lr__penalty=l2, lr__solver=newton-cg;, score=(train=0.906, test=0.902) total time=  12.9s\n",
            "[CV 4/10] END lr__C=10, lr__max_iter=100, lr__penalty=l2, lr__solver=newton-cg;, score=(train=0.906, test=0.907) total time=  13.7s\n",
            "[CV 5/10] END lr__C=10, lr__max_iter=100, lr__penalty=l2, lr__solver=newton-cg;, score=(train=0.905, test=0.909) total time=  12.4s\n",
            "[CV 6/10] END lr__C=10, lr__max_iter=100, lr__penalty=l2, lr__solver=newton-cg;, score=(train=0.907, test=0.909) total time=  13.4s\n",
            "[CV 7/10] END lr__C=10, lr__max_iter=100, lr__penalty=l2, lr__solver=newton-cg;, score=(train=0.905, test=0.906) total time=  15.1s\n",
            "[CV 8/10] END lr__C=10, lr__max_iter=100, lr__penalty=l2, lr__solver=newton-cg;, score=(train=0.904, test=0.903) total time=  13.9s\n",
            "[CV 9/10] END lr__C=10, lr__max_iter=100, lr__penalty=l2, lr__solver=newton-cg;, score=(train=0.906, test=0.906) total time=  12.6s\n",
            "[CV 10/10] END lr__C=10, lr__max_iter=100, lr__penalty=l2, lr__solver=newton-cg;, score=(train=0.907, test=0.905) total time=  13.7s\n",
            "[CV 1/10] END lr__C=10, lr__max_iter=500, lr__penalty=l2, lr__solver=newton-cg;, score=(train=0.906, test=0.905) total time=  11.8s\n",
            "[CV 2/10] END lr__C=10, lr__max_iter=500, lr__penalty=l2, lr__solver=newton-cg;, score=(train=0.905, test=0.905) total time=  12.7s\n",
            "[CV 3/10] END lr__C=10, lr__max_iter=500, lr__penalty=l2, lr__solver=newton-cg;, score=(train=0.906, test=0.902) total time=  13.0s\n",
            "[CV 4/10] END lr__C=10, lr__max_iter=500, lr__penalty=l2, lr__solver=newton-cg;, score=(train=0.906, test=0.907) total time=  13.7s\n",
            "[CV 5/10] END lr__C=10, lr__max_iter=500, lr__penalty=l2, lr__solver=newton-cg;, score=(train=0.905, test=0.909) total time=  12.3s\n",
            "[CV 6/10] END lr__C=10, lr__max_iter=500, lr__penalty=l2, lr__solver=newton-cg;, score=(train=0.907, test=0.909) total time=  13.3s\n",
            "[CV 7/10] END lr__C=10, lr__max_iter=500, lr__penalty=l2, lr__solver=newton-cg;, score=(train=0.905, test=0.906) total time=  13.3s\n",
            "[CV 8/10] END lr__C=10, lr__max_iter=500, lr__penalty=l2, lr__solver=newton-cg;, score=(train=0.904, test=0.903) total time=  15.8s\n",
            "[CV 9/10] END lr__C=10, lr__max_iter=500, lr__penalty=l2, lr__solver=newton-cg;, score=(train=0.906, test=0.906) total time=  12.7s\n",
            "[CV 10/10] END lr__C=10, lr__max_iter=500, lr__penalty=l2, lr__solver=newton-cg;, score=(train=0.907, test=0.905) total time=  13.9s\n",
            "[CV 1/10] END lr__C=10, lr__max_iter=500, lr__penalty=l2, lr__solver=saga;, score=(train=0.906, test=0.905) total time=   7.0s\n",
            "[CV 2/10] END lr__C=10, lr__max_iter=500, lr__penalty=l2, lr__solver=saga;, score=(train=0.905, test=0.905) total time=   6.4s\n",
            "[CV 3/10] END lr__C=10, lr__max_iter=500, lr__penalty=l2, lr__solver=saga;, score=(train=0.906, test=0.902) total time=   7.3s\n",
            "[CV 4/10] END lr__C=10, lr__max_iter=500, lr__penalty=l2, lr__solver=saga;, score=(train=0.906, test=0.907) total time=  10.0s\n",
            "[CV 5/10] END lr__C=10, lr__max_iter=500, lr__penalty=l2, lr__solver=saga;, score=(train=0.905, test=0.909) total time=  12.6s\n",
            "[CV 6/10] END lr__C=10, lr__max_iter=500, lr__penalty=l2, lr__solver=saga;, score=(train=0.907, test=0.909) total time=   6.0s\n",
            "[CV 7/10] END lr__C=10, lr__max_iter=500, lr__penalty=l2, lr__solver=saga;, score=(train=0.905, test=0.906) total time=   7.1s\n",
            "[CV 8/10] END lr__C=10, lr__max_iter=500, lr__penalty=l2, lr__solver=saga;, score=(train=0.904, test=0.903) total time=   9.1s\n",
            "[CV 9/10] END lr__C=10, lr__max_iter=500, lr__penalty=l2, lr__solver=saga;, score=(train=0.906, test=0.906) total time=  10.2s\n",
            "[CV 10/10] END lr__C=10, lr__max_iter=500, lr__penalty=l2, lr__solver=saga;, score=(train=0.907, test=0.905) total time=   6.6s\n",
            "[CV 1/10] END lr__C=10, lr__max_iter=100, lr__penalty=l2, lr__solver=saga;, score=(train=0.906, test=0.905) total time=   6.5s\n",
            "[CV 2/10] END lr__C=10, lr__max_iter=100, lr__penalty=l2, lr__solver=saga;, score=(train=0.905, test=0.905) total time=   7.0s\n",
            "[CV 3/10] END lr__C=10, lr__max_iter=100, lr__penalty=l2, lr__solver=saga;, score=(train=0.906, test=0.902) total time=   7.5s\n",
            "[CV 4/10] END lr__C=10, lr__max_iter=100, lr__penalty=l2, lr__solver=saga;, score=(train=0.906, test=0.907) total time=  10.9s\n",
            "[CV 5/10] END lr__C=10, lr__max_iter=100, lr__penalty=l2, lr__solver=saga;, score=(train=0.905, test=0.909) total time=  12.7s\n",
            "[CV 6/10] END lr__C=10, lr__max_iter=100, lr__penalty=l2, lr__solver=saga;, score=(train=0.907, test=0.909) total time=   6.2s\n",
            "[CV 7/10] END lr__C=10, lr__max_iter=100, lr__penalty=l2, lr__solver=saga;, score=(train=0.905, test=0.906) total time=   7.4s\n",
            "[CV 8/10] END lr__C=10, lr__max_iter=100, lr__penalty=l2, lr__solver=saga;, score=(train=0.904, test=0.903) total time=   9.4s\n",
            "[CV 9/10] END lr__C=10, lr__max_iter=100, lr__penalty=l2, lr__solver=saga;, score=(train=0.906, test=0.906) total time=  10.1s\n",
            "[CV 10/10] END lr__C=10, lr__max_iter=100, lr__penalty=l2, lr__solver=saga;, score=(train=0.907, test=0.905) total time=   6.5s\n",
            "[CV 1/10] END lr__C=10, lr__max_iter=1000, lr__penalty=l2, lr__solver=saga;, score=(train=0.906, test=0.905) total time=   6.9s\n",
            "[CV 2/10] END lr__C=10, lr__max_iter=1000, lr__penalty=l2, lr__solver=saga;, score=(train=0.905, test=0.905) total time=   6.9s\n",
            "[CV 3/10] END lr__C=10, lr__max_iter=1000, lr__penalty=l2, lr__solver=saga;, score=(train=0.906, test=0.902) total time=   6.9s\n",
            "[CV 4/10] END lr__C=10, lr__max_iter=1000, lr__penalty=l2, lr__solver=saga;, score=(train=0.906, test=0.907) total time=   9.8s\n",
            "[CV 5/10] END lr__C=10, lr__max_iter=1000, lr__penalty=l2, lr__solver=saga;, score=(train=0.905, test=0.909) total time=  12.7s\n",
            "[CV 6/10] END lr__C=10, lr__max_iter=1000, lr__penalty=l2, lr__solver=saga;, score=(train=0.907, test=0.909) total time=   6.1s\n",
            "[CV 7/10] END lr__C=10, lr__max_iter=1000, lr__penalty=l2, lr__solver=saga;, score=(train=0.905, test=0.906) total time=   7.1s\n",
            "[CV 8/10] END lr__C=10, lr__max_iter=1000, lr__penalty=l2, lr__solver=saga;, score=(train=0.904, test=0.903) total time=   9.1s\n",
            "[CV 9/10] END lr__C=10, lr__max_iter=1000, lr__penalty=l2, lr__solver=saga;, score=(train=0.906, test=0.906) total time=  10.1s\n",
            "[CV 10/10] END lr__C=10, lr__max_iter=1000, lr__penalty=l2, lr__solver=saga;, score=(train=0.907, test=0.905) total time=  10.4s\n",
            "[CV 1/10] END lr__C=10, lr__max_iter=100, lr__penalty=l2, lr__solver=sag;, score=(train=0.906, test=0.905) total time=   6.5s\n",
            "[CV 2/10] END lr__C=10, lr__max_iter=100, lr__penalty=l2, lr__solver=sag;, score=(train=0.905, test=0.905) total time=   4.4s\n",
            "[CV 3/10] END lr__C=10, lr__max_iter=100, lr__penalty=l2, lr__solver=sag;, score=(train=0.906, test=0.902) total time=   3.6s\n",
            "[CV 4/10] END lr__C=10, lr__max_iter=100, lr__penalty=l2, lr__solver=sag;, score=(train=0.906, test=0.907) total time=   5.8s\n",
            "[CV 5/10] END lr__C=10, lr__max_iter=100, lr__penalty=l2, lr__solver=sag;, score=(train=0.905, test=0.909) total time=   6.8s\n",
            "[CV 6/10] END lr__C=10, lr__max_iter=100, lr__penalty=l2, lr__solver=sag;, score=(train=0.907, test=0.909) total time=   3.6s\n",
            "[CV 7/10] END lr__C=10, lr__max_iter=100, lr__penalty=l2, lr__solver=sag;, score=(train=0.905, test=0.907) total time=   3.6s\n",
            "[CV 8/10] END lr__C=10, lr__max_iter=100, lr__penalty=l2, lr__solver=sag;, score=(train=0.904, test=0.903) total time=   4.7s\n",
            "[CV 9/10] END lr__C=10, lr__max_iter=100, lr__penalty=l2, lr__solver=sag;, score=(train=0.906, test=0.906) total time=   5.4s\n",
            "[CV 10/10] END lr__C=10, lr__max_iter=100, lr__penalty=l2, lr__solver=sag;, score=(train=0.907, test=0.905) total time=   4.3s\n",
            "[CV 1/10] END lr__C=10, lr__max_iter=500, lr__penalty=l2, lr__solver=sag;, score=(train=0.906, test=0.905) total time=   4.3s\n",
            "[CV 2/10] END lr__C=10, lr__max_iter=500, lr__penalty=l2, lr__solver=sag;, score=(train=0.905, test=0.905) total time=   4.5s\n",
            "[CV 3/10] END lr__C=10, lr__max_iter=500, lr__penalty=l2, lr__solver=sag;, score=(train=0.906, test=0.902) total time=   3.8s\n",
            "[CV 4/10] END lr__C=10, lr__max_iter=500, lr__penalty=l2, lr__solver=sag;, score=(train=0.906, test=0.907) total time=   5.6s\n",
            "[CV 5/10] END lr__C=10, lr__max_iter=500, lr__penalty=l2, lr__solver=sag;, score=(train=0.905, test=0.909) total time=   6.7s\n",
            "[CV 6/10] END lr__C=10, lr__max_iter=500, lr__penalty=l2, lr__solver=sag;, score=(train=0.906, test=0.909) total time=   4.1s\n",
            "[CV 7/10] END lr__C=10, lr__max_iter=500, lr__penalty=l2, lr__solver=sag;, score=(train=0.905, test=0.906) total time=   3.9s\n",
            "[CV 8/10] END lr__C=10, lr__max_iter=500, lr__penalty=l2, lr__solver=sag;, score=(train=0.904, test=0.903) total time=   4.2s\n",
            "[CV 9/10] END lr__C=10, lr__max_iter=500, lr__penalty=l2, lr__solver=sag;, score=(train=0.906, test=0.906) total time=   5.8s\n",
            "[CV 10/10] END lr__C=10, lr__max_iter=500, lr__penalty=l2, lr__solver=sag;, score=(train=0.907, test=0.905) total time=   4.5s\n"
          ]
        },
        {
          "metadata": {
            "tags": null
          },
          "name": "stderr",
          "output_type": "stream",
          "text": [
            "/usr/local/lib/python3.7/dist-packages/sklearn/linear_model/_logistic.py:818: ConvergenceWarning: lbfgs failed to converge (status=1):\n",
            "STOP: TOTAL NO. of ITERATIONS REACHED LIMIT.\n",
            "\n",
            "Increase the number of iterations (max_iter) or scale the data as shown in:\n",
            "    https://scikit-learn.org/stable/modules/preprocessing.html\n",
            "Please also refer to the documentation for alternative solver options:\n",
            "    https://scikit-learn.org/stable/modules/linear_model.html#logistic-regression\n",
            "  extra_warning_msg=_LOGISTIC_SOLVER_CONVERGENCE_MSG,\n"
          ]
        },
        {
          "metadata": {
            "tags": null
          },
          "name": "stdout",
          "output_type": "stream",
          "text": [
            "[CV 1/10] END lr__C=100, lr__max_iter=100, lr__penalty=l2, lr__solver=lbfgs;, score=(train=0.906, test=0.904) total time=   3.1s\n"
          ]
        },
        {
          "metadata": {
            "tags": null
          },
          "name": "stderr",
          "output_type": "stream",
          "text": [
            "/usr/local/lib/python3.7/dist-packages/sklearn/linear_model/_logistic.py:818: ConvergenceWarning: lbfgs failed to converge (status=1):\n",
            "STOP: TOTAL NO. of ITERATIONS REACHED LIMIT.\n",
            "\n",
            "Increase the number of iterations (max_iter) or scale the data as shown in:\n",
            "    https://scikit-learn.org/stable/modules/preprocessing.html\n",
            "Please also refer to the documentation for alternative solver options:\n",
            "    https://scikit-learn.org/stable/modules/linear_model.html#logistic-regression\n",
            "  extra_warning_msg=_LOGISTIC_SOLVER_CONVERGENCE_MSG,\n"
          ]
        },
        {
          "metadata": {
            "tags": null
          },
          "name": "stdout",
          "output_type": "stream",
          "text": [
            "[CV 2/10] END lr__C=100, lr__max_iter=100, lr__penalty=l2, lr__solver=lbfgs;, score=(train=0.905, test=0.905) total time=   3.3s\n"
          ]
        },
        {
          "metadata": {
            "tags": null
          },
          "name": "stderr",
          "output_type": "stream",
          "text": [
            "/usr/local/lib/python3.7/dist-packages/sklearn/linear_model/_logistic.py:818: ConvergenceWarning: lbfgs failed to converge (status=1):\n",
            "STOP: TOTAL NO. of ITERATIONS REACHED LIMIT.\n",
            "\n",
            "Increase the number of iterations (max_iter) or scale the data as shown in:\n",
            "    https://scikit-learn.org/stable/modules/preprocessing.html\n",
            "Please also refer to the documentation for alternative solver options:\n",
            "    https://scikit-learn.org/stable/modules/linear_model.html#logistic-regression\n",
            "  extra_warning_msg=_LOGISTIC_SOLVER_CONVERGENCE_MSG,\n"
          ]
        },
        {
          "metadata": {
            "tags": null
          },
          "name": "stdout",
          "output_type": "stream",
          "text": [
            "[CV 3/10] END lr__C=100, lr__max_iter=100, lr__penalty=l2, lr__solver=lbfgs;, score=(train=0.905, test=0.901) total time=   3.3s\n"
          ]
        },
        {
          "metadata": {
            "tags": null
          },
          "name": "stderr",
          "output_type": "stream",
          "text": [
            "/usr/local/lib/python3.7/dist-packages/sklearn/linear_model/_logistic.py:818: ConvergenceWarning: lbfgs failed to converge (status=1):\n",
            "STOP: TOTAL NO. of ITERATIONS REACHED LIMIT.\n",
            "\n",
            "Increase the number of iterations (max_iter) or scale the data as shown in:\n",
            "    https://scikit-learn.org/stable/modules/preprocessing.html\n",
            "Please also refer to the documentation for alternative solver options:\n",
            "    https://scikit-learn.org/stable/modules/linear_model.html#logistic-regression\n",
            "  extra_warning_msg=_LOGISTIC_SOLVER_CONVERGENCE_MSG,\n"
          ]
        },
        {
          "metadata": {
            "tags": null
          },
          "name": "stdout",
          "output_type": "stream",
          "text": [
            "[CV 4/10] END lr__C=100, lr__max_iter=100, lr__penalty=l2, lr__solver=lbfgs;, score=(train=0.907, test=0.907) total time=   3.2s\n"
          ]
        },
        {
          "metadata": {
            "tags": null
          },
          "name": "stderr",
          "output_type": "stream",
          "text": [
            "/usr/local/lib/python3.7/dist-packages/sklearn/linear_model/_logistic.py:818: ConvergenceWarning: lbfgs failed to converge (status=1):\n",
            "STOP: TOTAL NO. of ITERATIONS REACHED LIMIT.\n",
            "\n",
            "Increase the number of iterations (max_iter) or scale the data as shown in:\n",
            "    https://scikit-learn.org/stable/modules/preprocessing.html\n",
            "Please also refer to the documentation for alternative solver options:\n",
            "    https://scikit-learn.org/stable/modules/linear_model.html#logistic-regression\n",
            "  extra_warning_msg=_LOGISTIC_SOLVER_CONVERGENCE_MSG,\n"
          ]
        },
        {
          "metadata": {
            "tags": null
          },
          "name": "stdout",
          "output_type": "stream",
          "text": [
            "[CV 5/10] END lr__C=100, lr__max_iter=100, lr__penalty=l2, lr__solver=lbfgs;, score=(train=0.905, test=0.909) total time=   3.1s\n"
          ]
        },
        {
          "metadata": {
            "tags": null
          },
          "name": "stderr",
          "output_type": "stream",
          "text": [
            "/usr/local/lib/python3.7/dist-packages/sklearn/linear_model/_logistic.py:818: ConvergenceWarning: lbfgs failed to converge (status=1):\n",
            "STOP: TOTAL NO. of ITERATIONS REACHED LIMIT.\n",
            "\n",
            "Increase the number of iterations (max_iter) or scale the data as shown in:\n",
            "    https://scikit-learn.org/stable/modules/preprocessing.html\n",
            "Please also refer to the documentation for alternative solver options:\n",
            "    https://scikit-learn.org/stable/modules/linear_model.html#logistic-regression\n",
            "  extra_warning_msg=_LOGISTIC_SOLVER_CONVERGENCE_MSG,\n"
          ]
        },
        {
          "metadata": {
            "tags": null
          },
          "name": "stdout",
          "output_type": "stream",
          "text": [
            "[CV 6/10] END lr__C=100, lr__max_iter=100, lr__penalty=l2, lr__solver=lbfgs;, score=(train=0.907, test=0.909) total time=   3.4s\n"
          ]
        },
        {
          "metadata": {
            "tags": null
          },
          "name": "stderr",
          "output_type": "stream",
          "text": [
            "/usr/local/lib/python3.7/dist-packages/sklearn/linear_model/_logistic.py:818: ConvergenceWarning: lbfgs failed to converge (status=1):\n",
            "STOP: TOTAL NO. of ITERATIONS REACHED LIMIT.\n",
            "\n",
            "Increase the number of iterations (max_iter) or scale the data as shown in:\n",
            "    https://scikit-learn.org/stable/modules/preprocessing.html\n",
            "Please also refer to the documentation for alternative solver options:\n",
            "    https://scikit-learn.org/stable/modules/linear_model.html#logistic-regression\n",
            "  extra_warning_msg=_LOGISTIC_SOLVER_CONVERGENCE_MSG,\n"
          ]
        },
        {
          "metadata": {
            "tags": null
          },
          "name": "stdout",
          "output_type": "stream",
          "text": [
            "[CV 7/10] END lr__C=100, lr__max_iter=100, lr__penalty=l2, lr__solver=lbfgs;, score=(train=0.904, test=0.905) total time=   3.3s\n"
          ]
        },
        {
          "metadata": {
            "tags": null
          },
          "name": "stderr",
          "output_type": "stream",
          "text": [
            "/usr/local/lib/python3.7/dist-packages/sklearn/linear_model/_logistic.py:818: ConvergenceWarning: lbfgs failed to converge (status=1):\n",
            "STOP: TOTAL NO. of ITERATIONS REACHED LIMIT.\n",
            "\n",
            "Increase the number of iterations (max_iter) or scale the data as shown in:\n",
            "    https://scikit-learn.org/stable/modules/preprocessing.html\n",
            "Please also refer to the documentation for alternative solver options:\n",
            "    https://scikit-learn.org/stable/modules/linear_model.html#logistic-regression\n",
            "  extra_warning_msg=_LOGISTIC_SOLVER_CONVERGENCE_MSG,\n"
          ]
        },
        {
          "metadata": {
            "tags": null
          },
          "name": "stdout",
          "output_type": "stream",
          "text": [
            "[CV 8/10] END lr__C=100, lr__max_iter=100, lr__penalty=l2, lr__solver=lbfgs;, score=(train=0.905, test=0.904) total time=   3.3s\n"
          ]
        },
        {
          "metadata": {
            "tags": null
          },
          "name": "stderr",
          "output_type": "stream",
          "text": [
            "/usr/local/lib/python3.7/dist-packages/sklearn/linear_model/_logistic.py:818: ConvergenceWarning: lbfgs failed to converge (status=1):\n",
            "STOP: TOTAL NO. of ITERATIONS REACHED LIMIT.\n",
            "\n",
            "Increase the number of iterations (max_iter) or scale the data as shown in:\n",
            "    https://scikit-learn.org/stable/modules/preprocessing.html\n",
            "Please also refer to the documentation for alternative solver options:\n",
            "    https://scikit-learn.org/stable/modules/linear_model.html#logistic-regression\n",
            "  extra_warning_msg=_LOGISTIC_SOLVER_CONVERGENCE_MSG,\n"
          ]
        },
        {
          "metadata": {
            "tags": null
          },
          "name": "stdout",
          "output_type": "stream",
          "text": [
            "[CV 9/10] END lr__C=100, lr__max_iter=100, lr__penalty=l2, lr__solver=lbfgs;, score=(train=0.906, test=0.907) total time=   3.0s\n"
          ]
        },
        {
          "metadata": {
            "tags": null
          },
          "name": "stderr",
          "output_type": "stream",
          "text": [
            "/usr/local/lib/python3.7/dist-packages/sklearn/linear_model/_logistic.py:818: ConvergenceWarning: lbfgs failed to converge (status=1):\n",
            "STOP: TOTAL NO. of ITERATIONS REACHED LIMIT.\n",
            "\n",
            "Increase the number of iterations (max_iter) or scale the data as shown in:\n",
            "    https://scikit-learn.org/stable/modules/preprocessing.html\n",
            "Please also refer to the documentation for alternative solver options:\n",
            "    https://scikit-learn.org/stable/modules/linear_model.html#logistic-regression\n",
            "  extra_warning_msg=_LOGISTIC_SOLVER_CONVERGENCE_MSG,\n"
          ]
        },
        {
          "metadata": {
            "tags": null
          },
          "name": "stdout",
          "output_type": "stream",
          "text": [
            "[CV 10/10] END lr__C=100, lr__max_iter=100, lr__penalty=l2, lr__solver=lbfgs;, score=(train=0.907, test=0.906) total time=   3.2s\n",
            "[CV 1/10] END lr__C=100, lr__max_iter=1000, lr__penalty=l2, lr__solver=sag;, score=(train=0.906, test=0.905) total time=   6.8s\n",
            "[CV 2/10] END lr__C=100, lr__max_iter=1000, lr__penalty=l2, lr__solver=sag;, score=(train=0.906, test=0.905) total time=   9.5s\n",
            "[CV 3/10] END lr__C=100, lr__max_iter=1000, lr__penalty=l2, lr__solver=sag;, score=(train=0.906, test=0.902) total time=   5.0s\n",
            "[CV 4/10] END lr__C=100, lr__max_iter=1000, lr__penalty=l2, lr__solver=sag;, score=(train=0.907, test=0.907) total time=  17.2s\n",
            "[CV 5/10] END lr__C=100, lr__max_iter=1000, lr__penalty=l2, lr__solver=sag;, score=(train=0.906, test=0.909) total time=  11.6s\n",
            "[CV 6/10] END lr__C=100, lr__max_iter=1000, lr__penalty=l2, lr__solver=sag;, score=(train=0.907, test=0.909) total time=  11.2s\n",
            "[CV 7/10] END lr__C=100, lr__max_iter=1000, lr__penalty=l2, lr__solver=sag;, score=(train=0.905, test=0.907) total time=   4.6s\n",
            "[CV 8/10] END lr__C=100, lr__max_iter=1000, lr__penalty=l2, lr__solver=sag;, score=(train=0.904, test=0.903) total time=  12.2s\n",
            "[CV 9/10] END lr__C=100, lr__max_iter=1000, lr__penalty=l2, lr__solver=sag;, score=(train=0.907, test=0.907) total time=  12.3s\n",
            "[CV 10/10] END lr__C=100, lr__max_iter=1000, lr__penalty=l2, lr__solver=sag;, score=(train=0.907, test=0.906) total time=  12.4s\n",
            "[CV 1/10] END lr__C=100, lr__max_iter=1000, lr__penalty=l2, lr__solver=liblinear;, score=(train=0.906, test=0.905) total time=   3.2s\n",
            "[CV 2/10] END lr__C=100, lr__max_iter=1000, lr__penalty=l2, lr__solver=liblinear;, score=(train=0.906, test=0.905) total time=   3.3s\n",
            "[CV 3/10] END lr__C=100, lr__max_iter=1000, lr__penalty=l2, lr__solver=liblinear;, score=(train=0.906, test=0.902) total time=   3.0s\n",
            "[CV 4/10] END lr__C=100, lr__max_iter=1000, lr__penalty=l2, lr__solver=liblinear;, score=(train=0.907, test=0.908) total time=   3.2s\n",
            "[CV 5/10] END lr__C=100, lr__max_iter=1000, lr__penalty=l2, lr__solver=liblinear;, score=(train=0.906, test=0.909) total time=   2.9s\n",
            "[CV 6/10] END lr__C=100, lr__max_iter=1000, lr__penalty=l2, lr__solver=liblinear;, score=(train=0.907, test=0.909) total time=   2.9s\n",
            "[CV 7/10] END lr__C=100, lr__max_iter=1000, lr__penalty=l2, lr__solver=liblinear;, score=(train=0.905, test=0.907) total time=   2.5s\n",
            "[CV 8/10] END lr__C=100, lr__max_iter=1000, lr__penalty=l2, lr__solver=liblinear;, score=(train=0.904, test=0.903) total time=   2.7s\n",
            "[CV 9/10] END lr__C=100, lr__max_iter=1000, lr__penalty=l2, lr__solver=liblinear;, score=(train=0.907, test=0.906) total time=   3.0s\n",
            "[CV 10/10] END lr__C=100, lr__max_iter=1000, lr__penalty=l2, lr__solver=liblinear;, score=(train=0.907, test=0.906) total time=   2.8s\n",
            "[CV 1/10] END lr__C=100, lr__max_iter=100, lr__penalty=l2, lr__solver=liblinear;, score=(train=0.906, test=0.905) total time=   2.7s\n",
            "[CV 2/10] END lr__C=100, lr__max_iter=100, lr__penalty=l2, lr__solver=liblinear;, score=(train=0.906, test=0.905) total time=   2.8s\n",
            "[CV 3/10] END lr__C=100, lr__max_iter=100, lr__penalty=l2, lr__solver=liblinear;, score=(train=0.906, test=0.902) total time=   2.7s\n",
            "[CV 4/10] END lr__C=100, lr__max_iter=100, lr__penalty=l2, lr__solver=liblinear;, score=(train=0.907, test=0.908) total time=   3.0s\n",
            "[CV 5/10] END lr__C=100, lr__max_iter=100, lr__penalty=l2, lr__solver=liblinear;, score=(train=0.906, test=0.909) total time=   3.2s\n",
            "[CV 6/10] END lr__C=100, lr__max_iter=100, lr__penalty=l2, lr__solver=liblinear;, score=(train=0.907, test=0.909) total time=   3.3s\n",
            "[CV 7/10] END lr__C=100, lr__max_iter=100, lr__penalty=l2, lr__solver=liblinear;, score=(train=0.905, test=0.907) total time=   2.7s\n",
            "[CV 8/10] END lr__C=100, lr__max_iter=100, lr__penalty=l2, lr__solver=liblinear;, score=(train=0.904, test=0.903) total time=   2.7s\n",
            "[CV 9/10] END lr__C=100, lr__max_iter=100, lr__penalty=l2, lr__solver=liblinear;, score=(train=0.907, test=0.906) total time=   2.9s\n",
            "[CV 10/10] END lr__C=100, lr__max_iter=100, lr__penalty=l2, lr__solver=liblinear;, score=(train=0.907, test=0.906) total time=   2.8s\n",
            "[CV 1/10] END lr__C=100, lr__max_iter=500, lr__penalty=l2, lr__solver=liblinear;, score=(train=0.906, test=0.905) total time=   2.7s\n",
            "[CV 2/10] END lr__C=100, lr__max_iter=500, lr__penalty=l2, lr__solver=liblinear;, score=(train=0.906, test=0.905) total time=   2.9s\n",
            "[CV 3/10] END lr__C=100, lr__max_iter=500, lr__penalty=l2, lr__solver=liblinear;, score=(train=0.906, test=0.902) total time=   2.7s\n",
            "[CV 4/10] END lr__C=100, lr__max_iter=500, lr__penalty=l2, lr__solver=liblinear;, score=(train=0.907, test=0.908) total time=   3.0s\n",
            "[CV 5/10] END lr__C=100, lr__max_iter=500, lr__penalty=l2, lr__solver=liblinear;, score=(train=0.906, test=0.909) total time=   2.9s\n",
            "[CV 6/10] END lr__C=100, lr__max_iter=500, lr__penalty=l2, lr__solver=liblinear;, score=(train=0.907, test=0.909) total time=   3.1s\n",
            "[CV 7/10] END lr__C=100, lr__max_iter=500, lr__penalty=l2, lr__solver=liblinear;, score=(train=0.905, test=0.907) total time=   2.9s\n",
            "[CV 8/10] END lr__C=100, lr__max_iter=500, lr__penalty=l2, lr__solver=liblinear;, score=(train=0.904, test=0.903) total time=   3.0s\n",
            "[CV 9/10] END lr__C=100, lr__max_iter=500, lr__penalty=l2, lr__solver=liblinear;, score=(train=0.907, test=0.906) total time=   3.2s\n",
            "[CV 10/10] END lr__C=100, lr__max_iter=500, lr__penalty=l2, lr__solver=liblinear;, score=(train=0.907, test=0.906) total time=   2.8s\n",
            "[CV 1/10] END lr__C=100, lr__max_iter=500, lr__penalty=l2, lr__solver=sag;, score=(train=0.906, test=0.905) total time=   5.8s\n",
            "[CV 2/10] END lr__C=100, lr__max_iter=500, lr__penalty=l2, lr__solver=sag;, score=(train=0.906, test=0.905) total time=   9.2s\n",
            "[CV 3/10] END lr__C=100, lr__max_iter=500, lr__penalty=l2, lr__solver=sag;, score=(train=0.906, test=0.902) total time=   4.5s\n",
            "[CV 4/10] END lr__C=100, lr__max_iter=500, lr__penalty=l2, lr__solver=sag;, score=(train=0.907, test=0.907) total time=  17.3s\n",
            "[CV 5/10] END lr__C=100, lr__max_iter=500, lr__penalty=l2, lr__solver=sag;, score=(train=0.906, test=0.909) total time=  10.9s\n",
            "[CV 6/10] END lr__C=100, lr__max_iter=500, lr__penalty=l2, lr__solver=sag;, score=(train=0.907, test=0.909) total time=   9.9s\n",
            "[CV 7/10] END lr__C=100, lr__max_iter=500, lr__penalty=l2, lr__solver=sag;, score=(train=0.905, test=0.907) total time=   3.8s\n",
            "[CV 8/10] END lr__C=100, lr__max_iter=500, lr__penalty=l2, lr__solver=sag;, score=(train=0.904, test=0.903) total time=  10.6s\n",
            "[CV 9/10] END lr__C=100, lr__max_iter=500, lr__penalty=l2, lr__solver=sag;, score=(train=0.907, test=0.907) total time=  13.2s\n",
            "[CV 10/10] END lr__C=100, lr__max_iter=500, lr__penalty=l2, lr__solver=sag;, score=(train=0.907, test=0.906) total time=  14.4s\n",
            "[CV 1/10] END lr__C=100, lr__max_iter=100, lr__penalty=l2, lr__solver=sag;, score=(train=0.906, test=0.905) total time=   6.1s\n",
            "[CV 2/10] END lr__C=100, lr__max_iter=100, lr__penalty=l2, lr__solver=sag;, score=(train=0.906, test=0.905) total time=   9.3s\n",
            "[CV 3/10] END lr__C=100, lr__max_iter=100, lr__penalty=l2, lr__solver=sag;, score=(train=0.906, test=0.902) total time=   4.4s\n"
          ]
        },
        {
          "metadata": {
            "tags": null
          },
          "name": "stderr",
          "output_type": "stream",
          "text": [
            "/usr/local/lib/python3.7/dist-packages/sklearn/linear_model/_sag.py:354: ConvergenceWarning: The max_iter was reached which means the coef_ did not converge\n",
            "  ConvergenceWarning,\n"
          ]
        },
        {
          "metadata": {
            "tags": null
          },
          "name": "stdout",
          "output_type": "stream",
          "text": [
            "[CV 4/10] END lr__C=100, lr__max_iter=100, lr__penalty=l2, lr__solver=sag;, score=(train=0.907, test=0.907) total time=  13.2s\n",
            "[CV 5/10] END lr__C=100, lr__max_iter=100, lr__penalty=l2, lr__solver=sag;, score=(train=0.906, test=0.909) total time=  11.3s\n",
            "[CV 6/10] END lr__C=100, lr__max_iter=100, lr__penalty=l2, lr__solver=sag;, score=(train=0.907, test=0.909) total time=  10.7s\n",
            "[CV 7/10] END lr__C=100, lr__max_iter=100, lr__penalty=l2, lr__solver=sag;, score=(train=0.905, test=0.907) total time=   3.9s\n",
            "[CV 8/10] END lr__C=100, lr__max_iter=100, lr__penalty=l2, lr__solver=sag;, score=(train=0.904, test=0.903) total time=  11.6s\n"
          ]
        },
        {
          "metadata": {
            "tags": null
          },
          "name": "stderr",
          "output_type": "stream",
          "text": [
            "/usr/local/lib/python3.7/dist-packages/sklearn/linear_model/_sag.py:354: ConvergenceWarning: The max_iter was reached which means the coef_ did not converge\n",
            "  ConvergenceWarning,\n"
          ]
        },
        {
          "metadata": {
            "tags": null
          },
          "name": "stdout",
          "output_type": "stream",
          "text": [
            "[CV 9/10] END lr__C=100, lr__max_iter=100, lr__penalty=l2, lr__solver=sag;, score=(train=0.907, test=0.907) total time=  13.0s\n"
          ]
        },
        {
          "metadata": {
            "tags": null
          },
          "name": "stderr",
          "output_type": "stream",
          "text": [
            "/usr/local/lib/python3.7/dist-packages/sklearn/linear_model/_sag.py:354: ConvergenceWarning: The max_iter was reached which means the coef_ did not converge\n",
            "  ConvergenceWarning,\n"
          ]
        },
        {
          "metadata": {
            "tags": null
          },
          "name": "stdout",
          "output_type": "stream",
          "text": [
            "[CV 10/10] END lr__C=100, lr__max_iter=100, lr__penalty=l2, lr__solver=sag;, score=(train=0.907, test=0.906) total time=  13.0s\n",
            "[CV 1/10] END lr__C=100, lr__max_iter=500, lr__penalty=l2, lr__solver=newton-cg;, score=(train=0.906, test=0.905) total time=  16.5s\n",
            "[CV 2/10] END lr__C=100, lr__max_iter=500, lr__penalty=l2, lr__solver=newton-cg;, score=(train=0.906, test=0.905) total time=  17.4s\n",
            "[CV 3/10] END lr__C=100, lr__max_iter=500, lr__penalty=l2, lr__solver=newton-cg;, score=(train=0.906, test=0.902) total time=  17.9s\n",
            "[CV 4/10] END lr__C=100, lr__max_iter=500, lr__penalty=l2, lr__solver=newton-cg;, score=(train=0.907, test=0.907) total time=  19.8s\n",
            "[CV 5/10] END lr__C=100, lr__max_iter=500, lr__penalty=l2, lr__solver=newton-cg;, score=(train=0.906, test=0.909) total time=  18.8s\n",
            "[CV 6/10] END lr__C=100, lr__max_iter=500, lr__penalty=l2, lr__solver=newton-cg;, score=(train=0.907, test=0.909) total time=  21.6s\n",
            "[CV 7/10] END lr__C=100, lr__max_iter=500, lr__penalty=l2, lr__solver=newton-cg;, score=(train=0.905, test=0.907) total time=  17.2s\n",
            "[CV 8/10] END lr__C=100, lr__max_iter=500, lr__penalty=l2, lr__solver=newton-cg;, score=(train=0.904, test=0.903) total time=  23.2s\n",
            "[CV 9/10] END lr__C=100, lr__max_iter=500, lr__penalty=l2, lr__solver=newton-cg;, score=(train=0.907, test=0.907) total time=  18.3s\n",
            "[CV 10/10] END lr__C=100, lr__max_iter=500, lr__penalty=l2, lr__solver=newton-cg;, score=(train=0.907, test=0.906) total time=  23.7s\n",
            "[CV 1/10] END lr__C=100, lr__max_iter=1000, lr__penalty=l2, lr__solver=newton-cg;, score=(train=0.906, test=0.905) total time=  17.9s\n",
            "[CV 2/10] END lr__C=100, lr__max_iter=1000, lr__penalty=l2, lr__solver=newton-cg;, score=(train=0.906, test=0.905) total time=  18.5s\n",
            "[CV 3/10] END lr__C=100, lr__max_iter=1000, lr__penalty=l2, lr__solver=newton-cg;, score=(train=0.906, test=0.902) total time=  17.7s\n",
            "[CV 4/10] END lr__C=100, lr__max_iter=1000, lr__penalty=l2, lr__solver=newton-cg;, score=(train=0.907, test=0.907) total time=  22.0s\n",
            "[CV 5/10] END lr__C=100, lr__max_iter=1000, lr__penalty=l2, lr__solver=newton-cg;, score=(train=0.906, test=0.909) total time=  20.8s\n",
            "[CV 6/10] END lr__C=100, lr__max_iter=1000, lr__penalty=l2, lr__solver=newton-cg;, score=(train=0.907, test=0.909) total time=  24.4s\n",
            "[CV 7/10] END lr__C=100, lr__max_iter=1000, lr__penalty=l2, lr__solver=newton-cg;, score=(train=0.905, test=0.907) total time=  20.6s\n",
            "[CV 8/10] END lr__C=100, lr__max_iter=1000, lr__penalty=l2, lr__solver=newton-cg;, score=(train=0.904, test=0.903) total time=  25.6s\n",
            "[CV 9/10] END lr__C=100, lr__max_iter=1000, lr__penalty=l2, lr__solver=newton-cg;, score=(train=0.907, test=0.907) total time=  20.7s\n",
            "[CV 10/10] END lr__C=100, lr__max_iter=1000, lr__penalty=l2, lr__solver=newton-cg;, score=(train=0.907, test=0.906) total time=  22.8s\n",
            "[CV 1/10] END lr__C=100, lr__max_iter=100, lr__penalty=l2, lr__solver=newton-cg;, score=(train=0.906, test=0.905) total time=  18.6s\n",
            "[CV 2/10] END lr__C=100, lr__max_iter=100, lr__penalty=l2, lr__solver=newton-cg;, score=(train=0.906, test=0.905) total time=  19.8s\n",
            "[CV 3/10] END lr__C=100, lr__max_iter=100, lr__penalty=l2, lr__solver=newton-cg;, score=(train=0.906, test=0.902) total time=  17.3s\n",
            "[CV 4/10] END lr__C=100, lr__max_iter=100, lr__penalty=l2, lr__solver=newton-cg;, score=(train=0.907, test=0.907) total time=  21.9s\n",
            "[CV 5/10] END lr__C=100, lr__max_iter=100, lr__penalty=l2, lr__solver=newton-cg;, score=(train=0.906, test=0.909) total time=  19.3s\n",
            "[CV 6/10] END lr__C=100, lr__max_iter=100, lr__penalty=l2, lr__solver=newton-cg;, score=(train=0.907, test=0.909) total time=  22.1s\n",
            "[CV 7/10] END lr__C=100, lr__max_iter=100, lr__penalty=l2, lr__solver=newton-cg;, score=(train=0.905, test=0.907) total time=  17.6s\n",
            "[CV 8/10] END lr__C=100, lr__max_iter=100, lr__penalty=l2, lr__solver=newton-cg;, score=(train=0.904, test=0.903) total time=  23.5s\n",
            "[CV 9/10] END lr__C=100, lr__max_iter=100, lr__penalty=l2, lr__solver=newton-cg;, score=(train=0.907, test=0.907) total time=  18.5s\n",
            "[CV 10/10] END lr__C=100, lr__max_iter=100, lr__penalty=l2, lr__solver=newton-cg;, score=(train=0.907, test=0.906) total time=  21.0s\n",
            "[CV 1/10] END lr__C=100, lr__max_iter=500, lr__penalty=l2, lr__solver=lbfgs;, score=(train=0.906, test=0.905) total time=  13.0s\n",
            "[CV 2/10] END lr__C=100, lr__max_iter=500, lr__penalty=l2, lr__solver=lbfgs;, score=(train=0.906, test=0.905) total time=  16.3s\n",
            "[CV 3/10] END lr__C=100, lr__max_iter=500, lr__penalty=l2, lr__solver=lbfgs;, score=(train=0.906, test=0.902) total time=  14.5s\n"
          ]
        },
        {
          "metadata": {
            "tags": null
          },
          "name": "stderr",
          "output_type": "stream",
          "text": [
            "/usr/local/lib/python3.7/dist-packages/sklearn/linear_model/_logistic.py:818: ConvergenceWarning: lbfgs failed to converge (status=1):\n",
            "STOP: TOTAL NO. of ITERATIONS REACHED LIMIT.\n",
            "\n",
            "Increase the number of iterations (max_iter) or scale the data as shown in:\n",
            "    https://scikit-learn.org/stable/modules/preprocessing.html\n",
            "Please also refer to the documentation for alternative solver options:\n",
            "    https://scikit-learn.org/stable/modules/linear_model.html#logistic-regression\n",
            "  extra_warning_msg=_LOGISTIC_SOLVER_CONVERGENCE_MSG,\n"
          ]
        },
        {
          "metadata": {
            "tags": null
          },
          "name": "stdout",
          "output_type": "stream",
          "text": [
            "[CV 4/10] END lr__C=100, lr__max_iter=500, lr__penalty=l2, lr__solver=lbfgs;, score=(train=0.906, test=0.907) total time=  15.6s\n"
          ]
        },
        {
          "metadata": {
            "tags": null
          },
          "name": "stderr",
          "output_type": "stream",
          "text": [
            "/usr/local/lib/python3.7/dist-packages/sklearn/linear_model/_logistic.py:818: ConvergenceWarning: lbfgs failed to converge (status=1):\n",
            "STOP: TOTAL NO. of ITERATIONS REACHED LIMIT.\n",
            "\n",
            "Increase the number of iterations (max_iter) or scale the data as shown in:\n",
            "    https://scikit-learn.org/stable/modules/preprocessing.html\n",
            "Please also refer to the documentation for alternative solver options:\n",
            "    https://scikit-learn.org/stable/modules/linear_model.html#logistic-regression\n",
            "  extra_warning_msg=_LOGISTIC_SOLVER_CONVERGENCE_MSG,\n"
          ]
        },
        {
          "metadata": {
            "tags": null
          },
          "name": "stdout",
          "output_type": "stream",
          "text": [
            "[CV 5/10] END lr__C=100, lr__max_iter=500, lr__penalty=l2, lr__solver=lbfgs;, score=(train=0.906, test=0.909) total time=  15.6s\n",
            "[CV 6/10] END lr__C=100, lr__max_iter=500, lr__penalty=l2, lr__solver=lbfgs;, score=(train=0.907, test=0.909) total time=  10.9s\n",
            "[CV 7/10] END lr__C=100, lr__max_iter=500, lr__penalty=l2, lr__solver=lbfgs;, score=(train=0.905, test=0.907) total time=  13.0s\n",
            "[CV 8/10] END lr__C=100, lr__max_iter=500, lr__penalty=l2, lr__solver=lbfgs;, score=(train=0.904, test=0.903) total time=  14.8s\n",
            "[CV 9/10] END lr__C=100, lr__max_iter=500, lr__penalty=l2, lr__solver=lbfgs;, score=(train=0.907, test=0.907) total time=  14.5s\n",
            "[CV 10/10] END lr__C=100, lr__max_iter=500, lr__penalty=l2, lr__solver=lbfgs;, score=(train=0.907, test=0.906) total time=  12.2s\n",
            "[CV 1/10] END lr__C=100, lr__max_iter=1000, lr__penalty=l2, lr__solver=lbfgs;, score=(train=0.906, test=0.905) total time=  13.9s\n",
            "[CV 2/10] END lr__C=100, lr__max_iter=1000, lr__penalty=l2, lr__solver=lbfgs;, score=(train=0.906, test=0.905) total time=  15.4s\n",
            "[CV 3/10] END lr__C=100, lr__max_iter=1000, lr__penalty=l2, lr__solver=lbfgs;, score=(train=0.906, test=0.902) total time=  13.7s\n",
            "[CV 4/10] END lr__C=100, lr__max_iter=1000, lr__penalty=l2, lr__solver=lbfgs;, score=(train=0.907, test=0.908) total time=  21.6s\n",
            "[CV 5/10] END lr__C=100, lr__max_iter=1000, lr__penalty=l2, lr__solver=lbfgs;, score=(train=0.906, test=0.909) total time=  16.4s\n",
            "[CV 6/10] END lr__C=100, lr__max_iter=1000, lr__penalty=l2, lr__solver=lbfgs;, score=(train=0.907, test=0.909) total time=  11.5s\n",
            "[CV 7/10] END lr__C=100, lr__max_iter=1000, lr__penalty=l2, lr__solver=lbfgs;, score=(train=0.905, test=0.907) total time=  13.5s\n",
            "[CV 8/10] END lr__C=100, lr__max_iter=1000, lr__penalty=l2, lr__solver=lbfgs;, score=(train=0.904, test=0.903) total time=  14.9s\n",
            "[CV 9/10] END lr__C=100, lr__max_iter=1000, lr__penalty=l2, lr__solver=lbfgs;, score=(train=0.907, test=0.907) total time=  14.6s\n",
            "[CV 10/10] END lr__C=100, lr__max_iter=1000, lr__penalty=l2, lr__solver=lbfgs;, score=(train=0.907, test=0.906) total time=  12.2s\n",
            "[CV 1/10] END lr__C=100, lr__max_iter=500, lr__penalty=l2, lr__solver=saga;, score=(train=0.906, test=0.905) total time=  12.8s\n",
            "[CV 2/10] END lr__C=100, lr__max_iter=500, lr__penalty=l2, lr__solver=saga;, score=(train=0.906, test=0.905) total time=  13.3s\n",
            "[CV 3/10] END lr__C=100, lr__max_iter=500, lr__penalty=l2, lr__solver=saga;, score=(train=0.906, test=0.902) total time=   9.5s\n",
            "[CV 4/10] END lr__C=100, lr__max_iter=500, lr__penalty=l2, lr__solver=saga;, score=(train=0.907, test=0.907) total time=  24.9s\n",
            "[CV 5/10] END lr__C=100, lr__max_iter=500, lr__penalty=l2, lr__solver=saga;, score=(train=0.906, test=0.909) total time=  20.5s\n",
            "[CV 6/10] END lr__C=100, lr__max_iter=500, lr__penalty=l2, lr__solver=saga;, score=(train=0.907, test=0.909) total time=   8.7s\n",
            "[CV 7/10] END lr__C=100, lr__max_iter=500, lr__penalty=l2, lr__solver=saga;, score=(train=0.905, test=0.907) total time=   8.7s\n",
            "[CV 8/10] END lr__C=100, lr__max_iter=500, lr__penalty=l2, lr__solver=saga;, score=(train=0.904, test=0.903) total time=  19.4s\n",
            "[CV 9/10] END lr__C=100, lr__max_iter=500, lr__penalty=l2, lr__solver=saga;, score=(train=0.907, test=0.907) total time=  22.0s\n",
            "[CV 10/10] END lr__C=100, lr__max_iter=500, lr__penalty=l2, lr__solver=saga;, score=(train=0.907, test=0.906) total time=  16.6s\n",
            "[CV 1/10] END lr__C=100, lr__max_iter=1000, lr__penalty=l2, lr__solver=saga;, score=(train=0.906, test=0.905) total time=  12.5s\n",
            "[CV 2/10] END lr__C=100, lr__max_iter=1000, lr__penalty=l2, lr__solver=saga;, score=(train=0.906, test=0.905) total time=  10.9s\n",
            "[CV 3/10] END lr__C=100, lr__max_iter=1000, lr__penalty=l2, lr__solver=saga;, score=(train=0.906, test=0.902) total time=   9.5s\n",
            "[CV 4/10] END lr__C=100, lr__max_iter=1000, lr__penalty=l2, lr__solver=saga;, score=(train=0.907, test=0.907) total time=  25.0s\n",
            "[CV 5/10] END lr__C=100, lr__max_iter=1000, lr__penalty=l2, lr__solver=saga;, score=(train=0.906, test=0.909) total time=  21.6s\n",
            "[CV 6/10] END lr__C=100, lr__max_iter=1000, lr__penalty=l2, lr__solver=saga;, score=(train=0.907, test=0.909) total time=   9.8s\n",
            "[CV 7/10] END lr__C=100, lr__max_iter=1000, lr__penalty=l2, lr__solver=saga;, score=(train=0.905, test=0.907) total time=   8.9s\n",
            "[CV 8/10] END lr__C=100, lr__max_iter=1000, lr__penalty=l2, lr__solver=saga;, score=(train=0.904, test=0.903) total time=  19.0s\n",
            "[CV 9/10] END lr__C=100, lr__max_iter=1000, lr__penalty=l2, lr__solver=saga;, score=(train=0.907, test=0.907) total time=  21.1s\n",
            "[CV 10/10] END lr__C=100, lr__max_iter=1000, lr__penalty=l2, lr__solver=saga;, score=(train=0.907, test=0.906) total time=  18.1s\n",
            "[CV 1/10] END lr__C=100, lr__max_iter=100, lr__penalty=l2, lr__solver=saga;, score=(train=0.906, test=0.905) total time=  10.5s\n",
            "[CV 2/10] END lr__C=100, lr__max_iter=100, lr__penalty=l2, lr__solver=saga;, score=(train=0.906, test=0.905) total time=  11.7s\n",
            "[CV 3/10] END lr__C=100, lr__max_iter=100, lr__penalty=l2, lr__solver=saga;, score=(train=0.906, test=0.902) total time=   9.3s\n"
          ]
        },
        {
          "metadata": {
            "tags": null
          },
          "name": "stderr",
          "output_type": "stream",
          "text": [
            "/usr/local/lib/python3.7/dist-packages/sklearn/linear_model/_sag.py:354: ConvergenceWarning: The max_iter was reached which means the coef_ did not converge\n",
            "  ConvergenceWarning,\n"
          ]
        },
        {
          "metadata": {
            "tags": null
          },
          "name": "stdout",
          "output_type": "stream",
          "text": [
            "[CV 4/10] END lr__C=100, lr__max_iter=100, lr__penalty=l2, lr__solver=saga;, score=(train=0.907, test=0.907) total time=  14.4s\n"
          ]
        },
        {
          "metadata": {
            "tags": null
          },
          "name": "stderr",
          "output_type": "stream",
          "text": [
            "/usr/local/lib/python3.7/dist-packages/sklearn/linear_model/_sag.py:354: ConvergenceWarning: The max_iter was reached which means the coef_ did not converge\n",
            "  ConvergenceWarning,\n"
          ]
        },
        {
          "metadata": {
            "tags": null
          },
          "name": "stdout",
          "output_type": "stream",
          "text": [
            "[CV 5/10] END lr__C=100, lr__max_iter=100, lr__penalty=l2, lr__solver=saga;, score=(train=0.906, test=0.909) total time=  14.4s\n",
            "[CV 6/10] END lr__C=100, lr__max_iter=100, lr__penalty=l2, lr__solver=saga;, score=(train=0.907, test=0.909) total time=   8.5s\n",
            "[CV 7/10] END lr__C=100, lr__max_iter=100, lr__penalty=l2, lr__solver=saga;, score=(train=0.905, test=0.907) total time=   8.4s\n"
          ]
        },
        {
          "metadata": {
            "tags": null
          },
          "name": "stderr",
          "output_type": "stream",
          "text": [
            "/usr/local/lib/python3.7/dist-packages/sklearn/linear_model/_sag.py:354: ConvergenceWarning: The max_iter was reached which means the coef_ did not converge\n",
            "  ConvergenceWarning,\n"
          ]
        },
        {
          "metadata": {
            "tags": null
          },
          "name": "stdout",
          "output_type": "stream",
          "text": [
            "[CV 8/10] END lr__C=100, lr__max_iter=100, lr__penalty=l2, lr__solver=saga;, score=(train=0.904, test=0.903) total time=  14.5s\n"
          ]
        },
        {
          "metadata": {
            "tags": null
          },
          "name": "stderr",
          "output_type": "stream",
          "text": [
            "/usr/local/lib/python3.7/dist-packages/sklearn/linear_model/_sag.py:354: ConvergenceWarning: The max_iter was reached which means the coef_ did not converge\n",
            "  ConvergenceWarning,\n"
          ]
        },
        {
          "metadata": {
            "tags": null
          },
          "name": "stdout",
          "output_type": "stream",
          "text": [
            "[CV 9/10] END lr__C=100, lr__max_iter=100, lr__penalty=l2, lr__solver=saga;, score=(train=0.907, test=0.907) total time=  14.5s\n"
          ]
        },
        {
          "metadata": {
            "tags": null
          },
          "name": "stderr",
          "output_type": "stream",
          "text": [
            "/usr/local/lib/python3.7/dist-packages/sklearn/linear_model/_sag.py:354: ConvergenceWarning: The max_iter was reached which means the coef_ did not converge\n",
            "  ConvergenceWarning,\n"
          ]
        },
        {
          "metadata": {
            "tags": null
          },
          "name": "stdout",
          "output_type": "stream",
          "text": [
            "[CV 10/10] END lr__C=100, lr__max_iter=100, lr__penalty=l2, lr__solver=saga;, score=(train=0.907, test=0.906) total time=  14.6s\n",
            "----------\n",
            "iter: 2\n",
            "n_candidates: 9\n",
            "n_resources: 358227\n",
            "Fitting 10 folds for each of 9 candidates, totalling 90 fits\n",
            "[CV 1/10] END lr__C=100, lr__max_iter=1000, lr__penalty=l2, lr__solver=saga;, score=(train=0.905, test=0.905) total time=  20.3s\n",
            "[CV 2/10] END lr__C=100, lr__max_iter=1000, lr__penalty=l2, lr__solver=saga;, score=(train=0.905, test=0.906) total time=  29.4s\n",
            "[CV 3/10] END lr__C=100, lr__max_iter=1000, lr__penalty=l2, lr__solver=saga;, score=(train=0.904, test=0.907) total time=  23.0s\n",
            "[CV 4/10] END lr__C=100, lr__max_iter=1000, lr__penalty=l2, lr__solver=saga;, score=(train=0.905, test=0.906) total time=  34.6s\n",
            "[CV 5/10] END lr__C=100, lr__max_iter=1000, lr__penalty=l2, lr__solver=saga;, score=(train=0.904, test=0.902) total time= 1.0min\n",
            "[CV 6/10] END lr__C=100, lr__max_iter=1000, lr__penalty=l2, lr__solver=saga;, score=(train=0.905, test=0.903) total time= 1.0min\n",
            "[CV 7/10] END lr__C=100, lr__max_iter=1000, lr__penalty=l2, lr__solver=saga;, score=(train=0.904, test=0.905) total time=  49.7s\n",
            "[CV 8/10] END lr__C=100, lr__max_iter=1000, lr__penalty=l2, lr__solver=saga;, score=(train=0.905, test=0.904) total time=  58.8s\n",
            "[CV 9/10] END lr__C=100, lr__max_iter=1000, lr__penalty=l2, lr__solver=saga;, score=(train=0.905, test=0.905) total time=  21.5s\n",
            "[CV 10/10] END lr__C=100, lr__max_iter=1000, lr__penalty=l2, lr__solver=saga;, score=(train=0.905, test=0.905) total time=  22.1s\n",
            "[CV 1/10] END lr__C=100, lr__max_iter=500, lr__penalty=l2, lr__solver=saga;, score=(train=0.905, test=0.905) total time=  18.4s\n",
            "[CV 2/10] END lr__C=100, lr__max_iter=500, lr__penalty=l2, lr__solver=saga;, score=(train=0.905, test=0.906) total time=  28.5s\n",
            "[CV 3/10] END lr__C=100, lr__max_iter=500, lr__penalty=l2, lr__solver=saga;, score=(train=0.904, test=0.907) total time=  24.2s\n",
            "[CV 4/10] END lr__C=100, lr__max_iter=500, lr__penalty=l2, lr__solver=saga;, score=(train=0.905, test=0.906) total time=  33.4s\n",
            "[CV 5/10] END lr__C=100, lr__max_iter=500, lr__penalty=l2, lr__solver=saga;, score=(train=0.904, test=0.902) total time=  57.7s\n",
            "[CV 6/10] END lr__C=100, lr__max_iter=500, lr__penalty=l2, lr__solver=saga;, score=(train=0.905, test=0.903) total time= 1.0min\n",
            "[CV 7/10] END lr__C=100, lr__max_iter=500, lr__penalty=l2, lr__solver=saga;, score=(train=0.904, test=0.905) total time=  50.5s\n",
            "[CV 8/10] END lr__C=100, lr__max_iter=500, lr__penalty=l2, lr__solver=saga;, score=(train=0.905, test=0.904) total time=  56.6s\n",
            "[CV 9/10] END lr__C=100, lr__max_iter=500, lr__penalty=l2, lr__solver=saga;, score=(train=0.905, test=0.905) total time=  25.5s\n",
            "[CV 10/10] END lr__C=100, lr__max_iter=500, lr__penalty=l2, lr__solver=saga;, score=(train=0.905, test=0.905) total time=  23.9s\n",
            "[CV 1/10] END lr__C=100, lr__max_iter=100, lr__penalty=l2, lr__solver=sag;, score=(train=0.904, test=0.904) total time=  13.2s\n",
            "[CV 2/10] END lr__C=100, lr__max_iter=100, lr__penalty=l2, lr__solver=sag;, score=(train=0.905, test=0.906) total time=  14.4s\n",
            "[CV 3/10] END lr__C=100, lr__max_iter=100, lr__penalty=l2, lr__solver=sag;, score=(train=0.904, test=0.907) total time=  14.5s\n",
            "[CV 4/10] END lr__C=100, lr__max_iter=100, lr__penalty=l2, lr__solver=sag;, score=(train=0.905, test=0.905) total time=  16.9s\n",
            "[CV 5/10] END lr__C=100, lr__max_iter=100, lr__penalty=l2, lr__solver=sag;, score=(train=0.904, test=0.902) total time=  40.4s\n",
            "[CV 6/10] END lr__C=100, lr__max_iter=100, lr__penalty=l2, lr__solver=sag;, score=(train=0.905, test=0.903) total time=  40.4s\n",
            "[CV 7/10] END lr__C=100, lr__max_iter=100, lr__penalty=l2, lr__solver=sag;, score=(train=0.904, test=0.905) total time=  34.9s\n",
            "[CV 8/10] END lr__C=100, lr__max_iter=100, lr__penalty=l2, lr__solver=sag;, score=(train=0.905, test=0.904) total time=  39.5s\n",
            "[CV 9/10] END lr__C=100, lr__max_iter=100, lr__penalty=l2, lr__solver=sag;, score=(train=0.905, test=0.905) total time=  18.9s\n",
            "[CV 10/10] END lr__C=100, lr__max_iter=100, lr__penalty=l2, lr__solver=sag;, score=(train=0.905, test=0.905) total time=  13.2s\n",
            "[CV 1/10] END lr__C=100, lr__max_iter=100, lr__penalty=l2, lr__solver=liblinear;, score=(train=0.905, test=0.905) total time=   9.7s\n",
            "[CV 2/10] END lr__C=100, lr__max_iter=100, lr__penalty=l2, lr__solver=liblinear;, score=(train=0.905, test=0.906) total time=   9.0s\n",
            "[CV 3/10] END lr__C=100, lr__max_iter=100, lr__penalty=l2, lr__solver=liblinear;, score=(train=0.904, test=0.907) total time=   9.0s\n",
            "[CV 4/10] END lr__C=100, lr__max_iter=100, lr__penalty=l2, lr__solver=liblinear;, score=(train=0.905, test=0.905) total time=   8.8s\n",
            "[CV 5/10] END lr__C=100, lr__max_iter=100, lr__penalty=l2, lr__solver=liblinear;, score=(train=0.904, test=0.902) total time=   9.1s\n",
            "[CV 6/10] END lr__C=100, lr__max_iter=100, lr__penalty=l2, lr__solver=liblinear;, score=(train=0.905, test=0.903) total time=   9.0s\n",
            "[CV 7/10] END lr__C=100, lr__max_iter=100, lr__penalty=l2, lr__solver=liblinear;, score=(train=0.904, test=0.905) total time=   8.7s\n",
            "[CV 8/10] END lr__C=100, lr__max_iter=100, lr__penalty=l2, lr__solver=liblinear;, score=(train=0.905, test=0.904) total time=   9.0s\n",
            "[CV 9/10] END lr__C=100, lr__max_iter=100, lr__penalty=l2, lr__solver=liblinear;, score=(train=0.905, test=0.905) total time=   9.3s\n",
            "[CV 10/10] END lr__C=100, lr__max_iter=100, lr__penalty=l2, lr__solver=liblinear;, score=(train=0.905, test=0.905) total time=   9.4s\n",
            "[CV 1/10] END lr__C=100, lr__max_iter=500, lr__penalty=l2, lr__solver=liblinear;, score=(train=0.905, test=0.905) total time=   9.0s\n",
            "[CV 2/10] END lr__C=100, lr__max_iter=500, lr__penalty=l2, lr__solver=liblinear;, score=(train=0.905, test=0.906) total time=   9.1s\n",
            "[CV 3/10] END lr__C=100, lr__max_iter=500, lr__penalty=l2, lr__solver=liblinear;, score=(train=0.904, test=0.907) total time=   9.0s\n",
            "[CV 4/10] END lr__C=100, lr__max_iter=500, lr__penalty=l2, lr__solver=liblinear;, score=(train=0.905, test=0.905) total time=   9.0s\n",
            "[CV 5/10] END lr__C=100, lr__max_iter=500, lr__penalty=l2, lr__solver=liblinear;, score=(train=0.904, test=0.902) total time=   9.5s\n",
            "[CV 6/10] END lr__C=100, lr__max_iter=500, lr__penalty=l2, lr__solver=liblinear;, score=(train=0.905, test=0.903) total time=  10.3s\n",
            "[CV 7/10] END lr__C=100, lr__max_iter=500, lr__penalty=l2, lr__solver=liblinear;, score=(train=0.904, test=0.905) total time=   9.2s\n",
            "[CV 8/10] END lr__C=100, lr__max_iter=500, lr__penalty=l2, lr__solver=liblinear;, score=(train=0.905, test=0.904) total time=   9.3s\n",
            "[CV 9/10] END lr__C=100, lr__max_iter=500, lr__penalty=l2, lr__solver=liblinear;, score=(train=0.905, test=0.905) total time=   9.6s\n",
            "[CV 10/10] END lr__C=100, lr__max_iter=500, lr__penalty=l2, lr__solver=liblinear;, score=(train=0.905, test=0.905) total time=  10.1s\n",
            "[CV 1/10] END lr__C=100, lr__max_iter=1000, lr__penalty=l2, lr__solver=liblinear;, score=(train=0.905, test=0.905) total time=   8.8s\n",
            "[CV 2/10] END lr__C=100, lr__max_iter=1000, lr__penalty=l2, lr__solver=liblinear;, score=(train=0.905, test=0.906) total time=   9.0s\n",
            "[CV 3/10] END lr__C=100, lr__max_iter=1000, lr__penalty=l2, lr__solver=liblinear;, score=(train=0.904, test=0.907) total time=   8.9s\n",
            "[CV 4/10] END lr__C=100, lr__max_iter=1000, lr__penalty=l2, lr__solver=liblinear;, score=(train=0.905, test=0.905) total time=   8.7s\n",
            "[CV 5/10] END lr__C=100, lr__max_iter=1000, lr__penalty=l2, lr__solver=liblinear;, score=(train=0.904, test=0.902) total time=   8.9s\n",
            "[CV 6/10] END lr__C=100, lr__max_iter=1000, lr__penalty=l2, lr__solver=liblinear;, score=(train=0.905, test=0.903) total time=   9.0s\n",
            "[CV 7/10] END lr__C=100, lr__max_iter=1000, lr__penalty=l2, lr__solver=liblinear;, score=(train=0.904, test=0.905) total time=   8.9s\n",
            "[CV 8/10] END lr__C=100, lr__max_iter=1000, lr__penalty=l2, lr__solver=liblinear;, score=(train=0.905, test=0.904) total time=   9.1s\n",
            "[CV 9/10] END lr__C=100, lr__max_iter=1000, lr__penalty=l2, lr__solver=liblinear;, score=(train=0.905, test=0.905) total time=   9.3s\n",
            "[CV 10/10] END lr__C=100, lr__max_iter=1000, lr__penalty=l2, lr__solver=liblinear;, score=(train=0.905, test=0.905) total time=   9.4s\n",
            "[CV 1/10] END lr__C=100, lr__max_iter=500, lr__penalty=l2, lr__solver=newton-cg;, score=(train=0.905, test=0.905) total time= 1.8min\n",
            "[CV 2/10] END lr__C=100, lr__max_iter=500, lr__penalty=l2, lr__solver=newton-cg;, score=(train=0.905, test=0.906) total time= 1.0min\n",
            "[CV 3/10] END lr__C=100, lr__max_iter=500, lr__penalty=l2, lr__solver=newton-cg;, score=(train=0.904, test=0.907) total time= 1.0min\n",
            "[CV 4/10] END lr__C=100, lr__max_iter=500, lr__penalty=l2, lr__solver=newton-cg;, score=(train=0.905, test=0.906) total time= 1.7min\n",
            "[CV 5/10] END lr__C=100, lr__max_iter=500, lr__penalty=l2, lr__solver=newton-cg;, score=(train=0.904, test=0.902) total time= 1.5min\n",
            "[CV 6/10] END lr__C=100, lr__max_iter=500, lr__penalty=l2, lr__solver=newton-cg;, score=(train=0.905, test=0.903) total time= 2.7min\n",
            "[CV 7/10] END lr__C=100, lr__max_iter=500, lr__penalty=l2, lr__solver=newton-cg;, score=(train=0.904, test=0.905) total time= 2.2min\n",
            "[CV 8/10] END lr__C=100, lr__max_iter=500, lr__penalty=l2, lr__solver=newton-cg;, score=(train=0.905, test=0.904) total time= 1.5min\n",
            "[CV 9/10] END lr__C=100, lr__max_iter=500, lr__penalty=l2, lr__solver=newton-cg;, score=(train=0.905, test=0.905) total time= 1.2min\n",
            "[CV 10/10] END lr__C=100, lr__max_iter=500, lr__penalty=l2, lr__solver=newton-cg;, score=(train=0.905, test=0.905) total time= 1.6min\n",
            "[CV 1/10] END lr__C=100, lr__max_iter=1000, lr__penalty=l2, lr__solver=newton-cg;, score=(train=0.905, test=0.905) total time= 1.9min\n",
            "[CV 2/10] END lr__C=100, lr__max_iter=1000, lr__penalty=l2, lr__solver=newton-cg;, score=(train=0.905, test=0.906) total time= 1.1min\n",
            "[CV 3/10] END lr__C=100, lr__max_iter=1000, lr__penalty=l2, lr__solver=newton-cg;, score=(train=0.904, test=0.907) total time= 1.1min\n",
            "[CV 4/10] END lr__C=100, lr__max_iter=1000, lr__penalty=l2, lr__solver=newton-cg;, score=(train=0.905, test=0.906) total time= 1.7min\n",
            "[CV 5/10] END lr__C=100, lr__max_iter=1000, lr__penalty=l2, lr__solver=newton-cg;, score=(train=0.904, test=0.902) total time= 1.6min\n",
            "[CV 6/10] END lr__C=100, lr__max_iter=1000, lr__penalty=l2, lr__solver=newton-cg;, score=(train=0.905, test=0.903) total time= 2.7min\n",
            "[CV 7/10] END lr__C=100, lr__max_iter=1000, lr__penalty=l2, lr__solver=newton-cg;, score=(train=0.904, test=0.905) total time= 2.1min\n",
            "[CV 8/10] END lr__C=100, lr__max_iter=1000, lr__penalty=l2, lr__solver=newton-cg;, score=(train=0.905, test=0.904) total time= 1.4min\n",
            "[CV 9/10] END lr__C=100, lr__max_iter=1000, lr__penalty=l2, lr__solver=newton-cg;, score=(train=0.905, test=0.905) total time= 1.3min\n",
            "[CV 10/10] END lr__C=100, lr__max_iter=1000, lr__penalty=l2, lr__solver=newton-cg;, score=(train=0.905, test=0.905) total time= 1.7min\n",
            "[CV 1/10] END lr__C=100, lr__max_iter=100, lr__penalty=l2, lr__solver=newton-cg;, score=(train=0.905, test=0.905) total time= 2.0min\n",
            "[CV 2/10] END lr__C=100, lr__max_iter=100, lr__penalty=l2, lr__solver=newton-cg;, score=(train=0.905, test=0.906) total time= 1.1min\n",
            "[CV 3/10] END lr__C=100, lr__max_iter=100, lr__penalty=l2, lr__solver=newton-cg;, score=(train=0.904, test=0.907) total time= 1.1min\n",
            "[CV 4/10] END lr__C=100, lr__max_iter=100, lr__penalty=l2, lr__solver=newton-cg;, score=(train=0.905, test=0.906) total time= 1.7min\n",
            "[CV 5/10] END lr__C=100, lr__max_iter=100, lr__penalty=l2, lr__solver=newton-cg;, score=(train=0.904, test=0.902) total time= 1.6min\n",
            "[CV 6/10] END lr__C=100, lr__max_iter=100, lr__penalty=l2, lr__solver=newton-cg;, score=(train=0.905, test=0.903) total time= 2.7min\n",
            "[CV 7/10] END lr__C=100, lr__max_iter=100, lr__penalty=l2, lr__solver=newton-cg;, score=(train=0.904, test=0.905) total time= 2.1min\n",
            "[CV 8/10] END lr__C=100, lr__max_iter=100, lr__penalty=l2, lr__solver=newton-cg;, score=(train=0.905, test=0.904) total time= 1.4min\n",
            "[CV 9/10] END lr__C=100, lr__max_iter=100, lr__penalty=l2, lr__solver=newton-cg;, score=(train=0.905, test=0.905) total time= 1.3min\n",
            "[CV 10/10] END lr__C=100, lr__max_iter=100, lr__penalty=l2, lr__solver=newton-cg;, score=(train=0.905, test=0.905) total time= 1.7min\n",
            "----------\n",
            "iter: 3\n",
            "n_candidates: 3\n",
            "n_resources: 1074681\n",
            "Fitting 10 folds for each of 3 candidates, totalling 30 fits\n",
            "[CV 1/10] END lr__C=100, lr__max_iter=1000, lr__penalty=l2, lr__solver=newton-cg;, score=(train=0.905, test=0.905) total time=12.9min\n",
            "[CV 2/10] END lr__C=100, lr__max_iter=1000, lr__penalty=l2, lr__solver=newton-cg;, score=(train=0.905, test=0.905) total time=13.5min\n",
            "[CV 3/10] END lr__C=100, lr__max_iter=1000, lr__penalty=l2, lr__solver=newton-cg;, score=(train=0.905, test=0.906) total time=11.2min\n",
            "[CV 4/10] END lr__C=100, lr__max_iter=1000, lr__penalty=l2, lr__solver=newton-cg;, score=(train=0.905, test=0.905) total time=13.1min\n"
          ]
        },
        {
          "metadata": {
            "tags": null
          },
          "name": "stderr",
          "output_type": "stream",
          "text": [
            "/usr/local/lib/python3.7/dist-packages/scipy/optimize/linesearch.py:437: LineSearchWarning: Rounding errors prevent the line search from converging\n",
            "  warn(msg, LineSearchWarning)\n",
            "/usr/local/lib/python3.7/dist-packages/scipy/optimize/linesearch.py:327: LineSearchWarning: The line search algorithm did not converge\n",
            "  warn('The line search algorithm did not converge', LineSearchWarning)\n",
            "/usr/local/lib/python3.7/dist-packages/sklearn/utils/optimize.py:203: UserWarning: Line Search failed\n",
            "  warnings.warn(\"Line Search failed\")\n"
          ]
        },
        {
          "metadata": {
            "tags": null
          },
          "name": "stdout",
          "output_type": "stream",
          "text": [
            "[CV 5/10] END lr__C=100, lr__max_iter=1000, lr__penalty=l2, lr__solver=newton-cg;, score=(train=0.905, test=0.904) total time= 6.7min\n",
            "[CV 6/10] END lr__C=100, lr__max_iter=1000, lr__penalty=l2, lr__solver=newton-cg;, score=(train=0.905, test=0.905) total time= 5.4min\n",
            "[CV 7/10] END lr__C=100, lr__max_iter=1000, lr__penalty=l2, lr__solver=newton-cg;, score=(train=0.905, test=0.906) total time= 5.5min\n",
            "[CV 8/10] END lr__C=100, lr__max_iter=1000, lr__penalty=l2, lr__solver=newton-cg;, score=(train=0.905, test=0.905) total time= 4.7min\n",
            "[CV 9/10] END lr__C=100, lr__max_iter=1000, lr__penalty=l2, lr__solver=newton-cg;, score=(train=0.905, test=0.905) total time= 7.6min\n",
            "[CV 10/10] END lr__C=100, lr__max_iter=1000, lr__penalty=l2, lr__solver=newton-cg;, score=(train=0.905, test=0.905) total time= 6.3min\n",
            "[CV 1/10] END lr__C=100, lr__max_iter=100, lr__penalty=l2, lr__solver=newton-cg;, score=(train=0.905, test=0.905) total time=11.7min\n",
            "[CV 2/10] END lr__C=100, lr__max_iter=100, lr__penalty=l2, lr__solver=newton-cg;, score=(train=0.905, test=0.905) total time=11.9min\n",
            "[CV 3/10] END lr__C=100, lr__max_iter=100, lr__penalty=l2, lr__solver=newton-cg;, score=(train=0.905, test=0.906) total time= 9.9min\n",
            "[CV 4/10] END lr__C=100, lr__max_iter=100, lr__penalty=l2, lr__solver=newton-cg;, score=(train=0.905, test=0.905) total time=12.2min\n"
          ]
        },
        {
          "metadata": {
            "tags": null
          },
          "name": "stderr",
          "output_type": "stream",
          "text": [
            "/usr/local/lib/python3.7/dist-packages/scipy/optimize/linesearch.py:437: LineSearchWarning: Rounding errors prevent the line search from converging\n",
            "  warn(msg, LineSearchWarning)\n",
            "/usr/local/lib/python3.7/dist-packages/scipy/optimize/linesearch.py:327: LineSearchWarning: The line search algorithm did not converge\n",
            "  warn('The line search algorithm did not converge', LineSearchWarning)\n",
            "/usr/local/lib/python3.7/dist-packages/sklearn/utils/optimize.py:203: UserWarning: Line Search failed\n",
            "  warnings.warn(\"Line Search failed\")\n"
          ]
        },
        {
          "metadata": {
            "tags": null
          },
          "name": "stdout",
          "output_type": "stream",
          "text": [
            "[CV 5/10] END lr__C=100, lr__max_iter=100, lr__penalty=l2, lr__solver=newton-cg;, score=(train=0.905, test=0.904) total time= 6.2min\n",
            "[CV 6/10] END lr__C=100, lr__max_iter=100, lr__penalty=l2, lr__solver=newton-cg;, score=(train=0.905, test=0.905) total time= 5.2min\n",
            "[CV 7/10] END lr__C=100, lr__max_iter=100, lr__penalty=l2, lr__solver=newton-cg;, score=(train=0.905, test=0.906) total time= 5.4min\n",
            "[CV 8/10] END lr__C=100, lr__max_iter=100, lr__penalty=l2, lr__solver=newton-cg;, score=(train=0.905, test=0.905) total time= 4.7min\n",
            "[CV 9/10] END lr__C=100, lr__max_iter=100, lr__penalty=l2, lr__solver=newton-cg;, score=(train=0.905, test=0.905) total time= 7.7min\n",
            "[CV 10/10] END lr__C=100, lr__max_iter=100, lr__penalty=l2, lr__solver=newton-cg;, score=(train=0.905, test=0.905) total time= 6.5min\n",
            "[CV 1/10] END lr__C=100, lr__max_iter=500, lr__penalty=l2, lr__solver=saga;, score=(train=0.905, test=0.905) total time=  44.0s\n",
            "[CV 2/10] END lr__C=100, lr__max_iter=500, lr__penalty=l2, lr__solver=saga;, score=(train=0.905, test=0.905) total time=  57.5s\n",
            "[CV 3/10] END lr__C=100, lr__max_iter=500, lr__penalty=l2, lr__solver=saga;, score=(train=0.905, test=0.906) total time=  56.5s\n",
            "[CV 4/10] END lr__C=100, lr__max_iter=500, lr__penalty=l2, lr__solver=saga;, score=(train=0.905, test=0.905) total time=  37.2s\n",
            "[CV 5/10] END lr__C=100, lr__max_iter=500, lr__penalty=l2, lr__solver=saga;, score=(train=0.905, test=0.904) total time=  35.6s\n",
            "[CV 6/10] END lr__C=100, lr__max_iter=500, lr__penalty=l2, lr__solver=saga;, score=(train=0.905, test=0.905) total time=  48.6s\n",
            "[CV 7/10] END lr__C=100, lr__max_iter=500, lr__penalty=l2, lr__solver=saga;, score=(train=0.905, test=0.906) total time= 1.1min\n",
            "[CV 8/10] END lr__C=100, lr__max_iter=500, lr__penalty=l2, lr__solver=saga;, score=(train=0.905, test=0.905) total time=  38.7s\n",
            "[CV 9/10] END lr__C=100, lr__max_iter=500, lr__penalty=l2, lr__solver=saga;, score=(train=0.905, test=0.905) total time=  42.8s\n",
            "[CV 10/10] END lr__C=100, lr__max_iter=500, lr__penalty=l2, lr__solver=saga;, score=(train=0.905, test=0.905) total time=  37.3s\n"
          ]
        },
        {
          "output_type": "execute_result",
          "data": {
            "text/plain": [
              "HalvingGridSearchCV(cv=RepeatedStratifiedKFold(n_repeats=2, n_splits=5, random_state=42),\n",
              "                    estimator=Pipeline(steps=[('minmax', MinMaxScaler()),\n",
              "                                              ('lr', LogisticRegression())]),\n",
              "                    param_grid={'lr__C': [0.01, 0.1, 1, 10, 100],\n",
              "                                'lr__max_iter': [100, 500, 1000],\n",
              "                                'lr__penalty': ['l2'],\n",
              "                                'lr__solver': ['newton-cg', 'lbfgs',\n",
              "                                               'liblinear', 'sag', 'saga']},\n",
              "                    scoring=make_scorer(fbeta_score, beta=0.5), verbose=3)"
            ]
          },
          "metadata": {},
          "execution_count": 19
        }
      ],
      "source": [
        "search.fit(X_train, y_train)"
      ]
    },
    {
      "cell_type": "code",
      "execution_count": 20,
      "metadata": {
        "id": "QzNUPbdNobLU",
        "colab": {
          "base_uri": "https://localhost:8080/",
          "height": 2408
        },
        "outputId": "19c46506-96b2-43d6-dad9-3bbded7570de"
      },
      "outputs": [
        {
          "output_type": "execute_result",
          "data": {
            "text/plain": [
              "                                               params  mean_train_score  \\\n",
              "92  {'lr__C': 100, 'lr__max_iter': 500, 'lr__penal...          0.906005   \n",
              "93  {'lr__C': 100, 'lr__max_iter': 1000, 'lr__pena...          0.906005   \n",
              "94  {'lr__C': 100, 'lr__max_iter': 100, 'lr__penal...          0.906005   \n",
              "87  {'lr__C': 100, 'lr__max_iter': 1000, 'lr__pena...          0.906013   \n",
              "88  {'lr__C': 100, 'lr__max_iter': 100, 'lr__penal...          0.906013   \n",
              "..                                                ...               ...   \n",
              "0   {'lr__C': 0.01, 'lr__max_iter': 100, 'lr__pena...          0.847945   \n",
              "9   {'lr__C': 0.01, 'lr__max_iter': 500, 'lr__pena...          0.847941   \n",
              "7   {'lr__C': 0.01, 'lr__max_iter': 500, 'lr__pena...          0.846780   \n",
              "12  {'lr__C': 0.01, 'lr__max_iter': 1000, 'lr__pen...          0.846780   \n",
              "2   {'lr__C': 0.01, 'lr__max_iter': 100, 'lr__pena...          0.846780   \n",
              "\n",
              "    std_train_score  mean_test_score  std_test_score  mean_fit_time  \\\n",
              "92         0.000805         0.906013        0.002293      19.391134   \n",
              "93         0.000805         0.906013        0.002293      21.069989   \n",
              "94         0.000805         0.906013        0.002293      19.929817   \n",
              "87         0.000800         0.906011        0.002291       2.924225   \n",
              "88         0.000800         0.906011        0.002291       2.865483   \n",
              "..              ...              ...             ...            ...   \n",
              "0          0.001164         0.847124        0.002529       0.840977   \n",
              "9          0.001168         0.847115        0.002525       0.821200   \n",
              "7          0.001310         0.845946        0.002634       0.207407   \n",
              "12         0.001310         0.845946        0.002634       0.200218   \n",
              "2          0.001310         0.845946        0.002634       0.355357   \n",
              "\n",
              "    std_fit_time  \n",
              "92      2.429593  \n",
              "93      2.516719  \n",
              "94      1.988403  \n",
              "87      0.225569  \n",
              "88      0.200813  \n",
              "..           ...  \n",
              "0       0.035825  \n",
              "9       0.024688  \n",
              "7       0.007308  \n",
              "12      0.004790  \n",
              "2       0.076738  \n",
              "\n",
              "[112 rows x 7 columns]"
            ],
            "text/html": [
              "\n",
              "  <div id=\"df-05f2c4b9-22b6-433f-ac00-98dca064f905\">\n",
              "    <div class=\"colab-df-container\">\n",
              "      <div>\n",
              "<style scoped>\n",
              "    .dataframe tbody tr th:only-of-type {\n",
              "        vertical-align: middle;\n",
              "    }\n",
              "\n",
              "    .dataframe tbody tr th {\n",
              "        vertical-align: top;\n",
              "    }\n",
              "\n",
              "    .dataframe thead th {\n",
              "        text-align: right;\n",
              "    }\n",
              "</style>\n",
              "<table border=\"1\" class=\"dataframe\">\n",
              "  <thead>\n",
              "    <tr style=\"text-align: right;\">\n",
              "      <th></th>\n",
              "      <th>params</th>\n",
              "      <th>mean_train_score</th>\n",
              "      <th>std_train_score</th>\n",
              "      <th>mean_test_score</th>\n",
              "      <th>std_test_score</th>\n",
              "      <th>mean_fit_time</th>\n",
              "      <th>std_fit_time</th>\n",
              "    </tr>\n",
              "  </thead>\n",
              "  <tbody>\n",
              "    <tr>\n",
              "      <th>92</th>\n",
              "      <td>{'lr__C': 100, 'lr__max_iter': 500, 'lr__penal...</td>\n",
              "      <td>0.906005</td>\n",
              "      <td>0.000805</td>\n",
              "      <td>0.906013</td>\n",
              "      <td>0.002293</td>\n",
              "      <td>19.391134</td>\n",
              "      <td>2.429593</td>\n",
              "    </tr>\n",
              "    <tr>\n",
              "      <th>93</th>\n",
              "      <td>{'lr__C': 100, 'lr__max_iter': 1000, 'lr__pena...</td>\n",
              "      <td>0.906005</td>\n",
              "      <td>0.000805</td>\n",
              "      <td>0.906013</td>\n",
              "      <td>0.002293</td>\n",
              "      <td>21.069989</td>\n",
              "      <td>2.516719</td>\n",
              "    </tr>\n",
              "    <tr>\n",
              "      <th>94</th>\n",
              "      <td>{'lr__C': 100, 'lr__max_iter': 100, 'lr__penal...</td>\n",
              "      <td>0.906005</td>\n",
              "      <td>0.000805</td>\n",
              "      <td>0.906013</td>\n",
              "      <td>0.002293</td>\n",
              "      <td>19.929817</td>\n",
              "      <td>1.988403</td>\n",
              "    </tr>\n",
              "    <tr>\n",
              "      <th>87</th>\n",
              "      <td>{'lr__C': 100, 'lr__max_iter': 1000, 'lr__pena...</td>\n",
              "      <td>0.906013</td>\n",
              "      <td>0.000800</td>\n",
              "      <td>0.906011</td>\n",
              "      <td>0.002291</td>\n",
              "      <td>2.924225</td>\n",
              "      <td>0.225569</td>\n",
              "    </tr>\n",
              "    <tr>\n",
              "      <th>88</th>\n",
              "      <td>{'lr__C': 100, 'lr__max_iter': 100, 'lr__penal...</td>\n",
              "      <td>0.906013</td>\n",
              "      <td>0.000800</td>\n",
              "      <td>0.906011</td>\n",
              "      <td>0.002291</td>\n",
              "      <td>2.865483</td>\n",
              "      <td>0.200813</td>\n",
              "    </tr>\n",
              "    <tr>\n",
              "      <th>...</th>\n",
              "      <td>...</td>\n",
              "      <td>...</td>\n",
              "      <td>...</td>\n",
              "      <td>...</td>\n",
              "      <td>...</td>\n",
              "      <td>...</td>\n",
              "      <td>...</td>\n",
              "    </tr>\n",
              "    <tr>\n",
              "      <th>0</th>\n",
              "      <td>{'lr__C': 0.01, 'lr__max_iter': 100, 'lr__pena...</td>\n",
              "      <td>0.847945</td>\n",
              "      <td>0.001164</td>\n",
              "      <td>0.847124</td>\n",
              "      <td>0.002529</td>\n",
              "      <td>0.840977</td>\n",
              "      <td>0.035825</td>\n",
              "    </tr>\n",
              "    <tr>\n",
              "      <th>9</th>\n",
              "      <td>{'lr__C': 0.01, 'lr__max_iter': 500, 'lr__pena...</td>\n",
              "      <td>0.847941</td>\n",
              "      <td>0.001168</td>\n",
              "      <td>0.847115</td>\n",
              "      <td>0.002525</td>\n",
              "      <td>0.821200</td>\n",
              "      <td>0.024688</td>\n",
              "    </tr>\n",
              "    <tr>\n",
              "      <th>7</th>\n",
              "      <td>{'lr__C': 0.01, 'lr__max_iter': 500, 'lr__pena...</td>\n",
              "      <td>0.846780</td>\n",
              "      <td>0.001310</td>\n",
              "      <td>0.845946</td>\n",
              "      <td>0.002634</td>\n",
              "      <td>0.207407</td>\n",
              "      <td>0.007308</td>\n",
              "    </tr>\n",
              "    <tr>\n",
              "      <th>12</th>\n",
              "      <td>{'lr__C': 0.01, 'lr__max_iter': 1000, 'lr__pen...</td>\n",
              "      <td>0.846780</td>\n",
              "      <td>0.001310</td>\n",
              "      <td>0.845946</td>\n",
              "      <td>0.002634</td>\n",
              "      <td>0.200218</td>\n",
              "      <td>0.004790</td>\n",
              "    </tr>\n",
              "    <tr>\n",
              "      <th>2</th>\n",
              "      <td>{'lr__C': 0.01, 'lr__max_iter': 100, 'lr__pena...</td>\n",
              "      <td>0.846780</td>\n",
              "      <td>0.001310</td>\n",
              "      <td>0.845946</td>\n",
              "      <td>0.002634</td>\n",
              "      <td>0.355357</td>\n",
              "      <td>0.076738</td>\n",
              "    </tr>\n",
              "  </tbody>\n",
              "</table>\n",
              "<p>112 rows × 7 columns</p>\n",
              "</div>\n",
              "      <button class=\"colab-df-convert\" onclick=\"convertToInteractive('df-05f2c4b9-22b6-433f-ac00-98dca064f905')\"\n",
              "              title=\"Convert this dataframe to an interactive table.\"\n",
              "              style=\"display:none;\">\n",
              "        \n",
              "  <svg xmlns=\"http://www.w3.org/2000/svg\" height=\"24px\"viewBox=\"0 0 24 24\"\n",
              "       width=\"24px\">\n",
              "    <path d=\"M0 0h24v24H0V0z\" fill=\"none\"/>\n",
              "    <path d=\"M18.56 5.44l.94 2.06.94-2.06 2.06-.94-2.06-.94-.94-2.06-.94 2.06-2.06.94zm-11 1L8.5 8.5l.94-2.06 2.06-.94-2.06-.94L8.5 2.5l-.94 2.06-2.06.94zm10 10l.94 2.06.94-2.06 2.06-.94-2.06-.94-.94-2.06-.94 2.06-2.06.94z\"/><path d=\"M17.41 7.96l-1.37-1.37c-.4-.4-.92-.59-1.43-.59-.52 0-1.04.2-1.43.59L10.3 9.45l-7.72 7.72c-.78.78-.78 2.05 0 2.83L4 21.41c.39.39.9.59 1.41.59.51 0 1.02-.2 1.41-.59l7.78-7.78 2.81-2.81c.8-.78.8-2.07 0-2.86zM5.41 20L4 18.59l7.72-7.72 1.47 1.35L5.41 20z\"/>\n",
              "  </svg>\n",
              "      </button>\n",
              "      \n",
              "  <style>\n",
              "    .colab-df-container {\n",
              "      display:flex;\n",
              "      flex-wrap:wrap;\n",
              "      gap: 12px;\n",
              "    }\n",
              "\n",
              "    .colab-df-convert {\n",
              "      background-color: #E8F0FE;\n",
              "      border: none;\n",
              "      border-radius: 50%;\n",
              "      cursor: pointer;\n",
              "      display: none;\n",
              "      fill: #1967D2;\n",
              "      height: 32px;\n",
              "      padding: 0 0 0 0;\n",
              "      width: 32px;\n",
              "    }\n",
              "\n",
              "    .colab-df-convert:hover {\n",
              "      background-color: #E2EBFA;\n",
              "      box-shadow: 0px 1px 2px rgba(60, 64, 67, 0.3), 0px 1px 3px 1px rgba(60, 64, 67, 0.15);\n",
              "      fill: #174EA6;\n",
              "    }\n",
              "\n",
              "    [theme=dark] .colab-df-convert {\n",
              "      background-color: #3B4455;\n",
              "      fill: #D2E3FC;\n",
              "    }\n",
              "\n",
              "    [theme=dark] .colab-df-convert:hover {\n",
              "      background-color: #434B5C;\n",
              "      box-shadow: 0px 1px 3px 1px rgba(0, 0, 0, 0.15);\n",
              "      filter: drop-shadow(0px 1px 2px rgba(0, 0, 0, 0.3));\n",
              "      fill: #FFFFFF;\n",
              "    }\n",
              "  </style>\n",
              "\n",
              "      <script>\n",
              "        const buttonEl =\n",
              "          document.querySelector('#df-05f2c4b9-22b6-433f-ac00-98dca064f905 button.colab-df-convert');\n",
              "        buttonEl.style.display =\n",
              "          google.colab.kernel.accessAllowed ? 'block' : 'none';\n",
              "\n",
              "        async function convertToInteractive(key) {\n",
              "          const element = document.querySelector('#df-05f2c4b9-22b6-433f-ac00-98dca064f905');\n",
              "          const dataTable =\n",
              "            await google.colab.kernel.invokeFunction('convertToInteractive',\n",
              "                                                     [key], {});\n",
              "          if (!dataTable) return;\n",
              "\n",
              "          const docLinkHtml = 'Like what you see? Visit the ' +\n",
              "            '<a target=\"_blank\" href=https://colab.research.google.com/notebooks/data_table.ipynb>data table notebook</a>'\n",
              "            + ' to learn more about interactive tables.';\n",
              "          element.innerHTML = '';\n",
              "          dataTable['output_type'] = 'display_data';\n",
              "          await google.colab.output.renderOutput(dataTable, element);\n",
              "          const docLink = document.createElement('div');\n",
              "          docLink.innerHTML = docLinkHtml;\n",
              "          element.appendChild(docLink);\n",
              "        }\n",
              "      </script>\n",
              "    </div>\n",
              "  </div>\n",
              "  "
            ]
          },
          "metadata": {},
          "execution_count": 20
        }
      ],
      "source": [
        "print_result_df(search)"
      ]
    },
    {
      "cell_type": "code",
      "execution_count": null,
      "metadata": {
        "id": "XGx5eMLmodXA"
      },
      "outputs": [],
      "source": [
        "# Plot effect of each param when fixing other params at its best value in pipeline\n",
        "plot_search_results(search)"
      ]
    },
    {
      "cell_type": "code",
      "execution_count": null,
      "metadata": {
        "id": "xVqCzcW4ocHF",
        "colab": {
          "base_uri": "https://localhost:8080/",
          "height": 808
        },
        "outputId": "560ea0b3-178f-45bf-f6ff-1b4e76908030"
      },
      "outputs": [
        {
          "metadata": {
            "tags": null
          },
          "name": "stdout",
          "output_type": "stream",
          "text": [
            "Best parameter (CV score=):\n",
            "Pipeline(steps=[('minmax', MinMaxScaler()),\n",
            "                ('lr',\n",
            "                 LogisticRegression(C=100, max_iter=1000, solver='newton-cg'))])\n",
            "              precision    recall  f1-score   support\n",
            "\n",
            "           0       0.70      0.56      0.63     53638\n",
            "           1       0.90      0.94      0.92    215038\n",
            "\n",
            "    accuracy                           0.87    268676\n",
            "   macro avg       0.80      0.75      0.77    268676\n",
            "weighted avg       0.86      0.87      0.86    268676\n",
            "\n",
            "[[ 30188  23450]\n",
            " [ 12659 202379]]\n",
            "f0.5_score= 0.9048074223367556\n",
            "pr_auc_score= 0.9814958646986083\n"
          ]
        },
        {
          "data": {
            "image/png": "[encoded data removed]",
            "text/plain": [
              "<Figure size 720x504 with 1 Axes>"
            ]
          },
          "metadata": {},
          "output_type": "display_data"
        },
        {
          "metadata": {
            "tags": null
          },
          "name": "stderr",
          "output_type": "stream",
          "text": [
            "/usr/local/lib/python3.7/dist-packages/joblib/externals/loky/process_executor.py:705: UserWarning: A worker stopped while some jobs were given to the executor. This can be caused by a too short worker timeout or by a memory leak.\n",
            "  \"timeout or by a memory leak.\", UserWarning\n"
          ]
        }
      ],
      "source": [
        "print_best_model_result(search, 'MinMaxScaler + Tuning Logistic Regression')"
      ]
    },
    {
      "cell_type": "markdown",
      "metadata": {
        "id": "ZnLnFtEoOjDM"
      },
      "source": [
        "### Tuning Smote + Tuning Logistic Regression"
      ]
    },
    {
      "cell_type": "code",
      "execution_count": null,
      "metadata": {
        "id": "QPcNF_yQOpZD"
      },
      "outputs": [],
      "source": [
        "pipe = Pipeline(steps=[minmax_scaler, smote, lr])"
      ]
    },
    {
      "cell_type": "code",
      "execution_count": null,
      "metadata": {
        "id": "IcekRzdbO0p3"
      },
      "outputs": [],
      "source": [
        "param_grid = {**smote_param_grid, **lr_param_grid}"
      ]
    },
    {
      "cell_type": "code",
      "execution_count": null,
      "metadata": {
        "id": "9yhDRUfYO4Op"
      },
      "outputs": [],
      "source": [
        "search = HalvingGridSearchCV(pipe, param_grid, scoring=f_onehalf_scorer, cv=cv, verbose=3, return_train_score=True)"
      ]
    },
    {
      "cell_type": "code",
      "execution_count": null,
      "metadata": {
        "id": "p1CBNg5lO6BK"
      },
      "outputs": [],
      "source": [
        "search.fit(X_train, y_train)"
      ]
    },
    {
      "cell_type": "code",
      "execution_count": null,
      "metadata": {
        "id": "9CfYJaTwO7NC"
      },
      "outputs": [],
      "source": [
        "print_result_df(search)"
      ]
    },
    {
      "cell_type": "code",
      "execution_count": null,
      "metadata": {
        "id": "eMSkp_-oO9dl"
      },
      "outputs": [],
      "source": [
        "plot_search_results(search)"
      ]
    },
    {
      "cell_type": "code",
      "execution_count": null,
      "metadata": {
        "id": "qVXMT_Z9O-w-"
      },
      "outputs": [],
      "source": [
        "print_best_model_result(search, 'MinMaxScaler + Tuning SMOTE + Tuning Logistic Regression')"
      ]
    },
    {
      "cell_type": "markdown",
      "metadata": {
        "id": "7-Cm-ZgKgQ1o"
      },
      "source": [
        "## SVM"
      ]
    },
    {
      "cell_type": "markdown",
      "metadata": {
        "id": "9Poo2kgGgTBp"
      },
      "source": [
        "### Base model"
      ]
    },
    {
      "cell_type": "code",
      "execution_count": null,
      "metadata": {
        "id": "uo0DUnkMgRzr"
      },
      "outputs": [],
      "source": [
        "pipe = Pipeline(steps=[svm])"
      ]
    },
    {
      "cell_type": "code",
      "execution_count": null,
      "metadata": {
        "id": "EPh0GB9qgaTv"
      },
      "outputs": [],
      "source": [
        "param_grid = {}"
      ]
    },
    {
      "cell_type": "code",
      "execution_count": null,
      "metadata": {
        "id": "UnLP3ryigc2e"
      },
      "outputs": [],
      "source": [
        "search = HalvingGridSearchCV(pipe, param_grid, scoring=f_onehalf_scorer, cv=cv, verbose=3, return_train_score=True)"
      ]
    },
    {
      "cell_type": "code",
      "execution_count": null,
      "metadata": {
        "colab": {
          "background_save": true,
          "base_uri": "https://localhost:8080/"
        },
        "id": "Zab5jexKge6O",
        "outputId": "a99de2d9-771f-4d94-f42b-12c0c79a903a"
      },
      "outputs": [
        {
          "output_type": "stream",
          "name": "stdout",
          "text": [
            "n_iterations: 1\n",
            "n_required_iterations: 1\n",
            "n_possible_iterations: 1\n",
            "min_resources_: 1074704\n",
            "max_resources_: 1074704\n",
            "aggressive_elimination: False\n",
            "factor: 3\n",
            "----------\n",
            "iter: 0\n",
            "n_candidates: 1\n",
            "n_resources: 1074704\n",
            "Fitting 10 folds for each of 1 candidates, totalling 10 fits\n"
          ]
        }
      ],
      "source": [
        "search.fit(X_train, y_train)"
      ]
    },
    {
      "cell_type": "code",
      "execution_count": null,
      "metadata": {
        "id": "lK2TAL-hhOcq"
      },
      "outputs": [],
      "source": [
        "print_result_df(search)"
      ]
    },
    {
      "cell_type": "code",
      "execution_count": null,
      "metadata": {
        "id": "eMWp848shZRr"
      },
      "outputs": [],
      "source": [
        "print_best_model_result(search, 'SVM')"
      ]
    },
    {
      "cell_type": "markdown",
      "metadata": {
        "id": "BYRB6DAhgnuK"
      },
      "source": [
        "### MinMaxScaler + SVM"
      ]
    },
    {
      "cell_type": "code",
      "execution_count": null,
      "metadata": {
        "id": "DuKMI2bQgqtw"
      },
      "outputs": [],
      "source": [
        "pipe = Pipeline(steps=[minmax_scaler, svm])"
      ]
    },
    {
      "cell_type": "code",
      "execution_count": null,
      "metadata": {
        "id": "9V7nWWa2gvhW"
      },
      "outputs": [],
      "source": [
        "param_grid = {}"
      ]
    },
    {
      "cell_type": "code",
      "execution_count": null,
      "metadata": {
        "id": "u4ldhH58gx2V"
      },
      "outputs": [],
      "source": [
        "search = HalvingGridSearchCV(pipe, param_grid, scoring=f_onehalf_scorer, cv=cv, verbose=3, return_train_score=True)"
      ]
    },
    {
      "cell_type": "code",
      "execution_count": null,
      "metadata": {
        "id": "RJfcbTZOg1Az"
      },
      "outputs": [],
      "source": [
        "search.fit(X_train, y_train)"
      ]
    },
    {
      "cell_type": "code",
      "execution_count": null,
      "metadata": {
        "id": "xW32YlDhg4Zx"
      },
      "outputs": [],
      "source": [
        "print_result_df(search)"
      ]
    },
    {
      "cell_type": "code",
      "execution_count": null,
      "metadata": {
        "id": "PZLSV7jGg682"
      },
      "outputs": [],
      "source": [
        "print_best_model_result(search, 'MinMaxScaler + SVM')"
      ]
    },
    {
      "cell_type": "markdown",
      "metadata": {
        "id": "nYHK8PC9g-Mn"
      },
      "source": [
        "### MinMaxScaler + SMOTE + SVM"
      ]
    },
    {
      "cell_type": "code",
      "execution_count": null,
      "metadata": {
        "id": "VNKNTgHkhDHm"
      },
      "outputs": [],
      "source": [
        "pipe = Pipeline(steps=[minmax_scaler, smote, svm])"
      ]
    },
    {
      "cell_type": "code",
      "execution_count": null,
      "metadata": {
        "id": "xV0sOm5ohG1f"
      },
      "outputs": [],
      "source": [
        "param_grid = {}"
      ]
    },
    {
      "cell_type": "code",
      "execution_count": null,
      "metadata": {
        "id": "Tp7rnuGAhHq_"
      },
      "outputs": [],
      "source": [
        "search = HalvingGridSearchCV(pipe, param_grid, scoring=f_onehalf_scorer, cv=cv, verbose=3, return_train_score=True)"
      ]
    },
    {
      "cell_type": "code",
      "execution_count": null,
      "metadata": {
        "id": "dVmE8A9yhIkp"
      },
      "outputs": [],
      "source": [
        "search.fit(X_train, y_train)"
      ]
    },
    {
      "cell_type": "code",
      "execution_count": null,
      "metadata": {
        "id": "QsdCe8b2hJgc"
      },
      "outputs": [],
      "source": [
        "print_result_df(search)"
      ]
    },
    {
      "cell_type": "code",
      "execution_count": null,
      "metadata": {
        "id": "gfzw74WUhKa5"
      },
      "outputs": [],
      "source": [
        "print_best_model_result(search, 'MinMaxScaler + SMOTE + SVM')"
      ]
    },
    {
      "cell_type": "markdown",
      "metadata": {
        "id": "nuccOhNuhyq2"
      },
      "source": [
        "### Tuning SVM"
      ]
    },
    {
      "cell_type": "code",
      "execution_count": null,
      "metadata": {
        "id": "8_Ih-3LCh0IJ"
      },
      "outputs": [],
      "source": [
        "pipe = Pipeline(steps=[minmax_scaler, smote, svm])"
      ]
    },
    {
      "cell_type": "code",
      "execution_count": null,
      "metadata": {
        "id": "m5-AfZdaiAsd"
      },
      "outputs": [],
      "source": [
        "param_grid = svm_param_grid"
      ]
    },
    {
      "cell_type": "code",
      "execution_count": null,
      "metadata": {
        "id": "AftibEcIiBma"
      },
      "outputs": [],
      "source": [
        "search = HalvingGridSearchCV(pipe, param_grid, scoring=f_onehalf_scorer, cv=cv, verbose=3, return_train_score=True)"
      ]
    },
    {
      "cell_type": "code",
      "execution_count": null,
      "metadata": {
        "id": "fd0jMta8iCgX"
      },
      "outputs": [],
      "source": [
        "search.fit(X_train, y_train)"
      ]
    },
    {
      "cell_type": "code",
      "execution_count": null,
      "metadata": {
        "id": "ONknNSCXiDaY"
      },
      "outputs": [],
      "source": [
        "print_result_df(search)"
      ]
    },
    {
      "cell_type": "code",
      "execution_count": null,
      "metadata": {
        "id": "e-ECDnv9iERr"
      },
      "outputs": [],
      "source": [
        "print_best_model_result(search, 'MinMaxScaler + SMOTE + Tuning SVM')"
      ]
    },
    {
      "cell_type": "markdown",
      "metadata": {
        "id": "1iThqOwRiLlX"
      },
      "source": [
        "### Tuning SMOTE + Tuning SVM"
      ]
    },
    {
      "cell_type": "code",
      "execution_count": null,
      "metadata": {
        "id": "t_gVDCSkiQmT"
      },
      "outputs": [],
      "source": [
        "pipe = Pipeline(steps=[minmax_scaler, smote, svm])"
      ]
    },
    {
      "cell_type": "code",
      "execution_count": null,
      "metadata": {
        "id": "9spI9aySiZfd"
      },
      "outputs": [],
      "source": [
        "param_grid = {**smote_param_grid, **svm_param_grid}"
      ]
    },
    {
      "cell_type": "code",
      "execution_count": null,
      "metadata": {
        "id": "Nzp4jyyNieXD"
      },
      "outputs": [],
      "source": [
        "search = HalvingGridSearchCV(pipe, param_grid, scoring=f_onehalf_scorer, cv=cv, verbose=3, return_train_score=True)"
      ]
    },
    {
      "cell_type": "code",
      "execution_count": null,
      "metadata": {
        "id": "v_jBa75WifNp"
      },
      "outputs": [],
      "source": [
        "search.fit(X_train, y_train)"
      ]
    },
    {
      "cell_type": "code",
      "execution_count": null,
      "metadata": {
        "id": "1pWCyDRyigNG"
      },
      "outputs": [],
      "source": [
        "print_result_df(search)"
      ]
    },
    {
      "cell_type": "code",
      "execution_count": null,
      "metadata": {
        "id": "ra-pU-p9ihMm"
      },
      "outputs": [],
      "source": [
        "print_best_model_result(search, 'MinMaxScaler + Tuning SMOTE + Tuning SVM')"
      ]
    }
  ],
  "metadata": {
    "colab": {
      "collapsed_sections": [
        "LsLti5ZBTxvn",
        "ZbiaNFx9saOB",
        "uDixYWKqscmX",
        "x2ZUohmN6QVT",
        "E-Z_XNzQtpJx",
        "xWw34v0vv7y9",
        "tMQ6kqsYvzlX",
        "nFkhDXIxv2Ql",
        "a4_JGGeIwJ17",
        "k1kPvUSEwa2S",
        "Hri5V5C08O2W",
        "XE7S8WqdwwVY",
        "84PEzD57nKB9"
      ],
      "name": "Models_And_Evaluation - Tuning Logistic.ipynb",
      "toc_visible": true,
      "provenance": []
    },
    "gpuClass": "standard",
    "kernelspec": {
      "display_name": "Python 3",
      "name": "python3"
    },
    "language_info": {
      "name": "python"
    }
  },
  "nbformat": 4,
  "nbformat_minor": 0
}