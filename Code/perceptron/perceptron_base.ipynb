{
 "cells": [
  {
   "cell_type": "code",
   "execution_count": 1,
   "id": "9fdb734e",
   "metadata": {
    "execution": {
     "iopub.execute_input": "2022-07-20T05:21:57.358341Z",
     "iopub.status.busy": "2022-07-20T05:21:57.357907Z",
     "iopub.status.idle": "2022-07-20T05:22:00.105608Z",
     "shell.execute_reply": "2022-07-20T05:22:00.104681Z"
    },
    "papermill": {
     "duration": 2.759934,
     "end_time": "2022-07-20T05:22:00.108536",
     "exception": false,
     "start_time": "2022-07-20T05:21:57.348602",
     "status": "completed"
    },
    "tags": []
   },
   "outputs": [
    {
     "data": {
      "text/html": [
       "<style type='text/css'>\n",
       ".datatable table.frame { margin-bottom: 0; }\n",
       ".datatable table.frame thead { border-bottom: none; }\n",
       ".datatable table.frame tr.coltypes td {  color: #FFFFFF;  line-height: 6px;  padding: 0 0.5em;}\n",
       ".datatable .bool    { background: #DDDD99; }\n",
       ".datatable .object  { background: #565656; }\n",
       ".datatable .int     { background: #5D9E5D; }\n",
       ".datatable .float   { background: #4040CC; }\n",
       ".datatable .str     { background: #CC4040; }\n",
       ".datatable .time    { background: #40CC40; }\n",
       ".datatable .row_index {  background: var(--jp-border-color3);  border-right: 1px solid var(--jp-border-color0);  color: var(--jp-ui-font-color3);  font-size: 9px;}\n",
       ".datatable .frame tbody td { text-align: left; }\n",
       ".datatable .frame tr.coltypes .row_index {  background: var(--jp-border-color0);}\n",
       ".datatable th:nth-child(2) { padding-left: 12px; }\n",
       ".datatable .hellipsis {  color: var(--jp-cell-editor-border-color);}\n",
       ".datatable .vellipsis {  background: var(--jp-layout-color0);  color: var(--jp-cell-editor-border-color);}\n",
       ".datatable .na {  color: var(--jp-cell-editor-border-color);  font-size: 80%;}\n",
       ".datatable .sp {  opacity: 0.25;}\n",
       ".datatable .footer { font-size: 9px; }\n",
       ".datatable .frame_dimensions {  background: var(--jp-border-color3);  border-top: 1px solid var(--jp-border-color0);  color: var(--jp-ui-font-color3);  display: inline-block;  opacity: 0.6;  padding: 1px 10px 1px 5px;}\n",
       "</style>\n"
      ],
      "text/plain": [
       "<IPython.core.display.HTML object>"
      ]
     },
     "metadata": {},
     "output_type": "display_data"
    }
   ],
   "source": [
    "import pandas as pd\n",
    "import numpy as np\n",
    "import matplotlib.pyplot as plt\n",
    "import seaborn as sns\n",
    "from imblearn.pipeline import Pipeline\n",
    "\n",
    "from sklearn.preprocessing import MinMaxScaler\n",
    "\n",
    "from imblearn.over_sampling import SMOTE, BorderlineSMOTE, SVMSMOTE, ADASYN\n",
    "\n",
    "from sklearn.linear_model import LogisticRegression, Perceptron\n",
    "from sklearn.neighbors import KNeighborsClassifier\n",
    "from sklearn.svm import SVC\n",
    "from sklearn.tree import DecisionTreeClassifier\n",
    "from sklearn.ensemble import RandomForestClassifier\n",
    "from sklearn.neural_network import MLPClassifier\n",
    "from lightgbm import LGBMClassifier\n",
    "from xgboost import XGBClassifier\n",
    "\n",
    "from sklearn.experimental import enable_halving_search_cv\n",
    "from sklearn.model_selection import GridSearchCV, HalvingGridSearchCV, train_test_split, RepeatedStratifiedKFold, cross_val_score, learning_curve\n",
    "from sklearn.metrics import classification_report, fbeta_score, confusion_matrix, precision_recall_curve, auc, make_scorer"
   ]
  },
  {
   "cell_type": "code",
   "execution_count": 2,
   "id": "0797f234",
   "metadata": {
    "execution": {
     "iopub.execute_input": "2022-07-20T05:22:00.123673Z",
     "iopub.status.busy": "2022-07-20T05:22:00.122630Z",
     "iopub.status.idle": "2022-07-20T05:22:12.500186Z",
     "shell.execute_reply": "2022-07-20T05:22:12.499144Z"
    },
    "papermill": {
     "duration": 12.38786,
     "end_time": "2022-07-20T05:22:12.502964",
     "exception": false,
     "start_time": "2022-07-20T05:22:00.115104",
     "status": "completed"
    },
    "tags": []
   },
   "outputs": [],
   "source": [
    "accepted_loans = pd.read_csv('../input/ml-project-elite/elite.csv')"
   ]
  },
  {
   "cell_type": "code",
   "execution_count": 3,
   "id": "60a6244a",
   "metadata": {
    "execution": {
     "iopub.execute_input": "2022-07-20T05:22:12.517394Z",
     "iopub.status.busy": "2022-07-20T05:22:12.517028Z",
     "iopub.status.idle": "2022-07-20T05:22:13.024836Z",
     "shell.execute_reply": "2022-07-20T05:22:13.023843Z"
    },
    "papermill": {
     "duration": 0.518273,
     "end_time": "2022-07-20T05:22:13.027471",
     "exception": false,
     "start_time": "2022-07-20T05:22:12.509198",
     "status": "completed"
    },
    "tags": []
   },
   "outputs": [],
   "source": [
    "X = accepted_loans.loc[:, accepted_loans.columns != 'loan_paid'].values\n",
    "y = accepted_loans['loan_paid'].values"
   ]
  },
  {
   "cell_type": "code",
   "execution_count": 4,
   "id": "159bcd3b",
   "metadata": {
    "execution": {
     "iopub.execute_input": "2022-07-20T05:22:13.042101Z",
     "iopub.status.busy": "2022-07-20T05:22:13.041676Z",
     "iopub.status.idle": "2022-07-20T05:22:14.940256Z",
     "shell.execute_reply": "2022-07-20T05:22:14.939065Z"
    },
    "papermill": {
     "duration": 1.909017,
     "end_time": "2022-07-20T05:22:14.942883",
     "exception": false,
     "start_time": "2022-07-20T05:22:13.033866",
     "status": "completed"
    },
    "tags": []
   },
   "outputs": [],
   "source": [
    "X_train, X_test, y_train, y_test = train_test_split(X, y, test_size=0.2, random_state=42, stratify=y)"
   ]
  },
  {
   "cell_type": "code",
   "execution_count": 5,
   "id": "fec40cd7",
   "metadata": {
    "execution": {
     "iopub.execute_input": "2022-07-20T05:22:14.957674Z",
     "iopub.status.busy": "2022-07-20T05:22:14.956599Z",
     "iopub.status.idle": "2022-07-20T05:22:14.961628Z",
     "shell.execute_reply": "2022-07-20T05:22:14.960853Z"
    },
    "papermill": {
     "duration": 0.014457,
     "end_time": "2022-07-20T05:22:14.963594",
     "exception": false,
     "start_time": "2022-07-20T05:22:14.949137",
     "status": "completed"
    },
    "tags": []
   },
   "outputs": [],
   "source": [
    "cv = RepeatedStratifiedKFold(n_splits=5, n_repeats=1, random_state=42)"
   ]
  },
  {
   "cell_type": "code",
   "execution_count": 6,
   "id": "0629b62a",
   "metadata": {
    "execution": {
     "iopub.execute_input": "2022-07-20T05:22:14.977781Z",
     "iopub.status.busy": "2022-07-20T05:22:14.977174Z",
     "iopub.status.idle": "2022-07-20T05:22:14.981065Z",
     "shell.execute_reply": "2022-07-20T05:22:14.980258Z"
    },
    "papermill": {
     "duration": 0.013267,
     "end_time": "2022-07-20T05:22:14.983055",
     "exception": false,
     "start_time": "2022-07-20T05:22:14.969788",
     "status": "completed"
    },
    "tags": []
   },
   "outputs": [],
   "source": [
    "minmax_scaler = ('minmax', MinMaxScaler())"
   ]
  },
  {
   "cell_type": "code",
   "execution_count": 7,
   "id": "866e3533",
   "metadata": {
    "execution": {
     "iopub.execute_input": "2022-07-20T05:22:14.997517Z",
     "iopub.status.busy": "2022-07-20T05:22:14.996929Z",
     "iopub.status.idle": "2022-07-20T05:22:15.002421Z",
     "shell.execute_reply": "2022-07-20T05:22:15.001286Z"
    },
    "papermill": {
     "duration": 0.015558,
     "end_time": "2022-07-20T05:22:15.004769",
     "exception": false,
     "start_time": "2022-07-20T05:22:14.989211",
     "status": "completed"
    },
    "tags": []
   },
   "outputs": [],
   "source": [
    "smote = ('smote', SMOTE(sampling_strategy=1.0, random_state=42))\n",
    "smote_param_grid = {\n",
    "    'smote__sampling_strategy': [0.8, 0.9, 1.0]\n",
    "    #'smote__k_neighbors': [3, 5, 10, 15]\n",
    "}"
   ]
  },
  {
   "cell_type": "code",
   "execution_count": 8,
   "id": "eb8f271b",
   "metadata": {
    "execution": {
     "iopub.execute_input": "2022-07-20T05:22:15.019082Z",
     "iopub.status.busy": "2022-07-20T05:22:15.018631Z",
     "iopub.status.idle": "2022-07-20T05:22:15.024530Z",
     "shell.execute_reply": "2022-07-20T05:22:15.023418Z"
    },
    "papermill": {
     "duration": 0.015633,
     "end_time": "2022-07-20T05:22:15.026743",
     "exception": false,
     "start_time": "2022-07-20T05:22:15.011110",
     "status": "completed"
    },
    "tags": []
   },
   "outputs": [],
   "source": [
    "perceptron = ('perceptron', Perceptron(random_state=42, n_iter_no_change=20, max_iter=100, tol=1e-6, early_stopping=True))\n",
    "perception_param_grid = {\n",
    "    'perceptron__penalty' : ['l2', 'l1', 'elasticnet'],\n",
    "}"
   ]
  },
  {
   "cell_type": "code",
   "execution_count": 9,
   "id": "9ce861ab",
   "metadata": {
    "execution": {
     "iopub.execute_input": "2022-07-20T05:22:15.040895Z",
     "iopub.status.busy": "2022-07-20T05:22:15.040454Z",
     "iopub.status.idle": "2022-07-20T05:22:15.045596Z",
     "shell.execute_reply": "2022-07-20T05:22:15.044519Z"
    },
    "papermill": {
     "duration": 0.015076,
     "end_time": "2022-07-20T05:22:15.048191",
     "exception": false,
     "start_time": "2022-07-20T05:22:15.033115",
     "status": "completed"
    },
    "tags": []
   },
   "outputs": [],
   "source": [
    "# Metric\n",
    "f_onehalf_scorer = make_scorer(fbeta_score, beta=0.5)"
   ]
  },
  {
   "cell_type": "code",
   "execution_count": 10,
   "id": "951845d1",
   "metadata": {
    "execution": {
     "iopub.execute_input": "2022-07-20T05:22:15.063469Z",
     "iopub.status.busy": "2022-07-20T05:22:15.062811Z",
     "iopub.status.idle": "2022-07-20T05:22:15.082113Z",
     "shell.execute_reply": "2022-07-20T05:22:15.080512Z"
    },
    "papermill": {
     "duration": 0.029534,
     "end_time": "2022-07-20T05:22:15.084671",
     "exception": false,
     "start_time": "2022-07-20T05:22:15.055137",
     "status": "completed"
    },
    "tags": []
   },
   "outputs": [],
   "source": [
    "def plot_learning_curve(\n",
    "    estimator,\n",
    "    title,\n",
    "    X,\n",
    "    y,\n",
    "    axes=None,\n",
    "    ylim=None,\n",
    "    cv=cv,\n",
    "    n_jobs=-1,\n",
    "    train_sizes=np.linspace(0.1, 1.0, 5),\n",
    "):\n",
    "    if axes is None:\n",
    "        _, axes = plt.subplots(3, 1, figsize=(15, 15))\n",
    "\n",
    "    axes[0].set_title(title)\n",
    "    if ylim is not None:\n",
    "        axes[0].set_ylim(*ylim)\n",
    "    axes[0].set_xlabel(\"Training examples\")\n",
    "    axes[0].set_ylabel(\"Score\")\n",
    "\n",
    "    train_sizes, train_scores, test_scores, fit_times, _ = learning_curve(\n",
    "        estimator,\n",
    "        X,\n",
    "        y,\n",
    "        cv=cv,\n",
    "        n_jobs=n_jobs,\n",
    "        train_sizes=train_sizes,\n",
    "        scoring=f_onehalf_scorer,\n",
    "        return_times=True,\n",
    "        random_state=42\n",
    "    )\n",
    "    train_scores_mean = np.mean(train_scores, axis=1)\n",
    "    train_scores_std = np.std(train_scores, axis=1)\n",
    "    test_scores_mean = np.mean(test_scores, axis=1)\n",
    "    test_scores_std = np.std(test_scores, axis=1)\n",
    "    fit_times_mean = np.mean(fit_times, axis=1)\n",
    "    fit_times_std = np.std(fit_times, axis=1)\n",
    "\n",
    "    # Plot learning curve\n",
    "    axes[0].grid()\n",
    "    axes[0].fill_between(\n",
    "        train_sizes,\n",
    "        train_scores_mean - train_scores_std,\n",
    "        train_scores_mean + train_scores_std,\n",
    "        alpha=0.1,\n",
    "        color=\"r\",\n",
    "    )\n",
    "    axes[0].fill_between(\n",
    "        train_sizes,\n",
    "        test_scores_mean - test_scores_std,\n",
    "        test_scores_mean + test_scores_std,\n",
    "        alpha=0.1,\n",
    "        color=\"g\",\n",
    "    )\n",
    "    axes[0].plot(\n",
    "        train_sizes, train_scores_mean, \"o-\", color=\"r\", label=\"Training score\"\n",
    "    )\n",
    "    axes[0].plot(\n",
    "        train_sizes, test_scores_mean, \"o-\", color=\"g\", label=\"Cross-validation score\"\n",
    "    )\n",
    "    axes[0].legend(loc=\"best\")\n",
    "\n",
    "    # Plot n_samples vs fit_times\n",
    "    axes[1].grid()\n",
    "    axes[1].plot(train_sizes, fit_times_mean, \"o-\")\n",
    "    axes[1].fill_between(\n",
    "        train_sizes,\n",
    "        fit_times_mean - fit_times_std,\n",
    "        fit_times_mean + fit_times_std,\n",
    "        alpha=0.1,\n",
    "    )\n",
    "    axes[1].set_xlabel(\"Training examples\")\n",
    "    axes[1].set_ylabel(\"fit_times\")\n",
    "    axes[1].set_title(\"Scalability of the model\")\n",
    "\n",
    "    # Plot fit_time vs score\n",
    "    fit_time_argsort = fit_times_mean.argsort()\n",
    "    fit_time_sorted = fit_times_mean[fit_time_argsort]\n",
    "    test_scores_mean_sorted = test_scores_mean[fit_time_argsort]\n",
    "    test_scores_std_sorted = test_scores_std[fit_time_argsort]\n",
    "    axes[2].grid()\n",
    "    axes[2].plot(fit_time_sorted, test_scores_mean_sorted, \"o-\")\n",
    "    axes[2].fill_between(\n",
    "        fit_time_sorted,\n",
    "        test_scores_mean_sorted - test_scores_std_sorted,\n",
    "        test_scores_mean_sorted + test_scores_std_sorted,\n",
    "        alpha=0.1,\n",
    "    )\n",
    "    axes[2].set_xlabel(\"fit_times\") \n",
    "    axes[2].set_ylabel(\"Score\")\n",
    "    axes[2].set_title(\"Performance of the model\")\n",
    "\n",
    "    return plt"
   ]
  },
  {
   "cell_type": "code",
   "execution_count": 11,
   "id": "70bbd10d",
   "metadata": {
    "execution": {
     "iopub.execute_input": "2022-07-20T05:22:15.099142Z",
     "iopub.status.busy": "2022-07-20T05:22:15.098577Z",
     "iopub.status.idle": "2022-07-20T05:22:15.114995Z",
     "shell.execute_reply": "2022-07-20T05:22:15.113828Z"
    },
    "papermill": {
     "duration": 0.026739,
     "end_time": "2022-07-20T05:22:15.117762",
     "exception": false,
     "start_time": "2022-07-20T05:22:15.091023",
     "status": "completed"
    },
    "tags": []
   },
   "outputs": [],
   "source": [
    "def pooled_var(stds):\n",
    "    n = 30 # size of each group\n",
    "    return np.sqrt(sum((n-1)*(stds**2))/ len(stds)*(n-1))\n",
    "\n",
    "def plot_search_results(search):\n",
    "  df = pd.DataFrame(search.cv_results_)\n",
    "  results = ['mean_test_score',\n",
    "            'mean_train_score',\n",
    "            'std_test_score', \n",
    "            'std_train_score']\n",
    "\n",
    "  fig, axes = plt.subplots(1, len(param_grid), \n",
    "                          figsize = (7*len(param_grid), 5),\n",
    "                          sharey='row')\n",
    "  axes[0].set_ylabel(\"Score\", fontsize=25)\n",
    "\n",
    "\n",
    "  for idx, (param_name, param_range) in enumerate(param_grid.items()):\n",
    "      grouped_df = df.groupby(f'param_{param_name}')[results]\\\n",
    "          .agg({'mean_train_score': 'mean',\n",
    "                'mean_test_score': 'mean',\n",
    "                'std_train_score': 'mean',\n",
    "                'std_test_score': 'mean'})\n",
    "\n",
    "      previous_group = df.groupby(f'param_{param_name}')[results]\n",
    "      axes[idx].set_xlabel(param_name, fontsize=30)\n",
    "      axes[idx].set_ylim(0.0, 1.1)\n",
    "      lw = 2\n",
    "      axes[idx].plot(param_range, grouped_df['mean_train_score'], label=\"Training score\",\n",
    "                  color=\"darkorange\", lw=lw)\n",
    "      axes[idx].fill_between(param_range,grouped_df['mean_train_score'] - grouped_df['std_train_score'],\n",
    "                      grouped_df['mean_train_score'] + grouped_df['std_train_score'], alpha=0.2,\n",
    "                      color=\"darkorange\", lw=lw)\n",
    "      axes[idx].plot(param_range, grouped_df['mean_test_score'], label=\"Cross-validation score\",\n",
    "                  color=\"navy\", lw=lw)\n",
    "      axes[idx].fill_between(param_range, grouped_df['mean_test_score'] - grouped_df['std_test_score'],\n",
    "                      grouped_df['mean_test_score'] + grouped_df['std_test_score'], alpha=0.2,\n",
    "                      color=\"navy\", lw=lw)\n",
    "\n",
    "  handles, labels = axes[0].get_legend_handles_labels()\n",
    "  fig.suptitle('Validation curves', fontsize=40)\n",
    "  fig.legend(handles, labels, loc=8, ncol=2, fontsize=20)\n",
    "\n",
    "  fig.subplots_adjust(bottom=0.25, top=0.85)  \n",
    "  plt.show()"
   ]
  },
  {
   "cell_type": "code",
   "execution_count": 12,
   "id": "302e6228",
   "metadata": {
    "execution": {
     "iopub.execute_input": "2022-07-20T05:22:15.132148Z",
     "iopub.status.busy": "2022-07-20T05:22:15.131445Z",
     "iopub.status.idle": "2022-07-20T05:22:15.137269Z",
     "shell.execute_reply": "2022-07-20T05:22:15.136245Z"
    },
    "papermill": {
     "duration": 0.015274,
     "end_time": "2022-07-20T05:22:15.139355",
     "exception": false,
     "start_time": "2022-07-20T05:22:15.124081",
     "status": "completed"
    },
    "tags": []
   },
   "outputs": [],
   "source": [
    "def print_result_df(search):\n",
    "  keeping_columns = ['params', 'mean_train_score', 'std_train_score', 'mean_test_score', 'std_test_score', 'mean_fit_time', 'std_fit_time']\n",
    "  df = pd.DataFrame(search.cv_results_)\n",
    "  df = df[keeping_columns].sort_values(by='mean_test_score', ascending=False)\n",
    "  return df.iloc[:10, :]"
   ]
  },
  {
   "cell_type": "code",
   "execution_count": 13,
   "id": "4ae6eb0f",
   "metadata": {
    "execution": {
     "iopub.execute_input": "2022-07-20T05:22:15.153755Z",
     "iopub.status.busy": "2022-07-20T05:22:15.153039Z",
     "iopub.status.idle": "2022-07-20T05:22:15.164527Z",
     "shell.execute_reply": "2022-07-20T05:22:15.163657Z"
    },
    "papermill": {
     "duration": 0.021687,
     "end_time": "2022-07-20T05:22:15.167182",
     "exception": false,
     "start_time": "2022-07-20T05:22:15.145495",
     "status": "completed"
    },
    "tags": []
   },
   "outputs": [],
   "source": [
    "def print_best_model_result(search, name):\n",
    "  print(\"Best parameter (CV score=):\" % search.best_score_)\n",
    "  best_model = search.best_estimator_\n",
    "  print(best_model)\n",
    "\n",
    "  y_pred = best_model.predict(X_test)\n",
    "\n",
    "  print(classification_report(y_test, y_pred))\n",
    "  print(confusion_matrix(y_test, y_pred))\n",
    "  \n",
    "  f_onehalf_score = fbeta_score(y_test, y_pred, beta=0.5)\n",
    "  print('f0.5_score=', f_onehalf_score)\n",
    "\n",
    "  try :\n",
    "    y_score = best_model.predict_proba(X_test)[:, 1]\n",
    "    # calculate precision and recall for each threshold\n",
    "    precision, recall, threshold = precision_recall_curve(y_test, y_score)\n",
    "    # calculate scores\n",
    "    pr_auc = auc(recall, precision)\n",
    "    print('pr_auc_score=', pr_auc)\n",
    "\n",
    "    # calculate the no skill line as the proportion of the positive class\n",
    "    no_skill = len(y_test[y_test==1]) / len(y_test)\n",
    "    # plot the no skill precision-recall curve\n",
    "    plt.figure(figsize=(10, 7))\n",
    "    plt.plot([0, 1], [no_skill, no_skill], linestyle='--', label='No Skill')\n",
    "    # plot the model precision-recall curve\n",
    "    plt.plot(recall, precision, marker='.', label=name)\n",
    "    plt.title(f'{name}(pr_auc={pr_auc})')\n",
    "    plt.xlabel('Recall')\n",
    "    plt.ylabel('Precision')\n",
    "    # show the legend\n",
    "    plt.legend()\n",
    "    # show the plot\n",
    "    plt.show()\n",
    "  except:\n",
    "    pass\n",
    "\n",
    "  plot_learning_curve(best_model, name, X_train, y_train, cv=cv, n_jobs=-1 )\n",
    "  plt.show()\n",
    "\n",
    "  return best_model"
   ]
  },
  {
   "cell_type": "code",
   "execution_count": 14,
   "id": "8472cfbf",
   "metadata": {
    "execution": {
     "iopub.execute_input": "2022-07-20T05:22:15.181724Z",
     "iopub.status.busy": "2022-07-20T05:22:15.181281Z",
     "iopub.status.idle": "2022-07-20T05:22:15.187607Z",
     "shell.execute_reply": "2022-07-20T05:22:15.186638Z"
    },
    "papermill": {
     "duration": 0.016418,
     "end_time": "2022-07-20T05:22:15.190000",
     "exception": false,
     "start_time": "2022-07-20T05:22:15.173582",
     "status": "completed"
    },
    "tags": []
   },
   "outputs": [
    {
     "name": "stdout",
     "output_type": "stream",
     "text": [
      "Base Perceptron\n"
     ]
    }
   ],
   "source": [
    "pipe = Pipeline(steps=[perceptron])\n",
    "print(\"Base Perceptron\")"
   ]
  },
  {
   "cell_type": "code",
   "execution_count": 15,
   "id": "4cb8e8a6",
   "metadata": {
    "execution": {
     "iopub.execute_input": "2022-07-20T05:22:15.205403Z",
     "iopub.status.busy": "2022-07-20T05:22:15.204688Z",
     "iopub.status.idle": "2022-07-20T05:22:15.209164Z",
     "shell.execute_reply": "2022-07-20T05:22:15.208054Z"
    },
    "papermill": {
     "duration": 0.014758,
     "end_time": "2022-07-20T05:22:15.211562",
     "exception": false,
     "start_time": "2022-07-20T05:22:15.196804",
     "status": "completed"
    },
    "tags": []
   },
   "outputs": [],
   "source": [
    "param_grid = {}"
   ]
  },
  {
   "cell_type": "code",
   "execution_count": 16,
   "id": "15867990",
   "metadata": {
    "execution": {
     "iopub.execute_input": "2022-07-20T05:22:15.226690Z",
     "iopub.status.busy": "2022-07-20T05:22:15.226000Z",
     "iopub.status.idle": "2022-07-20T05:22:15.230625Z",
     "shell.execute_reply": "2022-07-20T05:22:15.229841Z"
    },
    "papermill": {
     "duration": 0.015097,
     "end_time": "2022-07-20T05:22:15.233184",
     "exception": false,
     "start_time": "2022-07-20T05:22:15.218087",
     "status": "completed"
    },
    "tags": []
   },
   "outputs": [],
   "source": [
    "search = HalvingGridSearchCV(pipe, param_grid, scoring=f_onehalf_scorer, cv=cv, verbose=3, return_train_score=True)"
   ]
  },
  {
   "cell_type": "code",
   "execution_count": 17,
   "id": "e4191343",
   "metadata": {
    "execution": {
     "iopub.execute_input": "2022-07-20T05:22:15.247904Z",
     "iopub.status.busy": "2022-07-20T05:22:15.247447Z",
     "iopub.status.idle": "2022-07-20T05:23:42.956861Z",
     "shell.execute_reply": "2022-07-20T05:23:42.955506Z"
    },
    "papermill": {
     "duration": 87.723571,
     "end_time": "2022-07-20T05:23:42.963163",
     "exception": false,
     "start_time": "2022-07-20T05:22:15.239592",
     "status": "completed"
    },
    "tags": []
   },
   "outputs": [
    {
     "name": "stdout",
     "output_type": "stream",
     "text": [
      "n_iterations: 1\n",
      "n_required_iterations: 1\n",
      "n_possible_iterations: 1\n",
      "min_resources_: 1074704\n",
      "max_resources_: 1074704\n",
      "aggressive_elimination: False\n",
      "factor: 3\n",
      "----------\n",
      "iter: 0\n",
      "n_candidates: 1\n",
      "n_resources: 1074704\n",
      "Fitting 5 folds for each of 1 candidates, totalling 5 fits\n",
      "[CV 1/5] END ..............., score=(train=0.841, test=0.842) total time=  13.4s\n",
      "[CV 2/5] END ..............., score=(train=0.839, test=0.838) total time=  13.5s\n",
      "[CV 3/5] END ..............., score=(train=0.919, test=0.919) total time=  13.4s\n",
      "[CV 4/5] END ..............., score=(train=0.854, test=0.854) total time=  14.6s\n",
      "[CV 5/5] END ..............., score=(train=0.920, test=0.920) total time=  13.2s\n"
     ]
    },
    {
     "data": {
      "text/plain": [
       "HalvingGridSearchCV(cv=RepeatedStratifiedKFold(n_repeats=1, n_splits=5, random_state=42),\n",
       "                    estimator=Pipeline(steps=[('perceptron',\n",
       "                                               Perceptron(early_stopping=True,\n",
       "                                                          max_iter=100,\n",
       "                                                          n_iter_no_change=20,\n",
       "                                                          random_state=42,\n",
       "                                                          tol=1e-06))]),\n",
       "                    param_grid={}, scoring=make_scorer(fbeta_score, beta=0.5),\n",
       "                    verbose=3)"
      ]
     },
     "execution_count": 17,
     "metadata": {},
     "output_type": "execute_result"
    }
   ],
   "source": [
    "search.fit(X_train, y_train)"
   ]
  },
  {
   "cell_type": "code",
   "execution_count": 18,
   "id": "b601875e",
   "metadata": {
    "execution": {
     "iopub.execute_input": "2022-07-20T05:23:42.978667Z",
     "iopub.status.busy": "2022-07-20T05:23:42.978265Z",
     "iopub.status.idle": "2022-07-20T05:23:43.002881Z",
     "shell.execute_reply": "2022-07-20T05:23:43.001812Z"
    },
    "papermill": {
     "duration": 0.03534,
     "end_time": "2022-07-20T05:23:43.005293",
     "exception": false,
     "start_time": "2022-07-20T05:23:42.969953",
     "status": "completed"
    },
    "tags": []
   },
   "outputs": [
    {
     "data": {
      "text/html": [
       "<div>\n",
       "<style scoped>\n",
       "    .dataframe tbody tr th:only-of-type {\n",
       "        vertical-align: middle;\n",
       "    }\n",
       "\n",
       "    .dataframe tbody tr th {\n",
       "        vertical-align: top;\n",
       "    }\n",
       "\n",
       "    .dataframe thead th {\n",
       "        text-align: right;\n",
       "    }\n",
       "</style>\n",
       "<table border=\"1\" class=\"dataframe\">\n",
       "  <thead>\n",
       "    <tr style=\"text-align: right;\">\n",
       "      <th></th>\n",
       "      <th>params</th>\n",
       "      <th>mean_train_score</th>\n",
       "      <th>std_train_score</th>\n",
       "      <th>mean_test_score</th>\n",
       "      <th>std_test_score</th>\n",
       "      <th>mean_fit_time</th>\n",
       "      <th>std_fit_time</th>\n",
       "    </tr>\n",
       "  </thead>\n",
       "  <tbody>\n",
       "    <tr>\n",
       "      <th>0</th>\n",
       "      <td>{}</td>\n",
       "      <td>0.874516</td>\n",
       "      <td>0.036919</td>\n",
       "      <td>0.874598</td>\n",
       "      <td>0.037038</td>\n",
       "      <td>13.454261</td>\n",
       "      <td>0.521713</td>\n",
       "    </tr>\n",
       "  </tbody>\n",
       "</table>\n",
       "</div>"
      ],
      "text/plain": [
       "  params  mean_train_score  std_train_score  mean_test_score  std_test_score  \\\n",
       "0     {}          0.874516         0.036919         0.874598        0.037038   \n",
       "\n",
       "   mean_fit_time  std_fit_time  \n",
       "0      13.454261      0.521713  "
      ]
     },
     "execution_count": 18,
     "metadata": {},
     "output_type": "execute_result"
    }
   ],
   "source": [
    "print_result_df(search)"
   ]
  },
  {
   "cell_type": "code",
   "execution_count": 19,
   "id": "28e4f49d",
   "metadata": {
    "execution": {
     "iopub.execute_input": "2022-07-20T05:23:43.021203Z",
     "iopub.status.busy": "2022-07-20T05:23:43.020846Z",
     "iopub.status.idle": "2022-07-20T05:23:43.025139Z",
     "shell.execute_reply": "2022-07-20T05:23:43.024068Z"
    },
    "papermill": {
     "duration": 0.014828,
     "end_time": "2022-07-20T05:23:43.027104",
     "exception": false,
     "start_time": "2022-07-20T05:23:43.012276",
     "status": "completed"
    },
    "tags": []
   },
   "outputs": [],
   "source": [
    "#plot_search_results(search)"
   ]
  },
  {
   "cell_type": "code",
   "execution_count": 20,
   "id": "64cca669",
   "metadata": {
    "execution": {
     "iopub.execute_input": "2022-07-20T05:23:43.043272Z",
     "iopub.status.busy": "2022-07-20T05:23:43.042529Z",
     "iopub.status.idle": "2022-07-20T05:25:00.759132Z",
     "shell.execute_reply": "2022-07-20T05:25:00.757829Z"
    },
    "papermill": {
     "duration": 77.734037,
     "end_time": "2022-07-20T05:25:00.768287",
     "exception": false,
     "start_time": "2022-07-20T05:23:43.034250",
     "status": "completed"
    },
    "tags": []
   },
   "outputs": [
    {
     "name": "stdout",
     "output_type": "stream",
     "text": [
      "Best parameter (CV score=):\n",
      "Pipeline(steps=[('perceptron',\n",
      "                 Perceptron(early_stopping=True, max_iter=100,\n",
      "                            n_iter_no_change=20, random_state=42, tol=1e-06))])\n",
      "              precision    recall  f1-score   support\n",
      "\n",
      "           0       0.68      0.12      0.20     53638\n",
      "           1       0.82      0.99      0.89    215038\n",
      "\n",
      "    accuracy                           0.81    268676\n",
      "   macro avg       0.75      0.55      0.55    268676\n",
      "weighted avg       0.79      0.81      0.75    268676\n",
      "\n",
      "[[  6202  47436]\n",
      " [  2948 212090]]\n",
      "f0.5_score= 0.846232908960038\n"
     ]
    },
    {
     "data": {
      "image/png": "[encoded data removed]",
      "text/plain": [
       "<Figure size 1080x1080 with 3 Axes>"
      ]
     },
     "metadata": {
      "needs_background": "light"
     },
     "output_type": "display_data"
    },
    {
     "data": {
      "text/plain": [
       "Pipeline(steps=[('perceptron',\n",
       "                 Perceptron(early_stopping=True, max_iter=100,\n",
       "                            n_iter_no_change=20, random_state=42, tol=1e-06))])"
      ]
     },
     "execution_count": 20,
     "metadata": {},
     "output_type": "execute_result"
    }
   ],
   "source": [
    "print_best_model_result(search, 'Base Perceptron')"
   ]
  }
 ],
 "metadata": {
  "kernelspec": {
   "display_name": "Python 3.8.10 64-bit",
   "language": "python",
   "name": "python3"
  },
  "language_info": {
   "codemirror_mode": {
    "name": "ipython",
    "version": 3
   },
   "file_extension": ".py",
   "mimetype": "text/x-python",
   "name": "python",
   "nbconvert_exporter": "python",
   "pygments_lexer": "ipython3",
   "version": "3.8.10"
  },
  "papermill": {
   "default_parameters": {},
   "duration": 196.146804,
   "end_time": "2022-07-20T05:25:03.400894",
   "environment_variables": {},
   "exception": null,
   "input_path": "__notebook__.ipynb",
   "output_path": "__notebook__.ipynb",
   "parameters": {},
   "start_time": "2022-07-20T05:21:47.254090",
   "version": "2.3.4"
  },
  "vscode": {
   "interpreter": {
    "hash": "8384712f827c73b71ec1d871aaffaaf3604c18a78a335b5adcc2028fc4cb4b02"
   }
  }
 },
 "nbformat": 4,
 "nbformat_minor": 5
}
