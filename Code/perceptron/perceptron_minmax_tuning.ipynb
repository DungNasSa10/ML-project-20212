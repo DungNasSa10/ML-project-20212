{
 "cells": [
  {
   "cell_type": "code",
   "execution_count": 1,
   "id": "066830ea",
   "metadata": {
    "execution": {
     "iopub.execute_input": "2022-07-20T06:05:41.110502Z",
     "iopub.status.busy": "2022-07-20T06:05:41.110088Z",
     "iopub.status.idle": "2022-07-20T06:05:43.775993Z",
     "shell.execute_reply": "2022-07-20T06:05:43.774964Z"
    },
    "papermill": {
     "duration": 2.676181,
     "end_time": "2022-07-20T06:05:43.778927",
     "exception": false,
     "start_time": "2022-07-20T06:05:41.102746",
     "status": "completed"
    },
    "tags": []
   },
   "outputs": [
    {
     "data": {
      "text/html": [
       "<style type='text/css'>\n",
       ".datatable table.frame { margin-bottom: 0; }\n",
       ".datatable table.frame thead { border-bottom: none; }\n",
       ".datatable table.frame tr.coltypes td {  color: #FFFFFF;  line-height: 6px;  padding: 0 0.5em;}\n",
       ".datatable .bool    { background: #DDDD99; }\n",
       ".datatable .object  { background: #565656; }\n",
       ".datatable .int     { background: #5D9E5D; }\n",
       ".datatable .float   { background: #4040CC; }\n",
       ".datatable .str     { background: #CC4040; }\n",
       ".datatable .time    { background: #40CC40; }\n",
       ".datatable .row_index {  background: var(--jp-border-color3);  border-right: 1px solid var(--jp-border-color0);  color: var(--jp-ui-font-color3);  font-size: 9px;}\n",
       ".datatable .frame tbody td { text-align: left; }\n",
       ".datatable .frame tr.coltypes .row_index {  background: var(--jp-border-color0);}\n",
       ".datatable th:nth-child(2) { padding-left: 12px; }\n",
       ".datatable .hellipsis {  color: var(--jp-cell-editor-border-color);}\n",
       ".datatable .vellipsis {  background: var(--jp-layout-color0);  color: var(--jp-cell-editor-border-color);}\n",
       ".datatable .na {  color: var(--jp-cell-editor-border-color);  font-size: 80%;}\n",
       ".datatable .sp {  opacity: 0.25;}\n",
       ".datatable .footer { font-size: 9px; }\n",
       ".datatable .frame_dimensions {  background: var(--jp-border-color3);  border-top: 1px solid var(--jp-border-color0);  color: var(--jp-ui-font-color3);  display: inline-block;  opacity: 0.6;  padding: 1px 10px 1px 5px;}\n",
       "</style>\n"
      ],
      "text/plain": [
       "<IPython.core.display.HTML object>"
      ]
     },
     "metadata": {},
     "output_type": "display_data"
    }
   ],
   "source": [
    "import pandas as pd\n",
    "import numpy as np\n",
    "import matplotlib.pyplot as plt\n",
    "import seaborn as sns\n",
    "from imblearn.pipeline import Pipeline\n",
    "\n",
    "from sklearn.preprocessing import MinMaxScaler\n",
    "\n",
    "from imblearn.over_sampling import SMOTE, BorderlineSMOTE, SVMSMOTE, ADASYN\n",
    "\n",
    "from sklearn.linear_model import LogisticRegression, Perceptron\n",
    "from sklearn.neighbors import KNeighborsClassifier\n",
    "from sklearn.svm import SVC\n",
    "from sklearn.tree import DecisionTreeClassifier\n",
    "from sklearn.ensemble import RandomForestClassifier\n",
    "from sklearn.neural_network import MLPClassifier\n",
    "from lightgbm import LGBMClassifier\n",
    "from xgboost import XGBClassifier\n",
    "\n",
    "from sklearn.experimental import enable_halving_search_cv\n",
    "from sklearn.model_selection import GridSearchCV, HalvingGridSearchCV, train_test_split, RepeatedStratifiedKFold, cross_val_score, learning_curve\n",
    "from sklearn.metrics import classification_report, fbeta_score, confusion_matrix, precision_recall_curve, auc, make_scorer"
   ]
  },
  {
   "cell_type": "code",
   "execution_count": 2,
   "id": "b361c039",
   "metadata": {
    "execution": {
     "iopub.execute_input": "2022-07-20T06:05:43.790584Z",
     "iopub.status.busy": "2022-07-20T06:05:43.790219Z",
     "iopub.status.idle": "2022-07-20T06:05:54.680349Z",
     "shell.execute_reply": "2022-07-20T06:05:54.679216Z"
    },
    "papermill": {
     "duration": 10.899069,
     "end_time": "2022-07-20T06:05:54.682998",
     "exception": false,
     "start_time": "2022-07-20T06:05:43.783929",
     "status": "completed"
    },
    "tags": []
   },
   "outputs": [],
   "source": [
    "accepted_loans = pd.read_csv('../input/ml-project-elite/elite.csv')"
   ]
  },
  {
   "cell_type": "code",
   "execution_count": 3,
   "id": "65aa5e99",
   "metadata": {
    "execution": {
     "iopub.execute_input": "2022-07-20T06:05:54.694455Z",
     "iopub.status.busy": "2022-07-20T06:05:54.693912Z",
     "iopub.status.idle": "2022-07-20T06:05:55.238989Z",
     "shell.execute_reply": "2022-07-20T06:05:55.237548Z"
    },
    "papermill": {
     "duration": 0.553797,
     "end_time": "2022-07-20T06:05:55.241749",
     "exception": false,
     "start_time": "2022-07-20T06:05:54.687952",
     "status": "completed"
    },
    "tags": []
   },
   "outputs": [],
   "source": [
    "X = accepted_loans.loc[:, accepted_loans.columns != 'loan_paid'].values\n",
    "y = accepted_loans['loan_paid'].values"
   ]
  },
  {
   "cell_type": "code",
   "execution_count": 4,
   "id": "ed912c8d",
   "metadata": {
    "execution": {
     "iopub.execute_input": "2022-07-20T06:05:55.252969Z",
     "iopub.status.busy": "2022-07-20T06:05:55.252593Z",
     "iopub.status.idle": "2022-07-20T06:05:57.007851Z",
     "shell.execute_reply": "2022-07-20T06:05:57.006668Z"
    },
    "papermill": {
     "duration": 1.763689,
     "end_time": "2022-07-20T06:05:57.010345",
     "exception": false,
     "start_time": "2022-07-20T06:05:55.246656",
     "status": "completed"
    },
    "tags": []
   },
   "outputs": [],
   "source": [
    "X_train, X_test, y_train, y_test = train_test_split(X, y, test_size=0.2, random_state=42, stratify=y)"
   ]
  },
  {
   "cell_type": "code",
   "execution_count": 5,
   "id": "f8d1d83a",
   "metadata": {
    "execution": {
     "iopub.execute_input": "2022-07-20T06:05:57.022246Z",
     "iopub.status.busy": "2022-07-20T06:05:57.021555Z",
     "iopub.status.idle": "2022-07-20T06:05:57.027186Z",
     "shell.execute_reply": "2022-07-20T06:05:57.026346Z"
    },
    "papermill": {
     "duration": 0.013824,
     "end_time": "2022-07-20T06:05:57.029183",
     "exception": false,
     "start_time": "2022-07-20T06:05:57.015359",
     "status": "completed"
    },
    "tags": []
   },
   "outputs": [],
   "source": [
    "cv = RepeatedStratifiedKFold(n_splits=5, n_repeats=1, random_state=42)"
   ]
  },
  {
   "cell_type": "code",
   "execution_count": 6,
   "id": "20a429c4",
   "metadata": {
    "execution": {
     "iopub.execute_input": "2022-07-20T06:05:57.040069Z",
     "iopub.status.busy": "2022-07-20T06:05:57.039662Z",
     "iopub.status.idle": "2022-07-20T06:05:57.044511Z",
     "shell.execute_reply": "2022-07-20T06:05:57.043210Z"
    },
    "papermill": {
     "duration": 0.012742,
     "end_time": "2022-07-20T06:05:57.046659",
     "exception": false,
     "start_time": "2022-07-20T06:05:57.033917",
     "status": "completed"
    },
    "tags": []
   },
   "outputs": [],
   "source": [
    "minmax_scaler = ('minmax', MinMaxScaler())"
   ]
  },
  {
   "cell_type": "code",
   "execution_count": 7,
   "id": "97de6c18",
   "metadata": {
    "execution": {
     "iopub.execute_input": "2022-07-20T06:05:57.058327Z",
     "iopub.status.busy": "2022-07-20T06:05:57.057161Z",
     "iopub.status.idle": "2022-07-20T06:05:57.062379Z",
     "shell.execute_reply": "2022-07-20T06:05:57.061534Z"
    },
    "papermill": {
     "duration": 0.01303,
     "end_time": "2022-07-20T06:05:57.064343",
     "exception": false,
     "start_time": "2022-07-20T06:05:57.051313",
     "status": "completed"
    },
    "tags": []
   },
   "outputs": [],
   "source": [
    "smote = ('smote', SMOTE(sampling_strategy=1.0, random_state=42))\n",
    "smote_param_grid = {\n",
    "    'smote__sampling_strategy': [0.8, 0.9, 1.0]\n",
    "    #'smote__k_neighbors': [3, 5, 10, 15]\n",
    "}"
   ]
  },
  {
   "cell_type": "code",
   "execution_count": 8,
   "id": "81727de2",
   "metadata": {
    "execution": {
     "iopub.execute_input": "2022-07-20T06:05:57.075434Z",
     "iopub.status.busy": "2022-07-20T06:05:57.074757Z",
     "iopub.status.idle": "2022-07-20T06:05:57.079305Z",
     "shell.execute_reply": "2022-07-20T06:05:57.078423Z"
    },
    "papermill": {
     "duration": 0.012281,
     "end_time": "2022-07-20T06:05:57.081280",
     "exception": false,
     "start_time": "2022-07-20T06:05:57.068999",
     "status": "completed"
    },
    "tags": []
   },
   "outputs": [],
   "source": [
    "perceptron = ('perceptron', Perceptron(random_state=42, n_iter_no_change=20, max_iter=100, tol=1e-6, early_stopping=True))\n",
    "perceptron_param_grid = {\n",
    "    'perceptron__penalty' : ['l2', 'l1', 'elasticnet'],\n",
    "}"
   ]
  },
  {
   "cell_type": "code",
   "execution_count": 9,
   "id": "c3d293e3",
   "metadata": {
    "execution": {
     "iopub.execute_input": "2022-07-20T06:05:57.092761Z",
     "iopub.status.busy": "2022-07-20T06:05:57.092001Z",
     "iopub.status.idle": "2022-07-20T06:05:57.096376Z",
     "shell.execute_reply": "2022-07-20T06:05:57.095329Z"
    },
    "papermill": {
     "duration": 0.012484,
     "end_time": "2022-07-20T06:05:57.098470",
     "exception": false,
     "start_time": "2022-07-20T06:05:57.085986",
     "status": "completed"
    },
    "tags": []
   },
   "outputs": [],
   "source": [
    "# Metric\n",
    "f_onehalf_scorer = make_scorer(fbeta_score, beta=0.5)"
   ]
  },
  {
   "cell_type": "code",
   "execution_count": 10,
   "id": "a5eb8ac2",
   "metadata": {
    "execution": {
     "iopub.execute_input": "2022-07-20T06:05:57.110286Z",
     "iopub.status.busy": "2022-07-20T06:05:57.109612Z",
     "iopub.status.idle": "2022-07-20T06:05:57.123707Z",
     "shell.execute_reply": "2022-07-20T06:05:57.122902Z"
    },
    "papermill": {
     "duration": 0.022742,
     "end_time": "2022-07-20T06:05:57.126012",
     "exception": false,
     "start_time": "2022-07-20T06:05:57.103270",
     "status": "completed"
    },
    "tags": []
   },
   "outputs": [],
   "source": [
    "def plot_learning_curve(\n",
    "    estimator,\n",
    "    title,\n",
    "    X,\n",
    "    y,\n",
    "    axes=None,\n",
    "    ylim=None,\n",
    "    cv=cv,\n",
    "    n_jobs=-1,\n",
    "    train_sizes=np.linspace(0.1, 1.0, 5),\n",
    "):\n",
    "    if axes is None:\n",
    "        _, axes = plt.subplots(3, 1, figsize=(15, 15))\n",
    "\n",
    "    axes[0].set_title(title)\n",
    "    if ylim is not None:\n",
    "        axes[0].set_ylim(*ylim)\n",
    "    axes[0].set_xlabel(\"Training examples\")\n",
    "    axes[0].set_ylabel(\"Score\")\n",
    "\n",
    "    train_sizes, train_scores, test_scores, fit_times, _ = learning_curve(\n",
    "        estimator,\n",
    "        X,\n",
    "        y,\n",
    "        cv=cv,\n",
    "        n_jobs=n_jobs,\n",
    "        train_sizes=train_sizes,\n",
    "        scoring=f_onehalf_scorer,\n",
    "        return_times=True,\n",
    "        random_state=42\n",
    "    )\n",
    "    train_scores_mean = np.mean(train_scores, axis=1)\n",
    "    train_scores_std = np.std(train_scores, axis=1)\n",
    "    test_scores_mean = np.mean(test_scores, axis=1)\n",
    "    test_scores_std = np.std(test_scores, axis=1)\n",
    "    fit_times_mean = np.mean(fit_times, axis=1)\n",
    "    fit_times_std = np.std(fit_times, axis=1)\n",
    "\n",
    "    # Plot learning curve\n",
    "    axes[0].grid()\n",
    "    axes[0].fill_between(\n",
    "        train_sizes,\n",
    "        train_scores_mean - train_scores_std,\n",
    "        train_scores_mean + train_scores_std,\n",
    "        alpha=0.1,\n",
    "        color=\"r\",\n",
    "    )\n",
    "    axes[0].fill_between(\n",
    "        train_sizes,\n",
    "        test_scores_mean - test_scores_std,\n",
    "        test_scores_mean + test_scores_std,\n",
    "        alpha=0.1,\n",
    "        color=\"g\",\n",
    "    )\n",
    "    axes[0].plot(\n",
    "        train_sizes, train_scores_mean, \"o-\", color=\"r\", label=\"Training score\"\n",
    "    )\n",
    "    axes[0].plot(\n",
    "        train_sizes, test_scores_mean, \"o-\", color=\"g\", label=\"Cross-validation score\"\n",
    "    )\n",
    "    axes[0].legend(loc=\"best\")\n",
    "\n",
    "    # Plot n_samples vs fit_times\n",
    "    axes[1].grid()\n",
    "    axes[1].plot(train_sizes, fit_times_mean, \"o-\")\n",
    "    axes[1].fill_between(\n",
    "        train_sizes,\n",
    "        fit_times_mean - fit_times_std,\n",
    "        fit_times_mean + fit_times_std,\n",
    "        alpha=0.1,\n",
    "    )\n",
    "    axes[1].set_xlabel(\"Training examples\")\n",
    "    axes[1].set_ylabel(\"fit_times\")\n",
    "    axes[1].set_title(\"Scalability of the model\")\n",
    "\n",
    "    # Plot fit_time vs score\n",
    "    fit_time_argsort = fit_times_mean.argsort()\n",
    "    fit_time_sorted = fit_times_mean[fit_time_argsort]\n",
    "    test_scores_mean_sorted = test_scores_mean[fit_time_argsort]\n",
    "    test_scores_std_sorted = test_scores_std[fit_time_argsort]\n",
    "    axes[2].grid()\n",
    "    axes[2].plot(fit_time_sorted, test_scores_mean_sorted, \"o-\")\n",
    "    axes[2].fill_between(\n",
    "        fit_time_sorted,\n",
    "        test_scores_mean_sorted - test_scores_std_sorted,\n",
    "        test_scores_mean_sorted + test_scores_std_sorted,\n",
    "        alpha=0.1,\n",
    "    )\n",
    "    axes[2].set_xlabel(\"fit_times\") \n",
    "    axes[2].set_ylabel(\"Score\")\n",
    "    axes[2].set_title(\"Performance of the model\")\n",
    "\n",
    "    return plt"
   ]
  },
  {
   "cell_type": "code",
   "execution_count": 11,
   "id": "52c19b07",
   "metadata": {
    "execution": {
     "iopub.execute_input": "2022-07-20T06:05:57.137354Z",
     "iopub.status.busy": "2022-07-20T06:05:57.136694Z",
     "iopub.status.idle": "2022-07-20T06:05:57.148350Z",
     "shell.execute_reply": "2022-07-20T06:05:57.147350Z"
    },
    "papermill": {
     "duration": 0.020037,
     "end_time": "2022-07-20T06:05:57.150738",
     "exception": false,
     "start_time": "2022-07-20T06:05:57.130701",
     "status": "completed"
    },
    "tags": []
   },
   "outputs": [],
   "source": [
    "def pooled_var(stds):\n",
    "    n = 30 # size of each group\n",
    "    return np.sqrt(sum((n-1)*(stds**2))/ len(stds)*(n-1))\n",
    "\n",
    "def plot_search_results(search):\n",
    "  df = pd.DataFrame(search.cv_results_)\n",
    "  results = ['mean_test_score',\n",
    "            'mean_train_score',\n",
    "            'std_test_score', \n",
    "            'std_train_score']\n",
    "\n",
    "  fig, axes = plt.subplots(1, len(param_grid), \n",
    "                          figsize = (7*len(param_grid), 5),\n",
    "                          sharey='row')\n",
    "  if len(param_grid) == 1:\n",
    "        axes = [axes]\n",
    "        \n",
    "  axes[0].set_ylabel(\"Score\", fontsize=25)\n",
    "\n",
    "\n",
    "  for idx, (param_name, param_range) in enumerate(param_grid.items()):\n",
    "      grouped_df = df.groupby(f'param_{param_name}')[results]\\\n",
    "          .agg({'mean_train_score': 'mean',\n",
    "                'mean_test_score': 'mean',\n",
    "                'std_train_score': 'mean',\n",
    "                'std_test_score': 'mean'})\n",
    "\n",
    "      previous_group = df.groupby(f'param_{param_name}')[results]\n",
    "      axes[idx].set_xlabel(param_name, fontsize=30)\n",
    "      axes[idx].set_ylim(0.0, 1.1)\n",
    "      lw = 2\n",
    "      axes[idx].plot(param_range, grouped_df['mean_train_score'], label=\"Training score\",\n",
    "                  color=\"darkorange\", lw=lw)\n",
    "      axes[idx].fill_between(param_range,grouped_df['mean_train_score'] - grouped_df['std_train_score'],\n",
    "                      grouped_df['mean_train_score'] + grouped_df['std_train_score'], alpha=0.2,\n",
    "                      color=\"darkorange\", lw=lw)\n",
    "      axes[idx].plot(param_range, grouped_df['mean_test_score'], label=\"Cross-validation score\",\n",
    "                  color=\"navy\", lw=lw)\n",
    "      axes[idx].fill_between(param_range, grouped_df['mean_test_score'] - grouped_df['std_test_score'],\n",
    "                      grouped_df['mean_test_score'] + grouped_df['std_test_score'], alpha=0.2,\n",
    "                      color=\"navy\", lw=lw)\n",
    "\n",
    "  handles, labels = axes[0].get_legend_handles_labels()\n",
    "  fig.suptitle('Validation curves', fontsize=40)\n",
    "  fig.legend(handles, labels, loc=8, ncol=2, fontsize=20)\n",
    "\n",
    "  fig.subplots_adjust(bottom=0.25, top=0.85)  \n",
    "  plt.show()"
   ]
  },
  {
   "cell_type": "code",
   "execution_count": 12,
   "id": "3bf2aca4",
   "metadata": {
    "execution": {
     "iopub.execute_input": "2022-07-20T06:05:57.161802Z",
     "iopub.status.busy": "2022-07-20T06:05:57.161423Z",
     "iopub.status.idle": "2022-07-20T06:05:57.166357Z",
     "shell.execute_reply": "2022-07-20T06:05:57.165660Z"
    },
    "papermill": {
     "duration": 0.012735,
     "end_time": "2022-07-20T06:05:57.168186",
     "exception": false,
     "start_time": "2022-07-20T06:05:57.155451",
     "status": "completed"
    },
    "tags": []
   },
   "outputs": [],
   "source": [
    "def print_result_df(search):\n",
    "  keeping_columns = ['params', 'mean_train_score', 'std_train_score', 'mean_test_score', 'std_test_score', 'mean_fit_time', 'std_fit_time']\n",
    "  df = pd.DataFrame(search.cv_results_)\n",
    "  df = df[keeping_columns].sort_values(by='mean_test_score', ascending=False)\n",
    "  return df.iloc[:10, :]"
   ]
  },
  {
   "cell_type": "code",
   "execution_count": 13,
   "id": "be9c3393",
   "metadata": {
    "execution": {
     "iopub.execute_input": "2022-07-20T06:05:57.179229Z",
     "iopub.status.busy": "2022-07-20T06:05:57.178380Z",
     "iopub.status.idle": "2022-07-20T06:05:57.187401Z",
     "shell.execute_reply": "2022-07-20T06:05:57.186302Z"
    },
    "papermill": {
     "duration": 0.016766,
     "end_time": "2022-07-20T06:05:57.189544",
     "exception": false,
     "start_time": "2022-07-20T06:05:57.172778",
     "status": "completed"
    },
    "tags": []
   },
   "outputs": [],
   "source": [
    "def print_best_model_result(search, name):\n",
    "  print(\"Best parameter (CV score=):\" % search.best_score_)\n",
    "  best_model = search.best_estimator_\n",
    "  print(best_model)\n",
    "\n",
    "  y_pred = best_model.predict(X_test)\n",
    "\n",
    "  print(classification_report(y_test, y_pred))\n",
    "  print(confusion_matrix(y_test, y_pred))\n",
    "  \n",
    "  f_onehalf_score = fbeta_score(y_test, y_pred, beta=0.5)\n",
    "  print('f0.5_score=', f_onehalf_score)\n",
    "\n",
    "  try :\n",
    "    y_score = best_model.predict_proba(X_test)[:, 1]\n",
    "    # calculate precision and recall for each threshold\n",
    "    precision, recall, threshold = precision_recall_curve(y_test, y_score)\n",
    "    # calculate scores\n",
    "    pr_auc = auc(recall, precision)\n",
    "    print('pr_auc_score=', pr_auc)\n",
    "\n",
    "    # calculate the no skill line as the proportion of the positive class\n",
    "    no_skill = len(y_test[y_test==1]) / len(y_test)\n",
    "    # plot the no skill precision-recall curve\n",
    "    plt.figure(figsize=(10, 7))\n",
    "    plt.plot([0, 1], [no_skill, no_skill], linestyle='--', label='No Skill')\n",
    "    # plot the model precision-recall curve\n",
    "    plt.plot(recall, precision, marker='.', label=name)\n",
    "    plt.title(f'{name}(pr_auc={pr_auc})')\n",
    "    plt.xlabel('Recall')\n",
    "    plt.ylabel('Precision')\n",
    "    # show the legend\n",
    "    plt.legend()\n",
    "    # show the plot\n",
    "    plt.show()\n",
    "  except:\n",
    "    pass\n",
    "\n",
    "  plot_learning_curve(best_model, name, X_train, y_train, cv=cv, n_jobs=-1 )\n",
    "  plt.show()\n",
    "\n",
    "  return best_model"
   ]
  },
  {
   "cell_type": "code",
   "execution_count": 14,
   "id": "cdee0e02",
   "metadata": {
    "execution": {
     "iopub.execute_input": "2022-07-20T06:05:57.200581Z",
     "iopub.status.busy": "2022-07-20T06:05:57.199960Z",
     "iopub.status.idle": "2022-07-20T06:05:57.205036Z",
     "shell.execute_reply": "2022-07-20T06:05:57.203912Z"
    },
    "papermill": {
     "duration": 0.01319,
     "end_time": "2022-07-20T06:05:57.207334",
     "exception": false,
     "start_time": "2022-07-20T06:05:57.194144",
     "status": "completed"
    },
    "tags": []
   },
   "outputs": [
    {
     "name": "stdout",
     "output_type": "stream",
     "text": [
      "Tuning MinMaxScaler Perceptron\n"
     ]
    }
   ],
   "source": [
    "pipe = Pipeline(steps=[minmax_scaler, perceptron])\n",
    "print(\"Tuning MinMaxScaler Perceptron\")"
   ]
  },
  {
   "cell_type": "code",
   "execution_count": 15,
   "id": "2ea4ad8f",
   "metadata": {
    "execution": {
     "iopub.execute_input": "2022-07-20T06:05:57.219047Z",
     "iopub.status.busy": "2022-07-20T06:05:57.218404Z",
     "iopub.status.idle": "2022-07-20T06:05:57.222574Z",
     "shell.execute_reply": "2022-07-20T06:05:57.221844Z"
    },
    "papermill": {
     "duration": 0.012281,
     "end_time": "2022-07-20T06:05:57.224685",
     "exception": false,
     "start_time": "2022-07-20T06:05:57.212404",
     "status": "completed"
    },
    "tags": []
   },
   "outputs": [],
   "source": [
    "param_grid = {**perceptron_param_grid}"
   ]
  },
  {
   "cell_type": "code",
   "execution_count": 16,
   "id": "43aa5279",
   "metadata": {
    "execution": {
     "iopub.execute_input": "2022-07-20T06:05:57.235837Z",
     "iopub.status.busy": "2022-07-20T06:05:57.235256Z",
     "iopub.status.idle": "2022-07-20T06:05:57.239383Z",
     "shell.execute_reply": "2022-07-20T06:05:57.238622Z"
    },
    "papermill": {
     "duration": 0.011934,
     "end_time": "2022-07-20T06:05:57.241241",
     "exception": false,
     "start_time": "2022-07-20T06:05:57.229307",
     "status": "completed"
    },
    "tags": []
   },
   "outputs": [],
   "source": [
    "search = HalvingGridSearchCV(pipe, param_grid, scoring=f_onehalf_scorer, cv=cv, verbose=3, return_train_score=True)"
   ]
  },
  {
   "cell_type": "code",
   "execution_count": 17,
   "id": "e7d13ae8",
   "metadata": {
    "execution": {
     "iopub.execute_input": "2022-07-20T06:05:57.252262Z",
     "iopub.status.busy": "2022-07-20T06:05:57.251410Z",
     "iopub.status.idle": "2022-07-20T06:09:38.297139Z",
     "shell.execute_reply": "2022-07-20T06:09:38.296014Z"
    },
    "papermill": {
     "duration": 221.058911,
     "end_time": "2022-07-20T06:09:38.304646",
     "exception": false,
     "start_time": "2022-07-20T06:05:57.245735",
     "status": "completed"
    },
    "tags": []
   },
   "outputs": [
    {
     "name": "stdout",
     "output_type": "stream",
     "text": [
      "n_iterations: 2\n",
      "n_required_iterations: 2\n",
      "n_possible_iterations: 2\n",
      "min_resources_: 358234\n",
      "max_resources_: 1074704\n",
      "aggressive_elimination: False\n",
      "factor: 3\n",
      "----------\n",
      "iter: 0\n",
      "n_candidates: 3\n",
      "n_resources: 358234\n",
      "Fitting 5 folds for each of 3 candidates, totalling 15 fits\n",
      "[CV 1/5] END perceptron__penalty=l2;, score=(train=0.883, test=0.884) total time=   5.5s\n",
      "[CV 2/5] END perceptron__penalty=l2;, score=(train=0.897, test=0.897) total time=   5.4s\n",
      "[CV 3/5] END perceptron__penalty=l2;, score=(train=0.857, test=0.856) total time=   5.3s\n",
      "[CV 4/5] END perceptron__penalty=l2;, score=(train=0.843, test=0.844) total time=   5.2s\n",
      "[CV 5/5] END perceptron__penalty=l2;, score=(train=0.875, test=0.874) total time=   7.1s\n",
      "[CV 1/5] END perceptron__penalty=l1;, score=(train=0.913, test=0.914) total time=   6.5s\n",
      "[CV 2/5] END perceptron__penalty=l1;, score=(train=0.879, test=0.878) total time=   6.4s\n",
      "[CV 3/5] END perceptron__penalty=l1;, score=(train=0.840, test=0.840) total time=   6.5s\n",
      "[CV 4/5] END perceptron__penalty=l1;, score=(train=0.925, test=0.924) total time=   6.5s\n",
      "[CV 5/5] END perceptron__penalty=l1;, score=(train=0.915, test=0.915) total time=   6.5s\n",
      "[CV 1/5] END perceptron__penalty=elasticnet;, score=(train=0.877, test=0.877) total time=   6.9s\n",
      "[CV 2/5] END perceptron__penalty=elasticnet;, score=(train=0.824, test=0.823) total time=   9.6s\n",
      "[CV 3/5] END perceptron__penalty=elasticnet;, score=(train=0.835, test=0.835) total time=   6.7s\n",
      "[CV 4/5] END perceptron__penalty=elasticnet;, score=(train=0.821, test=0.821) total time=   6.9s\n",
      "[CV 5/5] END perceptron__penalty=elasticnet;, score=(train=0.787, test=0.786) total time=   9.2s\n",
      "----------\n",
      "iter: 1\n",
      "n_candidates: 1\n",
      "n_resources: 1074702\n",
      "Fitting 5 folds for each of 1 candidates, totalling 5 fits\n",
      "[CV 1/5] END perceptron__penalty=l1;, score=(train=0.911, test=0.911) total time=  17.3s\n",
      "[CV 2/5] END perceptron__penalty=l1;, score=(train=0.914, test=0.913) total time=  18.1s\n",
      "[CV 3/5] END perceptron__penalty=l1;, score=(train=0.876, test=0.877) total time=  17.9s\n",
      "[CV 4/5] END perceptron__penalty=l1;, score=(train=0.866, test=0.866) total time=  18.8s\n",
      "[CV 5/5] END perceptron__penalty=l1;, score=(train=0.841, test=0.841) total time=  17.1s\n"
     ]
    },
    {
     "data": {
      "text/plain": [
       "HalvingGridSearchCV(cv=RepeatedStratifiedKFold(n_repeats=1, n_splits=5, random_state=42),\n",
       "                    estimator=Pipeline(steps=[('minmax', MinMaxScaler()),\n",
       "                                              ('perceptron',\n",
       "                                               Perceptron(early_stopping=True,\n",
       "                                                          max_iter=100,\n",
       "                                                          n_iter_no_change=20,\n",
       "                                                          random_state=42,\n",
       "                                                          tol=1e-06))]),\n",
       "                    param_grid={'perceptron__penalty': ['l2', 'l1',\n",
       "                                                        'elasticnet']},\n",
       "                    scoring=make_scorer(fbeta_score, beta=0.5), verbose=3)"
      ]
     },
     "execution_count": 17,
     "metadata": {},
     "output_type": "execute_result"
    }
   ],
   "source": [
    "search.fit(X_train, y_train)"
   ]
  },
  {
   "cell_type": "code",
   "execution_count": 18,
   "id": "63139621",
   "metadata": {
    "execution": {
     "iopub.execute_input": "2022-07-20T06:09:38.318069Z",
     "iopub.status.busy": "2022-07-20T06:09:38.317661Z",
     "iopub.status.idle": "2022-07-20T06:09:38.340929Z",
     "shell.execute_reply": "2022-07-20T06:09:38.340191Z"
    },
    "papermill": {
     "duration": 0.032351,
     "end_time": "2022-07-20T06:09:38.342787",
     "exception": false,
     "start_time": "2022-07-20T06:09:38.310436",
     "status": "completed"
    },
    "tags": []
   },
   "outputs": [
    {
     "data": {
      "text/html": [
       "<div>\n",
       "<style scoped>\n",
       "    .dataframe tbody tr th:only-of-type {\n",
       "        vertical-align: middle;\n",
       "    }\n",
       "\n",
       "    .dataframe tbody tr th {\n",
       "        vertical-align: top;\n",
       "    }\n",
       "\n",
       "    .dataframe thead th {\n",
       "        text-align: right;\n",
       "    }\n",
       "</style>\n",
       "<table border=\"1\" class=\"dataframe\">\n",
       "  <thead>\n",
       "    <tr style=\"text-align: right;\">\n",
       "      <th></th>\n",
       "      <th>params</th>\n",
       "      <th>mean_train_score</th>\n",
       "      <th>std_train_score</th>\n",
       "      <th>mean_test_score</th>\n",
       "      <th>std_test_score</th>\n",
       "      <th>mean_fit_time</th>\n",
       "      <th>std_fit_time</th>\n",
       "    </tr>\n",
       "  </thead>\n",
       "  <tbody>\n",
       "    <tr>\n",
       "      <th>1</th>\n",
       "      <td>{'perceptron__penalty': 'l1'}</td>\n",
       "      <td>0.894408</td>\n",
       "      <td>0.031461</td>\n",
       "      <td>0.894439</td>\n",
       "      <td>0.031268</td>\n",
       "      <td>6.368097</td>\n",
       "      <td>0.016113</td>\n",
       "    </tr>\n",
       "    <tr>\n",
       "      <th>3</th>\n",
       "      <td>{'perceptron__penalty': 'l1'}</td>\n",
       "      <td>0.881613</td>\n",
       "      <td>0.027871</td>\n",
       "      <td>0.881494</td>\n",
       "      <td>0.027717</td>\n",
       "      <td>17.571948</td>\n",
       "      <td>0.599493</td>\n",
       "    </tr>\n",
       "    <tr>\n",
       "      <th>0</th>\n",
       "      <td>{'perceptron__penalty': 'l2'}</td>\n",
       "      <td>0.871087</td>\n",
       "      <td>0.019250</td>\n",
       "      <td>0.871144</td>\n",
       "      <td>0.018977</td>\n",
       "      <td>5.608806</td>\n",
       "      <td>0.723454</td>\n",
       "    </tr>\n",
       "    <tr>\n",
       "      <th>2</th>\n",
       "      <td>{'perceptron__penalty': 'elasticnet'}</td>\n",
       "      <td>0.828694</td>\n",
       "      <td>0.028801</td>\n",
       "      <td>0.828296</td>\n",
       "      <td>0.029267</td>\n",
       "      <td>7.771745</td>\n",
       "      <td>1.259484</td>\n",
       "    </tr>\n",
       "  </tbody>\n",
       "</table>\n",
       "</div>"
      ],
      "text/plain": [
       "                                  params  mean_train_score  std_train_score  \\\n",
       "1          {'perceptron__penalty': 'l1'}          0.894408         0.031461   \n",
       "3          {'perceptron__penalty': 'l1'}          0.881613         0.027871   \n",
       "0          {'perceptron__penalty': 'l2'}          0.871087         0.019250   \n",
       "2  {'perceptron__penalty': 'elasticnet'}          0.828694         0.028801   \n",
       "\n",
       "   mean_test_score  std_test_score  mean_fit_time  std_fit_time  \n",
       "1         0.894439        0.031268       6.368097      0.016113  \n",
       "3         0.881494        0.027717      17.571948      0.599493  \n",
       "0         0.871144        0.018977       5.608806      0.723454  \n",
       "2         0.828296        0.029267       7.771745      1.259484  "
      ]
     },
     "execution_count": 18,
     "metadata": {},
     "output_type": "execute_result"
    }
   ],
   "source": [
    "print_result_df(search)"
   ]
  },
  {
   "cell_type": "code",
   "execution_count": 19,
   "id": "c032429a",
   "metadata": {
    "execution": {
     "iopub.execute_input": "2022-07-20T06:09:38.356786Z",
     "iopub.status.busy": "2022-07-20T06:09:38.355897Z",
     "iopub.status.idle": "2022-07-20T06:09:38.580206Z",
     "shell.execute_reply": "2022-07-20T06:09:38.578976Z"
    },
    "papermill": {
     "duration": 0.233858,
     "end_time": "2022-07-20T06:09:38.582695",
     "exception": false,
     "start_time": "2022-07-20T06:09:38.348837",
     "status": "completed"
    },
    "tags": []
   },
   "outputs": [
    {
     "data": {
      "image/png": "[encoded data removed]",
      "text/plain": [
       "<Figure size 504x360 with 1 Axes>"
      ]
     },
     "metadata": {
      "needs_background": "light"
     },
     "output_type": "display_data"
    }
   ],
   "source": [
    "plot_search_results(search)"
   ]
  },
  {
   "cell_type": "code",
   "execution_count": 20,
   "id": "b587bdf7",
   "metadata": {
    "execution": {
     "iopub.execute_input": "2022-07-20T06:09:38.597518Z",
     "iopub.status.busy": "2022-07-20T06:09:38.597158Z",
     "iopub.status.idle": "2022-07-20T06:11:20.367478Z",
     "shell.execute_reply": "2022-07-20T06:11:20.366426Z"
    },
    "papermill": {
     "duration": 101.788475,
     "end_time": "2022-07-20T06:11:20.377923",
     "exception": false,
     "start_time": "2022-07-20T06:09:38.589448",
     "status": "completed"
    },
    "tags": []
   },
   "outputs": [
    {
     "name": "stdout",
     "output_type": "stream",
     "text": [
      "Best parameter (CV score=):\n",
      "Pipeline(steps=[('minmax', MinMaxScaler()),\n",
      "                ('perceptron',\n",
      "                 Perceptron(early_stopping=True, max_iter=100,\n",
      "                            n_iter_no_change=20, penalty='l1', random_state=42,\n",
      "                            tol=1e-06))])\n",
      "              precision    recall  f1-score   support\n",
      "\n",
      "           0       0.91      0.00      0.00     53638\n",
      "           1       0.80      1.00      0.89    215038\n",
      "\n",
      "    accuracy                           0.80    268676\n",
      "   macro avg       0.85      0.50      0.44    268676\n",
      "weighted avg       0.82      0.80      0.71    268676\n",
      "\n",
      "[[    10  53628]\n",
      " [     1 215037]]\n",
      "f0.5_score= 0.8336719138899185\n"
     ]
    },
    {
     "data": {
      "image/png": "[encoded data removed]",
      "text/plain": [
       "<Figure size 1080x1080 with 3 Axes>"
      ]
     },
     "metadata": {
      "needs_background": "light"
     },
     "output_type": "display_data"
    },
    {
     "data": {
      "text/plain": [
       "Pipeline(steps=[('minmax', MinMaxScaler()),\n",
       "                ('perceptron',\n",
       "                 Perceptron(early_stopping=True, max_iter=100,\n",
       "                            n_iter_no_change=20, penalty='l1', random_state=42,\n",
       "                            tol=1e-06))])"
      ]
     },
     "execution_count": 20,
     "metadata": {},
     "output_type": "execute_result"
    }
   ],
   "source": [
    "print_best_model_result(search, 'Tuning MinMaxScaler Perceptron')"
   ]
  }
 ],
 "metadata": {
  "kernelspec": {
   "display_name": "Python 3.8.10 64-bit",
   "language": "python",
   "name": "python3"
  },
  "language_info": {
   "codemirror_mode": {
    "name": "ipython",
    "version": 3
   },
   "file_extension": ".py",
   "mimetype": "text/x-python",
   "name": "python",
   "nbconvert_exporter": "python",
   "pygments_lexer": "ipython3",
   "version": "3.8.10"
  },
  "papermill": {
   "default_parameters": {},
   "duration": 350.63595,
   "end_time": "2022-07-20T06:11:23.110268",
   "environment_variables": {},
   "exception": null,
   "input_path": "__notebook__.ipynb",
   "output_path": "__notebook__.ipynb",
   "parameters": {},
   "start_time": "2022-07-20T06:05:32.474318",
   "version": "2.3.4"
  },
  "vscode": {
   "interpreter": {
    "hash": "8384712f827c73b71ec1d871aaffaaf3604c18a78a335b5adcc2028fc4cb4b02"
   }
  }
 },
 "nbformat": 4,
 "nbformat_minor": 5
}
