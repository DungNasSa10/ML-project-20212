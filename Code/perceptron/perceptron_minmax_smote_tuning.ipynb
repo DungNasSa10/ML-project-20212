{
 "cells": [
  {
   "cell_type": "code",
   "execution_count": 1,
   "id": "7385c70b",
   "metadata": {
    "execution": {
     "iopub.execute_input": "2022-07-20T06:06:16.034425Z",
     "iopub.status.busy": "2022-07-20T06:06:16.033621Z",
     "iopub.status.idle": "2022-07-20T06:06:18.821265Z",
     "shell.execute_reply": "2022-07-20T06:06:18.819802Z"
    },
    "papermill": {
     "duration": 2.799851,
     "end_time": "2022-07-20T06:06:18.824340",
     "exception": false,
     "start_time": "2022-07-20T06:06:16.024489",
     "status": "completed"
    },
    "tags": []
   },
   "outputs": [
    {
     "data": {
      "text/html": [
       "<style type='text/css'>\n",
       ".datatable table.frame { margin-bottom: 0; }\n",
       ".datatable table.frame thead { border-bottom: none; }\n",
       ".datatable table.frame tr.coltypes td {  color: #FFFFFF;  line-height: 6px;  padding: 0 0.5em;}\n",
       ".datatable .bool    { background: #DDDD99; }\n",
       ".datatable .object  { background: #565656; }\n",
       ".datatable .int     { background: #5D9E5D; }\n",
       ".datatable .float   { background: #4040CC; }\n",
       ".datatable .str     { background: #CC4040; }\n",
       ".datatable .time    { background: #40CC40; }\n",
       ".datatable .row_index {  background: var(--jp-border-color3);  border-right: 1px solid var(--jp-border-color0);  color: var(--jp-ui-font-color3);  font-size: 9px;}\n",
       ".datatable .frame tbody td { text-align: left; }\n",
       ".datatable .frame tr.coltypes .row_index {  background: var(--jp-border-color0);}\n",
       ".datatable th:nth-child(2) { padding-left: 12px; }\n",
       ".datatable .hellipsis {  color: var(--jp-cell-editor-border-color);}\n",
       ".datatable .vellipsis {  background: var(--jp-layout-color0);  color: var(--jp-cell-editor-border-color);}\n",
       ".datatable .na {  color: var(--jp-cell-editor-border-color);  font-size: 80%;}\n",
       ".datatable .sp {  opacity: 0.25;}\n",
       ".datatable .footer { font-size: 9px; }\n",
       ".datatable .frame_dimensions {  background: var(--jp-border-color3);  border-top: 1px solid var(--jp-border-color0);  color: var(--jp-ui-font-color3);  display: inline-block;  opacity: 0.6;  padding: 1px 10px 1px 5px;}\n",
       "</style>\n"
      ],
      "text/plain": [
       "<IPython.core.display.HTML object>"
      ]
     },
     "metadata": {},
     "output_type": "display_data"
    }
   ],
   "source": [
    "import pandas as pd\n",
    "import numpy as np\n",
    "import matplotlib.pyplot as plt\n",
    "import seaborn as sns\n",
    "from imblearn.pipeline import Pipeline\n",
    "\n",
    "from sklearn.preprocessing import MinMaxScaler\n",
    "\n",
    "from imblearn.over_sampling import SMOTE, BorderlineSMOTE, SVMSMOTE, ADASYN\n",
    "\n",
    "from sklearn.linear_model import LogisticRegression, Perceptron\n",
    "from sklearn.neighbors import KNeighborsClassifier\n",
    "from sklearn.svm import SVC\n",
    "from sklearn.tree import DecisionTreeClassifier\n",
    "from sklearn.ensemble import RandomForestClassifier\n",
    "from sklearn.neural_network import MLPClassifier\n",
    "from lightgbm import LGBMClassifier\n",
    "from xgboost import XGBClassifier\n",
    "\n",
    "from sklearn.experimental import enable_halving_search_cv\n",
    "from sklearn.model_selection import GridSearchCV, HalvingGridSearchCV, train_test_split, RepeatedStratifiedKFold, cross_val_score, learning_curve\n",
    "from sklearn.metrics import classification_report, fbeta_score, confusion_matrix, precision_recall_curve, auc, make_scorer"
   ]
  },
  {
   "cell_type": "code",
   "execution_count": 2,
   "id": "a3086235",
   "metadata": {
    "execution": {
     "iopub.execute_input": "2022-07-20T06:06:18.840378Z",
     "iopub.status.busy": "2022-07-20T06:06:18.839230Z",
     "iopub.status.idle": "2022-07-20T06:06:31.234626Z",
     "shell.execute_reply": "2022-07-20T06:06:31.233402Z"
    },
    "papermill": {
     "duration": 12.4069,
     "end_time": "2022-07-20T06:06:31.238221",
     "exception": false,
     "start_time": "2022-07-20T06:06:18.831321",
     "status": "completed"
    },
    "tags": []
   },
   "outputs": [],
   "source": [
    "accepted_loans = pd.read_csv('../input/ml-project-elite/elite.csv')"
   ]
  },
  {
   "cell_type": "code",
   "execution_count": 3,
   "id": "e712e066",
   "metadata": {
    "execution": {
     "iopub.execute_input": "2022-07-20T06:06:31.253685Z",
     "iopub.status.busy": "2022-07-20T06:06:31.252777Z",
     "iopub.status.idle": "2022-07-20T06:06:31.783496Z",
     "shell.execute_reply": "2022-07-20T06:06:31.781932Z"
    },
    "papermill": {
     "duration": 0.541768,
     "end_time": "2022-07-20T06:06:31.786617",
     "exception": false,
     "start_time": "2022-07-20T06:06:31.244849",
     "status": "completed"
    },
    "tags": []
   },
   "outputs": [],
   "source": [
    "X = accepted_loans.loc[:, accepted_loans.columns != 'loan_paid'].values\n",
    "y = accepted_loans['loan_paid'].values"
   ]
  },
  {
   "cell_type": "code",
   "execution_count": 4,
   "id": "21bcf71c",
   "metadata": {
    "execution": {
     "iopub.execute_input": "2022-07-20T06:06:31.802179Z",
     "iopub.status.busy": "2022-07-20T06:06:31.801178Z",
     "iopub.status.idle": "2022-07-20T06:06:33.758366Z",
     "shell.execute_reply": "2022-07-20T06:06:33.757437Z"
    },
    "papermill": {
     "duration": 1.967625,
     "end_time": "2022-07-20T06:06:33.760952",
     "exception": false,
     "start_time": "2022-07-20T06:06:31.793327",
     "status": "completed"
    },
    "tags": []
   },
   "outputs": [],
   "source": [
    "X_train, X_test, y_train, y_test = train_test_split(X, y, test_size=0.2, random_state=42, stratify=y)"
   ]
  },
  {
   "cell_type": "code",
   "execution_count": 5,
   "id": "db4b628d",
   "metadata": {
    "execution": {
     "iopub.execute_input": "2022-07-20T06:06:33.776911Z",
     "iopub.status.busy": "2022-07-20T06:06:33.775014Z",
     "iopub.status.idle": "2022-07-20T06:06:33.781057Z",
     "shell.execute_reply": "2022-07-20T06:06:33.780225Z"
    },
    "papermill": {
     "duration": 0.016068,
     "end_time": "2022-07-20T06:06:33.783315",
     "exception": false,
     "start_time": "2022-07-20T06:06:33.767247",
     "status": "completed"
    },
    "tags": []
   },
   "outputs": [],
   "source": [
    "cv = RepeatedStratifiedKFold(n_splits=5, n_repeats=1, random_state=42)"
   ]
  },
  {
   "cell_type": "code",
   "execution_count": 6,
   "id": "7f2f7bde",
   "metadata": {
    "execution": {
     "iopub.execute_input": "2022-07-20T06:06:33.797864Z",
     "iopub.status.busy": "2022-07-20T06:06:33.797202Z",
     "iopub.status.idle": "2022-07-20T06:06:33.802225Z",
     "shell.execute_reply": "2022-07-20T06:06:33.801375Z"
    },
    "papermill": {
     "duration": 0.014864,
     "end_time": "2022-07-20T06:06:33.804424",
     "exception": false,
     "start_time": "2022-07-20T06:06:33.789560",
     "status": "completed"
    },
    "tags": []
   },
   "outputs": [],
   "source": [
    "minmax_scaler = ('minmax', MinMaxScaler())"
   ]
  },
  {
   "cell_type": "code",
   "execution_count": 7,
   "id": "d6d878d3",
   "metadata": {
    "execution": {
     "iopub.execute_input": "2022-07-20T06:06:33.819623Z",
     "iopub.status.busy": "2022-07-20T06:06:33.818987Z",
     "iopub.status.idle": "2022-07-20T06:06:33.824565Z",
     "shell.execute_reply": "2022-07-20T06:06:33.823720Z"
    },
    "papermill": {
     "duration": 0.015885,
     "end_time": "2022-07-20T06:06:33.826758",
     "exception": false,
     "start_time": "2022-07-20T06:06:33.810873",
     "status": "completed"
    },
    "tags": []
   },
   "outputs": [],
   "source": [
    "smote = ('smote', SMOTE(sampling_strategy=1.0, random_state=42))\n",
    "smote_param_grid = {\n",
    "    'smote__sampling_strategy': [0.8, 0.9, 1.0]\n",
    "    #'smote__k_neighbors': [3, 5, 10, 15]\n",
    "}"
   ]
  },
  {
   "cell_type": "code",
   "execution_count": 8,
   "id": "063324a0",
   "metadata": {
    "execution": {
     "iopub.execute_input": "2022-07-20T06:06:33.841691Z",
     "iopub.status.busy": "2022-07-20T06:06:33.841083Z",
     "iopub.status.idle": "2022-07-20T06:06:33.846715Z",
     "shell.execute_reply": "2022-07-20T06:06:33.845973Z"
    },
    "papermill": {
     "duration": 0.015792,
     "end_time": "2022-07-20T06:06:33.848853",
     "exception": false,
     "start_time": "2022-07-20T06:06:33.833061",
     "status": "completed"
    },
    "tags": []
   },
   "outputs": [],
   "source": [
    "perceptron = ('perceptron', Perceptron(random_state=42, n_iter_no_change=20, max_iter=100, tol=1e-6, early_stopping=True))\n",
    "perceptron_param_grid = {\n",
    "    'perceptron__penalty' : ['l2', 'l1', 'elasticnet'],\n",
    "}"
   ]
  },
  {
   "cell_type": "code",
   "execution_count": 9,
   "id": "d1b08ccc",
   "metadata": {
    "execution": {
     "iopub.execute_input": "2022-07-20T06:06:33.863196Z",
     "iopub.status.busy": "2022-07-20T06:06:33.862608Z",
     "iopub.status.idle": "2022-07-20T06:06:33.867189Z",
     "shell.execute_reply": "2022-07-20T06:06:33.866461Z"
    },
    "papermill": {
     "duration": 0.014258,
     "end_time": "2022-07-20T06:06:33.869253",
     "exception": false,
     "start_time": "2022-07-20T06:06:33.854995",
     "status": "completed"
    },
    "tags": []
   },
   "outputs": [],
   "source": [
    "# Metric\n",
    "f_onehalf_scorer = make_scorer(fbeta_score, beta=0.5)"
   ]
  },
  {
   "cell_type": "code",
   "execution_count": 10,
   "id": "f1265504",
   "metadata": {
    "execution": {
     "iopub.execute_input": "2022-07-20T06:06:33.883830Z",
     "iopub.status.busy": "2022-07-20T06:06:33.883448Z",
     "iopub.status.idle": "2022-07-20T06:06:33.902853Z",
     "shell.execute_reply": "2022-07-20T06:06:33.901786Z"
    },
    "papermill": {
     "duration": 0.02967,
     "end_time": "2022-07-20T06:06:33.905112",
     "exception": false,
     "start_time": "2022-07-20T06:06:33.875442",
     "status": "completed"
    },
    "tags": []
   },
   "outputs": [],
   "source": [
    "def plot_learning_curve(\n",
    "    estimator,\n",
    "    title,\n",
    "    X,\n",
    "    y,\n",
    "    axes=None,\n",
    "    ylim=None,\n",
    "    cv=cv,\n",
    "    n_jobs=-1,\n",
    "    train_sizes=np.linspace(0.1, 1.0, 5),\n",
    "):\n",
    "    if axes is None:\n",
    "        _, axes = plt.subplots(3, 1, figsize=(15, 15))\n",
    "\n",
    "    axes[0].set_title(title)\n",
    "    if ylim is not None:\n",
    "        axes[0].set_ylim(*ylim)\n",
    "    axes[0].set_xlabel(\"Training examples\")\n",
    "    axes[0].set_ylabel(\"Score\")\n",
    "\n",
    "    train_sizes, train_scores, test_scores, fit_times, _ = learning_curve(\n",
    "        estimator,\n",
    "        X,\n",
    "        y,\n",
    "        cv=cv,\n",
    "        n_jobs=n_jobs,\n",
    "        train_sizes=train_sizes,\n",
    "        scoring=f_onehalf_scorer,\n",
    "        return_times=True,\n",
    "        random_state=42\n",
    "    )\n",
    "    train_scores_mean = np.mean(train_scores, axis=1)\n",
    "    train_scores_std = np.std(train_scores, axis=1)\n",
    "    test_scores_mean = np.mean(test_scores, axis=1)\n",
    "    test_scores_std = np.std(test_scores, axis=1)\n",
    "    fit_times_mean = np.mean(fit_times, axis=1)\n",
    "    fit_times_std = np.std(fit_times, axis=1)\n",
    "\n",
    "    # Plot learning curve\n",
    "    axes[0].grid()\n",
    "    axes[0].fill_between(\n",
    "        train_sizes,\n",
    "        train_scores_mean - train_scores_std,\n",
    "        train_scores_mean + train_scores_std,\n",
    "        alpha=0.1,\n",
    "        color=\"r\",\n",
    "    )\n",
    "    axes[0].fill_between(\n",
    "        train_sizes,\n",
    "        test_scores_mean - test_scores_std,\n",
    "        test_scores_mean + test_scores_std,\n",
    "        alpha=0.1,\n",
    "        color=\"g\",\n",
    "    )\n",
    "    axes[0].plot(\n",
    "        train_sizes, train_scores_mean, \"o-\", color=\"r\", label=\"Training score\"\n",
    "    )\n",
    "    axes[0].plot(\n",
    "        train_sizes, test_scores_mean, \"o-\", color=\"g\", label=\"Cross-validation score\"\n",
    "    )\n",
    "    axes[0].legend(loc=\"best\")\n",
    "\n",
    "    # Plot n_samples vs fit_times\n",
    "    axes[1].grid()\n",
    "    axes[1].plot(train_sizes, fit_times_mean, \"o-\")\n",
    "    axes[1].fill_between(\n",
    "        train_sizes,\n",
    "        fit_times_mean - fit_times_std,\n",
    "        fit_times_mean + fit_times_std,\n",
    "        alpha=0.1,\n",
    "    )\n",
    "    axes[1].set_xlabel(\"Training examples\")\n",
    "    axes[1].set_ylabel(\"fit_times\")\n",
    "    axes[1].set_title(\"Scalability of the model\")\n",
    "\n",
    "    # Plot fit_time vs score\n",
    "    fit_time_argsort = fit_times_mean.argsort()\n",
    "    fit_time_sorted = fit_times_mean[fit_time_argsort]\n",
    "    test_scores_mean_sorted = test_scores_mean[fit_time_argsort]\n",
    "    test_scores_std_sorted = test_scores_std[fit_time_argsort]\n",
    "    axes[2].grid()\n",
    "    axes[2].plot(fit_time_sorted, test_scores_mean_sorted, \"o-\")\n",
    "    axes[2].fill_between(\n",
    "        fit_time_sorted,\n",
    "        test_scores_mean_sorted - test_scores_std_sorted,\n",
    "        test_scores_mean_sorted + test_scores_std_sorted,\n",
    "        alpha=0.1,\n",
    "    )\n",
    "    axes[2].set_xlabel(\"fit_times\") \n",
    "    axes[2].set_ylabel(\"Score\")\n",
    "    axes[2].set_title(\"Performance of the model\")\n",
    "\n",
    "    return plt"
   ]
  },
  {
   "cell_type": "code",
   "execution_count": 11,
   "id": "847b51cb",
   "metadata": {
    "execution": {
     "iopub.execute_input": "2022-07-20T06:06:33.919791Z",
     "iopub.status.busy": "2022-07-20T06:06:33.919364Z",
     "iopub.status.idle": "2022-07-20T06:06:33.935317Z",
     "shell.execute_reply": "2022-07-20T06:06:33.934410Z"
    },
    "papermill": {
     "duration": 0.026249,
     "end_time": "2022-07-20T06:06:33.937564",
     "exception": false,
     "start_time": "2022-07-20T06:06:33.911315",
     "status": "completed"
    },
    "tags": []
   },
   "outputs": [],
   "source": [
    "def pooled_var(stds):\n",
    "    n = 30 # size of each group\n",
    "    return np.sqrt(sum((n-1)*(stds**2))/ len(stds)*(n-1))\n",
    "\n",
    "def plot_search_results(search):\n",
    "  df = pd.DataFrame(search.cv_results_)\n",
    "  results = ['mean_test_score',\n",
    "            'mean_train_score',\n",
    "            'std_test_score', \n",
    "            'std_train_score']\n",
    "\n",
    "  fig, axes = plt.subplots(1, len(param_grid), \n",
    "                          figsize = (7*len(param_grid), 5),\n",
    "                          sharey='row')\n",
    "  if len(param_grid) == 1:\n",
    "        axes = [axes]\n",
    "        \n",
    "  axes[0].set_ylabel(\"Score\", fontsize=25)\n",
    "\n",
    "\n",
    "  for idx, (param_name, param_range) in enumerate(param_grid.items()):\n",
    "      grouped_df = df.groupby(f'param_{param_name}')[results]\\\n",
    "          .agg({'mean_train_score': 'mean',\n",
    "                'mean_test_score': 'mean',\n",
    "                'std_train_score': 'mean',\n",
    "                'std_test_score': 'mean'})\n",
    "\n",
    "      previous_group = df.groupby(f'param_{param_name}')[results]\n",
    "      axes[idx].set_xlabel(param_name, fontsize=30)\n",
    "      axes[idx].set_ylim(0.0, 1.1)\n",
    "      lw = 2\n",
    "      axes[idx].plot(param_range, grouped_df['mean_train_score'], label=\"Training score\",\n",
    "                  color=\"darkorange\", lw=lw)\n",
    "      axes[idx].fill_between(param_range,grouped_df['mean_train_score'] - grouped_df['std_train_score'],\n",
    "                      grouped_df['mean_train_score'] + grouped_df['std_train_score'], alpha=0.2,\n",
    "                      color=\"darkorange\", lw=lw)\n",
    "      axes[idx].plot(param_range, grouped_df['mean_test_score'], label=\"Cross-validation score\",\n",
    "                  color=\"navy\", lw=lw)\n",
    "      axes[idx].fill_between(param_range, grouped_df['mean_test_score'] - grouped_df['std_test_score'],\n",
    "                      grouped_df['mean_test_score'] + grouped_df['std_test_score'], alpha=0.2,\n",
    "                      color=\"navy\", lw=lw)\n",
    "\n",
    "  handles, labels = axes[0].get_legend_handles_labels()\n",
    "  fig.suptitle('Validation curves', fontsize=40)\n",
    "  fig.legend(handles, labels, loc=8, ncol=2, fontsize=20)\n",
    "\n",
    "  fig.subplots_adjust(bottom=0.25, top=0.85)  \n",
    "  plt.show()"
   ]
  },
  {
   "cell_type": "code",
   "execution_count": 12,
   "id": "fee54750",
   "metadata": {
    "execution": {
     "iopub.execute_input": "2022-07-20T06:06:33.952429Z",
     "iopub.status.busy": "2022-07-20T06:06:33.951756Z",
     "iopub.status.idle": "2022-07-20T06:06:33.957318Z",
     "shell.execute_reply": "2022-07-20T06:06:33.956491Z"
    },
    "papermill": {
     "duration": 0.015731,
     "end_time": "2022-07-20T06:06:33.959679",
     "exception": false,
     "start_time": "2022-07-20T06:06:33.943948",
     "status": "completed"
    },
    "tags": []
   },
   "outputs": [],
   "source": [
    "def print_result_df(search):\n",
    "  keeping_columns = ['params', 'mean_train_score', 'std_train_score', 'mean_test_score', 'std_test_score', 'mean_fit_time', 'std_fit_time']\n",
    "  df = pd.DataFrame(search.cv_results_)\n",
    "  df = df[keeping_columns].sort_values(by='mean_test_score', ascending=False)\n",
    "  return df.iloc[:10, :]"
   ]
  },
  {
   "cell_type": "code",
   "execution_count": 13,
   "id": "637c5c53",
   "metadata": {
    "execution": {
     "iopub.execute_input": "2022-07-20T06:06:33.974259Z",
     "iopub.status.busy": "2022-07-20T06:06:33.973608Z",
     "iopub.status.idle": "2022-07-20T06:06:33.984917Z",
     "shell.execute_reply": "2022-07-20T06:06:33.983764Z"
    },
    "papermill": {
     "duration": 0.021446,
     "end_time": "2022-07-20T06:06:33.987445",
     "exception": false,
     "start_time": "2022-07-20T06:06:33.965999",
     "status": "completed"
    },
    "tags": []
   },
   "outputs": [],
   "source": [
    "def print_best_model_result(search, name):\n",
    "  print(\"Best parameter (CV score=):\" % search.best_score_)\n",
    "  best_model = search.best_estimator_\n",
    "  print(best_model)\n",
    "\n",
    "  y_pred = best_model.predict(X_test)\n",
    "\n",
    "  print(classification_report(y_test, y_pred))\n",
    "  print(confusion_matrix(y_test, y_pred))\n",
    "  \n",
    "  f_onehalf_score = fbeta_score(y_test, y_pred, beta=0.5)\n",
    "  print('f0.5_score=', f_onehalf_score)\n",
    "\n",
    "  try :\n",
    "    y_score = best_model.predict_proba(X_test)[:, 1]\n",
    "    # calculate precision and recall for each threshold\n",
    "    precision, recall, threshold = precision_recall_curve(y_test, y_score)\n",
    "    # calculate scores\n",
    "    pr_auc = auc(recall, precision)\n",
    "    print('pr_auc_score=', pr_auc)\n",
    "\n",
    "    # calculate the no skill line as the proportion of the positive class\n",
    "    no_skill = len(y_test[y_test==1]) / len(y_test)\n",
    "    # plot the no skill precision-recall curve\n",
    "    plt.figure(figsize=(10, 7))\n",
    "    plt.plot([0, 1], [no_skill, no_skill], linestyle='--', label='No Skill')\n",
    "    # plot the model precision-recall curve\n",
    "    plt.plot(recall, precision, marker='.', label=name)\n",
    "    plt.title(f'{name}(pr_auc={pr_auc})')\n",
    "    plt.xlabel('Recall')\n",
    "    plt.ylabel('Precision')\n",
    "    # show the legend\n",
    "    plt.legend()\n",
    "    # show the plot\n",
    "    plt.show()\n",
    "  except:\n",
    "    pass\n",
    "\n",
    "  plot_learning_curve(best_model, name, X_train, y_train, cv=cv, n_jobs=-1 )\n",
    "  plt.show()\n",
    "\n",
    "  return best_model"
   ]
  },
  {
   "cell_type": "code",
   "execution_count": 14,
   "id": "695f5c31",
   "metadata": {
    "execution": {
     "iopub.execute_input": "2022-07-20T06:06:34.001726Z",
     "iopub.status.busy": "2022-07-20T06:06:34.001297Z",
     "iopub.status.idle": "2022-07-20T06:06:34.007541Z",
     "shell.execute_reply": "2022-07-20T06:06:34.006340Z"
    },
    "papermill": {
     "duration": 0.017026,
     "end_time": "2022-07-20T06:06:34.010843",
     "exception": false,
     "start_time": "2022-07-20T06:06:33.993817",
     "status": "completed"
    },
    "tags": []
   },
   "outputs": [
    {
     "name": "stdout",
     "output_type": "stream",
     "text": [
      "Tuning MinMaxScaler Smote Perceptron\n"
     ]
    }
   ],
   "source": [
    "pipe = Pipeline(steps=[minmax_scaler,smote, perceptron])\n",
    "print(\"Tuning MinMaxScaler Smote Perceptron\")"
   ]
  },
  {
   "cell_type": "code",
   "execution_count": 15,
   "id": "49b119bf",
   "metadata": {
    "execution": {
     "iopub.execute_input": "2022-07-20T06:06:34.025713Z",
     "iopub.status.busy": "2022-07-20T06:06:34.025071Z",
     "iopub.status.idle": "2022-07-20T06:06:34.030845Z",
     "shell.execute_reply": "2022-07-20T06:06:34.029224Z"
    },
    "papermill": {
     "duration": 0.015684,
     "end_time": "2022-07-20T06:06:34.033243",
     "exception": false,
     "start_time": "2022-07-20T06:06:34.017559",
     "status": "completed"
    },
    "tags": []
   },
   "outputs": [],
   "source": [
    "param_grid = {**smote_param_grid, **perceptron_param_grid}"
   ]
  },
  {
   "cell_type": "code",
   "execution_count": 16,
   "id": "944c7e8e",
   "metadata": {
    "execution": {
     "iopub.execute_input": "2022-07-20T06:06:34.048378Z",
     "iopub.status.busy": "2022-07-20T06:06:34.047646Z",
     "iopub.status.idle": "2022-07-20T06:06:34.052307Z",
     "shell.execute_reply": "2022-07-20T06:06:34.051530Z"
    },
    "papermill": {
     "duration": 0.014827,
     "end_time": "2022-07-20T06:06:34.054597",
     "exception": false,
     "start_time": "2022-07-20T06:06:34.039770",
     "status": "completed"
    },
    "tags": []
   },
   "outputs": [],
   "source": [
    "search = HalvingGridSearchCV(pipe, param_grid, scoring=f_onehalf_scorer, cv=cv, verbose=3, return_train_score=True)"
   ]
  },
  {
   "cell_type": "code",
   "execution_count": 17,
   "id": "b6101c62",
   "metadata": {
    "execution": {
     "iopub.execute_input": "2022-07-20T06:06:34.070854Z",
     "iopub.status.busy": "2022-07-20T06:06:34.070422Z",
     "iopub.status.idle": "2022-07-20T07:53:05.216926Z",
     "shell.execute_reply": "2022-07-20T07:53:05.214313Z"
    },
    "papermill": {
     "duration": 6391.171542,
     "end_time": "2022-07-20T07:53:05.232635",
     "exception": false,
     "start_time": "2022-07-20T06:06:34.061093",
     "status": "completed"
    },
    "tags": []
   },
   "outputs": [
    {
     "name": "stdout",
     "output_type": "stream",
     "text": [
      "n_iterations: 3\n",
      "n_required_iterations: 3\n",
      "n_possible_iterations: 3\n",
      "min_resources_: 119411\n",
      "max_resources_: 1074704\n",
      "aggressive_elimination: False\n",
      "factor: 3\n",
      "----------\n",
      "iter: 0\n",
      "n_candidates: 9\n",
      "n_resources: 119411\n",
      "Fitting 5 folds for each of 9 candidates, totalling 45 fits\n",
      "[CV 1/5] END perceptron__penalty=l2, smote__sampling_strategy=0.8;, score=(train=0.866, test=0.869) total time=  13.3s\n",
      "[CV 2/5] END perceptron__penalty=l2, smote__sampling_strategy=0.8;, score=(train=0.908, test=0.905) total time=  11.0s\n",
      "[CV 3/5] END perceptron__penalty=l2, smote__sampling_strategy=0.8;, score=(train=0.890, test=0.885) total time=  11.2s\n",
      "[CV 4/5] END perceptron__penalty=l2, smote__sampling_strategy=0.8;, score=(train=0.891, test=0.889) total time=  11.6s\n",
      "[CV 5/5] END perceptron__penalty=l2, smote__sampling_strategy=0.8;, score=(train=0.881, test=0.880) total time=  10.7s\n",
      "[CV 1/5] END perceptron__penalty=l2, smote__sampling_strategy=0.9;, score=(train=0.800, test=0.799) total time=  12.8s\n",
      "[CV 2/5] END perceptron__penalty=l2, smote__sampling_strategy=0.9;, score=(train=0.881, test=0.878) total time=  11.0s\n",
      "[CV 3/5] END perceptron__penalty=l2, smote__sampling_strategy=0.9;, score=(train=0.880, test=0.884) total time=  11.3s\n",
      "[CV 4/5] END perceptron__penalty=l2, smote__sampling_strategy=0.9;, score=(train=0.884, test=0.883) total time=  11.3s\n",
      "[CV 5/5] END perceptron__penalty=l2, smote__sampling_strategy=0.9;, score=(train=0.893, test=0.890) total time=  10.9s\n",
      "[CV 1/5] END perceptron__penalty=l2, smote__sampling_strategy=1.0;, score=(train=0.883, test=0.886) total time=  12.2s\n",
      "[CV 2/5] END perceptron__penalty=l2, smote__sampling_strategy=1.0;, score=(train=0.891, test=0.891) total time=  11.1s\n",
      "[CV 3/5] END perceptron__penalty=l2, smote__sampling_strategy=1.0;, score=(train=0.847, test=0.846) total time=  11.4s\n",
      "[CV 4/5] END perceptron__penalty=l2, smote__sampling_strategy=1.0;, score=(train=0.897, test=0.894) total time=  11.9s\n",
      "[CV 5/5] END perceptron__penalty=l2, smote__sampling_strategy=1.0;, score=(train=0.901, test=0.900) total time=  10.8s\n",
      "[CV 1/5] END perceptron__penalty=l1, smote__sampling_strategy=0.8;, score=(train=0.920, test=0.925) total time=  13.2s\n",
      "[CV 2/5] END perceptron__penalty=l1, smote__sampling_strategy=0.8;, score=(train=0.916, test=0.915) total time=  13.1s\n",
      "[CV 3/5] END perceptron__penalty=l1, smote__sampling_strategy=0.8;, score=(train=0.922, test=0.922) total time=  11.7s\n",
      "[CV 4/5] END perceptron__penalty=l1, smote__sampling_strategy=0.8;, score=(train=0.906, test=0.906) total time=  12.6s\n",
      "[CV 5/5] END perceptron__penalty=l1, smote__sampling_strategy=0.8;, score=(train=0.910, test=0.910) total time=  11.6s\n",
      "[CV 1/5] END perceptron__penalty=l1, smote__sampling_strategy=0.9;, score=(train=0.852, test=0.854) total time=  13.2s\n",
      "[CV 2/5] END perceptron__penalty=l1, smote__sampling_strategy=0.9;, score=(train=0.834, test=0.834) total time=  12.2s\n",
      "[CV 3/5] END perceptron__penalty=l1, smote__sampling_strategy=0.9;, score=(train=0.915, test=0.916) total time=  12.0s\n",
      "[CV 4/5] END perceptron__penalty=l1, smote__sampling_strategy=0.9;, score=(train=0.859, test=0.856) total time=  12.0s\n",
      "[CV 5/5] END perceptron__penalty=l1, smote__sampling_strategy=0.9;, score=(train=0.920, test=0.918) total time=  11.5s\n",
      "[CV 1/5] END perceptron__penalty=l1, smote__sampling_strategy=1.0;, score=(train=0.889, test=0.889) total time=  13.8s\n",
      "[CV 2/5] END perceptron__penalty=l1, smote__sampling_strategy=1.0;, score=(train=0.896, test=0.896) total time=  13.0s\n",
      "[CV 3/5] END perceptron__penalty=l1, smote__sampling_strategy=1.0;, score=(train=0.882, test=0.879) total time=  12.0s\n",
      "[CV 4/5] END perceptron__penalty=l1, smote__sampling_strategy=1.0;, score=(train=0.879, test=0.877) total time=  12.2s\n",
      "[CV 5/5] END perceptron__penalty=l1, smote__sampling_strategy=1.0;, score=(train=0.916, test=0.914) total time=  11.5s\n",
      "[CV 1/5] END perceptron__penalty=elasticnet, smote__sampling_strategy=0.8;, score=(train=0.895, test=0.896) total time=  12.5s\n",
      "[CV 2/5] END perceptron__penalty=elasticnet, smote__sampling_strategy=0.8;, score=(train=0.899, test=0.897) total time=  11.7s\n",
      "[CV 3/5] END perceptron__penalty=elasticnet, smote__sampling_strategy=0.8;, score=(train=0.915, test=0.916) total time=  12.0s\n",
      "[CV 4/5] END perceptron__penalty=elasticnet, smote__sampling_strategy=0.8;, score=(train=0.913, test=0.912) total time=  12.4s\n",
      "[CV 5/5] END perceptron__penalty=elasticnet, smote__sampling_strategy=0.8;, score=(train=0.895, test=0.896) total time=  11.5s\n",
      "[CV 1/5] END perceptron__penalty=elasticnet, smote__sampling_strategy=0.9;, score=(train=0.890, test=0.891) total time=  12.2s\n",
      "[CV 2/5] END perceptron__penalty=elasticnet, smote__sampling_strategy=0.9;, score=(train=0.892, test=0.891) total time=  11.8s\n",
      "[CV 3/5] END perceptron__penalty=elasticnet, smote__sampling_strategy=0.9;, score=(train=0.902, test=0.904) total time=  12.1s\n",
      "[CV 4/5] END perceptron__penalty=elasticnet, smote__sampling_strategy=0.9;, score=(train=0.863, test=0.859) total time=  12.3s\n",
      "[CV 5/5] END perceptron__penalty=elasticnet, smote__sampling_strategy=0.9;, score=(train=0.902, test=0.904) total time=  11.6s\n",
      "[CV 1/5] END perceptron__penalty=elasticnet, smote__sampling_strategy=1.0;, score=(train=0.904, test=0.907) total time=  12.5s\n",
      "[CV 2/5] END perceptron__penalty=elasticnet, smote__sampling_strategy=1.0;, score=(train=0.922, test=0.920) total time=  12.2s\n",
      "[CV 3/5] END perceptron__penalty=elasticnet, smote__sampling_strategy=1.0;, score=(train=0.840, test=0.837) total time=  12.3s\n",
      "[CV 4/5] END perceptron__penalty=elasticnet, smote__sampling_strategy=1.0;, score=(train=0.743, test=0.742) total time=  12.5s\n",
      "[CV 5/5] END perceptron__penalty=elasticnet, smote__sampling_strategy=1.0;, score=(train=0.915, test=0.913) total time=  12.0s\n",
      "----------\n",
      "iter: 1\n",
      "n_candidates: 3\n",
      "n_resources: 358233\n",
      "Fitting 5 folds for each of 3 candidates, totalling 15 fits\n",
      "[CV 1/5] END perceptron__penalty=l1, smote__sampling_strategy=1.0;, score=(train=0.880, test=0.880) total time= 1.4min\n",
      "[CV 2/5] END perceptron__penalty=l1, smote__sampling_strategy=1.0;, score=(train=0.918, test=0.918) total time= 1.3min\n",
      "[CV 3/5] END perceptron__penalty=l1, smote__sampling_strategy=1.0;, score=(train=0.884, test=0.883) total time= 1.3min\n",
      "[CV 4/5] END perceptron__penalty=l1, smote__sampling_strategy=1.0;, score=(train=0.923, test=0.923) total time= 1.4min\n",
      "[CV 5/5] END perceptron__penalty=l1, smote__sampling_strategy=1.0;, score=(train=0.917, test=0.918) total time= 1.4min\n",
      "[CV 1/5] END perceptron__penalty=elasticnet, smote__sampling_strategy=0.8;, score=(train=0.904, test=0.905) total time= 1.4min\n",
      "[CV 2/5] END perceptron__penalty=elasticnet, smote__sampling_strategy=0.8;, score=(train=0.871, test=0.871) total time= 1.3min\n",
      "[CV 3/5] END perceptron__penalty=elasticnet, smote__sampling_strategy=0.8;, score=(train=0.804, test=0.803) total time= 1.3min\n",
      "[CV 4/5] END perceptron__penalty=elasticnet, smote__sampling_strategy=0.8;, score=(train=0.896, test=0.897) total time= 1.4min\n",
      "[CV 5/5] END perceptron__penalty=elasticnet, smote__sampling_strategy=0.8;, score=(train=0.833, test=0.831) total time= 1.3min\n",
      "[CV 1/5] END perceptron__penalty=l1, smote__sampling_strategy=0.8;, score=(train=0.918, test=0.919) total time= 1.4min\n",
      "[CV 2/5] END perceptron__penalty=l1, smote__sampling_strategy=0.8;, score=(train=0.891, test=0.892) total time= 1.3min\n",
      "[CV 3/5] END perceptron__penalty=l1, smote__sampling_strategy=0.8;, score=(train=0.908, test=0.907) total time= 1.3min\n",
      "[CV 4/5] END perceptron__penalty=l1, smote__sampling_strategy=0.8;, score=(train=0.914, test=0.914) total time= 1.4min\n",
      "[CV 5/5] END perceptron__penalty=l1, smote__sampling_strategy=0.8;, score=(train=0.896, test=0.896) total time= 1.3min\n",
      "----------\n",
      "iter: 2\n",
      "n_candidates: 1\n",
      "n_resources: 1074699\n",
      "Fitting 5 folds for each of 1 candidates, totalling 5 fits\n",
      "[CV 1/5] END perceptron__penalty=l1, smote__sampling_strategy=0.8;, score=(train=0.901, test=0.901) total time=11.3min\n",
      "[CV 2/5] END perceptron__penalty=l1, smote__sampling_strategy=0.8;, score=(train=0.907, test=0.906) total time=11.7min\n",
      "[CV 3/5] END perceptron__penalty=l1, smote__sampling_strategy=0.8;, score=(train=0.900, test=0.901) total time=11.4min\n",
      "[CV 4/5] END perceptron__penalty=l1, smote__sampling_strategy=0.8;, score=(train=0.915, test=0.915) total time=11.7min\n",
      "[CV 5/5] END perceptron__penalty=l1, smote__sampling_strategy=0.8;, score=(train=0.889, test=0.888) total time=11.8min\n"
     ]
    },
    {
     "data": {
      "text/plain": [
       "HalvingGridSearchCV(cv=RepeatedStratifiedKFold(n_repeats=1, n_splits=5, random_state=42),\n",
       "                    estimator=Pipeline(steps=[('minmax', MinMaxScaler()),\n",
       "                                              ('smote',\n",
       "                                               SMOTE(random_state=42,\n",
       "                                                     sampling_strategy=1.0)),\n",
       "                                              ('perceptron',\n",
       "                                               Perceptron(early_stopping=True,\n",
       "                                                          max_iter=100,\n",
       "                                                          n_iter_no_change=20,\n",
       "                                                          random_state=42,\n",
       "                                                          tol=1e-06))]),\n",
       "                    param_grid={'perceptron__penalty': ['l2', 'l1',\n",
       "                                                        'elasticnet'],\n",
       "                                'smote__sampling_strategy': [0.8, 0.9, 1.0]},\n",
       "                    scoring=make_scorer(fbeta_score, beta=0.5), verbose=3)"
      ]
     },
     "execution_count": 17,
     "metadata": {},
     "output_type": "execute_result"
    }
   ],
   "source": [
    "search.fit(X_train, y_train)"
   ]
  },
  {
   "cell_type": "code",
   "execution_count": 18,
   "id": "8a74bea6",
   "metadata": {
    "execution": {
     "iopub.execute_input": "2022-07-20T07:53:05.259666Z",
     "iopub.status.busy": "2022-07-20T07:53:05.259187Z",
     "iopub.status.idle": "2022-07-20T07:53:05.323015Z",
     "shell.execute_reply": "2022-07-20T07:53:05.321828Z"
    },
    "papermill": {
     "duration": 0.081472,
     "end_time": "2022-07-20T07:53:05.325820",
     "exception": false,
     "start_time": "2022-07-20T07:53:05.244348",
     "status": "completed"
    },
    "tags": []
   },
   "outputs": [
    {
     "data": {
      "text/html": [
       "<div>\n",
       "<style scoped>\n",
       "    .dataframe tbody tr th:only-of-type {\n",
       "        vertical-align: middle;\n",
       "    }\n",
       "\n",
       "    .dataframe tbody tr th {\n",
       "        vertical-align: top;\n",
       "    }\n",
       "\n",
       "    .dataframe thead th {\n",
       "        text-align: right;\n",
       "    }\n",
       "</style>\n",
       "<table border=\"1\" class=\"dataframe\">\n",
       "  <thead>\n",
       "    <tr style=\"text-align: right;\">\n",
       "      <th></th>\n",
       "      <th>params</th>\n",
       "      <th>mean_train_score</th>\n",
       "      <th>std_train_score</th>\n",
       "      <th>mean_test_score</th>\n",
       "      <th>std_test_score</th>\n",
       "      <th>mean_fit_time</th>\n",
       "      <th>std_fit_time</th>\n",
       "    </tr>\n",
       "  </thead>\n",
       "  <tbody>\n",
       "    <tr>\n",
       "      <th>3</th>\n",
       "      <td>{'perceptron__penalty': 'l1', 'smote__sampling...</td>\n",
       "      <td>0.914760</td>\n",
       "      <td>0.005980</td>\n",
       "      <td>0.915667</td>\n",
       "      <td>0.006923</td>\n",
       "      <td>12.414894</td>\n",
       "      <td>0.674265</td>\n",
       "    </tr>\n",
       "    <tr>\n",
       "      <th>11</th>\n",
       "      <td>{'perceptron__penalty': 'l1', 'smote__sampling...</td>\n",
       "      <td>0.905316</td>\n",
       "      <td>0.010393</td>\n",
       "      <td>0.905619</td>\n",
       "      <td>0.010352</td>\n",
       "      <td>81.105928</td>\n",
       "      <td>3.012041</td>\n",
       "    </tr>\n",
       "    <tr>\n",
       "      <th>9</th>\n",
       "      <td>{'perceptron__penalty': 'l1', 'smote__sampling...</td>\n",
       "      <td>0.904630</td>\n",
       "      <td>0.018476</td>\n",
       "      <td>0.904464</td>\n",
       "      <td>0.018868</td>\n",
       "      <td>82.581060</td>\n",
       "      <td>2.646415</td>\n",
       "    </tr>\n",
       "    <tr>\n",
       "      <th>6</th>\n",
       "      <td>{'perceptron__penalty': 'elasticnet', 'smote__...</td>\n",
       "      <td>0.903126</td>\n",
       "      <td>0.008757</td>\n",
       "      <td>0.903339</td>\n",
       "      <td>0.008613</td>\n",
       "      <td>11.962886</td>\n",
       "      <td>0.377827</td>\n",
       "    </tr>\n",
       "    <tr>\n",
       "      <th>12</th>\n",
       "      <td>{'perceptron__penalty': 'l1', 'smote__sampling...</td>\n",
       "      <td>0.902416</td>\n",
       "      <td>0.008620</td>\n",
       "      <td>0.902345</td>\n",
       "      <td>0.008655</td>\n",
       "      <td>695.718480</td>\n",
       "      <td>10.961471</td>\n",
       "    </tr>\n",
       "    <tr>\n",
       "      <th>5</th>\n",
       "      <td>{'perceptron__penalty': 'l1', 'smote__sampling...</td>\n",
       "      <td>0.892514</td>\n",
       "      <td>0.013013</td>\n",
       "      <td>0.890968</td>\n",
       "      <td>0.013554</td>\n",
       "      <td>12.469768</td>\n",
       "      <td>0.812426</td>\n",
       "    </tr>\n",
       "    <tr>\n",
       "      <th>7</th>\n",
       "      <td>{'perceptron__penalty': 'elasticnet', 'smote__...</td>\n",
       "      <td>0.889698</td>\n",
       "      <td>0.014208</td>\n",
       "      <td>0.889830</td>\n",
       "      <td>0.016339</td>\n",
       "      <td>11.969727</td>\n",
       "      <td>0.243461</td>\n",
       "    </tr>\n",
       "    <tr>\n",
       "      <th>0</th>\n",
       "      <td>{'perceptron__penalty': 'l2', 'smote__sampling...</td>\n",
       "      <td>0.887168</td>\n",
       "      <td>0.013765</td>\n",
       "      <td>0.885526</td>\n",
       "      <td>0.011782</td>\n",
       "      <td>11.526039</td>\n",
       "      <td>0.926514</td>\n",
       "    </tr>\n",
       "    <tr>\n",
       "      <th>2</th>\n",
       "      <td>{'perceptron__penalty': 'l2', 'smote__sampling...</td>\n",
       "      <td>0.883626</td>\n",
       "      <td>0.019150</td>\n",
       "      <td>0.883437</td>\n",
       "      <td>0.019173</td>\n",
       "      <td>11.430875</td>\n",
       "      <td>0.524106</td>\n",
       "    </tr>\n",
       "    <tr>\n",
       "      <th>4</th>\n",
       "      <td>{'perceptron__penalty': 'l1', 'smote__sampling...</td>\n",
       "      <td>0.876119</td>\n",
       "      <td>0.034667</td>\n",
       "      <td>0.875592</td>\n",
       "      <td>0.034906</td>\n",
       "      <td>12.139719</td>\n",
       "      <td>0.570581</td>\n",
       "    </tr>\n",
       "  </tbody>\n",
       "</table>\n",
       "</div>"
      ],
      "text/plain": [
       "                                               params  mean_train_score  \\\n",
       "3   {'perceptron__penalty': 'l1', 'smote__sampling...          0.914760   \n",
       "11  {'perceptron__penalty': 'l1', 'smote__sampling...          0.905316   \n",
       "9   {'perceptron__penalty': 'l1', 'smote__sampling...          0.904630   \n",
       "6   {'perceptron__penalty': 'elasticnet', 'smote__...          0.903126   \n",
       "12  {'perceptron__penalty': 'l1', 'smote__sampling...          0.902416   \n",
       "5   {'perceptron__penalty': 'l1', 'smote__sampling...          0.892514   \n",
       "7   {'perceptron__penalty': 'elasticnet', 'smote__...          0.889698   \n",
       "0   {'perceptron__penalty': 'l2', 'smote__sampling...          0.887168   \n",
       "2   {'perceptron__penalty': 'l2', 'smote__sampling...          0.883626   \n",
       "4   {'perceptron__penalty': 'l1', 'smote__sampling...          0.876119   \n",
       "\n",
       "    std_train_score  mean_test_score  std_test_score  mean_fit_time  \\\n",
       "3          0.005980         0.915667        0.006923      12.414894   \n",
       "11         0.010393         0.905619        0.010352      81.105928   \n",
       "9          0.018476         0.904464        0.018868      82.581060   \n",
       "6          0.008757         0.903339        0.008613      11.962886   \n",
       "12         0.008620         0.902345        0.008655     695.718480   \n",
       "5          0.013013         0.890968        0.013554      12.469768   \n",
       "7          0.014208         0.889830        0.016339      11.969727   \n",
       "0          0.013765         0.885526        0.011782      11.526039   \n",
       "2          0.019150         0.883437        0.019173      11.430875   \n",
       "4          0.034667         0.875592        0.034906      12.139719   \n",
       "\n",
       "    std_fit_time  \n",
       "3       0.674265  \n",
       "11      3.012041  \n",
       "9       2.646415  \n",
       "6       0.377827  \n",
       "12     10.961471  \n",
       "5       0.812426  \n",
       "7       0.243461  \n",
       "0       0.926514  \n",
       "2       0.524106  \n",
       "4       0.570581  "
      ]
     },
     "execution_count": 18,
     "metadata": {},
     "output_type": "execute_result"
    }
   ],
   "source": [
    "print_result_df(search)"
   ]
  },
  {
   "cell_type": "code",
   "execution_count": 19,
   "id": "4cb784a4",
   "metadata": {
    "execution": {
     "iopub.execute_input": "2022-07-20T07:53:05.350814Z",
     "iopub.status.busy": "2022-07-20T07:53:05.350407Z",
     "iopub.status.idle": "2022-07-20T07:53:05.786925Z",
     "shell.execute_reply": "2022-07-20T07:53:05.785586Z"
    },
    "papermill": {
     "duration": 0.451598,
     "end_time": "2022-07-20T07:53:05.789393",
     "exception": false,
     "start_time": "2022-07-20T07:53:05.337795",
     "status": "completed"
    },
    "tags": []
   },
   "outputs": [
    {
     "data": {
      "image/png": "[encoded data removed]",
      "text/plain": [
       "<Figure size 1008x360 with 2 Axes>"
      ]
     },
     "metadata": {
      "needs_background": "light"
     },
     "output_type": "display_data"
    }
   ],
   "source": [
    "plot_search_results(search)"
   ]
  },
  {
   "cell_type": "code",
   "execution_count": 20,
   "id": "b6bee5dd",
   "metadata": {
    "execution": {
     "iopub.execute_input": "2022-07-20T07:53:05.817055Z",
     "iopub.status.busy": "2022-07-20T07:53:05.816269Z",
     "iopub.status.idle": "2022-07-20T07:53:40.397479Z",
     "shell.execute_reply": "2022-07-20T07:53:40.395202Z"
    },
    "papermill": {
     "duration": 34.600904,
     "end_time": "2022-07-20T07:53:40.403015",
     "exception": true,
     "start_time": "2022-07-20T07:53:05.802111",
     "status": "failed"
    },
    "tags": []
   },
   "outputs": [
    {
     "name": "stdout",
     "output_type": "stream",
     "text": [
      "Best parameter (CV score=):\n",
      "Pipeline(steps=[('minmax', MinMaxScaler()),\n",
      "                ('smote', SMOTE(random_state=42, sampling_strategy=0.8)),\n",
      "                ('perceptron',\n",
      "                 Perceptron(early_stopping=True, max_iter=100,\n",
      "                            n_iter_no_change=20, penalty='l1', random_state=42,\n",
      "                            tol=1e-06))])\n",
      "              precision    recall  f1-score   support\n",
      "\n",
      "           0       0.56      0.76      0.65     53638\n",
      "           1       0.93      0.85      0.89    215038\n",
      "\n",
      "    accuracy                           0.83    268676\n",
      "   macro avg       0.75      0.80      0.77    268676\n",
      "weighted avg       0.86      0.83      0.84    268676\n",
      "\n",
      "[[ 40526  13112]\n",
      " [ 31383 183655]]\n",
      "f0.5_score= 0.9163451770571176\n"
     ]
    },
    {
     "ename": "TerminatedWorkerError",
     "evalue": "A worker process managed by the executor was unexpectedly terminated. This could be caused by a segmentation fault while calling the function or by an excessive memory usage causing the Operating System to kill the worker.\n\nThe exit codes of the workers are {SIGKILL(-9)}",
     "output_type": "error",
     "traceback": [
      "\u001b[0;31m---------------------------------------------------------------------------\u001b[0m",
      "\u001b[0;31mTerminatedWorkerError\u001b[0m                     Traceback (most recent call last)",
      "\u001b[0;32m/tmp/ipykernel_19/880544463.py\u001b[0m in \u001b[0;36m<module>\u001b[0;34m\u001b[0m\n\u001b[0;32m----> 1\u001b[0;31m \u001b[0mprint_best_model_result\u001b[0m\u001b[0;34m(\u001b[0m\u001b[0msearch\u001b[0m\u001b[0;34m,\u001b[0m \u001b[0;34m'Tuning MinMaxScaler Smote Perceptron'\u001b[0m\u001b[0;34m)\u001b[0m\u001b[0;34m\u001b[0m\u001b[0;34m\u001b[0m\u001b[0m\n\u001b[0m",
      "\u001b[0;32m/tmp/ipykernel_19/4171691297.py\u001b[0m in \u001b[0;36mprint_best_model_result\u001b[0;34m(search, name)\u001b[0m\n\u001b[1;32m     37\u001b[0m     \u001b[0;32mpass\u001b[0m\u001b[0;34m\u001b[0m\u001b[0;34m\u001b[0m\u001b[0m\n\u001b[1;32m     38\u001b[0m \u001b[0;34m\u001b[0m\u001b[0m\n\u001b[0;32m---> 39\u001b[0;31m   \u001b[0mplot_learning_curve\u001b[0m\u001b[0;34m(\u001b[0m\u001b[0mbest_model\u001b[0m\u001b[0;34m,\u001b[0m \u001b[0mname\u001b[0m\u001b[0;34m,\u001b[0m \u001b[0mX_train\u001b[0m\u001b[0;34m,\u001b[0m \u001b[0my_train\u001b[0m\u001b[0;34m,\u001b[0m \u001b[0mcv\u001b[0m\u001b[0;34m=\u001b[0m\u001b[0mcv\u001b[0m\u001b[0;34m,\u001b[0m \u001b[0mn_jobs\u001b[0m\u001b[0;34m=\u001b[0m\u001b[0;34m-\u001b[0m\u001b[0;36m1\u001b[0m \u001b[0;34m)\u001b[0m\u001b[0;34m\u001b[0m\u001b[0;34m\u001b[0m\u001b[0m\n\u001b[0m\u001b[1;32m     40\u001b[0m   \u001b[0mplt\u001b[0m\u001b[0;34m.\u001b[0m\u001b[0mshow\u001b[0m\u001b[0;34m(\u001b[0m\u001b[0;34m)\u001b[0m\u001b[0;34m\u001b[0m\u001b[0;34m\u001b[0m\u001b[0m\n\u001b[1;32m     41\u001b[0m \u001b[0;34m\u001b[0m\u001b[0m\n",
      "\u001b[0;32m/tmp/ipykernel_19/2042492052.py\u001b[0m in \u001b[0;36mplot_learning_curve\u001b[0;34m(estimator, title, X, y, axes, ylim, cv, n_jobs, train_sizes)\u001b[0m\n\u001b[1;32m     28\u001b[0m         \u001b[0mscoring\u001b[0m\u001b[0;34m=\u001b[0m\u001b[0mf_onehalf_scorer\u001b[0m\u001b[0;34m,\u001b[0m\u001b[0;34m\u001b[0m\u001b[0;34m\u001b[0m\u001b[0m\n\u001b[1;32m     29\u001b[0m         \u001b[0mreturn_times\u001b[0m\u001b[0;34m=\u001b[0m\u001b[0;32mTrue\u001b[0m\u001b[0;34m,\u001b[0m\u001b[0;34m\u001b[0m\u001b[0;34m\u001b[0m\u001b[0m\n\u001b[0;32m---> 30\u001b[0;31m         \u001b[0mrandom_state\u001b[0m\u001b[0;34m=\u001b[0m\u001b[0;36m42\u001b[0m\u001b[0;34m\u001b[0m\u001b[0;34m\u001b[0m\u001b[0m\n\u001b[0m\u001b[1;32m     31\u001b[0m     )\n\u001b[1;32m     32\u001b[0m     \u001b[0mtrain_scores_mean\u001b[0m \u001b[0;34m=\u001b[0m \u001b[0mnp\u001b[0m\u001b[0;34m.\u001b[0m\u001b[0mmean\u001b[0m\u001b[0;34m(\u001b[0m\u001b[0mtrain_scores\u001b[0m\u001b[0;34m,\u001b[0m \u001b[0maxis\u001b[0m\u001b[0;34m=\u001b[0m\u001b[0;36m1\u001b[0m\u001b[0;34m)\u001b[0m\u001b[0;34m\u001b[0m\u001b[0;34m\u001b[0m\u001b[0m\n",
      "\u001b[0;32m/opt/conda/lib/python3.7/site-packages/sklearn/model_selection/_validation.py\u001b[0m in \u001b[0;36mlearning_curve\u001b[0;34m(estimator, X, y, groups, train_sizes, cv, scoring, exploit_incremental_learning, n_jobs, pre_dispatch, verbose, shuffle, random_state, error_score, return_times, fit_params)\u001b[0m\n\u001b[1;32m   1566\u001b[0m                 \u001b[0mreturn_times\u001b[0m\u001b[0;34m=\u001b[0m\u001b[0mreturn_times\u001b[0m\u001b[0;34m,\u001b[0m\u001b[0;34m\u001b[0m\u001b[0;34m\u001b[0m\u001b[0m\n\u001b[1;32m   1567\u001b[0m             )\n\u001b[0;32m-> 1568\u001b[0;31m             \u001b[0;32mfor\u001b[0m \u001b[0mtrain\u001b[0m\u001b[0;34m,\u001b[0m \u001b[0mtest\u001b[0m \u001b[0;32min\u001b[0m \u001b[0mtrain_test_proportions\u001b[0m\u001b[0;34m\u001b[0m\u001b[0;34m\u001b[0m\u001b[0m\n\u001b[0m\u001b[1;32m   1569\u001b[0m         )\n\u001b[1;32m   1570\u001b[0m         \u001b[0mresults\u001b[0m \u001b[0;34m=\u001b[0m \u001b[0m_aggregate_score_dicts\u001b[0m\u001b[0;34m(\u001b[0m\u001b[0mresults\u001b[0m\u001b[0;34m)\u001b[0m\u001b[0;34m\u001b[0m\u001b[0;34m\u001b[0m\u001b[0m\n",
      "\u001b[0;32m/opt/conda/lib/python3.7/site-packages/joblib/parallel.py\u001b[0m in \u001b[0;36m__call__\u001b[0;34m(self, iterable)\u001b[0m\n\u001b[1;32m   1054\u001b[0m \u001b[0;34m\u001b[0m\u001b[0m\n\u001b[1;32m   1055\u001b[0m             \u001b[0;32mwith\u001b[0m \u001b[0mself\u001b[0m\u001b[0;34m.\u001b[0m\u001b[0m_backend\u001b[0m\u001b[0;34m.\u001b[0m\u001b[0mretrieval_context\u001b[0m\u001b[0;34m(\u001b[0m\u001b[0;34m)\u001b[0m\u001b[0;34m:\u001b[0m\u001b[0;34m\u001b[0m\u001b[0;34m\u001b[0m\u001b[0m\n\u001b[0;32m-> 1056\u001b[0;31m                 \u001b[0mself\u001b[0m\u001b[0;34m.\u001b[0m\u001b[0mretrieve\u001b[0m\u001b[0;34m(\u001b[0m\u001b[0;34m)\u001b[0m\u001b[0;34m\u001b[0m\u001b[0;34m\u001b[0m\u001b[0m\n\u001b[0m\u001b[1;32m   1057\u001b[0m             \u001b[0;31m# Make sure that we get a last message telling us we are done\u001b[0m\u001b[0;34m\u001b[0m\u001b[0;34m\u001b[0m\u001b[0;34m\u001b[0m\u001b[0m\n\u001b[1;32m   1058\u001b[0m             \u001b[0melapsed_time\u001b[0m \u001b[0;34m=\u001b[0m \u001b[0mtime\u001b[0m\u001b[0;34m.\u001b[0m\u001b[0mtime\u001b[0m\u001b[0;34m(\u001b[0m\u001b[0;34m)\u001b[0m \u001b[0;34m-\u001b[0m \u001b[0mself\u001b[0m\u001b[0;34m.\u001b[0m\u001b[0m_start_time\u001b[0m\u001b[0;34m\u001b[0m\u001b[0;34m\u001b[0m\u001b[0m\n",
      "\u001b[0;32m/opt/conda/lib/python3.7/site-packages/joblib/parallel.py\u001b[0m in \u001b[0;36mretrieve\u001b[0;34m(self)\u001b[0m\n\u001b[1;32m    933\u001b[0m             \u001b[0;32mtry\u001b[0m\u001b[0;34m:\u001b[0m\u001b[0;34m\u001b[0m\u001b[0;34m\u001b[0m\u001b[0m\n\u001b[1;32m    934\u001b[0m                 \u001b[0;32mif\u001b[0m \u001b[0mgetattr\u001b[0m\u001b[0;34m(\u001b[0m\u001b[0mself\u001b[0m\u001b[0;34m.\u001b[0m\u001b[0m_backend\u001b[0m\u001b[0;34m,\u001b[0m \u001b[0;34m'supports_timeout'\u001b[0m\u001b[0;34m,\u001b[0m \u001b[0;32mFalse\u001b[0m\u001b[0;34m)\u001b[0m\u001b[0;34m:\u001b[0m\u001b[0;34m\u001b[0m\u001b[0;34m\u001b[0m\u001b[0m\n\u001b[0;32m--> 935\u001b[0;31m                     \u001b[0mself\u001b[0m\u001b[0;34m.\u001b[0m\u001b[0m_output\u001b[0m\u001b[0;34m.\u001b[0m\u001b[0mextend\u001b[0m\u001b[0;34m(\u001b[0m\u001b[0mjob\u001b[0m\u001b[0;34m.\u001b[0m\u001b[0mget\u001b[0m\u001b[0;34m(\u001b[0m\u001b[0mtimeout\u001b[0m\u001b[0;34m=\u001b[0m\u001b[0mself\u001b[0m\u001b[0;34m.\u001b[0m\u001b[0mtimeout\u001b[0m\u001b[0;34m)\u001b[0m\u001b[0;34m)\u001b[0m\u001b[0;34m\u001b[0m\u001b[0;34m\u001b[0m\u001b[0m\n\u001b[0m\u001b[1;32m    936\u001b[0m                 \u001b[0;32melse\u001b[0m\u001b[0;34m:\u001b[0m\u001b[0;34m\u001b[0m\u001b[0;34m\u001b[0m\u001b[0m\n\u001b[1;32m    937\u001b[0m                     \u001b[0mself\u001b[0m\u001b[0;34m.\u001b[0m\u001b[0m_output\u001b[0m\u001b[0;34m.\u001b[0m\u001b[0mextend\u001b[0m\u001b[0;34m(\u001b[0m\u001b[0mjob\u001b[0m\u001b[0;34m.\u001b[0m\u001b[0mget\u001b[0m\u001b[0;34m(\u001b[0m\u001b[0;34m)\u001b[0m\u001b[0;34m)\u001b[0m\u001b[0;34m\u001b[0m\u001b[0;34m\u001b[0m\u001b[0m\n",
      "\u001b[0;32m/opt/conda/lib/python3.7/site-packages/joblib/_parallel_backends.py\u001b[0m in \u001b[0;36mwrap_future_result\u001b[0;34m(future, timeout)\u001b[0m\n\u001b[1;32m    540\u001b[0m         AsyncResults.get from multiprocessing.\"\"\"\n\u001b[1;32m    541\u001b[0m         \u001b[0;32mtry\u001b[0m\u001b[0;34m:\u001b[0m\u001b[0;34m\u001b[0m\u001b[0;34m\u001b[0m\u001b[0m\n\u001b[0;32m--> 542\u001b[0;31m             \u001b[0;32mreturn\u001b[0m \u001b[0mfuture\u001b[0m\u001b[0;34m.\u001b[0m\u001b[0mresult\u001b[0m\u001b[0;34m(\u001b[0m\u001b[0mtimeout\u001b[0m\u001b[0;34m=\u001b[0m\u001b[0mtimeout\u001b[0m\u001b[0;34m)\u001b[0m\u001b[0;34m\u001b[0m\u001b[0;34m\u001b[0m\u001b[0m\n\u001b[0m\u001b[1;32m    543\u001b[0m         \u001b[0;32mexcept\u001b[0m \u001b[0mCfTimeoutError\u001b[0m \u001b[0;32mas\u001b[0m \u001b[0me\u001b[0m\u001b[0;34m:\u001b[0m\u001b[0;34m\u001b[0m\u001b[0;34m\u001b[0m\u001b[0m\n\u001b[1;32m    544\u001b[0m             \u001b[0;32mraise\u001b[0m \u001b[0mTimeoutError\u001b[0m \u001b[0;32mfrom\u001b[0m \u001b[0me\u001b[0m\u001b[0;34m\u001b[0m\u001b[0;34m\u001b[0m\u001b[0m\n",
      "\u001b[0;32m/opt/conda/lib/python3.7/concurrent/futures/_base.py\u001b[0m in \u001b[0;36mresult\u001b[0;34m(self, timeout)\u001b[0m\n\u001b[1;32m    433\u001b[0m                 \u001b[0;32mraise\u001b[0m \u001b[0mCancelledError\u001b[0m\u001b[0;34m(\u001b[0m\u001b[0;34m)\u001b[0m\u001b[0;34m\u001b[0m\u001b[0;34m\u001b[0m\u001b[0m\n\u001b[1;32m    434\u001b[0m             \u001b[0;32melif\u001b[0m \u001b[0mself\u001b[0m\u001b[0;34m.\u001b[0m\u001b[0m_state\u001b[0m \u001b[0;34m==\u001b[0m \u001b[0mFINISHED\u001b[0m\u001b[0;34m:\u001b[0m\u001b[0;34m\u001b[0m\u001b[0;34m\u001b[0m\u001b[0m\n\u001b[0;32m--> 435\u001b[0;31m                 \u001b[0;32mreturn\u001b[0m \u001b[0mself\u001b[0m\u001b[0;34m.\u001b[0m\u001b[0m__get_result\u001b[0m\u001b[0;34m(\u001b[0m\u001b[0;34m)\u001b[0m\u001b[0;34m\u001b[0m\u001b[0;34m\u001b[0m\u001b[0m\n\u001b[0m\u001b[1;32m    436\u001b[0m             \u001b[0;32melse\u001b[0m\u001b[0;34m:\u001b[0m\u001b[0;34m\u001b[0m\u001b[0;34m\u001b[0m\u001b[0m\n\u001b[1;32m    437\u001b[0m                 \u001b[0;32mraise\u001b[0m \u001b[0mTimeoutError\u001b[0m\u001b[0;34m(\u001b[0m\u001b[0;34m)\u001b[0m\u001b[0;34m\u001b[0m\u001b[0;34m\u001b[0m\u001b[0m\n",
      "\u001b[0;32m/opt/conda/lib/python3.7/concurrent/futures/_base.py\u001b[0m in \u001b[0;36m__get_result\u001b[0;34m(self)\u001b[0m\n\u001b[1;32m    382\u001b[0m     \u001b[0;32mdef\u001b[0m \u001b[0m__get_result\u001b[0m\u001b[0;34m(\u001b[0m\u001b[0mself\u001b[0m\u001b[0;34m)\u001b[0m\u001b[0;34m:\u001b[0m\u001b[0;34m\u001b[0m\u001b[0;34m\u001b[0m\u001b[0m\n\u001b[1;32m    383\u001b[0m         \u001b[0;32mif\u001b[0m \u001b[0mself\u001b[0m\u001b[0;34m.\u001b[0m\u001b[0m_exception\u001b[0m\u001b[0;34m:\u001b[0m\u001b[0;34m\u001b[0m\u001b[0;34m\u001b[0m\u001b[0m\n\u001b[0;32m--> 384\u001b[0;31m             \u001b[0;32mraise\u001b[0m \u001b[0mself\u001b[0m\u001b[0;34m.\u001b[0m\u001b[0m_exception\u001b[0m\u001b[0;34m\u001b[0m\u001b[0;34m\u001b[0m\u001b[0m\n\u001b[0m\u001b[1;32m    385\u001b[0m         \u001b[0;32melse\u001b[0m\u001b[0;34m:\u001b[0m\u001b[0;34m\u001b[0m\u001b[0;34m\u001b[0m\u001b[0m\n\u001b[1;32m    386\u001b[0m             \u001b[0;32mreturn\u001b[0m \u001b[0mself\u001b[0m\u001b[0;34m.\u001b[0m\u001b[0m_result\u001b[0m\u001b[0;34m\u001b[0m\u001b[0;34m\u001b[0m\u001b[0m\n",
      "\u001b[0;31mTerminatedWorkerError\u001b[0m: A worker process managed by the executor was unexpectedly terminated. This could be caused by a segmentation fault while calling the function or by an excessive memory usage causing the Operating System to kill the worker.\n\nThe exit codes of the workers are {SIGKILL(-9)}"
     ]
    },
    {
     "data": {
      "image/png": "[encoded data removed]",
      "text/plain": [
       "<Figure size 1080x1080 with 3 Axes>"
      ]
     },
     "metadata": {
      "needs_background": "light"
     },
     "output_type": "display_data"
    }
   ],
   "source": [
    "print_best_model_result(search, 'Tuning MinMaxScaler Smote Perceptron')"
   ]
  }
 ],
 "metadata": {
  "kernelspec": {
   "display_name": "Python 3.8.10 64-bit",
   "language": "python",
   "name": "python3"
  },
  "language_info": {
   "codemirror_mode": {
    "name": "ipython",
    "version": 3
   },
   "file_extension": ".py",
   "mimetype": "text/x-python",
   "name": "python",
   "nbconvert_exporter": "python",
   "pygments_lexer": "ipython3",
   "version": "3.8.10"
  },
  "papermill": {
   "default_parameters": {},
   "duration": 6456.987824,
   "end_time": "2022-07-20T07:53:43.058697",
   "environment_variables": {},
   "exception": true,
   "input_path": "__notebook__.ipynb",
   "output_path": "__notebook__.ipynb",
   "parameters": {},
   "start_time": "2022-07-20T06:06:06.070873",
   "version": "2.3.4"
  },
  "vscode": {
   "interpreter": {
    "hash": "8384712f827c73b71ec1d871aaffaaf3604c18a78a335b5adcc2028fc4cb4b02"
   }
  }
 },
 "nbformat": 4,
 "nbformat_minor": 5
}
