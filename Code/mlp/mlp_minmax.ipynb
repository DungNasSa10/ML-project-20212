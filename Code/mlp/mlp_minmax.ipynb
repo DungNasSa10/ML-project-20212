{
 "cells": [
  {
   "cell_type": "code",
   "execution_count": 1,
   "id": "4bac55c4",
   "metadata": {
    "execution": {
     "iopub.execute_input": "2022-07-20T05:11:25.108346Z",
     "iopub.status.busy": "2022-07-20T05:11:25.107966Z",
     "iopub.status.idle": "2022-07-20T05:11:27.827899Z",
     "shell.execute_reply": "2022-07-20T05:11:27.826786Z"
    },
    "papermill": {
     "duration": 2.728859,
     "end_time": "2022-07-20T05:11:27.830082",
     "exception": false,
     "start_time": "2022-07-20T05:11:25.101223",
     "status": "completed"
    },
    "tags": []
   },
   "outputs": [
    {
     "data": {
      "text/html": [
       "<style type='text/css'>\n",
       ".datatable table.frame { margin-bottom: 0; }\n",
       ".datatable table.frame thead { border-bottom: none; }\n",
       ".datatable table.frame tr.coltypes td {  color: #FFFFFF;  line-height: 6px;  padding: 0 0.5em;}\n",
       ".datatable .bool    { background: #DDDD99; }\n",
       ".datatable .object  { background: #565656; }\n",
       ".datatable .int     { background: #5D9E5D; }\n",
       ".datatable .float   { background: #4040CC; }\n",
       ".datatable .str     { background: #CC4040; }\n",
       ".datatable .time    { background: #40CC40; }\n",
       ".datatable .row_index {  background: var(--jp-border-color3);  border-right: 1px solid var(--jp-border-color0);  color: var(--jp-ui-font-color3);  font-size: 9px;}\n",
       ".datatable .frame tbody td { text-align: left; }\n",
       ".datatable .frame tr.coltypes .row_index {  background: var(--jp-border-color0);}\n",
       ".datatable th:nth-child(2) { padding-left: 12px; }\n",
       ".datatable .hellipsis {  color: var(--jp-cell-editor-border-color);}\n",
       ".datatable .vellipsis {  background: var(--jp-layout-color0);  color: var(--jp-cell-editor-border-color);}\n",
       ".datatable .na {  color: var(--jp-cell-editor-border-color);  font-size: 80%;}\n",
       ".datatable .sp {  opacity: 0.25;}\n",
       ".datatable .footer { font-size: 9px; }\n",
       ".datatable .frame_dimensions {  background: var(--jp-border-color3);  border-top: 1px solid var(--jp-border-color0);  color: var(--jp-ui-font-color3);  display: inline-block;  opacity: 0.6;  padding: 1px 10px 1px 5px;}\n",
       "</style>\n"
      ],
      "text/plain": [
       "<IPython.core.display.HTML object>"
      ]
     },
     "metadata": {},
     "output_type": "display_data"
    }
   ],
   "source": [
    "import pandas as pd\n",
    "import numpy as np\n",
    "import matplotlib.pyplot as plt\n",
    "import seaborn as sns\n",
    "from imblearn.pipeline import Pipeline\n",
    "\n",
    "from sklearn.preprocessing import MinMaxScaler\n",
    "\n",
    "from imblearn.over_sampling import SMOTE, BorderlineSMOTE, SVMSMOTE, ADASYN\n",
    "\n",
    "from sklearn.linear_model import LogisticRegression, Perceptron\n",
    "from sklearn.neighbors import KNeighborsClassifier\n",
    "from sklearn.svm import SVC\n",
    "from sklearn.tree import DecisionTreeClassifier\n",
    "from sklearn.ensemble import RandomForestClassifier\n",
    "from sklearn.neural_network import MLPClassifier\n",
    "from lightgbm import LGBMClassifier\n",
    "from xgboost import XGBClassifier\n",
    "\n",
    "from sklearn.experimental import enable_halving_search_cv\n",
    "from sklearn.model_selection import GridSearchCV, HalvingGridSearchCV, train_test_split, RepeatedStratifiedKFold, cross_val_score, learning_curve\n",
    "from sklearn.metrics import classification_report, fbeta_score, confusion_matrix, precision_recall_curve, auc, make_scorer"
   ]
  },
  {
   "cell_type": "code",
   "execution_count": 2,
   "id": "02b832b3",
   "metadata": {
    "execution": {
     "iopub.execute_input": "2022-07-20T05:11:27.841701Z",
     "iopub.status.busy": "2022-07-20T05:11:27.841146Z",
     "iopub.status.idle": "2022-07-20T05:11:37.736759Z",
     "shell.execute_reply": "2022-07-20T05:11:37.735656Z"
    },
    "papermill": {
     "duration": 9.906032,
     "end_time": "2022-07-20T05:11:37.740941",
     "exception": false,
     "start_time": "2022-07-20T05:11:27.834909",
     "status": "completed"
    },
    "tags": []
   },
   "outputs": [],
   "source": [
    "accepted_loans = pd.read_csv('../input/ml-project-elite/elite.csv')"
   ]
  },
  {
   "cell_type": "code",
   "execution_count": 3,
   "id": "f857dbe5",
   "metadata": {
    "execution": {
     "iopub.execute_input": "2022-07-20T05:11:37.768017Z",
     "iopub.status.busy": "2022-07-20T05:11:37.765921Z",
     "iopub.status.idle": "2022-07-20T05:11:38.172407Z",
     "shell.execute_reply": "2022-07-20T05:11:38.171175Z"
    },
    "papermill": {
     "duration": 0.422946,
     "end_time": "2022-07-20T05:11:38.175402",
     "exception": false,
     "start_time": "2022-07-20T05:11:37.752456",
     "status": "completed"
    },
    "tags": []
   },
   "outputs": [],
   "source": [
    "X = accepted_loans.loc[:, accepted_loans.columns != 'loan_paid'].values\n",
    "y = accepted_loans['loan_paid'].values"
   ]
  },
  {
   "cell_type": "code",
   "execution_count": 4,
   "id": "3d8c301f",
   "metadata": {
    "execution": {
     "iopub.execute_input": "2022-07-20T05:11:38.187157Z",
     "iopub.status.busy": "2022-07-20T05:11:38.186776Z",
     "iopub.status.idle": "2022-07-20T05:11:39.659462Z",
     "shell.execute_reply": "2022-07-20T05:11:39.658308Z"
    },
    "papermill": {
     "duration": 1.481211,
     "end_time": "2022-07-20T05:11:39.661862",
     "exception": false,
     "start_time": "2022-07-20T05:11:38.180651",
     "status": "completed"
    },
    "tags": []
   },
   "outputs": [],
   "source": [
    "X_train, X_test, y_train, y_test = train_test_split(X, y, test_size=0.2, random_state=42, stratify=y)"
   ]
  },
  {
   "cell_type": "code",
   "execution_count": 5,
   "id": "0a4660db",
   "metadata": {
    "execution": {
     "iopub.execute_input": "2022-07-20T05:11:39.673281Z",
     "iopub.status.busy": "2022-07-20T05:11:39.672320Z",
     "iopub.status.idle": "2022-07-20T05:11:39.677991Z",
     "shell.execute_reply": "2022-07-20T05:11:39.676364Z"
    },
    "papermill": {
     "duration": 0.014149,
     "end_time": "2022-07-20T05:11:39.680744",
     "exception": false,
     "start_time": "2022-07-20T05:11:39.666595",
     "status": "completed"
    },
    "tags": []
   },
   "outputs": [],
   "source": [
    "cv = RepeatedStratifiedKFold(n_splits=5, n_repeats=1, random_state=42)"
   ]
  },
  {
   "cell_type": "code",
   "execution_count": 6,
   "id": "5197d074",
   "metadata": {
    "execution": {
     "iopub.execute_input": "2022-07-20T05:11:39.693140Z",
     "iopub.status.busy": "2022-07-20T05:11:39.692823Z",
     "iopub.status.idle": "2022-07-20T05:11:39.697942Z",
     "shell.execute_reply": "2022-07-20T05:11:39.696773Z"
    },
    "papermill": {
     "duration": 0.01354,
     "end_time": "2022-07-20T05:11:39.699951",
     "exception": false,
     "start_time": "2022-07-20T05:11:39.686411",
     "status": "completed"
    },
    "tags": []
   },
   "outputs": [],
   "source": [
    "minmax_scaler = ('minmax', MinMaxScaler())"
   ]
  },
  {
   "cell_type": "code",
   "execution_count": 7,
   "id": "c3cfde67",
   "metadata": {
    "execution": {
     "iopub.execute_input": "2022-07-20T05:11:39.710083Z",
     "iopub.status.busy": "2022-07-20T05:11:39.709714Z",
     "iopub.status.idle": "2022-07-20T05:11:39.714761Z",
     "shell.execute_reply": "2022-07-20T05:11:39.713801Z"
    },
    "papermill": {
     "duration": 0.012541,
     "end_time": "2022-07-20T05:11:39.716968",
     "exception": false,
     "start_time": "2022-07-20T05:11:39.704427",
     "status": "completed"
    },
    "tags": []
   },
   "outputs": [],
   "source": [
    "smote = ('smote', SMOTE(sampling_strategy=1.0, random_state=42))\n",
    "smote_param_grid = {\n",
    "    'smote__sampling_strategy': [0.8, 0.9, 1.0]\n",
    "    #'smote__k_neighbors': [3, 5, 10, 15]\n",
    "}"
   ]
  },
  {
   "cell_type": "code",
   "execution_count": 8,
   "id": "9d72247c",
   "metadata": {
    "execution": {
     "iopub.execute_input": "2022-07-20T05:11:39.729696Z",
     "iopub.status.busy": "2022-07-20T05:11:39.729388Z",
     "iopub.status.idle": "2022-07-20T05:11:39.734219Z",
     "shell.execute_reply": "2022-07-20T05:11:39.733493Z"
    },
    "papermill": {
     "duration": 0.012452,
     "end_time": "2022-07-20T05:11:39.735779",
     "exception": false,
     "start_time": "2022-07-20T05:11:39.723327",
     "status": "completed"
    },
    "tags": []
   },
   "outputs": [],
   "source": [
    "mlp = ('mlp', MLPClassifier(max_iter=100, random_state=42, early_stopping=True, activation='logistic', n_iter_no_change=20)) \n",
    "mlp_param_grid = {\n",
    "    'mlp__hidden_layer_sizes' : [(100,), (100, 100), (50, 50, 50), (50, 100, 50)],\n",
    "}"
   ]
  },
  {
   "cell_type": "code",
   "execution_count": 9,
   "id": "e6eef7d4",
   "metadata": {
    "execution": {
     "iopub.execute_input": "2022-07-20T05:11:39.747250Z",
     "iopub.status.busy": "2022-07-20T05:11:39.746843Z",
     "iopub.status.idle": "2022-07-20T05:11:39.751806Z",
     "shell.execute_reply": "2022-07-20T05:11:39.750649Z"
    },
    "papermill": {
     "duration": 0.013168,
     "end_time": "2022-07-20T05:11:39.753531",
     "exception": false,
     "start_time": "2022-07-20T05:11:39.740363",
     "status": "completed"
    },
    "tags": []
   },
   "outputs": [],
   "source": [
    "# Metric\n",
    "f_onehalf_scorer = make_scorer(fbeta_score, beta=0.5)"
   ]
  },
  {
   "cell_type": "code",
   "execution_count": 10,
   "id": "8d8cbed9",
   "metadata": {
    "execution": {
     "iopub.execute_input": "2022-07-20T05:11:39.764456Z",
     "iopub.status.busy": "2022-07-20T05:11:39.763856Z",
     "iopub.status.idle": "2022-07-20T05:11:39.778861Z",
     "shell.execute_reply": "2022-07-20T05:11:39.778069Z"
    },
    "papermill": {
     "duration": 0.022711,
     "end_time": "2022-07-20T05:11:39.780872",
     "exception": false,
     "start_time": "2022-07-20T05:11:39.758161",
     "status": "completed"
    },
    "tags": []
   },
   "outputs": [],
   "source": [
    "def plot_learning_curve(\n",
    "    estimator,\n",
    "    title,\n",
    "    X,\n",
    "    y,\n",
    "    axes=None,\n",
    "    ylim=None,\n",
    "    cv=cv,\n",
    "    n_jobs=-1,\n",
    "    train_sizes=np.linspace(0.1, 1.0, 5),\n",
    "):\n",
    "    if axes is None:\n",
    "        _, axes = plt.subplots(3, 1, figsize=(15, 15))\n",
    "\n",
    "    axes[0].set_title(title)\n",
    "    if ylim is not None:\n",
    "        axes[0].set_ylim(*ylim)\n",
    "    axes[0].set_xlabel(\"Training examples\")\n",
    "    axes[0].set_ylabel(\"Score\")\n",
    "\n",
    "    train_sizes, train_scores, test_scores, fit_times, _ = learning_curve(\n",
    "        estimator,\n",
    "        X,\n",
    "        y,\n",
    "        cv=cv,\n",
    "        n_jobs=n_jobs,\n",
    "        train_sizes=train_sizes,\n",
    "        scoring=f_onehalf_scorer,\n",
    "        return_times=True,\n",
    "        random_state=42\n",
    "    )\n",
    "    train_scores_mean = np.mean(train_scores, axis=1)\n",
    "    train_scores_std = np.std(train_scores, axis=1)\n",
    "    test_scores_mean = np.mean(test_scores, axis=1)\n",
    "    test_scores_std = np.std(test_scores, axis=1)\n",
    "    fit_times_mean = np.mean(fit_times, axis=1)\n",
    "    fit_times_std = np.std(fit_times, axis=1)\n",
    "\n",
    "    # Plot learning curve\n",
    "    axes[0].grid()\n",
    "    axes[0].fill_between(\n",
    "        train_sizes,\n",
    "        train_scores_mean - train_scores_std,\n",
    "        train_scores_mean + train_scores_std,\n",
    "        alpha=0.1,\n",
    "        color=\"r\",\n",
    "    )\n",
    "    axes[0].fill_between(\n",
    "        train_sizes,\n",
    "        test_scores_mean - test_scores_std,\n",
    "        test_scores_mean + test_scores_std,\n",
    "        alpha=0.1,\n",
    "        color=\"g\",\n",
    "    )\n",
    "    axes[0].plot(\n",
    "        train_sizes, train_scores_mean, \"o-\", color=\"r\", label=\"Training score\"\n",
    "    )\n",
    "    axes[0].plot(\n",
    "        train_sizes, test_scores_mean, \"o-\", color=\"g\", label=\"Cross-validation score\"\n",
    "    )\n",
    "    axes[0].legend(loc=\"best\")\n",
    "\n",
    "    # Plot n_samples vs fit_times\n",
    "    axes[1].grid()\n",
    "    axes[1].plot(train_sizes, fit_times_mean, \"o-\")\n",
    "    axes[1].fill_between(\n",
    "        train_sizes,\n",
    "        fit_times_mean - fit_times_std,\n",
    "        fit_times_mean + fit_times_std,\n",
    "        alpha=0.1,\n",
    "    )\n",
    "    axes[1].set_xlabel(\"Training examples\")\n",
    "    axes[1].set_ylabel(\"fit_times\")\n",
    "    axes[1].set_title(\"Scalability of the model\")\n",
    "\n",
    "    # Plot fit_time vs score\n",
    "    fit_time_argsort = fit_times_mean.argsort()\n",
    "    fit_time_sorted = fit_times_mean[fit_time_argsort]\n",
    "    test_scores_mean_sorted = test_scores_mean[fit_time_argsort]\n",
    "    test_scores_std_sorted = test_scores_std[fit_time_argsort]\n",
    "    axes[2].grid()\n",
    "    axes[2].plot(fit_time_sorted, test_scores_mean_sorted, \"o-\")\n",
    "    axes[2].fill_between(\n",
    "        fit_time_sorted,\n",
    "        test_scores_mean_sorted - test_scores_std_sorted,\n",
    "        test_scores_mean_sorted + test_scores_std_sorted,\n",
    "        alpha=0.1,\n",
    "    )\n",
    "    axes[2].set_xlabel(\"fit_times\") \n",
    "    axes[2].set_ylabel(\"Score\")\n",
    "    axes[2].set_title(\"Performance of the model\")\n",
    "\n",
    "    return plt"
   ]
  },
  {
   "cell_type": "code",
   "execution_count": 11,
   "id": "b20f3df1",
   "metadata": {
    "execution": {
     "iopub.execute_input": "2022-07-20T05:11:39.792290Z",
     "iopub.status.busy": "2022-07-20T05:11:39.791705Z",
     "iopub.status.idle": "2022-07-20T05:11:39.804040Z",
     "shell.execute_reply": "2022-07-20T05:11:39.803296Z"
    },
    "papermill": {
     "duration": 0.020932,
     "end_time": "2022-07-20T05:11:39.806502",
     "exception": false,
     "start_time": "2022-07-20T05:11:39.785570",
     "status": "completed"
    },
    "tags": []
   },
   "outputs": [],
   "source": [
    "def pooled_var(stds):\n",
    "    n = 30 # size of each group\n",
    "    return np.sqrt(sum((n-1)*(stds**2))/ len(stds)*(n-1))\n",
    "\n",
    "def plot_search_results(search):\n",
    "  df = pd.DataFrame(search.cv_results_)\n",
    "  results = ['mean_test_score',\n",
    "            'mean_train_score',\n",
    "            'std_test_score', \n",
    "            'std_train_score']\n",
    "\n",
    "  fig, axes = plt.subplots(1, len(param_grid), \n",
    "                          figsize = (7*len(param_grid), 5),\n",
    "                          sharey='row')\n",
    "  axes[0].set_ylabel(\"Score\", fontsize=25)\n",
    "\n",
    "\n",
    "  for idx, (param_name, param_range) in enumerate(param_grid.items()):\n",
    "      grouped_df = df.groupby(f'param_{param_name}')[results]\\\n",
    "          .agg({'mean_train_score': 'mean',\n",
    "                'mean_test_score': 'mean',\n",
    "                'std_train_score': 'mean',\n",
    "                'std_test_score': 'mean'})\n",
    "\n",
    "      previous_group = df.groupby(f'param_{param_name}')[results]\n",
    "      axes[idx].set_xlabel(param_name, fontsize=30)\n",
    "      axes[idx].set_ylim(0.0, 1.1)\n",
    "      lw = 2\n",
    "      axes[idx].plot(param_range, grouped_df['mean_train_score'], label=\"Training score\",\n",
    "                  color=\"darkorange\", lw=lw)\n",
    "      axes[idx].fill_between(param_range,grouped_df['mean_train_score'] - grouped_df['std_train_score'],\n",
    "                      grouped_df['mean_train_score'] + grouped_df['std_train_score'], alpha=0.2,\n",
    "                      color=\"darkorange\", lw=lw)\n",
    "      axes[idx].plot(param_range, grouped_df['mean_test_score'], label=\"Cross-validation score\",\n",
    "                  color=\"navy\", lw=lw)\n",
    "      axes[idx].fill_between(param_range, grouped_df['mean_test_score'] - grouped_df['std_test_score'],\n",
    "                      grouped_df['mean_test_score'] + grouped_df['std_test_score'], alpha=0.2,\n",
    "                      color=\"navy\", lw=lw)\n",
    "\n",
    "  handles, labels = axes[0].get_legend_handles_labels()\n",
    "  fig.suptitle('Validation curves', fontsize=40)\n",
    "  fig.legend(handles, labels, loc=8, ncol=2, fontsize=20)\n",
    "\n",
    "  fig.subplots_adjust(bottom=0.25, top=0.85)  \n",
    "  plt.show()"
   ]
  },
  {
   "cell_type": "code",
   "execution_count": 12,
   "id": "6b8e62d9",
   "metadata": {
    "execution": {
     "iopub.execute_input": "2022-07-20T05:11:39.818858Z",
     "iopub.status.busy": "2022-07-20T05:11:39.818139Z",
     "iopub.status.idle": "2022-07-20T05:11:39.824275Z",
     "shell.execute_reply": "2022-07-20T05:11:39.823291Z"
    },
    "papermill": {
     "duration": 0.014628,
     "end_time": "2022-07-20T05:11:39.826503",
     "exception": false,
     "start_time": "2022-07-20T05:11:39.811875",
     "status": "completed"
    },
    "tags": []
   },
   "outputs": [],
   "source": [
    "def print_result_df(search):\n",
    "  keeping_columns = ['params', 'mean_train_score', 'std_train_score', 'mean_test_score', 'std_test_score', 'mean_fit_time', 'std_fit_time']\n",
    "  df = pd.DataFrame(search.cv_results_)\n",
    "  df = df[keeping_columns].sort_values(by='mean_test_score', ascending=False)\n",
    "  return df.iloc[:10, :]"
   ]
  },
  {
   "cell_type": "code",
   "execution_count": 13,
   "id": "7da75165",
   "metadata": {
    "execution": {
     "iopub.execute_input": "2022-07-20T05:11:39.839210Z",
     "iopub.status.busy": "2022-07-20T05:11:39.838489Z",
     "iopub.status.idle": "2022-07-20T05:11:39.847608Z",
     "shell.execute_reply": "2022-07-20T05:11:39.846624Z"
    },
    "papermill": {
     "duration": 0.017634,
     "end_time": "2022-07-20T05:11:39.849760",
     "exception": false,
     "start_time": "2022-07-20T05:11:39.832126",
     "status": "completed"
    },
    "tags": []
   },
   "outputs": [],
   "source": [
    "def print_best_model_result(search, name):\n",
    "  print(\"Best parameter (CV score=):\" % search.best_score_)\n",
    "  best_model = search.best_estimator_\n",
    "  print(best_model)\n",
    "\n",
    "  y_pred = best_model.predict(X_test)\n",
    "\n",
    "  print(classification_report(y_test, y_pred))\n",
    "  print(confusion_matrix(y_test, y_pred))\n",
    "  \n",
    "  f_onehalf_score = fbeta_score(y_test, y_pred, beta=0.5)\n",
    "  print('f0.5_score=', f_onehalf_score)\n",
    "\n",
    "  try :\n",
    "    y_score = best_model.predict_proba(X_test)[:, 1]\n",
    "    # calculate precision and recall for each threshold\n",
    "    precision, recall, threshold = precision_recall_curve(y_test, y_score)\n",
    "    # calculate scores\n",
    "    pr_auc = auc(recall, precision)\n",
    "    print('pr_auc_score=', pr_auc)\n",
    "\n",
    "    # calculate the no skill line as the proportion of the positive class\n",
    "    no_skill = len(y_test[y_test==1]) / len(y_test)\n",
    "    # plot the no skill precision-recall curve\n",
    "    plt.figure(figsize=(10, 7))\n",
    "    plt.plot([0, 1], [no_skill, no_skill], linestyle='--', label='No Skill')\n",
    "    # plot the model precision-recall curve\n",
    "    plt.plot(recall, precision, marker='.', label=name)\n",
    "    plt.title(f'{name}(pr_auc={pr_auc})')\n",
    "    plt.xlabel('Recall')\n",
    "    plt.ylabel('Precision')\n",
    "    # show the legend\n",
    "    plt.legend()\n",
    "    # show the plot\n",
    "    plt.show()\n",
    "  except:\n",
    "    pass\n",
    "\n",
    "  plot_learning_curve(best_model, name, X_train, y_train, cv=cv, n_jobs=-1 )\n",
    "  plt.show()\n",
    "\n",
    "  return best_model"
   ]
  },
  {
   "cell_type": "code",
   "execution_count": 14,
   "id": "1b214e1c",
   "metadata": {
    "execution": {
     "iopub.execute_input": "2022-07-20T05:11:39.864360Z",
     "iopub.status.busy": "2022-07-20T05:11:39.863868Z",
     "iopub.status.idle": "2022-07-20T05:11:39.869283Z",
     "shell.execute_reply": "2022-07-20T05:11:39.867936Z"
    },
    "papermill": {
     "duration": 0.014975,
     "end_time": "2022-07-20T05:11:39.871566",
     "exception": false,
     "start_time": "2022-07-20T05:11:39.856591",
     "status": "completed"
    },
    "tags": []
   },
   "outputs": [
    {
     "name": "stdout",
     "output_type": "stream",
     "text": [
      "MinMaxScaler MLP\n"
     ]
    }
   ],
   "source": [
    "pipe = Pipeline(steps=[minmax_scaler, mlp])\n",
    "print(\"MinMaxScaler MLP\")"
   ]
  },
  {
   "cell_type": "code",
   "execution_count": 15,
   "id": "25c9ee50",
   "metadata": {
    "execution": {
     "iopub.execute_input": "2022-07-20T05:11:39.886179Z",
     "iopub.status.busy": "2022-07-20T05:11:39.884501Z",
     "iopub.status.idle": "2022-07-20T05:11:39.889884Z",
     "shell.execute_reply": "2022-07-20T05:11:39.888818Z"
    },
    "papermill": {
     "duration": 0.015483,
     "end_time": "2022-07-20T05:11:39.892600",
     "exception": false,
     "start_time": "2022-07-20T05:11:39.877117",
     "status": "completed"
    },
    "tags": []
   },
   "outputs": [],
   "source": [
    "#param_grid = {**mlp_param_grid}\n",
    "param_grid = {}"
   ]
  },
  {
   "cell_type": "code",
   "execution_count": 16,
   "id": "1309d818",
   "metadata": {
    "execution": {
     "iopub.execute_input": "2022-07-20T05:11:39.907708Z",
     "iopub.status.busy": "2022-07-20T05:11:39.907036Z",
     "iopub.status.idle": "2022-07-20T05:11:39.912393Z",
     "shell.execute_reply": "2022-07-20T05:11:39.910721Z"
    },
    "papermill": {
     "duration": 0.015973,
     "end_time": "2022-07-20T05:11:39.914902",
     "exception": false,
     "start_time": "2022-07-20T05:11:39.898929",
     "status": "completed"
    },
    "tags": []
   },
   "outputs": [],
   "source": [
    "search = HalvingGridSearchCV(pipe, param_grid, scoring=f_onehalf_scorer, cv=cv, verbose=3, return_train_score=True)"
   ]
  },
  {
   "cell_type": "code",
   "execution_count": 17,
   "id": "423886c6",
   "metadata": {
    "execution": {
     "iopub.execute_input": "2022-07-20T05:11:39.927927Z",
     "iopub.status.busy": "2022-07-20T05:11:39.927017Z",
     "iopub.status.idle": "2022-07-20T06:19:58.821295Z",
     "shell.execute_reply": "2022-07-20T06:19:58.820089Z"
    },
    "papermill": {
     "duration": 4098.91656,
     "end_time": "2022-07-20T06:19:58.837276",
     "exception": false,
     "start_time": "2022-07-20T05:11:39.920716",
     "status": "completed"
    },
    "tags": []
   },
   "outputs": [
    {
     "name": "stdout",
     "output_type": "stream",
     "text": [
      "n_iterations: 1\n",
      "n_required_iterations: 1\n",
      "n_possible_iterations: 1\n",
      "min_resources_: 1074704\n",
      "max_resources_: 1074704\n",
      "aggressive_elimination: False\n",
      "factor: 3\n",
      "----------\n",
      "iter: 0\n",
      "n_candidates: 1\n",
      "n_resources: 1074704\n",
      "Fitting 5 folds for each of 1 candidates, totalling 5 fits\n"
     ]
    },
    {
     "name": "stderr",
     "output_type": "stream",
     "text": [
      "/opt/conda/lib/python3.7/site-packages/sklearn/neural_network/_multilayer_perceptron.py:696: ConvergenceWarning: Stochastic Optimizer: Maximum iterations (100) reached and the optimization hasn't converged yet.\n",
      "  ConvergenceWarning,\n"
     ]
    },
    {
     "name": "stdout",
     "output_type": "stream",
     "text": [
      "[CV 1/5] END ..............., score=(train=0.912, test=0.912) total time=10.6min\n"
     ]
    },
    {
     "name": "stderr",
     "output_type": "stream",
     "text": [
      "/opt/conda/lib/python3.7/site-packages/sklearn/neural_network/_multilayer_perceptron.py:696: ConvergenceWarning: Stochastic Optimizer: Maximum iterations (100) reached and the optimization hasn't converged yet.\n",
      "  ConvergenceWarning,\n"
     ]
    },
    {
     "name": "stdout",
     "output_type": "stream",
     "text": [
      "[CV 2/5] END ..............., score=(train=0.919, test=0.918) total time= 9.8min\n"
     ]
    },
    {
     "name": "stderr",
     "output_type": "stream",
     "text": [
      "/opt/conda/lib/python3.7/site-packages/sklearn/neural_network/_multilayer_perceptron.py:696: ConvergenceWarning: Stochastic Optimizer: Maximum iterations (100) reached and the optimization hasn't converged yet.\n",
      "  ConvergenceWarning,\n"
     ]
    },
    {
     "name": "stdout",
     "output_type": "stream",
     "text": [
      "[CV 3/5] END ..............., score=(train=0.914, test=0.915) total time=10.8min\n"
     ]
    },
    {
     "name": "stderr",
     "output_type": "stream",
     "text": [
      "/opt/conda/lib/python3.7/site-packages/sklearn/neural_network/_multilayer_perceptron.py:696: ConvergenceWarning: Stochastic Optimizer: Maximum iterations (100) reached and the optimization hasn't converged yet.\n",
      "  ConvergenceWarning,\n"
     ]
    },
    {
     "name": "stdout",
     "output_type": "stream",
     "text": [
      "[CV 4/5] END ..............., score=(train=0.914, test=0.913) total time=12.1min\n"
     ]
    },
    {
     "name": "stderr",
     "output_type": "stream",
     "text": [
      "/opt/conda/lib/python3.7/site-packages/sklearn/neural_network/_multilayer_perceptron.py:696: ConvergenceWarning: Stochastic Optimizer: Maximum iterations (100) reached and the optimization hasn't converged yet.\n",
      "  ConvergenceWarning,\n"
     ]
    },
    {
     "name": "stdout",
     "output_type": "stream",
     "text": [
      "[CV 5/5] END ..............., score=(train=0.912, test=0.911) total time=10.6min\n"
     ]
    },
    {
     "name": "stderr",
     "output_type": "stream",
     "text": [
      "/opt/conda/lib/python3.7/site-packages/sklearn/neural_network/_multilayer_perceptron.py:696: ConvergenceWarning: Stochastic Optimizer: Maximum iterations (100) reached and the optimization hasn't converged yet.\n",
      "  ConvergenceWarning,\n"
     ]
    },
    {
     "data": {
      "text/plain": [
       "HalvingGridSearchCV(cv=RepeatedStratifiedKFold(n_repeats=1, n_splits=5, random_state=42),\n",
       "                    estimator=Pipeline(steps=[('minmax', MinMaxScaler()),\n",
       "                                              ('mlp',\n",
       "                                               MLPClassifier(activation='logistic',\n",
       "                                                             early_stopping=True,\n",
       "                                                             max_iter=100,\n",
       "                                                             n_iter_no_change=20,\n",
       "                                                             random_state=42))]),\n",
       "                    param_grid={}, scoring=make_scorer(fbeta_score, beta=0.5),\n",
       "                    verbose=3)"
      ]
     },
     "execution_count": 17,
     "metadata": {},
     "output_type": "execute_result"
    }
   ],
   "source": [
    "search.fit(X_train, y_train)"
   ]
  },
  {
   "cell_type": "code",
   "execution_count": 18,
   "id": "fa9b56a0",
   "metadata": {
    "execution": {
     "iopub.execute_input": "2022-07-20T06:19:58.862746Z",
     "iopub.status.busy": "2022-07-20T06:19:58.862311Z",
     "iopub.status.idle": "2022-07-20T06:19:58.899438Z",
     "shell.execute_reply": "2022-07-20T06:19:58.898599Z"
    },
    "papermill": {
     "duration": 0.052887,
     "end_time": "2022-07-20T06:19:58.901829",
     "exception": false,
     "start_time": "2022-07-20T06:19:58.848942",
     "status": "completed"
    },
    "tags": []
   },
   "outputs": [
    {
     "data": {
      "text/html": [
       "<div>\n",
       "<style scoped>\n",
       "    .dataframe tbody tr th:only-of-type {\n",
       "        vertical-align: middle;\n",
       "    }\n",
       "\n",
       "    .dataframe tbody tr th {\n",
       "        vertical-align: top;\n",
       "    }\n",
       "\n",
       "    .dataframe thead th {\n",
       "        text-align: right;\n",
       "    }\n",
       "</style>\n",
       "<table border=\"1\" class=\"dataframe\">\n",
       "  <thead>\n",
       "    <tr style=\"text-align: right;\">\n",
       "      <th></th>\n",
       "      <th>params</th>\n",
       "      <th>mean_train_score</th>\n",
       "      <th>std_train_score</th>\n",
       "      <th>mean_test_score</th>\n",
       "      <th>std_test_score</th>\n",
       "      <th>mean_fit_time</th>\n",
       "      <th>std_fit_time</th>\n",
       "    </tr>\n",
       "  </thead>\n",
       "  <tbody>\n",
       "    <tr>\n",
       "      <th>0</th>\n",
       "      <td>{}</td>\n",
       "      <td>0.914479</td>\n",
       "      <td>0.002467</td>\n",
       "      <td>0.913958</td>\n",
       "      <td>0.002515</td>\n",
       "      <td>645.883598</td>\n",
       "      <td>44.239567</td>\n",
       "    </tr>\n",
       "  </tbody>\n",
       "</table>\n",
       "</div>"
      ],
      "text/plain": [
       "  params  mean_train_score  std_train_score  mean_test_score  std_test_score  \\\n",
       "0     {}          0.914479         0.002467         0.913958        0.002515   \n",
       "\n",
       "   mean_fit_time  std_fit_time  \n",
       "0     645.883598     44.239567  "
      ]
     },
     "execution_count": 18,
     "metadata": {},
     "output_type": "execute_result"
    }
   ],
   "source": [
    "print_result_df(search)"
   ]
  },
  {
   "cell_type": "code",
   "execution_count": 19,
   "id": "ccde68f0",
   "metadata": {
    "execution": {
     "iopub.execute_input": "2022-07-20T06:19:58.916427Z",
     "iopub.status.busy": "2022-07-20T06:19:58.915736Z",
     "iopub.status.idle": "2022-07-20T06:19:58.920895Z",
     "shell.execute_reply": "2022-07-20T06:19:58.919423Z"
    },
    "papermill": {
     "duration": 0.015315,
     "end_time": "2022-07-20T06:19:58.922894",
     "exception": false,
     "start_time": "2022-07-20T06:19:58.907579",
     "status": "completed"
    },
    "tags": []
   },
   "outputs": [],
   "source": [
    "#plot_search_results(search)"
   ]
  },
  {
   "cell_type": "code",
   "execution_count": 20,
   "id": "b413c8bd",
   "metadata": {
    "execution": {
     "iopub.execute_input": "2022-07-20T06:19:58.938311Z",
     "iopub.status.busy": "2022-07-20T06:19:58.937531Z",
     "iopub.status.idle": "2022-07-20T06:54:09.878737Z",
     "shell.execute_reply": "2022-07-20T06:54:09.877406Z"
    },
    "papermill": {
     "duration": 2050.958377,
     "end_time": "2022-07-20T06:54:09.887637",
     "exception": false,
     "start_time": "2022-07-20T06:19:58.929260",
     "status": "completed"
    },
    "tags": []
   },
   "outputs": [
    {
     "name": "stdout",
     "output_type": "stream",
     "text": [
      "Best parameter (CV score=):\n",
      "Pipeline(steps=[('minmax', MinMaxScaler()),\n",
      "                ('mlp',\n",
      "                 MLPClassifier(activation='logistic', early_stopping=True,\n",
      "                               max_iter=100, n_iter_no_change=20,\n",
      "                               random_state=42))])\n",
      "              precision    recall  f1-score   support\n",
      "\n",
      "           0       0.72      0.64      0.68     53638\n",
      "           1       0.91      0.94      0.93    215038\n",
      "\n",
      "    accuracy                           0.88    268676\n",
      "   macro avg       0.82      0.79      0.80    268676\n",
      "weighted avg       0.87      0.88      0.88    268676\n",
      "\n",
      "[[ 34132  19506]\n",
      " [ 13185 201853]]\n",
      "f0.5_score= 0.9171184416896718\n",
      "pr_auc_score= 0.9844349767891873\n"
     ]
    },
    {
     "data": {
      "image/png": "[encoded data removed]",
      "text/plain": [
       "<Figure size 720x504 with 1 Axes>"
      ]
     },
     "metadata": {
      "needs_background": "light"
     },
     "output_type": "display_data"
    },
    {
     "name": "stderr",
     "output_type": "stream",
     "text": [
      "/opt/conda/lib/python3.7/site-packages/sklearn/neural_network/_multilayer_perceptron.py:696: ConvergenceWarning: Stochastic Optimizer: Maximum iterations (100) reached and the optimization hasn't converged yet.\n",
      "  ConvergenceWarning,\n",
      "/opt/conda/lib/python3.7/site-packages/sklearn/neural_network/_multilayer_perceptron.py:696: ConvergenceWarning: Stochastic Optimizer: Maximum iterations (100) reached and the optimization hasn't converged yet.\n",
      "  ConvergenceWarning,\n"
     ]
    },
    {
     "data": {
      "image/png": "[encoded data removed]",
      "text/plain": [
       "<Figure size 1080x1080 with 3 Axes>"
      ]
     },
     "metadata": {
      "needs_background": "light"
     },
     "output_type": "display_data"
    },
    {
     "data": {
      "text/plain": [
       "Pipeline(steps=[('minmax', MinMaxScaler()),\n",
       "                ('mlp',\n",
       "                 MLPClassifier(activation='logistic', early_stopping=True,\n",
       "                               max_iter=100, n_iter_no_change=20,\n",
       "                               random_state=42))])"
      ]
     },
     "execution_count": 20,
     "metadata": {},
     "output_type": "execute_result"
    }
   ],
   "source": [
    "print_best_model_result(search, 'MinMaxScaler MLP')"
   ]
  }
 ],
 "metadata": {
  "kernelspec": {
   "display_name": "Python 3",
   "language": "python",
   "name": "python3"
  },
  "language_info": {
   "codemirror_mode": {
    "name": "ipython",
    "version": 3
   },
   "file_extension": ".py",
   "mimetype": "text/x-python",
   "name": "python",
   "nbconvert_exporter": "python",
   "pygments_lexer": "ipython3",
   "version": "3.7.12"
  },
  "papermill": {
   "default_parameters": {},
   "duration": 6176.085537,
   "end_time": "2022-07-20T06:54:12.535340",
   "environment_variables": {},
   "exception": null,
   "input_path": "__notebook__.ipynb",
   "output_path": "__notebook__.ipynb",
   "parameters": {},
   "start_time": "2022-07-20T05:11:16.449803",
   "version": "2.3.4"
  }
 },
 "nbformat": 4,
 "nbformat_minor": 5
}
