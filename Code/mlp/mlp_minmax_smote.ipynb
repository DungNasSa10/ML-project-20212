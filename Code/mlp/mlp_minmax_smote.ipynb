{
 "cells": [
  {
   "cell_type": "code",
   "execution_count": 1,
   "id": "1775232c",
   "metadata": {
    "execution": {
     "iopub.execute_input": "2022-07-20T05:09:45.367351Z",
     "iopub.status.busy": "2022-07-20T05:09:45.366848Z",
     "iopub.status.idle": "2022-07-20T05:09:48.391737Z",
     "shell.execute_reply": "2022-07-20T05:09:48.390368Z"
    },
    "papermill": {
     "duration": 3.036765,
     "end_time": "2022-07-20T05:09:48.394537",
     "exception": false,
     "start_time": "2022-07-20T05:09:45.357772",
     "status": "completed"
    },
    "tags": []
   },
   "outputs": [
    {
     "data": {
      "text/html": [
       "<style type='text/css'>\n",
       ".datatable table.frame { margin-bottom: 0; }\n",
       ".datatable table.frame thead { border-bottom: none; }\n",
       ".datatable table.frame tr.coltypes td {  color: #FFFFFF;  line-height: 6px;  padding: 0 0.5em;}\n",
       ".datatable .bool    { background: #DDDD99; }\n",
       ".datatable .object  { background: #565656; }\n",
       ".datatable .int     { background: #5D9E5D; }\n",
       ".datatable .float   { background: #4040CC; }\n",
       ".datatable .str     { background: #CC4040; }\n",
       ".datatable .time    { background: #40CC40; }\n",
       ".datatable .row_index {  background: var(--jp-border-color3);  border-right: 1px solid var(--jp-border-color0);  color: var(--jp-ui-font-color3);  font-size: 9px;}\n",
       ".datatable .frame tbody td { text-align: left; }\n",
       ".datatable .frame tr.coltypes .row_index {  background: var(--jp-border-color0);}\n",
       ".datatable th:nth-child(2) { padding-left: 12px; }\n",
       ".datatable .hellipsis {  color: var(--jp-cell-editor-border-color);}\n",
       ".datatable .vellipsis {  background: var(--jp-layout-color0);  color: var(--jp-cell-editor-border-color);}\n",
       ".datatable .na {  color: var(--jp-cell-editor-border-color);  font-size: 80%;}\n",
       ".datatable .sp {  opacity: 0.25;}\n",
       ".datatable .footer { font-size: 9px; }\n",
       ".datatable .frame_dimensions {  background: var(--jp-border-color3);  border-top: 1px solid var(--jp-border-color0);  color: var(--jp-ui-font-color3);  display: inline-block;  opacity: 0.6;  padding: 1px 10px 1px 5px;}\n",
       "</style>\n"
      ],
      "text/plain": [
       "<IPython.core.display.HTML object>"
      ]
     },
     "metadata": {},
     "output_type": "display_data"
    }
   ],
   "source": [
    "import pandas as pd\n",
    "import numpy as np\n",
    "import matplotlib.pyplot as plt\n",
    "import seaborn as sns\n",
    "from imblearn.pipeline import Pipeline\n",
    "\n",
    "from sklearn.preprocessing import MinMaxScaler\n",
    "\n",
    "from imblearn.over_sampling import SMOTE, BorderlineSMOTE, SVMSMOTE, ADASYN\n",
    "\n",
    "from sklearn.linear_model import LogisticRegression, Perceptron\n",
    "from sklearn.neighbors import KNeighborsClassifier\n",
    "from sklearn.svm import SVC\n",
    "from sklearn.tree import DecisionTreeClassifier\n",
    "from sklearn.ensemble import RandomForestClassifier\n",
    "from sklearn.neural_network import MLPClassifier\n",
    "from lightgbm import LGBMClassifier\n",
    "from xgboost import XGBClassifier\n",
    "\n",
    "from sklearn.experimental import enable_halving_search_cv\n",
    "from sklearn.model_selection import GridSearchCV, HalvingGridSearchCV, train_test_split, RepeatedStratifiedKFold, cross_val_score, learning_curve\n",
    "from sklearn.metrics import classification_report, fbeta_score, confusion_matrix, precision_recall_curve, auc, make_scorer"
   ]
  },
  {
   "cell_type": "code",
   "execution_count": 2,
   "id": "106d1ad4",
   "metadata": {
    "execution": {
     "iopub.execute_input": "2022-07-20T05:09:48.409682Z",
     "iopub.status.busy": "2022-07-20T05:09:48.409253Z",
     "iopub.status.idle": "2022-07-20T05:10:01.046480Z",
     "shell.execute_reply": "2022-07-20T05:10:01.045172Z"
    },
    "papermill": {
     "duration": 12.648227,
     "end_time": "2022-07-20T05:10:01.049376",
     "exception": false,
     "start_time": "2022-07-20T05:09:48.401149",
     "status": "completed"
    },
    "tags": []
   },
   "outputs": [],
   "source": [
    "accepted_loans = pd.read_csv('../input/ml-project-elite/elite.csv')"
   ]
  },
  {
   "cell_type": "code",
   "execution_count": 3,
   "id": "f82d2377",
   "metadata": {
    "execution": {
     "iopub.execute_input": "2022-07-20T05:10:01.063977Z",
     "iopub.status.busy": "2022-07-20T05:10:01.063591Z",
     "iopub.status.idle": "2022-07-20T05:10:01.637237Z",
     "shell.execute_reply": "2022-07-20T05:10:01.628495Z"
    },
    "papermill": {
     "duration": 0.585058,
     "end_time": "2022-07-20T05:10:01.640797",
     "exception": false,
     "start_time": "2022-07-20T05:10:01.055739",
     "status": "completed"
    },
    "tags": []
   },
   "outputs": [],
   "source": [
    "X = accepted_loans.loc[:, accepted_loans.columns != 'loan_paid'].values\n",
    "y = accepted_loans['loan_paid'].values"
   ]
  },
  {
   "cell_type": "code",
   "execution_count": 4,
   "id": "5f896923",
   "metadata": {
    "execution": {
     "iopub.execute_input": "2022-07-20T05:10:01.656888Z",
     "iopub.status.busy": "2022-07-20T05:10:01.656215Z",
     "iopub.status.idle": "2022-07-20T05:10:03.601537Z",
     "shell.execute_reply": "2022-07-20T05:10:03.600209Z"
    },
    "papermill": {
     "duration": 1.955587,
     "end_time": "2022-07-20T05:10:03.604277",
     "exception": false,
     "start_time": "2022-07-20T05:10:01.648690",
     "status": "completed"
    },
    "tags": []
   },
   "outputs": [],
   "source": [
    "X_train, X_test, y_train, y_test = train_test_split(X, y, test_size=0.2, random_state=42, stratify=y)"
   ]
  },
  {
   "cell_type": "code",
   "execution_count": 5,
   "id": "e081170f",
   "metadata": {
    "execution": {
     "iopub.execute_input": "2022-07-20T05:10:03.618309Z",
     "iopub.status.busy": "2022-07-20T05:10:03.617821Z",
     "iopub.status.idle": "2022-07-20T05:10:03.623299Z",
     "shell.execute_reply": "2022-07-20T05:10:03.622183Z"
    },
    "papermill": {
     "duration": 0.01495,
     "end_time": "2022-07-20T05:10:03.625410",
     "exception": false,
     "start_time": "2022-07-20T05:10:03.610460",
     "status": "completed"
    },
    "tags": []
   },
   "outputs": [],
   "source": [
    "cv = RepeatedStratifiedKFold(n_splits=5, n_repeats=1, random_state=42)"
   ]
  },
  {
   "cell_type": "code",
   "execution_count": 6,
   "id": "d84cc98f",
   "metadata": {
    "execution": {
     "iopub.execute_input": "2022-07-20T05:10:03.640813Z",
     "iopub.status.busy": "2022-07-20T05:10:03.639785Z",
     "iopub.status.idle": "2022-07-20T05:10:03.646292Z",
     "shell.execute_reply": "2022-07-20T05:10:03.645292Z"
    },
    "papermill": {
     "duration": 0.016621,
     "end_time": "2022-07-20T05:10:03.648410",
     "exception": false,
     "start_time": "2022-07-20T05:10:03.631789",
     "status": "completed"
    },
    "tags": []
   },
   "outputs": [],
   "source": [
    "minmax_scaler = ('minmax', MinMaxScaler())"
   ]
  },
  {
   "cell_type": "code",
   "execution_count": 7,
   "id": "70c2fa01",
   "metadata": {
    "execution": {
     "iopub.execute_input": "2022-07-20T05:10:03.663741Z",
     "iopub.status.busy": "2022-07-20T05:10:03.662780Z",
     "iopub.status.idle": "2022-07-20T05:10:03.668277Z",
     "shell.execute_reply": "2022-07-20T05:10:03.667414Z"
    },
    "papermill": {
     "duration": 0.015556,
     "end_time": "2022-07-20T05:10:03.670465",
     "exception": false,
     "start_time": "2022-07-20T05:10:03.654909",
     "status": "completed"
    },
    "tags": []
   },
   "outputs": [],
   "source": [
    "smote = ('smote', SMOTE(sampling_strategy=1.0, random_state=42))\n",
    "smote_param_grid = {\n",
    "    'smote__sampling_strategy': [0.8, 0.9, 1.0]\n",
    "    #'smote__k_neighbors': [3, 5, 10, 15]\n",
    "}"
   ]
  },
  {
   "cell_type": "code",
   "execution_count": 8,
   "id": "d2d7e8b9",
   "metadata": {
    "execution": {
     "iopub.execute_input": "2022-07-20T05:10:03.685782Z",
     "iopub.status.busy": "2022-07-20T05:10:03.684951Z",
     "iopub.status.idle": "2022-07-20T05:10:03.691090Z",
     "shell.execute_reply": "2022-07-20T05:10:03.690215Z"
    },
    "papermill": {
     "duration": 0.016525,
     "end_time": "2022-07-20T05:10:03.693286",
     "exception": false,
     "start_time": "2022-07-20T05:10:03.676761",
     "status": "completed"
    },
    "tags": []
   },
   "outputs": [],
   "source": [
    "mlp = ('mlp', MLPClassifier(max_iter=100, random_state=42, early_stopping=True, activation='logistic', n_iter_no_change=20)) \n",
    "mlp_param_grid = {\n",
    "    'mlp__hidden_layer_sizes' : [(100,), (100, 100), (50, 50, 50), (50, 100, 50)],\n",
    "}"
   ]
  },
  {
   "cell_type": "code",
   "execution_count": 9,
   "id": "c37cd167",
   "metadata": {
    "execution": {
     "iopub.execute_input": "2022-07-20T05:10:03.707844Z",
     "iopub.status.busy": "2022-07-20T05:10:03.707178Z",
     "iopub.status.idle": "2022-07-20T05:10:03.711839Z",
     "shell.execute_reply": "2022-07-20T05:10:03.710728Z"
    },
    "papermill": {
     "duration": 0.014861,
     "end_time": "2022-07-20T05:10:03.714418",
     "exception": false,
     "start_time": "2022-07-20T05:10:03.699557",
     "status": "completed"
    },
    "tags": []
   },
   "outputs": [],
   "source": [
    "# Metric\n",
    "f_onehalf_scorer = make_scorer(fbeta_score, beta=0.5)"
   ]
  },
  {
   "cell_type": "code",
   "execution_count": 10,
   "id": "5d531f7b",
   "metadata": {
    "execution": {
     "iopub.execute_input": "2022-07-20T05:10:03.729571Z",
     "iopub.status.busy": "2022-07-20T05:10:03.728740Z",
     "iopub.status.idle": "2022-07-20T05:10:03.748462Z",
     "shell.execute_reply": "2022-07-20T05:10:03.747307Z"
    },
    "papermill": {
     "duration": 0.030214,
     "end_time": "2022-07-20T05:10:03.751018",
     "exception": false,
     "start_time": "2022-07-20T05:10:03.720804",
     "status": "completed"
    },
    "tags": []
   },
   "outputs": [],
   "source": [
    "def plot_learning_curve(\n",
    "    estimator,\n",
    "    title,\n",
    "    X,\n",
    "    y,\n",
    "    axes=None,\n",
    "    ylim=None,\n",
    "    cv=cv,\n",
    "    n_jobs=-1,\n",
    "    train_sizes=np.linspace(0.1, 1.0, 5),\n",
    "):\n",
    "    if axes is None:\n",
    "        _, axes = plt.subplots(3, 1, figsize=(15, 15))\n",
    "\n",
    "    axes[0].set_title(title)\n",
    "    if ylim is not None:\n",
    "        axes[0].set_ylim(*ylim)\n",
    "    axes[0].set_xlabel(\"Training examples\")\n",
    "    axes[0].set_ylabel(\"Score\")\n",
    "\n",
    "    train_sizes, train_scores, test_scores, fit_times, _ = learning_curve(\n",
    "        estimator,\n",
    "        X,\n",
    "        y,\n",
    "        cv=cv,\n",
    "        n_jobs=n_jobs,\n",
    "        train_sizes=train_sizes,\n",
    "        scoring=f_onehalf_scorer,\n",
    "        return_times=True,\n",
    "        random_state=42\n",
    "    )\n",
    "    train_scores_mean = np.mean(train_scores, axis=1)\n",
    "    train_scores_std = np.std(train_scores, axis=1)\n",
    "    test_scores_mean = np.mean(test_scores, axis=1)\n",
    "    test_scores_std = np.std(test_scores, axis=1)\n",
    "    fit_times_mean = np.mean(fit_times, axis=1)\n",
    "    fit_times_std = np.std(fit_times, axis=1)\n",
    "\n",
    "    # Plot learning curve\n",
    "    axes[0].grid()\n",
    "    axes[0].fill_between(\n",
    "        train_sizes,\n",
    "        train_scores_mean - train_scores_std,\n",
    "        train_scores_mean + train_scores_std,\n",
    "        alpha=0.1,\n",
    "        color=\"r\",\n",
    "    )\n",
    "    axes[0].fill_between(\n",
    "        train_sizes,\n",
    "        test_scores_mean - test_scores_std,\n",
    "        test_scores_mean + test_scores_std,\n",
    "        alpha=0.1,\n",
    "        color=\"g\",\n",
    "    )\n",
    "    axes[0].plot(\n",
    "        train_sizes, train_scores_mean, \"o-\", color=\"r\", label=\"Training score\"\n",
    "    )\n",
    "    axes[0].plot(\n",
    "        train_sizes, test_scores_mean, \"o-\", color=\"g\", label=\"Cross-validation score\"\n",
    "    )\n",
    "    axes[0].legend(loc=\"best\")\n",
    "\n",
    "    # Plot n_samples vs fit_times\n",
    "    axes[1].grid()\n",
    "    axes[1].plot(train_sizes, fit_times_mean, \"o-\")\n",
    "    axes[1].fill_between(\n",
    "        train_sizes,\n",
    "        fit_times_mean - fit_times_std,\n",
    "        fit_times_mean + fit_times_std,\n",
    "        alpha=0.1,\n",
    "    )\n",
    "    axes[1].set_xlabel(\"Training examples\")\n",
    "    axes[1].set_ylabel(\"fit_times\")\n",
    "    axes[1].set_title(\"Scalability of the model\")\n",
    "\n",
    "    # Plot fit_time vs score\n",
    "    fit_time_argsort = fit_times_mean.argsort()\n",
    "    fit_time_sorted = fit_times_mean[fit_time_argsort]\n",
    "    test_scores_mean_sorted = test_scores_mean[fit_time_argsort]\n",
    "    test_scores_std_sorted = test_scores_std[fit_time_argsort]\n",
    "    axes[2].grid()\n",
    "    axes[2].plot(fit_time_sorted, test_scores_mean_sorted, \"o-\")\n",
    "    axes[2].fill_between(\n",
    "        fit_time_sorted,\n",
    "        test_scores_mean_sorted - test_scores_std_sorted,\n",
    "        test_scores_mean_sorted + test_scores_std_sorted,\n",
    "        alpha=0.1,\n",
    "    )\n",
    "    axes[2].set_xlabel(\"fit_times\") \n",
    "    axes[2].set_ylabel(\"Score\")\n",
    "    axes[2].set_title(\"Performance of the model\")\n",
    "\n",
    "    return plt"
   ]
  },
  {
   "cell_type": "code",
   "execution_count": 11,
   "id": "2b6e2120",
   "metadata": {
    "execution": {
     "iopub.execute_input": "2022-07-20T05:10:03.766275Z",
     "iopub.status.busy": "2022-07-20T05:10:03.765460Z",
     "iopub.status.idle": "2022-07-20T05:10:03.781493Z",
     "shell.execute_reply": "2022-07-20T05:10:03.780322Z"
    },
    "papermill": {
     "duration": 0.026635,
     "end_time": "2022-07-20T05:10:03.784131",
     "exception": false,
     "start_time": "2022-07-20T05:10:03.757496",
     "status": "completed"
    },
    "tags": []
   },
   "outputs": [],
   "source": [
    "def pooled_var(stds):\n",
    "    n = 30 # size of each group\n",
    "    return np.sqrt(sum((n-1)*(stds**2))/ len(stds)*(n-1))\n",
    "\n",
    "def plot_search_results(search):\n",
    "  df = pd.DataFrame(search.cv_results_)\n",
    "  results = ['mean_test_score',\n",
    "            'mean_train_score',\n",
    "            'std_test_score', \n",
    "            'std_train_score']\n",
    "\n",
    "  fig, axes = plt.subplots(1, len(param_grid), \n",
    "                          figsize = (7*len(param_grid), 5),\n",
    "                          sharey='row')\n",
    "  axes[0].set_ylabel(\"Score\", fontsize=25)\n",
    "\n",
    "\n",
    "  for idx, (param_name, param_range) in enumerate(param_grid.items()):\n",
    "      grouped_df = df.groupby(f'param_{param_name}')[results]\\\n",
    "          .agg({'mean_train_score': 'mean',\n",
    "                'mean_test_score': 'mean',\n",
    "                'std_train_score': 'mean',\n",
    "                'std_test_score': 'mean'})\n",
    "\n",
    "      previous_group = df.groupby(f'param_{param_name}')[results]\n",
    "      axes[idx].set_xlabel(param_name, fontsize=30)\n",
    "      axes[idx].set_ylim(0.0, 1.1)\n",
    "      lw = 2\n",
    "      axes[idx].plot(param_range, grouped_df['mean_train_score'], label=\"Training score\",\n",
    "                  color=\"darkorange\", lw=lw)\n",
    "      axes[idx].fill_between(param_range,grouped_df['mean_train_score'] - grouped_df['std_train_score'],\n",
    "                      grouped_df['mean_train_score'] + grouped_df['std_train_score'], alpha=0.2,\n",
    "                      color=\"darkorange\", lw=lw)\n",
    "      axes[idx].plot(param_range, grouped_df['mean_test_score'], label=\"Cross-validation score\",\n",
    "                  color=\"navy\", lw=lw)\n",
    "      axes[idx].fill_between(param_range, grouped_df['mean_test_score'] - grouped_df['std_test_score'],\n",
    "                      grouped_df['mean_test_score'] + grouped_df['std_test_score'], alpha=0.2,\n",
    "                      color=\"navy\", lw=lw)\n",
    "\n",
    "  handles, labels = axes[0].get_legend_handles_labels()\n",
    "  fig.suptitle('Validation curves', fontsize=40)\n",
    "  fig.legend(handles, labels, loc=8, ncol=2, fontsize=20)\n",
    "\n",
    "  fig.subplots_adjust(bottom=0.25, top=0.85)  \n",
    "  plt.show()"
   ]
  },
  {
   "cell_type": "code",
   "execution_count": 12,
   "id": "0f00d337",
   "metadata": {
    "execution": {
     "iopub.execute_input": "2022-07-20T05:10:03.798520Z",
     "iopub.status.busy": "2022-07-20T05:10:03.797855Z",
     "iopub.status.idle": "2022-07-20T05:10:03.803961Z",
     "shell.execute_reply": "2022-07-20T05:10:03.803171Z"
    },
    "papermill": {
     "duration": 0.01584,
     "end_time": "2022-07-20T05:10:03.806182",
     "exception": false,
     "start_time": "2022-07-20T05:10:03.790342",
     "status": "completed"
    },
    "tags": []
   },
   "outputs": [],
   "source": [
    "def print_result_df(search):\n",
    "  keeping_columns = ['params', 'mean_train_score', 'std_train_score', 'mean_test_score', 'std_test_score', 'mean_fit_time', 'std_fit_time']\n",
    "  df = pd.DataFrame(search.cv_results_)\n",
    "  df = df[keeping_columns].sort_values(by='mean_test_score', ascending=False)\n",
    "  return df.iloc[:10, :]"
   ]
  },
  {
   "cell_type": "code",
   "execution_count": 13,
   "id": "e9683c6b",
   "metadata": {
    "execution": {
     "iopub.execute_input": "2022-07-20T05:10:03.820337Z",
     "iopub.status.busy": "2022-07-20T05:10:03.819660Z",
     "iopub.status.idle": "2022-07-20T05:10:03.831188Z",
     "shell.execute_reply": "2022-07-20T05:10:03.830254Z"
    },
    "papermill": {
     "duration": 0.021458,
     "end_time": "2022-07-20T05:10:03.833655",
     "exception": false,
     "start_time": "2022-07-20T05:10:03.812197",
     "status": "completed"
    },
    "tags": []
   },
   "outputs": [],
   "source": [
    "def print_best_model_result(search, name):\n",
    "  print(\"Best parameter (CV score=):\" % search.best_score_)\n",
    "  best_model = search.best_estimator_\n",
    "  print(best_model)\n",
    "\n",
    "  y_pred = best_model.predict(X_test)\n",
    "\n",
    "  print(classification_report(y_test, y_pred))\n",
    "  print(confusion_matrix(y_test, y_pred))\n",
    "  \n",
    "  f_onehalf_score = fbeta_score(y_test, y_pred, beta=0.5)\n",
    "  print('f0.5_score=', f_onehalf_score)\n",
    "\n",
    "  try :\n",
    "    y_score = best_model.predict_proba(X_test)[:, 1]\n",
    "    # calculate precision and recall for each threshold\n",
    "    precision, recall, threshold = precision_recall_curve(y_test, y_score)\n",
    "    # calculate scores\n",
    "    pr_auc = auc(recall, precision)\n",
    "    print('pr_auc_score=', pr_auc)\n",
    "\n",
    "    # calculate the no skill line as the proportion of the positive class\n",
    "    no_skill = len(y_test[y_test==1]) / len(y_test)\n",
    "    # plot the no skill precision-recall curve\n",
    "    plt.figure(figsize=(10, 7))\n",
    "    plt.plot([0, 1], [no_skill, no_skill], linestyle='--', label='No Skill')\n",
    "    # plot the model precision-recall curve\n",
    "    plt.plot(recall, precision, marker='.', label=name)\n",
    "    plt.title(f'{name}(pr_auc={pr_auc})')\n",
    "    plt.xlabel('Recall')\n",
    "    plt.ylabel('Precision')\n",
    "    # show the legend\n",
    "    plt.legend()\n",
    "    # show the plot\n",
    "    plt.show()\n",
    "  except:\n",
    "    pass\n",
    "\n",
    "  plot_learning_curve(best_model, name, X_train, y_train, cv=cv, n_jobs=-1 )\n",
    "  plt.show()\n",
    "\n",
    "  return best_model"
   ]
  },
  {
   "cell_type": "code",
   "execution_count": 14,
   "id": "20fdb30a",
   "metadata": {
    "execution": {
     "iopub.execute_input": "2022-07-20T05:10:03.848133Z",
     "iopub.status.busy": "2022-07-20T05:10:03.847481Z",
     "iopub.status.idle": "2022-07-20T05:10:03.854505Z",
     "shell.execute_reply": "2022-07-20T05:10:03.852784Z"
    },
    "papermill": {
     "duration": 0.017306,
     "end_time": "2022-07-20T05:10:03.857089",
     "exception": false,
     "start_time": "2022-07-20T05:10:03.839783",
     "status": "completed"
    },
    "tags": []
   },
   "outputs": [
    {
     "name": "stdout",
     "output_type": "stream",
     "text": [
      "MinMaxScaler Smote MLP\n"
     ]
    }
   ],
   "source": [
    "pipe = Pipeline(steps=[minmax_scaler, smote, mlp])\n",
    "print(\"MinMaxScaler Smote MLP\")"
   ]
  },
  {
   "cell_type": "code",
   "execution_count": 15,
   "id": "2bb89a2c",
   "metadata": {
    "execution": {
     "iopub.execute_input": "2022-07-20T05:10:03.871743Z",
     "iopub.status.busy": "2022-07-20T05:10:03.870968Z",
     "iopub.status.idle": "2022-07-20T05:10:03.875642Z",
     "shell.execute_reply": "2022-07-20T05:10:03.874741Z"
    },
    "papermill": {
     "duration": 0.014552,
     "end_time": "2022-07-20T05:10:03.877940",
     "exception": false,
     "start_time": "2022-07-20T05:10:03.863388",
     "status": "completed"
    },
    "tags": []
   },
   "outputs": [],
   "source": [
    "#param_grid = {**smote_param_grid, **mlp_param_grid}\n",
    "param_grid = {}"
   ]
  },
  {
   "cell_type": "code",
   "execution_count": 16,
   "id": "703c6f8c",
   "metadata": {
    "execution": {
     "iopub.execute_input": "2022-07-20T05:10:03.892965Z",
     "iopub.status.busy": "2022-07-20T05:10:03.892208Z",
     "iopub.status.idle": "2022-07-20T05:10:03.896950Z",
     "shell.execute_reply": "2022-07-20T05:10:03.896197Z"
    },
    "papermill": {
     "duration": 0.01455,
     "end_time": "2022-07-20T05:10:03.899088",
     "exception": false,
     "start_time": "2022-07-20T05:10:03.884538",
     "status": "completed"
    },
    "tags": []
   },
   "outputs": [],
   "source": [
    "search = HalvingGridSearchCV(pipe, param_grid, scoring=f_onehalf_scorer, cv=cv, verbose=3, return_train_score=True)"
   ]
  },
  {
   "cell_type": "code",
   "execution_count": 17,
   "id": "7f0fd0e7",
   "metadata": {
    "execution": {
     "iopub.execute_input": "2022-07-20T05:10:03.914199Z",
     "iopub.status.busy": "2022-07-20T05:10:03.913481Z",
     "iopub.status.idle": "2022-07-20T08:47:00.283686Z",
     "shell.execute_reply": "2022-07-20T08:47:00.279683Z"
    },
    "papermill": {
     "duration": 13016.394426,
     "end_time": "2022-07-20T08:47:00.300103",
     "exception": false,
     "start_time": "2022-07-20T05:10:03.905677",
     "status": "completed"
    },
    "tags": []
   },
   "outputs": [
    {
     "name": "stdout",
     "output_type": "stream",
     "text": [
      "n_iterations: 1\n",
      "n_required_iterations: 1\n",
      "n_possible_iterations: 1\n",
      "min_resources_: 1074704\n",
      "max_resources_: 1074704\n",
      "aggressive_elimination: False\n",
      "factor: 3\n",
      "----------\n",
      "iter: 0\n",
      "n_candidates: 1\n",
      "n_resources: 1074704\n",
      "Fitting 5 folds for each of 1 candidates, totalling 5 fits\n"
     ]
    },
    {
     "name": "stderr",
     "output_type": "stream",
     "text": [
      "/opt/conda/lib/python3.7/site-packages/sklearn/neural_network/_multilayer_perceptron.py:696: ConvergenceWarning: Stochastic Optimizer: Maximum iterations (100) reached and the optimization hasn't converged yet.\n",
      "  ConvergenceWarning,\n"
     ]
    },
    {
     "name": "stdout",
     "output_type": "stream",
     "text": [
      "[CV 1/5] END ..............., score=(train=0.937, test=0.936) total time=34.2min\n"
     ]
    },
    {
     "name": "stderr",
     "output_type": "stream",
     "text": [
      "/opt/conda/lib/python3.7/site-packages/sklearn/neural_network/_multilayer_perceptron.py:696: ConvergenceWarning: Stochastic Optimizer: Maximum iterations (100) reached and the optimization hasn't converged yet.\n",
      "  ConvergenceWarning,\n"
     ]
    },
    {
     "name": "stdout",
     "output_type": "stream",
     "text": [
      "[CV 2/5] END ..............., score=(train=0.937, test=0.935) total time=33.5min\n"
     ]
    },
    {
     "name": "stderr",
     "output_type": "stream",
     "text": [
      "/opt/conda/lib/python3.7/site-packages/sklearn/neural_network/_multilayer_perceptron.py:696: ConvergenceWarning: Stochastic Optimizer: Maximum iterations (100) reached and the optimization hasn't converged yet.\n",
      "  ConvergenceWarning,\n"
     ]
    },
    {
     "name": "stdout",
     "output_type": "stream",
     "text": [
      "[CV 3/5] END ..............., score=(train=0.937, test=0.936) total time=33.7min\n"
     ]
    },
    {
     "name": "stderr",
     "output_type": "stream",
     "text": [
      "/opt/conda/lib/python3.7/site-packages/sklearn/neural_network/_multilayer_perceptron.py:696: ConvergenceWarning: Stochastic Optimizer: Maximum iterations (100) reached and the optimization hasn't converged yet.\n",
      "  ConvergenceWarning,\n"
     ]
    },
    {
     "name": "stdout",
     "output_type": "stream",
     "text": [
      "[CV 4/5] END ..............., score=(train=0.937, test=0.935) total time=34.7min\n"
     ]
    },
    {
     "name": "stderr",
     "output_type": "stream",
     "text": [
      "/opt/conda/lib/python3.7/site-packages/sklearn/neural_network/_multilayer_perceptron.py:696: ConvergenceWarning: Stochastic Optimizer: Maximum iterations (100) reached and the optimization hasn't converged yet.\n",
      "  ConvergenceWarning,\n"
     ]
    },
    {
     "name": "stdout",
     "output_type": "stream",
     "text": [
      "[CV 5/5] END ..............., score=(train=0.937, test=0.935) total time=33.1min\n"
     ]
    },
    {
     "name": "stderr",
     "output_type": "stream",
     "text": [
      "/opt/conda/lib/python3.7/site-packages/sklearn/neural_network/_multilayer_perceptron.py:696: ConvergenceWarning: Stochastic Optimizer: Maximum iterations (100) reached and the optimization hasn't converged yet.\n",
      "  ConvergenceWarning,\n"
     ]
    },
    {
     "data": {
      "text/plain": [
       "HalvingGridSearchCV(cv=RepeatedStratifiedKFold(n_repeats=1, n_splits=5, random_state=42),\n",
       "                    estimator=Pipeline(steps=[('minmax', MinMaxScaler()),\n",
       "                                              ('smote',\n",
       "                                               SMOTE(random_state=42,\n",
       "                                                     sampling_strategy=1.0)),\n",
       "                                              ('mlp',\n",
       "                                               MLPClassifier(activation='logistic',\n",
       "                                                             early_stopping=True,\n",
       "                                                             max_iter=100,\n",
       "                                                             n_iter_no_change=20,\n",
       "                                                             random_state=42))]),\n",
       "                    param_grid={}, scoring=make_scorer(fbeta_score, beta=0.5),\n",
       "                    verbose=3)"
      ]
     },
     "execution_count": 17,
     "metadata": {},
     "output_type": "execute_result"
    }
   ],
   "source": [
    "search.fit(X_train, y_train)"
   ]
  },
  {
   "cell_type": "code",
   "execution_count": 18,
   "id": "0a792817",
   "metadata": {
    "execution": {
     "iopub.execute_input": "2022-07-20T08:47:00.321663Z",
     "iopub.status.busy": "2022-07-20T08:47:00.320870Z",
     "iopub.status.idle": "2022-07-20T08:47:00.380644Z",
     "shell.execute_reply": "2022-07-20T08:47:00.379204Z"
    },
    "papermill": {
     "duration": 0.075504,
     "end_time": "2022-07-20T08:47:00.383756",
     "exception": false,
     "start_time": "2022-07-20T08:47:00.308252",
     "status": "completed"
    },
    "tags": []
   },
   "outputs": [
    {
     "data": {
      "text/html": [
       "<div>\n",
       "<style scoped>\n",
       "    .dataframe tbody tr th:only-of-type {\n",
       "        vertical-align: middle;\n",
       "    }\n",
       "\n",
       "    .dataframe tbody tr th {\n",
       "        vertical-align: top;\n",
       "    }\n",
       "\n",
       "    .dataframe thead th {\n",
       "        text-align: right;\n",
       "    }\n",
       "</style>\n",
       "<table border=\"1\" class=\"dataframe\">\n",
       "  <thead>\n",
       "    <tr style=\"text-align: right;\">\n",
       "      <th></th>\n",
       "      <th>params</th>\n",
       "      <th>mean_train_score</th>\n",
       "      <th>std_train_score</th>\n",
       "      <th>mean_test_score</th>\n",
       "      <th>std_test_score</th>\n",
       "      <th>mean_fit_time</th>\n",
       "      <th>std_fit_time</th>\n",
       "    </tr>\n",
       "  </thead>\n",
       "  <tbody>\n",
       "    <tr>\n",
       "      <th>0</th>\n",
       "      <td>{}</td>\n",
       "      <td>0.93672</td>\n",
       "      <td>0.000185</td>\n",
       "      <td>0.935511</td>\n",
       "      <td>0.000599</td>\n",
       "      <td>2029.161879</td>\n",
       "      <td>32.893923</td>\n",
       "    </tr>\n",
       "  </tbody>\n",
       "</table>\n",
       "</div>"
      ],
      "text/plain": [
       "  params  mean_train_score  std_train_score  mean_test_score  std_test_score  \\\n",
       "0     {}           0.93672         0.000185         0.935511        0.000599   \n",
       "\n",
       "   mean_fit_time  std_fit_time  \n",
       "0    2029.161879     32.893923  "
      ]
     },
     "execution_count": 18,
     "metadata": {},
     "output_type": "execute_result"
    }
   ],
   "source": [
    "print_result_df(search)"
   ]
  },
  {
   "cell_type": "code",
   "execution_count": 19,
   "id": "2c970322",
   "metadata": {
    "execution": {
     "iopub.execute_input": "2022-07-20T08:47:00.401476Z",
     "iopub.status.busy": "2022-07-20T08:47:00.401042Z",
     "iopub.status.idle": "2022-07-20T08:47:00.407329Z",
     "shell.execute_reply": "2022-07-20T08:47:00.406327Z"
    },
    "papermill": {
     "duration": 0.017906,
     "end_time": "2022-07-20T08:47:00.409835",
     "exception": false,
     "start_time": "2022-07-20T08:47:00.391929",
     "status": "completed"
    },
    "tags": []
   },
   "outputs": [],
   "source": [
    "#plot_search_results(search)"
   ]
  },
  {
   "cell_type": "code",
   "execution_count": 20,
   "id": "7a73cfe2",
   "metadata": {
    "execution": {
     "iopub.execute_input": "2022-07-20T08:47:00.427186Z",
     "iopub.status.busy": "2022-07-20T08:47:00.426775Z",
     "iopub.status.idle": "2022-07-20T08:48:39.848191Z",
     "shell.execute_reply": "2022-07-20T08:48:39.845516Z"
    },
    "papermill": {
     "duration": 99.433504,
     "end_time": "2022-07-20T08:48:39.851096",
     "exception": true,
     "start_time": "2022-07-20T08:47:00.417592",
     "status": "failed"
    },
    "tags": []
   },
   "outputs": [
    {
     "name": "stdout",
     "output_type": "stream",
     "text": [
      "Best parameter (CV score=):\n",
      "Pipeline(steps=[('minmax', MinMaxScaler()),\n",
      "                ('smote', SMOTE(random_state=42, sampling_strategy=1.0)),\n",
      "                ('mlp',\n",
      "                 MLPClassifier(activation='logistic', early_stopping=True,\n",
      "                               max_iter=100, n_iter_no_change=20,\n",
      "                               random_state=42))])\n",
      "              precision    recall  f1-score   support\n",
      "\n",
      "           0       0.57      0.88      0.69     53638\n",
      "           1       0.97      0.83      0.89    215038\n",
      "\n",
      "    accuracy                           0.84    268676\n",
      "   macro avg       0.77      0.86      0.79    268676\n",
      "weighted avg       0.89      0.84      0.85    268676\n",
      "\n",
      "[[ 47194   6444]\n",
      " [ 35789 179249]]\n",
      "f0.5_score= 0.9357231601257033\n",
      "pr_auc_score= 0.9840721628730936\n"
     ]
    },
    {
     "data": {
      "image/png": "[encoded data removed]",
      "text/plain": [
       "<Figure size 720x504 with 1 Axes>"
      ]
     },
     "metadata": {
      "needs_background": "light"
     },
     "output_type": "display_data"
    },
    {
     "ename": "TerminatedWorkerError",
     "evalue": "A worker process managed by the executor was unexpectedly terminated. This could be caused by a segmentation fault while calling the function or by an excessive memory usage causing the Operating System to kill the worker.\n\nThe exit codes of the workers are {SIGKILL(-9)}",
     "output_type": "error",
     "traceback": [
      "\u001b[0;31m---------------------------------------------------------------------------\u001b[0m",
      "\u001b[0;31mTerminatedWorkerError\u001b[0m                     Traceback (most recent call last)",
      "\u001b[0;32m/tmp/ipykernel_19/2815559639.py\u001b[0m in \u001b[0;36m<module>\u001b[0;34m\u001b[0m\n\u001b[0;32m----> 1\u001b[0;31m \u001b[0mprint_best_model_result\u001b[0m\u001b[0;34m(\u001b[0m\u001b[0msearch\u001b[0m\u001b[0;34m,\u001b[0m \u001b[0;34m'MinMaxScaler Smote MLP'\u001b[0m\u001b[0;34m)\u001b[0m\u001b[0;34m\u001b[0m\u001b[0;34m\u001b[0m\u001b[0m\n\u001b[0m",
      "\u001b[0;32m/tmp/ipykernel_19/4171691297.py\u001b[0m in \u001b[0;36mprint_best_model_result\u001b[0;34m(search, name)\u001b[0m\n\u001b[1;32m     37\u001b[0m     \u001b[0;32mpass\u001b[0m\u001b[0;34m\u001b[0m\u001b[0;34m\u001b[0m\u001b[0m\n\u001b[1;32m     38\u001b[0m \u001b[0;34m\u001b[0m\u001b[0m\n\u001b[0;32m---> 39\u001b[0;31m   \u001b[0mplot_learning_curve\u001b[0m\u001b[0;34m(\u001b[0m\u001b[0mbest_model\u001b[0m\u001b[0;34m,\u001b[0m \u001b[0mname\u001b[0m\u001b[0;34m,\u001b[0m \u001b[0mX_train\u001b[0m\u001b[0;34m,\u001b[0m \u001b[0my_train\u001b[0m\u001b[0;34m,\u001b[0m \u001b[0mcv\u001b[0m\u001b[0;34m=\u001b[0m\u001b[0mcv\u001b[0m\u001b[0;34m,\u001b[0m \u001b[0mn_jobs\u001b[0m\u001b[0;34m=\u001b[0m\u001b[0;34m-\u001b[0m\u001b[0;36m1\u001b[0m \u001b[0;34m)\u001b[0m\u001b[0;34m\u001b[0m\u001b[0;34m\u001b[0m\u001b[0m\n\u001b[0m\u001b[1;32m     40\u001b[0m   \u001b[0mplt\u001b[0m\u001b[0;34m.\u001b[0m\u001b[0mshow\u001b[0m\u001b[0;34m(\u001b[0m\u001b[0;34m)\u001b[0m\u001b[0;34m\u001b[0m\u001b[0;34m\u001b[0m\u001b[0m\n\u001b[1;32m     41\u001b[0m \u001b[0;34m\u001b[0m\u001b[0m\n",
      "\u001b[0;32m/tmp/ipykernel_19/2042492052.py\u001b[0m in \u001b[0;36mplot_learning_curve\u001b[0;34m(estimator, title, X, y, axes, ylim, cv, n_jobs, train_sizes)\u001b[0m\n\u001b[1;32m     28\u001b[0m         \u001b[0mscoring\u001b[0m\u001b[0;34m=\u001b[0m\u001b[0mf_onehalf_scorer\u001b[0m\u001b[0;34m,\u001b[0m\u001b[0;34m\u001b[0m\u001b[0;34m\u001b[0m\u001b[0m\n\u001b[1;32m     29\u001b[0m         \u001b[0mreturn_times\u001b[0m\u001b[0;34m=\u001b[0m\u001b[0;32mTrue\u001b[0m\u001b[0;34m,\u001b[0m\u001b[0;34m\u001b[0m\u001b[0;34m\u001b[0m\u001b[0m\n\u001b[0;32m---> 30\u001b[0;31m         \u001b[0mrandom_state\u001b[0m\u001b[0;34m=\u001b[0m\u001b[0;36m42\u001b[0m\u001b[0;34m\u001b[0m\u001b[0;34m\u001b[0m\u001b[0m\n\u001b[0m\u001b[1;32m     31\u001b[0m     )\n\u001b[1;32m     32\u001b[0m     \u001b[0mtrain_scores_mean\u001b[0m \u001b[0;34m=\u001b[0m \u001b[0mnp\u001b[0m\u001b[0;34m.\u001b[0m\u001b[0mmean\u001b[0m\u001b[0;34m(\u001b[0m\u001b[0mtrain_scores\u001b[0m\u001b[0;34m,\u001b[0m \u001b[0maxis\u001b[0m\u001b[0;34m=\u001b[0m\u001b[0;36m1\u001b[0m\u001b[0;34m)\u001b[0m\u001b[0;34m\u001b[0m\u001b[0;34m\u001b[0m\u001b[0m\n",
      "\u001b[0;32m/opt/conda/lib/python3.7/site-packages/sklearn/model_selection/_validation.py\u001b[0m in \u001b[0;36mlearning_curve\u001b[0;34m(estimator, X, y, groups, train_sizes, cv, scoring, exploit_incremental_learning, n_jobs, pre_dispatch, verbose, shuffle, random_state, error_score, return_times, fit_params)\u001b[0m\n\u001b[1;32m   1566\u001b[0m                 \u001b[0mreturn_times\u001b[0m\u001b[0;34m=\u001b[0m\u001b[0mreturn_times\u001b[0m\u001b[0;34m,\u001b[0m\u001b[0;34m\u001b[0m\u001b[0;34m\u001b[0m\u001b[0m\n\u001b[1;32m   1567\u001b[0m             )\n\u001b[0;32m-> 1568\u001b[0;31m             \u001b[0;32mfor\u001b[0m \u001b[0mtrain\u001b[0m\u001b[0;34m,\u001b[0m \u001b[0mtest\u001b[0m \u001b[0;32min\u001b[0m \u001b[0mtrain_test_proportions\u001b[0m\u001b[0;34m\u001b[0m\u001b[0;34m\u001b[0m\u001b[0m\n\u001b[0m\u001b[1;32m   1569\u001b[0m         )\n\u001b[1;32m   1570\u001b[0m         \u001b[0mresults\u001b[0m \u001b[0;34m=\u001b[0m \u001b[0m_aggregate_score_dicts\u001b[0m\u001b[0;34m(\u001b[0m\u001b[0mresults\u001b[0m\u001b[0;34m)\u001b[0m\u001b[0;34m\u001b[0m\u001b[0;34m\u001b[0m\u001b[0m\n",
      "\u001b[0;32m/opt/conda/lib/python3.7/site-packages/joblib/parallel.py\u001b[0m in \u001b[0;36m__call__\u001b[0;34m(self, iterable)\u001b[0m\n\u001b[1;32m   1054\u001b[0m \u001b[0;34m\u001b[0m\u001b[0m\n\u001b[1;32m   1055\u001b[0m             \u001b[0;32mwith\u001b[0m \u001b[0mself\u001b[0m\u001b[0;34m.\u001b[0m\u001b[0m_backend\u001b[0m\u001b[0;34m.\u001b[0m\u001b[0mretrieval_context\u001b[0m\u001b[0;34m(\u001b[0m\u001b[0;34m)\u001b[0m\u001b[0;34m:\u001b[0m\u001b[0;34m\u001b[0m\u001b[0;34m\u001b[0m\u001b[0m\n\u001b[0;32m-> 1056\u001b[0;31m                 \u001b[0mself\u001b[0m\u001b[0;34m.\u001b[0m\u001b[0mretrieve\u001b[0m\u001b[0;34m(\u001b[0m\u001b[0;34m)\u001b[0m\u001b[0;34m\u001b[0m\u001b[0;34m\u001b[0m\u001b[0m\n\u001b[0m\u001b[1;32m   1057\u001b[0m             \u001b[0;31m# Make sure that we get a last message telling us we are done\u001b[0m\u001b[0;34m\u001b[0m\u001b[0;34m\u001b[0m\u001b[0;34m\u001b[0m\u001b[0m\n\u001b[1;32m   1058\u001b[0m             \u001b[0melapsed_time\u001b[0m \u001b[0;34m=\u001b[0m \u001b[0mtime\u001b[0m\u001b[0;34m.\u001b[0m\u001b[0mtime\u001b[0m\u001b[0;34m(\u001b[0m\u001b[0;34m)\u001b[0m \u001b[0;34m-\u001b[0m \u001b[0mself\u001b[0m\u001b[0;34m.\u001b[0m\u001b[0m_start_time\u001b[0m\u001b[0;34m\u001b[0m\u001b[0;34m\u001b[0m\u001b[0m\n",
      "\u001b[0;32m/opt/conda/lib/python3.7/site-packages/joblib/parallel.py\u001b[0m in \u001b[0;36mretrieve\u001b[0;34m(self)\u001b[0m\n\u001b[1;32m    933\u001b[0m             \u001b[0;32mtry\u001b[0m\u001b[0;34m:\u001b[0m\u001b[0;34m\u001b[0m\u001b[0;34m\u001b[0m\u001b[0m\n\u001b[1;32m    934\u001b[0m                 \u001b[0;32mif\u001b[0m \u001b[0mgetattr\u001b[0m\u001b[0;34m(\u001b[0m\u001b[0mself\u001b[0m\u001b[0;34m.\u001b[0m\u001b[0m_backend\u001b[0m\u001b[0;34m,\u001b[0m \u001b[0;34m'supports_timeout'\u001b[0m\u001b[0;34m,\u001b[0m \u001b[0;32mFalse\u001b[0m\u001b[0;34m)\u001b[0m\u001b[0;34m:\u001b[0m\u001b[0;34m\u001b[0m\u001b[0;34m\u001b[0m\u001b[0m\n\u001b[0;32m--> 935\u001b[0;31m                     \u001b[0mself\u001b[0m\u001b[0;34m.\u001b[0m\u001b[0m_output\u001b[0m\u001b[0;34m.\u001b[0m\u001b[0mextend\u001b[0m\u001b[0;34m(\u001b[0m\u001b[0mjob\u001b[0m\u001b[0;34m.\u001b[0m\u001b[0mget\u001b[0m\u001b[0;34m(\u001b[0m\u001b[0mtimeout\u001b[0m\u001b[0;34m=\u001b[0m\u001b[0mself\u001b[0m\u001b[0;34m.\u001b[0m\u001b[0mtimeout\u001b[0m\u001b[0;34m)\u001b[0m\u001b[0;34m)\u001b[0m\u001b[0;34m\u001b[0m\u001b[0;34m\u001b[0m\u001b[0m\n\u001b[0m\u001b[1;32m    936\u001b[0m                 \u001b[0;32melse\u001b[0m\u001b[0;34m:\u001b[0m\u001b[0;34m\u001b[0m\u001b[0;34m\u001b[0m\u001b[0m\n\u001b[1;32m    937\u001b[0m                     \u001b[0mself\u001b[0m\u001b[0;34m.\u001b[0m\u001b[0m_output\u001b[0m\u001b[0;34m.\u001b[0m\u001b[0mextend\u001b[0m\u001b[0;34m(\u001b[0m\u001b[0mjob\u001b[0m\u001b[0;34m.\u001b[0m\u001b[0mget\u001b[0m\u001b[0;34m(\u001b[0m\u001b[0;34m)\u001b[0m\u001b[0;34m)\u001b[0m\u001b[0;34m\u001b[0m\u001b[0;34m\u001b[0m\u001b[0m\n",
      "\u001b[0;32m/opt/conda/lib/python3.7/site-packages/joblib/_parallel_backends.py\u001b[0m in \u001b[0;36mwrap_future_result\u001b[0;34m(future, timeout)\u001b[0m\n\u001b[1;32m    540\u001b[0m         AsyncResults.get from multiprocessing.\"\"\"\n\u001b[1;32m    541\u001b[0m         \u001b[0;32mtry\u001b[0m\u001b[0;34m:\u001b[0m\u001b[0;34m\u001b[0m\u001b[0;34m\u001b[0m\u001b[0m\n\u001b[0;32m--> 542\u001b[0;31m             \u001b[0;32mreturn\u001b[0m \u001b[0mfuture\u001b[0m\u001b[0;34m.\u001b[0m\u001b[0mresult\u001b[0m\u001b[0;34m(\u001b[0m\u001b[0mtimeout\u001b[0m\u001b[0;34m=\u001b[0m\u001b[0mtimeout\u001b[0m\u001b[0;34m)\u001b[0m\u001b[0;34m\u001b[0m\u001b[0;34m\u001b[0m\u001b[0m\n\u001b[0m\u001b[1;32m    543\u001b[0m         \u001b[0;32mexcept\u001b[0m \u001b[0mCfTimeoutError\u001b[0m \u001b[0;32mas\u001b[0m \u001b[0me\u001b[0m\u001b[0;34m:\u001b[0m\u001b[0;34m\u001b[0m\u001b[0;34m\u001b[0m\u001b[0m\n\u001b[1;32m    544\u001b[0m             \u001b[0;32mraise\u001b[0m \u001b[0mTimeoutError\u001b[0m \u001b[0;32mfrom\u001b[0m \u001b[0me\u001b[0m\u001b[0;34m\u001b[0m\u001b[0;34m\u001b[0m\u001b[0m\n",
      "\u001b[0;32m/opt/conda/lib/python3.7/concurrent/futures/_base.py\u001b[0m in \u001b[0;36mresult\u001b[0;34m(self, timeout)\u001b[0m\n\u001b[1;32m    433\u001b[0m                 \u001b[0;32mraise\u001b[0m \u001b[0mCancelledError\u001b[0m\u001b[0;34m(\u001b[0m\u001b[0;34m)\u001b[0m\u001b[0;34m\u001b[0m\u001b[0;34m\u001b[0m\u001b[0m\n\u001b[1;32m    434\u001b[0m             \u001b[0;32melif\u001b[0m \u001b[0mself\u001b[0m\u001b[0;34m.\u001b[0m\u001b[0m_state\u001b[0m \u001b[0;34m==\u001b[0m \u001b[0mFINISHED\u001b[0m\u001b[0;34m:\u001b[0m\u001b[0;34m\u001b[0m\u001b[0;34m\u001b[0m\u001b[0m\n\u001b[0;32m--> 435\u001b[0;31m                 \u001b[0;32mreturn\u001b[0m \u001b[0mself\u001b[0m\u001b[0;34m.\u001b[0m\u001b[0m__get_result\u001b[0m\u001b[0;34m(\u001b[0m\u001b[0;34m)\u001b[0m\u001b[0;34m\u001b[0m\u001b[0;34m\u001b[0m\u001b[0m\n\u001b[0m\u001b[1;32m    436\u001b[0m             \u001b[0;32melse\u001b[0m\u001b[0;34m:\u001b[0m\u001b[0;34m\u001b[0m\u001b[0;34m\u001b[0m\u001b[0m\n\u001b[1;32m    437\u001b[0m                 \u001b[0;32mraise\u001b[0m \u001b[0mTimeoutError\u001b[0m\u001b[0;34m(\u001b[0m\u001b[0;34m)\u001b[0m\u001b[0;34m\u001b[0m\u001b[0;34m\u001b[0m\u001b[0m\n",
      "\u001b[0;32m/opt/conda/lib/python3.7/concurrent/futures/_base.py\u001b[0m in \u001b[0;36m__get_result\u001b[0;34m(self)\u001b[0m\n\u001b[1;32m    382\u001b[0m     \u001b[0;32mdef\u001b[0m \u001b[0m__get_result\u001b[0m\u001b[0;34m(\u001b[0m\u001b[0mself\u001b[0m\u001b[0;34m)\u001b[0m\u001b[0;34m:\u001b[0m\u001b[0;34m\u001b[0m\u001b[0;34m\u001b[0m\u001b[0m\n\u001b[1;32m    383\u001b[0m         \u001b[0;32mif\u001b[0m \u001b[0mself\u001b[0m\u001b[0;34m.\u001b[0m\u001b[0m_exception\u001b[0m\u001b[0;34m:\u001b[0m\u001b[0;34m\u001b[0m\u001b[0;34m\u001b[0m\u001b[0m\n\u001b[0;32m--> 384\u001b[0;31m             \u001b[0;32mraise\u001b[0m \u001b[0mself\u001b[0m\u001b[0;34m.\u001b[0m\u001b[0m_exception\u001b[0m\u001b[0;34m\u001b[0m\u001b[0;34m\u001b[0m\u001b[0m\n\u001b[0m\u001b[1;32m    385\u001b[0m         \u001b[0;32melse\u001b[0m\u001b[0;34m:\u001b[0m\u001b[0;34m\u001b[0m\u001b[0;34m\u001b[0m\u001b[0m\n\u001b[1;32m    386\u001b[0m             \u001b[0;32mreturn\u001b[0m \u001b[0mself\u001b[0m\u001b[0;34m.\u001b[0m\u001b[0m_result\u001b[0m\u001b[0;34m\u001b[0m\u001b[0;34m\u001b[0m\u001b[0m\n",
      "\u001b[0;31mTerminatedWorkerError\u001b[0m: A worker process managed by the executor was unexpectedly terminated. This could be caused by a segmentation fault while calling the function or by an excessive memory usage causing the Operating System to kill the worker.\n\nThe exit codes of the workers are {SIGKILL(-9)}"
     ]
    },
    {
     "data": {
      "image/png": "[encoded data removed]",
      "text/plain": [
       "<Figure size 1080x1080 with 3 Axes>"
      ]
     },
     "metadata": {
      "needs_background": "light"
     },
     "output_type": "display_data"
    }
   ],
   "source": [
    "print_best_model_result(search, 'MinMaxScaler Smote MLP')"
   ]
  }
 ],
 "metadata": {
  "kernelspec": {
   "display_name": "Python 3.8.10 64-bit",
   "language": "python",
   "name": "python3"
  },
  "language_info": {
   "codemirror_mode": {
    "name": "ipython",
    "version": 3
   },
   "file_extension": ".py",
   "mimetype": "text/x-python",
   "name": "python",
   "nbconvert_exporter": "python",
   "pygments_lexer": "ipython3",
   "version": "3.8.10"
  },
  "papermill": {
   "default_parameters": {},
   "duration": 13148.124196,
   "end_time": "2022-07-20T08:48:42.620901",
   "environment_variables": {},
   "exception": true,
   "input_path": "__notebook__.ipynb",
   "output_path": "__notebook__.ipynb",
   "parameters": {},
   "start_time": "2022-07-20T05:09:34.496705",
   "version": "2.3.4"
  },
  "vscode": {
   "interpreter": {
    "hash": "8384712f827c73b71ec1d871aaffaaf3604c18a78a335b5adcc2028fc4cb4b02"
   }
  }
 },
 "nbformat": 4,
 "nbformat_minor": 5
}
