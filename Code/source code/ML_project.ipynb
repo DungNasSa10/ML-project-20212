{
  "nbformat": 4,
  "nbformat_minor": 0,
  "metadata": {
    "colab": {
      "name": "ML project.ipynb",
      "provenance": [],
      "collapsed_sections": []
    },
    "kernelspec": {
      "name": "python3",
      "display_name": "Python 3"
    },
    "language_info": {
      "name": "python"
    }
  },
  "cells": [
    {
      "cell_type": "code",
      "execution_count": 1,
      "metadata": {
        "colab": {
          "base_uri": "https://localhost:8080/"
        },
        "id": "Tn8N5UZfQ_V8",
        "outputId": "591f8541-56dc-4d04-cc54-2bd7f0c3a713"
      },
      "outputs": [
        {
          "output_type": "stream",
          "name": "stdout",
          "text": [
            "Mounted at /content/drive\n"
          ]
        }
      ],
      "source": [
        "from google.colab import drive\n",
        "drive.mount('/content/drive')"
      ]
    },
    {
      "cell_type": "code",
      "source": [
        "import pandas as pd\n",
        "import numpy as np\n",
        "import matplotlib.pyplot as plt\n",
        "import seaborn as sns\n",
        "\n",
        "from sklearn.model_selection import train_test_split, RandomizedSearchCV\n",
        "from sklearn.preprocessing import MinMaxScaler\n",
        "from sklearn.metrics import (\n",
        "    accuracy_score, confusion_matrix, classification_report, \n",
        "    roc_auc_score, roc_curve, auc,\n",
        "    plot_confusion_matrix, plot_roc_curve\n",
        ")\n",
        "\n",
        "import tensorflow as tf\n",
        "from tensorflow.keras.models import Sequential\n",
        "from tensorflow.keras.layers import Dense, Dropout"
      ],
      "metadata": {
        "id": "3bxG5eyT4LV4"
      },
      "execution_count": 1,
      "outputs": []
    },
    {
      "cell_type": "markdown",
      "source": [
        "# Importing data"
      ],
      "metadata": {
        "id": "EZryqiw__XPw"
      }
    },
    {
      "cell_type": "code",
      "source": [
        "accepted_loans = pd.read_csv('/content/drive/MyDrive/Lending Club Data/accepted_2007_to_2018q4.csv/accepted_2007_to_2018Q4.csv')"
      ],
      "metadata": {
        "id": "RZtjdBPg6DFl",
        "colab": {
          "base_uri": "https://localhost:8080/"
        },
        "outputId": "fba9c691-f543-4f38-e3f4-1a002bfa8aa1"
      },
      "execution_count": 2,
      "outputs": [
        {
          "output_type": "stream",
          "name": "stderr",
          "text": [
            "/usr/local/lib/python3.7/dist-packages/IPython/core/interactiveshell.py:2882: DtypeWarning: Columns (0,19,49,59,118,129,130,131,134,135,136,139,145,146,147) have mixed types.Specify dtype option on import or set low_memory=False.\n",
            "  exec(code_obj, self.user_global_ns, self.user_ns)\n"
          ]
        }
      ]
    },
    {
      "cell_type": "code",
      "source": [
        "accepted_loans.info()"
      ],
      "metadata": {
        "colab": {
          "base_uri": "https://localhost:8080/"
        },
        "id": "BHUyxaoe-fjC",
        "outputId": "9c7b5c83-8c64-48ae-c02a-0ff5b3bf3590"
      },
      "execution_count": null,
      "outputs": [
        {
          "output_type": "stream",
          "name": "stdout",
          "text": [
            "<class 'pandas.core.frame.DataFrame'>\n",
            "RangeIndex: 2260701 entries, 0 to 2260700\n",
            "Columns: 151 entries, id to settlement_term\n",
            "dtypes: float64(113), object(38)\n",
            "memory usage: 2.5+ GB\n"
          ]
        }
      ]
    },
    {
      "cell_type": "code",
      "source": [
        "accepted_loans.head()"
      ],
      "metadata": {
        "colab": {
          "base_uri": "https://localhost:8080/",
          "height": 386
        },
        "id": "hNfNnOfm6SAe",
        "outputId": "482072a7-d390-4d91-db1c-661a24d66dca"
      },
      "execution_count": null,
      "outputs": [
        {
          "output_type": "execute_result",
          "data": {
            "text/plain": [
              "         id  member_id  loan_amnt  funded_amnt  funded_amnt_inv        term  \\\n",
              "0  68407277        NaN     3600.0       3600.0           3600.0   36 months   \n",
              "1  68355089        NaN    24700.0      24700.0          24700.0   36 months   \n",
              "2  68341763        NaN    20000.0      20000.0          20000.0   60 months   \n",
              "3  66310712        NaN    35000.0      35000.0          35000.0   60 months   \n",
              "4  68476807        NaN    10400.0      10400.0          10400.0   60 months   \n",
              "\n",
              "   int_rate  installment grade sub_grade  ... hardship_payoff_balance_amount  \\\n",
              "0     13.99       123.03     C        C4  ...                            NaN   \n",
              "1     11.99       820.28     C        C1  ...                            NaN   \n",
              "2     10.78       432.66     B        B4  ...                            NaN   \n",
              "3     14.85       829.90     C        C5  ...                            NaN   \n",
              "4     22.45       289.91     F        F1  ...                            NaN   \n",
              "\n",
              "  hardship_last_payment_amount disbursement_method  debt_settlement_flag  \\\n",
              "0                          NaN                Cash                     N   \n",
              "1                          NaN                Cash                     N   \n",
              "2                          NaN                Cash                     N   \n",
              "3                          NaN                Cash                     N   \n",
              "4                          NaN                Cash                     N   \n",
              "\n",
              "  debt_settlement_flag_date settlement_status settlement_date  \\\n",
              "0                       NaN               NaN             NaN   \n",
              "1                       NaN               NaN             NaN   \n",
              "2                       NaN               NaN             NaN   \n",
              "3                       NaN               NaN             NaN   \n",
              "4                       NaN               NaN             NaN   \n",
              "\n",
              "  settlement_amount settlement_percentage settlement_term  \n",
              "0               NaN                   NaN             NaN  \n",
              "1               NaN                   NaN             NaN  \n",
              "2               NaN                   NaN             NaN  \n",
              "3               NaN                   NaN             NaN  \n",
              "4               NaN                   NaN             NaN  \n",
              "\n",
              "[5 rows x 151 columns]"
            ],
            "text/html": [
              "\n",
              "  <div id=\"df-b6fcd375-7706-4f46-af04-0e19cfd15311\">\n",
              "    <div class=\"colab-df-container\">\n",
              "      <div>\n",
              "<style scoped>\n",
              "    .dataframe tbody tr th:only-of-type {\n",
              "        vertical-align: middle;\n",
              "    }\n",
              "\n",
              "    .dataframe tbody tr th {\n",
              "        vertical-align: top;\n",
              "    }\n",
              "\n",
              "    .dataframe thead th {\n",
              "        text-align: right;\n",
              "    }\n",
              "</style>\n",
              "<table border=\"1\" class=\"dataframe\">\n",
              "  <thead>\n",
              "    <tr style=\"text-align: right;\">\n",
              "      <th></th>\n",
              "      <th>id</th>\n",
              "      <th>member_id</th>\n",
              "      <th>loan_amnt</th>\n",
              "      <th>funded_amnt</th>\n",
              "      <th>funded_amnt_inv</th>\n",
              "      <th>term</th>\n",
              "      <th>int_rate</th>\n",
              "      <th>installment</th>\n",
              "      <th>grade</th>\n",
              "      <th>sub_grade</th>\n",
              "      <th>...</th>\n",
              "      <th>hardship_payoff_balance_amount</th>\n",
              "      <th>hardship_last_payment_amount</th>\n",
              "      <th>disbursement_method</th>\n",
              "      <th>debt_settlement_flag</th>\n",
              "      <th>debt_settlement_flag_date</th>\n",
              "      <th>settlement_status</th>\n",
              "      <th>settlement_date</th>\n",
              "      <th>settlement_amount</th>\n",
              "      <th>settlement_percentage</th>\n",
              "      <th>settlement_term</th>\n",
              "    </tr>\n",
              "  </thead>\n",
              "  <tbody>\n",
              "    <tr>\n",
              "      <th>0</th>\n",
              "      <td>68407277</td>\n",
              "      <td>NaN</td>\n",
              "      <td>3600.0</td>\n",
              "      <td>3600.0</td>\n",
              "      <td>3600.0</td>\n",
              "      <td>36 months</td>\n",
              "      <td>13.99</td>\n",
              "      <td>123.03</td>\n",
              "      <td>C</td>\n",
              "      <td>C4</td>\n",
              "      <td>...</td>\n",
              "      <td>NaN</td>\n",
              "      <td>NaN</td>\n",
              "      <td>Cash</td>\n",
              "      <td>N</td>\n",
              "      <td>NaN</td>\n",
              "      <td>NaN</td>\n",
              "      <td>NaN</td>\n",
              "      <td>NaN</td>\n",
              "      <td>NaN</td>\n",
              "      <td>NaN</td>\n",
              "    </tr>\n",
              "    <tr>\n",
              "      <th>1</th>\n",
              "      <td>68355089</td>\n",
              "      <td>NaN</td>\n",
              "      <td>24700.0</td>\n",
              "      <td>24700.0</td>\n",
              "      <td>24700.0</td>\n",
              "      <td>36 months</td>\n",
              "      <td>11.99</td>\n",
              "      <td>820.28</td>\n",
              "      <td>C</td>\n",
              "      <td>C1</td>\n",
              "      <td>...</td>\n",
              "      <td>NaN</td>\n",
              "      <td>NaN</td>\n",
              "      <td>Cash</td>\n",
              "      <td>N</td>\n",
              "      <td>NaN</td>\n",
              "      <td>NaN</td>\n",
              "      <td>NaN</td>\n",
              "      <td>NaN</td>\n",
              "      <td>NaN</td>\n",
              "      <td>NaN</td>\n",
              "    </tr>\n",
              "    <tr>\n",
              "      <th>2</th>\n",
              "      <td>68341763</td>\n",
              "      <td>NaN</td>\n",
              "      <td>20000.0</td>\n",
              "      <td>20000.0</td>\n",
              "      <td>20000.0</td>\n",
              "      <td>60 months</td>\n",
              "      <td>10.78</td>\n",
              "      <td>432.66</td>\n",
              "      <td>B</td>\n",
              "      <td>B4</td>\n",
              "      <td>...</td>\n",
              "      <td>NaN</td>\n",
              "      <td>NaN</td>\n",
              "      <td>Cash</td>\n",
              "      <td>N</td>\n",
              "      <td>NaN</td>\n",
              "      <td>NaN</td>\n",
              "      <td>NaN</td>\n",
              "      <td>NaN</td>\n",
              "      <td>NaN</td>\n",
              "      <td>NaN</td>\n",
              "    </tr>\n",
              "    <tr>\n",
              "      <th>3</th>\n",
              "      <td>66310712</td>\n",
              "      <td>NaN</td>\n",
              "      <td>35000.0</td>\n",
              "      <td>35000.0</td>\n",
              "      <td>35000.0</td>\n",
              "      <td>60 months</td>\n",
              "      <td>14.85</td>\n",
              "      <td>829.90</td>\n",
              "      <td>C</td>\n",
              "      <td>C5</td>\n",
              "      <td>...</td>\n",
              "      <td>NaN</td>\n",
              "      <td>NaN</td>\n",
              "      <td>Cash</td>\n",
              "      <td>N</td>\n",
              "      <td>NaN</td>\n",
              "      <td>NaN</td>\n",
              "      <td>NaN</td>\n",
              "      <td>NaN</td>\n",
              "      <td>NaN</td>\n",
              "      <td>NaN</td>\n",
              "    </tr>\n",
              "    <tr>\n",
              "      <th>4</th>\n",
              "      <td>68476807</td>\n",
              "      <td>NaN</td>\n",
              "      <td>10400.0</td>\n",
              "      <td>10400.0</td>\n",
              "      <td>10400.0</td>\n",
              "      <td>60 months</td>\n",
              "      <td>22.45</td>\n",
              "      <td>289.91</td>\n",
              "      <td>F</td>\n",
              "      <td>F1</td>\n",
              "      <td>...</td>\n",
              "      <td>NaN</td>\n",
              "      <td>NaN</td>\n",
              "      <td>Cash</td>\n",
              "      <td>N</td>\n",
              "      <td>NaN</td>\n",
              "      <td>NaN</td>\n",
              "      <td>NaN</td>\n",
              "      <td>NaN</td>\n",
              "      <td>NaN</td>\n",
              "      <td>NaN</td>\n",
              "    </tr>\n",
              "  </tbody>\n",
              "</table>\n",
              "<p>5 rows × 151 columns</p>\n",
              "</div>\n",
              "      <button class=\"colab-df-convert\" onclick=\"convertToInteractive('df-b6fcd375-7706-4f46-af04-0e19cfd15311')\"\n",
              "              title=\"Convert this dataframe to an interactive table.\"\n",
              "              style=\"display:none;\">\n",
              "        \n",
              "  <svg xmlns=\"http://www.w3.org/2000/svg\" height=\"24px\"viewBox=\"0 0 24 24\"\n",
              "       width=\"24px\">\n",
              "    <path d=\"M0 0h24v24H0V0z\" fill=\"none\"/>\n",
              "    <path d=\"M18.56 5.44l.94 2.06.94-2.06 2.06-.94-2.06-.94-.94-2.06-.94 2.06-2.06.94zm-11 1L8.5 8.5l.94-2.06 2.06-.94-2.06-.94L8.5 2.5l-.94 2.06-2.06.94zm10 10l.94 2.06.94-2.06 2.06-.94-2.06-.94-.94-2.06-.94 2.06-2.06.94z\"/><path d=\"M17.41 7.96l-1.37-1.37c-.4-.4-.92-.59-1.43-.59-.52 0-1.04.2-1.43.59L10.3 9.45l-7.72 7.72c-.78.78-.78 2.05 0 2.83L4 21.41c.39.39.9.59 1.41.59.51 0 1.02-.2 1.41-.59l7.78-7.78 2.81-2.81c.8-.78.8-2.07 0-2.86zM5.41 20L4 18.59l7.72-7.72 1.47 1.35L5.41 20z\"/>\n",
              "  </svg>\n",
              "      </button>\n",
              "      \n",
              "  <style>\n",
              "    .colab-df-container {\n",
              "      display:flex;\n",
              "      flex-wrap:wrap;\n",
              "      gap: 12px;\n",
              "    }\n",
              "\n",
              "    .colab-df-convert {\n",
              "      background-color: #E8F0FE;\n",
              "      border: none;\n",
              "      border-radius: 50%;\n",
              "      cursor: pointer;\n",
              "      display: none;\n",
              "      fill: #1967D2;\n",
              "      height: 32px;\n",
              "      padding: 0 0 0 0;\n",
              "      width: 32px;\n",
              "    }\n",
              "\n",
              "    .colab-df-convert:hover {\n",
              "      background-color: #E2EBFA;\n",
              "      box-shadow: 0px 1px 2px rgba(60, 64, 67, 0.3), 0px 1px 3px 1px rgba(60, 64, 67, 0.15);\n",
              "      fill: #174EA6;\n",
              "    }\n",
              "\n",
              "    [theme=dark] .colab-df-convert {\n",
              "      background-color: #3B4455;\n",
              "      fill: #D2E3FC;\n",
              "    }\n",
              "\n",
              "    [theme=dark] .colab-df-convert:hover {\n",
              "      background-color: #434B5C;\n",
              "      box-shadow: 0px 1px 3px 1px rgba(0, 0, 0, 0.15);\n",
              "      filter: drop-shadow(0px 1px 2px rgba(0, 0, 0, 0.3));\n",
              "      fill: #FFFFFF;\n",
              "    }\n",
              "  </style>\n",
              "\n",
              "      <script>\n",
              "        const buttonEl =\n",
              "          document.querySelector('#df-b6fcd375-7706-4f46-af04-0e19cfd15311 button.colab-df-convert');\n",
              "        buttonEl.style.display =\n",
              "          google.colab.kernel.accessAllowed ? 'block' : 'none';\n",
              "\n",
              "        async function convertToInteractive(key) {\n",
              "          const element = document.querySelector('#df-b6fcd375-7706-4f46-af04-0e19cfd15311');\n",
              "          const dataTable =\n",
              "            await google.colab.kernel.invokeFunction('convertToInteractive',\n",
              "                                                     [key], {});\n",
              "          if (!dataTable) return;\n",
              "\n",
              "          const docLinkHtml = 'Like what you see? Visit the ' +\n",
              "            '<a target=\"_blank\" href=https://colab.research.google.com/notebooks/data_table.ipynb>data table notebook</a>'\n",
              "            + ' to learn more about interactive tables.';\n",
              "          element.innerHTML = '';\n",
              "          dataTable['output_type'] = 'display_data';\n",
              "          await google.colab.output.renderOutput(dataTable, element);\n",
              "          const docLink = document.createElement('div');\n",
              "          docLink.innerHTML = docLinkHtml;\n",
              "          element.appendChild(docLink);\n",
              "        }\n",
              "      </script>\n",
              "    </div>\n",
              "  </div>\n",
              "  "
            ]
          },
          "metadata": {},
          "execution_count": 6
        }
      ]
    },
    {
      "cell_type": "code",
      "source": [
        "accepted_loans['loan_status'].value_counts()"
      ],
      "metadata": {
        "colab": {
          "base_uri": "https://localhost:8080/"
        },
        "id": "on4N2NGQ-5iS",
        "outputId": "0199d105-e28e-411c-fb77-9a57814840fb"
      },
      "execution_count": null,
      "outputs": [
        {
          "output_type": "execute_result",
          "data": {
            "text/plain": [
              "Fully Paid                                             1076751\n",
              "Current                                                 878317\n",
              "Charged Off                                             268559\n",
              "Late (31-120 days)                                       21467\n",
              "In Grace Period                                           8436\n",
              "Late (16-30 days)                                         4349\n",
              "Does not meet the credit policy. Status:Fully Paid        1988\n",
              "Does not meet the credit policy. Status:Charged Off        761\n",
              "Default                                                     40\n",
              "Name: loan_status, dtype: int64"
            ]
          },
          "metadata": {},
          "execution_count": 5
        }
      ]
    },
    {
      "cell_type": "markdown",
      "source": [
        "# Exploratory Data Analysis"
      ],
      "metadata": {
        "id": "2MmbEspwCTR7"
      }
    },
    {
      "cell_type": "markdown",
      "source": [
        "## Considering only 'Fully Paid' and 'Charged Off' status\n"
      ],
      "metadata": {
        "id": "7jvQmGx2B3fX"
      }
    },
    {
      "cell_type": "code",
      "source": [
        "accepted_loans = accepted_loans[(accepted_loans['loan_status'] == 'Fully Paid') | (accepted_loans['loan_status'] == 'Charged Off')]\n",
        "accepted_loans.shape"
      ],
      "metadata": {
        "colab": {
          "base_uri": "https://localhost:8080/"
        },
        "id": "g1rt8g0_A3L1",
        "outputId": "0e9fc9c6-74bb-463b-b4d8-eac6692ceb3e"
      },
      "execution_count": 3,
      "outputs": [
        {
          "output_type": "execute_result",
          "data": {
            "text/plain": [
              "(1345310, 151)"
            ]
          },
          "metadata": {},
          "execution_count": 3
        }
      ]
    },
    {
      "cell_type": "code",
      "source": [
        "sns.countplot(x=accepted_loans['loan_status'], data=accepted_loans)"
      ],
      "metadata": {
        "colab": {
          "base_uri": "https://localhost:8080/",
          "height": 308
        },
        "id": "tNhFRqnjCVLM",
        "outputId": "2bbbe35d-5800-4bdd-869e-2a514d0369b8"
      },
      "execution_count": 5,
      "outputs": [
        {
          "output_type": "execute_result",
          "data": {
            "text/plain": [
              "<matplotlib.axes._subplots.AxesSubplot at 0x7fcd2c88d250>"
            ]
          },
          "metadata": {},
          "execution_count": 5
        },
        {
          "output_type": "display_data",
          "data": {
            "text/plain": [
              "<Figure size 432x288 with 1 Axes>"
            ],
            "image/png": "[encoded data removed]"
          },
          "metadata": {
            "needs_background": "light"
          }
        }
      ]
    },
    {
      "cell_type": "code",
      "source": [
        "num_fully_paid_loans = accepted_loans[accepted_loans['loan_status'] == 'Fully Paid'].shape[0]\n",
        "num_charged_off_loans = accepted_loans[accepted_loans['loan_status'] == 'Charged Off'].shape[0]\n",
        "print(num_fully_paid_loans)\n",
        "print(num_charged_off_loans)\n",
        "print(num_fully_paid_loans / num_charged_off_loans)"
      ],
      "metadata": {
        "colab": {
          "base_uri": "https://localhost:8080/"
        },
        "id": "MvYKj3bjDd-t",
        "outputId": "c0cbcc0c-3e9d-429e-9732-3e9833a20084"
      },
      "execution_count": 4,
      "outputs": [
        {
          "output_type": "stream",
          "name": "stdout",
          "text": [
            "1076751\n",
            "268559\n",
            "4.009364795072964\n"
          ]
        }
      ]
    },
    {
      "cell_type": "markdown",
      "source": [
        "## Data Cleaning"
      ],
      "metadata": {
        "id": "O8rdamZgE2UR"
      }
    },
    {
      "cell_type": "markdown",
      "source": [
        "### Percentage of missing values per column"
      ],
      "metadata": {
        "id": "-l6akE4pFSRG"
      }
    },
    {
      "cell_type": "code",
      "source": [
        "accepted_loans.isnull().sum().sort_values(ascending=False)\n",
        "# Can't compute percentage here because of ram limitation"
      ],
      "metadata": {
        "colab": {
          "base_uri": "https://localhost:8080/"
        },
        "id": "d_CsnoqIEU3n",
        "outputId": "0dc38723-56eb-4ea7-ab08-9fc9256186b3"
      },
      "execution_count": 5,
      "outputs": [
        {
          "output_type": "execute_result",
          "data": {
            "text/plain": [
              "next_pymnt_d                                  1345310\n",
              "member_id                                     1345310\n",
              "orig_projected_additional_accrued_interest    1341551\n",
              "hardship_start_date                           1339556\n",
              "hardship_length                               1339556\n",
              "                                               ...   \n",
              "pub_rec                                             0\n",
              "open_acc                                            0\n",
              "fico_range_high                                     0\n",
              "fico_range_low                                      0\n",
              "id                                                  0\n",
              "Length: 151, dtype: int64"
            ]
          },
          "metadata": {},
          "execution_count": 5
        }
      ]
    },
    {
      "cell_type": "markdown",
      "source": [
        "### Dropping features having too much missing data"
      ],
      "metadata": {
        "id": "tib29qQ5RfL5"
      }
    },
    {
      "cell_type": "code",
      "source": [
        "# dropping columns have more than 50% missing data\n",
        "keeping_columns = accepted_loans.columns[accepted_loans.isnull().sum() < (len(accepted_loans) / 2)].to_list()\n",
        "len(keeping_columns)"
      ],
      "metadata": {
        "colab": {
          "base_uri": "https://localhost:8080/"
        },
        "id": "rpnXdjTiQ2G-",
        "outputId": "dfed1098-8b6c-4f65-a260-078f8262c511"
      },
      "execution_count": 6,
      "outputs": [
        {
          "output_type": "execute_result",
          "data": {
            "text/plain": [
              "93"
            ]
          },
          "metadata": {},
          "execution_count": 6
        }
      ]
    },
    {
      "cell_type": "code",
      "source": [
        "accepted_loans = accepted_loans[keeping_columns]"
      ],
      "metadata": {
        "id": "5kXjfYEqTPfQ"
      },
      "execution_count": 7,
      "outputs": []
    },
    {
      "cell_type": "code",
      "source": [
        "(accepted_loans.isnull().sum() / len(accepted_loans) * 100).sort_values(ascending=False).head(50)"
      ],
      "metadata": {
        "colab": {
          "base_uri": "https://localhost:8080/"
        },
        "id": "WG-sKsfyTbNG",
        "outputId": "1510ce5e-54ee-4b7d-ca0f-0c5c4e09061c"
      },
      "execution_count": 9,
      "outputs": [
        {
          "output_type": "execute_result",
          "data": {
            "text/plain": [
              "mths_since_recent_inq         12.939100\n",
              "num_tl_120dpd_2m               8.726688\n",
              "mo_sin_old_il_acct             7.847634\n",
              "emp_title                      6.376597\n",
              "emp_length                     5.835904\n",
              "pct_tl_nvr_dlq                 5.030885\n",
              "avg_cur_bal                    5.021073\n",
              "num_rev_accts                  5.019512\n",
              "mo_sin_rcnt_rev_tl_op          5.019512\n",
              "mo_sin_old_rev_tl_op           5.019512\n",
              "mo_sin_rcnt_tl                 5.019438\n",
              "num_rev_tl_bal_gt_0            5.019438\n",
              "num_accts_ever_120_pd          5.019438\n",
              "num_actv_bc_tl                 5.019438\n",
              "num_actv_rev_tl                5.019438\n",
              "num_bc_tl                      5.019438\n",
              "tot_coll_amt                   5.019438\n",
              "total_rev_hi_lim               5.019438\n",
              "num_op_rev_tl                  5.019438\n",
              "num_il_tl                      5.019438\n",
              "tot_cur_bal                    5.019438\n",
              "tot_hi_cred_lim                5.019438\n",
              "num_tl_op_past_12m             5.019438\n",
              "total_il_high_credit_limit     5.019438\n",
              "num_tl_30dpd                   5.019438\n",
              "num_tl_90g_dpd_24m             5.019438\n",
              "bc_util                        4.602062\n",
              "percent_bc_gt_75               4.575525\n",
              "bc_open_to_buy                 4.544900\n",
              "mths_since_recent_bc           4.476366\n",
              "num_bc_sats                    4.150791\n",
              "num_sats                       4.150791\n",
              "mort_acc                       3.514506\n",
              "total_bal_ex_mort              3.514506\n",
              "total_bc_limit                 3.514506\n",
              "acc_open_past_24mths           3.514506\n",
              "title                          1.238302\n",
              "last_pymnt_d                   0.171931\n",
              "revol_util                     0.063703\n",
              "pub_rec_bankruptcies           0.051810\n",
              "dti                            0.027800\n",
              "collections_12_mths_ex_med     0.004163\n",
              "chargeoff_within_12_mths       0.004163\n",
              "last_credit_pull_d             0.004088\n",
              "tax_liens                      0.002899\n",
              "zip_code                       0.000074\n",
              "inq_last_6mths                 0.000074\n",
              "hardship_flag                  0.000000\n",
              "delinq_amnt                    0.000000\n",
              "disbursement_method            0.000000\n",
              "dtype: float64"
            ]
          },
          "metadata": {},
          "execution_count": 9
        }
      ]
    },
    {
      "cell_type": "code",
      "source": [
        "# dropping up to 'title' feature\n",
        "dropping_columns = accepted_loans.isnull().sum().sort_values(ascending=False).head(37).index\n",
        "accepted_loans = accepted_loans.drop(columns=dropping_columns)\n",
        "accepted_loans.shape"
      ],
      "metadata": {
        "colab": {
          "base_uri": "https://localhost:8080/"
        },
        "id": "RPoPcDg5Uhhe",
        "outputId": "92a2c6d0-54c6-4377-bec9-5a4183d2e2d4"
      },
      "execution_count": 10,
      "outputs": [
        {
          "output_type": "execute_result",
          "data": {
            "text/plain": [
              "(1345310, 56)"
            ]
          },
          "metadata": {},
          "execution_count": 10
        }
      ]
    },
    {
      "cell_type": "code",
      "source": [
        "(accepted_loans.isnull().sum() / len(accepted_loans) * 100).sort_values(ascending=False)"
      ],
      "metadata": {
        "colab": {
          "base_uri": "https://localhost:8080/"
        },
        "id": "ZZ1qujKvWBhj",
        "outputId": "f52b70ab-8b9a-4f51-8309-b373fef873e7"
      },
      "execution_count": 11,
      "outputs": [
        {
          "output_type": "execute_result",
          "data": {
            "text/plain": [
              "last_pymnt_d                  0.171931\n",
              "revol_util                    0.063703\n",
              "pub_rec_bankruptcies          0.051810\n",
              "dti                           0.027800\n",
              "chargeoff_within_12_mths      0.004163\n",
              "collections_12_mths_ex_med    0.004163\n",
              "last_credit_pull_d            0.004088\n",
              "tax_liens                     0.002899\n",
              "inq_last_6mths                0.000074\n",
              "zip_code                      0.000074\n",
              "delinq_amnt                   0.000000\n",
              "disbursement_method           0.000000\n",
              "out_prncp_inv                 0.000000\n",
              "total_pymnt                   0.000000\n",
              "total_pymnt_inv               0.000000\n",
              "total_rec_prncp               0.000000\n",
              "total_rec_int                 0.000000\n",
              "total_rec_late_fee            0.000000\n",
              "recoveries                    0.000000\n",
              "collection_recovery_fee       0.000000\n",
              "acc_now_delinq                0.000000\n",
              "hardship_flag                 0.000000\n",
              "last_pymnt_amnt               0.000000\n",
              "initial_list_status           0.000000\n",
              "last_fico_range_high          0.000000\n",
              "last_fico_range_low           0.000000\n",
              "policy_code                   0.000000\n",
              "application_type              0.000000\n",
              "out_prncp                     0.000000\n",
              "id                            0.000000\n",
              "total_acc                     0.000000\n",
              "loan_amnt                     0.000000\n",
              "funded_amnt                   0.000000\n",
              "funded_amnt_inv               0.000000\n",
              "term                          0.000000\n",
              "int_rate                      0.000000\n",
              "installment                   0.000000\n",
              "grade                         0.000000\n",
              "sub_grade                     0.000000\n",
              "home_ownership                0.000000\n",
              "annual_inc                    0.000000\n",
              "verification_status           0.000000\n",
              "issue_d                       0.000000\n",
              "loan_status                   0.000000\n",
              "pymnt_plan                    0.000000\n",
              "url                           0.000000\n",
              "purpose                       0.000000\n",
              "addr_state                    0.000000\n",
              "delinq_2yrs                   0.000000\n",
              "earliest_cr_line              0.000000\n",
              "fico_range_low                0.000000\n",
              "fico_range_high               0.000000\n",
              "open_acc                      0.000000\n",
              "pub_rec                       0.000000\n",
              "revol_bal                     0.000000\n",
              "debt_settlement_flag          0.000000\n",
              "dtype: float64"
            ]
          },
          "metadata": {},
          "execution_count": 11
        }
      ]
    },
    {
      "cell_type": "markdown",
      "source": [
        "### Dropping rows with missing data"
      ],
      "metadata": {
        "id": "4i10lDsncUdf"
      }
    },
    {
      "cell_type": "code",
      "source": [
        "accepted_loans = accepted_loans.dropna()\n",
        "accepted_loans.shape"
      ],
      "metadata": {
        "colab": {
          "base_uri": "https://localhost:8080/"
        },
        "id": "1XKDcQ3BbYLs",
        "outputId": "aa73ab9c-492e-47ea-c1fe-d0f4b242c5b8"
      },
      "execution_count": 12,
      "outputs": [
        {
          "output_type": "execute_result",
          "data": {
            "text/plain": [
              "(1341026, 56)"
            ]
          },
          "metadata": {},
          "execution_count": 12
        }
      ]
    },
    {
      "cell_type": "code",
      "source": [
        "accepted_loans.info()"
      ],
      "metadata": {
        "colab": {
          "base_uri": "https://localhost:8080/"
        },
        "id": "v6YEkJhvirHm",
        "outputId": "64924bfc-76cf-4735-a7f9-840d9b83c47b"
      },
      "execution_count": 13,
      "outputs": [
        {
          "output_type": "stream",
          "name": "stdout",
          "text": [
            "<class 'pandas.core.frame.DataFrame'>\n",
            "Int64Index: 1341026 entries, 0 to 2260697\n",
            "Data columns (total 56 columns):\n",
            " #   Column                      Non-Null Count    Dtype  \n",
            "---  ------                      --------------    -----  \n",
            " 0   id                          1341026 non-null  object \n",
            " 1   loan_amnt                   1341026 non-null  float64\n",
            " 2   funded_amnt                 1341026 non-null  float64\n",
            " 3   funded_amnt_inv             1341026 non-null  float64\n",
            " 4   term                        1341026 non-null  object \n",
            " 5   int_rate                    1341026 non-null  float64\n",
            " 6   installment                 1341026 non-null  float64\n",
            " 7   grade                       1341026 non-null  object \n",
            " 8   sub_grade                   1341026 non-null  object \n",
            " 9   home_ownership              1341026 non-null  object \n",
            " 10  annual_inc                  1341026 non-null  float64\n",
            " 11  verification_status         1341026 non-null  object \n",
            " 12  issue_d                     1341026 non-null  object \n",
            " 13  loan_status                 1341026 non-null  object \n",
            " 14  pymnt_plan                  1341026 non-null  object \n",
            " 15  url                         1341026 non-null  object \n",
            " 16  purpose                     1341026 non-null  object \n",
            " 17  zip_code                    1341026 non-null  object \n",
            " 18  addr_state                  1341026 non-null  object \n",
            " 19  dti                         1341026 non-null  float64\n",
            " 20  delinq_2yrs                 1341026 non-null  float64\n",
            " 21  earliest_cr_line            1341026 non-null  object \n",
            " 22  fico_range_low              1341026 non-null  float64\n",
            " 23  fico_range_high             1341026 non-null  float64\n",
            " 24  inq_last_6mths              1341026 non-null  float64\n",
            " 25  open_acc                    1341026 non-null  float64\n",
            " 26  pub_rec                     1341026 non-null  float64\n",
            " 27  revol_bal                   1341026 non-null  float64\n",
            " 28  revol_util                  1341026 non-null  float64\n",
            " 29  total_acc                   1341026 non-null  float64\n",
            " 30  initial_list_status         1341026 non-null  object \n",
            " 31  out_prncp                   1341026 non-null  float64\n",
            " 32  out_prncp_inv               1341026 non-null  float64\n",
            " 33  total_pymnt                 1341026 non-null  float64\n",
            " 34  total_pymnt_inv             1341026 non-null  float64\n",
            " 35  total_rec_prncp             1341026 non-null  float64\n",
            " 36  total_rec_int               1341026 non-null  float64\n",
            " 37  total_rec_late_fee          1341026 non-null  float64\n",
            " 38  recoveries                  1341026 non-null  float64\n",
            " 39  collection_recovery_fee     1341026 non-null  float64\n",
            " 40  last_pymnt_d                1341026 non-null  object \n",
            " 41  last_pymnt_amnt             1341026 non-null  float64\n",
            " 42  last_credit_pull_d          1341026 non-null  object \n",
            " 43  last_fico_range_high        1341026 non-null  float64\n",
            " 44  last_fico_range_low         1341026 non-null  float64\n",
            " 45  collections_12_mths_ex_med  1341026 non-null  float64\n",
            " 46  policy_code                 1341026 non-null  float64\n",
            " 47  application_type            1341026 non-null  object \n",
            " 48  acc_now_delinq              1341026 non-null  float64\n",
            " 49  chargeoff_within_12_mths    1341026 non-null  float64\n",
            " 50  delinq_amnt                 1341026 non-null  float64\n",
            " 51  pub_rec_bankruptcies        1341026 non-null  float64\n",
            " 52  tax_liens                   1341026 non-null  float64\n",
            " 53  hardship_flag               1341026 non-null  object \n",
            " 54  disbursement_method         1341026 non-null  object \n",
            " 55  debt_settlement_flag        1341026 non-null  object \n",
            "dtypes: float64(35), object(21)\n",
            "memory usage: 583.2+ MB\n"
          ]
        }
      ]
    },
    {
      "cell_type": "markdown",
      "source": [
        "# Preprocessing"
      ],
      "metadata": {
        "id": "pol2unDdAMP8"
      }
    },
    {
      "cell_type": "markdown",
      "source": [
        "Plotting histogram of loan amout to see data distribution"
      ],
      "metadata": {
        "id": "SAkiNNzWASe_"
      }
    },
    {
      "cell_type": "code",
      "source": [
        "plt.figure(figsize=(20, 8))\n",
        "sns.histplot(accepted_loans['loan_amnt'])"
      ],
      "metadata": {
        "colab": {
          "base_uri": "https://localhost:8080/",
          "height": 461
        },
        "id": "VvF3H5uLivfN",
        "outputId": "b0c9b364-ce4d-4ada-94b5-acf646fcaf5d"
      },
      "execution_count": null,
      "outputs": [
        {
          "output_type": "execute_result",
          "data": {
            "text/plain": [
              "<matplotlib.axes._subplots.AxesSubplot at 0x7f6286024850>"
            ]
          },
          "metadata": {},
          "execution_count": 12
        },
        {
          "output_type": "display_data",
          "data": {
            "text/plain": [
              "<Figure size 1440x576 with 1 Axes>"
            ],
            "image/png": "[encoded data removed]"
          },
          "metadata": {
            "needs_background": "light"
          }
        }
      ]
    },
    {
      "cell_type": "markdown",
      "source": [
        "## Seeing correlation between features via heatmap"
      ],
      "metadata": {
        "id": "k8HB6G-2AneT"
      }
    },
    {
      "cell_type": "code",
      "source": [
        "plt.figure(figsize=(14, 10))\n",
        "mask = np.zeros_like(accepted_loans.corr())\n",
        "mask[np.triu_indices_from(mask)] = True\n",
        "sns.heatmap(accepted_loans.corr(), mask=mask, cmap='viridis')"
      ],
      "metadata": {
        "colab": {
          "base_uri": "https://localhost:8080/",
          "height": 744
        },
        "id": "U4-kslqk_ArD",
        "outputId": "6955549f-45e7-4184-f237-f21474c42d7b"
      },
      "execution_count": 14,
      "outputs": [
        {
          "output_type": "execute_result",
          "data": {
            "text/plain": [
              "<matplotlib.axes._subplots.AxesSubplot at 0x7f77f312ae50>"
            ]
          },
          "metadata": {},
          "execution_count": 14
        },
        {
          "output_type": "display_data",
          "data": {
            "text/plain": [
              "<Figure size 1008x720 with 2 Axes>"
            ],
            "image/png": "[encoded data removed]"
          },
          "metadata": {
            "needs_background": "light"
          }
        }
      ]
    },
    {
      "cell_type": "markdown",
      "source": [
        "There are 3 columns with a visible different behaviour: out_prncp, out_prncp_inv and policy_code"
      ],
      "metadata": {
        "id": "h7ur-seSEDJh"
      }
    },
    {
      "cell_type": "code",
      "source": [
        "print(accepted_loans['out_prncp'].value_counts())\n",
        "print(accepted_loans['out_prncp_inv'].value_counts())\n",
        "print(accepted_loans['policy_code'].value_counts())"
      ],
      "metadata": {
        "colab": {
          "base_uri": "https://localhost:8080/"
        },
        "id": "NjuQzlCsDO9P",
        "outputId": "88cf5d5d-815c-4ac7-c05b-ded0da3abcef"
      },
      "execution_count": 15,
      "outputs": [
        {
          "output_type": "stream",
          "name": "stdout",
          "text": [
            "0.0    1341026\n",
            "Name: out_prncp, dtype: int64\n",
            "0.0    1341026\n",
            "Name: out_prncp_inv, dtype: int64\n",
            "1.0    1341026\n",
            "Name: policy_code, dtype: int64\n"
          ]
        }
      ]
    },
    {
      "cell_type": "markdown",
      "source": [
        "They are constant, so we can drop these features"
      ],
      "metadata": {
        "id": "F991cE7OE9Sg"
      }
    },
    {
      "cell_type": "code",
      "source": [
        "dropping_columns = ['out_prncp', 'out_prncp_inv', 'policy_code']\n",
        "accepted_loans = accepted_loans.drop(columns=dropping_columns)\n",
        "accepted_loans.shape"
      ],
      "metadata": {
        "colab": {
          "base_uri": "https://localhost:8080/"
        },
        "id": "cFa7DATzEzcC",
        "outputId": "ee994ef5-3144-44a2-862f-93562ce2b568"
      },
      "execution_count": 16,
      "outputs": [
        {
          "output_type": "execute_result",
          "data": {
            "text/plain": [
              "(1341026, 53)"
            ]
          },
          "metadata": {},
          "execution_count": 16
        }
      ]
    },
    {
      "cell_type": "code",
      "source": [
        "plt.figure(figsize=(14, 10))\n",
        "mask = np.zeros_like(accepted_loans.corr())\n",
        "mask[np.triu_indices_from(mask)] = True\n",
        "sns.heatmap(accepted_loans.corr(), mask=mask, cmap='viridis')"
      ],
      "metadata": {
        "colab": {
          "base_uri": "https://localhost:8080/",
          "height": 744
        },
        "id": "qY5TEpLtFa71",
        "outputId": "f608fd22-48b5-44b5-ad8a-98dc162e8a94"
      },
      "execution_count": 17,
      "outputs": [
        {
          "output_type": "execute_result",
          "data": {
            "text/plain": [
              "<matplotlib.axes._subplots.AxesSubplot at 0x7f77e9e35f50>"
            ]
          },
          "metadata": {},
          "execution_count": 17
        },
        {
          "output_type": "display_data",
          "data": {
            "text/plain": [
              "<Figure size 1008x720 with 2 Axes>"
            ],
            "image/png": "[encoded data removed]"
          },
          "metadata": {
            "needs_background": "light"
          }
        }
      ]
    },
    {
      "cell_type": "markdown",
      "source": [
        "Unstacking correlation to see highest correlation pairs"
      ],
      "metadata": {
        "id": "fKxuXgS2GXGD"
      }
    },
    {
      "cell_type": "code",
      "source": [
        "correlation_matrix = accepted_loans.corr().abs()\n",
        "unstack_corr = correlation_matrix.unstack()\n",
        "unstack_corr = unstack_corr.sort_values(ascending=False)\n",
        "\n",
        "corr_df = pd.DataFrame(unstack_corr).drop_duplicates().reset_index()\n",
        "corr_df.columns = ['feature 1', 'feature 2', 'corr']\n",
        "\n",
        "# check pairs of feature having corr > 0.8\n",
        "condition1 = corr_df['corr'] > 0.8\n",
        "condition2 = corr_df['feature 1'] != corr_df['feature 2']\n",
        "corr_df[condition1 & condition2]"
      ],
      "metadata": {
        "colab": {
          "base_uri": "https://localhost:8080/",
          "height": 676
        },
        "id": "C37WBuvzFnST",
        "outputId": "9b9f43ce-cb1c-4492-8d32-bc6193a736ec"
      },
      "execution_count": 18,
      "outputs": [
        {
          "output_type": "execute_result",
          "data": {
            "text/plain": [
              "              feature 1                feature 2      corr\n",
              "1        fico_range_low          fico_range_high  1.000000\n",
              "2           funded_amnt                loan_amnt  0.999565\n",
              "3       total_pymnt_inv              total_pymnt  0.999541\n",
              "4       funded_amnt_inv              funded_amnt  0.999439\n",
              "5       funded_amnt_inv                loan_amnt  0.998918\n",
              "6            recoveries  collection_recovery_fee  0.972674\n",
              "7           total_pymnt          total_rec_prncp  0.967104\n",
              "8       total_rec_prncp          total_pymnt_inv  0.966725\n",
              "9           funded_amnt              installment  0.954037\n",
              "10          installment          funded_amnt_inv  0.953445\n",
              "11            loan_amnt              installment  0.953387\n",
              "12      total_pymnt_inv          funded_amnt_inv  0.857150\n",
              "13          funded_amnt              total_pymnt  0.856901\n",
              "14      total_pymnt_inv              funded_amnt  0.856675\n",
              "15            loan_amnt              total_pymnt  0.856658\n",
              "16          total_pymnt          funded_amnt_inv  0.856443\n",
              "17      total_pymnt_inv                loan_amnt  0.856355\n",
              "18  last_fico_range_low     last_fico_range_high  0.829740\n",
              "19          installment              total_pymnt  0.818291\n",
              "20          installment          total_pymnt_inv  0.818049"
            ],
            "text/html": [
              "\n",
              "  <div id=\"df-76229305-1294-4633-b55a-494f36eae67e\">\n",
              "    <div class=\"colab-df-container\">\n",
              "      <div>\n",
              "<style scoped>\n",
              "    .dataframe tbody tr th:only-of-type {\n",
              "        vertical-align: middle;\n",
              "    }\n",
              "\n",
              "    .dataframe tbody tr th {\n",
              "        vertical-align: top;\n",
              "    }\n",
              "\n",
              "    .dataframe thead th {\n",
              "        text-align: right;\n",
              "    }\n",
              "</style>\n",
              "<table border=\"1\" class=\"dataframe\">\n",
              "  <thead>\n",
              "    <tr style=\"text-align: right;\">\n",
              "      <th></th>\n",
              "      <th>feature 1</th>\n",
              "      <th>feature 2</th>\n",
              "      <th>corr</th>\n",
              "    </tr>\n",
              "  </thead>\n",
              "  <tbody>\n",
              "    <tr>\n",
              "      <th>1</th>\n",
              "      <td>fico_range_low</td>\n",
              "      <td>fico_range_high</td>\n",
              "      <td>1.000000</td>\n",
              "    </tr>\n",
              "    <tr>\n",
              "      <th>2</th>\n",
              "      <td>funded_amnt</td>\n",
              "      <td>loan_amnt</td>\n",
              "      <td>0.999565</td>\n",
              "    </tr>\n",
              "    <tr>\n",
              "      <th>3</th>\n",
              "      <td>total_pymnt_inv</td>\n",
              "      <td>total_pymnt</td>\n",
              "      <td>0.999541</td>\n",
              "    </tr>\n",
              "    <tr>\n",
              "      <th>4</th>\n",
              "      <td>funded_amnt_inv</td>\n",
              "      <td>funded_amnt</td>\n",
              "      <td>0.999439</td>\n",
              "    </tr>\n",
              "    <tr>\n",
              "      <th>5</th>\n",
              "      <td>funded_amnt_inv</td>\n",
              "      <td>loan_amnt</td>\n",
              "      <td>0.998918</td>\n",
              "    </tr>\n",
              "    <tr>\n",
              "      <th>6</th>\n",
              "      <td>recoveries</td>\n",
              "      <td>collection_recovery_fee</td>\n",
              "      <td>0.972674</td>\n",
              "    </tr>\n",
              "    <tr>\n",
              "      <th>7</th>\n",
              "      <td>total_pymnt</td>\n",
              "      <td>total_rec_prncp</td>\n",
              "      <td>0.967104</td>\n",
              "    </tr>\n",
              "    <tr>\n",
              "      <th>8</th>\n",
              "      <td>total_rec_prncp</td>\n",
              "      <td>total_pymnt_inv</td>\n",
              "      <td>0.966725</td>\n",
              "    </tr>\n",
              "    <tr>\n",
              "      <th>9</th>\n",
              "      <td>funded_amnt</td>\n",
              "      <td>installment</td>\n",
              "      <td>0.954037</td>\n",
              "    </tr>\n",
              "    <tr>\n",
              "      <th>10</th>\n",
              "      <td>installment</td>\n",
              "      <td>funded_amnt_inv</td>\n",
              "      <td>0.953445</td>\n",
              "    </tr>\n",
              "    <tr>\n",
              "      <th>11</th>\n",
              "      <td>loan_amnt</td>\n",
              "      <td>installment</td>\n",
              "      <td>0.953387</td>\n",
              "    </tr>\n",
              "    <tr>\n",
              "      <th>12</th>\n",
              "      <td>total_pymnt_inv</td>\n",
              "      <td>funded_amnt_inv</td>\n",
              "      <td>0.857150</td>\n",
              "    </tr>\n",
              "    <tr>\n",
              "      <th>13</th>\n",
              "      <td>funded_amnt</td>\n",
              "      <td>total_pymnt</td>\n",
              "      <td>0.856901</td>\n",
              "    </tr>\n",
              "    <tr>\n",
              "      <th>14</th>\n",
              "      <td>total_pymnt_inv</td>\n",
              "      <td>funded_amnt</td>\n",
              "      <td>0.856675</td>\n",
              "    </tr>\n",
              "    <tr>\n",
              "      <th>15</th>\n",
              "      <td>loan_amnt</td>\n",
              "      <td>total_pymnt</td>\n",
              "      <td>0.856658</td>\n",
              "    </tr>\n",
              "    <tr>\n",
              "      <th>16</th>\n",
              "      <td>total_pymnt</td>\n",
              "      <td>funded_amnt_inv</td>\n",
              "      <td>0.856443</td>\n",
              "    </tr>\n",
              "    <tr>\n",
              "      <th>17</th>\n",
              "      <td>total_pymnt_inv</td>\n",
              "      <td>loan_amnt</td>\n",
              "      <td>0.856355</td>\n",
              "    </tr>\n",
              "    <tr>\n",
              "      <th>18</th>\n",
              "      <td>last_fico_range_low</td>\n",
              "      <td>last_fico_range_high</td>\n",
              "      <td>0.829740</td>\n",
              "    </tr>\n",
              "    <tr>\n",
              "      <th>19</th>\n",
              "      <td>installment</td>\n",
              "      <td>total_pymnt</td>\n",
              "      <td>0.818291</td>\n",
              "    </tr>\n",
              "    <tr>\n",
              "      <th>20</th>\n",
              "      <td>installment</td>\n",
              "      <td>total_pymnt_inv</td>\n",
              "      <td>0.818049</td>\n",
              "    </tr>\n",
              "  </tbody>\n",
              "</table>\n",
              "</div>\n",
              "      <button class=\"colab-df-convert\" onclick=\"convertToInteractive('df-76229305-1294-4633-b55a-494f36eae67e')\"\n",
              "              title=\"Convert this dataframe to an interactive table.\"\n",
              "              style=\"display:none;\">\n",
              "        \n",
              "  <svg xmlns=\"http://www.w3.org/2000/svg\" height=\"24px\"viewBox=\"0 0 24 24\"\n",
              "       width=\"24px\">\n",
              "    <path d=\"M0 0h24v24H0V0z\" fill=\"none\"/>\n",
              "    <path d=\"M18.56 5.44l.94 2.06.94-2.06 2.06-.94-2.06-.94-.94-2.06-.94 2.06-2.06.94zm-11 1L8.5 8.5l.94-2.06 2.06-.94-2.06-.94L8.5 2.5l-.94 2.06-2.06.94zm10 10l.94 2.06.94-2.06 2.06-.94-2.06-.94-.94-2.06-.94 2.06-2.06.94z\"/><path d=\"M17.41 7.96l-1.37-1.37c-.4-.4-.92-.59-1.43-.59-.52 0-1.04.2-1.43.59L10.3 9.45l-7.72 7.72c-.78.78-.78 2.05 0 2.83L4 21.41c.39.39.9.59 1.41.59.51 0 1.02-.2 1.41-.59l7.78-7.78 2.81-2.81c.8-.78.8-2.07 0-2.86zM5.41 20L4 18.59l7.72-7.72 1.47 1.35L5.41 20z\"/>\n",
              "  </svg>\n",
              "      </button>\n",
              "      \n",
              "  <style>\n",
              "    .colab-df-container {\n",
              "      display:flex;\n",
              "      flex-wrap:wrap;\n",
              "      gap: 12px;\n",
              "    }\n",
              "\n",
              "    .colab-df-convert {\n",
              "      background-color: #E8F0FE;\n",
              "      border: none;\n",
              "      border-radius: 50%;\n",
              "      cursor: pointer;\n",
              "      display: none;\n",
              "      fill: #1967D2;\n",
              "      height: 32px;\n",
              "      padding: 0 0 0 0;\n",
              "      width: 32px;\n",
              "    }\n",
              "\n",
              "    .colab-df-convert:hover {\n",
              "      background-color: #E2EBFA;\n",
              "      box-shadow: 0px 1px 2px rgba(60, 64, 67, 0.3), 0px 1px 3px 1px rgba(60, 64, 67, 0.15);\n",
              "      fill: #174EA6;\n",
              "    }\n",
              "\n",
              "    [theme=dark] .colab-df-convert {\n",
              "      background-color: #3B4455;\n",
              "      fill: #D2E3FC;\n",
              "    }\n",
              "\n",
              "    [theme=dark] .colab-df-convert:hover {\n",
              "      background-color: #434B5C;\n",
              "      box-shadow: 0px 1px 3px 1px rgba(0, 0, 0, 0.15);\n",
              "      filter: drop-shadow(0px 1px 2px rgba(0, 0, 0, 0.3));\n",
              "      fill: #FFFFFF;\n",
              "    }\n",
              "  </style>\n",
              "\n",
              "      <script>\n",
              "        const buttonEl =\n",
              "          document.querySelector('#df-76229305-1294-4633-b55a-494f36eae67e button.colab-df-convert');\n",
              "        buttonEl.style.display =\n",
              "          google.colab.kernel.accessAllowed ? 'block' : 'none';\n",
              "\n",
              "        async function convertToInteractive(key) {\n",
              "          const element = document.querySelector('#df-76229305-1294-4633-b55a-494f36eae67e');\n",
              "          const dataTable =\n",
              "            await google.colab.kernel.invokeFunction('convertToInteractive',\n",
              "                                                     [key], {});\n",
              "          if (!dataTable) return;\n",
              "\n",
              "          const docLinkHtml = 'Like what you see? Visit the ' +\n",
              "            '<a target=\"_blank\" href=https://colab.research.google.com/notebooks/data_table.ipynb>data table notebook</a>'\n",
              "            + ' to learn more about interactive tables.';\n",
              "          element.innerHTML = '';\n",
              "          dataTable['output_type'] = 'display_data';\n",
              "          await google.colab.output.renderOutput(dataTable, element);\n",
              "          const docLink = document.createElement('div');\n",
              "          docLink.innerHTML = docLinkHtml;\n",
              "          element.appendChild(docLink);\n",
              "        }\n",
              "      </script>\n",
              "    </div>\n",
              "  </div>\n",
              "  "
            ]
          },
          "metadata": {},
          "execution_count": 18
        }
      ]
    },
    {
      "cell_type": "markdown",
      "source": [
        "## Performing scatter plot to check some correlations between variables"
      ],
      "metadata": {
        "id": "Z5DCEFi1IqfP"
      }
    },
    {
      "cell_type": "code",
      "source": [
        "sns.scatterplot(accepted_loans['fico_range_low'], accepted_loans['fico_range_high'])"
      ],
      "metadata": {
        "colab": {
          "base_uri": "https://localhost:8080/",
          "height": 355
        },
        "id": "cNzyhvNOH7SD",
        "outputId": "52c68eb7-a582-4568-a33b-cdcc4250097b"
      },
      "execution_count": null,
      "outputs": [
        {
          "output_type": "stream",
          "name": "stderr",
          "text": [
            "/usr/local/lib/python3.7/dist-packages/seaborn/_decorators.py:43: FutureWarning: Pass the following variables as keyword args: x, y. From version 0.12, the only valid positional argument will be `data`, and passing other arguments without an explicit keyword will result in an error or misinterpretation.\n",
            "  FutureWarning\n"
          ]
        },
        {
          "output_type": "execute_result",
          "data": {
            "text/plain": [
              "<matplotlib.axes._subplots.AxesSubplot at 0x7f3e6c1a6290>"
            ]
          },
          "metadata": {},
          "execution_count": 25
        },
        {
          "output_type": "display_data",
          "data": {
            "text/plain": [
              "<Figure size 432x288 with 1 Axes>"
            ],
            "image/png": "[encoded data removed]"
          },
          "metadata": {
            "needs_background": "light"
          }
        }
      ]
    },
    {
      "cell_type": "code",
      "source": [
        "sns.scatterplot(accepted_loans['funded_amnt'], accepted_loans['loan_amnt'])"
      ],
      "metadata": {
        "colab": {
          "base_uri": "https://localhost:8080/",
          "height": 355
        },
        "id": "Y3uNT5bNL_HA",
        "outputId": "2c387ad5-3bf9-4ba7-a013-856a7af48197"
      },
      "execution_count": null,
      "outputs": [
        {
          "output_type": "stream",
          "name": "stderr",
          "text": [
            "/usr/local/lib/python3.7/dist-packages/seaborn/_decorators.py:43: FutureWarning: Pass the following variables as keyword args: x, y. From version 0.12, the only valid positional argument will be `data`, and passing other arguments without an explicit keyword will result in an error or misinterpretation.\n",
            "  FutureWarning\n"
          ]
        },
        {
          "output_type": "execute_result",
          "data": {
            "text/plain": [
              "<matplotlib.axes._subplots.AxesSubplot at 0x7f3e5b425090>"
            ]
          },
          "metadata": {},
          "execution_count": 26
        },
        {
          "output_type": "display_data",
          "data": {
            "text/plain": [
              "<Figure size 432x288 with 1 Axes>"
            ],
            "image/png": "[encoded data removed]"
          },
          "metadata": {
            "needs_background": "light"
          }
        }
      ]
    },
    {
      "cell_type": "code",
      "source": [
        "sns.scatterplot(accepted_loans['recoveries'], accepted_loans['collection_recovery_fee'])"
      ],
      "metadata": {
        "colab": {
          "base_uri": "https://localhost:8080/",
          "height": 354
        },
        "id": "AbmSs1VuMnzp",
        "outputId": "37fb1eeb-5df9-438e-963f-af6b3ed75920"
      },
      "execution_count": null,
      "outputs": [
        {
          "output_type": "stream",
          "name": "stderr",
          "text": [
            "/usr/local/lib/python3.7/dist-packages/seaborn/_decorators.py:43: FutureWarning: Pass the following variables as keyword args: x, y. From version 0.12, the only valid positional argument will be `data`, and passing other arguments without an explicit keyword will result in an error or misinterpretation.\n",
            "  FutureWarning\n"
          ]
        },
        {
          "output_type": "execute_result",
          "data": {
            "text/plain": [
              "<matplotlib.axes._subplots.AxesSubplot at 0x7f3e6a9b3090>"
            ]
          },
          "metadata": {},
          "execution_count": 27
        },
        {
          "output_type": "display_data",
          "data": {
            "text/plain": [
              "<Figure size 432x288 with 1 Axes>"
            ],
            "image/png": "[encoded data removed]"
          },
          "metadata": {
            "needs_background": "light"
          }
        }
      ]
    },
    {
      "cell_type": "code",
      "source": [
        "sns.scatterplot(accepted_loans['loan_amnt'], accepted_loans['installment'])"
      ],
      "metadata": {
        "colab": {
          "base_uri": "https://localhost:8080/",
          "height": 355
        },
        "id": "oAOonHcfNNsv",
        "outputId": "84a28cc6-fb5f-487f-ceef-a2d63d2ced8f"
      },
      "execution_count": null,
      "outputs": [
        {
          "output_type": "stream",
          "name": "stderr",
          "text": [
            "/usr/local/lib/python3.7/dist-packages/seaborn/_decorators.py:43: FutureWarning: Pass the following variables as keyword args: x, y. From version 0.12, the only valid positional argument will be `data`, and passing other arguments without an explicit keyword will result in an error or misinterpretation.\n",
            "  FutureWarning\n"
          ]
        },
        {
          "output_type": "execute_result",
          "data": {
            "text/plain": [
              "<matplotlib.axes._subplots.AxesSubplot at 0x7f3e67e7b310>"
            ]
          },
          "metadata": {},
          "execution_count": 28
        },
        {
          "output_type": "display_data",
          "data": {
            "text/plain": [
              "<Figure size 432x288 with 1 Axes>"
            ],
            "image/png": "[encoded data removed]"
          },
          "metadata": {
            "needs_background": "light"
          }
        }
      ]
    },
    {
      "cell_type": "code",
      "source": [
        "sns.scatterplot(accepted_loans['loan_amnt'], accepted_loans['total_pymnt'])"
      ],
      "metadata": {
        "colab": {
          "base_uri": "https://localhost:8080/",
          "height": 355
        },
        "id": "Fxa6HX9UNgcy",
        "outputId": "4a457dbc-c23e-4e0f-b57c-7a352d0aaba7"
      },
      "execution_count": null,
      "outputs": [
        {
          "output_type": "stream",
          "name": "stderr",
          "text": [
            "/usr/local/lib/python3.7/dist-packages/seaborn/_decorators.py:43: FutureWarning: Pass the following variables as keyword args: x, y. From version 0.12, the only valid positional argument will be `data`, and passing other arguments without an explicit keyword will result in an error or misinterpretation.\n",
            "  FutureWarning\n"
          ]
        },
        {
          "output_type": "execute_result",
          "data": {
            "text/plain": [
              "<matplotlib.axes._subplots.AxesSubplot at 0x7f3e6355e290>"
            ]
          },
          "metadata": {},
          "execution_count": 29
        },
        {
          "output_type": "display_data",
          "data": {
            "text/plain": [
              "<Figure size 432x288 with 1 Axes>"
            ],
            "image/png": "[encoded data removed]"
          },
          "metadata": {
            "needs_background": "light"
          }
        }
      ]
    },
    {
      "cell_type": "code",
      "source": [
        "sns.scatterplot(accepted_loans['installment'], accepted_loans['total_pymnt'])"
      ],
      "metadata": {
        "colab": {
          "base_uri": "https://localhost:8080/",
          "height": 354
        },
        "id": "kBPETI8KOCy0",
        "outputId": "14b96636-071b-42bd-9324-92dbc61af3af"
      },
      "execution_count": null,
      "outputs": [
        {
          "output_type": "stream",
          "name": "stderr",
          "text": [
            "/usr/local/lib/python3.7/dist-packages/seaborn/_decorators.py:43: FutureWarning: Pass the following variables as keyword args: x, y. From version 0.12, the only valid positional argument will be `data`, and passing other arguments without an explicit keyword will result in an error or misinterpretation.\n",
            "  FutureWarning\n"
          ]
        },
        {
          "output_type": "execute_result",
          "data": {
            "text/plain": [
              "<matplotlib.axes._subplots.AxesSubplot at 0x7f3e5cdf5f10>"
            ]
          },
          "metadata": {},
          "execution_count": 30
        },
        {
          "output_type": "display_data",
          "data": {
            "text/plain": [
              "<Figure size 432x288 with 1 Axes>"
            ],
            "image/png": "[encoded data removed]"
          },
          "metadata": {
            "needs_background": "light"
          }
        }
      ]
    },
    {
      "cell_type": "markdown",
      "source": [
        "Let's drop some columns because of duplicated information"
      ],
      "metadata": {
        "id": "HqaPsYVsQD1s"
      }
    },
    {
      "cell_type": "code",
      "source": [
        "dropping_columns = ['fico_range_low', 'funded_amnt_inv', 'funded_amnt', 'total_pymnt_inv', 'total_pymnt', 'installment', 'collection_recovery_fee', 'total_rec_prncp', 'last_fico_range_low']\n",
        "accepted_loans = accepted_loans.drop(columns=dropping_columns)\n",
        "accepted_loans.shape"
      ],
      "metadata": {
        "colab": {
          "base_uri": "https://localhost:8080/"
        },
        "id": "Z-ZhUoEqOPuj",
        "outputId": "d1e8ef39-369e-49a9-c0c1-845371f18da8"
      },
      "execution_count": 19,
      "outputs": [
        {
          "output_type": "execute_result",
          "data": {
            "text/plain": [
              "(1341026, 44)"
            ]
          },
          "metadata": {},
          "execution_count": 19
        }
      ]
    },
    {
      "cell_type": "markdown",
      "source": [
        "## Creating a new feature - loan_paid - that is 1 for 'Fully Paid' and 0 for 'Charged Off'"
      ],
      "metadata": {
        "id": "WYwo9FDlTqQv"
      }
    },
    {
      "cell_type": "code",
      "source": [
        "accepted_loans['loan_paid'] = accepted_loans['loan_status'].apply(lambda x: 1 if x == 'Fully Paid' else 0)\n",
        "accepted_loans = accepted_loans.drop(columns=['loan_status'])"
      ],
      "metadata": {
        "id": "TcN8repDQd3m"
      },
      "execution_count": 20,
      "outputs": []
    },
    {
      "cell_type": "markdown",
      "source": [
        "## Working on categorical features"
      ],
      "metadata": {
        "id": "Qc5GH5JFWtd9"
      }
    },
    {
      "cell_type": "code",
      "source": [
        "accepted_loans.info()"
      ],
      "metadata": {
        "colab": {
          "base_uri": "https://localhost:8080/"
        },
        "id": "8blyrvqmWUhU",
        "outputId": "b9abe69e-09bf-4a85-cd77-3ed01fa09f02"
      },
      "execution_count": 21,
      "outputs": [
        {
          "output_type": "stream",
          "name": "stdout",
          "text": [
            "<class 'pandas.core.frame.DataFrame'>\n",
            "Int64Index: 1341026 entries, 0 to 2260697\n",
            "Data columns (total 44 columns):\n",
            " #   Column                      Non-Null Count    Dtype  \n",
            "---  ------                      --------------    -----  \n",
            " 0   id                          1341026 non-null  object \n",
            " 1   loan_amnt                   1341026 non-null  float64\n",
            " 2   term                        1341026 non-null  object \n",
            " 3   int_rate                    1341026 non-null  float64\n",
            " 4   grade                       1341026 non-null  object \n",
            " 5   sub_grade                   1341026 non-null  object \n",
            " 6   home_ownership              1341026 non-null  object \n",
            " 7   annual_inc                  1341026 non-null  float64\n",
            " 8   verification_status         1341026 non-null  object \n",
            " 9   issue_d                     1341026 non-null  object \n",
            " 10  pymnt_plan                  1341026 non-null  object \n",
            " 11  url                         1341026 non-null  object \n",
            " 12  purpose                     1341026 non-null  object \n",
            " 13  zip_code                    1341026 non-null  object \n",
            " 14  addr_state                  1341026 non-null  object \n",
            " 15  dti                         1341026 non-null  float64\n",
            " 16  delinq_2yrs                 1341026 non-null  float64\n",
            " 17  earliest_cr_line            1341026 non-null  object \n",
            " 18  fico_range_high             1341026 non-null  float64\n",
            " 19  inq_last_6mths              1341026 non-null  float64\n",
            " 20  open_acc                    1341026 non-null  float64\n",
            " 21  pub_rec                     1341026 non-null  float64\n",
            " 22  revol_bal                   1341026 non-null  float64\n",
            " 23  revol_util                  1341026 non-null  float64\n",
            " 24  total_acc                   1341026 non-null  float64\n",
            " 25  initial_list_status         1341026 non-null  object \n",
            " 26  total_rec_int               1341026 non-null  float64\n",
            " 27  total_rec_late_fee          1341026 non-null  float64\n",
            " 28  recoveries                  1341026 non-null  float64\n",
            " 29  last_pymnt_d                1341026 non-null  object \n",
            " 30  last_pymnt_amnt             1341026 non-null  float64\n",
            " 31  last_credit_pull_d          1341026 non-null  object \n",
            " 32  last_fico_range_high        1341026 non-null  float64\n",
            " 33  collections_12_mths_ex_med  1341026 non-null  float64\n",
            " 34  application_type            1341026 non-null  object \n",
            " 35  acc_now_delinq              1341026 non-null  float64\n",
            " 36  chargeoff_within_12_mths    1341026 non-null  float64\n",
            " 37  delinq_amnt                 1341026 non-null  float64\n",
            " 38  pub_rec_bankruptcies        1341026 non-null  float64\n",
            " 39  tax_liens                   1341026 non-null  float64\n",
            " 40  hardship_flag               1341026 non-null  object \n",
            " 41  disbursement_method         1341026 non-null  object \n",
            " 42  debt_settlement_flag        1341026 non-null  object \n",
            " 43  loan_paid                   1341026 non-null  int64  \n",
            "dtypes: float64(23), int64(1), object(20)\n",
            "memory usage: 460.4+ MB\n"
          ]
        }
      ]
    },
    {
      "cell_type": "code",
      "source": [
        "categorical_columns = accepted_loans.select_dtypes(include='object').columns\n",
        "print(categorical_columns)\n",
        "print(len(categorical_columns))\n",
        "accepted_loans[categorical_columns]"
      ],
      "metadata": {
        "colab": {
          "base_uri": "https://localhost:8080/",
          "height": 783
        },
        "id": "9KyEgtBPXnba",
        "outputId": "6d87f089-f9be-4ffa-fc8c-8bc62b268272"
      },
      "execution_count": 22,
      "outputs": [
        {
          "output_type": "stream",
          "name": "stdout",
          "text": [
            "Index(['id', 'term', 'grade', 'sub_grade', 'home_ownership',\n",
            "       'verification_status', 'issue_d', 'pymnt_plan', 'url', 'purpose',\n",
            "       'zip_code', 'addr_state', 'earliest_cr_line', 'initial_list_status',\n",
            "       'last_pymnt_d', 'last_credit_pull_d', 'application_type',\n",
            "       'hardship_flag', 'disbursement_method', 'debt_settlement_flag'],\n",
            "      dtype='object')\n",
            "20\n"
          ]
        },
        {
          "output_type": "execute_result",
          "data": {
            "text/plain": [
              "               id        term grade sub_grade home_ownership  \\\n",
              "0        68407277   36 months     C        C4       MORTGAGE   \n",
              "1        68355089   36 months     C        C1       MORTGAGE   \n",
              "2        68341763   60 months     B        B4       MORTGAGE   \n",
              "4        68476807   60 months     F        F1       MORTGAGE   \n",
              "5        68426831   36 months     C        C3           RENT   \n",
              "...           ...         ...   ...       ...            ...   \n",
              "2260688  89905081   60 months     B        B2            OWN   \n",
              "2260690  88948836   60 months     C        C3       MORTGAGE   \n",
              "2260691  89996426   60 months     C        C4       MORTGAGE   \n",
              "2260692  90006534   60 months     C        C1           RENT   \n",
              "2260697  88224441   60 months     C        C4           RENT   \n",
              "\n",
              "        verification_status   issue_d pymnt_plan  \\\n",
              "0              Not Verified  Dec-2015          n   \n",
              "1              Not Verified  Dec-2015          n   \n",
              "2              Not Verified  Dec-2015          n   \n",
              "4           Source Verified  Dec-2015          n   \n",
              "5           Source Verified  Dec-2015          n   \n",
              "...                     ...       ...        ...   \n",
              "2260688        Not Verified  Oct-2016          n   \n",
              "2260690        Not Verified  Oct-2016          n   \n",
              "2260691     Source Verified  Oct-2016          n   \n",
              "2260692        Not Verified  Oct-2016          n   \n",
              "2260697        Not Verified  Oct-2016          n   \n",
              "\n",
              "                                                       url  \\\n",
              "0        https://lendingclub.com/browse/loanDetail.acti...   \n",
              "1        https://lendingclub.com/browse/loanDetail.acti...   \n",
              "2        https://lendingclub.com/browse/loanDetail.acti...   \n",
              "4        https://lendingclub.com/browse/loanDetail.acti...   \n",
              "5        https://lendingclub.com/browse/loanDetail.acti...   \n",
              "...                                                    ...   \n",
              "2260688  https://lendingclub.com/browse/loanDetail.acti...   \n",
              "2260690  https://lendingclub.com/browse/loanDetail.acti...   \n",
              "2260691  https://lendingclub.com/browse/loanDetail.acti...   \n",
              "2260692  https://lendingclub.com/browse/loanDetail.acti...   \n",
              "2260697  https://lendingclub.com/browse/loanDetail.acti...   \n",
              "\n",
              "                    purpose zip_code addr_state earliest_cr_line  \\\n",
              "0        debt_consolidation    190xx         PA         Aug-2003   \n",
              "1            small_business    577xx         SD         Dec-1999   \n",
              "2          home_improvement    605xx         IL         Aug-2000   \n",
              "4            major_purchase    174xx         PA         Jun-1998   \n",
              "5        debt_consolidation    300xx         GA         Oct-1987   \n",
              "...                     ...      ...        ...              ...   \n",
              "2260688    home_improvement    775xx         TX         Jul-2004   \n",
              "2260690  debt_consolidation    900xx         CA         Mar-2002   \n",
              "2260691    home_improvement    863xx         AZ         Jun-2011   \n",
              "2260692             medical    284xx         NC         Aug-1997   \n",
              "2260697  debt_consolidation    334xx         FL         Jul-1999   \n",
              "\n",
              "        initial_list_status last_pymnt_d last_credit_pull_d application_type  \\\n",
              "0                         w     Jan-2019           Mar-2019       Individual   \n",
              "1                         w     Jun-2016           Mar-2019       Individual   \n",
              "2                         w     Jun-2017           Mar-2019        Joint App   \n",
              "4                         w     Jul-2016           Mar-2018       Individual   \n",
              "5                         w     May-2017           May-2017       Individual   \n",
              "...                     ...          ...                ...              ...   \n",
              "2260688                   f     Aug-2018           Mar-2019       Individual   \n",
              "2260690                   f     Jul-2018           Jul-2018       Individual   \n",
              "2260691                   f     Mar-2017           Dec-2018       Individual   \n",
              "2260692                   f     Mar-2018           Mar-2019       Individual   \n",
              "2260697                   f     Oct-2017           Mar-2019       Individual   \n",
              "\n",
              "        hardship_flag disbursement_method debt_settlement_flag  \n",
              "0                   N                Cash                    N  \n",
              "1                   N                Cash                    N  \n",
              "2                   N                Cash                    N  \n",
              "4                   N                Cash                    N  \n",
              "5                   N                Cash                    N  \n",
              "...               ...                 ...                  ...  \n",
              "2260688             N                Cash                    N  \n",
              "2260690             N                Cash                    N  \n",
              "2260691             N                Cash                    N  \n",
              "2260692             N                Cash                    N  \n",
              "2260697             N                Cash                    Y  \n",
              "\n",
              "[1341026 rows x 20 columns]"
            ],
            "text/html": [
              "\n",
              "  <div id=\"df-29743a35-24f3-430d-99ab-4bee3bde4cd7\">\n",
              "    <div class=\"colab-df-container\">\n",
              "      <div>\n",
              "<style scoped>\n",
              "    .dataframe tbody tr th:only-of-type {\n",
              "        vertical-align: middle;\n",
              "    }\n",
              "\n",
              "    .dataframe tbody tr th {\n",
              "        vertical-align: top;\n",
              "    }\n",
              "\n",
              "    .dataframe thead th {\n",
              "        text-align: right;\n",
              "    }\n",
              "</style>\n",
              "<table border=\"1\" class=\"dataframe\">\n",
              "  <thead>\n",
              "    <tr style=\"text-align: right;\">\n",
              "      <th></th>\n",
              "      <th>id</th>\n",
              "      <th>term</th>\n",
              "      <th>grade</th>\n",
              "      <th>sub_grade</th>\n",
              "      <th>home_ownership</th>\n",
              "      <th>verification_status</th>\n",
              "      <th>issue_d</th>\n",
              "      <th>pymnt_plan</th>\n",
              "      <th>url</th>\n",
              "      <th>purpose</th>\n",
              "      <th>zip_code</th>\n",
              "      <th>addr_state</th>\n",
              "      <th>earliest_cr_line</th>\n",
              "      <th>initial_list_status</th>\n",
              "      <th>last_pymnt_d</th>\n",
              "      <th>last_credit_pull_d</th>\n",
              "      <th>application_type</th>\n",
              "      <th>hardship_flag</th>\n",
              "      <th>disbursement_method</th>\n",
              "      <th>debt_settlement_flag</th>\n",
              "    </tr>\n",
              "  </thead>\n",
              "  <tbody>\n",
              "    <tr>\n",
              "      <th>0</th>\n",
              "      <td>68407277</td>\n",
              "      <td>36 months</td>\n",
              "      <td>C</td>\n",
              "      <td>C4</td>\n",
              "      <td>MORTGAGE</td>\n",
              "      <td>Not Verified</td>\n",
              "      <td>Dec-2015</td>\n",
              "      <td>n</td>\n",
              "      <td>https://lendingclub.com/browse/loanDetail.acti...</td>\n",
              "      <td>debt_consolidation</td>\n",
              "      <td>190xx</td>\n",
              "      <td>PA</td>\n",
              "      <td>Aug-2003</td>\n",
              "      <td>w</td>\n",
              "      <td>Jan-2019</td>\n",
              "      <td>Mar-2019</td>\n",
              "      <td>Individual</td>\n",
              "      <td>N</td>\n",
              "      <td>Cash</td>\n",
              "      <td>N</td>\n",
              "    </tr>\n",
              "    <tr>\n",
              "      <th>1</th>\n",
              "      <td>68355089</td>\n",
              "      <td>36 months</td>\n",
              "      <td>C</td>\n",
              "      <td>C1</td>\n",
              "      <td>MORTGAGE</td>\n",
              "      <td>Not Verified</td>\n",
              "      <td>Dec-2015</td>\n",
              "      <td>n</td>\n",
              "      <td>https://lendingclub.com/browse/loanDetail.acti...</td>\n",
              "      <td>small_business</td>\n",
              "      <td>577xx</td>\n",
              "      <td>SD</td>\n",
              "      <td>Dec-1999</td>\n",
              "      <td>w</td>\n",
              "      <td>Jun-2016</td>\n",
              "      <td>Mar-2019</td>\n",
              "      <td>Individual</td>\n",
              "      <td>N</td>\n",
              "      <td>Cash</td>\n",
              "      <td>N</td>\n",
              "    </tr>\n",
              "    <tr>\n",
              "      <th>2</th>\n",
              "      <td>68341763</td>\n",
              "      <td>60 months</td>\n",
              "      <td>B</td>\n",
              "      <td>B4</td>\n",
              "      <td>MORTGAGE</td>\n",
              "      <td>Not Verified</td>\n",
              "      <td>Dec-2015</td>\n",
              "      <td>n</td>\n",
              "      <td>https://lendingclub.com/browse/loanDetail.acti...</td>\n",
              "      <td>home_improvement</td>\n",
              "      <td>605xx</td>\n",
              "      <td>IL</td>\n",
              "      <td>Aug-2000</td>\n",
              "      <td>w</td>\n",
              "      <td>Jun-2017</td>\n",
              "      <td>Mar-2019</td>\n",
              "      <td>Joint App</td>\n",
              "      <td>N</td>\n",
              "      <td>Cash</td>\n",
              "      <td>N</td>\n",
              "    </tr>\n",
              "    <tr>\n",
              "      <th>4</th>\n",
              "      <td>68476807</td>\n",
              "      <td>60 months</td>\n",
              "      <td>F</td>\n",
              "      <td>F1</td>\n",
              "      <td>MORTGAGE</td>\n",
              "      <td>Source Verified</td>\n",
              "      <td>Dec-2015</td>\n",
              "      <td>n</td>\n",
              "      <td>https://lendingclub.com/browse/loanDetail.acti...</td>\n",
              "      <td>major_purchase</td>\n",
              "      <td>174xx</td>\n",
              "      <td>PA</td>\n",
              "      <td>Jun-1998</td>\n",
              "      <td>w</td>\n",
              "      <td>Jul-2016</td>\n",
              "      <td>Mar-2018</td>\n",
              "      <td>Individual</td>\n",
              "      <td>N</td>\n",
              "      <td>Cash</td>\n",
              "      <td>N</td>\n",
              "    </tr>\n",
              "    <tr>\n",
              "      <th>5</th>\n",
              "      <td>68426831</td>\n",
              "      <td>36 months</td>\n",
              "      <td>C</td>\n",
              "      <td>C3</td>\n",
              "      <td>RENT</td>\n",
              "      <td>Source Verified</td>\n",
              "      <td>Dec-2015</td>\n",
              "      <td>n</td>\n",
              "      <td>https://lendingclub.com/browse/loanDetail.acti...</td>\n",
              "      <td>debt_consolidation</td>\n",
              "      <td>300xx</td>\n",
              "      <td>GA</td>\n",
              "      <td>Oct-1987</td>\n",
              "      <td>w</td>\n",
              "      <td>May-2017</td>\n",
              "      <td>May-2017</td>\n",
              "      <td>Individual</td>\n",
              "      <td>N</td>\n",
              "      <td>Cash</td>\n",
              "      <td>N</td>\n",
              "    </tr>\n",
              "    <tr>\n",
              "      <th>...</th>\n",
              "      <td>...</td>\n",
              "      <td>...</td>\n",
              "      <td>...</td>\n",
              "      <td>...</td>\n",
              "      <td>...</td>\n",
              "      <td>...</td>\n",
              "      <td>...</td>\n",
              "      <td>...</td>\n",
              "      <td>...</td>\n",
              "      <td>...</td>\n",
              "      <td>...</td>\n",
              "      <td>...</td>\n",
              "      <td>...</td>\n",
              "      <td>...</td>\n",
              "      <td>...</td>\n",
              "      <td>...</td>\n",
              "      <td>...</td>\n",
              "      <td>...</td>\n",
              "      <td>...</td>\n",
              "      <td>...</td>\n",
              "    </tr>\n",
              "    <tr>\n",
              "      <th>2260688</th>\n",
              "      <td>89905081</td>\n",
              "      <td>60 months</td>\n",
              "      <td>B</td>\n",
              "      <td>B2</td>\n",
              "      <td>OWN</td>\n",
              "      <td>Not Verified</td>\n",
              "      <td>Oct-2016</td>\n",
              "      <td>n</td>\n",
              "      <td>https://lendingclub.com/browse/loanDetail.acti...</td>\n",
              "      <td>home_improvement</td>\n",
              "      <td>775xx</td>\n",
              "      <td>TX</td>\n",
              "      <td>Jul-2004</td>\n",
              "      <td>f</td>\n",
              "      <td>Aug-2018</td>\n",
              "      <td>Mar-2019</td>\n",
              "      <td>Individual</td>\n",
              "      <td>N</td>\n",
              "      <td>Cash</td>\n",
              "      <td>N</td>\n",
              "    </tr>\n",
              "    <tr>\n",
              "      <th>2260690</th>\n",
              "      <td>88948836</td>\n",
              "      <td>60 months</td>\n",
              "      <td>C</td>\n",
              "      <td>C3</td>\n",
              "      <td>MORTGAGE</td>\n",
              "      <td>Not Verified</td>\n",
              "      <td>Oct-2016</td>\n",
              "      <td>n</td>\n",
              "      <td>https://lendingclub.com/browse/loanDetail.acti...</td>\n",
              "      <td>debt_consolidation</td>\n",
              "      <td>900xx</td>\n",
              "      <td>CA</td>\n",
              "      <td>Mar-2002</td>\n",
              "      <td>f</td>\n",
              "      <td>Jul-2018</td>\n",
              "      <td>Jul-2018</td>\n",
              "      <td>Individual</td>\n",
              "      <td>N</td>\n",
              "      <td>Cash</td>\n",
              "      <td>N</td>\n",
              "    </tr>\n",
              "    <tr>\n",
              "      <th>2260691</th>\n",
              "      <td>89996426</td>\n",
              "      <td>60 months</td>\n",
              "      <td>C</td>\n",
              "      <td>C4</td>\n",
              "      <td>MORTGAGE</td>\n",
              "      <td>Source Verified</td>\n",
              "      <td>Oct-2016</td>\n",
              "      <td>n</td>\n",
              "      <td>https://lendingclub.com/browse/loanDetail.acti...</td>\n",
              "      <td>home_improvement</td>\n",
              "      <td>863xx</td>\n",
              "      <td>AZ</td>\n",
              "      <td>Jun-2011</td>\n",
              "      <td>f</td>\n",
              "      <td>Mar-2017</td>\n",
              "      <td>Dec-2018</td>\n",
              "      <td>Individual</td>\n",
              "      <td>N</td>\n",
              "      <td>Cash</td>\n",
              "      <td>N</td>\n",
              "    </tr>\n",
              "    <tr>\n",
              "      <th>2260692</th>\n",
              "      <td>90006534</td>\n",
              "      <td>60 months</td>\n",
              "      <td>C</td>\n",
              "      <td>C1</td>\n",
              "      <td>RENT</td>\n",
              "      <td>Not Verified</td>\n",
              "      <td>Oct-2016</td>\n",
              "      <td>n</td>\n",
              "      <td>https://lendingclub.com/browse/loanDetail.acti...</td>\n",
              "      <td>medical</td>\n",
              "      <td>284xx</td>\n",
              "      <td>NC</td>\n",
              "      <td>Aug-1997</td>\n",
              "      <td>f</td>\n",
              "      <td>Mar-2018</td>\n",
              "      <td>Mar-2019</td>\n",
              "      <td>Individual</td>\n",
              "      <td>N</td>\n",
              "      <td>Cash</td>\n",
              "      <td>N</td>\n",
              "    </tr>\n",
              "    <tr>\n",
              "      <th>2260697</th>\n",
              "      <td>88224441</td>\n",
              "      <td>60 months</td>\n",
              "      <td>C</td>\n",
              "      <td>C4</td>\n",
              "      <td>RENT</td>\n",
              "      <td>Not Verified</td>\n",
              "      <td>Oct-2016</td>\n",
              "      <td>n</td>\n",
              "      <td>https://lendingclub.com/browse/loanDetail.acti...</td>\n",
              "      <td>debt_consolidation</td>\n",
              "      <td>334xx</td>\n",
              "      <td>FL</td>\n",
              "      <td>Jul-1999</td>\n",
              "      <td>f</td>\n",
              "      <td>Oct-2017</td>\n",
              "      <td>Mar-2019</td>\n",
              "      <td>Individual</td>\n",
              "      <td>N</td>\n",
              "      <td>Cash</td>\n",
              "      <td>Y</td>\n",
              "    </tr>\n",
              "  </tbody>\n",
              "</table>\n",
              "<p>1341026 rows × 20 columns</p>\n",
              "</div>\n",
              "      <button class=\"colab-df-convert\" onclick=\"convertToInteractive('df-29743a35-24f3-430d-99ab-4bee3bde4cd7')\"\n",
              "              title=\"Convert this dataframe to an interactive table.\"\n",
              "              style=\"display:none;\">\n",
              "        \n",
              "  <svg xmlns=\"http://www.w3.org/2000/svg\" height=\"24px\"viewBox=\"0 0 24 24\"\n",
              "       width=\"24px\">\n",
              "    <path d=\"M0 0h24v24H0V0z\" fill=\"none\"/>\n",
              "    <path d=\"M18.56 5.44l.94 2.06.94-2.06 2.06-.94-2.06-.94-.94-2.06-.94 2.06-2.06.94zm-11 1L8.5 8.5l.94-2.06 2.06-.94-2.06-.94L8.5 2.5l-.94 2.06-2.06.94zm10 10l.94 2.06.94-2.06 2.06-.94-2.06-.94-.94-2.06-.94 2.06-2.06.94z\"/><path d=\"M17.41 7.96l-1.37-1.37c-.4-.4-.92-.59-1.43-.59-.52 0-1.04.2-1.43.59L10.3 9.45l-7.72 7.72c-.78.78-.78 2.05 0 2.83L4 21.41c.39.39.9.59 1.41.59.51 0 1.02-.2 1.41-.59l7.78-7.78 2.81-2.81c.8-.78.8-2.07 0-2.86zM5.41 20L4 18.59l7.72-7.72 1.47 1.35L5.41 20z\"/>\n",
              "  </svg>\n",
              "      </button>\n",
              "      \n",
              "  <style>\n",
              "    .colab-df-container {\n",
              "      display:flex;\n",
              "      flex-wrap:wrap;\n",
              "      gap: 12px;\n",
              "    }\n",
              "\n",
              "    .colab-df-convert {\n",
              "      background-color: #E8F0FE;\n",
              "      border: none;\n",
              "      border-radius: 50%;\n",
              "      cursor: pointer;\n",
              "      display: none;\n",
              "      fill: #1967D2;\n",
              "      height: 32px;\n",
              "      padding: 0 0 0 0;\n",
              "      width: 32px;\n",
              "    }\n",
              "\n",
              "    .colab-df-convert:hover {\n",
              "      background-color: #E2EBFA;\n",
              "      box-shadow: 0px 1px 2px rgba(60, 64, 67, 0.3), 0px 1px 3px 1px rgba(60, 64, 67, 0.15);\n",
              "      fill: #174EA6;\n",
              "    }\n",
              "\n",
              "    [theme=dark] .colab-df-convert {\n",
              "      background-color: #3B4455;\n",
              "      fill: #D2E3FC;\n",
              "    }\n",
              "\n",
              "    [theme=dark] .colab-df-convert:hover {\n",
              "      background-color: #434B5C;\n",
              "      box-shadow: 0px 1px 3px 1px rgba(0, 0, 0, 0.15);\n",
              "      filter: drop-shadow(0px 1px 2px rgba(0, 0, 0, 0.3));\n",
              "      fill: #FFFFFF;\n",
              "    }\n",
              "  </style>\n",
              "\n",
              "      <script>\n",
              "        const buttonEl =\n",
              "          document.querySelector('#df-29743a35-24f3-430d-99ab-4bee3bde4cd7 button.colab-df-convert');\n",
              "        buttonEl.style.display =\n",
              "          google.colab.kernel.accessAllowed ? 'block' : 'none';\n",
              "\n",
              "        async function convertToInteractive(key) {\n",
              "          const element = document.querySelector('#df-29743a35-24f3-430d-99ab-4bee3bde4cd7');\n",
              "          const dataTable =\n",
              "            await google.colab.kernel.invokeFunction('convertToInteractive',\n",
              "                                                     [key], {});\n",
              "          if (!dataTable) return;\n",
              "\n",
              "          const docLinkHtml = 'Like what you see? Visit the ' +\n",
              "            '<a target=\"_blank\" href=https://colab.research.google.com/notebooks/data_table.ipynb>data table notebook</a>'\n",
              "            + ' to learn more about interactive tables.';\n",
              "          element.innerHTML = '';\n",
              "          dataTable['output_type'] = 'display_data';\n",
              "          await google.colab.output.renderOutput(dataTable, element);\n",
              "          const docLink = document.createElement('div');\n",
              "          docLink.innerHTML = docLinkHtml;\n",
              "          element.appendChild(docLink);\n",
              "        }\n",
              "      </script>\n",
              "    </div>\n",
              "  </div>\n",
              "  "
            ]
          },
          "metadata": {},
          "execution_count": 22
        }
      ]
    },
    {
      "cell_type": "markdown",
      "source": [
        "### Dropping features 'id', 'pymnt_plan' and 'hardship_flag'"
      ],
      "metadata": {
        "id": "rmipH3alZ1Xm"
      }
    },
    {
      "cell_type": "code",
      "source": [
        "# constant features (pymnt_plan and hardship_flag)\n",
        "print(accepted_loans['pymnt_plan'].value_counts())\n",
        "print(accepted_loans['hardship_flag'].value_counts())"
      ],
      "metadata": {
        "colab": {
          "base_uri": "https://localhost:8080/"
        },
        "id": "ArATw96gYhI8",
        "outputId": "da0cad2e-a406-449b-8f59-33ff9485d206"
      },
      "execution_count": 23,
      "outputs": [
        {
          "output_type": "stream",
          "name": "stdout",
          "text": [
            "n    1341026\n",
            "Name: pymnt_plan, dtype: int64\n",
            "N    1341026\n",
            "Name: hardship_flag, dtype: int64\n"
          ]
        }
      ]
    },
    {
      "cell_type": "code",
      "source": [
        "dropping_columns = ['id', 'pymnt_plan', 'hardship_flag']\n",
        "accepted_loans = accepted_loans.drop(columns=dropping_columns)\n",
        "accepted_loans.shape"
      ],
      "metadata": {
        "colab": {
          "base_uri": "https://localhost:8080/"
        },
        "id": "p9YFYh6oZtPe",
        "outputId": "9e989a44-f6a0-41aa-cb40-637bff2bf672"
      },
      "execution_count": 24,
      "outputs": [
        {
          "output_type": "execute_result",
          "data": {
            "text/plain": [
              "(1341026, 41)"
            ]
          },
          "metadata": {},
          "execution_count": 24
        }
      ]
    },
    {
      "cell_type": "code",
      "source": [
        "categorical_columns = accepted_loans.select_dtypes(include='object').columns\n",
        "print(len(categorical_columns))\n",
        "print(categorical_columns)"
      ],
      "metadata": {
        "colab": {
          "base_uri": "https://localhost:8080/"
        },
        "id": "XKjEnsN7aWrb",
        "outputId": "57205154-40cd-4582-a424-484c04d67094"
      },
      "execution_count": 25,
      "outputs": [
        {
          "output_type": "stream",
          "name": "stdout",
          "text": [
            "17\n",
            "Index(['term', 'grade', 'sub_grade', 'home_ownership', 'verification_status',\n",
            "       'issue_d', 'url', 'purpose', 'zip_code', 'addr_state',\n",
            "       'earliest_cr_line', 'initial_list_status', 'last_pymnt_d',\n",
            "       'last_credit_pull_d', 'application_type', 'disbursement_method',\n",
            "       'debt_settlement_flag'],\n",
            "      dtype='object')\n"
          ]
        }
      ]
    },
    {
      "cell_type": "markdown",
      "source": [
        "### Features 'term'"
      ],
      "metadata": {
        "id": "V8C9wW31bydC"
      }
    },
    {
      "cell_type": "code",
      "source": [
        "print(accepted_loans['term'].value_counts())"
      ],
      "metadata": {
        "colab": {
          "base_uri": "https://localhost:8080/"
        },
        "id": "r3CoXVkhawo8",
        "outputId": "6242a07e-5636-4eba-cbe1-9418c5f38632"
      },
      "execution_count": 26,
      "outputs": [
        {
          "output_type": "stream",
          "name": "stdout",
          "text": [
            " 36 months    1017398\n",
            " 60 months     323628\n",
            "Name: term, dtype: int64\n"
          ]
        }
      ]
    },
    {
      "cell_type": "code",
      "source": [
        "# convert term into either a 36 or 60 integer numeric data type\n",
        "accepted_loans['term'] = accepted_loans['term'].apply(lambda x: 36 if x == '36 months' else 60) \n",
        "accepted_loans['term']"
      ],
      "metadata": {
        "colab": {
          "base_uri": "https://localhost:8080/"
        },
        "id": "JMxNPOwHcLMf",
        "outputId": "5b50174f-3f5b-4452-d756-87760ebed054"
      },
      "execution_count": 27,
      "outputs": [
        {
          "output_type": "execute_result",
          "data": {
            "text/plain": [
              "0          60\n",
              "1          60\n",
              "2          60\n",
              "4          60\n",
              "5          60\n",
              "           ..\n",
              "2260688    60\n",
              "2260690    60\n",
              "2260691    60\n",
              "2260692    60\n",
              "2260697    60\n",
              "Name: term, Length: 1341026, dtype: int64"
            ]
          },
          "metadata": {},
          "execution_count": 27
        }
      ]
    },
    {
      "cell_type": "code",
      "source": [
        "categorical_columns = accepted_loans.select_dtypes(include='object').columns\n",
        "print(categorical_columns)\n",
        "print(len(categorical_columns))"
      ],
      "metadata": {
        "colab": {
          "base_uri": "https://localhost:8080/"
        },
        "id": "bRcae4PjdeXu",
        "outputId": "8c9ba945-f278-45a2-a2ca-c60d13c9a14d"
      },
      "execution_count": 28,
      "outputs": [
        {
          "output_type": "stream",
          "name": "stdout",
          "text": [
            "Index(['grade', 'sub_grade', 'home_ownership', 'verification_status',\n",
            "       'issue_d', 'url', 'purpose', 'zip_code', 'addr_state',\n",
            "       'earliest_cr_line', 'initial_list_status', 'last_pymnt_d',\n",
            "       'last_credit_pull_d', 'application_type', 'disbursement_method',\n",
            "       'debt_settlement_flag'],\n",
            "      dtype='object')\n",
            "16\n"
          ]
        }
      ]
    },
    {
      "cell_type": "markdown",
      "source": [
        "### Features \"grade\" and \"sub_grade\""
      ],
      "metadata": {
        "id": "fumefqWOeM38"
      }
    },
    {
      "cell_type": "code",
      "source": [
        "print(accepted_loans['grade'].value_counts())"
      ],
      "metadata": {
        "colab": {
          "base_uri": "https://localhost:8080/"
        },
        "id": "-4REqIbmeDXo",
        "outputId": "14f4fa39-6182-452c-8b23-8157215f4c88"
      },
      "execution_count": 29,
      "outputs": [
        {
          "output_type": "stream",
          "name": "stdout",
          "text": [
            "B    391850\n",
            "C    380490\n",
            "A    234657\n",
            "D    200019\n",
            "E     93126\n",
            "F     31854\n",
            "G      9030\n",
            "Name: grade, dtype: int64\n"
          ]
        }
      ]
    },
    {
      "cell_type": "code",
      "source": [
        "print(accepted_loans['sub_grade'].value_counts())"
      ],
      "metadata": {
        "colab": {
          "base_uri": "https://localhost:8080/"
        },
        "id": "aLmbh4n0eeep",
        "outputId": "05cefca0-f4c2-47c8-de3b-d3878d3272a4"
      },
      "execution_count": 30,
      "outputs": [
        {
          "output_type": "stream",
          "name": "stdout",
          "text": [
            "C1    85247\n",
            "B4    83003\n",
            "B5    82327\n",
            "B3    81658\n",
            "C2    78960\n",
            "C3    74781\n",
            "C4    74173\n",
            "B2    73870\n",
            "B1    70992\n",
            "C5    67329\n",
            "A5    63892\n",
            "A4    52135\n",
            "D1    51092\n",
            "D2    44637\n",
            "A1    43634\n",
            "D3    39134\n",
            "A3    37900\n",
            "A2    37096\n",
            "D4    35412\n",
            "D5    29744\n",
            "E1    23657\n",
            "E2    21244\n",
            "E3    18279\n",
            "E4    15621\n",
            "E5    14325\n",
            "F1     9914\n",
            "F2     7149\n",
            "F3     6055\n",
            "F4     4826\n",
            "F5     3910\n",
            "G1     2967\n",
            "G2     2109\n",
            "G3     1600\n",
            "G4     1259\n",
            "G5     1095\n",
            "Name: sub_grade, dtype: int64\n"
          ]
        }
      ]
    },
    {
      "cell_type": "code",
      "source": [
        "# checking count per grade and loan_paid\n",
        "plt.figure(figsize=(12, 7))\n",
        "sns.countplot(x=accepted_loans['grade'], hue=accepted_loans['loan_paid'])"
      ],
      "metadata": {
        "colab": {
          "base_uri": "https://localhost:8080/",
          "height": 459
        },
        "id": "HMWaZkHmel2U",
        "outputId": "13a8a367-4173-48af-b28c-7dc3b6db56bd"
      },
      "execution_count": 31,
      "outputs": [
        {
          "output_type": "execute_result",
          "data": {
            "text/plain": [
              "<matplotlib.axes._subplots.AxesSubplot at 0x7f77eb79da10>"
            ]
          },
          "metadata": {},
          "execution_count": 31
        },
        {
          "output_type": "display_data",
          "data": {
            "text/plain": [
              "<Figure size 864x504 with 1 Axes>"
            ],
            "image/png": "[encoded data removed]"
          },
          "metadata": {
            "needs_background": "light"
          }
        }
      ]
    },
    {
      "cell_type": "code",
      "source": [
        "# checking count per subgrade and loan_paid\n",
        "plt.figure(figsize=(21, 7))\n",
        "sns.countplot(x=accepted_loans['sub_grade'], hue=accepted_loans['loan_paid'])"
      ],
      "metadata": {
        "colab": {
          "base_uri": "https://localhost:8080/",
          "height": 397
        },
        "id": "yvXYCXy4f0xZ",
        "outputId": "cd569114-00a4-4bfc-bb05-8d2029399a43"
      },
      "execution_count": null,
      "outputs": [
        {
          "output_type": "execute_result",
          "data": {
            "text/plain": [
              "<matplotlib.axes._subplots.AxesSubplot at 0x7f628731b890>"
            ]
          },
          "metadata": {},
          "execution_count": 31
        },
        {
          "output_type": "display_data",
          "data": {
            "text/plain": [
              "<Figure size 1512x504 with 1 Axes>"
            ],
            "image/png": "[encoded data removed]"
          },
          "metadata": {
            "needs_background": "light"
          }
        }
      ]
    },
    {
      "cell_type": "code",
      "source": [
        "# Since grade is part of sub_grade, so let's just drop the grade feature\n",
        "accepted_loans.drop('grade', axis=1, inplace=True)"
      ],
      "metadata": {
        "id": "roiCPMhrgVw0"
      },
      "execution_count": 32,
      "outputs": []
    },
    {
      "cell_type": "code",
      "source": [
        "accepted_loans.shape"
      ],
      "metadata": {
        "colab": {
          "base_uri": "https://localhost:8080/"
        },
        "id": "GTZwP-6QzJHV",
        "outputId": "f913f740-afd4-406f-ecaa-63dde08186b8"
      },
      "execution_count": 33,
      "outputs": [
        {
          "output_type": "execute_result",
          "data": {
            "text/plain": [
              "(1341026, 40)"
            ]
          },
          "metadata": {},
          "execution_count": 33
        }
      ]
    },
    {
      "cell_type": "code",
      "source": [
        "accepted_loans = pd.get_dummies(accepted_loans, columns=['sub_grade'], prefix='sub_grade', prefix_sep='_', drop_first=True)"
      ],
      "metadata": {
        "id": "ahRdxLHlhOYu"
      },
      "execution_count": 34,
      "outputs": []
    },
    {
      "cell_type": "code",
      "source": [
        "categorical_columns = accepted_loans.select_dtypes(include='object').columns\n",
        "print(categorical_columns)\n",
        "print(len(categorical_columns))"
      ],
      "metadata": {
        "colab": {
          "base_uri": "https://localhost:8080/"
        },
        "id": "pwAqcvu5jte7",
        "outputId": "e34991fa-7efb-4fa8-f805-0b9f29728e11"
      },
      "execution_count": 35,
      "outputs": [
        {
          "output_type": "stream",
          "name": "stdout",
          "text": [
            "Index(['home_ownership', 'verification_status', 'issue_d', 'url', 'purpose',\n",
            "       'zip_code', 'addr_state', 'earliest_cr_line', 'initial_list_status',\n",
            "       'last_pymnt_d', 'last_credit_pull_d', 'application_type',\n",
            "       'disbursement_method', 'debt_settlement_flag'],\n",
            "      dtype='object')\n",
            "14\n"
          ]
        }
      ]
    },
    {
      "cell_type": "markdown",
      "source": [
        "### Features 'verification_status', 'purpose', 'application_type', 'initial_list_status' and 'home_ownership'"
      ],
      "metadata": {
        "id": "vCvSc3LLksV7"
      }
    },
    {
      "cell_type": "code",
      "source": [
        "dummies = ['verification_status', 'purpose', 'initial_list_status', 'application_type', 'home_ownership']\n",
        "for dummy_var in dummies:\n",
        "  print(accepted_loans[dummy_var].unique())"
      ],
      "metadata": {
        "colab": {
          "base_uri": "https://localhost:8080/"
        },
        "id": "pTSAYz0gkOkR",
        "outputId": "914c6935-8c98-460f-8cc2-7e62bdef9fe3"
      },
      "execution_count": 36,
      "outputs": [
        {
          "output_type": "stream",
          "name": "stdout",
          "text": [
            "['Not Verified' 'Source Verified' 'Verified']\n",
            "['debt_consolidation' 'small_business' 'home_improvement' 'major_purchase'\n",
            " 'credit_card' 'other' 'house' 'vacation' 'car' 'medical' 'moving'\n",
            " 'renewable_energy' 'wedding' 'educational']\n",
            "['w' 'f']\n",
            "['Individual' 'Joint App']\n",
            "['MORTGAGE' 'RENT' 'OWN' 'ANY' 'NONE' 'OTHER']\n"
          ]
        }
      ]
    },
    {
      "cell_type": "markdown",
      "source": [
        "For these columns, let's just create dummy variables, concatenate them with the original dataframe and drop original columns."
      ],
      "metadata": {
        "id": "ZpU3gtStoTnj"
      }
    },
    {
      "cell_type": "code",
      "source": [
        "for dummy_var in dummies:\n",
        "  accepted_loans = pd.get_dummies(accepted_loans, prefix=dummy_var, columns=[dummy_var], drop_first=True)"
      ],
      "metadata": {
        "id": "NlfL6svtoJK5"
      },
      "execution_count": 37,
      "outputs": []
    },
    {
      "cell_type": "code",
      "source": [
        "categorical_columns = accepted_loans.select_dtypes(include='object').columns\n",
        "print(categorical_columns)\n",
        "print(len(categorical_columns))"
      ],
      "metadata": {
        "colab": {
          "base_uri": "https://localhost:8080/"
        },
        "id": "_G1rLcycovaP",
        "outputId": "5d710c8b-5768-4fd0-e8d2-701b63a28ac4"
      },
      "execution_count": 38,
      "outputs": [
        {
          "output_type": "stream",
          "name": "stdout",
          "text": [
            "Index(['issue_d', 'url', 'zip_code', 'addr_state', 'earliest_cr_line',\n",
            "       'last_pymnt_d', 'last_credit_pull_d', 'disbursement_method',\n",
            "       'debt_settlement_flag'],\n",
            "      dtype='object')\n",
            "9\n"
          ]
        }
      ]
    },
    {
      "cell_type": "markdown",
      "source": [
        "### Features 'issue_d', 'url', 'last_pymnt_d' and 'last_credit_pull_d'"
      ],
      "metadata": {
        "id": "hYRAKsA_p5Fz"
      }
    },
    {
      "cell_type": "code",
      "source": [
        "print(accepted_loans['issue_d'].value_counts())"
      ],
      "metadata": {
        "colab": {
          "base_uri": "https://localhost:8080/"
        },
        "id": "lzg8N8Htpe3a",
        "outputId": "caf56716-d5db-4c7b-e076-59189a41251e"
      },
      "execution_count": 39,
      "outputs": [
        {
          "output_type": "stream",
          "name": "stdout",
          "text": [
            "Mar-2016    48828\n",
            "Oct-2015    42948\n",
            "Jul-2015    40995\n",
            "Dec-2015    38950\n",
            "Oct-2014    36018\n",
            "            ...  \n",
            "Feb-2008        7\n",
            "Jan-2008        6\n",
            "Nov-2007        2\n",
            "Dec-2007        2\n",
            "Oct-2007        1\n",
            "Name: issue_d, Length: 135, dtype: int64\n"
          ]
        }
      ]
    },
    {
      "cell_type": "code",
      "source": [
        "print(accepted_loans['url'].value_counts())"
      ],
      "metadata": {
        "colab": {
          "base_uri": "https://localhost:8080/"
        },
        "id": "rPcD2HW7qS2j",
        "outputId": "aa39e03d-0876-4b5a-dbc5-8d0d0e0cd1e5"
      },
      "execution_count": null,
      "outputs": [
        {
          "output_type": "stream",
          "name": "stdout",
          "text": [
            "https://lendingclub.com/browse/loanDetail.action?loan_id=68407277     1\n",
            "https://lendingclub.com/browse/loanDetail.action?loan_id=143889346    1\n",
            "https://lendingclub.com/browse/loanDetail.action?loan_id=144187055    1\n",
            "https://lendingclub.com/browse/loanDetail.action?loan_id=143508756    1\n",
            "https://lendingclub.com/browse/loanDetail.action?loan_id=144206887    1\n",
            "                                                                     ..\n",
            "https://lendingclub.com/browse/loanDetail.action?loan_id=81376539     1\n",
            "https://lendingclub.com/browse/loanDetail.action?loan_id=82257177     1\n",
            "https://lendingclub.com/browse/loanDetail.action?loan_id=82020311     1\n",
            "https://lendingclub.com/browse/loanDetail.action?loan_id=82010251     1\n",
            "https://lendingclub.com/browse/loanDetail.action?loan_id=88224441     1\n",
            "Name: url, Length: 1341026, dtype: int64\n"
          ]
        }
      ]
    },
    {
      "cell_type": "code",
      "source": [
        "print(accepted_loans['last_credit_pull_d'].value_counts())"
      ],
      "metadata": {
        "colab": {
          "base_uri": "https://localhost:8080/"
        },
        "id": "41gF7M9WqZFZ",
        "outputId": "6464fe20-cf6b-4aa1-f6fd-35233b52efb9"
      },
      "execution_count": null,
      "outputs": [
        {
          "output_type": "stream",
          "name": "stdout",
          "text": [
            "Mar-2019    469669\n",
            "Feb-2019     74703\n",
            "Jan-2019     61192\n",
            "Jul-2018     53396\n",
            "Oct-2016     50113\n",
            "             ...  \n",
            "Dec-2008         3\n",
            "Sep-2008         3\n",
            "Aug-2008         3\n",
            "Jun-2008         1\n",
            "Apr-2019         1\n",
            "Name: last_credit_pull_d, Length: 131, dtype: int64\n"
          ]
        }
      ]
    },
    {
      "cell_type": "markdown",
      "source": [
        "Let's drop these features"
      ],
      "metadata": {
        "id": "ZQ2GFKTpqg9v"
      }
    },
    {
      "cell_type": "code",
      "source": [
        "dropping_columns = ['issue_d', 'url', 'last_pymnt_d', 'last_credit_pull_d']\n",
        "accepted_loans = accepted_loans.drop(columns=dropping_columns)"
      ],
      "metadata": {
        "id": "04i0nbJWqfp_"
      },
      "execution_count": 40,
      "outputs": []
    },
    {
      "cell_type": "code",
      "source": [
        "categorical_columns = accepted_loans.select_dtypes(include='object').columns\n",
        "print(categorical_columns)\n",
        "print(len(categorical_columns))"
      ],
      "metadata": {
        "colab": {
          "base_uri": "https://localhost:8080/"
        },
        "id": "x61rFsV2qyDH",
        "outputId": "0a69e864-e4af-4433-87cc-14a24f04a19e"
      },
      "execution_count": 42,
      "outputs": [
        {
          "output_type": "stream",
          "name": "stdout",
          "text": [
            "Index(['zip_code', 'addr_state', 'earliest_cr_line', 'disbursement_method',\n",
            "       'debt_settlement_flag'],\n",
            "      dtype='object')\n",
            "5\n"
          ]
        }
      ]
    },
    {
      "cell_type": "markdown",
      "source": [
        "### Features 'disbursement_method' and 'debt_settlement_flag'"
      ],
      "metadata": {
        "id": "GmmuB7wnsH10"
      }
    },
    {
      "cell_type": "code",
      "source": [
        "plt.figure(figsize=(10, 7))\n",
        "sns.countplot(x=accepted_loans['debt_settlement_flag'], hue=accepted_loans['loan_paid'])"
      ],
      "metadata": {
        "colab": {
          "base_uri": "https://localhost:8080/",
          "height": 471
        },
        "id": "ou4_x9fJq_ep",
        "outputId": "7caa833d-a2d1-48f3-86d0-d7fc69c415a4"
      },
      "execution_count": 43,
      "outputs": [
        {
          "output_type": "execute_result",
          "data": {
            "text/plain": [
              "<matplotlib.axes._subplots.AxesSubplot at 0x7f77ea564d50>"
            ]
          },
          "metadata": {},
          "execution_count": 43
        },
        {
          "output_type": "display_data",
          "data": {
            "text/plain": [
              "<Figure size 720x504 with 1 Axes>"
            ],
            "image/png": "[encoded data removed]"
          },
          "metadata": {
            "needs_background": "light"
          }
        }
      ]
    },
    {
      "cell_type": "code",
      "source": [
        "plt.figure(figsize=(10, 7))\n",
        "sns.countplot(x=accepted_loans['disbursement_method'], hue=accepted_loans['loan_paid'])"
      ],
      "metadata": {
        "colab": {
          "base_uri": "https://localhost:8080/",
          "height": 471
        },
        "id": "KIQHB5pdshbR",
        "outputId": "d8e080d9-aa3c-474b-ee8f-ee03aef5dde4"
      },
      "execution_count": 44,
      "outputs": [
        {
          "output_type": "execute_result",
          "data": {
            "text/plain": [
              "<matplotlib.axes._subplots.AxesSubplot at 0x7f77ec263490>"
            ]
          },
          "metadata": {},
          "execution_count": 44
        },
        {
          "output_type": "display_data",
          "data": {
            "text/plain": [
              "<Figure size 720x504 with 1 Axes>"
            ],
            "image/png": "[encoded data removed]"
          },
          "metadata": {
            "needs_background": "light"
          }
        }
      ]
    },
    {
      "cell_type": "code",
      "source": [
        "print(accepted_loans['disbursement_method'].value_counts())\n",
        "print(accepted_loans['debt_settlement_flag'].value_counts())"
      ],
      "metadata": {
        "colab": {
          "base_uri": "https://localhost:8080/"
        },
        "id": "CfCVoT4_tPuL",
        "outputId": "ce40ed87-d1f2-4ed7-a263-b0af5103da8f"
      },
      "execution_count": null,
      "outputs": [
        {
          "output_type": "stream",
          "name": "stdout",
          "text": [
            "Cash         1334162\n",
            "DirectPay       6864\n",
            "Name: disbursement_method, dtype: int64\n",
            "N    1307844\n",
            "Y      33182\n",
            "Name: debt_settlement_flag, dtype: int64\n"
          ]
        }
      ]
    },
    {
      "cell_type": "markdown",
      "source": [
        "It seem that these features can cause data leakage, but I will get dummies first"
      ],
      "metadata": {
        "id": "EoT9NpAnuV9t"
      }
    },
    {
      "cell_type": "code",
      "source": [
        "#accepted_loans = pd.get_dummies(accepted_loans, columns = ['disbursement_method'], prefix='disbursement_method', drop_first=True)\n",
        "#accepted_loans = pd.get_dummies(accepted_loans, columns = ['debt_settlement_flag'], prefix='debt_settlement_flag', drop_first=True)\n",
        "dropping_columns = ['disbursement_method', 'debt_settlement_flag']\n",
        "accepted_loans = accepted_loans.drop(columns=dropping_columns)"
      ],
      "metadata": {
        "id": "rUbQQMQttp10"
      },
      "execution_count": 45,
      "outputs": []
    },
    {
      "cell_type": "code",
      "source": [
        "categorical_columns = accepted_loans.select_dtypes(include='object').columns\n",
        "print(categorical_columns)\n",
        "print(len(categorical_columns))"
      ],
      "metadata": {
        "colab": {
          "base_uri": "https://localhost:8080/"
        },
        "id": "56HN9OBiuMLL",
        "outputId": "7a7841dc-c90e-47b6-96b4-850d2a12865c"
      },
      "execution_count": 46,
      "outputs": [
        {
          "output_type": "stream",
          "name": "stdout",
          "text": [
            "Index(['zip_code', 'addr_state', 'earliest_cr_line'], dtype='object')\n",
            "3\n"
          ]
        }
      ]
    },
    {
      "cell_type": "markdown",
      "source": [
        "### Features 'zip_code' and 'addr_state'"
      ],
      "metadata": {
        "id": "1ko1IFbmvTsa"
      }
    },
    {
      "cell_type": "code",
      "source": [
        "print(accepted_loans['zip_code'].value_counts())"
      ],
      "metadata": {
        "colab": {
          "base_uri": "https://localhost:8080/"
        },
        "id": "lnhFCmz-vKvr",
        "outputId": "a7f9c84a-7a60-41a2-adb8-be54641a3687"
      },
      "execution_count": 47,
      "outputs": [
        {
          "output_type": "stream",
          "name": "stdout",
          "text": [
            "945xx    14964\n",
            "750xx    14440\n",
            "112xx    13781\n",
            "606xx    12407\n",
            "300xx    12087\n",
            "         ...  \n",
            "269xx        1\n",
            "009xx        1\n",
            "849xx        1\n",
            "513xx        1\n",
            "525xx        1\n",
            "Name: zip_code, Length: 943, dtype: int64\n"
          ]
        }
      ]
    },
    {
      "cell_type": "code",
      "source": [
        "# Drop 'zip_code' feature\n",
        "accepted_loans = accepted_loans.drop(columns=['zip_code'])"
      ],
      "metadata": {
        "id": "j5pEE3aPwZxf"
      },
      "execution_count": 48,
      "outputs": []
    },
    {
      "cell_type": "code",
      "source": [
        "print(accepted_loans['addr_state'].unique())\n",
        "print(len(accepted_loans['addr_state'].unique()))"
      ],
      "metadata": {
        "colab": {
          "base_uri": "https://localhost:8080/"
        },
        "id": "OKtXg_-fv38s",
        "outputId": "c6b62ae2-eb00-433b-ddeb-a79d1b3ffb72"
      },
      "execution_count": 49,
      "outputs": [
        {
          "output_type": "stream",
          "name": "stdout",
          "text": [
            "['PA' 'SD' 'IL' 'GA' 'MN' 'SC' 'RI' 'NC' 'CA' 'VA' 'AZ' 'IN' 'MD' 'NY'\n",
            " 'TX' 'KS' 'NM' 'AL' 'WA' 'OH' 'LA' 'FL' 'CO' 'MI' 'MO' 'DC' 'MA' 'WI'\n",
            " 'HI' 'VT' 'NJ' 'DE' 'TN' 'NH' 'NE' 'OR' 'CT' 'AR' 'NV' 'WV' 'MT' 'WY'\n",
            " 'OK' 'KY' 'MS' 'UT' 'ND' 'ME' 'AK' 'ID' 'IA']\n",
            "51\n"
          ]
        }
      ]
    },
    {
      "cell_type": "markdown",
      "source": [
        "51 states :::)))\n",
        "\n",
        "The 51st state may be the state of aliens :::)))\n",
        "\n",
        "Let's first drop this feature also"
      ],
      "metadata": {
        "id": "AcDRN90hwmDb"
      }
    },
    {
      "cell_type": "code",
      "source": [
        "#accepted_loans = accepted_loans.drop(columns=['addr_state'])\n",
        "accepted_loans = pd.get_dummies(accepted_loans, columns=['addr_state'], prefix='addr_state', drop_first=True)"
      ],
      "metadata": {
        "id": "wEGV-2JmwAAH"
      },
      "execution_count": 50,
      "outputs": []
    },
    {
      "cell_type": "code",
      "source": [
        "categorical_columns = accepted_loans.select_dtypes(include='object').columns\n",
        "print(categorical_columns)\n",
        "print(len(categorical_columns))"
      ],
      "metadata": {
        "colab": {
          "base_uri": "https://localhost:8080/"
        },
        "id": "p-CSM67R0tjM",
        "outputId": "f60c7935-b85f-44b9-95bd-91ed2673b15f"
      },
      "execution_count": 51,
      "outputs": [
        {
          "output_type": "stream",
          "name": "stdout",
          "text": [
            "Index(['earliest_cr_line'], dtype='object')\n",
            "1\n"
          ]
        }
      ]
    },
    {
      "cell_type": "code",
      "source": [
        "accepted_loans.drop('emp_title', axis=1, inplace=True)"
      ],
      "metadata": {
        "id": "Km89Xv8d1k_w"
      },
      "execution_count": null,
      "outputs": []
    },
    {
      "cell_type": "code",
      "source": [
        "accepted_loans.drop('title', axis=1, inplace=True)"
      ],
      "metadata": {
        "id": "_D4C8_kP1tGe"
      },
      "execution_count": null,
      "outputs": []
    },
    {
      "cell_type": "code",
      "source": [
        "accepted_loans.drop('emp_length', axis=1, inplace=True)"
      ],
      "metadata": {
        "id": "3GTR2V7Y2Pun"
      },
      "execution_count": null,
      "outputs": []
    },
    {
      "cell_type": "code",
      "source": [
        "accepted_loans.drop('issue_d', axis=1, inplace=True)"
      ],
      "metadata": {
        "id": "5nKmWaMd2iyB"
      },
      "execution_count": null,
      "outputs": []
    },
    {
      "cell_type": "markdown",
      "source": [
        "### Feature 'earliest_cr_line'"
      ],
      "metadata": {
        "id": "xekD8Cu8yn3t"
      }
    },
    {
      "cell_type": "code",
      "source": [
        "print(len(accepted_loans['earliest_cr_line'].unique()))"
      ],
      "metadata": {
        "colab": {
          "base_uri": "https://localhost:8080/"
        },
        "id": "ISEISOJTyU5B",
        "outputId": "6893e2ce-ec80-40cf-86dd-251ce67557e2"
      },
      "execution_count": 52,
      "outputs": [
        {
          "output_type": "stream",
          "name": "stdout",
          "text": [
            "739\n"
          ]
        }
      ]
    },
    {
      "cell_type": "markdown",
      "source": [
        "Can extract year or month part of this feature to observe seasonal effect but first I will drop it"
      ],
      "metadata": {
        "id": "Bdr4rVH4zI0c"
      }
    },
    {
      "cell_type": "code",
      "source": [
        "accepted_loans = accepted_loans.drop(columns=['earliest_cr_line'])"
      ],
      "metadata": {
        "id": "ZcX_ncP1zBp3"
      },
      "execution_count": 53,
      "outputs": []
    },
    {
      "cell_type": "code",
      "source": [
        "accepted_loans.info()"
      ],
      "metadata": {
        "colab": {
          "base_uri": "https://localhost:8080/"
        },
        "id": "UVVutq-ienQg",
        "outputId": "be3a9d87-e466-4a9e-cab2-2cdbbbbcd151"
      },
      "execution_count": 54,
      "outputs": [
        {
          "output_type": "stream",
          "name": "stdout",
          "text": [
            "<class 'pandas.core.frame.DataFrame'>\n",
            "Int64Index: 1341026 entries, 0 to 2260697\n",
            "Columns: 131 entries, loan_amnt to addr_state_WY\n",
            "dtypes: float64(23), int64(2), uint8(106)\n",
            "memory usage: 401.6 MB\n"
          ]
        }
      ]
    },
    {
      "cell_type": "markdown",
      "source": [
        "# Model Building and Training"
      ],
      "metadata": {
        "id": "u6fdZ_Di0J0j"
      }
    },
    {
      "cell_type": "markdown",
      "source": [
        "## ANN"
      ],
      "metadata": {
        "id": "hDbUtgOa0PN8"
      }
    },
    {
      "cell_type": "markdown",
      "source": [
        "### Features and labels"
      ],
      "metadata": {
        "id": "P6koh9k-2mlJ"
      }
    },
    {
      "cell_type": "code",
      "source": [
        "features = accepted_loans.loc[:, accepted_loans.columns != 'loan_paid'].values\n",
        "labels = accepted_loans['loan_paid'].values"
      ],
      "metadata": {
        "id": "G2QwQhpIznxe"
      },
      "execution_count": 55,
      "outputs": []
    },
    {
      "cell_type": "markdown",
      "source": [
        "### Train test split"
      ],
      "metadata": {
        "id": "E4joNkxE2q97"
      }
    },
    {
      "cell_type": "code",
      "source": [
        "X_train, X_test, y_train, y_test = train_test_split(features, labels, test_size=0.2, random_state=42)"
      ],
      "metadata": {
        "id": "ukpp4hvQ0wn1"
      },
      "execution_count": 56,
      "outputs": []
    },
    {
      "cell_type": "markdown",
      "source": [
        "### Min max scalar"
      ],
      "metadata": {
        "id": "nkYkSaki2unU"
      }
    },
    {
      "cell_type": "code",
      "source": [
        "scaler = MinMaxScaler()\n",
        "X_train= scaler.fit_transform(X_train)\n",
        "X_test = scaler.transform(X_test)"
      ],
      "metadata": {
        "id": "2xvDsjuv2zH5"
      },
      "execution_count": 57,
      "outputs": []
    },
    {
      "cell_type": "code",
      "source": [
        "accepted_loans.shape"
      ],
      "metadata": {
        "colab": {
          "base_uri": "https://localhost:8080/"
        },
        "id": "_IFNA_ZG7HeI",
        "outputId": "e502b930-cb66-4dc9-91a7-92bbd49c3af2"
      },
      "execution_count": 58,
      "outputs": [
        {
          "output_type": "execute_result",
          "data": {
            "text/plain": [
              "(1341026, 131)"
            ]
          },
          "metadata": {},
          "execution_count": 58
        }
      ]
    },
    {
      "cell_type": "code",
      "source": [
        "print(X_train.shape)\n",
        "print(X_test.shape)"
      ],
      "metadata": {
        "colab": {
          "base_uri": "https://localhost:8080/"
        },
        "id": "f0g15jal3N_1",
        "outputId": "94ea05db-69d2-4ccd-9e49-2614db22c199"
      },
      "execution_count": 59,
      "outputs": [
        {
          "output_type": "stream",
          "name": "stdout",
          "text": [
            "(1072820, 130)\n",
            "(268206, 130)\n"
          ]
        }
      ]
    },
    {
      "cell_type": "markdown",
      "source": [
        "### Building model"
      ],
      "metadata": {
        "id": "vHbtPMMn5MQp"
      }
    },
    {
      "cell_type": "code",
      "source": [
        "model = Sequential()\n",
        "\n",
        "model = Sequential()\n",
        "model.add(Dense(units=78,activation='relu'))\n",
        "model.add(Dropout(0.1))\n",
        "model.add(Dense(units=39,activation='relu'))\n",
        "model.add(Dropout(0.1))\n",
        "model.add(Dense(units=19,activation='relu'))\n",
        "model.add(Dropout(0.1))\n",
        "model.add(Dense(units=8,activation='relu'))\n",
        "model.add(Dropout(0.1))\n",
        "model.add(Dense(units=4,activation='relu'))\n",
        "model.add(Dropout(0.1))\n",
        "model.add(Dense(units=1,activation='sigmoid'))\n",
        "\n",
        "model.compile(loss='binary_crossentropy', optimizer='adam')"
      ],
      "metadata": {
        "id": "kIvVVc9j3b5t"
      },
      "execution_count": 63,
      "outputs": []
    },
    {
      "cell_type": "markdown",
      "source": [
        "### Traning"
      ],
      "metadata": {
        "id": "Tmdqa4sL5hPy"
      }
    },
    {
      "cell_type": "code",
      "source": [
        "model.fit(x=X_train, \n",
        "          y=y_train, \n",
        "          epochs=40,\n",
        "          batch_size=512,\n",
        "          verbose=1)"
      ],
      "metadata": {
        "colab": {
          "base_uri": "https://localhost:8080/"
        },
        "id": "ixJR2uvM5cs5",
        "outputId": "f300177e-64fb-47e1-e254-cde3f9fef13b"
      },
      "execution_count": 64,
      "outputs": [
        {
          "output_type": "stream",
          "name": "stdout",
          "text": [
            "Epoch 1/40\n",
            "2096/2096 [==============================] - 15s 6ms/step - loss: 0.1687\n",
            "Epoch 2/40\n",
            "2096/2096 [==============================] - 12s 6ms/step - loss: 0.1073\n",
            "Epoch 3/40\n",
            "2096/2096 [==============================] - 12s 6ms/step - loss: 0.0970\n",
            "Epoch 4/40\n",
            "2096/2096 [==============================] - 12s 6ms/step - loss: 0.0913\n",
            "Epoch 5/40\n",
            "2096/2096 [==============================] - 12s 6ms/step - loss: 0.0870\n",
            "Epoch 6/40\n",
            "2096/2096 [==============================] - 12s 6ms/step - loss: 0.0840\n",
            "Epoch 7/40\n",
            "2096/2096 [==============================] - 12s 5ms/step - loss: 0.0817\n",
            "Epoch 8/40\n",
            "2096/2096 [==============================] - 12s 6ms/step - loss: 0.0782\n",
            "Epoch 9/40\n",
            "2096/2096 [==============================] - 11s 5ms/step - loss: 0.0756\n",
            "Epoch 10/40\n",
            "2096/2096 [==============================] - 12s 6ms/step - loss: 0.0728\n",
            "Epoch 11/40\n",
            "2096/2096 [==============================] - 12s 6ms/step - loss: 0.0704\n",
            "Epoch 12/40\n",
            "2096/2096 [==============================] - 12s 6ms/step - loss: 0.0689\n",
            "Epoch 13/40\n",
            "2096/2096 [==============================] - 12s 6ms/step - loss: 0.0677\n",
            "Epoch 14/40\n",
            "2096/2096 [==============================] - 11s 5ms/step - loss: 0.0669\n",
            "Epoch 15/40\n",
            "2096/2096 [==============================] - 11s 5ms/step - loss: 0.0657\n",
            "Epoch 16/40\n",
            "2096/2096 [==============================] - 12s 6ms/step - loss: 0.0648\n",
            "Epoch 17/40\n",
            "2096/2096 [==============================] - 12s 6ms/step - loss: 0.0641\n",
            "Epoch 18/40\n",
            "2096/2096 [==============================] - 12s 6ms/step - loss: 0.0634\n",
            "Epoch 19/40\n",
            "2096/2096 [==============================] - 12s 6ms/step - loss: 0.0624\n",
            "Epoch 20/40\n",
            "2096/2096 [==============================] - 13s 6ms/step - loss: 0.0616\n",
            "Epoch 21/40\n",
            "2096/2096 [==============================] - 19s 9ms/step - loss: 0.0612\n",
            "Epoch 22/40\n",
            "2096/2096 [==============================] - 14s 7ms/step - loss: 0.0602\n",
            "Epoch 23/40\n",
            "2096/2096 [==============================] - 13s 6ms/step - loss: 0.0599\n",
            "Epoch 24/40\n",
            "2096/2096 [==============================] - 13s 6ms/step - loss: 0.0597\n",
            "Epoch 25/40\n",
            "2096/2096 [==============================] - 12s 6ms/step - loss: 0.0593\n",
            "Epoch 26/40\n",
            "2096/2096 [==============================] - 12s 6ms/step - loss: 0.0586\n",
            "Epoch 27/40\n",
            "2096/2096 [==============================] - 12s 6ms/step - loss: 0.0583\n",
            "Epoch 28/40\n",
            "2096/2096 [==============================] - 13s 6ms/step - loss: 0.0581\n",
            "Epoch 29/40\n",
            "2096/2096 [==============================] - 13s 6ms/step - loss: 0.0573\n",
            "Epoch 30/40\n",
            "2096/2096 [==============================] - 13s 6ms/step - loss: 0.0577\n",
            "Epoch 31/40\n",
            "2096/2096 [==============================] - 12s 6ms/step - loss: 0.0571\n",
            "Epoch 32/40\n",
            "2096/2096 [==============================] - 12s 6ms/step - loss: 0.0567\n",
            "Epoch 33/40\n",
            "2096/2096 [==============================] - 12s 5ms/step - loss: 0.0569\n",
            "Epoch 34/40\n",
            "2096/2096 [==============================] - 12s 5ms/step - loss: 0.0566\n",
            "Epoch 35/40\n",
            "2096/2096 [==============================] - 12s 6ms/step - loss: 0.0562\n",
            "Epoch 36/40\n",
            "2096/2096 [==============================] - 12s 6ms/step - loss: 0.0555\n",
            "Epoch 37/40\n",
            "2096/2096 [==============================] - 12s 6ms/step - loss: 0.0559\n",
            "Epoch 38/40\n",
            "2096/2096 [==============================] - 13s 6ms/step - loss: 0.0557\n",
            "Epoch 39/40\n",
            "2096/2096 [==============================] - 13s 6ms/step - loss: 0.0556\n",
            "Epoch 40/40\n",
            "2096/2096 [==============================] - 13s 6ms/step - loss: 0.0553\n"
          ]
        },
        {
          "output_type": "execute_result",
          "data": {
            "text/plain": [
              "<keras.callbacks.History at 0x7f77f5b6ae10>"
            ]
          },
          "metadata": {},
          "execution_count": 64
        }
      ]
    },
    {
      "cell_type": "markdown",
      "source": [
        "## Model Evaluating"
      ],
      "metadata": {
        "id": "03PBDARw6fes"
      }
    },
    {
      "cell_type": "code",
      "source": [
        "def print_score(true, pred, train=True):\n",
        "    if train:\n",
        "        clf_report = pd.DataFrame(classification_report(true, pred, output_dict=True))\n",
        "        print(\"Train Result:\\n================================================\")\n",
        "        print(f\"Accuracy Score: {accuracy_score(true, pred) * 100:.2f}%\")\n",
        "        print(\"_______________________________________________\")\n",
        "        print(f\"CLASSIFICATION REPORT:\\n{clf_report}\")\n",
        "        print(\"_______________________________________________\")\n",
        "        print(f\"Confusion Matrix: \\n {confusion_matrix(true, pred)}\\n\")\n",
        "        \n",
        "    elif train==False:\n",
        "        clf_report = pd.DataFrame(classification_report(true, pred, output_dict=True))\n",
        "        print(\"Test Result:\\n================================================\")        \n",
        "        print(f\"Accuracy Score: {accuracy_score(true, pred) * 100:.2f}%\")\n",
        "        print(\"_______________________________________________\")\n",
        "        print(f\"CLASSIFICATION REPORT:\\n{clf_report}\")\n",
        "        print(\"_______________________________________________\")\n",
        "        print(f\"Confusion Matrix: \\n {confusion_matrix(true, pred)}\\n\")"
      ],
      "metadata": {
        "id": "oLkQ9Gwc-MaP"
      },
      "execution_count": 60,
      "outputs": []
    },
    {
      "cell_type": "code",
      "source": [
        "losses = pd.DataFrame(model.history.history)"
      ],
      "metadata": {
        "id": "EcCcL9Ls5n22"
      },
      "execution_count": 65,
      "outputs": []
    },
    {
      "cell_type": "code",
      "source": [
        "losses[['loss']].plot(figsize=(14, 8))"
      ],
      "metadata": {
        "colab": {
          "base_uri": "https://localhost:8080/",
          "height": 500
        },
        "id": "y3hsbG2D7In-",
        "outputId": "173df4e8-950f-4dc6-9fc2-5de95fa32421"
      },
      "execution_count": 67,
      "outputs": [
        {
          "output_type": "execute_result",
          "data": {
            "text/plain": [
              "<matplotlib.axes._subplots.AxesSubplot at 0x7f77fde90050>"
            ]
          },
          "metadata": {},
          "execution_count": 67
        },
        {
          "output_type": "display_data",
          "data": {
            "text/plain": [
              "<Figure size 1008x576 with 1 Axes>"
            ],
            "image/png": "[encoded data removed]"
          },
          "metadata": {
            "needs_background": "light"
          }
        }
      ]
    },
    {
      "cell_type": "code",
      "source": [
        "predictions = (model.predict(X_test) > 0.5).astype(\"int32\")\n",
        "print_score(y_test, predictions, train=False)"
      ],
      "metadata": {
        "colab": {
          "base_uri": "https://localhost:8080/"
        },
        "id": "FXhCOngc7Sz6",
        "outputId": "500d1cf8-044b-4843-82e2-181c324d8829"
      },
      "execution_count": 69,
      "outputs": [
        {
          "output_type": "stream",
          "name": "stdout",
          "text": [
            "Test Result:\n",
            "================================================\n",
            "Accuracy Score: 98.35%\n",
            "_______________________________________________\n",
            "CLASSIFICATION REPORT:\n",
            "                      0              1  accuracy      macro avg   weighted avg\n",
            "precision      0.976891       0.985041   0.98349       0.980966       0.983427\n",
            "recall         0.938801       0.994519   0.98349       0.966660       0.983490\n",
            "f1-score       0.957467       0.989757   0.98349       0.973612       0.983366\n",
            "support    53089.000000  215117.000000   0.98349  268206.000000  268206.000000\n",
            "_______________________________________________\n",
            "Confusion Matrix: \n",
            " [[ 49840   3249]\n",
            " [  1179 213938]]\n",
            "\n"
          ]
        }
      ]
    },
    {
      "cell_type": "markdown",
      "source": [
        "## RandomForest"
      ],
      "metadata": {
        "id": "uoCLTruAAYiI"
      }
    },
    {
      "cell_type": "code",
      "source": [
        "from sklearn.ensemble import RandomForestClassifier"
      ],
      "metadata": {
        "id": "pLDNf68n8FBP"
      },
      "execution_count": 70,
      "outputs": []
    },
    {
      "cell_type": "code",
      "source": [
        "rf_clf = RandomForestClassifier(n_estimators=100)"
      ],
      "metadata": {
        "id": "lNzp8gCM8rdz"
      },
      "execution_count": 71,
      "outputs": []
    },
    {
      "cell_type": "code",
      "source": [
        "rf_clf.fit(X_train, y_train)"
      ],
      "metadata": {
        "colab": {
          "base_uri": "https://localhost:8080/"
        },
        "id": "EI0rzGwF8vCF",
        "outputId": "64c7b83a-9a90-4dc3-c378-ea0822f5f54a"
      },
      "execution_count": 72,
      "outputs": [
        {
          "output_type": "execute_result",
          "data": {
            "text/plain": [
              "RandomForestClassifier()"
            ]
          },
          "metadata": {},
          "execution_count": 72
        }
      ]
    },
    {
      "cell_type": "code",
      "source": [
        "y_train_pred = rf_clf.predict(X_train)\n",
        "y_test_pred = rf_clf.predict(X_test)"
      ],
      "metadata": {
        "id": "gWcC7FfI_IF2"
      },
      "execution_count": 73,
      "outputs": []
    },
    {
      "cell_type": "code",
      "source": [
        "print_score(y_train, y_train_pred, train=True)\n",
        "print_score(y_test, y_test_pred, train=False)"
      ],
      "metadata": {
        "colab": {
          "base_uri": "https://localhost:8080/"
        },
        "id": "WYF2isIv_KvY",
        "outputId": "3a2bd77b-95c0-4ea8-d47a-13cc519e563f"
      },
      "execution_count": 74,
      "outputs": [
        {
          "output_type": "stream",
          "name": "stdout",
          "text": [
            "Train Result:\n",
            "================================================\n",
            "Accuracy Score: 100.00%\n",
            "_______________________________________________\n",
            "CLASSIFICATION REPORT:\n",
            "                       0              1  accuracy     macro avg  weighted avg\n",
            "precision       1.000000       0.999999  0.999999  9.999994e-01  9.999991e-01\n",
            "recall          0.999995       1.000000  0.999999  9.999977e-01  9.999991e-01\n",
            "f1-score        0.999998       0.999999  0.999999  9.999985e-01  9.999991e-01\n",
            "support    212791.000000  860029.000000  0.999999  1.072820e+06  1.072820e+06\n",
            "_______________________________________________\n",
            "Confusion Matrix: \n",
            " [[212790      1]\n",
            " [     0 860029]]\n",
            "\n",
            "Test Result:\n",
            "================================================\n",
            "Accuracy Score: 98.00%\n",
            "_______________________________________________\n",
            "CLASSIFICATION REPORT:\n",
            "                      0              1  accuracy      macro avg   weighted avg\n",
            "precision      0.965348       0.983478  0.980012       0.974413       0.979889\n",
            "recall         0.932491       0.991739  0.980012       0.962115       0.980012\n",
            "f1-score       0.948635       0.987591  0.980012       0.968113       0.979880\n",
            "support    53089.000000  215117.000000  0.980012  268206.000000  268206.000000\n",
            "_______________________________________________\n",
            "Confusion Matrix: \n",
            " [[ 49505   3584]\n",
            " [  1777 213340]]\n",
            "\n"
          ]
        }
      ]
    },
    {
      "cell_type": "markdown",
      "source": [
        "## Logistic regression"
      ],
      "metadata": {
        "id": "2rz54_GtAdGd"
      }
    },
    {
      "cell_type": "code",
      "source": [
        "from sklearn.linear_model import LogisticRegression"
      ],
      "metadata": {
        "id": "3H6eQbhbAik_"
      },
      "execution_count": 75,
      "outputs": []
    },
    {
      "cell_type": "code",
      "source": [
        "clf = LogisticRegression()"
      ],
      "metadata": {
        "id": "_7U8aRa9Ae0A"
      },
      "execution_count": 76,
      "outputs": []
    },
    {
      "cell_type": "code",
      "source": [
        "clf.fit(X_train, y_train)"
      ],
      "metadata": {
        "colab": {
          "base_uri": "https://localhost:8080/"
        },
        "id": "_MsKexWCAk67",
        "outputId": "e5bbcfa1-af9c-4fd1-afba-26fb3bfadd25"
      },
      "execution_count": 77,
      "outputs": [
        {
          "output_type": "stream",
          "name": "stderr",
          "text": [
            "/usr/local/lib/python3.7/dist-packages/sklearn/linear_model/_logistic.py:818: ConvergenceWarning: lbfgs failed to converge (status=1):\n",
            "STOP: TOTAL NO. of ITERATIONS REACHED LIMIT.\n",
            "\n",
            "Increase the number of iterations (max_iter) or scale the data as shown in:\n",
            "    https://scikit-learn.org/stable/modules/preprocessing.html\n",
            "Please also refer to the documentation for alternative solver options:\n",
            "    https://scikit-learn.org/stable/modules/linear_model.html#logistic-regression\n",
            "  extra_warning_msg=_LOGISTIC_SOLVER_CONVERGENCE_MSG,\n"
          ]
        },
        {
          "output_type": "execute_result",
          "data": {
            "text/plain": [
              "LogisticRegression()"
            ]
          },
          "metadata": {},
          "execution_count": 77
        }
      ]
    },
    {
      "cell_type": "code",
      "source": [
        "y_train_pred = clf.predict(X_train)\n",
        "y_test_pred = clf.predict(X_test)"
      ],
      "metadata": {
        "id": "LpbwwHY_ApWc"
      },
      "execution_count": 78,
      "outputs": []
    },
    {
      "cell_type": "code",
      "source": [
        "print_score(y_train, y_train_pred, train=True)\n",
        "print_score(y_test, y_test_pred, train=False)"
      ],
      "metadata": {
        "id": "VQxLg05YAwo8",
        "colab": {
          "base_uri": "https://localhost:8080/"
        },
        "outputId": "2a6f6123-b4c8-41f4-f237-3589c4fbbca3"
      },
      "execution_count": 79,
      "outputs": [
        {
          "output_type": "stream",
          "name": "stdout",
          "text": [
            "Train Result:\n",
            "================================================\n",
            "Accuracy Score: 95.90%\n",
            "_______________________________________________\n",
            "CLASSIFICATION REPORT:\n",
            "                       0              1  accuracy     macro avg  weighted avg\n",
            "precision       0.904148       0.972217  0.958969  9.381823e-01  9.587157e-01\n",
            "recall          0.887190       0.976729  0.958969  9.319592e-01  9.589689e-01\n",
            "f1-score        0.895588       0.974468  0.958969  9.350280e-01  9.588222e-01\n",
            "support    212791.000000  860029.000000  0.958969  1.072820e+06  1.072820e+06\n",
            "_______________________________________________\n",
            "Confusion Matrix: \n",
            " [[188786  24005]\n",
            " [ 20014 840015]]\n",
            "\n",
            "Test Result:\n",
            "================================================\n",
            "Accuracy Score: 95.94%\n",
            "_______________________________________________\n",
            "CLASSIFICATION REPORT:\n",
            "                      0              1  accuracy      macro avg   weighted avg\n",
            "precision      0.903813       0.972810  0.959371       0.938312       0.959153\n",
            "recall         0.889393       0.976641  0.959371       0.933017       0.959371\n",
            "f1-score       0.896545       0.974722  0.959371       0.935633       0.959247\n",
            "support    53089.000000  215117.000000  0.959371  268206.000000  268206.000000\n",
            "_______________________________________________\n",
            "Confusion Matrix: \n",
            " [[ 47217   5872]\n",
            " [  5025 210092]]\n",
            "\n"
          ]
        }
      ]
    },
    {
      "cell_type": "code",
      "source": [
        ""
      ],
      "metadata": {
        "id": "sGCfDZZY7fv8"
      },
      "execution_count": null,
      "outputs": []
    }
  ]
}